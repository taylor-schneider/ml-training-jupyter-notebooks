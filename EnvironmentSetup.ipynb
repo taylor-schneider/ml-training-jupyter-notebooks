{
 "cells": [
  {
   "cell_type": "markdown",
   "id": "52deb18d-77e3-41a5-831e-96399834dd0e",
   "metadata": {},
   "source": [
    "# Overview\n",
    "In this notebook we discuss all the things needed to get our python environment ready to run the notebooks we have prepared.\n",
    "\n",
    "First we will install the required libraries and the Utility modules prepared for these notebooks. The files listed in the *Utilities/* directory will be installed in developer mode. As such we can modify the files and those modifications will apply system wide.\n",
    "\n",
    "Then we will setup some additional configurations for the jupyter lab environment so that progress bard ans apache spark updates are displayed correctly."
   ]
  },
  {
   "cell_type": "markdown",
   "id": "ca8484c6-c76a-48e5-a263-42265ae4b00c",
   "metadata": {},
   "source": [
    "# Install Prereqs and Utilities"
   ]
  },
  {
   "cell_type": "markdown",
   "id": "edfbc517-0c7c-49cf-af29-b9092b4acd5e",
   "metadata": {},
   "source": [
    "## Installation"
   ]
  },
  {
   "cell_type": "code",
   "execution_count": 3,
   "id": "a58bd646-11d0-4847-9bce-2534018eca2a",
   "metadata": {},
   "outputs": [
    {
     "name": "stdout",
     "output_type": "stream",
     "text": [
      "Obtaining file:///ml-training-jupyter-notebooks\n",
      "  Preparing metadata (setup.py) ... \u001b[?25ldone\n",
      "\u001b[?25hRequirement already satisfied: numpy==1.22.0 in /usr/local/lib/python3.9/site-packages (from Utilities==1.0.0) (1.22.0)\n",
      "Requirement already satisfied: pandas==1.3.5 in /usr/local/lib/python3.9/site-packages (from Utilities==1.0.0) (1.3.5)\n",
      "Requirement already satisfied: sklearn==0.0 in /usr/local/lib/python3.9/site-packages (from Utilities==1.0.0) (0.0)\n",
      "Requirement already satisfied: scikit-learn==1.0.2 in /usr/local/lib/python3.9/site-packages (from Utilities==1.0.0) (1.0.2)\n",
      "Requirement already satisfied: scipy==1.7.3 in /usr/local/lib/python3.9/site-packages (from Utilities==1.0.0) (1.7.3)\n",
      "Requirement already satisfied: matplotlib==3.5.1 in /usr/local/lib/python3.9/site-packages (from Utilities==1.0.0) (3.5.1)\n",
      "Requirement already satisfied: progressbar==2.5 in /usr/local/lib/python3.9/site-packages (from Utilities==1.0.0) (2.5)\n",
      "Requirement already satisfied: tqdm==4.62.3 in /usr/local/lib/python3.9/site-packages (from Utilities==1.0.0) (4.62.3)\n",
      "Requirement already satisfied: kneed==0.7.0 in /usr/local/lib/python3.9/site-packages (from Utilities==1.0.0) (0.7.0)\n",
      "Requirement already satisfied: hyperopt==0.2.7 in /usr/local/lib/python3.9/site-packages (from Utilities==1.0.0) (0.2.7)\n",
      "Requirement already satisfied: pyspark==3.1.1 in /usr/local/lib/python3.9/site-packages (from Utilities==1.0.0) (3.1.1)\n",
      "Requirement already satisfied: py4j==0.10.9 in /usr/local/lib/python3.9/site-packages (from Utilities==1.0.0) (0.10.9)\n",
      "Requirement already satisfied: koalas==0.32.0 in /usr/local/lib/python3.9/site-packages (from Utilities==1.0.0) (0.32.0)\n",
      "Requirement already satisfied: findspark==1.4.2 in /usr/local/lib/python3.9/site-packages (from Utilities==1.0.0) (1.4.2)\n",
      "Requirement already satisfied: netifaces==0.11.0 in /usr/local/lib/python3.9/site-packages (from Utilities==1.0.0) (0.11.0)\n",
      "Requirement already satisfied: flask==2.0.2 in /usr/local/lib/python3.9/site-packages (from Utilities==1.0.0) (2.0.2)\n",
      "Requirement already satisfied: pyprojroot==0.2.0 in /usr/local/lib/python3.9/site-packages (from Utilities==1.0.0) (0.2.0)\n",
      "Requirement already satisfied: Werkzeug>=2.0 in /usr/local/lib/python3.9/site-packages (from flask==2.0.2->Utilities==1.0.0) (2.0.2)\n",
      "Requirement already satisfied: Jinja2>=3.0 in /usr/local/lib/python3.9/site-packages (from flask==2.0.2->Utilities==1.0.0) (3.0.3)\n",
      "Requirement already satisfied: itsdangerous>=2.0 in /usr/local/lib/python3.9/site-packages (from flask==2.0.2->Utilities==1.0.0) (2.0.1)\n",
      "Requirement already satisfied: click>=7.1.2 in /usr/local/lib/python3.9/site-packages (from flask==2.0.2->Utilities==1.0.0) (8.0.3)\n",
      "Requirement already satisfied: networkx>=2.2 in /usr/local/lib/python3.9/site-packages (from hyperopt==0.2.7->Utilities==1.0.0) (2.6.3)\n",
      "Requirement already satisfied: cloudpickle in /usr/local/lib/python3.9/site-packages (from hyperopt==0.2.7->Utilities==1.0.0) (2.0.0)\n",
      "Requirement already satisfied: six in /usr/local/lib/python3.9/site-packages (from hyperopt==0.2.7->Utilities==1.0.0) (1.16.0)\n",
      "Requirement already satisfied: future in /usr/local/lib/python3.9/site-packages (from hyperopt==0.2.7->Utilities==1.0.0) (0.18.2)\n",
      "Requirement already satisfied: pyarrow>=0.10 in /usr/local/lib/python3.9/site-packages (from koalas==0.32.0->Utilities==1.0.0) (6.0.1)\n",
      "Requirement already satisfied: python-dateutil>=2.7 in /usr/local/lib/python3.9/site-packages (from matplotlib==3.5.1->Utilities==1.0.0) (2.8.2)\n",
      "Requirement already satisfied: pyparsing>=2.2.1 in /usr/local/lib/python3.9/site-packages (from matplotlib==3.5.1->Utilities==1.0.0) (3.0.6)\n",
      "Requirement already satisfied: pillow>=6.2.0 in /usr/local/lib/python3.9/site-packages (from matplotlib==3.5.1->Utilities==1.0.0) (9.0.0)\n",
      "Requirement already satisfied: fonttools>=4.22.0 in /usr/local/lib/python3.9/site-packages (from matplotlib==3.5.1->Utilities==1.0.0) (4.28.5)\n",
      "Requirement already satisfied: kiwisolver>=1.0.1 in /usr/local/lib/python3.9/site-packages (from matplotlib==3.5.1->Utilities==1.0.0) (1.3.2)\n",
      "Requirement already satisfied: packaging>=20.0 in /usr/local/lib/python3.9/site-packages (from matplotlib==3.5.1->Utilities==1.0.0) (21.3)\n",
      "Requirement already satisfied: cycler>=0.10 in /usr/local/lib/python3.9/site-packages (from matplotlib==3.5.1->Utilities==1.0.0) (0.11.0)\n",
      "Requirement already satisfied: pytz>=2017.3 in /usr/local/lib/python3.9/site-packages (from pandas==1.3.5->Utilities==1.0.0) (2021.3)\n",
      "Requirement already satisfied: threadpoolctl>=2.0.0 in /usr/local/lib/python3.9/site-packages (from scikit-learn==1.0.2->Utilities==1.0.0) (3.0.0)\n",
      "Requirement already satisfied: joblib>=0.11 in /usr/local/lib/python3.9/site-packages (from scikit-learn==1.0.2->Utilities==1.0.0) (1.1.0)\n",
      "Requirement already satisfied: MarkupSafe>=2.0 in /usr/local/lib/python3.9/site-packages (from Jinja2>=3.0->flask==2.0.2->Utilities==1.0.0) (2.0.1)\n",
      "Installing collected packages: Utilities\n",
      "  Running setup.py develop for Utilities\n",
      "Successfully installed Utilities-1.0.0\n",
      "\u001b[33mWARNING: Running pip as the 'root' user can result in broken permissions and conflicting behaviour with the system package manager. It is recommended to use a virtual environment instead: https://pip.pypa.io/warnings/venv\u001b[0m\n"
     ]
    }
   ],
   "source": [
    "! pip install -e ."
   ]
  },
  {
   "cell_type": "markdown",
   "id": "7937caa8-4ab6-46c0-a1b7-f1e1d3f7a23a",
   "metadata": {},
   "source": [
    "## Verification\n",
    "If we ask pip for a list of installed modules we should now see our Utilities module listed with a path to it's location on disk."
   ]
  },
  {
   "cell_type": "code",
   "execution_count": 6,
   "id": "677ded5d-8fb2-4a1b-9480-c9a10e883604",
   "metadata": {},
   "outputs": [
    {
     "name": "stdout",
     "output_type": "stream",
     "text": [
      "Package              Version   Editable project location\n",
      "-------------------- --------- ----------------------------------------\n",
      "anyio                3.5.0\n",
      "argon2-cffi          21.3.0\n",
      "argon2-cffi-bindings 21.2.0\n",
      "asttokens            2.0.5\n",
      "attrs                21.4.0\n",
      "Babel                2.9.1\n",
      "backcall             0.2.0\n",
      "black                21.12b0\n",
      "bleach               4.1.0\n",
      "certifi              2021.10.8\n",
      "cffi                 1.15.0\n",
      "charset-normalizer   2.0.10\n",
      "click                8.0.3\n",
      "cloudpickle          2.0.0\n",
      "cycler               0.11.0\n",
      "debugpy              1.5.1\n",
      "decorator            5.1.1\n",
      "defusedxml           0.7.1\n",
      "entrypoints          0.3\n",
      "executing            0.8.2\n",
      "findspark            1.4.2\n",
      "Flask                2.0.2\n",
      "fonttools            4.28.5\n",
      "future               0.18.2\n",
      "hyperopt             0.2.7\n",
      "idna                 3.3\n",
      "ipykernel            6.7.0\n",
      "ipython              8.0.0\n",
      "ipython-genutils     0.2.0\n",
      "ipywidgets           7.6.5\n",
      "itsdangerous         2.0.1\n",
      "jedi                 0.18.1\n",
      "Jinja2               3.0.3\n",
      "joblib               1.1.0\n",
      "json5                0.9.6\n",
      "jsonschema           4.4.0\n",
      "jupyter-client       7.1.1\n",
      "jupyter-core         4.9.1\n",
      "jupyter-server       1.13.3\n",
      "jupyterlab           3.2.8\n",
      "jupyterlab-pygments  0.1.2\n",
      "jupyterlab-server    2.10.3\n",
      "jupyterlab-widgets   1.0.2\n",
      "kiwisolver           1.3.2\n",
      "kneed                0.7.0\n",
      "koalas               0.32.0\n",
      "MarkupSafe           2.0.1\n",
      "matplotlib           3.5.1\n",
      "matplotlib-inline    0.1.3\n",
      "mistune              0.8.4\n",
      "mypy-extensions      0.4.3\n",
      "nbclassic            0.3.5\n",
      "nbclient             0.5.10\n",
      "nbconvert            6.4.0\n",
      "nbformat             5.1.3\n",
      "nest-asyncio         1.5.4\n",
      "netifaces            0.11.0\n",
      "networkx             2.6.3\n",
      "notebook             6.4.7\n",
      "numpy                1.22.0\n",
      "packaging            21.3\n",
      "pandas               1.3.5\n",
      "pandocfilters        1.5.0\n",
      "parso                0.8.3\n",
      "pathspec             0.9.0\n",
      "pexpect              4.8.0\n",
      "pickleshare          0.7.5\n",
      "Pillow               9.0.0\n",
      "pip                  21.3.1\n",
      "platformdirs         2.4.1\n",
      "progressbar          2.5\n",
      "prometheus-client    0.12.0\n",
      "prompt-toolkit       3.0.24\n",
      "ptyprocess           0.7.0\n",
      "pure-eval            0.2.1\n",
      "py4j                 0.10.9\n",
      "pyarrow              6.0.1\n",
      "pycparser            2.21\n",
      "Pygments             2.11.2\n",
      "pyparsing            3.0.6\n",
      "pyprojroot           0.2.0\n",
      "pyrsistent           0.18.1\n",
      "pyspark              3.1.1\n",
      "python-dateutil      2.8.2\n",
      "pytz                 2021.3\n",
      "pyzmq                22.3.0\n",
      "requests             2.27.1\n",
      "scikit-learn         1.0.2\n",
      "scipy                1.7.3\n",
      "Send2Trash           1.8.0\n",
      "setuptools           49.2.1\n",
      "six                  1.16.0\n",
      "sklearn              0.0\n",
      "sniffio              1.2.0\n",
      "stack-data           0.1.4\n",
      "terminado            0.12.1\n",
      "testpath             0.5.0\n",
      "threadpoolctl        3.0.0\n",
      "tomli                1.2.3\n",
      "tornado              6.1\n",
      "tqdm                 4.62.3\n",
      "traitlets            5.1.1\n",
      "typing_extensions    4.0.1\n",
      "urllib3              1.26.8\n",
      "Utilities            1.0.0     /ml-training-jupyter-notebooks/Utilities\n",
      "wcwidth              0.2.5\n",
      "webencodings         0.5.1\n",
      "websocket-client     1.2.3\n",
      "Werkzeug             2.0.2\n",
      "widgetsnbextension   3.5.2\n"
     ]
    }
   ],
   "source": [
    "! pip list"
   ]
  },
  {
   "cell_type": "code",
   "execution_count": 14,
   "id": "32066d2c-8196-42c4-a8be-77afcec780dc",
   "metadata": {},
   "outputs": [
    {
     "name": "stdout",
     "output_type": "stream",
     "text": [
      "total 52\n",
      "drwxr-xr-x.  5 root root   209 Jan 17 20:11 .\n",
      "drwxr-xr-x. 12 root root  4096 Jan 17 20:10 ..\n",
      "drwxr-xr-x.  2 root root   151 Jan 17 20:11 .ipynb_checkpoints\n",
      "-rw-r--r--.  1 root root  3140 Jan 15 16:17 PythonHttpFileServer.py\n",
      "-rw-r--r--.  1 root root 16994 Jan 16 15:53 Using Progressbars.ipynb\n",
      "drwxr-xr-x.  2 root root   110 Jan 17 20:05 Utilities.egg-info\n",
      "drwxr-xr-x.  2 root root   154 Jan 17 19:47 __pycache__\n",
      "-rw-r--r--.  1 root root 10132 Jan 17 19:39 parallelization.py\n",
      "-rw-r--r--.  1 root root  4429 Jan 15 17:18 spark_helper.py\n",
      "-rw-r--r--.  1 root root  2468 Jan 17 20:11 utilities.py\n"
     ]
    }
   ],
   "source": [
    "! ls -la /ml-training-jupyter-notebooks/Utilities"
   ]
  },
  {
   "cell_type": "markdown",
   "id": "b11fe80d-770c-40ad-a227-32aff843a17a",
   "metadata": {},
   "source": [
    "## Utilization\n",
    "As with installing any new pip module, once we have done the pip install we need to restart jupyter so that python loads the new modules.\n",
    "\n",
    "We can now import a module from the Utilities directory to test things are working. For example in the Utilities/utilities.py module we have a function called print_hello() which we would like to use. We can call this function as follows:"
   ]
  },
  {
   "cell_type": "code",
   "execution_count": 1,
   "id": "bacbb2c8-addc-428a-a258-2dbadde9e99f",
   "metadata": {},
   "outputs": [
    {
     "name": "stdout",
     "output_type": "stream",
     "text": [
      "Hello, World!\n"
     ]
    }
   ],
   "source": [
    "import utilities\n",
    "utilities.print_hello()"
   ]
  },
  {
   "cell_type": "markdown",
   "id": "85af74e5-c233-4dcd-b3d1-d520fb30d776",
   "metadata": {},
   "source": [
    "A hack i was using before this was as follows:"
   ]
  },
  {
   "cell_type": "code",
   "execution_count": 17,
   "id": "868180b0-56e3-4184-8857-c25b923bb91c",
   "metadata": {},
   "outputs": [],
   "source": [
    "# Import the module for the web server we wrote\n",
    "import importlib.util\n",
    "spec = importlib.util.spec_from_file_location(\"utilities\", \"Utilities/utilities.py\")\n",
    "utilities = importlib.util.module_from_spec(spec)\n",
    "spec.loader.exec_module(utilities)"
   ]
  },
  {
   "cell_type": "code",
   "execution_count": 18,
   "id": "d2440e32-9354-41f8-b364-6b6e57ee0d73",
   "metadata": {},
   "outputs": [
    {
     "name": "stdout",
     "output_type": "stream",
     "text": [
      "Hello, World!\n"
     ]
    }
   ],
   "source": [
    "utilities.print_hello()"
   ]
  },
  {
   "cell_type": "markdown",
   "id": "082027b0-5df5-43be-8466-bd896cebed8b",
   "metadata": {},
   "source": [
    "This method will be phased out."
   ]
  },
  {
   "cell_type": "markdown",
   "id": "4fac75d0-90ec-4340-a9cb-d83021bfa481",
   "metadata": {},
   "source": [
    "## UI Configuration\n",
    "Please see the [Progressbar Notebook](./Utilities/Using%20Progressbars.ipynb) and confirm the visualizations are working."
   ]
  }
 ],
 "metadata": {
  "kernelspec": {
   "display_name": "Python 3 (ipykernel)",
   "language": "python",
   "name": "python3"
  },
  "language_info": {
   "codemirror_mode": {
    "name": "ipython",
    "version": 3
   },
   "file_extension": ".py",
   "mimetype": "text/x-python",
   "name": "python",
   "nbconvert_exporter": "python",
   "pygments_lexer": "ipython3",
   "version": "3.9.1"
  }
 },
 "nbformat": 4,
 "nbformat_minor": 5
}
