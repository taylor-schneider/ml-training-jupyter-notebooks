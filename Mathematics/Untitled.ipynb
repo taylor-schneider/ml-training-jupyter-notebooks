{
 "cells": [
  {
   "cell_type": "markdown",
   "id": "0f5af738-76b1-41d7-8744-202010525b55",
   "metadata": {},
   "source": [
    "# Dericing conditional distribution\n",
    "http://users.stat.umn.edu/~helwig/notes/norm-Notes.pdf"
   ]
  },
  {
   "cell_type": "markdown",
   "id": "4d165979-220a-4f8f-b04e-992f257b0032",
   "metadata": {},
   "source": []
  },
  {
   "cell_type": "markdown",
   "id": "a0103bf7-c8a3-4c9b-88ed-ce0f22ed45a7",
   "metadata": {},
   "source": [
    "# Univariate Gaussian Distribution"
   ]
  },
  {
   "cell_type": "markdown",
   "id": "ee278a06-512d-4869-a645-12f964eadfe2",
   "metadata": {},
   "source": [
    "We start with the definition of the univariate gaussian distribution:\n",
    "\n",
    "$$ f(x) = \\frac{1}{\\sigma\\sqrt{2\\pi}}e^{-\\frac{1}{2}\\left( \\frac{x - \\mu}{\\sigma} \\right)}  \\tag{1}$$\n",
    "\n",
    "Which can also be stated using the $exp()$ function rather than the symbol $e$:\n",
    "\n",
    "$$ = \\frac{1}{\\sigma\\sqrt{2\\pi}}exp \\left\\{ -\\frac{1}{2}\\left( \\frac{x - \\mu}{\\sigma} \\right)  \\right\\} \\tag{2} $$\n",
    "\n",
    "https://en.wikipedia.org/wiki/Normal_distribution"
   ]
  },
  {
   "cell_type": "code",
   "execution_count": null,
   "id": "62d46c51-41d9-4ea6-9621-bcd05dfd70ab",
   "metadata": {},
   "outputs": [],
   "source": []
  },
  {
   "cell_type": "markdown",
   "id": "ca6c9d11-958a-4a9d-adb5-b42fadabc226",
   "metadata": {},
   "source": [
    "Assume $ X,Y \\sim N $\n",
    "\n",
    "It follows that $Z = s_1X + s_2Y \\sim N$\n",
    "\n",
    "\n"
   ]
  },
  {
   "cell_type": "code",
   "execution_count": null,
   "id": "4ce5d33b-e560-4cbe-9d22-1244f42eea26",
   "metadata": {},
   "outputs": [],
   "source": []
  },
  {
   "cell_type": "code",
   "execution_count": null,
   "id": "f9d5ab69-f341-45de-a30d-86ba796c05f8",
   "metadata": {},
   "outputs": [],
   "source": []
  },
  {
   "cell_type": "code",
   "execution_count": null,
   "id": "195392a7-b7d3-4d31-920c-92b7e9fcf026",
   "metadata": {},
   "outputs": [],
   "source": []
  },
  {
   "cell_type": "code",
   "execution_count": null,
   "id": "cab723ec-9cb7-425f-87f3-f8b7ce128d89",
   "metadata": {},
   "outputs": [],
   "source": []
  },
  {
   "cell_type": "code",
   "execution_count": null,
   "id": "ba2e8b37-282e-478c-9eba-a303e47e69ba",
   "metadata": {},
   "outputs": [],
   "source": []
  },
  {
   "cell_type": "code",
   "execution_count": null,
   "id": "acf87bf7-5d93-46a1-8147-8d58a69cea66",
   "metadata": {},
   "outputs": [],
   "source": []
  },
  {
   "cell_type": "markdown",
   "id": "0e6a1a32-1077-40ec-a145-c70cc4ecdfe9",
   "metadata": {},
   "source": [
    "## Bivariate Goussian Distribution:\n",
    "\n",
    "We then introduce the bivariate gaussian distribution:\n",
    "\n",
    "$$ f(x,y) =  \\frac{1}{2\\pi\\sigma_x\\sigma_y\\sqrt{1-\\rho^2}} e^{ \\left( -\\frac{1}{2(1-\\rho^2)} \\left[ \\frac{(x-\\mu_x)^2}{\\sigma^2_x} + \\frac{(y-\\mu_y)^2}{\\sigma^2_y} - \\frac{2\\rho(x-\\mu_x)(y-\\mu_y)}{\\sigma_x\\sigma_y} \\right]  \\right) }$$"
   ]
  },
  {
   "cell_type": "markdown",
   "id": "2beea5be-7e03-4591-9d9e-caed10edf241",
   "metadata": {},
   "source": [
    "## Derive Mean and Variance\n",
    "If we rearange the equation and look at it physically, we see a physical pattern between it and the univariate normal equation. \n",
    "\n",
    "$$ f(x,y) =  \\frac{1}{2\\pi\\sigma_x\\sigma_y\\sqrt{1-\\rho^2}} e^{ \\left( -\\frac{1}{2} \\frac{1}{(1-\\rho^2)} \\left[ \\frac{(x-\\mu_x)^2}{\\sigma^2_x} + \\frac{(y-\\mu_y)^2}{\\sigma^2_y} - \\frac{2\\rho(x-\\mu_x)(y-\\mu_y)}{\\sigma_x\\sigma_y} \\right]  \\right) }$$\n",
    "\n",
    "If we assume that $\\sigma_{xy} = \\sigma_x\\sigma_y\\sqrt{1-\\rho^2}$ and $mu_{xy} = $ then we have:\n",
    "\n",
    "$$ f(x,y) =  \\frac{1}{\\sigma_{xy}\\sqrt{2\\pi}\\sqrt{2\\pi}} e^{ \\left( -\\frac{1}{2(1-\\rho^2)} \\left[ \\frac{(x-\\mu_x)^2}{\\sigma^2_x} + \\frac{(y-\\mu_y)^2}{\\sigma^2_y} - \\frac{2\\rho(x-\\mu_x)(y-\\mu_y)}{\\sigma_x\\sigma_y} \\right]  \\right) }$$"
   ]
  },
  {
   "cell_type": "code",
   "execution_count": null,
   "id": "32403e02-18b2-417d-b0ed-4639e67a9b61",
   "metadata": {},
   "outputs": [],
   "source": []
  },
  {
   "cell_type": "code",
   "execution_count": null,
   "id": "4ef7c355-6082-421e-ac18-d36d64042916",
   "metadata": {},
   "outputs": [],
   "source": []
  },
  {
   "cell_type": "code",
   "execution_count": null,
   "id": "16ff41e6-6ffb-481a-9635-76eec10ab6cc",
   "metadata": {},
   "outputs": [],
   "source": []
  },
  {
   "cell_type": "code",
   "execution_count": null,
   "id": "f848a043-472c-4b53-bc00-ada83d37d8ac",
   "metadata": {},
   "outputs": [],
   "source": []
  }
 ],
 "metadata": {
  "kernelspec": {
   "display_name": "Python 3",
   "language": "python",
   "name": "python3"
  },
  "language_info": {
   "codemirror_mode": {
    "name": "ipython",
    "version": 3
   },
   "file_extension": ".py",
   "mimetype": "text/x-python",
   "name": "python",
   "nbconvert_exporter": "python",
   "pygments_lexer": "ipython3",
   "version": "3.6.8"
  }
 },
 "nbformat": 4,
 "nbformat_minor": 5
}
