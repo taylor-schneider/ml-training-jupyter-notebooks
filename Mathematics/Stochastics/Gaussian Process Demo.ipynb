{
 "cells": [
  {
   "cell_type": "markdown",
   "id": "c22d9c9d-1dc1-48ff-b028-0510ba8f7c33",
   "metadata": {},
   "source": [
    "# Imports"
   ]
  },
  {
   "cell_type": "code",
   "execution_count": 5,
   "id": "64d79c55-26c3-4943-a20b-48dddde51795",
   "metadata": {},
   "outputs": [],
   "source": [
    "import numpy as np\n",
    "import scipy\n",
    "from scipy.spatial import distance\n",
    "from matplotlib import pyplot as plt"
   ]
  },
  {
   "cell_type": "markdown",
   "id": "0e3e4b77-8ff6-464d-ae95-7a523084d0b3",
   "metadata": {},
   "source": [
    "# Utility Functions"
   ]
  },
  {
   "cell_type": "code",
   "execution_count": 2,
   "id": "a30d18d5-bc2d-493e-bcb3-2a5b83368161",
   "metadata": {},
   "outputs": [],
   "source": [
    "# Define our kernel function (the exponentiated quadratic)\n",
    "def exponentiated_quadratic(xa, xb):\n",
    "    \"\"\"Exponentiated quadratic  with σ=1\"\"\"\n",
    "    # L2 distance (Squared Euclidian)\n",
    "    sq_norm = -0.5 * scipy.spatial.distance.cdist(xa, xb, 'sqeuclidean')\n",
    "    return np.exp(sq_norm)\n",
    "\n",
    "def"
   ]
  },
  {
   "cell_type": "code",
   "execution_count": 74,
   "id": "a90a4bf3-c7a1-409e-8678-05869ff0bec4",
   "metadata": {},
   "outputs": [],
   "source": [
    "# Gaussian process posterior\n",
    "def GP(X1, y1, X2, kernel_func):\n",
    "   \n",
    "    \"\"\"\n",
    "    Calculate the posterior mean and covariance matrix for y2\n",
    "    based on the corresponding input X2, the observations (y1, X1), \n",
    "    and the prior kernel function.\n",
    "    \"\"\"\n",
    "    # Kernel of the observations\n",
    "    Σ11 = kernel_func(X1, X1)\n",
    "    # Kernel of observations vs to-predict\n",
    "    Σ12 = kernel_func(X1, X2)\n",
    "    # Solve\n",
    "    solved = scipy.linalg.solve(Σ11, Σ12, assume_a='pos').T\n",
    "    # Compute posterior mean\n",
    "    μ2 = solved @ y1.T\n",
    "    # Compute the posterior covariance\n",
    "    Σ22 = kernel_func(X2, X2)\n",
    "    Σ2 = Σ22 - (solved @ Σ12)\n",
    "    return μ2, Σ2  # mean, covariance"
   ]
  },
  {
   "cell_type": "markdown",
   "id": "ed8ef8af-24c7-4bc6-b69e-5258ab4473a6",
   "metadata": {},
   "source": [
    "# Problem Parameters"
   ]
  },
  {
   "cell_type": "code",
   "execution_count": 72,
   "id": "75630f55-7208-4481-b1d9-28e80229ded6",
   "metadata": {},
   "outputs": [],
   "source": [
    "# Set parameters for the training/testing split\n",
    "#\n",
    "# n_x_training - Number of points to condition on (training points)\n",
    "# n2 - Number of points in posterior (test points)\n",
    "# ny - Number of functions that will be sampled from the posterior\n",
    "\n",
    "  \n",
    "n2 = 75\n",
    "ny = 5\n",
    "domain = (-6, 6)\n",
    "\n",
    "# Generate 10 datapoints for X and Y to serve as training data\n",
    "X1 = np.random.uniform(domain[0], domain[1], size=(10, 1))\n",
    "\n",
    "\n",
    "# Create the training data by generating values for X and Y\n",
    "X1 = np.random.uniform(domain[0]+2, domain[1]-2, size=(n1, 1))\n",
    "y1 = np.sin(X1)\n",
    "\n",
    "# Create the testing data\n",
    "#     Note: linspace returns a 1D rowvector, which we will reshape into a 2D column vector\n",
    "#           This would basically be a transpose if we were dealing with a 2D rowvector\n",
    "#\n",
    "X2 = np.linspace(domain[0], domain[1], 80).reshape(-1, 1)"
   ]
  },
  {
   "cell_type": "code",
   "execution_count": null,
   "id": "6354c915-ba64-41ab-a530-478364e30223",
   "metadata": {},
   "outputs": [],
   "source": []
  },
  {
   "cell_type": "markdown",
   "id": "2fb4b589-2b4f-4148-87d2-9a029a8c8afe",
   "metadata": {},
   "source": [
    "# Training"
   ]
  },
  {
   "cell_type": "code",
   "execution_count": 81,
   "id": "49710720-96e4-42d4-a4c3-930a203f3ef0",
   "metadata": {},
   "outputs": [],
   "source": [
    "# Calculate the variance and covariance matrix\n",
    "Σ11 = exponentiated_quadratic(X1, X1)\n",
    "Σ12 = exponentiated_quadratic(X1, X2)\n",
    "Σ21 = Σ12.T\n",
    "Σ22 = exponentiated_quadratic(X2, X2)"
   ]
  },
  {
   "cell_type": "code",
   "execution_count": 80,
   "id": "fdaacd3d-b7a2-46cf-a36f-dda911b2154e",
   "metadata": {},
   "outputs": [],
   "source": [
    "# Calculate the conditional mean\n",
    "solved = scipy.linalg.solve(Σ11, Σ12, assume_a='pos').T\n",
    "μ2 = solved @ y1"
   ]
  },
  {
   "cell_type": "code",
   "execution_count": 107,
   "id": "4b961b4b-9d20-4da1-b8d0-0a5e0c55f838",
   "metadata": {},
   "outputs": [
    {
     "data": {
      "text/plain": [
       "array([-0.51848964, -0.75108118, -1.05849819, -1.45052621, -1.93166504,\n",
       "       -2.49805258, -3.13451596, -3.81243153, -4.48918181, -5.10994012,\n",
       "       -5.61223944, -5.93328538, -6.01931537, -5.83562073, -5.37531943,\n",
       "       -4.66478907, -3.76397914, -2.76064865, -1.75879796, -0.86292533,\n",
       "       -0.16089394,  0.29119015,  0.47883773,  0.43146699,  0.21636964,\n",
       "       -0.07460834, -0.34303858, -0.50290528, -0.4968285 , -0.30639867,\n",
       "        0.04517629,  0.49830079,  0.968771  ,  1.36366693,  1.59838737,\n",
       "        1.61191307,  1.37790671,  0.91006885,  0.26108744, -0.48458503,\n",
       "       -1.22309086, -1.84695364, -2.26206934, -2.40338118, -2.24671604,\n",
       "       -1.81463798, -1.17496595, -0.43175286,  0.29013647,  0.86444421,\n",
       "        1.18363386,  1.1761209 ,  0.81749975,  0.13378021, -0.80378491,\n",
       "       -1.89105461, -3.00797033, -4.03683874, -4.87862653, -5.46465704,\n",
       "       -5.76225716, -5.77421926, -5.53310536, -5.09219596, -4.51516887,\n",
       "       -3.86641143, -3.20335449, -2.57154768, -2.0025484 , -1.51420065,\n",
       "       -1.11259553, -0.79493236, -0.55259004, -0.37390491, -0.24636591,\n",
       "       -0.15812974, -0.09889907, -0.06028818, -0.03582903, -0.02076302])"
      ]
     },
     "execution_count": 107,
     "metadata": {},
     "output_type": "execute_result"
    }
   ],
   "source": [
    "μ2.T[0]"
   ]
  },
  {
   "cell_type": "code",
   "execution_count": 99,
   "id": "6cb3716a-fe38-4b64-9d21-a2a6eb18f86d",
   "metadata": {},
   "outputs": [
    {
     "name": "stdout",
     "output_type": "stream",
     "text": [
      "(80, 8) - (8, 1) : (80, 1)\n"
     ]
    }
   ],
   "source": [
    "print(\"{0} - {1} : {2}\".format(solved.shape, y1.shape, μ2.shape))\n"
   ]
  },
  {
   "cell_type": "code",
   "execution_count": 82,
   "id": "e597306f-b684-497b-a195-417d764161db",
   "metadata": {},
   "outputs": [],
   "source": [
    "# Compute the conditional covariance\n",
    "Σ2 = Σ22 - (solved @ Σ12)"
   ]
  },
  {
   "cell_type": "markdown",
   "id": "c9593d5f-7a28-4a9c-a57a-f3e3a081c221",
   "metadata": {},
   "source": [
    "# Testing"
   ]
  },
  {
   "cell_type": "code",
   "execution_count": 109,
   "id": "13429c24-b8aa-499a-9cdd-6d90a0a1cc54",
   "metadata": {},
   "outputs": [
    {
     "name": "stderr",
     "output_type": "stream",
     "text": [
      "c:\\program files\\python36\\lib\\site-packages\\ipykernel_launcher.py:3: RuntimeWarning: covariance is not positive-semidefinite.\n",
      "  This is separate from the ipykernel package so we can avoid doing imports until\n"
     ]
    }
   ],
   "source": [
    "# Simulate the random variable and generate samples\n",
    "#     Note: The formula expects a 1D rowvector so we will transform μ2\n",
    "y2 = np.random.multivariate_normal(mean=μ2.T[0], cov=Σ2, size=5)"
   ]
  },
  {
   "cell_type": "markdown",
   "id": "b6b2c569-318d-4e29-8358-8187a00188af",
   "metadata": {},
   "source": [
    "# Plotting"
   ]
  },
  {
   "cell_type": "code",
   "execution_count": 110,
   "id": "e890b3d7-ab3e-421a-8d23-bdfeeac2596d",
   "metadata": {},
   "outputs": [
    {
     "name": "stderr",
     "output_type": "stream",
     "text": [
      "c:\\program files\\python36\\lib\\site-packages\\ipykernel_launcher.py:2: RuntimeWarning: invalid value encountered in sqrt\n",
      "  \n"
     ]
    }
   ],
   "source": [
    "# Compute the standard deviation at the test points to be plotted\n",
    "σ2 = np.sqrt(np.diag(Σ2))"
   ]
  },
  {
   "cell_type": "code",
   "execution_count": 15,
   "id": "991662f6-e192-4b63-aef6-07097deb4319",
   "metadata": {},
   "outputs": [
    {
     "data": {
      "image/png": "[encoded data removed]",
      "text/plain": [
       "<Figure size 432x432 with 2 Axes>"
      ]
     },
     "metadata": {
      "needs_background": "light"
     },
     "output_type": "display_data"
    }
   ],
   "source": [
    "# Plot the postior distribution and some samples\n",
    "fig, (ax1, ax2) = plt.subplots(\n",
    "    nrows=2, ncols=1, figsize=(6, 6))\n",
    "# Plot the distribution of the function (mean, covariance)\n",
    "ax1.plot(X2, f_sin(X2), 'b--', label='$sin(x)$')\n",
    "ax1.fill_between(X2.flat, μ2-2*σ2, μ2+2*σ2, color='red', \n",
    "                 alpha=0.15, label='$2 \\sigma_{2|1}$')\n",
    "ax1.plot(X2, μ2, 'r-', lw=2, label='$\\mu_{2|1}$')\n",
    "ax1.plot(X1, y1, 'ko', linewidth=2, label='$(x_1, y_1)$')\n",
    "ax1.set_xlabel('$x$', fontsize=13)\n",
    "ax1.set_ylabel('$y$', fontsize=13)\n",
    "ax1.set_title('Distribution of posterior and prior data.')\n",
    "ax1.axis([domain[0], domain[1], -3, 3])\n",
    "ax1.legend()\n",
    "# Plot some samples from this function\n",
    "ax2.plot(X2, y2.T, '-')\n",
    "ax2.set_xlabel('$x$', fontsize=13)\n",
    "ax2.set_ylabel('$y$', fontsize=13)\n",
    "ax2.set_title('5 different function realizations from posterior')\n",
    "ax1.axis([domain[0], domain[1], -3, 3])\n",
    "ax2.set_xlim([-6, 6])\n",
    "plt.tight_layout()\n",
    "plt.show()\n",
    "#"
   ]
  },
  {
   "cell_type": "code",
   "execution_count": null,
   "id": "6d037643-2c3d-4e51-93b9-2a97445a7eb3",
   "metadata": {},
   "outputs": [],
   "source": []
  },
  {
   "cell_type": "code",
   "execution_count": null,
   "id": "bf8a4187-0138-45dc-9e35-da16d4ab2545",
   "metadata": {},
   "outputs": [],
   "source": []
  }
 ],
 "metadata": {
  "kernelspec": {
   "display_name": "Python 3",
   "language": "python",
   "name": "python3"
  },
  "language_info": {
   "codemirror_mode": {
    "name": "ipython",
    "version": 3
   },
   "file_extension": ".py",
   "mimetype": "text/x-python",
   "name": "python",
   "nbconvert_exporter": "python",
   "pygments_lexer": "ipython3",
   "version": "3.6.8"
  }
 },
 "nbformat": 4,
 "nbformat_minor": 5
}
