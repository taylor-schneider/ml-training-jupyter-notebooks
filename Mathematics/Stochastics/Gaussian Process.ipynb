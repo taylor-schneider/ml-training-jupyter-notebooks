{
 "cells": [
  {
   "cell_type": "markdown",
   "id": "e6e06a13-b773-49f9-b590-029e7edc63b3",
   "metadata": {},
   "source": [
    "# Overview\n",
    "\n",
    "In this notebook we explore the gaussian process.\n",
    "\n",
    "As the name suggests the gaussian process is a stochastic process characterized by the gaussian distribution. For more information consider the materials provided in the [Stocastics notebook](Stochastics.ipynb) and the notebook for the [Normal distribution](../Probability/Normal%20Distribution/Normal%20Distribution.ipynb)."
   ]
  },
  {
   "cell_type": "markdown",
   "id": "d6b1cb92-1c61-48ba-b851-05b1afc8e357",
   "metadata": {},
   "source": [
    "The following guides helped create this notebook:\n",
    "- https://distill.pub/2019/visual-exploration-gaussian-processes/\n",
    "- https://brendanhasz.github.io/2018/10/10/hmm-vs-gp.html"
   ]
  },
  {
   "cell_type": "markdown",
   "id": "6f65a023-0405-446d-acf4-62d1713b7401",
   "metadata": {},
   "source": []
  },
  {
   "cell_type": "markdown",
   "id": "7fdc0cd8-2e92-4012-abfd-e42a27b78d0f",
   "metadata": {},
   "source": []
  },
  {
   "cell_type": "code",
   "execution_count": null,
   "id": "021d847a-46d8-4592-a8f1-44abba6c4fe2",
   "metadata": {},
   "outputs": [],
   "source": [
    "import numpy\n",
    "import pandas\n",
    "from matplotlib import pyplot, cm\n",
    "import scipy\n",
    "\n",
    "from scipy.stats import multivariate_normal\n"
   ]
  },
  {
   "cell_type": "code",
   "execution_count": null,
   "id": "7a90651b-4ff6-481f-9e98-603b66e133b8",
   "metadata": {},
   "outputs": [],
   "source": []
  },
  {
   "cell_type": "code",
   "execution_count": null,
   "id": "a7bd0856-e240-4870-9e19-e880de5291c4",
   "metadata": {},
   "outputs": [],
   "source": []
  },
  {
   "cell_type": "code",
   "execution_count": null,
   "id": "412ac3d7-3977-4004-bb0e-d477abb44f5e",
   "metadata": {},
   "outputs": [],
   "source": []
  },
  {
   "cell_type": "code",
   "execution_count": null,
   "id": "686e2280-1dc1-404e-aa0c-ace3d88bc9e0",
   "metadata": {},
   "outputs": [],
   "source": []
  },
  {
   "cell_type": "code",
   "execution_count": null,
   "id": "50655cc9-2775-4505-bb1a-a404068fbf98",
   "metadata": {},
   "outputs": [],
   "source": []
  },
  {
   "cell_type": "code",
   "execution_count": null,
   "id": "81fecaff-c563-479f-9cd1-ddc1b689633e",
   "metadata": {},
   "outputs": [],
   "source": []
  },
  {
   "cell_type": "code",
   "execution_count": null,
   "id": "7860113e-045f-4f40-9961-a5e8b2d8c504",
   "metadata": {},
   "outputs": [],
   "source": []
  },
  {
   "cell_type": "code",
   "execution_count": null,
   "id": "94687202-4280-4747-9093-f4eb81052209",
   "metadata": {},
   "outputs": [],
   "source": []
  },
  {
   "cell_type": "markdown",
   "id": "3fb3f360-191e-43be-b7c4-3213cdad5f7e",
   "metadata": {},
   "source": [
    "## Covariance is important\n",
    "its a contraint that keeps like terms together\n",
    "https://ekamperi.github.io/mathematics/2021/03/30/gaussian-process-regression.html"
   ]
  },
  {
   "cell_type": "markdown",
   "id": "1753a31f-4ce1-4163-9603-3184656feb1e",
   "metadata": {},
   "source": [
    "Matrix being positive definite This is the multivariate analog of the univariate requirement for the variance σ2 to be positive. \n",
    "https://ekamperi.github.io/mathematics/2021/03/30/gaussian-process-regression.html"
   ]
  },
  {
   "cell_type": "code",
   "execution_count": null,
   "id": "1397eaba-a809-43e4-97d5-7b932e03a3a7",
   "metadata": {},
   "outputs": [],
   "source": []
  },
  {
   "cell_type": "code",
   "execution_count": null,
   "id": "7b999f16-7c65-4dd0-a46f-2a1037c1d813",
   "metadata": {},
   "outputs": [],
   "source": []
  },
  {
   "cell_type": "raw",
   "id": "f206b358-a04c-4e3f-813a-49eb63a28eed",
   "metadata": {},
   "source": []
  },
  {
   "cell_type": "markdown",
   "id": "9690bbfc-0661-45ed-8580-a96412f0cd3d",
   "metadata": {},
   "source": []
  },
  {
   "cell_type": "markdown",
   "id": "6bc9121e-bfa1-49fa-9c99-73faff70a92b",
   "metadata": {},
   "source": [
    "## Kernels For A Gaussian Process"
   ]
  },
  {
   "cell_type": "markdown",
   "id": "d6019afb-1563-4fe9-b4e3-9957ece7a7ad",
   "metadata": {},
   "source": [
    "**Note:** Kernels appear in a number of mathematical fields and is often presented in an applied context with a more specific definition. They are used in image processing, interpolation, machine learning, and more. For a primer consider the following texts \n",
    "- https://www.cs.princeton.edu/~bee/courses/scribe/lec_10_09_2013.pdf\n",
    "- [The kernel Cookbook](https://www.cs.toronto.edu/~duvenaud/cookbook/)"
   ]
  },
  {
   "cell_type": "code",
   "execution_count": 2,
   "id": "f6f6b939-a1ec-4ed2-9196-b7645bd1c695",
   "metadata": {
    "jupyter": {
     "source_hidden": true
    },
    "tags": []
   },
   "outputs": [
    {
     "data": {
      "image/png": "[encoded data removed]",
      "text/plain": [
       "<Figure size 432x432 with 1 Axes>"
      ]
     },
     "metadata": {
      "needs_background": "light"
     },
     "output_type": "display_data"
    }
   ],
   "source": [
    "import numpy\n",
    "import scipy\n",
    "from scipy.stats import multivariate_normal\n",
    "from matplotlib import pyplot\n",
    "\n",
    "# Generate a random normal variable which we will use to calculate probabilities\n",
    "mu = [0, 0]\n",
    "sigma = numpy.array([[1, 0.8],[0.8,2]])\n",
    "rv = multivariate_normal(mu, sigma)\n",
    "\n",
    "# Generate a number line\n",
    "x = numpy.linspace(-7, 7, 200)\n",
    "\n",
    "# Generate probabilities for the first random variable\n",
    "normal_uv_rv = scipy.stats.norm(loc=0, scale=2)\n",
    "p1 = normal_uv_rv.pdf(x)\n",
    "x_1 = 1\n",
    "p_x_1 = normal_uv_rv.pdf(x_1)\n",
    "\n",
    "# Generate joint probabilities with a fixed X_1\n",
    "x2 = x.copy()\n",
    "grid_coord = numpy.column_stack((numpy.full(x2.shape, 1), x2))\n",
    "p_x2_and_x1 = rv.pdf(grid_coord)\n",
    "\n",
    "# Generate conditional probabilities given a fixed X_1\n",
    "p_x2_given_x1 = p_x2_and_x1 / p1\n",
    "\n",
    "# Calculate the means of the distributions\n",
    "i = numpy.argmax(p1)\n",
    "p1_mean_x = x[i]\n",
    "p1_mean = p1[i]\n",
    "i = numpy.argmax(p_x2_and_x1)\n",
    "p_x2_and_x1_mean_x = x[i]\n",
    "p_x2_and_x1_mean = p_x2_and_x1[i]\n",
    "i = numpy.argmax(p_x2_given_x1)\n",
    "p_x2_given_x1_mean_x = x[i]\n",
    "p_x2_given_x1_mean = p_x2_given_x1[i]\n",
    "\n",
    "# Plot\n",
    "fig, ax = pyplot.subplots()\n",
    "fig.set_figwidth(6)\n",
    "fig.set_figheight(6)\n",
    "ax.plot(x, p1, c='black')\n",
    "ax.plot(x, p_x2_and_x1, c='blue')\n",
    "ax.plot(x, p_x2_given_x1, c='green')\n",
    "ax.scatter(p1_mean_x, p1_mean, c='black')\n",
    "ax.scatter(p_x2_and_x1_mean_x, p_x2_and_x1_mean, c='blue')\n",
    "ax.scatter(p_x2_given_x1_mean_x, p_x2_given_x1_mean, c='green')\n",
    "ax.legend([\n",
    "    \"p($X_1)$\", \n",
    "    \"$p(X_2 \\cap X_1=1)$\", \n",
    "    \"$p(X_2|X_1=1)$\",\n",
    "    \"$\\mu$ = {0}\".format(p1_mean_x),\n",
    "    \"$\\mu$ = {0}\".format(p_x2_and_x1_mean_x),\n",
    "    \"$\\mu$ = {0}\".format(p_x2_given_x1_mean_x)\n",
    "]);"
   ]
  },
  {
   "cell_type": "markdown",
   "id": "e7ffab8b-f301-422d-9cbe-747f36d6cb66",
   "metadata": {},
   "source": [
    "### Gaussian (Squared Exponential)\n",
    "\n",
    "$$ K(x, y) : \\alpha^2 exp \\left( {-\\frac{(x - y)^2}{2\\rho^2}} \\right) + \\sigma^2 \\delta_{x, y} $$\n",
    "\n",
    "The parameters are defined as follows:\n",
    "\n",
    "- $\\alpha$ - a hyper parameter which controls how likely the kernel returns a value near zero\n",
    "- $\\rho$\n",
    "- $\\sigma$\n",
    "- $\\delta$ - takes a value from 0 to 1 depending on whether or not \n"
   ]
  },
  {
   "cell_type": "markdown",
   "id": "8da7b659-3c64-47d4-9348-ee29b1cfaa4b",
   "metadata": {},
   "source": [
    "In the diagram above, we can see the the effects on the distributions as we fix a variable. We see that the distributions move to the right by looking at the means (visually indicated by the peaks) and we see that the distributions narrow by looking at the variance (visually indicated by the widths). The green distribution shows us the unconditional probability of $X_1$. This distribution will also describe the unconditional probability of $X_2$. We see this distribution of $X_2$ changes as we fix a value of $X_1=1$. \n",
    "\n",
    "Looking at the black distribution, we see that the probability of obtaining any value of $X_2$ and obtaining a value $X_1=1$ is generally smaller than obtaining the same value of $X_2$ independently. This intuitively makes sense as there is a smaller chance that two things happen at the same time. Intuitively this makes sense: we are multiplying a small number (smaller than one) by another small number... so we will get an even smaller number. We also see that the mean of the distribution has moved to the right. This indicates that the value $X_2$ is likely to take is somewhere around 1 rather than 0. Additionally we see that the variance of the distribution shrinks which indicates that the range of values that the variable is likely to take on is also shrinking (definition of variance).\n",
    "\n",
    "Finally, with the green distribution, we see that the $X_2$ is most likely to take on a value of 1.23 given that $X_1=1$."
   ]
  },
  {
   "cell_type": "markdown",
   "id": "e621bd78-0244-46f6-aa9c-5e3e0cb9a75c",
   "metadata": {},
   "source": [
    "We can look at the different shapes that the distribution will take on as the parameters change."
   ]
  },
  {
   "cell_type": "code",
   "execution_count": null,
   "id": "364dab91-ba17-4609-880f-3d6b339de9af",
   "metadata": {
    "tags": []
   },
   "outputs": [],
   "source": [
    "import numpy\n",
    "import itertools\n",
    "from scipy.stats import multivariate_normal\n",
    "from matplotlib import pyplot\n",
    "\n",
    "def gaussian_kernel(diff, a, p, s, d):\n",
    "    \n",
    "    return a**2 * numpy.exp(-(diff)**2/2*p**2) + s**2 * d\n",
    "\n",
    "def plot_variable(ax, diff, a, p, s, d):\n",
    "    \n",
    "    # Calculate the kernel values\n",
    "    g = gaussian_kernel(diff, a, p, s, d)\n",
    "\n",
    "# Generate a number line\n",
    "diff = numpy.linspace(-5, 5, 200)\n",
    "\n",
    "# Generate potting objects\n",
    "fig, ax = pyplot.subplots(2,2)\n",
    "ax = [ax[0][0],ax[0][1], ax[1][0], ax[1][1]]\n",
    "fig.set_figwidth(12)\n",
    "fig.set_figheight(12)\n",
    "#ax.set_xlabel('x - y')\n",
    "#ax.set_ylabel('K(x, y)')\n",
    "\n",
    "params = ['a', 'p', 's', 'd']\n",
    "possible_values = {\n",
    "    'a': [-1, -.5, 0.1, .5, 1, 2, 5],\n",
    "    's': [-1, -.5, 0.1, .5, 1, 2, 5],\n",
    "    'p': [-1, -.5, 0.1, .5, 1, 2, 5],\n",
    "    'd': [0, 1]\n",
    "}\n",
    "defaults = {\n",
    "    'a': 1,\n",
    "    's': 1,\n",
    "    'p': 1/2,\n",
    "    'd': 1\n",
    "}\n",
    "    \n",
    "for i in range(0, len(params)):\n",
    "\n",
    "    varied_param = params[i]\n",
    "    \n",
    "    # Set the defaults\n",
    "    for j in range(0, len(params)):\n",
    "        param_name = params[j]\n",
    "        param_default = defaults[param_name]\n",
    "        exec(\"{0} = {1}\".format(param_name, param_default))\n",
    "            \n",
    "    legend_labels = []\n",
    "    for value in possible_values[varied_param]:\n",
    "\n",
    "        # Set the value of the variable that will be varried\n",
    "        exec(\"{0} = {1}\".format(varied_param, value))\n",
    "                \n",
    "        # Calculate the kernel values\n",
    "        g = gaussian_kernel(diff, a, p, s, d)\n",
    "\n",
    "        # Get the axis\n",
    "        ax[i].plot(diff, g)\n",
    "        \n",
    "        legend_labels.append(\"a={0}, p={1}, s={2}, d={3}\".format(a, p, s, d))\n",
    "        \n",
    "        ax[i].set_title(varied_param)\n",
    "        \n",
    "    ax[i].legend(legend_labels);"
   ]
  },
  {
   "cell_type": "code",
   "execution_count": null,
   "id": "acb35bec-f398-47cd-bae6-57aa19f80952",
   "metadata": {},
   "outputs": [],
   "source": []
  },
  {
   "cell_type": "code",
   "execution_count": null,
   "id": "1b4366f5-1d39-4731-ab70-bd47a53ac0e9",
   "metadata": {},
   "outputs": [],
   "source": []
  },
  {
   "cell_type": "code",
   "execution_count": null,
   "id": "b5286671-5957-42a6-907b-4448afa0681d",
   "metadata": {},
   "outputs": [],
   "source": [
    "        \n",
    "        # plot\n",
    "        if line_count < 10:\n",
    "            ax.plot(diff, g)\n",
    "        elif line_count < 20:\n",
    "            ax.plot(diff, g, '--')\n",
    "        elif line_count < 30:\n",
    "            ax.plot(diff, g, '.')\n",
    "        else:\n",
    "            ax.plot(diff, g)\n",
    "\n",
    "    legend_labels.append(\"a={0}, p={1}, s={2}, d={3}\".format(a, p, s, d))\n",
    "    \n",
    "    line_count += 1\n",
    "    \n",
    "ax.legend(legend_labels);"
   ]
  },
  {
   "cell_type": "code",
   "execution_count": null,
   "id": "269e309c-002b-4198-93f5-482695d5acab",
   "metadata": {
    "tags": []
   },
   "outputs": [],
   "source": [
    "def gaussian_kernel(diff, a, p, s, d):\n",
    "    \n",
    "    return a**2 * numpy.exp(-(diff)**2/2*p**2) + s**2 * d\n",
    "\n",
    "\n",
    "import numpy\n",
    "import itertools\n",
    "from scipy.stats import multivariate_normal\n",
    "from matplotlib import pyplot\n",
    "\n",
    "# Generate a number line\n",
    "diff = numpy.linspace(-5, 5, 200)\n",
    "\n",
    "# Generate potting objects\n",
    "fig, ax = pyplot.subplots()\n",
    "fig.set_figwidth(12)\n",
    "fig.set_figheight(12)\n",
    "ax.set_xlabel('x - y')\n",
    "ax.set_ylabel('K(x, y)')\n",
    "\n",
    "# Set the hyperparameters\n",
    "possible_parameter_values = [0.1, 0.5, 1, 1.5, 2, 3]\n",
    "permutations = itertools.combinations_with_replacement(possible_parameter_values, r=4)\n",
    "\n",
    "legend_labels = []\n",
    "line_count = 0\n",
    "for permutation in permutations:\n",
    "    \n",
    "    a, p, s, d = permutation\n",
    "    \n",
    "    # Calculate the kernel values\n",
    "    g = gaussian_kernel(diff, a, p, s, d)\n",
    "    \n",
    "    # Ignore those which do not behave like a probability distribution\n",
    "    if g[numpy.argmax(g)] > 1:\n",
    "        continue\n",
    "\n",
    "    # plot\n",
    "    if line_count < 10:\n",
    "        ax.plot(diff, g)\n",
    "    elif line_count < 20:\n",
    "        ax.plot(diff, g, '--')\n",
    "    elif line_count < 30:\n",
    "        ax.plot(diff, g, '.')\n",
    "\n",
    "    legend_labels.append(\"a={0}, p={1}, s={2}, d={3}\".format(a, p, s, d))\n",
    "    \n",
    "    line_count += 1\n",
    "    \n",
    "ax.legend(legend_labels);"
   ]
  },
  {
   "cell_type": "code",
   "execution_count": null,
   "id": "245176c8-19fc-41d4-bec5-931289836ebc",
   "metadata": {},
   "outputs": [],
   "source": [
    "line_count"
   ]
  },
  {
   "cell_type": "code",
   "execution_count": null,
   "id": "26cc09b5-7036-4a72-906b-ca7f7469eaa0",
   "metadata": {},
   "outputs": [],
   "source": []
  },
  {
   "cell_type": "markdown",
   "id": "cb6e8aca-b834-47f9-9100-7dfb6597e288",
   "metadata": {},
   "source": [
    "# Kernels and Covariance"
   ]
  },
  {
   "cell_type": "markdown",
   "id": "9fbb1e73-f849-462d-90e9-214c9757d8c8",
   "metadata": {},
   "source": [
    "The covariance is such that the value returned is large if the values of the random variables are close to each other and small if they are not. It is defined mathematically as:\n",
    "\n",
    "$$ Cov(X, Y) = E \\left[(X - \\mu_X)(Y-\\mu_y) \\right] $$\n",
    "$$ = E[XY] - \\mu_X \\mu_Y $$\n",
    "\n",
    "It is often derived as\n",
    "\n",
    "$$ = \\frac{\\sum (X - \\mu_X)(Y-\\mu_y)}{n} $$\n",
    "\n",
    "Knowing these are gaussian processes we assert $\\mu=0$ which implies\n",
    "\n",
    "$$ = \\frac{\\sum XY}{n} $$\n",
    "\n",
    "For a single point, where $n=1$ we can further reduce the equation to\n",
    "\n",
    "$$ = XY $$\n",
    "\n",
    "We can think of the covariance matrix as a function which accepts a set of independent variables and returns their covariance:\n",
    "\n",
    "$$ \\Sigma = f(x, y) $$\n",
    "\n",
    "\n",
    "We can see that this function satisfies the properties of a kernel function and thus we can say the covariance function is a kernel function\n",
    "\n",
    "$$ \\Sigma = K(x, y) $$"
   ]
  },
  {
   "cell_type": "markdown",
   "id": "3627fe29-148b-429e-be54-b65f1abe541d",
   "metadata": {},
   "source": [
    "## Choosing an alternate kernel\n",
    "\n",
    "We could select an alternate function which returns a different measurement based on the relationship between the vairable pair.\n",
    "\n",
    "For example, we could choose a function which describes the distance between the two variables without consideration of the respective means. We could additionally choose a function that behaves like a probability distribution and returns a quasi-probability indicating the likelihood of obtaining a value of one variable given another variable.\n",
    "\n",
    "The gaussian kernel does just this."
   ]
  },
  {
   "cell_type": "code",
   "execution_count": null,
   "id": "1a592c0b-319f-464a-b8c1-206a8a406770",
   "metadata": {},
   "outputs": [],
   "source": []
  },
  {
   "cell_type": "markdown",
   "id": "cfb121e6-1822-4f37-90c2-af61419bb636",
   "metadata": {},
   "source": [
    "Graph showing impact of different kernels\n",
    "\n",
    "<center><img src='images/kernels_affecting_gaussian_process.png'  width='800px' height='800px' ></center>\n",
    "\n",
    "https://ekamperi.github.io/mathematics/2021/03/30/gaussian-process-regression.html"
   ]
  },
  {
   "cell_type": "code",
   "execution_count": null,
   "id": "d90f55cb-bf3a-4001-a067-004bd772823f",
   "metadata": {},
   "outputs": [],
   "source": []
  },
  {
   "cell_type": "code",
   "execution_count": null,
   "id": "b5ea1358-7e54-4587-b1a6-22c5311f6689",
   "metadata": {},
   "outputs": [],
   "source": []
  },
  {
   "cell_type": "markdown",
   "id": "3f73cf18-0e13-43f0-9575-d3e340d094ba",
   "metadata": {},
   "source": [
    " "
   ]
  },
  {
   "cell_type": "markdown",
   "id": "ed438856-4751-413a-aafb-c734c711e1d1",
   "metadata": {},
   "source": [
    "**Note:** Like the model of Brownian motion, Gaussian processes are stochastic processes. In fact, the Brownian motion process can be reformulated as a Gaussian process.\n",
    "\n",
    "https://peterroelants.github.io/posts/gaussian-process-tutorial/"
   ]
  },
  {
   "cell_type": "markdown",
   "id": "70c4db1d-15c9-48d2-acd3-7b82ff48eef9",
   "metadata": {},
   "source": [
    "# Gaussian Process"
   ]
  },
  {
   "cell_type": "markdown",
   "id": "18fff7be-cc47-48c5-b7d9-755b9d93e899",
   "metadata": {},
   "source": [
    "A guassian process is a stochastic process which is characterized by a gaussian distribution.\n",
    "\n",
    "$$ X_t \\sim \\mathcal{N}$$\n",
    "\n",
    "The gaussian distribution is parameterized by two parameters and in our case we will look at the multivariate generalization: \n",
    "\n",
    "$$\\mathcal{N} := \\phi(\\mu, \\Sigma)$$."
   ]
  },
  {
   "cell_type": "markdown",
   "id": "d7dc0e59-f827-4ac0-81f0-91dc772cb9dd",
   "metadata": {},
   "source": [
    "In most cases, we want to use the gaussian process of a way to model our data (We will see more on this in the following section about gaussian process regression). This means that we are not interested in memoryless noise and instead are interested in data that exhibits some sort of trend. We will restate our process as one which is dependent on another random process:\n",
    "\n",
    "$$ Z_t : X_t \\xrightarrow{\\mathcal{N}}Y_t $$"
   ]
  },
  {
   "cell_type": "markdown",
   "id": "475a1854-7ff3-4b60-8185-15091e0fcddb",
   "metadata": {},
   "source": [
    "To accomplish this, we can transform the distribution function slightly by replacing constants with functions that consider the process index.\n",
    "\n",
    "$$ \\mu_t := f_\\mu(X_t) $$\n",
    "$$ \\Sigma_t := f_\\Sigma(Y_t, X_t)$$\n",
    "\n",
    "$$ Z_t \\sim \\phi(\\mu_t, \\Sigma_t)$$"
   ]
  },
  {
   "cell_type": "markdown",
   "id": "9dc76788-2413-4c7b-b166-4c75c0bad9df",
   "metadata": {},
   "source": [
    "We can then configure the functions so that they maintain the \"memory\" for out process and consider prior points recursively. In the simple case below we only consider the previous data points. \n",
    "\n",
    "We do this using the definition of conditional probabilities and Bayes Theorem. We can construct a mathematical framework to express the probability of the next value given the past values."
   ]
  },
  {
   "cell_type": "markdown",
   "id": "dca6d325-f5fe-451b-b7b7-03e800949284",
   "metadata": {},
   "source": [
    "$$  P(X_t|X_{t-1}) = \\frac{P(X_{t_n}, X_{t-1})}{P(X_{t-1})} $$"
   ]
  },
  {
   "cell_type": "markdown",
   "id": "f5fb5178-5cb5-4831-9792-c9dab087f366",
   "metadata": {},
   "source": [
    "Due to the special properties of the joint normal distribution we can algebraically derrive the conditional probability distribution formula:\n",
    "\n",
    "$$ Z_t \\sim \\phi(\\mu_{Y_t|X_{t-1}}, \\Sigma_{Y_t|X_{t-1}})$$"
   ]
  },
  {
   "cell_type": "markdown",
   "id": "dc7d1478-789e-49ba-9062-76a0dc158dc4",
   "metadata": {},
   "source": [
    "We can then calculate the conditional time dependent expected value $\\mu_{X_t|X_{t-1}}$ and variance $\\Sigma_{X_t|X_{t-1}}$ using block inversion and the schurs complement. \n",
    "\n",
    "Note: This is very hard matrix algebra which I cannot understand/prove yet. I am still reviewing books etc to learn how this is done. For now, we will jump right to the answer:"
   ]
  },
  {
   "cell_type": "markdown",
   "id": "2aad0261-f793-4b86-9020-3f98d5fd7192",
   "metadata": {},
   "source": [
    "$$ \\mu_{Y_t|X_{t-1}} = \\mu_{Y_t}+\\Sigma_{2,1}\\Sigma_{1,1}^{-1}(Y_{t-1} - \\mu_{X_{t-1}}) $$"
   ]
  },
  {
   "cell_type": "markdown",
   "id": "f8938d1d-22a4-49e6-9bf5-fb3e2c794e1a",
   "metadata": {},
   "source": [
    "$$ \\Sigma_{Y_t|X_{t-1}} = \\Sigma_{1,1}-\\Sigma_{1,2}\\Sigma_{1,1}^1\\Sigma_{1,2} $$"
   ]
  },
  {
   "cell_type": "markdown",
   "id": "3f6a1268-7467-4f3f-aced-d16db4af6913",
   "metadata": {},
   "source": [
    "While this is the general answer, we can further simplify these equations given our constraints on the distribution. Specifically, we can impose that the mean is zero:\n",
    "\n",
    "$$ \\mu_{Y_t|X_{t-1}} = \\mu_{Y_t}+\\Sigma_{2,1}\\Sigma_{1,1}^{-1}(Y_{t-1} - \\mu_{X_{t-1}}) $$\n",
    "\n",
    "$$  = 0 +\\Sigma_{2,1}\\Sigma_{1,1}^{-1}(Y_{t-1} - 0) $$\n",
    "\n",
    "$$ = \\Sigma_{2,1}\\Sigma_{1,1}^{-1}Y_{t-1} $$"
   ]
  },
  {
   "cell_type": "code",
   "execution_count": null,
   "id": "fbebd242-51b8-4f8c-8546-e46b6dd722f8",
   "metadata": {},
   "outputs": [],
   "source": []
  },
  {
   "cell_type": "code",
   "execution_count": null,
   "id": "21badbe5-6fce-4da7-8fcf-b2b0b3b0b84c",
   "metadata": {},
   "outputs": [],
   "source": []
  },
  {
   "cell_type": "markdown",
   "id": "6cb5391e-50cd-4e7d-a861-a683bbb7da7a",
   "metadata": {},
   "source": [
    "\n",
    "\n",
    "$$ \\mu_{X_t|X_{t-1}} := \\begin{bmatrix}  \n",
    "\\mu_{X_t|X_{t-1}} \\\\\n",
    "\\mu_{X_{t-1}|X_t}\n",
    "\\end{bmatrix}\n",
    "$$\n",
    "\n",
    "$$ \\Sigma_t := \\begin{bmatrix}  \n",
    "\\sigma^2_{X_{t-1}|X_t} & \\sigma_{X_{t-1}|X_t} \\\\\n",
    "\\sigma_{X_t,X_{t-1}} & \\sigma^2_{X_{t}|X_{t-1}}\n",
    "\\end{bmatrix}\n",
    "$$\n",
    "\n",
    "Expanding our process notation we then have the following constraint which enforces our recursion and providesthe mechonism for our process to have memory.\n",
    "\n",
    "$$\\begin{bmatrix}  \n",
    "Y_{t-1} \\\\\n",
    "Y_t\n",
    "\\end{bmatrix} \\sim \\mathcal{N} \\left( \n",
    "\\begin{bmatrix}  \n",
    "\\mu_{X_{t-1}} \\\\\n",
    "\\mu_{X_t}\n",
    "\\end{bmatrix}, \n",
    "\\begin{bmatrix}  \n",
    "\\sigma^2_{X_{t-1}} & \\sigma_{X_{t-1},X_t} \\\\\n",
    "\\sigma_{X_t,X_{t-1}} & \\sigma^2_{X_t}\n",
    "\\end{bmatrix}\n",
    "\\right)\n",
    "$$\n"
   ]
  },
  {
   "cell_type": "markdown",
   "id": "fa88d161-ce79-442e-9e25-f8ab086e0229",
   "metadata": {},
   "source": [
    "If we run a monte carlo simulation we can realize a random path for our process. Each iteration we would need to calculate the values for the distribution parameters."
   ]
  },
  {
   "cell_type": "code",
   "execution_count": null,
   "id": "3c1af839-09ea-4bdc-8319-16772244e34a",
   "metadata": {},
   "outputs": [],
   "source": []
  },
  {
   "cell_type": "code",
   "execution_count": null,
   "id": "d4b3a7d0-fba3-4845-aae1-8443d66a9b8e",
   "metadata": {},
   "outputs": [],
   "source": []
  },
  {
   "cell_type": "code",
   "execution_count": null,
   "id": "12b106a1-6794-4410-b57c-256aa852ce4c",
   "metadata": {},
   "outputs": [],
   "source": []
  },
  {
   "cell_type": "markdown",
   "id": "ae777e81-ac3a-4b44-b170-4fa23a7a1e86",
   "metadata": {},
   "source": [
    "Through these functions we have a machanism for adjusting the process as it evolves. We can for example construct a recursive relationship such that the the process is dependent on prior values.\n",
    "\n",
    "$$ X_t = X_{t - 1} + ??$$\n",
    "\n",
    "https://peterroelants.github.io/posts/gaussian-process-tutorial/"
   ]
  },
  {
   "cell_type": "markdown",
   "id": "55d869d8-f47c-463a-a237-e4e0fb0425c4",
   "metadata": {},
   "source": [
    "Consider the Brownian Motion with drift parameter $\\mu$ and noise parameter $\\sigma$.\n",
    "\n",
    "$$ \\mathcal{W}_t = \\mu + \\sigma \\phi_t $$\n",
    "\n",
    "[link](https://stats.libretexts.org/Bookshelves/Probability_Theory/Probability_Mathematical_Statistics_and_Stochastic_Processes_(Siegrist)/18%3A_Brownian_Motion/18.04%3A_Geometric_Brownian_Motion#:~:text=The%20stochastic%20process%20X%3D%7BX,%CE%BC%20and%20volatility%20parameter%20%CF%83.&text=Note%20that%20the%20deterministic%20part,decay%2C%20with%20rate%20parameter%20%CE%BC.)"
   ]
  },
  {
   "cell_type": "code",
   "execution_count": null,
   "id": "1e60c4da-9139-4cba-8889-8355567c877e",
   "metadata": {},
   "outputs": [],
   "source": []
  },
  {
   "cell_type": "code",
   "execution_count": null,
   "id": "b16bd10f-81cf-4032-a747-7a65474a8600",
   "metadata": {},
   "outputs": [],
   "source": []
  },
  {
   "cell_type": "code",
   "execution_count": null,
   "id": "87613fed-6499-4fdd-81ce-10c16d59f2a3",
   "metadata": {},
   "outputs": [],
   "source": []
  },
  {
   "cell_type": "markdown",
   "id": "71b61a78-e865-4701-866b-da56fdbaccfb",
   "metadata": {},
   "source": [
    "Using this information we calibrate a recursive stochastic process. For example we may start with a random walk\n",
    "\n",
    "\n",
    "Below we see an example of a random walk which\n",
    "\n",
    "$$ X_t = \\mathcal{W}_t f_t $$\n",
    "\n",
    "https://www.cs.toronto.edu/~rsalakhu/STAD68/notes/Lecture7_2014.pdf"
   ]
  },
  {
   "cell_type": "code",
   "execution_count": null,
   "id": "3ef1c99e-1f0b-496d-ab0a-5872e6641dc2",
   "metadata": {},
   "outputs": [],
   "source": []
  },
  {
   "cell_type": "markdown",
   "id": "1f8a0695-e315-414a-9c9e-8ea9196d6461",
   "metadata": {},
   "source": [
    "The recursion of the gaussian process is defined by bayes theorem being slightly adapted to fit the context of a time-dependent process.\n",
    "\n",
    "$$ P(f|\\mathcal{D}) = \\frac{P(\\mathcal{D}|A)P(A)}{P(\\mathcal{D})} $$\n",
    "\n",
    "https://www.cs.toronto.edu/~rsalakhu/STAD68/notes/Lecture7_2014.pdf"
   ]
  },
  {
   "cell_type": "code",
   "execution_count": null,
   "id": "6261ac68-f7c0-4488-9f7f-aa89dcbab6b4",
   "metadata": {},
   "outputs": [],
   "source": []
  },
  {
   "cell_type": "code",
   "execution_count": null,
   "id": "39e3e231-3806-48e7-96f2-caca3a39c2a6",
   "metadata": {},
   "outputs": [],
   "source": []
  },
  {
   "cell_type": "markdown",
   "id": "740b42db-1064-44ae-82ff-2f37de21fa42",
   "metadata": {},
   "source": [
    "We can create a stochastic regression model which uses the gaussian process and a recursive contraint to calibrate the model so that it fits the data. Iltimately the distribution $\\phi$ is derived recursively\n",
    "\n",
    "\n"
   ]
  },
  {
   "cell_type": "code",
   "execution_count": null,
   "id": "a4da3ad0-b68a-457f-b9c8-30ca6eff8915",
   "metadata": {},
   "outputs": [],
   "source": []
  },
  {
   "cell_type": "markdown",
   "id": "b951f028-e209-4be4-acbf-bc3f597a6d26",
   "metadata": {},
   "source": [
    "We can constructe the recursive relationship so that the next point generated by the process is expressed using the previous point:\n",
    "\n",
    "$$ Y := \\begin{bmatrix} \n",
    "y_1 \\\\ \n",
    "y_2 \n",
    "\\end{bmatrix} \\sim \\mathcal{N}(\\mu,  \\Sigma) $$\n",
    "\n",
    "$$ \\mu :=  \\begin{bmatrix} \\mu_1 \\\\ \\mu_2 \\end{bmatrix}, \\ where \\ \\mu_i \\Rightarrow X_i $$\n",
    "\n",
    "$$ \\Sigma := \\begin{bmatrix} \n",
    "\\sigma^2_1 & \\sigma_{1,2} \\\\\n",
    "\\sigma_{2,1} & \\sigma^2_2\n",
    "\\end{bmatrix}, \\ where \\ \\sigma_i \\Rightarrow X_i $$\n",
    "\n",
    "https://peterroelants.github.io/posts/gaussian-process-tutorial/"
   ]
  },
  {
   "cell_type": "markdown",
   "id": "a54f7506-a917-429f-bf8d-9ff8df6f615f",
   "metadata": {},
   "source": [
    "We can get the conditional distribution to express the probability of $y_2$ given $x_1$, $y_1$, and $x_2$ have occurred\n",
    "\n",
    "$$ p(y_2 | y1, x1, x2) \\sim \\mathcal{N}(\\mu_{2|1}, \\Sigma_{2|1}) $$"
   ]
  },
  {
   "cell_type": "code",
   "execution_count": null,
   "id": "47a6fe00-14a3-4473-a481-3476e712f462",
   "metadata": {},
   "outputs": [],
   "source": []
  },
  {
   "cell_type": "code",
   "execution_count": null,
   "id": "f6051e1a-ee4d-4ad3-b036-a31dc661f7c1",
   "metadata": {},
   "outputs": [],
   "source": []
  },
  {
   "cell_type": "code",
   "execution_count": null,
   "id": "733b863b-d107-4e53-928d-516891f87bb4",
   "metadata": {},
   "outputs": [],
   "source": []
  },
  {
   "cell_type": "code",
   "execution_count": null,
   "id": "e7635358-64a9-4a1a-9404-b50e83e4e8b3",
   "metadata": {},
   "outputs": [],
   "source": []
  },
  {
   "cell_type": "code",
   "execution_count": null,
   "id": "06559148-c9cf-4a4b-b4ac-fa446d27feab",
   "metadata": {},
   "outputs": [],
   "source": []
  },
  {
   "cell_type": "code",
   "execution_count": null,
   "id": "f5cb3407-8c4d-46a1-8040-f64e8f367082",
   "metadata": {},
   "outputs": [],
   "source": []
  },
  {
   "cell_type": "markdown",
   "id": "df72b575-35fc-4eac-87a0-f8fab9659e8c",
   "metadata": {},
   "source": [
    "** Note sure why: \"The gaussian proccess assumes that values within a search space will be most similar bewteen neighboring points. We will see this assumption is enforced as part of the mathematical framework.\"\n",
    "\n",
    "-> see covariance commets about kernels"
   ]
  },
  {
   "cell_type": "markdown",
   "id": "a52f5b94-e2a4-4ff6-9c3c-ff037e70edd5",
   "metadata": {},
   "source": [
    "Assume we have a variable or function which depends on a set of parameters:\n",
    "\n",
    "$$ y = f(X) $$\n",
    "\n",
    "Assume variable or function is being modeled is a gaussian process:\n",
    "\n",
    "$$ \\hat y \\sim \\mathcal{N}(\\mu, \\Sigma) $$"
   ]
  },
  {
   "cell_type": "markdown",
   "id": "ed4f7104-5fa2-4f12-8e33-43d2586a3d06",
   "metadata": {},
   "source": [
    "# Gaussian Process Regression\n",
    "Gussian process regression is a technique which calibrates a [gussian process](../Stochastics/Stochastics.ipynb#Gaussian-Process) so that it models a set of observations. The intent is that once calibrated appropriately, the model can be used to make predictions. This technique goes by a few names including:krigging and Wiener–Kolmogorov prediction."
   ]
  },
  {
   "cell_type": "markdown",
   "id": "b2e195ec-6a4b-4209-b4a2-28a3558e3332",
   "metadata": {},
   "source": [
    "## History and Origin\n",
    "The theoretical basis for the method was developed by the French mathematician Georges Matheron in 1960\n",
    "His work was based on the Master's thesis of Danie G. Krige who sought to estimate the most likely distribution of gold based on samples from a few boreholes. The term kriging was coined some time after in honor of Krige.\n",
    "https://en.wikipedia.org/wiki/Kriging"
   ]
  },
  {
   "cell_type": "markdown",
   "id": "182ceef9-2447-4296-b278-a86817fc3a98",
   "metadata": {},
   "source": [
    "## Technique\n",
    "The technique starts by asserting that a function expresses a gaussian process:\n",
    "\n",
    "$$ f(t) \\approx \\mathcal{G}_t$$\n",
    "\n",
    "In other words we assert that\n",
    "\n",
    "$$ \\mathcal{G}_t = \\mathcal{N}(\\mu_t, \\Sigma_t)$$\n",
    "\n",
    "We can split our index into two segments based on what has occured and what has not occurred. We will refer to these as segment one and segment two respectively:\n",
    "\n",
    "$$\\begin{pmatrix}\\mathcal{G}_1 \\\\ \\mathcal{G}_2\\end{pmatrix}\n",
    "=\n",
    "\\mathcal{N}\n",
    "\\begin{pmatrix}\n",
    "    \\begin{bmatrix}\n",
    "    \\mu_1 \\\\\n",
    "    \\mu_2\n",
    "    \\end{bmatrix},\n",
    "    \\begin{bmatrix}\n",
    "    \\Sigma_1 & \\Sigma_{1,2} \\\\\n",
    "    \\Sigma_{2,1} & \\Sigma_{2,2}\n",
    "    \\end{bmatrix}\n",
    "\\end{pmatrix}\n",
    "$$\n",
    "\n",
    "We then apply the bayesian framework to assert that the distribution for a given point $t$ is based on all previous observations. In other words, the next value is conditional on the previous. With this assertion we must calculate conditional statistics"
   ]
  },
  {
   "cell_type": "markdown",
   "id": "2b6717ec-e607-4045-aa40-fe809044e35f",
   "metadata": {},
   "source": [
    "$$ \\mu_{\\mathcal{G}_2|\\mathcal{G}_1} =  \\mu_1 + \\Sigma_{1,2}\\Sigma_2^{-1}(x_2 - \\mu_2)$$\n",
    "\n",
    "$$ \\Sigma_{\\mathcal{G}_2|\\mathcal{G}_1} = \\Sigma_{1,1} - \\Sigma_{1,2}\\Sigma_{2,2}^{-1}\\Sigma_{2,1}$$\n",
    "\n",
    "so that we can derive a conditional probability\n",
    "\n",
    "$$ \\mathcal{G}_2|\\mathcal{G}_1 = \\mathcal{N}(\\mu_{\\mathcal{G}_2|\\mathcal{G}_1}, \\Sigma_{\\mathcal{G}_2|\\mathcal{G}_1}) $$"
   ]
  },
  {
   "cell_type": "markdown",
   "id": "05a01664-066f-40aa-9a52-a204eb9f9e2a",
   "metadata": {},
   "source": [
    "Additionally we may choose to replace the calculation of the covariance $\\Sigma$ with an alternate kernel function. The pros and cons of these alternate kernels is discussed in its own section."
   ]
  },
  {
   "cell_type": "code",
   "execution_count": null,
   "id": "f18da0ee-ac2e-4b4d-a018-3244d9249e5f",
   "metadata": {},
   "outputs": [],
   "source": []
  },
  {
   "cell_type": "code",
   "execution_count": null,
   "id": "863065bd-83b3-4966-93a7-5f26113ced97",
   "metadata": {},
   "outputs": [],
   "source": []
  },
  {
   "cell_type": "code",
   "execution_count": null,
   "id": "88befb8b-d164-4f61-9e43-9a0de6b7e11f",
   "metadata": {},
   "outputs": [],
   "source": []
  },
  {
   "cell_type": "code",
   "execution_count": null,
   "id": "2eb85e00-be5d-4ac8-a62e-a8f2cdf6abf4",
   "metadata": {},
   "outputs": [],
   "source": []
  },
  {
   "cell_type": "code",
   "execution_count": null,
   "id": "ff44a0ca-4763-4f27-8fab-bf6243aec02e",
   "metadata": {},
   "outputs": [],
   "source": []
  },
  {
   "cell_type": "markdown",
   "id": "2ce15483-cbcd-438b-b9f1-2c78090b9423",
   "metadata": {},
   "source": [
    "## Limitations\n",
    "\n",
    "- Slow inference. Computing the covariance matrix’s inverse has a O(N3) time complexity, rendering exact inference too slow for more than a few thousand data points.\n",
    "- Choosing a covariance kernel. There’s some arbitrariness when choosing a kernel. However, the kernel’s hyperparameters can be inferred by maximizing the marginal likelihood, and the whole process can be automated.\n",
    "- Gaussian processes are in some sense idealizations. For the understanding of extreme phenomena exhibited by real physical systems, non-Gaussian processes might turn out more suitable. In this context, GPs serve as starting points to be perturbed.\n",
    "\n",
    "https://ekamperi.github.io/mathematics/2021/03/30/gaussian-process-regression.html"
   ]
  },
  {
   "cell_type": "markdown",
   "id": "89ee4f25-f776-45d8-b812-19bf22fe1aa9",
   "metadata": {},
   "source": [
    "# References\n",
    "- https://www.ritchievink.com/blog/2019/02/01/an-intuitive-introduction-to-gaussian-processes/\n",
    "- http://www.gaussianprocess.org/\n",
    "- https://brendanhasz.github.io/2018/10/10/hmm-vs-gp.html\n",
    "- https://distill.pub/2019/visual-exploration-gaussian-processes/\n",
    "- https://online.stat.psu.edu/stat505/book/export/html/638\n",
    "- https://peterroelants.github.io/posts/gaussian-process-tutorial/\n",
    "- https://ekamperi.github.io/mathematics/2021/03/30/gaussian-process-regression.html"
   ]
  }
 ],
 "metadata": {
  "kernelspec": {
   "display_name": "Python 3",
   "language": "python",
   "name": "python3"
  },
  "language_info": {
   "codemirror_mode": {
    "name": "ipython",
    "version": 3
   },
   "file_extension": ".py",
   "mimetype": "text/x-python",
   "name": "python",
   "nbconvert_exporter": "python",
   "pygments_lexer": "ipython3",
   "version": "3.6.8"
  }
 },
 "nbformat": 4,
 "nbformat_minor": 5
}
