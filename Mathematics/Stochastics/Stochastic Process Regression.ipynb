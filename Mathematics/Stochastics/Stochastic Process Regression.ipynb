{
 "cells": [
  {
   "cell_type": "markdown",
   "id": "d46d8989-8bb3-47c5-9f75-73279e5f0ae6",
   "metadata": {},
   "source": [
    "# Overview"
   ]
  },
  {
   "cell_type": "markdown",
   "id": "e0d2d1b2-d911-48d6-9d9e-8a832ab159e7",
   "metadata": {},
   "source": [
    "In this notebook we examine the concept of stochastic process regression which can be thought of as the stochastic equivalent of linear regression."
   ]
  },
  {
   "cell_type": "markdown",
   "id": "bc1ef454-098c-4d2a-8bf9-7e75a10136a1",
   "metadata": {},
   "source": [
    "# 0. Prerequisites\n",
    "- [Stocastics](./Stochastics.ipynb)\n",
    "- [Linear Regression](../Regression%20Analysis/Line%20Of%20Best%20Fit.ipynb)"
   ]
  },
  {
   "cell_type": "markdown",
   "id": "1948f860-506f-4acb-8426-187243034a8b",
   "metadata": {},
   "source": [
    "## 0.1. Bayesian Inference\n",
    "Statistical inference is the process of using data analysis techniques to infer properties of a probability distribution given various pieces of information.\n",
    "\n",
    "Bayesian inference is a special case of the process which relies bayesian statistics rather than frequentists statistics. Long story short, bayesian statistics and bayesian inference rely on [bayes theorem](../Probability/Conditional%20Probability.ipynb#Bayes-Theorem). \n",
    "\n",
    "According to the theorem, we can decern the probability of a future event based on the evidence we have available and an assumption of the underlying distribtion. Additionally, the theorm allows us to update our beliefes recursively. With each new observation there is more evidence to condition our expectations for the next observation.\n",
    "\n",
    "This naturally occurring recursive relationship makes bayes theorem well suited for performing regression analysis."
   ]
  },
  {
   "cell_type": "markdown",
   "id": "751a2d33-934f-4aec-b49d-22d0b2f138e2",
   "metadata": {},
   "source": [
    "# 1. Stochastic Process Regression"
   ]
  },
  {
   "cell_type": "markdown",
   "id": "fea7df2d-5d87-4056-926d-e6d431b5761c",
   "metadata": {},
   "source": [
    "## 1.1. Overview\n",
    "Stochastic process regression is the stochastic analog of [Linear Regression](../Regression%20Analysis/Line%20Of%20Best%20Fit.ipynb). In a nutshell, we represent a process as a stochastic equation. We then choose the best parameters for the equation such that it yields the best estimates for the process we are modeling.\n",
    "\n",
    "There are many techniques for calibrating a stoachastic models. Some depend on the branch of statistics or probability while osthers may depend on the specific model. We will look at some of the techniques here."
   ]
  },
  {
   "cell_type": "markdown",
   "id": "48bdac52-e17a-4327-a754-484694630c8f",
   "metadata": {},
   "source": [
    "## 1.2. Techniques\n",
    "\n",
    "As with regular regression analysis, there are a number of techniques for fitting a model (process) to data. A major contributor to this is the different schools of thought on how to define probability. We will see that there are some techniques which are attributed to the frequentist definition while others adhere to a bayesian definition."
   ]
  },
  {
   "cell_type": "markdown",
   "id": "c76bce75-9c15-4b57-9550-9cd0d691ee8d",
   "metadata": {
    "jp-MarkdownHeadingCollapsed": true,
    "tags": []
   },
   "source": [
    "### 1.2.1. Frequentists Regression\n",
    "The frequentists definition of probability assumes that a probability is expressed as a ratio or a frequency. A probability is expressed as the number of times a particular event occurs divided by the total number of unique events that are possible.\n",
    "\n",
    "When performing a linear regression, a frequentists will describe the value of the dependent variable in terms of the observations of the dependent variables. For example $Y = \\beta _0 + \\beta_1 X_1 + \\beta_2 X_2$. We typically refer to these regression coefficients as weights measuring importance. But from a probabalistic mindset, we can think of these coefficients as a relative frequency or probability that the independent variable will impact the dependent variable.\n",
    "\n",
    "A frequentists regression assumes/requires that enough observations have been made to provide an accurate model and thus an accurate estimation for a given data point.\n",
    "\n",
    "The models are calibrated by solving a system of equations which minimized the error in the point estimates."
   ]
  },
  {
   "cell_type": "markdown",
   "id": "37e43234-5604-46be-9f47-ba820d067a31",
   "metadata": {
    "tags": []
   },
   "source": [
    "### 1.2.2 Bayesian Regression\n",
    "A Bayesian Regression is different from a frequentist approach is that it is not a point estimate technique. Instead the regressions is stated in terms of a probability distribution. The goal is not to find the best parameters of the model so that we can accurately estimate a given point. Instead the goal is to descern the posterior distribution for the model parameters. Inthis way both the response and parameters are stated in terms of a probability distribution.\n",
    "\n",
    "Once the distribution is known, we can then make a point estimate. The models are calibrated by introducing new information and updating the posterior distribution with each update."
   ]
  },
  {
   "cell_type": "markdown",
   "id": "0f60bfa4-e213-45ea-b7aa-a4185228170e",
   "metadata": {},
   "source": [
    "#### 1.2.2.1. References\n",
    "\n",
    "- https://towardsdatascience.com/introduction-to-bayesian-linear-regression-e66e60791ea7\n",
    "\n",
    "- https://en.wikipedia.org/wiki/Bayesian_linear_regression"
   ]
  }
 ],
 "metadata": {
  "kernelspec": {
   "display_name": "Python 3",
   "language": "python",
   "name": "python3"
  },
  "language_info": {
   "codemirror_mode": {
    "name": "ipython",
    "version": 3
   },
   "file_extension": ".py",
   "mimetype": "text/x-python",
   "name": "python",
   "nbconvert_exporter": "python",
   "pygments_lexer": "ipython3",
   "version": "3.6.8"
  }
 },
 "nbformat": 4,
 "nbformat_minor": 5
}
