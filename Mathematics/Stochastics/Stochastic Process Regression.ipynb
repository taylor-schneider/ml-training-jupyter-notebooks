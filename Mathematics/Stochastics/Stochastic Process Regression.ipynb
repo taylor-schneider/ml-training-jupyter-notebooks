{
 "cells": [
  {
   "cell_type": "markdown",
   "id": "d46d8989-8bb3-47c5-9f75-73279e5f0ae6",
   "metadata": {},
   "source": [
    "# Overview"
   ]
  },
  {
   "cell_type": "markdown",
   "id": "e0d2d1b2-d911-48d6-9d9e-8a832ab159e7",
   "metadata": {},
   "source": [
    "The reason that the mathematical frameworks to model stochastic processes were developed was to model and predict real world processes based on a set of observations. As with the deterministic data sets, we can fit a stochastic model to observations from a random process.\n",
    "\n",
    "It's important to note the connection between regression and interpolation. Performing a regression allows us to interpolate values between observations as well as outside them."
   ]
  },
  {
   "cell_type": "markdown",
   "id": "dfdf31c7-e047-40d3-85f8-87d42a598b7a",
   "metadata": {},
   "source": [
    "There are many techniques for calibrating a stoachastic models and some of them depend on the specific model. We will look at the techniques here."
   ]
  },
  {
   "cell_type": "markdown",
   "id": "48bdac52-e17a-4327-a754-484694630c8f",
   "metadata": {},
   "source": [
    "# Techniques"
   ]
  },
  {
   "cell_type": "markdown",
   "id": "5d286f16-7ec8-4ce1-a2d1-49eb70eb9938",
   "metadata": {},
   "source": [
    "## Frequentists Regression\n",
    "The frequentists definition of probability assumes that a probability is expressed as a ratio or a frequency. A probability is expressed as the number of times a particular event occurs divided by the total number of unique events that are possible.\n",
    "\n",
    "A frequentists regression requires that enough observations have been made to provide an effective calibration which minimizes the error in predictions.\n",
    "\n",
    "## Bayesian Regression\n",
    "The bayesian definition of probabilty revolves around [bayes theorem](../Probability/Conditional%20Probability.ipynb#Bayes-Theorem). A probability is calculated by updating a prior distribution with new evidence from new observations. As more observations are made the probability should become progrssively more accurate. Unlike the frequentist approach it does not asume all relevant information is available.\n",
    "\n",
    "A common bayesian regression is the gaussian process regression"
   ]
  },
  {
   "cell_type": "markdown",
   "id": "48fbb189-56c4-4d34-9e07-c4ddb037d67b",
   "metadata": {},
   "source": [
    "https://towardsdatascience.com/introduction-to-bayesian-linear-regression-e66e60791ea7\n",
    "\n",
    "https://en.wikipedia.org/wiki/Bayesian_linear_regression"
   ]
  },
  {
   "cell_type": "code",
   "execution_count": null,
   "id": "67c64771-41e9-4256-8c64-f2013a71f3b3",
   "metadata": {},
   "outputs": [],
   "source": []
  },
  {
   "cell_type": "code",
   "execution_count": null,
   "id": "955d9b76-49db-472b-aeb6-6ad61aad4619",
   "metadata": {},
   "outputs": [],
   "source": []
  }
 ],
 "metadata": {
  "kernelspec": {
   "display_name": "Python 3",
   "language": "python",
   "name": "python3"
  },
  "language_info": {
   "codemirror_mode": {
    "name": "ipython",
    "version": 3
   },
   "file_extension": ".py",
   "mimetype": "text/x-python",
   "name": "python",
   "nbconvert_exporter": "python",
   "pygments_lexer": "ipython3",
   "version": "3.6.8"
  }
 },
 "nbformat": 4,
 "nbformat_minor": 5
}
