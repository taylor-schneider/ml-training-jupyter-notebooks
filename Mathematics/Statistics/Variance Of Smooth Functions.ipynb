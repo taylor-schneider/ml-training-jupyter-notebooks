{
 "cells": [
  {
   "cell_type": "code",
   "execution_count": 200,
   "id": "418f471b-ee7f-4642-90ac-b8e759c28abb",
   "metadata": {},
   "outputs": [],
   "source": [
    "import numpy\n",
    "import pandas\n",
    "import scipy\n",
    "from scipy.spatial import distance\n",
    "from matplotlib import pyplot as pyplot\n",
    "from mpl_toolkits.mplot3d import Axes3D"
   ]
  },
  {
   "cell_type": "markdown",
   "id": "406f2164-fe5e-4723-af22-447ff3252c55",
   "metadata": {},
   "source": [
    "How does changing kernel functions affect the distribution?"
   ]
  },
  {
   "cell_type": "markdown",
   "id": "21c7cc71-5b00-44bd-bdb4-2de483a0379d",
   "metadata": {},
   "source": [
    "`Key observation: the conditional distribution is not in terms of two variables but n variables. Itconsiders each of the n-observations as their own dimension"
   ]
  },
  {
   "cell_type": "markdown",
   "id": "4801bd9d-1808-4206-800f-a7a82e790d5e",
   "metadata": {},
   "source": [
    "# Example 1"
   ]
  },
  {
   "cell_type": "markdown",
   "id": "c4676c61-ee28-49a8-87e4-2d56ea645f41",
   "metadata": {},
   "source": [
    "## Generate random variable"
   ]
  },
  {
   "cell_type": "code",
   "execution_count": 633,
   "id": "f40ec987-2c3e-4431-91b9-482229c461ee",
   "metadata": {},
   "outputs": [
    {
     "data": {
      "image/png": "[encoded data removed]",
      "text/plain": [
       "<Figure size 432x432 with 1 Axes>"
      ]
     },
     "metadata": {
      "needs_background": "light"
     },
     "output_type": "display_data"
    }
   ],
   "source": [
    "# Create random vars\n",
    "def f(x):\n",
    "    return x + 4\n",
    "\n",
    "numpy.random.seed(433)\n",
    "x1 = numpy.linspace(0,10,10).reshape(-1,1)\n",
    "y1 = f(x1) + numpy.random.normal(0,1,10).reshape(-1,1)\n",
    "\n",
    "x2 = numpy.linspace(10,20,10).reshape(-1,1)\n",
    "y2 = f(x2) + numpy.random.normal(0,1,10).reshape(-1,1)\n",
    "\n",
    "# Plot the data\n",
    "fig, ax = pyplot.subplots(nrows=1, ncols=1, figsize=(6, 6))\n",
    "ax.scatter(x1, y1,c='blue')\n",
    "ax.scatter(x2, y2, c='green')\n",
    "\n",
    "# Plot a smoth line for the actual function\n",
    "actual_x = numpy.linspace(0,20,100)\n",
    "actual_y = f(actual_x)\n",
    "ax.plot(actual_x, actual_y)\n",
    "pyplot.show()"
   ]
  },
  {
   "cell_type": "markdown",
   "id": "c671cf99-2fec-45c5-bf61-3c07e6b2b760",
   "metadata": {},
   "source": [
    "## Plot Joint Probability"
   ]
  },
  {
   "cell_type": "code",
   "execution_count": 634,
   "id": "087f4941-b492-4611-8d6c-848eaf342c86",
   "metadata": {},
   "outputs": [
    {
     "data": {
      "text/plain": [
       "array([5.000000, 5.000000, 5.000000, 5.000000, 5.000000, 5.000000,\n",
       "       5.000000, 5.000000, 5.000000, 5.000000, 15.000000, 15.000000,\n",
       "       15.000000, 15.000000, 15.000000, 15.000000, 15.000000, 15.000000,\n",
       "       15.000000, 15.000000])"
      ]
     },
     "execution_count": 634,
     "metadata": {},
     "output_type": "execute_result"
    }
   ],
   "source": [
    "# Gather stats\n",
    "μ1 = numpy.zeros(x1.shape[0]) + x1.mean()\n",
    "μ2 = numpy.zeros(x2.shape[0]) + x2.mean()\n",
    "μ = numpy.concatenate((μ1, μ2))\n",
    "μ"
   ]
  },
  {
   "cell_type": "code",
   "execution_count": 635,
   "id": "9321a5b1-a5cb-4669-aac6-fb587063daad",
   "metadata": {},
   "outputs": [
    {
     "data": {
      "text/plain": [
       "array([[2.500000, 1.944444, 1.388889, 0.833333, 0.277778, 0.277778,\n",
       "        0.833333, 1.388889, 1.944444, 2.500000],\n",
       "       [1.944444, 1.512346, 1.080247, 0.648148, 0.216049, 0.216049,\n",
       "        0.648148, 1.080247, 1.512346, 1.944444],\n",
       "       [1.388889, 1.080247, 0.771605, 0.462963, 0.154321, 0.154321,\n",
       "        0.462963, 0.771605, 1.080247, 1.388889],\n",
       "       [0.833333, 0.648148, 0.462963, 0.277778, 0.092593, 0.092593,\n",
       "        0.277778, 0.462963, 0.648148, 0.833333],\n",
       "       [0.277778, 0.216049, 0.154321, 0.092593, 0.030864, 0.030864,\n",
       "        0.092593, 0.154321, 0.216049, 0.277778],\n",
       "       [0.277778, 0.216049, 0.154321, 0.092593, 0.030864, 0.030864,\n",
       "        0.092593, 0.154321, 0.216049, 0.277778],\n",
       "       [0.833333, 0.648148, 0.462963, 0.277778, 0.092593, 0.092593,\n",
       "        0.277778, 0.462963, 0.648148, 0.833333],\n",
       "       [1.388889, 1.080247, 0.771605, 0.462963, 0.154321, 0.154321,\n",
       "        0.462963, 0.771605, 1.080247, 1.388889],\n",
       "       [1.944444, 1.512346, 1.080247, 0.648148, 0.216049, 0.216049,\n",
       "        0.648148, 1.080247, 1.512346, 1.944444],\n",
       "       [2.500000, 1.944444, 1.388889, 0.833333, 0.277778, 0.277778,\n",
       "        0.833333, 1.388889, 1.944444, 2.500000]])"
      ]
     },
     "execution_count": 635,
     "metadata": {},
     "output_type": "execute_result"
    }
   ],
   "source": [
    "Σ = (x1 - x1.mean()) @ (x2 - x2.mean()).T / 10\n",
    "Σ = numpy.abs(Σ)\n",
    "Σ"
   ]
  },
  {
   "cell_type": "markdown",
   "id": "287e1194-137b-4263-858b-71e0d24b2be1",
   "metadata": {},
   "source": [
    " Semidefinite\n",
    "\n",
    "'Not positive definite' is an algebraic statement that some of the variables are linear combinations of one another. The problem then becomes one of tracking down the offending variates. \n",
    "\n",
    "https://quant.stackexchange.com/questions/40612/why-is-my-covariance-matrix-not-positive-definite"
   ]
  },
  {
   "cell_type": "code",
   "execution_count": 636,
   "id": "621ae38f-d290-4373-bb25-7cc669d63864",
   "metadata": {},
   "outputs": [
    {
     "name": "stdout",
     "output_type": "stream",
     "text": [
      "The matrix is not semidefinite positve\n",
      "[-0.        +0.j 10.18518519+0.j  0.        +0.j  0.        -0.j\n",
      " -0.        +0.j -0.        -0.j -0.        +0.j  0.        +0.j\n",
      "  0.        +0.j  0.        +0.j]\n"
     ]
    }
   ],
   "source": [
    "eigenvalues = numpy.linalg.eigvals(Σ)\n",
    "if not numpy.all(eigenvalues > 0):\n",
    "    print(\"The matrix is not semidefinite positve\")\n",
    "    print(eigenvalues)\n",
    "\n"
   ]
  },
  {
   "cell_type": "code",
   "execution_count": 581,
   "id": "58091f1a-cf1f-47db-9b8e-49cb6ebfb454",
   "metadata": {
    "tags": []
   },
   "outputs": [
    {
     "ename": "ValueError",
     "evalue": "the input matrix must be positive semidefinite",
     "output_type": "error",
     "traceback": [
      "\u001b[1;31m---------------------------------------------------------------------------\u001b[0m",
      "\u001b[1;31mValueError\u001b[0m                                Traceback (most recent call last)",
      "\u001b[1;32m<ipython-input-581-009d6a852bbd>\u001b[0m in \u001b[0;36m<module>\u001b[1;34m\u001b[0m\n\u001b[0;32m      1\u001b[0m \u001b[1;31m# Create a rv according to the parameters\u001b[0m\u001b[1;33m\u001b[0m\u001b[1;33m\u001b[0m\u001b[1;33m\u001b[0m\u001b[0m\n\u001b[1;32m----> 2\u001b[1;33m \u001b[0mrv\u001b[0m \u001b[1;33m=\u001b[0m \u001b[0mscipy\u001b[0m\u001b[1;33m.\u001b[0m\u001b[0mstats\u001b[0m\u001b[1;33m.\u001b[0m\u001b[0mmultivariate_normal\u001b[0m\u001b[1;33m(\u001b[0m\u001b[0mμ\u001b[0m\u001b[1;33m,\u001b[0m \u001b[0mΣ\u001b[0m\u001b[1;33m)\u001b[0m\u001b[1;33m\u001b[0m\u001b[1;33m\u001b[0m\u001b[0m\n\u001b[0m\u001b[0;32m      3\u001b[0m \u001b[1;33m\u001b[0m\u001b[0m\n\u001b[0;32m      4\u001b[0m \u001b[1;31m# Create grid for plot\u001b[0m\u001b[1;33m\u001b[0m\u001b[1;33m\u001b[0m\u001b[1;33m\u001b[0m\u001b[0m\n\u001b[0;32m      5\u001b[0m domain = numpy.array([\n",
      "\u001b[1;32mc:\\program files\\python36\\lib\\site-packages\\scipy\\stats\\_multivariate.py\u001b[0m in \u001b[0;36m__call__\u001b[1;34m(self, mean, cov, allow_singular, seed)\u001b[0m\n\u001b[0;32m    365\u001b[0m         return multivariate_normal_frozen(mean, cov,\n\u001b[0;32m    366\u001b[0m                                           \u001b[0mallow_singular\u001b[0m\u001b[1;33m=\u001b[0m\u001b[0mallow_singular\u001b[0m\u001b[1;33m,\u001b[0m\u001b[1;33m\u001b[0m\u001b[1;33m\u001b[0m\u001b[0m\n\u001b[1;32m--> 367\u001b[1;33m                                           seed=seed)\n\u001b[0m\u001b[0;32m    368\u001b[0m \u001b[1;33m\u001b[0m\u001b[0m\n\u001b[0;32m    369\u001b[0m     \u001b[1;32mdef\u001b[0m \u001b[0m_process_parameters\u001b[0m\u001b[1;33m(\u001b[0m\u001b[0mself\u001b[0m\u001b[1;33m,\u001b[0m \u001b[0mdim\u001b[0m\u001b[1;33m,\u001b[0m \u001b[0mmean\u001b[0m\u001b[1;33m,\u001b[0m \u001b[0mcov\u001b[0m\u001b[1;33m)\u001b[0m\u001b[1;33m:\u001b[0m\u001b[1;33m\u001b[0m\u001b[1;33m\u001b[0m\u001b[0m\n",
      "\u001b[1;32mc:\\program files\\python36\\lib\\site-packages\\scipy\\stats\\_multivariate.py\u001b[0m in \u001b[0;36m__init__\u001b[1;34m(self, mean, cov, allow_singular, seed, maxpts, abseps, releps)\u001b[0m\n\u001b[0;32m    741\u001b[0m         self.dim, self.mean, self.cov = self._dist._process_parameters(\n\u001b[0;32m    742\u001b[0m                                                             None, mean, cov)\n\u001b[1;32m--> 743\u001b[1;33m         \u001b[0mself\u001b[0m\u001b[1;33m.\u001b[0m\u001b[0mcov_info\u001b[0m \u001b[1;33m=\u001b[0m \u001b[0m_PSD\u001b[0m\u001b[1;33m(\u001b[0m\u001b[0mself\u001b[0m\u001b[1;33m.\u001b[0m\u001b[0mcov\u001b[0m\u001b[1;33m,\u001b[0m \u001b[0mallow_singular\u001b[0m\u001b[1;33m=\u001b[0m\u001b[0mallow_singular\u001b[0m\u001b[1;33m)\u001b[0m\u001b[1;33m\u001b[0m\u001b[1;33m\u001b[0m\u001b[0m\n\u001b[0m\u001b[0;32m    744\u001b[0m         \u001b[1;32mif\u001b[0m \u001b[1;32mnot\u001b[0m \u001b[0mmaxpts\u001b[0m\u001b[1;33m:\u001b[0m\u001b[1;33m\u001b[0m\u001b[1;33m\u001b[0m\u001b[0m\n\u001b[0;32m    745\u001b[0m             \u001b[0mmaxpts\u001b[0m \u001b[1;33m=\u001b[0m \u001b[1;36m1000000\u001b[0m \u001b[1;33m*\u001b[0m \u001b[0mself\u001b[0m\u001b[1;33m.\u001b[0m\u001b[0mdim\u001b[0m\u001b[1;33m\u001b[0m\u001b[1;33m\u001b[0m\u001b[0m\n",
      "\u001b[1;32mc:\\program files\\python36\\lib\\site-packages\\scipy\\stats\\_multivariate.py\u001b[0m in \u001b[0;36m__init__\u001b[1;34m(self, M, cond, rcond, lower, check_finite, allow_singular)\u001b[0m\n\u001b[0;32m    160\u001b[0m         \u001b[0meps\u001b[0m \u001b[1;33m=\u001b[0m \u001b[0m_eigvalsh_to_eps\u001b[0m\u001b[1;33m(\u001b[0m\u001b[0ms\u001b[0m\u001b[1;33m,\u001b[0m \u001b[0mcond\u001b[0m\u001b[1;33m,\u001b[0m \u001b[0mrcond\u001b[0m\u001b[1;33m)\u001b[0m\u001b[1;33m\u001b[0m\u001b[1;33m\u001b[0m\u001b[0m\n\u001b[0;32m    161\u001b[0m         \u001b[1;32mif\u001b[0m \u001b[0mnp\u001b[0m\u001b[1;33m.\u001b[0m\u001b[0mmin\u001b[0m\u001b[1;33m(\u001b[0m\u001b[0ms\u001b[0m\u001b[1;33m)\u001b[0m \u001b[1;33m<\u001b[0m \u001b[1;33m-\u001b[0m\u001b[0meps\u001b[0m\u001b[1;33m:\u001b[0m\u001b[1;33m\u001b[0m\u001b[1;33m\u001b[0m\u001b[0m\n\u001b[1;32m--> 162\u001b[1;33m             \u001b[1;32mraise\u001b[0m \u001b[0mValueError\u001b[0m\u001b[1;33m(\u001b[0m\u001b[1;34m'the input matrix must be positive semidefinite'\u001b[0m\u001b[1;33m)\u001b[0m\u001b[1;33m\u001b[0m\u001b[1;33m\u001b[0m\u001b[0m\n\u001b[0m\u001b[0;32m    163\u001b[0m         \u001b[0md\u001b[0m \u001b[1;33m=\u001b[0m \u001b[0ms\u001b[0m\u001b[1;33m[\u001b[0m\u001b[0ms\u001b[0m \u001b[1;33m>\u001b[0m \u001b[0meps\u001b[0m\u001b[1;33m]\u001b[0m\u001b[1;33m\u001b[0m\u001b[1;33m\u001b[0m\u001b[0m\n\u001b[0;32m    164\u001b[0m         \u001b[1;32mif\u001b[0m \u001b[0mlen\u001b[0m\u001b[1;33m(\u001b[0m\u001b[0md\u001b[0m\u001b[1;33m)\u001b[0m \u001b[1;33m<\u001b[0m \u001b[0mlen\u001b[0m\u001b[1;33m(\u001b[0m\u001b[0ms\u001b[0m\u001b[1;33m)\u001b[0m \u001b[1;32mand\u001b[0m \u001b[1;32mnot\u001b[0m \u001b[0mallow_singular\u001b[0m\u001b[1;33m:\u001b[0m\u001b[1;33m\u001b[0m\u001b[1;33m\u001b[0m\u001b[0m\n",
      "\u001b[1;31mValueError\u001b[0m: the input matrix must be positive semidefinite"
     ]
    }
   ],
   "source": [
    "# Create a rv according to the parameters\n",
    "rv = scipy.stats.multivariate_normal(μ, Σ)\n",
    "\n",
    "# Create grid for plot\n",
    "domain = numpy.array([\n",
    "    [x.mean() - 3*x.std(), x.mean() + 3*x.std()],\n",
    "    [y.mean() - 3*y.std(), y.mean() + 3*y.std()],\n",
    "])\n",
    "xv, yv = numpy.meshgrid(\n",
    "    numpy.linspace(domain[0][0],domain[0][1],500), \n",
    "    numpy.linspace(domain[1][0],domain[1][1],500))\n",
    "\n",
    "grid_coord = numpy.dstack((xv, yv))\n",
    "prob_coord = rv.pdf(grid_coord)\n",
    "\n",
    "# Make a 2d contoutplot\n",
    "fig, ax = pyplot.subplots(nrows=1, ncols=1, figsize=(6, 6))\n",
    "contour = ax.contourf(xv, yv, prob_coord, cmap=pyplot.rcParams['image.cmap'])\n",
    "pyplot.show()"
   ]
  },
  {
   "cell_type": "markdown",
   "id": "8062f253-c306-43a7-b5c8-9bdff0c7e499",
   "metadata": {},
   "source": [
    "## Plot Conditional Probability"
   ]
  },
  {
   "cell_type": "markdown",
   "id": "7b1dacd5-903a-4d04-a996-8a3ca18b5f09",
   "metadata": {},
   "source": [
    "Now assume we wanted to predict $Y$ given $X$ is equal to some arbitrary value such that  $X=x$."
   ]
  },
  {
   "cell_type": "code",
   "execution_count": 542,
   "id": "8fa16278-fc4f-4b55-8bc5-54cb27b836a5",
   "metadata": {},
   "outputs": [
    {
     "data": {
      "text/plain": [
       "array([[0.41336791, 0.91137844],\n",
       "       [0.91137844, 3.25202892]])"
      ]
     },
     "execution_count": 542,
     "metadata": {},
     "output_type": "execute_result"
    }
   ],
   "source": [
    "Σ = numpy.cov(x.T, y.T)\n",
    "Σ"
   ]
  },
  {
   "cell_type": "code",
   "execution_count": 543,
   "id": "c0e6a047-0c96-475c-bdf4-3cb5d3dde430",
   "metadata": {},
   "outputs": [],
   "source": [
    "Σ11 = Σ[0][0].reshape(-1, 1)\n",
    "Σ12 = Σ[0][1].reshape(-1, 1)\n",
    "Σ22 = Σ[1][1].reshape(-1, 1)"
   ]
  },
  {
   "cell_type": "code",
   "execution_count": 534,
   "id": "75ee5f52-1aa6-4488-af3e-a944f2600408",
   "metadata": {},
   "outputs": [],
   "source": [
    "Σ11 = (x - x.mean()) @ (x - x.mean()).T\n",
    "Σ12 = (x - x.mean()) @ (y - y.mean()).T"
   ]
  },
  {
   "cell_type": "code",
   "execution_count": 544,
   "id": "5d789661-b2fe-4cb9-abb1-192c456567a8",
   "metadata": {},
   "outputs": [],
   "source": [
    "Σ12_Σ11 = scipy.linalg.solve(Σ11, Σ12, assume_a='pos').T"
   ]
  },
  {
   "cell_type": "code",
   "execution_count": 545,
   "id": "53879f56-82b1-495c-b544-12b019b6889c",
   "metadata": {},
   "outputs": [],
   "source": [
    "# Calculate conditional parameters\n",
    "μ1 = 0\n",
    "μ2 = 0"
   ]
  },
  {
   "cell_type": "code",
   "execution_count": 546,
   "id": "5f54ba23-de21-4121-b61f-b61511da79ef",
   "metadata": {},
   "outputs": [
    {
     "data": {
      "text/plain": [
       "array([[ 1.36409774,  4.11645499, -1.08932942, -2.4491085 , -1.659271  ,\n",
       "         1.97335272,  0.82635944, -1.45674068, -1.83044283, -1.52721188]])"
      ]
     },
     "execution_count": 546,
     "metadata": {},
     "output_type": "execute_result"
    }
   ],
   "source": [
    "μ_2_given_1 = μ2 + Σ12_Σ11 @ (y1 - μ1).T\n",
    "μ_2_given_1"
   ]
  },
  {
   "cell_type": "code",
   "execution_count": 547,
   "id": "eb75e496-0abe-4b43-b872-c31688d6540c",
   "metadata": {},
   "outputs": [
    {
     "data": {
      "text/plain": [
       "array([[1.24265508]])"
      ]
     },
     "execution_count": 547,
     "metadata": {},
     "output_type": "execute_result"
    }
   ],
   "source": [
    "Σ_2_given_1 = Σ22 - (Σ12_Σ11 @ Σ12)\n",
    "Σ_2_given_1"
   ]
  },
  {
   "cell_type": "code",
   "execution_count": null,
   "id": "6973e590-e9fa-46bc-807c-75bcd42546e2",
   "metadata": {},
   "outputs": [],
   "source": []
  },
  {
   "cell_type": "code",
   "execution_count": 498,
   "id": "d02d7f90-67e7-470e-8b3e-2d2f181b549c",
   "metadata": {},
   "outputs": [],
   "source": []
  },
  {
   "cell_type": "code",
   "execution_count": 548,
   "id": "b356d2ba-7f48-4fc0-b505-b9072434ef5f",
   "metadata": {},
   "outputs": [
    {
     "ename": "ValueError",
     "evalue": "mean and cov must have same length",
     "output_type": "error",
     "traceback": [
      "\u001b[1;31m---------------------------------------------------------------------------\u001b[0m",
      "\u001b[1;31mValueError\u001b[0m                                Traceback (most recent call last)",
      "\u001b[1;32m<ipython-input-548-2ffbcd5aaf20>\u001b[0m in \u001b[0;36m<module>\u001b[1;34m\u001b[0m\n\u001b[1;32m----> 1\u001b[1;33m \u001b[0my2\u001b[0m \u001b[1;33m=\u001b[0m \u001b[0mnumpy\u001b[0m\u001b[1;33m.\u001b[0m\u001b[0mrandom\u001b[0m\u001b[1;33m.\u001b[0m\u001b[0mmultivariate_normal\u001b[0m\u001b[1;33m(\u001b[0m\u001b[0mmean\u001b[0m\u001b[1;33m=\u001b[0m\u001b[0mμ_2_given_1\u001b[0m\u001b[1;33m.\u001b[0m\u001b[0mflatten\u001b[0m\u001b[1;33m(\u001b[0m\u001b[1;33m)\u001b[0m\u001b[1;33m,\u001b[0m \u001b[0mcov\u001b[0m\u001b[1;33m=\u001b[0m\u001b[0mΣ_2_given_1\u001b[0m\u001b[1;33m,\u001b[0m \u001b[0msize\u001b[0m\u001b[1;33m=\u001b[0m\u001b[1;36m5\u001b[0m\u001b[1;33m)\u001b[0m\u001b[1;33m\u001b[0m\u001b[1;33m\u001b[0m\u001b[0m\n\u001b[0m\u001b[0;32m      2\u001b[0m \u001b[0my2\u001b[0m\u001b[1;33m\u001b[0m\u001b[1;33m\u001b[0m\u001b[0m\n",
      "\u001b[1;32mmtrand.pyx\u001b[0m in \u001b[0;36mnumpy.random.mtrand.RandomState.multivariate_normal\u001b[1;34m()\u001b[0m\n",
      "\u001b[1;31mValueError\u001b[0m: mean and cov must have same length"
     ]
    }
   ],
   "source": [
    "y2 = numpy.random.multivariate_normal(mean=μ_2_given_1.flatten(), cov=Σ_2_given_1, size=5)\n",
    "y2"
   ]
  },
  {
   "cell_type": "code",
   "execution_count": null,
   "id": "f3dce1ea-98e4-4540-a95d-3240ca7e8e42",
   "metadata": {},
   "outputs": [],
   "source": [
    "# Plot some samples from this function\n",
    "fig, ax = pyplot.subplots(nrows=1, ncols=1, figsize=(6, 6))\n",
    "ax.plot(f_x, f_y, c='black')\n",
    "ax.scatter(x1, y1, c='blue')\n",
    "ax.scatter(x2, y2[0], c='orange')\n",
    "ax.scatter(x2, y2[1], c='orange')\n",
    "ax.scatter(x2, y2[2], c='orange')\n",
    "ax.scatter(x2, y2[3], c='orange')\n",
    "ax.scatter(x2, y2[4], c='orange')\n",
    "ax.scatter(x2, numpy.sin(x2), c='black')\n",
    "ax.scatter(x2, μ_2_given_1, c='green', marker='s')\n",
    "pyplot.show()"
   ]
  },
  {
   "cell_type": "code",
   "execution_count": null,
   "id": "657e5a96-8bcc-4a76-ac67-512fc5cedde1",
   "metadata": {},
   "outputs": [],
   "source": []
  },
  {
   "cell_type": "code",
   "execution_count": null,
   "id": "37c3e0a1-789d-4f81-895f-95734f32ac73",
   "metadata": {},
   "outputs": [],
   "source": []
  },
  {
   "cell_type": "code",
   "execution_count": null,
   "id": "0876fce6-d37f-42a4-8481-cdde8ce8fdf6",
   "metadata": {},
   "outputs": [],
   "source": []
  },
  {
   "cell_type": "markdown",
   "id": "ce0ccebe-b844-4259-8895-3f4188a82433",
   "metadata": {},
   "source": [
    "# Look at kernels"
   ]
  },
  {
   "cell_type": "code",
   "execution_count": 296,
   "id": "0503056b-75df-4dc5-ac82-2af9a0c0618d",
   "metadata": {},
   "outputs": [],
   "source": [
    "def exponentiated_quadratic(xa, xb):\n",
    "    \"\"\"Exponentiated quadratic  with σ=1\"\"\"\n",
    "    # L2 distance (Squared Euclidian)\n",
    "    sq_norm = -0.5 * scipy.spatial.distance.cdist(xa, xb, 'sqeuclidean')\n",
    "    return numpy.exp(sq_norm)"
   ]
  },
  {
   "cell_type": "code",
   "execution_count": 376,
   "id": "4e735042-0227-4447-a617-51221d2ff28e",
   "metadata": {},
   "outputs": [
    {
     "name": "stdout",
     "output_type": "stream",
     "text": [
      "(10, 1)\n",
      "2\n",
      "(10, 10)\n",
      "2\n"
     ]
    }
   ],
   "source": [
    "μ1 = numpy.zeros(shape=(10,1))\n",
    "print(μ1.shape)\n",
    "print(μ1.ndim)\n",
    "Σ11 = exponentiated_quadratic(x1,x1)\n",
    "print(Σ11.shape)\n",
    "print(Σ11.ndim)"
   ]
  },
  {
   "cell_type": "code",
   "execution_count": 377,
   "id": "933b0e0e-80e3-4af1-b870-e29a2bbafe6f",
   "metadata": {},
   "outputs": [
    {
     "data": {
      "text/html": [
       "<div>\n",
       "<style scoped>\n",
       "    .dataframe tbody tr th:only-of-type {\n",
       "        vertical-align: middle;\n",
       "    }\n",
       "\n",
       "    .dataframe tbody tr th {\n",
       "        vertical-align: top;\n",
       "    }\n",
       "\n",
       "    .dataframe thead th {\n",
       "        text-align: right;\n",
       "    }\n",
       "</style>\n",
       "<table border=\"1\" class=\"dataframe\">\n",
       "  <thead>\n",
       "    <tr style=\"text-align: right;\">\n",
       "      <th></th>\n",
       "      <th>0</th>\n",
       "      <th>1</th>\n",
       "      <th>2</th>\n",
       "      <th>3</th>\n",
       "      <th>4</th>\n",
       "      <th>5</th>\n",
       "      <th>6</th>\n",
       "      <th>7</th>\n",
       "      <th>8</th>\n",
       "      <th>9</th>\n",
       "    </tr>\n",
       "  </thead>\n",
       "  <tbody>\n",
       "    <tr>\n",
       "      <th>0</th>\n",
       "      <td>1.000000</td>\n",
       "      <td>3.378616e-04</td>\n",
       "      <td>0.989993</td>\n",
       "      <td>0.002734</td>\n",
       "      <td>5.793554e-01</td>\n",
       "      <td>1.414675e-03</td>\n",
       "      <td>2.365810e-01</td>\n",
       "      <td>0.057641</td>\n",
       "      <td>1.308275e-04</td>\n",
       "      <td>0.862385</td>\n",
       "    </tr>\n",
       "    <tr>\n",
       "      <th>1</th>\n",
       "      <td>0.000338</td>\n",
       "      <td>1.000000e+00</td>\n",
       "      <td>0.000190</td>\n",
       "      <td>0.853683</td>\n",
       "      <td>3.002131e-06</td>\n",
       "      <td>9.318128e-01</td>\n",
       "      <td>9.004196e-08</td>\n",
       "      <td>0.273928</td>\n",
       "      <td>9.737527e-01</td>\n",
       "      <td>0.002566</td>\n",
       "    </tr>\n",
       "    <tr>\n",
       "      <th>2</th>\n",
       "      <td>0.989993</td>\n",
       "      <td>1.897152e-04</td>\n",
       "      <td>1.000000</td>\n",
       "      <td>0.001662</td>\n",
       "      <td>6.651711e-01</td>\n",
       "      <td>8.378551e-04</td>\n",
       "      <td>2.979852e-01</td>\n",
       "      <td>0.040665</td>\n",
       "      <td>7.109780e-05</td>\n",
       "      <td>0.790344</td>\n",
       "    </tr>\n",
       "    <tr>\n",
       "      <th>3</th>\n",
       "      <td>0.002734</td>\n",
       "      <td>8.536831e-01</td>\n",
       "      <td>0.001662</td>\n",
       "      <td>1.000000</td>\n",
       "      <td>4.371857e-05</td>\n",
       "      <td>9.827303e-01</td>\n",
       "      <td>1.893301e-06</td>\n",
       "      <td>0.578169</td>\n",
       "      <td>7.301347e-01</td>\n",
       "      <td>0.015289</td>\n",
       "    </tr>\n",
       "    <tr>\n",
       "      <th>4</th>\n",
       "      <td>0.579355</td>\n",
       "      <td>3.002131e-06</td>\n",
       "      <td>0.665171</td>\n",
       "      <td>0.000044</td>\n",
       "      <td>1.000000e+00</td>\n",
       "      <td>1.861595e-05</td>\n",
       "      <td>8.079460e-01</td>\n",
       "      <td>0.002752</td>\n",
       "      <td>9.135503e-07</td>\n",
       "      <td>0.282961</td>\n",
       "    </tr>\n",
       "    <tr>\n",
       "      <th>5</th>\n",
       "      <td>0.001415</td>\n",
       "      <td>9.318128e-01</td>\n",
       "      <td>0.000838</td>\n",
       "      <td>0.982730</td>\n",
       "      <td>1.861595e-05</td>\n",
       "      <td>1.000000e+00</td>\n",
       "      <td>7.136694e-07</td>\n",
       "      <td>0.467338</td>\n",
       "      <td>8.320164e-01</td>\n",
       "      <td>0.008758</td>\n",
       "    </tr>\n",
       "    <tr>\n",
       "      <th>6</th>\n",
       "      <td>0.236581</td>\n",
       "      <td>9.004196e-08</td>\n",
       "      <td>0.297985</td>\n",
       "      <td>0.000002</td>\n",
       "      <td>8.079460e-01</td>\n",
       "      <td>7.136694e-07</td>\n",
       "      <td>1.000000e+00</td>\n",
       "      <td>0.000236</td>\n",
       "      <td>2.356842e-08</td>\n",
       "      <td>0.080988</td>\n",
       "    </tr>\n",
       "    <tr>\n",
       "      <th>7</th>\n",
       "      <td>0.057641</td>\n",
       "      <td>2.739278e-01</td>\n",
       "      <td>0.040665</td>\n",
       "      <td>0.578169</td>\n",
       "      <td>2.752085e-03</td>\n",
       "      <td>4.673383e-01</td>\n",
       "      <td>2.361126e-04</td>\n",
       "      <td>1.000000</td>\n",
       "      <td>1.840299e-01</td>\n",
       "      <td>0.182390</td>\n",
       "    </tr>\n",
       "    <tr>\n",
       "      <th>8</th>\n",
       "      <td>0.000131</td>\n",
       "      <td>9.737527e-01</td>\n",
       "      <td>0.000071</td>\n",
       "      <td>0.730135</td>\n",
       "      <td>9.135503e-07</td>\n",
       "      <td>8.320164e-01</td>\n",
       "      <td>2.356842e-08</td>\n",
       "      <td>0.184030</td>\n",
       "      <td>1.000000e+00</td>\n",
       "      <td>0.001127</td>\n",
       "    </tr>\n",
       "    <tr>\n",
       "      <th>9</th>\n",
       "      <td>0.862385</td>\n",
       "      <td>2.566352e-03</td>\n",
       "      <td>0.790344</td>\n",
       "      <td>0.015289</td>\n",
       "      <td>2.829610e-01</td>\n",
       "      <td>8.758239e-03</td>\n",
       "      <td>8.098816e-02</td>\n",
       "      <td>0.182390</td>\n",
       "      <td>1.126634e-03</td>\n",
       "      <td>1.000000</td>\n",
       "    </tr>\n",
       "  </tbody>\n",
       "</table>\n",
       "</div>"
      ],
      "text/plain": [
       "          0             1         2         3             4             5  \\\n",
       "0  1.000000  3.378616e-04  0.989993  0.002734  5.793554e-01  1.414675e-03   \n",
       "1  0.000338  1.000000e+00  0.000190  0.853683  3.002131e-06  9.318128e-01   \n",
       "2  0.989993  1.897152e-04  1.000000  0.001662  6.651711e-01  8.378551e-04   \n",
       "3  0.002734  8.536831e-01  0.001662  1.000000  4.371857e-05  9.827303e-01   \n",
       "4  0.579355  3.002131e-06  0.665171  0.000044  1.000000e+00  1.861595e-05   \n",
       "5  0.001415  9.318128e-01  0.000838  0.982730  1.861595e-05  1.000000e+00   \n",
       "6  0.236581  9.004196e-08  0.297985  0.000002  8.079460e-01  7.136694e-07   \n",
       "7  0.057641  2.739278e-01  0.040665  0.578169  2.752085e-03  4.673383e-01   \n",
       "8  0.000131  9.737527e-01  0.000071  0.730135  9.135503e-07  8.320164e-01   \n",
       "9  0.862385  2.566352e-03  0.790344  0.015289  2.829610e-01  8.758239e-03   \n",
       "\n",
       "              6         7             8         9  \n",
       "0  2.365810e-01  0.057641  1.308275e-04  0.862385  \n",
       "1  9.004196e-08  0.273928  9.737527e-01  0.002566  \n",
       "2  2.979852e-01  0.040665  7.109780e-05  0.790344  \n",
       "3  1.893301e-06  0.578169  7.301347e-01  0.015289  \n",
       "4  8.079460e-01  0.002752  9.135503e-07  0.282961  \n",
       "5  7.136694e-07  0.467338  8.320164e-01  0.008758  \n",
       "6  1.000000e+00  0.000236  2.356842e-08  0.080988  \n",
       "7  2.361126e-04  1.000000  1.840299e-01  0.182390  \n",
       "8  2.356842e-08  0.184030  1.000000e+00  0.001127  \n",
       "9  8.098816e-02  0.182390  1.126634e-03  1.000000  "
      ]
     },
     "execution_count": 377,
     "metadata": {},
     "output_type": "execute_result"
    }
   ],
   "source": [
    "pandas.DataFrame(Σ11)"
   ]
  },
  {
   "cell_type": "code",
   "execution_count": null,
   "id": "7042b242-9499-4621-9d4a-335ddea5a2af",
   "metadata": {},
   "outputs": [],
   "source": []
  },
  {
   "cell_type": "code",
   "execution_count": 398,
   "id": "0e82d3bd-c19c-4370-806d-938c98b0376c",
   "metadata": {},
   "outputs": [
    {
     "data": {
      "text/html": [
       "<div>\n",
       "<style scoped>\n",
       "    .dataframe tbody tr th:only-of-type {\n",
       "        vertical-align: middle;\n",
       "    }\n",
       "\n",
       "    .dataframe tbody tr th {\n",
       "        vertical-align: top;\n",
       "    }\n",
       "\n",
       "    .dataframe thead th {\n",
       "        text-align: right;\n",
       "    }\n",
       "</style>\n",
       "<table border=\"1\" class=\"dataframe\">\n",
       "  <thead>\n",
       "    <tr style=\"text-align: right;\">\n",
       "      <th></th>\n",
       "      <th>0</th>\n",
       "      <th>1</th>\n",
       "      <th>2</th>\n",
       "      <th>3</th>\n",
       "      <th>4</th>\n",
       "      <th>5</th>\n",
       "      <th>6</th>\n",
       "      <th>7</th>\n",
       "      <th>8</th>\n",
       "      <th>9</th>\n",
       "    </tr>\n",
       "  </thead>\n",
       "  <tbody>\n",
       "    <tr>\n",
       "      <th>0</th>\n",
       "      <td>0.174247</td>\n",
       "      <td>-0.150806</td>\n",
       "      <td>0.298673</td>\n",
       "      <td>-0.158770</td>\n",
       "      <td>0.232219</td>\n",
       "      <td>-0.254799</td>\n",
       "      <td>0.350760</td>\n",
       "      <td>-0.463246</td>\n",
       "      <td>-0.123356</td>\n",
       "      <td>0.095080</td>\n",
       "    </tr>\n",
       "    <tr>\n",
       "      <th>1</th>\n",
       "      <td>-0.150806</td>\n",
       "      <td>0.130519</td>\n",
       "      <td>-0.258494</td>\n",
       "      <td>0.137412</td>\n",
       "      <td>-0.200980</td>\n",
       "      <td>0.220522</td>\n",
       "      <td>-0.303574</td>\n",
       "      <td>0.400928</td>\n",
       "      <td>0.106762</td>\n",
       "      <td>-0.082289</td>\n",
       "    </tr>\n",
       "    <tr>\n",
       "      <th>2</th>\n",
       "      <td>0.298673</td>\n",
       "      <td>-0.258494</td>\n",
       "      <td>0.511949</td>\n",
       "      <td>-0.272145</td>\n",
       "      <td>0.398042</td>\n",
       "      <td>-0.436746</td>\n",
       "      <td>0.601230</td>\n",
       "      <td>-0.794040</td>\n",
       "      <td>-0.211443</td>\n",
       "      <td>0.162975</td>\n",
       "    </tr>\n",
       "    <tr>\n",
       "      <th>3</th>\n",
       "      <td>-0.158770</td>\n",
       "      <td>0.137412</td>\n",
       "      <td>-0.272145</td>\n",
       "      <td>0.144669</td>\n",
       "      <td>-0.211594</td>\n",
       "      <td>0.232168</td>\n",
       "      <td>-0.319606</td>\n",
       "      <td>0.422101</td>\n",
       "      <td>0.112400</td>\n",
       "      <td>-0.086635</td>\n",
       "    </tr>\n",
       "    <tr>\n",
       "      <th>4</th>\n",
       "      <td>0.232219</td>\n",
       "      <td>-0.200980</td>\n",
       "      <td>0.398042</td>\n",
       "      <td>-0.211594</td>\n",
       "      <td>0.309478</td>\n",
       "      <td>-0.339571</td>\n",
       "      <td>0.467458</td>\n",
       "      <td>-0.617368</td>\n",
       "      <td>-0.164397</td>\n",
       "      <td>0.126713</td>\n",
       "    </tr>\n",
       "    <tr>\n",
       "      <th>5</th>\n",
       "      <td>-0.254799</td>\n",
       "      <td>0.220522</td>\n",
       "      <td>-0.436746</td>\n",
       "      <td>0.232168</td>\n",
       "      <td>-0.339571</td>\n",
       "      <td>0.372589</td>\n",
       "      <td>-0.512912</td>\n",
       "      <td>0.677399</td>\n",
       "      <td>0.180383</td>\n",
       "      <td>-0.139034</td>\n",
       "    </tr>\n",
       "    <tr>\n",
       "      <th>6</th>\n",
       "      <td>0.350760</td>\n",
       "      <td>-0.303574</td>\n",
       "      <td>0.601230</td>\n",
       "      <td>-0.319606</td>\n",
       "      <td>0.467458</td>\n",
       "      <td>-0.512912</td>\n",
       "      <td>0.706081</td>\n",
       "      <td>-0.932517</td>\n",
       "      <td>-0.248317</td>\n",
       "      <td>0.191396</td>\n",
       "    </tr>\n",
       "    <tr>\n",
       "      <th>7</th>\n",
       "      <td>-0.463246</td>\n",
       "      <td>0.400928</td>\n",
       "      <td>-0.794040</td>\n",
       "      <td>0.422101</td>\n",
       "      <td>-0.617368</td>\n",
       "      <td>0.677399</td>\n",
       "      <td>-0.932517</td>\n",
       "      <td>1.231568</td>\n",
       "      <td>0.327951</td>\n",
       "      <td>-0.252776</td>\n",
       "    </tr>\n",
       "    <tr>\n",
       "      <th>8</th>\n",
       "      <td>-0.123356</td>\n",
       "      <td>0.106762</td>\n",
       "      <td>-0.211443</td>\n",
       "      <td>0.112400</td>\n",
       "      <td>-0.164397</td>\n",
       "      <td>0.180383</td>\n",
       "      <td>-0.248317</td>\n",
       "      <td>0.327951</td>\n",
       "      <td>0.087329</td>\n",
       "      <td>-0.067311</td>\n",
       "    </tr>\n",
       "    <tr>\n",
       "      <th>9</th>\n",
       "      <td>0.095080</td>\n",
       "      <td>-0.082289</td>\n",
       "      <td>0.162975</td>\n",
       "      <td>-0.086635</td>\n",
       "      <td>0.126713</td>\n",
       "      <td>-0.139034</td>\n",
       "      <td>0.191396</td>\n",
       "      <td>-0.252776</td>\n",
       "      <td>-0.067311</td>\n",
       "      <td>0.051882</td>\n",
       "    </tr>\n",
       "  </tbody>\n",
       "</table>\n",
       "</div>"
      ],
      "text/plain": [
       "          0         1         2         3         4         5         6  \\\n",
       "0  0.174247 -0.150806  0.298673 -0.158770  0.232219 -0.254799  0.350760   \n",
       "1 -0.150806  0.130519 -0.258494  0.137412 -0.200980  0.220522 -0.303574   \n",
       "2  0.298673 -0.258494  0.511949 -0.272145  0.398042 -0.436746  0.601230   \n",
       "3 -0.158770  0.137412 -0.272145  0.144669 -0.211594  0.232168 -0.319606   \n",
       "4  0.232219 -0.200980  0.398042 -0.211594  0.309478 -0.339571  0.467458   \n",
       "5 -0.254799  0.220522 -0.436746  0.232168 -0.339571  0.372589 -0.512912   \n",
       "6  0.350760 -0.303574  0.601230 -0.319606  0.467458 -0.512912  0.706081   \n",
       "7 -0.463246  0.400928 -0.794040  0.422101 -0.617368  0.677399 -0.932517   \n",
       "8 -0.123356  0.106762 -0.211443  0.112400 -0.164397  0.180383 -0.248317   \n",
       "9  0.095080 -0.082289  0.162975 -0.086635  0.126713 -0.139034  0.191396   \n",
       "\n",
       "          7         8         9  \n",
       "0 -0.463246 -0.123356  0.095080  \n",
       "1  0.400928  0.106762 -0.082289  \n",
       "2 -0.794040 -0.211443  0.162975  \n",
       "3  0.422101  0.112400 -0.086635  \n",
       "4 -0.617368 -0.164397  0.126713  \n",
       "5  0.677399  0.180383 -0.139034  \n",
       "6 -0.932517 -0.248317  0.191396  \n",
       "7  1.231568  0.327951 -0.252776  \n",
       "8  0.327951  0.087329 -0.067311  \n",
       "9 -0.252776 -0.067311  0.051882  "
      ]
     },
     "execution_count": 398,
     "metadata": {},
     "output_type": "execute_result"
    }
   ],
   "source": [
    "Σ11_2 = (x - x.mean()).reshape(-1,1) @ (x - x.mean()).reshape(-1,1).T\n",
    "pandas.DataFrame(Σ11_2)"
   ]
  },
  {
   "cell_type": "code",
   "execution_count": 400,
   "id": "47e5bf49-a637-4fc3-b73a-05be033d44f0",
   "metadata": {},
   "outputs": [
    {
     "data": {
      "text/plain": [
       "array([[-0.22204442,  1.15370819, -0.42764216,  1.23521537, -1.06854082,\n",
       "         1.18681031, -0.80006253,  1.56831719,  1.15302444,  0.64326981],\n",
       "       [-0.21085882, -2.19429496, -0.31161835, -1.46490123, -0.33269309,\n",
       "        -1.80921073,  0.268644  ,  0.512335  , -2.12057837,  0.10440183],\n",
       "       [-1.15934062,  0.2602689 , -1.04614455,  0.7227002 ,  0.43998831,\n",
       "         0.56116806,  0.76210307,  1.17300825,  0.09956613, -0.99921971],\n",
       "       [-1.15312967, -0.39623419, -1.03356169, -0.24569295, -0.24585595,\n",
       "        -0.30805854,  0.23551112, -0.18609466, -0.4125853 , -1.26062755],\n",
       "       [ 0.03292113,  1.19836903, -0.02922389,  1.27311446, -0.59283336,\n",
       "         1.41417333, -0.26206067, -0.97902048,  0.84209951, -0.09697832]])"
      ]
     },
     "execution_count": 400,
     "metadata": {},
     "output_type": "execute_result"
    }
   ],
   "source": [
    "y2_11 = numpy.random.multivariate_normal(mean=μ1.flatten(), cov=Σ11, size=5)\n",
    "y2_11"
   ]
  },
  {
   "cell_type": "code",
   "execution_count": 401,
   "id": "d21171d6-d9fb-4e22-b710-bc06b9f75692",
   "metadata": {},
   "outputs": [
    {
     "data": {
      "text/plain": [
       "array([[ 0.3658738 , -0.31665473,  0.6271368 , -0.33337758,  0.48760046,\n",
       "        -0.53501283,  0.73650612, -0.97269843, -0.25901719,  0.19964363],\n",
       "       [ 0.10754557, -0.09307803,  0.18434165, -0.09799357,  0.1433261 ,\n",
       "        -0.15726257,  0.21648984, -0.28591661, -0.07613595,  0.05868359],\n",
       "       [-0.18747327,  0.16225348, -0.32134408,  0.17082225, -0.24984586,\n",
       "         0.27413991, -0.37738477,  0.49840943,  0.13272009, -0.10229715],\n",
       "       [-0.5612697 ,  0.48576505, -0.96206085,  0.51141878, -0.7480048 ,\n",
       "         0.82073787, -1.12983915,  1.49217062,  0.39734603, -0.30626386],\n",
       "       [ 0.46622671, -0.40350768,  0.79914959, -0.42481732,  0.62134088,\n",
       "        -0.68175765,  0.93851702, -1.23949285, -0.33006116,  0.25440246]])"
      ]
     },
     "execution_count": 401,
     "metadata": {},
     "output_type": "execute_result"
    }
   ],
   "source": [
    "y2_11 = numpy.random.multivariate_normal(mean=μ1.flatten(), cov=Σ11_2, size=5)\n",
    "y2_11"
   ]
  },
  {
   "cell_type": "markdown",
   "id": "cf689943-4880-474f-ac1a-bc61a7f3586e",
   "metadata": {},
   "source": [
    "# Prediction"
   ]
  },
  {
   "cell_type": "code",
   "execution_count": 293,
   "id": "d14be778-3ae1-4cee-a6aa-3db6e86a259d",
   "metadata": {},
   "outputs": [],
   "source": [
    "x2 = numpy.random.uniform(0,1,size=(1,1))"
   ]
  },
  {
   "cell_type": "code",
   "execution_count": 294,
   "id": "b0218e45-0245-4386-a351-1c5aba171038",
   "metadata": {},
   "outputs": [
    {
     "data": {
      "image/png": "[encoded data removed]",
      "text/plain": [
       "<Figure size 432x432 with 1 Axes>"
      ]
     },
     "metadata": {
      "needs_background": "light"
     },
     "output_type": "display_data"
    }
   ],
   "source": [
    "fig, ax = pyplot.subplots(nrows=1, ncols=1, figsize=(6, 6))\n",
    "ax.scatter(x1, x1, facecolors='none', edgecolors='r');\n",
    "ax.scatter(x2, x2, c='black', marker='+',s=80);"
   ]
  },
  {
   "cell_type": "code",
   "execution_count": null,
   "id": "cb6ac92e-8e9c-4993-8bba-f6178c2058f9",
   "metadata": {},
   "outputs": [],
   "source": []
  },
  {
   "cell_type": "markdown",
   "id": "1f203b70-350e-436d-8d05-bfe31f9d2bac",
   "metadata": {},
   "source": [
    "We want to predict the new (x,y) point. So we assert that if it is close to an existing x-value, it will be close to an existing y-value.\n",
    "\n",
    "We can use the conditional normal distribution to approximate the set of possible values. It requires knowledge of the mean and variance. We do not have these for y-hat because it is unknown. We do know x-hat however.\n",
    "\n",
    "So if we assert some relationship between the distances of the points we can approximate the mean and variance for y-hat, plug them into the function and come up with an estimate.\n",
    "\n",
    "The question of whether the approximation was good or not is a separate conversation. There are techniques for calibrating. We can also select different kernels."
   ]
  },
  {
   "cell_type": "code",
   "execution_count": null,
   "id": "ef4a513b-03d0-4aac-8ff3-06aa2acdd7ef",
   "metadata": {},
   "outputs": [],
   "source": []
  },
  {
   "cell_type": "code",
   "execution_count": null,
   "id": "993d3d5e-011d-43dd-b31d-e10ac73b7f66",
   "metadata": {},
   "outputs": [],
   "source": []
  },
  {
   "cell_type": "code",
   "execution_count": 82,
   "id": "23bb7885-81ac-4979-9b88-464f8fb165da",
   "metadata": {},
   "outputs": [
    {
     "data": {
      "text/plain": [
       "array([[0.76161962, 0.23763754, 0.72821635, 0.36778313, 0.63230583,\n",
       "        0.63352971, 0.53577468, 0.09028977, 0.8353025 , 0.32078006],\n",
       "       [0.76161962, 0.23763754, 0.72821635, 0.36778313, 0.63230583,\n",
       "        0.63352971, 0.53577468, 0.09028977, 0.8353025 , 0.32078006]])"
      ]
     },
     "execution_count": 82,
     "metadata": {},
     "output_type": "execute_result"
    }
   ],
   "source": [
    "X = numpy.stack((x1.flatten(), x1.flatten()), axis=1).T\n",
    "X"
   ]
  },
  {
   "cell_type": "code",
   "execution_count": 88,
   "id": "a0bc6a1f-7b51-4a8e-a751-fb1dd63f0abe",
   "metadata": {},
   "outputs": [
    {
     "data": {
      "text/html": [
       "<div>\n",
       "<style scoped>\n",
       "    .dataframe tbody tr th:only-of-type {\n",
       "        vertical-align: middle;\n",
       "    }\n",
       "\n",
       "    .dataframe tbody tr th {\n",
       "        vertical-align: top;\n",
       "    }\n",
       "\n",
       "    .dataframe thead th {\n",
       "        text-align: right;\n",
       "    }\n",
       "</style>\n",
       "<table border=\"1\" class=\"dataframe\">\n",
       "  <thead>\n",
       "    <tr style=\"text-align: right;\">\n",
       "      <th></th>\n",
       "      <th>0</th>\n",
       "      <th>1</th>\n",
       "    </tr>\n",
       "  </thead>\n",
       "  <tbody>\n",
       "    <tr>\n",
       "      <th>0</th>\n",
       "      <td>0.061535</td>\n",
       "      <td>0.061535</td>\n",
       "    </tr>\n",
       "    <tr>\n",
       "      <th>1</th>\n",
       "      <td>0.061535</td>\n",
       "      <td>0.061535</td>\n",
       "    </tr>\n",
       "  </tbody>\n",
       "</table>\n",
       "</div>"
      ],
      "text/plain": [
       "          0         1\n",
       "0  0.061535  0.061535\n",
       "1  0.061535  0.061535"
      ]
     },
     "execution_count": 88,
     "metadata": {},
     "output_type": "execute_result"
    }
   ],
   "source": [
    "pandas.DataFrame(numpy.cov(x1.flatten(), x1.flatten()))"
   ]
  },
  {
   "cell_type": "code",
   "execution_count": 123,
   "id": "1bac9eed-7906-41cc-92fa-0b2f85c74475",
   "metadata": {},
   "outputs": [
    {
     "data": {
      "text/plain": [
       "array([[0.06115516],\n",
       "       [0.07655535],\n",
       "       [0.04574997],\n",
       "       [0.0214742 ],\n",
       "       [0.01391973],\n",
       "       [0.01421002],\n",
       "       [0.00046014],\n",
       "       [0.17980496],\n",
       "       [0.10302725],\n",
       "       [0.03745922]])"
      ]
     },
     "execution_count": 123,
     "metadata": {},
     "output_type": "execute_result"
    }
   ],
   "source": [
    "def my_cov(X,Y):\n",
    "    return (X - X.mean())*(Y - Y.mean())\n",
    "\n",
    "my_cov(x1, x1)"
   ]
  },
  {
   "cell_type": "code",
   "execution_count": null,
   "id": "884d685f-cca0-4626-9afa-ad0617aaa2ad",
   "metadata": {},
   "outputs": [],
   "source": []
  },
  {
   "cell_type": "code",
   "execution_count": 89,
   "id": "259f70ba-3253-4466-b513-947326dda68b",
   "metadata": {},
   "outputs": [
    {
     "ename": "ValueError",
     "evalue": "all the input array dimensions for the concatenation axis must match exactly, but along dimension 1, the array at index 0 has size 10 and the array at index 1 has size 1",
     "output_type": "error",
     "traceback": [
      "\u001b[1;31m---------------------------------------------------------------------------\u001b[0m",
      "\u001b[1;31mValueError\u001b[0m                                Traceback (most recent call last)",
      "\u001b[1;32m<ipython-input-89-f25b18024566>\u001b[0m in \u001b[0;36m<module>\u001b[1;34m\u001b[0m\n\u001b[1;32m----> 1\u001b[1;33m \u001b[0mpandas\u001b[0m\u001b[1;33m.\u001b[0m\u001b[0mDataFrame\u001b[0m\u001b[1;33m(\u001b[0m\u001b[0mnumpy\u001b[0m\u001b[1;33m.\u001b[0m\u001b[0mcov\u001b[0m\u001b[1;33m(\u001b[0m\u001b[0mx1\u001b[0m\u001b[1;33m.\u001b[0m\u001b[0mflatten\u001b[0m\u001b[1;33m(\u001b[0m\u001b[1;33m)\u001b[0m\u001b[1;33m,\u001b[0m \u001b[0mx2\u001b[0m\u001b[1;33m.\u001b[0m\u001b[0mflatten\u001b[0m\u001b[1;33m(\u001b[0m\u001b[1;33m)\u001b[0m\u001b[1;33m)\u001b[0m\u001b[1;33m)\u001b[0m\u001b[1;33m\u001b[0m\u001b[1;33m\u001b[0m\u001b[0m\n\u001b[0m",
      "\u001b[1;32m<__array_function__ internals>\u001b[0m in \u001b[0;36mcov\u001b[1;34m(*args, **kwargs)\u001b[0m\n",
      "\u001b[1;32mc:\\program files\\python36\\lib\\site-packages\\numpy\\lib\\function_base.py\u001b[0m in \u001b[0;36mcov\u001b[1;34m(m, y, rowvar, bias, ddof, fweights, aweights)\u001b[0m\n\u001b[0;32m   2413\u001b[0m         \u001b[1;32mif\u001b[0m \u001b[1;32mnot\u001b[0m \u001b[0mrowvar\u001b[0m \u001b[1;32mand\u001b[0m \u001b[0my\u001b[0m\u001b[1;33m.\u001b[0m\u001b[0mshape\u001b[0m\u001b[1;33m[\u001b[0m\u001b[1;36m0\u001b[0m\u001b[1;33m]\u001b[0m \u001b[1;33m!=\u001b[0m \u001b[1;36m1\u001b[0m\u001b[1;33m:\u001b[0m\u001b[1;33m\u001b[0m\u001b[1;33m\u001b[0m\u001b[0m\n\u001b[0;32m   2414\u001b[0m             \u001b[0my\u001b[0m \u001b[1;33m=\u001b[0m \u001b[0my\u001b[0m\u001b[1;33m.\u001b[0m\u001b[0mT\u001b[0m\u001b[1;33m\u001b[0m\u001b[1;33m\u001b[0m\u001b[0m\n\u001b[1;32m-> 2415\u001b[1;33m         \u001b[0mX\u001b[0m \u001b[1;33m=\u001b[0m \u001b[0mnp\u001b[0m\u001b[1;33m.\u001b[0m\u001b[0mconcatenate\u001b[0m\u001b[1;33m(\u001b[0m\u001b[1;33m(\u001b[0m\u001b[0mX\u001b[0m\u001b[1;33m,\u001b[0m \u001b[0my\u001b[0m\u001b[1;33m)\u001b[0m\u001b[1;33m,\u001b[0m \u001b[0maxis\u001b[0m\u001b[1;33m=\u001b[0m\u001b[1;36m0\u001b[0m\u001b[1;33m)\u001b[0m\u001b[1;33m\u001b[0m\u001b[1;33m\u001b[0m\u001b[0m\n\u001b[0m\u001b[0;32m   2416\u001b[0m \u001b[1;33m\u001b[0m\u001b[0m\n\u001b[0;32m   2417\u001b[0m     \u001b[1;32mif\u001b[0m \u001b[0mddof\u001b[0m \u001b[1;32mis\u001b[0m \u001b[1;32mNone\u001b[0m\u001b[1;33m:\u001b[0m\u001b[1;33m\u001b[0m\u001b[1;33m\u001b[0m\u001b[0m\n",
      "\u001b[1;32m<__array_function__ internals>\u001b[0m in \u001b[0;36mconcatenate\u001b[1;34m(*args, **kwargs)\u001b[0m\n",
      "\u001b[1;31mValueError\u001b[0m: all the input array dimensions for the concatenation axis must match exactly, but along dimension 1, the array at index 0 has size 10 and the array at index 1 has size 1"
     ]
    }
   ],
   "source": [
    "pandas.DataFrame(numpy.cov(x1.flatten(), x2.flatten()))"
   ]
  },
  {
   "cell_type": "code",
   "execution_count": null,
   "id": "d2f27e05-864d-48e9-8cd0-dff39d132302",
   "metadata": {},
   "outputs": [],
   "source": []
  },
  {
   "cell_type": "code",
   "execution_count": 90,
   "id": "e4785b04-3ba2-406a-b0ba-fef736866804",
   "metadata": {},
   "outputs": [],
   "source": [
    "def exponentiated_quadratic(x1, x2):\n",
    "    \"\"\"Exponentiated quadratic  with σ=1\"\"\"\n",
    "    # L2 distance (Squared Euclidian)\n",
    "    sq_norm = -0.5 * scipy.spatial.distance.cdist(x1, x2, 'sqeuclidean')\n",
    "    return numpy.exp(sq_norm)"
   ]
  },
  {
   "cell_type": "code",
   "execution_count": 93,
   "id": "6518f1d9-3d0d-4f9c-b910-d5bca9e567d9",
   "metadata": {},
   "outputs": [
    {
     "data": {
      "text/html": [
       "<div>\n",
       "<style scoped>\n",
       "    .dataframe tbody tr th:only-of-type {\n",
       "        vertical-align: middle;\n",
       "    }\n",
       "\n",
       "    .dataframe tbody tr th {\n",
       "        vertical-align: top;\n",
       "    }\n",
       "\n",
       "    .dataframe thead th {\n",
       "        text-align: right;\n",
       "    }\n",
       "</style>\n",
       "<table border=\"1\" class=\"dataframe\">\n",
       "  <thead>\n",
       "    <tr style=\"text-align: right;\">\n",
       "      <th></th>\n",
       "      <th>0</th>\n",
       "      <th>1</th>\n",
       "      <th>2</th>\n",
       "      <th>3</th>\n",
       "      <th>4</th>\n",
       "      <th>5</th>\n",
       "      <th>6</th>\n",
       "      <th>7</th>\n",
       "      <th>8</th>\n",
       "      <th>9</th>\n",
       "    </tr>\n",
       "  </thead>\n",
       "  <tbody>\n",
       "    <tr>\n",
       "      <th>0</th>\n",
       "      <td>1.000000</td>\n",
       "      <td>0.871727</td>\n",
       "      <td>0.999442</td>\n",
       "      <td>0.925377</td>\n",
       "      <td>0.991674</td>\n",
       "      <td>0.991830</td>\n",
       "      <td>0.974819</td>\n",
       "      <td>0.798243</td>\n",
       "      <td>0.997289</td>\n",
       "      <td>0.907402</td>\n",
       "    </tr>\n",
       "    <tr>\n",
       "      <th>1</th>\n",
       "      <td>0.871727</td>\n",
       "      <td>1.000000</td>\n",
       "      <td>0.886624</td>\n",
       "      <td>0.991567</td>\n",
       "      <td>0.925074</td>\n",
       "      <td>0.924627</td>\n",
       "      <td>0.956530</td>\n",
       "      <td>0.989203</td>\n",
       "      <td>0.836439</td>\n",
       "      <td>0.996550</td>\n",
       "    </tr>\n",
       "    <tr>\n",
       "      <th>2</th>\n",
       "      <td>0.999442</td>\n",
       "      <td>0.886624</td>\n",
       "      <td>1.000000</td>\n",
       "      <td>0.937109</td>\n",
       "      <td>0.995411</td>\n",
       "      <td>0.995527</td>\n",
       "      <td>0.981653</td>\n",
       "      <td>0.815890</td>\n",
       "      <td>0.994283</td>\n",
       "      <td>0.920349</td>\n",
       "    </tr>\n",
       "    <tr>\n",
       "      <th>3</th>\n",
       "      <td>0.925377</td>\n",
       "      <td>0.991567</td>\n",
       "      <td>0.937109</td>\n",
       "      <td>1.000000</td>\n",
       "      <td>0.965619</td>\n",
       "      <td>0.965306</td>\n",
       "      <td>0.985989</td>\n",
       "      <td>0.962230</td>\n",
       "      <td>0.896473</td>\n",
       "      <td>0.998896</td>\n",
       "    </tr>\n",
       "    <tr>\n",
       "      <th>4</th>\n",
       "      <td>0.991674</td>\n",
       "      <td>0.925074</td>\n",
       "      <td>0.995411</td>\n",
       "      <td>0.965619</td>\n",
       "      <td>1.000000</td>\n",
       "      <td>0.999999</td>\n",
       "      <td>0.995352</td>\n",
       "      <td>0.863388</td>\n",
       "      <td>0.979607</td>\n",
       "      <td>0.952634</td>\n",
       "    </tr>\n",
       "    <tr>\n",
       "      <th>5</th>\n",
       "      <td>0.991830</td>\n",
       "      <td>0.924627</td>\n",
       "      <td>0.995527</td>\n",
       "      <td>0.965306</td>\n",
       "      <td>0.999999</td>\n",
       "      <td>1.000000</td>\n",
       "      <td>0.995233</td>\n",
       "      <td>0.862815</td>\n",
       "      <td>0.979850</td>\n",
       "      <td>0.952270</td>\n",
       "    </tr>\n",
       "    <tr>\n",
       "      <th>6</th>\n",
       "      <td>0.974819</td>\n",
       "      <td>0.956530</td>\n",
       "      <td>0.981653</td>\n",
       "      <td>0.985989</td>\n",
       "      <td>0.995352</td>\n",
       "      <td>0.995233</td>\n",
       "      <td>1.000000</td>\n",
       "      <td>0.905536</td>\n",
       "      <td>0.956133</td>\n",
       "      <td>0.977154</td>\n",
       "    </tr>\n",
       "    <tr>\n",
       "      <th>7</th>\n",
       "      <td>0.798243</td>\n",
       "      <td>0.989203</td>\n",
       "      <td>0.815890</td>\n",
       "      <td>0.962230</td>\n",
       "      <td>0.863388</td>\n",
       "      <td>0.862815</td>\n",
       "      <td>0.905536</td>\n",
       "      <td>1.000000</td>\n",
       "      <td>0.757659</td>\n",
       "      <td>0.973787</td>\n",
       "    </tr>\n",
       "    <tr>\n",
       "      <th>8</th>\n",
       "      <td>0.997289</td>\n",
       "      <td>0.836439</td>\n",
       "      <td>0.994283</td>\n",
       "      <td>0.896473</td>\n",
       "      <td>0.979607</td>\n",
       "      <td>0.979850</td>\n",
       "      <td>0.956133</td>\n",
       "      <td>0.757659</td>\n",
       "      <td>1.000000</td>\n",
       "      <td>0.876020</td>\n",
       "    </tr>\n",
       "    <tr>\n",
       "      <th>9</th>\n",
       "      <td>0.907402</td>\n",
       "      <td>0.996550</td>\n",
       "      <td>0.920349</td>\n",
       "      <td>0.998896</td>\n",
       "      <td>0.952634</td>\n",
       "      <td>0.952270</td>\n",
       "      <td>0.977154</td>\n",
       "      <td>0.973787</td>\n",
       "      <td>0.876020</td>\n",
       "      <td>1.000000</td>\n",
       "    </tr>\n",
       "  </tbody>\n",
       "</table>\n",
       "</div>"
      ],
      "text/plain": [
       "          0         1         2         3         4         5         6  \\\n",
       "0  1.000000  0.871727  0.999442  0.925377  0.991674  0.991830  0.974819   \n",
       "1  0.871727  1.000000  0.886624  0.991567  0.925074  0.924627  0.956530   \n",
       "2  0.999442  0.886624  1.000000  0.937109  0.995411  0.995527  0.981653   \n",
       "3  0.925377  0.991567  0.937109  1.000000  0.965619  0.965306  0.985989   \n",
       "4  0.991674  0.925074  0.995411  0.965619  1.000000  0.999999  0.995352   \n",
       "5  0.991830  0.924627  0.995527  0.965306  0.999999  1.000000  0.995233   \n",
       "6  0.974819  0.956530  0.981653  0.985989  0.995352  0.995233  1.000000   \n",
       "7  0.798243  0.989203  0.815890  0.962230  0.863388  0.862815  0.905536   \n",
       "8  0.997289  0.836439  0.994283  0.896473  0.979607  0.979850  0.956133   \n",
       "9  0.907402  0.996550  0.920349  0.998896  0.952634  0.952270  0.977154   \n",
       "\n",
       "          7         8         9  \n",
       "0  0.798243  0.997289  0.907402  \n",
       "1  0.989203  0.836439  0.996550  \n",
       "2  0.815890  0.994283  0.920349  \n",
       "3  0.962230  0.896473  0.998896  \n",
       "4  0.863388  0.979607  0.952634  \n",
       "5  0.862815  0.979850  0.952270  \n",
       "6  0.905536  0.956133  0.977154  \n",
       "7  1.000000  0.757659  0.973787  \n",
       "8  0.757659  1.000000  0.876020  \n",
       "9  0.973787  0.876020  1.000000  "
      ]
     },
     "execution_count": 93,
     "metadata": {},
     "output_type": "execute_result"
    }
   ],
   "source": [
    "pandas.DataFrame(exponentiated_quadratic(x1, x1))"
   ]
  },
  {
   "cell_type": "code",
   "execution_count": 122,
   "id": "ec1991be-2182-4999-8bd3-880bb070543f",
   "metadata": {},
   "outputs": [
    {
     "name": "stdout",
     "output_type": "stream",
     "text": [
      "[[0.]]\n",
      "[[-0.]]\n"
     ]
    },
    {
     "data": {
      "text/plain": [
       "1.0"
      ]
     },
     "execution_count": 122,
     "metadata": {},
     "output_type": "execute_result"
    }
   ],
   "source": [
    "tmp = scipy.spatial.distance.cdist(x1[0].reshape(-1,1), x1[0].reshape(-1,1), 'sqeuclidean')\n",
    "print(tmp)\n",
    "tmp = -0.5 * tmp\n",
    "print(tmp)\n",
    "numpy.exp(tmp)[0][0]"
   ]
  },
  {
   "cell_type": "code",
   "execution_count": 98,
   "id": "19cc3108-0f18-45db-8845-ff85404ebda8",
   "metadata": {},
   "outputs": [
    {
     "data": {
      "text/plain": [
       "(1, 1)"
      ]
     },
     "execution_count": 98,
     "metadata": {},
     "output_type": "execute_result"
    }
   ],
   "source": []
  },
  {
   "cell_type": "code",
   "execution_count": null,
   "id": "991bb2fc-3729-4e62-a874-19d0bbcbc50e",
   "metadata": {},
   "outputs": [],
   "source": []
  },
  {
   "cell_type": "code",
   "execution_count": 58,
   "id": "7ca7f0be-ae3e-4836-807f-8e38fdafb0b3",
   "metadata": {},
   "outputs": [
    {
     "data": {
      "text/html": [
       "<div>\n",
       "<style scoped>\n",
       "    .dataframe tbody tr th:only-of-type {\n",
       "        vertical-align: middle;\n",
       "    }\n",
       "\n",
       "    .dataframe tbody tr th {\n",
       "        vertical-align: top;\n",
       "    }\n",
       "\n",
       "    .dataframe thead th {\n",
       "        text-align: right;\n",
       "    }\n",
       "</style>\n",
       "<table border=\"1\" class=\"dataframe\">\n",
       "  <thead>\n",
       "    <tr style=\"text-align: right;\">\n",
       "      <th></th>\n",
       "      <th>0</th>\n",
       "      <th>1</th>\n",
       "      <th>2</th>\n",
       "      <th>3</th>\n",
       "      <th>4</th>\n",
       "      <th>5</th>\n",
       "      <th>6</th>\n",
       "      <th>7</th>\n",
       "      <th>8</th>\n",
       "      <th>9</th>\n",
       "    </tr>\n",
       "  </thead>\n",
       "  <tbody>\n",
       "    <tr>\n",
       "      <th>0</th>\n",
       "      <td>0.000000</td>\n",
       "      <td>0.274557</td>\n",
       "      <td>0.001116</td>\n",
       "      <td>0.155107</td>\n",
       "      <td>0.016722</td>\n",
       "      <td>0.016407</td>\n",
       "      <td>0.051006</td>\n",
       "      <td>0.450684</td>\n",
       "      <td>0.005429</td>\n",
       "      <td>0.194340</td>\n",
       "    </tr>\n",
       "    <tr>\n",
       "      <th>1</th>\n",
       "      <td>0.274557</td>\n",
       "      <td>0.000000</td>\n",
       "      <td>0.240668</td>\n",
       "      <td>0.016938</td>\n",
       "      <td>0.155763</td>\n",
       "      <td>0.156731</td>\n",
       "      <td>0.088886</td>\n",
       "      <td>0.021711</td>\n",
       "      <td>0.357203</td>\n",
       "      <td>0.006913</td>\n",
       "    </tr>\n",
       "    <tr>\n",
       "      <th>2</th>\n",
       "      <td>0.001116</td>\n",
       "      <td>0.240668</td>\n",
       "      <td>0.000000</td>\n",
       "      <td>0.129912</td>\n",
       "      <td>0.009199</td>\n",
       "      <td>0.008966</td>\n",
       "      <td>0.037034</td>\n",
       "      <td>0.406950</td>\n",
       "      <td>0.011467</td>\n",
       "      <td>0.166004</td>\n",
       "    </tr>\n",
       "    <tr>\n",
       "      <th>3</th>\n",
       "      <td>0.155107</td>\n",
       "      <td>0.016938</td>\n",
       "      <td>0.129912</td>\n",
       "      <td>0.000000</td>\n",
       "      <td>0.069972</td>\n",
       "      <td>0.070621</td>\n",
       "      <td>0.028221</td>\n",
       "      <td>0.077003</td>\n",
       "      <td>0.218574</td>\n",
       "      <td>0.002209</td>\n",
       "    </tr>\n",
       "    <tr>\n",
       "      <th>4</th>\n",
       "      <td>0.016722</td>\n",
       "      <td>0.155763</td>\n",
       "      <td>0.009199</td>\n",
       "      <td>0.069972</td>\n",
       "      <td>0.000000</td>\n",
       "      <td>0.000001</td>\n",
       "      <td>0.009318</td>\n",
       "      <td>0.293781</td>\n",
       "      <td>0.041208</td>\n",
       "      <td>0.097048</td>\n",
       "    </tr>\n",
       "    <tr>\n",
       "      <th>5</th>\n",
       "      <td>0.016407</td>\n",
       "      <td>0.156731</td>\n",
       "      <td>0.008966</td>\n",
       "      <td>0.070621</td>\n",
       "      <td>0.000001</td>\n",
       "      <td>0.000000</td>\n",
       "      <td>0.009556</td>\n",
       "      <td>0.295110</td>\n",
       "      <td>0.040712</td>\n",
       "      <td>0.097812</td>\n",
       "    </tr>\n",
       "    <tr>\n",
       "      <th>6</th>\n",
       "      <td>0.051006</td>\n",
       "      <td>0.088886</td>\n",
       "      <td>0.037034</td>\n",
       "      <td>0.028221</td>\n",
       "      <td>0.009318</td>\n",
       "      <td>0.009556</td>\n",
       "      <td>0.000000</td>\n",
       "      <td>0.198457</td>\n",
       "      <td>0.089717</td>\n",
       "      <td>0.046223</td>\n",
       "    </tr>\n",
       "    <tr>\n",
       "      <th>7</th>\n",
       "      <td>0.450684</td>\n",
       "      <td>0.021711</td>\n",
       "      <td>0.406950</td>\n",
       "      <td>0.077003</td>\n",
       "      <td>0.293781</td>\n",
       "      <td>0.295110</td>\n",
       "      <td>0.198457</td>\n",
       "      <td>0.000000</td>\n",
       "      <td>0.555044</td>\n",
       "      <td>0.053126</td>\n",
       "    </tr>\n",
       "    <tr>\n",
       "      <th>8</th>\n",
       "      <td>0.005429</td>\n",
       "      <td>0.357203</td>\n",
       "      <td>0.011467</td>\n",
       "      <td>0.218574</td>\n",
       "      <td>0.041208</td>\n",
       "      <td>0.040712</td>\n",
       "      <td>0.089717</td>\n",
       "      <td>0.555044</td>\n",
       "      <td>0.000000</td>\n",
       "      <td>0.264733</td>\n",
       "    </tr>\n",
       "    <tr>\n",
       "      <th>9</th>\n",
       "      <td>0.194340</td>\n",
       "      <td>0.006913</td>\n",
       "      <td>0.166004</td>\n",
       "      <td>0.002209</td>\n",
       "      <td>0.097048</td>\n",
       "      <td>0.097812</td>\n",
       "      <td>0.046223</td>\n",
       "      <td>0.053126</td>\n",
       "      <td>0.264733</td>\n",
       "      <td>0.000000</td>\n",
       "    </tr>\n",
       "  </tbody>\n",
       "</table>\n",
       "</div>"
      ],
      "text/plain": [
       "          0         1         2         3         4         5         6  \\\n",
       "0  0.000000  0.274557  0.001116  0.155107  0.016722  0.016407  0.051006   \n",
       "1  0.274557  0.000000  0.240668  0.016938  0.155763  0.156731  0.088886   \n",
       "2  0.001116  0.240668  0.000000  0.129912  0.009199  0.008966  0.037034   \n",
       "3  0.155107  0.016938  0.129912  0.000000  0.069972  0.070621  0.028221   \n",
       "4  0.016722  0.155763  0.009199  0.069972  0.000000  0.000001  0.009318   \n",
       "5  0.016407  0.156731  0.008966  0.070621  0.000001  0.000000  0.009556   \n",
       "6  0.051006  0.088886  0.037034  0.028221  0.009318  0.009556  0.000000   \n",
       "7  0.450684  0.021711  0.406950  0.077003  0.293781  0.295110  0.198457   \n",
       "8  0.005429  0.357203  0.011467  0.218574  0.041208  0.040712  0.089717   \n",
       "9  0.194340  0.006913  0.166004  0.002209  0.097048  0.097812  0.046223   \n",
       "\n",
       "          7         8         9  \n",
       "0  0.450684  0.005429  0.194340  \n",
       "1  0.021711  0.357203  0.006913  \n",
       "2  0.406950  0.011467  0.166004  \n",
       "3  0.077003  0.218574  0.002209  \n",
       "4  0.293781  0.041208  0.097048  \n",
       "5  0.295110  0.040712  0.097812  \n",
       "6  0.198457  0.089717  0.046223  \n",
       "7  0.000000  0.555044  0.053126  \n",
       "8  0.555044  0.000000  0.264733  \n",
       "9  0.053126  0.264733  0.000000  "
      ]
     },
     "execution_count": 58,
     "metadata": {},
     "output_type": "execute_result"
    }
   ],
   "source": [
    "d = pandas.DataFrame(scipy.spatial.distance.cdist(x1, x1, 'sqeuclidean'))\n",
    "d"
   ]
  },
  {
   "cell_type": "code",
   "execution_count": null,
   "id": "a6b4507e-e801-4436-98b7-4701925a3dcd",
   "metadata": {},
   "outputs": [],
   "source": []
  },
  {
   "cell_type": "code",
   "execution_count": 445,
   "id": "3d11a5e4-c1e4-459e-ac05-e9ad6f6624a9",
   "metadata": {},
   "outputs": [],
   "source": [
    "sampe_size = 10\n",
    "sample_domain = (-6, 6)\n",
    "x1 = numpy.linspace(start=sample_domain[0], stop=sample_domain[1], num=sampe_size)\n",
    "x1 = numpy.reshape(x1, (-1,1))\n",
    "e = numpy.random.normal(loc=0, scale=0.4, size=sampe_size)\n",
    "e = numpy.reshape(e, (-1,1))\n",
    "y1 = numpy.sin(x1) + e\n",
    "\n",
    "\n",
    "f_x = numpy.linspace(start=sample_domain[0], stop=sample_domain[1], num=1000)\n",
    "f_x = numpy.reshape(f_x, (-1,1))\n",
    "f_y = numpy.sin(f_x)"
   ]
  },
  {
   "cell_type": "code",
   "execution_count": 446,
   "id": "24baa1e6-c576-49e4-bffe-875410d17f49",
   "metadata": {},
   "outputs": [
    {
     "data": {
      "image/png": "[encoded data removed]",
      "text/plain": [
       "<Figure size 432x432 with 1 Axes>"
      ]
     },
     "metadata": {
      "needs_background": "light"
     },
     "output_type": "display_data"
    }
   ],
   "source": [
    "fig, ax = pyplot.subplots(nrows=1, ncols=1, figsize=(6, 6))\n",
    "ax.plot(f_x, f_y, c='black')\n",
    "ax.scatter(x1, y1)\n",
    "ax.set_xlabel('$x_1$')\n",
    "ax.set_ylabel('$y_1$')\n",
    "ax.set_title('Observations')\n",
    "ax.axis([sample_domain[0], sample_domain[1], -3, 3])\n",
    "pyplot.show();"
   ]
  },
  {
   "cell_type": "code",
   "execution_count": 447,
   "id": "096889c5-abbe-4e15-90dd-31e6f2284584",
   "metadata": {},
   "outputs": [],
   "source": [
    "# Let's look at a x-value that should return something close to 1\n",
    "x2 = numpy.array([numpy.pi / 2])\n",
    "x2 = numpy.reshape(x2, (-1,1))"
   ]
  },
  {
   "cell_type": "code",
   "execution_count": 448,
   "id": "5cb3445e-c2d0-41e4-8a30-fde0e829bdcd",
   "metadata": {},
   "outputs": [],
   "source": [
    "def kernel(x1, x2):    \n",
    "    return exponentiated_quadratic(x1, x2)\n",
    "\n",
    "def exponentiated_quadratic(x1, x2):\n",
    "    \"\"\"Exponentiated quadratic  with σ=1\"\"\"\n",
    "    # L2 distance (Squared Euclidian)\n",
    "    sq_norm = -0.5 * scipy.spatial.distance.cdist(x1, x2, 'sqeuclidean')\n",
    "    return numpy.exp(sq_norm)"
   ]
  },
  {
   "cell_type": "code",
   "execution_count": 449,
   "id": "4a4b4a4a-2f3d-405a-86ee-c4280a547084",
   "metadata": {},
   "outputs": [],
   "source": [
    "# Calculate the variance and covariance matrices required for the conditional moments\n",
    "Σ11 = kernel(x1, x1)\n",
    "Σ12 = kernel(x1, x2)\n",
    "Σ22 = kernel(x2, x2)"
   ]
  },
  {
   "cell_type": "code",
   "execution_count": 456,
   "id": "7a45b770-6830-4710-9912-2cb751383ace",
   "metadata": {},
   "outputs": [],
   "source": [
    "Σ11 = (x1 - x1.mean()) @ (x1 - x1.mean()).T\n",
    "Σ12 = (x1 - x1.mean()) @ (x2 - x2.mean()).T\n",
    "Σ22 = (x2 - x2.mean()) @ (x2 - x2.mean()).T"
   ]
  },
  {
   "cell_type": "code",
   "execution_count": null,
   "id": "abba0600-6ebd-4712-87f6-55fc41a0fd0e",
   "metadata": {},
   "outputs": [],
   "source": []
  },
  {
   "cell_type": "code",
   "execution_count": null,
   "id": "c1eeed48-4e12-42fb-8746-2cf40312e7cd",
   "metadata": {},
   "outputs": [],
   "source": []
  },
  {
   "cell_type": "code",
   "execution_count": null,
   "id": "1d6154b2-c2d6-4952-af88-089b82ef45f5",
   "metadata": {},
   "outputs": [],
   "source": []
  },
  {
   "cell_type": "code",
   "execution_count": null,
   "id": "b8a80a75-1d91-4f44-a19d-b6168ab336ae",
   "metadata": {},
   "outputs": [],
   "source": []
  },
  {
   "cell_type": "code",
   "execution_count": 457,
   "id": "974c8c52-6544-44b0-84c5-63ebef32df00",
   "metadata": {},
   "outputs": [
    {
     "ename": "LinAlgError",
     "evalue": "Matrix is singular.",
     "output_type": "error",
     "traceback": [
      "\u001b[1;31m---------------------------------------------------------------------------\u001b[0m",
      "\u001b[1;31mLinAlgError\u001b[0m                               Traceback (most recent call last)",
      "\u001b[1;32m<ipython-input-457-08a676134399>\u001b[0m in \u001b[0;36m<module>\u001b[1;34m\u001b[0m\n\u001b[1;32m----> 1\u001b[1;33m \u001b[0mΣ12_Σ11\u001b[0m \u001b[1;33m=\u001b[0m \u001b[0mscipy\u001b[0m\u001b[1;33m.\u001b[0m\u001b[0mlinalg\u001b[0m\u001b[1;33m.\u001b[0m\u001b[0msolve\u001b[0m\u001b[1;33m(\u001b[0m\u001b[0mΣ11\u001b[0m\u001b[1;33m,\u001b[0m \u001b[0mΣ12\u001b[0m\u001b[1;33m,\u001b[0m \u001b[0massume_a\u001b[0m\u001b[1;33m=\u001b[0m\u001b[1;34m'pos'\u001b[0m\u001b[1;33m)\u001b[0m\u001b[1;33m.\u001b[0m\u001b[0mT\u001b[0m\u001b[1;33m\u001b[0m\u001b[1;33m\u001b[0m\u001b[0m\n\u001b[0m",
      "\u001b[1;32mc:\\program files\\python36\\lib\\site-packages\\scipy\\linalg\\basic.py\u001b[0m in \u001b[0;36msolve\u001b[1;34m(a, b, sym_pos, lower, overwrite_a, overwrite_b, debug, check_finite, assume_a, transposed)\u001b[0m\n\u001b[0;32m    246\u001b[0m                            \u001b[0moverwrite_a\u001b[0m\u001b[1;33m=\u001b[0m\u001b[0moverwrite_a\u001b[0m\u001b[1;33m,\u001b[0m\u001b[1;33m\u001b[0m\u001b[1;33m\u001b[0m\u001b[0m\n\u001b[0;32m    247\u001b[0m                            overwrite_b=overwrite_b)\n\u001b[1;32m--> 248\u001b[1;33m         \u001b[0m_solve_check\u001b[0m\u001b[1;33m(\u001b[0m\u001b[0mn\u001b[0m\u001b[1;33m,\u001b[0m \u001b[0minfo\u001b[0m\u001b[1;33m)\u001b[0m\u001b[1;33m\u001b[0m\u001b[1;33m\u001b[0m\u001b[0m\n\u001b[0m\u001b[0;32m    249\u001b[0m         \u001b[0mrcond\u001b[0m\u001b[1;33m,\u001b[0m \u001b[0minfo\u001b[0m \u001b[1;33m=\u001b[0m \u001b[0mpocon\u001b[0m\u001b[1;33m(\u001b[0m\u001b[0mlu\u001b[0m\u001b[1;33m,\u001b[0m \u001b[0manorm\u001b[0m\u001b[1;33m)\u001b[0m\u001b[1;33m\u001b[0m\u001b[1;33m\u001b[0m\u001b[0m\n\u001b[0;32m    250\u001b[0m \u001b[1;33m\u001b[0m\u001b[0m\n",
      "\u001b[1;32mc:\\program files\\python36\\lib\\site-packages\\scipy\\linalg\\basic.py\u001b[0m in \u001b[0;36m_solve_check\u001b[1;34m(n, info, lamch, rcond)\u001b[0m\n\u001b[0;32m     27\u001b[0m                          '.'.format(-info))\n\u001b[0;32m     28\u001b[0m     \u001b[1;32melif\u001b[0m \u001b[1;36m0\u001b[0m \u001b[1;33m<\u001b[0m \u001b[0minfo\u001b[0m\u001b[1;33m:\u001b[0m\u001b[1;33m\u001b[0m\u001b[1;33m\u001b[0m\u001b[0m\n\u001b[1;32m---> 29\u001b[1;33m         \u001b[1;32mraise\u001b[0m \u001b[0mLinAlgError\u001b[0m\u001b[1;33m(\u001b[0m\u001b[1;34m'Matrix is singular.'\u001b[0m\u001b[1;33m)\u001b[0m\u001b[1;33m\u001b[0m\u001b[1;33m\u001b[0m\u001b[0m\n\u001b[0m\u001b[0;32m     30\u001b[0m \u001b[1;33m\u001b[0m\u001b[0m\n\u001b[0;32m     31\u001b[0m     \u001b[1;32mif\u001b[0m \u001b[0mlamch\u001b[0m \u001b[1;32mis\u001b[0m \u001b[1;32mNone\u001b[0m\u001b[1;33m:\u001b[0m\u001b[1;33m\u001b[0m\u001b[1;33m\u001b[0m\u001b[0m\n",
      "\u001b[1;31mLinAlgError\u001b[0m: Matrix is singular."
     ]
    }
   ],
   "source": [
    "Σ12_Σ11 = scipy.linalg.solve(Σ11, Σ12, assume_a='pos').T"
   ]
  },
  {
   "cell_type": "code",
   "execution_count": 451,
   "id": "b19bcbea-9b4f-4e7d-9a9b-9b7d85f0ea8a",
   "metadata": {},
   "outputs": [],
   "source": [
    "# Calculate conditional parameters\n",
    "μ1 = 0\n",
    "μ2 = 0\n",
    "\n",
    "μ_2_given_1 = μ2 + Σ12_Σ11 @ (y1 - μ1)\n",
    "Σ_2_given_1 = Σ22 - (Σ12_Σ11 @ Σ12)"
   ]
  },
  {
   "cell_type": "code",
   "execution_count": 452,
   "id": "a254eafa-b83e-4115-947a-f6e1ed8763f6",
   "metadata": {},
   "outputs": [
    {
     "data": {
      "text/plain": [
       "array([[0.67154586],\n",
       "       [0.92446195],\n",
       "       [0.66150908],\n",
       "       [0.43633342],\n",
       "       [0.64656512]])"
      ]
     },
     "execution_count": 452,
     "metadata": {},
     "output_type": "execute_result"
    }
   ],
   "source": [
    "y2 = numpy.random.multivariate_normal(mean=μ_2_given_1.flatten(), cov=Σ_2_given_1, size=5)\n",
    "y2"
   ]
  },
  {
   "cell_type": "code",
   "execution_count": 453,
   "id": "7a637545-2d96-43c9-94eb-7f6b87c4ad2e",
   "metadata": {},
   "outputs": [
    {
     "data": {
      "image/png": "[encoded data removed]",
      "text/plain": [
       "<Figure size 432x432 with 1 Axes>"
      ]
     },
     "metadata": {
      "needs_background": "light"
     },
     "output_type": "display_data"
    }
   ],
   "source": [
    "# Plot some samples from this function\n",
    "fig, ax = pyplot.subplots(nrows=1, ncols=1, figsize=(6, 6))\n",
    "ax.plot(f_x, f_y, c='black')\n",
    "ax.scatter(x1, y1, c='blue')\n",
    "ax.scatter(x2, y2[0], c='orange')\n",
    "ax.scatter(x2, y2[1], c='orange')\n",
    "ax.scatter(x2, y2[2], c='orange')\n",
    "ax.scatter(x2, y2[3], c='orange')\n",
    "ax.scatter(x2, y2[4], c='orange')\n",
    "ax.scatter(x2, numpy.sin(x2), c='black')\n",
    "ax.scatter(x2, μ_2_given_1, c='green', marker='s')\n",
    "pyplot.show()"
   ]
  },
  {
   "cell_type": "code",
   "execution_count": null,
   "id": "e3e28b8e-d6f3-4bd2-944d-ebcd498659ab",
   "metadata": {},
   "outputs": [],
   "source": []
  },
  {
   "cell_type": "code",
   "execution_count": null,
   "id": "8d79e8a7-f01f-4ad3-9237-b1896f2a228d",
   "metadata": {},
   "outputs": [],
   "source": []
  },
  {
   "cell_type": "code",
   "execution_count": null,
   "id": "4b39543e-3613-4c0f-9047-31a354723027",
   "metadata": {},
   "outputs": [],
   "source": []
  },
  {
   "cell_type": "code",
   "execution_count": null,
   "id": "edf7f752-6595-4fcd-9131-ad67d3a9694a",
   "metadata": {},
   "outputs": [],
   "source": []
  },
  {
   "cell_type": "code",
   "execution_count": null,
   "id": "00f9f81c-6f59-41cd-a106-4beba06dd6f3",
   "metadata": {},
   "outputs": [],
   "source": []
  }
 ],
 "metadata": {
  "kernelspec": {
   "display_name": "Python 3",
   "language": "python",
   "name": "python3"
  },
  "language_info": {
   "codemirror_mode": {
    "name": "ipython",
    "version": 3
   },
   "file_extension": ".py",
   "mimetype": "text/x-python",
   "name": "python",
   "nbconvert_exporter": "python",
   "pygments_lexer": "ipython3",
   "version": "3.6.8"
  }
 },
 "nbformat": 4,
 "nbformat_minor": 5
}
