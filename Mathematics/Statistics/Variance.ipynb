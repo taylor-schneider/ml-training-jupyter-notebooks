{
 "cells": [
  {
   "cell_type": "markdown",
   "id": "f81c1cef-0abc-448b-8887-15c372d2fac9",
   "metadata": {},
   "source": [
    "# Overview\n",
    "\n",
    "In this notebook we examine variance. It assumes the user has read the [expectation notebook](./Expectation.ipynb)."
   ]
  },
  {
   "cell_type": "markdown",
   "id": "f810990e-80a3-48da-b28a-298f75c8dbfb",
   "metadata": {},
   "source": [
    "# 1. General Definition\n",
    "\n",
    "The variance gives a descriptive statistic that explains our expectations for the \"spread\" of our data. A larger variance indicates a larger range of possible values that our variabl might take on; conversely a smaller variance indicates a smaller range.\n",
    "\n",
    "The general formula expresses variance as the expected value $\\mathbb{E}$ of the squared deviations:\n",
    "\n",
    "$$ Var(X)= \\sigma^2 = \\mathbb{E} \\left[ (X-\\mu )^{2} \\right] $$\n",
    "\n",
    "We will see that there is a deep mathematical implication/connection with the squaring of deviations. In short, the sum of squares emphasizes or overrepresents larger deviations and under-represents smaller deviations. More on this topic later.\n",
    "\n",
    "A another common representation of the formula can be derived by expanding the compact formula:\n",
    "\n",
    "$$ = \\mathbb{E} \\left[ X^2 - 2X\\mathbb{E}[X] + \\mathbb{E}[X]^2  \\right] $$\n",
    "\n",
    "$$ = \\mathbb{E}[X^2] - 2\\mathbb{E}[X]\\mathbb{E}[X] + \\mathbb{E}[X]^2 $$\n",
    "\n",
    "$$ = \\mathbb{E}[X^2] - 2\\mathbb{E}[X]^2 + \\mathbb{E}[X]^2 $$\n",
    "\n",
    "$$ = \\mathbb{E}[X^2] - E[X]^2$$\n",
    "\n",
    "As noted in the [expectations notebook](./expectations.ipynb), a probability distribution can be attached to the expectation operator $\\mathbb{E}$. We will cover distribution specific derevations separately."
   ]
  },
  {
   "cell_type": "markdown",
   "id": "17586281-005c-447c-b846-b0e546a960de",
   "metadata": {},
   "source": [
    "# 2. Univariate Case\n",
    "## 2.2. Matrix Notation\n",
    "For the multivariate case, the general notation does hold. However, the abstract notation does hide some of the details of the underlying mathematical structures and as a result can erroneously lead to spurious aglebraic manipulations. In otherwords: martix algebra and multidimensional spaces are different than the univariate spaces we learned in grade school; lets use a more complicated notation to prevent mistakes or bad assumptions later.\n",
    "\n",
    "$$ X := \\begin{bmatrix}\n",
    "x_1, &\n",
    "x_2, &\n",
    "\\cdots, &\n",
    "x_n\n",
    "\\end{bmatrix}, \\ \\ \\ \n",
    "$$\n",
    "\n",
    "$$ Var(X) := \\mathbb{E} \\left[ (X-\\mu)^{2} \\right] $$\n",
    "\n",
    "$$ = \\mathbb{E} \\left[ (X-\\mu)(X-\\mu)^T \\right] $$\n",
    "\n",
    "\n",
    "$$  = \n",
    "\\begin{bmatrix}\n",
    "(x_1 - \\mu_1) & \n",
    "(x_2 - \\mu_1) & \n",
    "\\cdots &\n",
    "(x_n - \\mu_1)\n",
    "\\end{bmatrix}\n",
    "\\begin{bmatrix}\n",
    "x_1 - \\mu_1 \\\\\n",
    "x_2 - \\mu_1 \\\\\n",
    "\\vdots \\\\\n",
    "x_n- \\mu_1\n",
    "\\end{bmatrix}\n",
    "$$\n",
    "\n",
    "$$  = \n",
    "\\begin{bmatrix}\n",
    "(x_1 - \\mu_1)^2 & + & \n",
    "(x_2 - \\mu_1)^2 & + &\n",
    "\\cdots & + &\n",
    "(x_n - \\mu_1)^2\n",
    "\\end{bmatrix}$$"
   ]
  },
  {
   "cell_type": "markdown",
   "id": "f79c3770-10b9-4e04-ac1e-34993b65ed0d",
   "metadata": {},
   "source": [
    "# 3. Multivariate Case\n",
    "\n",
    "For the multivariate case, the general notation does hold. However, the abstract notation does hide some of the details of the underlying mathematical structures and as a result can erroneously lead to spurious aglebraic manipulations. In otherwords: martix algebra and multidimensional spaces are different than the univariate spaces we learned in grade school; lets use a more complicated notation to prevent mistakes or bad assumptions later.\n",
    "\n",
    "We define our variable matrix as a column vector\n",
    "\n",
    "$$ X := \\begin{bmatrix}\n",
    "X_1, &\n",
    "X_2, &\n",
    "\\cdots, &\n",
    "X_n\n",
    "\\end{bmatrix}, \\ \\ \\ \n",
    "$$\n",
    "\n",
    "$$X_1 := \\begin{bmatrix}\n",
    "x_{1,1} \\\\\n",
    "x_{1,2} \\\\\n",
    "\\vdots \\\\\n",
    "x_{1,n}\n",
    "\\end{bmatrix}\n",
    "$$\n",
    "\n",
    "We define the mean matrix as a column vector as well\n",
    "\n",
    "$$ \\mu := \\begin{bmatrix}\n",
    "\\mu_1, &\n",
    "\\mu_2, &\n",
    "\\cdots, &\n",
    "\\mu_n\n",
    "\\end{bmatrix}\n",
    "$$\n",
    "\n",
    "$$ \\mu_n := \\mathbb{E}[X_n] $$"
   ]
  },
  {
   "cell_type": "markdown",
   "id": "e1298758-51d8-45cc-b553-ef9f1f4eee16",
   "metadata": {},
   "source": [
    "We start with the univariate definition and swap out $\\sigma^2$ for $\\Sigma$. As we will see, the multivariate variance matrix $\\Sigma$ contains more than just variances.\n",
    "\n",
    "$$ Var(X)= \\Sigma = \\mathbb{E} \\left[ (X-\\mu)^{2} \\right] $$\n",
    "\n",
    "We expand our squaring operator to be explicit about our multiplcation operations using matrices.\n",
    "\n",
    "$$ = \\mathbb{E} \\left[ (X-\\mu)^T(X-\\mu) \\right] $$"
   ]
  },
  {
   "cell_type": "markdown",
   "id": "44f60e4f-28fa-45b5-8e76-4088effcb260",
   "metadata": {},
   "source": [
    "We can go a step further by expanding the expression within the expectation to account for the individual elements within the matrix:\n",
    "\n",
    "\n",
    "$$\\Sigma = \\mathbb{E}\\begin{bmatrix}\n",
    "\\begin{bmatrix}\n",
    "X_1 - \\mu_1 \\\\\n",
    "X_2 - \\mu_2 \\\\\n",
    "\\vdots \\\\\n",
    "X_n - \\mu_n\n",
    "\\end{bmatrix}\n",
    "\\begin{bmatrix}\n",
    "X_1 - \\mu_1, &\n",
    "X_2 - \\mu_2, &\n",
    "\\cdots, &\n",
    "X_n - \\mu_3\n",
    "\\end{bmatrix}\n",
    "\\end{bmatrix}$$\n",
    "\n"
   ]
  },
  {
   "cell_type": "markdown",
   "id": "e080dc9f-b25d-439d-91ee-0f421619ac17",
   "metadata": {},
   "source": [
    "$$ = \\mathbb{E}\n",
    "\\begin{bmatrix}\n",
    "(X_1 - \\mu_1)^2               & \\cdots & (X_1 - \\mu_1)(X_n - \\mu_n) \\\\\n",
    "\\vdots                        & \\ddots & \\vdots            \\\\\n",
    "(X_n - \\mu_n)(X_1 - \\mu_1)    & \\cdots & (X_1 - \\mu_n)^2 \\\\\n",
    "\\end{bmatrix}$$"
   ]
  },
  {
   "cell_type": "markdown",
   "id": "5ad3661c-bb38-48e3-829a-059ca01a99a6",
   "metadata": {},
   "source": [
    "Note: We have ensured we have the right dimensions for addition/subtraction. The dimensions will be such that $(1 \\times n) - (1 \\times n ) = (1 \\times n) $."
   ]
  },
  {
   "cell_type": "markdown",
   "id": "229f6031-c8df-4122-aae8-aff8f2329f72",
   "metadata": {},
   "source": [
    "$$ \\mathbb{E}\\left[(X_1 - \\mu_1)^2\\right] = \n",
    "\\mathbb{E}\\begin{bmatrix}\n",
    "x_{1,1} - \\mu_1 &\n",
    "x_{1,2} - \\mu_1 &\n",
    "\\cdots &\n",
    "x_{1,n} - \\mu_1\n",
    "\\end{bmatrix}\n",
    "\\begin{bmatrix}\n",
    "x_{1,1} - \\mu_1 \\\\\n",
    "x_{1,2} - \\mu_1 \\\\\n",
    "\\vdots \\\\\n",
    "x_{1,n} - \\mu_1\n",
    "\\end{bmatrix}\n",
    "$$\n",
    "\n",
    "$$ = \\mathbb{E}\\begin{bmatrix}\n",
    "(x_{1,1} - \\mu_1)^2 & + &\n",
    "(x_{1,2} - \\mu_1)^2 & + &\n",
    "\\cdots & + &\n",
    "(x_{1,n} - \\mu_1)^2\n",
    "\\end{bmatrix}$$"
   ]
  },
  {
   "cell_type": "markdown",
   "id": "4005cc44-2d2a-4437-bb34-37bf0174ea18",
   "metadata": {},
   "source": [
    "When we apply a distribution through the expectation operator we can transform this equation further"
   ]
  },
  {
   "cell_type": "markdown",
   "id": "252a595e-86d7-4b01-9c2c-b61a76dd5566",
   "metadata": {},
   "source": [
    "$$ = \\sigma_1^2 $$"
   ]
  },
  {
   "cell_type": "markdown",
   "id": "6704cfea-abfe-4c7e-be19-5c415b081baa",
   "metadata": {},
   "source": [
    "$$ \\Sigma = \\begin{bmatrix}\n",
    "\\sigma_{1,1}^2   & \\cdots & \\sigma_{n,1}^2 \\\\\n",
    "\\vdots           & \\ddots & \\vdots         \\\\\n",
    "\\sigma_{1,n}^2   & \\cdots & \\sigma_{n,n}^2 \\\\\n",
    "\\end{bmatrix}$$"
   ]
  },
  {
   "cell_type": "markdown",
   "id": "a91fe3a0-bf2f-4bf1-a726-7bcce261dc55",
   "metadata": {},
   "source": [
    "## Python example\n",
    "We can see an python example of calculating covariance using matrix algebra:"
   ]
  },
  {
   "cell_type": "code",
   "execution_count": 190,
   "id": "c741079a-eea4-452d-8bce-f2fc108afe56",
   "metadata": {},
   "outputs": [
    {
     "data": {
      "text/plain": [
       "True"
      ]
     },
     "execution_count": 190,
     "metadata": {},
     "output_type": "execute_result"
    }
   ],
   "source": [
    "import numpy\n",
    "\n",
    "# ===========================\n",
    "# Calculate by hand\n",
    "\n",
    "# Define our data\n",
    "X1 = numpy.array([1,2,6])\n",
    "X2 = numpy.array([2,3,5])\n",
    "X = numpy.array([X1, X2]).T\n",
    "\n",
    "# Caclulate the mean\n",
    "mu_1 = X1.mean()\n",
    "mu_2 = X2.mean()\n",
    "mu = numpy.array([mu_1, mu_2])\n",
    "\n",
    "n = X.shape[1]\n",
    "Sigma = 1/n * (X - mu.T).T @ (X - mu.T)\n",
    "\n",
    "# ===========================\n",
    "# Compare with library function\n",
    "\n",
    "Sigma_check = numpy.cov(X.T)\n",
    "numpy.all(Sigma == Sigma_check)"
   ]
  },
  {
   "cell_type": "code",
   "execution_count": 183,
   "id": "1b2f2c37-30ff-4033-915d-e7cd26212a4d",
   "metadata": {},
   "outputs": [
    {
     "data": {
      "text/plain": [
       "True"
      ]
     },
     "execution_count": 183,
     "metadata": {},
     "output_type": "execute_result"
    }
   ],
   "source": [
    "import numpy\n",
    "\n",
    "# ===========================\n",
    "# Calculate by hand\n",
    "\n",
    "# Define our data\n",
    "X1 = numpy.array([1,2,6])\n",
    "X2 = numpy.array([2,3,5])\n",
    "X3 = numpy.array([4,6,9])\n",
    "X = numpy.array([X1, X2, X3]).T\n",
    "\n",
    "# Caclulate the mean\n",
    "mu_1 = X1.mean()\n",
    "mu_2 = X2.mean()\n",
    "mu_3 = X3.mean()\n",
    "mu = numpy.array([[mu_1, mu_2, mu_3]]).T\n",
    "\n",
    "n = X.shape[1] - 1\n",
    "Sigma = 1/n * (X - mu.T).T @ (X - mu.T)\n",
    "\n",
    "# ===========================\n",
    "# Compare with library function\n",
    "\n",
    "Sigma_check = numpy.cov(X.T)\n",
    "numpy.all(Sigma == Sigma_check)"
   ]
  },
  {
   "cell_type": "markdown",
   "id": "bbf7c3b7-60f5-47ce-9c41-4eaad34eddab",
   "metadata": {},
   "source": [
    "# 4. Variance Exampls"
   ]
  },
  {
   "cell_type": "markdown",
   "id": "2dc00f91-f276-4d7a-94ab-2d3c26d51a2a",
   "metadata": {},
   "source": [
    "## 4.1. Uniform Expectation\n",
    "Depending on the probability attached to the expectaion operator $\\mathbb{E}$ we can have a number of different formals being derived. In the case of sample statistics or population statistics it is common to apply an equal weighting to the observed values $x_i \\in X$. As such we can use the probability mass formula of the uniform random variable:\n",
    "\n",
    "$$ \\mathbb{E}_f(X) := \\sum x_i f(x_i)$$\n",
    "\n",
    "$$ X \\sim \\mathcal{U}(0,  |X|) \\rightarrow f_\\mathcal{U} := \\frac{1}{|X|} $$\n",
    "\n",
    "In this case we see the expectation for discrete variables expanded as:\n",
    "\n",
    "$$ \\mathbb{E} \\left[ (X-\\mu )^{2} \\right] = \\sum \\frac{1}{n} (X-\\mu )^{2}  $$\n",
    "\n",
    "Likewise continuous variables are expanded as:\n",
    "\n",
    "$$ = \\int \\frac{1}{n} (X-\\mu )^{2} dx $$"
   ]
  }
 ],
 "metadata": {
  "kernelspec": {
   "display_name": "Python 3",
   "language": "python",
   "name": "python3"
  },
  "language_info": {
   "codemirror_mode": {
    "name": "ipython",
    "version": 3
   },
   "file_extension": ".py",
   "mimetype": "text/x-python",
   "name": "python",
   "nbconvert_exporter": "python",
   "pygments_lexer": "ipython3",
   "version": "3.6.8"
  }
 },
 "nbformat": 4,
 "nbformat_minor": 5
}
