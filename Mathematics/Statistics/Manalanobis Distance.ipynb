{
 "cells": [
  {
   "cell_type": "markdown",
   "id": "afb0be4a-d354-4bee-9d45-20ee60bef584",
   "metadata": {},
   "source": [
    "# Overview\n",
    "\n",
    "The Manalanobis Distance is the multi-dimensional generalization of the measurement of how many standard deviations $\\sigma$ exist between an arbitrary point $x$ and the mean of the distribution $\\mu$.\n",
    "\n",
    "As such, it is a measurement that accounts for a probability distribution (specifically the standard normal distribution).\n",
    "\n",
    "A deeper explanation and connection can be found [here](https://escholarship.org/content/qt24w7k7m1/qt24w7k7m1_noSplash_8741df2d55cc4da5c94a9b9bb270812c.pdf)\n",
    "\n",
    "# Definition\n",
    "\n",
    "$$ D_M(X) = \\sqrt{(X-\\mu)^T \\Sigma^{-1} (X - \\mu)} $$\n",
    "\n",
    "https://en.wikipedia.org/wiki/Mahalanobis_distance\n",
    "\n",
    "# Motivations\n",
    "\n",
    "It is possible to measure the number of standard deviations from the mean using euclidean distance. However, this is only posible when the dimensions are equally weighted. This occurs when variables are independent but when dealing with joint distributions there is an unequal weighting. The unequal weighting means that the axes are not ligned up with the data and our distance measurements can be misleading.\n",
    "\n",
    "<center><img src='images/mahalanobis_distance_use_case.jpg' height='400px' width='1000px'></center>\n",
    "\n",
    "https://www.machinelearningplus.com/statistics/mahalanobis-distance/\n",
    "\n",
    "With Manalanobis Distance, measurements are based on the principal axes (see the Principal Component Notebook) of the distribution. If the principal axes are re-scaled to have unit variance, the Manalanobis distance becomes equivalent to the equiclidean distance (because the axes are now independant).\n",
    "\n"
   ]
  },
  {
   "cell_type": "markdown",
   "id": "70fa711d-ece6-435d-af4d-a22e3e3d1fd9",
   "metadata": {},
   "source": [
    "# Use Cases\n",
    "\n",
    "- Outlier Detection\n",
    "- Classification\n",
    "https://www.machinelearningplus.com/statistics/mahalanobis-distance/"
   ]
  },
  {
   "cell_type": "markdown",
   "id": "7bf327dc-4a44-4ebc-bab8-5a3b9388986d",
   "metadata": {},
   "source": [
    "# Extensions\n",
    "Extending beyond normal distribution\n",
    "\n",
    "https://escholarship.org/content/qt24w7k7m1/qt24w7k7m1_noSplash_8741df2d55cc4da5c94a9b9bb270812c.pdf"
   ]
  }
 ],
 "metadata": {
  "kernelspec": {
   "display_name": "Python 3",
   "language": "python",
   "name": "python3"
  },
  "language_info": {
   "codemirror_mode": {
    "name": "ipython",
    "version": 3
   },
   "file_extension": ".py",
   "mimetype": "text/x-python",
   "name": "python",
   "nbconvert_exporter": "python",
   "pygments_lexer": "ipython3",
   "version": "3.6.8"
  }
 },
 "nbformat": 4,
 "nbformat_minor": 5
}
