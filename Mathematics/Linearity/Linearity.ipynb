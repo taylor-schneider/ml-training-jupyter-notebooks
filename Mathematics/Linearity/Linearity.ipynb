{
 "cells": [
  {
   "cell_type": "markdown",
   "id": "f0806737-e796-482c-96c8-1af3443d1220",
   "metadata": {},
   "source": [
    "# Overview\n",
    "\n",
    "In this notebook we explore the concept of linearity. A lot of this material is supporting other applied concepts in other notebook."
   ]
  },
  {
   "cell_type": "markdown",
   "id": "100fb681-dc86-4c6a-9fc4-525400eebc8f",
   "metadata": {
    "tags": []
   },
   "source": [
    "# 1. Linearity\n",
    "Linearity is the property of a mathematical relationship. Graphically we can visualize this property as a straight line. Non-linear relationships are thus those which cannot be represented by a straight line.\n",
    "\n",
    "Linear algebra provides the symbolic means for expressing and manipulating linear relationships. Linear expressions or equations being the algebraic representation of the linear relationship."
   ]
  },
  {
   "cell_type": "markdown",
   "id": "7d6db8f1-4b93-4f09-99f2-cd22f5004025",
   "metadata": {},
   "source": [
    "# 2. Linear Combinations\n",
    "Practically speaking the relationships one seeks to describe exists with respect to variables. We are able to express relationships between variables using algebra and in some instances those relationships are linear.\n",
    "\n",
    "We will look at a very simple example which is often referred to as or classified as a linear combination. As the name suggests, the exampls is articulated as a sum or combination of terms and this sum exhibits the property of linearity.\n",
    "\n",
    "For example, consider the following relationship:\n",
    "\n",
    "$$ax = by$$\n",
    "\n",
    "We can manipulate the equation to show how one variable depends on another variable:\n",
    "\n",
    "$$y = \\frac{a}{b}x$$\n",
    "\n",
    "Thinking more abstractly we can think about the linear combination as a linear transformation. If we think about $\\frac{a}{b}$ as a black box transformation function $f$ then we might rewrite the expression:\n",
    "\n",
    "$$y = f(x)$$\n",
    "\n",
    "We will see that in some texts that switching between the conceptualization of linear transform and linear combination are quite common.\n",
    "\n",
    "More generally a linear combination can be expressed as a linear relationship between multiple variables. In other words we might use a multivariate expression to define a linear multivariate relationship:\n",
    "\n",
    "$$ y = a_1x_1 + a_2x_2 + \\cdots + a_nx_n$$\n",
    "\n",
    "Written in matrix algebra we would have:\n",
    "\n",
    "$$ y = aX$$"
   ]
  }
 ],
 "metadata": {
  "kernelspec": {
   "display_name": "Python 3",
   "language": "python",
   "name": "python3"
  },
  "language_info": {
   "codemirror_mode": {
    "name": "ipython",
    "version": 3
   },
   "file_extension": ".py",
   "mimetype": "text/x-python",
   "name": "python",
   "nbconvert_exporter": "python",
   "pygments_lexer": "ipython3",
   "version": "3.6.8"
  }
 },
 "nbformat": 4,
 "nbformat_minor": 5
}
