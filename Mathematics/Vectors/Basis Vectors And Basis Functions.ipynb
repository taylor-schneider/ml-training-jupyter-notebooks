{
 "cells": [
  {
   "cell_type": "markdown",
   "id": "d8568e62-2575-41ec-9481-09ad7efc2f8c",
   "metadata": {},
   "source": [
    "# Overview\n",
    "In this notebook we will cover basic topics related to Vectors that will surface in some of the applied concepts found elsewhere in our repository. Specifically:\n",
    "\n",
    "- [B-splines](<../../Data Science/Splines/B-Spline.ipynb>)\n",
    "- [Principal Component Analysis](<../../Data Science/Principal Component Analysis (PCA)/README.md>)"
   ]
  },
  {
   "cell_type": "markdown",
   "id": "fe76112f-6d24-4da5-b3db-317db282b4fb",
   "metadata": {},
   "source": [
    "### Basis\n",
    "A Basis is a set of vectors taken from a vector space which satisfy two properties:\n",
    "1. They are linearly independent\n",
    "2. They span the vector space\n",
    "\n",
    "An important property of Basis vectors is that any vector defined within a vector space can be defined as a linear combination of the Basis vectors.\n",
    "\n",
    "In the diagram below:\n",
    "- The purple cube represents the Vector Space\n",
    "- The red arrows represent the Basis of the vector space\n",
    "- The purple arrow represents a Vector which can be defined as the linear combination of the Basis Vectors. \n",
    "\n",
    "![vector_basis](images/vector_basis2.png)\n",
    "\n",
    "```\n",
    "https://en.wikipedia.org/wiki/Basis_(linear_algebra)\n",
    "https://mathworld.wolfram.com/VectorBasis.html\n",
    "```"
   ]
  },
  {
   "cell_type": "markdown",
   "id": "42a5a169-88a8-4b7e-bc42-037fc8280cde",
   "metadata": {},
   "source": [
    "### Basis Function\n",
    "A **function space** is a set of functions between two fixed sets. In other words a set of functions that map the set of X possible variables to the set of possible Y variables.\n",
    "\n",
    "Just like Vector Spaces, a Function Space can have a Basis. A **Basis Function** would then a function from the set of functions in the Basis for the Function Space.\n",
    "\n",
    "```\n",
    "https://en.wikipedia.org/wiki/Basis_function\n",
    "```"
   ]
  },
  {
   "cell_type": "markdown",
   "id": "ffe4956e-2f48-4106-8804-fef47f00dd7c",
   "metadata": {},
   "source": [
    "### Basis Spline (B-Spline)\n",
    "B-splines of order n are basis functions for spline functions of the same order defined over the same knots, meaning that all possible spline functions can be built from a linear combination of B-splines, and there is only one unique combination for each spline function.\n",
    "\n",
    "```\n",
    "https://en.wikipedia.org/wiki/B-spline\n",
    "```"
   ]
  }
 ],
 "metadata": {
  "kernelspec": {
   "display_name": "Python 3",
   "language": "python",
   "name": "python3"
  },
  "language_info": {
   "codemirror_mode": {
    "name": "ipython",
    "version": 3
   },
   "file_extension": ".py",
   "mimetype": "text/x-python",
   "name": "python",
   "nbconvert_exporter": "python",
   "pygments_lexer": "ipython3",
   "version": "3.6.8"
  }
 },
 "nbformat": 4,
 "nbformat_minor": 5
}
