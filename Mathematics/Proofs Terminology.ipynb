{
 "cells": [
  {
   "cell_type": "markdown",
   "id": "672c6074-bad3-422d-846d-a025ae1c3ee3",
   "metadata": {},
   "source": [
    "# Overview\n",
    "\n",
    "As we go through the proofs it is important to understand terminology used in reference materials:\n",
    "\n",
    "- **Theorem**: A major statement that has been proven to be true. \n",
    "- **Proposition**: A less important theorem recorded because it is interesting. \n",
    "- **Lemma**: A minor, less important theorem who's sole purpose is the proof of other results.\n",
    "- **Corralary**: A theroem that follows another theorem\n",
    "\n",
    "some additional links: [1](https://divisbyzero.com/2008/09/22/what-is-the-difference-between-a-theorem-a-lemma-and-a-corollary/), [2](https://www.mathsisfun.com/algebra/theorems-lemmas.html)"
   ]
  }
 ],
 "metadata": {
  "kernelspec": {
   "display_name": "Python 3",
   "language": "python",
   "name": "python3"
  },
  "language_info": {
   "codemirror_mode": {
    "name": "ipython",
    "version": 3
   },
   "file_extension": ".py",
   "mimetype": "text/x-python",
   "name": "python",
   "nbconvert_exporter": "python",
   "pygments_lexer": "ipython3",
   "version": "3.6.8"
  }
 },
 "nbformat": 4,
 "nbformat_minor": 5
}
