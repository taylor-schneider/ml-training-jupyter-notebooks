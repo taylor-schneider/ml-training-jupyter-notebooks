{
 "cells": [
  {
   "cell_type": "markdown",
   "id": "d0d8a121-9b35-4b9c-af98-6fa22a92933b",
   "metadata": {},
   "source": [
    "# Overview"
   ]
  },
  {
   "cell_type": "markdown",
   "id": "23eda855-cfc6-4c09-887b-4924012035aa",
   "metadata": {},
   "source": [
    "The topic of kernels appears in several fields of mathematics and has varrying mathematical definitions. Below we will look at the origin of the word, the philisophical intent behind the name choice and thus how the term utates between disciplines, and finally the definitions."
   ]
  },
  {
   "cell_type": "markdown",
   "id": "88268790-2680-48f0-98ee-759d2d8664f5",
   "metadata": {},
   "source": [
    "# Etimology"
   ]
  },
  {
   "cell_type": "markdown",
   "id": "08f0d574-20b7-46ab-b171-7a6a07ae4900",
   "metadata": {},
   "source": [
    "As the term bounces around between various mathematical deiciplines so does the origin of the word. This [mathoverflow article](https://mathoverflow.net/questions/330638/history-of-the-kernel-of-a-homomorphism) was helpful:\n",
    "\n",
    "The kernel of a homomorphism can be traced to Fredholm's (1903) use of the french \"noyau\" (meaning core in english) for the nullspace of a system of integer linear equations. This was then translated by Hilbertinto German as \"Kern\" (1904).\n",
    "\n",
    "Aftwerwards we see Van Der Waerden (1930) and Pontryagin (1931) using the term kern in their german publications referencing homo and isomorphisms.\n",
    "\n"
   ]
  },
  {
   "cell_type": "markdown",
   "id": "b281b792-88e3-462f-af55-4d1b27afb6e0",
   "metadata": {},
   "source": [
    "# Philosophical Meaning"
   ]
  },
  {
   "cell_type": "markdown",
   "id": "6eb8fa5c-0cfd-4957-b043-1001df80f154",
   "metadata": {},
   "source": [
    "To gain some intuition about the meaning and thus reasoning for the choice of the word I came accross this [helpful article](https://math.stackexchange.com/questions/500920/word-origin-meaning-of-kernel-in-linear-algebra).\n",
    "\n",
    "The word is originally traced to a reference to the null space of a system. Recall that a system is a mathematical operation $B$ being applied to a set $A$ which results in a set of values $C$. \n",
    "\n",
    "$$ AB = C $$\n",
    "\n",
    "Also recall that the null space of a system is the subset of operations in $B$ resulting in a value of zero such that:\n",
    "\n",
    "$$ AB = 0 $$\n",
    "\n",
    "Thinking about the value zero, this is essentially the origin of a uni-dimensional space. Extending this into multiple dimensions, the zero vector is also the origin of a multi-dimensional space.\n",
    "\n",
    "So we can conceptually say that the kernel (null space) contains information about the elements of the domain which map to the origin.\n",
    "\n",
    "It is important to note that the origin of euclidean space is our frame of reference. It is the central point which implicitly or explicitly gives meaning to all the other values of the domain and the operation. As such the origin is a primary point of interest whether intentionally acknowledged or not. All other measurements are based on the origin by default because of it's mathematical properties.\n",
    "\n",
    "Going a step further, the elements of the domain are going through an transformation operation and mapping to a transformed space. Some of these elements of the domain map to the origin of the transformed space, some do not. \n",
    "\n",
    "As such we can construct a relationship between the these sets of points to orient ourselves with respect to the transformed space. It may be the subject of interest to see how these raw domain points are related with respect to the transformed origin. It may also be computationally more efficient to work in the domain space rather than the transformed space.\n",
    "\n",
    "Thinking about this in reverse, the kernel contains information about this central point of interest and how it can be transformed into an arbitrary domain (via inverse transformation).\n",
    "\n",
    "We will see that as the mathematical field changes the \"point of interest\" may change. But generally speaking the kernel is still an operation/transformation that informs a relationship between a point of interest and a given domain."
   ]
  },
  {
   "cell_type": "code",
   "execution_count": null,
   "id": "dfaf3c84-783c-41e6-af45-0c66639c0698",
   "metadata": {},
   "outputs": [],
   "source": []
  },
  {
   "cell_type": "code",
   "execution_count": null,
   "id": "88d42f4b-6c8e-467c-b360-4b364d37737b",
   "metadata": {},
   "outputs": [],
   "source": []
  },
  {
   "cell_type": "code",
   "execution_count": null,
   "id": "fbb06729-eb78-41a6-9479-875a83f7e663",
   "metadata": {},
   "outputs": [],
   "source": []
  },
  {
   "cell_type": "code",
   "execution_count": null,
   "id": "6e6dd460-f06d-4100-94c4-3f68b06c0424",
   "metadata": {},
   "outputs": [],
   "source": []
  },
  {
   "cell_type": "markdown",
   "id": "204be609-fdd8-4951-8f12-fdd20d0c2041",
   "metadata": {},
   "source": [
    "https://datascience.stackexchange.com/questions/47984/simple-example-of-parzen-window-kernel-density-estimation"
   ]
  },
  {
   "cell_type": "markdown",
   "id": "1ed2d272-36e0-4914-aae0-6669567b5b90",
   "metadata": {},
   "source": [
    "# Definitions"
   ]
  },
  {
   "cell_type": "markdown",
   "id": "9a5950f7-183a-4382-8bb8-6eb84822a0ea",
   "metadata": {},
   "source": [
    "## Linear Algebra\n",
    "\n",
    "Given a function $f$ that maps a domain $x$ to a range $y$ such that\n",
    "\n",
    "$$ x \\xrightarrow{f} y $$\n",
    "\n",
    "The kernel $k$ of the $f$ is the subset of $x$ which maps to zero (or the zero vector).\n",
    "\n",
    "$$ k = \\{x_i\\} \\in x | f(x_i) = 0 $$\n",
    "\n",
    "Image here: https://en.wikipedia.org/wiki/Kernel_(linear_algebra)"
   ]
  },
  {
   "cell_type": "markdown",
   "id": "49f6e4e8-06f3-4fe8-8f55-7e1e567f3c46",
   "metadata": {},
   "source": [
    "## Set Theory"
   ]
  },
  {
   "cell_type": "markdown",
   "id": "25629cfc-3366-435b-aa50-a4c694967495",
   "metadata": {},
   "source": [
    "Given a function $f$ that maps a domain $x$ to a range $y$ such that\n",
    "\n",
    "$$ x \\xrightarrow{f} y $$\n",
    "\n",
    "A kernel $k$ of the function $f$ is the subset of $x$ which maps to the same subset of $y$. In other words if $f(x_i) = f(x_j)$ then $x_i$ and $x_j$ are part of a kernel.\n",
    "\n",
    "$$ k = \\{x_i, x_j\\} \\in x | f(x_i) = f(x_j) $$\n",
    "\n",
    "https://en.wikipedia.org/wiki/Kernel_(set_theory)"
   ]
  },
  {
   "cell_type": "markdown",
   "id": "0964bf32-6f26-4240-9fff-29878e7e7685",
   "metadata": {},
   "source": [
    "## Operator Theory"
   ]
  },
  {
   "cell_type": "markdown",
   "id": "4a48f16b-50c9-41f1-a8d4-57b5163112f2",
   "metadata": {},
   "source": [
    "A symetric function $f$ is called a kernel iff. the following holds:\n",
    "\n",
    "$$ \\sum_i \\sum_j c_i c_j f(x_i, x_j) = a$$\n",
    "\n",
    "Where $a$ and $c$ are arbitrary constants $a,c \\in \\mathbb{R}$."
   ]
  },
  {
   "cell_type": "markdown",
   "id": "2e6d7bc8-4c7f-4e76-82ec-8f88042e9694",
   "metadata": {},
   "source": [
    "### Positive Definite Kernels\n",
    "If the function $f$ is also such that the double summation $a$ is greater than or equal to one, then the function is referred to as a positive definite kernel"
   ]
  },
  {
   "cell_type": "markdown",
   "id": "06d34602-709a-45be-b5ed-47803a258d51",
   "metadata": {},
   "source": [
    "**Note**: It is equivalent to say that $f$ has entierly positive or entirely negative eigenvalues."
   ]
  },
  {
   "cell_type": "markdown",
   "id": "a5d4920f-cccf-4ce9-9239-485daf62aff4",
   "metadata": {},
   "source": [
    "Positive definite kernels of this sort arise as covariance functions when dealing with [stochastic processs regression](../Stochastics/Stochastic%20Process%20Regression.ipynb) of [gaussian processes](../Stochastics/Gaussian%20Process.ipynb). Specifically the kernel is an approximation of covariance. Covariance, being a measure of distance is thus concerned with the euclidean distance of a deviation from the mean."
   ]
  },
  {
   "cell_type": "markdown",
   "id": "0d715422-6b15-488c-b268-6925405f8f7b",
   "metadata": {},
   "source": [
    "## Kernel Density Estimation\n",
    "With this technique we use a kernel function to approximate a density function for a random variable. More on this topic can be found [here](../../Data%20Science/Exploratory%20Data%20Analysis%20%28EDA%29/Kernel%20Density%20Estimation%20%28KDE%29.ipynb)"
   ]
  },
  {
   "cell_type": "code",
   "execution_count": null,
   "id": "2fac9492-2966-4712-b77c-950f4760a98e",
   "metadata": {},
   "outputs": [],
   "source": []
  },
  {
   "cell_type": "code",
   "execution_count": null,
   "id": "9acc0297-db86-479b-8a8e-168dd4179a46",
   "metadata": {},
   "outputs": [],
   "source": []
  }
 ],
 "metadata": {
  "kernelspec": {
   "display_name": "Python 3",
   "language": "python",
   "name": "python3"
  },
  "language_info": {
   "codemirror_mode": {
    "name": "ipython",
    "version": 3
   },
   "file_extension": ".py",
   "mimetype": "text/x-python",
   "name": "python",
   "nbconvert_exporter": "python",
   "pygments_lexer": "ipython3",
   "version": "3.6.8"
  }
 },
 "nbformat": 4,
 "nbformat_minor": 5
}
