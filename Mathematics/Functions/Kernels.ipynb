{
 "cells": [
  {
   "cell_type": "markdown",
   "id": "d0d8a121-9b35-4b9c-af98-6fa22a92933b",
   "metadata": {},
   "source": [
    "# Overview"
   ]
  },
  {
   "cell_type": "markdown",
   "id": "23eda855-cfc6-4c09-887b-4924012035aa",
   "metadata": {},
   "source": [
    "The topic of kernels appears in several fields of mathematics. Unfortunately I cannot find a unifyinging premise other than a kernel is some function that applies a transformation which yields a specific outcome."
   ]
  },
  {
   "cell_type": "markdown",
   "id": "9a5950f7-183a-4382-8bb8-6eb84822a0ea",
   "metadata": {},
   "source": [
    "## Linear Algebra\n",
    "\n",
    "Given a function $f$ that maps a domain $x$ to a range $y$ such that\n",
    "\n",
    "$$ x \\xrightarrow{f} y $$\n",
    "\n",
    "The kernel $k$ of the $f$ is the subset of $x$ which maps to zero (or the zero vector).\n",
    "\n",
    "$$ k = \\{x_i\\} \\in x | f(x_i) = 0 $$\n",
    "\n",
    "Image here: https://en.wikipedia.org/wiki/Kernel_(linear_algebra)"
   ]
  },
  {
   "cell_type": "markdown",
   "id": "49f6e4e8-06f3-4fe8-8f55-7e1e567f3c46",
   "metadata": {},
   "source": [
    "# Set Theory"
   ]
  },
  {
   "cell_type": "markdown",
   "id": "25629cfc-3366-435b-aa50-a4c694967495",
   "metadata": {},
   "source": [
    "Given a function $f$ that maps a domain $x$ to a range $y$ such that\n",
    "\n",
    "$$ x \\xrightarrow{f} y $$\n",
    "\n",
    "A kernel $k$ of the function $f$ is the subset of $x$ which maps to the same subset of $y$. In other words if $f(x_i) = f(x_j)$ then $x_i$ and $x_j$ are part of a kernel.\n",
    "\n",
    "$$ k = \\{x_i, x_j\\} \\in x | f(x_i) = f(x_j) $$\n",
    "\n",
    "https://en.wikipedia.org/wiki/Kernel_(set_theory)"
   ]
  },
  {
   "cell_type": "markdown",
   "id": "0964bf32-6f26-4240-9fff-29878e7e7685",
   "metadata": {},
   "source": [
    "# Operator Theory"
   ]
  },
  {
   "cell_type": "markdown",
   "id": "4a48f16b-50c9-41f1-a8d4-57b5163112f2",
   "metadata": {},
   "source": [
    "A symetric function $f$ is called a kernel iff. the following holds:\n",
    "\n",
    "$$ \\sum_i \\sum_j c_i c_j f(x_i, x_j) = a$$\n",
    "\n",
    "Where $a$ and $c$ are arbitrary constants $a,c \\in \\mathbb{R}$."
   ]
  },
  {
   "cell_type": "markdown",
   "id": "2e6d7bc8-4c7f-4e76-82ec-8f88042e9694",
   "metadata": {},
   "source": [
    "## Positive Definite Kernels\n",
    "If the function $f$ is also such that the double summation $a$ is greater than or equal to one, then the function is referred to as a positive definite kernel"
   ]
  },
  {
   "cell_type": "markdown",
   "id": "06d34602-709a-45be-b5ed-47803a258d51",
   "metadata": {},
   "source": [
    "**Note**: It is equivalent to say that $f$ has entierly positive or entirely negative eigenvalues."
   ]
  },
  {
   "cell_type": "markdown",
   "id": "a5d4920f-cccf-4ce9-9239-485daf62aff4",
   "metadata": {},
   "source": [
    "Positive definite kernels of this sort arise as covariance functions when dealing with [stochastic processs regression](../Stochastics/Stochastic%20Process%20Regression.ipynb) of [gaussian processes](../Stochastics/Gaussian%20Process.ipynb)"
   ]
  }
 ],
 "metadata": {
  "kernelspec": {
   "display_name": "Python 3",
   "language": "python",
   "name": "python3"
  },
  "language_info": {
   "codemirror_mode": {
    "name": "ipython",
    "version": 3
   },
   "file_extension": ".py",
   "mimetype": "text/x-python",
   "name": "python",
   "nbconvert_exporter": "python",
   "pygments_lexer": "ipython3",
   "version": "3.6.8"
  }
 },
 "nbformat": 4,
 "nbformat_minor": 5
}
