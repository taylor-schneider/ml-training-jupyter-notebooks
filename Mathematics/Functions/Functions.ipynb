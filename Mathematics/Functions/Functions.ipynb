{
 "cells": [
  {
   "cell_type": "markdown",
   "id": "60f407b5-964a-49ad-a687-3146e31e23fa",
   "metadata": {},
   "source": [
    "# Overview\n",
    "There are many types of classifications of funnctions. In this notebook we define the various function types encountered in other notebooks"
   ]
  },
  {
   "cell_type": "markdown",
   "id": "0e718b9f-eb2e-4c4b-a3e1-2c7b5f2b6152",
   "metadata": {},
   "source": [
    "# One-to-one (injective) functions\n",
    "A function is said to be \"one to one\" (aka. injective) if every element in the domain maps to a single unique element in the co-domain.\n",
    "\n",
    "If we think of the function $f$ that maps elements of the domain $x$ to the co-domain (range) $y$ we have $f:x \\rightarrow y$. If for every $x_i$ in $x$ the function $f$ maps to a single $y_i$ which is unique for every $x_i$ then the function is one-to-one.\n",
    "\n",
    "If multiple $x_i$ map to the same $y_i$ then the function is not injective.\n",
    "\n",
    "For more information see the [wikipedia page](https://en.wikipedia.org/wiki/Injective_function)"
   ]
  },
  {
   "cell_type": "markdown",
   "id": "852a97a4-a2fb-4dc8-8668-851865535237",
   "metadata": {},
   "source": [
    "# Onto (surjective) functions\n",
    "\n",
    "A function is onto (aka. surjective) if every element of the co-domain is mapped to by an element in the domain. \n",
    "\n",
    "If we think of the function $f$ that maps elements of the domain $x$ to the co-domain (range) $y$ we have $f:x \\rightarrow y$.\n",
    "\n",
    "If there is an element in the co-domain that is not mapped to by $f$ (ie. there is no $x$ value that will produce the value $y_*$, the function is not onto."
   ]
  },
  {
   "cell_type": "markdown",
   "id": "b656a9a8-f28e-4311-9611-721d0c242177",
   "metadata": {},
   "source": [
    "# One to one and onto (bijective) functions\n",
    "A function is one to one and onto (aka. bijective) if it is both injective and surjective."
   ]
  },
  {
   "cell_type": "markdown",
   "id": "121306c9-ef27-43f9-8ee6-7fe2f65fd548",
   "metadata": {},
   "source": [
    "## Applications\n",
    "\n",
    "### Change of variable\n",
    "\n",
    "A bijective function allows for a change of variable. By definition if $f:x \\rightarrow y$ then $f^{-1}: y \\rightarrow x$. As such, knowing $f$ or $f^{-1}$ allows us to change a variable from $x$ to $y$ or vice versa."
   ]
  },
  {
   "cell_type": "markdown",
   "id": "de526514-633c-4795-96ee-f7b40a85dd51",
   "metadata": {},
   "source": [
    "# Diffeomorphism\n",
    "\n",
    "A function $f$ is a diffeomorphism (ie. performs a change of variables) if it, and its inverse $f^{-1}$ are differentiable and bijective.\n",
    "\n",
    "A linear combination is a transformation that exhibits the characteristics of a diffeomorphism. For example: $y = 2x+1$.\n",
    "\n",
    "## Applications\n",
    "\n",
    "### Change of variable in probability spaces\n",
    "\n",
    "The bijective function is very useful. For example in probability spaces, the probability density and cumulative density functions are bijective. Not only can we perform a change of variable with these types of functions, but we can also derive the probability density and cumulative distribution functions when the random variable is defined as a diffeomorphism.\n",
    "\n",
    "For example, in joint probability we often deal with unknown variables which are defined as linear combinations of other known variables which follow known distributions. We can exploit the properties of the bijective function and probabilistic relationships to derive missing information about the unknown variables.\n",
    "\n",
    "Assume $X$ follows a known distribution and $Y$ is defined as a bijective function $f_b$ of $X$. We can derive the distribution function $f_Y$ for the variable $Y$ as based on our knowledge of $f_X$ and the bijective relationship between $X$ and $Y$\n",
    "\n",
    "$$ Y = f_b(X)$$"
   ]
  },
  {
   "cell_type": "markdown",
   "id": "e50f182f-8633-430f-bed2-fe3f36735917",
   "metadata": {},
   "source": [
    "#### Proof:\n",
    "Let the support of $X$ be the set of $x_i$ in $X$ which have a probability greater than zero:\n",
    "\n",
    "$$ sup(X) = X_S = \\{x_i \\in X | p(x) > 0\\} $$\n",
    "\n",
    "Given the definition $Y = f_b(X)$, we then have a corresponding set in the co-domain:\n",
    "\n",
    "$$ Y_S = f_b(X_S) $$"
   ]
  },
  {
   "cell_type": "markdown",
   "id": "d308459b-87d6-469a-9c29-752d0df80b00",
   "metadata": {},
   "source": [
    "##### Calculate the CDF\n",
    "We calculate the cdf:\n",
    "\n",
    "$$ F_Y(y) = \\mathbb{P}(Y \\le y)$$\n",
    "\n",
    "$$= \\mathbb{P}(f(X) \\le y)$$\n",
    "\n",
    "$$= \\mathbb{P} \\left( f^{-1}(f(X)) \\le f^{-1}(y) \\right)$$\n",
    "\n",
    "$$= \\mathbb{P}(X \\le x) $$\n",
    "\n",
    "We previously performed a change of variable. The original equation is in terms of $Y$ but we now have an equation in terms of $X$.\n",
    "\n",
    "$$= \\int f_X(x) \\ \\ dx $$\n",
    "\n",
    "For a more rigorous treatment of this topic see [Penn State's STAT-414 Lession 22.2](https://online.stat.psu.edu/stat414/lesson/22/22.2) or the [wikipedia article](https://en.wikipedia.org/wiki/Integration_by_substitution#Substitution_for_multiple_variables)."
   ]
  },
  {
   "cell_type": "markdown",
   "id": "0085461c-dae8-4ac1-8800-7098eddbc8ce",
   "metadata": {},
   "source": []
  },
  {
   "cell_type": "code",
   "execution_count": null,
   "id": "62b59374-68e9-4291-a039-7b6403080bef",
   "metadata": {},
   "outputs": [],
   "source": []
  }
 ],
 "metadata": {
  "kernelspec": {
   "display_name": "Python 3",
   "language": "python",
   "name": "python3"
  },
  "language_info": {
   "codemirror_mode": {
    "name": "ipython",
    "version": 3
   },
   "file_extension": ".py",
   "mimetype": "text/x-python",
   "name": "python",
   "nbconvert_exporter": "python",
   "pygments_lexer": "ipython3",
   "version": "3.6.8"
  }
 },
 "nbformat": 4,
 "nbformat_minor": 5
}
