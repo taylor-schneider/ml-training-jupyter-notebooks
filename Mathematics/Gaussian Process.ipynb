{
 "cells": [
  {
   "cell_type": "markdown",
   "id": "7fdc0cd8-2e92-4012-abfd-e42a27b78d0f",
   "metadata": {},
   "source": [
    "https://brendanhasz.github.io/2018/10/10/hmm-vs-gp.html"
   ]
  },
  {
   "cell_type": "code",
   "execution_count": null,
   "id": "3accc586-1e69-4bd5-9219-a297e8b3d555",
   "metadata": {},
   "outputs": [],
   "source": []
  },
  {
   "cell_type": "code",
   "execution_count": null,
   "id": "021d847a-46d8-4592-a8f1-44abba6c4fe2",
   "metadata": {},
   "outputs": [],
   "source": [
    "import numpy\n",
    "import pandas\n",
    "from matplotlib import pyplot, cm\n",
    "import scipy\n",
    "\n",
    "from scipy.stats import multivariate_normal\n"
   ]
  },
  {
   "cell_type": "code",
   "execution_count": null,
   "id": "03a20758-0c63-4591-9b1f-988d1f2a600b",
   "metadata": {},
   "outputs": [],
   "source": []
  },
  {
   "cell_type": "markdown",
   "id": "587ea1c5-711e-4860-8dd2-7509d4fce16e",
   "metadata": {},
   "source": [
    "Intro:\n",
    "\n",
    "As the name suggests, the Gaussian distribution (which is often also referred to as normal distribution) is the basic building block of Gaussian processes. In particular, we are interested in the multivariate case of this distribution, where each random variable is distributed normally and their joint distribution is also Gaussian. "
   ]
  },
  {
   "cell_type": "code",
   "execution_count": null,
   "id": "7a90651b-4ff6-481f-9e98-603b66e133b8",
   "metadata": {},
   "outputs": [],
   "source": []
  },
  {
   "cell_type": "code",
   "execution_count": null,
   "id": "a7bd0856-e240-4870-9e19-e880de5291c4",
   "metadata": {},
   "outputs": [],
   "source": []
  },
  {
   "cell_type": "markdown",
   "id": "427b7fac-524d-4c48-be5e-71665a44b08b",
   "metadata": {},
   "source": [
    "# Gaussian Distribution\n",
    "\n",
    "Notes: \n",
    "- frequently used because of law of large numbers\n",
    "- [nice mathematical properties(https://distill.pub/2019/visual-exploration-gaussian-processes/)\n",
    "\n",
    "## Univariate Gaussian Distribution\n",
    "Named after its discoverer, and also known as the normal distribution, the gaussian distribution is a symmetric two parameter distribution characterized by $\\mu$ and $\\sigma^2$ representing the mean and standard deviation of the distribution of $x$ respectively.\n",
    "\n",
    "The equation is formally defined by the following equation\n",
    "\n",
    "$$ \\phi(x)=\\frac{1}{\\sigma \\sqrt{ 2 \\pi}}e^{-\\frac{1}{2} \\left( \\frac{x-\\mu}{\\sigma} \\right) ^2}  $$\n",
    "\n",
    "Where $x$ is some vector of numbers such that $x := [x_1, x_2, x_3, \\cdots, x_n]$\n",
    "\n",
    "It yields the following probability density functions $\\phi$ and cumulative distribution functions $\\Phi$ respectively:\n",
    "\n",
    "<table>\n",
    "    <tr>\n",
    "        <td>\n",
    "            <img src='images/normal_pdf.png'>\n",
    "        </td>\n",
    "        <td>\n",
    "            <img src='images/normal_cdf.png'>\n",
    "        </td>\n",
    "    </tr>\n",
    "</table>\n",
    "\n",
    "For more information consult this [wikipedia article](https://en.wikipedia.org/wiki/Normal_distribution)"
   ]
  },
  {
   "cell_type": "markdown",
   "id": "c9624f7f-ba00-4490-94fc-827b75d3d5f7",
   "metadata": {},
   "source": [
    "## Multivariate Gaussian Distribtuition\n",
    "The multivariate gaussian distribution is a generalization of the univariate distribution. It gives the probability that multiple variables take on specific values (ie. p(A and B)).\n",
    "\n",
    "### Matrix Notation Refresher\n",
    "As such the parameters of the distribution need to be replaced with their multivariate matrix notation counterparts $\\mu$ and $\\Sigma$. In matrix notation we let each column represent an individual variable and thus the rows represent the values of the variables for a coresponding observation. Given $n$ dimensions and $m$ observations we would have:\n",
    "\n",
    "$$X := [X_1, X_2, X_3, \\cdots, X_n]$$\n",
    "\n",
    "$$\\mu := [\\mu_1, \\mu_2, \\mu_3, \\cdots, \\mu_m]$$ \n",
    "\n",
    "$$\\Sigma := \\begin{bmatrix}\n",
    "\\sigma_1^2   & \\dots & \\sigma_{1,m}\\\\\n",
    "\\sigma_{2,1} & \\dots & \\sigma_{1,m} \\\\\n",
    "\\vdots       & \\ddots & \\vdots \\\\\n",
    "\\sigma_{n,1}   & \\dots & \\sigma_{n,m}\n",
    "\\end{bmatrix}\n",
    "$$\n",
    "\n",
    "Note: $\\Sigma$ is commonly referred to as the covariance matrix.\n",
    "\n",
    "$$ \\phi := \\mathcal{N}(\\mu, \\Sigma) $$"
   ]
  },
  {
   "cell_type": "markdown",
   "id": "3fb3f360-191e-43be-b7c4-3213cdad5f7e",
   "metadata": {},
   "source": [
    "## Covariance is important\n",
    "its a contraint that keeps like terms together\n",
    "https://ekamperi.github.io/mathematics/2021/03/30/gaussian-process-regression.html"
   ]
  },
  {
   "cell_type": "markdown",
   "id": "1753a31f-4ce1-4163-9603-3184656feb1e",
   "metadata": {},
   "source": [
    "Matrix being positive definite This is the multivariate analog of the univariate requirement for the variance σ2 to be positive. \n",
    "https://ekamperi.github.io/mathematics/2021/03/30/gaussian-process-regression.html"
   ]
  },
  {
   "cell_type": "code",
   "execution_count": null,
   "id": "1397eaba-a809-43e4-97d5-7b932e03a3a7",
   "metadata": {},
   "outputs": [],
   "source": []
  },
  {
   "cell_type": "markdown",
   "id": "c49b0dd5-aa17-4aa3-951d-51bd131f2f8b",
   "metadata": {},
   "source": [
    "Probability rules:\n",
    "    https://machinelearningmastery.com/bayes-theorem-for-machine-learning/"
   ]
  },
  {
   "cell_type": "code",
   "execution_count": null,
   "id": "7b999f16-7c65-4dd0-a46f-2a1037c1d813",
   "metadata": {},
   "outputs": [],
   "source": []
  },
  {
   "cell_type": "markdown",
   "id": "2e4cb969-1e8b-46d6-a35d-83be4cd02d71",
   "metadata": {},
   "source": [
    "## Intuition For Joint Probability Distributions\n",
    "\n",
    "Multivariate distributions are also commonly referred to as [joint probability distributions](https://en.wikipedia.org/wiki/Joint_probability_distribution) meaning that it yields the probability that $n$ variables yield a given value within an $n$-dimensional space. As a probability distribution it can also be expressed as both a PDF and CDF.\n",
    "\n",
    "\n",
    "Visually, the distribution is centered around the mean and the covariance matrix defines its shape around the mean. \n",
    "\n",
    "Let's examine the two dimensional case. \n",
    "\n",
    "If the underlying distributions independant ($X_1 \\perp  X_2$ we will have a covariance matrix such that $\\Sigma = \\begin{bmatrix}\n",
    "1 & 0 \\\\\n",
    "0 & 1\n",
    "\\end{bmatrix}\n",
    "$ and we will see that the two dimensional space is a circle:"
   ]
  },
  {
   "cell_type": "code",
   "execution_count": 1,
   "id": "79fd76a4-0b52-463e-be00-c950b2ec18e8",
   "metadata": {},
   "outputs": [],
   "source": [
    "%matplotlib widget"
   ]
  },
  {
   "cell_type": "code",
   "execution_count": 2,
   "id": "a0cfa04b-bfe6-4955-9275-dfed85aa5443",
   "metadata": {},
   "outputs": [
    {
     "data": {
      "application/vnd.jupyter.widget-view+json": {
       "model_id": "1f79910b6bdb40439ab8ce9dccedd3ef",
       "version_major": 2,
       "version_minor": 0
      },
      "text/plain": [
       "Text(value='Hello')"
      ]
     },
     "metadata": {},
     "output_type": "display_data"
    }
   ],
   "source": [
    "from ipywidgets import Text\n",
    "Text(\"Hello\")"
   ]
  },
  {
   "cell_type": "code",
   "execution_count": null,
   "id": "bad1df4e-d8eb-4e9b-a2d2-ba3039f35c06",
   "metadata": {},
   "outputs": [],
   "source": [
    "visuals: https://distill.pub/2019/visual-exploration-gaussian-processes/#DimensionSwap"
   ]
  },
  {
   "cell_type": "code",
   "execution_count": null,
   "id": "6e1a89f0-2849-43f6-8a45-23491b55c307",
   "metadata": {},
   "outputs": [],
   "source": []
  },
  {
   "cell_type": "code",
   "execution_count": null,
   "id": "9bf3b0b0-833c-425c-8465-93d97b8117ec",
   "metadata": {},
   "outputs": [],
   "source": []
  },
  {
   "cell_type": "code",
   "execution_count": 5,
   "id": "db557186-c5a2-436a-818e-7c39e911698f",
   "metadata": {},
   "outputs": [
    {
     "data": {
      "image/png": "[encoded data removed]",
      "text/plain": [
       "<Figure size 432x288 with 1 Axes>"
      ]
     },
     "metadata": {
      "needs_background": "light"
     },
     "output_type": "display_data"
    }
   ],
   "source": [
    "import numpy\n",
    "import pandas\n",
    "from matplotlib import pyplot, cm\n",
    "import scipy\n",
    "\n",
    "from scipy.stats import multivariate_normal\n",
    "\n",
    "mu = [0, 0]\n",
    "sigma = numpy.array([[1, 0.8],[0.8, 1]])\n",
    "\n",
    "x = numpy.linspace(-3, 3, 200)\n",
    "y = numpy.linspace(-3, 3, 200)\n",
    "x, y = numpy.meshgrid(x, y)\n",
    "grid_coord = numpy.dstack((x,y))\n",
    "\n",
    "rv = multivariate_normal(mu, sigma)\n",
    "z = rv.pdf(grid_coord)\n",
    "\n",
    "fig = pyplot.figure()\n",
    "ax = fig.gca(projection='3d')\n",
    "#ax.plot_wireframe(x,y,z, cmap=cm.coolwarm)\n",
    "ax.plot_surface(x,y,z, cmap=cm.coolwarm)\n",
    "ax.view_init(30, 30)\n",
    "\n",
    "pyplot.show()"
   ]
  },
  {
   "cell_type": "markdown",
   "id": "dd472b76-5500-4b75-b6d7-04e2289293cb",
   "metadata": {},
   "source": [
    "multivariate gaussian plot: https://www.ritchievink.com/blog/2019/02/01/an-intuitive-introduction-to-gaussian-processes/"
   ]
  },
  {
   "cell_type": "raw",
   "id": "f206b358-a04c-4e3f-813a-49eb63a28eed",
   "metadata": {},
   "source": []
  },
  {
   "cell_type": "markdown",
   "id": "9690bbfc-0661-45ed-8580-a96412f0cd3d",
   "metadata": {},
   "source": []
  },
  {
   "cell_type": "code",
   "execution_count": null,
   "id": "9105a634-ba13-488e-bd66-7b4689aa5eff",
   "metadata": {},
   "outputs": [],
   "source": [
    "xv"
   ]
  },
  {
   "cell_type": "code",
   "execution_count": null,
   "id": "a36df1c9-b88f-4a4a-a27a-9ee7d88687df",
   "metadata": {
    "tags": []
   },
   "outputs": [],
   "source": [
    "import numpy\n",
    "from scipy.stats import multivariate_normal\n",
    "from matplotlib import pyplot\n",
    "\n",
    "# Generate a random normal variable which we will use to calculate probabilities\n",
    "mu = [0, 0]\n",
    "sigma = numpy.array([[1, 0],[0,1]])\n",
    "rv = multivariate_normal(mu, sigma)\n",
    "\n",
    "# Generate a 2D meshgrid\n",
    "#    https://www.geeksforgeeks.org/numpy-meshgrid-function/\n",
    "xv, yv = numpy.meshgrid(numpy.linspace(-3, 3, 200), numpy.linspace(-3, 3, 200))\n",
    "\n",
    "# Transform into a list of coordinates\n",
    "grid_coord = numpy.dstack((xv, yv))\n",
    "\n",
    "# Calculate probabilities for each coordinate pair\n",
    "prob_coord = rv.pdf(grid_coord)\n",
    "\n",
    "# Create an object to hold our visuals and set the dimensions and labels\n",
    "fig, ax = pyplot.subplots()\n",
    "fig.set_figwidth(4)\n",
    "fig.set_figheight(4)\n",
    "ax.set_title('Joint probability distribution with zero coavairnace', pad=20)\n",
    "ax.set_xlabel('X_1 - \\phi(0, 1)')\n",
    "ax.set_ylabel('X_2 - phi(0, 1)')\n",
    "pyplot.xlim([-3, 3])\n",
    "pyplot.ylim([-3, 3])\n",
    "\n",
    "# Plot the countour map, color bar, and point\n",
    "contour = ax.contourf(xv, yv, prob_coord, cmap=pyplot.rcParams['image.cmap'])\n",
    "color_bar = pyplot.colorbar(contour)\n",
    "ax.scatter(1,1.5,c='black');"
   ]
  },
  {
   "cell_type": "markdown",
   "id": "7392f0d3-44de-4ac8-9f25-8ddb2ed56d3d",
   "metadata": {},
   "source": [
    "If we look at an arbitrary point where $X_1 = 1$ and $X_2 = 1.5$ we see this point falls towards the top right of the space and would have a lower probability than that of the center."
   ]
  },
  {
   "cell_type": "markdown",
   "id": "e2f9e7ab-faee-4caf-8c61-834fb1f16f7a",
   "metadata": {},
   "source": [
    "If there is an asymmetry and one distribution has a larger standard deviation than the other we will see the space stretches in that dimension. In our case the $X_2$ is such that $\\sigma_2=5$. We see the probability of our point has increased."
   ]
  },
  {
   "cell_type": "code",
   "execution_count": null,
   "id": "b4e4b226-8b6f-4007-ada2-0868f420cee6",
   "metadata": {
    "jupyter": {
     "source_hidden": true
    },
    "tags": []
   },
   "outputs": [],
   "source": [
    "import numpy\n",
    "from scipy.stats import multivariate_normal\n",
    "from matplotlib import pyplot\n",
    "\n",
    "# Generate a random normal variable which we will use to calculate probabilities\n",
    "mu = [0, 0]\n",
    "sigma = numpy.array([[1, 0],[0,5]])\n",
    "rv = multivariate_normal(mu, sigma)\n",
    "\n",
    "# Generate a 2D meshgrid\n",
    "#    https://www.geeksforgeeks.org/numpy-meshgrid-function/\n",
    "xv, yv = numpy.meshgrid(numpy.linspace(-3, 3, 200), numpy.linspace(-3, 3, 200))\n",
    "\n",
    "# Transform into a list of coordinates\n",
    "grid_coord = numpy.dstack((xv, yv))\n",
    "\n",
    "# Calculate probabilities for each coordinate pair\n",
    "prob_coord = rv.pdf(grid_coord)\n",
    "\n",
    "# Create an object to hold our visuals and set the dimensions and labels\n",
    "fig, ax = pyplot.subplots()\n",
    "fig.set_figwidth(4)\n",
    "fig.set_figheight(4)\n",
    "ax.set_title('Joint probability distribution with zero coavairnace', pad=20)\n",
    "ax.set_xlabel('X_1 - \\phi(0, 1)')\n",
    "ax.set_ylabel('X_2 - phi(0, 1)')\n",
    "pyplot.xlim([-3, 3])\n",
    "pyplot.ylim([-3, 3])\n",
    "\n",
    "# Plot the countour map, color bar, and point\n",
    "contour = ax.contourf(xv, yv, prob_coord, cmap=pyplot.rcParams['image.cmap'])\n",
    "color_bar = pyplot.colorbar(contour)\n",
    "ax.scatter(1,1.5,c='black');"
   ]
  },
  {
   "cell_type": "markdown",
   "id": "1bbb459e-f317-42b1-bea3-8651136c6265",
   "metadata": {},
   "source": [
    "If the two distrinutions co-vary meaning that the $X_1$ and $X_2$ are not strictly independent, we see that the space again stetches, but not along either dimension. It becomes skewed to the right indicating that similar values between $X_1$ and $X_2$ are expected to occur more frequently. As the covariance increases, the \"width\" of the space will continue to shrink while the length continues to increase."
   ]
  },
  {
   "cell_type": "code",
   "execution_count": null,
   "id": "bd652aed-2b9a-4743-b706-2a4e91bfc9a2",
   "metadata": {
    "jupyter": {
     "source_hidden": true
    },
    "tags": []
   },
   "outputs": [],
   "source": [
    "import numpy\n",
    "from scipy.stats import multivariate_normal\n",
    "from matplotlib import pyplot\n",
    "\n",
    "# Generate a random normal variable which we will use to calculate probabilities\n",
    "mu = [0, 0]\n",
    "sigma = numpy.array([[1, 0.8],[0.8,1]])\n",
    "rv = multivariate_normal(mu, sigma)\n",
    "\n",
    "# Generate a 2D meshgrid\n",
    "#    https://www.geeksforgeeks.org/numpy-meshgrid-function/\n",
    "xv, yv = numpy.meshgrid(numpy.linspace(-3, 3, 200), numpy.linspace(-3, 3, 200))\n",
    "\n",
    "# Transform into a list of coordinates\n",
    "grid_coord = numpy.dstack((xv, yv))\n",
    "\n",
    "# Calculate probabilities for each coordinate pair\n",
    "prob_coord = rv.pdf(grid_coord)\n",
    "\n",
    "# Create an object to hold our visuals and set the dimensions and labels\n",
    "fig, ax = pyplot.subplots()\n",
    "fig.set_figwidth(4)\n",
    "fig.set_figheight(4)\n",
    "ax.set_title('Joint probability distribution with high coavairnace', pad=20)\n",
    "ax.set_xlabel('X_1 - \\phi(0, 1)')\n",
    "ax.set_ylabel('X_2 - phi(0, 1)')\n",
    "pyplot.xlim([-3, 3])\n",
    "pyplot.ylim([-3, 3])\n",
    "\n",
    "# Plot the countour map, color bar, and point\n",
    "contour = ax.contourf(xv, yv, prob_coord, cmap=pyplot.rcParams['image.cmap'])\n",
    "color_bar = pyplot.colorbar(contour)\n",
    "ax.scatter(1,1.5,c='black');"
   ]
  },
  {
   "cell_type": "markdown",
   "id": "1503a44f-ac64-4a7c-8583-527ef855b57d",
   "metadata": {},
   "source": [
    "Conversely a negative covariance would skew towards the left."
   ]
  },
  {
   "cell_type": "markdown",
   "id": "bd07fb03-c35c-4233-aa96-deff57c3ddb6",
   "metadata": {},
   "source": [
    "## Intuition For Conditional Probability Distributions\n",
    "\n",
    "A conditional probability is one that expresses the probability of an outcome A given that an outcome B has already occured. This is expressed mathematically as $p(A|B)$."
   ]
  },
  {
   "cell_type": "markdown",
   "id": "c96efceb-7def-44e8-a5e7-05f8d56e6960",
   "metadata": {},
   "source": [
    "It is possible to derive a conditional probability distribution from a joint distribution. Using the definition of conditional probability we have:\n",
    "\n",
    "$$ P(A|B) = \\frac{P(A \\cap B)}{P(B)} $$\n",
    "\n",
    "Recall the relationship between union ($\\cup$) and intersection ($\\cap$) shown visually below:\n",
    "\n",
    "<table>\n",
    "    <tr>\n",
    "        <td>\n",
    "            <img src='images/a_union_b.png' height='200px' width='200px'>\n",
    "        </td>\n",
    "        <td>\n",
    "            <img src='images/a_intersect_b.png' height='200px' width='200px'>\n",
    "        </td>\n",
    "    </tr>\n",
    "</table>\n",
    "\n",
    "For example, looking at the bi-variate example from the previous section, we could take a slice (either vertically or horizontally) such that one of the variables is frozen at a given value. Below we see a multivariate joint distribution for a non-independent pair of variables in the bottom left and the univariate probability density functions for each variable."
   ]
  },
  {
   "cell_type": "code",
   "execution_count": null,
   "id": "e0a387d5-4ab2-4c6e-8a39-57f8132c3915",
   "metadata": {
    "jupyter": {
     "source_hidden": true
    },
    "tags": []
   },
   "outputs": [],
   "source": [
    "import numpy\n",
    "from scipy.stats import multivariate_normal\n",
    "from matplotlib import pyplot\n",
    "\n",
    "# Generate a random normal variable which we will use to calculate probabilities\n",
    "mu = [0, 0]\n",
    "sigma = numpy.array([[1, 0.8],[0.8,1]])\n",
    "rv = multivariate_normal(mu, sigma)\n",
    "\n",
    "# Generate a 2D meshgrid\n",
    "#    https://www.geeksforgeeks.org/numpy-meshgrid-function/\n",
    "xv, yv = numpy.meshgrid(numpy.linspace(-3, 3, 200), numpy.linspace(-3, 3, 200))\n",
    "\n",
    "# Transform into a list of coordinates\n",
    "grid_coord = numpy.dstack((xv, yv))\n",
    "\n",
    "# Calculate probabilities for each coordinate pair\n",
    "prob_coord = rv.pdf(grid_coord)\n",
    "\n",
    "# Create an object to hold our visuals and set the dimensions and labels\n",
    "fig, ax = pyplot.subplots(2, 2)\n",
    "fig.set_figwidth(6)\n",
    "fig.set_figheight(6)\n",
    "\n",
    "# Hide the unused subplot\n",
    "ax[0][1].axis('off')\n",
    "\n",
    "# Plot the pdf for X1 and X2\n",
    "x = numpy.linspace(-3, 3, 200)\n",
    "dist = scipy.stats.norm(loc=0, scale=sigma[0][0])\n",
    "y = dist.pdf(x)\n",
    "ax[0][0].plot(x, y)\n",
    "ax[0][0].scatter(1, dist.pdf(1))\n",
    "\n",
    "x = numpy.linspace(-3, 3, 200)\n",
    "dist = scipy.stats.norm(loc=0, scale=sigma[1][1])\n",
    "y = dist.pdf(x)\n",
    "ax[1][1].plot(y, x)\n",
    "ax[1][1].scatter(dist.pdf(1.5), 1.5)\n",
    "\n",
    "\n",
    "#ax[1][0].set_title('Joint probability distribution with high coavairnace', pad=20)\n",
    "ax[1][0].set_xlabel('X_1 - \\phi(0, 1)')\n",
    "ax[1][0].set_ylabel('X_2 - phi(0, 1)')\n",
    "#pyplot.xlim([-3, 3])\n",
    "#pyplot.ylim([-3, 3])\n",
    "\n",
    "# Plot the countour map, color bar, and point\n",
    "contour = ax[1][0].contourf(xv, yv, prob_coord, cmap=pyplot.rcParams['image.cmap'])\n",
    "#color_bar = pyplot.colorbar(contour, ax=ax[1][0])\n",
    "ax[1][0].scatter(1,1.5,c='black');"
   ]
  },
  {
   "cell_type": "markdown",
   "id": "06011ce4-5867-444b-b51f-99c08b24a1b7",
   "metadata": {},
   "source": [
    "We will take a vertical slice and fix $X_1$ with a value of 1 to look at how the probability distribution has shifted."
   ]
  },
  {
   "cell_type": "code",
   "execution_count": null,
   "id": "f6f6b939-a1ec-4ed2-9196-b7645bd1c695",
   "metadata": {
    "jupyter": {
     "source_hidden": true
    },
    "tags": []
   },
   "outputs": [],
   "source": [
    "import numpy\n",
    "from scipy.stats import multivariate_normal\n",
    "from matplotlib import pyplot\n",
    "\n",
    "# Generate a random normal variable which we will use to calculate probabilities\n",
    "mu = [0, 0]\n",
    "sigma = numpy.array([[1, 0.8],[0.8,2]])\n",
    "rv = multivariate_normal(mu, sigma)\n",
    "\n",
    "# Generate a number line\n",
    "x = numpy.linspace(-7, 7, 200)\n",
    "\n",
    "# Generate probabilities for the first random variable\n",
    "normal_uv_rv = scipy.stats.norm(loc=0, scale=2)\n",
    "p1 = normal_uv_rv.pdf(x)\n",
    "x_1 = 1\n",
    "p_x_1 = normal_uv_rv.pdf(x_1)\n",
    "\n",
    "# Generate joint probabilities with a fixed X_1\n",
    "x2 = x.copy()\n",
    "grid_coord = numpy.column_stack((numpy.full(x2.shape, 1), x2))\n",
    "p_x2_and_x1 = rv.pdf(grid_coord)\n",
    "\n",
    "# Generate conditional probabilities given a fixed X_1\n",
    "p_x2_given_x1 = p_x2_and_x1 / p1\n",
    "\n",
    "# Calculate the means of the distributions\n",
    "i = numpy.argmax(p1)\n",
    "p1_mean_x = x[i]\n",
    "p1_mean = p1[i]\n",
    "i = numpy.argmax(p_x2_and_x1)\n",
    "p_x2_and_x1_mean_x = x[i]\n",
    "p_x2_and_x1_mean = p_x2_and_x1[i]\n",
    "i = numpy.argmax(p_x2_given_x1)\n",
    "p_x2_given_x1_mean_x = x[i]\n",
    "p_x2_given_x1_mean = p_x2_given_x1[i]\n",
    "\n",
    "# Plot\n",
    "fig, ax = pyplot.subplots()\n",
    "fig.set_figwidth(6)\n",
    "fig.set_figheight(6)\n",
    "ax.plot(x, p1, c='black')\n",
    "ax.plot(x, p_x2_and_x1, c='blue')\n",
    "ax.plot(x, p_x2_given_x1, c='green')\n",
    "ax.scatter(p1_mean_x, p1_mean, c='black')\n",
    "ax.scatter(p_x2_and_x1_mean_x, p_x2_and_x1_mean, c='blue')\n",
    "ax.scatter(p_x2_given_x1_mean_x, p_x2_given_x1_mean, c='green')\n",
    "ax.legend([\n",
    "    \"p($X_1)$\", \n",
    "    \"$p(X_2 \\cap X_1=1)$\", \n",
    "    \"$p(X_2|X_1=1)$\",\n",
    "    \"$\\mu$ = {0}\".format(p1_mean_x),\n",
    "    \"$\\mu$ = {0}\".format(p_x2_and_x1_mean_x),\n",
    "    \"$\\mu$ = {0}\".format(p_x2_given_x1_mean_x)\n",
    "]);"
   ]
  },
  {
   "cell_type": "markdown",
   "id": "8da7b659-3c64-47d4-9348-ee29b1cfaa4b",
   "metadata": {},
   "source": [
    "In the diagram above, we can see the the effects on the distributions as we fix a variable. We see that the distributions move to the right by looking at the means (visually indicated by the peaks) and we see that the distributions narrow by looking at the variance (visually indicated by the widths). The green distribution shows us the unconditional probability of $X_1$. This distribution will also describe the unconditional probability of $X_2$. We see this distribution of $X_2$ changes as we fix a value of $X_1=1$. \n",
    "\n",
    "Looking at the black distribution, we see that the probability of obtaining any value of $X_2$ and obtaining a value $X_1=1$ is generally smaller than obtaining the same value of $X_2$ independently. This intuitively makes sense as there is a smaller chance that two things happen at the same time. Intuitively this makes sense: we are multiplying a small number (smaller than one) by another small number... so we will get an even smaller number. We also see that the mean of the distribution has moved to the right. This indicates that the value $X_2$ is likely to take is somewhere around 1 rather than 0. Additionally we see that the variance of the distribution shrinks which indicates that the range of values that the variable is likely to take on is also shrinking (definition of variance).\n",
    "\n",
    "Finally, with the green distribution, we see that the $X_2$ is most likely to take on a value of 1.23 given that $X_1=1$."
   ]
  },
  {
   "cell_type": "markdown",
   "id": "a365c95f-200f-4d44-885b-26199e6bcc2d",
   "metadata": {},
   "source": [
    "# Kernels\n",
    "Stated generally, a kernel is a function that maps a multi-dimensional space to a unidimensional space. Mathematically denoted as:\n",
    "\n",
    "$$ K : \\mathcal{X}^n \\rightarrow Y $$\n",
    "\n",
    "Using functional set notation we would have\n",
    "\n",
    "$$ K(X_1, X_2, \\dots, X_n) \\in Y, \\ where  \\ X:={X_1, X_2, \\dots, X_n} $$\n",
    "\n",
    "A kernel function typically satisfies the following two properties (but this is not required for all kernel\n",
    "methods). \n",
    "\n",
    "<table width='600px' >\n",
    "    <tr align='center'>\n",
    "        <th width='100px'>\n",
    "            Property\n",
    "        </th>\n",
    "        <th>\n",
    "            Definition\n",
    "        </th>\n",
    "    </tr>\n",
    "    <tr align='center'>\n",
    "        <td>\n",
    "            Symmetric\n",
    "        </td>\n",
    "        <td>\n",
    "            $$ \\forall {x_1, x_2, \\dots, x_n} \\in \\mathcal{X}^n, \n",
    "            K(x_1, x_2, \\dots, x_n) \\ge 0 \n",
    "            $$\n",
    "        </td>\n",
    "    </tr>\n",
    "    <tr align='center'>\n",
    "        <td>\n",
    "            Non-negative\n",
    "        </td>\n",
    "        <td>\n",
    "            $$ \\forall {x_1, x_2, \\dots, x_n} \\in \\mathcal{X}^n, \n",
    "            K(x_1, x_2, \\dots, x_n) = K(x_n, \\dots, x_2, x_1) \n",
    "            $$\n",
    "        </td>\n",
    "    </tr>\n",
    "</table>"
   ]
  },
  {
   "cell_type": "markdown",
   "id": "d6019afb-1563-4fe9-b4e3-9957ece7a7ad",
   "metadata": {},
   "source": [
    "**Note:** Kernels appear in a number of mathematical fields and is often presented in an applied context with a more specific definition. They are used in image processing, interpolation, machine learning, and more. For a primer consider the following texts \n",
    "- https://www.cs.princeton.edu/~bee/courses/scribe/lec_10_09_2013.pdf\n",
    "- [The kernel Cookbook](https://www.cs.toronto.edu/~duvenaud/cookbook/)"
   ]
  },
  {
   "cell_type": "markdown",
   "id": "55b7fa70-788c-40d0-adb7-71c31d401195",
   "metadata": {},
   "source": [
    "## Notable Kernels\n",
    "\n",
    "- Periodic Kernels\n",
    "- Matern Kernel\n",
    "\n",
    "more exmpaples: https://www.cs.uic.edu/~hjin/files/bayesian_opt.pdf"
   ]
  },
  {
   "cell_type": "markdown",
   "id": "e7ffab8b-f301-422d-9cbe-747f36d6cb66",
   "metadata": {},
   "source": [
    "### Gaussian (Squared Exponential)\n",
    "\n",
    "$$ K(x, y) : \\alpha^2 exp \\left( {-\\frac{(x - y)^2}{2\\rho^2}} \\right) + \\sigma^2 \\delta_{x, y} $$\n",
    "\n",
    "The parameters are defined as follows:\n",
    "\n",
    "- $\\alpha$ - a hyper parameter which controls how likely the kernel returns a value near zero\n",
    "- $\\rho$\n",
    "- $\\sigma$\n",
    "- $\\delta$ - takes a value from 0 to 1 depending on whether or not \n"
   ]
  },
  {
   "cell_type": "code",
   "execution_count": null,
   "id": "f898d4b2-efab-4fc1-b883-8ae5fcddc40b",
   "metadata": {},
   "outputs": [],
   "source": []
  },
  {
   "cell_type": "markdown",
   "id": "e621bd78-0244-46f6-aa9c-5e3e0cb9a75c",
   "metadata": {},
   "source": [
    "We can look at the different shapes that the distribution will take on as the parameters change."
   ]
  },
  {
   "cell_type": "code",
   "execution_count": null,
   "id": "364dab91-ba17-4609-880f-3d6b339de9af",
   "metadata": {
    "tags": []
   },
   "outputs": [],
   "source": [
    "import numpy\n",
    "import itertools\n",
    "from scipy.stats import multivariate_normal\n",
    "from matplotlib import pyplot\n",
    "\n",
    "def gaussian_kernel(diff, a, p, s, d):\n",
    "    \n",
    "    return a**2 * numpy.exp(-(diff)**2/2*p**2) + s**2 * d\n",
    "\n",
    "def plot_variable(ax, diff, a, p, s, d):\n",
    "    \n",
    "    # Calculate the kernel values\n",
    "    g = gaussian_kernel(diff, a, p, s, d)\n",
    "\n",
    "# Generate a number line\n",
    "diff = numpy.linspace(-5, 5, 200)\n",
    "\n",
    "# Generate potting objects\n",
    "fig, ax = pyplot.subplots(2,2)\n",
    "ax = [ax[0][0],ax[0][1], ax[1][0], ax[1][1]]\n",
    "fig.set_figwidth(12)\n",
    "fig.set_figheight(12)\n",
    "#ax.set_xlabel('x - y')\n",
    "#ax.set_ylabel('K(x, y)')\n",
    "\n",
    "params = ['a', 'p', 's', 'd']\n",
    "possible_values = {\n",
    "    'a': [-1, -.5, 0.1, .5, 1, 2, 5],\n",
    "    's': [-1, -.5, 0.1, .5, 1, 2, 5],\n",
    "    'p': [-1, -.5, 0.1, .5, 1, 2, 5],\n",
    "    'd': [0, 1]\n",
    "}\n",
    "defaults = {\n",
    "    'a': 1,\n",
    "    's': 1,\n",
    "    'p': 1/2,\n",
    "    'd': 1\n",
    "}\n",
    "    \n",
    "for i in range(0, len(params)):\n",
    "\n",
    "    varied_param = params[i]\n",
    "    \n",
    "    # Set the defaults\n",
    "    for j in range(0, len(params)):\n",
    "        param_name = params[j]\n",
    "        param_default = defaults[param_name]\n",
    "        exec(\"{0} = {1}\".format(param_name, param_default))\n",
    "            \n",
    "    legend_labels = []\n",
    "    for value in possible_values[varied_param]:\n",
    "\n",
    "        # Set the value of the variable that will be varried\n",
    "        exec(\"{0} = {1}\".format(varied_param, value))\n",
    "                \n",
    "        # Calculate the kernel values\n",
    "        g = gaussian_kernel(diff, a, p, s, d)\n",
    "\n",
    "        # Get the axis\n",
    "        ax[i].plot(diff, g)\n",
    "        \n",
    "        legend_labels.append(\"a={0}, p={1}, s={2}, d={3}\".format(a, p, s, d))\n",
    "        \n",
    "        ax[i].set_title(varied_param)\n",
    "        \n",
    "    ax[i].legend(legend_labels);"
   ]
  },
  {
   "cell_type": "code",
   "execution_count": null,
   "id": "acb35bec-f398-47cd-bae6-57aa19f80952",
   "metadata": {},
   "outputs": [],
   "source": []
  },
  {
   "cell_type": "code",
   "execution_count": null,
   "id": "1b4366f5-1d39-4731-ab70-bd47a53ac0e9",
   "metadata": {},
   "outputs": [],
   "source": []
  },
  {
   "cell_type": "code",
   "execution_count": null,
   "id": "b5286671-5957-42a6-907b-4448afa0681d",
   "metadata": {},
   "outputs": [],
   "source": [
    "        \n",
    "        # plot\n",
    "        if line_count < 10:\n",
    "            ax.plot(diff, g)\n",
    "        elif line_count < 20:\n",
    "            ax.plot(diff, g, '--')\n",
    "        elif line_count < 30:\n",
    "            ax.plot(diff, g, '.')\n",
    "        else:\n",
    "            ax.plot(diff, g)\n",
    "\n",
    "    legend_labels.append(\"a={0}, p={1}, s={2}, d={3}\".format(a, p, s, d))\n",
    "    \n",
    "    line_count += 1\n",
    "    \n",
    "ax.legend(legend_labels);"
   ]
  },
  {
   "cell_type": "code",
   "execution_count": null,
   "id": "269e309c-002b-4198-93f5-482695d5acab",
   "metadata": {
    "tags": []
   },
   "outputs": [],
   "source": [
    "def gaussian_kernel(diff, a, p, s, d):\n",
    "    \n",
    "    return a**2 * numpy.exp(-(diff)**2/2*p**2) + s**2 * d\n",
    "\n",
    "\n",
    "import numpy\n",
    "import itertools\n",
    "from scipy.stats import multivariate_normal\n",
    "from matplotlib import pyplot\n",
    "\n",
    "# Generate a number line\n",
    "diff = numpy.linspace(-5, 5, 200)\n",
    "\n",
    "# Generate potting objects\n",
    "fig, ax = pyplot.subplots()\n",
    "fig.set_figwidth(12)\n",
    "fig.set_figheight(12)\n",
    "ax.set_xlabel('x - y')\n",
    "ax.set_ylabel('K(x, y)')\n",
    "\n",
    "# Set the hyperparameters\n",
    "possible_parameter_values = [0.1, 0.5, 1, 1.5, 2, 3]\n",
    "permutations = itertools.combinations_with_replacement(possible_parameter_values, r=4)\n",
    "\n",
    "legend_labels = []\n",
    "line_count = 0\n",
    "for permutation in permutations:\n",
    "    \n",
    "    a, p, s, d = permutation\n",
    "    \n",
    "    # Calculate the kernel values\n",
    "    g = gaussian_kernel(diff, a, p, s, d)\n",
    "    \n",
    "    # Ignore those which do not behave like a probability distribution\n",
    "    if g[numpy.argmax(g)] > 1:\n",
    "        continue\n",
    "\n",
    "    # plot\n",
    "    if line_count < 10:\n",
    "        ax.plot(diff, g)\n",
    "    elif line_count < 20:\n",
    "        ax.plot(diff, g, '--')\n",
    "    elif line_count < 30:\n",
    "        ax.plot(diff, g, '.')\n",
    "\n",
    "    legend_labels.append(\"a={0}, p={1}, s={2}, d={3}\".format(a, p, s, d))\n",
    "    \n",
    "    line_count += 1\n",
    "    \n",
    "ax.legend(legend_labels);"
   ]
  },
  {
   "cell_type": "code",
   "execution_count": null,
   "id": "245176c8-19fc-41d4-bec5-931289836ebc",
   "metadata": {},
   "outputs": [],
   "source": [
    "line_count"
   ]
  },
  {
   "cell_type": "code",
   "execution_count": null,
   "id": "26cc09b5-7036-4a72-906b-ca7f7469eaa0",
   "metadata": {},
   "outputs": [],
   "source": []
  },
  {
   "cell_type": "markdown",
   "id": "cb6e8aca-b834-47f9-9100-7dfb6597e288",
   "metadata": {},
   "source": [
    "# Kernels and Covariance"
   ]
  },
  {
   "cell_type": "markdown",
   "id": "9fbb1e73-f849-462d-90e9-214c9757d8c8",
   "metadata": {},
   "source": [
    "The covariance is such that the value returned is large if the values of the random variables are close to each other and small if they are not. It is defined mathematically as:\n",
    "\n",
    "$$ Cov(X, Y) = E \\left[(X - \\mu_X)(Y-\\mu_y) \\right] $$\n",
    "$$ = E[XY] - \\mu_X \\mu_Y $$\n",
    "\n",
    "It is often derived as\n",
    "\n",
    "$$ = \\frac{\\sum (X - \\mu_X)(Y-\\mu_y)}{n} $$\n",
    "\n",
    "Knowing these are gaussian processes we assert $\\mu=0$ which implies\n",
    "\n",
    "$$ = \\frac{\\sum XY}{n} $$\n",
    "\n",
    "For a single point, where $n=1$ we can further reduce the equation to\n",
    "\n",
    "$$ = XY $$\n",
    "\n",
    "We can think of the covariance matrix as a function which accepts a set of independent variables and returns their covariance:\n",
    "\n",
    "$$ \\Sigma = f(x, y) $$\n",
    "\n",
    "\n",
    "We can see that this function satisfies the properties of a kernel function and thus we can say the covariance function is a kernel function\n",
    "\n",
    "$$ \\Sigma = K(x, y) $$"
   ]
  },
  {
   "cell_type": "markdown",
   "id": "3627fe29-148b-429e-be54-b65f1abe541d",
   "metadata": {},
   "source": [
    "## Choosing an alternate kernel\n",
    "\n",
    "We could select an alternate function which returns a different measurement based on the relationship between the vairable pair.\n",
    "\n",
    "For example, we could choose a function which describes the distance between the two variables without consideration of the respective means. We could additionally choose a function that behaves like a probability distribution and returns a quasi-probability indicating the likelihood of obtaining a value of one variable given another variable.\n",
    "\n",
    "The gaussian kernel does just this."
   ]
  },
  {
   "cell_type": "code",
   "execution_count": null,
   "id": "1a592c0b-319f-464a-b8c1-206a8a406770",
   "metadata": {},
   "outputs": [],
   "source": []
  },
  {
   "cell_type": "markdown",
   "id": "cfb121e6-1822-4f37-90c2-af61419bb636",
   "metadata": {},
   "source": [
    "Graph showing impact of different kernels\n",
    "\n",
    "<center><img src='images/kernels_affecting_gaussian_process.png'  width='800px' height='800px' ></center>\n",
    "\n",
    "https://ekamperi.github.io/mathematics/2021/03/30/gaussian-process-regression.html"
   ]
  },
  {
   "cell_type": "code",
   "execution_count": null,
   "id": "d90f55cb-bf3a-4001-a067-004bd772823f",
   "metadata": {},
   "outputs": [],
   "source": []
  },
  {
   "cell_type": "code",
   "execution_count": null,
   "id": "b5ea1358-7e54-4587-b1a6-22c5311f6689",
   "metadata": {},
   "outputs": [],
   "source": []
  },
  {
   "cell_type": "markdown",
   "id": "4717d186-e4d8-4adc-af55-cb21ce25ee21",
   "metadata": {},
   "source": [
    "# Distribution Of Functions\n",
    "\n",
    "We are all familair with a (probability) distribution (of points). The distribution yields the probability of observing the point when taking a sample (doing random sampling).\n",
    "\n",
    "A distribution of functions, sometimes referred to as a distribution over functions is a similar concept. Rather than a sample yielding a probability of obtaining a point, it yields the probability of a function.\n",
    "\n"
   ]
  },
  {
   "cell_type": "markdown",
   "id": "9e9654ff-d15c-4f88-94ec-2966ff7cda93",
   "metadata": {},
   "source": [
    "## Stochastic Processes as Distributions Over Functions\n",
    "\n",
    "### Refresher: A Stochastic (random) variable\n",
    "Consider a stochastic (random) variable $X$. It is capable of \"realizing\" (ie. taking on, yielding, retunring, etc.) any value within a range of values. Additionally it is non deterministic meaning that it is capable of generating different values assuming that multiple observations are made. A classical example used to describe a random variable is a fair-sided coin or fair=sided die. When we flip a coin or roll the dice, we dont know exactly what value will be realized. We try to explain our expecation for what values can be observed and how likely those observations would be using a probability distribution.\n",
    "\n",
    "$$ X = \\{x_i\\} $$"
   ]
  },
  {
   "cell_type": "markdown",
   "id": "baa08e64-d4de-4504-8625-9c2ec3e15e68",
   "metadata": {},
   "source": [
    "### Refrsher: A Stochastic (random) Process\n",
    "\n",
    "A process is a collection of variables that are indexed. \n",
    "\n",
    "$$ X = \\{X_i\\}_{i \\in I} $$\n",
    "\n",
    "Continuing with the example above, a classical example would be time. The random process would be a series of observations through time of a random variable. for example, flipping a coin three times or rolling a dice six times.\n",
    "\n",
    "Below we see a graph representing dice rolls over time"
   ]
  },
  {
   "cell_type": "code",
   "execution_count": 69,
   "id": "914f0115-c87e-446a-86b7-05e718976929",
   "metadata": {
    "jupyter": {
     "source_hidden": true
    },
    "tags": []
   },
   "outputs": [
    {
     "data": {
      "image/png": "[encoded data removed]",
      "text/plain": [
       "<Figure size 600x400 with 1 Axes>"
      ]
     },
     "metadata": {
      "needs_background": "light"
     },
     "output_type": "display_data"
    }
   ],
   "source": [
    "from matplotlib import pyplot\n",
    "import numpy\n",
    "\n",
    "numpy.random.seed(42)\n",
    "x = numpy.linspace(0, 100)\n",
    "y = [int(numpy.random.uniform(1, 7)) for i in x]\n",
    "\n",
    "# Generate potting objects\n",
    "px = 1/pyplot.rcParams['figure.dpi']  # pixel in inches\n",
    "fig, ax = pyplot.subplots(figsize=(600*px, 400*px))\n",
    "ax.plot(x,y)\n",
    "ax.set_xlabel('t', size=16)\n",
    "ax.set_ylabel('$x_t$', size=20)\n",
    "ax.set_title(\"Flipping a fair coin\", pad=20 , size=16)\n",
    "pyplot.show()"
   ]
  },
  {
   "cell_type": "markdown",
   "id": "d983aaa4-7982-4326-9919-b48a5b68a530",
   "metadata": {},
   "source": [
    "In these examples the process in not recursive and does not depend on the index. The coin is not more or less likely to land heads based on the result of the previous coin toss. Becuase each of the events are independent it would be indistinguishable whether the realizations are from $X$ or some other variable $Y$ which conforms to the same statistical properties."
   ]
  },
  {
   "cell_type": "markdown",
   "id": "21a975ff-75ae-456f-98e7-c3ac7759c1fa",
   "metadata": {},
   "source": [
    "In other examples however, the process is recursive. And in many practical applications the index is time. These types of processes are typically referred to as time-dependent as the values $x_{t}$ that a variable in the collection can realize at any point in time depend on the previously realized values $x_{t-1}$. As such, it does not make sense to think that each observation could come from *any* variable $Y$. As we move through time, we are constrained to say that we are dealing with the same $X$. We are interested in a specific coin/die not any!"
   ]
  },
  {
   "cell_type": "markdown",
   "id": "0641d590-2d80-4e94-a1ae-dbaf90a6b32b",
   "metadata": {},
   "source": [
    "For example consider the brownian motion defined formally as a vairble $X$ inddexed through time $t$.\n",
    "\n",
    "$$ X_t = \\mu t  + \\sigma \\mathcal{W} $$\n",
    "\n",
    "In the graph below we see the result of constructing an experiment where we observe the brownian motion over time."
   ]
  },
  {
   "cell_type": "code",
   "execution_count": 74,
   "id": "a1c29666-7d7d-4045-a0cb-135f062d2330",
   "metadata": {
    "jupyter": {
     "source_hidden": true
    },
    "tags": []
   },
   "outputs": [
    {
     "data": {
      "image/png": "[encoded data removed]",
      "text/plain": [
       "<Figure size 600x400 with 1 Axes>"
      ]
     },
     "metadata": {
      "needs_background": "light"
     },
     "output_type": "display_data"
    }
   ],
   "source": [
    "from scipy.stats import norm\n",
    "from matplotlib import pyplot\n",
    "import numpy\n",
    "\n",
    "# Process parameters\n",
    "delta = 0.5\n",
    "dt = 0.1\n",
    "n = 20\n",
    "\n",
    "# Initial condition.\n",
    "y_0 = 0.0\n",
    "\n",
    "# Setup data containers\n",
    "x = numpy.linspace(0, 100)\n",
    "y = numpy.array([y_0])\n",
    "\n",
    "# Iterate to compute the steps of the Brownian motion.\n",
    "numpy.random.seed(seed=42)\n",
    "for i in range(1, len(x)):\n",
    "    y = numpy.append(y, y[i - 1] + norm.rvs(scale=delta**2*dt))\n",
    "    \n",
    "# Generate potting objects\n",
    "px = 1/pyplot.rcParams['figure.dpi']  # pixel in inches\n",
    "fig, ax = pyplot.subplots(figsize=(600*px, 400*px))\n",
    "ax.plot(x,y)\n",
    "ax.set_ylim([-0.3, 0.3])\n",
    "ax.set_xlabel('t', size=16)\n",
    "ax.set_ylabel('$x_t$' , size=20)\n",
    "ax.set_title(\"Single realization of the random process\", pad=20, size=16)\n",
    "pyplot.show()"
   ]
  },
  {
   "cell_type": "markdown",
   "id": "4a50f692-52db-4f33-bd97-e99a68aa2ce4",
   "metadata": {},
   "source": [
    "Again, this graph is a realization of a process. It is the observed values from a particular experiment. If we observer the proccess during another experiment we may not see the same results. In the graph below we see such a situation. We conduct multiple experiments to observe the same process on separate occasions."
   ]
  },
  {
   "cell_type": "code",
   "execution_count": 72,
   "id": "0cf1e6bb-69a8-41ec-9bb8-26842de5756b",
   "metadata": {
    "jupyter": {
     "source_hidden": true
    },
    "tags": []
   },
   "outputs": [
    {
     "data": {
      "image/png": "[encoded data removed]",
      "text/plain": [
       "<Figure size 600x400 with 1 Axes>"
      ]
     },
     "metadata": {
      "needs_background": "light"
     },
     "output_type": "display_data"
    }
   ],
   "source": [
    "from scipy.stats import norm\n",
    "from matplotlib import pyplot\n",
    "import numpy\n",
    "\n",
    "# Process parameters\n",
    "delta = 0.5\n",
    "dt = 0.1\n",
    "n = 20\n",
    "c = 5\n",
    "\n",
    "# Initial condition.\n",
    "y_0 = 0.0\n",
    "\n",
    "# Setup data containers\n",
    "x = numpy.linspace(0, 100)\n",
    "y = numpy.array([numpy.zeros(x.shape[0]) for i in range(0, c)])\n",
    "\n",
    "# Iterate to compute the steps of the Brownian motion.\n",
    "numpy.random.seed(seed=42)\n",
    "for i in range(1, len(x)):\n",
    "    for j in range(0, c):\n",
    "        y[j][i] = y[j][i - 1] + norm.rvs(scale=delta**2*dt)\n",
    "    \n",
    "# Generate potting objects\n",
    "px = 1/pyplot.rcParams['figure.dpi']  # pixel in inches\n",
    "fig, ax = pyplot.subplots(figsize=(600*px, 400*px))\n",
    "for j in range(0, c):\n",
    "    ax.plot(x,y[j])\n",
    "ax.set_ylim([-0.3, 0.3])\n",
    "ax.set_xlabel('t', size=16)\n",
    "ax.set_ylabel('$x_t$', size=26)\n",
    "ax.set_title(\"Multiple realizations of the random process\", pad=20, size=16)\n",
    "pyplot.show()"
   ]
  },
  {
   "cell_type": "markdown",
   "id": "1c14dd0d-2d13-4541-84f0-bbb59e86dbea",
   "metadata": {},
   "source": [
    "As we can see, for a particular value of $t$ there are multiple values $x_t$ that may be observed. As such, we can treat the situation as a random variable. For each point $t$ we have a random variable (and we are back to the definition that $X = \\{X_t\\}_{t \\in T}$).\n",
    "\n",
    "Because $X_t$ is a random variable, there is a distribution that describes the probability of realizing the given value of $x_t$ for the given point $t$.\n",
    "\n",
    "With this mental framework, we can consider each one of these paths, the experiment where we observed the process, as a separate and distinct function. Labeling our graph we can see the distinction."
   ]
  },
  {
   "cell_type": "code",
   "execution_count": 79,
   "id": "1960e526-0b25-4875-a449-d9ad1a6e6145",
   "metadata": {
    "jupyter": {
     "source_hidden": true
    },
    "tags": []
   },
   "outputs": [
    {
     "data": {
      "image/png": "[encoded data removed]",
      "text/plain": [
       "<Figure size 600x400 with 1 Axes>"
      ]
     },
     "metadata": {
      "needs_background": "light"
     },
     "output_type": "display_data"
    }
   ],
   "source": [
    "from scipy.stats import norm\n",
    "from matplotlib import pyplot\n",
    "import numpy\n",
    "\n",
    "# Process parameters\n",
    "delta = 0.5\n",
    "dt = 0.1\n",
    "n = 20\n",
    "c = 5\n",
    "\n",
    "# Initial condition.\n",
    "y_0 = 0.0\n",
    "\n",
    "# Setup data containers\n",
    "x = numpy.linspace(0, 100)\n",
    "y = numpy.array([numpy.zeros(x.shape[0]) for i in range(0, c)])\n",
    "\n",
    "# Iterate to compute the steps of the Brownian motion.\n",
    "numpy.random.seed(seed=42)\n",
    "for i in range(1, len(x)):\n",
    "    for j in range(0, c):\n",
    "        y[j][i] = y[j][i - 1] + norm.rvs(scale=delta**2*dt)\n",
    "    \n",
    "# Generate potting objects\n",
    "px = 1/pyplot.rcParams['figure.dpi']  # pixel in inches\n",
    "fig, ax = pyplot.subplots(figsize=(600*px, 400*px))\n",
    "for j in range(0, c):\n",
    "    ax.plot(x,y[j])\n",
    "ax.set_ylim([-0.3, 0.3])\n",
    "ax.set_xlabel('t', size=16)\n",
    "ax.set_ylabel('$x_t$', size=20)\n",
    "ax.set_title(\"Multiplerealizations of the random vairiable X generating d over t\", pad=20, size=16)\n",
    "ax.legend([\"$f_{0}$(t)\".format(i) for i in range(0, c)])\n",
    "pyplot.show()"
   ]
  },
  {
   "cell_type": "markdown",
   "id": "6e0ffc29-45e4-4762-a1f9-81de44830da9",
   "metadata": {},
   "source": [
    "So with that being said, we return to the main point. For any value of $t$ we will receive a range of values for $x_t$ which are in turn generated by the set of functions $f=\\{f_n(t)\\}$. We can say that there is a random variable that realizes random functions for each time $t$. Additionally we can say that there exists a distribution that describes the probability of the random variable realizing a function $f_n(t)$ which yields a value of $x_t$ given 𝑡."
   ]
  },
  {
   "cell_type": "markdown",
   "id": "3f73cf18-0e13-43f0-9575-d3e340d094ba",
   "metadata": {},
   "source": [
    " "
   ]
  },
  {
   "cell_type": "markdown",
   "id": "ed438856-4751-413a-aafb-c734c711e1d1",
   "metadata": {},
   "source": [
    "**Note:** Like the model of Brownian motion, Gaussian processes are stochastic processes. In fact, the Brownian motion process can be reformulated as a Gaussian process.\n",
    "\n",
    "https://peterroelants.github.io/posts/gaussian-process-tutorial/"
   ]
  },
  {
   "cell_type": "code",
   "execution_count": null,
   "id": "1e0604db-d999-4820-be9b-5e1235c20541",
   "metadata": {},
   "outputs": [],
   "source": []
  },
  {
   "cell_type": "code",
   "execution_count": null,
   "id": "a9a55531-ee11-4e3c-92d5-e8d6e9ffde82",
   "metadata": {},
   "outputs": [],
   "source": []
  },
  {
   "cell_type": "markdown",
   "id": "475a1854-7ff3-4b60-8185-15091e0fcddb",
   "metadata": {},
   "source": [
    "# Gaussian Process\n",
    "A gaussian process is simply a random variable which can be described by a gaussian distribution.\n",
    "\n"
   ]
  },
  {
   "cell_type": "markdown",
   "id": "df72b575-35fc-4eac-87a0-f8fab9659e8c",
   "metadata": {},
   "source": [
    "** Note sure why: \"The gaussian proccess assumes that values within a search space will be most similar bewteen neighboring points. We will see this assumption is enforced as part of the mathematical framework.\"\n",
    "\n",
    "-> see covariance commets about kernels"
   ]
  },
  {
   "cell_type": "markdown",
   "id": "a52f5b94-e2a4-4ff6-9c3c-ff037e70edd5",
   "metadata": {},
   "source": [
    "Assume we have a variable or function which depends on a set of parameters:\n",
    "\n",
    "$$ y = f(X) $$\n",
    "\n",
    "Assume variable or function is being modeled is a gaussian process:\n",
    "\n",
    "$$ \\hat y \\sim \\mathcal{N}(\\mu, \\Sigma) $$"
   ]
  },
  {
   "cell_type": "markdown",
   "id": "ed4f7104-5fa2-4f12-8e33-43d2586a3d06",
   "metadata": {},
   "source": [
    "# Gaussian Process Regression\n",
    "\n",
    "It goes by a few names including:\n",
    "- krigging\n",
    "- Wiener–Kolmogorov prediction\n"
   ]
  },
  {
   "cell_type": "markdown",
   "id": "b2e195ec-6a4b-4209-b4a2-28a3558e3332",
   "metadata": {},
   "source": [
    "## History and Origin\n",
    "The theoretical basis for the method was developed by the French mathematician Georges Matheron in 1960\n",
    "His work was based on the Master's thesis of Danie G. Krige who sought to estimate the most likely distribution of gold based on samples from a few boreholes. The term kriging was coined some time after.\n",
    "https://en.wikipedia.org/wiki/Kriging"
   ]
  },
  {
   "cell_type": "markdown",
   "id": "182ceef9-2447-4296-b278-a86817fc3a98",
   "metadata": {},
   "source": [
    "## Techniques\n",
    "Depending on the stochastic properties of the random field and the various degrees of stationarity assumed, different methods for calculating the weights can be deduced, i.e. different types of kriging apply.\n",
    "https://en.wikipedia.org/wiki/Kriging"
   ]
  },
  {
   "cell_type": "code",
   "execution_count": null,
   "id": "4c3e4032-43a1-4728-b2be-16b7ca235c52",
   "metadata": {},
   "outputs": [],
   "source": []
  },
  {
   "cell_type": "code",
   "execution_count": null,
   "id": "39c88315-a959-4fcb-af53-6d7e51295258",
   "metadata": {},
   "outputs": [],
   "source": []
  },
  {
   "cell_type": "code",
   "execution_count": null,
   "id": "f18da0ee-ac2e-4b4d-a018-3244d9249e5f",
   "metadata": {},
   "outputs": [],
   "source": []
  },
  {
   "cell_type": "code",
   "execution_count": null,
   "id": "863065bd-83b3-4966-93a7-5f26113ced97",
   "metadata": {},
   "outputs": [],
   "source": []
  },
  {
   "cell_type": "code",
   "execution_count": null,
   "id": "88befb8b-d164-4f61-9e43-9a0de6b7e11f",
   "metadata": {},
   "outputs": [],
   "source": []
  },
  {
   "cell_type": "markdown",
   "id": "1eaa84e1-9a4d-4066-9f43-e2d809e42fce",
   "metadata": {},
   "source": [
    "## Fig the gp to the data how??\n",
    "As time goes on, and more observations are recorded, the $\\mu$ and $\\Sigma$ for the data will be updated (assuming we are modeling a non-trivial process). \n",
    "\n",
    "We can construct a joint distribution some how...\n",
    "https://ekamperi.github.io/mathematics/2021/03/30/gaussian-process-regression.html"
   ]
  },
  {
   "cell_type": "code",
   "execution_count": null,
   "id": "2eb85e00-be5d-4ac8-a62e-a8f2cdf6abf4",
   "metadata": {},
   "outputs": [],
   "source": []
  },
  {
   "cell_type": "code",
   "execution_count": null,
   "id": "ff44a0ca-4763-4f27-8fab-bf6243aec02e",
   "metadata": {},
   "outputs": [],
   "source": []
  },
  {
   "cell_type": "markdown",
   "id": "2ce15483-cbcd-438b-b9f1-2c78090b9423",
   "metadata": {},
   "source": [
    "## Limitations\n",
    "\n",
    "- Slow inference. Computing the covariance matrix’s inverse has a O(N3) time complexity, rendering exact inference too slow for more than a few thousand data points.\n",
    "- Choosing a covariance kernel. There’s some arbitrariness when choosing a kernel. However, the kernel’s hyperparameters can be inferred by maximizing the marginal likelihood, and the whole process can be automated.\n",
    "- Gaussian processes are in some sense idealizations. For the understanding of extreme phenomena exhibited by real physical systems, non-Gaussian processes might turn out more suitable. In this context, GPs serve as starting points to be perturbed.\n",
    "\n",
    "https://ekamperi.github.io/mathematics/2021/03/30/gaussian-process-regression.html"
   ]
  }
 ],
 "metadata": {
  "kernelspec": {
   "display_name": "Python 3",
   "language": "python",
   "name": "python3"
  },
  "language_info": {
   "codemirror_mode": {
    "name": "ipython",
    "version": 3
   },
   "file_extension": ".py",
   "mimetype": "text/x-python",
   "name": "python",
   "nbconvert_exporter": "python",
   "pygments_lexer": "ipython3",
   "version": "3.6.8"
  }
 },
 "nbformat": 4,
 "nbformat_minor": 5
}
