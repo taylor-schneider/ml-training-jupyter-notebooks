{
 "cells": [
  {
   "cell_type": "markdown",
   "id": "1583a2ad-4e8d-4e2b-9f72-2b84e213c916",
   "metadata": {},
   "source": [
    "# Overview\n",
    "In this notebook we provide some basic information about integration relevant to other ML topics."
   ]
  },
  {
   "cell_type": "markdown",
   "id": "322e74fc-037b-43ae-a997-90f2e5c5ac67",
   "metadata": {},
   "source": [
    "TODO: Talk about different dimensions, univariate, multivariate, vectors etc\n",
    "\n",
    "Link to jacobian notebook"
   ]
  },
  {
   "cell_type": "code",
   "execution_count": null,
   "id": "ca059dc1-3f82-43aa-964f-fd22b3e333df",
   "metadata": {},
   "outputs": [],
   "source": []
  },
  {
   "cell_type": "markdown",
   "id": "f55e0f29-a1db-4cec-a41b-492dc3e149d9",
   "metadata": {},
   "source": [
    "# Multiple Integral (multi-variate integral)\n",
    "A multiple integral is the integral of a multivariate function (ie. a function that considers multiple varibles such as $f(x_1,x_2,\\cdots,x_n)$.\n",
    "\n",
    "Recall that a simple integral returns the area under the line produced by a univariate function. As the domain of the dunction transitions from a single dimension to multiple dimensions the multiple integral reflects cumulative regions of n-dimensional space."
   ]
  },
  {
   "cell_type": "markdown",
   "id": "8484bb94-923e-4bc5-8732-6cb0aa7f96cb",
   "metadata": {},
   "source": [
    "## Definition\n",
    "\n",
    "Given a function $f$ which considers a multi-variate (a multi dimensional variable) $X=\\{X_i\\}$ that spance the mulit-dimensional domain $D$ the multiple integral is stated as:\n",
    "\n",
    "$$\\underset{D}{\\int\\cdots\\int}f(x_1, \\dots, x_n) \\ \\ \\partial x_1 \\cdots  \\partial x_n$$\n",
    "\n",
    "Where $\\partial x_i$ coresponds to the infantesimal of the $i^{th}$ dimension.\n",
    "\n",
    "The logic and process of multi-variate integration is consistent with that of a single variable function.\n",
    "\n",
    "For more information see [wikipedia](https://en.wikipedia.org/wiki/Multiple_integral)."
   ]
  },
  {
   "cell_type": "markdown",
   "id": "8962e2eb-20ed-4d29-8a2e-160ae3dccbb6",
   "metadata": {},
   "source": [
    "### Specific Examples\n",
    "Below are a few common examples of integrals over a domain $D$:\n",
    "\n",
    "Single Integral (eg. $D \\in \\mathbb{R}$) shows the area under a curve:\n",
    "$$\\underset{D}{\\int}f(x) \\ \\ \\partial x$$\n",
    "Double Integral (eg. $D \\in \\mathbb{R}^2$) shows the area under a surface:\n",
    "$$\\underset{D}{\\iint}f(x,y) \\ \\ \\partial x \\ \\partial y$$\n",
    "Triple Integral (eg. $D \\in \\mathbb{R}^3$) shows the cumulative region in a higher space:\n",
    "$$\\underset{D}{\\iiint}f(x,y,z) \\ \\ \\partial x \\ \\partial y \\ \\partial z$$"
   ]
  },
  {
   "cell_type": "markdown",
   "id": "074087bd-2e4f-4019-b0ac-5dcdeddd02bf",
   "metadata": {},
   "source": [
    "# Integration Rules\n",
    "As with differentiation, there is a series of rules that can be leveraged to solve integration problems"
   ]
  },
  {
   "cell_type": "markdown",
   "id": "14dfcb3e-4cb9-42b2-ab01-0b95e4d87136",
   "metadata": {},
   "source": [
    "## U-Subsistution Rule (change of variable)"
   ]
  },
  {
   "cell_type": "markdown",
   "id": "4d3a3333-23c3-4ab8-b29c-32eee97ff74f",
   "metadata": {},
   "source": [
    "U-substitution (also reffered to as performing a change of variable) is an algebraic technique that helps mathmaticians manipulat complex expressions. The idea of the technique is to ubstitute a complex expression with a simple term $u$ which can be treated like a simple variable.\n",
    "\n",
    "For example, replacing $a^{5x^2 + 4} \\rightarrow a^u$\n",
    "\n",
    "With respect to calculus. the general goal of applying this technique is to reduce an equation to a form with a known solution. In doing so one can apply the solution, and then transform the solution back in terms of the original expression.\n",
    "\n",
    "Using the example above. We know what the integral$a^x$ is. So we simply apply that solution to $a^u$ and then do the math to convert $u$ back to an expression in terms of x."
   ]
  },
  {
   "cell_type": "markdown",
   "id": "f6db6627-c538-44f3-8b4f-838ebb83e0ee",
   "metadata": {},
   "source": [
    "The Chain Rule from derrivative calculus is the backbone of u-substitution. In a nutshell it lets us perform change of variable for derivatives. Mathematically speaking it is also described as allowing us to take the derivative of a composition of differentiable functions or to take the derivative of nested functions. We can combine this with the fundamental theorem of calculus which expresses a relationship between derivatives and integrals to develop a process of u substitusion for integral calculus.\n",
    "\n",
    "#### Univariate Case\n",
    "First lets examinethe uni-variate case:\n",
    "\n",
    "Assume we have a composit function f(g(x)) that is too complicated to integrate. If we replace the nested expression with a variable, let $u=g(x)$\n",
    "we can express the function in simpler terms ie. $f(u)$. The chain rule specifies the derivative of said function $h^\\prime(u)$:\n",
    "\n",
    "$$ f^\\prime(u) = f^\\prime(g(x)) \\ g^\\prime(x) $$\n",
    "\n",
    "Through the fundimental theorem of calculus we can extend this rule to integrals."
   ]
  },
  {
   "cell_type": "markdown",
   "id": "c34e70c2-f182-4a81-9cff-25d51f0ccc7c",
   "metadata": {},
   "source": [
    "If we take the integral of both sides We then have:\n",
    "\n",
    "$$ \\int f^\\prime(u) \\ \\partial u = \\int f^\\prime(g(x)) \\ g^\\prime(x) \\ \\partial x$$\n",
    "\n",
    "We can confirm this algebraically $\\frac{\\partial}{\\partial x}[u] = \\frac{\\partial}{\\partial x}[g(x)] = g^\\prime(x)$ and thus $\\partial u = g^\\prime(x) \\ \\partial x$."
   ]
  },
  {
   "cell_type": "markdown",
   "id": "f5ec2d86-728c-48e7-a27c-107efa937036",
   "metadata": {},
   "source": [
    "#### Multivariate Case\n",
    "When dealing with multi-dimensional problems it is common to use matrix algebra to simplify expressions and manipulations.\n",
    "\n",
    "Recall that the multivariate integral is defined as:\n",
    "\n",
    "$$\\underset{D}{\\iiint}f(x,y,z) \\ \\ \\partial x \\ \\partial y \\ \\partial z$$\n",
    "\n",
    "We can represent the product of the partial derivatives using the [Jacobian determinant](../Matrix%20Algebra/Jacobian.ipynb). \n",
    "\n",
    "In the case of orthoganal basis (ie, the dimensions are perpendicular) the Jacobian is orthoganal and in thie case $|\\mathbb{J}_f| = \\frac{\\partial f_1}{\\partial x_1} \\ \\frac{\\partial f_2}{\\partial x_2} \\cdots \\ \\frac{\\partial f_n}{\\partial x_n} $ which matches the integral formula exactly. \n",
    "\n",
    "The integral expression then becomes:\n",
    "\n",
    "$$\\underset{D}{\\iiint}f(x,y,z) \\ \\ |\\mathbb{J}_f(x)|$$\n"
   ]
  },
  {
   "cell_type": "markdown",
   "id": "cd4982ce-41d8-4883-9859-df32ef4ed772",
   "metadata": {},
   "source": [
    "Performing a change of variable we then have \n",
    "\n",
    "$$u=g(x)$$\n",
    "$$f(u) = f(g(x))$$\n",
    "\n",
    "$$ \\iiint f^\\prime(u) \\ \\partial u = \\iiint f^\\prime(g(x)) \\ |\\mathbb{J}_g| \\ \\partial x$$\n"
   ]
  },
  {
   "cell_type": "markdown",
   "id": "846a8a3e-453d-4d68-ac47-c2a3356a6d71",
   "metadata": {},
   "source": [
    "The basic premis is that as we change a variable, we are adopting a new scale by which things are being measured. Ie the values of things change to a new standard or metric. For example measuring in milimeters vs. centimeters. If we change units during the calculation, we need to change units at the end of the calculation if we want our answer stated in those original terms. The determinant of the jacobian provides this conversion factor."
   ]
  },
  {
   "cell_type": "markdown",
   "id": "8a64ba45-4809-43df-840c-c50c0fc19f7d",
   "metadata": {},
   "source": [
    "Digging a bit deeper, thinking about an integral, we are essentially summing slices of some geometric shapes. We calculate this area as $length * width$ as the width coresponding to the height becomes infantesimally small."
   ]
  },
  {
   "cell_type": "code",
   "execution_count": null,
   "id": "c46aa359-dcaf-41a5-8b0b-bacca997f691",
   "metadata": {},
   "outputs": [],
   "source": []
  },
  {
   "cell_type": "markdown",
   "id": "91ecc87c-001e-4194-a155-7f3c406a0f6b",
   "metadata": {},
   "source": [
    "More examples can be found here:\n",
    "https://opentextbc.ca/calculusv3openstax/chapter/change-of-variables-in-multiple-integrals/"
   ]
  }
 ],
 "metadata": {
  "kernelspec": {
   "display_name": "Python 3",
   "language": "python",
   "name": "python3"
  },
  "language_info": {
   "codemirror_mode": {
    "name": "ipython",
    "version": 3
   },
   "file_extension": ".py",
   "mimetype": "text/x-python",
   "name": "python",
   "nbconvert_exporter": "python",
   "pygments_lexer": "ipython3",
   "version": "3.6.8"
  }
 },
 "nbformat": 4,
 "nbformat_minor": 5
}
