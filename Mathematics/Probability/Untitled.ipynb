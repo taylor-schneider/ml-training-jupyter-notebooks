{
 "cells": [
  {
   "cell_type": "markdown",
   "id": "feba78a5-6254-4341-8b9a-aea72c471311",
   "metadata": {},
   "source": [
    "Conditional probability in two dimensions\n",
    "\n",
    "$$ P(A|B) = \\frac{P(B \\cap A)}{P(B)} $$\n",
    "\n",
    "$$ \\Rightarrow P(A \\cap B) = P(A|B)P(B) = P(B|A)P(A) $$"
   ]
  },
  {
   "cell_type": "markdown",
   "id": "7aed80ad-826c-4e97-ac74-76ce95826f27",
   "metadata": {},
   "source": [
    "Conditional probability in 3 dimensions\n",
    "\n",
    "Treat $B$ as $B \\cap C$\n",
    "\n",
    "$$ P(A|B \\cap C) = \\frac{P(A \\cap B \\cap C)}{P(B \\cap C)} $$\n",
    "\n",
    "\n",
    "$$ \\Rightarrow P\\left(A \\cap (B \\cap C) \\right) \\\\\n",
    "= P(A|B \\cap C)P(B \\cap C) \\\\\n",
    "= P(B|A \\cap C)P(A \\cap C) \\\\\n",
    "= P(C|A \\cap B)P(A \\cap B) \\\\\n",
    "= P(B \\cap C|A)P(A) $$"
   ]
  },
  {
   "cell_type": "code",
   "execution_count": null,
   "id": "bd8d4d91-7c65-4adb-9983-0636cd29d487",
   "metadata": {},
   "outputs": [],
   "source": []
  },
  {
   "cell_type": "markdown",
   "id": "f96a9b74-024b-453c-b20b-5e9745d4f6f6",
   "metadata": {},
   "source": [
    "$$ P(w \\cap x \\cap y) $$\n",
    "\n",
    "\n",
    "$$ P(w | y \\cap x) = \\frac{P(w \\cap x \\cap y)}{P(y \\cap x)}\n",
    "= \\frac{P(w \\cap x \\cap y)}{P(y|x)P(x)}\n",
    "= \\frac{P(y|x \\cap w)P(x \\cap w)}{P(y|x)P(x)}\n",
    "$$\n",
    "\n",
    "$$ = \\frac{P(y|x \\cap w)P(x|w)P(w)}{P(y|x)P(x)}\n",
    "= \\frac{P(y|x \\cap w)P(w)}{P(y|x)}\n",
    "$$"
   ]
  },
  {
   "cell_type": "code",
   "execution_count": null,
   "id": "dac99460-a8a3-4b52-986d-8bf0d5347f1d",
   "metadata": {},
   "outputs": [],
   "source": []
  }
 ],
 "metadata": {
  "kernelspec": {
   "display_name": "Python 3",
   "language": "python",
   "name": "python3"
  },
  "language_info": {
   "codemirror_mode": {
    "name": "ipython",
    "version": 3
   },
   "file_extension": ".py",
   "mimetype": "text/x-python",
   "name": "python",
   "nbconvert_exporter": "python",
   "pygments_lexer": "ipython3",
   "version": "3.6.8"
  }
 },
 "nbformat": 4,
 "nbformat_minor": 5
}
