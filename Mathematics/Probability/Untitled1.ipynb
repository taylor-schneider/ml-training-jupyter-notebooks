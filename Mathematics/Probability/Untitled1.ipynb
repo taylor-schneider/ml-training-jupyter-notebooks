{
 "cells": [
  {
   "cell_type": "code",
   "execution_count": null,
   "id": "6e563086-d5ae-46c8-b78b-50504da17475",
   "metadata": {},
   "outputs": [],
   "source": []
  },
  {
   "cell_type": "markdown",
   "id": "da46c2e9-80cc-4c16-97ba-e103f9c65c21",
   "metadata": {},
   "source": [
    "# Deriving conditional distribution\n",
    "http://users.stat.umn.edu/~helwig/notes/norm-Notes.pdf"
   ]
  },
  {
   "cell_type": "code",
   "execution_count": null,
   "id": "565d71a6-d357-4dc9-9ed6-babd97c2590b",
   "metadata": {},
   "outputs": [],
   "source": []
  },
  {
   "cell_type": "markdown",
   "id": "8cc18ff8-f1ed-410b-abc1-f01681ff24f4",
   "metadata": {},
   "source": [
    "Assume $ X,Y \\sim N $\n",
    "\n",
    "It follows that $Z = s_1X + s_2Y \\sim N$\n",
    "\n",
    "\n"
   ]
  },
  {
   "cell_type": "code",
   "execution_count": null,
   "id": "7c119f8c-6646-4246-9058-d6d1ef08fef1",
   "metadata": {},
   "outputs": [],
   "source": []
  },
  {
   "cell_type": "code",
   "execution_count": null,
   "id": "6239f092-ec67-49b8-9f83-0d571dede4fb",
   "metadata": {},
   "outputs": [],
   "source": []
  },
  {
   "cell_type": "code",
   "execution_count": null,
   "id": "ed461b7d-700e-4c19-b06f-33a8987786be",
   "metadata": {},
   "outputs": [],
   "source": []
  },
  {
   "cell_type": "code",
   "execution_count": null,
   "id": "a7ea0484-fe09-4e3a-b0c2-a9f54bdcedc9",
   "metadata": {},
   "outputs": [],
   "source": []
  },
  {
   "cell_type": "code",
   "execution_count": null,
   "id": "431b6c70-f4fc-4309-9d09-15ce43b7694e",
   "metadata": {},
   "outputs": [],
   "source": []
  },
  {
   "cell_type": "code",
   "execution_count": null,
   "id": "02d96244-99c6-4116-a673-2ec31e856a18",
   "metadata": {},
   "outputs": [],
   "source": []
  },
  {
   "cell_type": "markdown",
   "id": "a7c7534a-93a3-4359-8051-4100f2890109",
   "metadata": {},
   "source": [
    "# Bivariate Goussian Distribution:\n",
    "\n",
    "We then introduce the bivariate gaussian distribution:\n",
    "\n",
    "$$ f(x,y) =  \\frac{1}{2\\pi\\sigma_x\\sigma_y\\sqrt{1-\\rho^2}} e^{ \\left( -\\frac{1}{2(1-\\rho^2)} \\left[ \\frac{(x-\\mu_x)^2}{\\sigma^2_x} + \\frac{(y-\\mu_y)^2}{\\sigma^2_y} - \\frac{2\\rho(x-\\mu_x)(y-\\mu_y)}{\\sigma_x\\sigma_y} \\right]  \\right) }$$"
   ]
  },
  {
   "cell_type": "markdown",
   "id": "53ca51ec-f099-4cc3-8dd5-92264098a745",
   "metadata": {},
   "source": [
    "## Derive Mean and Variance\n",
    "If we rearange the equation and look at it physically, we see a physical pattern between it and the univariate normal equation. \n",
    "\n",
    "$$ f(x,y) =  \\frac{1}{2\\pi\\sigma_x\\sigma_y\\sqrt{1-\\rho^2}} e^{ \\left( -\\frac{1}{2} \\frac{1}{(1-\\rho^2)} \\left[ \\frac{(x-\\mu_x)^2}{\\sigma^2_x} + \\frac{(y-\\mu_y)^2}{\\sigma^2_y} - \\frac{2\\rho(x-\\mu_x)(y-\\mu_y)}{\\sigma_x\\sigma_y} \\right]  \\right) }$$\n",
    "\n",
    "If we assume that $\\sigma_{xy} = \\sigma_x\\sigma_y\\sqrt{1-\\rho^2}$ and $mu_{xy} = $ then we have:\n",
    "\n",
    "$$ f(x,y) =  \\frac{1}{\\sigma_{xy}\\sqrt{2\\pi}\\sqrt{2\\pi}} e^{ \\left( -\\frac{1}{2(1-\\rho^2)} \\left[ \\frac{(x-\\mu_x)^2}{\\sigma^2_x} + \\frac{(y-\\mu_y)^2}{\\sigma^2_y} - \\frac{2\\rho(x-\\mu_x)(y-\\mu_y)}{\\sigma_x\\sigma_y} \\right]  \\right) }$$"
   ]
  },
  {
   "cell_type": "code",
   "execution_count": null,
   "id": "293e25f4-b0e2-421f-8949-65018cd99f98",
   "metadata": {},
   "outputs": [],
   "source": []
  },
  {
   "cell_type": "markdown",
   "id": "c6cf3935-8108-48bd-bdce-41f6beae9781",
   "metadata": {},
   "source": [
    "## ??\n",
    "From here: http://athenasc.com/Bivariate-Normal.pdf"
   ]
  },
  {
   "cell_type": "markdown",
   "id": "0d37a3a8-1bc0-4472-91dc-9693b6ba06d6",
   "metadata": {},
   "source": [
    "### Linear combination of independent normal variables is normal -> need proof"
   ]
  },
  {
   "cell_type": "markdown",
   "id": "15a1ea37-bd0f-4cab-8b06-7628860d29df",
   "metadata": {},
   "source": [
    "let:\n",
    "\n",
    "$$ U \\sim N \\\\\n",
    "V \\sim N\n",
    "$$\n",
    "\n",
    "$$ X = aU + bV \\\\\n",
    "Y = cU + dV$$\n",
    "\n",
    "Both are normal by the above statement (they are linear combinations of independent noremal variables)\n",
    "\n",
    "$$ \\rightarrow X \\sim N \\\\\n",
    "\\rightarrow Y \\sim N\n",
    "$$"
   ]
  },
  {
   "cell_type": "markdown",
   "id": "238adf8a-2e6a-4406-b0dd-aa1587ccc433",
   "metadata": {},
   "source": [
    "Becuase X and Y are linear functions of the same independent random variables they are joint random variables."
   ]
  },
  {
   "cell_type": "markdown",
   "id": "c575a884-03ed-4e21-82c9-6009d6d6a0f6",
   "metadata": {},
   "source": [
    "Now assume both have a Zero mean (for simplicity)\n",
    "\n",
    "$$ X \\sim \\mathcal{N}(0,\\sigma_X^2) \\\\\n",
    "Y \\sim \\mathcal{N}(0,\\sigma_Y^2)\n",
    "$$\n",
    "\n",
    "Note: This implies that $U$ and $V$ also have a zero mean! Proof\n",
    "\n",
    "$$ \\mathbb{E}[y] = 0 \\\\\n",
    "\\rightarrow 0 = \\mathbb{E}[cU + dV] \\\\\n",
    "= c\\mathbb{E}[U] + d\\mathbb{E}[V]\n",
    "$$\n",
    "\n",
    "Assuming non trivial $c$ and $d$ (ie. $c \\ne 0, d \\ne 0$) we see that $\\mathbb{E}[U]$ and $\\mathbb{E}[V]$ mut be zero as the mean of a linear combination of normal variables is additive."
   ]
  },
  {
   "cell_type": "markdown",
   "id": "45354c6d-08bf-4386-8c32-e75c0777663d",
   "metadata": {},
   "source": [
    "### Zero Correlation Implies Independence\n",
    "If two random variables X and Y are jointly normal and are uncorrelated,\n",
    "then they are independent."
   ]
  },
  {
   "cell_type": "markdown",
   "id": "bedd9291-da12-4896-bfb0-aea89257661a",
   "metadata": {},
   "source": [
    "Assume they are uncorrelated, we will prove they are independant\n",
    "\n",
    "Let Z represent the jointly normal r.v.\n",
    "\n",
    "$$ Z = s_1X + s_2Y \\\\\n",
    "= s_1(aU + bV ) + s_2(cU + dV ) \\\\\n",
    "= ( as_1 + cs_2)U + ( bs_1 + ds_2)V\n",
    "$$\n",
    "\n",
    "It is also the sum of independent normal variables so it too is normal"
   ]
  },
  {
   "cell_type": "markdown",
   "id": "0eba3f9c-930c-4e28-9498-016a23bb7beb",
   "metadata": {},
   "source": [
    "Z also has a zero mean (because X and Y have zero means; proof above)"
   ]
  },
  {
   "cell_type": "code",
   "execution_count": null,
   "id": "a389ca94-f9a3-46b8-a023-941bcb772408",
   "metadata": {},
   "outputs": [],
   "source": []
  },
  {
   "cell_type": "code",
   "execution_count": null,
   "id": "43a7162a-242e-4aad-b2bc-ab6a1ce9ad3d",
   "metadata": {},
   "outputs": [],
   "source": []
  },
  {
   "cell_type": "code",
   "execution_count": null,
   "id": "65baed8b-2f08-4b09-88f4-05067020aa0a",
   "metadata": {},
   "outputs": [],
   "source": []
  }
 ],
 "metadata": {
  "kernelspec": {
   "display_name": "Python 3",
   "language": "python",
   "name": "python3"
  },
  "language_info": {
   "codemirror_mode": {
    "name": "ipython",
    "version": 3
   },
   "file_extension": ".py",
   "mimetype": "text/x-python",
   "name": "python",
   "nbconvert_exporter": "python",
   "pygments_lexer": "ipython3",
   "version": "3.6.8"
  }
 },
 "nbformat": 4,
 "nbformat_minor": 5
}
