{
 "cells": [
  {
   "cell_type": "markdown",
   "id": "452cbe65-ad09-4819-bb2a-99e315af43c0",
   "metadata": {},
   "source": [
    "# Joint Probability Distributions"
   ]
  },
  {
   "cell_type": "markdown",
   "id": "e20650f6-703b-4517-af75-8f245bd27e85",
   "metadata": {},
   "source": [
    "## Linear Combination\n",
    "Let $Y$ be a joint random variable. By definition It follows that $Y$ is the linear combination of a set of random variables $X=\\{X_i\\}$. There are a number of ways (and notations) we can represent the linear combination. In the  simplest form:\n",
    "\n",
    "$$Y = X_1 + X_2 + \\cdots + X_n $$\n",
    "\n",
    "Adding come complexity, we may attach a coefficient to each term to add complexity to the polynomial expression:\n",
    "\n",
    "$$Y = c_1 X_1 + c_2 X_2 + \\cdots + c_n X_n $$\n",
    "\n",
    "Summation notation or matrix notation has the most susinct way or representing this structure:\n",
    "\n",
    "$$ Y = \\sum c_iX_i $$\n",
    "\n",
    "$$ Y = cX $$\n",
    "\n",
    "And going a step further for completeness:\n",
    "\n",
    "$$ Y = cX + d $$\n",
    "\n",
    "Where $d$ is an arbitrary constant."
   ]
  },
  {
   "cell_type": "markdown",
   "id": "7f143c0b-2264-4a04-afc1-45d432494ebe",
   "metadata": {},
   "source": [
    "With this formula for $Y$ in terms of $X$ we can make statements about the probability and thus expectations related to the random variable Y. "
   ]
  },
  {
   "cell_type": "markdown",
   "id": "502e45ee-5f58-4aae-9e5f-85c55bf42640",
   "metadata": {},
   "source": [
    "To do so, we must find the joint density function that expressed the probability of the realization of the intersection of a set of exents.\n",
    "\n",
    "$$ \\mathcal{P}\\left( Y = Y_i \\right) = \\mathcal{P}(\\cap Y_i) $$\n",
    "\n",
    "$$ = \\mathcal{P}\\left( Y = \\begin{bmatrix}y_{i,1}, \\cdots y_{i,n}\\end{bmatrix} \\right) $$\n",
    "\n",
    "$$ = \\mathcal{P}(y_{n,1} \\cap \\cdots \\cap y_{i,n}) $$\n",
    "\n",
    "Depending on how much we know about the set of variables $\\{X_i\\}$ these statements will range in specificity. Generally, as $Y$ is dependent on $X$ the process of deriving the density function to make these statements centers around exploiting known relationships to state thedensity function in terms of $X$."
   ]
  },
  {
   "cell_type": "markdown",
   "id": "03143984-e628-4a4f-8aa0-00508cadf270",
   "metadata": {},
   "source": [
    "## Independent and Identically Distributed\n",
    "This situation is typically where probability studies start as it is the most simple"
   ]
  },
  {
   "cell_type": "markdown",
   "id": "231f6145-8fda-4308-ac4e-fadadf30859b",
   "metadata": {},
   "source": [
    "Assume $Y$ is a multivariate normal variable consisting of identically distributed independent random variables $X$.\n",
    "\n",
    "$$ X_i \\perp X_j \\ \\ \\forall i,j$$\n",
    "$$ X_i \\sim \\mathcal{N}(\\,u, \\Sigma)$$\n",
    "\n"
   ]
  },
  {
   "cell_type": "markdown",
   "id": "ef3b9a8a-d323-4c58-b79d-9437d0a91117",
   "metadata": {},
   "source": [
    "Using the definition of joint probability\n",
    "\n",
    "$$ \\mathbb{P}(A \\cap B) = \\mathbb{P}(A|B) \\mathbb{P}(B)$$\n",
    "\n",
    "Given that $X_i \\perp X_j$ we thus have have \n",
    "\n",
    "$$ \\mathbb{P}(X_i \\cap X_j) = \\mathbb{P}(X_i|X_j) \\mathbb{P}(X_j)$$\n",
    "$$ = \\mathbb{P}(X_i) \\mathbb{P}(X_j)$$\n",
    "\n",
    "We can thus derive a joint distribution density function as\n",
    "$$ f(X_i, X_j) = f_{X_i}(X_i) f_{X_j}(X_j)$$\n",
    "\n",
    "$$ f(X) = \\prod f_{x_i}(X_i) $$"
   ]
  },
  {
   "cell_type": "markdown",
   "id": "a963adf3-9126-4eeb-8249-156baf652fa4",
   "metadata": {},
   "source": [
    "The general definition of the univariate normal density function is stated as follows:\n",
    "\n",
    "$$ f(x) = \\frac{1}{\\sigma\\sqrt{2\\pi}}\n",
    "e^{-\\frac{1}{2}\\left( \\frac{x - \\mu}{\\sigma} \\right)^2}\n",
    "$$"
   ]
  },
  {
   "cell_type": "markdown",
   "id": "5792da00-f42e-46d4-8770-6ccae440770c",
   "metadata": {},
   "source": [
    "And thus the product of this expression becomes\n",
    "\n",
    "$$ \\prod f_{x_i}(X_i) = \\prod \\frac{1}{\\sigma_{X_i}\\sqrt{2\\pi}}\n",
    "e^{-\\frac{1}{2}\\left( \\frac{X_i - \\mu_{X_i}}{\\sigma_{X_i}} \\right)^2}$$"
   ]
  },
  {
   "cell_type": "markdown",
   "id": "570997ca-438f-43bf-b49d-87f3332baf6d",
   "metadata": {},
   "source": [
    "We can use the properties of exponents to change a product into a sum"
   ]
  },
  {
   "cell_type": "markdown",
   "id": "51610b7e-b9dc-40be-ac38-448b43e6481b",
   "metadata": {},
   "source": [
    "$$ = e^{ \n",
    "-\\frac{1}{2} \\left( \\frac{X_1 - \\mu_{X_1}}{\\sigma_{X_1}} \\right)\n",
    "- \\cdots\n",
    "-\\frac{1}{2} \\left( \\frac{X_n - \\mu_{X_n}}{\\sigma_{X_n}} \\right)\n",
    "}\n",
    "\\prod \\frac{1}{\\sigma_{X_i}\\sqrt{2\\pi}}\n",
    "$$"
   ]
  },
  {
   "cell_type": "markdown",
   "id": "079b081c-521b-4565-bc3c-a5aa8868ab52",
   "metadata": {},
   "source": [
    "Rewriting things in matrix algebta we then have:\n",
    "\n",
    "$$e^{(X - \\mu)^T\\Sigma^{-1}(X - \\mu)} \\prod \\frac{1}{\\sigma_{X_i}\\sqrt{2\\pi}}\n",
    "$$"
   ]
  },
  {
   "cell_type": "markdown",
   "id": "6ca4bdcb-4b45-47ed-9be6-379f47fab598",
   "metadata": {},
   "source": [
    "Now we can distribute the product using a few tricks. Fist we can raise the constant to a power rather than using a product operator:\n",
    "\n",
    "$$e^{(X - \\mu)^T\\Sigma^{-1}(X - \\mu)} \\frac{1}{\\sqrt[n]{2\\pi}}\\prod \\frac{1}{\\sigma_{X_i}}\n",
    "$$"
   ]
  },
  {
   "cell_type": "markdown",
   "id": "fcfd8d8f-5fa7-4fd0-a1ff-d426d4da3a1d",
   "metadata": {},
   "source": [
    "Next we can replace the product of the sigma terms by the determiniant of the square root of the covariance matrix. Because the variables are independent, the covariance matrix is orthoganal and thus equivalent to the product. For more see the notebook on determinants.\n",
    "\n",
    "$$e^{(X - \\mu)^T\\Sigma^{-1}(X - \\mu)} \n",
    "\\frac{1}{\\sqrt[n]{2\\pi}}\n",
    "\\frac{1}{|\\sqrt{\\Sigma}|}\n",
    "$$"
   ]
  },
  {
   "cell_type": "markdown",
   "id": "ae08efd5-82ee-45f0-95e1-6929800cb30d",
   "metadata": {},
   "source": [
    "Rearanging the equation into its classical form we have"
   ]
  },
  {
   "cell_type": "markdown",
   "id": "8e36a7a4-c2e1-4168-871f-51a660bb8292",
   "metadata": {},
   "source": [
    "$$\\frac{1}{\\sqrt{(2\\pi)^n|\\Sigma|}}\n",
    "e^{(X - \\mu)^T\\Sigma^{-1}(X - \\mu)} \n",
    "$$"
   ]
  },
  {
   "cell_type": "markdown",
   "id": "a4fc29bd-08cf-4d31-87e8-050e25e3c386",
   "metadata": {},
   "source": [
    "But this simple proof is not the most useful, we will need to derive a more general case."
   ]
  },
  {
   "cell_type": "markdown",
   "id": "f0dc9733-e95a-4895-b9bd-c052a2848d65",
   "metadata": {},
   "source": [
    "## Non-independant and Identically Distributed"
   ]
  },
  {
   "cell_type": "markdown",
   "id": "aaab7772-6c1f-484b-b110-04db34589434",
   "metadata": {},
   "source": [
    "We can represent a multivariate random variable $Y$ as a linar combination of independent random variables $X_i$.\n",
    "\n",
    "$$ Y = cX + d $$\n",
    "\n",
    "$$ = c_1 X_1 + \\cdots + c_nX_n + d $$\n",
    "\n",
    "$$ = Y_1 + \\cdots Y_n + d $$\n",
    "\n",
    "In other words the transformation $c$ is the covariance matrix between the $X$ terms and $d$ is an arbitrary set of constant terms."
   ]
  },
  {
   "cell_type": "code",
   "execution_count": null,
   "id": "9db3bef1-6537-442d-bb38-3b72c44ea21f",
   "metadata": {},
   "outputs": [],
   "source": []
  },
  {
   "cell_type": "code",
   "execution_count": null,
   "id": "e94ab021-aa45-4bbf-9d28-b8755b63dc94",
   "metadata": {},
   "outputs": [],
   "source": []
  },
  {
   "cell_type": "code",
   "execution_count": null,
   "id": "494a11d6-3c82-405d-b922-52d361c69ea4",
   "metadata": {},
   "outputs": [],
   "source": []
  },
  {
   "cell_type": "markdown",
   "id": "2e990ec6-7637-404e-ad69-083652dfff85",
   "metadata": {},
   "source": [
    "The definition of a joint probability distribution gives us that:\n",
    "\n",
    "$$ F_Y(y_i) = \\int \\cdots \\int f_Y(y_i) \\ \\ \\partial_{Y_{i,1}} \\cdots \\partial_{Y_{i,n}}$$"
   ]
  },
  {
   "cell_type": "markdown",
   "id": "20fb7244-6fa3-4057-93d8-b55161f176c9",
   "metadata": {},
   "source": [
    "Thinking about this, in the univariate case, cdf's are expressed as an integral over the domain of the pdf. \n",
    "\n",
    "In the bivariate case we have integral of an integral. This is because our pdf takes two variables and returns a point coresponding to that two dimensional domain. As such we need to sum accross two dimensions which produces the double integral (integral of integrals).\n",
    "\n",
    "Extending this to the multi-dimensional scenario we start to see a stacking of integrals (integral of integral of ... etc). One integral for each dimension."
   ]
  },
  {
   "cell_type": "code",
   "execution_count": null,
   "id": "047a4c44-0d2d-4a52-8b4a-566085c95096",
   "metadata": {},
   "outputs": [],
   "source": []
  },
  {
   "cell_type": "code",
   "execution_count": null,
   "id": "c3bc30f2-a6e5-4e7e-abf8-84bef6ff76f0",
   "metadata": {},
   "outputs": [],
   "source": []
  },
  {
   "cell_type": "code",
   "execution_count": null,
   "id": "72b2c552-aa92-4294-9339-d9ac95110d68",
   "metadata": {},
   "outputs": [],
   "source": []
  },
  {
   "cell_type": "code",
   "execution_count": null,
   "id": "7e57dbf1-e6ec-4fcf-a9ee-bc4388243042",
   "metadata": {},
   "outputs": [],
   "source": []
  },
  {
   "cell_type": "markdown",
   "id": "7f1fa175-d6d3-4fa6-8c8a-0d1c84798480",
   "metadata": {},
   "source": [
    "Given that $ Y = cX + d $ we can do a u-substitution (ie. a change of variable) in the equation. We can restate the equation in terms of $X$ rather than $Y$.\n",
    "\n",
    "have $ F_Y(Y_i) =  F_Y(cX_i + d) $. As such we can introduce the expression containing $X$ into the equation by doing a u-substitution. In doing so, we are performing a change of variable. As such we must also introduce the determinant of the inverse jacobian.\n",
    "\n",
    "$$ = \\int \\cdots \\int f_Y(cX_i + d) \\ \\ \n",
    "\\partial_{Y_{i,1}} \\cdots \\partial_{Y_{i,n}}$$\n",
    "\n",
    "$$ = \\int \\cdots \\int f_Y(c_1 X_1 + c_2 X_2 + \\cdots + c_n X_n + d) \\ \\\n",
    "|\\mathbb{J}_{f_Y}|$$\n",
    "\n",
    "$$ = \\int \\cdots \\int \\mathbb{P}(c_1 X_1 \\cap c_2 X_2 \\cap \\cdots \\cap c_n X_n) \\ \\ \n",
    "|\\mathbb{J}_{f_Y}|$$"
   ]
  },
  {
   "cell_type": "code",
   "execution_count": null,
   "id": "96dc8698-e385-4702-adee-01d52df2cbb1",
   "metadata": {},
   "outputs": [],
   "source": []
  },
  {
   "cell_type": "code",
   "execution_count": null,
   "id": "bf66998e-f06a-4930-b8ee-395ad134912f",
   "metadata": {},
   "outputs": [],
   "source": []
  },
  {
   "cell_type": "code",
   "execution_count": null,
   "id": "6dd7a567-57fb-4498-9cb7-71b46a8583c2",
   "metadata": {},
   "outputs": [],
   "source": []
  },
  {
   "cell_type": "code",
   "execution_count": null,
   "id": "0e04155e-52dc-4d6a-a94d-3e038e6e4299",
   "metadata": {},
   "outputs": [],
   "source": []
  },
  {
   "cell_type": "markdown",
   "id": "78fc3483-5018-4a09-b482-57f47637a504",
   "metadata": {},
   "source": [
    "And thus the joint distribution can be stated as:\n",
    "\n",
    "$$ = \\int \\cdots \\int \n",
    "f_{X_1}(c_1 X_1) + f_{X_2}(c_2 X_2) + \\cdots + f_{X_n}(c_n X_n + d)\n",
    "|\\mathbb{J}^{-1}_{F_Y}| \\ \\ \n",
    "\\ \\ \\partial_{Y_{i,1}} \\cdots \\partial_{Y_{i,n}}\n",
    "$$"
   ]
  },
  {
   "cell_type": "markdown",
   "id": "b7dccf63-79d6-4ecc-aa7f-79a25ee603c4",
   "metadata": {},
   "source": [
    "$$ = \n",
    "\\int \n",
    "\\left[\n",
    "\\cdots\n",
    "+\n",
    "\\int \n",
    "\\left[\n",
    "f_{X_1}(c_1 X_1) \\ \\ \\partial_{Y_{i,1}}\n",
    "\\right]\n",
    "\\cdots\n",
    "+\n",
    "\\int \n",
    "\\left[\n",
    "f_{X_2}(c_2 X_2) \\ \\ \\partial_{Y_{i,2}}\n",
    "\\right]\n",
    "\\cdots\n",
    "\\right]\n",
    "|\\mathbb{J}^{-1}_{F_Y}| \\ \\ \n",
    " \\ \\ \\partial_{Y_{i,n}}\n",
    "$$\n",
    "\n",
    "$$ = \n",
    "(|\\mathbb{J}^{-1}_{F_Y}|)^n \\ \\ \n",
    "\\int \n",
    "\\left[\n",
    "\\cdots\n",
    "+\n",
    "\\int \n",
    "\\left[\n",
    "f_{X_1}(c_1 X_1) \\ \\ \\partial_{Y_{i,1}}\n",
    "\\right]\n",
    "\\cdots\n",
    "+\n",
    "\\int \n",
    "\\left[\n",
    "f_{X_2}(c_2 X_2) \\ \\ \\partial_{Y_{i,2}}\n",
    "\\right]\n",
    "\\cdots\n",
    "\\right]\n",
    " \\ \\ \\partial_{Y_{i,n}}\n",
    "$$\n",
    "\n",
    "$$ = \n",
    "|\\mathbb{J}^{-n}_{F_Y}| \\ \\ \n",
    "\\int \n",
    "\\left[\n",
    "\\cdots\n",
    "+\n",
    "\\int \n",
    "\\left[\n",
    "f_{X_1}(c_1 X_1) \\ \\ \\partial_{Y_{i,1}}\n",
    "\\right]\n",
    "\\cdots\n",
    "+\n",
    "\\int \n",
    "\\left[\n",
    "f_{X_2}(c_2 X_2) \\ \\ \\partial_{Y_{i,2}}\n",
    "\\right]\n",
    "\\cdots\n",
    "\\right]\n",
    " \\ \\ \\partial_{Y_{i,n}}\n",
    "$$"
   ]
  },
  {
   "cell_type": "markdown",
   "id": "f1e71def-c30d-4eeb-816e-df7921edd501",
   "metadata": {},
   "source": [
    "Because all the $X_i$ are identically distributed we have\n",
    "\n",
    "$$ = \n",
    "|\\mathbb{J}^{-n}_{F_Y}| \\ \\ \n",
    "\\int \n",
    "\\left[\n",
    "\\cdots \n",
    "\\int \n",
    "\\left[\n",
    "c_1 f_{X}(X_1) \\ \\ \\partial_{Y_{i,1}}\n",
    "\\right]\n",
    "\\cdots\n",
    "\\right]\n",
    " \\ \\ \\partial_{Y_{i,n}}\n",
    "$$"
   ]
  },
  {
   "cell_type": "markdown",
   "id": "415a9ff7-ad35-46cc-a41c-ffb5887efd3a",
   "metadata": {},
   "source": [
    "If we take the multi-derivative of this expression we cancel out the integrals and are left with the marginal density function of each jointly random variable in the set:\n",
    "\n",
    "$$ f_Y(Y_i)= \n",
    "c_i |\\mathbb{J}^{-n}_{F_Y}| \\ \\ \n",
    "f_{X}(X)\n",
    "$$"
   ]
  },
  {
   "cell_type": "markdown",
   "id": "85fb8059-b324-4a81-bb5b-18c3cee21f19",
   "metadata": {},
   "source": []
  },
  {
   "cell_type": "markdown",
   "id": "6adba0f9-5715-452d-ae8d-7097dfccdd37",
   "metadata": {},
   "source": [
    "The general definition of the univariate normal density function is stated as follows:\n",
    "\n",
    "$$ f(x) = \\frac{1}{\\sigma\\sqrt{2\\pi}}\n",
    "e^{-\\frac{1}{2}\\left( \\frac{x - \\mu}{\\sigma} \\right)^2}\n",
    "$$"
   ]
  },
  {
   "cell_type": "markdown",
   "id": "6ad6832f-77bb-49cf-b854-8850a41c43c7",
   "metadata": {},
   "source": [
    "We can restate this equation in terms of one of the random variables $X_1$. In doing so we will need to convert into matrix algebra. To do this here are two major changes we need to make. "
   ]
  },
  {
   "cell_type": "markdown",
   "id": "481f9977-550b-4bcd-9515-7bf698493546",
   "metadata": {},
   "source": [
    "The first is the quadratic in the exponential. We will restructure $\\left( \\frac{x - \\mu}{\\sigma} \\right)^2$ to\n",
    "\n",
    "$$ \\left(\\frac{X_i - \\mu_{X_i}}{\\sigma_{X_i}} \\right)^2$$\n",
    "\n",
    "$$ = \\frac{(X_i - \\mu_{X_i})^T(X_i - \\mu_{X_i})}{\\sigma_{X_i}\\sigma_{X_i}^T} $$\n",
    "\n",
    "$$ = \\frac{(X_i - \\mu_{X_i})^T(X_i - \\mu_{X_i})}{\\Sigma_{X_i}}$$\n",
    "\n",
    "$$ = (X_i - \\mu_{X_i})^T\\Sigma_{X_i}^{-1}(X_i - \\mu_{X_i})$$\n",
    "\n",
    "\n",
    "The second change is in the denominator of the constant being multiplied by the exponential function (ie. $\\sigma$). We need to restate this value in a way that is consistent with matrix algebra but functionally more eligant for our final equation. We will use $|\\Sigma^\\frac{1}{2}|$ and thus the equation becomes:\n",
    "\n",
    "\n",
    "$$ f_{X_i}(X_i) = \\frac{1}{|\\Sigma^{-\\frac{1}{2}}|\\sqrt{2\\pi}}\n",
    "e^{-\\frac{1}{2} \\left( X_i - \\mu_{X_i} \\right) \\Sigma^{-1}_{X_i} \\left( X_i - \\mu_{X_i}\\right)}\n",
    "$$\n",
    "\n",
    "$$ = \\frac{1}{\\sqrt{2\\pi|\\Sigma|}}\n",
    "e^{-\\frac{1}{2} \\left( X_i - \\mu_{X_i} \\right) \\Sigma^{-1}_{X_i} \\left( X_i - \\mu_{X_i}\\right)}\n",
    "$$"
   ]
  },
  {
   "cell_type": "markdown",
   "id": "722585c4-22d6-450c-b7bd-7492288649cd",
   "metadata": {},
   "source": [
    "Plugging all this back in"
   ]
  },
  {
   "cell_type": "code",
   "execution_count": null,
   "id": "5c08b99c-05bf-4b14-a66c-a24200c3e1e7",
   "metadata": {},
   "outputs": [],
   "source": []
  },
  {
   "cell_type": "code",
   "execution_count": null,
   "id": "ceeca739-e5db-4dec-b34b-e8afa1944083",
   "metadata": {},
   "outputs": [],
   "source": []
  },
  {
   "cell_type": "code",
   "execution_count": null,
   "id": "9ec28efe-6b03-4007-9dde-53000448d0ac",
   "metadata": {},
   "outputs": [],
   "source": []
  },
  {
   "cell_type": "code",
   "execution_count": null,
   "id": "fe7b558f-5aaa-44c3-bf85-d37fbe6df146",
   "metadata": {},
   "outputs": [],
   "source": []
  },
  {
   "cell_type": "markdown",
   "id": "0d8a7f28-959a-4dd7-9ce4-26d8622e2ba9",
   "metadata": {},
   "source": [
    "Plugging this into the equation we then have:"
   ]
  },
  {
   "cell_type": "markdown",
   "id": "3c035f18-491c-4dc3-b15a-db7c1af93a03",
   "metadata": {},
   "source": [
    "$$ = \n",
    "|\\mathbb{J}^{-1}_{F_Y}| \\ \\ \n",
    "\\int \n",
    "\\left[\n",
    "\\cdots \n",
    "\\int \n",
    "\\left[\n",
    "    \\frac{1}{\\sqrt{2\\pi}}\n",
    "    \\Sigma^{-1}_{X_i}\n",
    "    e^{-\\frac{1}{2} \\left( x - \\mu \\right) \\Sigma^{-1}_{X_i} \\left( x - \\mu \\right)}\n",
    "\\ \\ \\partial_{Y_{i,1}}\n",
    "\\right]\n",
    "\\cdots\n",
    "\\right]\n",
    " \\ \\ \\partial_{Y_{i,n}}\n",
    "$$"
   ]
  },
  {
   "cell_type": "markdown",
   "id": "eeb3720e-d741-454d-ba12-d23583f6bdf4",
   "metadata": {},
   "source": [
    "Removing the complexities of the double integral by differentiating:\n",
    "\n",
    "$$ \\frac{\\partial}{\\partial X}F_Y = f_Y$$"
   ]
  },
  {
   "cell_type": "markdown",
   "id": "e0f27903-fba2-4337-9e1d-a39be2113b57",
   "metadata": {},
   "source": [
    "$$ = \n",
    "|\\mathbb{J}^{-1}_{F_Y}| \\ \\ \n",
    "\\frac{1}{\\sqrt{2\\pi}}\n",
    "\\Sigma^{-1}_{X_i}\n",
    "e^{-\\frac{1}{2} \\left( x - \\mu \\right) \\Sigma^{-1}_{X_i} \\left( x - \\mu \\right)}\n",
    "$$"
   ]
  },
  {
   "cell_type": "markdown",
   "id": "a90c83aa-be3f-4566-8141-d4d1ddcc9c51",
   "metadata": {},
   "source": [
    "As the jacobian of $F$ is defined as $\\mathbb{J}_F = \\frac{\\partial Y}{\\partial X}$, the inverse jacobian $\\mathbb{J}^{-1}$ is equal to $\\frac{\\partial X}{\\partial Y}$. If we look at these terms, the $\\partial X$ can be thought of as $X - \\mu_X$ and therefore the Jacobian can be represented by the standard deviation. Thus $\\mathbb{J}^{-1}_{F_Y} = \\Sigma_X^{\\frac{1}{2}}$"
   ]
  },
  {
   "cell_type": "markdown",
   "id": "c1b97b98-d07f-4a6c-9ed3-4352c8e64128",
   "metadata": {},
   "source": [
    "$$ = \n",
    "\\Sigma_X^{\\frac{1}{2}} \\ \\ \n",
    "\\frac{1}{\\sqrt{2\\pi}}\n",
    "\\Sigma^{-1}_{X_i}\n",
    "e^{-\\frac{1}{2} \\left( x - \\mu \\right) \\Sigma^{-1}_{X_i} \\left( x - \\mu \\right)}\n",
    "$$\n",
    "\n",
    "$$ = \n",
    "\\frac{1}{\\sqrt{2\\pi}}\n",
    "\\Sigma^{-\\frac{1}{2}}_{X_i}\n",
    "e^{-\\frac{1}{2} \\left( x - \\mu \\right) \\Sigma^{-1}_{X_i} \\left( x - \\mu \\right)}\n",
    "$$\n",
    "\n",
    "$$ = \n",
    "\\frac{1}{\\sqrt{2\\pi \\Sigma_{X_i}}}\n",
    "e^{-\\frac{1}{2} \\left( x - \\mu \\right) \\Sigma^{-1}_{X_i} \\left( x - \\mu \\right)}\n",
    "$$"
   ]
  },
  {
   "cell_type": "code",
   "execution_count": null,
   "id": "f5966230-be10-4c95-a959-a7c223226ba0",
   "metadata": {},
   "outputs": [],
   "source": []
  },
  {
   "cell_type": "code",
   "execution_count": null,
   "id": "31a5cee7-c884-4512-8163-e376785962c7",
   "metadata": {},
   "outputs": [],
   "source": []
  },
  {
   "cell_type": "code",
   "execution_count": null,
   "id": "9fdfde7f-b44c-43a1-98bd-52b921fd64d5",
   "metadata": {},
   "outputs": [],
   "source": []
  },
  {
   "cell_type": "code",
   "execution_count": null,
   "id": "3eb50b8f-31d1-4736-ae06-27f4a15e57f8",
   "metadata": {},
   "outputs": [],
   "source": []
  },
  {
   "cell_type": "code",
   "execution_count": null,
   "id": "766f6c16-2764-4754-ad2c-65ab4ae3740e",
   "metadata": {},
   "outputs": [],
   "source": []
  },
  {
   "cell_type": "markdown",
   "id": "9be5fed1-ee33-4fa2-87f4-86c301f1edc8",
   "metadata": {},
   "source": [
    "$$ M_X(c) = \\mathbb{E}\\left[ e^{cX} \\right] $$\n",
    "\n",
    "$$ = \\mathbb{E}\\left[ e^{ c(X_1 + \\cdots + X_n)} \\right] $$\n",
    "\n",
    "$$ = \\mathbb{E}\\left[ e^{cX_1 + \\cdots + c X_n} \\right] $$\n",
    "\n",
    "Becuase of independence\n",
    "\n",
    "$$ = \\mathbb{E}\\left[ \\prod e^{cX_i} \\right] $$\n",
    "\n",
    "$$ = \\prod \\mathbb{E}\\left[ e^{cX_i} \\right] $$\n",
    "\n",
    "$$ = \\prod M_{X_i}(c) $$\n"
   ]
  },
  {
   "cell_type": "markdown",
   "id": "69768279-b945-49ff-b8ac-b1e378c38ef8",
   "metadata": {},
   "source": [
    "Focusing on the moment generating function for an individual variable\n",
    "\n",
    "$$ e^{cX_i} = \\sum \\frac{(cX_i)^j}{j!}  = \\left[ 1 + cX_i + \\frac{c^2 X^2_i}{2!} + \\frac{c^3 X^3_i}{3!} + \\cdots \\right]$$\n",
    "\n",
    "$$ M_{X_i}(c) = \\mathbb{E}\\left[ e^{cX_i} \\right] $$\n",
    "\n",
    "\n",
    "\n",
    "$$ = \\left[ 1 + c\\mathbb{E}[X] + \\frac{c^2 \\mathbb{E}[X^2]}{2!} + \\frac{c^3 \\mathbb{E}[X^3]}{3!} + \\cdots \\right]$$"
   ]
  },
  {
   "cell_type": "markdown",
   "id": "8e29833b-04f6-403d-b427-875c1b03ca0d",
   "metadata": {},
   "source": [
    "Now to derive the pdf\n",
    "\n",
    "$$ M_{X_i}(c) = \\mathbb{E}\\left[ e^{cX_i} \\right] $$\n"
   ]
  },
  {
   "cell_type": "markdown",
   "id": "687caf93-7946-4a7c-b3f4-59bf0848f0c5",
   "metadata": {},
   "source": [
    "$$ M_{X_i}(c) = \\int e^{cX_i} \\frac{1}{\\sigma_{X_i} \\sqrt{2\\pi}}\n",
    "e^{-\\frac{1}{2}\\left( \\frac{X_i - \\mu_{X_i}}{\\sigma_{X_i}} \\right)^2}  \\ dx\n",
    "$$\n",
    "\n",
    "$$ = \\frac{1}{\\sqrt{2\\pi}} e^c \\int e^{X_i} \\frac{1}{\\sigma_{X_i}}\n",
    "e^{-\\frac{1}{2}\\left( \\frac{X_i - \\mu_{X_i}}{\\sigma_{X_i}} \\right)^2}  \\ dx\n",
    "$$"
   ]
  },
  {
   "cell_type": "markdown",
   "id": "c6d432aa-71e6-4175-87a6-0c03e1bef1b0",
   "metadata": {},
   "source": [
    "Now we do a u-substitution. \n",
    "\n",
    "Let $u = X_i - \\mu_{X_i}$\n",
    "\n",
    "$$ \\frac{du}{dx} =  1\\Rightarrow du = dx$$"
   ]
  },
  {
   "cell_type": "markdown",
   "id": "b2f3581b-506c-4d6b-b3ab-209610c66f09",
   "metadata": {},
   "source": [
    "$$ = \\frac{1}{\\sqrt{2\\pi}} e^c \\int e^{X_i} \\frac{1}{\\sigma_{X_i}}\n",
    "e^{-\\frac{1}{2}\\left( \\frac{u}{\\sigma_{X_i}} \\right)^2}  \\ du\n",
    "$$"
   ]
  },
  {
   "cell_type": "code",
   "execution_count": null,
   "id": "1f53b64d-259e-4ab6-97ee-775d54badae2",
   "metadata": {},
   "outputs": [],
   "source": []
  },
  {
   "cell_type": "code",
   "execution_count": null,
   "id": "8bbaff40-fa32-4b53-939f-2ce65f2dec55",
   "metadata": {},
   "outputs": [],
   "source": []
  },
  {
   "cell_type": "code",
   "execution_count": null,
   "id": "d177f88c-bca0-4f56-a5d9-c138eaa7e364",
   "metadata": {},
   "outputs": [],
   "source": []
  }
 ],
 "metadata": {
  "kernelspec": {
   "display_name": "Python 3",
   "language": "python",
   "name": "python3"
  },
  "language_info": {
   "codemirror_mode": {
    "name": "ipython",
    "version": 3
   },
   "file_extension": ".py",
   "mimetype": "text/x-python",
   "name": "python",
   "nbconvert_exporter": "python",
   "pygments_lexer": "ipython3",
   "version": "3.6.8"
  }
 },
 "nbformat": 4,
 "nbformat_minor": 5
}
