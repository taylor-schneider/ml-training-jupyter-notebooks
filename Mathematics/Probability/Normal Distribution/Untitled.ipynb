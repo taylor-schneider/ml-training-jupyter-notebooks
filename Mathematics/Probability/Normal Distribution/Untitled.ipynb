{
 "cells": [
  {
   "cell_type": "markdown",
   "id": "cac73ece-e6c3-4907-95c8-e641f009b556",
   "metadata": {},
   "source": [
    "# Von Mises"
   ]
  },
  {
   "cell_type": "markdown",
   "id": "4376cfe9-37f8-4b05-b63e-f9bdd1dade1b",
   "metadata": {},
   "source": [
    "## Define a Variable"
   ]
  },
  {
   "cell_type": "markdown",
   "id": "a296cdc3-3dea-403c-be61-e146a08df381",
   "metadata": {},
   "source": [
    "We define a column vector representing an n-dimensional random variable\n",
    "\n",
    "$$ X = \\begin{bmatrix}x_1 \\\\ \\vdots \\\\ x_n\\end{bmatrix} $$"
   ]
  },
  {
   "cell_type": "markdown",
   "id": "73bc7f22-7300-4f90-8fcc-970e8cab1cad",
   "metadata": {},
   "source": [
    "## Partition The Variable"
   ]
  },
  {
   "cell_type": "markdown",
   "id": "9b04bba6-5cc4-4fd9-a9c1-e2d784d71178",
   "metadata": {},
   "source": [
    "We partition the random variable into two halves ($X_1$ and $X_2$) which contain $r$ and $n-r$ dimensions respectively:\n",
    "\n",
    "$$ X = \\begin{bmatrix}X_1 \\\\ X_2\\end{bmatrix} $$\n",
    "\n",
    "$$\n",
    "X_1 = \\begin{bmatrix}x_1 \\\\ \\vdots \\\\ x_r\\end{bmatrix}\n",
    "\\ \\ \\ \\ \\ \\ \\ \\\n",
    "X_2 = \\begin{bmatrix}x_{r+1} \\\\ \\vdots \\\\ x_n\\end{bmatrix}\n",
    "$$"
   ]
  },
  {
   "cell_type": "markdown",
   "id": "6fd6207b-72f6-4edc-bb6a-70edb3507091",
   "metadata": {},
   "source": [
    "We can represent this partitioning as a linear transformation. For example:\n",
    "\n",
    "$$ X_1 = BX $$"
   ]
  },
  {
   "cell_type": "markdown",
   "id": "b169f28f-323c-46be-990e-d893f0a5baef",
   "metadata": {},
   "source": [
    "By doing so, we can apply proof (???) which establishes that $X_1$ is normally distributed with a mean $mu_1 = B\\mu$ and a variance of $\\Sigma_{11} = B\\Sigma B^T$."
   ]
  },
  {
   "cell_type": "markdown",
   "id": "1675310d-b2be-4914-9988-def8cf8680ae",
   "metadata": {},
   "source": [
    "Note: By doing so, we have also partitioned the matrices representing the mean and variance such that:\n",
    "\n",
    "$$ \\mu = \\begin{bmatrix}\\mu_1 \\\\ \\mu_2\\end{bmatrix} $$\n",
    "\n",
    "$$ \n",
    "\\Sigma = \n",
    "\\begin{bmatrix}\n",
    "\\Sigma_{11} & \\Sigma_{12} \\\\\n",
    "\\Sigma_{21} & \\Sigma_{22}\n",
    "\\end{bmatrix}\n",
    "$$\n"
   ]
  },
  {
   "cell_type": "markdown",
   "id": "c988d2c1-8a9d-45c4-b9b4-9d0fc09a5828",
   "metadata": {},
   "source": [
    "## Define the conditional\n",
    "We can create a conditional relationship between the two partitions which expresses the realization of $X_1$ given the realization of $X_2$. Mathematically denoted as:\n",
    "\n",
    "$$X_1 | X_2$$\n",
    "\n",
    "We will prove this is normal if $X$ is normal and we will derive the mean and variance for the conditional distribution."
   ]
  },
  {
   "cell_type": "markdown",
   "id": "b30d4c24-41c0-495b-b7aa-ba3fd0aa1838",
   "metadata": {},
   "source": [
    "## Define a linear transform\n",
    "\n"
   ]
  },
  {
   "cell_type": "code",
   "execution_count": null,
   "id": "3daf564d-4657-4be0-95c4-a319d732be8e",
   "metadata": {},
   "outputs": [],
   "source": []
  },
  {
   "cell_type": "code",
   "execution_count": null,
   "id": "94d34222-6e60-46d6-81d3-e5d1e83ba5fc",
   "metadata": {},
   "outputs": [],
   "source": []
  },
  {
   "cell_type": "code",
   "execution_count": null,
   "id": "c245c359-f153-4c52-9740-35314a00189c",
   "metadata": {},
   "outputs": [],
   "source": []
  }
 ],
 "metadata": {
  "kernelspec": {
   "display_name": "Python 3",
   "language": "python",
   "name": "python3"
  },
  "language_info": {
   "codemirror_mode": {
    "name": "ipython",
    "version": 3
   },
   "file_extension": ".py",
   "mimetype": "text/x-python",
   "name": "python",
   "nbconvert_exporter": "python",
   "pygments_lexer": "ipython3",
   "version": "3.6.8"
  }
 },
 "nbformat": 4,
 "nbformat_minor": 5
}
