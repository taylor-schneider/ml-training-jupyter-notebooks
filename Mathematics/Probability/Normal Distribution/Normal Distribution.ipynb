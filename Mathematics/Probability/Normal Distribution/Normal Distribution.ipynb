{
 "cells": [
  {
   "cell_type": "markdown",
   "id": "4d165979-220a-4f8f-b04e-992f257b0032",
   "metadata": {},
   "source": [
    "# Overview\n",
    "In this notebook we establish basic properites and proofs related to the normal distribution family. This includes the general normal distribution as well as the standard normal which is a special case of the normal distribution.\n",
    "\n",
    "Note: The normal distribution is also referred to as the Gaussian distribution or Laplace-Gauss to acknowledge the discoverers..\n",
    "\n",
    "It's important to note that the standard normal distributions are particularely important because of the connection with the law of large numbers."
   ]
  },
  {
   "cell_type": "markdown",
   "id": "a0103bf7-c8a3-4c9b-88ed-ce0f22ed45a7",
   "metadata": {},
   "source": [
    "# 1. Univariate Normal Distribution\n",
    "\n",
    "## 1.1. Overview\n",
    "## 1.2. Definition"
   ]
  },
  {
   "cell_type": "markdown",
   "id": "ee278a06-512d-4869-a645-12f964eadfe2",
   "metadata": {},
   "source": [
    "We start with the definition of the univariate gaussian distribution:\n",
    "\n",
    "$$ f(x) = \\frac{1}{\\sigma\\sqrt{2\\pi}}\n",
    "e^{-\\frac{1}{2}\\left( \\frac{x - \\mu}{\\sigma} \\right)^2}  \n",
    "\\tag{1.2.1}\n",
    "$$\n",
    "\n",
    "Which can also be stated using the $exp()$ function rather than the symbol $e$:\n",
    "\n",
    "$$ = \\frac{1}{\\sigma\\sqrt{2\\pi}}\n",
    "exp \\left\\{ -\\frac{1}{2}\\left( \\frac{x - \\mu}{\\sigma} \\right)^2  \\right\\} \n",
    "\\tag{1.2.2} \n",
    "$$\n",
    "\n",
    "It is also common to reformulate the expression in terms of variance $\\sigma^2$ rather than the standard deviation $\\sigma$. This is particularaly useful once working in multimensional spaces where $\\sigma^2$ is denoted as $\\Sigma$.\n",
    "\n",
    "$$ = \\frac{1}{\\sigma\\sqrt{2\\pi}}\n",
    "exp \\left\\{ -\\frac{1}{2}\n",
    "\\frac{(x - \\mu)^2}{\\sigma^2}  \\right\\}  \n",
    "$$"
   ]
  },
  {
   "cell_type": "markdown",
   "id": "9782d14f-1365-4a9a-bc59-aeca5612033c",
   "metadata": {},
   "source": [
    "### 1.2.3. Intuition\n",
    "Below are a few interesting notes on the structure of the equation:\n",
    "\n",
    "We can think of the leaging term $\\frac{1}{\\sigma\\sqrt{2\\pi}}$ as a \"normalization factor\" which is used to ensure that the integral of the function sums to 1 and satisfies the axioms of a probability space.\n",
    "\n",
    "Another interesting observation/connection is the quadratic expression in the exponential is what gives the distribution it's shape. We see that an even power keeps the expression inside the exponential negative which yields our non-zero values. This connection with the quadratic is an important connection that will surface again when this equation is generalized to n-dimenaions.\n",
    "\n",
    "<center><img src='images/normal_distribution_quadratic.png' height='400px' width='600px'></center>"
   ]
  },
  {
   "cell_type": "markdown",
   "id": "0dc40f50-0372-4c34-bb57-2932b4860055",
   "metadata": {},
   "source": [
    "## 1.3. Derevation\n",
    "\n",
    "We can see the makings for the derevation in the proof for the CLT mentioned in section 2 of this article.\n",
    "\n",
    "We see the original derevation, which is standard normal, can be generalized by expressing a variable as a linear combination. This also applies to the derevation of a multivariate normal distribution.\n",
    "\n",
    "A proof of deriving the general normal distribution function can be found [here](https://web.sonoma.edu/users/w/wilsonst/papers/Normal/default.html)."
   ]
  },
  {
   "cell_type": "markdown",
   "id": "11299caf-e474-4f46-a2d9-f29218bdc243",
   "metadata": {},
   "source": [
    "## 1.3. History\n",
    "\n",
    "The formula for the normal density function was discovered by Abraham de Moivre in 1738 while he was working on solving a gambling problem. The solution depended on finding the sum of the terms of a binomial distribution. Ultimately de Movre proved that the binomial distribution converged to the gaussian (standard normal) distribution. A nice history on the subject can be found [here](https://higherlogicdownload.s3.amazonaws.com/AMSTAT/1484431b-3202-461e-b7e6-ebce10ca8bcd/UploadedImages/Classroom_Activities/HS_2__Origin_of_the_Normal_Curve.pdf). You can also find this information in *A History of Probability and Statistics and Their Applications Before 1750* and the follow up volume by Anders Hald.\n",
    "\n",
    "\n",
    "We can see a proof of de Moivre's claim [here](https://noahgolmant.com/writings/derivationsunivariatemultivariate.pdf). \n",
    "\n",
    "This discovery laid the fondations for the discovery of the CLT.\n",
    "\n",
    "**TODO** Something to verify:\n",
    "> Gauss and the Irish American mathematician Robert Adrain first derived the normal distribution as the only continuous distribution for which the sample mean is the value that maximises what Fisher later called the likelihood function, i.e. the joint probability of the observations considered as a function of the parameter—the actual observations being known. \n",
    ">\n",
    "> https://www.quora.com/How-did-humans-derive-the-normal-distribution\n"
   ]
  },
  {
   "cell_type": "markdown",
   "id": "e47f06d7-b5d3-49bc-a29d-e15aeea205a8",
   "metadata": {},
   "source": [
    "# 2. Central Limit Theorem (CLT)\n",
    "\n",
    "## 2.1. Overview\n",
    "\n",
    "## 2.2. Definition\n",
    "Using the characteristic function of a random variable it can be shown that a finite sequence $S_n$ of independent identically idstributed ($iid.$) variables with a common mean and variance will converge to a standard normal distribution.\n",
    "\n",
    "$$ S_n = \\sum X_i $$\n",
    "\n",
    "$$ \\mu = \\mathbb{E}[X_i] $$\n",
    "\n",
    "$$ \\sigma = Var[X_i] $$\n",
    "\n",
    "$$\\lim\\limits_{n \\to \\infty}\n",
    "\\mathbb{P}\\left( \\frac{S_n - n\\mu}{\\sigma \\sqrt{n}} \\le c\\right)\n",
    "= \\phi(c)\n",
    "= \\int_{-\\infty}^{c} \\frac{1}{\\sqrt{2\\pi}} e^{-\\frac{1}{2}x^2} dx\n",
    "\\tag{2.2.1}\n",
    "$$\n",
    "\n",
    "## 2.3. Derevation\n",
    "\n",
    "The proof relies on the characteristic function, fourier transform, and algebra.\n",
    "\n",
    "Proof can be found [here](https://noahgolmant.com/writings/derivationsunivariatemultivariate.pdf)\n",
    "\n",
    "## 2.4. History\n",
    "See section 1.3."
   ]
  },
  {
   "cell_type": "markdown",
   "id": "58fb12ca-cbd5-4867-9eb5-c18fa4e11a51",
   "metadata": {},
   "source": [
    "# 3. Multivariate Normal Distribution"
   ]
  },
  {
   "cell_type": "markdown",
   "id": "25ace15e-aaff-4746-8695-3c48eacabf71",
   "metadata": {},
   "source": [
    "## 3.1. Overview\n",
    "\n",
    "The multivariate normal (MVN) distribution is a probability distribution that models the linear combination of independent standard normal random variables. In other words it models a joint random variable composed of standard normal random variables."
   ]
  },
  {
   "cell_type": "markdown",
   "id": "fabcebbc-ec8c-4be9-9106-9715effd76e2",
   "metadata": {},
   "source": [
    "## 3.2. Definition\n",
    "There are many many definitions for a multivariate normal distribution floating around. To put things simply, a MVN distribution is a symetric probability distribution which is completely described by it's two moments $\\mu$ and $\\Sigma$. This translates into two constraints: the distribution functions (pdf/cdf) must satisty the axioms of a probability space and the structure of the function must contain certain structural elements."
   ]
  },
  {
   "cell_type": "markdown",
   "id": "e83119c3-5b3f-406c-a2fd-14591fa642e5",
   "metadata": {},
   "source": [
    "## 3.3. Derivation\n",
    "\n",
    "There are several methods to derive the multivariate normal distribution that I am aware of.\n",
    "\n",
    "> To my knowledge, there are two primary approaches to developing the theory of multivariate Gaussian distributions. The first, and by far the most common approach in machine learning textbooks, is to define the multivariate gaussian distribution in terms of its density function, and to derive results by manipulating these density functions. With this approach, a lot of the work turns out to be elaborate matrix algebra calculations happening inside the exponent of the Gaussian density. One issue with this approach is that the multivariate Gaussian density is only defined when the covariance matrix is invertible. To keep the derivations rigorous, some care must be taken to justify that the new covariance matrices we come up with are invertible. For my taste, I find the rigor in our textbooks to be a bit light on these points. We’ve included the proof to Theorem 4 to give a flavor of the details one should add. The second major approach to multivariate Gaussian distributions does not use density functions at all and does not require invertible covariance matrices. This approach is much cleaner and more elegant, but it relies on the theory of characteristic functions and the Cramer-Wold device to get started, and these are beyond the prerequisites for this course. You can often find this development in more advanced probability and statistics books, such as Rao’s excellent Linear Statistical Inference and Its Applications (Chapter 8).\n",
    ">\n",
    "> https://davidrosenberg.github.io/mlcourse/in-prep/multivariate-gaussian.pdf\n",
    "\n",
    "\n",
    "My derrevation of the multivariate normal distribution starts with a derrevation assuming variables are independent and then matures to abandon that presumption. It also relies on several other prerequisite proofs which we will establish below."
   ]
  },
  {
   "cell_type": "markdown",
   "id": "990fe19a-583b-4270-b5b5-d49d1e501803",
   "metadata": {},
   "source": [
    "### 3.3.1. Setup Space\n",
    "\n",
    "We define objects prerequisite to our proofs"
   ]
  },
  {
   "cell_type": "markdown",
   "id": "b15ba0a1-75b8-4cbc-8c89-e39e6ac01cc9",
   "metadata": {},
   "source": [
    "\"A\" for afine transform??\n",
    "\n",
    "\n",
    "$$A = \\begin{bmatrix}\n",
    "a_{i,k}\n",
    "\\end{bmatrix}, \\ for \\ i,k \\in \\{1, 2, \\cdots, n\\} $$\n",
    "\n",
    "$$ X = \\begin{bmatrix}\n",
    "X_1 \\\\\n",
    "X_2 \\\\\n",
    "\\vdots \\\\\n",
    "X_n\n",
    "\\end{bmatrix}$$\n",
    "\n",
    "$$ X_i \\sim \\mathcal{N} $$\n",
    "\n",
    "$$ Z = \\begin{bmatrix}\n",
    "Z_1 \\\\\n",
    "Z_2 \\\\\n",
    "\\vdots \\\\\n",
    "Z_n\n",
    "\\end{bmatrix}$$\n",
    "\n",
    "$$Z_i \\sim \\mathcal{N}(0,1)$$"
   ]
  },
  {
   "cell_type": "markdown",
   "id": "e3b20995-fc9b-4e81-837e-7514445399e5",
   "metadata": {},
   "source": [
    "### 3.3.2 Derive Joint Distribution For Independent Univariate Normal Variables\n",
    "\n",
    "In this proof we will derive the joint density function and thus the joint distribution for a set of random variables $X$\n",
    "\n"
   ]
  },
  {
   "cell_type": "markdown",
   "id": "fd2fcd9b-2e65-4a7d-b9bc-27095d5e0b3c",
   "metadata": {},
   "source": [
    "We start by acknowledging that the variables are independent. The joint distribution tells us the probability of a set of variables (in our case two) realizing specific values at the same time.\n",
    "\n",
    "Using the definition of conditional probability we know that\n",
    "\n",
    "$$ f_X = p(X_1 | X_2) = \\frac{p(X_1 \\cap X_2)}{p(X_2)}$$\n",
    "\n",
    "However, using the definition of independence, the joint probability for this specific case can be restated as:\n",
    "\n",
    "$$ p(X_1 \\cap X_2) = p(X_1 | X_2)p(X_2)$$\n",
    "\n",
    "$$ p(X_1 \\cap X_2) = p(X_1)p(X_2)$$"
   ]
  },
  {
   "cell_type": "markdown",
   "id": "abfbaf4d-a318-4e36-9cf7-e0a901ed3f6c",
   "metadata": {},
   "source": [
    "Generalizing this to n-dimensions we have:\n",
    "\n",
    "$$ p(X_1 \\cap X_2 \\cap \\cdots \\cap X_n) = \\prod p(X_i) $$\n",
    "\n",
    "When $X_i \\perp X_j \\ \\ \\forall i,j$."
   ]
  },
  {
   "cell_type": "markdown",
   "id": "985439b3-11f9-4b74-b395-de248f6de12e",
   "metadata": {},
   "source": [
    "Injecting the unviariate normal density equation (1.3.1) we have:\n",
    "\n",
    "$$ = \\prod \n",
    "\\frac{1}{\\sigma_{X_i}\\sqrt{2\\pi}}\n",
    "exp \\left\\{ -\\frac{1}{2}\n",
    "\\frac{(X_i - \\mu_{X_i})^2}{\\sigma_{X_i}^2}  \\right\\}  \n",
    "$$\n",
    "\n",
    "$$ = \n",
    "\\frac{1}{\\sqrt[n]{2\\pi}}\n",
    "\\prod \n",
    "\\frac{1}{\\sigma_{X_i}}\n",
    "exp \\left\\{ -\\frac{1}{2}\n",
    "\\frac{(X_i - \\mu_{X_i})^2}{\\sigma_{X_i}^2}  \\right\\}  \n",
    "$$"
   ]
  },
  {
   "cell_type": "markdown",
   "id": "abc57aff-3e9f-4a59-a2ed-97be9352a03c",
   "metadata": {
    "tags": []
   },
   "source": [
    "Removing the exponential term from the product operator using the properties of exponents $(x^ax^b = x^{a+b})$ we have:\n",
    "\n",
    "$$ = \n",
    "\\frac{1}{\\sqrt[n]{2\\pi}}\n",
    "exp \n",
    "\\left\\{ \n",
    "-\\frac{1}{2}\n",
    "\\frac{(X_i - \\mu_{X_i})^2}{\\sigma_{X_i}^2}  \n",
    "\\cdots\n",
    "-\\frac{1}{2}\n",
    "\\frac{(X_n - \\mu_{X_n})^2}{\\sigma_{X_n}^2}  \n",
    "\\right\\} \n",
    "\\prod \n",
    "\\frac{1}{\\sigma_{X_i}} \n",
    "$$"
   ]
  },
  {
   "cell_type": "markdown",
   "id": "1b5c359d-b053-4569-b738-32e7f7800794",
   "metadata": {
    "tags": []
   },
   "source": [
    "Adjusting the esponent in the exponential term to use multi-dimensional matrix notation."
   ]
  },
  {
   "cell_type": "markdown",
   "id": "b811b117-fb24-4097-af21-a91880a06698",
   "metadata": {},
   "source": [
    "$$ = \n",
    "\\frac{1}{\\sqrt[n]{2\\pi}}\n",
    "exp \n",
    "\\left\\{ \n",
    "-\\frac{1}{2}\n",
    "(X - \\mu_{X})^T\\Sigma^{-1}(X - \\mu_{X})  \n",
    "\\right\\} \n",
    "\\prod \n",
    "\\frac{1}{\\sigma_{X_i}} \n",
    "$$"
   ]
  },
  {
   "cell_type": "markdown",
   "id": "474f7850-ab3a-44ad-8735-39b02a28894c",
   "metadata": {},
   "source": [
    "We can finally remove the product operator by introducing the covariance matrix amd its determinant. The covariance matrix will hold the variances $\\sigma_{X_i} = \\sqrt{\\Sigma_i}$ of the $X_i$. The determinant will perform the operation of multiplying the diagonals of the covariance matrix. If we take the square root of the covariance matrix or the determiniant we then have an equivalent result as the product operator."
   ]
  },
  {
   "cell_type": "markdown",
   "id": "98a1b0e9-d417-4e73-93f9-0d44edae54e9",
   "metadata": {},
   "source": [
    "$$ = \n",
    "\\frac{1}{\\sqrt[n]{2\\pi}}\n",
    "exp \n",
    "\\left\\{ \n",
    "-\\frac{1}{2}\n",
    "(X - \\mu_{X})^T\\Sigma^{-1}(X - \\mu_{X})  \n",
    "\\right\\} \n",
    "\\frac{1}{\\sqrt{|\\Sigma_{X_i}|}} \n",
    "$$"
   ]
  },
  {
   "cell_type": "markdown",
   "id": "edd8777a-1999-41fb-a992-57e05561578a",
   "metadata": {},
   "source": [
    "$$ = \n",
    "\\frac{1}{\\sqrt{(2\\pi)^n |\\Sigma_{X_i}|}}\n",
    "exp \n",
    "\\left\\{ \n",
    "-\\frac{1}{2}\n",
    "(X - \\mu_{X})^T\\Sigma^{-1}(X - \\mu_{X})  \n",
    "\\right\\}\n",
    "\\tag{3.3.2.1}\n",
    "$$\n",
    "\n",
    "This this we now have a mulativariate density function for mutually independent normal random variables."
   ]
  },
  {
   "cell_type": "markdown",
   "id": "92ec5993-107d-4916-8eee-4e22cc61b4f8",
   "metadata": {},
   "source": [
    "If the variables are standard normal such that $Z_i \\sim \\mathcal{N}(0,1)$ we can reduce the equation even further to see that:"
   ]
  },
  {
   "cell_type": "markdown",
   "id": "a54feb95-c058-4ff2-ba82-7508f1b3a0c7",
   "metadata": {},
   "source": [
    "$$ f_Z(Z) = \n",
    "\\frac{1}{\\sqrt{(2\\pi)^n}}\n",
    "exp \n",
    "\\left\\{ \n",
    "-\\frac{1}{2}\n",
    "ZZ^T \n",
    "\\right\\} \n",
    "\\tag{3.3.2.2}\n",
    "$$"
   ]
  },
  {
   "cell_type": "markdown",
   "id": "3175e662-7a22-4037-8163-dd4d0f3b56e8",
   "metadata": {},
   "source": [
    "But the assumption we made about univariate random variables may not be appropriate for our situation, we may want to extend things a bit further."
   ]
  },
  {
   "cell_type": "markdown",
   "id": "439f25b4-6927-4ea9-ba11-2491ba189c6f",
   "metadata": {},
   "source": [
    "### 3.3.3 Derive General Formula for Joint Normal Distribution\n",
    "\n",
    "In this proof we will further generalize (3.2.2).\n",
    "\n",
    "We will do this using the basic laws of probability and change of variables to define the deneral formula in terms of the previously derived standard iid. formula."
   ]
  },
  {
   "cell_type": "markdown",
   "id": "13806699-a47d-45ab-a998-63bca5e28aac",
   "metadata": {},
   "source": [
    "#### 3.3.3.1. Define Linear combination Of Standard Normal Random Variables"
   ]
  },
  {
   "cell_type": "markdown",
   "id": "0e4a021a-7d15-45a9-9f53-afb181603c32",
   "metadata": {},
   "source": [
    "We define a new random variable $Y$ that is a linear transformation of $Z$. Recall that $Z$ defines a joint variable that spans multiple dimensions. Its components $Z_i$ are the mutually independent univariate standard normal random variables.\n",
    "\n",
    "$$ Y = c_1Z_1 + \\cdots + c_nZ_n + d$$\n",
    "\n",
    "$$ = cZ+d $$\n",
    "\n",
    "$$ = t(Z) $$\n",
    "\n",
    "Note: We see here that the $Y$ defined in 3.3.2. was such that $c=1$ and $d=0$. See 3.4.1 and 3.4.2 for additional verification."
   ]
  },
  {
   "cell_type": "markdown",
   "id": "1b36a62d-4b95-44d4-9425-d22ae86caef6",
   "metadata": {},
   "source": [
    "#### 3.3.3.2. Create An Equality Between Probability Spaces\n",
    "We know that the probability density function of $Z$ and $Y$ must add up to 1 when summed over the corresponding supports (non-trival domains) in order to satisfy the axioms of a probability space. \n",
    "\n",
    "$$ \\underset{S_Z} {\\int \\cdots \\int} f_Z(Z) \\ \\partial Z = 1$$\n",
    "\n",
    "$$ \\underset{S_Y} {\\int \\cdots \\int} f_Y(Y) \\ \\partial Y = 1$$\n",
    "\n",
    "\n",
    "As such we can construct an equality which serves as the backbone of our derrevation."
   ]
  },
  {
   "cell_type": "markdown",
   "id": "1b5014c4-9c8f-4b88-aede-980d4b5ec1e1",
   "metadata": {},
   "source": [
    "$$ \\underset{S_Z} {\\int \\cdots \\int} f_Z(Z) \\ \\partial Z =  \\underset{S_Y} {\\int \\cdots \\int} f_Y(Y) \\ \\partial Y$$"
   ]
  },
  {
   "cell_type": "markdown",
   "id": "54f8af06-1061-484d-81ff-4c355e4853cd",
   "metadata": {},
   "source": [
    "#### 3.3.3.3. Perform Change Of Variable\n",
    "We can then perform a change of variable on this equation to restate the left hand side in terms of $Y$ rather than $Z$. The general change ov variable for multiple integrals formula is as follows:\n",
    "\n",
    "$$ \\underset{S_Y} {\\int \\cdots \\int} \n",
    "f_Z\\left[ t^{-1}(Y) \\right] |\\mathbb{J}_{t^{-1}}|\n",
    "\\ \\partial Z \n",
    "=\n",
    "\\underset{S_Y} {\\int \\cdots \\int} f_Y(Y) \\ \\partial Y$$\n",
    "\n",
    "This is a bit confusing so lets build up some intuition:\n",
    "\n",
    "Our functions are well behaved, so we can use inversion to restate our transformation using an inverse function.\n",
    "\n",
    "$$ Y = cZ + d = t(Z) $$\n",
    "\n",
    "$$\\Rightarrow Z = t^{-1}(Y) $$\n",
    "\n",
    "$$ \\Rightarrow t^{-1}(Y) = \\frac{Y - d}{c} $$\n",
    "\n",
    "$$ Z = \\frac{Y - d}{c} $$\n",
    "\n",
    "\n",
    "We can substitute $Z$ with the inverse transform of $t$. This will restate the integral interms of $Y$ but this will not complete the change of variable."
   ]
  },
  {
   "cell_type": "markdown",
   "id": "9eb706d1-97b8-44db-9d4d-37a29f9219a7",
   "metadata": {},
   "source": [
    "$$ \\underset{S_Z} {\\int \\cdots \\int} f_Z\\left[ t^{-1}(Y) \\right] \\ \\partial Z \n",
    "=\n",
    "\\underset{S_Y} {\\int \\cdots \\int} f_Y(Y) \\ \\partial Y$$\n",
    "\n",
    "$$ \\underset{S_Z} {\\int \\cdots \\int} f_Z\\left[ \\frac{Y - d}{c} \\right] \\ \\partial Z \n",
    "=\n",
    "\\underset{S_Y} {\\int \\cdots \\int} f_Y(Y) \\ \\partial Y$$"
   ]
  },
  {
   "cell_type": "markdown",
   "id": "ab988a2e-8032-4c94-b585-952533e11e64",
   "metadata": {},
   "source": [
    "Recall that the multiple integreal over the support represents an n-dimensional area. As such we will need to convert the area from one unit/space to another. In other words we need to modify the integral so that it is covering $S_Z$ rather than $S_Y$ without changing the actual sum.\n",
    "\n",
    "We will see that the reason we need both sides in terms of $Y$ is because we will eventually take the derivative of both sides with respect to $Y$.\n",
    "\n",
    "\n",
    "We change the bounds of the integral using the Jacobian determinant $|\\mathbb{J}_t|$ of our transformation $t$. Essentially we have:\n",
    "\n",
    "$$ S_Y = |\\mathbb{J}_t| S_Z$$\n",
    "\n",
    "$$ S_X = |\\mathbb{J}_t|^{-1} S_Z $$\n",
    "\n",
    "$$ |\\mathbb{J}_t|^{-1} = |\\mathbb{J}_t^{-1}| = |\\mathbb{J}_{t^{-1}}|$$\n",
    "\n",
    "Given $t(Z) = cZ+d$ we have \n",
    "\n",
    "$$ |\\mathbb{J}_t| = c $$\n",
    "\n",
    "\n",
    "$$ \\Rightarrow |\\mathbb{J}_t^{-1}| \n",
    "= \\frac{1}{|\\mathbb{J}_t|}\n",
    "= \\begin{vmatrix}\\frac{1}{c}\\end{vmatrix}\n",
    "$$\n",
    "\n",
    "For more information see the [Jacobian Notebook](../Matrix%20Algebra/Jacobian.ipynb).\n",
    "\n",
    "If we plug this information into the equation we complete the change of variable within the integral and thus have a general cumulative density functionfor $Y$.\n",
    "\n",
    "$$ \\underset{S_Y} {\\int \\cdots \\int} \n",
    "f_Z\\left[ t^{-1}(Y) \\right] |\\mathbb{J}_{t^{-1}}|\n",
    "\\ \\partial Z \n",
    "=\n",
    "\\underset{S_Y} {\\int \\cdots \\int} f_Y(Y) \\ \\partial Y$$"
   ]
  },
  {
   "cell_type": "markdown",
   "id": "b539f621-e8ac-4a79-82a9-d7166d4e77f2",
   "metadata": {},
   "source": [
    "$$ \\underset{S_Y} {\\int \\cdots \\int} \n",
    "f_Z\\left[ \\frac{Y-d}{c} \\right] \\frac{1}{c}\n",
    "\\ \\partial Z \n",
    "=\n",
    "\\underset{S_Y} {\\int \\cdots \\int} f_Y(Y) \\ \\partial Y$$"
   ]
  },
  {
   "cell_type": "markdown",
   "id": "8e828520-9675-4f76-8afc-a7fd1b0e1b2b",
   "metadata": {},
   "source": [
    "#### 3.3.3.4. Differentiate Both Sides\n",
    "We can now take the derivative of each side which yields our general solution for the probability density function.\n",
    "\n",
    "$$ f_Y(Y) = f_Z\\left[ t^{-1}(Y) \\right] |\\mathbb{J}_t^{-1}|$$\n",
    "\n",
    "$$ = f_Z\\left[ \\frac{Y-d}{c} \\right] \\begin{vmatrix}\\frac{1}{c}\\end{vmatrix} $$\n",
    "\n",
    "Note: This technique will work for any joint distirbution we may observe."
   ]
  },
  {
   "cell_type": "markdown",
   "id": "82222f6d-99fd-474c-b340-3ab5810cea91",
   "metadata": {},
   "source": [
    "#### 3.3.3.5. Plug In Standard Normal Density Function\n",
    "Up until this point, nothing required that the variables $Z_i$ be standard normal or independent. We can plug in any distribution at this point. The problem with straying away from a standard normal variable is that the math becomes very complicated. We will look at this in 3.3.3.6.\n",
    "\n",
    "For now, we can now derive a solution specific to the standard normal distribution by plugging in the density function of $Z$ and the jacobian determinant."
   ]
  },
  {
   "cell_type": "markdown",
   "id": "511327c6-44fa-4b9b-99fc-14582ad7b059",
   "metadata": {},
   "source": [
    "$$ = \\frac{1}{\\sqrt{2\\pi}}e^{-\\frac{1}{2}\\left(\\frac{Y-d}{c}\\right)^2}\\frac{1}{|c|}$$\n",
    "\n",
    "$$ = \\frac{1}{\\sqrt{2\\pi}|c|}e^{-\\frac{1}{2}\\left(\\frac{Y-d}{c}\\right)^2}$$\n",
    "\n",
    "$$ = \\frac{1}{\\sqrt{2\\pi |c^2|}}e^{-\\frac{1}{2}\\left(\\frac{Y-d}{c}\\right)^2}$$\n"
   ]
  },
  {
   "cell_type": "markdown",
   "id": "25abfd5b-bde5-4784-ac40-6a196025b67a",
   "metadata": {},
   "source": [
    "By looking at the structure of this equation we can now see clearly that this is a normal pdf as it closely reseembles the univariate normal distribution and the multivariate iid. distribution derived previously."
   ]
  },
  {
   "cell_type": "markdown",
   "id": "cf881a5c-bcf9-4d26-ade5-7f457ba2c162",
   "metadata": {},
   "source": [
    "To make this extremely clear we can switch notation, let $d$ be the mean of $Y$ such that \n",
    "\n",
    "$$d = \\mu_Y$$ \n",
    "\n",
    "and let $c^2$ be the variance of $Y$ such that \n",
    "\n",
    "$$c^2 = \\Sigma_Y$$\n",
    "\n",
    "Plugging this notation into our solution yields:"
   ]
  },
  {
   "cell_type": "markdown",
   "id": "c76e63d0-c329-4760-b1d8-906ca4dde81c",
   "metadata": {},
   "source": [
    "$$ = \\frac{1}{\\sqrt{2\\pi |\\Sigma_Y|}}e^{-\\frac{1}{2}\\left(\\frac{Y-\\mu_Y}{\\sqrt{\\Sigma_Y}}\\right)^2}$$\n",
    "\n",
    "$$ = \\frac{1}{\\sqrt{2\\pi |\\Sigma_Y|}}e^{-\\frac{1}{2} (Y-\\mu)\\Sigma_Y^{-1}(Y-\\mu)} \\tag{3.3.3.5}$$"
   ]
  },
  {
   "cell_type": "markdown",
   "id": "beffb1e1-7b7b-413f-9e8f-f77afea30fbf",
   "metadata": {},
   "source": [
    "#### 3.3.3.6. Define Linear Combination of Non-Standard Normal Variables\n",
    "As mentioned previously, the usage of the joint standard normal distribution was for mathematical convenience. Below we will continue generalizing by assuming that $Y$ is a linear combination of arbitrary normal random variables rather than standard normal random variables.\n",
    "\n",
    "\n",
    "Define $Y$ in terms of $X\\sim\\mathcal{N}(\\mu_X,\\Sigma_X)$ instead of $Z\\sim\\mathcal{Z}(0,1)$\n",
    "\n",
    "$$ y = cX + d $$"
   ]
  },
  {
   "cell_type": "markdown",
   "id": "fff7097e-23f2-46f9-bf58-1fd074159170",
   "metadata": {},
   "source": [
    "Pickup at the 3.3.3.4 equation where we differentiate the inverse transform\n",
    "\n",
    "$$ f_Y(Y) = f_X\\left[ t^{-1}(Y) \\right] |\\mathbb{J}_t^{-1}|$$\n",
    "\n",
    "$$ = f_X\\left[ \\frac{Y-d}{c} \\right] \\begin{vmatrix}\\frac{1}{c}\\end{vmatrix} $$"
   ]
  },
  {
   "cell_type": "markdown",
   "id": "67c8c8d4-8653-4c76-b2fd-7121a2d29764",
   "metadata": {},
   "source": [
    "We inject the value of $X= \\frac{Y-d}{c}$ into the pdf\n",
    "\n",
    "$$ f_Y(Y) = \\frac{1}{\\sqrt{2\\pi |\\Sigma_X|}}e^{-\\frac{1}{2}\\left(\\frac{X-\\mu_X}{\\sqrt{\\Sigma_X}}\\right)^2}$$\n",
    "\n",
    "$$ = \\frac{1}{\\sqrt{2\\pi |\\Sigma_X|}}e^{-\\frac{1}{2}\\left(\\frac{\\left(\\frac{Y-d}{c}\\right)-\\mu_X}{\\sqrt{\\Sigma_X}}\\right)^2}$$\n",
    "\n",
    "$$ = \\frac{1}{\\sqrt{2\\pi |\\Sigma_X|}}\n",
    "e^{\n",
    "-\\frac{1}{2}\n",
    "\\left(\n",
    "\\frac{\\left(\\frac{Y-d}{c}\\right)-\\frac{c\\mu_X}{c}}{\\sqrt{\\Sigma_X}}\n",
    "\\right)^2}$$\n",
    "\n"
   ]
  },
  {
   "cell_type": "markdown",
   "id": "5b1d21a3-b57b-4938-a39d-cabb9d7c8b81",
   "metadata": {},
   "source": [
    "$$ = \\frac{1}{\\sqrt{2\\pi |\\Sigma_X|}}\n",
    "e^{\n",
    "-\\frac{1}{2}\n",
    "\\left(\n",
    "    \\frac{Y-d-c\\mu_X}{c\\sqrt{\\Sigma_X}}\n",
    "\\right)^2}$$"
   ]
  },
  {
   "cell_type": "markdown",
   "id": "9d0943b8-78e1-475d-ad96-04a57bdf1142",
   "metadata": {},
   "source": [
    "From 3.4.1. we know $\\mu_Y = c\\mu_X + d$ and thus\n",
    "\n",
    "$$ = \\frac{1}{\\sqrt{2\\pi |\\Sigma_X|}}\n",
    "e^{\n",
    "-\\frac{1}{2}\n",
    "\\left(\n",
    "    \\frac{Y- \\mu_Y}{c\\sqrt{\\Sigma_X}}\n",
    "\\right)^2}$$"
   ]
  },
  {
   "cell_type": "markdown",
   "id": "af42a877-01ef-4c1e-accf-12731276f231",
   "metadata": {},
   "source": [
    "From 3.4.2. we know $\\Sigma_Y = c^2 \\Sigma_X = c\\Sigma_Xc^T$ and thus\n",
    "\n",
    "$$ = \\frac{1}{\\sqrt{2\\pi |\\Sigma_X|}}\n",
    "e^{\n",
    "-\\frac{1}{2}\n",
    "(Y- \\mu_Y)\\Sigma_Y^{-1}(Y- \\mu_Y)\n",
    "}$$"
   ]
  },
  {
   "cell_type": "markdown",
   "id": "85ddbc88-e42f-46e1-a9c2-8ac4f4871903",
   "metadata": {},
   "source": [
    "From 3.4.2 we deduce that $\\Sigma_X = c^{-2}\\Sigma_Y$ so we can manipulate the equation even farther and find:\n",
    "\n",
    "$$ = \\frac{1}{\\sqrt{2\\pi |c^{-2}\\Sigma_Y|}}\n",
    "e^{\n",
    "-\\frac{1}{2}\n",
    "(Y- \\mu_Y)\\Sigma_Y^{-1}(Y- \\mu_Y)\n",
    "}$$\n",
    "\n",
    "$$ = \\frac{1}{\\sqrt{2\\pi |c^{2}\\Sigma_Y|}}\n",
    "e^{\n",
    "-\\frac{1}{2}\n",
    "(Y- \\mu_Y)\\Sigma_Y^{-1}(Y- \\mu_Y)\n",
    "}$$\n",
    "\n",
    "$$ = \\frac{1}{\\sqrt{2\\pi |c\\Sigma_Yc^T|}}\n",
    "e^{\n",
    "-\\frac{1}{2}\n",
    "(Y- \\mu_Y)\\Sigma_Y^{-1}(Y- \\mu_Y)\n",
    "} \\tag{3.3.3.6}$$"
   ]
  },
  {
   "cell_type": "markdown",
   "id": "2b953c3f-e387-48a2-baa2-c871fa0d9f3d",
   "metadata": {},
   "source": [
    "## 3.4. Properties"
   ]
  },
  {
   "cell_type": "markdown",
   "id": "cb6f1cb3-7ae8-4b4c-b518-bdf46c0a376e",
   "metadata": {},
   "source": [
    "### 3.4.1. Mean of Multivariate Normal\n",
    "\n",
    "Given $Y = cX + d$ we will see that $\\mu_Y = c\\mu_X$\n",
    "\n",
    "We start by taking the expectation:\n",
    "\n",
    "$$ \\mathbb{E}[Y] = \\mathbb{E}[cX + d] $$\n",
    "\n",
    "$$ \\mathbb{E}[cX] + \\mathbb{E}[d]$$\n",
    "\n",
    "$$ c\\mathbb{E}[X] + d$$\n",
    "\n",
    "\n",
    "$$ c\\mu_X + d \\tag{3.4.1}$$"
   ]
  },
  {
   "cell_type": "markdown",
   "id": "c1ba2f0e-ae4f-4424-9efe-e0a461d22d82",
   "metadata": {},
   "source": [
    "### 3.4.2. Variance of Multivariate Normal\n",
    "\n",
    "Start with the basic variance formulas\n",
    "\n",
    "$$\\mathbb{Var}[Y] = \\mathbb{E}[(Y - \\mu_Y)^2]$$\n",
    "\n",
    "$$= \\mathbb{E}[Y^2 - 2\\mu_Y Y + \\mu_Y^2]$$\n",
    "\n",
    "$$= \\mathbb{E}[Y^2] - \\mathbb{E}[2\\mu_Y Y] + \\mathbb{E}[\\mu_Y^2]$$\n",
    "\n",
    "$$= \\mathbb{E}[Y^2] - 2\\mu_Y\\mathbb{E}[ Y] + \\mu_Y^2$$\n",
    "\n",
    "$$= \\mathbb{E}[Y^2] - \\mu_Y\\mathbb{E}[ Y]$$\n",
    "\n",
    "$$= \\mathbb{E}[Y^2] - \\mathbb{E}[Y]^2$$\n",
    "\n",
    "Introduce the linear combination formula\n",
    "\n",
    "$$= \\mathbb{E}[(cX + d)^2] - \\mathbb{E}[cX+d]^2$$\n",
    "\n",
    "$$= \\mathbb{E}[(cX + d)(cX + d)] - (c\\mu_X+d)^2$$\n",
    "\n",
    "$$= \\mathbb{E}[c^2X^2+2cdX+d^2] - (c\\mu_X+d)(c\\mu_X+d)$$\n",
    "\n",
    "$$= \\mathbb{E}[c^2X^2]+\\mathbb{E}[2cdX]+\\mathbb{E}[d^2] - c^2\\mu_X^2 - 2cd\\mu_X - d^2$$\n",
    "\n",
    "$$= c^2\\mathbb{E}[X^2]+ 2cd\\mathbb{E}[X]+ d^2 - c^2\\mu_X^2 - 2cd\\mu_X - d^2$$\n",
    "\n",
    "$$= c^2\\mathbb{E}[X^2] + 2cd\\mu_X + d^2 - c^2\\mu_X^2 - 2cd\\mu_X - d^2$$\n",
    "\n",
    "$$= c^2\\mathbb{E}[X^2] - c^2\\mu_X^2$$\n",
    "\n",
    "$$= c^2\\mathbb{E}[X^2] - c^2\\mathbb{E}[X]^2$$\n",
    "\n",
    "$$= c^2(\\mathbb{E}[X^2] - \\mathbb{E}[X]^2)$$\n",
    "\n",
    "\n",
    "$$= c^2 \\mathbb{Var}[X] $$\n",
    "\n",
    "$$= c\\Sigma c^t \\tag{3.4.2}$$\n"
   ]
  },
  {
   "cell_type": "markdown",
   "id": "97253e92-0338-4fa1-a4a3-20b5d1872ecd",
   "metadata": {},
   "source": [
    "### 3.4.3. Other Moments Of Multivariate Normal\n",
    "The other moments of the multivariate normal random variable can be derived using the moment generating function. For a refresher on moment generating functions see the [notebook on expectations and MGFs](../../Statistics/Expectation.ipynb#Moment-Generation-Function)\n",
    "\n",
    "Recall that the multivariate normal random variable is defined as $Y=cX + d$. The moment generating function $M_Y(c)$ for $Y$ can be derived as follows:\n",
    "\n",
    "$$ M_Y(t) = \\mathbb{E}[e^{tY}] $$ \n",
    "\n",
    "$$ = \\mathbb{E}[e^{t(cX + d)}] $$ \n",
    "\n",
    "$$ = \\mathbb{E}[e^{tc_1X_1 + \\cdots + tc_nX_n + td}] $$\n",
    "\n",
    "$$ = \\mathbb{E}[e^{tc_1X_1}]\\cdots\\mathbb{E}[e^{tc_nX_n}]\\mathbb{E}[e^{td}] $$\n",
    "\n",
    "$$ = M_{X_1}(tc_1)\\cdots M_{X_n}(tc_n)e^{td} $$ \n",
    "\n",
    "$$ = e^{td}\\prod M_{X_i}(tc_i) \\tag{3.4.3}$$ \n",
    "\n",
    "We can then differentiate this function as needed to find the coresponding moment.\n",
    "\n",
    "More on this subject can be found [here](https://online.stat.psu.edu/stat414/lesson/25/25.2)"
   ]
  },
  {
   "cell_type": "markdown",
   "id": "25f9305f-b9e8-4a72-b5e4-d000a739a62d",
   "metadata": {},
   "source": [
    "### 3.4.4. Linear Combination of Independent Normal Random Variables is Normal"
   ]
  },
  {
   "cell_type": "markdown",
   "id": "03d86cc1-6142-48f2-96fd-678fea91af78",
   "metadata": {},
   "source": [
    "One property that makes the normal distribution extremely tractable from an analytical viewpoint is its closure under linear combinations: the linear combination of two independent normal distributions is a normal distribution. And the linear combination of normal random variables is a normal random variable.\n",
    "\n",
    "https://www.statlect.com/probability-distributions/normal-distribution-linear-combinations"
   ]
  },
  {
   "cell_type": "markdown",
   "id": "46de76a4-ac0d-4c75-9f4a-726ef925c09f",
   "metadata": {},
   "source": [
    "There are several way to prove this. A convenient method is to show that the moment generating function of a linear transformation has the same form as the joint normal distribution.\n",
    "\n",
    "We start from (3.4.3) and plug in the MGF for a normal random variable\n",
    "\n",
    "$$ M_X(t) =  e^{\\left( \\mu t + \\frac{\\sigma^2 t^2}{2} \\right)} $$\n",
    "\n",
    "$$ M_Y(t) = e^{td}\\prod M_{X_i}(tc_i)$$\n",
    "\n",
    "$$ = e^{td}\\prod e^{\\left( \\mu tc_i + \\frac{\\sigma^2 (tc_i)^2}{2} \\right)}$$\n",
    "\n",
    "$$ = e^{td}\\prod e^{\\mu tc_i} e^{\\frac{\\sigma^2 (tc_i)^2}{2}}$$\n",
    "\n",
    "$$ = exp\\big\\{td\\big\\}\\prod exp\\big\\{ \\mu tc_i \\big\\} exp\\Bigg\\{\\frac{\\sigma^2 (tc_i)^2}{2}\\Bigg\\}$$\n",
    "\n",
    "$$ = exp\\big\\{td\\big\\}exp\\big\\{ \\sum \\mu tc_i \\big\\} exp\\Bigg\\{\\sum \\frac{\\sigma^2 (tc_i)^2}{2}\\Bigg\\}$$\n",
    "\n",
    "$$ = exp\\big\\{td\\big\\}exp\\big\\{ t\\sum \\mu c_i \\big\\} exp\\Bigg\\{\\frac{t^2}{2}\\sum \\frac{\\sigma^2 c_i^2}{2}\\Bigg\\}$$\n",
    "\n",
    "$$ = exp\\big\\{td\\big\\}exp\\big\\{ t\\sum \\mu c_i \\big\\} exp\\Bigg\\{\\frac{t^2}{2}\\sum \\frac{\\sigma^2 c_i^2}{2}\\Bigg\\}$$\n",
    "\n",
    "$$ = exp\\big\\{td\\big\\}exp\n",
    "\\Bigg\\{ \n",
    "t \\left(\\sum \\mu c_i \\right) + \\frac{t^2}{2} \\left( \\sum \\sigma^2 c_i^2 \\right)\n",
    "\\Bigg\\}$$\n",
    "\n",
    "Based on the structure we see that this equation now looks like $M_X(t)$ but now the mean is $\\sum \\mu c_i$ and the variance is $\\sum \\sigma^2 c_i^2$. And if $d = 0$ this becomes even more clear.\n",
    "\n",
    "Therefore the multivariate normal distribution has the same moment generating function as a univariate normal distribution but uses different parameters. Thus it is normally distributed. As such we have proved that the linear combination of normal random variables is normal.\n",
    "\n",
    "\n",
    "https://online.stat.psu.edu/stat414/lesson/26/26.1"
   ]
  },
  {
   "cell_type": "markdown",
   "id": "6a588c59-253e-4b0e-9de3-5a444ac19f8a",
   "metadata": {},
   "source": [
    "### 3.4.5 Marginal Distributions Of Joint Normal Are Normal\n",
    "\n",
    "Previously in (3.3.3) we derived the multivariate normal distribution from a set of normal random variables with normal marginal distributions. Now we show that the marginal distributions of the multivariate normal must also be normal."
   ]
  },
  {
   "cell_type": "markdown",
   "id": "faa6857a-656b-4bc4-b5d0-57dac4ed997c",
   "metadata": {},
   "source": [
    "Let $C$ be an $(r \\times n)$ matrix and let $Y$ be a linear combination of normal random variables $X$.\n",
    "\n",
    "If $Y=cX$, then we know $Y \\sim \\mathcal{N}(C\\mu, C\\Sigma^{-1}C^T)$ by the proof of linear combination shown in (3.4.1) through (3.4.4) we can deduces that the marginal distributions of the multivariate normal are also normal.\n",
    "\n",
    "We can apply a transform that essentially splits the vector $X$ into the two pieces. In doing so we can represent $X$ as a linar combination of $X_1$ and $X_2$. Let $X_1$ be an $(1 \\times r)$ matrix while $X_2$ is an $(1 \\times n-r)$ matrix, we would then have:\n",
    "\n",
    "$$X = \\begin{bmatrix}X_1 \\\\ X_2 \\end{bmatrix}$$\n",
    "\n",
    "We can create a linear transformation $c$ to transform $X$ into its coresponding parts $X_1$ and $X_2$ as follows:\n",
    "\n",
    "For example, to derive $X_1$, we can multiply $X$ by $c_1=(I, 0)$ where $I$ is the $(r \\times r)$ identity matrix, and $0$ is the $(r-n \\times r-n)$ matrix.\n",
    "\n",
    "By defining C in this way, we can say:\n",
    "\n",
    "$$ X_1 = C_1X $$\n",
    "\n",
    "We already proved that the linear combination of normal variables is normal. We are now showing that a marginal variable can be represented as a linear combination of a multivariate variable. As such that marginal variable must be normally distributed!"
   ]
  },
  {
   "cell_type": "markdown",
   "id": "ae014df0-eed5-466c-8d03-964ca8cbd507",
   "metadata": {},
   "source": [
    "### 3.4.6. Closure\n",
    "\n",
    "Gaussian distributions have the nice algebraic property of being closed under conditioning and marginalization. Being closed under conditioning and marginalization means that the resulting distributions from these operations are also Gaussian, which makes many problems in statistics and machine learning tractable.\n",
    "\n",
    "https://distill.pub/2019/visual-exploration-gaussian-processes/"
   ]
  },
  {
   "cell_type": "markdown",
   "id": "cd2cea02-de05-4837-9e7e-b5f5c6e5faeb",
   "metadata": {},
   "source": [
    "### 3.4.7. Transformation\n",
    "\n",
    "$$\\mathcal{N}(\\mu,\\sigma^2) = \\mu + \\sigma^2 \\mathcal{N}(0,1)$$"
   ]
  },
  {
   "cell_type": "markdown",
   "id": "41d6f168-0e46-41d4-a4be-6c4a18c077b9",
   "metadata": {},
   "source": [
    "### 3.4.8 Conditional Distributions\n",
    "\n",
    "#### 3.4.8.1 Proof Overview\n",
    "In this proof we will derive a conditional probability density function. There are many ways this can be done. We will take the simplest approach which relies on previously proven formulas from this notebook.\n",
    "\n"
   ]
  },
  {
   "cell_type": "markdown",
   "id": "2f5999f4-3325-43d3-9932-8094efa18cad",
   "metadata": {},
   "source": [
    "#### 3.4.8.2 Derive General Formula\n",
    "\n",
    "We start with definition of conditional probability which allows us to \"convert\" a joint probability into a conditional probability:\n",
    "\n",
    "$$ P(A|B) = \\frac{P(A \\cap B)}{P(B)} $$\n",
    "\n",
    "We know that $P(A)$ and $P(B)$ are normal a priori and from (3.4.5). From (3.4.4) we know that $P(A \\cap B)$ is normal as it is a linear combination of $n$ normal random variables. As such we know the density functions.\n"
   ]
  },
  {
   "cell_type": "markdown",
   "id": "0481c261-bec0-44fd-bf99-c7ff209ddf4c",
   "metadata": {},
   "source": [
    "We then apply the formlas for the prbability density functions:\n",
    "\n",
    "$$ f_{A|B} = \\frac{f_{A, B}}{f_B}$$\n",
    "\n",
    "$$ = f_{A, B}^{\\ }{f_B^{-1}}$$"
   ]
  },
  {
   "cell_type": "code",
   "execution_count": null,
   "id": "72a1ed66-e506-4dbe-9bd7-38e669e1406b",
   "metadata": {},
   "outputs": [],
   "source": []
  },
  {
   "cell_type": "markdown",
   "id": "19f7b7d5-5b56-4846-adb4-5d48d2b6621a",
   "metadata": {},
   "source": [
    "#### 3.4.8.3. Take a Shortcut\n",
    "Rather than do all the complicated matrix algebra, we can take a shortcut to deriving this distribution using some of the proofs we established earlier.\n",
    "\n",
    "If we think about the random variable $X$ representing $A|B$ we can think about it in terms of a linear combination. With a joint random variable we would simply have $X=A+B$ but because this is conditional we cannot quite say that. Instead we need to modify one of the terms. We know that B must occur but it's uncertain what will occur.\n",
    "\n",
    "$$ Y = A + TB $$\n",
    "\n",
    "$$  =\n",
    "\\begin{bmatrix}\n",
    "1 & T\n",
    "\\end{bmatrix}\n",
    "\\begin{bmatrix}\n",
    "A \\\\\n",
    "B\n",
    "\\end{bmatrix}$$\n",
    "\n"
   ]
  },
  {
   "cell_type": "code",
   "execution_count": null,
   "id": "68ed1736-b9a1-4fc0-8081-0378f736dc8a",
   "metadata": {},
   "outputs": [],
   "source": []
  },
  {
   "cell_type": "code",
   "execution_count": null,
   "id": "815d1fb3-7d32-4b7c-9f1b-20865127f7ca",
   "metadata": {},
   "outputs": [],
   "source": []
  },
  {
   "cell_type": "code",
   "execution_count": null,
   "id": "60b81569-0aa2-4817-9590-4ce2b1a3b7d4",
   "metadata": {},
   "outputs": [],
   "source": []
  },
  {
   "cell_type": "code",
   "execution_count": null,
   "id": "e83f0b80-7f3d-4d74-b88d-b1aa8147b72f",
   "metadata": {},
   "outputs": [],
   "source": []
  },
  {
   "cell_type": "code",
   "execution_count": null,
   "id": "0283cb09-ca5f-4462-8586-500e450541cf",
   "metadata": {},
   "outputs": [],
   "source": []
  },
  {
   "cell_type": "code",
   "execution_count": null,
   "id": "6c948044-9e09-4a1a-8f4d-5ea99c03c288",
   "metadata": {},
   "outputs": [],
   "source": []
  },
  {
   "cell_type": "code",
   "execution_count": null,
   "id": "011a6e46-fa71-49fe-8dc2-a289a269d06a",
   "metadata": {},
   "outputs": [],
   "source": []
  },
  {
   "cell_type": "code",
   "execution_count": null,
   "id": "984be555-bcd6-4d02-9dc9-2753fcd3fe4e",
   "metadata": {},
   "outputs": [],
   "source": []
  },
  {
   "cell_type": "markdown",
   "id": "c9ca4149-d665-453e-8091-0d28088ef106",
   "metadata": {},
   "source": [
    "#### 3.4.8.3 Derive Solution For Conditional Normal Distribution"
   ]
  },
  {
   "cell_type": "markdown",
   "id": "42276651-e4cc-4594-b5b1-77789cf61968",
   "metadata": {},
   "source": [
    "Assume we have an n-dimensional multivariate normal random variable $X$. Assume we partition our variables into two halves such that\n",
    "\n",
    "$$\n",
    "X =\n",
    "\\begin{bmatrix}\n",
    "A \\\\\n",
    "B\n",
    "\\end{bmatrix}\n",
    "$$"
   ]
  },
  {
   "cell_type": "markdown",
   "id": "ab93f4b9-e5dc-4f44-a93b-64c0b44e4438",
   "metadata": {},
   "source": [
    "Let $C = A \\cap B$"
   ]
  },
  {
   "cell_type": "markdown",
   "id": "484cd51d-399b-4e1e-857c-ac19f5b83daf",
   "metadata": {},
   "source": [
    "\n",
    "\n",
    "$$ = f_{C}^{\\ }{f_B^{-1}}$$\n",
    "\n",
    "We can now insert the equations for the pdfs. But first, a quick note on our dimensions. We noted earlier that $A \\cap B$ and thus $C$ is n-dimensional. Let $B$ be r-dimensional such that $n>r>0$. We would then have that $A$ is (n-r)-dimensional. With this in mind the pfs would be:\n",
    "\n",
    "$$\n",
    "= \n",
    "\\frac{1}{ \\sqrt{(2\\pi)^n |\\Sigma_C|}} \n",
    "exp \\left\\{ -\\frac{1}{2}(C-\\mu_C)^T\\Sigma_C^{-1}(C-\\mu_C) \\right\\}\n",
    "\\Big(\n",
    "\\frac{1}{ \\sqrt{(2\\pi)^r |\\Sigma_B|}} \n",
    "exp \\left\\{ -\\frac{1}{2}(B-\\mu_B)^T\\Sigma_B^{-1}(B-\\mu_B) \\right\\}\n",
    "\\Big)^{-1}\n",
    "$$\n"
   ]
  },
  {
   "cell_type": "markdown",
   "id": "b31ef160-fc22-4d96-869f-acc78f7abfae",
   "metadata": {},
   "source": [
    "$$\n",
    "= \n",
    "\\frac{1}{ \\sqrt{(2\\pi)^n |\\Sigma_C|}} \n",
    "exp \\left\\{ -\\frac{1}{2}(C-\\mu_C)^T\\Sigma_C^{-1}(C-\\mu_C) \\right\\}\n",
    "\\sqrt{(2\\pi)^r |\\Sigma_B|}\n",
    "exp \\left\\{ \\frac{1}{2}(B-\\mu_B)^T\\Sigma_B^{-1}(B-\\mu_B) \\right\\}\n",
    "$$\n",
    "\n",
    "\n",
    "$$\n",
    "= \n",
    "\\frac{\\sqrt{(2\\pi)^r |\\Sigma_B|}}{ \\sqrt{(2\\pi)^n |\\Sigma_C|}} \n",
    "exp \\left\\{ -\\frac{1}{2}(C-\\mu_C)^T\\Sigma_C^{-1}(C-\\mu_C) \\right\\}\n",
    "exp \\left\\{ \\frac{1}{2}(B-\\mu_B)^T\\Sigma_B^{-1}(B-\\mu_B) \\right\\}\n",
    "$$\n",
    "\n",
    "$$\n",
    "= \n",
    "\\frac{\\sqrt{(2\\pi)^r |\\Sigma_B|}}{ \\sqrt{(2\\pi)^n |\\Sigma_C|}} \n",
    "exp \\left\\{ -\\frac{1}{2}(C-\\mu_C)^T\\Sigma_C^{-1}(C-\\mu_C)\n",
    "+ \\frac{1}{2}(B-\\mu_B)^T\\Sigma_B^{-1}(B-\\mu_B) \\right\\}\n",
    "$$"
   ]
  },
  {
   "cell_type": "markdown",
   "id": "d569fa45-42dc-428f-b54a-27c25d779f56",
   "metadata": {},
   "source": [
    "$$\n",
    "= \n",
    "\\frac{\\sqrt{ |\\Sigma_B|}}{ \\sqrt{(2\\pi)^{n-r} |\\Sigma_C|}} \n",
    "exp \n",
    "\\left\\{ \n",
    "-\\frac{1}{2}\n",
    "\\left(\n",
    "(C-\\mu_C)^T\\Sigma_C^{-1}(C-\\mu_C)\n",
    "- (B-\\mu_B)^T\\Sigma_B^{-1}(B-\\mu_B) \n",
    "\\right)\n",
    "\\right\\}\n",
    "$$\n",
    "\n",
    "$$\n",
    "= \n",
    "\\frac{1}{ \\sqrt{(2\\pi)^{n-r} |\\Sigma_C||\\Sigma_B|^{-1}}} \n",
    "exp \n",
    "\\left\\{ \n",
    "-\\frac{1}{2}\n",
    "\\left(\n",
    "(C-\\mu_C)^T\\Sigma_C^{-1}(C-\\mu_C)\n",
    "- (B-\\mu_B)^T\\Sigma_B^{-1}(B-\\mu_B) \n",
    "\\right)\n",
    "\\right\\}\n",
    "$$"
   ]
  },
  {
   "cell_type": "markdown",
   "id": "329ee9d1-2198-4aa1-a70b-50db80dba557",
   "metadata": {},
   "source": [
    "We can further simplify the expression by expanding the quadratic $Q$ in the exponential $e^Q$\n",
    "\n",
    "$$ Q\n",
    "=\n",
    "-\\frac{1}{2}\n",
    "\\left(\n",
    "(C-\\mu_C)^T\\Sigma_C^{-1}(C-\\mu_C)\n",
    "+ (B-\\mu_B)^T\\Sigma_B^{-1}(B-\\mu_B) \n",
    "\\right)\n",
    "$$"
   ]
  },
  {
   "cell_type": "markdown",
   "id": "52f90d96-db56-4f4b-9329-24cd015bba0c",
   "metadata": {},
   "source": [
    "To simplify the expansion we will denote $Q$ as $-\\frac{1}{2}(q_1 + q_2)$ and will expand $q_1$ and $q_2$ separately before combining them.\n",
    "\n",
    "We start with $q_1$"
   ]
  },
  {
   "cell_type": "markdown",
   "id": "657160bb-d0ae-4435-9ce4-23dbff34a16a",
   "metadata": {},
   "source": [
    "$$ q_1 = (C-\\mu_C)^T\\Sigma_C^{-1}(C-\\mu_C) $$\n",
    "\n",
    "$$ = \n",
    "\\begin{bmatrix}\n",
    "A - \\mu_A & B - \\mu_B\n",
    "\\end{bmatrix}\n",
    "\\Sigma_{A,B}^{-1}\n",
    "\\begin{bmatrix}\n",
    "A - \\mu_A \\\\\n",
    "B - \\mu_B\n",
    "\\end{bmatrix}\n",
    "$$\n",
    "\n",
    "$$ = \n",
    "\\begin{bmatrix}\n",
    "A - \\mu_A & B - \\mu_B\n",
    "\\end{bmatrix}\n",
    "\\begin{bmatrix}\n",
    "\\Sigma_{A,A} & \\Sigma_{A,B} \\\\\n",
    "\\Sigma_{B,A} & \\Sigma_{B,B}\n",
    "\\end{bmatrix}^{-1}\n",
    "\\begin{bmatrix}\n",
    "A - \\mu_A \\\\\n",
    "B - \\mu_B\n",
    "\\end{bmatrix}\n",
    "$$"
   ]
  },
  {
   "cell_type": "markdown",
   "id": "48447511-307e-421d-b420-c6a2b9847af8",
   "metadata": {},
   "source": [
    "$$ = \n",
    "\\begin{bmatrix}\n",
    "A - \\mu_A & B - \\mu_B\n",
    "\\end{bmatrix}\n",
    "\\begin{bmatrix}\n",
    "\\Sigma_{A,A}^{-1} & \\Sigma_{A,B}^{-1} \\\\\n",
    "\\Sigma_{B,A}^{-1} & \\Sigma_{B,B}^{-1}\n",
    "\\end{bmatrix}\n",
    "\\begin{bmatrix}\n",
    "A - \\mu_A \\\\\n",
    "B - \\mu_B\n",
    "\\end{bmatrix}\n",
    "$$"
   ]
  },
  {
   "cell_type": "markdown",
   "id": "049e2c48-2549-4930-adf7-f3b0212af549",
   "metadata": {},
   "source": [
    "$$ = \n",
    "\\begin{bmatrix}\n",
    "(A - \\mu_A)\\Sigma_{A,A}^{-1} + (B - \\mu_B)\\Sigma_{B,A}^{-1}\n",
    "& \n",
    "(A - \\mu_A)\\Sigma_{A,B}^{-1} + (B - \\mu_B)\\Sigma_{B,B}^{-1}\n",
    "\\end{bmatrix}\n",
    "\\begin{bmatrix}\n",
    "A - \\mu_A \\\\\n",
    "B - \\mu_B\n",
    "\\end{bmatrix}\n",
    "$$"
   ]
  },
  {
   "cell_type": "markdown",
   "id": "2036789e-14a5-4b7d-85e3-32338d5a7184",
   "metadata": {},
   "source": [
    "$$ = \n",
    "(A - \\mu_A)\\Sigma_{A,A}^{-1}(A - \\mu_A) \\\\ \n",
    "\\ \\ \\ + (B - \\mu_B)\\Sigma_{B,A}^{-1}(A - \\mu_A) \\\\\n",
    "\\ \\ \\ + (A - \\mu_A)\\Sigma_{A,B}^{-1}(B - \\mu_B) \\\\\n",
    "\\ \\ \\ + (B - \\mu_B)\\Sigma_{B,B}^{-1}(B - \\mu_B)\n",
    "$$"
   ]
  },
  {
   "cell_type": "markdown",
   "id": "4e27da04-a8f9-4288-be71-ed07bc0bbb0a",
   "metadata": {},
   "source": [
    "Next we do $q_2$"
   ]
  },
  {
   "cell_type": "markdown",
   "id": "74a7c92d-890e-4f2c-a782-677fa0c75596",
   "metadata": {},
   "source": [
    "$$ q_2 = (B-\\mu_B)^T\\Sigma_B^{-1}(B-\\mu_B) $$"
   ]
  },
  {
   "cell_type": "markdown",
   "id": "08cee915-bef1-470e-a687-7863ed69fd76",
   "metadata": {},
   "source": [
    "Note that $\\Sigma_B^{-1}= \\Sigma_{BB}^{-1}$\n",
    "\n",
    "So $q_1 + q_2$ is thus:\n",
    "\n",
    "$$ = \n",
    "(A - \\mu_A)\\Sigma_{A,A}^{-1}(A - \\mu_A) \\\\ \n",
    "\\ \\ \\ \\ \\ \\ + (B - \\mu_B)\\Sigma_{B,A}^{-1}(A - \\mu_A) \\\\\n",
    "\\ \\ \\ \\ \\ \\ + (A - \\mu_A)\\Sigma_{A,B}^{-1}(B - \\mu_B) \\\\\n",
    "\\ \\ \\ \\ \\ \\ + (B - \\mu_B)\\Sigma_{B,B}^{-1}(B - \\mu_B) \\\\\n",
    "\\ \\ \\ \\ \\ \\ - (B - \\mu_B)\\Sigma_{B,B}^{-1}(B - \\mu_B)\n",
    "$$\n",
    "\n",
    "$$ = \n",
    "(A - \\mu_A)\\Sigma_{A,A}^{-1}(A - \\mu_A)  + (B - \\mu_B)\\Sigma_{B,A}^{-1}(A - \\mu_A)  + (A - \\mu_A)\\Sigma_{A,B}^{-1}(B - \\mu_B) $$"
   ]
  },
  {
   "cell_type": "markdown",
   "id": "4c7d4085-cda3-4b72-bd7e-bbaa466bebfe",
   "metadata": {},
   "source": [
    "Putting this in matrix form we see that we again have a quadratic\n",
    "\n",
    "$$\n",
    "\\begin{bmatrix}\n",
    "A - \\mu_A &\n",
    "B - \\mu_B\n",
    "\\end{bmatrix}\n",
    "\\begin{bmatrix}\n",
    "\\Sigma^{-1}_{AA} & \\Sigma^{-1}_{AB}\\\\\n",
    "\\Sigma^{-1}_{BA} & 0\n",
    "\\end{bmatrix}\n",
    "\\begin{bmatrix}\n",
    "A - \\mu_A \\\\\n",
    "B - \\mu_B\n",
    "\\end{bmatrix}\n",
    "$$\n",
    "\n",
    "$$\n",
    "\\begin{bmatrix}\n",
    "A - \\mu_A \\\\\n",
    "B - \\mu_B\n",
    "\\end{bmatrix}^T\n",
    "\\begin{bmatrix}\n",
    "\\Sigma^{-1}_{AA} & \\Sigma^{-1}_{AB}\\\\\n",
    "\\Sigma^{-1}_{BA} & 0\n",
    "\\end{bmatrix}\n",
    "\\begin{bmatrix}\n",
    "A - \\mu_A \\\\\n",
    "B - \\mu_B\n",
    "\\end{bmatrix}\n",
    "$$"
   ]
  },
  {
   "cell_type": "markdown",
   "id": "aca34c3b-3b89-4b03-9698-293dd9ac4e5d",
   "metadata": {},
   "source": [
    "$$ (D - \\mu_D)^T \\Sigma_D^{-1} (D- \\mu_D) $$"
   ]
  },
  {
   "cell_type": "markdown",
   "id": "76947e2d-a0a4-400f-be4c-c83733f2eb9e",
   "metadata": {},
   "source": [
    "Now plug this information back into the equation\n",
    "\n",
    "$$\n",
    "= \n",
    "\\frac{1}{ \\sqrt{(2\\pi)^{n-r} |\\Sigma_C||\\Sigma_B|^{-1}}} \n",
    "exp \n",
    "\\left\\{ \n",
    "-\\frac{1}{2}\n",
    "Q\n",
    "\\right\\}\n",
    "$$"
   ]
  },
  {
   "cell_type": "code",
   "execution_count": null,
   "id": "8a721aab-5756-4e6d-b3f0-32efd3c9a6bf",
   "metadata": {},
   "outputs": [],
   "source": []
  },
  {
   "cell_type": "markdown",
   "id": "45978277-aa52-442f-bf46-2f02a15684db",
   "metadata": {},
   "source": [
    "We can work on the determinants in the denominator of the scaling term\n",
    "\n",
    "$$\n",
    "\\frac{1}{\\sqrt{|\\Sigma_C||\\Sigma_B|^{-1}}}\n",
    "$$"
   ]
  },
  {
   "cell_type": "markdown",
   "id": "a03d5efa-c42d-46b6-8e0e-f938f7123637",
   "metadata": {},
   "source": [
    "\n",
    "$$\n",
    "\\begin{vmatrix}\n",
    "\\Sigma_{A,A} & \\Sigma_{A,B} \\\\\n",
    "\\Sigma_{B,A} & \\Sigma_{B,B}\n",
    "\\end{vmatrix}\n",
    "|\\Sigma_B|^{-1}\n",
    "$$"
   ]
  },
  {
   "cell_type": "code",
   "execution_count": null,
   "id": "db72dba6-2aa8-4aa5-aa5b-5e6b0f8c6444",
   "metadata": {},
   "outputs": [],
   "source": []
  },
  {
   "cell_type": "code",
   "execution_count": null,
   "id": "8716afd1-5ac8-4668-a103-4cd400145239",
   "metadata": {},
   "outputs": [],
   "source": []
  },
  {
   "cell_type": "code",
   "execution_count": null,
   "id": "ec23c7d0-ac5a-4015-ba49-907b637e7609",
   "metadata": {},
   "outputs": [],
   "source": []
  },
  {
   "cell_type": "markdown",
   "id": "53379e95-f8fd-4e3c-9e4f-76b8c78e79c0",
   "metadata": {},
   "source": [
    "$$\n",
    "= \n",
    "\\frac{1}{ \\sqrt{(2\\pi)^{n-r} |\\Sigma_C||\\Sigma_B|^{-1}}} \n",
    "exp \n",
    "\\left\\{ \n",
    "    -\\frac{1}{2}\n",
    "    \\begin{bmatrix}\n",
    "    C - \\mu_C \\\\\n",
    "    B - \\mu_B\n",
    "    \\end{bmatrix}\n",
    "    \\begin{bmatrix}\n",
    "    \\Sigma_C & 0 \\\\\n",
    "    0 & \\Sigma_B\n",
    "    \\end{bmatrix}^{-1}\n",
    "    \\begin{bmatrix}\n",
    "    C - \\mu_C \\\\\n",
    "    B - \\mu_B\n",
    "    \\end{bmatrix}^T\n",
    "\\right\\}\n",
    "$$"
   ]
  },
  {
   "cell_type": "markdown",
   "id": "b409f5a8-8468-48ef-947d-75eb743060de",
   "metadata": {},
   "source": [
    "We can see that this equation takes on the form of a normal distribution given its structure. We can make this clear by grouping terms together. For this arbitrary operation we will use the term $D$ to denote this group. Making the transformation the equation is such that:\n",
    "\n",
    "$$\n",
    "D =\n",
    "\\begin{bmatrix}\n",
    "C \\\\\n",
    "B\n",
    "\\end{bmatrix}\n",
    "$$\n",
    "\n",
    "$$\n",
    "\\mu_D=    \n",
    "\\begin{bmatrix}\n",
    "\\mu_C \\\\\n",
    "\\mu_B\n",
    "\\end{bmatrix}\n",
    "$$\n",
    "\n",
    "$$\n",
    "\\Sigma_D =\n",
    "\\begin{bmatrix}\n",
    "\\Sigma_C & 0 \\\\\n",
    "0 & \\Sigma_B\n",
    "\\end{bmatrix}\n",
    "$$\n"
   ]
  },
  {
   "cell_type": "markdown",
   "id": "3a4f8182-25b1-4e0c-a11c-8a143befeff2",
   "metadata": {},
   "source": [
    "And so our equation can be reformulated as:\n",
    "\n",
    "$$\n",
    "= \n",
    "\\frac{1}{ \\sqrt{(2\\pi)^{n-r} |\\Sigma_D|^{-1}}} \n",
    "exp \n",
    "\\left\\{ \n",
    "    -\\frac{1}{2}\n",
    "    (D - \\mu_D) \\Sigma_D^{-1} (D - \\mu_D)^T\n",
    "\\right\\}\n",
    "$$"
   ]
  },
  {
   "cell_type": "markdown",
   "id": "f6cb8333-f303-4fb2-8105-0b4a9bc7c6d8",
   "metadata": {},
   "source": [
    "We see that D is an n-dimensional vector that was created from two other vectors; $A \\cap B$ and $B$ which are (n-r) and r-dimensional respectively. We see that the mean and variance are also n-dimensional.\n",
    "\n",
    "We know D is normal as it is a linear combination of normal random variables."
   ]
  },
  {
   "cell_type": "code",
   "execution_count": null,
   "id": "1dcae5bc-2061-4162-b11f-5c4888c4ecf2",
   "metadata": {},
   "outputs": [],
   "source": []
  },
  {
   "cell_type": "code",
   "execution_count": null,
   "id": "bbc977f6-6aa8-4a3b-bb8f-23e43c37ccc8",
   "metadata": {},
   "outputs": [],
   "source": []
  },
  {
   "cell_type": "code",
   "execution_count": null,
   "id": "6709dabb-9e69-48ac-986a-8cfffe933914",
   "metadata": {},
   "outputs": [],
   "source": []
  },
  {
   "cell_type": "code",
   "execution_count": null,
   "id": "ae71271a-e065-485f-9cb4-2a7ff52906fd",
   "metadata": {},
   "outputs": [],
   "source": []
  },
  {
   "cell_type": "markdown",
   "id": "badef6e6-dfe3-4b02-9263-1507a5cd2223",
   "metadata": {},
   "source": [
    "#### 3.4.8.4. Derive the mean"
   ]
  },
  {
   "cell_type": "markdown",
   "id": "a270e007-e81d-4854-834f-6bdfdb50a4b4",
   "metadata": {},
   "source": [
    "$$\n",
    "\\mu_D=    \n",
    "\\begin{bmatrix}\n",
    "\\mu_C \\\\\n",
    "\\mu_B\n",
    "\\end{bmatrix}\n",
    "=\n",
    "\\begin{bmatrix}\n",
    "\\mu_A \\\\\n",
    "\\mu_B \\\\\n",
    "\\mu_B\n",
    "\\end{bmatrix}\n",
    "$$"
   ]
  },
  {
   "cell_type": "code",
   "execution_count": null,
   "id": "58d6f89d-9a13-45b2-9922-dbe06615ae4c",
   "metadata": {},
   "outputs": [],
   "source": []
  },
  {
   "cell_type": "code",
   "execution_count": null,
   "id": "e33aad35-f036-4f6e-b794-4387d20cbf5f",
   "metadata": {},
   "outputs": [],
   "source": []
  },
  {
   "cell_type": "markdown",
   "id": "0bc4b14d-3884-43a1-9081-4195c90b88f1",
   "metadata": {},
   "source": [
    "We can represent $C$ "
   ]
  },
  {
   "cell_type": "code",
   "execution_count": null,
   "id": "6a6aad10-11e7-4316-85c1-eb4e33fc474a",
   "metadata": {},
   "outputs": [],
   "source": []
  },
  {
   "cell_type": "code",
   "execution_count": null,
   "id": "13c91b2b-ab11-4032-acf1-528ecf6f5870",
   "metadata": {},
   "outputs": [],
   "source": []
  },
  {
   "cell_type": "code",
   "execution_count": null,
   "id": "8722cd44-02ee-41f8-9ee5-7c7ef273071c",
   "metadata": {},
   "outputs": [],
   "source": []
  },
  {
   "cell_type": "code",
   "execution_count": null,
   "id": "54e8c210-5661-424d-954c-0e5cb2d1b893",
   "metadata": {},
   "outputs": [],
   "source": []
  },
  {
   "cell_type": "code",
   "execution_count": null,
   "id": "59c86e53-a2dc-437c-b4cc-dcbcf8b72261",
   "metadata": {},
   "outputs": [],
   "source": []
  },
  {
   "cell_type": "markdown",
   "id": "1bb2fcc8-00ec-43f1-b23a-82681a4e7049",
   "metadata": {},
   "source": [
    "#### Von Mises"
   ]
  },
  {
   "cell_type": "markdown",
   "id": "9ccee9ea-4c86-41e5-bbf5-b4e696e909ae",
   "metadata": {},
   "source": [
    "The basic proof will construct a linear combination $Y$ from a set of normal random variables $X$ such that\n",
    "\n",
    "$$ Y = CX $$\n",
    "\n",
    "It will then partition the set of variables and the linear combination into two halves such that:\n",
    "\n",
    "$$ \\begin{bmatrix}\n",
    "Y_1 \\\\\n",
    "Y_2 \\end{bmatrix}\n",
    "= C \\begin{bmatrix}\n",
    "X_1 \\\\\n",
    "X_2 \\end{bmatrix}\n",
    "$$"
   ]
  },
  {
   "cell_type": "code",
   "execution_count": null,
   "id": "b1e76ee4-d77c-48b6-bb0d-436fa059529d",
   "metadata": {},
   "outputs": [],
   "source": []
  },
  {
   "cell_type": "markdown",
   "id": "5be96e4b-0492-4f89-b322-fd9d279e6541",
   "metadata": {},
   "source": [
    "???We will prove that if $X \\sim \\mathcal{N}$ then $X_1 | X_2 \\sim \\mathcal{N}$ with mean $\\mu_{X_1|X_2} = \\mu_1 + \\Sigma_{12} \\Sigma_{22}^{-1}[X_2 - \\mu_2]$ and a variance $\\Sigma_{x_1|X_2}=\\Sigma_{11}-\\Sigma_{12}\\Sigma_{22}^{-1}\\Sigma_{22}$."
   ]
  },
  {
   "cell_type": "markdown",
   "id": "95790dec-62c1-48f0-9fa0-75f5e9170a95",
   "metadata": {},
   "source": [
    "#### 3.4.8.2 Define Assumptions\n",
    "We define an relationship between the two partisions such that partition 1 depends on partition 1. \n",
    "\n",
    "$$Y_1 = X_1 - \\Sigma_{12} \\Sigma_{22}^{-1} X_{2}$$\n",
    "$$ Y_2 = X_2$$\n",
    "\n",
    "The relationships between $X$ and $Y$ and partition 1 and 2 can be expressed by defining the linear transformation in matrix form with $C$ such that:\n",
    "\n",
    "$$C =\n",
    "\\begin{bmatrix}\n",
    "I & -\\Sigma_{12}\\Sigma_{22}^{-1} \\\\\n",
    "0 & I\n",
    "\\end{bmatrix}\n",
    "$$\n",
    "\n",
    "The relationship then becomes:\n",
    "\n",
    "$$\n",
    "Y = \\begin{bmatrix}\n",
    "I & -\\Sigma_{12}\\Sigma_{22}^{-1} \\\\\n",
    "0 & I\n",
    "\\end{bmatrix} \n",
    "X\n",
    "$$\n",
    "\n",
    "Where $I$ is the identity matrix adjusted to fit the dimensions of the two paritions."
   ]
  },
  {
   "cell_type": "code",
   "execution_count": null,
   "id": "797cb18e-0e65-46ae-bf97-68de52d961f4",
   "metadata": {},
   "outputs": [],
   "source": []
  },
  {
   "cell_type": "markdown",
   "id": "45545e9a-a74c-48d1-9000-fbc2712e8e91",
   "metadata": {},
   "source": [
    "We can see that similar to the proof involving linear combinations, $Y$ is a non-singular linear transform of $X$ and is therfore normal. Additionally we proved that if $Y = CX$ then $\\mu_Y = C\\mu$ and $\\Sigma_Y = C \\Sigma C^T)$. "
   ]
  },
  {
   "cell_type": "code",
   "execution_count": null,
   "id": "2f4e589c-268d-4459-9352-241339cec6c0",
   "metadata": {},
   "outputs": [],
   "source": []
  },
  {
   "cell_type": "markdown",
   "id": "89acd451-3642-4775-a44a-bf468c8808b9",
   "metadata": {},
   "source": [
    "\n",
    "\n",
    "#### Derive the mean\n",
    "So we can deduce the mean\n",
    "\n",
    "$$ \\mathbb{E}[Y] = C \\mathbb{E}[X]$$\n",
    "\n",
    "$$\n",
    "\\begin{bmatrix}\n",
    "\\mathbb{E}[Y_1] \\\\\n",
    "\\mathbb{E}[Y_2] \\end{bmatrix}\n",
    "=\n",
    "\\begin{bmatrix}\n",
    "1 & -\\Sigma_{12}\\Sigma_{22}^{-1} \\\\\n",
    "0 & I\n",
    "\\end{bmatrix} \n",
    "\\begin{bmatrix}\n",
    "\\mathbb{E}[X_1] \\\\\n",
    "\\mathbb{E}[X_2] \\end{bmatrix}\n",
    "$$\n",
    "\n",
    "$$\n",
    "\\begin{bmatrix}\n",
    "\\mathbb{E}[Y_1] \\\\\n",
    "\\mathbb{E}[Y_2] \\end{bmatrix}\n",
    "=\n",
    "\\begin{bmatrix}\n",
    "\\mathbb{E}[X_1] & -\\Sigma_{12}\\Sigma_{22}^{-1}\\mathbb{E}[X_2] \\\\\n",
    "0 & \\mathbb{E}[X_2]\n",
    "\\end{bmatrix} \n",
    "$$\n",
    "\n",
    "Which yields:\n",
    "\n",
    "$$ \\mathbb{E}[Y_1] = \\mathbb{E}[X_1] -\\Sigma_{12}\\Sigma_{22}^{-1}\\mathbb{E}[X_2]$$\n",
    "$$ \\mathbb{E}[Y_2] = \\mathbb{E}[X_2]$$\n",
    "\n",
    "For compactness:\n",
    "\n",
    "$$ \\mu_{Y_1} = \\mu_{X_1} - \\Sigma_{12} \\Sigma_{22}^{-1} \\mu_{X_2}$$\n",
    "$$ \\mu_{Y_2} = \\mu_{X_2}$$\n",
    "\n",
    "If we apply these to our original definitions we see\n",
    "\n",
    "$$Y_1 = X_1 - \\Sigma_{12} \\Sigma_{22}^{-1} X_{2}$$\n",
    "$$ => Y_1 = X_1 - \\mu_{Y_1}$$\n"
   ]
  },
  {
   "cell_type": "markdown",
   "id": "fd89a25f-5761-41c3-8bac-90916df4da0b",
   "metadata": {},
   "source": [
    "#### Derive the variance\n",
    "We calculate the vairance of Y\n",
    "\n",
    "$$\\mathbb{E}[Y] = \\mathbb{E}[(Y - \\mu_Y)(Y - \\mu_Y)^T] $$\n",
    "\n",
    "$$= \\mathbb{E}\\begin{bmatrix}\n",
    "\\Sigma_{11} & \\Sigma_{12}\\\\\n",
    "\\Sigma_{21} & \\Sigma_{22}\n",
    "\\end{bmatrix}$$\n",
    "\n",
    "$$= \\mathbb{E}\\begin{bmatrix}\n",
    "(Y_1 - \\mu_{Y_1})(Y_1 - \\mu_{Y_1})^T & (Y_1 - \\mu_{Y_1})(Y_2 - \\mu_{Y_2})^T \\\\\n",
    "(Y_2 - \\mu_{Y_2})(Y_1 - \\mu_{Y_1})^T & (Y_2 - \\mu_{Y_2})(Y_2 - \\mu_{Y_2})^T\n",
    "\\end{bmatrix}$$"
   ]
  },
  {
   "cell_type": "markdown",
   "id": "671ebb11-ef6b-4dc3-97c4-8ace49f0b6c4",
   "metadata": {},
   "source": [
    "We start with $\\Sigma_{11}$:\n",
    "\n",
    "$$ \\Sigma_{11} = \\mathbb{E}[(Y_1 - \\mu_{Y_1})(Y_1 - \\mu_{Y_1})^T] $$\n",
    "\n",
    "We enforce the conditions $Y_1 = X_1-\\Sigma_{12}\\Sigma_{22}^{-1} X_{2}$ and $\\mu_{Y_1} = \\mu_{X_1} - \\Sigma_{12} \\Sigma_{22}^{-1} \\mu_{X_2}$ on a single term\n",
    "\n",
    "$$ Y_1 - \\mu_{Y_1}$$\n",
    "\n",
    "$$ = (X_1-\\Sigma_{12}\\Sigma_{22}^{-1} X_{2})-(\\mu_{X_1} - \\Sigma_{12} \\Sigma_{22}^{-1} \\mu_{X_2})$$\n",
    "\n",
    "$$ = X_1-\\Sigma_{12}\\Sigma_{22}^{-1} X_{2} - \\mu_{X_1} + \\Sigma_{12} \\Sigma_{22}^{-1} \\mu_{X_2}$$\n",
    "\n",
    "$$ = X_1 - \\mu_{X_1} -\\Sigma_{12}\\Sigma_{22}^{-1} X_{2} + \\Sigma_{12} \\Sigma_{22}^{-1} \\mu_{X_2}$$\n",
    "\n",
    "$$ = X_1 - \\mu_{X_1} -\\Sigma_{12}\\Sigma_{22}^{-1}( X_{2} - \\mu_{X_2})$$\n",
    "\n",
    "We then apply it to both terms\n",
    "\n",
    "$$ \\mathbb{E}\\left[ (Y_1 - \\mu_{Y_1})(Y_1 - \\mu_{Y_1})^T \\right]$$\n",
    "\n",
    "$$ = \\mathbb{E}\\left[ \n",
    "\\left( X_1 - \\mu_{X_1} -\\Sigma_{12}\\Sigma_{22}^{-1}( X_{2} - \\mu_{X_2}) \\right)\n",
    "\\left( X_1 - \\mu_{X_1} -\\Sigma_{12}\\Sigma_{22}^{-1}( X_{2} - \\mu_{X_2}) \\right)^T\n",
    "\\right]\n",
    "$$\n",
    "\n",
    "$$ = \\mathbb{E}\\left[\n",
    "\\left( (X_1 - \\mu_{X_1}) -\\Sigma_{12}\\Sigma_{22}^{-1}( X_{2} - \\mu_{X_2}) \\right)\n",
    "\\left( (X_1 - \\mu_{X_1}) -\\Sigma_{12}\\Sigma_{22}^{-1}( X_{2} - \\mu_{X_2}) \\right)^T\n",
    "\\right]\n",
    "$$\n",
    "\n"
   ]
  },
  {
   "cell_type": "markdown",
   "id": "828b11e6-74b1-46c5-8ace-78ce4c7c8f56",
   "metadata": {},
   "source": [
    "$$ = \\mathbb{E}\\left[\n",
    "(X_1 - \\mu_{X_1})(X_1 - \\mu_{X_1})^T\n",
    "- \\Sigma_{12}\\Sigma_{22}^{-1}( X_{2} - \\mu_{X_2})(X_1 - \\mu_{X_1})^T\n",
    "- \\Sigma_{12}\\Sigma_{22}^{-1}( X_{2} - \\mu_{X_2})(X_1 - \\mu_{X_1})^T\n",
    "+ \\Sigma_{12}\\Sigma_{22}^{-1}( X_{2} - \\mu_{X_2})\n",
    "(\\Sigma_{12}\\Sigma_{22}^{-1})^T( X_{2} - \\mu_{X_2})^T\n",
    "\\right]\n",
    "$$\n",
    "\n",
    "\n"
   ]
  },
  {
   "cell_type": "markdown",
   "id": "a813f71c-c576-4408-9edb-d51e67334cbc",
   "metadata": {},
   "source": [
    "$$ =\n",
    "\\mathbb{E}\\left[\n",
    "(X_1 - \\mu_{X_1})(X_1 - \\mu_{X_1})^T\n",
    "- 2\\Sigma_{12}\\Sigma_{22}^{-1}( X_{2} - \\mu_{X_2})(X_1 - \\mu_{X_1})^T\n",
    "+ \\Sigma_{12}\\Sigma_{22}^{-1}( X_{2} - \\mu_{X_2})\n",
    "(\\Sigma_{12}\\Sigma_{22}^{-1})^T( X_{2} - \\mu_{X_2})^T\n",
    "\\right]\n",
    "$$\n",
    "\n"
   ]
  },
  {
   "cell_type": "markdown",
   "id": "30d9ddb4-ccbd-4d15-b72d-d15685ce89c9",
   "metadata": {},
   "source": [
    "$$ =\n",
    "\\mathbb{E}\\left[\n",
    "(X_1 - \\mu_{X_1})(X_1 - \\mu_{X_1})^T\n",
    "- 2\\Sigma_{12}\\Sigma_{22}^{-1}( X_{2} - \\mu_{X_2})(X_1 - \\mu_{X_1})^T\n",
    "+ \\Sigma_{12}\\Sigma_{22}^{-1}( X_{2} - \\mu_{X_2})\n",
    "\\Sigma_{21}\\Sigma_{22}( X_{2} - \\mu_{X_2})^T\n",
    "\\right]\n",
    "$$"
   ]
  },
  {
   "cell_type": "markdown",
   "id": "bcb067c3-911e-43de-902f-3feb1517f12e",
   "metadata": {},
   "source": [
    "\n",
    "$$ = \n",
    "\\Sigma_{11}\n",
    "- 2\\Sigma_{12}\\Sigma_{22}^{-1}\\Sigma_{21}\n",
    "+ \\Sigma_{12}\\Sigma_{22}^{-1}\\Sigma_{22}\\Sigma_{21}\\Sigma_{22}\n",
    "$$\n",
    "\n",
    "$$ = \n",
    "\\Sigma_{11}\n",
    "- 2\\Sigma_{12}\\Sigma_{22}^{-1}\\Sigma_{21}\n",
    "+ \\Sigma_{12}\\Sigma_{21}\\Sigma_{22}\n",
    "$$\n",
    "\n",
    "$$ = \n",
    "\\Sigma_{11}\n",
    "- 2\\Sigma_{12}\\Sigma_{22}^{-1}\\Sigma_{21}\n",
    "+ \\Sigma_{12}\\Sigma_{21}\\Sigma_{22}^{-1}\n",
    "$$\n",
    "\n",
    "$$ = \n",
    "\\Sigma_{11}\n",
    "- 2\\Sigma_{12}\\Sigma_{22}^{-1}\\Sigma_{21}\n",
    "+ \\Sigma_{12}\\Sigma_{22}^{-1}\\Sigma_{21}\n",
    "$$\n",
    "\n",
    "$$ = \n",
    "\\Sigma_{11} - \\Sigma_{12}\\Sigma_{22}^{-1}\\Sigma_{21}\n",
    "$$"
   ]
  },
  {
   "cell_type": "markdown",
   "id": "ef6399f6-66c6-4b4c-a640-3d6dc5336e57",
   "metadata": {},
   "source": [
    "If we continue applying this technique we will derive the variance of Y:\n",
    "\n",
    "$$ \\Sigma_Y =\n",
    "\\begin{bmatrix}\n",
    "\\Sigma_{11} - \\Sigma_{12}\\Sigma_{22}^{-1}\\Sigma_{21} & 0 \\\\\n",
    "0 & \\Sigma_{22}\n",
    "\\end{bmatrix}\n",
    "$$\n",
    "\n"
   ]
  },
  {
   "cell_type": "markdown",
   "id": "53869ec3-c527-45c9-83d8-8cb315f252ed",
   "metadata": {},
   "source": [
    "The Covarianct matrix tells us that $Y_1 \\perp Y_2$ because of the zeros in the top right and bottom left corners."
   ]
  },
  {
   "cell_type": "markdown",
   "id": "8a154b91-bd72-49dc-b303-1da249196cb5",
   "metadata": {},
   "source": [
    "Because $\\mu_{Y_2} = \\mu_{X_2}$ and $\\Sigma_{Y_2} = \\Sigma_{X_2}$ (as shown above) we see that the moments between $Y_2$ and $X_2$ are the same and thus we can say that $Y_2 = X_2$."
   ]
  },
  {
   "cell_type": "markdown",
   "id": "728f071c-dbde-4a33-ab72-84cd62e41377",
   "metadata": {},
   "source": [
    "Previosly we proved that the joint distribution for two independent variables is $f(x)f(y)$, we proved that the marginal distributions of the joint distribution are normal, we derived the moments of the marginal variables $Y_1$ and $Y_2$ and so now we can plug these parameters into the normal density functions and derive the joint distribution for our variables:\n",
    "\n",
    "$$ \\mathcal{N}_{Y1, Y2} = \n",
    "\\mathcal{N}_{Y_1}\n",
    "\\mathcal{N}_{Y_2} $$\n",
    "\n",
    "$$ =\n",
    "\\mathcal{N}(\\mu_{Y_1}, \\sigma_{Y_1})\n",
    "\\mathcal{N}(\\mu_{Y_2}, \\sigma_{Y_2})\n",
    "$$\n",
    "\n",
    "$$ =\n",
    "\\mathcal{N}(\\mu_{X_1} - \\Sigma_{12} \\Sigma_{22}^{-1} \\mu_{X_2}, \\Sigma_{11} - \\Sigma_{12}\\Sigma_{22}^{-1}\\Sigma_{21})\n",
    "\\mathcal{N}(\\mu_{X_1}, \\sigma_{X_2})\n",
    "$$"
   ]
  },
  {
   "cell_type": "markdown",
   "id": "0424aca8-20b4-409b-adb5-41b56927b6fc",
   "metadata": {},
   "source": [
    "We can also derive the joint distribution of $X_1$ and $X_2$ from the joint distribution of $Y_1$ and $Y_2$ by performing a change of variable and multiplying by the jacobian (which is conveniently equal to 1)."
   ]
  },
  {
   "cell_type": "markdown",
   "id": "745fced7-b31a-4889-9e8b-2c4366065a7c",
   "metadata": {},
   "source": [
    "We start with the basic definition of the joint distribution:\n",
    "\n",
    "$$\\mathcal{N}(\\mu, \\Sigma) := \n",
    "\\frac{1}{ \\sqrt{(2\\pi)^k |\\Sigma|}} \n",
    "exp \\left\\{ -\\frac{1}{2}(X-\\mu)^T\\Sigma^{-1}(X-\\mu) \\right\\}$$"
   ]
  },
  {
   "cell_type": "code",
   "execution_count": null,
   "id": "f6416291-5ef9-4b56-80a7-8440f695d4a0",
   "metadata": {},
   "outputs": [],
   "source": []
  },
  {
   "cell_type": "code",
   "execution_count": null,
   "id": "787643ab-042e-4a68-b278-f878f4ef4e64",
   "metadata": {},
   "outputs": [],
   "source": []
  },
  {
   "cell_type": "markdown",
   "id": "5975d1f2-ce69-4caf-8ff5-113606d7a2f8",
   "metadata": {},
   "source": [
    "### 3.4.8 Conditional Distribution\n",
    "#### 3.4.8.1. Proof Overview"
   ]
  },
  {
   "cell_type": "markdown",
   "id": "e7df6d4e-f50a-41df-89a7-9d52c150d1e4",
   "metadata": {},
   "source": [
    "#### 3.4.8.2. Partition A Joint Normal Random Variable\n",
    "\n",
    "We start with a joint random variable following the multivariate normal distribution\n",
    "\n",
    "$$ X \\sim \\mathcal{N}(\\mu, \\Sigma) $$"
   ]
  },
  {
   "cell_type": "markdown",
   "id": "1a054e52-2f91-4ffd-988f-f9f6846321e1",
   "metadata": {},
   "source": [
    "We then partition the deimensions of $X$ into two separate variables such that:\n",
    "\n",
    "$$ X = \\begin{bmatrix}X_1 \\\\ X_2 \\end{bmatrix}$$"
   ]
  },
  {
   "cell_type": "markdown",
   "id": "6ac66f2e-7be7-4505-b330-4c8e44aa34dd",
   "metadata": {},
   "source": [
    "Now we want to find the conditional distribution of $X_1$ given $X_2$. We can apply the definition of conditional probability:\n",
    "\n",
    "$$ P(X_1 | X_2) = \\frac{P(X_1 \\cap X_2)}{P(X_2)} $$"
   ]
  },
  {
   "cell_type": "markdown",
   "id": "1506f1e9-708d-4566-b785-7b47a2a55ecf",
   "metadata": {},
   "source": [
    "Rearanging this equation we then have:\n",
    "\n",
    "$$ P(X_1 \\cap X_2) = P(X_1|X_2)P(X_2)$$"
   ]
  },
  {
   "cell_type": "markdown",
   "id": "675908de-e5c2-4310-91a4-c8cc8b400a6a",
   "metadata": {},
   "source": [
    "So if we take the join normal distribution function, which yields the value of $P(X_1 \\cap X_2)$, we should be able to manipulate it until we extract the marginal density function for $X_2$ (which yields $P(X_2)$."
   ]
  },
  {
   "cell_type": "markdown",
   "id": "ab79a8e2-c50d-42b1-9756-faaf503483b1",
   "metadata": {},
   "source": [
    "Inserting the equation we have:\n",
    "\n",
    "$$ P(X) = P(X_1 \\cap X_2)$$\n",
    "\n",
    "$$ =\n",
    "\\frac{1}{ \\sqrt{(2\\pi)^n |\\Sigma_X|}} \n",
    "exp \\left\\{ -\\frac{1}{2}(X-\\mu_X)^T\\Sigma_X^{-1}(X-\\mu_X) \\right\\}\n",
    "$$"
   ]
  },
  {
   "cell_type": "markdown",
   "id": "0fa203ef-59d2-4ca9-bb35-3e0f14fc0046",
   "metadata": {},
   "source": [
    "Applying the partition we have:\n",
    "\n",
    "$$ =\n",
    "\\frac{1}{ \\sqrt{(2\\pi)^n \n",
    "\\begin{vmatrix}\n",
    "\\Sigma_{11} & \\Sigma_{12} \\\\\n",
    "\\Sigma_{12} & \\Sigma_{22}\n",
    "\\end{vmatrix}\n",
    "}} \n",
    "exp \n",
    "\\left\\{ \n",
    "-\\frac{1}{2}\n",
    "\\begin{bmatrix}\n",
    "    X_1 - \\mu_{X_1} \\\\\n",
    "    X_2 - \\mu_{X_2}\n",
    "\\end{bmatrix}^T\n",
    "\\begin{vmatrix}\n",
    "\\Sigma_{11} & \\Sigma_{12} \\\\\n",
    "\\Sigma_{12} & \\Sigma_{22}\n",
    "\\end{vmatrix}^{-1}\n",
    "\\begin{bmatrix}\n",
    "    X_1 - \\mu_{X_1} \\\\\n",
    "    X_2 - \\mu_{X_2}\n",
    "\\end{bmatrix}\n",
    "\\right\\}\n",
    "$$"
   ]
  },
  {
   "cell_type": "markdown",
   "id": "f6a927aa-1e1d-4255-98f8-47b231616f9e",
   "metadata": {},
   "source": [
    "#### 3.4.8.3. Diagonalize The Covariance Matrix\n",
    "\n",
    "We see the covariance matrix, specifically the inverse covariance matrix, appears in two places within the joint density function. And this is the key to separating our equation into two equations.\n",
    "\n",
    "The algebra to separate the equations is non-trivial. We Will diagonalize the inverse covariance matrix $\\Sigma_X^{-1}$ In doing so we will conveniently separate the equation in such a way that the variance $\\Sigma_{22}$ of $X_2$ can be isolated. We need it to be isolated because we need to arange the equation so that a portion of it looks like the marginal distribution of $X_2$ which requires $\\Sigma_{22}$ as a parameter. "
   ]
  },
  {
   "cell_type": "markdown",
   "id": "76a40ac3-59dc-40c3-811a-89673017abb3",
   "metadata": {},
   "source": [
    "We begin diagonalizing the covariance matrix starting with the top"
   ]
  },
  {
   "cell_type": "markdown",
   "id": "7d82fe6f-3db6-48ae-ad2a-660c15c9e0d4",
   "metadata": {},
   "source": [
    "$$\n",
    "\\begin{bmatrix}\n",
    "I & -\\Sigma_{12}\\Sigma_{22}^{-1} \\\\\n",
    "0 & 1\n",
    "\\end{bmatrix}\n",
    "\\begin{bmatrix}\n",
    "\\Sigma_{11} & \\Sigma_{12} \\\\\n",
    "\\Sigma_{21} & \\Sigma_{22}\n",
    "\\end{bmatrix}\n",
    "=\n",
    "\\begin{bmatrix}\n",
    "\\Sigma_{11} - \\Sigma_{12}\\Sigma_{22}^{-1}\\Sigma_{21} & 0 \\\\\n",
    "\\Sigma_{21} & \\Sigma_{22}\n",
    "\\end{bmatrix}\n",
    "$$"
   ]
  },
  {
   "cell_type": "markdown",
   "id": "b6eda61e-9572-4a84-ae27-ae92266c579b",
   "metadata": {},
   "source": [
    "$$\n",
    "\\begin{bmatrix}\n",
    "I & -\\Sigma_{12}\\Sigma_{22}^{-1} \\\\\n",
    "0 & 1\n",
    "\\end{bmatrix}\n",
    "\\begin{bmatrix}\n",
    "\\Sigma_{11} & \\Sigma_{12} \\\\\n",
    "\\Sigma_{21} & \\Sigma_{22}\n",
    "\\end{bmatrix}\n",
    "\\begin{bmatrix}\n",
    "I & 0 \\\\\n",
    "-\\Sigma_{22}^{-1}\\Sigma_{21} & I\n",
    "\\end{bmatrix}\n",
    "=\n",
    "\\begin{bmatrix}\n",
    "\\Sigma_{11} - \\Sigma_{12}\\Sigma_{22}^{-1}\\Sigma_{21} & 0 \\\\\n",
    "0 & \\Sigma_{22}\n",
    "\\end{bmatrix}\n",
    "$$"
   ]
  },
  {
   "cell_type": "markdown",
   "id": "037de993-3ce7-4bb9-a9ab-f999cb41d35c",
   "metadata": {},
   "source": [
    "Using [LDU decomposition](../../Matrix%20Algebra/Diagonalization.ipynb#2.%20LDU-Decomposition) and [Schur Compliments](../../Matrix%20Algebra/Schur%20Compliments.ipynb) we see that \n",
    "\n",
    "$$\\Sigma = LDU$$\n",
    "$$L^{-1}\\Sigma U^{-1} = D$$\n",
    "$$ S_{\\Sigma / \\Sigma_{22}} = \\Sigma_{11} - \\Sigma_{12}\\Sigma_{22}^{-1}\\Sigma_{21}$$"
   ]
  },
  {
   "cell_type": "markdown",
   "id": "340c7618-89cb-4ba1-bc04-a1b0e2b87f3a",
   "metadata": {},
   "source": [
    "Using the [properties of the inverse of a matrix product](../../Matrix%20Algebra/Matrix%20Division%20(Inversion).ipynb#5.1.2.%20Inverse-Product) we can also assert that:\n",
    "\n",
    "$$ \\Sigma^{-1} = (LDU)^{-1} = U^{-1}D^{-1}L^{-1} $$"
   ]
  },
  {
   "cell_type": "markdown",
   "id": "7c7c2510-7b22-4fa3-aebb-287b0cedfa9e",
   "metadata": {},
   "source": [
    "Putting all this information together we can derive the inverse covariance matrix\n",
    "\n",
    "$$\\Sigma^{-1} =\n",
    "\\begin{bmatrix}\n",
    "I & 0 \\\\\n",
    "-\\Sigma_{22}^{-1}\\Sigma_{21} & I\n",
    "\\end{bmatrix}\n",
    "\\begin{bmatrix}\n",
    "\\Sigma & 0 \\\\\n",
    "0 & \\Sigma_{22}^{-1}\n",
    "\\end{bmatrix}\n",
    "\\begin{bmatrix}\n",
    "I & -\\Sigma_{12}\\Sigma_{22}^{-1} \\\\\n",
    "0 & I\n",
    "\\end{bmatrix}\n",
    "$$"
   ]
  },
  {
   "cell_type": "code",
   "execution_count": null,
   "id": "40fbae43-f483-4359-9d91-bcc899057737",
   "metadata": {},
   "outputs": [],
   "source": []
  },
  {
   "cell_type": "markdown",
   "id": "c1fd364e-b825-4854-89c3-2dff3080c9cf",
   "metadata": {},
   "source": [
    "We then calculate the inverse of sigma as that is what appears in our equation\n",
    "\n",
    "$$ \\Sigma^{-1} = (LDU)^{-1} $$\n",
    "\n",
    "$$ \\Sigma^{-1} = L^{-1}D^{-1}U^{-1} $$\n",
    "\n",
    "$$ L\\Sigma^{-1}U = LL^{-1}D^{-1}U^{-1}U $$\n",
    "\n",
    "$$ L\\Sigma^{-1}U = ID^{-1}I $$\n",
    "\n",
    "$$ L\\Sigma^{-1}U = D^{-1} $$"
   ]
  },
  {
   "cell_type": "markdown",
   "id": "b9eea7d1-1431-4c57-8b31-fc01fe434fcf",
   "metadata": {},
   "source": [
    "So we derivea formula for the inverse\n",
    "\n",
    "$$\n",
    "=\n",
    "\\begin{bmatrix}\n",
    "I & 0 \\\\\n",
    "-\\Sigma_{22}^{-1}\\Sigma_{21} & I\n",
    "\\end{bmatrix}\n",
    "\\begin{bmatrix}\n",
    "\\Sigma & 0 \\\\\n",
    "0 & \\Sigma_{22}^{-1}\n",
    "\\end{bmatrix}\n",
    "\\begin{bmatrix}\n",
    "I & -\\Sigma_{12}\\Sigma_{22}^{-1} \\\\\n",
    "0 & I\n",
    "\\end{bmatrix}\n",
    "$$"
   ]
  },
  {
   "cell_type": "code",
   "execution_count": null,
   "id": "be9ba22e-a323-4b4f-8553-0df5a6aa6465",
   "metadata": {},
   "outputs": [],
   "source": []
  },
  {
   "cell_type": "code",
   "execution_count": null,
   "id": "ac7c57c1-1e03-4208-ab0e-9d392ede7f63",
   "metadata": {},
   "outputs": [],
   "source": []
  },
  {
   "cell_type": "code",
   "execution_count": null,
   "id": "d4f0e905-4991-4208-a129-118d25677d8a",
   "metadata": {},
   "outputs": [],
   "source": []
  },
  {
   "cell_type": "markdown",
   "id": "b4a7229c-df4d-4dbf-9c22-a983bd9d57d7",
   "metadata": {},
   "source": [
    "#### 3.4.8.4. Apply To Exponential\n",
    "\n",
    "Introducing this decomposition into the exponential of the joint density function we then have:\n",
    "\n",
    "$$ \n",
    "exp \n",
    "\\left\\{ \n",
    "-\\frac{1}{2}\n",
    "\\begin{bmatrix}\n",
    "    X_1 - \\mu_{X_1} \\\\\n",
    "    X_2 - \\mu_{X_2}\n",
    "\\end{bmatrix}^T\n",
    "\\begin{vmatrix}\n",
    "\\Sigma_{11} & \\Sigma_{12} \\\\\n",
    "\\Sigma_{12} & \\Sigma_{22}\n",
    "\\end{vmatrix}^{-1}\n",
    "\\begin{bmatrix}\n",
    "    X_1 - \\mu_{X_1} \\\\\n",
    "    X_2 - \\mu_{X_2}\n",
    "\\end{bmatrix} \n",
    "\\right\\}\n",
    "$$"
   ]
  },
  {
   "cell_type": "markdown",
   "id": "4f462c63-0c0b-45f2-bfc6-c538d33a670d",
   "metadata": {},
   "source": [
    "$$ =\n",
    "exp \n",
    "\\left\\{ \n",
    "-\\frac{1}{2}\n",
    "\\begin{bmatrix}\n",
    "    X_1 - \\mu_{X_1} \\\\\n",
    "    X_2 - \\mu_{X_2}\n",
    "\\end{bmatrix}^T\n",
    "\\begin{bmatrix}\n",
    "I & 0 \\\\\n",
    "-\\Sigma_{22}^{-1}\\Sigma_{21} & I\n",
    "\\end{bmatrix}\n",
    "\\begin{bmatrix}\n",
    "S_{\\Sigma/\\Sigma_{22}}^{-1} & 0 \\\\\n",
    "0 & \\Sigma_{22}^{-1}\n",
    "\\end{bmatrix}\n",
    "\\begin{bmatrix}\n",
    "I & -\\Sigma_{12}\\Sigma_{22}^{-1} \\\\\n",
    "0 & I\n",
    "\\end{bmatrix}\n",
    "\\begin{bmatrix}\n",
    "    X_1 - \\mu_{X_1} \\\\\n",
    "    X_2 - \\mu_{X_2}\n",
    "\\end{bmatrix}\n",
    "\\right\\}\n",
    "$$"
   ]
  },
  {
   "cell_type": "markdown",
   "id": "0008d7bf-f8c4-4af1-8edb-50ef7117e070",
   "metadata": {},
   "source": [
    "We then do the extremely tedious matrix algebra to expand the expression"
   ]
  },
  {
   "cell_type": "markdown",
   "id": "ce39b692-ffba-4732-b250-52f1d22df2bb",
   "metadata": {},
   "source": [
    "$$ =\n",
    "exp \n",
    "\\left\\{ \n",
    "-\\frac{1}{2}\n",
    "\\begin{bmatrix}\n",
    "X_1 - \\mu_{X_1} -(X_1 - \\mu_{X_1})\\Sigma_{22}^{-1}\\Sigma_{21} \\\\\n",
    "X_2 - \\mu_{X_2}\n",
    "\\end{bmatrix}^T\n",
    "\\begin{bmatrix}\n",
    "S_{\\Sigma/\\Sigma_{22}}^{-1} & 0 \\\\\n",
    "0 & \\Sigma_{22}^{-1}\n",
    "\\end{bmatrix}\n",
    "\\begin{bmatrix}\n",
    "I & -\\Sigma_{12}\\Sigma_{22}^{-1} \\\\\n",
    "0 & I\n",
    "\\end{bmatrix}\n",
    "\\begin{bmatrix}\n",
    "    X_1 - \\mu_{X_1} \\\\\n",
    "    X_2 - \\mu_{X_2}\n",
    "\\end{bmatrix}\n",
    "\\right\\}\n",
    "$$"
   ]
  },
  {
   "cell_type": "code",
   "execution_count": null,
   "id": "686d7469-71a0-4c8f-9d8a-0830ab7cf90a",
   "metadata": {},
   "outputs": [],
   "source": []
  },
  {
   "cell_type": "code",
   "execution_count": null,
   "id": "3993847a-b62d-41fa-8a39-1241066e86ce",
   "metadata": {},
   "outputs": [],
   "source": []
  },
  {
   "cell_type": "code",
   "execution_count": null,
   "id": "d45b330d-1b6e-4c33-8f74-f55aa4f1fe0e",
   "metadata": {},
   "outputs": [],
   "source": []
  },
  {
   "cell_type": "markdown",
   "id": "9b93d166-aa35-4c79-b5f3-18385e467db9",
   "metadata": {},
   "source": [
    "$$ \n",
    "exp \n",
    "\\left\\{ \n",
    "-\\frac{1}{2}\n",
    "\\left\\{\n",
    "foobar\n",
    "\\right\\}\n",
    "\\right\\}\n",
    "$$"
   ]
  },
  {
   "cell_type": "code",
   "execution_count": null,
   "id": "850aa870-4ebb-489d-a9f4-9c382c61613b",
   "metadata": {},
   "outputs": [],
   "source": []
  },
  {
   "cell_type": "markdown",
   "id": "1479ebbf-367c-4df4-97bd-91a2153df0e6",
   "metadata": {},
   "source": [
    "https://www.cs.ubc.ca/~murphyk/Teaching/CS340-Fall07/reading/gauss.pdf"
   ]
  },
  {
   "cell_type": "code",
   "execution_count": null,
   "id": "18684d84-3ed1-4a60-8d86-be95485a94cf",
   "metadata": {},
   "outputs": [],
   "source": []
  },
  {
   "cell_type": "markdown",
   "id": "95638200-6b82-4ba5-a518-7500ef1c254f",
   "metadata": {},
   "source": [
    "von Mises, Richard (1964). Mathematical theory of probability and statistics. Chapter VIII.9.3. Academic Press."
   ]
  },
  {
   "cell_type": "markdown",
   "id": "fae8d0bc-7464-4f91-a028-366b28c21395",
   "metadata": {},
   "source": [
    "## 3.4. History"
   ]
  },
  {
   "cell_type": "markdown",
   "id": "ac09a348-ebfa-4500-8e2a-b1e9a6700502",
   "metadata": {},
   "source": [
    "p432"
   ]
  },
  {
   "cell_type": "code",
   "execution_count": null,
   "id": "855c580e-a1d6-45f0-95e8-6e068c48e8e9",
   "metadata": {},
   "outputs": [],
   "source": []
  },
  {
   "cell_type": "markdown",
   "id": "cbd70baa-d191-496f-b5d0-b3c9bfb4f6fd",
   "metadata": {},
   "source": [
    "# 4. Gaussian Distribution\n",
    "\n",
    "The gaussian distribution is a normal distribution whos mean is zero and standard deviation is unit length ie. equal to one.\n",
    "\n",
    "$$ \\mathcal{G} \\sim \\mathcal{N}(0,1) $$"
   ]
  },
  {
   "cell_type": "code",
   "execution_count": null,
   "id": "bad73610-9833-4e85-bec0-4aa84009570a",
   "metadata": {},
   "outputs": [],
   "source": []
  },
  {
   "cell_type": "markdown",
   "id": "18ea76f8-608a-4ba3-aaa7-1ad400c49fc1",
   "metadata": {},
   "source": [
    "# 5. Swithcing between joint and conditional probability\n",
    "I think if we switch between params we can chantge the distributions etc."
   ]
  },
  {
   "cell_type": "markdown",
   "id": "8d2a68ad-6cee-466f-94ef-7b7c8b461fd1",
   "metadata": {},
   "source": [
    "# 6. References\n",
    "- http://noahgolmant.com/writings/derivationsunivariatemultivariate.pdf"
   ]
  }
 ],
 "metadata": {
  "kernelspec": {
   "display_name": "Python 3",
   "language": "python",
   "name": "python3"
  },
  "language_info": {
   "codemirror_mode": {
    "name": "ipython",
    "version": 3
   },
   "file_extension": ".py",
   "mimetype": "text/x-python",
   "name": "python",
   "nbconvert_exporter": "python",
   "pygments_lexer": "ipython3",
   "version": "3.6.8"
  }
 },
 "nbformat": 4,
 "nbformat_minor": 5
}
