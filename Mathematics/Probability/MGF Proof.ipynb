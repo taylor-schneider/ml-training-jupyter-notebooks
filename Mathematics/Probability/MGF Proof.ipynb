{
 "cells": [
  {
   "cell_type": "markdown",
   "id": "70f8355a-9f3d-4c69-bc46-ae6f6c8d28a4",
   "metadata": {},
   "source": [
    "The MGF is defined as: \n",
    "\n",
    "$$M_X(c) := \\mathbb{E}[e^{cX}]$$"
   ]
  },
  {
   "cell_type": "markdown",
   "id": "25f5ccaf-f359-4d05-bb46-10d62318e517",
   "metadata": {},
   "source": [
    "In the multivariate case we have:\n",
    "\n",
    "$$M_X(C) := \\mathbb{E}[e^{CX}]$$\n",
    "\n",
    "Where $C$ is a multidimensional constant that exists for every $X_i$ in $X$."
   ]
  },
  {
   "cell_type": "code",
   "execution_count": null,
   "id": "5a799b43-33dc-4db2-87a0-9db2d41da1c5",
   "metadata": {},
   "outputs": [],
   "source": []
  },
  {
   "cell_type": "markdown",
   "id": "3d06f901-e96b-40bf-82de-2abdccec08e9",
   "metadata": {},
   "source": [
    "Joint Gaussian random variables arise from nonsingular linear transformations on inde-\n",
    "pendent normal random variables\n",
    "\n",
    "Let $X$ be a set of independent iid. variables that $\\sim \\mathcal{N}(0,\\mu_{X_1})$\n",
    "\n",
    "Let $Y = AX + \\mu$ where $A$ is non-singular"
   ]
  },
  {
   "cell_type": "code",
   "execution_count": null,
   "id": "7a487632-ac26-4ce8-bb33-03f9aa1d2ce4",
   "metadata": {},
   "outputs": [],
   "source": []
  },
  {
   "cell_type": "markdown",
   "id": "b6684c0d-c583-4a73-8858-0b973919dfb3",
   "metadata": {},
   "source": [
    "We plug Y into the moment generating function\n",
    "\n",
    "$M_Y(C) = \\mathbb{E}\\left[\n",
    "e^{C(AX-\\mu)}\n",
    "\\right]$\n",
    "\n",
    "$= \\mathbb{E}\\left[\n",
    "e^{CAX}\n",
    "e^{C\\mu}\n",
    "\\right]$\n",
    "\n",
    "$= \n",
    "e^{C\\mu}\n",
    "\\mathbb{E}\\left[\n",
    "e^{CAX}\n",
    "\\right]$\n",
    "\n",
    "$= \n",
    "e^{C\\mu}\n",
    "e^{CA\\mathbb{E}[X]}$"
   ]
  },
  {
   "cell_type": "markdown",
   "id": "bfa60507-be7d-45ce-bb5f-eb9eb238f46c",
   "metadata": {},
   "source": [
    "Now we focus on the expectation. \n",
    "\n",
    "Because the variables are independent, we know that the joint probability is the product of the marginal probabilities:\n",
    "\n",
    "$$f_{X_i,X_j} = f_{X_i}f_{X_j}$$\n",
    "\n",
    "Because $X$ is a set of $X_i$ and each $X_i$ is a set of points $x_j$ we will end up with a double integral as we need to sum accross those two dimensions. "
   ]
  },
  {
   "cell_type": "markdown",
   "id": "6e2f7f88-52f0-4cda-84b9-7729ad4712d8",
   "metadata": {},
   "source": []
  },
  {
   "cell_type": "code",
   "execution_count": null,
   "id": "824750cb-6cca-4ebc-aa42-040644a0cd33",
   "metadata": {},
   "outputs": [],
   "source": []
  },
  {
   "cell_type": "code",
   "execution_count": null,
   "id": "9f098a96-c02f-4afb-803e-70f9bc513213",
   "metadata": {},
   "outputs": [],
   "source": []
  },
  {
   "cell_type": "code",
   "execution_count": null,
   "id": "97563352-75dd-4866-928f-c563d3a70d4c",
   "metadata": {},
   "outputs": [],
   "source": []
  },
  {
   "cell_type": "code",
   "execution_count": null,
   "id": "7b5c61a1-41b4-4852-bdd1-b92663d9ce25",
   "metadata": {},
   "outputs": [],
   "source": []
  },
  {
   "cell_type": "markdown",
   "id": "030c5fde-0c39-4a38-87f3-9b7b95273588",
   "metadata": {},
   "source": [
    "Generalizing this to n-dimensions we have:\n",
    "\n",
    "$$ p(X_1 \\cap X_2 \\cap \\cdots \\cap X_n) = \\prod p(X_i) $$"
   ]
  },
  {
   "cell_type": "markdown",
   "id": "9e8b7a35-ad2b-42e1-93d1-b09ac4c8805e",
   "metadata": {},
   "source": [
    "Injecting the unviariate normal density equation (1.3.1) we have:\n",
    "\n",
    "$$ = \\prod \n",
    "\\frac{1}{\\sigma_{X_i}\\sqrt{2\\pi}}\n",
    "exp \\left\\{ -\\frac{1}{2}\n",
    "\\frac{(X_i - \\mu_{X_i})^2}{\\sigma_{X_i}^2}  \\right\\}  \n",
    "$$\n",
    "\n",
    "$$ = \n",
    "\\frac{1}{\\sqrt[n]{2\\pi}}\n",
    "\\prod \n",
    "\\frac{1}{\\sigma_{X_i}}\n",
    "exp \\left\\{ -\\frac{1}{2}\n",
    "\\frac{(X_i - \\mu_{X_i})^2}{\\sigma_{X_i}^2}  \\right\\}  \n",
    "$$"
   ]
  },
  {
   "cell_type": "markdown",
   "id": "f7eb33e8-bf50-42fd-8056-07a50c2c9a39",
   "metadata": {
    "tags": []
   },
   "source": [
    "Removing the exponential from the product through exponent properties we result in a summation:\n",
    "\n",
    "$$ = \n",
    "\\frac{1}{\\sqrt[n]{2\\pi}}\n",
    "exp \n",
    "\\left\\{ \n",
    "-\\frac{1}{2}\n",
    "\\frac{(X_1 - \\mu_{X_1})^2}{\\sigma_{X_1}^2}  \n",
    "\\cdots\n",
    "-\\frac{1}{2}\n",
    "\\frac{(X_n - \\mu_{X_n})^2}{\\sigma_{X_n}^2}  \n",
    "\\right\\} \n",
    "\\prod \n",
    "\\frac{1}{\\sigma_{X_i}} \n",
    "$$\n",
    "\n",
    "$$ = \n",
    "\\frac{1}{\\sqrt[n]{2\\pi}}\n",
    "exp \n",
    "\\left\\{ \n",
    "-\\frac{1}{2}\n",
    "\\int\n",
    "\\frac{(X_i - \\mu_{X_i})^2}{\\sigma_{X_i}^2}   \n",
    "\\right\\} \n",
    "\\prod \n",
    "\\frac{1}{\\sigma_{X_i}} \n",
    "$$"
   ]
  },
  {
   "cell_type": "markdown",
   "id": "fe59d2fc-3d9d-465d-94a8-d617493bae2e",
   "metadata": {
    "tags": []
   },
   "source": [
    "Adjusting this for multi dimensional matrix notation."
   ]
  },
  {
   "cell_type": "markdown",
   "id": "2296e802-044b-4153-a59a-92be629475b3",
   "metadata": {},
   "source": [
    "$$ = \n",
    "\\frac{1}{\\sqrt[n]{2\\pi}}\n",
    "exp \n",
    "\\left\\{ \n",
    "-\\frac{1}{2}\n",
    "(X - \\mu_{X})^T\\Sigma^{-1}(X - \\mu_{X})  \n",
    "\\right\\} \n",
    "\\prod \n",
    "\\frac{1}{\\sigma_{X_i}} \n",
    "$$"
   ]
  },
  {
   "cell_type": "markdown",
   "id": "90f7416c-b666-47f2-afa9-adfbc488b28e",
   "metadata": {},
   "source": [
    "Now, the last part of the adjustment is a bit tricky. We might think that we can just leave the product right where it is. And in the case where the variables are independent we certainly can. We would end up with a term like: $\\sigma_{X_1}\\sigma_{X_2}\\cdots\\sigma_{X_n}$\n",
    "\n",
    "\n",
    "\n",
    "Thinking about this in one dimension the standard deviation $\\sigma_{X_i}$ is defined as basically $|X_i - \\mu_i|$. In multiple dimensions however this measurement is not enough. $X_i$ is moving in multiple dimensions and thus we need an algebraic structure and coresponding measurement to represent this multi-dimensional deviation.\n",
    "\n",
    "The square root of the covariance matrix is the structure that will express this information. Taking the determinant of this structure provides the algebraic formula to produce the measurement we need. In other words, using the determinant makes the larger structure work; the equation satisfiest the properties of the probability function.\n",
    "\n",
    "To build some intuition behind this, consider the independant bivariate case. We would expect to have the product yield $\\sigma_{X_1}\\sigma_{X_2}$. The square root of the covariance matrix would be:\n",
    "\n",
    "$$ \\Sigma^{\\frac{1}{2}} =\n",
    "\\begin{bmatrix}\n",
    "\\sigma_{X_1} & 0 \\\\\n",
    "0 & \\sigma_{X_2}\n",
    "\\end{bmatrix}\n",
    "$$\n",
    "\n",
    "But this is a two dimensional structure. It's an $(n \\times n)$ matrix. We know this cannot \"plug into our equation\" because the dimensions of this matrix just dont work. We want an answer that is in one dimension. The determinant however is what we are looking for.In this case the determinant would be $(\\sigma_{X_1}\\sigma_{X_2} - 0) = \\sigma_{X_1}\\sigma_{X_2}$. But when there is a non-zero covariance the simple product formula does not hold in multiple dimensions. This is not because the math is wrong, it is just a problem hidden in the notation change."
   ]
  },
  {
   "cell_type": "code",
   "execution_count": null,
   "id": "bc5668fc-5f61-489f-874c-8979e99315fd",
   "metadata": {},
   "outputs": [],
   "source": []
  },
  {
   "cell_type": "markdown",
   "id": "805da7ab-8c22-4045-b45f-b84b3bb6894b",
   "metadata": {},
   "source": [
    "read this: https://math.stackexchange.com/questions/979572/multivariate-gaussian-why-divide-by-determinant-of-covariance-matrix\n",
    "\n",
    "variable change in multiple dimensions. affine transform"
   ]
  },
  {
   "cell_type": "code",
   "execution_count": null,
   "id": "8a873a75-8b6a-4f51-8bad-1d001d31db9c",
   "metadata": {},
   "outputs": [],
   "source": []
  },
  {
   "cell_type": "code",
   "execution_count": null,
   "id": "d3669278-3acd-4aa7-841d-bf41e9040c80",
   "metadata": {},
   "outputs": [],
   "source": []
  },
  {
   "cell_type": "code",
   "execution_count": null,
   "id": "6f09d1c0-a761-43b5-aba6-f5f961b57434",
   "metadata": {},
   "outputs": [],
   "source": []
  },
  {
   "cell_type": "markdown",
   "id": "5153ccf3-101e-4210-9e9d-4f9687fe942d",
   "metadata": {},
   "source": [
    "Connection with isocontours\n",
    "http://cs229.stanford.edu/section/gaussians.pdf"
   ]
  },
  {
   "cell_type": "code",
   "execution_count": null,
   "id": "ff25e3f9-1461-43f2-bb61-bbb3b83e1aef",
   "metadata": {},
   "outputs": [],
   "source": []
  },
  {
   "cell_type": "markdown",
   "id": "bdbe047b-7ba1-4852-bf35-44ad9a85a2cc",
   "metadata": {},
   "source": [
    "http://www.sfu.ca/~lockhart/richard/830/13_3/lectures/mvn/web.pdf"
   ]
  },
  {
   "cell_type": "markdown",
   "id": "a250cf6d-d913-45ff-8599-00a50c4d5248",
   "metadata": {},
   "source": [
    "$$Z = AX + B$$"
   ]
  },
  {
   "cell_type": "code",
   "execution_count": null,
   "id": "adadc546-0832-4f7d-b357-d531bf35434f",
   "metadata": {},
   "outputs": [],
   "source": []
  },
  {
   "cell_type": "markdown",
   "id": "6950b4a4-5fff-4af1-9b83-1c02cb875902",
   "metadata": {},
   "source": [
    "$$ \\rightarrow Z - B = AX$$\n",
    "\n",
    "$$ A^{-1}(Z - B) = A^{-1}AX$$\n",
    "\n",
    "$$ A^{-1}(Z - B) = X$$"
   ]
  },
  {
   "cell_type": "code",
   "execution_count": null,
   "id": "6754e623-cca7-4323-bed2-4a6e15bf42af",
   "metadata": {},
   "outputs": [],
   "source": []
  },
  {
   "cell_type": "markdown",
   "id": "db459cb5-7222-4cdf-a231-a6483ebca387",
   "metadata": {},
   "source": [
    "$$ \\rightarrow A^{-1} = \\frac{X}{Z - B}$$"
   ]
  },
  {
   "cell_type": "code",
   "execution_count": null,
   "id": "54ac252b-fe81-4c78-a56c-479376e6f515",
   "metadata": {},
   "outputs": [],
   "source": []
  },
  {
   "cell_type": "markdown",
   "id": "8b844500-48ac-46ce-80a0-cca816858020",
   "metadata": {},
   "source": [
    "$$ \\frac{\\partial Z}{\\partial X} = \\frac{\\partial}{\\partial X} \\left[ AX + B \\right] = A $$\n",
    "\n",
    "$$ \\frac{\\partial X}{\\partial Z} = \\frac{\\partial}{\\partial Z} \\left[ A^{-1}(Z - B) \\right] = A^{-1} $$"
   ]
  },
  {
   "cell_type": "code",
   "execution_count": null,
   "id": "b83c9152-01f5-4f6b-9837-8021d8c0f326",
   "metadata": {},
   "outputs": [],
   "source": []
  },
  {
   "cell_type": "markdown",
   "id": "02572ca4-51fb-4303-b2ce-9b8f4cc4566b",
   "metadata": {},
   "source": [
    "$$ f_Z = f_X|A|$$"
   ]
  },
  {
   "cell_type": "code",
   "execution_count": null,
   "id": "04b1cde9-00dc-4af7-bc49-f249aeaa46a6",
   "metadata": {},
   "outputs": [],
   "source": []
  },
  {
   "cell_type": "code",
   "execution_count": null,
   "id": "71f64166-089d-4657-8c43-35d290cce9d2",
   "metadata": {},
   "outputs": [],
   "source": []
  },
  {
   "cell_type": "code",
   "execution_count": null,
   "id": "54f666fe-f924-4089-b7ef-3fe3ab2fb5ce",
   "metadata": {},
   "outputs": [],
   "source": []
  }
 ],
 "metadata": {
  "kernelspec": {
   "display_name": "Python 3",
   "language": "python",
   "name": "python3"
  },
  "language_info": {
   "codemirror_mode": {
    "name": "ipython",
    "version": 3
   },
   "file_extension": ".py",
   "mimetype": "text/x-python",
   "name": "python",
   "nbconvert_exporter": "python",
   "pygments_lexer": "ipython3",
   "version": "3.6.8"
  }
 },
 "nbformat": 4,
 "nbformat_minor": 5
}
