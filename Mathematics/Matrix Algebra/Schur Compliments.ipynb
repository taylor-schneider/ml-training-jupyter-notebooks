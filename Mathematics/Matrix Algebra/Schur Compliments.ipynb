{
 "cells": [
  {
   "cell_type": "markdown",
   "id": "1ebdd653-aeb7-4312-9149-cd78b495b2c0",
   "metadata": {},
   "source": [
    "# Overview\n",
    "The Schur Compliment can be thought of in several ways. It can be thought of as a mathematical property of a matrix. In other words, one can find the Schur Compliment of a matrix. Another way of thinking about it is that a matrix is a Schur Complimnt if it can be decomponsed into a specific structure.\n",
    "\n",
    "# Definition\n",
    "Given a matrix:\n",
    "\n",
    "$$ M = \\begin{bmatrix} A & B \\\\ C & D \\end{bmatrix} $$\n",
    "\n",
    "We can derive a Schur Compliment of block (partition) $m_i$ in $M$ which satisfies:\n",
    "\n",
    "$$ |m_i| \\cdot |S_{M/m_i}| = |M| $$\n",
    "\n",
    "Where $|\\cdot|$ denotes the determinant of a given matrix. In this way, we see the Schur Complement is anecdotal to a fraction $|\\frac{M}{m_i}|$.\n",
    "\n",
    "The matrix $M$ can be partitioned and shown to have the following Schur Compliments:\n",
    "\n",
    "$$ S_{M/A} = D - CA^{-1}B $$\n",
    "\n",
    "$$ S_{M/D} = A - BD^{-1}C $$\n",
    "\n",
    "Going further It can be shown that we can apply the Schur Compliment recursively to partitions in the Schur Compliment. [1]"
   ]
  },
  {
   "cell_type": "markdown",
   "id": "ea0cea6b-2956-4000-826d-978d70e79d5b",
   "metadata": {},
   "source": [
    "# Origin\n",
    "\n",
    "The Schur Complement is named after Issai Schur who used it to prove Schur's lemma."
   ]
  },
  {
   "cell_type": "markdown",
   "id": "a3ce7077-1df9-4b15-84fe-a2f84b0eef25",
   "metadata": {},
   "source": [
    "# Use Cases"
   ]
  },
  {
   "cell_type": "markdown",
   "id": "a620f024-d476-41e8-8403-953212e4b65d",
   "metadata": {},
   "source": [
    "## Inversion\n",
    "It is possible to formulate an inverse matrix in terms of a Schur compliment. Depending on which Schur Compliment is used, we will get a different formula for the inversion.\n",
    "\n",
    "$$ M = \\begin{bmatrix} A & B \\\\ C & D \\end{bmatrix} $$\n",
    "\n",
    "\n",
    "If we use the Schur Compliment of A in M: \n",
    "\n",
    "$$ S_{M/A} = D - CA^{-1}B $$\n",
    "\n",
    "$$ M^{-1} = \\begin{bmatrix} \n",
    "A^{-1}+A^{-1}BS^{-1}CA^{-1} & -ABS^{-1} \\\\\n",
    "-S^{-1}CA^{-1} & S^{-1}\n",
    "\\end{bmatrix} $$\n",
    "\n",
    "If we use the Schur Compliment of D in M it follows:\n",
    "\n",
    "$$ S_{M/D} = A - BD^{-1}C $$\n",
    "\n",
    "$$ M^{-1} = \\begin{bmatrix} \n",
    "S^{-1} & -S^{-1}BD^{-1} \\\\\n",
    "-D^{-1}CS^{-1} & D^{-1}+D^{-1}CS^{-1}BD^{-1}\n",
    "\\end{bmatrix} $$\n"
   ]
  },
  {
   "cell_type": "code",
   "execution_count": null,
   "id": "438c38df-5d22-4aff-b141-3cd29106bf3e",
   "metadata": {},
   "outputs": [],
   "source": []
  },
  {
   "cell_type": "code",
   "execution_count": null,
   "id": "70ae3d81-3bdf-40ce-9ff0-ff6fd8f4a7af",
   "metadata": {},
   "outputs": [],
   "source": []
  },
  {
   "cell_type": "code",
   "execution_count": null,
   "id": "93c2de8b-c8ea-4b29-81b6-4d63921e78a7",
   "metadata": {},
   "outputs": [],
   "source": []
  },
  {
   "cell_type": "markdown",
   "id": "277b3cae-1736-49f7-a8b8-68dec9707749",
   "metadata": {},
   "source": [
    "# Primer\n",
    "https://core.ac.uk/download/pdf/82188852.pdf"
   ]
  },
  {
   "cell_type": "code",
   "execution_count": null,
   "id": "936083ce-1535-4ae6-a038-df24e2b6ad0f",
   "metadata": {},
   "outputs": [],
   "source": []
  },
  {
   "cell_type": "markdown",
   "id": "0ef4a418-65f8-4620-9d52-4e7786751579",
   "metadata": {},
   "source": [
    "# Definition\n",
    "\n",
    "\n",
    "https://www.cis.upenn.edu/~jean/schur-comp.pdf\n",
    "\n",
    "https://chrisyeh96.github.io/2021/05/19/schur-complement.html#definition"
   ]
  },
  {
   "cell_type": "code",
   "execution_count": null,
   "id": "49a208eb-5e29-48e5-86db-9267ee9140d6",
   "metadata": {},
   "outputs": [],
   "source": []
  },
  {
   "cell_type": "markdown",
   "id": "f420fb68-2154-4a15-9187-9cf80460fd78",
   "metadata": {},
   "source": [
    "A very rigorus article on the properties and teorems can be found here:\n",
    "\n",
    "https://chrisyeh96.github.io/2021/05/19/schur-complement.html#definition"
   ]
  },
  {
   "cell_type": "markdown",
   "id": "e8d682e2-b358-4864-afcb-cef7bfc429f8",
   "metadata": {},
   "source": [
    "# Sources\n",
    "\n",
    "- [1] - [Schur Complements and Statlstlcs - Ouellette - 1981](https://core.ac.uk/download/pdf/82188852.pdf)\n"
   ]
  }
 ],
 "metadata": {
  "kernelspec": {
   "display_name": "Python 3",
   "language": "python",
   "name": "python3"
  },
  "language_info": {
   "codemirror_mode": {
    "name": "ipython",
    "version": 3
   },
   "file_extension": ".py",
   "mimetype": "text/x-python",
   "name": "python",
   "nbconvert_exporter": "python",
   "pygments_lexer": "ipython3",
   "version": "3.6.8"
  }
 },
 "nbformat": 4,
 "nbformat_minor": 5
}
