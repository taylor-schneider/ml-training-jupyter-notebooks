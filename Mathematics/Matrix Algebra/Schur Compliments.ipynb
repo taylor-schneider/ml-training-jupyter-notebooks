{
 "cells": [
  {
   "cell_type": "markdown",
   "id": "1ebdd653-aeb7-4312-9149-cd78b495b2c0",
   "metadata": {},
   "source": [
    "# Overview\n",
    "The Schur Compliment can be thought of in several ways. It can be thought of as a mathematical property of a matrix. In other words, one can find the Schur Compliment of a matrix. Another way of thinking about it is that a matrix is a Schur Complimnt if it can be decomponsed into a specific structure.\n",
    "\n",
    "The schur compliment of a matrix is an important property. Using the schur compliment we can perform blockwise matrix inversion by applying a formula (more on this later)."
   ]
  },
  {
   "cell_type": "markdown",
   "id": "04fd5c04-c683-4e2a-8a31-e8ed96bdf161",
   "metadata": {},
   "source": [
    "# 1. History\n",
    "\n",
    "The Schur complement is named after Issai Schur who used it to prove Schur's lemma, although it had been used previously."
   ]
  },
  {
   "cell_type": "markdown",
   "id": "d0222493-46c5-4add-bddb-72dfa083e5cb",
   "metadata": {},
   "source": [
    "# 2. Definition\n",
    "Given a matrix:\n",
    "\n",
    "$$ M = \\begin{bmatrix} A & B \\\\ C & D \\end{bmatrix} $$\n",
    "\n",
    "We can derive a Schur Compliment of block (partition) $m_i$ in $M$ which satisfies:\n",
    "\n",
    "$$ |m_i| \\cdot |S_{M/m_i}| = |M| $$\n",
    "\n",
    "Where $|\\cdot|$ denotes the determinant of a given matrix. \n",
    "\n",
    "In this way, we see the Schur Complement is anecdotal to a fraction such that\n",
    "\n",
    "$$|S_{M/m_i}| = \\begin{vmatrix}\\frac{M}{m_i}\\end{vmatrix}$$.\n",
    "\n",
    "The matrix $M$ can be partitioned and [shown](#Derevation) to have the following Schur Compliments:\n",
    "\n",
    "$$ S_{M/A} = D - CA^{-1}B $$\n",
    "\n",
    "$$ S_{M/D} = A - BD^{-1}C $$\n",
    "\n",
    "Going further It can be shown that we can apply the Schur Compliment recursively to partitions in the Schur Compliment. [1]"
   ]
  },
  {
   "cell_type": "markdown",
   "id": "bc65b1b4-73dd-43b3-97bb-f8f1f6d95eca",
   "metadata": {},
   "source": [
    "# 3. Alternate Notations\n",
    "\n",
    "The \"schur compliment of $D$ in $M$\" or the \"shur comliment of $D$ with respect to $M$\" which I will denote as $S_{M/D} = M^{SC}_D= A -BD^{-1}C$. Some other texts have denoted this as $M/D$ or $M_{A \\cdot D}$ or $S_{M/D}$"
   ]
  },
  {
   "cell_type": "markdown",
   "id": "6efe286b-0d47-4f80-b0fb-ec9e8540a79c",
   "metadata": {},
   "source": [
    "# 4. Derevation\n",
    "\n",
    "The schur compliment of $M$ is derived by transforming $M$ such that it becomes a diagonal. The resulting diagonal will will leave one of the original diagonals ($A$ or $D$) of $M$ unchanged while transforming the other diagonal into what is referred to as the schur compliment with respect to whichever term is left.\n",
    "\n",
    "In order to derive the schur compliment we need to do some matrix algebra and before we start we need to decide where to start transforming the matrix."
   ]
  },
  {
   "cell_type": "markdown",
   "id": "34a48aad-bad1-4b5a-90c6-c58640416dd2",
   "metadata": {},
   "source": [
    "## 4.1. Method 1: Start with the top \n",
    "\n",
    "We pre-multiply $M$ by a term to zero out the top right corner\n",
    "\n",
    "$$\n",
    "\\begin{bmatrix}\n",
    "1 & -BD^{-1} \\\\\n",
    "0 & 1\n",
    "\\end{bmatrix}\n",
    "\\begin{bmatrix}\n",
    "A & B \\\\\n",
    "C & D\n",
    "\\end{bmatrix}\n",
    "=\n",
    "\\begin{bmatrix}\n",
    "A -BD^{-1}C & 0 \\\\\n",
    "C & D\n",
    "\\end{bmatrix}\n",
    "$$\n",
    "\n",
    "We then continue ans post-multiply $M$ so that the bottom left corner is also zeroed out\n",
    "\n",
    "$$\n",
    "\\begin{bmatrix}\n",
    "1 & -BD^{-1} \\\\\n",
    "0 & 1\n",
    "\\end{bmatrix}\n",
    "\\begin{bmatrix}\n",
    "A & B \\\\\n",
    "C & D\n",
    "\\end{bmatrix}\n",
    "\\begin{bmatrix}\n",
    "1 & 0 \\\\\n",
    "-D^{-1}C & 1\n",
    "\\end{bmatrix}\n",
    "=\n",
    "\\begin{bmatrix}\n",
    "A -BD^{-1}C & 0 \\\\\n",
    "0 & D\n",
    "\\end{bmatrix}\n",
    "$$\n",
    "\n",
    "As we see, the $D$ term is left intact while the other terms have changed. For this reason, this is referred to as the \"schur compliment of $D$ in $M$\" or the \"shur comliment of $D$ with respect to $M$\" which I will denote as $M^{SC}_D= A -BD^{-1}C$. Some other texts have denoted this as $M/D$ or $M_{A \\cdot D}$"
   ]
  },
  {
   "cell_type": "markdown",
   "id": "a94859a7-1f66-4c7c-8bb2-39121e9deeb3",
   "metadata": {},
   "source": [
    "## 4.2. Method 2: Start with the bottom\n",
    "Rather than zeroing out the top right, we can instead start with the bottom left to find the schur compliment of $A$ with respect to $M$\n",
    "\n",
    "We pre-multiply $M$ by a term to zero out the top right corner\n",
    "\n",
    "$$\n",
    "\\begin{bmatrix}\n",
    "1 & 0 \\\\\n",
    "-CA^{-1}& 1\n",
    "\\end{bmatrix}\n",
    "\\begin{bmatrix}\n",
    "A & B \\\\\n",
    "C & D\n",
    "\\end{bmatrix}\n",
    "=\n",
    "\\begin{bmatrix}\n",
    "A & B \\\\\n",
    "0 & D - CA^{-1}B\n",
    "\\end{bmatrix}\n",
    "$$\n",
    "\n",
    "We then continue ans post-multiply $M$ so that the bottom left corner is also zeroed out\n",
    "\n",
    "$$\n",
    "\\begin{bmatrix}\n",
    "1 & 0 \\\\\n",
    "-CA^{-1}& 1\n",
    "\\end{bmatrix}\n",
    "\\begin{bmatrix}\n",
    "A & B \\\\\n",
    "C & D\n",
    "\\end{bmatrix}\n",
    "\\begin{bmatrix}\n",
    "1 & -A^{-1}B \\\\\n",
    "0 & 1\n",
    "\\end{bmatrix}\n",
    "=\n",
    "\\begin{bmatrix}\n",
    "A & 0 \\\\\n",
    "0 & D - CA^{-1}B\n",
    "\\end{bmatrix}\n",
    "$$\n",
    "\n",
    "Where $M^{SC}_A = D-CA^{-1}B$"
   ]
  },
  {
   "cell_type": "markdown",
   "id": "45324886-b409-4985-bc8a-bc0c32eeeb63",
   "metadata": {},
   "source": [
    "## 4.3. Choosing a derevation strategy\n",
    "Method 2 is particularly advantageous if $A$ is diagonal and $D − CA^{−1}B$ (the Schur complement of $A$) is a small matrix, since they are the only matrices requiring inversion.\n",
    "\n",
    "Method 1 requires $D$ and $A − BD^{−1}C$ are nonsingular"
   ]
  },
  {
   "cell_type": "markdown",
   "id": "7a94f673-2257-42d3-ba05-a27389a7feb5",
   "metadata": {},
   "source": [
    "# 5. Connections\n",
    "## 5.1. Diagonalization and LDU Decomposition\n",
    "An interesting side note here is that the Schur compliment is found through the process of diagonalization. Additionally we see that if we multiply the two triandular matrices on the left hand side by their inverses then by the equality we must also multiply the right hand side by the same triangular matrices. In doing so we remove the triangular matrices from the left side and are left with $M$ while on the right side we now have a product of a lower triangular matrix, a diagonal, and an upper triangular matrix. such that\n",
    "\n",
    "$$ M = LDU $$\n",
    "\n",
    "This results in a [LDU decomposition](./Diagonalization.ipynb#2.%20LDU-Decomposition)."
   ]
  },
  {
   "cell_type": "markdown",
   "id": "709a5a91-798a-4190-9668-f2cea45ac292",
   "metadata": {},
   "source": [
    "## Conections\n",
    " - [Woodbury Matrix Identity](./Matrix%20Division%20%28Inversion%29.ipynb#5.2.2.3-Connection-With-Woodbury-Identity-Matrix)\n"
   ]
  },
  {
   "cell_type": "markdown",
   "id": "a3ce7077-1df9-4b15-84fe-a2f84b0eef25",
   "metadata": {},
   "source": [
    "# Use Cases"
   ]
  },
  {
   "cell_type": "markdown",
   "id": "1761f494-76d0-4617-9abe-e5ed85d4d231",
   "metadata": {},
   "source": [
    "- [Block Inversion](./Matrix%20Division%20%28Inversion%29.ipynb#5.2.2.%20Blockwise-Inversion)"
   ]
  },
  {
   "cell_type": "markdown",
   "id": "e8d682e2-b358-4864-afcb-cef7bfc429f8",
   "metadata": {},
   "source": [
    "# References\n",
    "\n",
    "- [1] - [Schur Complements and Statlstlcs - Ouellette - 1981](https://core.ac.uk/download/pdf/82188852.pdf)\n",
    "- https://core.ac.uk/download/pdf/82188852.pdf\n",
    "- https://www.cis.upenn.edu/~jean/schur-comp.pdf\n",
    "- https://chrisyeh96.github.io/2021/05/19/schur-complement.html#definition\n",
    "- https://www.cs.ubc.ca/~murphyk/Teaching/CS340-Fall07/reading/gauss.pdf"
   ]
  },
  {
   "cell_type": "code",
   "execution_count": null,
   "id": "e6075f49-7df3-4ce8-82ab-11862f2e023e",
   "metadata": {},
   "outputs": [],
   "source": []
  }
 ],
 "metadata": {
  "kernelspec": {
   "display_name": "Python 3",
   "language": "python",
   "name": "python3"
  },
  "language_info": {
   "codemirror_mode": {
    "name": "ipython",
    "version": 3
   },
   "file_extension": ".py",
   "mimetype": "text/x-python",
   "name": "python",
   "nbconvert_exporter": "python",
   "pygments_lexer": "ipython3",
   "version": "3.6.8"
  }
 },
 "nbformat": 4,
 "nbformat_minor": 5
}
