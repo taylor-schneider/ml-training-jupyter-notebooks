{
 "cells": [
  {
   "cell_type": "markdown",
   "id": "1ebdd653-aeb7-4312-9149-cd78b495b2c0",
   "metadata": {},
   "source": [
    "# Overview\n",
    "The Schur complement is named after Issai Schur who used it to prove Schur's lemma.\n",
    "\n",
    "The Schur Compliment is a mathematical property of a matrix. It arrises in the context of matrix inversion. While it does not require a prerequisite knowledge of matrix inversion, it wouldnt hurt."
   ]
  },
  {
   "cell_type": "markdown",
   "id": "ea0cea6b-2956-4000-826d-978d70e79d5b",
   "metadata": {},
   "source": [
    "# Origin"
   ]
  },
  {
   "cell_type": "markdown",
   "id": "a620f024-d476-41e8-8403-953212e4b65d",
   "metadata": {},
   "source": [
    "#"
   ]
  },
  {
   "cell_type": "code",
   "execution_count": null,
   "id": "3bcc3851-1eae-4ac4-b260-d6598d03f13d",
   "metadata": {},
   "outputs": [],
   "source": []
  },
  {
   "cell_type": "code",
   "execution_count": null,
   "id": "936083ce-1535-4ae6-a038-df24e2b6ad0f",
   "metadata": {},
   "outputs": [],
   "source": []
  },
  {
   "cell_type": "markdown",
   "id": "0ef4a418-65f8-4620-9d52-4e7786751579",
   "metadata": {},
   "source": [
    "# Definition\n",
    "\n",
    "\n",
    "https://www.cis.upenn.edu/~jean/schur-comp.pdf\n",
    "\n",
    "https://chrisyeh96.github.io/2021/05/19/schur-complement.html#definition"
   ]
  },
  {
   "cell_type": "code",
   "execution_count": null,
   "id": "49a208eb-5e29-48e5-86db-9267ee9140d6",
   "metadata": {},
   "outputs": [],
   "source": []
  },
  {
   "cell_type": "markdown",
   "id": "f420fb68-2154-4a15-9187-9cf80460fd78",
   "metadata": {},
   "source": [
    "A very rigorus article on the properties and teorems can be found here:\n",
    "\n",
    "https://chrisyeh96.github.io/2021/05/19/schur-complement.html#definition"
   ]
  },
  {
   "cell_type": "code",
   "execution_count": null,
   "id": "4f08446d-ddc6-45a4-8ed7-63349a0032d9",
   "metadata": {},
   "outputs": [],
   "source": []
  }
 ],
 "metadata": {
  "kernelspec": {
   "display_name": "Python 3",
   "language": "python",
   "name": "python3"
  },
  "language_info": {
   "codemirror_mode": {
    "name": "ipython",
    "version": 3
   },
   "file_extension": ".py",
   "mimetype": "text/x-python",
   "name": "python",
   "nbconvert_exporter": "python",
   "pygments_lexer": "ipython3",
   "version": "3.6.8"
  }
 },
 "nbformat": 4,
 "nbformat_minor": 5
}
