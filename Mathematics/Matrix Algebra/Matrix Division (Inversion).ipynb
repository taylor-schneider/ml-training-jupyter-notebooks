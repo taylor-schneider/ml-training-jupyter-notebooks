{
 "cells": [
  {
   "cell_type": "markdown",
   "id": "6acad46e-7b58-42ba-b345-40105b308bb8",
   "metadata": {},
   "source": [
    "# Overview\n",
    "\n",
    "In matrix algerbra there is no such thing as a devision operation. Long story short, we can multily by a reciprocal to get the same outcome as dividing by the original object."
   ]
  },
  {
   "cell_type": "markdown",
   "id": "e2895e3b-1657-4e41-a6a3-f563f71a0c11",
   "metadata": {},
   "source": [
    "# Reciprocals Of Numbers\n",
    "\n",
    "With regular numbers, every number has a reciprocal. The reciprical of any number $x$ is written as such:\n",
    "\n",
    "$$ reciprocal(x) = \\frac{1}{x} $$\n",
    "\n",
    "We can also write the recprical as an exponent:\n",
    "\n",
    "$$ = x^{-1} $$\n",
    "\n",
    "## Properties\n",
    "Any reciprocal multiplied by the original number is 1:\n",
    "\n",
    "$$ \\frac{x}{x} = 1 \\Rightarrow x \\times \\frac{1}{x} = 1 $$\n",
    "\n",
    "The reciprical of any reciprical is the original number:\n",
    "\n",
    "$$ \\frac{1}{(\\frac{1}{x})} = (x^{-1})^{-1} = x$$"
   ]
  },
  {
   "cell_type": "markdown",
   "id": "0a1af7df-3756-4b73-b916-4fb7ce75a9cc",
   "metadata": {},
   "source": [
    "# Determinant\n",
    "The determinant $|M|$ of a matrix $M$ is a scalar value derived from a square matrix. The value is non-zero iff the matrix is invertible. The determiniant is found by multiplying each element $m_{1,j}$ of the first row  of a matrix  by $|M_{![i,j]}|$, the determinant of the submatrix formed by deleting row $i$ and column $j$ from the matrix $M$ and then summing them with alternating positive and negative symbols.\n",
    "\n",
    "$$ |M| = \\sum_{j} (-1)^{j+1} m_{1,j}|M_{![1,j]}| $$\n",
    "\n",
    "\n",
    "For a $(1 \\times 1)$ matrix we have:\n",
    "\n",
    "$$ \\begin{vmatrix}\n",
    "M\n",
    "\\end{vmatrix} = m_{1,1}$$\n",
    "\n",
    "For a $(2 \\times 2)$ matrix we have:\n",
    "\n",
    "$$ \\begin{vmatrix}\n",
    "a & b  \\\\\n",
    "c & d\n",
    "\\end{vmatrix} = ad - bc $$\n",
    "\n",
    "For a $(3 \\times 3)$ matrix we have:\n",
    "\n",
    "\n",
    "$$ \\begin{vmatrix}\n",
    "a & b & c \\\\\n",
    "d & e & f \\\\\n",
    "g & h & i\n",
    "\\end{vmatrix} =\n",
    "a \\begin{vmatrix}\n",
    "e & h  \\\\\n",
    "f & i\n",
    "\\end{vmatrix}\n",
    "- b \\begin{vmatrix}\n",
    "d & f  \\\\\n",
    "g & i\n",
    "\\end{vmatrix}\n",
    "+ c\\begin{vmatrix}\n",
    "d & e  \\\\\n",
    "g & h\n",
    "\\end{vmatrix}\n",
    "$$\n",
    "\n",
    "$$ = a(ei - fh) - b(di - gf) + c(dh - ge)$$\n",
    "\n",
    "https://en.wikipedia.org/wiki/Determinant\n",
    "\n",
    "For higher dimensions we can use the generic formula above.\n"
   ]
  },
  {
   "cell_type": "markdown",
   "id": "ec7a0014-c98e-4be1-8458-9f7b6c03ddb2",
   "metadata": {},
   "source": [
    "# Cofactor Matrix\n",
    "The cofactor matrix $C_M$  is a matric composed of cofactors calculated from another matrix $M$. The cofactor $c_{M:i,j}$ (sometimes also referred to as a matrix of cofactors or comatrix) of each sumbartix $m_{i:j}$ in a matrix $M$ can be calculated using the following formula:\n",
    "\n",
    "$$ cofactor(M) = \\begin{bmatrix}\n",
    "c_{M:1,1} & \\cdots & c_{M:1,n} \\\\\n",
    "\\vdots & \\ddots & \\vdots \\\\\n",
    "c_{M:n,1} & \\cdots & c_{M:n,n}\n",
    "\\end{bmatrix}$$\n",
    "\n",
    "$$c_{M:i,j} = (-1)^{i+j}M_{[i,j]}  $$\n",
    "\n",
    "Where $M_{[i,j]}$ is the determinant of the submatrix formed by deleting row $i$ and column $j$ from the matrix $M$.\n",
    "\n",
    "https://byjus.com/maths/cofactor/\n",
    "\n",
    "https://en.wikipedia.org/wiki/Minor_(linear_algebra)#Inverse_of_a_matrix"
   ]
  },
  {
   "cell_type": "markdown",
   "id": "099d3ef4-c12f-440b-9343-837ee183be0d",
   "metadata": {},
   "source": [
    "## Examples\n",
    "\n",
    "Given:\n",
    "\n",
    "$$ M = \\begin{bmatrix}\n",
    "1 & 2 & 3 \\\\\n",
    "4 & 5 & 6 \\\\\n",
    "7 & 8 & 9\n",
    "\\end{bmatrix} $$\n",
    "\n",
    "We compute $c_{M:1,1}$ the cofactor as:\n",
    "\n",
    "$$c_{M:1,1} = (-1)^{1+1}M_{[1,1]}  $$\n",
    "\n",
    "$$ = (-1)^{2} det\\left( \\begin{bmatrix}\n",
    "5 & 6 \\\\\n",
    "8 & 9\n",
    "\\end{bmatrix} \\right)  $$\n",
    "\n",
    "$$ = (-1)^{2} * [(5 \\times 9) - (8 \\times 6)] $$\n",
    "\n",
    "$$ = [45 - 48] $$\n",
    "\n",
    "$$ = -3 $$\n",
    "\n",
    "And thus the cofactor matrix is detived as:\n",
    "\n",
    "$$ C_M = \\begin{bmatrix}\n",
    "-3 & 6 & -3 \\\\\n",
    "6 & -12 & 6 \\\\\n",
    "-3 & 6 & -3\n",
    "\\end{bmatrix} $$\n",
    "\n",
    "https://www.emathhelp.net/calculators/linear-algebra/cofactor-matrix-calculator/"
   ]
  },
  {
   "cell_type": "code",
   "execution_count": null,
   "id": "7feb748f-8e48-4f82-90a0-8a7640bcec40",
   "metadata": {},
   "outputs": [],
   "source": []
  },
  {
   "cell_type": "code",
   "execution_count": null,
   "id": "35a11d41-0220-4112-8f3e-295c5384cc8e",
   "metadata": {},
   "outputs": [],
   "source": []
  },
  {
   "cell_type": "markdown",
   "id": "c8229daa-7c8c-4b67-85d2-571b20495bae",
   "metadata": {},
   "source": [
    "# Adjugate Matrices\n",
    "\n",
    "The adjugate of a square matrix $adg \\ M$ is the transpose of its cofactor matrix $C_M^T$ of the matrix $M$.\n",
    "\n",
    "$$ adj \\ M = C_M^T $$\n"
   ]
  },
  {
   "cell_type": "markdown",
   "id": "360f3501-371e-4bfc-b241-aa03efe7299d",
   "metadata": {},
   "source": [
    "# Inverse Matrices\n",
    "\n",
    "An inverse matrix is the matrix analog of reciprocals for numbers. The inverse of a matrix $M$ is denoted as:\n",
    "\n",
    "$$ inverse(M) = M^{-1} $$\n",
    "\n",
    "And is calculated by multiplying the reciprocal of the determinant $\\frac{1}{|M|}$ by the adjugate (transpose of the cofactor matrix) $C_M^T$ for a given matrix.\n",
    "\n",
    "$$ M^{-1} = \\frac{1}{|M|}C_M^T$$\n",
    "\n",
    "Note that only some square matrices can be inverted. A matrix that cannot be inverted (ie. the inverse cannot be found) is referred to singular or invertible.\n",
    "\n",
    "https://en.wikipedia.org/wiki/Invertible_matrix"
   ]
  },
  {
   "cell_type": "markdown",
   "id": "e61e2bfd-ec17-4655-a5f0-313fdd1157f6",
   "metadata": {},
   "source": [
    "## Properties\n",
    "\n",
    "Converniently, the martix inverse has the same properties as the reciprocal:\n",
    "\n",
    "$$ (M^{-1})^{-1} = M $$\n",
    "$$ M \\times M^{-1} = I $$\n",
    "\n",
    "The caveat is that the identity matrix $I$ is the matrix equivalent of 1."
   ]
  },
  {
   "cell_type": "markdown",
   "id": "45de03b7-7c8b-4ac9-84cd-0037d55d20c7",
   "metadata": {},
   "source": [
    "## Blockwise Inversion\n",
    "\n",
    "Blockwise inversion allows us to inverse a matrix by inverting its submatrices.\n",
    "\n",
    "This alternate technique for performing inversion was created by Hanz Bolt in 1923 and generalized and proven by Tadeusz Banachiewicz in 1937.\n",
    "\n",
    "https://en.wikipedia.org/wiki/Invertible_matrix#Blockwise_inversion\n",
    "\n",
    "### Calculation\n",
    "\n",
    "Given a Matrix\n",
    "\n",
    "$$ M = \\begin{bmatrix}\n",
    "A & B \\\\\n",
    "C & D\n",
    "\\end{bmatrix}$$\n",
    "\n",
    "There are two methods for performing the blockwise inversion."
   ]
  },
  {
   "cell_type": "markdown",
   "id": "a2f29412-a88d-42a7-989e-f7581c0e0411",
   "metadata": {},
   "source": [
    "#### Method 1: Operate on C and D first\n",
    "This strategy is particularly advantageous if $A$ is diagonal and $D − CA^{−1}B$ (the Schur complement of $A$) is a small matrix, since they are the only matrices requiring inversion.\n",
    "\n",
    "$$ M^{-1} = \\begin{bmatrix}\n",
    "A^{-1} + A^{-1}B(D-CA^{-1}B)^{-1}CA^{-1} & -A^{-1}B(D-CA^{-1}B)^{-1}\\\\\n",
    "-(D-CA^{-1}B)^{-1}CA^{-1} & (D-CA^-1B)^-1\n",
    "\\end{bmatrix}$$\n",
    "\n",
    "Note: It requires that $A$ and $D − CA^{−1}B$ must be nonsingular."
   ]
  },
  {
   "cell_type": "markdown",
   "id": "981c8903-07b5-4239-8bca-16cdbf62f1b2",
   "metadata": {},
   "source": [
    "#### Method 2: Operate on A and B first\n",
    "\n",
    "$$ M^{-1} = \\begin{bmatrix}\n",
    "(A − BD^{−1}C)^{-1} & -(A − BD^{−1}C)^{-1}BD^{-1}\\\\\n",
    "-D^{-1}C(A − BD^{−1}C)^{-1} & D^{-1}+D^{-1}C(A − BD^{−1}C)^{-1}BD^{-1}\n",
    "\\end{bmatrix}$$\n",
    "\n",
    "Note: This method requires $D$ and $A − BD^{−1}C$ are nonsingular"
   ]
  },
  {
   "cell_type": "markdown",
   "id": "7ac58034-848a-40bd-8e79-4dae22d02bf7",
   "metadata": {},
   "source": []
  }
 ],
 "metadata": {
  "kernelspec": {
   "display_name": "Python 3",
   "language": "python",
   "name": "python3"
  },
  "language_info": {
   "codemirror_mode": {
    "name": "ipython",
    "version": 3
   },
   "file_extension": ".py",
   "mimetype": "text/x-python",
   "name": "python",
   "nbconvert_exporter": "python",
   "pygments_lexer": "ipython3",
   "version": "3.6.8"
  }
 },
 "nbformat": 4,
 "nbformat_minor": 5
}
