{
 "cells": [
  {
   "cell_type": "markdown",
   "id": "6acad46e-7b58-42ba-b345-40105b308bb8",
   "metadata": {},
   "source": [
    "# Overview\n",
    "\n",
    "In matrix algerbra there is no such thing as a devision operation. Long story short, we can multily by a reciprocal to get the same outcome as dividing by the original object."
   ]
  },
  {
   "cell_type": "markdown",
   "id": "e2895e3b-1657-4e41-a6a3-f563f71a0c11",
   "metadata": {},
   "source": [
    "# 1. Reciprocals Of Numbers\n",
    "\n",
    "With regular numbers, every number has a reciprocal. The reciprical of any number $x$ is written as such:\n",
    "\n",
    "$$ reciprocal(x) = \\frac{1}{x} $$\n",
    "\n",
    "We can also write the recprical as an exponent:\n",
    "\n",
    "$$ = x^{-1} $$\n",
    "\n",
    "## 1.1. Properties\n",
    "Any reciprocal multiplied by the original number is 1:\n",
    "\n",
    "$$ \\frac{x}{x} = 1 \\Rightarrow x \\times \\frac{1}{x} = 1 $$\n",
    "\n",
    "The reciprical of any reciprical is the original number:\n",
    "\n",
    "$$ \\frac{1}{(\\frac{1}{x})} = (x^{-1})^{-1} = x$$"
   ]
  },
  {
   "cell_type": "markdown",
   "id": "0a1af7df-3756-4b73-b916-4fb7ce75a9cc",
   "metadata": {},
   "source": [
    "# 2. Determinant\n",
    "\n",
    "## 2.1. Definition\n",
    "The determinant $|M|$ of a matrix $M$ is a scalar value derived from a square matrix. The value is non-zero if and only if the matrix is invertible. The determiniant is found by multiplying each element $m_{1,j}$ of the first row  of a matrix  by $|M_{![i,j]}|$, the determinant of the submatrix formed by deleting row $i$ and column $j$ from the matrix $M$ and then summing them with alternating positive and negative symbols.\n",
    "\n",
    "$$ |M| = \\sum_{j} (-1)^{j+1} m_{1,j}|M_{![1,j]}| $$\n",
    "\n",
    "\n",
    "For a $(1 \\times 1)$ matrix we have:\n",
    "\n",
    "$$ \\begin{vmatrix}\n",
    "M\n",
    "\\end{vmatrix} = m_{1,1}$$\n",
    "\n",
    "For a $(2 \\times 2)$ matrix we have:\n",
    "\n",
    "$$ \\begin{vmatrix}\n",
    "a & b  \\\\\n",
    "c & d\n",
    "\\end{vmatrix} = ad - bc $$\n",
    "\n",
    "For a $(3 \\times 3)$ matrix we have:\n",
    "\n",
    "\n",
    "$$ \\begin{vmatrix}\n",
    "a & b & c \\\\\n",
    "d & e & f \\\\\n",
    "g & h & i\n",
    "\\end{vmatrix} =\n",
    "a \\begin{vmatrix}\n",
    "e & h  \\\\\n",
    "f & i\n",
    "\\end{vmatrix}\n",
    "- b \\begin{vmatrix}\n",
    "d & f  \\\\\n",
    "g & i\n",
    "\\end{vmatrix}\n",
    "+ c\\begin{vmatrix}\n",
    "d & e  \\\\\n",
    "g & h\n",
    "\\end{vmatrix}\n",
    "$$\n",
    "\n",
    "$$ = a(ei - fh) - b(di - gf) + c(dh - ge)$$\n",
    "\n",
    "https://en.wikipedia.org/wiki/Determinant\n",
    "\n",
    "For higher dimensions we can use the generic formula above.\n"
   ]
  },
  {
   "cell_type": "markdown",
   "id": "d8c45842-0a47-4e73-9aee-afb5d8f59f55",
   "metadata": {},
   "source": [
    "## 2.2. Applications\n",
    "\n",
    "### 2.2.1. Systems of Equations\n",
    "Determinants can be used to solve a system of n linear equations or linear differential equations with n unknowns.\n",
    "\n",
    "For example consider the following system of equations:\n",
    "\n",
    "$$ x + y + 3z = 6 \\\\\n",
    "2x + 3y − 4z = −2 \\\\\n",
    "3x − 2y + 5z = 7$$\n",
    "\n",
    "In matrix gorm this gives us:\n",
    "\n",
    "$$ AX=B$$\n",
    "\n",
    "$$\n",
    "\\begin{bmatrix}\n",
    "1 & 1 & 3 \\\\\n",
    "2 & 3 & -4 \\\\\n",
    "3 & -2 & 5\n",
    "\\end{bmatrix}\n",
    "\\begin{bmatrix}\n",
    "x \\\\\n",
    "y \\\\\n",
    "z\n",
    "\\end{bmatrix}\n",
    "=\n",
    "\\begin{bmatrix}\n",
    "6 \\\\\n",
    "-2 \\\\\n",
    "7\n",
    "\\end{bmatrix}\n",
    "$$\n",
    "\n",
    "If we replace the $i^{th}$ column of $A$ with the solution $B$ and take the determinant we will denote it as $|A|_i$. Using Cramer's rule we have $a_i = \\frac{|A|_i}{|A|}$. Thus we can find the values of ${x,y,z}$ equal $\\frac{1}{2},1,\\frac{3}{2}$ respectively.\n",
    "\n",
    "This example was taken from [here](https://mathcs.clarku.edu/~djoyce/ma122/determinants.pdf)"
   ]
  },
  {
   "cell_type": "markdown",
   "id": "90eabb2d-5bff-45c1-8508-ae20176ecd9b",
   "metadata": {},
   "source": [
    "### 2.2.2. Geometry\n",
    "Geometrically the determinant calculates the space created by a set of vectors. In two dimensions it gives an area. In three dimensions volumne.\n",
    "\n",
    "https://mathcs.clarku.edu/~djoyce/ma122/determinants.pdf"
   ]
  },
  {
   "cell_type": "markdown",
   "id": "cfd15e05-84b8-4b7f-94ee-47cf88e90d93",
   "metadata": {},
   "source": [
    "### 2.2.3. Special Cases\n",
    "\n",
    "There are a number of special cases which arise when dealing with block matrices. They are detailed on [wikipedia](https://en.wikipedia.org/wiki/Determinant#Block_matrices) and I will not be going into all of them in detail. I will only mention those I have needed in my applied studdies.\n",
    "\n",
    "#### 2.2.3.1. Invertable Diagonals Of A Square Matrix\n",
    "Given a square matrix\n",
    "\n",
    "$$ M = \\begin{bmatrix}A & B \\\\ C & D \\end{bmatrix}$$\n",
    "\n",
    "We have the determiniant proven to be\n",
    "\n",
    "$$ |M| = |A||D-CA^{-1}B| $$\n",
    "\n",
    "Which you will notice employs a [schur compliment](./Schur%20Compliments.ipynb) $S_{M/A}$ of $A$ with respect to $M$ such that\n",
    "\n",
    "$$ |M| = |A||S_{M/A}| $$"
   ]
  },
  {
   "cell_type": "markdown",
   "id": "ec7a0014-c98e-4be1-8458-9f7b6c03ddb2",
   "metadata": {},
   "source": [
    "# 3. Cofactor Matrix\n",
    "The cofactor matrix $C_M$  is a matric composed of cofactors calculated from another matrix $M$. The cofactor $c_{M:i,j}$ (sometimes also referred to as a matrix of cofactors or comatrix) of each sumbartix $m_{i:j}$ in a matrix $M$ can be calculated using the following formula:\n",
    "\n",
    "$$ cofactor(M) = \\begin{bmatrix}\n",
    "c_{M:1,1} & \\cdots & c_{M:1,n} \\\\\n",
    "\\vdots & \\ddots & \\vdots \\\\\n",
    "c_{M:n,1} & \\cdots & c_{M:n,n}\n",
    "\\end{bmatrix}$$\n",
    "\n",
    "$$c_{M:i,j} = (-1)^{i+j}M_{[i,j]}  $$\n",
    "\n",
    "Where $M_{[i,j]}$ is the determinant of the submatrix formed by deleting row $i$ and column $j$ from the matrix $M$.\n",
    "\n",
    "https://byjus.com/maths/cofactor/\n",
    "\n",
    "https://en.wikipedia.org/wiki/Minor_(linear_algebra)#Inverse_of_a_matrix"
   ]
  },
  {
   "cell_type": "markdown",
   "id": "099d3ef4-c12f-440b-9343-837ee183be0d",
   "metadata": {},
   "source": [
    "## 3.1. Examples\n",
    "\n",
    "Given:\n",
    "\n",
    "$$ M = \\begin{bmatrix}\n",
    "1 & 2 & 3 \\\\\n",
    "4 & 5 & 6 \\\\\n",
    "7 & 8 & 9\n",
    "\\end{bmatrix} $$\n",
    "\n",
    "We compute $c_{M:1,1}$ the cofactor as:\n",
    "\n",
    "$$c_{M:1,1} = (-1)^{1+1}M_{[1,1]}  $$\n",
    "\n",
    "$$ = (-1)^{2} det\\left( \\begin{bmatrix}\n",
    "5 & 6 \\\\\n",
    "8 & 9\n",
    "\\end{bmatrix} \\right)  $$\n",
    "\n",
    "$$ = (-1)^{2} * [(5 \\times 9) - (8 \\times 6)] $$\n",
    "\n",
    "$$ = [45 - 48] $$\n",
    "\n",
    "$$ = -3 $$\n",
    "\n",
    "And thus the cofactor matrix is detived as:\n",
    "\n",
    "$$ C_M = \\begin{bmatrix}\n",
    "-3 & 6 & -3 \\\\\n",
    "6 & -12 & 6 \\\\\n",
    "-3 & 6 & -3\n",
    "\\end{bmatrix} $$\n",
    "\n",
    "https://www.emathhelp.net/calculators/linear-algebra/cofactor-matrix-calculator/"
   ]
  },
  {
   "cell_type": "code",
   "execution_count": null,
   "id": "7feb748f-8e48-4f82-90a0-8a7640bcec40",
   "metadata": {},
   "outputs": [],
   "source": []
  },
  {
   "cell_type": "code",
   "execution_count": null,
   "id": "35a11d41-0220-4112-8f3e-295c5384cc8e",
   "metadata": {},
   "outputs": [],
   "source": []
  },
  {
   "cell_type": "markdown",
   "id": "c8229daa-7c8c-4b67-85d2-571b20495bae",
   "metadata": {},
   "source": [
    "# 4. Adjugate Matrices\n",
    "\n",
    "The adjugate of a square matrix $adg \\ M$ is the transpose of its cofactor matrix $C_M^T$ of the matrix $M$.\n",
    "\n",
    "$$ adj \\ M = C_M^T $$\n"
   ]
  },
  {
   "cell_type": "markdown",
   "id": "360f3501-371e-4bfc-b241-aa03efe7299d",
   "metadata": {},
   "source": [
    "# 5. Inverse Matrices\n",
    "\n",
    "An inverse matrix is the matrix analog of reciprocals for numbers. Inverse matrices allow us to perform division."
   ]
  },
  {
   "cell_type": "markdown",
   "id": "e61e2bfd-ec17-4655-a5f0-313fdd1157f6",
   "metadata": {},
   "source": [
    "## 5.1. Properties\n",
    "### 5.1.1. Identity\n",
    "Converniently, the martix inverse has the same properties as the reciprocal:\n",
    "\n",
    "$$ (M^{-1})^{-1} = M $$\n",
    "$$ M \\times M^{-1} = I $$\n",
    "\n",
    "The caveat is that the identity matrix $I$ is the matrix equivalent of 1."
   ]
  },
  {
   "cell_type": "markdown",
   "id": "51827cd7-4f07-4bf9-b550-eb425ce11437",
   "metadata": {},
   "source": [
    "### 5.1.2. Inverse Product\n",
    "\n",
    "Let $A$ and $B$ be invertible square matrices.\n",
    "\n",
    "$$(AB)^{-1} = B^{-1}A^{-1}$$\n",
    "\n",
    "Proof:\n",
    "\n",
    "If $B^{-1}A{-1}$ is the inverse of $AB$ then we need to prove that their product is the identity matrix.\n",
    "\n",
    "We assume that\n",
    "\n",
    "$$ (B^{-1}A{-1}) AB = I$$\n",
    "\n",
    "By the commutative property of matrix multiplication we have\n",
    "\n",
    "$$ B^{-1}(A^{-1} A)B = I$$\n",
    "$$ B^{-1}(I)B  = I$$\n",
    "$$ B^{-1}B  = I$$\n",
    "$$ I  = I$$\n",
    "\n",
    "The same can be prove if we rearange the order\n",
    "\n",
    "We assume that\n",
    "\n",
    "$$ AB(A^{-1}B^{-1}) = I$$\n",
    "\n",
    "By the commutative property of matrix multiplication we have\n",
    "\n",
    "$$ AB(B^{-1}A^{-1}) = I$$\n",
    "$$ A(BB^{-1})A^{-1} = I$$\n",
    "$$ A(I)A^{-1} = I$$\n",
    "$$ AA^{-1} = I$$\n",
    "$$ I = I$$"
   ]
  },
  {
   "cell_type": "code",
   "execution_count": null,
   "id": "8068b20b-c9f6-439b-9ac4-d79c3af56c9f",
   "metadata": {},
   "outputs": [],
   "source": []
  },
  {
   "cell_type": "code",
   "execution_count": null,
   "id": "2bced332-896e-459e-86df-0ed6687059b3",
   "metadata": {},
   "outputs": [],
   "source": []
  },
  {
   "cell_type": "markdown",
   "id": "be442d83-b1dc-465e-885b-9c504ed8667d",
   "metadata": {},
   "source": [
    "## 5.2. Calculation\n",
    "There are several ways to calculate the inverse of a matrix.\n",
    "\n",
    "### 5.2.1. Standard Calculation\n",
    "\n",
    "\n",
    "The inverse of a matrix $M$ is denoted as:\n",
    "\n",
    "$$ inverse(M) = M^{-1} $$\n",
    "\n",
    "And is calculated by multiplying the reciprocal of the determinant $\\frac{1}{|M|}$ by the adjugate (transpose of the cofactor matrix) $C_M^T$ for a given matrix.\n",
    "\n",
    "$$ M^{-1} = \\frac{1}{|M|}C_M^T$$\n",
    "\n",
    "Note that only some square matrices can be inverted. A matrix that cannot be inverted (ie. the inverse cannot be found) is referred to singular or invertible.\n",
    "\n",
    "https://en.wikipedia.org/wiki/Invertible_matrix"
   ]
  },
  {
   "cell_type": "markdown",
   "id": "dbd6ef62-7137-4415-b25f-2798f9711c65",
   "metadata": {},
   "source": []
  },
  {
   "cell_type": "markdown",
   "id": "fa8e7009-8ece-4819-b433-365c87cd6466",
   "metadata": {},
   "source": []
  },
  {
   "cell_type": "markdown",
   "id": "ffebe0b5-3ef9-479c-ae9f-7427a9ae1184",
   "metadata": {},
   "source": []
  },
  {
   "cell_type": "markdown",
   "id": "1d9abd34-3a53-49b8-ab4b-a457f6ab47ed",
   "metadata": {},
   "source": []
  },
  {
   "cell_type": "markdown",
   "id": "8cce9f1b-9105-498d-8998-98dbb43ff91a",
   "metadata": {},
   "source": []
  },
  {
   "cell_type": "markdown",
   "id": "7c1a8488-1cad-463e-8505-ed084a068701",
   "metadata": {},
   "source": []
  },
  {
   "cell_type": "markdown",
   "id": "f51e2835-22fd-4bc1-9ed8-ddcc1ae6f2dc",
   "metadata": {},
   "source": []
  },
  {
   "cell_type": "markdown",
   "id": "1fed09c7-4aad-47b3-958c-8cad27296681",
   "metadata": {},
   "source": []
  },
  {
   "cell_type": "code",
   "execution_count": null,
   "id": "fcbb828f-6762-4375-9a1e-429247dbd270",
   "metadata": {},
   "outputs": [],
   "source": []
  },
  {
   "cell_type": "code",
   "execution_count": null,
   "id": "91c03e00-a6eb-4c7e-8321-4cf2fcd24c10",
   "metadata": {},
   "outputs": [],
   "source": []
  },
  {
   "cell_type": "markdown",
   "id": "45de03b7-7c8b-4ac9-84cd-0037d55d20c7",
   "metadata": {},
   "source": [
    "### 5.2.2. Blockwise Inversion\n",
    "\n",
    "Blockwise inversion allows us to inverse a matrix by inverting its submatrices. Block Inversion can be performed by using the [Schur Compliment](./Schur%20Compliments.ipynb).\n",
    "\n",
    "This alternate technique for performing inversion was created by Hanz Bolt in 1923 and generalized and proven by Tadeusz Banachiewicz in 1937."
   ]
  },
  {
   "cell_type": "markdown",
   "id": "a2f29412-a88d-42a7-989e-f7581c0e0411",
   "metadata": {},
   "source": [
    "Given a matrix $M$ such that \n",
    "\n",
    "$$ M = \\begin{bmatrix} A & B \\\\ C & D \\end{bmatrix} $$\n",
    "\n",
    "We can invert $M$ by deriving the schur compliment and plugging it into a standard formula"
   ]
  },
  {
   "cell_type": "markdown",
   "id": "981c8903-07b5-4239-8bca-16cdbf62f1b2",
   "metadata": {},
   "source": [
    "#### 5.2.2.1. Method 1: Start at the top\n",
    "\n",
    "If we derive the Schur Compliment of $M$ with respect to $D$ we have\n",
    "\n",
    "$$S_{M/D}= A -BD^{-1}C$$\n",
    "\n",
    "$$ M^{-1} = \\begin{bmatrix}\n",
    "S_{M/D}^{-1} & -S_{M/D}^{-1}BD^{-1}\\\\\n",
    "-D^{-1}CS_{M/D}^{-1} & D^{-1}+D^{-1}CS_{M/D}^{-1}BD^{-1}\n",
    "\\end{bmatrix}$$\n",
    "\n",
    "$$  = \\begin{bmatrix}\n",
    "(A − BD^{−1}C)^{-1} & -(A − BD^{−1}C)^{-1}BD^{-1}\\\\\n",
    "-D^{-1}C(A − BD^{−1}C)^{-1} & D^{-1}+D^{-1}C(A − BD^{−1}C)^{-1}BD^{-1}\n",
    "\\end{bmatrix}$$\n",
    "\n",
    "Note: This method requires $D$ and $A − BD^{−1}C$ are nonsingular"
   ]
  },
  {
   "cell_type": "markdown",
   "id": "690fa641-a765-482a-a7e6-fada8edb6b2f",
   "metadata": {},
   "source": [
    "#### 5.2.2.2. Method 2: Start at the bottom\n",
    "\n",
    "If we derive the Schur Compliment of $M$ with respect to $A$ we have\n",
    "\n",
    "$$ S_{M/A} = D-CA^{-1}B $$\n",
    "\n",
    "$$ M^{-1} = \\begin{bmatrix}\n",
    "A^{-1} + A^{-1}BS_{M/A}^{-1}CA^{-1} & -A^{-1}BS_{M/A}^{-1}\\\\\n",
    "-S_{M/A}^{-1}CA^{-1} & S_{M/A}^{-1}\n",
    "\\end{bmatrix}$$\n",
    "\n",
    "$$ M^{-1} = \\begin{bmatrix}\n",
    "A^{-1} + A^{-1}B(D-CA^{-1}B)^{-1}CA^{-1} & -A^{-1}B(D-CA^{-1}B)^{-1}\\\\\n",
    "-(D-CA^{-1}B)^{-1}CA^{-1} & (D-CA^{-1}B)^{-1}\n",
    "\\end{bmatrix}$$\n",
    "\n",
    "This strategy is particularly advantageous if $A$ is diagonal and $D − CA^{−1}B$ (the Schur complement of $A$) is a small matrix, since they are the only matrices requiring inversion.\n",
    "\n",
    "Note: It requires that $A$ and $D − CA^{−1}B$ must be nonsingular."
   ]
  },
  {
   "cell_type": "markdown",
   "id": "75c3b8d3-e1ef-4234-a11b-3323ebded645",
   "metadata": {},
   "source": [
    "#### 5.2.2.3 Connection With Woodbury Identity Matrix\n",
    "If we create an equality between the inverted matrices from method 1 and method 2, we can simplify the equality to derive a relationship between the two schur compliments\n",
    "\n",
    "$$ D^{-1} + D^{-1}C(A-BD^{-1}C)^{-1}BD^{-1}= (D-CA^{-1}B)^{-1}$$\n",
    "\n",
    "$$ D^{-1} + D^{-1}CS_{M/D}^{-1}BD^{-1}= S_{M/A}^{-1}$$"
   ]
  },
  {
   "cell_type": "markdown",
   "id": "46ade06c-89f7-45ae-a3b8-9db0da20ecc2",
   "metadata": {},
   "source": [
    "## References\n",
    "- https://en.wikipedia.org/wiki/Invertible_matrix#Blockwise_inversion\n",
    "- https://www.cs.ubc.ca/~murphyk/Teaching/CS340-Fall07/reading/gauss.pdf"
   ]
  }
 ],
 "metadata": {
  "kernelspec": {
   "display_name": "Python 3",
   "language": "python",
   "name": "python3"
  },
  "language_info": {
   "codemirror_mode": {
    "name": "ipython",
    "version": 3
   },
   "file_extension": ".py",
   "mimetype": "text/x-python",
   "name": "python",
   "nbconvert_exporter": "python",
   "pygments_lexer": "ipython3",
   "version": "3.6.8"
  }
 },
 "nbformat": 4,
 "nbformat_minor": 5
}
