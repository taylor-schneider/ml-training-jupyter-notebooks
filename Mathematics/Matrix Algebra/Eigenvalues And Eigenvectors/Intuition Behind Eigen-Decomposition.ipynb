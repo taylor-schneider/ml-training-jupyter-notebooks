{
 "cells": [
  {
   "cell_type": "markdown",
   "id": "94239b27-32b1-421a-8cad-53d165829a00",
   "metadata": {},
   "source": [
    "# Overview\n",
    "In this notebook we will gain an understanding of how principal component analysis works by gaining some intuition about how eigenvalues and eigenvectors work. We will do our best to avoid complicated mathematical equations until we have established a basic understandsing. This notebook will not explain the complete PCA process but instead establishes a foundational prerequisite understanding.\n",
    "\n",
    "This notebook assumes you have an understanding of the following concepts:\n",
    "- Matrix Algebra\n",
    "- Basic Statistics (Mean, Variance, Covariance)\n",
    "- Normalization (Standardization)\n",
    "- Regression analysis (Ordinary Least Squares)\n",
    "\n",
    "**If you have not yet done so, consider reading the prerequisite material listed in the [README](README.md).**"
   ]
  },
  {
   "cell_type": "markdown",
   "id": "ab718e66-cb0a-4026-84fd-8fe1ee9d3f84",
   "metadata": {},
   "source": [
    "# 1. Generate Two Normal Random Variables\n",
    "Rather than load an actual data set we will be working with manufactured data. We are dealing with a lot of theoretical concepts and we will want to be able to intentionally select and contrive various circomstances to facilitate our exploration of the concepts."
   ]
  },
  {
   "cell_type": "code",
   "execution_count": 3,
   "id": "1372a816-ab55-430e-b0d2-3ca472f68441",
   "metadata": {},
   "outputs": [],
   "source": [
    "# Import python libraries used in this notebook\n",
    "import numpy\n",
    "import pandas\n",
    "from matplotlib import pyplot"
   ]
  },
  {
   "cell_type": "code",
   "execution_count": 111,
   "id": "7588a7f0-f061-4fe1-97d7-a6334e908c6a",
   "metadata": {},
   "outputs": [],
   "source": [
    "# The seed needs to be set in the same frame as the random call...\n",
    "# I do not know why but there you go\n",
    "numpy.random.seed(42)\n",
    "X1 = numpy.random.randn(100)\n",
    "X2 = numpy.random.randn(100)"
   ]
  },
  {
   "cell_type": "markdown",
   "id": "e8a42baa-81b8-4f46-bd3f-d8d56b6587c2",
   "metadata": {},
   "source": [
    "Plot them against eachother"
   ]
  },
  {
   "cell_type": "code",
   "execution_count": 112,
   "id": "f78957fc-5f60-4205-802b-ea573c1f9175",
   "metadata": {
    "tags": []
   },
   "outputs": [
    {
     "data": {
      "image/png": "[encoded data removed]",
      "text/plain": [
       "<Figure size 432x288 with 1 Axes>"
      ]
     },
     "metadata": {
      "needs_background": "light"
     },
     "output_type": "display_data"
    }
   ],
   "source": [
    "pyplot.scatter(X1, X2);"
   ]
  },
  {
   "cell_type": "markdown",
   "id": "89da3a13-3ddc-4a7f-9382-5349b89e618f",
   "metadata": {},
   "source": [
    "Notice, the covariance matrix is approximately equal to $I$ the identity matrix:\n",
    "\n",
    "$$ I = \\begin{bmatrix}\n",
    "1 & 0 \\\\\n",
    "0 & 1\n",
    "\\end{bmatrix}\n",
    "$$"
   ]
  },
  {
   "cell_type": "code",
   "execution_count": 4,
   "id": "fb5844dd-6a0d-4368-acaa-81cce7bebbb9",
   "metadata": {},
   "outputs": [
    {
     "name": "stdout",
     "output_type": "stream",
     "text": [
      "[[0.79 0.08]\n",
      " [0.08 0.88]]\n"
     ]
    }
   ],
   "source": [
    "print(numpy.cov(X1, X2).round(2))"
   ]
  },
  {
   "cell_type": "markdown",
   "id": "713988fa-390b-46b3-a5dd-67aff6895ccf",
   "metadata": {},
   "source": [
    "As the number of simulations increaes, the covariance matrix will converge to the identity matrix."
   ]
  },
  {
   "cell_type": "markdown",
   "id": "6480190b-d768-4668-899c-245ba5e3c1f5",
   "metadata": {},
   "source": [
    "## 1.1. Introduce A Trend In the Data\n",
    "Working with two normal random variables is too trivial. The system parameters are known and rather simple. Instead, we will transform these random variables by introducing a linear trend into the data. We can induce this linear pattern by multiplying by a new covariance matrix.\n",
    "\n",
    "**Note**: Thinking of the covariance matrix as a transformation is an important but tricky concept we will revisit later in this notebook.\n",
    "\n",
    "We can leverage matrix algebra to introduce the trend. Specifically we will multiply our data $X$ by a covariance matrix $\\Sigma$ which will allow us to increase the variance in a single dimension or pair of dimensions. The resulting matrix $A$ will thus yield a new covariance scaled proportionately by the $\\Sigma$ matrix.\n",
    "\n",
    "We can write this in matrix form as:\n",
    "\n",
    "$$ A = X \\Sigma $$"
   ]
  },
  {
   "cell_type": "markdown",
   "id": "ed42e312-aacd-437b-a1f9-d4247f3bff44",
   "metadata": {},
   "source": [
    "### 1.1.1. An Example With No Covariance\n",
    "In this example, we multiply by a covarianc matrix with zeros in the non-diagonal spaces. The idea being that we will introduce variance into the X and Y axis, but not simultaneously. In this case we will effectively multiiply every element in $X_1$ by 5."
   ]
  },
  {
   "cell_type": "code",
   "execution_count": 126,
   "id": "27d70e56-6e7c-4085-bc9f-2a6883f448af",
   "metadata": {},
   "outputs": [
    {
     "data": {
      "image/png": "[encoded data removed]",
      "text/plain": [
       "<Figure size 432x288 with 1 Axes>"
      ]
     },
     "metadata": {
      "needs_background": "light"
     },
     "output_type": "display_data"
    }
   ],
   "source": [
    "Sigma = [[5, 0],\n",
    "         [0, 1]]\n",
    "\n",
    "A = numpy.column_stack((X1, X2))\n",
    "X = A @ Sigma\n",
    "\n",
    "fig, ax = pyplot.subplots()\n",
    "ax.scatter(X[:, 0], X[:, 1]);\n",
    "ax.set_xlim([-15, 15])\n",
    "ax.set_ylim([-15, 15]);"
   ]
  },
  {
   "cell_type": "markdown",
   "id": "1976108b-0004-4dcc-bf4a-0fe8332daa5d",
   "metadata": {},
   "source": [
    "We can see above that the data is stretched along the X axis but not the y axis.\n",
    "\n",
    "We can confirm the data was stretched by the matrix as folows:"
   ]
  },
  {
   "cell_type": "code",
   "execution_count": 131,
   "id": "2da7579a-1d53-402c-b660-f93e1cfd7d0f",
   "metadata": {},
   "outputs": [
    {
     "data": {
      "text/plain": [
       "True"
      ]
     },
     "execution_count": 131,
     "metadata": {},
     "output_type": "execute_result"
    }
   ],
   "source": [
    "all(numpy.equal(X1 * 5, X[:, 0]))"
   ]
  },
  {
   "cell_type": "markdown",
   "id": "d624e618-42b9-49f3-8c80-efd8ef07b180",
   "metadata": {},
   "source": [
    "We also notice that it doesnt appear that $X_1$ and $X_2$ do not vary together. There is no linear trend such that $X_1$ grows while $X_2$ grows or one growns while another shrinks.\n",
    "\n",
    "Mathematically this becomes clear by looking at the covariance matrix. We see the non-diagonals are closer to zero rather than one."
   ]
  },
  {
   "cell_type": "code",
   "execution_count": 77,
   "id": "3629cade-28c8-45d5-bb4d-23738a33add2",
   "metadata": {},
   "outputs": [
    {
     "name": "stdout",
     "output_type": "stream",
     "text": [
      "[[19.78539199  0.37761265]\n",
      " [ 0.37761265  0.87738822]]\n"
     ]
    }
   ],
   "source": [
    "print(numpy.cov(X.T))"
   ]
  },
  {
   "cell_type": "markdown",
   "id": "8dc0ae9a-f639-4b01-9780-7b61a9324ab4",
   "metadata": {},
   "source": [
    "While we didn't intend to introduce any co-linearity into the system, it would appear from the resulting covariance matrix that we did. This is because the scale of the data increased (we multiplied by 5).By multiplying by a scalar we did not change the shape of the data, only the average deviation between the data and its mean. Thus the squared deviations have changed.\n",
    "\n",
    "We can also see that the resulting covariance matrix is not proportional to the transformation matrix. We specified a 5 for $\\sigma_X$ but see the result is such that $\\sigma_X \\approx 19.78$. This is because the equation for the variance is a sub-of-squares an non-trivial."
   ]
  },
  {
   "cell_type": "markdown",
   "id": "2dfe3dac-94aa-475b-a320-c1b899066e7d",
   "metadata": {},
   "source": [
    "### 1.1.2. An Example With Covariance\n",
    "Now that we looked at the simpler case, lets look at another which is slighly more complicated. If we introduce a non zero covariance we can see that the linear trend being induced can span multiple dimensions."
   ]
  },
  {
   "cell_type": "code",
   "execution_count": 132,
   "id": "adbbcfb2-8b50-4176-97c4-4e515affb25f",
   "metadata": {},
   "outputs": [
    {
     "data": {
      "image/png": "[encoded data removed]",
      "text/plain": [
       "<Figure size 432x288 with 1 Axes>"
      ]
     },
     "metadata": {
      "needs_background": "light"
     },
     "output_type": "display_data"
    }
   ],
   "source": [
    "new_cov_2 = [[5, 1],\n",
    "             [1, 1]]\n",
    "\n",
    "tmp = A @ new_cov_2\n",
    "\n",
    "fig, ax = pyplot.subplots()\n",
    "ax.scatter(tmp[:, 0], tmp[:, 1]);\n",
    "ax.set_xlim([-15, 15])\n",
    "ax.set_ylim([-15, 15]);"
   ]
  },
  {
   "cell_type": "markdown",
   "id": "9ab18fbd-6abb-4881-86d7-91ecad4cc377",
   "metadata": {},
   "source": [
    "If we wanted a negative linear trend we would have:"
   ]
  },
  {
   "cell_type": "code",
   "execution_count": 133,
   "id": "7b20419f-4f32-441b-bf46-160d3a89faf2",
   "metadata": {},
   "outputs": [
    {
     "data": {
      "image/png": "[encoded data removed]",
      "text/plain": [
       "<Figure size 432x288 with 1 Axes>"
      ]
     },
     "metadata": {
      "needs_background": "light"
     },
     "output_type": "display_data"
    }
   ],
   "source": [
    "new_cov_2 = [[5, -1],\n",
    "             [-1, 1]]\n",
    "\n",
    "tmp = A @ new_cov_2\n",
    "\n",
    "fig, ax = pyplot.subplots()\n",
    "ax.scatter(tmp[:, 0], tmp[:, 1]);\n",
    "ax.set_xlim([-15, 15])\n",
    "ax.set_ylim([-15, 15]);"
   ]
  },
  {
   "cell_type": "markdown",
   "id": "bfa88f8b-c635-45a7-9b6c-39abcc27dd28",
   "metadata": {},
   "source": [
    "# 2. Standardize The Data\n",
    "There are several reasons to standardize the data in the context of PCA. \n",
    "\n",
    "The first is that we want to remove bias from the variables of larger scale; The algorithm is based on linear distance; larger variables will have more variance, and thus seem more important. If we normalize our variables, this bias is neutralized (assuming no outliers)."
   ]
  },
  {
   "cell_type": "markdown",
   "id": "44dff0ce-44aa-4eb0-a7a1-6c74178f60fb",
   "metadata": {},
   "source": [
    "We can compare our scaled data with our original data"
   ]
  },
  {
   "cell_type": "code",
   "execution_count": 45,
   "id": "46b1368c-cb75-4be5-9b5f-5da614c58646",
   "metadata": {
    "tags": []
   },
   "outputs": [
    {
     "data": {
      "image/png": "[encoded data removed]",
      "text/plain": [
       "<Figure size 576x288 with 2 Axes>"
      ]
     },
     "metadata": {
      "needs_background": "light"
     },
     "output_type": "display_data"
    }
   ],
   "source": [
    "fig, ax = pyplot.subplots(1, 2, figsize=(8,4))\n",
    "ax[0].scatter(X[0], X[1]);\n",
    "ax[0].set_xlim([-5, 5])\n",
    "ax[0].set_ylim([-5, 5]);\n",
    "ax[0].set_title(\"Original\")\n",
    "ax[1].scatter(Z[0], Z[1]);\n",
    "ax[1].set_xlim([-5, 5])\n",
    "ax[1].set_ylim([-5, 5]);\n",
    "ax[1].set_title(\"Standardized\");"
   ]
  },
  {
   "cell_type": "markdown",
   "id": "460f5f3c-92f1-474d-91a7-73e973f10981",
   "metadata": {
    "tags": []
   },
   "source": [
    "The next reason is that by standardizing the data set we center the data at the origin. This is a convenient circomstance which makes our calculations much easier.\n",
    "\n",
    "Additionally, the standardized z-score is a component of the correlation equation. As we will see, PCA can be performed on the correlation matrix or the covariance matrix. If we operate on the former, we simply need to square the matrix to arrive at our staging point.\n",
    "\n",
    "$$\\rho = \\frac{1}{n - 1} \\left(\\frac{X- \\bar X}{\\sigma_X} \\right) \\left( \\frac{X - \\bar X}{\\sigma_X} \\right)^T = ZZ^T$$\n",
    "\n",
    "We prove that here:"
   ]
  },
  {
   "cell_type": "code",
   "execution_count": 134,
   "id": "e497a7fd-9c18-452e-9915-eff9e0fe2055",
   "metadata": {
    "tags": []
   },
   "outputs": [
    {
     "data": {
      "text/plain": [
       "True"
      ]
     },
     "execution_count": 134,
     "metadata": {},
     "output_type": "execute_result"
    }
   ],
   "source": [
    "# Calculate correlation by hand using the formula above\n",
    "X = pandas.DataFrame(X)\n",
    "X_bar = X.mean()\n",
    "X_sigma = X.std()\n",
    "Z = (X - X_bar) / X_sigma\n",
    "n = Z.shape[0]\n",
    "rho_1 = pandas.DataFrame((1/n) * Z.values.T @ Z.values)\n",
    "\n",
    "# Calculate it using the builtin function\n",
    "rho_2 = X.corr()\n",
    "\n",
    "# Ensure they are about equal (accounting for rounding errors)\n",
    "rho_1.round().equals(rho_2.round())"
   ]
  },
  {
   "cell_type": "markdown",
   "id": "68c77b07-020f-48b2-99eb-9c8ffcd3f0be",
   "metadata": {},
   "source": [
    "# 3. Decompose The Covariance Matrix\n",
    "\n",
    "At the heart of PCA is eigen-decomposition where we decompose a square semi-definite positive matrix into a set of eigenvalues $\\Lambda = \\lambda I$ and eigenvectors $Q$.\n",
    "\n",
    "As stated earlier, this eigen-decomposition can be performed on the covariance or correlation matrix.\n",
    "\n",
    "$$ \\Sigma = Q \\Lambda Q^T $$\n",
    "\n",
    "We will see that the eigenvectors and eigenvalues indicate the direction of the line of best fit and the magnitude of the variance captured by such best fit line respectively. As we will see, the basic idea is that the eigenvectors will become the new axes (basis) for the data set. This provides a more efficient means of describing  the behavior of the data.\n",
    "\n",
    "In some literature the eigenvectors are also referred to as \"rotation vectors\". As we will see, they rotate the basis vector so that the variance is maximized."
   ]
  },
  {
   "cell_type": "markdown",
   "id": "4f6489dd-390d-4ed5-b353-ebcbb29c0884",
   "metadata": {},
   "source": [
    "## 3.1. Simple Case: No Covariance\n",
    "When dealing with a data set that does not exibit covariance we should realize that the line of best fit will be pointing in the same direction as the axis pair (basis pair). As such the eigenvectors will be an identity matrix."
   ]
  },
  {
   "cell_type": "code",
   "execution_count": 135,
   "id": "6633f5f5-59fe-4492-a825-60e17266722c",
   "metadata": {},
   "outputs": [
    {
     "name": "stdout",
     "output_type": "stream",
     "text": [
      "[5. 1.]\n",
      "\n",
      "[[1. 0.]\n",
      " [0. 1.]]\n"
     ]
    }
   ],
   "source": [
    "Sigma = numpy.array([[5, 0],\n",
    "                     [0, 1]])\n",
    "\n",
    "lam, Q = numpy.linalg.eig(Sigma)\n",
    "\n",
    "print(lam)\n",
    "print(\"\")\n",
    "print(Q)"
   ]
  },
  {
   "cell_type": "markdown",
   "id": "c64fe85b-6bb6-48db-82bb-6baf27ef8332",
   "metadata": {},
   "source": [
    "The lambda is also equivalent to the L^2 Norm of the eigenvector."
   ]
  },
  {
   "cell_type": "code",
   "execution_count": 114,
   "id": "a55ddb44-808a-41e2-9ff3-b9c65c0be775",
   "metadata": {},
   "outputs": [
    {
     "name": "stdout",
     "output_type": "stream",
     "text": [
      "5.0\n",
      "1.0\n"
     ]
    }
   ],
   "source": [
    "print(numpy.linalg.norm(Sigma[0], ord=2))\n",
    "print(numpy.linalg.norm(Sigma[1], ord=2))"
   ]
  },
  {
   "cell_type": "markdown",
   "id": "c3a8d330-7397-4352-99d3-6050b41785ee",
   "metadata": {},
   "source": [
    "## 3.2. Non-Simple Case: Non-Zero Covariance\n",
    "In the non trival case the lambdas will not equal the diagonals of the covariance matrix. The reason is that some of the variance in the system is contained outside the diagonals of the covariance matrix. As such the lambda will be inflated to account for the extra variance being explained by the eigenvector (line of best fit). The variance in the system will equal to the sum of the lambdas, and thus they will can not equal the diagonals of the covariance matrix."
   ]
  },
  {
   "cell_type": "code",
   "execution_count": 136,
   "id": "84bd6e99-3401-4138-bd33-f65bc172c212",
   "metadata": {},
   "outputs": [
    {
     "name": "stdout",
     "output_type": "stream",
     "text": [
      "[5. 1.]\n",
      "\n",
      "[[ 0.70710678 -0.70710678]\n",
      " [ 0.70710678  0.70710678]]\n"
     ]
    }
   ],
   "source": [
    "Sigma = [[3, 2],\n",
    "         [2, 3]]\n",
    "Sigma = numpy.array(Sigma)\n",
    "\n",
    "lam, Q = numpy.linalg.eig(Sigma)\n",
    "\n",
    "print(lam)\n",
    "print(\"\")\n",
    "print(Q)"
   ]
  },
  {
   "cell_type": "markdown",
   "id": "7c5c6886-022b-4344-ae71-f93234a24f9d",
   "metadata": {},
   "source": [
    "# 4. Best fit Lines Using Eigen-decomposition"
   ]
  },
  {
   "cell_type": "markdown",
   "id": "608577ca-b49f-4eb5-a576-df679efefd9f",
   "metadata": {},
   "source": [
    "## 4.1. Calculating A List Of Best Fit Using OLS\n",
    "Ordinary Least Squares is a classical example of fitting a best fit line to the data. \n",
    "\n",
    "We can take a shortcut and arrive at the following solution to derive the regression coefficients:\n",
    "\n",
    "$$ \\hat \\beta = (X^T X)^{-1} X^T Y $$"
   ]
  },
  {
   "cell_type": "code",
   "execution_count": 176,
   "id": "5b2b57f5-4869-40f8-986b-280fb80c5cb1",
   "metadata": {},
   "outputs": [
    {
     "data": {
      "image/png": "[encoded data removed]",
      "text/plain": [
       "<Figure size 288x288 with 1 Axes>"
      ]
     },
     "metadata": {
      "needs_background": "light"
     },
     "output_type": "display_data"
    }
   ],
   "source": [
    "# Create our mock data set\n",
    "Sigma = [[5, 1],\n",
    "         [1, 2]]\n",
    "\n",
    "A = numpy.column_stack((X1, X2))\n",
    "X = A @ Sigma\n",
    "\n",
    "# Create a column vector to make the matrix algebra work in numpy\n",
    "x = X[:, 0][:, None]\n",
    "y = X[:, 1][:, None]\n",
    "\n",
    "# Calculate our regression coefficients\n",
    "beta = numpy.linalg.inv(x.T @ x) @ x.T @ y\n",
    "beta = beta[0][0]\n",
    "\n",
    "# Calculate the values for our best fit line\n",
    "y_hat = beta * x\n",
    "\n",
    "# Graph the results\n",
    "fig, ax = pyplot.subplots(1, 1, figsize=(4,4))\n",
    "ax.scatter(x, y);\n",
    "ax.plot(x, y_hat, c='black');\n",
    "ax.set_xlim([-15, 15])\n",
    "ax.set_ylim([-15, 15])\n",
    "ax.set_title(\"Original\");"
   ]
  },
  {
   "cell_type": "markdown",
   "id": "b664cb5e-dff6-4d17-9d7d-c66e199fde08",
   "metadata": {},
   "source": [
    "## 4.2. Calculating Line Of Best Fit Using Eigen-decomposition\n",
    "We will see how the eigendecomposition can calculate the lines of best fit. As mentioned, the eigenvector will give the direction of the best fit line. The eigenvalue will give the variance captured by the best fit line. Realizing that $\\sqrt{\\lambda}=\\sigma$, we can multiply it by three and realize a segment which will account for 99.7% of the values within the dimension."
   ]
  },
  {
   "cell_type": "code",
   "execution_count": 177,
   "id": "c7f3fa5b-742e-4791-b188-e77dbdf756f9",
   "metadata": {},
   "outputs": [
    {
     "data": {
      "image/png": "[encoded data removed]",
      "text/plain": [
       "<Figure size 288x288 with 1 Axes>"
      ]
     },
     "metadata": {
      "needs_background": "light"
     },
     "output_type": "display_data"
    }
   ],
   "source": [
    "trend = [[5, 1],\n",
    "         [1, 2]]\n",
    "\n",
    "A = numpy.column_stack((X1, X2))\n",
    "X = A @ trend\n",
    "\n",
    "Sigma = numpy.cov(X.T)\n",
    "lam, Q = numpy.linalg.eig(Sigma)\n",
    "Lam = lam * numpy.identity(2)\n",
    "\n",
    "S = numpy.sqrt(Lam)\n",
    "T = Q @ S\n",
    "Y = X @ T\n",
    "\n",
    "fig, ax = pyplot.subplots(1, 1, figsize=(4,4))\n",
    "ax.scatter(X[:, 0], X[:, 1]);\n",
    "ax.set_xlim([-15, 15])\n",
    "ax.set_ylim([-15, 15])\n",
    "ax.set_title(\"Original\")\n",
    "\n",
    "# Plot the eigenvectors\n",
    "for eigenvalue, eigenvector in zip(lam, Q.T):\n",
    "    a = [-3 * numpy.sqrt(eigenvalue) * eigenvector[0], 3 * numpy.sqrt(eigenvalue) * eigenvector[0]]\n",
    "    b = [-3 * numpy.sqrt(eigenvalue) * eigenvector[1], 3 * numpy.sqrt(eigenvalue) * eigenvector[1]]\n",
    "    ax.plot(a,b, c=\"red\")"
   ]
  },
  {
   "cell_type": "markdown",
   "id": "82084666-67f9-4d07-a79e-87c75cfaa534",
   "metadata": {},
   "source": [
    "## 4.3. Compare Best Fit Lines\n",
    "We will next look at the difference between the best fit lines generated using OLS and using eigen-decomposition."
   ]
  },
  {
   "cell_type": "code",
   "execution_count": 185,
   "id": "3ff901d8-3d46-423e-a775-c845a4862dba",
   "metadata": {
    "tags": []
   },
   "outputs": [
    {
     "data": {
      "image/png": "[encoded data removed]",
      "text/plain": [
       "<Figure size 1152x288 with 1 Axes>"
      ]
     },
     "metadata": {
      "needs_background": "light"
     },
     "output_type": "display_data"
    }
   ],
   "source": [
    "# Create some data\n",
    "trend = [[5, 1],\n",
    "         [1, 2]]\n",
    "\n",
    "A = numpy.column_stack((X1, X2))\n",
    "X = A @ trend\n",
    "\n",
    "# Create a column vector\n",
    "x = X[:, 0][:, None]\n",
    "y = X[:, 1][:, None]\n",
    "\n",
    "# Decompose into eigenvalues and eigenvectors\n",
    "Sigma = numpy.cov(X.T)\n",
    "lam, Q = numpy.linalg.eig(Sigma)\n",
    "\n",
    "# Rotate data using eigenvalues and eigenvectors to calculate principal components\n",
    "q = Q[:, 0]\n",
    "pc1_x = x * q[0]\n",
    "pc1_y = x * q[1]\n",
    "\n",
    "q = Q[:, 1]\n",
    "pc2_x = y * q[0]\n",
    "pc2_y = y * q[1]\n",
    "\n",
    "# Calculate line of best fit\n",
    "beta = numpy.linalg.inv(x.T @ x) @ x.T @ y\n",
    "beta = beta[0][0]\n",
    "beta\n",
    "y_hat = beta * x\n",
    "\n",
    "# Plot the principal components and the best fit line\n",
    "fig, ax = pyplot.subplots(1, 1, figsize=(16,4))\n",
    "ax.scatter(x, y)\n",
    "ax.plot(pc1_x, pc1_y, c='r')\n",
    "ax.plot(pc2_x, pc2_y, c='r')\n",
    "ax.plot(x, y_hat, c='g');\n",
    "ax.set_xlim([-15, 15])\n",
    "ax.set_ylim([-15, 15]);"
   ]
  },
  {
   "cell_type": "markdown",
   "id": "16db8a92-99eb-49ac-a324-6f25d9d367f3",
   "metadata": {},
   "source": [
    "At this point we may be wondering why the red line and green line are not equal. The answer is because the red line (eigenvectors) is maximizing the variance in multiple dimensions simultaneaously while the green line (trival best fit) is only considering a single dimension."
   ]
  },
  {
   "cell_type": "code",
   "execution_count": 194,
   "id": "9dedea31-e1f1-42b4-b703-cfb1912f3907",
   "metadata": {},
   "outputs": [
    {
     "data": {
      "text/plain": [
       "array([[20.34718991,  4.61626657],\n",
       "       [ 4.61626657,  1.04731499]])"
      ]
     },
     "execution_count": 194,
     "metadata": {},
     "output_type": "execute_result"
    }
   ],
   "source": [
    "numpy.cov(numpy.column_stack((x, y_hat)).T)"
   ]
  },
  {
   "cell_type": "code",
   "execution_count": 195,
   "id": "96dcba70-8993-4972-a8a9-d77101fc1a3b",
   "metadata": {},
   "outputs": [
    {
     "data": {
      "text/plain": [
       "array([[19.02084993,  5.02275957],\n",
       "       [ 5.02275957,  1.32633998]])"
      ]
     },
     "execution_count": 195,
     "metadata": {},
     "output_type": "execute_result"
    }
   ],
   "source": [
    "numpy.cov(numpy.column_stack((pc1_x, pc1_y)).T)"
   ]
  },
  {
   "cell_type": "markdown",
   "id": "0bd52cb7-2ae3-4be6-a242-0cbb5be1b83d",
   "metadata": {},
   "source": [
    "# 5. Note On Application To Classification Problems\n",
    "As we can see, multiplying our eigenvalues by a scalar gives a radius of emperical likelihood. If we plug this radius into the equation for a multidimensional circle we thus have a mechanism for performing binary classification. Things would either be in or out of the circle drawn around the origin."
   ]
  },
  {
   "cell_type": "markdown",
   "id": "f53f9e1d-7a3b-4abb-ba03-137ac97aae52",
   "metadata": {},
   "source": [
    "# 6. Rotating Data\n",
    "As we mentioned earlier, the eigenvectors will be our new axes. They show us a line of best fit but they also allow us to rotate our data. When we perform a change of basis the calculations will appear as if the data rotated so the best fit lines line up with our trivial axes. We will do that rotation here manually.\n",
    "\n",
    "## 6.1. Trivial Rotations\n",
    "In the simplest case, we could subtract our data from the best fit line."
   ]
  },
  {
   "cell_type": "code",
   "execution_count": 142,
   "id": "42fb14b3-e9f8-4eba-861a-5ee2d59d6b51",
   "metadata": {},
   "outputs": [
    {
     "data": {
      "image/png": "[encoded data removed]",
      "text/plain": [
       "<Figure size 576x288 with 2 Axes>"
      ]
     },
     "metadata": {
      "needs_background": "light"
     },
     "output_type": "display_data"
    }
   ],
   "source": [
    "# Create our mock data set\n",
    "Sigma = [[5, 1],\n",
    "         [1, 2]]\n",
    "\n",
    "A = numpy.column_stack((X1, X2))\n",
    "X = A @ Sigma\n",
    "\n",
    "# Create a column vector to make the matrix algebra work in numpy\n",
    "x = X[:, 0][:, None]\n",
    "y = X[:, 1][:, None]\n",
    "\n",
    "# Calculate our regression coefficients\n",
    "beta = numpy.linalg.inv(x.T @ x) @ x.T @ y\n",
    "beta = beta[0][0]\n",
    "\n",
    "# Calculate the values for our best fit line\n",
    "y_hat = beta * x\n",
    "\n",
    "# Rotate our data \n",
    "rotated_y = y - y_hat\n",
    "\n",
    "# Graph the results\n",
    "fig, ax = pyplot.subplots(1, 2, figsize=(8,4))\n",
    "ax[0].scatter(x, y);\n",
    "ax[0].plot(x, y_hat);\n",
    "ax[0].set_xlim([-10, 10])\n",
    "ax[0].set_ylim([-10, 10])\n",
    "ax[0].set_title(\"Original\")\n",
    "ax[1].scatter(x, rotated_y)\n",
    "ax[1].plot(x, [0 for i in x])\n",
    "ax[1].set_xlim([-10, 10])\n",
    "ax[1].set_ylim([-10, 10])\n",
    "ax[1].set_title(\"Rotated\");"
   ]
  },
  {
   "cell_type": "markdown",
   "id": "68db5b77-8ae9-4c5f-9be8-015f7bd34070",
   "metadata": {},
   "source": [
    "## 6.2. Multidimensional Rotations\n",
    "This is not the ideal rotation because it does not work in multiple dimensions. Instead we can use a transformation similar to the covariance matrix we saw before. We will use a rotation matrix.\n",
    "\n",
    "$$ R= \\begin{bmatrix} \n",
    "cos(\\theta) & - sin(\\theta) \\\\\n",
    "sin(\\theta) & cos(\\theta)\n",
    "\\end{bmatrix} $$\n",
    "\n",
    "Where $\\theta$ is the angle of rotation about the origin.\n",
    "\n",
    "We can determine the angle of rotation using trigonometry. Given a simple linear regression we have $ y = mx + b $ where $m = \\frac{\\Delta y}{\\Delta x}$. Recalling the acronym SOHCAHTOA we have:\n",
    "\n",
    "$$ tan(m) = tan(\\beta) = tan \\left( \\frac{\\Delta y}{\\Delta x} \\right) = \\theta $$\n",
    "\n",
    "eigenvectore however provide a built in mechanism for rotating our vectors to the new basis.\n",
    "\n",
    "Using eigen-decomposition we take the square root of lambda as $S = \\sqrt{ \\Lambda }$ our equation becomes\n",
    "\n",
    "$$ \\Sigma = QSSQ^T $$\n",
    "\n",
    "Grouping terms, we can define a linear transformation $T=QS$ such that\n",
    "\n",
    "$$ \\Sigma = TT^T $$\n",
    "\n",
    "**Note:** These matrices have special properties: $ T^T = (QS)^T = S^TQ^T = SQ^{-1}, Q^{-1}=Q^T $\n",
    "\n",
    "We can thus rotate the vector $X$ by the transformation $T$ to change our basis.\n",
    "\n",
    "$$ X_{rot} = XT $$"
   ]
  },
  {
   "cell_type": "code",
   "execution_count": 173,
   "id": "0ecf805c-009f-4157-a693-1cf3dff4e0e1",
   "metadata": {},
   "outputs": [
    {
     "data": {
      "image/png": "[encoded data removed]",
      "text/plain": [
       "<Figure size 1152x288 with 3 Axes>"
      ]
     },
     "metadata": {
      "needs_background": "light"
     },
     "output_type": "display_data"
    }
   ],
   "source": [
    "# Create some data\n",
    "trend = [[5, 1],\n",
    "         [1, 2]]\n",
    "\n",
    "A = numpy.column_stack((X1, X2))\n",
    "X = A @ trend\n",
    "\n",
    "# Create a column vector\n",
    "x = X[:, 0][:, None]\n",
    "y = X[:, 1][:, None]\n",
    "\n",
    "# Decompose into eigenvalues and eigenvectors\n",
    "Sigma = numpy.cov(X.T)\n",
    "lam, Q = numpy.linalg.eig(Sigma)\n",
    "\n",
    "# Rotate data using eigenvalues and eigenvectors to calculate principal components\n",
    "q = Q[:, 0]\n",
    "pc1_x = x * q[0]\n",
    "pc1_y = x * q[1]\n",
    "\n",
    "q = Q[:, 1]\n",
    "pc2_x = y * q[0]\n",
    "pc2_y = y * q[1]\n",
    "\n",
    "# Determine the angle of rotation for PCs\n",
    "pc_dy = pc1_y[0][0] - 0\n",
    "pc_dx = pc1_x[0][0] - 0\n",
    "pc_slope = pc_dy / pc_dx\n",
    "pc_theta = numpy.tan(pc_slope)\n",
    "\n",
    "# Rotate the data and show the covariance of the new data\n",
    "pc_R = numpy.array([ [numpy.cos(pc_theta), -numpy.sin(pc_theta)],\n",
    "                     [numpy.sin(pc_theta),  numpy.cos(pc_theta)]])\n",
    "\n",
    "pc_RX = X @ pc_R\n",
    "\n",
    "# Calculate our regression coefficients\n",
    "beta = numpy.linalg.inv(x.T @ x) @ x.T @ y\n",
    "beta = beta[0][0]\n",
    "\n",
    "# Calculate the values for our best fit line\n",
    "y_hat = beta * x\n",
    "\n",
    "# Determine the angle of rotation for the LoBF\n",
    "lobf_theta = numpy.tan(beta)\n",
    "\n",
    "# Rotate the data\n",
    "lobf_R = numpy.array([[numpy.cos(lobf_theta), -numpy.sin(lobf_theta)],\n",
    "                      [numpy.sin(lobf_theta),  numpy.cos(lobf_theta)]])\n",
    "\n",
    "lobf_RX = X @ lobf_R\n",
    "\n",
    "fig, ax = pyplot.subplots(1, 3, figsize=(16,4))\n",
    "ax[0].scatter(X[:, 0], X[:, 1]);\n",
    "ax[0].plot(x, y_hat);\n",
    "ax[0].set_xlim([-15, 15])\n",
    "ax[0].set_ylim([-15, 15])\n",
    "ax[0].set_title(\"Original\")\n",
    "ax[1].scatter(pc_RX[:, 0], pc_RX[:, 1])\n",
    "ax[1].set_xlim([-15, 15])\n",
    "ax[1].set_ylim([-15, 15])\n",
    "ax[1].set_title(\"PC Rotated\");\n",
    "ax[2].scatter(lobf_RX[:, 0], lobf_RX[:, 1])\n",
    "ax[2].set_xlim([-15, 15])\n",
    "ax[2].set_ylim([-15, 15])\n",
    "ax[2].set_title(\"LoBF Rotated\");\n"
   ]
  }
 ],
 "metadata": {
  "kernelspec": {
   "display_name": "Python 3",
   "language": "python",
   "name": "python3"
  },
  "language_info": {
   "codemirror_mode": {
    "name": "ipython",
    "version": 3
   },
   "file_extension": ".py",
   "mimetype": "text/x-python",
   "name": "python",
   "nbconvert_exporter": "python",
   "pygments_lexer": "ipython3",
   "version": "3.6.8"
  }
 },
 "nbformat": 4,
 "nbformat_minor": 5
}
