{
 "cells": [
  {
   "cell_type": "markdown",
   "id": "28018ecf-79e0-4996-b36a-76e44841b947",
   "metadata": {},
   "source": [
    "# Overview\n",
    "It is possible to decompose a matrix. With decomposition we represent a matrix as an equivelent product of other matrices. It's kind of like factoring or expanding an exuation in regular algebra."
   ]
  },
  {
   "cell_type": "markdown",
   "id": "5775ac3b-b6c1-4113-be9c-fe6a9993ea9e",
   "metadata": {},
   "source": [
    "# 1. Matrix Diagonalization\n",
    "\n",
    "Matrix diagonalization is the process of decomposing a matrix into the a product of a new set of matrices which contais a diagonal matrix of eigenvalues (hence the name).\n",
    "\n",
    "There are several techniques that can diagonalize a matrix and several results for the set of matrices representing the decomposition."
   ]
  },
  {
   "cell_type": "markdown",
   "id": "58042bb2-5476-4d2d-b3e2-b7238aabb18d",
   "metadata": {},
   "source": [
    "For more see the [notebook on diagonalization](Diagonalization.ipynb)."
   ]
  }
 ],
 "metadata": {
  "kernelspec": {
   "display_name": "Python 3",
   "language": "python",
   "name": "python3"
  },
  "language_info": {
   "codemirror_mode": {
    "name": "ipython",
    "version": 3
   },
   "file_extension": ".py",
   "mimetype": "text/x-python",
   "name": "python",
   "nbconvert_exporter": "python",
   "pygments_lexer": "ipython3",
   "version": "3.6.8"
  }
 },
 "nbformat": 4,
 "nbformat_minor": 5
}
