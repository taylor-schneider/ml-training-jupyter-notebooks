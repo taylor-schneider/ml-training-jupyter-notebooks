{
 "cells": [
  {
   "cell_type": "markdown",
   "id": "033ea904-8915-4540-858d-4b93b629c6d1",
   "metadata": {},
   "source": [
    "# Overview\n",
    "\n",
    "The jacobian is a multidimensional derivative. While the gradient $\\nabla$ which expresses the derivative of a function $f$ that maps an n-dimensional space to a uni-dimensional space such as $f:\\mathbb{R}^n \\rightarrow \\mathbb{R}$ the jacobian $\\mathbb{J}$ is a derivative of a function which maps an n-dimensional space to an m-dimensional space such as $f:\\mathbb{R}^n \\rightarrow \\mathbb{R}^m$. In fact we can think of the gradient as a special case of the Jacobian.\n",
    "\n",
    "As we will see, the jacobian can also be thought of as a representation of the function $f$.\n",
    "\n",
    "The jacobian is also related to the hessian matrix in that the hessian is the second order gradient."
   ]
  },
  {
   "cell_type": "markdown",
   "id": "467420f3-7970-40b0-b36a-b7c5e38d21bc",
   "metadata": {},
   "source": [
    "# Definition"
   ]
  },
  {
   "cell_type": "markdown",
   "id": "c0d83511-fc69-4d1d-9f7c-974e168dd2c8",
   "metadata": {},
   "source": [
    "Given a function or mapping $f$, which maps $X$ to $Y$ the Jacobian $\\mathbb{J}$ represents the first order partial derivative of $f$.\n"
   ]
  },
  {
   "cell_type": "markdown",
   "id": "65c968ba-b0ae-43e8-a37e-bec3fcf9756a",
   "metadata": {},
   "source": [
    "In the simplest form, the Jacobian is a derivative of a function mapping a one dimensional space to another one dimensional space (eg. $\\mathbb{R} \\rightarrow \\mathbb{R}$).\n",
    "\n",
    "$$ \\mathbb{J}_f = \n",
    "\\begin{bmatrix}\n",
    "\\frac{d y}{d x}\n",
    "\\end{bmatrix}$$"
   ]
  },
  {
   "cell_type": "markdown",
   "id": "13f330a9-c117-4e5c-a144-03da834f5a0d",
   "metadata": {},
   "source": [
    "Generalizing further we have a derivative of a function mapping n dimenisons to a single simension (eg. $\\mathbb{R} \\rightarrow \\mathbb{R^n}$). This special case is commonly referred to as the gradient and denoted $\\nabla$. In this case we see the gradient expressed as a setof partial derivatives.\n",
    "\n",
    "$$ \\mathbb{J}_f =\n",
    "\\begin{bmatrix}\n",
    "\\frac{\\partial Y}{\\partial X_1} & \\cdots & \\frac{\\partial Y}{\\partial X_n}\n",
    "\\end{bmatrix}\n",
    "$$"
   ]
  },
  {
   "cell_type": "markdown",
   "id": "b4ac72af-dc84-48b1-b68c-89738eb25794",
   "metadata": {},
   "source": [
    "Continuing we have a derivative of a function mapping n dimensions to n dimensions (eg. $\\mathbb{R}^n \\rightarrow \\mathbb{R^n}$). This type of function is commonly referred to as a vector function.\n",
    "\n",
    "$$\\mathbb{J}_f =\n",
    "\\begin{bmatrix}\n",
    "\\frac {\\partial Y_{1}}{\\partial X_{1}} & \\cdots & \\frac {\\partial Y_{1}}{\\partial X_{n}} \\\\\n",
    "\\vdots & \\ddots & \\vdots \\\\\n",
    "\\frac {\\partial Y_{n}}{\\partial X_{1}} & \\cdots & \\frac {\\partial Y_{n}}{\\partial X_{n}}\n",
    "\\end{bmatrix}\n",
    "$$"
   ]
  },
  {
   "cell_type": "markdown",
   "id": "78189497-c4a3-4cd5-a591-2a10d342968b",
   "metadata": {},
   "source": [
    "# Inverse Jacobian"
   ]
  },
  {
   "cell_type": "markdown",
   "id": "6c1dffbb-2f23-42d5-a9a8-328088b1acb6",
   "metadata": {},
   "source": [
    "The Jacobian has a very useful property. The Jacobian allows for a change of varaiable, ie. it provides a transformation that allows a mapping from one variable space to another. A useful property is that the inverse of the jacobian allows for the reverse mapping.\n",
    "\n",
    "If the function $f$ which maps $x \\rightarrow y$ is inverted we have a function $f^{-1}$ which maps $y \\rightarrow x$. As such, the Jacobian $\\mathbb{J}_f$ of the function $f$ can be inverted and provides the following property:\n",
    "\n",
    "$$ \\mathbb{J}_f^{-1} = \\mathbb{J}_{f^{-1}} $$\n",
    "\n",
    "Stating this equation another way, the Jacobian of the inverse transformation is the reciprocal of the Jacobian of the original transformation.\n",
    "\n",
    "$$\n",
    "\\frac{1}{\\begin{vmatrix}\n",
    "\\frac{\\partial (u, v)}{\\partial (x, y)}\n",
    "\\end{vmatrix}}\n",
    "=\n",
    "\\begin{vmatrix}\n",
    "\\frac{\\partial (x, y)}{\\partial (u, v)}\n",
    "\\end{vmatrix}\n",
    "$$\n",
    "\n",
    "More examples can be found [here](http://ltcconline.net/greenl/courses/202/multipleintegration/jacobians.htm)\n",
    "\n",
    "As such, if the Jacobian allows a transformation $y = \\mathbb{J}x$ then the inverse jacobian allows for the mapping $x = \\mathbb{J}^{-1} y$"
   ]
  },
  {
   "cell_type": "markdown",
   "id": "bca4bfc8-8654-4cee-b93d-8d86c87d0b59",
   "metadata": {},
   "source": [
    "# Jacobian Determinant\n",
    "\n",
    "Sometimes texts will refer to the determinant of the jacobian as the jacobian... which is frustrating and confusing. Context and notations will generally help determine which is which."
   ]
  },
  {
   "cell_type": "markdown",
   "id": "cd0f16e1-2710-46cf-9f4f-377234a0c4d7",
   "metadata": {},
   "source": [
    "Recall that the determinant is a scalar defined as:\n",
    "\n",
    "$$det \\left(\n",
    "\\begin{bmatrix}\n",
    "a & b \\\\\n",
    "c & d\n",
    "\\end{bmatrix}\n",
    "\\right)\n",
    "= ad - bc\n",
    "$$\n",
    "\n",
    "In the case of a two-dimensional jacobian we would thus the jacobian determinant as:\n",
    "\n",
    "$$\n",
    "det \\left(\n",
    "\\begin{bmatrix}\n",
    "\\frac{dX_1}{dY_1} & \\frac{dX_2}{dY_1} \\\\\n",
    "\\frac{dX_1}{dY_2} & \\frac{dX_2}{dY_2}\n",
    "\\end{bmatrix}\n",
    "\\right)\n",
    "= \\frac{dX_1}{dY_1}\\frac{dX_2}{dY_2} - \\frac{dX_1}{dY_2}\\frac{dX_2}{dY_1}\n",
    "$$\n",
    "\n",
    "For more information on determinants see the [Matrix Division notebook](Matrix%20Division%20%28Inversion%29.ipynb).\n",
    "\n",
    "The determinant of the jacobian has special applications as we will see. It allows us to transform one variable into another by acting as a scaling factor. We thus multiply or divide by this structure to obtain quantities in units foresponding to our variables."
   ]
  },
  {
   "cell_type": "markdown",
   "id": "e44bc599-5130-4743-a18c-1a939fde379f",
   "metadata": {},
   "source": [
    "# Applications And Examples\n",
    "## Change of Variables"
   ]
  },
  {
   "cell_type": "markdown",
   "id": "df9eab0d-144b-4c85-8840-8c5c1f80e993",
   "metadata": {},
   "source": [
    "### Simple Change of Variable\n",
    "\n",
    "The jacobian can be used to express linear transformations which essentially maps one variable space to another. This structure is very powerful and it allows us to model several types of transformations. We can map one n-dimensional point to another n-dimensional point. We can also map a series to another series. For example in we may want to map one set of time series data to another series.\n",
    "\n",
    "As a simple example consider a familiar function which maps a uni-dimensional variable $x$ to a new uni-dimensional varible $y$. \n",
    "\n",
    "$$y = mx$$\n",
    "\n",
    "We have $y$ which is expressed as a linear combination of $x$. The term $m$ is a derivative expressing the ratio of units of change between $y$ and $x$. Formally $m$ is defined such that $m=\\frac{dy}{dx}$. We can multiply values of X by this structure and retrieve values of Y.\n",
    "\n",
    "\n",
    "This structure is the $(1 \\times 1)$ case of the Jacobian. We effectively have:\n",
    "\n",
    "$$ m = \\mathbb{J}_y$$\n",
    "$$ y = \\mathbb{J}_y x$$\n",
    "\n",
    "The important thing to understand is that this conversion factor $m$ effectively scales a linear expression (in our case a single variable) from one scale or unit into another (fomr the x scale into the y scale). Multipling $x$ by this conversion factor gives you $y$. Dividing $y$ by the factor gives you $x$. When working in matrix algebra we have that division is equivalent to multiplying by the reciprocal (ie inverse matrix) so we might also see an expression like:\n",
    "\n",
    "$$ x = \\mathbb{J}_y^{-1} y$$\n",
    "\n",
    "Represented visually we know:\n",
    "\n",
    "<center><img src='images/jacobian_mapping.png' width='100px'></center>\n",
    "\n",
    "Algebraically we can deduce that:\n",
    "\n",
    "$$ y \\ dx = x \\ dy$$\n",
    "\n",
    "Looking at a slightly more complicated example consider the mapping:\n",
    "\n",
    "$$ y = x^2 - x $$\n",
    "\n",
    "We could rearrange the expression algebraically so that it can be expressed in terms of $x$. In doing so we can infer a derivative and express the original expression as the product of a derivative and a single variable:\n",
    "\n",
    "$$ y = (x-1)x$$\n",
    "\n",
    "$$ \\mathbb{J}_y = (x - 1)$$\n",
    "\n",
    "$$ y = \\mathbb{J}_y x$$"
   ]
  },
  {
   "cell_type": "markdown",
   "id": "90afd561-25b8-4a93-90d1-fc14d7eb8a68",
   "metadata": {},
   "source": [
    "### Two-Dimensional Change Of Variable\n",
    "In this example we will look at a mapping that will transform a 2-dimensional point into another 2-dimensional point within the same space.\n",
    "\n",
    "Our two dimensional points will consist of values in the $x$ and $y$ dimension and will be presented as $p = (x,y)$ and we will map $p_1$ to $p_2$.\n"
   ]
  },
  {
   "cell_type": "markdown",
   "id": "060c6322-c77d-40e7-af81-69783cc8c094",
   "metadata": {},
   "source": [
    "#### Example 1: Scaling\n",
    "We start by defining a linear relationship which transforms $p_1$ to $p_2$. Our relationship will be such that the $x$ dimension will be stretched by 2 while the $y$ dimension will be stretched by 3. In other words $\\frac{dx_2}{dx_1}= 2$ and $\\frac{dy_2}{dy_1} = 3$\n",
    "\n",
    "##### Application of The Jacobian\n",
    "\n",
    "We can represent this linear transformation using the jacobian:\n",
    "\n",
    "$$ p_2 = J \\ p_1$$\n",
    "\n",
    "Filling in the values for the relative rates of change\n",
    "\n",
    "$$ J = \n",
    "\\begin{bmatrix}\n",
    "\\frac{dx_2}{dx_1} & \\frac{dx_2}{dy_1} \\\\\n",
    "\\frac{dy_2}{dx_1} & \\frac{dy_2}{dy_1}\n",
    "\\end{bmatrix}\n",
    "=\n",
    "\\begin{bmatrix}\n",
    "2 & 0 \\\\\n",
    "0 & 3\n",
    "\\end{bmatrix}\n",
    "$$\n",
    "\n",
    "And thus the relationship becomes:\n",
    "\n",
    "\n",
    "$$ \n",
    "\\begin{bmatrix}\n",
    "x_2 \\\\\n",
    "y_2\n",
    "\\end{bmatrix}\n",
    "=\n",
    "J\n",
    "\\begin{bmatrix}\n",
    "x_1 \\\\\n",
    "y_1\n",
    "\\end{bmatrix}\n",
    "$$\n",
    "\n",
    "$$ \n",
    "\\begin{bmatrix}\n",
    "x_2 \\\\\n",
    "y_2\n",
    "\\end{bmatrix}\n",
    "=\n",
    "\\begin{bmatrix}\n",
    "2 & 0 \\\\\n",
    "0 & 3\n",
    "\\end{bmatrix}\n",
    "\\begin{bmatrix}\n",
    "x_1 \\\\\n",
    "y_1\n",
    "\\end{bmatrix}\n",
    "$$\n",
    "\n",
    "\n",
    "Note: In this situation we do not want to express a relationship between $x_1$ and $y_2$ or $y_1$ and $x_2$. These dimensions are not inter-dependant. This is why we see the elements $\\frac{dx_2}{dy_1}$ and $\\frac{dy_2}{dx_1}$ in the Jacobian marked as zero.\n",
    "\n",
    "Below we have the code to execute this transformation:"
   ]
  },
  {
   "cell_type": "code",
   "execution_count": 28,
   "id": "4a2a0c6d-1c7c-4c5c-a76b-6916f8ad77da",
   "metadata": {
    "tags": []
   },
   "outputs": [
    {
     "name": "stdout",
     "output_type": "stream",
     "text": [
      "p2: [4 9]\n",
      "det(J): 6.0\n"
     ]
    }
   ],
   "source": [
    "import numpy as numpy\n",
    "\n",
    "p1 = numpy.array([2,3])\n",
    "J = numpy.array([\n",
    "    [2,0],\n",
    "    [0,3]\n",
    "])\n",
    "p2 = J @ p1\n",
    "detJ = abs(numpy.linalg.det(J))\n",
    "\n",
    "print(\"p2: {0}\".format(p2))\n",
    "print(\"det(J): {0}\".format(detJ))"
   ]
  },
  {
   "cell_type": "code",
   "execution_count": 29,
   "id": "2bf41b87-30db-4c2b-a1ec-c7fc2f529a9e",
   "metadata": {
    "jupyter": {
     "source_hidden": true
    },
    "tags": []
   },
   "outputs": [
    {
     "data": {
      "image/png": "[encoded data removed]",
      "text/plain": [
       "<Figure size 432x288 with 1 Axes>"
      ]
     },
     "metadata": {
      "needs_background": "light"
     },
     "output_type": "display_data"
    }
   ],
   "source": [
    "from matplotlib import pyplot\n",
    "fig, ax = pyplot.subplots()\n",
    "ax.scatter(p1[0], p1[1], label=\"$p_1$\")\n",
    "ax.scatter(p2[0], p2[1], label=\"$p_2$\")\n",
    "ax.legend();"
   ]
  },
  {
   "cell_type": "markdown",
   "id": "1074d342-cea0-44b3-9072-7b25a3bba78a",
   "metadata": {},
   "source": [
    "##### Application of the Jacobian Determinant\n",
    "While the jacobian contains information about how to transform $p_1$ the determinant of the jacobian determinant contains information about how to transform the area of the space that $p_1$ occupies.\n",
    "\n",
    "While the Jacobian holds ratios of rates of change for points, the Jacobian determinant holds ratios of rates of change for areas $a$.\n",
    "\n",
    "We know that $p_2 = \\mathbb{J}p_1$. We will see that $a_2 = |\\mathbb{J}|a_1$.\n",
    "\n",
    "If we think about each point as a change we have $p_1$ for example having a $dx$ anda $dy$ component. Ie. A point is being broken down into component vectors (one for the x dimension and one for the y dimension). In doing so, there is a rectangle created between four points (two vector heads and the two vector tails starting atthe origin). \n",
    "\n",
    "$$ a_1 = dx \\ dy $$"
   ]
  },
  {
   "cell_type": "code",
   "execution_count": 41,
   "id": "3bdf8fe7-a80d-40b0-b076-8503a261c395",
   "metadata": {
    "jupyter": {
     "source_hidden": true
    },
    "tags": []
   },
   "outputs": [
    {
     "name": "stdout",
     "output_type": "stream",
     "text": [
      "Transformed points (J * p_1):\n"
     ]
    },
    {
     "data": {
      "text/plain": [
       "array([[ 0,  0],\n",
       "       [-2,  2],\n",
       "       [-5, 11],\n",
       "       [-3,  9]])"
      ]
     },
     "execution_count": 41,
     "metadata": {},
     "output_type": "execute_result"
    }
   ],
   "source": [
    "# Create four points representing the original square\n",
    "original_points = numpy.array([[0, 0],\n",
    "                             [2, 0],\n",
    "                             [2, 3],\n",
    "                             [0, 3]])\n",
    "\n",
    "# Do the transform\n",
    "transformed_points = original_points.copy()\n",
    "for i, point in enumerate(original_points):\n",
    "    transformed_points[i] = J @ point\n",
    "print(\"Transformed points (J * p_1):\")\n",
    "transformed_points"
   ]
  },
  {
   "cell_type": "code",
   "execution_count": 31,
   "id": "47ef5b27-3905-4b8e-b286-b49b8131bf68",
   "metadata": {
    "jupyter": {
     "source_hidden": true
    },
    "tags": []
   },
   "outputs": [
    {
     "data": {
      "image/png": "[encoded data removed]",
      "text/plain": [
       "<Figure size 400x200 with 2 Axes>"
      ]
     },
     "metadata": {
      "needs_background": "light"
     },
     "output_type": "display_data"
    }
   ],
   "source": [
    "import numpy\n",
    "from matplotlib import pyplot\n",
    "from matplotlib.patches import Rectangle\n",
    "\n",
    "pixel_size = 1/pyplot.rcParams['figure.dpi']  # pixel in inches\n",
    "fig, ax = pyplot.subplots(1,2, figsize=(400*pixel_size, 200*pixel_size))\n",
    "\n",
    "for j, square in enumerate(numpy.array([original_points, transformed_points])):\n",
    "    for i in range(0, 4):\n",
    "        p1 = square[i]\n",
    "        p2 = square[i - 1]\n",
    "        ax[j].scatter(p1[0], p1[1])\n",
    "        lx = numpy.array([p1[0], p2[0]])\n",
    "        ly = numpy.array([p1[1], p2[1]])\n",
    "        ax[j].plot(lx, ly)\n",
    "\n",
    "xmin = numpy.min(numpy.concatenate((original_points, transformed_points)).T[0]) - 1\n",
    "xmax = numpy.max(numpy.concatenate((original_points, transformed_points)).T[0]) + 1\n",
    "ymin = numpy.min(numpy.concatenate((original_points, transformed_points)).T[1]) - 1\n",
    "ymax = numpy.max(numpy.concatenate((original_points, transformed_points)).T[1]) + 1\n",
    "\n",
    "ax[0].set_title('Original Points')\n",
    "ax[1].set_title('Transformed Points')\n",
    "\n",
    "ax[0].set_xlim([xmin, xmax])\n",
    "ax[0].set_ylim([ymin, ymax])\n",
    "ax[1].set_xlim([xmin, xmax])\n",
    "ax[1].set_ylim([ymin, ymax]);\n",
    "\n",
    "ax[0].set_xticks(numpy.arange(xmin, xmax))\n",
    "ax[0].set_yticks(numpy.arange(ymin, ymax))\n",
    "ax[1].set_xticks(numpy.arange(xmin, xmax))\n",
    "ax[1].set_yticks(numpy.arange(ymin, ymax));"
   ]
  },
  {
   "cell_type": "markdown",
   "id": "e543975b-cfc4-47cc-8279-d3cc74f5dd86",
   "metadata": {},
   "source": [
    "Doing the math we see that the determininant tells us that the area of the rectangle has grown by a factor of 6.\n",
    "\n",
    "$$ det|J| = \n",
    "det\n",
    "\\begin{bmatrix}\n",
    "\\frac{dx_2}{dx_1} & \\frac{dx_2}{dy_1} \\\\\n",
    "\\frac{dy_2}{dx_1} & \\frac{dy_2}{dy_1}\n",
    "\\end{bmatrix}\n",
    "$$\n",
    "\n",
    "$$=\n",
    "\\frac{dx_2}{dx_1} \\frac{dy_2}{dy_1} - \\frac{dx_2}{dy_1}\\frac{dy_2}{dx_1}\n",
    "$$\n",
    "\n",
    "$$=\n",
    "\\frac{dx_2}{dx_1} \\frac{dy_2}{dy_1} -0\n",
    "$$\n",
    "\n",
    "$$=\\frac{36}{6} $$\n",
    "\n",
    "$$ = 6 $$\n",
    "\n",
    "In some texts this is only discussed in terms of the unit square. Ie. the determinant is said to describe the change in area relative to the unit square being transformed. This is also true as we can see:"
   ]
  },
  {
   "cell_type": "code",
   "execution_count": 34,
   "id": "226f3d3e-a466-4bc0-9d5e-be9286ffc5b2",
   "metadata": {
    "jupyter": {
     "source_hidden": true
    },
    "tags": []
   },
   "outputs": [
    {
     "name": "stdout",
     "output_type": "stream",
     "text": [
      "Transformed points (J * unit vectors):\n"
     ]
    },
    {
     "data": {
      "text/plain": [
       "array([[0, 0],\n",
       "       [0, 3],\n",
       "       [2, 3],\n",
       "       [2, 0]])"
      ]
     },
     "execution_count": 34,
     "metadata": {},
     "output_type": "execute_result"
    }
   ],
   "source": [
    "# Create four points representing the unit square\n",
    "unit_square_points = numpy.array([[0, 0],\n",
    "                                   [0, 1],\n",
    "                                   [1, 1],\n",
    "                                   [1, 0]])\n",
    "\n",
    "# Do the transform\n",
    "transformed_points = unit_square_points.copy()\n",
    "for i, point in enumerate(unit_square_points):\n",
    "    transformed_points[i] = J @ point\n",
    "print(\"Transformed points (J * unit vectors):\")\n",
    "transformed_points"
   ]
  },
  {
   "cell_type": "code",
   "execution_count": 35,
   "id": "a76628ea-69a7-4665-8713-d0bed411645e",
   "metadata": {
    "jupyter": {
     "source_hidden": true
    },
    "tags": []
   },
   "outputs": [
    {
     "data": {
      "image/png": "[encoded data removed]",
      "text/plain": [
       "<Figure size 400x200 with 2 Axes>"
      ]
     },
     "metadata": {
      "needs_background": "light"
     },
     "output_type": "display_data"
    }
   ],
   "source": [
    "import numpy\n",
    "from matplotlib import pyplot\n",
    "from matplotlib.patches import Rectangle\n",
    "\n",
    "pixel_size = 1/pyplot.rcParams['figure.dpi']  # pixel in inches\n",
    "fig, ax = pyplot.subplots(1,2, figsize=(400*pixel_size, 200*pixel_size))\n",
    "\n",
    "\n",
    "for j, square in enumerate(numpy.array([unit_square_points, transformed_points])):\n",
    "    for i in range(0, 4):\n",
    "        p1 = square[i]\n",
    "        p2 = square[i - 1]\n",
    "        ax[j].scatter(p1[0], p1[1])\n",
    "        lx = numpy.array([p1[0], p2[0]])\n",
    "        ly = numpy.array([p1[1], p2[1]])\n",
    "        ax[j].plot(lx, ly)\n",
    "\n",
    "xmin = numpy.min(numpy.concatenate((unit_square_points, transformed_points)).T[0]) - 1\n",
    "xmax = numpy.max(numpy.concatenate((unit_square_points, transformed_points)).T[0]) + 1\n",
    "ymin = numpy.min(numpy.concatenate((unit_square_points, transformed_points)).T[1]) - 1\n",
    "ymax = numpy.max(numpy.concatenate((unit_square_points, transformed_points)).T[1]) + 1\n",
    "\n",
    "ax[0].set_title('Unit Square Points')\n",
    "ax[1].set_title('Transformed Points')\n",
    "\n",
    "ax[0].set_xlim([xmin, xmax])\n",
    "ax[0].set_ylim([ymin, ymax])\n",
    "ax[1].set_xlim([xmin, xmax])\n",
    "ax[1].set_ylim([ymin, ymax]);\n",
    "\n",
    "ax[0].set_xticks(numpy.arange(xmin, xmax))\n",
    "ax[0].set_yticks(numpy.arange(ymin, ymax))\n",
    "ax[1].set_xticks(numpy.arange(xmin, xmax))\n",
    "ax[1].set_yticks(numpy.arange(ymin, ymax));"
   ]
  },
  {
   "cell_type": "markdown",
   "id": "79eb5e7e-2523-4172-ac82-68ad919b5d8b",
   "metadata": {},
   "source": [
    "The basic example was taken from [this article](https://mathinsight.org/determinant_linear_transformation)."
   ]
  },
  {
   "cell_type": "markdown",
   "id": "78b88c96-29b4-41ee-8a94-a9cc9d47e05e",
   "metadata": {},
   "source": [
    "#### Example 2: Skew\n",
    "Now we can look at a more complex example where we are not just scaling:"
   ]
  },
  {
   "cell_type": "code",
   "execution_count": 36,
   "id": "3aeea34d-87cd-41f2-9af7-0fd9c471a391",
   "metadata": {},
   "outputs": [
    {
     "name": "stdout",
     "output_type": "stream",
     "text": [
      "p2: [-4  8]\n",
      "det(J): -2.0\n"
     ]
    }
   ],
   "source": [
    "import numpy as numpy\n",
    "\n",
    "p1 = numpy.array([2,2])\n",
    "J = numpy.array([[-1, -1],\n",
    "                 [ 1,  3]])\n",
    "p2 = J @ p1\n",
    "detJ = numpy.linalg.det(J)\n",
    "\n",
    "print(\"p2: {0}\".format(p2))\n",
    "print(\"det(J): {0}\".format(detJ))"
   ]
  },
  {
   "cell_type": "code",
   "execution_count": 38,
   "id": "818a2601-c985-4359-abb4-0bac1404f4af",
   "metadata": {
    "jupyter": {
     "source_hidden": true
    },
    "tags": []
   },
   "outputs": [
    {
     "name": "stdout",
     "output_type": "stream",
     "text": [
      "Transformed points (J * p_1):\n"
     ]
    },
    {
     "data": {
      "text/plain": [
       "array([[ 0,  0],\n",
       "       [-2,  2],\n",
       "       [-4,  8],\n",
       "       [-2,  6]])"
      ]
     },
     "execution_count": 38,
     "metadata": {},
     "output_type": "execute_result"
    }
   ],
   "source": [
    "# Create four points representing the original square\n",
    "original_points = numpy.array([[0, 0],\n",
    "                             [2, 0],\n",
    "                             [2, 2],\n",
    "                             [0, 2]])\n",
    "\n",
    "# Do the transform\n",
    "transformed_points = original_points.copy()\n",
    "for i, point in enumerate(original_points):\n",
    "    transformed_points[i] = J @ point\n",
    "print(\"Transformed points (J * p_1):\")\n",
    "transformed_points"
   ]
  },
  {
   "cell_type": "code",
   "execution_count": 9,
   "id": "c58dcdd3-b92e-4cda-a7e1-f4d50bfd75a2",
   "metadata": {
    "jupyter": {
     "source_hidden": true
    },
    "tags": []
   },
   "outputs": [
    {
     "data": {
      "image/png": "[encoded data removed]",
      "text/plain": [
       "<Figure size 400x200 with 2 Axes>"
      ]
     },
     "metadata": {
      "needs_background": "light"
     },
     "output_type": "display_data"
    }
   ],
   "source": [
    "import numpy\n",
    "from matplotlib import pyplot\n",
    "from matplotlib.patches import Rectangle\n",
    "\n",
    "pixel_size = 1/pyplot.rcParams['figure.dpi']  # pixel in inches\n",
    "fig, ax = pyplot.subplots(1,2, figsize=(400*pixel_size, 200*pixel_size))\n",
    "\n",
    "for j, square in enumerate(numpy.array([points_square, transformed_shape])):\n",
    "    for i in range(0, 4):\n",
    "        p1 = square[i]\n",
    "        p2 = square[i - 1]\n",
    "        ax[j].scatter(p1[0], p1[1])\n",
    "        lx = numpy.array([p1[0], p2[0]])\n",
    "        ly = numpy.array([p1[1], p2[1]])\n",
    "        ax[j].plot(lx, ly)\n",
    "\n",
    "xmin = numpy.min(numpy.concatenate((points_square, transformed_shape)).T[0]) - 1\n",
    "xmax = numpy.max(numpy.concatenate((points_square, transformed_shape)).T[0]) + 1\n",
    "ymin = numpy.min(numpy.concatenate((points_square, transformed_shape)).T[1]) - 1\n",
    "ymax = numpy.max(numpy.concatenate((points_square, transformed_shape)).T[1]) + 1\n",
    "\n",
    "ax[0].set_title('Points Square')\n",
    "ax[1].set_title('Transformed Square')\n",
    "\n",
    "ax[0].set_xlim([xmin, xmax])\n",
    "ax[0].set_ylim([ymin, ymax])\n",
    "ax[1].set_xlim([xmin, xmax])\n",
    "ax[1].set_ylim([ymin, ymax]);\n",
    "\n",
    "ax[0].set_xticks(numpy.arange(xmin, xmax))\n",
    "ax[0].set_yticks(numpy.arange(ymin, ymax))\n",
    "ax[1].set_xticks(numpy.arange(xmin, xmax))\n",
    "ax[1].set_yticks(numpy.arange(ymin, ymax));"
   ]
  },
  {
   "cell_type": "markdown",
   "id": "79dc76e5-4f4d-4096-b449-0fe86ddc5acc",
   "metadata": {},
   "source": [
    "We see that the determinant does not accurately show the change in area between the original shape and the transformed shape.\n",
    "\n",
    "Recall that the area of a parrallelogram is $base \\ (b)  * height \\ (h)$\n",
    "\n",
    "<center><img src='images/parallelogram_area.png' height='200px' width='200px'></center>\n",
    "\n",
    "$$ \\frac{8}{4} = 2 $$"
   ]
  },
  {
   "cell_type": "markdown",
   "id": "e783fe16-e070-4e18-aa3f-baa0ef31c4c3",
   "metadata": {},
   "source": [
    "A negative determinant indicates a reversal of the orientation of the original shape (see the green and blue lines have changed sides).\n",
    "\n",
    "Looking at the transformation of the unit square we see:"
   ]
  },
  {
   "cell_type": "code",
   "execution_count": 39,
   "id": "ca6790e4-9c5b-4cdc-97e8-77c7237b242e",
   "metadata": {
    "jupyter": {
     "source_hidden": true
    },
    "tags": []
   },
   "outputs": [
    {
     "name": "stdout",
     "output_type": "stream",
     "text": [
      "Transformed points (J * unit vectors):\n"
     ]
    },
    {
     "data": {
      "text/plain": [
       "array([[ 0,  0],\n",
       "       [-1,  3],\n",
       "       [-2,  4],\n",
       "       [-1,  1]])"
      ]
     },
     "execution_count": 39,
     "metadata": {},
     "output_type": "execute_result"
    }
   ],
   "source": [
    "# Create four points representing the unit square\n",
    "unit_square_points = numpy.array([[0, 0],\n",
    "                           [0, 1],\n",
    "                           [1, 1],\n",
    "                           [1, 0]])\n",
    "\n",
    "# Do the transform\n",
    "transformed_points = unit_square_points.copy()\n",
    "for i, point in enumerate(unit_square_points):\n",
    "    transformed_points[i] = J @ point\n",
    "print(\"Transformed points (J * unit vectors):\")\n",
    "transformed_points"
   ]
  },
  {
   "cell_type": "code",
   "execution_count": 40,
   "id": "ff2b1ab0-98db-4cf3-a071-2052e9189490",
   "metadata": {
    "jupyter": {
     "source_hidden": true
    },
    "tags": []
   },
   "outputs": [
    {
     "data": {
      "image/png": "[encoded data removed]",
      "text/plain": [
       "<Figure size 400x200 with 2 Axes>"
      ]
     },
     "metadata": {
      "needs_background": "light"
     },
     "output_type": "display_data"
    }
   ],
   "source": [
    "import numpy\n",
    "from matplotlib import pyplot\n",
    "from matplotlib.patches import Rectangle\n",
    "\n",
    "pixel_size = 1/pyplot.rcParams['figure.dpi']  # pixel in inches\n",
    "fig, ax = pyplot.subplots(1,2, figsize=(400*pixel_size, 200*pixel_size))\n",
    "\n",
    "\n",
    "for j, square in enumerate(numpy.array([unit_square_points, transformed_points])):\n",
    "    for i in range(0, 4):\n",
    "        p1 = square[i]\n",
    "        p2 = square[i - 1]\n",
    "        ax[j].scatter(p1[0], p1[1])\n",
    "        lx = numpy.array([p1[0], p2[0]])\n",
    "        ly = numpy.array([p1[1], p2[1]])\n",
    "        ax[j].plot(lx, ly)\n",
    "\n",
    "xmin = numpy.min(numpy.concatenate((unit_square_points, transformed_points)).T[0]) - 1\n",
    "xmax = numpy.max(numpy.concatenate((unit_square_points, transformed_points)).T[0]) + 1\n",
    "ymin = numpy.min(numpy.concatenate((unit_square_points, transformed_points)).T[1]) - 1\n",
    "ymax = numpy.max(numpy.concatenate((unit_square_points, transformed_points)).T[1]) + 1\n",
    "\n",
    "ax[0].set_title('Unit Square Points')\n",
    "ax[1].set_title('Transformed Points')\n",
    "\n",
    "ax[0].set_xlim([xmin, xmax])\n",
    "ax[0].set_ylim([ymin, ymax])\n",
    "ax[1].set_xlim([xmin, xmax])\n",
    "ax[1].set_ylim([ymin, ymax]);\n",
    "\n",
    "ax[0].set_xticks(numpy.arange(xmin, xmax))\n",
    "ax[0].set_yticks(numpy.arange(ymin, ymax))\n",
    "ax[1].set_xticks(numpy.arange(xmin, xmax))\n",
    "ax[1].set_yticks(numpy.arange(ymin, ymax));"
   ]
  },
  {
   "cell_type": "markdown",
   "id": "60231b3b-ba66-4ed9-bf38-b87732b371b0",
   "metadata": {},
   "source": [
    "We can again see the ratio of area is equal to two and thus the determinant."
   ]
  },
  {
   "cell_type": "markdown",
   "id": "844a2313-51d2-481c-91ea-da19b1a0ce08",
   "metadata": {},
   "source": [
    "## Calculus u-substitution (Change of variable)\n",
    "\n",
    "The jacobian is sometimes encountered in calculus when using [u-substitution](http://math.ucsd.edu/~ashenk/Section6_8.pdf) (ie. performing a change of variable).\n",
    "\n",
    "Recall that u-substitution is used when trying to solve difficult integrals or derivatives. The idea being that we replace something complicated with something simple, solve the equation, and then plug the complicated part back in.\n",
    "\n",
    "The important thing to realize is that when we do u-substitution we are effectivaly defining a mapping between the given expression and the variable $u$ which is being substituted into the equation.\n",
    "\n",
    "### One-dimensional case\n",
    "\n",
    "Assume we have a function $f: y = e^{4x+5}$ that we want to integrate. We can use u-substitution to simplify the equation and derive a solution. \n",
    "\n",
    "We see that the function $f$ can be broken down into two parts: an exponential function $f_e$ which transforms a linear function $f_l$ of $x$. Thus $f$ can be restated as composit of these two functions:\n",
    "\n",
    "$$ f = f_e(f_l(x)) $$\n",
    "\n",
    "We can simplify the function $f$ by changing variables. Instead of writing things in terms of $x$ we can write them in a way that avoids the nested functions by defining u such that:\n",
    "\n",
    "$$ f_l(x) = u $$\n",
    "\n",
    "$$ u = 4x + 5$$\n",
    "\n",
    "If we substitute this variable into the original equation we have a much simpler equation:\n",
    "\n",
    "$$ y = e^u $$ \n",
    "\n",
    "Looking at the integral we then have:\n",
    "\n",
    "$$ \\int y = \\int e^u \\ dx $$\n",
    "\n",
    "And this is wherethe Jacobian and its determinant come into play. The integral is multiplying the function by the change in $x$ which is denoted $dx$. We have changed the function's variable from $x$ to $u$ so we need the change in $u$ to appear in the equation in order to the math to make sense. We need to derive a value for $du$. Mathematically we have $\\frac{du}{dx} = \\frac{d}{dx}[4x + 5] = 4$. Doing some minot algebra we then find that $du = 4 \\ dx$ and conversely $dx = \\frac{1}{4} \\ du$.\n",
    "\n",
    "Substituting this into the equation we then see:\n",
    "\n",
    "$$\\int y = \\frac{1}{4} \\int e^u \\ du$$\n"
   ]
  },
  {
   "cell_type": "markdown",
   "id": "e3bcfc13-9af6-45b2-9e30-f546b2101b40",
   "metadata": {},
   "source": [
    "If we can get the equation into this form we can find then the integral."
   ]
  },
  {
   "cell_type": "markdown",
   "id": "a83d903a-10fb-4ba0-9ede-d8d0c9f2409e",
   "metadata": {},
   "source": [
    "##### Note On the Jacobian Determinant\n",
    "It's very subtle but in order to make the transformation work we have employed the determinant of the jacobian."
   ]
  },
  {
   "cell_type": "markdown",
   "id": "62702fb4-7e0f-475c-8b02-5d803d7ec43c",
   "metadata": {},
   "source": [
    "$$|\\mathbb{J}_{u}| = \\begin{vmatrix}\\frac{\\partial u}{\\partial x}\\end{vmatrix} = 4$$\n",
    "\n",
    "$$|\\mathbb{J}_{u}^{-1}| = \\begin{vmatrix}\\frac{\\partial x}{\\partial u}\\end{vmatrix} = \\frac{1}{4}$$"
   ]
  },
  {
   "cell_type": "markdown",
   "id": "7d01a85e-116c-4854-b21d-304fcdea7f07",
   "metadata": {},
   "source": [
    "As mentioned previously, we can use the Jacobian to transform points, but we use the Jacobian determinant to tranform areas. This will make more sense in higher dimensions but:\n",
    "\n",
    "$$a_u = |\\mathbb{J}_u| a_x $$\n",
    "$$a_x = |\\mathbb{J}_u^{-1}| a_u $$"
   ]
  },
  {
   "cell_type": "markdown",
   "id": "cd57bf70-4578-4a7d-94fb-55b1ae1d474e",
   "metadata": {},
   "source": [
    "Recall that a 2-dimensional area is the product of two lengths (or two changes in length). In the unidimensional case, there is only one dimension in the procut so it's a bit hidden but equivalently we have:\n",
    "\n",
    "$$ \\frac{du}{dx} = |\\mathbb{J}_u| $$\n",
    "\n",
    "$$ dx =  |\\mathbb{J}_u^{-1}|du = |\\mathbb{J}_u|^{-1}du$$\n",
    "$$ du =  |\\mathbb{J}_u|dx $$\n",
    "\n"
   ]
  },
  {
   "cell_type": "markdown",
   "id": "d1f36aeb-694b-4dcf-b522-12631f898666",
   "metadata": {},
   "source": [
    "### Two Dimensional Vector Case\n",
    "\n",
    "When performing a change of variable for a two dimensional vector we are transforming a space $(x, y)$ to a different space $(u,v)$. In other words $(x,y) \\overset{T} \\rightarrow (u,v)$. \n",
    "\n",
    "We represent the area created by the dimensions $(x,y)$ as $A$ and the area created by $(u, v)$ as $B$. \n",
    "\n",
    "Recall that area is the product of lengths measured in different dimensions. We can think of a length as a change in the dimension. For example, in the $x$ dimenstion, a length would be the difference between two points $x_1$ and $x_2$. We can instead represent the length as $dx$. Thus the areas can be represented as:\n",
    "\n",
    "$$ A = \\partial x \\ \\partial y$$\n",
    "$$ B = \\partial u \\ \\partial v$$\n",
    "\n",
    "The jacobian determinant allows us to convert the areas between the spaces\n",
    "\n",
    "$$ B = |J_{x,y}|A $$\n",
    "$$ A = |J_{x,y}^{-1}|B $$\n",
    "\n",
    "This is useful because with vector integration we are dealing with n-dimensional areas.\n",
    "\n",
    "The formula for this change of variable while taking a double integral is as follows:\n",
    "\n",
    "$$ \n",
    "\\iint\n",
    "\\limits_{A}\n",
    "f(x,y) \\ \\partial x \\  \\partial y \n",
    "= \n",
    "\\iint\n",
    "\\limits_{B}\n",
    "f ( \n",
    "u, v\n",
    ")\n",
    "\\begin{vmatrix}\n",
    "\\frac{\\partial (x, y)}{\\partial (u, v)}\n",
    "\\end{vmatrix}\n",
    "\\ \\partial u \\ \\partial v\n",
    "$$\n",
    "\n",
    "$$ \n",
    "\\iint\n",
    "\\limits_{A}\n",
    "f(x,y) \\ \\partial x \\  \\partial y \n",
    "= \n",
    "\\iint\n",
    "\\limits_{B}\n",
    "f ( \n",
    "u, v\n",
    ")\n",
    "|\\mathbb{J}_f^{-1}|\n",
    "\\ \\partial u \\ \\partial v\n",
    "$$\n",
    "\n",
    "We see that the determinant of the inverse jacobian $|\\mathbb{J}_f^{-1}| = \\begin{vmatrix} \\frac{\\partial (x, y)}{\\partial (u, v)} \\end{vmatrix}$ is used to scale the area. The idea being that the area according to the original variables equals the area of the new variables multiplied by the scaling factor.\n",
    "\n",
    "Examples can be found [here](https://math24.net/change-variables-double-integrals.html)."
   ]
  }
 ],
 "metadata": {
  "kernelspec": {
   "display_name": "Python 3",
   "language": "python",
   "name": "python3"
  },
  "language_info": {
   "codemirror_mode": {
    "name": "ipython",
    "version": 3
   },
   "file_extension": ".py",
   "mimetype": "text/x-python",
   "name": "python",
   "nbconvert_exporter": "python",
   "pygments_lexer": "ipython3",
   "version": "3.6.8"
  }
 },
 "nbformat": 4,
 "nbformat_minor": 5
}
