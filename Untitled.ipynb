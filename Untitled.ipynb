{
 "cells": [
  {
   "cell_type": "code",
   "execution_count": 15,
   "id": "303ea4d5-303b-43c7-bc77-505c9dd2382c",
   "metadata": {},
   "outputs": [],
   "source": [
    "import os"
   ]
  },
  {
   "cell_type": "code",
   "execution_count": 16,
   "id": "85695e05-de0b-45d7-b9d1-1ab448183ebc",
   "metadata": {},
   "outputs": [],
   "source": [
    "def get_filesystem_root():\n",
    "    if os.name == 'nt':\n",
    "        return os .path.abspath('.').split(os.path.sep)[0] + os.path.sep\n",
    "    else:\n",
    "        return '/'"
   ]
  },
  {
   "cell_type": "code",
   "execution_count": 27,
   "id": "ba1a37c9-2b60-4cd8-afff-cba649385056",
   "metadata": {},
   "outputs": [],
   "source": [
    "def link_data_dir_to_root(data_dir):\n",
    "    data_dir = os.path.abspath(data_dir)\n",
    "    for filename in os.listdir(data_dir):\n",
    "        # Check if file is linked\n",
    "        if not os.path.exists(\"/{0}\".format(filename)):\n",
    "            src = os.path.join(data_dir, filename)\n",
    "            dest = os.path.join(get_filesystem_root(), filename)\n",
    "            print(\"Creating Symlink: {0} -> {1}\".format(src, dest))\n",
    "            os.symlink(src, dest)\n",
    " \n",
    "\n",
    "def unlink_data_dir_from_root(data_dir):\n",
    "    data_dir = os.path.abspath(data_dir)\n",
    "    for filename in os.listdir(data_dir):\n",
    "        # Check if file is linked\n",
    "        if os.path.exists(\"/{0}\".format(filename)):\n",
    "            src = os.path.join(data_dir, filename)\n",
    "            dest = os.path.join(get_filesystem_root(), filename)\n",
    "            if os.path.islink(dest):\n",
    "                print(\"Removing Symlink: {0} -> {1}\".format(src, dest))\n",
    "                os.unlink(dest)\n"
   ]
  },
  {
   "cell_type": "code",
   "execution_count": 30,
   "id": "b5959a87-f732-46f1-b515-ea8c7e244cf2",
   "metadata": {},
   "outputs": [
    {
     "name": "stdout",
     "output_type": "stream",
     "text": [
      "Creating Symlink: /root/ml-training-jupyter-notebooks/Example Data Sets/Test Scores.csv -> /Test Scores.csv\n",
      "Creating Symlink: /root/ml-training-jupyter-notebooks/Example Data Sets/nasdaq_2019.csv -> /nasdaq_2019.csv\n",
      "Creating Symlink: /root/ml-training-jupyter-notebooks/Example Data Sets/results.csv -> /results.csv\n"
     ]
    }
   ],
   "source": [
    "link_data_dir_to_root(\"Example Data Sets\")"
   ]
  },
  {
   "cell_type": "code",
   "execution_count": 32,
   "id": "a407cccf-191a-4a89-9287-622781fb97e7",
   "metadata": {},
   "outputs": [],
   "source": [
    "unlink_data_dir_from_root(\"Example Data Sets\")"
   ]
  }
 ],
 "metadata": {
  "kernelspec": {
   "display_name": "Python 3",
   "language": "python",
   "name": "python3"
  },
  "language_info": {
   "codemirror_mode": {
    "name": "ipython",
    "version": 3
   },
   "file_extension": ".py",
   "mimetype": "text/x-python",
   "name": "python",
   "nbconvert_exporter": "python",
   "pygments_lexer": "ipython3",
   "version": "3.6.8"
  }
 },
 "nbformat": 4,
 "nbformat_minor": 5
}
