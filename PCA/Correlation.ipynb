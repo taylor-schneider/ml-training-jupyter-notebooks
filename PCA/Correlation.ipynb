{
 "cells": [
  {
   "cell_type": "markdown",
   "metadata": {},
   "source": [
    "# Correlation\n",
    "\n",
    "In this notebook we explore correlation and the correlation coefficient"
   ]
  },
  {
   "cell_type": "markdown",
   "metadata": {},
   "source": [
    "## Prerequisites\n",
    "\n",
    "### Linearity\n",
    "Linearity is a property of a mathematical relationship.\n",
    "\n",
    "https://en.wikipedia.org/wiki/Linearity"
   ]
  },
  {
   "cell_type": "code",
   "execution_count": null,
   "metadata": {},
   "outputs": [],
   "source": []
  },
  {
   "cell_type": "markdown",
   "metadata": {},
   "source": []
  },
  {
   "cell_type": "markdown",
   "metadata": {},
   "source": [
    "## Types of Correlation\n",
    "\n",
    "There are several types of correlations\n",
    "- Pearson Correlation\n",
    "- Kendal Rank Correlation\n",
    "- Spearman Correlation\n",
    "- Point-Biserial Correlation\n",
    "\n",
    "https://www.statisticssolutions.com/correlation-pearson-kendall-spearman/"
   ]
  },
  {
   "cell_type": "markdown",
   "metadata": {},
   "source": [
    "## Pearson Correlation\n",
    "### Overview\n",
    "The pearson correlation coefficient is the mode widely used statistical measure. It assumes a linear relationship bweteen two variables and measures the strength and direction of that relationship.\n",
    "\n",
    "### Forumula\n",
    "The correlation coefficient is often expressed through the following formula:\n",
    "\n",
    "$$ \\rho = \\frac{\\sigma_{X,Y}}{\\sigma_X\\sigma_Y}=\\frac{\\frac{1}{n}\\sum{(x_i - \\mu_X)(y_i-\\mu_Y)}}{\\sqrt{\\frac{1}{n}\\sum{}(x_i-\\mu_X)^2}\\sqrt{\\frac{1}{n}\\sum{(y_i-\\mu_Y)^2}}} $$\n",
    "\n",
    "I believe this is the case because these values (covariance, std deviation, etc) are traditionally calculated in conjunction and this allows us to reuse that work\n",
    "\n",
    "If we simlify the formula by calcelling out the $1/n$ we would have something like\n",
    "\n",
    "$$ \\rho=\\frac{\\sum{(x_i - \\mu_X)\\sum(y_i-\\mu_Y)}}{\\sqrt{\\sum{(x_i-\\mu_X)^2}}\\sqrt{\\sum{(y_i-\\mu_Y)^2}}} =  \\frac{\\sum{(x_i - \\mu_X)(y_i-\\mu_Y)}}{\\sqrt{\\sum{(x_i-\\mu_X)^2(y_i-\\mu_Y)^2}}} = \\frac{\\sum d_xd_Y}{\\sqrt{\\sum d_x^2}\\sqrt{\\sum d_y^2}}$$\n",
    "\n",
    "From this simplified equation we see the formula is expressed as a fraction of deviations. We have the co-deviation divided by the total deviation"
   ]
  },
  {
   "cell_type": "markdown",
   "metadata": {},
   "source": [
    "### Intuition and Interpretation"
   ]
  },
  {
   "cell_type": "markdown",
   "metadata": {},
   "source": [
    "In order to understand the correlation coefficient we need to understand deviation. Thinking about this geometrically helps explain the concept.\n",
    "\n",
    "If we think about deviation in one dimension we would have the following:\n",
    "\n",
    "<img src=\"deviation_one_dimension.png\" alt=\"One Dimensional Deviation\" style=\"width: 400px;\"/>\n",
    "\n",
    "If we think about the problem in two dimensions we would have the following:\n",
    "    \n",
    "<img src=\"deviation_two_dimension.png\" alt=\"Two Dimensional Deviation\" style=\"width: 400px;\"/>\n",
    "\n",
    "We see that deviation in two dimensions is quantified by a two dimensional shape. If the deviations of the two variables is equal, then the shape is a square, if the deviations are not equal, we have a rectangle.\n",
    "\n",
    "We can also see that deviations can have a sign and thus the area of our polygons have a sign as well."
   ]
  },
  {
   "cell_type": "markdown",
   "metadata": {},
   "source": [
    "Now lets refer back to the equation:\n",
    "\n",
    "$$ \\rho = \\frac{\\sum d_xd_Y}{\\sqrt{\\sum d_x^2}\\sqrt{\\sum d_y^2}}$$\n",
    "\n",
    "So when we are looking at the numerator $\\sum d_x d_y$ we can see that we are adding areas or rectangles representing the deviation of x and y.\n",
    "\n",
    "<img src=\"deviation_two_dimension_geom.png\" alt=\"Two Dimensional Deviation Sum simple\" style=\"width: 400px;\"/>\n",
    "\n",
    "The denominator $\\sqrt{\\sum d_x^2}\\sqrt{\\sum d_y^2}$ is also an area. This area is intended to represent the maximum possible total deviations of both x and y. This area is calculated by multiplying the total deviations of x by the total deviations of y (ignoring signs).\n",
    "\n",
    "An interesting caveat in this calculation is the way that we determine the total deviation for a specific variable. We are using the squaring technique to find the absolute values rather than using the absolute value function. There are a number of overlapping explanations for why this is. The one i will focus on contunies the geometric explanation. We introduce a new dimension when we introduce a new variable. As such the x variable is now related to deviations in two dimensions. If all of the deviations of x are explained by y then, between the two dimensions, we form a square. An important characteristic of the square is that it has the largest area of any rectangle. This means that the squaring of the deviations represent the largest possible area representing the two dimensional deviation. Taking the quare root of this square gives us the optimal length of an arbitrary side.\n",
    "\n",
    "<img src=\"deviation_two_dimension_sum.png\" alt=\"Two Dimensional Deviation Sum\" style=\"width: 400px;\"/>"
   ]
  },
  {
   "cell_type": "code",
   "execution_count": null,
   "metadata": {},
   "outputs": [],
   "source": []
  },
  {
   "cell_type": "code",
   "execution_count": null,
   "metadata": {},
   "outputs": [],
   "source": []
  },
  {
   "cell_type": "code",
   "execution_count": null,
   "metadata": {},
   "outputs": [],
   "source": []
  },
  {
   "cell_type": "code",
   "execution_count": null,
   "metadata": {},
   "outputs": [],
   "source": []
  },
  {
   "cell_type": "code",
   "execution_count": null,
   "metadata": {},
   "outputs": [],
   "source": []
  },
  {
   "cell_type": "code",
   "execution_count": null,
   "metadata": {},
   "outputs": [],
   "source": []
  }
 ],
 "metadata": {
  "kernelspec": {
   "display_name": "Python 3",
   "language": "python",
   "name": "python3"
  },
  "language_info": {
   "codemirror_mode": {
    "name": "ipython",
    "version": 3
   },
   "file_extension": ".py",
   "mimetype": "text/x-python",
   "name": "python",
   "nbconvert_exporter": "python",
   "pygments_lexer": "ipython3",
   "version": "3.8.0"
  }
 },
 "nbformat": 4,
 "nbformat_minor": 4
}
