{
 "cells": [
  {
   "cell_type": "markdown",
   "metadata": {},
   "source": [
    "# Overview\n",
    "This jupyter notebook follows the \"Doing ETL with Numpy\" notebook\n",
    "\n",
    "We wil be using the same sample data and the same high level steps :\n",
    "1. Examine the raw data format\n",
    "2. Identify required extractions and transformations\n",
    "3. Test transformations\n",
    "4. Perform extract, transform, and load steps.\n",
    "\n",
    "It is assumed you have read the notebook on loading a csv using numpy as much of this notebook is taken from that."
   ]
  },
  {
   "cell_type": "markdown",
   "metadata": {},
   "source": [
    "# Step 1. Examine the data"
   ]
  },
  {
   "cell_type": "markdown",
   "metadata": {},
   "source": [
    "# Step 2. Identify required extractions and transformations\n",
    "\n",
    "## 2.1. Identify ways to solve the problem\n",
    "We can try the same basic options as the numpy notebook:\n",
    "\n",
    "1. Let pandas guess what to do (not reccomended, we will see why)\n",
    "2. Tell pandas what types you want and hope everything works out of the box (like in step 3.1)\n",
    "3. Write a conversion function for pandas framework\n",
    "4. Write a parsing mechanism from scratch\n"
   ]
  },
  {
   "cell_type": "markdown",
   "metadata": {},
   "source": [
    "## 2.2. Trial and error\n",
    "\n",
    "We can see that option #1 will not work. Pandas will not do this out of the box. Option #2 will not work because of the percentages."
   ]
  },
  {
   "cell_type": "code",
   "execution_count": 3,
   "metadata": {},
   "outputs": [
    {
     "data": {
      "text/html": [
       "<div>\n",
       "<style scoped>\n",
       "    .dataframe tbody tr th:only-of-type {\n",
       "        vertical-align: middle;\n",
       "    }\n",
       "\n",
       "    .dataframe tbody tr th {\n",
       "        vertical-align: top;\n",
       "    }\n",
       "\n",
       "    .dataframe thead th {\n",
       "        text-align: right;\n",
       "    }\n",
       "</style>\n",
       "<table border=\"1\" class=\"dataframe\">\n",
       "  <thead>\n",
       "    <tr style=\"text-align: right;\">\n",
       "      <th></th>\n",
       "      <th>dates</th>\n",
       "      <th>ints</th>\n",
       "      <th>percents</th>\n",
       "      <th>numbers</th>\n",
       "    </tr>\n",
       "  </thead>\n",
       "  <tbody>\n",
       "    <tr>\n",
       "      <th>0</th>\n",
       "      <td>2019-04-08</td>\n",
       "      <td>1</td>\n",
       "      <td>2.3%</td>\n",
       "      <td>45.0</td>\n",
       "    </tr>\n",
       "    <tr>\n",
       "      <th>1</th>\n",
       "      <td>2019-04-08</td>\n",
       "      <td>6</td>\n",
       "      <td>78.9%</td>\n",
       "      <td>0.0</td>\n",
       "    </tr>\n",
       "  </tbody>\n",
       "</table>\n",
       "</div>"
      ],
      "text/plain": [
       "       dates  ints percents  numbers\n",
       "0 2019-04-08     1     2.3%     45.0\n",
       "1 2019-04-08     6    78.9%      0.0"
      ]
     },
     "execution_count": 3,
     "metadata": {},
     "output_type": "execute_result"
    }
   ],
   "source": [
    "column_names = (\"dates\", \"ints\", \"percents\", \"numbers\")\n",
    "test_data_string = \"2019-04-08, 1, 2.3%, 45.\\n2019-04-08, 6, 78.9%, 0\"\n",
    "column_types = \"object,int,str,float\"\n",
    "\n",
    "# Import a module to help us import data\n",
    "# This module implements a file-like class, StringIO, that reads and writes a string buffer\n",
    "import io\n",
    "\n",
    "# Create a file handle for our string data\n",
    "test_data_file_handle = io.StringIO(test_data_string)\n",
    "\n",
    "import pandas\n",
    "df = pandas.read_csv(test_data_file_handle, names=column_names, dtype=column_types, parse_dates=[\"dates\"])\n",
    "\n",
    "df"
   ]
  },
  {
   "cell_type": "markdown",
   "metadata": {},
   "source": [
    "We see the dataypes are not correct"
   ]
  },
  {
   "cell_type": "code",
   "execution_count": 4,
   "metadata": {},
   "outputs": [
    {
     "data": {
      "text/plain": [
       "dates       datetime64[ns]\n",
       "ints                 int32\n",
       "percents            object\n",
       "numbers            float64\n",
       "dtype: object"
      ]
     },
     "execution_count": 4,
     "metadata": {},
     "output_type": "execute_result"
    }
   ],
   "source": [
    "df.dtypes"
   ]
  },
  {
   "cell_type": "markdown",
   "metadata": {},
   "source": [
    "## 2.3. Whic data types to use?\n",
    "We will need to write code to tell the system how to interpret the values. Some of this is implimented out-of-the-box by numpy and some is custom software.\n",
    "\n",
    "Consulting the documentation we see that Pandas supports the numpy datatypes:\n",
    "\n",
    "> For the most part, pandas uses NumPy arrays and dtypes for Series or individual columns of a DataFrame. NumPy provides support for float, int, bool, timedelta64[ns] and datetime64[ns] (note that NumPy does not support timezone-aware datetimes).\n",
    ">\n",
    "> Pandas and third-party libraries extend NumPy’s type system in a few places. This section describes the extensions pandas has made internally. See Extension types for how to write your own extension that works with pandas. See Extension data types for a list of third-party libraries that have implemented an extension.\n",
    ">\n",
    "> https://pandas.pydata.org/pandas-docs/stable/getting_started/basics.html#basics-dtypes\n",
    "\n",
    "We also see it has some extensions:\n",
    "\n",
    "> pandas contains extensive capabilities and features for working with time series data for all domains. Using the NumPy datetime64 and timedelta64 dtypes, pandas has consolidated a large number of features from other Python libraries like scikits.timeseries as well as created a tremendous amount of new functionality for manipulating time series data.\n",
    ">\n",
    "> https://pandas.pydata.org/pandas-docs/stable/user_guide/timeseries.html\n",
    "\n",
    "Reading more of the documentation we see that pandas offers some additional types:\n",
    "- Timestamp\n",
    "- Timedelta\n",
    "\n",
    "We will stick with the original numpy datatypes used in the previous notebook:\n",
    "\n",
    "| Column  | Input Type | Extract / ET Transform | Output Type |\n",
    "|---------|------------|---------------------|-------------|\n",
    "| 1       | string     |                     | datetime64  |\n",
    "| 2       | string     |                     | int         |\n",
    "| 3       | string     | Remove % symbol     | float       |\n",
    "| 3       | string     |                     | float       |"
   ]
  },
  {
   "cell_type": "markdown",
   "metadata": {},
   "source": [
    "# Step 3. Test Extractions And Transformation Functions\n",
    "We will use the same transformations functions as in the numpy notebook as we are using the same datatypes."
   ]
  },
  {
   "cell_type": "code",
   "execution_count": 5,
   "metadata": {
    "jupyter": {
     "source_hidden": true
    },
    "tags": []
   },
   "outputs": [],
   "source": [
    "def convert_date_string_to_date(raw_bytes):\n",
    "    \n",
    "    # The input variable will be a byte array\n",
    "    # We will convert this to a string\n",
    "    input_string = raw_bytes.decode(\"utf-8\")\n",
    "\n",
    "    # We then do our manipulation\n",
    "    input_string = input_string.strip()\n",
    "\n",
    "    # Make it a date\n",
    "    result = numpy.datetime64(input_string, 'D')\n",
    "\n",
    "    return result\n",
    "\n",
    "def convert_percent_string_to_float(raw_bytes):\n",
    "    \n",
    "    # The input variable will be a byte array\n",
    "    # We will convert this to a string\n",
    "    input_string = raw_bytes.decode(\"utf-8\")\n",
    "\n",
    "    # We then do our manipulation\n",
    "    input_string = input_string.strip()\n",
    "    input_string = input_string.strip(\"%\")\n",
    "\n",
    "    # Make it a float\n",
    "    input_float = float(input_string)\n",
    "\n",
    "    # We move the decimal place\n",
    "    result = input_float/100\n",
    "\n",
    "    return result"
   ]
  },
  {
   "cell_type": "markdown",
   "metadata": {},
   "source": [
    "# Step 4: Plug ET functions into numpy/pandas framework"
   ]
  },
  {
   "cell_type": "code",
   "execution_count": 7,
   "metadata": {},
   "outputs": [
    {
     "data": {
      "text/html": [
       "<div>\n",
       "<style scoped>\n",
       "    .dataframe tbody tr th:only-of-type {\n",
       "        vertical-align: middle;\n",
       "    }\n",
       "\n",
       "    .dataframe tbody tr th {\n",
       "        vertical-align: top;\n",
       "    }\n",
       "\n",
       "    .dataframe thead th {\n",
       "        text-align: right;\n",
       "    }\n",
       "</style>\n",
       "<table border=\"1\" class=\"dataframe\">\n",
       "  <thead>\n",
       "    <tr style=\"text-align: right;\">\n",
       "      <th></th>\n",
       "      <th>dates</th>\n",
       "      <th>ints</th>\n",
       "      <th>percents</th>\n",
       "      <th>numbers</th>\n",
       "    </tr>\n",
       "  </thead>\n",
       "  <tbody>\n",
       "    <tr>\n",
       "      <th>0</th>\n",
       "      <td>2019-04-08</td>\n",
       "      <td>1</td>\n",
       "      <td>0.023</td>\n",
       "      <td>45.0</td>\n",
       "    </tr>\n",
       "    <tr>\n",
       "      <th>1</th>\n",
       "      <td>2019-04-08</td>\n",
       "      <td>6</td>\n",
       "      <td>0.789</td>\n",
       "      <td>0.0</td>\n",
       "    </tr>\n",
       "  </tbody>\n",
       "</table>\n",
       "</div>"
      ],
      "text/plain": [
       "       dates  ints  percents  numbers\n",
       "0 2019-04-08     1     0.023     45.0\n",
       "1 2019-04-08     6     0.789      0.0"
      ]
     },
     "execution_count": 7,
     "metadata": {},
     "output_type": "execute_result"
    }
   ],
   "source": [
    "# Setup some other parameters to instruct numpy function how and what we are importing\n",
    "column_names = (\"dates\", \"ints\", \"percents\", \"numbers\")\n",
    "test_data_string = \"2019-04-08, 1, 2.3%, 45.\\n2019-04-08, 6, 78.9%, 0\"\n",
    "delimiter = \",\"\n",
    "converter_mapping = {\n",
    "    \"percents\": convert_percent_string_to_float,\n",
    "    \"dates\": convert_date_string_to_date\n",
    "}\n",
    "column_types = \"datetime64[D],int64,float64,float64\"\n",
    "\n",
    "# Import a module to help us import data\n",
    "# This module implements a file-like class, StringIO, that reads and writes a string buffer\n",
    "import io\n",
    "\n",
    "# Create a file handle for our string data\n",
    "test_data_file_handle = io.StringIO(test_data_string)\n",
    "\n",
    "# Load the data into a numpy array\n",
    "import numpy\n",
    "nda = numpy.genfromtxt(test_data_file_handle, delimiter=delimiter, names=column_names, converters=converter_mapping, dtype=column_types)\n",
    "\n",
    "# Convert the ndarray into a dataframe\n",
    "df = pandas.DataFrame(nda)\n",
    "\n",
    "df"
   ]
  },
  {
   "cell_type": "code",
   "execution_count": 8,
   "metadata": {},
   "outputs": [
    {
     "data": {
      "text/plain": [
       "dates       datetime64[ns]\n",
       "ints                 int64\n",
       "percents           float64\n",
       "numbers            float64\n",
       "dtype: object"
      ]
     },
     "execution_count": 8,
     "metadata": {},
     "output_type": "execute_result"
    }
   ],
   "source": [
    "df.dtypes"
   ]
  }
 ],
 "metadata": {
  "kernelspec": {
   "display_name": "Python 3",
   "language": "python",
   "name": "python3"
  },
  "language_info": {
   "codemirror_mode": {
    "name": "ipython",
    "version": 3
   },
   "file_extension": ".py",
   "mimetype": "text/x-python",
   "name": "python",
   "nbconvert_exporter": "python",
   "pygments_lexer": "ipython3",
   "version": "3.6.8"
  }
 },
 "nbformat": 4,
 "nbformat_minor": 4
}
