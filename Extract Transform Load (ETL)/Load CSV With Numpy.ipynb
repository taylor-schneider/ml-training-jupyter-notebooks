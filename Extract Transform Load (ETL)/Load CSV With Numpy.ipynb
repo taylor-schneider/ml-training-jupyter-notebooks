{
 "cells": [
  {
   "cell_type": "markdown",
   "metadata": {},
   "source": [
    "# Overview\n",
    "The Extract, Transform, and Load process is generally the first step to machine learning\n",
    "\n",
    "We will use a small silly data set to make our lives easier while we examine the tools for performing ETL\n",
    "\n",
    "The high level steps to this process will be:\n",
    "1. Examine the raw data format\n",
    "2. Identify required extractions and transformations\n",
    "3. Test transformations\n",
    "4. Perform extract, transform, and load steps.\n"
   ]
  },
  {
   "cell_type": "markdown",
   "metadata": {},
   "source": [
    "# Step 1. Examine the raw data format\n",
    "We need to look at the raw data contained in a csv to get an idea of what extract and transform steps will need to be completed in order to load the data into python objects (in our case a numpy array).\n",
    "\n",
    "<code>[root@localhost JupyterDataScience]# cat tmp.csv \n",
    "2019-04-08, 1, 2.3%, 45.6\n",
    "2019-05-08, 6, 78.9%, 0\n",
    "</code>\n",
    "\n",
    "There are several key observations:\n",
    "1. There are no column headers\n",
    "2. Each column appears to have a different type (date, int, percent, float)\n",
    "3. Some of the column types are not natively understood by our loader and will need to be extracted and/or transformed!"
   ]
  },
  {
   "cell_type": "markdown",
   "metadata": {},
   "source": [
    "# Step 2. Identify required extractions and transformations\n",
    "\n",
    "If the data is in the format we will be using for our algorithms then we dont need to do ETL. But this is a tutorial on ETL so our life is not that easy... Lets assume that we want the data to be put into a new specific format (date, int, float, float).\n",
    "\n",
    "## 2.1. Identify ways to solve the problem\n",
    "\n",
    "There are a few options we can try:\n",
    "1. Let numpy guess what to do (not reccomended, we will see why)\n",
    "2. Tell numpy what types you want and hope everything works out of the box (like in step 3.1)\n",
    "3. Write a conversion function for numpy framework\n",
    "4. Write a parsing mechanism from scratch\n"
   ]
  },
  {
   "cell_type": "markdown",
   "metadata": {},
   "source": [
    "## 2.2. Trial and error\n",
    "\n",
    "We can see that option #1 will not work. Numpy will not do this out of the box. We get nan as the value of our problematic cells and every cell gets a datatype of '<f8' which coresponds to an in I believe."
   ]
  },
  {
   "cell_type": "code",
   "execution_count": 1,
   "metadata": {
    "jupyter": {
     "source_hidden": true
    },
    "tags": []
   },
   "outputs": [
    {
     "data": {
      "text/plain": [
       "array([(nan, 1., nan, 45.), (nan, 6., nan,  0.)],\n",
       "      dtype=[('dates', '<f8'), ('ints', '<f8'), ('percents', '<f8'), ('numbers', '<f8')])"
      ]
     },
     "execution_count": 1,
     "metadata": {},
     "output_type": "execute_result"
    }
   ],
   "source": [
    "# Setup some other parameters to instruct numpy function how and what we are importing\n",
    "column_names = (\"dates\", \"ints\", \"percents\", \"numbers\")\n",
    "test_data_string = \"2019-04-08, 1, 2.3%, 45.\\n2019-4-8, 6, 78.9%, 0\"\n",
    "delimiter = \",\"\n",
    "\n",
    "\n",
    "# Import a module to help us import data\n",
    "# This module implements a file-like class, StringIO, that reads and writes a string buffer\n",
    "import io\n",
    "\n",
    "# Create a file handle for our string data\n",
    "test_data_file_handle = io.StringIO(test_data_string)\n",
    "\n",
    "# Load the data into a numpy array\n",
    "import numpy\n",
    "etl_data = numpy.genfromtxt(test_data_file_handle, delimiter=delimiter, names=column_names)\n",
    "\n",
    "etl_data"
   ]
  },
  {
   "cell_type": "markdown",
   "metadata": {},
   "source": [
    "Additionally we will see that option #2 does not work either. Numpy cannot natively understand the percentage datatype as seen in part 3.3.\n",
    "\n",
    "This leaves options 3 and 4. We will see that option 3 will work and is likely the fastest and easiest solution (assuming we know what we are doing)."
   ]
  },
  {
   "cell_type": "markdown",
   "metadata": {},
   "source": [
    "## 2.3. Whic data types to use?\n",
    "We will need to write code to tell the system how to interpret the values. Some of this is implimented out-of-the-box by numpy and some is custom software.\n",
    "\n",
    "For example \"2.3%\" should be interpreted as a float with a value of 0.23. \n",
    "\n",
    "Another example being '2019-04-08' should be loaded into a date format but I am not sure which. To arrive at the right conclusion we can consult the [documentation for numpy data types](https://docs.scipy.org/doc/numpy/user/basics.types.html). We see that dates are special and not mentioned explicitly on this page but instead are meantioned [here](https://docs.scipy.org/doc/numpy/reference/arrays.datetime.html). Some helpful examples of manipulating this data type can be found [here](http://poquitopicante.blogspot.com/2013/06/dates-and-datetimes.html).\n",
    "\n",
    "We can extract some important information about datetimes:\n",
    "\n",
    "> Starting in NumPy 1.7, there are core array data types which natively support datetime functionality. The data type is called “datetime64”, so named because “datetime” is already taken by the datetime library included in Python. \n",
    "\n",
    "> The most basic way to create datetimes is from strings in ISO 8601 date or datetime format. The unit for internal storage is automatically selected from the form of the string, and can be either a date unit or a time unit. The date units are years (‘Y’), months (‘M’), weeks (‘W’), and days (‘D’), while the time units are hours (‘h’), minutes (‘m’), seconds (‘s’), milliseconds (‘ms’), and some additional SI-prefix seconds-based units.\n",
    "\n",
    "\n",
    "\n",
    "| Column  | Input Type | Extract / Transform | Output Type |\n",
    "|---------|------------|---------------------|-------------|\n",
    "| 1       | string     |                     | datetime64  |\n",
    "| 2       | string     |                     | int         |\n",
    "| 3       | string     | Remove % symbol     | float       |\n",
    "| 3       | string     |                     | float       |"
   ]
  },
  {
   "cell_type": "markdown",
   "metadata": {},
   "source": [
    "# Step 3. Test Extractions And Transformation Functions\n",
    "Numpy allows us to plug into its ETL process with custom functions. They need to be able to tolerate byte code representations of the string. We will impliment a few examples and test them out here and confirm we convert our data into the right types."
   ]
  },
  {
   "cell_type": "markdown",
   "metadata": {},
   "source": [
    "## 3.1. Convert string to datetime64"
   ]
  },
  {
   "cell_type": "code",
   "execution_count": 2,
   "metadata": {},
   "outputs": [
    {
     "name": "stdout",
     "output_type": "stream",
     "text": [
      "The type of a is: <class 'numpy.datetime64'>.\n",
      "The value of a is: 2005-02-25.\n",
      "The units of a are: datetime64[D]\n",
      "\n"
     ]
    }
   ],
   "source": [
    "# Import the numpy library\n",
    "import numpy\n",
    "\n",
    "# Prove that we can convert a string to a datetime\n",
    "a = numpy.datetime64('2005-02-25')\n",
    "print(\"The type of a is: {0}.\".format(type(a)))\n",
    "print(\"The value of a is: {0}.\".format(a))\n",
    "print(\"The units of a are: {0}\".format(a.dtype))\n",
    "print(\"\")"
   ]
  },
  {
   "cell_type": "code",
   "execution_count": 3,
   "metadata": {},
   "outputs": [
    {
     "name": "stdout",
     "output_type": "stream",
     "text": [
      "The type of y is: <class 'numpy.datetime64'>.\n",
      "The value of y is: 2019-05-06.\n",
      "The units of y are: datetime64[D]\n"
     ]
    }
   ],
   "source": [
    "def convert_date_string_to_date(raw_bytes):\n",
    "    \n",
    "    # The input variable will be a byte array\n",
    "    # We will convert this to a string\n",
    "    input_string = raw_bytes.decode(\"utf-8\")\n",
    "\n",
    "    # We then do our manipulation\n",
    "    input_string = input_string.strip()\n",
    "\n",
    "    # Make it a date\n",
    "    result = numpy.datetime64(input_string, 'D')\n",
    "\n",
    "    return result\n",
    "\n",
    "test_string = \"2019-05-06\"\n",
    "test_bytes = test_string.encode(\"UTF-8\", test_string)\n",
    "y = convert_date_string_to_date(test_bytes)\n",
    "print(\"The type of y is: {0}.\".format(type(y)))\n",
    "print(\"The value of y is: {0}.\".format(y))\n",
    "print(\"The units of y are: {0}\".format(y.dtype))"
   ]
  },
  {
   "cell_type": "markdown",
   "metadata": {},
   "source": [
    "## 3.2. Convert string to int"
   ]
  },
  {
   "cell_type": "code",
   "execution_count": 4,
   "metadata": {},
   "outputs": [
    {
     "name": "stdout",
     "output_type": "stream",
     "text": [
      "The type of b is: <class 'numpy.int64'>.\n",
      "The value of b is 1.\n",
      "\n"
     ]
    }
   ],
   "source": [
    "# Prove that we can convert a string to an int\n",
    "b = numpy.int64(\"1\")\n",
    "print(\"The type of b is: {0}.\".format(type(b)))\n",
    "print(\"The value of b is {0}.\".format(b))\n",
    "print(\"\")"
   ]
  },
  {
   "cell_type": "markdown",
   "metadata": {},
   "source": [
    "## 3.3. Convert percentage string to float"
   ]
  },
  {
   "cell_type": "code",
   "execution_count": 5,
   "metadata": {},
   "outputs": [
    {
     "name": "stdout",
     "output_type": "stream",
     "text": [
      "An exception was raised while parsing c\n",
      "\n",
      "The type of x is: <class 'float'>.\n",
      "The value of x is: 0.023.\n"
     ]
    }
   ],
   "source": [
    "# There is no datatype called 'percent' and we cannot convert \"2.3%\" to 0.23\n",
    "# Prove this\n",
    "try:\n",
    "    c = numpy.float64(\"2.3%\")\n",
    "    print(\"The type of c is: {0}.\".format(type(c)))\n",
    "    print(\"\")\n",
    "except Exception as e:\n",
    "    print(\"An exception was raised while parsing c\")\n",
    "    print(\"\")\n",
    "\n",
    "def convert_percent_string_to_float(raw_bytes):\n",
    "    \n",
    "    # The input variable will be a byte array\n",
    "    # We will convert this to a string\n",
    "    input_string = raw_bytes.decode(\"utf-8\")\n",
    "\n",
    "    # We then do our manipulation\n",
    "    input_string = input_string.strip()\n",
    "    input_string = input_string.strip(\"%\")\n",
    "\n",
    "    # Make it a float\n",
    "    input_float = float(input_string)\n",
    "\n",
    "    # We move the decimal place\n",
    "    result = input_float/100\n",
    "\n",
    "    return result\n",
    "\n",
    "test_string = \"2.3%\"\n",
    "test_bytes = test_string.encode(\"UTF-8\", test_string)\n",
    "x = convert_percent_string_to_float(test_bytes)\n",
    "print(\"The type of x is: {0}.\".format(type(x)))\n",
    "print(\"The value of x is: {0}.\".format(x))"
   ]
  },
  {
   "cell_type": "markdown",
   "metadata": {},
   "source": [
    "## 3.4. Convert string to float"
   ]
  },
  {
   "cell_type": "code",
   "execution_count": 6,
   "metadata": {},
   "outputs": [
    {
     "name": "stdout",
     "output_type": "stream",
     "text": [
      "The type of d is: <class 'numpy.float64'>.\n",
      "The value of d is 5.6667.\n",
      "\n"
     ]
    }
   ],
   "source": [
    "d = numpy.float64(\"5.6667\")\n",
    "print(\"The type of d is: {0}.\".format(type(d)))\n",
    "print(\"The value of d is {0}.\".format(d))\n",
    "print(\"\")"
   ]
  },
  {
   "cell_type": "markdown",
   "metadata": {},
   "source": [
    "# Step 4: Plug ET functions into numpy framework\n",
    "Numpy provides us the ability to dictate the datatypes to be used for each column as well as a mapping object to apply functions to each column."
   ]
  },
  {
   "cell_type": "code",
   "execution_count": 7,
   "metadata": {},
   "outputs": [
    {
     "data": {
      "text/plain": [
       "array([('2019-04-08', 1, 0.023, 45.), ('2019-04-08', 6, 0.789,  0.)],\n",
       "      dtype=[('dates', '<M8[D]'), ('ints', '<i8'), ('percents', '<f8'), ('numbers', '<f8')])"
      ]
     },
     "execution_count": 7,
     "metadata": {},
     "output_type": "execute_result"
    }
   ],
   "source": [
    "# Setup some other parameters to instruct numpy function how and what we are importing\n",
    "column_names = (\"dates\", \"ints\", \"percents\", \"numbers\")\n",
    "test_data_string = \"2019-04-08, 1, 2.3%, 45.\\n2019-04-08, 6, 78.9%, 0\"\n",
    "delimiter = \",\"\n",
    "converter_mapping = {\n",
    "    \"percents\": convert_percent_string_to_float,\n",
    "    \"dates\": convert_date_string_to_date\n",
    "}\n",
    "column_types = \"datetime64[D],int64,float64,float64\"\n",
    "\n",
    "# Import a module to help us import data\n",
    "# This module implements a file-like class, StringIO, that reads and writes a string buffer\n",
    "import io\n",
    "\n",
    "# Create a file handle for our string data\n",
    "test_data_file_handle = io.StringIO(test_data_string)\n",
    "\n",
    "# Load the data into a numpy array\n",
    "import numpy\n",
    "homework = numpy.genfromtxt(test_data_file_handle, delimiter=delimiter, names=column_names, converters=converter_mapping, dtype=column_types)\n",
    "\n",
    "homework"
   ]
  }
 ],
 "metadata": {
  "kernelspec": {
   "display_name": "Python 3",
   "language": "python",
   "name": "python3"
  },
  "language_info": {
   "codemirror_mode": {
    "name": "ipython",
    "version": 3
   },
   "file_extension": ".py",
   "mimetype": "text/x-python",
   "name": "python",
   "nbconvert_exporter": "python",
   "pygments_lexer": "ipython3",
   "version": "3.6.8"
  }
 },
 "nbformat": 4,
 "nbformat_minor": 4
}
