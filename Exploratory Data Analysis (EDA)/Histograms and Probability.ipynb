{
 "cells": [
  {
   "cell_type": "markdown",
   "metadata": {},
   "source": [
    "# Overview:\n",
    "In this notebook we look at how histograms can help us model an expected probability distribution. We will use python and some common data science libraries (numpy/pandas/matplotlib) to tabulate and visualize our histograms.\n",
    "\n",
    "The material is divided into the following parts:\n",
    "\n",
    "1. **Intro to Histograms** - We explore the basic types of histograms, the insignts they provide, and hot they are constructed\n",
    "2. **Histograms with Python** - We look at building the histograms with python\n",
    "3. **Additional Techniques for Empiricle Probabilities** - We identify some other techniques for calculating empiracle probabilities\n",
    "\n",
    "\n",
    "need to read this: \n",
    "https://answerminer.com/blog/binning-guide-ideal-histogram\n",
    "https://plotly.com/chart-studio-help/histogram/"
   ]
  },
  {
   "cell_type": "markdown",
   "metadata": {},
   "source": [
    "# 1. Intro to Histograms"
   ]
  },
  {
   "cell_type": "markdown",
   "metadata": {},
   "source": [
    "## 1.1 What is a histogram\n",
    "A histogram is a type of graph or chart which attempts to give a visual representation of how data points are distributed within a data set. In other words it visualizes the distribution of a sample. As such, it is a tool for aiding in the description of data similar to descriptive statistics.\n",
    "\n",
    "Practically speaking, a histogram is a bar chart which shows the number of times a particular element was found within a given data set.\n",
    "\n",
    "We will see in a later sections that there are multiple ways to construct the histogram. We will also see that these different constructions offer different advantages in terms of their descriptive power."
   ]
  },
  {
   "cell_type": "markdown",
   "metadata": {},
   "source": [
    "## 1.2 How Are Histograms Used?\n",
    "As mentioned earlier, histograms allows us to make descriptive inferances; many of which are tied to descriptive statistics.\n",
    "\n",
    "For example, we can visually infer the following sample statistics while looking at the distribution of data:\n",
    "\n",
    "1. center (i.e., the location) of the data;\n",
    "2. spread (i.e., the scale) of the data;\n",
    "3. skewness of the data;\n",
    "4. presence of outliers; and\n",
    "5. presence of multiple modes in the data.\n",
    "\n",
    "In addition to making descriptive inferences about the characteristics of the population distributions, histograms can also be used to extrapolate probabilities of observing events.\n",
    "\n",
    "In this regard, histograms become extremely helpful when we are trying to model an unknown distribution or a problem without an analytical solution.\n",
    "\n",
    "We will talk more about that in the coming sections."
   ]
  },
  {
   "cell_type": "markdown",
   "metadata": {},
   "source": [
    "## 1.3 Types of histograms\n",
    "\n",
    "There are a few different ways to impliment the historgram.\n",
    "\n",
    "- Frequency Distribution\n",
    "- Bin'ed Distributions\n",
    "- Probability\n",
    "\n",
    "From these we can extrapolate:\n",
    "\n",
    "- Cumulative frequency\n",
    "- Cumulative binning\n",
    "- Cumulative Probabilities\n",
    "\n",
    "We are going to focus on the first three histograms in this notebook.\n",
    "\n",
    "Some additional reading:\n",
    "- https://www.itl.nist.gov/div898/handbook/eda/section3/histogra.htm\n",
    "- https://plotly.com/chart-studio-help/histogram/"
   ]
  },
  {
   "cell_type": "markdown",
   "metadata": {},
   "source": [
    "### 1.3.1 Frequency Distributions\n",
    "\n",
    "We would use the simplest implimentation which literally count the number of occurances of each discrete value.\n",
    "\n",
    "In some cases this is useful but in many cases this leaves too many \"holes\" in our distribution.\n",
    "\n",
    "<img src='raw frequency.png' style='width:300px'>\n",
    "\n",
    "In extreme situations we we may notice that there isn't a real distribution being visualized... the data is just sort of \"flat\".\n",
    "\n",
    "<img src='raw data.png' style='width:300px'>\n"
   ]
  },
  {
   "cell_type": "markdown",
   "metadata": {},
   "source": [
    "### 1.3.2 Binning and Bin'ed Distributions\n",
    "\n",
    "Binning can help solve these problems by effectively changing our discretization. A good analogy would be a survey of peoples heights; measuring heights in millimeters may be too precise; resulting in \"holes\" or a \"flat\" distribution. If we changed our discretization to centimeters and rounded the raw data it might be more meaningful. We would thus derive frequcnies in terms of centimeters and may see the distribution become less flat or we might see holes get filled in. This process is a form of binning; we adopt a new discretization and map our raw data into it.\n",
    "\n",
    "Practically speaking we can break the number line into segments and count the number of times a value falls within the segment\n",
    "\n",
    "<img src='bins.png' style='width:300px'>\n",
    "\n",
    "<img src='bin frequency image.png' style='width:300px'>\n",
    "\n",
    "We can then plot the frequencies as a bar chart.\n",
    "\n",
    "<img src='bar chart image.png' style='width:300px'>\n",
    "\n",
    "While it gives an intuitive understanding of the distribution of our data it does not give an outright estimation of the likelihood. That will come from our inferred probability distirbution."
   ]
  },
  {
   "cell_type": "markdown",
   "metadata": {},
   "source": [
    "#### 1.3.2.1 Bin widths affect our observations\n",
    "\n",
    "A few notes on how with withs or our bins may affect our inferences:\n",
    "\n",
    "##### Bins do not need to be the same width\n",
    "\n",
    "Bins widths can vary between the bins. In some cases this may be advantagous when there is a natural aymetry in the data; for example when looking at the Covid-90 death rate amongst age groups. In other cases it may make it dificult to interpret the results in certain situations.\n",
    "\n",
    "##### Less granularity means less outliers\n",
    "\n",
    "If the bins are too wide, we loose granularity and may not visualize outliers.\n",
    "\n",
    "If the bins are too narrow, the natural dispersion of data may imply characteristics which are the result of sampling error.\n",
    "\n",
    "##### Odd numbers are bad??\n",
    "\n",
    "Odd numbers are bad for some reason?\n",
    "\n",
    "https://answerminer.com/blog/binning-guide-ideal-histogram"
   ]
  },
  {
   "cell_type": "markdown",
   "metadata": {},
   "source": [
    "#### 1.3.2.2 Choosing a bin width\n",
    "\n",
    "Now that we have talked about the pitfalls of binning, lets talk about some of the approaches to binning.\n",
    "\n",
    "Generally spekaing, we can determine a bin width if we know how many bins we would like (assuming uniform width):\n",
    "\n",
    "$$ bin \\ width = \\frac{X_{max} - X_{min}}{bin \\ count} $$\n",
    "\n",
    "Besides arbitrarily picking the number of bins, there are methods being specified to solve the problem:\n",
    "\n",
    "<table>\n",
    "    <thead>\n",
    "\t\t<tr>\n",
    "\t\t\t<th style=\"text-align: left;\">Method</th>\n",
    "\t\t\t<th style=\"text-align: left;\"># Bin</th>\n",
    "            <th style=\"text-align: left;\">Bin width</th>\n",
    "\t\t</tr>\n",
    "    </thead>\n",
    "    <colgroup>\n",
    "       <col span=\"1\" style=\"width: 35%;\">\n",
    "       <col span=\"1\" style=\"width: 25%;\">\n",
    "       <col span=\"1\" style=\"width: 40%;\">\n",
    "    </colgroup>\n",
    "\t<tbody>\n",
    "\t\t<tr>\n",
    "\t\t\t<td style=\"text-align: left;\">Square-root</td>\n",
    "\t\t\t<td style=\"text-align: left;\">$\\sqrt{N}$</td>\n",
    "            <td style=\"text-align: left;\">$\\frac{max - min}{\\# Bin}$</td>\n",
    "\t\t</tr>\n",
    "        <tr>\n",
    "\t\t\t<td style=\"text-align: left;\">Sturges 1926</td>\n",
    "\t\t\t<td style=\"text-align: left;\">$ceil(\\log_2{n})+1$</td>\n",
    "            <td style=\"text-align: left;\">$\\frac{max - min}{\\# Bin}$</td>\n",
    "\t\t</tr>\n",
    "        <tr>\n",
    "\t\t\t<td style=\"text-align: left;\">Rice 1944</td>\n",
    "\t\t\t<td style=\"text-align: left;\">$2 \\sqrt[3]{N}$</td>\n",
    "            <td style=\"text-align: left;\">$\\frac{max - min}{\\# Bin}$</td>\n",
    "\t\t</tr>\n",
    "        <tr>\n",
    "\t\t\t<td style=\"text-align: left;\">Scott 1979</td>\n",
    "\t\t\t<td style=\"text-align: left;\">$\\frac{max - min}{Bin width}$</td>\n",
    "            <td style=\"text-align: left;\">$3.5 * \\frac{\\sigma}{\\sqrt[3]{N}}$</td>\n",
    "\t\t</tr>\n",
    "        <tr>\n",
    "\t\t\t<td style=\"text-align: left;\">Freedman-Diaconis 1989</td>\n",
    "\t\t\t<td style=\"text-align: left;\">$\\frac{max - min}{Bin width}$</td>\n",
    "            <td style=\"text-align: left;\">$2*\\frac{IQR}{\\sqrt[3]{N}}$</td>\n",
    "\t\t</tr>\n",
    "    </tbody>\n",
    "</table>\n",
    "\n",
    "\n",
    "Some additional reading:\n",
    "- https://answerminer.com/blog/binning-guide-ideal-histogram\n",
    "- https://www.fmrib.ox.ac.uk/datasets/techrep/tr00mj2/tr00mj2/node24.html"
   ]
  },
  {
   "cell_type": "markdown",
   "metadata": {},
   "source": [
    "### 1.3.3  Emperical Probability Distributions\n",
    "\n",
    "#### 1.3.3.1 What's the connection between histograms and probability?\n",
    "\n",
    "The histogram has a very intuitive connection with the basic definition of probability. It states the probability of the occurance of some event is defined as:\n",
    "\n",
    "$$ P(event) = \\frac{\\# \\ similar \\ events}{\\# \\ possible \\ events} $$\n",
    "\n",
    "As such, our table of frequencies can very easily be converted into a table of probabilities. We would divide the frequency of an event by the total number of distinct events in the sample.\n",
    "\n",
    "If we are dealing with bins, this formula will change however:\n",
    "\n"
   ]
  },
  {
   "cell_type": "markdown",
   "metadata": {},
   "source": [
    "### 1.3.?. Definition of Probability Mass Function\n",
    "The Probability Mass Function (PMF) is the discrete function which gives the probability os some event occuring.\n",
    "\n"
   ]
  },
  {
   "cell_type": "markdown",
   "metadata": {},
   "source": [
    "### 1.3.1 Adhering to the properties of a Probability Space\n",
    "Mathematically speaking, probabilities (and probability spaces) have certain characteristics which we must adhere to in order to produce sound mathematical arguments.\n",
    "\n",
    "#### 1.3.1.1 Characteristics of Probability Mass function\n",
    "In order to write functions for probability based on our histogram there are some basic characteristics which we need to adhere to:\n",
    "\n",
    "1. $p(X = x) = f(x)$\n",
    "2. $\\sum p(x) = 1$\n",
    "2. $p(X \\in A) = p(x_i) +...+ p(x_a) $\n",
    "\n",
    "So if we are defining $p(x) = \\frac{\\# \\ events \\ equal \\ to \\ x}{\\# \\ unique \\ events}$ we will need to make sure it adheres to these properties. This goes for when we are using raw values or buckets."
   ]
  },
  {
   "cell_type": "markdown",
   "metadata": {},
   "source": [
    "#### 1.3.1.2 Defining a PMF Function in terms of a Histogram using Bins\n",
    "Mathematically, we can define our PMF as a function based on a frequency of discrete values as follows:\n",
    "\n",
    "We start with a function $f$ which maps values from $X$ to $Y$.\n",
    "\n",
    "$$ f:X \\rightarrow Y$$\n",
    "\n",
    "Which would be equivalent to writing $f: f(x_i) = y_i$ when $x_i \\in X$ and $y_i \\in Y$\n",
    "\n",
    "The first step is to define some functions to help us describe our histogram. Recall that a histogram is based on intervals or buckets.\n",
    "\n",
    "We can define functions to yield our bucket width ($w$), lower bound ($l$), and upper bound ($u$), respectively based on the number of buckets N we would like.\n",
    "\n",
    "$$ w(Y) = \\frac{Y_{max} - Y_{min}}{N}$$\n",
    "\n",
    "$$ l(x_i) = \\begin{cases}\n",
    "x_i, \\ \\ \\ \\ \\ \\ \\ \\ \\ \\ (y_i - Y_{min}) \\ \\%  \\ w(Y) = 0 \\\\\n",
    "l(x_{i - 1}), \\ \\ \\ otherwise\n",
    "\\end{cases} \n",
    "$$\n",
    "\n",
    "$$ u(x_i) = l(x_i) + w(x_i) $$\n",
    "\n",
    "Note: that the bucket width can also be arbitrarily specified.\n",
    "\n",
    "We then define an indicator function which allows us to identify whether or not a value $x_i$ yields a value $y_i$ that is within a given bucket marked by the boundary points $1$ and $b$.\n",
    "\n",
    "$$ 1(x_i, l, u) = \\begin{cases}\n",
    "1, \\ if \\ \\ l <= f(x_i) < u \\\\\n",
    "0, \\ otherwise \\\\\n",
    "\\end{cases}\n",
    "$$\n",
    "\n",
    "And from this information we can construct our probability mass function (PMF) for a given bucket $b_i$. In other words, a function indicating the probability of obtaining a value $x_{i,j} \\in b_i$.\n",
    "\n",
    "$$ p(b_i) = \\frac{\\sum_{n = 0}^{N} I(x_n, l_i, u_i)}{N} $$\n",
    "\n"
   ]
  },
  {
   "cell_type": "markdown",
   "metadata": {},
   "source": [
    "Now that we know the PMF for the bucket we can also define a PMF for the discrete values that are part of a bucket.  \n",
    "\n",
    "$$p(x) = \\dots $$\n",
    "\n",
    "But this is just a quick \"sleight of hand\" what we are actually doing is making the discretization of the raw data and the buckets equal. In other words, the bucket width will be adjusted to be equal to the minimal level of precision in our discretization \n",
    "\n",
    "For example, If the most precise measurement is in the form of a integer, a bucket width will be one integer long. If we are using decimal points to the hundretchs place, the bucket width would be 0.01, and so on.\n",
    "\n",
    "An alternate methodology would be to apply a uniform probability to the elements in a bucket. Ie. divide the $p(b_i)$ by the number of precision units in the coresponding bucket. For example, if the bucket is 1 unit long, but the precision is 0.01, there would be 10 precision units in the bucket."
   ]
  },
  {
   "cell_type": "markdown",
   "metadata": {},
   "source": [
    "### Notes on using the empirical PMF\n",
    "The pmf is only as good as the emerical data and the bins we elect to create for the histogram. The pmf becomes more accurate and precise with more data and smaller buckets. that being said, this is not always possible in the real world. Our distributions may not look smooth, symmetrical, or ideal. In some cases we may want to use other techniques for approximating the PMF."
   ]
  },
  {
   "cell_type": "markdown",
   "metadata": {},
   "source": [
    "# 2. Histograms with python\n",
    "\n",
    "In this section we will explore histograms using python. We will generate histograms for a given sample set of data and then derive probability statements from the histograms."
   ]
  },
  {
   "cell_type": "markdown",
   "metadata": {},
   "source": [
    "## 2.1 The Python Libraries Involved in Creating Histograms\n",
    "There are a few basic operations that are performed when one constructs a histogram:\n",
    "1. Choosing a bin width\n",
    "2. Partitionaing the data\n",
    "3. Tabulating Frequencies\n",
    "4. Graphing the data\n",
    "\n",
    "Each of these can be solved with python. In some cases, special libraries exist to perform the operations. We will see that the steps listed above can be solve by the following libraries:\n",
    "\n",
    "1. numpy/pandas or builin python methods\n",
    "2. numpy\n",
    "3. numpy\n",
    "4. matplotlib\n",
    "\n",
    "It's important to note that in step 4, under the hood, everything is using matplotlib. Pandas is just a wrapper to simplify the apply some reoccuring configurations.\n",
    "\n",
    "http://jonathansoma.com/lede/algorithms-2017/classes/fuzziness-matplotlib/understand-df-plot-in-pandas/"
   ]
  },
  {
   "cell_type": "markdown",
   "metadata": {},
   "source": [
    "## 2.2 Simulate a Normal Random Variable\n",
    "In this section we will generate some sample data fora normal random variable. With this data we will create histograms and calculate probabilities."
   ]
  },
  {
   "cell_type": "code",
   "execution_count": 1,
   "metadata": {},
   "outputs": [
    {
     "data": {
      "image/png": "[encoded data removed]",
      "text/plain": [
       "<Figure size 2160x288 with 2 Axes>"
      ]
     },
     "metadata": {
      "needs_background": "light"
     },
     "output_type": "display_data"
    }
   ],
   "source": [
    "# Import some librearies to help us out\n",
    "import numpy\n",
    "from matplotlib import pyplot\n",
    "\n",
    "# Define some population parameters\n",
    "mu = 5\n",
    "sigma = 0.75\n",
    "\n",
    "# Create our sample data\n",
    "numpy.random.seed(seed=42)\n",
    "x = [ 1,  2,  3,  4,  5,  6,  7,  8,  9, 10, 11, 12, 13, 14, 15, 16, 17, 18, 19, 20]\n",
    "y = numpy.random.normal(loc=mu, scale=sigma, size=len(x))\n",
    "\n",
    "# Plot the data\n",
    "fig, (ax1, ax2) = pyplot.subplots(nrows=1, ncols=2)\n",
    "ax1.scatter(x,y)\n",
    "ax2.scatter(y, [0 for x in range(0, len(x))])\n",
    "fig.set_figwidth(30)\n",
    "ax1.set_title(\"Scatter\")\n",
    "ax2.set_title(\"Distribution\");"
   ]
  },
  {
   "cell_type": "markdown",
   "metadata": {},
   "source": [
    "# 2.1. Historgrams with Numpy"
   ]
  },
  {
   "cell_type": "markdown",
   "metadata": {},
   "source": [
    "## 2.1.1 The numpy.histogram() function\n",
    "The Numpy library offers a function to create a histogram based on a set of raw data.\n",
    "\n",
    "The histogram is based on bins of data. It will divide the y axis into segments called bins and count how many occurances of a value fall into a given bin. The histogram we calculate is affectively representing a count of the data points found within a bin.\n",
    "\n",
    "The numpy library represents the histogram as an array of counts, and an array of bin edges.\n",
    "\n",
    "Note: There will always be one more edge (makred with a '|') than there are counts (marked with a $c_n$) as each ontinguous bin has two edges and the counts coresponde to a bin:\n",
    "\n",
    "```| c1 | c1 | c3 |```\n",
    "\n",
    "The function has a number of parameters which define how this works. See the documentation for more detail. Official documentation can be found here on the coresponding [numpy.org](https://numpy.org/doc/stable/reference/generated/numpy.histogram.html) page."
   ]
  },
  {
   "cell_type": "code",
   "execution_count": 2,
   "metadata": {},
   "outputs": [],
   "source": [
    "# Determine how many bins we want to use for our histogram\n",
    "bins = 10\n",
    "\n",
    "# Calculate the counts and bins for our numpy array\n",
    "numpy_y = numpy.array(y)\n",
    "counts, bin_edges = numpy.histogram(numpy_y, bins=bins)"
   ]
  },
  {
   "cell_type": "markdown",
   "metadata": {},
   "source": [
    "Because the bins can contain a range of values, and not one discrete value, graphing the counts is a little tricky. There are two simple approaches we can take:\n",
    "1. Give the bins numbers and show the counts against the bin numbers\n",
    "2. Calculate the midpoints of the bin edges and show the counts against that point\n",
    "3. Graph the counts against the left or right edge of the bin\n",
    "\n",
    "All three can be seen below, respectively:"
   ]
  },
  {
   "cell_type": "code",
   "execution_count": 3,
   "metadata": {},
   "outputs": [
    {
     "data": {
      "image/png": "[encoded data removed]",
      "text/plain": [
       "<Figure size 2160x288 with 4 Axes>"
      ]
     },
     "metadata": {
      "needs_background": "light"
     },
     "output_type": "display_data"
    }
   ],
   "source": [
    "# Calculate values for the x axis of the histogram\n",
    "bin_numbers = list(range(1, len(bin_edges)))\n",
    "bin_midpoints = bin_edges[:-1] + (numpy.diff(bin_edges, 1) / 2)\n",
    "bin_left_edges = bin_edges[:-1]\n",
    "bin_right_edges = bin_edges[1:]\n",
    "\n",
    "# Plot the histogram information as a bar chart\n",
    "#\n",
    "# Note: We set the witdh= parameter for the bar() function because \n",
    "#       by default it will glob bars together\n",
    "\n",
    "fig, (ax1, ax2, ax3, ax4) = pyplot.subplots(nrows=1, ncols=4)\n",
    "bar_container = ax1.bar(bin_numbers, counts, width=0.8) # <- why 0.8 when the rest are 0.2 ???\n",
    "bar_container = ax2.bar(bin_midpoints, counts, width=0.2)\n",
    "bar_container = ax3.bar(bin_left_edges, counts, width=0.2)\n",
    "bar_container = ax4.bar(bin_right_edges, counts, width=0.2)\n",
    "\n",
    "fig.set_figwidth(30)\n",
    "ax1.set_title(\"Bin Nunmbers\")\n",
    "ax2.set_title(\"Midpoints\")\n",
    "ax3.set_title(\"Left Edges\")\n",
    "ax4.set_title(\"right Edges\");"
   ]
  },
  {
   "cell_type": "markdown",
   "metadata": {},
   "source": [
    "### 2.1.2 Calculating Empiracle Probabilities\n",
    "\n",
    "Prevoiusly we created a normal random variable $Y$:\n",
    "\n",
    "$$ Y \\sim N(\\mu = 5, \\sigma = 0.75) $$\n",
    "\n",
    "We will now compare our histograms with the values of the normal PDF function."
   ]
  },
  {
   "cell_type": "code",
   "execution_count": 4,
   "metadata": {},
   "outputs": [
    {
     "data": {
      "image/png": "[encoded data removed]",
      "text/plain": [
       "<Figure size 2160x288 with 2 Axes>"
      ]
     },
     "metadata": {
      "needs_background": "light"
     },
     "output_type": "display_data"
    }
   ],
   "source": [
    "# Calculate our empirical probabilities\n",
    "bin_width = numpy.diff(bin_edges, 1)[0]\n",
    "emperical_probabilities = counts / bins\n",
    "\n",
    "# Calculate out theoretical values\n",
    "from scipy.stats import norm\n",
    "theoretical_probabilities = norm.pdf(bin_midpoints, loc=mu, scale=sigma)\n",
    "\n",
    "# Plot our data\n",
    "fig, (ax1, ax2) = pyplot.subplots(nrows=1, ncols=2)\n",
    "fig.set_figwidth(30)\n",
    "ax1.set_title(\"Bin Frequencies\")\n",
    "ax2.set_title(\"Bin Probabilities and Theoretical Probabilities\");\n",
    "bar_container = ax1.bar(bin_midpoints, counts, width = 0.2)\n",
    "bar_container = ax2.bar(bin_midpoints, emperical_probabilities, width = 0.2)\n",
    "bar_container = ax2.plot(bin_midpoints, theoretical_probabilities, color='red')\n"
   ]
  },
  {
   "cell_type": "markdown",
   "metadata": {},
   "source": [
    "## 2.2 Histogram with Pandas\n",
    "\n",
    "### 2.2.1 Pandas DataFrame.hist() function\n",
    "\n",
    "Pandas makes a histogram much easier becasue it hides a lot of the complexitied found in numpy and matplotlib.\n",
    "\n",
    "The DataFrame.hist() function calls matplotlib.pyplot.hist(), on each series in the DataFrame, resulting in one histogram per column.\n",
    "\n",
    "https://pandas.pydata.org/pandas-docs/stable/reference/api/pandas.DataFrame.hist.html"
   ]
  },
  {
   "cell_type": "code",
   "execution_count": 5,
   "metadata": {},
   "outputs": [
    {
     "data": {
      "image/png": "[encoded data removed]",
      "text/plain": [
       "<Figure size 432x288 with 1 Axes>"
      ]
     },
     "metadata": {
      "needs_background": "light"
     },
     "output_type": "display_data"
    }
   ],
   "source": [
    "import pandas\n",
    "df = pandas.DataFrame({\"x\": x, \"y\": y,})\n",
    "subplots = df.hist(\"y\", bins=bins)"
   ]
  },
  {
   "cell_type": "markdown",
   "metadata": {},
   "source": [
    "But this is only a visualization. To work with the data we will need to use the numpy.histogram() function we saw earlier. We can convert our dataframe into a numpy array and then run the builtin function."
   ]
  },
  {
   "cell_type": "code",
   "execution_count": 6,
   "metadata": {},
   "outputs": [],
   "source": [
    "counts, bin_edges = numpy.histogram(df[\"y\"].to_numpy(), bins=bins)"
   ]
  },
  {
   "cell_type": "markdown",
   "metadata": {},
   "source": [
    "While Pandas has some nice builtin functionality for plotting, it also comes with some bugs. Conside the graphs below; the x-axis is wrong on the third plot. Generally speaking its best to go through native matplotlib functions at the end of the day."
   ]
  },
  {
   "cell_type": "code",
   "execution_count": 7,
   "metadata": {},
   "outputs": [
    {
     "data": {
      "image/png": "[encoded data removed]",
      "text/plain": [
       "<Figure size 2160x288 with 3 Axes>"
      ]
     },
     "metadata": {
      "needs_background": "light"
     },
     "output_type": "display_data"
    }
   ],
   "source": [
    "# Create a dataframe\n",
    "df2 = pandas.DataFrame({\"x\": bin_midpoints, \"p\": emperical_probabilities, \"f\": theoretical_probabilities}, index=bin_midpoints)\n",
    "\n",
    "# Generate a figure and axeses\n",
    "fig, (ax1, ax2, ax3) = pyplot.subplots(nrows=1, ncols=3)\n",
    "fig.set_figwidth(30)\n",
    "\n",
    "# Plot our charts\n",
    "df.hist(\"y\", bins=bins, ax=ax1)\n",
    "ax2.bar(df2['x'], df2['p'], width=0.2)\n",
    "ax2.plot(df2['x'], df2['f'], color='red')\n",
    "df2.plot.bar(x='x', y='p', ax=ax3, use_index=True)\n",
    "\n",
    "# Adjust the precision on our axis becasue pandas is not THAT smart\n",
    "from matplotlib.ticker import FormatStrFormatter\n",
    "ax3.xaxis.set_major_formatter(FormatStrFormatter('%.1f'));\n",
    "\n",
    "# Set some informative titles\n",
    "ax1.set_title(\"df.hist()\")\n",
    "ax2.set_title(\"ax.bar()\")\n",
    "ax3.set_title(\"df.plot.bar()\");\n"
   ]
  },
  {
   "cell_type": "markdown",
   "metadata": {},
   "source": [
    "# 3. Additional Techniques for Empiricle Probabilities\n",
    "\n",
    "Calculating epirical probabilites using histograms is fairly straight forward. That being said, there are some issues with this simple method:\n",
    "\n",
    "1. We cannot make probability statements for events we have not directly witnessed\n",
    "2. We cannot be more precise than the bins we have created or the points we have seen (no interpolation)\n",
    "\n",
    "As mentioned earlier, if we know the discretization and the level of precision, we can apply various techniques to \"share the probability\" between the points in the bucket. For example: divide the probability of the bucket evenly between the points in the bucket. This simple model however may not be ideal or realistic.\n",
    "\n",
    "We could try interpolation between the frequencies as a way of smoothing things out over a continuous interval. But this would yield values which do not conform to the requirements of a probability distribution. Specifically, the sum of the probabilities (the area under the curve) would not necessarily equal 1.\n",
    "\n",
    "As a result, other techniques, like the generalized Lambda Distribution (GLD) have been developed for this process.\n",
    "\n",
    "We have covered some of these techniques in other workbooks."
   ]
  }
 ],
 "metadata": {
  "kernelspec": {
   "display_name": "Python 3",
   "language": "python",
   "name": "python3"
  },
  "language_info": {
   "codemirror_mode": {
    "name": "ipython",
    "version": 3
   },
   "file_extension": ".py",
   "mimetype": "text/x-python",
   "name": "python",
   "nbconvert_exporter": "python",
   "pygments_lexer": "ipython3",
   "version": "3.6.8"
  }
 },
 "nbformat": 4,
 "nbformat_minor": 4
}
