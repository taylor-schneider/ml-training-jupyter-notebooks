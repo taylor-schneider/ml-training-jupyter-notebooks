{
 "cells": [
  {
   "cell_type": "markdown",
   "id": "a2a1efb2-1c17-4ee9-90cd-f65adcdd9029",
   "metadata": {},
   "source": [
    "# Overview\n",
    "\n",
    "## What is Normalization?\n",
    "Depending on our frame of reference and our field of mathematics, normalization can take on different meanings. Generally speaking, normalization refers to a transformation which renders data \"normal\" but as we will see, \"normal\" has a number of definitions and implications.\n",
    "\n",
    "Figuratively speaking, \"normal\" means demonstrating characteristics; consistent with historical observations; consistent with expectations; consistent with similar observations under similar circomstances; etc/\n",
    "\n",
    "In terms of a literal meaning for the term \"normal\", there is a history which explains the origins for different meanings. Generally speaking, becuase of the law of large numbers, one of the widest interpretations of the term \"normal\" refers to the normal distribution (ie. things having characteristics of a normal distribution). That being said there are a number of alternate meanings which have important places in Exploratory Data Analysis (EDA). We will examine some of these interpretations and techniques.\n",
    "\n",
    "## Why Use Normalization?\n",
    "Counterintuitively, normalization is a useful tool for examining differences between data. The normalization transformations will allow us to isolate or ignore certain characteristics of our data so that we can focus on the important characteristics.\n",
    "\n",
    "Some common areas of interest include:\n",
    "\n",
    "- The scale of our data\n",
    "- The descriptive statistical properties (like mean and std deviation)\n",
    "- The shape of our data\n",
    "- The order or rank of our data\n",
    "\n",
    "Normalization also comes in handy when doing machine learning. As we will see, some models or algorithms are designed according to certain assumptions. Some of these are assumed a priori as a way of mathematically symplifying the closed form solution while others are adopted coincidentally due to limitations of a particular mathematical framework.\n",
    "\n",
    "## What We Cover?\n",
    "\n",
    "In this notebook we look at the different methods and try to develop a perspective on which technique to apply when.\n",
    "\n",
    "The material is divided into the following parts:\n",
    "1. Review Sample Data\n",
    "2. Review Normalization Techniques"
   ]
  },
  {
   "cell_type": "markdown",
   "id": "4638bd03-1cd4-40aa-afbc-422c64421654",
   "metadata": {},
   "source": [
    "# 1. Examine Sample Data\n",
    "For this notebook we will be reviewing test scores. A group of students have recorded marks for their ACT, Final Exam, Quiz Average, and Test Average."
   ]
  },
  {
   "cell_type": "code",
   "execution_count": 3,
   "id": "f06245fc-e012-4f9f-be93-bea42ddcd929",
   "metadata": {
    "tags": []
   },
   "outputs": [
    {
     "data": {
      "text/html": [
       "<div>\n",
       "<style scoped>\n",
       "    .dataframe tbody tr th:only-of-type {\n",
       "        vertical-align: middle;\n",
       "    }\n",
       "\n",
       "    .dataframe tbody tr th {\n",
       "        vertical-align: top;\n",
       "    }\n",
       "\n",
       "    .dataframe thead th {\n",
       "        text-align: right;\n",
       "    }\n",
       "</style>\n",
       "<table border=\"1\" class=\"dataframe\">\n",
       "  <thead>\n",
       "    <tr style=\"text-align: right;\">\n",
       "      <th></th>\n",
       "      <th>ACT</th>\n",
       "      <th>FinalExam</th>\n",
       "      <th>QuizAvg</th>\n",
       "      <th>TestAvg</th>\n",
       "    </tr>\n",
       "  </thead>\n",
       "  <tbody>\n",
       "    <tr>\n",
       "      <th>0</th>\n",
       "      <td>33</td>\n",
       "      <td>181</td>\n",
       "      <td>95</td>\n",
       "      <td>89</td>\n",
       "    </tr>\n",
       "    <tr>\n",
       "      <th>1</th>\n",
       "      <td>31</td>\n",
       "      <td>169</td>\n",
       "      <td>81</td>\n",
       "      <td>89</td>\n",
       "    </tr>\n",
       "    <tr>\n",
       "      <th>2</th>\n",
       "      <td>21</td>\n",
       "      <td>176</td>\n",
       "      <td>65</td>\n",
       "      <td>68</td>\n",
       "    </tr>\n",
       "    <tr>\n",
       "      <th>3</th>\n",
       "      <td>25</td>\n",
       "      <td>181</td>\n",
       "      <td>66</td>\n",
       "      <td>90</td>\n",
       "    </tr>\n",
       "    <tr>\n",
       "      <th>4</th>\n",
       "      <td>29</td>\n",
       "      <td>169</td>\n",
       "      <td>89</td>\n",
       "      <td>81</td>\n",
       "    </tr>\n",
       "    <tr>\n",
       "      <th>5</th>\n",
       "      <td>24</td>\n",
       "      <td>103</td>\n",
       "      <td>61</td>\n",
       "      <td>57</td>\n",
       "    </tr>\n",
       "    <tr>\n",
       "      <th>6</th>\n",
       "      <td>25</td>\n",
       "      <td>150</td>\n",
       "      <td>81</td>\n",
       "      <td>76</td>\n",
       "    </tr>\n",
       "    <tr>\n",
       "      <th>7</th>\n",
       "      <td>29</td>\n",
       "      <td>147</td>\n",
       "      <td>86</td>\n",
       "      <td>76</td>\n",
       "    </tr>\n",
       "    <tr>\n",
       "      <th>8</th>\n",
       "      <td>36</td>\n",
       "      <td>181</td>\n",
       "      <td>98</td>\n",
       "      <td>102</td>\n",
       "    </tr>\n",
       "    <tr>\n",
       "      <th>9</th>\n",
       "      <td>26</td>\n",
       "      <td>163</td>\n",
       "      <td>72</td>\n",
       "      <td>70</td>\n",
       "    </tr>\n",
       "    <tr>\n",
       "      <th>10</th>\n",
       "      <td>31</td>\n",
       "      <td>163</td>\n",
       "      <td>95</td>\n",
       "      <td>81</td>\n",
       "    </tr>\n",
       "    <tr>\n",
       "      <th>11</th>\n",
       "      <td>29</td>\n",
       "      <td>147</td>\n",
       "      <td>65</td>\n",
       "      <td>67</td>\n",
       "    </tr>\n",
       "    <tr>\n",
       "      <th>12</th>\n",
       "      <td>23</td>\n",
       "      <td>160</td>\n",
       "      <td>62</td>\n",
       "      <td>68</td>\n",
       "    </tr>\n",
       "    <tr>\n",
       "      <th>13</th>\n",
       "      <td>26</td>\n",
       "      <td>100</td>\n",
       "      <td>63</td>\n",
       "      <td>56</td>\n",
       "    </tr>\n",
       "  </tbody>\n",
       "</table>\n",
       "</div>"
      ],
      "text/plain": [
       "    ACT  FinalExam  QuizAvg  TestAvg\n",
       "0    33        181       95       89\n",
       "1    31        169       81       89\n",
       "2    21        176       65       68\n",
       "3    25        181       66       90\n",
       "4    29        169       89       81\n",
       "5    24        103       61       57\n",
       "6    25        150       81       76\n",
       "7    29        147       86       76\n",
       "8    36        181       98      102\n",
       "9    26        163       72       70\n",
       "10   31        163       95       81\n",
       "11   29        147       65       67\n",
       "12   23        160       62       68\n",
       "13   26        100       63       56"
      ]
     },
     "execution_count": 3,
     "metadata": {},
     "output_type": "execute_result"
    }
   ],
   "source": [
    "# Load our libraires\n",
    "import pandas\n",
    "import numpy\n",
    "import matplotlib.pyplot as pyplot\n",
    "\n",
    "# Load our sample data\n",
    "input_file_path = \"../Example Data Sets/Test Scores.csv\"\n",
    "delimiter = \",\"\n",
    "df = pandas.read_csv(input_file_path, delimiter=delimiter)\n",
    "df"
   ]
  },
  {
   "cell_type": "markdown",
   "id": "1093302c-8c4a-4f84-afbe-12155eed33d3",
   "metadata": {},
   "source": [
    "We can look at some descriptive statistics"
   ]
  },
  {
   "cell_type": "code",
   "execution_count": 4,
   "id": "7636c9c0-6b17-4d6a-90b6-09808d6d0910",
   "metadata": {
    "tags": []
   },
   "outputs": [
    {
     "data": {
      "text/html": [
       "<div>\n",
       "<style scoped>\n",
       "    .dataframe tbody tr th:only-of-type {\n",
       "        vertical-align: middle;\n",
       "    }\n",
       "\n",
       "    .dataframe tbody tr th {\n",
       "        vertical-align: top;\n",
       "    }\n",
       "\n",
       "    .dataframe thead th {\n",
       "        text-align: right;\n",
       "    }\n",
       "</style>\n",
       "<table border=\"1\" class=\"dataframe\">\n",
       "  <thead>\n",
       "    <tr style=\"text-align: right;\">\n",
       "      <th></th>\n",
       "      <th>ACT</th>\n",
       "      <th>FinalExam</th>\n",
       "      <th>QuizAvg</th>\n",
       "      <th>TestAvg</th>\n",
       "    </tr>\n",
       "  </thead>\n",
       "  <tbody>\n",
       "    <tr>\n",
       "      <th>count</th>\n",
       "      <td>14.000000</td>\n",
       "      <td>14.000000</td>\n",
       "      <td>14.000000</td>\n",
       "      <td>14.000000</td>\n",
       "    </tr>\n",
       "    <tr>\n",
       "      <th>mean</th>\n",
       "      <td>27.714286</td>\n",
       "      <td>156.428571</td>\n",
       "      <td>77.071429</td>\n",
       "      <td>76.428571</td>\n",
       "    </tr>\n",
       "    <tr>\n",
       "      <th>std</th>\n",
       "      <td>4.158931</td>\n",
       "      <td>26.117234</td>\n",
       "      <td>13.747527</td>\n",
       "      <td>13.195071</td>\n",
       "    </tr>\n",
       "    <tr>\n",
       "      <th>min</th>\n",
       "      <td>21.000000</td>\n",
       "      <td>100.000000</td>\n",
       "      <td>61.000000</td>\n",
       "      <td>56.000000</td>\n",
       "    </tr>\n",
       "    <tr>\n",
       "      <th>25%</th>\n",
       "      <td>25.000000</td>\n",
       "      <td>147.750000</td>\n",
       "      <td>65.000000</td>\n",
       "      <td>68.000000</td>\n",
       "    </tr>\n",
       "    <tr>\n",
       "      <th>50%</th>\n",
       "      <td>27.500000</td>\n",
       "      <td>163.000000</td>\n",
       "      <td>76.500000</td>\n",
       "      <td>76.000000</td>\n",
       "    </tr>\n",
       "    <tr>\n",
       "      <th>75%</th>\n",
       "      <td>30.500000</td>\n",
       "      <td>174.250000</td>\n",
       "      <td>88.250000</td>\n",
       "      <td>87.000000</td>\n",
       "    </tr>\n",
       "    <tr>\n",
       "      <th>max</th>\n",
       "      <td>36.000000</td>\n",
       "      <td>181.000000</td>\n",
       "      <td>98.000000</td>\n",
       "      <td>102.000000</td>\n",
       "    </tr>\n",
       "  </tbody>\n",
       "</table>\n",
       "</div>"
      ],
      "text/plain": [
       "             ACT   FinalExam    QuizAvg     TestAvg\n",
       "count  14.000000   14.000000  14.000000   14.000000\n",
       "mean   27.714286  156.428571  77.071429   76.428571\n",
       "std     4.158931   26.117234  13.747527   13.195071\n",
       "min    21.000000  100.000000  61.000000   56.000000\n",
       "25%    25.000000  147.750000  65.000000   68.000000\n",
       "50%    27.500000  163.000000  76.500000   76.000000\n",
       "75%    30.500000  174.250000  88.250000   87.000000\n",
       "max    36.000000  181.000000  98.000000  102.000000"
      ]
     },
     "execution_count": 4,
     "metadata": {},
     "output_type": "execute_result"
    }
   ],
   "source": [
    "df.describe()"
   ]
  },
  {
   "cell_type": "markdown",
   "id": "f7a657a6-dc14-432c-8674-b23d266977d4",
   "metadata": {},
   "source": [
    "We can see histograms for the distributions:"
   ]
  },
  {
   "cell_type": "code",
   "execution_count": 5,
   "id": "fe6b19e1-7d5b-4edf-bf61-7cb5f1f1b0d4",
   "metadata": {
    "jupyter": {
     "source_hidden": true
    },
    "tags": []
   },
   "outputs": [
    {
     "data": {
      "image/png": "[encoded data removed]",
      "text/plain": [
       "<Figure size 1152x288 with 4 Axes>"
      ]
     },
     "metadata": {
      "needs_background": "light"
     },
     "output_type": "display_data"
    }
   ],
   "source": [
    "fig, ax = pyplot.subplots(1, 4)\n",
    "fig.set_figwidth(16)\n",
    "df[\"ACT\"].plot(ax=ax[0], kind=\"hist\", title=\"ACT\");\n",
    "ax[0].set_ylabel(\"\")\n",
    "df[\"FinalExam\"].plot(ax=ax[1], kind=\"hist\", title=\"FinalExam\");\n",
    "ax[1].set_ylabel(\"\")\n",
    "df[\"QuizAvg\"].plot(ax=ax[2], kind=\"hist\", title=\"QuizAvg\");\n",
    "ax[2].set_ylabel(\"\")\n",
    "df[\"TestAvg\"].plot(ax=ax[3], kind=\"hist\", title=\"TestAvg\");\n",
    "ax[3].set_ylabel(\"\");"
   ]
  },
  {
   "cell_type": "markdown",
   "id": "4d60aa8a-32fc-407e-8203-03b5885ec4bf",
   "metadata": {},
   "source": [
    "# 2. Review Normalization Techniques\n",
    "We will review the following techniques:\n",
    "1. **Standardization** - Transforming distributions to have standard normal parameters $(\\mu=0, \\sigma=1)$ which adjusts them to a similar scale or size\n",
    "2. **Min-Max (linear) Scaling** - Transformind distributions to have a unit range $(max = 1, min = 0)$\n",
    "3. **Quantile Normalization** - Transforming distributions to have the similar if not equivalent statistical properties $( \\mu, \\sigma, min, max, quantiles)$\n",
    "4. rank-scaling (Linear Interpolation)"
   ]
  },
  {
   "cell_type": "markdown",
   "id": "d447cf92-79bc-4ff7-b1ec-15a18942b880",
   "metadata": {},
   "source": [
    "Table for comparison:\n",
    "\n",
    "<table>\n",
    "    <tr>\n",
    "        <th>Characteristic</th>\n",
    "        <th>Standardization</th>\n",
    "        <th>Min-Max Scaling</th>\n",
    "        <th>Quantile Normalization</th>\n",
    "    </tr>\n",
    "    <tr>\n",
    "        <td style=\"text-align:center\">Changes Data Shape</td>\n",
    "        <td style=\"text-align:center\">No</td>\n",
    "        <td style=\"text-align:center\">No</td>\n",
    "        <td style=\"text-align:center\">Yes, but preserves order.</td>\n",
    "    </tr>\n",
    "    <tr>\n",
    "        <td style=\"text-align:center\">Changes Moments</td>\n",
    "        <td style=\"text-align:center\">$\\mu=0, \\sigma=1$</td>\n",
    "        <td style=\"text-align:center\">$\\mu, \\sigma \\in [0.1]$</td>\n",
    "        <td style=\"text-align:center\"></td>\n",
    "    </tr>\n",
    "    <tr>\n",
    "        <td style=\"text-align:center\">Changes Quantiles</td>\n",
    "        <td style=\"text-align:center\">Yes, Scale not Rank</td>\n",
    "        <td style=\"text-align:center\">Yes, Scale not Rank</td>\n",
    "        <td style=\"text-align:center\">Yes</td>\n",
    "    </tr>\n",
    "    <tr>\n",
    "        <td style=\"text-align:center\">Suports Different Units Of Measure</td>\n",
    "        <td style=\"text-align:center\">Yes</td>\n",
    "        <td style=\"text-align:center\">Yes</td>\n",
    "        <td style=\"text-align:center\">Yes</td>\n",
    "    </tr>\n",
    "    <tr>\n",
    "        <td style=\"text-align:center\">Limits Range</td>\n",
    "        <td style=\"text-align:center\">No</td>\n",
    "        <td style=\"text-align:center\">[0, 1]</td>\n",
    "        <td style=\"text-align:center\">Between extremes of all data</td>\n",
    "    </tr>\n",
    "</table>\n",
    "\n",
    "https://www.geeksforgeeks.org/normalization-vs-standardization/"
   ]
  },
  {
   "cell_type": "markdown",
   "id": "6d0185d3-3c13-4fef-9663-1d0cf9ad6959",
   "metadata": {},
   "source": [
    "When we are thinkign about which method to apply we can ask ourselves: \n",
    "- Does our data have the same or comparable units of measure\n",
    "- Is our data on the same scale\n",
    "- Do we care about statistical properties like mean and std deviation\n",
    "- Do we care about shape?"
   ]
  },
  {
   "cell_type": "code",
   "execution_count": null,
   "id": "ed611df8-2da0-4e14-922b-7e2035833313",
   "metadata": {},
   "outputs": [],
   "source": []
  },
  {
   "cell_type": "markdown",
   "id": "70b638c6-da75-404d-b9e4-a0439cc563da",
   "metadata": {},
   "source": [
    "## 2.1. Standardization"
   ]
  },
  {
   "cell_type": "markdown",
   "id": "53c49646-fbe9-486f-8366-c47f6caed542",
   "metadata": {},
   "source": [
    "### 2.1.1. Prerequisite Reading\n",
    "The term standardization is figuratively derived from the concept of \"standard weights and measures\": when we measure a quantity, we measure it in standard units that we have established as a frame of reference. \n",
    "\n",
    "The normal distribution family is the set distributions with a symetric bell shape. The standard normal distribution, sometimes called the z distribution, is the normal distribution with a mean of zero and a standard deviation of one.\n",
    "\n",
    "There was some contentions about which normal distrubtion should be referred to as the standard one. From the standpoint of simplicity there are several alternate proposals which yield a simpler probability density function wich changes to the standard deviation. More on this can be found [here](https://en.wikipedia.org/wiki/Normal_distribution#Standard_normal_distribution).\n",
    "\n",
    "That being said, the generally accepted standard normal distribution has desirable statistical properties. As it was being applied to scientific experiments and hypothesis testing, the scientists were measuring deviations between the observed data points in an experiment and those proposed by the hypothesis. As such, having a distribution oriented around the origin lent itself well to the task. Deviations can be positive or negative, and a small deviation, or one close to zero, is preferable. The deviation naturally fits the problem. Another interesting fact is that the combination of two normal distributions also produces a normal distribution; if the two distributions are standard normal, the resulting distribution will also be standard normal. So the distribution is very maleable and allows us to combine and subdivide samples."
   ]
  },
  {
   "cell_type": "markdown",
   "id": "1e629a45-a353-46df-b292-24d9940a226a",
   "metadata": {},
   "source": [
    "### 2.1.2. What Is Standardization\n",
    "Standardization it the process of adjusting a distribution so that it is similar to the standard normal distribution.\n",
    "\n",
    "This is done by calculaing a \"z-score\" for every point in a data set:\n",
    "\n",
    "$$ z = \\frac{x-\\mu}{\\sigma} $$\n",
    "\n",
    "There are two (non-rigid) transformations being applied here. We see with the numerator that we are adding a constant to every term in the data set. This will result in a translation of the data set; because the \"shift term\" is $\\mu$ (the mean) it moves the data to the origin; if we used a different shift term we could move the distribution to some other location. We see wit the denominator that we are dividing every point in a dataset by a constant. This will result in a dilation (stretch or shrinking) of the set. Because the stretching term is $\\sigma$ (the standard deviation) it has a similar effect as the numerator; the range of values is scaled such that the standard deviation is one.\n",
    "\n",
    "So in short, addition multiplication (a type of addition) are being applied. An interesting feature of this z-transformation is that it does not change the shape of the original distirbution. Is merely adjusts the relative sizes of different distributions so that they their shapes can be compared on the same relative scale. In our example we will see the effect to our test scores."
   ]
  },
  {
   "cell_type": "markdown",
   "id": "6de0055b-2118-4109-b35e-59960f8624ff",
   "metadata": {},
   "source": [
    "### 2.1.3. How Is Standardization Used\n",
    "Standardization is uesful when we want to compare the shape of data taken from samples of differently scaled variables or using different units of measurement.\n",
    "\n",
    "In our example, the ACt and the Quiz scores operate on different ranges. It's hard to compare the performance of a single student across the different types of exams with different scoring. Its hard to compare the student's performance relative to the group. It's hard to compare groups across scores.\n",
    "\n",
    "We can standardize the data so that we can look at the shape (distribution) of data despite the different scoring. Becuase the shape of the data and relative scale are preserved we can see if the same groupings occur or if the data is dispresed differently. For example we can see that the quiz was very polar (students either did well or poor) while the ACT and the Final had a clustering afound a mean (although not very tight).\n",
    "\n",
    "Thinking about the problem in terms of a probability distribution we can compare the heights and tails.\n",
    "\n",
    "Thinking about the problem in terms of machine learning or feature engineering, some algorithms are based on euclidean distance and are sensitive to the scale of a variable relative to another. As such we may get spurious results if we do not tandardize the data."
   ]
  },
  {
   "cell_type": "markdown",
   "id": "36cd1897-94e8-4fb9-9ff5-3b1eb61c02a6",
   "metadata": {},
   "source": [
    "### 2.1.4. Examine The Effects Of Standardization"
   ]
  },
  {
   "cell_type": "code",
   "execution_count": 39,
   "id": "7e580b3b-0cbb-41bf-a20e-3d23554e6ef2",
   "metadata": {
    "jupyter": {
     "source_hidden": true
    },
    "tags": []
   },
   "outputs": [
    {
     "data": {
      "text/html": [
       "<style  type=\"text/css\" >\n",
       "</style><table id=\"T_97936b9c_bdbe_11eb_b921_8872c7e2c664\" style='display:inline'><caption>Original Data</caption><thead>    <tr>        <th class=\"blank level0\" ></th>        <th class=\"col_heading level0 col0\" >ACT</th>        <th class=\"col_heading level0 col1\" >FinalExam</th>        <th class=\"col_heading level0 col2\" >QuizAvg</th>        <th class=\"col_heading level0 col3\" >TestAvg</th>    </tr></thead><tbody>\n",
       "                <tr>\n",
       "                        <th id=\"T_97936b9c_bdbe_11eb_b921_8872c7e2c664level0_row0\" class=\"row_heading level0 row0\" >0</th>\n",
       "                        <td id=\"T_97936b9c_bdbe_11eb_b921_8872c7e2c664row0_col0\" class=\"data row0 col0\" >33</td>\n",
       "                        <td id=\"T_97936b9c_bdbe_11eb_b921_8872c7e2c664row0_col1\" class=\"data row0 col1\" >181</td>\n",
       "                        <td id=\"T_97936b9c_bdbe_11eb_b921_8872c7e2c664row0_col2\" class=\"data row0 col2\" >95</td>\n",
       "                        <td id=\"T_97936b9c_bdbe_11eb_b921_8872c7e2c664row0_col3\" class=\"data row0 col3\" >89</td>\n",
       "            </tr>\n",
       "            <tr>\n",
       "                        <th id=\"T_97936b9c_bdbe_11eb_b921_8872c7e2c664level0_row1\" class=\"row_heading level0 row1\" >1</th>\n",
       "                        <td id=\"T_97936b9c_bdbe_11eb_b921_8872c7e2c664row1_col0\" class=\"data row1 col0\" >31</td>\n",
       "                        <td id=\"T_97936b9c_bdbe_11eb_b921_8872c7e2c664row1_col1\" class=\"data row1 col1\" >169</td>\n",
       "                        <td id=\"T_97936b9c_bdbe_11eb_b921_8872c7e2c664row1_col2\" class=\"data row1 col2\" >81</td>\n",
       "                        <td id=\"T_97936b9c_bdbe_11eb_b921_8872c7e2c664row1_col3\" class=\"data row1 col3\" >89</td>\n",
       "            </tr>\n",
       "            <tr>\n",
       "                        <th id=\"T_97936b9c_bdbe_11eb_b921_8872c7e2c664level0_row2\" class=\"row_heading level0 row2\" >2</th>\n",
       "                        <td id=\"T_97936b9c_bdbe_11eb_b921_8872c7e2c664row2_col0\" class=\"data row2 col0\" >21</td>\n",
       "                        <td id=\"T_97936b9c_bdbe_11eb_b921_8872c7e2c664row2_col1\" class=\"data row2 col1\" >176</td>\n",
       "                        <td id=\"T_97936b9c_bdbe_11eb_b921_8872c7e2c664row2_col2\" class=\"data row2 col2\" >65</td>\n",
       "                        <td id=\"T_97936b9c_bdbe_11eb_b921_8872c7e2c664row2_col3\" class=\"data row2 col3\" >68</td>\n",
       "            </tr>\n",
       "            <tr>\n",
       "                        <th id=\"T_97936b9c_bdbe_11eb_b921_8872c7e2c664level0_row3\" class=\"row_heading level0 row3\" >3</th>\n",
       "                        <td id=\"T_97936b9c_bdbe_11eb_b921_8872c7e2c664row3_col0\" class=\"data row3 col0\" >25</td>\n",
       "                        <td id=\"T_97936b9c_bdbe_11eb_b921_8872c7e2c664row3_col1\" class=\"data row3 col1\" >181</td>\n",
       "                        <td id=\"T_97936b9c_bdbe_11eb_b921_8872c7e2c664row3_col2\" class=\"data row3 col2\" >66</td>\n",
       "                        <td id=\"T_97936b9c_bdbe_11eb_b921_8872c7e2c664row3_col3\" class=\"data row3 col3\" >90</td>\n",
       "            </tr>\n",
       "            <tr>\n",
       "                        <th id=\"T_97936b9c_bdbe_11eb_b921_8872c7e2c664level0_row4\" class=\"row_heading level0 row4\" >4</th>\n",
       "                        <td id=\"T_97936b9c_bdbe_11eb_b921_8872c7e2c664row4_col0\" class=\"data row4 col0\" >29</td>\n",
       "                        <td id=\"T_97936b9c_bdbe_11eb_b921_8872c7e2c664row4_col1\" class=\"data row4 col1\" >169</td>\n",
       "                        <td id=\"T_97936b9c_bdbe_11eb_b921_8872c7e2c664row4_col2\" class=\"data row4 col2\" >89</td>\n",
       "                        <td id=\"T_97936b9c_bdbe_11eb_b921_8872c7e2c664row4_col3\" class=\"data row4 col3\" >81</td>\n",
       "            </tr>\n",
       "    </tbody></table><style  type=\"text/css\" >\n",
       "</style><table id=\"T_9793e0cc_bdbe_11eb_8633_8872c7e2c664\" style='display:inline'><caption>Normalized Data</caption><thead>    <tr>        <th class=\"blank level0\" ></th>        <th class=\"col_heading level0 col0\" >ACT</th>        <th class=\"col_heading level0 col1\" >FinalExam</th>        <th class=\"col_heading level0 col2\" >QuizAvg</th>        <th class=\"col_heading level0 col3\" >TestAvg</th>    </tr></thead><tbody>\n",
       "                <tr>\n",
       "                        <th id=\"T_9793e0cc_bdbe_11eb_8633_8872c7e2c664level0_row0\" class=\"row_heading level0 row0\" >0</th>\n",
       "                        <td id=\"T_9793e0cc_bdbe_11eb_8633_8872c7e2c664row0_col0\" class=\"data row0 col0\" >1.270931</td>\n",
       "                        <td id=\"T_9793e0cc_bdbe_11eb_8633_8872c7e2c664row0_col1\" class=\"data row0 col1\" >0.940813</td>\n",
       "                        <td id=\"T_9793e0cc_bdbe_11eb_8633_8872c7e2c664row0_col2\" class=\"data row0 col2\" >1.304131</td>\n",
       "                        <td id=\"T_9793e0cc_bdbe_11eb_8633_8872c7e2c664row0_col3\" class=\"data row0 col3\" >0.952737</td>\n",
       "            </tr>\n",
       "            <tr>\n",
       "                        <th id=\"T_9793e0cc_bdbe_11eb_8633_8872c7e2c664level0_row1\" class=\"row_heading level0 row1\" >1</th>\n",
       "                        <td id=\"T_9793e0cc_bdbe_11eb_8633_8872c7e2c664row1_col0\" class=\"data row1 col0\" >0.790038</td>\n",
       "                        <td id=\"T_9793e0cc_bdbe_11eb_8633_8872c7e2c664row1_col1\" class=\"data row1 col1\" >0.481346</td>\n",
       "                        <td id=\"T_9793e0cc_bdbe_11eb_8633_8872c7e2c664row1_col2\" class=\"data row1 col2\" >0.285766</td>\n",
       "                        <td id=\"T_9793e0cc_bdbe_11eb_8633_8872c7e2c664row1_col3\" class=\"data row1 col3\" >0.952737</td>\n",
       "            </tr>\n",
       "            <tr>\n",
       "                        <th id=\"T_9793e0cc_bdbe_11eb_8633_8872c7e2c664level0_row2\" class=\"row_heading level0 row2\" >2</th>\n",
       "                        <td id=\"T_9793e0cc_bdbe_11eb_8633_8872c7e2c664row2_col0\" class=\"data row2 col0\" >-1.614426</td>\n",
       "                        <td id=\"T_9793e0cc_bdbe_11eb_8633_8872c7e2c664row2_col1\" class=\"data row2 col1\" >0.749368</td>\n",
       "                        <td id=\"T_9793e0cc_bdbe_11eb_8633_8872c7e2c664row2_col2\" class=\"data row2 col2\" >-0.878080</td>\n",
       "                        <td id=\"T_9793e0cc_bdbe_11eb_8633_8872c7e2c664row2_col3\" class=\"data row2 col3\" >-0.638767</td>\n",
       "            </tr>\n",
       "            <tr>\n",
       "                        <th id=\"T_9793e0cc_bdbe_11eb_8633_8872c7e2c664level0_row3\" class=\"row_heading level0 row3\" >3</th>\n",
       "                        <td id=\"T_9793e0cc_bdbe_11eb_8633_8872c7e2c664row3_col0\" class=\"data row3 col0\" >-0.652640</td>\n",
       "                        <td id=\"T_9793e0cc_bdbe_11eb_8633_8872c7e2c664row3_col1\" class=\"data row3 col1\" >0.940813</td>\n",
       "                        <td id=\"T_9793e0cc_bdbe_11eb_8633_8872c7e2c664row3_col2\" class=\"data row3 col2\" >-0.805340</td>\n",
       "                        <td id=\"T_9793e0cc_bdbe_11eb_8633_8872c7e2c664row3_col3\" class=\"data row3 col3\" >1.028523</td>\n",
       "            </tr>\n",
       "            <tr>\n",
       "                        <th id=\"T_9793e0cc_bdbe_11eb_8633_8872c7e2c664level0_row4\" class=\"row_heading level0 row4\" >4</th>\n",
       "                        <td id=\"T_9793e0cc_bdbe_11eb_8633_8872c7e2c664row4_col0\" class=\"data row4 col0\" >0.309145</td>\n",
       "                        <td id=\"T_9793e0cc_bdbe_11eb_8633_8872c7e2c664row4_col1\" class=\"data row4 col1\" >0.481346</td>\n",
       "                        <td id=\"T_9793e0cc_bdbe_11eb_8633_8872c7e2c664row4_col2\" class=\"data row4 col2\" >0.867689</td>\n",
       "                        <td id=\"T_9793e0cc_bdbe_11eb_8633_8872c7e2c664row4_col3\" class=\"data row4 col3\" >0.346450</td>\n",
       "            </tr>\n",
       "    </tbody></table>"
      ]
     },
     "metadata": {},
     "output_type": "display_data"
    }
   ],
   "source": [
    "zscore_df = df.copy()\n",
    "zscore_df[\"ACT\"] = ( df[\"ACT\"] - df[\"ACT\"].mean() ) / df[\"ACT\"].std()\n",
    "zscore_df[\"FinalExam\"] = ( df[\"FinalExam\"] - df[\"FinalExam\"].mean() ) / df[\"FinalExam\"].std()\n",
    "zscore_df[\"QuizAvg\"] = ( df[\"QuizAvg\"] - df[\"QuizAvg\"].mean() ) / df[\"QuizAvg\"].std()\n",
    "zscore_df[\"TestAvg\"] = ( df[\"TestAvg\"] - df[\"TestAvg\"].mean() ) / df[\"TestAvg\"].std()\n",
    "\n",
    "from IPython.display import display_html \n",
    "df1_styler = df.head().style.set_table_attributes(\"style='display:inline'\").set_caption('Original Data')\n",
    "df2_styler = zscore_df.head().style.set_table_attributes(\"style='display:inline'\").set_caption('Normalized Data')\n",
    "display_html(df1_styler._repr_html_() + df2_styler._repr_html_(), raw=True)"
   ]
  },
  {
   "cell_type": "markdown",
   "id": "b4c87316-674f-4bb1-b9d8-723a996d52a3",
   "metadata": {},
   "source": [
    "Looking at the descriptive statistics, we can see the mean is about 0 while the std deviation is about 1."
   ]
  },
  {
   "cell_type": "code",
   "execution_count": 14,
   "id": "0a5eccc2-5076-4eca-beb7-a925f667603a",
   "metadata": {
    "jupyter": {
     "source_hidden": true
    },
    "tags": []
   },
   "outputs": [
    {
     "data": {
      "text/html": [
       "<style  type=\"text/css\" >\n",
       "</style><table id=\"T_bb2f7d5e_bdba_11eb_a2e5_8872c7e2c664\" style='display:inline'><caption>Original Data</caption><thead>    <tr>        <th class=\"blank level0\" ></th>        <th class=\"col_heading level0 col0\" >ACT</th>        <th class=\"col_heading level0 col1\" >FinalExam</th>        <th class=\"col_heading level0 col2\" >QuizAvg</th>        <th class=\"col_heading level0 col3\" >TestAvg</th>    </tr></thead><tbody>\n",
       "                <tr>\n",
       "                        <th id=\"T_bb2f7d5e_bdba_11eb_a2e5_8872c7e2c664level0_row0\" class=\"row_heading level0 row0\" >count</th>\n",
       "                        <td id=\"T_bb2f7d5e_bdba_11eb_a2e5_8872c7e2c664row0_col0\" class=\"data row0 col0\" >14.000000</td>\n",
       "                        <td id=\"T_bb2f7d5e_bdba_11eb_a2e5_8872c7e2c664row0_col1\" class=\"data row0 col1\" >14.000000</td>\n",
       "                        <td id=\"T_bb2f7d5e_bdba_11eb_a2e5_8872c7e2c664row0_col2\" class=\"data row0 col2\" >14.000000</td>\n",
       "                        <td id=\"T_bb2f7d5e_bdba_11eb_a2e5_8872c7e2c664row0_col3\" class=\"data row0 col3\" >14.000000</td>\n",
       "            </tr>\n",
       "            <tr>\n",
       "                        <th id=\"T_bb2f7d5e_bdba_11eb_a2e5_8872c7e2c664level0_row1\" class=\"row_heading level0 row1\" >mean</th>\n",
       "                        <td id=\"T_bb2f7d5e_bdba_11eb_a2e5_8872c7e2c664row1_col0\" class=\"data row1 col0\" >27.714286</td>\n",
       "                        <td id=\"T_bb2f7d5e_bdba_11eb_a2e5_8872c7e2c664row1_col1\" class=\"data row1 col1\" >156.428571</td>\n",
       "                        <td id=\"T_bb2f7d5e_bdba_11eb_a2e5_8872c7e2c664row1_col2\" class=\"data row1 col2\" >77.071429</td>\n",
       "                        <td id=\"T_bb2f7d5e_bdba_11eb_a2e5_8872c7e2c664row1_col3\" class=\"data row1 col3\" >76.428571</td>\n",
       "            </tr>\n",
       "            <tr>\n",
       "                        <th id=\"T_bb2f7d5e_bdba_11eb_a2e5_8872c7e2c664level0_row2\" class=\"row_heading level0 row2\" >std</th>\n",
       "                        <td id=\"T_bb2f7d5e_bdba_11eb_a2e5_8872c7e2c664row2_col0\" class=\"data row2 col0\" >4.158931</td>\n",
       "                        <td id=\"T_bb2f7d5e_bdba_11eb_a2e5_8872c7e2c664row2_col1\" class=\"data row2 col1\" >26.117234</td>\n",
       "                        <td id=\"T_bb2f7d5e_bdba_11eb_a2e5_8872c7e2c664row2_col2\" class=\"data row2 col2\" >13.747527</td>\n",
       "                        <td id=\"T_bb2f7d5e_bdba_11eb_a2e5_8872c7e2c664row2_col3\" class=\"data row2 col3\" >13.195071</td>\n",
       "            </tr>\n",
       "            <tr>\n",
       "                        <th id=\"T_bb2f7d5e_bdba_11eb_a2e5_8872c7e2c664level0_row3\" class=\"row_heading level0 row3\" >min</th>\n",
       "                        <td id=\"T_bb2f7d5e_bdba_11eb_a2e5_8872c7e2c664row3_col0\" class=\"data row3 col0\" >21.000000</td>\n",
       "                        <td id=\"T_bb2f7d5e_bdba_11eb_a2e5_8872c7e2c664row3_col1\" class=\"data row3 col1\" >100.000000</td>\n",
       "                        <td id=\"T_bb2f7d5e_bdba_11eb_a2e5_8872c7e2c664row3_col2\" class=\"data row3 col2\" >61.000000</td>\n",
       "                        <td id=\"T_bb2f7d5e_bdba_11eb_a2e5_8872c7e2c664row3_col3\" class=\"data row3 col3\" >56.000000</td>\n",
       "            </tr>\n",
       "            <tr>\n",
       "                        <th id=\"T_bb2f7d5e_bdba_11eb_a2e5_8872c7e2c664level0_row4\" class=\"row_heading level0 row4\" >25%</th>\n",
       "                        <td id=\"T_bb2f7d5e_bdba_11eb_a2e5_8872c7e2c664row4_col0\" class=\"data row4 col0\" >25.000000</td>\n",
       "                        <td id=\"T_bb2f7d5e_bdba_11eb_a2e5_8872c7e2c664row4_col1\" class=\"data row4 col1\" >147.750000</td>\n",
       "                        <td id=\"T_bb2f7d5e_bdba_11eb_a2e5_8872c7e2c664row4_col2\" class=\"data row4 col2\" >65.000000</td>\n",
       "                        <td id=\"T_bb2f7d5e_bdba_11eb_a2e5_8872c7e2c664row4_col3\" class=\"data row4 col3\" >68.000000</td>\n",
       "            </tr>\n",
       "            <tr>\n",
       "                        <th id=\"T_bb2f7d5e_bdba_11eb_a2e5_8872c7e2c664level0_row5\" class=\"row_heading level0 row5\" >50%</th>\n",
       "                        <td id=\"T_bb2f7d5e_bdba_11eb_a2e5_8872c7e2c664row5_col0\" class=\"data row5 col0\" >27.500000</td>\n",
       "                        <td id=\"T_bb2f7d5e_bdba_11eb_a2e5_8872c7e2c664row5_col1\" class=\"data row5 col1\" >163.000000</td>\n",
       "                        <td id=\"T_bb2f7d5e_bdba_11eb_a2e5_8872c7e2c664row5_col2\" class=\"data row5 col2\" >76.500000</td>\n",
       "                        <td id=\"T_bb2f7d5e_bdba_11eb_a2e5_8872c7e2c664row5_col3\" class=\"data row5 col3\" >76.000000</td>\n",
       "            </tr>\n",
       "            <tr>\n",
       "                        <th id=\"T_bb2f7d5e_bdba_11eb_a2e5_8872c7e2c664level0_row6\" class=\"row_heading level0 row6\" >75%</th>\n",
       "                        <td id=\"T_bb2f7d5e_bdba_11eb_a2e5_8872c7e2c664row6_col0\" class=\"data row6 col0\" >30.500000</td>\n",
       "                        <td id=\"T_bb2f7d5e_bdba_11eb_a2e5_8872c7e2c664row6_col1\" class=\"data row6 col1\" >174.250000</td>\n",
       "                        <td id=\"T_bb2f7d5e_bdba_11eb_a2e5_8872c7e2c664row6_col2\" class=\"data row6 col2\" >88.250000</td>\n",
       "                        <td id=\"T_bb2f7d5e_bdba_11eb_a2e5_8872c7e2c664row6_col3\" class=\"data row6 col3\" >87.000000</td>\n",
       "            </tr>\n",
       "            <tr>\n",
       "                        <th id=\"T_bb2f7d5e_bdba_11eb_a2e5_8872c7e2c664level0_row7\" class=\"row_heading level0 row7\" >max</th>\n",
       "                        <td id=\"T_bb2f7d5e_bdba_11eb_a2e5_8872c7e2c664row7_col0\" class=\"data row7 col0\" >36.000000</td>\n",
       "                        <td id=\"T_bb2f7d5e_bdba_11eb_a2e5_8872c7e2c664row7_col1\" class=\"data row7 col1\" >181.000000</td>\n",
       "                        <td id=\"T_bb2f7d5e_bdba_11eb_a2e5_8872c7e2c664row7_col2\" class=\"data row7 col2\" >98.000000</td>\n",
       "                        <td id=\"T_bb2f7d5e_bdba_11eb_a2e5_8872c7e2c664row7_col3\" class=\"data row7 col3\" >102.000000</td>\n",
       "            </tr>\n",
       "    </tbody></table><style  type=\"text/css\" >\n",
       "</style><table id=\"T_bb2ff290_bdba_11eb_a544_8872c7e2c664\" style='display:inline'><caption>Normalized Data</caption><thead>    <tr>        <th class=\"blank level0\" ></th>        <th class=\"col_heading level0 col0\" >ACT</th>        <th class=\"col_heading level0 col1\" >FinalExam</th>        <th class=\"col_heading level0 col2\" >QuizAvg</th>        <th class=\"col_heading level0 col3\" >TestAvg</th>    </tr></thead><tbody>\n",
       "                <tr>\n",
       "                        <th id=\"T_bb2ff290_bdba_11eb_a544_8872c7e2c664level0_row0\" class=\"row_heading level0 row0\" >count</th>\n",
       "                        <td id=\"T_bb2ff290_bdba_11eb_a544_8872c7e2c664row0_col0\" class=\"data row0 col0\" >14.000000</td>\n",
       "                        <td id=\"T_bb2ff290_bdba_11eb_a544_8872c7e2c664row0_col1\" class=\"data row0 col1\" >14.000000</td>\n",
       "                        <td id=\"T_bb2ff290_bdba_11eb_a544_8872c7e2c664row0_col2\" class=\"data row0 col2\" >14.000000</td>\n",
       "                        <td id=\"T_bb2ff290_bdba_11eb_a544_8872c7e2c664row0_col3\" class=\"data row0 col3\" >14.000000</td>\n",
       "            </tr>\n",
       "            <tr>\n",
       "                        <th id=\"T_bb2ff290_bdba_11eb_a544_8872c7e2c664level0_row1\" class=\"row_heading level0 row1\" >mean</th>\n",
       "                        <td id=\"T_bb2ff290_bdba_11eb_a544_8872c7e2c664row1_col0\" class=\"data row1 col0\" >-0.000000</td>\n",
       "                        <td id=\"T_bb2ff290_bdba_11eb_a544_8872c7e2c664row1_col1\" class=\"data row1 col1\" >0.000000</td>\n",
       "                        <td id=\"T_bb2ff290_bdba_11eb_a544_8872c7e2c664row1_col2\" class=\"data row1 col2\" >0.000000</td>\n",
       "                        <td id=\"T_bb2ff290_bdba_11eb_a544_8872c7e2c664row1_col3\" class=\"data row1 col3\" >-0.000000</td>\n",
       "            </tr>\n",
       "            <tr>\n",
       "                        <th id=\"T_bb2ff290_bdba_11eb_a544_8872c7e2c664level0_row2\" class=\"row_heading level0 row2\" >std</th>\n",
       "                        <td id=\"T_bb2ff290_bdba_11eb_a544_8872c7e2c664row2_col0\" class=\"data row2 col0\" >1.000000</td>\n",
       "                        <td id=\"T_bb2ff290_bdba_11eb_a544_8872c7e2c664row2_col1\" class=\"data row2 col1\" >1.000000</td>\n",
       "                        <td id=\"T_bb2ff290_bdba_11eb_a544_8872c7e2c664row2_col2\" class=\"data row2 col2\" >1.000000</td>\n",
       "                        <td id=\"T_bb2ff290_bdba_11eb_a544_8872c7e2c664row2_col3\" class=\"data row2 col3\" >1.000000</td>\n",
       "            </tr>\n",
       "            <tr>\n",
       "                        <th id=\"T_bb2ff290_bdba_11eb_a544_8872c7e2c664level0_row3\" class=\"row_heading level0 row3\" >min</th>\n",
       "                        <td id=\"T_bb2ff290_bdba_11eb_a544_8872c7e2c664row3_col0\" class=\"data row3 col0\" >-1.614426</td>\n",
       "                        <td id=\"T_bb2ff290_bdba_11eb_a544_8872c7e2c664row3_col1\" class=\"data row3 col1\" >-2.160588</td>\n",
       "                        <td id=\"T_bb2ff290_bdba_11eb_a544_8872c7e2c664row3_col2\" class=\"data row3 col2\" >-1.169041</td>\n",
       "                        <td id=\"T_bb2ff290_bdba_11eb_a544_8872c7e2c664row3_col3\" class=\"data row3 col3\" >-1.548197</td>\n",
       "            </tr>\n",
       "            <tr>\n",
       "                        <th id=\"T_bb2ff290_bdba_11eb_a544_8872c7e2c664level0_row4\" class=\"row_heading level0 row4\" >25%</th>\n",
       "                        <td id=\"T_bb2ff290_bdba_11eb_a544_8872c7e2c664row4_col0\" class=\"data row4 col0\" >-0.652640</td>\n",
       "                        <td id=\"T_bb2ff290_bdba_11eb_a544_8872c7e2c664row4_col1\" class=\"data row4 col1\" >-0.332293</td>\n",
       "                        <td id=\"T_bb2ff290_bdba_11eb_a544_8872c7e2c664row4_col2\" class=\"data row4 col2\" >-0.878080</td>\n",
       "                        <td id=\"T_bb2ff290_bdba_11eb_a544_8872c7e2c664row4_col3\" class=\"data row4 col3\" >-0.638767</td>\n",
       "            </tr>\n",
       "            <tr>\n",
       "                        <th id=\"T_bb2ff290_bdba_11eb_a544_8872c7e2c664level0_row5\" class=\"row_heading level0 row5\" >50%</th>\n",
       "                        <td id=\"T_bb2ff290_bdba_11eb_a544_8872c7e2c664row5_col0\" class=\"data row5 col0\" >-0.051524</td>\n",
       "                        <td id=\"T_bb2ff290_bdba_11eb_a544_8872c7e2c664row5_col1\" class=\"data row5 col1\" >0.251613</td>\n",
       "                        <td id=\"T_bb2ff290_bdba_11eb_a544_8872c7e2c664row5_col2\" class=\"data row5 col2\" >-0.041566</td>\n",
       "                        <td id=\"T_bb2ff290_bdba_11eb_a544_8872c7e2c664row5_col3\" class=\"data row5 col3\" >-0.032480</td>\n",
       "            </tr>\n",
       "            <tr>\n",
       "                        <th id=\"T_bb2ff290_bdba_11eb_a544_8872c7e2c664level0_row6\" class=\"row_heading level0 row6\" >75%</th>\n",
       "                        <td id=\"T_bb2ff290_bdba_11eb_a544_8872c7e2c664row6_col0\" class=\"data row6 col0\" >0.669815</td>\n",
       "                        <td id=\"T_bb2ff290_bdba_11eb_a544_8872c7e2c664row6_col1\" class=\"data row6 col1\" >0.682363</td>\n",
       "                        <td id=\"T_bb2ff290_bdba_11eb_a544_8872c7e2c664row6_col2\" class=\"data row6 col2\" >0.813133</td>\n",
       "                        <td id=\"T_bb2ff290_bdba_11eb_a544_8872c7e2c664row6_col3\" class=\"data row6 col3\" >0.801165</td>\n",
       "            </tr>\n",
       "            <tr>\n",
       "                        <th id=\"T_bb2ff290_bdba_11eb_a544_8872c7e2c664level0_row7\" class=\"row_heading level0 row7\" >max</th>\n",
       "                        <td id=\"T_bb2ff290_bdba_11eb_a544_8872c7e2c664row7_col0\" class=\"data row7 col0\" >1.992270</td>\n",
       "                        <td id=\"T_bb2ff290_bdba_11eb_a544_8872c7e2c664row7_col1\" class=\"data row7 col1\" >0.940813</td>\n",
       "                        <td id=\"T_bb2ff290_bdba_11eb_a544_8872c7e2c664row7_col2\" class=\"data row7 col2\" >1.522352</td>\n",
       "                        <td id=\"T_bb2ff290_bdba_11eb_a544_8872c7e2c664row7_col3\" class=\"data row7 col3\" >1.937953</td>\n",
       "            </tr>\n",
       "    </tbody></table>"
      ]
     },
     "metadata": {},
     "output_type": "display_data"
    }
   ],
   "source": [
    "from IPython.display import display_html \n",
    "df1_styler = df.describe().style.set_table_attributes(\"style='display:inline'\").set_caption('Original Data')\n",
    "df2_styler = zscore_df.describe().style.set_table_attributes(\"style='display:inline'\").set_caption('Normalized Data')\n",
    "display_html(df1_styler._repr_html_() + df2_styler._repr_html_(), raw=True)"
   ]
  },
  {
   "cell_type": "markdown",
   "id": "2c8321f9-f5b7-4797-b8cd-e365c6a48753",
   "metadata": {},
   "source": [
    "Looking at the distributions we see that the shape of our data is preserved. The relative distances have been scaled as have the individual data points."
   ]
  },
  {
   "cell_type": "markdown",
   "id": "f6662700-6cd6-457e-b54d-1623033b6180",
   "metadata": {
    "jupyter": {
     "source_hidden": true
    },
    "tags": []
   },
   "source": [
    "fig, ax = pyplot.subplots(2, 4)\n",
    "fig.set_figwidth(16)\n",
    "fig.tight_layout(h_pad=4)\n",
    "\n",
    "columns = [\"ACT\", \"FinalExam\", \"QuizAvg\", \"TestAvg\"]\n",
    "for i in range(0, len(columns)):\n",
    "    column = columns[i]\n",
    "    ax[0, i].scatter(df[column], numpy.zeros(df[column].shape));\n",
    "    ax[0, i].set(yticklabels=[])\n",
    "    ax[0, i].set_title(column)\n",
    "    \n",
    "    ax[1, i].scatter(zscore_df[column], numpy.zeros(zscore_df[column].shape));\n",
    "    ax[1, i].set(yticklabels=[])\n",
    "    ax[1, i].set_title(\"Normalized \" + column)\n"
   ]
  },
  {
   "cell_type": "markdown",
   "id": "df84a526-5f7d-4cfa-bef3-8e57b37c56f2",
   "metadata": {},
   "source": [
    "The histograms show similar infomation about the preservation of shape:"
   ]
  },
  {
   "cell_type": "code",
   "execution_count": 94,
   "id": "e776ea5f-e9c1-488e-964c-8cbd947d3d92",
   "metadata": {
    "jupyter": {
     "source_hidden": true
    },
    "tags": []
   },
   "outputs": [
    {
     "data": {
      "image/png": "[encoded data removed]",
      "text/plain": [
       "<Figure size 1152x288 with 8 Axes>"
      ]
     },
     "metadata": {
      "needs_background": "light"
     },
     "output_type": "display_data"
    }
   ],
   "source": [
    "fig, ax = pyplot.subplots(2, 4)\n",
    "fig.set_figwidth(16)\n",
    "fig.tight_layout(h_pad=4)\n",
    "\n",
    "columns = [\"ACT\", \"FinalExam\", \"QuizAvg\", \"TestAvg\"]\n",
    "for i in range(0, len(columns)):\n",
    "    column = columns[i]\n",
    "    \n",
    "    df[column].plot(ax=ax[0, i], kind=\"hist\", title=column);\n",
    "    ax[0, i].set_ylabel(\"\")\n",
    "\n",
    "    zscore_df[column].plot(ax=ax[1, i], kind=\"hist\", title=\"Normalized \" + column);\n",
    "    ax[1, i].set_ylabel(\"\") "
   ]
  },
  {
   "cell_type": "markdown",
   "id": "971e030c-03c4-4328-8fe9-a04635958805",
   "metadata": {},
   "source": [
    "Another way to confirm this is by looking at the QQ plots for the two samples:"
   ]
  },
  {
   "cell_type": "code",
   "execution_count": 26,
   "id": "cdcaec56-5766-4d21-af71-de7c987731eb",
   "metadata": {
    "jupyter": {
     "source_hidden": true
    },
    "tags": []
   },
   "outputs": [
    {
     "data": {
      "image/png": "[encoded data removed]",
      "text/plain": [
       "<Figure size 1152x288 with 4 Axes>"
      ]
     },
     "metadata": {
      "needs_background": "light"
     },
     "output_type": "display_data"
    }
   ],
   "source": [
    "fig, ax = pyplot.subplots(1, 4)\n",
    "fig.set_figwidth(16)\n",
    "\n",
    "for i in range(0, 4):\n",
    "    \n",
    "    column_name = df.columns[i]\n",
    "    raw = df[column_name]\n",
    "    normalized = zscore_df[column_name]\n",
    "    \n",
    "    for q in [x / 100 for x in range(0, 100)]:\n",
    "        raw_quantile = numpy.quantile(raw, q)\n",
    "        normalized_quantile = numpy.quantile(normalized, q)\n",
    "        ax[i].scatter(raw_quantile, normalized_quantile, c=\"blue\")\n",
    "    ax[i].set_title(column_name)"
   ]
  },
  {
   "cell_type": "markdown",
   "id": "98e93f0a-ac8f-4208-a6d7-c115ad6421c9",
   "metadata": {},
   "source": [
    "Now that the distributions have been transformed to a standard scale, we can overlay them and find differences quantitatively."
   ]
  },
  {
   "cell_type": "code",
   "execution_count": 32,
   "id": "da291e7c-cfdd-4a14-bb33-f9f0cae73756",
   "metadata": {
    "jupyter": {
     "source_hidden": true
    },
    "tags": []
   },
   "outputs": [
    {
     "data": {
      "text/html": [
       "<div>\n",
       "<style scoped>\n",
       "    .dataframe tbody tr th:only-of-type {\n",
       "        vertical-align: middle;\n",
       "    }\n",
       "\n",
       "    .dataframe tbody tr th {\n",
       "        vertical-align: top;\n",
       "    }\n",
       "\n",
       "    .dataframe thead th {\n",
       "        text-align: right;\n",
       "    }\n",
       "</style>\n",
       "<table border=\"1\" class=\"dataframe\">\n",
       "  <thead>\n",
       "    <tr style=\"text-align: right;\">\n",
       "      <th></th>\n",
       "      <th>ACT</th>\n",
       "      <th>FinalExam</th>\n",
       "      <th>Diff</th>\n",
       "    </tr>\n",
       "  </thead>\n",
       "  <tbody>\n",
       "    <tr>\n",
       "      <th>0</th>\n",
       "      <td>1.270931</td>\n",
       "      <td>0.940813</td>\n",
       "      <td>0.330118</td>\n",
       "    </tr>\n",
       "    <tr>\n",
       "      <th>1</th>\n",
       "      <td>0.790038</td>\n",
       "      <td>0.481346</td>\n",
       "      <td>0.308692</td>\n",
       "    </tr>\n",
       "    <tr>\n",
       "      <th>2</th>\n",
       "      <td>-1.614426</td>\n",
       "      <td>0.749368</td>\n",
       "      <td>-2.363794</td>\n",
       "    </tr>\n",
       "    <tr>\n",
       "      <th>3</th>\n",
       "      <td>-0.652640</td>\n",
       "      <td>0.940813</td>\n",
       "      <td>-1.593453</td>\n",
       "    </tr>\n",
       "    <tr>\n",
       "      <th>4</th>\n",
       "      <td>0.309145</td>\n",
       "      <td>0.481346</td>\n",
       "      <td>-0.172201</td>\n",
       "    </tr>\n",
       "  </tbody>\n",
       "</table>\n",
       "</div>"
      ],
      "text/plain": [
       "        ACT  FinalExam      Diff\n",
       "0  1.270931   0.940813  0.330118\n",
       "1  0.790038   0.481346  0.308692\n",
       "2 -1.614426   0.749368 -2.363794\n",
       "3 -0.652640   0.940813 -1.593453\n",
       "4  0.309145   0.481346 -0.172201"
      ]
     },
     "execution_count": 32,
     "metadata": {},
     "output_type": "execute_result"
    }
   ],
   "source": [
    "pandas.DataFrame({\n",
    "    'ACT' : zscore_df[\"ACT\"],\n",
    "    'FinalExam': zscore_df[\"FinalExam\"],\n",
    "    'Diff': zscore_df[\"ACT\"] - zscore_df[\"FinalExam\"]\n",
    "}).head(5)"
   ]
  },
  {
   "cell_type": "markdown",
   "id": "b0340db4-1203-477c-8d34-00609766a116",
   "metadata": {},
   "source": [
    "Creating a histogram of the differences we see:"
   ]
  },
  {
   "cell_type": "code",
   "execution_count": 71,
   "id": "28038593-7217-41f4-99c6-c960dc9f311f",
   "metadata": {
    "jupyter": {
     "source_hidden": true
    },
    "tags": []
   },
   "outputs": [
    {
     "data": {
      "image/png": "[encoded data removed]",
      "text/plain": [
       "<Figure size 1152x288 with 3 Axes>"
      ]
     },
     "metadata": {
      "needs_background": "light"
     },
     "output_type": "display_data"
    }
   ],
   "source": [
    "fig, ax = pyplot.subplots(1, 3)\n",
    "fig.set_figwidth(16)\n",
    "(zscore_df[\"ACT\"] - zscore_df[\"FinalExam\"]).plot(ax=ax[0], kind=\"hist\", title=\"ACT - FinalExam\");\n",
    "ax[0].set_ylabel(\"\")\n",
    "(zscore_df[\"ACT\"] - zscore_df[\"QuizAvg\"]).plot(ax=ax[1], kind=\"hist\", title=\"ACT - QuizAvg\");\n",
    "ax[1].set_ylabel(\"\")\n",
    "(zscore_df[\"ACT\"] - zscore_df[\"TestAvg\"]).plot(ax=ax[2], kind=\"hist\", title=\"ACT - TestAvg\");\n",
    "ax[2].set_ylabel(\"\");"
   ]
  },
  {
   "cell_type": "markdown",
   "id": "99ee2e5e-8c46-4635-b7e2-fb476a4325ff",
   "metadata": {},
   "source": [
    "## 2.2. Min-Max (Linear) Scaling"
   ]
  },
  {
   "cell_type": "markdown",
   "id": "6748d06c-ee68-44f9-9fd1-fb46f4ece44b",
   "metadata": {},
   "source": [
    "### 2.2.1 Prerequisite Reading"
   ]
  },
  {
   "cell_type": "markdown",
   "id": "07dd6f49-423e-46fa-a02e-6e3923405b37",
   "metadata": {
    "tags": []
   },
   "source": [
    "### 2.2.2 What is Min-Max Scaling"
   ]
  },
  {
   "cell_type": "markdown",
   "id": "18ce9b5f-f972-416a-b653-fa664c78491c",
   "metadata": {},
   "source": [
    "### 2.2.3 How Is Min-Max Scaling Used"
   ]
  },
  {
   "cell_type": "code",
   "execution_count": null,
   "id": "536e540e-1804-499a-b48e-92f9e2f17054",
   "metadata": {},
   "outputs": [],
   "source": []
  },
  {
   "cell_type": "markdown",
   "id": "19ec2be7-56c5-4218-9d1c-075284904229",
   "metadata": {},
   "source": [
    "### 2.2.4 Examine The Effects Of Min-Max Scaling\n"
   ]
  },
  {
   "cell_type": "code",
   "execution_count": 40,
   "id": "26b183ce-1553-4011-80f7-d29a7a64b1b1",
   "metadata": {
    "jupyter": {
     "source_hidden": true
    },
    "tags": []
   },
   "outputs": [
    {
     "data": {
      "text/html": [
       "<style  type=\"text/css\" >\n",
       "</style><table id=\"T_ac004bcc_bdbe_11eb_addb_8872c7e2c664\" style='display:inline'><caption>Original Data</caption><thead>    <tr>        <th class=\"blank level0\" ></th>        <th class=\"col_heading level0 col0\" >ACT</th>        <th class=\"col_heading level0 col1\" >FinalExam</th>        <th class=\"col_heading level0 col2\" >QuizAvg</th>        <th class=\"col_heading level0 col3\" >TestAvg</th>    </tr></thead><tbody>\n",
       "                <tr>\n",
       "                        <th id=\"T_ac004bcc_bdbe_11eb_addb_8872c7e2c664level0_row0\" class=\"row_heading level0 row0\" >0</th>\n",
       "                        <td id=\"T_ac004bcc_bdbe_11eb_addb_8872c7e2c664row0_col0\" class=\"data row0 col0\" >33</td>\n",
       "                        <td id=\"T_ac004bcc_bdbe_11eb_addb_8872c7e2c664row0_col1\" class=\"data row0 col1\" >181</td>\n",
       "                        <td id=\"T_ac004bcc_bdbe_11eb_addb_8872c7e2c664row0_col2\" class=\"data row0 col2\" >95</td>\n",
       "                        <td id=\"T_ac004bcc_bdbe_11eb_addb_8872c7e2c664row0_col3\" class=\"data row0 col3\" >89</td>\n",
       "            </tr>\n",
       "            <tr>\n",
       "                        <th id=\"T_ac004bcc_bdbe_11eb_addb_8872c7e2c664level0_row1\" class=\"row_heading level0 row1\" >1</th>\n",
       "                        <td id=\"T_ac004bcc_bdbe_11eb_addb_8872c7e2c664row1_col0\" class=\"data row1 col0\" >31</td>\n",
       "                        <td id=\"T_ac004bcc_bdbe_11eb_addb_8872c7e2c664row1_col1\" class=\"data row1 col1\" >169</td>\n",
       "                        <td id=\"T_ac004bcc_bdbe_11eb_addb_8872c7e2c664row1_col2\" class=\"data row1 col2\" >81</td>\n",
       "                        <td id=\"T_ac004bcc_bdbe_11eb_addb_8872c7e2c664row1_col3\" class=\"data row1 col3\" >89</td>\n",
       "            </tr>\n",
       "            <tr>\n",
       "                        <th id=\"T_ac004bcc_bdbe_11eb_addb_8872c7e2c664level0_row2\" class=\"row_heading level0 row2\" >2</th>\n",
       "                        <td id=\"T_ac004bcc_bdbe_11eb_addb_8872c7e2c664row2_col0\" class=\"data row2 col0\" >21</td>\n",
       "                        <td id=\"T_ac004bcc_bdbe_11eb_addb_8872c7e2c664row2_col1\" class=\"data row2 col1\" >176</td>\n",
       "                        <td id=\"T_ac004bcc_bdbe_11eb_addb_8872c7e2c664row2_col2\" class=\"data row2 col2\" >65</td>\n",
       "                        <td id=\"T_ac004bcc_bdbe_11eb_addb_8872c7e2c664row2_col3\" class=\"data row2 col3\" >68</td>\n",
       "            </tr>\n",
       "            <tr>\n",
       "                        <th id=\"T_ac004bcc_bdbe_11eb_addb_8872c7e2c664level0_row3\" class=\"row_heading level0 row3\" >3</th>\n",
       "                        <td id=\"T_ac004bcc_bdbe_11eb_addb_8872c7e2c664row3_col0\" class=\"data row3 col0\" >25</td>\n",
       "                        <td id=\"T_ac004bcc_bdbe_11eb_addb_8872c7e2c664row3_col1\" class=\"data row3 col1\" >181</td>\n",
       "                        <td id=\"T_ac004bcc_bdbe_11eb_addb_8872c7e2c664row3_col2\" class=\"data row3 col2\" >66</td>\n",
       "                        <td id=\"T_ac004bcc_bdbe_11eb_addb_8872c7e2c664row3_col3\" class=\"data row3 col3\" >90</td>\n",
       "            </tr>\n",
       "            <tr>\n",
       "                        <th id=\"T_ac004bcc_bdbe_11eb_addb_8872c7e2c664level0_row4\" class=\"row_heading level0 row4\" >4</th>\n",
       "                        <td id=\"T_ac004bcc_bdbe_11eb_addb_8872c7e2c664row4_col0\" class=\"data row4 col0\" >29</td>\n",
       "                        <td id=\"T_ac004bcc_bdbe_11eb_addb_8872c7e2c664row4_col1\" class=\"data row4 col1\" >169</td>\n",
       "                        <td id=\"T_ac004bcc_bdbe_11eb_addb_8872c7e2c664row4_col2\" class=\"data row4 col2\" >89</td>\n",
       "                        <td id=\"T_ac004bcc_bdbe_11eb_addb_8872c7e2c664row4_col3\" class=\"data row4 col3\" >81</td>\n",
       "            </tr>\n",
       "    </tbody></table><style  type=\"text/css\" >\n",
       "</style><table id=\"T_ac00e80c_bdbe_11eb_b474_8872c7e2c664\" style='display:inline'><caption>Normalized Data</caption><thead>    <tr>        <th class=\"blank level0\" ></th>        <th class=\"col_heading level0 col0\" >ACT</th>        <th class=\"col_heading level0 col1\" >FinalExam</th>        <th class=\"col_heading level0 col2\" >QuizAvg</th>        <th class=\"col_heading level0 col3\" >TestAvg</th>    </tr></thead><tbody>\n",
       "                <tr>\n",
       "                        <th id=\"T_ac00e80c_bdbe_11eb_b474_8872c7e2c664level0_row0\" class=\"row_heading level0 row0\" >0</th>\n",
       "                        <td id=\"T_ac00e80c_bdbe_11eb_b474_8872c7e2c664row0_col0\" class=\"data row0 col0\" >0.800000</td>\n",
       "                        <td id=\"T_ac00e80c_bdbe_11eb_b474_8872c7e2c664row0_col1\" class=\"data row0 col1\" >1.000000</td>\n",
       "                        <td id=\"T_ac00e80c_bdbe_11eb_b474_8872c7e2c664row0_col2\" class=\"data row0 col2\" >0.918919</td>\n",
       "                        <td id=\"T_ac00e80c_bdbe_11eb_b474_8872c7e2c664row0_col3\" class=\"data row0 col3\" >0.717391</td>\n",
       "            </tr>\n",
       "            <tr>\n",
       "                        <th id=\"T_ac00e80c_bdbe_11eb_b474_8872c7e2c664level0_row1\" class=\"row_heading level0 row1\" >1</th>\n",
       "                        <td id=\"T_ac00e80c_bdbe_11eb_b474_8872c7e2c664row1_col0\" class=\"data row1 col0\" >0.666667</td>\n",
       "                        <td id=\"T_ac00e80c_bdbe_11eb_b474_8872c7e2c664row1_col1\" class=\"data row1 col1\" >0.851852</td>\n",
       "                        <td id=\"T_ac00e80c_bdbe_11eb_b474_8872c7e2c664row1_col2\" class=\"data row1 col2\" >0.540541</td>\n",
       "                        <td id=\"T_ac00e80c_bdbe_11eb_b474_8872c7e2c664row1_col3\" class=\"data row1 col3\" >0.717391</td>\n",
       "            </tr>\n",
       "            <tr>\n",
       "                        <th id=\"T_ac00e80c_bdbe_11eb_b474_8872c7e2c664level0_row2\" class=\"row_heading level0 row2\" >2</th>\n",
       "                        <td id=\"T_ac00e80c_bdbe_11eb_b474_8872c7e2c664row2_col0\" class=\"data row2 col0\" >0.000000</td>\n",
       "                        <td id=\"T_ac00e80c_bdbe_11eb_b474_8872c7e2c664row2_col1\" class=\"data row2 col1\" >0.938272</td>\n",
       "                        <td id=\"T_ac00e80c_bdbe_11eb_b474_8872c7e2c664row2_col2\" class=\"data row2 col2\" >0.108108</td>\n",
       "                        <td id=\"T_ac00e80c_bdbe_11eb_b474_8872c7e2c664row2_col3\" class=\"data row2 col3\" >0.260870</td>\n",
       "            </tr>\n",
       "            <tr>\n",
       "                        <th id=\"T_ac00e80c_bdbe_11eb_b474_8872c7e2c664level0_row3\" class=\"row_heading level0 row3\" >3</th>\n",
       "                        <td id=\"T_ac00e80c_bdbe_11eb_b474_8872c7e2c664row3_col0\" class=\"data row3 col0\" >0.266667</td>\n",
       "                        <td id=\"T_ac00e80c_bdbe_11eb_b474_8872c7e2c664row3_col1\" class=\"data row3 col1\" >1.000000</td>\n",
       "                        <td id=\"T_ac00e80c_bdbe_11eb_b474_8872c7e2c664row3_col2\" class=\"data row3 col2\" >0.135135</td>\n",
       "                        <td id=\"T_ac00e80c_bdbe_11eb_b474_8872c7e2c664row3_col3\" class=\"data row3 col3\" >0.739130</td>\n",
       "            </tr>\n",
       "            <tr>\n",
       "                        <th id=\"T_ac00e80c_bdbe_11eb_b474_8872c7e2c664level0_row4\" class=\"row_heading level0 row4\" >4</th>\n",
       "                        <td id=\"T_ac00e80c_bdbe_11eb_b474_8872c7e2c664row4_col0\" class=\"data row4 col0\" >0.533333</td>\n",
       "                        <td id=\"T_ac00e80c_bdbe_11eb_b474_8872c7e2c664row4_col1\" class=\"data row4 col1\" >0.851852</td>\n",
       "                        <td id=\"T_ac00e80c_bdbe_11eb_b474_8872c7e2c664row4_col2\" class=\"data row4 col2\" >0.756757</td>\n",
       "                        <td id=\"T_ac00e80c_bdbe_11eb_b474_8872c7e2c664row4_col3\" class=\"data row4 col3\" >0.543478</td>\n",
       "            </tr>\n",
       "    </tbody></table>"
      ]
     },
     "metadata": {},
     "output_type": "display_data"
    }
   ],
   "source": [
    "minmax_df = df.copy()\n",
    "minmax_df[\"ACT\"] = (df[\"ACT\"] - df[\"ACT\"].min()) / (df[\"ACT\"].max() - df[\"ACT\"].min())\n",
    "minmax_df[\"FinalExam\"] = (df[\"FinalExam\"] - df[\"FinalExam\"].min()) / (df[\"FinalExam\"].max() - df[\"FinalExam\"].min())\n",
    "minmax_df[\"QuizAvg\"] = (df[\"QuizAvg\"] - df[\"QuizAvg\"].min()) / (df[\"QuizAvg\"].max() - df[\"QuizAvg\"].min())\n",
    "minmax_df[\"TestAvg\"] = (df[\"TestAvg\"] - df[\"TestAvg\"].min()) / (df[\"TestAvg\"].max() - df[\"TestAvg\"].min())\n",
    "\n",
    "from IPython.display import display_html \n",
    "df1_styler = df.head().style.set_table_attributes(\"style='display:inline'\").set_caption('Original Data')\n",
    "df2_styler = minmax_df.head().style.set_table_attributes(\"style='display:inline'\").set_caption('Normalized Data')\n",
    "display_html(df1_styler._repr_html_() + df2_styler._repr_html_(), raw=True)"
   ]
  },
  {
   "cell_type": "code",
   "execution_count": 41,
   "id": "45282e8f-9196-422b-825f-0b4c91a01fa6",
   "metadata": {
    "jupyter": {
     "source_hidden": true
    },
    "tags": []
   },
   "outputs": [
    {
     "data": {
      "text/html": [
       "<style  type=\"text/css\" >\n",
       "</style><table id=\"T_b77a6430_bdbe_11eb_adc9_8872c7e2c664\" style='display:inline'><caption>Original Data</caption><thead>    <tr>        <th class=\"blank level0\" ></th>        <th class=\"col_heading level0 col0\" >ACT</th>        <th class=\"col_heading level0 col1\" >FinalExam</th>        <th class=\"col_heading level0 col2\" >QuizAvg</th>        <th class=\"col_heading level0 col3\" >TestAvg</th>    </tr></thead><tbody>\n",
       "                <tr>\n",
       "                        <th id=\"T_b77a6430_bdbe_11eb_adc9_8872c7e2c664level0_row0\" class=\"row_heading level0 row0\" >count</th>\n",
       "                        <td id=\"T_b77a6430_bdbe_11eb_adc9_8872c7e2c664row0_col0\" class=\"data row0 col0\" >14.000000</td>\n",
       "                        <td id=\"T_b77a6430_bdbe_11eb_adc9_8872c7e2c664row0_col1\" class=\"data row0 col1\" >14.000000</td>\n",
       "                        <td id=\"T_b77a6430_bdbe_11eb_adc9_8872c7e2c664row0_col2\" class=\"data row0 col2\" >14.000000</td>\n",
       "                        <td id=\"T_b77a6430_bdbe_11eb_adc9_8872c7e2c664row0_col3\" class=\"data row0 col3\" >14.000000</td>\n",
       "            </tr>\n",
       "            <tr>\n",
       "                        <th id=\"T_b77a6430_bdbe_11eb_adc9_8872c7e2c664level0_row1\" class=\"row_heading level0 row1\" >mean</th>\n",
       "                        <td id=\"T_b77a6430_bdbe_11eb_adc9_8872c7e2c664row1_col0\" class=\"data row1 col0\" >27.714286</td>\n",
       "                        <td id=\"T_b77a6430_bdbe_11eb_adc9_8872c7e2c664row1_col1\" class=\"data row1 col1\" >156.428571</td>\n",
       "                        <td id=\"T_b77a6430_bdbe_11eb_adc9_8872c7e2c664row1_col2\" class=\"data row1 col2\" >77.071429</td>\n",
       "                        <td id=\"T_b77a6430_bdbe_11eb_adc9_8872c7e2c664row1_col3\" class=\"data row1 col3\" >76.428571</td>\n",
       "            </tr>\n",
       "            <tr>\n",
       "                        <th id=\"T_b77a6430_bdbe_11eb_adc9_8872c7e2c664level0_row2\" class=\"row_heading level0 row2\" >std</th>\n",
       "                        <td id=\"T_b77a6430_bdbe_11eb_adc9_8872c7e2c664row2_col0\" class=\"data row2 col0\" >4.158931</td>\n",
       "                        <td id=\"T_b77a6430_bdbe_11eb_adc9_8872c7e2c664row2_col1\" class=\"data row2 col1\" >26.117234</td>\n",
       "                        <td id=\"T_b77a6430_bdbe_11eb_adc9_8872c7e2c664row2_col2\" class=\"data row2 col2\" >13.747527</td>\n",
       "                        <td id=\"T_b77a6430_bdbe_11eb_adc9_8872c7e2c664row2_col3\" class=\"data row2 col3\" >13.195071</td>\n",
       "            </tr>\n",
       "            <tr>\n",
       "                        <th id=\"T_b77a6430_bdbe_11eb_adc9_8872c7e2c664level0_row3\" class=\"row_heading level0 row3\" >min</th>\n",
       "                        <td id=\"T_b77a6430_bdbe_11eb_adc9_8872c7e2c664row3_col0\" class=\"data row3 col0\" >21.000000</td>\n",
       "                        <td id=\"T_b77a6430_bdbe_11eb_adc9_8872c7e2c664row3_col1\" class=\"data row3 col1\" >100.000000</td>\n",
       "                        <td id=\"T_b77a6430_bdbe_11eb_adc9_8872c7e2c664row3_col2\" class=\"data row3 col2\" >61.000000</td>\n",
       "                        <td id=\"T_b77a6430_bdbe_11eb_adc9_8872c7e2c664row3_col3\" class=\"data row3 col3\" >56.000000</td>\n",
       "            </tr>\n",
       "            <tr>\n",
       "                        <th id=\"T_b77a6430_bdbe_11eb_adc9_8872c7e2c664level0_row4\" class=\"row_heading level0 row4\" >25%</th>\n",
       "                        <td id=\"T_b77a6430_bdbe_11eb_adc9_8872c7e2c664row4_col0\" class=\"data row4 col0\" >25.000000</td>\n",
       "                        <td id=\"T_b77a6430_bdbe_11eb_adc9_8872c7e2c664row4_col1\" class=\"data row4 col1\" >147.750000</td>\n",
       "                        <td id=\"T_b77a6430_bdbe_11eb_adc9_8872c7e2c664row4_col2\" class=\"data row4 col2\" >65.000000</td>\n",
       "                        <td id=\"T_b77a6430_bdbe_11eb_adc9_8872c7e2c664row4_col3\" class=\"data row4 col3\" >68.000000</td>\n",
       "            </tr>\n",
       "            <tr>\n",
       "                        <th id=\"T_b77a6430_bdbe_11eb_adc9_8872c7e2c664level0_row5\" class=\"row_heading level0 row5\" >50%</th>\n",
       "                        <td id=\"T_b77a6430_bdbe_11eb_adc9_8872c7e2c664row5_col0\" class=\"data row5 col0\" >27.500000</td>\n",
       "                        <td id=\"T_b77a6430_bdbe_11eb_adc9_8872c7e2c664row5_col1\" class=\"data row5 col1\" >163.000000</td>\n",
       "                        <td id=\"T_b77a6430_bdbe_11eb_adc9_8872c7e2c664row5_col2\" class=\"data row5 col2\" >76.500000</td>\n",
       "                        <td id=\"T_b77a6430_bdbe_11eb_adc9_8872c7e2c664row5_col3\" class=\"data row5 col3\" >76.000000</td>\n",
       "            </tr>\n",
       "            <tr>\n",
       "                        <th id=\"T_b77a6430_bdbe_11eb_adc9_8872c7e2c664level0_row6\" class=\"row_heading level0 row6\" >75%</th>\n",
       "                        <td id=\"T_b77a6430_bdbe_11eb_adc9_8872c7e2c664row6_col0\" class=\"data row6 col0\" >30.500000</td>\n",
       "                        <td id=\"T_b77a6430_bdbe_11eb_adc9_8872c7e2c664row6_col1\" class=\"data row6 col1\" >174.250000</td>\n",
       "                        <td id=\"T_b77a6430_bdbe_11eb_adc9_8872c7e2c664row6_col2\" class=\"data row6 col2\" >88.250000</td>\n",
       "                        <td id=\"T_b77a6430_bdbe_11eb_adc9_8872c7e2c664row6_col3\" class=\"data row6 col3\" >87.000000</td>\n",
       "            </tr>\n",
       "            <tr>\n",
       "                        <th id=\"T_b77a6430_bdbe_11eb_adc9_8872c7e2c664level0_row7\" class=\"row_heading level0 row7\" >max</th>\n",
       "                        <td id=\"T_b77a6430_bdbe_11eb_adc9_8872c7e2c664row7_col0\" class=\"data row7 col0\" >36.000000</td>\n",
       "                        <td id=\"T_b77a6430_bdbe_11eb_adc9_8872c7e2c664row7_col1\" class=\"data row7 col1\" >181.000000</td>\n",
       "                        <td id=\"T_b77a6430_bdbe_11eb_adc9_8872c7e2c664row7_col2\" class=\"data row7 col2\" >98.000000</td>\n",
       "                        <td id=\"T_b77a6430_bdbe_11eb_adc9_8872c7e2c664row7_col3\" class=\"data row7 col3\" >102.000000</td>\n",
       "            </tr>\n",
       "    </tbody></table><style  type=\"text/css\" >\n",
       "</style><table id=\"T_b77b0074_bdbe_11eb_85b8_8872c7e2c664\" style='display:inline'><caption>Normalized Data</caption><thead>    <tr>        <th class=\"blank level0\" ></th>        <th class=\"col_heading level0 col0\" >ACT</th>        <th class=\"col_heading level0 col1\" >FinalExam</th>        <th class=\"col_heading level0 col2\" >QuizAvg</th>        <th class=\"col_heading level0 col3\" >TestAvg</th>    </tr></thead><tbody>\n",
       "                <tr>\n",
       "                        <th id=\"T_b77b0074_bdbe_11eb_85b8_8872c7e2c664level0_row0\" class=\"row_heading level0 row0\" >count</th>\n",
       "                        <td id=\"T_b77b0074_bdbe_11eb_85b8_8872c7e2c664row0_col0\" class=\"data row0 col0\" >14.000000</td>\n",
       "                        <td id=\"T_b77b0074_bdbe_11eb_85b8_8872c7e2c664row0_col1\" class=\"data row0 col1\" >14.000000</td>\n",
       "                        <td id=\"T_b77b0074_bdbe_11eb_85b8_8872c7e2c664row0_col2\" class=\"data row0 col2\" >14.000000</td>\n",
       "                        <td id=\"T_b77b0074_bdbe_11eb_85b8_8872c7e2c664row0_col3\" class=\"data row0 col3\" >14.000000</td>\n",
       "            </tr>\n",
       "            <tr>\n",
       "                        <th id=\"T_b77b0074_bdbe_11eb_85b8_8872c7e2c664level0_row1\" class=\"row_heading level0 row1\" >mean</th>\n",
       "                        <td id=\"T_b77b0074_bdbe_11eb_85b8_8872c7e2c664row1_col0\" class=\"data row1 col0\" >0.447619</td>\n",
       "                        <td id=\"T_b77b0074_bdbe_11eb_85b8_8872c7e2c664row1_col1\" class=\"data row1 col1\" >0.696649</td>\n",
       "                        <td id=\"T_b77b0074_bdbe_11eb_85b8_8872c7e2c664row1_col2\" class=\"data row1 col2\" >0.434363</td>\n",
       "                        <td id=\"T_b77b0074_bdbe_11eb_85b8_8872c7e2c664row1_col3\" class=\"data row1 col3\" >0.444099</td>\n",
       "            </tr>\n",
       "            <tr>\n",
       "                        <th id=\"T_b77b0074_bdbe_11eb_85b8_8872c7e2c664level0_row2\" class=\"row_heading level0 row2\" >std</th>\n",
       "                        <td id=\"T_b77b0074_bdbe_11eb_85b8_8872c7e2c664row2_col0\" class=\"data row2 col0\" >0.277262</td>\n",
       "                        <td id=\"T_b77b0074_bdbe_11eb_85b8_8872c7e2c664row2_col1\" class=\"data row2 col1\" >0.322435</td>\n",
       "                        <td id=\"T_b77b0074_bdbe_11eb_85b8_8872c7e2c664row2_col2\" class=\"data row2 col2\" >0.371555</td>\n",
       "                        <td id=\"T_b77b0074_bdbe_11eb_85b8_8872c7e2c664row2_col3\" class=\"data row2 col3\" >0.286849</td>\n",
       "            </tr>\n",
       "            <tr>\n",
       "                        <th id=\"T_b77b0074_bdbe_11eb_85b8_8872c7e2c664level0_row3\" class=\"row_heading level0 row3\" >min</th>\n",
       "                        <td id=\"T_b77b0074_bdbe_11eb_85b8_8872c7e2c664row3_col0\" class=\"data row3 col0\" >0.000000</td>\n",
       "                        <td id=\"T_b77b0074_bdbe_11eb_85b8_8872c7e2c664row3_col1\" class=\"data row3 col1\" >0.000000</td>\n",
       "                        <td id=\"T_b77b0074_bdbe_11eb_85b8_8872c7e2c664row3_col2\" class=\"data row3 col2\" >0.000000</td>\n",
       "                        <td id=\"T_b77b0074_bdbe_11eb_85b8_8872c7e2c664row3_col3\" class=\"data row3 col3\" >0.000000</td>\n",
       "            </tr>\n",
       "            <tr>\n",
       "                        <th id=\"T_b77b0074_bdbe_11eb_85b8_8872c7e2c664level0_row4\" class=\"row_heading level0 row4\" >25%</th>\n",
       "                        <td id=\"T_b77b0074_bdbe_11eb_85b8_8872c7e2c664row4_col0\" class=\"data row4 col0\" >0.266667</td>\n",
       "                        <td id=\"T_b77b0074_bdbe_11eb_85b8_8872c7e2c664row4_col1\" class=\"data row4 col1\" >0.589506</td>\n",
       "                        <td id=\"T_b77b0074_bdbe_11eb_85b8_8872c7e2c664row4_col2\" class=\"data row4 col2\" >0.108108</td>\n",
       "                        <td id=\"T_b77b0074_bdbe_11eb_85b8_8872c7e2c664row4_col3\" class=\"data row4 col3\" >0.260870</td>\n",
       "            </tr>\n",
       "            <tr>\n",
       "                        <th id=\"T_b77b0074_bdbe_11eb_85b8_8872c7e2c664level0_row5\" class=\"row_heading level0 row5\" >50%</th>\n",
       "                        <td id=\"T_b77b0074_bdbe_11eb_85b8_8872c7e2c664row5_col0\" class=\"data row5 col0\" >0.433333</td>\n",
       "                        <td id=\"T_b77b0074_bdbe_11eb_85b8_8872c7e2c664row5_col1\" class=\"data row5 col1\" >0.777778</td>\n",
       "                        <td id=\"T_b77b0074_bdbe_11eb_85b8_8872c7e2c664row5_col2\" class=\"data row5 col2\" >0.418919</td>\n",
       "                        <td id=\"T_b77b0074_bdbe_11eb_85b8_8872c7e2c664row5_col3\" class=\"data row5 col3\" >0.434783</td>\n",
       "            </tr>\n",
       "            <tr>\n",
       "                        <th id=\"T_b77b0074_bdbe_11eb_85b8_8872c7e2c664level0_row6\" class=\"row_heading level0 row6\" >75%</th>\n",
       "                        <td id=\"T_b77b0074_bdbe_11eb_85b8_8872c7e2c664row6_col0\" class=\"data row6 col0\" >0.633333</td>\n",
       "                        <td id=\"T_b77b0074_bdbe_11eb_85b8_8872c7e2c664row6_col1\" class=\"data row6 col1\" >0.916667</td>\n",
       "                        <td id=\"T_b77b0074_bdbe_11eb_85b8_8872c7e2c664row6_col2\" class=\"data row6 col2\" >0.736486</td>\n",
       "                        <td id=\"T_b77b0074_bdbe_11eb_85b8_8872c7e2c664row6_col3\" class=\"data row6 col3\" >0.673913</td>\n",
       "            </tr>\n",
       "            <tr>\n",
       "                        <th id=\"T_b77b0074_bdbe_11eb_85b8_8872c7e2c664level0_row7\" class=\"row_heading level0 row7\" >max</th>\n",
       "                        <td id=\"T_b77b0074_bdbe_11eb_85b8_8872c7e2c664row7_col0\" class=\"data row7 col0\" >1.000000</td>\n",
       "                        <td id=\"T_b77b0074_bdbe_11eb_85b8_8872c7e2c664row7_col1\" class=\"data row7 col1\" >1.000000</td>\n",
       "                        <td id=\"T_b77b0074_bdbe_11eb_85b8_8872c7e2c664row7_col2\" class=\"data row7 col2\" >1.000000</td>\n",
       "                        <td id=\"T_b77b0074_bdbe_11eb_85b8_8872c7e2c664row7_col3\" class=\"data row7 col3\" >1.000000</td>\n",
       "            </tr>\n",
       "    </tbody></table>"
      ]
     },
     "metadata": {},
     "output_type": "display_data"
    }
   ],
   "source": [
    "from IPython.display import display_html \n",
    "df1_styler = df.describe().style.set_table_attributes(\"style='display:inline'\").set_caption('Original Data')\n",
    "df2_styler = minmax_df.describe().style.set_table_attributes(\"style='display:inline'\").set_caption('Normalized Data')\n",
    "display_html(df1_styler._repr_html_() + df2_styler._repr_html_(), raw=True)"
   ]
  },
  {
   "cell_type": "code",
   "execution_count": 31,
   "id": "d283b5b3-18f2-44b8-a8a2-4be523913d37",
   "metadata": {
    "jupyter": {
     "source_hidden": true
    },
    "tags": []
   },
   "outputs": [
    {
     "data": {
      "image/png": "[encoded data removed]",
      "text/plain": [
       "<Figure size 1152x288 with 8 Axes>"
      ]
     },
     "metadata": {
      "needs_background": "light"
     },
     "output_type": "display_data"
    }
   ],
   "source": [
    "fig, ax = pyplot.subplots(2, 4)\n",
    "fig.set_figwidth(16)\n",
    "fig.tight_layout(h_pad=4)\n",
    "\n",
    "columns = [\"ACT\", \"FinalExam\", \"QuizAvg\", \"TestAvg\"]\n",
    "for i in range(0, len(columns)):\n",
    "    column = columns[i]\n",
    "    ax[0, i].scatter(df[column], numpy.zeros(df[column].shape));\n",
    "    ax[0, i].set(yticklabels=[])\n",
    "    ax[0, i].set_title(column)\n",
    "    \n",
    "    ax[1, i].scatter(minmax_df[column], numpy.zeros(minmax_df[column].shape));\n",
    "    ax[1, i].set(yticklabels=[])\n",
    "    ax[1, i].set_title(\"Normalized \" + column)"
   ]
  },
  {
   "cell_type": "code",
   "execution_count": 32,
   "id": "1fdb9d42-6192-40bb-83d4-d9d491c38b8a",
   "metadata": {
    "jupyter": {
     "source_hidden": true
    },
    "tags": []
   },
   "outputs": [
    {
     "data": {
      "image/png": "[encoded data removed]",
      "text/plain": [
       "<Figure size 1152x288 with 8 Axes>"
      ]
     },
     "metadata": {
      "needs_background": "light"
     },
     "output_type": "display_data"
    }
   ],
   "source": [
    "fig, ax = pyplot.subplots(2, 4)\n",
    "fig.set_figwidth(16)\n",
    "fig.tight_layout(h_pad=4)\n",
    "\n",
    "columns = [\"ACT\", \"FinalExam\", \"QuizAvg\", \"TestAvg\"]\n",
    "for i in range(0, len(columns)):\n",
    "    column = columns[i]\n",
    "    \n",
    "    df[column].plot(ax=ax[0, i], kind=\"hist\", title=column);\n",
    "    ax[0, i].set_ylabel(\"\")\n",
    "\n",
    "    minmax_df[column].plot(ax=ax[1, i], kind=\"hist\", title=\"Normalized \" + column);\n",
    "    ax[1, i].set_ylabel(\"\") "
   ]
  },
  {
   "cell_type": "code",
   "execution_count": 33,
   "id": "12747b6e-9b87-4d44-aa11-584bb2794b84",
   "metadata": {
    "jupyter": {
     "source_hidden": true
    },
    "tags": []
   },
   "outputs": [
    {
     "data": {
      "image/png": "[encoded data removed]",
      "text/plain": [
       "<Figure size 1152x288 with 4 Axes>"
      ]
     },
     "metadata": {
      "needs_background": "light"
     },
     "output_type": "display_data"
    }
   ],
   "source": [
    "fig, ax = pyplot.subplots(1, 4)\n",
    "fig.set_figwidth(16)\n",
    "\n",
    "for i in range(0, 4):\n",
    "    \n",
    "    column_name = df.columns[i]\n",
    "    raw = df[column_name]\n",
    "    normalized = minmax_df[column_name]\n",
    "    \n",
    "    for q in [x / 100 for x in range(0, 100)]:\n",
    "        raw_quantile = numpy.quantile(raw, q)\n",
    "        normalized_quantile = numpy.quantile(normalized, q)\n",
    "        ax[i].scatter(raw_quantile, normalized_quantile, c=\"blue\")\n",
    "    ax[i].set_title(column_name)"
   ]
  },
  {
   "cell_type": "markdown",
   "id": "1fb66112-c20a-4986-bd5a-f1b18bcd9d97",
   "metadata": {},
   "source": [
    "#### 2.2.4.1. Effects On Standard Deviation\n",
    "One of the first things to notice about min-max scaling is the effects on the standard deviation.\n",
    "\n",
    "The standard deviation will generally be smaller than one (assuming the range occupied a larger interval than [0, 1]). In other words, Min-Max Scaling will yield a data set with a smaller standard deviation than the original sample. It will also yield a smaller standard deviation than standardization for example."
   ]
  },
  {
   "cell_type": "code",
   "execution_count": 130,
   "id": "834fe793-1caf-4b82-a58a-15857f814663",
   "metadata": {
    "jupyter": {
     "source_hidden": true
    },
    "tags": []
   },
   "outputs": [
    {
     "data": {
      "text/html": [
       "<style  type=\"text/css\" >\n",
       "</style><table id=\"T_a18e2746_b5b5_11eb_ba6b_a3825b440803\" ><caption>Standard Deviation</caption><thead>    <tr>        <th class=\"blank level0\" ></th>        <th class=\"col_heading level0 col0\" >Raw</th>        <th class=\"col_heading level0 col1\" >Standardized</th>        <th class=\"col_heading level0 col2\" >Min-Max Scaled</th>        <th class=\"col_heading level0 col3\" >Quantile Normalized</th>    </tr></thead><tbody>\n",
       "                <tr>\n",
       "                        <th id=\"T_a18e2746_b5b5_11eb_ba6b_a3825b440803level0_row0\" class=\"row_heading level0 row0\" >ACT</th>\n",
       "                        <td id=\"T_a18e2746_b5b5_11eb_ba6b_a3825b440803row0_col0\" class=\"data row0 col0\" >4.158931</td>\n",
       "                        <td id=\"T_a18e2746_b5b5_11eb_ba6b_a3825b440803row0_col1\" class=\"data row0 col1\" >1.000000</td>\n",
       "                        <td id=\"T_a18e2746_b5b5_11eb_ba6b_a3825b440803row0_col2\" class=\"data row0 col2\" >0.277262</td>\n",
       "                        <td id=\"T_a18e2746_b5b5_11eb_ba6b_a3825b440803row0_col3\" class=\"data row0 col3\" >13.661378</td>\n",
       "            </tr>\n",
       "            <tr>\n",
       "                        <th id=\"T_a18e2746_b5b5_11eb_ba6b_a3825b440803level0_row1\" class=\"row_heading level0 row1\" >FinalExam</th>\n",
       "                        <td id=\"T_a18e2746_b5b5_11eb_ba6b_a3825b440803row1_col0\" class=\"data row1 col0\" >26.117234</td>\n",
       "                        <td id=\"T_a18e2746_b5b5_11eb_ba6b_a3825b440803row1_col1\" class=\"data row1 col1\" >1.000000</td>\n",
       "                        <td id=\"T_a18e2746_b5b5_11eb_ba6b_a3825b440803row1_col2\" class=\"data row1 col2\" >0.322435</td>\n",
       "                        <td id=\"T_a18e2746_b5b5_11eb_ba6b_a3825b440803row1_col3\" class=\"data row1 col3\" >13.654514</td>\n",
       "            </tr>\n",
       "            <tr>\n",
       "                        <th id=\"T_a18e2746_b5b5_11eb_ba6b_a3825b440803level0_row2\" class=\"row_heading level0 row2\" >QuizAvg</th>\n",
       "                        <td id=\"T_a18e2746_b5b5_11eb_ba6b_a3825b440803row2_col0\" class=\"data row2 col0\" >13.747527</td>\n",
       "                        <td id=\"T_a18e2746_b5b5_11eb_ba6b_a3825b440803row2_col1\" class=\"data row2 col1\" >1.000000</td>\n",
       "                        <td id=\"T_a18e2746_b5b5_11eb_ba6b_a3825b440803row2_col2\" class=\"data row2 col2\" >0.371555</td>\n",
       "                        <td id=\"T_a18e2746_b5b5_11eb_ba6b_a3825b440803row2_col3\" class=\"data row2 col3\" >13.703894</td>\n",
       "            </tr>\n",
       "            <tr>\n",
       "                        <th id=\"T_a18e2746_b5b5_11eb_ba6b_a3825b440803level0_row3\" class=\"row_heading level0 row3\" >TestAvg</th>\n",
       "                        <td id=\"T_a18e2746_b5b5_11eb_ba6b_a3825b440803row3_col0\" class=\"data row3 col0\" >13.195071</td>\n",
       "                        <td id=\"T_a18e2746_b5b5_11eb_ba6b_a3825b440803row3_col1\" class=\"data row3 col1\" >1.000000</td>\n",
       "                        <td id=\"T_a18e2746_b5b5_11eb_ba6b_a3825b440803row3_col2\" class=\"data row3 col2\" >0.286849</td>\n",
       "                        <td id=\"T_a18e2746_b5b5_11eb_ba6b_a3825b440803row3_col3\" class=\"data row3 col3\" >13.689853</td>\n",
       "            </tr>\n",
       "    </tbody></table>"
      ],
      "text/plain": [
       "<pandas.io.formats.style.Styler at 0x1b952358>"
      ]
     },
     "execution_count": 130,
     "metadata": {},
     "output_type": "execute_result"
    }
   ],
   "source": [
    "tmp = pandas.DataFrame({\n",
    "    \"Raw\": df.std(),\n",
    "    \"Standardized\": zscore_df.std(),\n",
    "    \"Min-Max Scaled\": minmax_df.std(),\n",
    "    \"Quantile Normalized\": qnorm_df.std()\n",
    "})\n",
    "tmp.style.set_caption('Standard Deviation')\n"
   ]
  },
  {
   "cell_type": "markdown",
   "id": "5f7ee35f-56bf-4ad7-b1cc-c2c9735dfc8e",
   "metadata": {},
   "source": [
    "Min-Max scaling however does not intentionally consider standard deviation however; no where in the equation so we see the term. As a result it has impacts which may not be self evident.\n",
    "\n",
    "The relative relations between standard deviations of different data sets are not preserved; samples with largest/smallest standard deviation may not have the same traits when normalized with min max scaling. See the Final Exam score in the table above for example. The raw Final Exam score data has the largest standard deviation which is about 6 times the size of the ACT score. On the contrary, the Min-Max scaled Final Exam score does not have the largest standardization and is only about 1.2 times the size of the ACT score. \n",
    "\n",
    "Recall that Min-Max scaling is bounded. We are squeezing arbitratry ranges of data into a uniform finite interval. Beause of this, some data sets may be transformed non-uniformally (more \"squeezed\" or stretched) than others in order to fit into the interval [0, 1]. \n",
    "\n",
    "Because the standard deviation shrinks, the data is relatively closer to the mean. This effect supresses the effect of outliers. Numerically speaking; the outliers look less like outliers because their distance from the mean is shrunk to a scale such that the difference between it and other points is negligable.\n",
    "\n",
    "As a result, when training models on this type of data, it can lead to overfitting with models sensitive to linear distance. Recall that overfitting is when a model is trained to fit a data point that is unusual, or irregular, and thus the model will make unusual or irregular predictions. Because Min-Max scaling is supressing the information that distinguishes outliers from normal data, the model will think the outliers represent the real state."
   ]
  },
  {
   "cell_type": "markdown",
   "id": "ffea4bc4-e9b1-4a30-b053-aa01d5fefd22",
   "metadata": {},
   "source": [
    "# 2.2.4.2. Effects on skewness"
   ]
  },
  {
   "cell_type": "code",
   "execution_count": null,
   "id": "c154f288-e4d1-4090-90ec-a19f85255c22",
   "metadata": {},
   "outputs": [],
   "source": [
    "It does not reduce skewness"
   ]
  },
  {
   "cell_type": "code",
   "execution_count": null,
   "id": "27cee414-7277-4d34-893c-3f73b66e3f3c",
   "metadata": {},
   "outputs": [],
   "source": []
  },
  {
   "cell_type": "markdown",
   "id": "81d558bc-2b9c-4306-9bd4-91420b7600ca",
   "metadata": {},
   "source": [
    "# 3. Quantile Normalization"
   ]
  },
  {
   "cell_type": "markdown",
   "id": "ee40c718-fd8f-4ec4-8d46-e1bbcf2edf6f",
   "metadata": {},
   "source": [
    "## 3.1. Prequisite Reading\n",
    "Quantile normalization is based on quantiles so it is recommended to be familiar with the concept. For a review see the [Quantiles](Quantiles.ipynb) notebook. In short a quantile is a uniform \"slice\" of a data set which groups neighboring terms. For example we can divide a distribution into 100 partitions such that every partition has the same number of points; this is a special quantile called a percentile.\n",
    "\n",
    "## 3.2. What Is Quantile Normalization\n",
    "The purpose of quantile normalization is to try and compare apples to apples when given a banana and an orange. The basic idea is to divide the samples into an equal number of quantiles and then compare the values accross quantiles.\n",
    "\n",
    "<center><img src=\"Quantile Normalization.png\" width=\"600px\"/></center>\n",
    "\n",
    "It will shift the sample data points so be within the same relative neighborhood but it will not change the order ot the points in the distribution. With this tranformation we can get an understanding of experiment/trial error"
   ]
  },
  {
   "cell_type": "markdown",
   "id": "3b9b0979-0fdb-4650-a1ae-6aeeb6ea746d",
   "metadata": {},
   "source": [
    "Removes unwanted bias and MSE by removing technical variations!"
   ]
  },
  {
   "cell_type": "code",
   "execution_count": null,
   "id": "1483a29d-c4b2-40bc-9a2f-15015163d4cd",
   "metadata": {},
   "outputs": [],
   "source": []
  },
  {
   "cell_type": "code",
   "execution_count": null,
   "id": "fc88d20a-6807-4271-85d3-f7c9a5daf7af",
   "metadata": {},
   "outputs": [],
   "source": []
  },
  {
   "cell_type": "code",
   "execution_count": null,
   "id": "28cf3706-329d-4648-b122-4766ee193db4",
   "metadata": {},
   "outputs": [],
   "source": []
  },
  {
   "cell_type": "code",
   "execution_count": 42,
   "id": "85488a09-e880-4c5a-9d75-4b7f7b2bbbb8",
   "metadata": {
    "jupyter": {
     "source_hidden": true
    },
    "tags": []
   },
   "outputs": [
    {
     "data": {
      "text/html": [
       "<style  type=\"text/css\" >\n",
       "</style><table id=\"T_e54a827a_bdbe_11eb_ad2a_8872c7e2c664\" style='display:inline'><caption>Original Data</caption><thead>    <tr>        <th class=\"blank level0\" ></th>        <th class=\"col_heading level0 col0\" >ACT</th>        <th class=\"col_heading level0 col1\" >FinalExam</th>        <th class=\"col_heading level0 col2\" >QuizAvg</th>        <th class=\"col_heading level0 col3\" >TestAvg</th>    </tr></thead><tbody>\n",
       "                <tr>\n",
       "                        <th id=\"T_e54a827a_bdbe_11eb_ad2a_8872c7e2c664level0_row0\" class=\"row_heading level0 row0\" >0</th>\n",
       "                        <td id=\"T_e54a827a_bdbe_11eb_ad2a_8872c7e2c664row0_col0\" class=\"data row0 col0\" >33</td>\n",
       "                        <td id=\"T_e54a827a_bdbe_11eb_ad2a_8872c7e2c664row0_col1\" class=\"data row0 col1\" >181</td>\n",
       "                        <td id=\"T_e54a827a_bdbe_11eb_ad2a_8872c7e2c664row0_col2\" class=\"data row0 col2\" >95</td>\n",
       "                        <td id=\"T_e54a827a_bdbe_11eb_ad2a_8872c7e2c664row0_col3\" class=\"data row0 col3\" >89</td>\n",
       "            </tr>\n",
       "            <tr>\n",
       "                        <th id=\"T_e54a827a_bdbe_11eb_ad2a_8872c7e2c664level0_row1\" class=\"row_heading level0 row1\" >1</th>\n",
       "                        <td id=\"T_e54a827a_bdbe_11eb_ad2a_8872c7e2c664row1_col0\" class=\"data row1 col0\" >31</td>\n",
       "                        <td id=\"T_e54a827a_bdbe_11eb_ad2a_8872c7e2c664row1_col1\" class=\"data row1 col1\" >169</td>\n",
       "                        <td id=\"T_e54a827a_bdbe_11eb_ad2a_8872c7e2c664row1_col2\" class=\"data row1 col2\" >81</td>\n",
       "                        <td id=\"T_e54a827a_bdbe_11eb_ad2a_8872c7e2c664row1_col3\" class=\"data row1 col3\" >89</td>\n",
       "            </tr>\n",
       "            <tr>\n",
       "                        <th id=\"T_e54a827a_bdbe_11eb_ad2a_8872c7e2c664level0_row2\" class=\"row_heading level0 row2\" >2</th>\n",
       "                        <td id=\"T_e54a827a_bdbe_11eb_ad2a_8872c7e2c664row2_col0\" class=\"data row2 col0\" >21</td>\n",
       "                        <td id=\"T_e54a827a_bdbe_11eb_ad2a_8872c7e2c664row2_col1\" class=\"data row2 col1\" >176</td>\n",
       "                        <td id=\"T_e54a827a_bdbe_11eb_ad2a_8872c7e2c664row2_col2\" class=\"data row2 col2\" >65</td>\n",
       "                        <td id=\"T_e54a827a_bdbe_11eb_ad2a_8872c7e2c664row2_col3\" class=\"data row2 col3\" >68</td>\n",
       "            </tr>\n",
       "            <tr>\n",
       "                        <th id=\"T_e54a827a_bdbe_11eb_ad2a_8872c7e2c664level0_row3\" class=\"row_heading level0 row3\" >3</th>\n",
       "                        <td id=\"T_e54a827a_bdbe_11eb_ad2a_8872c7e2c664row3_col0\" class=\"data row3 col0\" >25</td>\n",
       "                        <td id=\"T_e54a827a_bdbe_11eb_ad2a_8872c7e2c664row3_col1\" class=\"data row3 col1\" >181</td>\n",
       "                        <td id=\"T_e54a827a_bdbe_11eb_ad2a_8872c7e2c664row3_col2\" class=\"data row3 col2\" >66</td>\n",
       "                        <td id=\"T_e54a827a_bdbe_11eb_ad2a_8872c7e2c664row3_col3\" class=\"data row3 col3\" >90</td>\n",
       "            </tr>\n",
       "            <tr>\n",
       "                        <th id=\"T_e54a827a_bdbe_11eb_ad2a_8872c7e2c664level0_row4\" class=\"row_heading level0 row4\" >4</th>\n",
       "                        <td id=\"T_e54a827a_bdbe_11eb_ad2a_8872c7e2c664row4_col0\" class=\"data row4 col0\" >29</td>\n",
       "                        <td id=\"T_e54a827a_bdbe_11eb_ad2a_8872c7e2c664row4_col1\" class=\"data row4 col1\" >169</td>\n",
       "                        <td id=\"T_e54a827a_bdbe_11eb_ad2a_8872c7e2c664row4_col2\" class=\"data row4 col2\" >89</td>\n",
       "                        <td id=\"T_e54a827a_bdbe_11eb_ad2a_8872c7e2c664row4_col3\" class=\"data row4 col3\" >81</td>\n",
       "            </tr>\n",
       "    </tbody></table><style  type=\"text/css\" >\n",
       "</style><table id=\"T_e54af7ae_bdbe_11eb_8d69_8872c7e2c664\" style='display:inline'><caption>Normalized Data</caption><thead>    <tr>        <th class=\"blank level0\" ></th>        <th class=\"col_heading level0 col0\" >ACT</th>        <th class=\"col_heading level0 col1\" >FinalExam</th>        <th class=\"col_heading level0 col2\" >QuizAvg</th>        <th class=\"col_heading level0 col3\" >TestAvg</th>    </tr></thead><tbody>\n",
       "                <tr>\n",
       "                        <th id=\"T_e54af7ae_bdbe_11eb_8d69_8872c7e2c664level0_row0\" class=\"row_heading level0 row0\" >0</th>\n",
       "                        <td id=\"T_e54af7ae_bdbe_11eb_8d69_8872c7e2c664row0_col0\" class=\"data row0 col0\" >99.750000</td>\n",
       "                        <td id=\"T_e54af7ae_bdbe_11eb_8d69_8872c7e2c664row0_col1\" class=\"data row0 col1\" >101.000000</td>\n",
       "                        <td id=\"T_e54af7ae_bdbe_11eb_8d69_8872c7e2c664row0_col2\" class=\"data row0 col2\" >99.375000</td>\n",
       "                        <td id=\"T_e54af7ae_bdbe_11eb_8d69_8872c7e2c664row0_col3\" class=\"data row0 col3\" >97.625000</td>\n",
       "            </tr>\n",
       "            <tr>\n",
       "                        <th id=\"T_e54af7ae_bdbe_11eb_8d69_8872c7e2c664level0_row1\" class=\"row_heading level0 row1\" >1</th>\n",
       "                        <td id=\"T_e54af7ae_bdbe_11eb_8d69_8872c7e2c664row1_col0\" class=\"data row1 col0\" >97.625000</td>\n",
       "                        <td id=\"T_e54af7ae_bdbe_11eb_8d69_8872c7e2c664row1_col1\" class=\"data row1 col1\" >90.625000</td>\n",
       "                        <td id=\"T_e54af7ae_bdbe_11eb_8d69_8872c7e2c664row1_col2\" class=\"data row1 col2\" >88.625000</td>\n",
       "                        <td id=\"T_e54af7ae_bdbe_11eb_8d69_8872c7e2c664row1_col3\" class=\"data row1 col3\" >97.625000</td>\n",
       "            </tr>\n",
       "            <tr>\n",
       "                        <th id=\"T_e54af7ae_bdbe_11eb_8d69_8872c7e2c664level0_row2\" class=\"row_heading level0 row2\" >2</th>\n",
       "                        <td id=\"T_e54af7ae_bdbe_11eb_8d69_8872c7e2c664row2_col0\" class=\"data row2 col0\" >59.500000</td>\n",
       "                        <td id=\"T_e54af7ae_bdbe_11eb_8d69_8872c7e2c664row2_col1\" class=\"data row2 col1\" >96.250000</td>\n",
       "                        <td id=\"T_e54af7ae_bdbe_11eb_8d69_8872c7e2c664row2_col2\" class=\"data row2 col2\" >76.625000</td>\n",
       "                        <td id=\"T_e54af7ae_bdbe_11eb_8d69_8872c7e2c664row2_col3\" class=\"data row2 col3\" >76.625000</td>\n",
       "            </tr>\n",
       "            <tr>\n",
       "                        <th id=\"T_e54af7ae_bdbe_11eb_8d69_8872c7e2c664level0_row3\" class=\"row_heading level0 row3\" >3</th>\n",
       "                        <td id=\"T_e54af7ae_bdbe_11eb_8d69_8872c7e2c664row3_col0\" class=\"data row3 col0\" >76.625000</td>\n",
       "                        <td id=\"T_e54af7ae_bdbe_11eb_8d69_8872c7e2c664row3_col1\" class=\"data row3 col1\" >101.000000</td>\n",
       "                        <td id=\"T_e54af7ae_bdbe_11eb_8d69_8872c7e2c664row3_col2\" class=\"data row3 col2\" >80.500000</td>\n",
       "                        <td id=\"T_e54af7ae_bdbe_11eb_8d69_8872c7e2c664row3_col3\" class=\"data row3 col3\" >99.750000</td>\n",
       "            </tr>\n",
       "            <tr>\n",
       "                        <th id=\"T_e54af7ae_bdbe_11eb_8d69_8872c7e2c664level0_row4\" class=\"row_heading level0 row4\" >4</th>\n",
       "                        <td id=\"T_e54af7ae_bdbe_11eb_8d69_8872c7e2c664row4_col0\" class=\"data row4 col0\" >89.500000</td>\n",
       "                        <td id=\"T_e54af7ae_bdbe_11eb_8d69_8872c7e2c664row4_col1\" class=\"data row4 col1\" >90.625000</td>\n",
       "                        <td id=\"T_e54af7ae_bdbe_11eb_8d69_8872c7e2c664row4_col2\" class=\"data row4 col2\" >96.250000</td>\n",
       "                        <td id=\"T_e54af7ae_bdbe_11eb_8d69_8872c7e2c664row4_col3\" class=\"data row4 col3\" >90.625000</td>\n",
       "            </tr>\n",
       "    </tbody></table>"
      ]
     },
     "metadata": {},
     "output_type": "display_data"
    }
   ],
   "source": [
    "from collections import OrderedDict\n",
    "def normalize_quantiles(df):\n",
    "    \n",
    "    # Compute the row means\n",
    "    d = {}\n",
    "    for column_name in df.columns:\n",
    "        d.update({column_name : df[column_name].sort_values().array})\n",
    "    sorted_df = pandas.DataFrame(d)   \n",
    "    sorted_df_row_means = sorted_df.mean(axis = 1).tolist()\n",
    "        \n",
    "    # For each column, compute the rank, and replace it with the corresponding row mean\n",
    "    tmp = df.copy().astype(float)\n",
    "    for column_name in df.columns:\n",
    "        # Compute the rank for each element\n",
    "        column_element_ranks = numpy.searchsorted(df[column_name].sort_values().array, df[column_name])    \n",
    "        # Replace the elemenet rank with the coresponding row mean\n",
    "        column = df[column_name]\n",
    "        for i in range(0, len(column)):\n",
    "            element = column[i]\n",
    "            element_rank = column_element_ranks[i]\n",
    "            num_of_elements_with_same_rank = len([e for e in column if e == element])\n",
    "            row_means_to_average = sorted_df_row_means[element_rank:element_rank+num_of_elements_with_same_rank]\n",
    "            mean_row_mean = numpy.mean(row_means_to_average)\n",
    "            tmp[column_name][i] = mean_row_mean\n",
    "    tmp.index = df.index\n",
    "    return tmp     \n",
    "\n",
    "qnorm_df = normalize_quantiles(df)\n",
    "\n",
    "from IPython.display import display_html \n",
    "df1_styler = df.head().style.set_table_attributes(\"style='display:inline'\").set_caption('Original Data')\n",
    "df2_styler = qnorm_df.head().style.set_table_attributes(\"style='display:inline'\").set_caption('Normalized Data')\n",
    "display_html(df1_styler._repr_html_() + df2_styler._repr_html_(), raw=True)"
   ]
  },
  {
   "cell_type": "code",
   "execution_count": 43,
   "id": "d241acc8-5693-4558-848c-c723d64c4512",
   "metadata": {
    "jupyter": {
     "source_hidden": true
    },
    "tags": []
   },
   "outputs": [
    {
     "data": {
      "text/html": [
       "<style  type=\"text/css\" >\n",
       "</style><table id=\"T_ece3cfb6_bdbe_11eb_8649_8872c7e2c664\" style='display:inline'><caption>Original Data</caption><thead>    <tr>        <th class=\"blank level0\" ></th>        <th class=\"col_heading level0 col0\" >ACT</th>        <th class=\"col_heading level0 col1\" >FinalExam</th>        <th class=\"col_heading level0 col2\" >QuizAvg</th>        <th class=\"col_heading level0 col3\" >TestAvg</th>    </tr></thead><tbody>\n",
       "                <tr>\n",
       "                        <th id=\"T_ece3cfb6_bdbe_11eb_8649_8872c7e2c664level0_row0\" class=\"row_heading level0 row0\" >count</th>\n",
       "                        <td id=\"T_ece3cfb6_bdbe_11eb_8649_8872c7e2c664row0_col0\" class=\"data row0 col0\" >14.000000</td>\n",
       "                        <td id=\"T_ece3cfb6_bdbe_11eb_8649_8872c7e2c664row0_col1\" class=\"data row0 col1\" >14.000000</td>\n",
       "                        <td id=\"T_ece3cfb6_bdbe_11eb_8649_8872c7e2c664row0_col2\" class=\"data row0 col2\" >14.000000</td>\n",
       "                        <td id=\"T_ece3cfb6_bdbe_11eb_8649_8872c7e2c664row0_col3\" class=\"data row0 col3\" >14.000000</td>\n",
       "            </tr>\n",
       "            <tr>\n",
       "                        <th id=\"T_ece3cfb6_bdbe_11eb_8649_8872c7e2c664level0_row1\" class=\"row_heading level0 row1\" >mean</th>\n",
       "                        <td id=\"T_ece3cfb6_bdbe_11eb_8649_8872c7e2c664row1_col0\" class=\"data row1 col0\" >27.714286</td>\n",
       "                        <td id=\"T_ece3cfb6_bdbe_11eb_8649_8872c7e2c664row1_col1\" class=\"data row1 col1\" >156.428571</td>\n",
       "                        <td id=\"T_ece3cfb6_bdbe_11eb_8649_8872c7e2c664row1_col2\" class=\"data row1 col2\" >77.071429</td>\n",
       "                        <td id=\"T_ece3cfb6_bdbe_11eb_8649_8872c7e2c664row1_col3\" class=\"data row1 col3\" >76.428571</td>\n",
       "            </tr>\n",
       "            <tr>\n",
       "                        <th id=\"T_ece3cfb6_bdbe_11eb_8649_8872c7e2c664level0_row2\" class=\"row_heading level0 row2\" >std</th>\n",
       "                        <td id=\"T_ece3cfb6_bdbe_11eb_8649_8872c7e2c664row2_col0\" class=\"data row2 col0\" >4.158931</td>\n",
       "                        <td id=\"T_ece3cfb6_bdbe_11eb_8649_8872c7e2c664row2_col1\" class=\"data row2 col1\" >26.117234</td>\n",
       "                        <td id=\"T_ece3cfb6_bdbe_11eb_8649_8872c7e2c664row2_col2\" class=\"data row2 col2\" >13.747527</td>\n",
       "                        <td id=\"T_ece3cfb6_bdbe_11eb_8649_8872c7e2c664row2_col3\" class=\"data row2 col3\" >13.195071</td>\n",
       "            </tr>\n",
       "            <tr>\n",
       "                        <th id=\"T_ece3cfb6_bdbe_11eb_8649_8872c7e2c664level0_row3\" class=\"row_heading level0 row3\" >min</th>\n",
       "                        <td id=\"T_ece3cfb6_bdbe_11eb_8649_8872c7e2c664row3_col0\" class=\"data row3 col0\" >21.000000</td>\n",
       "                        <td id=\"T_ece3cfb6_bdbe_11eb_8649_8872c7e2c664row3_col1\" class=\"data row3 col1\" >100.000000</td>\n",
       "                        <td id=\"T_ece3cfb6_bdbe_11eb_8649_8872c7e2c664row3_col2\" class=\"data row3 col2\" >61.000000</td>\n",
       "                        <td id=\"T_ece3cfb6_bdbe_11eb_8649_8872c7e2c664row3_col3\" class=\"data row3 col3\" >56.000000</td>\n",
       "            </tr>\n",
       "            <tr>\n",
       "                        <th id=\"T_ece3cfb6_bdbe_11eb_8649_8872c7e2c664level0_row4\" class=\"row_heading level0 row4\" >25%</th>\n",
       "                        <td id=\"T_ece3cfb6_bdbe_11eb_8649_8872c7e2c664row4_col0\" class=\"data row4 col0\" >25.000000</td>\n",
       "                        <td id=\"T_ece3cfb6_bdbe_11eb_8649_8872c7e2c664row4_col1\" class=\"data row4 col1\" >147.750000</td>\n",
       "                        <td id=\"T_ece3cfb6_bdbe_11eb_8649_8872c7e2c664row4_col2\" class=\"data row4 col2\" >65.000000</td>\n",
       "                        <td id=\"T_ece3cfb6_bdbe_11eb_8649_8872c7e2c664row4_col3\" class=\"data row4 col3\" >68.000000</td>\n",
       "            </tr>\n",
       "            <tr>\n",
       "                        <th id=\"T_ece3cfb6_bdbe_11eb_8649_8872c7e2c664level0_row5\" class=\"row_heading level0 row5\" >50%</th>\n",
       "                        <td id=\"T_ece3cfb6_bdbe_11eb_8649_8872c7e2c664row5_col0\" class=\"data row5 col0\" >27.500000</td>\n",
       "                        <td id=\"T_ece3cfb6_bdbe_11eb_8649_8872c7e2c664row5_col1\" class=\"data row5 col1\" >163.000000</td>\n",
       "                        <td id=\"T_ece3cfb6_bdbe_11eb_8649_8872c7e2c664row5_col2\" class=\"data row5 col2\" >76.500000</td>\n",
       "                        <td id=\"T_ece3cfb6_bdbe_11eb_8649_8872c7e2c664row5_col3\" class=\"data row5 col3\" >76.000000</td>\n",
       "            </tr>\n",
       "            <tr>\n",
       "                        <th id=\"T_ece3cfb6_bdbe_11eb_8649_8872c7e2c664level0_row6\" class=\"row_heading level0 row6\" >75%</th>\n",
       "                        <td id=\"T_ece3cfb6_bdbe_11eb_8649_8872c7e2c664row6_col0\" class=\"data row6 col0\" >30.500000</td>\n",
       "                        <td id=\"T_ece3cfb6_bdbe_11eb_8649_8872c7e2c664row6_col1\" class=\"data row6 col1\" >174.250000</td>\n",
       "                        <td id=\"T_ece3cfb6_bdbe_11eb_8649_8872c7e2c664row6_col2\" class=\"data row6 col2\" >88.250000</td>\n",
       "                        <td id=\"T_ece3cfb6_bdbe_11eb_8649_8872c7e2c664row6_col3\" class=\"data row6 col3\" >87.000000</td>\n",
       "            </tr>\n",
       "            <tr>\n",
       "                        <th id=\"T_ece3cfb6_bdbe_11eb_8649_8872c7e2c664level0_row7\" class=\"row_heading level0 row7\" >max</th>\n",
       "                        <td id=\"T_ece3cfb6_bdbe_11eb_8649_8872c7e2c664row7_col0\" class=\"data row7 col0\" >36.000000</td>\n",
       "                        <td id=\"T_ece3cfb6_bdbe_11eb_8649_8872c7e2c664row7_col1\" class=\"data row7 col1\" >181.000000</td>\n",
       "                        <td id=\"T_ece3cfb6_bdbe_11eb_8649_8872c7e2c664row7_col2\" class=\"data row7 col2\" >98.000000</td>\n",
       "                        <td id=\"T_ece3cfb6_bdbe_11eb_8649_8872c7e2c664row7_col3\" class=\"data row7 col3\" >102.000000</td>\n",
       "            </tr>\n",
       "    </tbody></table><style  type=\"text/css\" >\n",
       "</style><table id=\"T_ece444e8_bdbe_11eb_9ecc_8872c7e2c664\" style='display:inline'><caption>Normalized Data</caption><thead>    <tr>        <th class=\"blank level0\" ></th>        <th class=\"col_heading level0 col0\" >ACT</th>        <th class=\"col_heading level0 col1\" >FinalExam</th>        <th class=\"col_heading level0 col2\" >QuizAvg</th>        <th class=\"col_heading level0 col3\" >TestAvg</th>    </tr></thead><tbody>\n",
       "                <tr>\n",
       "                        <th id=\"T_ece444e8_bdbe_11eb_9ecc_8872c7e2c664level0_row0\" class=\"row_heading level0 row0\" >count</th>\n",
       "                        <td id=\"T_ece444e8_bdbe_11eb_9ecc_8872c7e2c664row0_col0\" class=\"data row0 col0\" >14.000000</td>\n",
       "                        <td id=\"T_ece444e8_bdbe_11eb_9ecc_8872c7e2c664row0_col1\" class=\"data row0 col1\" >14.000000</td>\n",
       "                        <td id=\"T_ece444e8_bdbe_11eb_9ecc_8872c7e2c664row0_col2\" class=\"data row0 col2\" >14.000000</td>\n",
       "                        <td id=\"T_ece444e8_bdbe_11eb_9ecc_8872c7e2c664row0_col3\" class=\"data row0 col3\" >14.000000</td>\n",
       "            </tr>\n",
       "            <tr>\n",
       "                        <th id=\"T_ece444e8_bdbe_11eb_9ecc_8872c7e2c664level0_row1\" class=\"row_heading level0 row1\" >mean</th>\n",
       "                        <td id=\"T_ece444e8_bdbe_11eb_9ecc_8872c7e2c664row1_col0\" class=\"data row1 col0\" >84.410714</td>\n",
       "                        <td id=\"T_ece444e8_bdbe_11eb_9ecc_8872c7e2c664row1_col1\" class=\"data row1 col1\" >84.410714</td>\n",
       "                        <td id=\"T_ece444e8_bdbe_11eb_9ecc_8872c7e2c664row1_col2\" class=\"data row1 col2\" >84.410714</td>\n",
       "                        <td id=\"T_ece444e8_bdbe_11eb_9ecc_8872c7e2c664row1_col3\" class=\"data row1 col3\" >84.410714</td>\n",
       "            </tr>\n",
       "            <tr>\n",
       "                        <th id=\"T_ece444e8_bdbe_11eb_9ecc_8872c7e2c664level0_row2\" class=\"row_heading level0 row2\" >std</th>\n",
       "                        <td id=\"T_ece444e8_bdbe_11eb_9ecc_8872c7e2c664row2_col0\" class=\"data row2 col0\" >13.661378</td>\n",
       "                        <td id=\"T_ece444e8_bdbe_11eb_9ecc_8872c7e2c664row2_col1\" class=\"data row2 col1\" >13.654514</td>\n",
       "                        <td id=\"T_ece444e8_bdbe_11eb_9ecc_8872c7e2c664row2_col2\" class=\"data row2 col2\" >13.703894</td>\n",
       "                        <td id=\"T_ece444e8_bdbe_11eb_9ecc_8872c7e2c664row2_col3\" class=\"data row2 col3\" >13.689853</td>\n",
       "            </tr>\n",
       "            <tr>\n",
       "                        <th id=\"T_ece444e8_bdbe_11eb_9ecc_8872c7e2c664level0_row3\" class=\"row_heading level0 row3\" >min</th>\n",
       "                        <td id=\"T_ece444e8_bdbe_11eb_9ecc_8872c7e2c664row3_col0\" class=\"data row3 col0\" >59.500000</td>\n",
       "                        <td id=\"T_ece444e8_bdbe_11eb_9ecc_8872c7e2c664row3_col1\" class=\"data row3 col1\" >59.500000</td>\n",
       "                        <td id=\"T_ece444e8_bdbe_11eb_9ecc_8872c7e2c664row3_col2\" class=\"data row3 col2\" >59.500000</td>\n",
       "                        <td id=\"T_ece444e8_bdbe_11eb_9ecc_8872c7e2c664row3_col3\" class=\"data row3 col3\" >59.500000</td>\n",
       "            </tr>\n",
       "            <tr>\n",
       "                        <th id=\"T_ece444e8_bdbe_11eb_9ecc_8872c7e2c664level0_row4\" class=\"row_heading level0 row4\" >25%</th>\n",
       "                        <td id=\"T_ece444e8_bdbe_11eb_9ecc_8872c7e2c664row4_col0\" class=\"data row4 col0\" >76.625000</td>\n",
       "                        <td id=\"T_ece444e8_bdbe_11eb_9ecc_8872c7e2c664row4_col1\" class=\"data row4 col1\" >76.062500</td>\n",
       "                        <td id=\"T_ece444e8_bdbe_11eb_9ecc_8872c7e2c664row4_col2\" class=\"data row4 col2\" >76.625000</td>\n",
       "                        <td id=\"T_ece444e8_bdbe_11eb_9ecc_8872c7e2c664row4_col3\" class=\"data row4 col3\" >76.625000</td>\n",
       "            </tr>\n",
       "            <tr>\n",
       "                        <th id=\"T_ece444e8_bdbe_11eb_9ecc_8872c7e2c664level0_row5\" class=\"row_heading level0 row5\" >50%</th>\n",
       "                        <td id=\"T_ece444e8_bdbe_11eb_9ecc_8872c7e2c664row5_col0\" class=\"data row5 col0\" >85.937500</td>\n",
       "                        <td id=\"T_ece444e8_bdbe_11eb_9ecc_8872c7e2c664row5_col1\" class=\"data row5 col1\" >85.750000</td>\n",
       "                        <td id=\"T_ece444e8_bdbe_11eb_9ecc_8872c7e2c664row5_col2\" class=\"data row5 col2\" >86.437500</td>\n",
       "                        <td id=\"T_ece444e8_bdbe_11eb_9ecc_8872c7e2c664row5_col3\" class=\"data row5 col3\" >85.750000</td>\n",
       "            </tr>\n",
       "            <tr>\n",
       "                        <th id=\"T_ece444e8_bdbe_11eb_9ecc_8872c7e2c664level0_row6\" class=\"row_heading level0 row6\" >75%</th>\n",
       "                        <td id=\"T_ece444e8_bdbe_11eb_9ecc_8872c7e2c664row6_col0\" class=\"data row6 col0\" >95.593750</td>\n",
       "                        <td id=\"T_ece444e8_bdbe_11eb_9ecc_8872c7e2c664row6_col1\" class=\"data row6 col1\" >94.843750</td>\n",
       "                        <td id=\"T_ece444e8_bdbe_11eb_9ecc_8872c7e2c664row6_col2\" class=\"data row6 col2\" >95.000000</td>\n",
       "                        <td id=\"T_ece444e8_bdbe_11eb_9ecc_8872c7e2c664row6_col3\" class=\"data row6 col3\" >95.875000</td>\n",
       "            </tr>\n",
       "            <tr>\n",
       "                        <th id=\"T_ece444e8_bdbe_11eb_9ecc_8872c7e2c664level0_row7\" class=\"row_heading level0 row7\" >max</th>\n",
       "                        <td id=\"T_ece444e8_bdbe_11eb_9ecc_8872c7e2c664row7_col0\" class=\"data row7 col0\" >104.250000</td>\n",
       "                        <td id=\"T_ece444e8_bdbe_11eb_9ecc_8872c7e2c664row7_col1\" class=\"data row7 col1\" >101.000000</td>\n",
       "                        <td id=\"T_ece444e8_bdbe_11eb_9ecc_8872c7e2c664row7_col2\" class=\"data row7 col2\" >104.250000</td>\n",
       "                        <td id=\"T_ece444e8_bdbe_11eb_9ecc_8872c7e2c664row7_col3\" class=\"data row7 col3\" >104.250000</td>\n",
       "            </tr>\n",
       "    </tbody></table>"
      ]
     },
     "metadata": {},
     "output_type": "display_data"
    }
   ],
   "source": [
    "from IPython.display import display_html \n",
    "df1_styler = df.describe().style.set_table_attributes(\"style='display:inline'\").set_caption('Original Data')\n",
    "df2_styler = qnorm_df.describe().style.set_table_attributes(\"style='display:inline'\").set_caption('Normalized Data')\n",
    "display_html(df1_styler._repr_html_() + df2_styler._repr_html_(), raw=True)"
   ]
  },
  {
   "cell_type": "code",
   "execution_count": 36,
   "id": "662bfe99-3cfa-4472-89d7-3a717c59f575",
   "metadata": {
    "jupyter": {
     "source_hidden": true
    },
    "tags": []
   },
   "outputs": [
    {
     "data": {
      "image/png": "[encoded data removed]",
      "text/plain": [
       "<Figure size 1152x288 with 8 Axes>"
      ]
     },
     "metadata": {
      "needs_background": "light"
     },
     "output_type": "display_data"
    }
   ],
   "source": [
    "fig, ax = pyplot.subplots(2, 4)\n",
    "fig.set_figwidth(16)\n",
    "fig.tight_layout(h_pad=4)\n",
    "\n",
    "columns = [\"ACT\", \"FinalExam\", \"QuizAvg\", \"TestAvg\"]\n",
    "for i in range(0, len(columns)):\n",
    "    column = columns[i]\n",
    "    ax[0, i].scatter(df[column], numpy.zeros(df[column].shape));\n",
    "    ax[0, i].set(yticklabels=[])\n",
    "    ax[0, i].set_title(column)\n",
    "    \n",
    "    ax[1, i].scatter(qnorm_df[column], numpy.zeros(qnorm_df[column].shape));\n",
    "    ax[1, i].set(yticklabels=[])\n",
    "    ax[1, i].set_title(\"Normalized \" + column)"
   ]
  },
  {
   "cell_type": "code",
   "execution_count": 37,
   "id": "3c8e5696-b7f1-4208-9520-2ef44a6e977f",
   "metadata": {
    "jupyter": {
     "source_hidden": true
    },
    "tags": []
   },
   "outputs": [
    {
     "data": {
      "image/png": "[encoded data removed]",
      "text/plain": [
       "<Figure size 1152x288 with 8 Axes>"
      ]
     },
     "metadata": {
      "needs_background": "light"
     },
     "output_type": "display_data"
    }
   ],
   "source": [
    "fig, ax = pyplot.subplots(2, 4)\n",
    "fig.set_figwidth(16)\n",
    "fig.tight_layout(h_pad=4)\n",
    "\n",
    "columns = [\"ACT\", \"FinalExam\", \"QuizAvg\", \"TestAvg\"]\n",
    "for i in range(0, len(columns)):\n",
    "    column = columns[i]\n",
    "    \n",
    "    df[column].plot(ax=ax[0, i], kind=\"hist\", title=column);\n",
    "    ax[0, i].set_ylabel(\"\")\n",
    "\n",
    "    qnorm_df[column].plot(ax=ax[1, i], kind=\"hist\", title=\"Normalized \" + column);\n",
    "    ax[1, i].set_ylabel(\"\") "
   ]
  },
  {
   "cell_type": "code",
   "execution_count": 38,
   "id": "761fbbed-013e-43e3-80d8-712e0101c7fe",
   "metadata": {
    "jupyter": {
     "source_hidden": true
    },
    "tags": []
   },
   "outputs": [
    {
     "data": {
      "image/png": "[encoded data removed]",
      "text/plain": [
       "<Figure size 1152x288 with 4 Axes>"
      ]
     },
     "metadata": {
      "needs_background": "light"
     },
     "output_type": "display_data"
    }
   ],
   "source": [
    "fig, ax = pyplot.subplots(1, 4)\n",
    "fig.set_figwidth(16)\n",
    "\n",
    "for i in range(0, 4):\n",
    "    \n",
    "    column_name = df.columns[i]\n",
    "    raw = df[column_name]\n",
    "    normalized = qnorm_df[column_name]\n",
    "    \n",
    "    for q in [x / 100 for x in range(0, 100)]:\n",
    "        raw_quantile = numpy.quantile(raw, q)\n",
    "        normalized_quantile = numpy.quantile(normalized, q)\n",
    "        ax[i].scatter(raw_quantile, normalized_quantile, c=\"blue\")\n",
    "        \n",
    "    ax[i].set_title(column_name)"
   ]
  }
 ],
 "metadata": {
  "kernelspec": {
   "display_name": "Python 3",
   "language": "python",
   "name": "python3"
  },
  "language_info": {
   "codemirror_mode": {
    "name": "ipython",
    "version": 3
   },
   "file_extension": ".py",
   "mimetype": "text/x-python",
   "name": "python",
   "nbconvert_exporter": "python",
   "pygments_lexer": "ipython3",
   "version": "3.6.8"
  }
 },
 "nbformat": 4,
 "nbformat_minor": 5
}
