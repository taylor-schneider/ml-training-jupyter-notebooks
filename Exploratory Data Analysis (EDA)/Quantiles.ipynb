{
 "cells": [
  {
   "cell_type": "markdown",
   "metadata": {},
   "source": [
    "# Overview\n",
    "\n",
    "In this notebook we explore quantiles in the following sections:\n",
    "1. What is a quantile\n",
    "2. Probability Refresher\n",
    "3. What is a quantile function\n",
    "4. How are quantiles used\n",
    "\n",
    "# 1. What is a Quantile\n",
    "A quantile is a point or number that partitions a distribution of a data set. Ie. it divides a distribution into contiguous disjoint intervals.\n",
    "\n",
    "A user can specify to partition a dirstibution into two or more partitions. These resulting partitions may or may not be uniformally sized.\n",
    "\n",
    "Confusingly, quantile can also refer to the partitions bound by the quantile points. So the first quantile for example refers to both the point along the x-axis that partitions the distribution as well as the partition confined within that partitioning point.\n",
    "\n",
    "There are special names given to specific sets of quantiles. Sets of 4 are quartiles, 10 are deciles, 100 are percentiles. A more exhaustive list is maintained [here](https://en.wikipedia.org/wiki/Quantile#Specialized_quantiles).\n",
    "\n",
    "Consider the following diagram which shows the normal distribution being divided into four equal quartiles by three quantiles ($Q1,Q2,Q3$).\n",
    "\n",
    "<img src=\"./normal_distribution_quantiles.png\" alt=\"Normal Distribution Quantiles\" width=\"400\"/>\n",
    "\n",
    "https://en.wikipedia.org/wiki/Quantile"
   ]
  },
  {
   "cell_type": "markdown",
   "metadata": {},
   "source": [
    "# 2. Probability Refresher\n",
    "The upcoming topic (the quantile function) is closely related to concepts in probability. We will review the relevant concepts before proceeding.\n",
    "\n",
    "## 2.1. Probability Density Function\n",
    "The probability density function (or probability mass function in the discrete case) gives the probability that a variable falls within a particular range of values.\n",
    "\n",
    "The density of $X$ is defined as $f_X$, or $\\phi_X(x)$ such that:\n",
    "\n",
    "$$ P(a \\le X \\le b) = \\int_a^b f_X(x)dx $$\n",
    "\n",
    "A graph of the PDF resembles the following:\n",
    "\n",
    "<img src=\"normal distribution pdf.png\" style=\"width:300px\" >\n",
    "\n",
    "## 2.2. Cumulative Density Function\n",
    "This function is also referred to as the distribution function.\n",
    "\n",
    "It is a special case of the probability density function.\n",
    "\n",
    "A cumulative density function gives the cumulative probability density for the interval $(-\\infty, x)$. In layman's terms it is the probability that $X$ takes on a value less than or equal to $x$.\n",
    "\n",
    "For the variable $X$ the CDF is often written as:\n",
    "\n",
    "$$ F_X(x):=P(X<=x) $$\n",
    "\n",
    "This function typically takes on an s-shaped curve. For example consider the CDF for the normal distribution denoted as $\\Phi_{\\mu,\\sigma}(X)$:\n",
    "\n",
    "<img src=\"normal distribution cdf.png\" style=\"width:300px\" >\n",
    "\n",
    "Now that that's out of the way, lets talk about Quantile Functions."
   ]
  },
  {
   "cell_type": "markdown",
   "metadata": {},
   "source": [
    "# 3. What Is A Quantile Function?\n",
    "\n",
    "As the name suggests, a quantile function returns a quantile. More specifically, it returns the left most quantile.\n",
    "\n",
    "So if we have a quantile function $Q_X(p_x)$ where $p_x$ is a percentage of values of X that are less than or equal to x. Our function would be defined as follows:\n",
    "\n",
    "$$ Q_X(p_x)= x $$"
   ]
  },
  {
   "cell_type": "markdown",
   "metadata": {},
   "source": [
    "# 3.1. What It The Connection With Probability?\n",
    "\n",
    "Relating this to a probability, our percentage $p_x$ can also be a probabiliy; objects from a probability space and a percentile space have similar mathematical characteristics.\n",
    "\n",
    "In this case we would define $p_x$ such that:\n",
    "\n",
    "$$p_x := F_X(x) = P(X \\le x)$$\n",
    "\n",
    "And as our quantile function accepts a probability $p_x$ and returns the coresponding value $x$ we see that it begins to look like an inverse CDF function:\n",
    "\n",
    "$$ Q_X(p_x) = x $$\n",
    "\n",
    "$$ F_X^{-1}(p_x) = x $$\n",
    "\n",
    "So for example, if we want the quantile $x$ that will partition the x axis of the distribution functions into segments containing 1/4 and 3/4 of the distribution values we would find the quantile $x$ such that $Q_X(p=\\frac{1}{4})=x$. Again, this can be done using the inverse cumulative density function $F_X^{-1}(p=\\frac{1}{4})=x$"
   ]
  },
  {
   "cell_type": "markdown",
   "metadata": {},
   "source": [
    "# 4. How Are Quantiles Used?"
   ]
  },
  {
   "cell_type": "markdown",
   "metadata": {},
   "source": [
    "## 4.1 Connection with CDF and PDF Approximation\n",
    "\n",
    "We will see that the many CDF approximation techniques are defined in terms of a quantile.\n",
    "\n",
    "For example the Generalize Lambda distribution is defined as such:\n",
    "\n",
    "$$ Q(y)=Q(y;\\lambda_1,\\lambda_2,\\lambda_3,\\lambda_4) = \\lambda_1 + \\frac{y^{\\lambda_3}-(1-y)^{\\lambda_4}}{\\lambda_3}  $$\n",
    "\n",
    "where $0 \\le y \\le 1$.\n",
    "\n",
    "The probability density function (PDF) for the GLD can be derived from the percentile function and is defined as follows:\n",
    "\n",
    "$$ f(x) = \\frac{\\lambda_2}{\\lambda_3 y^{\\lambda_3 - 1} + \\lambda_4(1-y)^{\\lambda_4 - 1}} $$\n",
    "\n",
    "at $x=Q(y)$. ans since $x=Q(y)$ we have $y=F(x)$."
   ]
  },
  {
   "cell_type": "markdown",
   "metadata": {},
   "source": [
    "## 4.2. Quantile-Quantile (QQ) Plots\n",
    "\n",
    "A QQ plot is a graphical tool to help us compare one distribution against another. A QQ plot will plot the quantiles of one variable or sample against another. The resulting line, and it's shape, indicate how the two quantiles, and thus ditributions, are related."
   ]
  },
  {
   "cell_type": "markdown",
   "metadata": {},
   "source": [
    "If the two distributions are equal, the quantiles will be equal which will result in a $45^\\circ$ line.\n",
    "\n",
    "<img src='equivalent qq plot.png' style='width:300px' >\n",
    "\n",
    "If the two distributions are unequal you will not see a strainght $45^\\circ$ line.\n",
    "\n",
    "<img src='chi vs normal qq plot.png' style='width:300px' >"
   ]
  },
  {
   "cell_type": "markdown",
   "metadata": {},
   "source": [
    "There are many shapes the QQ plot can take on. The table below outlines the important ones:\n",
    "\n",
    "<table>\n",
    "\t<thead>\n",
    "\t\t<tr>\n",
    "\t\t\t<th style=\"text-align: left;\">Shape</th>\n",
    "\t\t\t<th style=\"text-align: left;\">Interpretation</th>\n",
    "            <th style=\"text-align: left;\">Explanation</th>\n",
    "\t\t</tr>\n",
    "\t</thead>\n",
    "       <colgroup>\n",
    "       <col span=\"1\" style=\"width: 20%;\">\n",
    "       <col span=\"1\" style=\"width: 25%;\">\n",
    "       <col span=\"1\" style=\"width: 55%;\">\n",
    "    </colgroup>\n",
    "\t<tbody>\n",
    "\t\t<tr>\n",
    "\t\t\t<td style=\"text-align: left;\">Steep Line</td>\n",
    "\t\t\t<td style=\"text-align: left;\">Y is more dispersed than X</td>\n",
    "            <td style=\"text-align: left;\">\n",
    "                Each quantile of Y is larger than the corresponding quantile of X.\n",
    "                Thus each percentage of values of Y exist in a larger range of values\n",
    "                than the values of X for the same percentage.\n",
    "                A larger range for Y means that the data points are more dispersed.\n",
    "            </td>\n",
    "\t\t</tr>\n",
    "\t\t<tr>\n",
    "\t\t\t<td style=\"text-align: left;\">45&deg; line</td>\n",
    "\t\t\t<td style=\"text-align: left;\">Y is equally dispersed as X (Y = X)</td>\n",
    "            <td style=\"text-align: left;\">\n",
    "            For each quantile, there are the same number of X and Y values.\n",
    "            </td>\n",
    "\t\t</tr>\n",
    "\t\t<tr>\n",
    "\t\t\t<td style=\"text-align: left;\">Flat Line</td>\n",
    "\t\t\t<td style=\"text-align: left;\">Y is less dispersed than X</td>\n",
    "            <td style=\"text-align: left;\">Opposite of steep line</td>\n",
    "\t\t</tr>\n",
    "\t\t<tr>\n",
    "\t\t\t<td style=\"text-align: left;\">Concave Up (slope increasing)</td>\n",
    "\t\t\t<td style=\"text-align: left;\">Y is less skewed than X</td>\n",
    "            <td style=\"text-align: left;\">\n",
    "            Accelleration is described as an increasing slope.\n",
    "            In the context of quantiles, it means that one axis is experiencing greater dispersion.\n",
    "            A greater relative dispersion means a greater grouping of point on the opposing axis.\n",
    "            A grouping of values indicates a skew.\n",
    "            </td>\n",
    "\t\t</tr>\n",
    "\t\t<tr>\n",
    "\t\t\t<td style=\"text-align: left;\">Concave Down</td>\n",
    "\t\t\t<td style=\"text-align: left;\">Y is more skewed than X</td>\n",
    "            <td style=\"text-align: left;\">Opposite of concave up</td>\n",
    "\t\t</tr>\n",
    "\t\t<tr>\n",
    "\t\t\t<td style=\"text-align: left;\">S-shaped</td>\n",
    "\t\t\t<td style=\"text-align: left;\">Y has heavier tails than X</td>\n",
    "            <td style=\"text-align: left;\">\n",
    "            The tails of the qq plot are flatter rather than steeper.\n",
    "            Flattening of the plot indicates that Y is less dispersed than X.\n",
    "            The means that the tails of Y are less dispersed than X.\n",
    "            The dispersion stretches a tail, so a relative lack of dispersion \n",
    "            results in a \"fatter\" or \"heavier\" tail.\n",
    "            </td>\n",
    "\t\t</tr>\n",
    "\t\t<tr>\n",
    "\t\t\t<td style=\"text-align: left;\">Backwards-S</td>\n",
    "\t\t\t<td style=\"text-align: left;\">Y has lighter tails than X</td>\n",
    "            <td style=\"text-align: left;\">\n",
    "            Opposite of S shaped\n",
    "            </td>\n",
    "\t\t</tr>\n",
    "\t</tbody>\n",
    "</table>\n",
    "\n",
    "Blow we can see some examples of these plots:"
   ]
  },
  {
   "cell_type": "markdown",
   "metadata": {},
   "source": [
    "### 4.2.1. QQ Plots in Python\n",
    "This statsmodels python library has builtin methods that help us creating a QQ plot.\n",
    "\n",
    "The qqplot() function for example allows us to generate a qq plot which compares our sample data to some known theoretical distribution. By default this distribution is the normal distribution.\n",
    "\n",
    "https://www.statsmodels.org/devel/generated/statsmodels.graphics.gofplots.qqplot.html"
   ]
  },
  {
   "cell_type": "code",
   "execution_count": 26,
   "metadata": {},
   "outputs": [],
   "source": [
    "import numpy\n",
    "import pandas\n",
    "import matplotlib.pyplot as pyplot\n",
    "import statsmodels.api as sm\n",
    "from scipy.stats import norm"
   ]
  },
  {
   "cell_type": "markdown",
   "metadata": {},
   "source": [
    "### Set the precision\n",
    "precision = 2\n",
    "\n",
    "# Generate a random variable\n",
    "sample_size = 1000000\n",
    "numpy.random.seed(seed=42)\n",
    "x = numpy.arange(0,sample_size)\n",
    "y = numpy.random.normal(0, 1, sample_size)\n",
    "#y = numpy.round(y, precision)\n",
    "\n",
    "# Print the statistics for the data set\n",
    "print(\"Sample mean: {0}\".format(y.mean()))\n",
    "print(\"Sample std dev: {0}\".format(y.std()))\n",
    "\n",
    "# Determine the number of posisble values within this discretization\n",
    "#y_min = y.min()\n",
    "#y_max = y.max()\n",
    "#y_range = y_max - y_min\n",
    "#possible_values = int(y_range / 10 ** - precision)\n",
    "#print(\"possible values: {0}\".format(possible_values))\n",
    "\n",
    "# Generate a histogram information for the variable (see the histogram notebook)\n",
    "bins = 500\n",
    "counts, bin_edges = numpy.histogram(y, bins=bins)\n",
    "\n",
    "# Calculate the probabilities of each bin\n",
    "\n",
    "bin_witdth = numpy.diff(bin_edges, 1)[0]\n",
    "bin_units = bin_witdth * 10 ** - precision\n",
    "bin_midpoints = bin_edges[:-1] + (bin_witdth / 2)\n",
    "probabilities = counts / sum(counts * bin_witdth)\n",
    "probabilities = counts / sample_size\n",
    "\n",
    "print(\"probabilities range from {0} to {1}\".format(min(probabilities), max(probabilities)))\n",
    "print(\"probabilities sum: {0}\".format(probabilities.sum()))\n",
    "\n",
    "# Generate information about our distribution\n",
    "print(\"y ranges from {0} to {1}\".format(min(y), max(y)))\n",
    "y_sort = numpy.sort(y, axis=-1, kind='quicksort', order=None)\n",
    "norm_pdf = norm(0,1).pdf(y_sort)\n",
    "\n",
    "# Create our plot objects\n",
    "fig, (ax1, ax2, ax3, ax4) = pyplot.subplots(nrows=1, ncols=4)\n",
    "fig.set_figwidth(30)\n",
    "\n",
    "# Graph the variable, the histogram, and the qq plot\n",
    "ax1.scatter(x, y)\n",
    "ax2.bar(bin_midpoints, probabilities)\n",
    "ax3.plot(y_sort, norm_pdf, color='red')\n",
    "fig = sm.qqplot(Y, line='45', ax=ax4)"
   ]
  },
  {
   "cell_type": "code",
   "execution_count": 188,
   "metadata": {},
   "outputs": [
    {
     "data": {
      "text/plain": [
       "0.01902000000000026"
      ]
     },
     "execution_count": 188,
     "metadata": {},
     "output_type": "execute_result"
    }
   ],
   "source": [
    "bin_witdth"
   ]
  },
  {
   "cell_type": "code",
   "execution_count": 187,
   "metadata": {},
   "outputs": [
    {
     "data": {
      "text/plain": [
       "0.01902"
      ]
     },
     "execution_count": 187,
     "metadata": {},
     "output_type": "execute_result"
    }
   ],
   "source": [
    "(y.max() - y.min()) / bins"
   ]
  },
  {
   "cell_type": "code",
   "execution_count": 189,
   "metadata": {},
   "outputs": [
    {
     "data": {
      "text/plain": [
       "19020.000000000284"
      ]
     },
     "execution_count": 189,
     "metadata": {},
     "output_type": "execute_result"
    }
   ],
   "source": [
    "sum(counts * bin_witdth)"
   ]
  },
  {
   "cell_type": "code",
   "execution_count": 204,
   "metadata": {},
   "outputs": [
    {
     "data": {
      "text/plain": [
       "19020.0"
      ]
     },
     "execution_count": 204,
     "metadata": {},
     "output_type": "execute_result"
    }
   ],
   "source": [
    "sample_size * (y.max() - y.min()) / bins"
   ]
  },
  {
   "cell_type": "code",
   "execution_count": 208,
   "metadata": {},
   "outputs": [
    {
     "data": {
      "text/plain": [
       "1000000"
      ]
     },
     "execution_count": 208,
     "metadata": {},
     "output_type": "execute_result"
    }
   ],
   "source": [
    "len(set(y))"
   ]
  },
  {
   "cell_type": "code",
   "execution_count": 209,
   "metadata": {},
   "outputs": [
    {
     "data": {
      "text/plain": [
       "1000000"
      ]
     },
     "execution_count": 209,
     "metadata": {},
     "output_type": "execute_result"
    }
   ],
   "source": [
    "sum(counts)"
   ]
  },
  {
   "cell_type": "code",
   "execution_count": 205,
   "metadata": {},
   "outputs": [
    {
     "data": {
      "text/plain": [
       "52.576235541535226"
      ]
     },
     "execution_count": 205,
     "metadata": {},
     "output_type": "execute_result"
    }
   ],
   "source": [
    "bins / (y.max() - y.min())"
   ]
  },
  {
   "cell_type": "code",
   "execution_count": 206,
   "metadata": {},
   "outputs": [
    {
     "data": {
      "text/plain": [
       "52.576235541534444"
      ]
     },
     "execution_count": 206,
     "metadata": {},
     "output_type": "execute_result"
    }
   ],
   "source": [
    "sample_size / sum(counts * bin_witdth)"
   ]
  },
  {
   "cell_type": "code",
   "execution_count": null,
   "metadata": {},
   "outputs": [],
   "source": []
  },
  {
   "cell_type": "code",
   "execution_count": null,
   "metadata": {},
   "outputs": [],
   "source": []
  },
  {
   "cell_type": "code",
   "execution_count": 213,
   "metadata": {},
   "outputs": [
    {
     "data": {
      "text/plain": [
       "1.0000000000000004"
      ]
     },
     "execution_count": 213,
     "metadata": {},
     "output_type": "execute_result"
    }
   ],
   "source": [
    "p = counts / sample_size\n",
    "sum(p)"
   ]
  },
  {
   "cell_type": "code",
   "execution_count": null,
   "metadata": {},
   "outputs": [],
   "source": []
  },
  {
   "cell_type": "code",
   "execution_count": null,
   "metadata": {},
   "outputs": [],
   "source": []
  },
  {
   "cell_type": "code",
   "execution_count": 116,
   "metadata": {},
   "outputs": [
    {
     "data": {
      "image/png": "[encoded data removed]",
      "text/plain": [
       "<Figure size 2160x288 with 4 Axes>"
      ]
     },
     "metadata": {
      "needs_background": "light"
     },
     "output_type": "display_data"
    }
   ],
   "source": []
  }
 ],
 "metadata": {
  "kernelspec": {
   "display_name": "Python 3",
   "language": "python",
   "name": "python3"
  },
  "language_info": {
   "codemirror_mode": {
    "name": "ipython",
    "version": 3
   },
   "file_extension": ".py",
   "mimetype": "text/x-python",
   "name": "python",
   "nbconvert_exporter": "python",
   "pygments_lexer": "ipython3",
   "version": "3.8.0"
  }
 },
 "nbformat": 4,
 "nbformat_minor": 4
}
