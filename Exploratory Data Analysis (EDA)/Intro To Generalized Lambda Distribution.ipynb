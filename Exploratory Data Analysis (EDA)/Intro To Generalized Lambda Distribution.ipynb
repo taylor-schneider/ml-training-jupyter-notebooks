{
 "cells": [
  {
   "cell_type": "code",
   "execution_count": null,
   "metadata": {},
   "outputs": [],
   "source": []
  },
  {
   "cell_type": "markdown",
   "metadata": {},
   "source": [
    "#### 2.1.3.1 Improving PMF through interpolation\n",
    "We can see that this distribution is not very smooth. One thing we might try is to do interpolation between the count values in $Y$."
   ]
  },
  {
   "cell_type": "markdown",
   "metadata": {},
   "source": [
    "#### 2.1.3.2 Substituting emperical PMF with GLD\n",
    "We may instead try to replace the frequency table with the Generalize Lambda Distribution (GLD) which is parameterized by sample statistics.\n",
    "\n",
    "The GLD family is most easily specified in terms of its percentile (quantile) function."
   ]
  },
  {
   "cell_type": "markdown",
   "metadata": {},
   "source": [
    "##### 2.1.3.2.1 Refresher: Quantiles\n",
    "A quantile is a point or number that partitions a distribution of a data set. Ie. it divides a distribution into contiguous disjoint intervals.\n",
    "\n",
    "A user can specify to partition a dirstibution into two or more partitions. These resulting partitions may or may not be uniformally sized.\n",
    "\n",
    "Confusingly, quantile can also refer to the partitions bound by the quantile points. So the first quantile for example refers to both the point along the x-axis that partitions the distribution as well as the partition confined within that point.\n",
    "\n",
    "There are special names given to specific sets of quantiles. Sets of 4 are quartiles, 10 are deciles, 100 are percentiles. A more exhaustive list is maintained [here](https://en.wikipedia.org/wiki/Quantile#Specialized_quantiles).\n",
    "\n",
    "Consider the following diagram which shows the normal distribution being divided into four equal quartiles by three quantiles ($Q1,Q2,Q3$).\n",
    "\n",
    "<img src=\"./normal_distribution_quantiles.png\" alt=\"Normal Distribution Quantiles\" width=\"400\"/>\n",
    "\n",
    "https://en.wikipedia.org/wiki/Quantile"
   ]
  },
  {
   "cell_type": "markdown",
   "metadata": {},
   "source": [
    "##### 2.1.3.2.2 Refresher: Quantile Functions\n",
    "\n",
    "A quantile function returns a value $x_i$ of a random variable $X$ such that the probability of the variable being less than or equal to that value equals a given probability.\n",
    "\n",
    "$$ Q(p_x) = x : F(x) <= p_x $$\n",
    "\n",
    "Where $ F(x) = P(X <= x) $.\n",
    "\n",
    "Under certain circomstances a quantile function is also referred to as the inverse cumulative distribution function.\n",
    "\n",
    "$$ Q(p_x) = F^{-1}(p_x) = x $$\n",
    "\n",
    "The function gets its name because it effectively returns the quantile for a given value. So for example, if we want the quantile that will partition the distribution into segments containing 1/4 and 3/4 of the distribution values we would find the quantile $x$ as $Q(p=\\frac{1}{4})=x$."
   ]
  },
  {
   "cell_type": "markdown",
   "metadata": {},
   "source": [
    "##### 2.1.3.2.2 GLD Definition\n",
    "\n",
    "$$ Q(y)=Q(y;\\lambda_1,\\lambda_2,\\lambda_3,\\lambda_4) = \\lambda_1 + \\frac{y^{\\lambda_3}-(1-y)^{\\lambda_4}}{\\lambda_3}  $$\n",
    "\n",
    "where $0 \\le y \\le 1$.\n",
    "\n",
    "The probability density function (PDF) for the GLD can be derived from the percentile function and is defined as follows:\n",
    "\n",
    "$$ f(x) = \\frac{\\lambda_2}{\\lambda_3 y^{\\lambda_3 - 1} + \\lambda_4(1-y)^{\\lambda_4 - 1}} $$\n",
    "\n",
    "at $x=Q(y)$. ans since $x=Q(y)$ we have $y=F(x)$."
   ]
  },
  {
   "cell_type": "code",
   "execution_count": 12,
   "metadata": {},
   "outputs": [
    {
     "name": "stdout",
     "output_type": "stream",
     "text": [
      "[ 1  2  3  4  5  6  7  8  9 10 11 12 13 14 15 16 17 18 19 20]\n",
      "[5 4 6 8 4 4 8 6 4 6 4 4 5 1 1 3 2 5 3 2]\n"
     ]
    }
   ],
   "source": [
    "# Generate some data\n",
    "x = numpy.array([ 1,  2,  3,  4,  5,  6,  7,  8,  9, 10, 11, 12, 13, 14, 15, 16, 17, 18, 19, 20])\n",
    "print(x)\n",
    "y = numpy.array([ 1,  2,  3,  4,  5,  6,  7,  7,  7,  7,  7,  7,  6,  6,  6,  5,  5,  5,  4, 1])\n",
    "numpy.random.seed(seed=42)\n",
    "y = numpy.random.normal(loc=5, scale = 2, size=len(x)).astype(int)\n",
    "print(y)"
   ]
  },
  {
   "cell_type": "code",
   "execution_count": 14,
   "metadata": {},
   "outputs": [
    {
     "name": "stdout",
     "output_type": "stream",
     "text": [
      "range of y values: 1 -> 8 = 8\n",
      "bin count: 8\n",
      "edges: [1.    1.875 2.75  3.625 4.5   5.375 6.25  7.125 8.   ]\n",
      "num of edges: 9\n",
      "counts: [2 2 2 6 3 3 0 2]\n",
      "num of counts: 8\n",
      "bin midpoints: [1.875 2.75  3.625 4.5   5.375 6.25  7.125 8.   ]\n",
      "       y  c\n",
      "0  1.875  2\n",
      "1  2.750  2\n",
      "2  3.625  2\n",
      "3  4.500  6\n",
      "4  5.375  3\n",
      "5  6.250  3\n",
      "6  7.125  0\n",
      "7  8.000  2\n",
      "       y      p\n",
      "0  1.875  0.250\n",
      "1  2.750  0.250\n",
      "2  3.625  0.250\n",
      "3  4.500  0.750\n",
      "4  5.375  0.375\n",
      "5  6.250  0.375\n",
      "6  7.125  0.000\n",
      "7  8.000  0.250\n"
     ]
    }
   ],
   "source": [
    "# Determine how many bins to use for the histogram\n",
    "range_of_y_values = int(max(y) - min(y)) + 1\n",
    "bin_count = range_of_y_values\n",
    "print(\"range of y values: {0} -> {1} = {2}\".format(min(y), max(y), range_of_y_values))\n",
    "print(\"bin count: {0}\".format(bin_count))\n",
    "\n",
    "# Generate histogram data for the values of \n",
    "counts, bin_edges = numpy.histogram(y, bins=bin_count)\n",
    "print(\"edges: {0}\".format(bin_edges))\n",
    "print(\"num of edges: {0}\".format(len(bin_edges)))\n",
    "print(\"counts: {0}\".format(counts))\n",
    "print(\"num of counts: {0}\".format(len(counts)))\n",
    "\n",
    "# Determine the midpoints of the bin\n",
    "bin_widths = numpy.diff(bin_edges)\n",
    "distance_from_lower_din_edge = bin_widths/2\n",
    "bin_midpoints = bin_edges[:-1] + bin_widths\n",
    "print(\"bin midpoints: {0}\".format(bin_midpoints))\n",
    "\n",
    "# Calculate the probability of the given bin\n",
    "N = range_of_y_values\n",
    "p = numpy.array([counts[i]/N  for i in range(0, N)])\n",
    "F = p.cumsum()\n",
    "\n",
    "import pandas\n",
    "print(pandas.DataFrame({\"y\": bin_midpoints, \"c\": counts}))\n",
    "print(pandas.DataFrame({\"y\": bin_midpoints, \"p\": p}))"
   ]
  },
  {
   "cell_type": "code",
   "execution_count": 15,
   "metadata": {},
   "outputs": [
    {
     "data": {
      "image/png": "[encoded data removed]",
      "text/plain": [
       "<Figure size 1440x360 with 6 Axes>"
      ]
     },
     "metadata": {
      "needs_background": "light"
     },
     "output_type": "display_data"
    }
   ],
   "source": [
    "# Get setup to print a series of charts\n",
    "fig, axes = plt.subplots(nrows=3, ncols=2, figsize=(20, 5))\n",
    "fig.tight_layout(h_pad=3)\n",
    "axes[0, 0].scatter(x, y)\n",
    "axes[0, 0].set_title(label=\"Raw scatter\", loc=\"right\")\n",
    "axes[0, 1].plot(x, y)\n",
    "axes[0, 1].set_title(label=\"Raw Plot\")\n",
    "axes[1, 0].bar(numpy.arange(min(y), max(y)+1), counts)\n",
    "axes[1, 0].set_title(label=\"Bin Counts\")\n",
    "axes[1, 1].bar(numpy.arange(min(y), max(y)+1), p)\n",
    "axes[1, 1].set_title(label=\"Bin Probability\")\n",
    "axes[2, 1].plot(numpy.arange(min(y), max(y)+1), F)\n",
    "axes[2, 1].set_title(label=\"Bin Cumulative Probability\");"
   ]
  },
  {
   "cell_type": "code",
   "execution_count": 16,
   "metadata": {},
   "outputs": [
    {
     "data": {
      "text/plain": [
       "[4.25, 1.920286436967152, 0.19329743393085036, -0.4117207698937091]"
      ]
     },
     "execution_count": 16,
     "metadata": {},
     "output_type": "execute_result"
    }
   ],
   "source": [
    "import scipy.stats\n",
    "alphas = [\n",
    "    y.mean(),\n",
    "    y.std(),    \n",
    "    scipy.stats.skew(y),\n",
    "    scipy.stats.kurtosis(y)\n",
    "]\n",
    "alphas"
   ]
  },
  {
   "cell_type": "code",
   "execution_count": null,
   "metadata": {},
   "outputs": [],
   "source": []
  },
  {
   "cell_type": "code",
   "execution_count": null,
   "metadata": {},
   "outputs": [],
   "source": []
  },
  {
   "cell_type": "code",
   "execution_count": null,
   "metadata": {},
   "outputs": [],
   "source": []
  },
  {
   "cell_type": "code",
   "execution_count": null,
   "metadata": {},
   "outputs": [],
   "source": []
  },
  {
   "cell_type": "code",
   "execution_count": null,
   "metadata": {},
   "outputs": [],
   "source": []
  },
  {
   "cell_type": "code",
   "execution_count": 322,
   "metadata": {},
   "outputs": [
    {
     "data": {
      "image/png": "[encoded data removed]",
      "text/plain": [
       "<Figure size 432x288 with 1 Axes>"
      ]
     },
     "metadata": {
      "needs_background": "light"
     },
     "output_type": "display_data"
    }
   ],
   "source": [
    "def Q(y, lambdas):\n",
    "    numerator = y ** lambdas[2] - (1 - y) ** lambdas[3]\n",
    "    denominator = lambdas[1]\n",
    "    answer = lambdas[0] + (numerator / denominator)\n",
    "    return answer\n",
    "\n",
    "\n",
    "Q_y = numpy.arange(0.1, 1, 0.01)\n",
    "Q_x = [Q(y, lambdas) for y in Q_y]\n",
    "plt.plot(Q_x, Q_y);"
   ]
  },
  {
   "cell_type": "code",
   "execution_count": null,
   "metadata": {},
   "outputs": [],
   "source": []
  },
  {
   "cell_type": "code",
   "execution_count": 291,
   "metadata": {},
   "outputs": [
    {
     "ename": "ZeroDivisionError",
     "evalue": "0.0 cannot be raised to a negative power",
     "output_type": "error",
     "traceback": [
      "\u001b[1;31m---------------------------------------------------------------------------\u001b[0m",
      "\u001b[1;31mZeroDivisionError\u001b[0m                         Traceback (most recent call last)",
      "\u001b[1;32m<ipython-input-291-7753868d06cd>\u001b[0m in \u001b[0;36m<module>\u001b[1;34m\u001b[0m\n\u001b[0;32m     16\u001b[0m \u001b[1;31m#print(\"f: {0}\".format(gld_f))\u001b[0m\u001b[1;33m\u001b[0m\u001b[1;33m\u001b[0m\u001b[1;33m\u001b[0m\u001b[0m\n\u001b[0;32m     17\u001b[0m \u001b[1;33m\u001b[0m\u001b[0m\n\u001b[1;32m---> 18\u001b[1;33m \u001b[0mgld_pdf\u001b[0m\u001b[1;33m(\u001b[0m\u001b[1;36m1\u001b[0m\u001b[1;33m)\u001b[0m\u001b[1;33m\u001b[0m\u001b[1;33m\u001b[0m\u001b[0m\n\u001b[0m",
      "\u001b[1;32m<ipython-input-291-7753868d06cd>\u001b[0m in \u001b[0;36mgld_pdf\u001b[1;34m(y)\u001b[0m\n\u001b[0;32m      3\u001b[0m     \u001b[0mnumerator\u001b[0m \u001b[1;33m=\u001b[0m \u001b[0mlambdas\u001b[0m\u001b[1;33m[\u001b[0m\u001b[1;36m1\u001b[0m\u001b[1;33m]\u001b[0m\u001b[1;33m\u001b[0m\u001b[1;33m\u001b[0m\u001b[0m\n\u001b[0;32m      4\u001b[0m     \u001b[0mt1\u001b[0m \u001b[1;33m=\u001b[0m \u001b[0mlambdas\u001b[0m\u001b[1;33m[\u001b[0m\u001b[1;36m2\u001b[0m\u001b[1;33m]\u001b[0m \u001b[1;33m*\u001b[0m \u001b[0my\u001b[0m \u001b[1;33m**\u001b[0m \u001b[1;33m(\u001b[0m\u001b[0mlambdas\u001b[0m\u001b[1;33m[\u001b[0m\u001b[1;36m2\u001b[0m\u001b[1;33m]\u001b[0m \u001b[1;33m-\u001b[0m \u001b[1;36m1\u001b[0m\u001b[1;33m)\u001b[0m\u001b[1;33m\u001b[0m\u001b[1;33m\u001b[0m\u001b[0m\n\u001b[1;32m----> 5\u001b[1;33m     \u001b[0mt2\u001b[0m \u001b[1;33m=\u001b[0m \u001b[0mlambdas\u001b[0m\u001b[1;33m[\u001b[0m\u001b[1;36m3\u001b[0m\u001b[1;33m]\u001b[0m \u001b[1;33m*\u001b[0m\u001b[1;33m(\u001b[0m\u001b[1;36m1\u001b[0m \u001b[1;33m-\u001b[0m \u001b[0my\u001b[0m\u001b[1;33m)\u001b[0m \u001b[1;33m**\u001b[0m \u001b[1;33m(\u001b[0m\u001b[0mlambdas\u001b[0m\u001b[1;33m[\u001b[0m\u001b[1;36m3\u001b[0m\u001b[1;33m]\u001b[0m \u001b[1;33m-\u001b[0m \u001b[1;36m1\u001b[0m\u001b[1;33m)\u001b[0m\u001b[1;33m\u001b[0m\u001b[1;33m\u001b[0m\u001b[0m\n\u001b[0m\u001b[0;32m      6\u001b[0m \u001b[1;33m\u001b[0m\u001b[0m\n\u001b[0;32m      7\u001b[0m     \u001b[0mdenominator\u001b[0m \u001b[1;33m=\u001b[0m \u001b[0mt1\u001b[0m \u001b[1;33m+\u001b[0m \u001b[0mt2\u001b[0m\u001b[1;33m\u001b[0m\u001b[1;33m\u001b[0m\u001b[0m\n",
      "\u001b[1;31mZeroDivisionError\u001b[0m: 0.0 cannot be raised to a negative power"
     ]
    }
   ],
   "source": [
    "def gld_pdf(x):        \n",
    "\n",
    "    numerator = lambdas[1]\n",
    "    \n",
    "    t1 = lambdas[2] * y ** (lambdas[2] - 1)\n",
    "    t2 = lambdas[3] *(1 - y) ** (lambdas[3] - 1)    \n",
    "    denominator = t1 + t2\n",
    "    \n",
    "    answer = numerator / denominator\n",
    "    print(\"gld: {0}/{1}={2}\".format(numerator, denominator, answer))\n",
    "    \n",
    "    return answer\n",
    "\n",
    "# In this case, the y values are those of the probability function denoted p\n",
    "#gld_x = numpy.arange(1, range_of_y_values + 1)\n",
    "#print(\"x: {0}\".format(gld_y))\n",
    "#gld_f = [gld_qunatile_function(y) for y in gld_y]\n",
    "#print(\"f: {0}\".format(gld_f))\n",
    "\n",
    "gld_pdf(1)"
   ]
  },
  {
   "cell_type": "code",
   "execution_count": 272,
   "metadata": {},
   "outputs": [
    {
     "data": {
      "image/png": "[encoded data removed]",
      "text/plain": [
       "<Figure size 432x288 with 1 Axes>"
      ]
     },
     "metadata": {
      "needs_background": "light"
     },
     "output_type": "display_data"
    }
   ],
   "source": [
    "df = pandas.DataFrame({\"x\": gld_x, \"y\": gld_y})\n",
    "subplot = df.plot(\"x\", \"y\")"
   ]
  },
  {
   "cell_type": "code",
   "execution_count": 53,
   "metadata": {},
   "outputs": [
    {
     "data": {
      "text/plain": [
       "8"
      ]
     },
     "execution_count": 53,
     "metadata": {},
     "output_type": "execute_result"
    }
   ],
   "source": [
    "2 ** 3"
   ]
  },
  {
   "cell_type": "markdown",
   "metadata": {},
   "source": [
    "# 2.2 Histogram with Pandas\n",
    "Pandas makes a histogram much easier becasue it hides a lot of the complexitied found in numpy.\n",
    "\n",
    "The DataFrame.hist() function calls matplotlib.pyplot.hist(), on each series in the DataFrame, resulting in one histogram per column.\n",
    "\n",
    "https://pandas.pydata.org/pandas-docs/stable/reference/api/pandas.DataFrame.hist.html"
   ]
  },
  {
   "cell_type": "code",
   "execution_count": 8,
   "metadata": {},
   "outputs": [
    {
     "data": {
      "image/png": "[encoded data removed]",
      "text/plain": [
       "<Figure size 432x288 with 1 Axes>"
      ]
     },
     "metadata": {
      "needs_background": "light"
     },
     "output_type": "display_data"
    }
   ],
   "source": [
    "import pandas\n",
    "df = pandas.DataFrame({\"x\": x, \"y\": y})\n",
    "subplots = df.hist(\"y\", bins=bins)"
   ]
  },
  {
   "cell_type": "markdown",
   "metadata": {},
   "source": [
    "We can get information about the bins and count by defaulting to the numpy methods"
   ]
  },
  {
   "cell_type": "code",
   "execution_count": 9,
   "metadata": {},
   "outputs": [],
   "source": [
    "counts, bin_edges = numpy.histogram(df[\"y\"].to_numpy(), bins=bins)"
   ]
  },
  {
   "cell_type": "markdown",
   "metadata": {},
   "source": [
    "# 3. Smoothing techniques"
   ]
  },
  {
   "cell_type": "code",
   "execution_count": null,
   "metadata": {},
   "outputs": [],
   "source": [
    "interpolation, smoothing, gld"
   ]
  },
  {
   "cell_type": "code",
   "execution_count": null,
   "metadata": {},
   "outputs": [],
   "source": []
  },
  {
   "cell_type": "code",
   "execution_count": null,
   "metadata": {},
   "outputs": [],
   "source": []
  },
  {
   "cell_type": "code",
   "execution_count": null,
   "metadata": {},
   "outputs": [],
   "source": []
  },
  {
   "cell_type": "code",
   "execution_count": null,
   "metadata": {},
   "outputs": [],
   "source": []
  },
  {
   "cell_type": "code",
   "execution_count": null,
   "metadata": {},
   "outputs": [],
   "source": []
  },
  {
   "cell_type": "code",
   "execution_count": null,
   "metadata": {},
   "outputs": [],
   "source": []
  },
  {
   "cell_type": "code",
   "execution_count": 53,
   "metadata": {},
   "outputs": [],
   "source": [
    "# import a library to help us explore\n",
    "from scipy import stats"
   ]
  }
 ],
 "metadata": {
  "kernelspec": {
   "display_name": "Python 3",
   "language": "python",
   "name": "python3"
  },
  "language_info": {
   "codemirror_mode": {
    "name": "ipython",
    "version": 3
   },
   "file_extension": ".py",
   "mimetype": "text/x-python",
   "name": "python",
   "nbconvert_exporter": "python",
   "pygments_lexer": "ipython3",
   "version": "3.8.0"
  }
 },
 "nbformat": 4,
 "nbformat_minor": 4
}
