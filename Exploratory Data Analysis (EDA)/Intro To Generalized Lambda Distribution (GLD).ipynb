{
 "cells": [
  {
   "cell_type": "markdown",
   "metadata": {},
   "source": [
    "# Intro to the Generalize Lambda Distribution\n",
    "\n",
    "The Generalize Lambda Distribution is a generalized probability distribution that can be fit to sample data. It provides the ability to predict and interpolate values consistent with a probability distribution.\n",
    "\n",
    "There have been several developments and iterations which are discussed inthe History section. There is a very useful python implimentation which is covered in the implimentations section.\n",
    "\n",
    "1. **Overivew of the GLD** - What it is and how the GLD can be used\n",
    "2. **History** - A reveiw of the important milestones in the history of the GLD\n",
    "3. **Parameterizations and Shapes** - The various parameterizations and shapes that the functions can take on\n",
    "3. **Implimentations** - A look at python libraries that impliment the GLD"
   ]
  },
  {
   "cell_type": "markdown",
   "metadata": {},
   "source": [
    "# 1. Overivew of the GLD\n",
    "The Generalize Lambda Distribution is a generalized probability distribution. It is a general formula for a probability distribution function. It accepts parameters which allow it to take on almost any shape that a probability distribution might take on. The parameters are expressed as a set of lambdas which is where it gets its name.The GLD can be configured to fit sample data by calculating the lambdas based on the sample data and plugging the values into the equation.\n",
    "\n",
    "The GLD provides the ability to predict and interpolate values consistent with a probability distribution. This is a very useful feature which is not available with rudimentary techniques such as histograms.\n",
    "\n",
    "The history of the development of the GLD is important as it helps understand the different parameter sets and implimentations available. The major challenges in the field have been finding an equation that can assume the full range of posible shapes and finding methods to calculate the parameters. We will see that there are several parameterizations (definitions of the function) that have been developed."
   ]
  },
  {
   "cell_type": "markdown",
   "metadata": {},
   "source": [
    "# 2. History\n",
    "The following major publications have contributed to the modern definition of the GLD\n",
    "\n",
    "The single parameter \"Turkey-lambda\" family proposed and studdied\n",
    "\n",
    "- 1947 Hastings et al.\n",
    "- 1960 turkey\n",
    "- 1969 Filben\n",
    "- 1971 Joiner and Rosenblatt\n",
    "\n",
    "The family was generalized\n",
    "\n",
    "- 1971 Johnson and Kotz\n",
    "- 1971 Joiner and Rosenblatt - a 5 parameter distribution proposed\n",
    "- 1972,1974 Ramber and Schmeidser - Generalized Turkey to four parameter GLD to generate random variables as part of monte carlo studdies\n",
    "\n",
    "The family was used to aproximate percentiles\n",
    "\n",
    "- 1960 Turkey\n",
    "- Van Dyke 1961\n",
    "\n",
    "Used to test goodness of fit in logistic regression\n",
    "\n",
    "- 1980 Pregbon\n",
    "\n",
    "Alternate parameterizations and fitting techniques\n",
    "\n",
    "- 1895 Pearson - Method of moments fits a four parameter system\n",
    "- 1988 FMKL - A study of the generalized tukey lambda family and alternate parameterization supplies\n",
    "- 2009 Van Staden and Loots - Alternate parameterization proposed"
   ]
  },
  {
   "cell_type": "markdown",
   "metadata": {},
   "source": [
    "# 3. Parameterizations and Shapes"
   ]
  },
  {
   "cell_type": "markdown",
   "metadata": {},
   "source": [
    "<center><img src=\"GLD Shapes.png\" width=\"300px\"/></center>"
   ]
  },
  {
   "cell_type": "markdown",
   "metadata": {},
   "source": [
    "## 3.1. Ramberg and Schmeiser [1974] - RS Parameterization\n",
    "\n",
    "$$ Q_{RS}(u)=\\lambda_1+\\frac{1}{\\lambda_2}[u^{\\lambda_3}-(1-u)^{\\lambda_4}] $$\n",
    "\n",
    "The RS parameterization has complex constraints on the parameters and support regions as summarized in Table 1 and Fig. 2\n",
    "\n",
    "<center><img src=\"\\RS GLD Parameter Constraints.png\" width=\"400px\"/></center>\n",
    "\n",
    "Table 1: Support regions of the GLD and conditions on the parameters given by the RS parameterization to define a valid distribution function (Karian and Dudewicz [2000]). The support regions are displayed in Fig. 2. Note that there are no conditions on λ1 to obtain a valid distribution.\n",
    "\n",
    "Later, Freimer et al. [1988] introduced a new parameterization called FKML to circumvent the constraints on the RS parameter values. It is expressed as"
   ]
  },
  {
   "cell_type": "markdown",
   "metadata": {},
   "source": [
    "## 3.2 Joiner and Rosenblatt [1971] - JR Parameterization\n",
    "As noted by Gilchrist [2000], one of the criticisms of the GLD is that its skewness is expressed in terms of both tail indices λ3 and λ4 in Eqs. (1) and (2). In one approach addressing this concern, a five-parameter GLD was introduced by Joiner and Rosenblatt [1971], which, expressed in the FKML parameterization, can be written as,\n",
    "\n",
    "$$ Q_{JR}(u)=\\lambda_1+\\frac{1}{2\\lambda_2}[(1-\\lambda_5)\\frac{u^{\\lambda_3}-1}{\\lambda_3}-(1+\\lambda_5)\\frac{(1-u)^{\\lambda_4}-1}{\\lambda_4}] $$\n",
    "\n",
    "It has a location parameter λ1, a scale parameter λ2, and an asymmetry parameter, λ5, which weights each side of the distribution and the two tail indices, λ3 and λ4. The conditions on the parameters are λ2 > 0 and −1 < λ5 < 1. However, the additional parameter can make the estimation of the parameter values even more difficult."
   ]
  },
  {
   "cell_type": "markdown",
   "metadata": {},
   "source": [
    "## 3.3.  Freimer, Mudholkar, Kollia and Lin [1988] - FMKL Parameterization\n",
    "\n",
    "Freimer et al. [1988] introduced a new parameterization called FKML to circumvent the constraints on the RS parameter values. It is expressed as\n",
    "\n",
    "$$ Q_{FMKL}(u)=\\lambda_1+\\frac{1}{\\lambda_2}[\\frac{u^{\\lambda_3}-1}{\\lambda_3}-\\frac{(1-u)^{\\lambda_4}-1}{\\lambda_4}] $$ \n",
    "\n",
    "As in the previous parameterization, λ1 and λ2 are the location and scale parameters, and λ3 and λ4 are the tail index parameters. The advantage over the previous parameterization is that the only constraint on the parameters is that λ2 must be positive.\n",
    "\n"
   ]
  },
  {
   "cell_type": "markdown",
   "metadata": {},
   "source": [
    "## 3.4. Van Staden and Loots [2009] - VSL Parameterization\n",
    "\n",
    "We derive a parameterization of the GLD with closed-form expressions for the method of L-momentestimators. The advantage of our parameterization over the RS and FMKL parameterizations is that the MoLM estimates can be calculated sequentially.\n",
    "\n",
    "$$ Q_VSL(p)=\\alpha+\\beta[(1-\\delta)(\\frac{p^\\lambda-1}{\\lambda})-\\delta(\\frac{(1-p)^\\lambda-1}{\\lambda})] $$ "
   ]
  },
  {
   "cell_type": "markdown",
   "metadata": {},
   "source": [
    "# 4. Implimentations\n",
    "\n",
    "I have been able to find the following implimentations:\n",
    "\n",
    "1. Coding things by hand\n",
    "2. The gldpy library\n",
    "\n",
    "My suggestion is use the gldpy library"
   ]
  },
  {
   "cell_type": "markdown",
   "metadata": {},
   "source": [
    "## 4.1. The gldpy Library\n",
    "\n",
    "The gldpy library is Python package that implements tools for using Generalized Lambda Distribution (GLD).\n",
    "\n",
    "It supports the following parameterizations:\n",
    "1. RS - introduced by Ramberg and Schmeiser, 1974\n",
    "2. FMKL - introduced by Freimer, Mudholkar, Kollia and Lin, 1988\n",
    "3. VSL - introduced by van Staden and Loots, 2009\n",
    "\n",
    "It supports a number of fitting methods:\n",
    "- fit_MM - fits GLD to data using method of moments. It relies on some utility functions\n",
    "- fit_PM - fits using method of percentiles (percentile based sample statistics)\n",
    "- fit_LMM - fits the GLD using the method of L-moments (like method of moments but equates lambdas instead of alphas)\n",
    "- fit_MPS - fits using maximum product of spacing\n",
    "- fit_ML - fits using method of maximum likelihood\n",
    "- fit_Starship - fits using the starship method\n",
    "- fit_curve - fits an arbitrary curve specified by x and y coordinate arrays\n",
    "\n",
    "The code and documentation can be found here:\n",
    "- https://pypi.org/project/gldpy/\n",
    "- https://github.com/alexsandi/using_gldpy\n",
    "\n",
    "To get hands on, see the [accompanying notebook which shows how to fit the GLD to sample data](Fitting%20GLD%20To%20Sample%20Data.ipynb).\n"
   ]
  }
 ],
 "metadata": {
  "kernelspec": {
   "display_name": "Python 3",
   "language": "python",
   "name": "python3"
  },
  "language_info": {
   "codemirror_mode": {
    "name": "ipython",
    "version": 3
   },
   "file_extension": ".py",
   "mimetype": "text/x-python",
   "name": "python",
   "nbconvert_exporter": "python",
   "pygments_lexer": "ipython3",
   "version": "3.6.8"
  }
 },
 "nbformat": 4,
 "nbformat_minor": 4
}
