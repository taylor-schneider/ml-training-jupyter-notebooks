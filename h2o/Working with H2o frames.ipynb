{
 "cells": [
  {
   "cell_type": "markdown",
   "metadata": {},
   "source": [
    "1. Connect to h2o\n",
    "2. ETL data for model\n",
    "3. "
   ]
  },
  {
   "cell_type": "code",
   "execution_count": null,
   "metadata": {},
   "outputs": [],
   "source": []
  },
  {
   "cell_type": "markdown",
   "metadata": {},
   "source": [
    "# 1. Connect to H2o"
   ]
  },
  {
   "cell_type": "code",
   "execution_count": 1,
   "metadata": {},
   "outputs": [],
   "source": [
    "import h2o"
   ]
  },
  {
   "cell_type": "code",
   "execution_count": 2,
   "metadata": {},
   "outputs": [
    {
     "name": "stdout",
     "output_type": "stream",
     "text": [
      "http://127.0.0.1:54321\n"
     ]
    }
   ],
   "source": [
    "# Define the URL to the h2o server/cluster\n",
    "ip = \"127.0.0.1\"\n",
    "port = 54321\n",
    "url = \"http://{0}:{1}\".format(ip, port)\n",
    "print(url)"
   ]
  },
  {
   "cell_type": "code",
   "execution_count": 3,
   "metadata": {},
   "outputs": [
    {
     "name": "stdout",
     "output_type": "stream",
     "text": [
      "Checking whether there is an H2O instance running at http://127.0.0.1:54321 . connected.\n"
     ]
    },
    {
     "data": {
      "text/html": [
       "<div style=\"overflow:auto\"><table style=\"width:50%\"><tr><td>H2O_cluster_uptime:</td>\n",
       "<td>15 mins 36 secs</td></tr>\n",
       "<tr><td>H2O_cluster_timezone:</td>\n",
       "<td>America/Chicago</td></tr>\n",
       "<tr><td>H2O_data_parsing_timezone:</td>\n",
       "<td>UTC</td></tr>\n",
       "<tr><td>H2O_cluster_version:</td>\n",
       "<td>3.30.0.7</td></tr>\n",
       "<tr><td>H2O_cluster_version_age:</td>\n",
       "<td>14 days and 9 minutes </td></tr>\n",
       "<tr><td>H2O_cluster_name:</td>\n",
       "<td>Administrator</td></tr>\n",
       "<tr><td>H2O_cluster_total_nodes:</td>\n",
       "<td>1</td></tr>\n",
       "<tr><td>H2O_cluster_free_memory:</td>\n",
       "<td>3.475 Gb</td></tr>\n",
       "<tr><td>H2O_cluster_total_cores:</td>\n",
       "<td>4</td></tr>\n",
       "<tr><td>H2O_cluster_allowed_cores:</td>\n",
       "<td>4</td></tr>\n",
       "<tr><td>H2O_cluster_status:</td>\n",
       "<td>locked, healthy</td></tr>\n",
       "<tr><td>H2O_connection_url:</td>\n",
       "<td>http://127.0.0.1:54321</td></tr>\n",
       "<tr><td>H2O_connection_proxy:</td>\n",
       "<td>{\"http\": null, \"https\": null}</td></tr>\n",
       "<tr><td>H2O_internal_security:</td>\n",
       "<td>False</td></tr>\n",
       "<tr><td>H2O_API_Extensions:</td>\n",
       "<td>Amazon S3, Algos, AutoML, Core V3, TargetEncoder, Core V4</td></tr>\n",
       "<tr><td>Python_version:</td>\n",
       "<td>3.8.0 final</td></tr></table></div>"
      ],
      "text/plain": [
       "--------------------------  ---------------------------------------------------------\n",
       "H2O_cluster_uptime:         15 mins 36 secs\n",
       "H2O_cluster_timezone:       America/Chicago\n",
       "H2O_data_parsing_timezone:  UTC\n",
       "H2O_cluster_version:        3.30.0.7\n",
       "H2O_cluster_version_age:    14 days and 9 minutes\n",
       "H2O_cluster_name:           Administrator\n",
       "H2O_cluster_total_nodes:    1\n",
       "H2O_cluster_free_memory:    3.475 Gb\n",
       "H2O_cluster_total_cores:    4\n",
       "H2O_cluster_allowed_cores:  4\n",
       "H2O_cluster_status:         locked, healthy\n",
       "H2O_connection_url:         http://127.0.0.1:54321\n",
       "H2O_connection_proxy:       {\"http\": null, \"https\": null}\n",
       "H2O_internal_security:      False\n",
       "H2O_API_Extensions:         Amazon S3, Algos, AutoML, Core V3, TargetEncoder, Core V4\n",
       "Python_version:             3.8.0 final\n",
       "--------------------------  ---------------------------------------------------------"
      ]
     },
     "metadata": {},
     "output_type": "display_data"
    }
   ],
   "source": [
    "h2o.init(url=url)"
   ]
  },
  {
   "cell_type": "markdown",
   "metadata": {},
   "source": [
    "# 2. ETL the data"
   ]
  },
  {
   "cell_type": "code",
   "execution_count": 26,
   "metadata": {},
   "outputs": [],
   "source": [
    "# Import libraries to manipulate data\n",
    "import pandas\n",
    "import numpy \n",
    "import matplotlib.pyplot as pyplot"
   ]
  },
  {
   "cell_type": "code",
   "execution_count": 28,
   "metadata": {},
   "outputs": [],
   "source": [
    "# Import the utilities module we wrote\n",
    "import importlib.util\n",
    "spec = importlib.util.spec_from_file_location(\"utilities\", \"../Utilities/utilities.py\")\n",
    "utilities = importlib.util.module_from_spec(spec)\n",
    "spec.loader.exec_module(utilities)"
   ]
  },
  {
   "cell_type": "code",
   "execution_count": 35,
   "metadata": {},
   "outputs": [
    {
     "name": "stdout",
     "output_type": "stream",
     "text": [
      "Parse progress: |█████████████████████████████████████████████████████████| 100%\n"
     ]
    },
    {
     "data": {
      "text/html": [
       "<table>\n",
       "<thead>\n",
       "<tr><th>ticker  </th><th>interval  </th><th>date               </th><th style=\"text-align: right;\">  open</th><th style=\"text-align: right;\">    high</th><th style=\"text-align: right;\">     low</th><th style=\"text-align: right;\">  close</th><th style=\"text-align: right;\">          volume</th></tr>\n",
       "</thead>\n",
       "<tbody>\n",
       "<tr><td>AABA    </td><td>D         </td><td>2019-07-01 00:00:00</td><td style=\"text-align: right;\"> 70.9 </td><td style=\"text-align: right;\"> 71.52  </td><td style=\"text-align: right;\"> 70.325 </td><td style=\"text-align: right;\">  70.57</td><td style=\"text-align: right;\">     1.02348e+07</td></tr>\n",
       "<tr><td>AAL     </td><td>D         </td><td>2019-07-01 00:00:00</td><td style=\"text-align: right;\"> 33.14</td><td style=\"text-align: right;\"> 33.6632</td><td style=\"text-align: right;\"> 32.5301</td><td style=\"text-align: right;\">  32.88</td><td style=\"text-align: right;\">     8.9951e+06 </td></tr>\n",
       "<tr><td>AAME    </td><td>D         </td><td>2019-07-01 00:00:00</td><td style=\"text-align: right;\">  2.43</td><td style=\"text-align: right;\">  2.43  </td><td style=\"text-align: right;\">  2.4   </td><td style=\"text-align: right;\">   2.4 </td><td style=\"text-align: right;\">   500          </td></tr>\n",
       "<tr><td>AAOI    </td><td>D         </td><td>2019-07-01 00:00:00</td><td style=\"text-align: right;\"> 10.7 </td><td style=\"text-align: right;\"> 10.89  </td><td style=\"text-align: right;\"> 10.01  </td><td style=\"text-align: right;\">  10.18</td><td style=\"text-align: right;\">883100          </td></tr>\n",
       "<tr><td>AAON    </td><td>D         </td><td>2019-07-01 00:00:00</td><td style=\"text-align: right;\"> 50.57</td><td style=\"text-align: right;\"> 50.985 </td><td style=\"text-align: right;\"> 48.56  </td><td style=\"text-align: right;\">  49.73</td><td style=\"text-align: right;\">180200          </td></tr>\n",
       "<tr><td>AAPL    </td><td>D         </td><td>2019-07-01 00:00:00</td><td style=\"text-align: right;\">203.17</td><td style=\"text-align: right;\">204.49  </td><td style=\"text-align: right;\">200.65  </td><td style=\"text-align: right;\"> 201.55</td><td style=\"text-align: right;\">     2.73167e+07</td></tr>\n",
       "<tr><td>AAWW    </td><td>D         </td><td>2019-07-01 00:00:00</td><td style=\"text-align: right;\"> 45.27</td><td style=\"text-align: right;\"> 45.985 </td><td style=\"text-align: right;\"> 43.81  </td><td style=\"text-align: right;\">  44.03</td><td style=\"text-align: right;\">348900          </td></tr>\n",
       "<tr><td>AAXJ    </td><td>D         </td><td>2019-07-01 00:00:00</td><td style=\"text-align: right;\"> 71.05</td><td style=\"text-align: right;\"> 71.225 </td><td style=\"text-align: right;\"> 70.48  </td><td style=\"text-align: right;\">  70.74</td><td style=\"text-align: right;\">830100          </td></tr>\n",
       "<tr><td>AAXN    </td><td>D         </td><td>2019-07-01 00:00:00</td><td style=\"text-align: right;\"> 65.22</td><td style=\"text-align: right;\"> 65.9   </td><td style=\"text-align: right;\"> 63.4   </td><td style=\"text-align: right;\">  64.55</td><td style=\"text-align: right;\">     1.3153e+06 </td></tr>\n",
       "<tr><td>ABCB    </td><td>D         </td><td>2019-07-01 00:00:00</td><td style=\"text-align: right;\"> 39.1 </td><td style=\"text-align: right;\"> 40.03  </td><td style=\"text-align: right;\"> 37.95  </td><td style=\"text-align: right;\">  39.8 </td><td style=\"text-align: right;\">     2.5894e+06 </td></tr>\n",
       "</tbody>\n",
       "</table>"
      ]
     },
     "metadata": {},
     "output_type": "display_data"
    },
    {
     "data": {
      "text/plain": []
     },
     "execution_count": 35,
     "metadata": {},
     "output_type": "execute_result"
    }
   ],
   "source": [
    "# Import the data\n",
    "# https://docs.h2o.ai/h2o/latest-stable/h2o-docs/data-munging/importing-data.html\n",
    "h2o_frame = h2o.import_file(path=\"../nasdaq_2019.csv\")\n",
    "h2o_frame"
   ]
  },
  {
   "cell_type": "code",
   "execution_count": 60,
   "metadata": {},
   "outputs": [
    {
     "data": {
      "text/plain": [
       "[158, 8]"
      ]
     },
     "execution_count": 60,
     "metadata": {},
     "output_type": "execute_result"
    }
   ],
   "source": [
    "# Filter the column based on the ticker\n",
    "mask = h2o_frame[\"ticker\"] == \"AABA\"\n",
    "h2o_frame = h2o_frame[mask, :]\n",
    "h2o_frame.dim"
   ]
  },
  {
   "cell_type": "code",
   "execution_count": 74,
   "metadata": {},
   "outputs": [
    {
     "data": {
      "text/plain": [
       "[6, 2]"
      ]
     },
     "execution_count": 74,
     "metadata": {},
     "output_type": "execute_result"
    }
   ],
   "source": [
    "# Filter the column based on the date\n",
    "import datetime\n",
    "mask = h2o_frame[\"date\"] > datetime.datetime(2019,8,1)\n",
    "h2o_frame = h2o_frame[mask, :]\n",
    "h2o_frame.dim"
   ]
  },
  {
   "cell_type": "code",
   "execution_count": 75,
   "metadata": {},
   "outputs": [
    {
     "data": {
      "text/html": [
       "<table>\n",
       "<thead>\n",
       "<tr><th>date               </th><th style=\"text-align: right;\">  open</th></tr>\n",
       "</thead>\n",
       "<tbody>\n",
       "<tr><td>2019-08-02 00:00:00</td><td style=\"text-align: right;\"> 69.8 </td></tr>\n",
       "<tr><td>2019-08-05 00:00:00</td><td style=\"text-align: right;\"> 69.5 </td></tr>\n",
       "<tr><td>2019-08-06 00:00:00</td><td style=\"text-align: right;\"> 69.85</td></tr>\n",
       "<tr><td>2019-08-07 00:00:00</td><td style=\"text-align: right;\"> 69.54</td></tr>\n",
       "<tr><td>2019-08-08 00:00:00</td><td style=\"text-align: right;\"> 70.15</td></tr>\n",
       "<tr><td>2019-08-09 00:00:00</td><td style=\"text-align: right;\"> 69.67</td></tr>\n",
       "</tbody>\n",
       "</table>"
      ]
     },
     "metadata": {},
     "output_type": "display_data"
    },
    {
     "data": {
      "text/plain": []
     },
     "execution_count": 75,
     "metadata": {},
     "output_type": "execute_result"
    }
   ],
   "source": [
    "h2o_frame"
   ]
  },
  {
   "cell_type": "code",
   "execution_count": 76,
   "metadata": {},
   "outputs": [
    {
     "data": {
      "text/html": [
       "<table>\n",
       "<thead>\n",
       "<tr><th>date               </th><th style=\"text-align: right;\">  open</th></tr>\n",
       "</thead>\n",
       "<tbody>\n",
       "<tr><td>2019-08-02 00:00:00</td><td style=\"text-align: right;\"> 69.8 </td></tr>\n",
       "<tr><td>2019-08-05 00:00:00</td><td style=\"text-align: right;\"> 69.5 </td></tr>\n",
       "<tr><td>2019-08-06 00:00:00</td><td style=\"text-align: right;\"> 69.85</td></tr>\n",
       "<tr><td>2019-08-07 00:00:00</td><td style=\"text-align: right;\"> 69.54</td></tr>\n",
       "<tr><td>2019-08-08 00:00:00</td><td style=\"text-align: right;\"> 70.15</td></tr>\n",
       "<tr><td>2019-08-09 00:00:00</td><td style=\"text-align: right;\"> 69.67</td></tr>\n",
       "</tbody>\n",
       "</table>"
      ]
     },
     "metadata": {},
     "output_type": "display_data"
    },
    {
     "data": {
      "text/plain": []
     },
     "execution_count": 76,
     "metadata": {},
     "output_type": "execute_result"
    }
   ],
   "source": [
    "# Select certain columns from the dataframe\n",
    "# https://docs.h2o.ai/h2o/latest-stable/h2o-docs/data-munging/slicing-columns.html\n",
    "h2o_frame = h2o_frame[:, [\"date\", \"open\"]]\n",
    "h2o_frame"
   ]
  },
  {
   "cell_type": "code",
   "execution_count": 77,
   "metadata": {},
   "outputs": [
    {
     "data": {
      "text/html": [
       "<div>\n",
       "<style scoped>\n",
       "    .dataframe tbody tr th:only-of-type {\n",
       "        vertical-align: middle;\n",
       "    }\n",
       "\n",
       "    .dataframe tbody tr th {\n",
       "        vertical-align: top;\n",
       "    }\n",
       "\n",
       "    .dataframe thead th {\n",
       "        text-align: right;\n",
       "    }\n",
       "</style>\n",
       "<table border=\"1\" class=\"dataframe\">\n",
       "  <thead>\n",
       "    <tr style=\"text-align: right;\">\n",
       "      <th></th>\n",
       "      <th>date</th>\n",
       "      <th>open</th>\n",
       "    </tr>\n",
       "  </thead>\n",
       "  <tbody>\n",
       "    <tr>\n",
       "      <th>0</th>\n",
       "      <td>1564704000000</td>\n",
       "      <td>69.80</td>\n",
       "    </tr>\n",
       "    <tr>\n",
       "      <th>1</th>\n",
       "      <td>1564963200000</td>\n",
       "      <td>69.50</td>\n",
       "    </tr>\n",
       "    <tr>\n",
       "      <th>2</th>\n",
       "      <td>1565049600000</td>\n",
       "      <td>69.85</td>\n",
       "    </tr>\n",
       "    <tr>\n",
       "      <th>3</th>\n",
       "      <td>1565136000000</td>\n",
       "      <td>69.54</td>\n",
       "    </tr>\n",
       "    <tr>\n",
       "      <th>4</th>\n",
       "      <td>1565222400000</td>\n",
       "      <td>70.15</td>\n",
       "    </tr>\n",
       "  </tbody>\n",
       "</table>\n",
       "</div>"
      ],
      "text/plain": [
       "            date   open\n",
       "0  1564704000000  69.80\n",
       "1  1564963200000  69.50\n",
       "2  1565049600000  69.85\n",
       "3  1565136000000  69.54\n",
       "4  1565222400000  70.15"
      ]
     },
     "execution_count": 77,
     "metadata": {},
     "output_type": "execute_result"
    }
   ],
   "source": [
    "pandas_frame = h2o.as_list(h2o_frame)\n",
    "pandas_frame.head()"
   ]
  },
  {
   "cell_type": "code",
   "execution_count": 78,
   "metadata": {},
   "outputs": [
    {
     "data": {
      "image/png": "[encoded data removed]",
      "text/plain": [
       "<Figure size 864x432 with 1 Axes>"
      ]
     },
     "metadata": {
      "needs_background": "light"
     },
     "output_type": "display_data"
    }
   ],
   "source": [
    "figure, axis = utilities.plot_dataframe(pandas_frame, \"date\", \"open\")"
   ]
  },
  {
   "cell_type": "markdown",
   "metadata": {},
   "source": [
    "# Generalize Linear Model\n",
    "\n",
    "Generalized Linear Models (GLM) estimate regression models for outcomes following exponential distributions. In addition to the Gaussian (i.e. normal) distribution, these include Poisson, binomial, and gamma distributions. Each serves a different purpose, and depending on distribution and link function choice, can be used either for prediction or classification.\n",
    "\n",
    "The GLM suite includes:\n",
    "- Gaussian regression\n",
    "- Poisson regression\n",
    "- Binomial regression (classification)\n",
    "- Fractional binomial regression\n",
    "- Quasibinomial regression\n",
    "- Multinomial classification\n",
    "- Gamma regression\n",
    "- Ordinal regression\n",
    "- Negative Binomial regression\n",
    "- Tweedie distribution\n",
    "\n",
    "## Classification and Regression\n",
    "GLM can produce two categories of models: classification and regression. Logistic regression is the GLM performing binary classification.\n",
    "\n",
    "https://docs.h2o.ai/h2o/latest-stable/h2o-docs/data-science/glm.html"
   ]
  },
  {
   "cell_type": "code",
   "execution_count": 12,
   "metadata": {},
   "outputs": [],
   "source": [
    "predictors = [\"date\", \"open\", \"high\", \"low\"]\n",
    "response = \"close\""
   ]
  },
  {
   "cell_type": "code",
   "execution_count": 18,
   "metadata": {},
   "outputs": [],
   "source": [
    "from h2o.estimators.glm import H2OGeneralizedLinearEstimator\n",
    "glm_model = H2OGeneralizedLinearEstimator(family= \"gaussian\",\n",
    "                                          lambda_ = 0,\n",
    "                                          compute_p_values = True)"
   ]
  },
  {
   "cell_type": "code",
   "execution_count": 19,
   "metadata": {},
   "outputs": [
    {
     "name": "stdout",
     "output_type": "stream",
     "text": [
      "glm Model Build progress: |███████████████████████████████████████████████| 100%\n"
     ]
    }
   ],
   "source": [
    "glm_model.train(predictors, response, training_frame=h2o_frame)"
   ]
  },
  {
   "cell_type": "code",
   "execution_count": 21,
   "metadata": {},
   "outputs": [
    {
     "data": {
      "text/plain": [
       "{'Intercept': 2.4762247988003807,\n",
       " 'date': -1.5800674525069808e-12,\n",
       " 'open': -0.3980924915250341,\n",
       " 'high': 0.5622297185186862,\n",
       " 'low': 0.8390946552483034}"
      ]
     },
     "execution_count": 21,
     "metadata": {},
     "output_type": "execute_result"
    }
   ],
   "source": [
    "# Coefficients that can be applied to the non-standardized data.\n",
    "glm_model.coef()"
   ]
  },
  {
   "cell_type": "code",
   "execution_count": 22,
   "metadata": {},
   "outputs": [
    {
     "data": {
      "text/plain": [
       "{'Intercept': 31.521921673273393,\n",
       " 'date': -0.008726704242020156,\n",
       " 'open': -27.828642252735296,\n",
       " 'high': 39.693132624116195,\n",
       " 'low': 58.10382616118259}"
      ]
     },
     "execution_count": 22,
     "metadata": {},
     "output_type": "execute_result"
    }
   ],
   "source": [
    "# Coefficients fitted on the standardized data (requires standardize = True, which is on by default)\n",
    "glm_model.coef_norm()"
   ]
  },
  {
   "cell_type": "code",
   "execution_count": 23,
   "metadata": {},
   "outputs": [
    {
     "name": "stdout",
     "output_type": "stream",
     "text": [
      "\n",
      "Coefficients: glm coefficients\n"
     ]
    },
    {
     "data": {
      "text/html": [
       "<div>\n",
       "<style scoped>\n",
       "    .dataframe tbody tr th:only-of-type {\n",
       "        vertical-align: middle;\n",
       "    }\n",
       "\n",
       "    .dataframe tbody tr th {\n",
       "        vertical-align: top;\n",
       "    }\n",
       "\n",
       "    .dataframe thead th {\n",
       "        text-align: right;\n",
       "    }\n",
       "</style>\n",
       "<table border=\"1\" class=\"dataframe\">\n",
       "  <thead>\n",
       "    <tr style=\"text-align: right;\">\n",
       "      <th></th>\n",
       "      <th>names</th>\n",
       "      <th>coefficients</th>\n",
       "      <th>std_error</th>\n",
       "      <th>z_value</th>\n",
       "      <th>p_value</th>\n",
       "      <th>standardized_coefficients</th>\n",
       "    </tr>\n",
       "  </thead>\n",
       "  <tbody>\n",
       "    <tr>\n",
       "      <th>0</th>\n",
       "      <td>Intercept</td>\n",
       "      <td>2.476225e+00</td>\n",
       "      <td>2.311220e-01</td>\n",
       "      <td>10.713929</td>\n",
       "      <td>8.813864e-27</td>\n",
       "      <td>31.521922</td>\n",
       "    </tr>\n",
       "    <tr>\n",
       "      <th>1</th>\n",
       "      <td>date</td>\n",
       "      <td>-1.580067e-12</td>\n",
       "      <td>1.485523e-13</td>\n",
       "      <td>-10.636439</td>\n",
       "      <td>2.029738e-26</td>\n",
       "      <td>-0.008727</td>\n",
       "    </tr>\n",
       "    <tr>\n",
       "      <th>2</th>\n",
       "      <td>open</td>\n",
       "      <td>-3.980925e-01</td>\n",
       "      <td>1.174590e-03</td>\n",
       "      <td>-338.920280</td>\n",
       "      <td>0.000000e+00</td>\n",
       "      <td>-27.828642</td>\n",
       "    </tr>\n",
       "    <tr>\n",
       "      <th>3</th>\n",
       "      <td>high</td>\n",
       "      <td>5.622297e-01</td>\n",
       "      <td>7.607088e-04</td>\n",
       "      <td>739.086633</td>\n",
       "      <td>0.000000e+00</td>\n",
       "      <td>39.693133</td>\n",
       "    </tr>\n",
       "    <tr>\n",
       "      <th>4</th>\n",
       "      <td>low</td>\n",
       "      <td>8.390947e-01</td>\n",
       "      <td>9.309314e-04</td>\n",
       "      <td>901.349582</td>\n",
       "      <td>0.000000e+00</td>\n",
       "      <td>58.103826</td>\n",
       "    </tr>\n",
       "  </tbody>\n",
       "</table>\n",
       "</div>"
      ],
      "text/plain": [
       "       names  coefficients     std_error     z_value       p_value  \\\n",
       "0  Intercept  2.476225e+00  2.311220e-01   10.713929  8.813864e-27   \n",
       "1       date -1.580067e-12  1.485523e-13  -10.636439  2.029738e-26   \n",
       "2       open -3.980925e-01  1.174590e-03 -338.920280  0.000000e+00   \n",
       "3       high  5.622297e-01  7.607088e-04  739.086633  0.000000e+00   \n",
       "4        low  8.390947e-01  9.309314e-04  901.349582  0.000000e+00   \n",
       "\n",
       "   standardized_coefficients  \n",
       "0                  31.521922  \n",
       "1                  -0.008727  \n",
       "2                 -27.828642  \n",
       "3                  39.693133  \n",
       "4                  58.103826  "
      ]
     },
     "metadata": {},
     "output_type": "display_data"
    },
    {
     "data": {
      "text/plain": []
     },
     "execution_count": 23,
     "metadata": {},
     "output_type": "execute_result"
    }
   ],
   "source": [
    "# Print the Coefficients table\n",
    "glm_model._model_json['output']['coefficients_table']"
   ]
  },
  {
   "cell_type": "code",
   "execution_count": 24,
   "metadata": {},
   "outputs": [
    {
     "data": {
      "image/png": "[encoded data removed]",
      "text/plain": [
       "<Figure size 1008x720 with 1 Axes>"
      ]
     },
     "metadata": {
      "needs_background": "light"
     },
     "output_type": "display_data"
    }
   ],
   "source": [
    "# Retrieve a graphical plot of the standardized coefficient magnitudes\n",
    "glm_model.std_coef_plot()"
   ]
  },
  {
   "cell_type": "code",
   "execution_count": 25,
   "metadata": {},
   "outputs": [
    {
     "data": {
      "image/png": "[encoded data removed]",
      "text/plain": [
       "<Figure size 432x288 with 1 Axes>"
      ]
     },
     "metadata": {
      "needs_background": "light"
     },
     "output_type": "display_data"
    }
   ],
   "source": [
    "glm_model.plot()"
   ]
  }
 ],
 "metadata": {
  "kernelspec": {
   "display_name": "Python 3",
   "language": "python",
   "name": "python3"
  },
  "language_info": {
   "codemirror_mode": {
    "name": "ipython",
    "version": 3
   },
   "file_extension": ".py",
   "mimetype": "text/x-python",
   "name": "python",
   "nbconvert_exporter": "python",
   "pygments_lexer": "ipython3",
   "version": "3.8.0"
  }
 },
 "nbformat": 4,
 "nbformat_minor": 4
}
