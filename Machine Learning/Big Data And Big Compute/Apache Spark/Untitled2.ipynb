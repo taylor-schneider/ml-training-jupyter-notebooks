{
 "cells": [
  {
   "cell_type": "code",
   "execution_count": 32,
   "id": "80342be5-e4bc-4072-aeb2-084c0a684900",
   "metadata": {},
   "outputs": [
    {
     "data": {
      "application/vnd.jupyter.widget-view+json": {
       "model_id": "e99ba6d449b54c6da33eb43b6cceb444",
       "version_major": 2,
       "version_minor": 0
      },
      "text/plain": [
       "  0%|          | 0/5 [00:00<?, ?it/s]"
      ]
     },
     "metadata": {},
     "output_type": "display_data"
    },
    {
     "name": "stdout",
     "output_type": "stream",
     "text": [
      "hello\n",
      "hello\n",
      "hello\n",
      "hello\n",
      "hello\n"
     ]
    },
    {
     "data": {
      "application/vnd.jupyter.widget-view+json": {
       "model_id": "aaacf4887de848b789dbb1c9fb8670fc",
       "version_major": 2,
       "version_minor": 0
      },
      "text/plain": [
       "  0%|          | 0/5 [00:00<?, ?it/s]"
      ]
     },
     "metadata": {},
     "output_type": "display_data"
    },
    {
     "data": {
      "text/plain": [
       "True"
      ]
     },
     "execution_count": 32,
     "metadata": {},
     "output_type": "execute_result"
    }
   ],
   "source": [
    "import time\n",
    "from tqdm.notebook import tqdm\n",
    "\n",
    "p_bar = tqdm(range(5))\n",
    "for number in p_bar:\n",
    "    print(\"hello\")\n",
    "    p_bar.set_description(f'Working on \"{number}\"')\n",
    "    time.sleep(0.5)\n",
    "\n",
    "    p_bar.\n",
    "p_bar.clear()\n",
    "p_bar.reset()\n",
    "p_bar.last_print_n = 2\n",
    "p_bar.n = 2\n",
    "p_bar.refresh()"
   ]
  },
  {
   "cell_type": "code",
   "execution_count": null,
   "id": "84683374-2fb1-4823-b3cb-aa6890a30da6",
   "metadata": {},
   "outputs": [],
   "source": []
  },
  {
   "cell_type": "code",
   "execution_count": 26,
   "id": "f70115b6-24dc-4a70-b940-23e5d8067518",
   "metadata": {},
   "outputs": [
    {
     "data": {
      "application/vnd.jupyter.widget-view+json": {
       "model_id": "0522de480ae54118a72badfbb205a010",
       "version_major": 2,
       "version_minor": 0
      },
      "text/plain": [
       "  0%|          | 0/5 [00:00<?, ?it/s]"
      ]
     },
     "metadata": {},
     "output_type": "display_data"
    },
    {
     "name": "stdout",
     "output_type": "stream",
     "text": [
      "hello\n",
      "hello\n",
      "hello\n",
      "hello\n",
      "hello\n"
     ]
    },
    {
     "data": {
      "text/plain": [
       "True"
      ]
     },
     "execution_count": 26,
     "metadata": {},
     "output_type": "execute_result"
    }
   ],
   "source": [
    "import time\n",
    "from tqdm.notebook import tqdm\n",
    "\n",
    "num_ops = 5\n",
    "p_bar = tqdm(range(num_ops))\n",
    "for i in range(num_ops):\n",
    "    print(\"hello\")\n",
    "    p_bar.set_description(f'Working on \"{number}\"')\n",
    "    p_bar.update()\n",
    "    time.sleep(0.5)\n",
    "\n",
    "p_bar.reset()\n",
    "p_bar.last_print_n = 2\n",
    "p_bar.n = 2\n",
    "p_bar.refresh()\n"
   ]
  },
  {
   "cell_type": "code",
   "execution_count": null,
   "id": "f0a3e3eb-d80a-4c32-9b0c-1b913c8fb02f",
   "metadata": {},
   "outputs": [],
   "source": []
  },
  {
   "cell_type": "code",
   "execution_count": null,
   "id": "e652f101-7f4a-4edb-a621-daf49aa91cf3",
   "metadata": {},
   "outputs": [],
   "source": []
  },
  {
   "cell_type": "code",
   "execution_count": 23,
   "id": "335d11a0-bf40-4621-be71-3381c2334131",
   "metadata": {},
   "outputs": [
    {
     "data": {
      "application/vnd.jupyter.widget-view+json": {
       "model_id": "a4b7dc4586a646568114786680607ac8",
       "version_major": 2,
       "version_minor": 0
      },
      "text/plain": [
       "  0%|          | 0/100 [00:00<?, ?it/s]"
      ]
     },
     "metadata": {},
     "output_type": "display_data"
    },
    {
     "data": {
      "text/plain": [
       "True"
      ]
     },
     "execution_count": 23,
     "metadata": {},
     "output_type": "execute_result"
    }
   ],
   "source": [
    "pbar = tqdm(range(100))\n",
    "pbar.update(100)\n",
    "pbar.refresh()\n",
    "time.sleep(2)\n",
    "pbar.n = 10 #check this\n",
    "pbar.refresh() #check this\n",
    "#time.sleep(2)\n",
    "#pbar.update(30)"
   ]
  },
  {
   "cell_type": "code",
   "execution_count": null,
   "id": "157196ac-5f40-4301-82af-4bf7c8ea952a",
   "metadata": {},
   "outputs": [],
   "source": []
  },
  {
   "cell_type": "code",
   "execution_count": 6,
   "id": "348f843b-1ae6-4560-aadb-31ec1c55cadd",
   "metadata": {},
   "outputs": [],
   "source": []
  },
  {
   "cell_type": "code",
   "execution_count": null,
   "id": "a26f6eae-a848-4f29-8df8-31f2c5971961",
   "metadata": {},
   "outputs": [],
   "source": []
  },
  {
   "cell_type": "code",
   "execution_count": null,
   "id": "d039676e-7ca4-4f1e-8f92-9f65f710ccfb",
   "metadata": {},
   "outputs": [],
   "source": []
  }
 ],
 "metadata": {
  "kernelspec": {
   "display_name": "Python 3 (ipykernel)",
   "language": "python",
   "name": "python3"
  },
  "language_info": {
   "codemirror_mode": {
    "name": "ipython",
    "version": 3
   },
   "file_extension": ".py",
   "mimetype": "text/x-python",
   "name": "python",
   "nbconvert_exporter": "python",
   "pygments_lexer": "ipython3",
   "version": "3.9.1"
  }
 },
 "nbformat": 4,
 "nbformat_minor": 5
}
