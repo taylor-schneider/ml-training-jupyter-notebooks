{
 "cells": [
  {
   "cell_type": "markdown",
   "id": "994e76a0-f503-4785-9b8c-ae0ff4ed4e93",
   "metadata": {},
   "source": [
    "# Overview\n",
    "Apache Spark is a distributed compute environment. One of the classic use cases for distributed compute is running Monte Carlo simulations.\n",
    "\n",
    "In this notebook we explore the common Hello, World! example you'll find in most spark tutorials. This example is commonly referred to as Spark Pi. It uses a Monte Carlo simulation to compute the value of pi."
   ]
  },
  {
   "cell_type": "markdown",
   "id": "ac4c3ab1-83a9-462b-b8aa-ed77525e086c",
   "metadata": {},
   "source": [
    "# 1. The Spark Pi Problem\n",
    "We are going to run the Spark Pi example which uses a \"Monte Carlo Method\" and the \"Circle Method\" to approximate the value of pi. \n",
    "In short; We will generate a large number or random points within a unit square and determine the ratio of the points within the unit circle; This will give us an approximation for the value of pi.\n",
    "\n",
    "Recall that the area of a circle is defined as:\n",
    "$$ A_c = \\pi r^2 $$\n",
    "Considering we are dealing with a unit circle, we have $r = 0.5$, and therfore\n",
    "\n",
    "$$ A_c = 0.5^2 \\pi  = 0.25\\pi = \\frac{\\pi}{4}$$\n",
    "Recall that the area of a square is defined as:\n",
    "$$ A_s = l^2 = 1^2 = 1 $$\n",
    "If we divide the area of the circle (smaller) by the area of the square (larger) we have the following equality:\n",
    "\n",
    "$$ \\frac{A_c}{A_s} = \\frac{\\pi / 4}{1} = \\frac{\\pi}{4}$$\n",
    "And therefore we can say:\n",
    "$$ \\pi = 4 \\frac{A_c}{A_s} $$\n",
    "With this equation we can derive the value of pi using the area of the circle and the square.\n",
    "\n",
    "\n",
    "We can approximate the ratio of these areas using a set of random numbers and a bit of logic.\n",
    "\n",
    "\n",
    "If we generate uniform random variables we can treat them as points on a discrete grid.\n",
    "The number of grid points that fall in the circle compared to the total number of points approximates the ratio of the area of the circle and the square respectively.\n",
    "\n",
    "$$ \\frac{num \\ points \\ in  \\ circle}{num \\ of \\ points} \\approx \\frac{A_c}{A_s} $$\n",
    "\n",
    "As the number of random points increases, we converge to the true areas and thus the true value of pi.\n",
    "\n",
    "<center><img src='images/Convergence of Monte Carlo.gif' width=\"300px\"/></center>\n",
    "\n",
    "We can determine which poitns are inside the circle vs the ones that are not by using the Pythagorean Theorem.\n",
    "Given a triangle, we can determine the length of a side if we know the length of the other two sides.\n",
    "$$ A^2 + B^2 = C^2 $$\n",
    "\n",
    "$$ C = \\sqrt{A^2 + B^2} $$\n",
    "If we compare the hypotinuse with the radius of a circle we will be able to determine whether or not a point is within a circle or not\n",
    "\n",
    "<center><img src='images/Circle Method Pythagorean Diameter.png' width=\"300px\"/></center>\n",
    "\n",
    "The criteria for being inside the circle thus becomes:\n",
    "\n",
    "$$ r \\le \\sqrt{X^2 + Y^2} $$\n",
    "\n",
    "Because we are dealing with a unit circle, $r = 1; \\sqrt{1} = 1$ , thus we can also say:\n",
    "\n",
    "$$ r \\le X^2 + Y^2 $$"
   ]
  },
  {
   "cell_type": "markdown",
   "id": "5617bc68-3a14-4b3f-8b8c-35c9b72fcfb9",
   "metadata": {},
   "source": [
    "# 2. The Spark Pi Code\n",
    "First we create the SparkContext"
   ]
  },
  {
   "cell_type": "code",
   "execution_count": 3,
   "id": "da07c217-3219-4a90-a821-a677f5fed635",
   "metadata": {},
   "outputs": [],
   "source": [
    "from spark_helper import create_spark_context\n",
    "spark_app_name = \"spark-jupyter-win\"\n",
    "docker_image = \"tschneider/pyspark:v5\"\n",
    "k8_master_ip = \"15.4.7.11\"\n",
    "sc = create_spark_context(spark_app_name, docker_image, k8_master_ip)"
   ]
  },
  {
   "cell_type": "markdown",
   "id": "facf7e86-5767-4972-9b1c-ee63a07781e0",
   "metadata": {},
   "source": [
    "Then we define a function to run the monte carlo and submit code to the spark cluster"
   ]
  },
  {
   "cell_type": "code",
   "execution_count": 4,
   "id": "2f41606b-7fe5-4e39-9e8e-9ecfddf418d1",
   "metadata": {
    "tags": []
   },
   "outputs": [
    {
     "name": "stdout",
     "output_type": "stream",
     "text": [
      "3.1808\n"
     ]
    }
   ],
   "source": [
    "# Define a function to generate a pair or random numbers and determine whether they corespond to a point within a circle\n",
    "import random\n",
    "\n",
    "def monte_carlo_trial(var):\n",
    "    # Generate random variables for x and y\n",
    "    x, y = random.random(), random.random()\n",
    "    # Calculate whether or not the point is inside the circle\n",
    "    inside_circle =  x*x + y*y < 1\n",
    "    # Return the value\n",
    "    return inside_circle\n",
    "\n",
    "# Set the number of trials for the monte carlo simulation\n",
    "number_of_trials = 10000\n",
    "\n",
    "# Use the SparkContext to apply the monte carlo trials in parrallel and count the positive results\n",
    "count = sc.parallelize(range(0, number_of_trials)).filter(monte_carlo_trial).count()\n",
    "\n",
    "# Compute the value of pi based on the information from the monte carlo simulation\n",
    "pi = 4 * count / number_of_trials\n",
    "\n",
    "# Print the value of pi\n",
    "print(pi)"
   ]
  },
  {
   "cell_type": "code",
   "execution_count": 6,
   "id": "766b121d-176f-4269-9bb2-c1aac57ce266",
   "metadata": {},
   "outputs": [],
   "source": [
    "# Cleanup\n",
    "sc.stop()"
   ]
  }
 ],
 "metadata": {
  "kernelspec": {
   "display_name": "Python 3",
   "language": "python",
   "name": "python3"
  },
  "language_info": {
   "codemirror_mode": {
    "name": "ipython",
    "version": 3
   },
   "file_extension": ".py",
   "mimetype": "text/x-python",
   "name": "python",
   "nbconvert_exporter": "python",
   "pygments_lexer": "ipython3",
   "version": "3.6.8"
  }
 },
 "nbformat": 4,
 "nbformat_minor": 5
}
