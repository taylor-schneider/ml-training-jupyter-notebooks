{
 "cells": [
  {
   "cell_type": "markdown",
   "id": "96acd7af-a813-43c8-94e2-7ef46d52696e",
   "metadata": {},
   "source": [
    "# Overview\n",
    "\n",
    "In several misleading databricks articles [(example)](https://docs.databricks.com/applications/machine-learning/automl-hyperparam-tuning/hyperopt-spark-mlflow-integration.html) I have seen claims or implications that databricks or hyperopt has some sort of unique integration with mlflow such that a user is able to log trials and artifacts to the mlflow tracking server without explicity making calls to it.\n",
    "\n",
    "This is IMHO misleading for several reasons. \n",
    "- The MLFlow tracking server provides a feature called automatic logging. In a nutshell, a user calls *mlflow.autolog()* before the training code which allows you to log metrics, parameters, and models without the need for explicit log statements for supported libraries. The documentation can be found [here](https://mlflow.org/docs/latest/tracking.html#automatic-logging). \n",
    "- Databricks has offered a commercial product called [autologging](https://docs.databricks.com/applications/mlflow/databricks-autologging.html) which is based on the out-of-the-box automatic logging feature. The difference is that the autologging functionality is tailored to be a no-code solution within the databricks ecosystem. Ie. They dotted all the T's and crossed all the I's so that the connections all work etc.\n",
    "- The \"integration\" being pitched is more between databricks notebooks and datbricks mlflow than hyperopt and FOSS mlflow.\n",
    "\n",
    "End Rant"
   ]
  },
  {
   "cell_type": "markdown",
   "id": "da9dc06b-3ab8-4dcf-a291-3ee4c9f0c823",
   "metadata": {},
   "source": [
    "For more information on MLFlow see the [corresponding notebooks](../../MLOps/MLFlow/README.md)"
   ]
  }
 ],
 "metadata": {
  "kernelspec": {
   "display_name": "Python 3",
   "language": "python",
   "name": "python3"
  },
  "language_info": {
   "codemirror_mode": {
    "name": "ipython",
    "version": 3
   },
   "file_extension": ".py",
   "mimetype": "text/x-python",
   "name": "python",
   "nbconvert_exporter": "python",
   "pygments_lexer": "ipython3",
   "version": "3.6.8"
  }
 },
 "nbformat": 4,
 "nbformat_minor": 5
}
