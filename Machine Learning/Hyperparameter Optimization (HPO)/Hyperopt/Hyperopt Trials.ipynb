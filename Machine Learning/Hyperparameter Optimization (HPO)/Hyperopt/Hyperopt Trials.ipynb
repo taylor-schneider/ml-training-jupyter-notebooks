{
 "cells": [
  {
   "cell_type": "markdown",
   "id": "1ec1342b-86a1-44b2-a1e8-877328153d06",
   "metadata": {},
   "source": [
    "# Overview\n",
    "\n",
    "Philosophically, A **Trial** is sample take from the Search Space. Said another way, a Trial is an observation of one of the possible scenarios defined as part of the Search Space.\n",
    "\n",
    "Under the hood, the Trials object is what controls how the Hyperopt framework iterates over the Search Space and selects the next set of hyperparameters and produces the next Trial object.\n",
    "\n",
    "There are three types of Trial objects: Trials, MongoTrials, SparkTrials. We will look at the \"base\" Trials object here. We will look at the SparkTrials object when we cover Apache Spark in the Notebook regarding [Spark Integration](Hyperopt%20Spark%20Integration.ipynb). We will not look at the MondoTrials object as I am not yet (and at this point do not plan to start) using MongoDB."
   ]
  },
  {
   "cell_type": "code",
   "execution_count": 50,
   "id": "ef9c60f1-49c2-42c5-b214-04e892db8c66",
   "metadata": {},
   "outputs": [],
   "source": [
    "import hyperopt\n",
    "\n",
    "# Define the search space\n",
    "space = hyperopt.hp.choice('my_choice', [\n",
    "    {\n",
    "        'name': 'model a',\n",
    "        'x': hyperopt.hp.choice('model_a_x', [1,2,4,6,8])\n",
    "    },\n",
    "    {\n",
    "        'name': 'model b',\n",
    "        'x': hyperopt.hp.choice('model_b_x', [0,1,2,3,4]),\n",
    "        'y': hyperopt.hp.choice('model_b_y', [0,3,5,7,9])        \n",
    "    }\n",
    "])"
   ]
  },
  {
   "cell_type": "markdown",
   "id": "839e28ff-ca62-467b-824e-4dee312a3bf1",
   "metadata": {},
   "source": [
    "We can have a look at a single sample"
   ]
  },
  {
   "cell_type": "code",
   "execution_count": 51,
   "id": "307a1aa8-7369-4656-8469-95ad6372d301",
   "metadata": {},
   "outputs": [
    {
     "name": "stdout",
     "output_type": "stream",
     "text": [
      "{'name': 'model a', 'x': 8}\n"
     ]
    }
   ],
   "source": [
    "print(hyperopt.pyll.stochastic.sample(space))"
   ]
  },
  {
   "cell_type": "markdown",
   "id": "335db2e1-0ebb-4bea-be73-db94312f35b9",
   "metadata": {},
   "source": [
    "We can define a loss function and search through our parameter space for the optimal value using the hyperopt framework:"
   ]
  },
  {
   "cell_type": "code",
   "execution_count": 52,
   "id": "6941b1ec-4b0b-483f-ade2-8066cc1da49e",
   "metadata": {},
   "outputs": [
    {
     "name": "stdout",
     "output_type": "stream",
     "text": [
      "100%|██████████| 10/10 [00:00<00:00, 114.13trial/s, best loss: 1.0]\n",
      "=========================\n",
      "Optimal args index:\n",
      "{'model_a_x': 0, 'my_choice': 0}\n",
      "Best hyperparameters:\n",
      "{'name': 'model a', 'x': 1}\n"
     ]
    }
   ],
   "source": [
    "import hyperopt\n",
    "import numpy\n",
    "\n",
    "# Define the objective function\n",
    "def objective(args):\n",
    "    x = args['x']\n",
    "    y = args['y'] if 'y' in args.keys() else 0\n",
    "    return x + y\n",
    "\n",
    "# Define an object to keep track of the \"trials\" in the search path\n",
    "trials = hyperopt.Trials()\n",
    "    \n",
    "# Optimize the search space and retrieve the index which points to the best points in the search space\n",
    "optimal_args_index = hyperopt.fmin(objective, space, algo=hyperopt.tpe.suggest, max_evals=10, trials=trials, rstate=numpy.random.default_rng(42))\n",
    "    \n",
    "# Retrieve the resulting hyperparameter set from the search space using the index\n",
    "optimal_hyperparams = hyperopt.space_eval(space, optimal_args_index)\n",
    "\n",
    "# Print the results\n",
    "print(\"=========================\")\n",
    "print(\"Optimal args index:\")\n",
    "print(optimal_args_index)\n",
    "print(\"Best hyperparameters:\")\n",
    "print(optimal_hyperparams)"
   ]
  },
  {
   "cell_type": "markdown",
   "id": "7406ea6e-7161-4148-a5d9-206ae8e44b73",
   "metadata": {},
   "source": [
    "We can see that \"model a\" was selected as it yields the minimal results from the objective function.\n",
    "\n",
    "**Note:** We see that the search algorithm has a lot of repetitions... This is because it the only boundary on the search is the max_evals parameter. We will look at optimizing the search algorithm later on. For example when we utilize the loss_threshold to allow for early termination."
   ]
  },
  {
   "cell_type": "markdown",
   "id": "4b12d795-dd3f-48ba-8369-8f590a04f55f",
   "metadata": {},
   "source": [
    "Having a look at the trials opject we inspect it's type and the useful properties."
   ]
  },
  {
   "cell_type": "code",
   "execution_count": 4,
   "id": "05dbbebf-0999-468a-8b58-cc99f1ae33bd",
   "metadata": {},
   "outputs": [
    {
     "data": {
      "text/plain": [
       "<hyperopt.base.Trials at 0x7f31a76a1d30>"
      ]
     },
     "execution_count": 4,
     "metadata": {},
     "output_type": "execute_result"
    }
   ],
   "source": [
    "trials"
   ]
  },
  {
   "cell_type": "code",
   "execution_count": 15,
   "id": "564a84c2-14c2-43c2-9b90-cbe6931bd48a",
   "metadata": {},
   "outputs": [
    {
     "data": {
      "text/plain": [
       "['__class__',\n",
       " '__delattr__',\n",
       " '__dict__',\n",
       " '__dir__',\n",
       " '__doc__',\n",
       " '__eq__',\n",
       " '__format__',\n",
       " '__ge__',\n",
       " '__getattribute__',\n",
       " '__getitem__',\n",
       " '__gt__',\n",
       " '__hash__',\n",
       " '__init__',\n",
       " '__init_subclass__',\n",
       " '__iter__',\n",
       " '__le__',\n",
       " '__len__',\n",
       " '__lt__',\n",
       " '__module__',\n",
       " '__ne__',\n",
       " '__new__',\n",
       " '__reduce__',\n",
       " '__reduce_ex__',\n",
       " '__repr__',\n",
       " '__setattr__',\n",
       " '__sizeof__',\n",
       " '__str__',\n",
       " '__subclasshook__',\n",
       " '__weakref__',\n",
       " '_dynamic_trials',\n",
       " '_exp_key',\n",
       " '_ids',\n",
       " '_insert_trial_docs',\n",
       " '_trials',\n",
       " 'aname',\n",
       " 'argmin',\n",
       " 'assert_valid_trial',\n",
       " 'asynchronous',\n",
       " 'attachments',\n",
       " 'average_best_error',\n",
       " 'best_trial',\n",
       " 'count_by_state_synced',\n",
       " 'count_by_state_unsynced',\n",
       " 'delete_all',\n",
       " 'fmin',\n",
       " 'idxs',\n",
       " 'idxs_vals',\n",
       " 'insert_trial_doc',\n",
       " 'insert_trial_docs',\n",
       " 'losses',\n",
       " 'miscs',\n",
       " 'new_trial_docs',\n",
       " 'new_trial_ids',\n",
       " 'refresh',\n",
       " 'results',\n",
       " 'source_trial_docs',\n",
       " 'specs',\n",
       " 'statuses',\n",
       " 'tids',\n",
       " 'trial_attachments',\n",
       " 'trials',\n",
       " 'vals',\n",
       " 'view']"
      ]
     },
     "execution_count": 15,
     "metadata": {},
     "output_type": "execute_result"
    }
   ],
   "source": [
    "dir(trials)"
   ]
  },
  {
   "cell_type": "markdown",
   "id": "4dde59ae-21a3-486b-999d-ad219d373957",
   "metadata": {},
   "source": [
    "# Common Analysis Tasks\n",
    "In the next section we look at code examples of extracting valuable information from the Trials object."
   ]
  },
  {
   "cell_type": "markdown",
   "id": "896901c5-17f6-49f7-87dc-82cf74bc9f26",
   "metadata": {},
   "source": [
    "## Get Trial Metadata"
   ]
  },
  {
   "cell_type": "code",
   "execution_count": 53,
   "id": "419785e9-6538-408f-8953-41f5879b599d",
   "metadata": {},
   "outputs": [
    {
     "data": {
      "text/plain": [
       "[{'state': 2,\n",
       "  'tid': 0,\n",
       "  'spec': None,\n",
       "  'result': {'loss': 8.0, 'status': 'ok'},\n",
       "  'misc': {'tid': 0,\n",
       "   'cmd': ('domain_attachment', 'FMinIter_Domain'),\n",
       "   'workdir': None,\n",
       "   'idxs': {'model_a_x': [0],\n",
       "    'model_b_x': [],\n",
       "    'model_b_y': [],\n",
       "    'my_choice': [0]},\n",
       "   'vals': {'model_a_x': [4],\n",
       "    'model_b_x': [],\n",
       "    'model_b_y': [],\n",
       "    'my_choice': [0]}},\n",
       "  'exp_key': None,\n",
       "  'owner': None,\n",
       "  'version': 0,\n",
       "  'book_time': datetime.datetime(2021, 12, 16, 21, 43, 51, 150000),\n",
       "  'refresh_time': datetime.datetime(2021, 12, 16, 21, 43, 51, 151000)},\n",
       " {'state': 2,\n",
       "  'tid': 1,\n",
       "  'spec': None,\n",
       "  'result': {'loss': 4.0, 'status': 'ok'},\n",
       "  'misc': {'tid': 1,\n",
       "   'cmd': ('domain_attachment', 'FMinIter_Domain'),\n",
       "   'workdir': None,\n",
       "   'idxs': {'model_a_x': [],\n",
       "    'model_b_x': [1],\n",
       "    'model_b_y': [1],\n",
       "    'my_choice': [1]},\n",
       "   'vals': {'model_a_x': [],\n",
       "    'model_b_x': [1],\n",
       "    'model_b_y': [1],\n",
       "    'my_choice': [1]}},\n",
       "  'exp_key': None,\n",
       "  'owner': None,\n",
       "  'version': 0,\n",
       "  'book_time': datetime.datetime(2021, 12, 16, 21, 43, 51, 160000),\n",
       "  'refresh_time': datetime.datetime(2021, 12, 16, 21, 43, 51, 160000)}]"
      ]
     },
     "execution_count": 53,
     "metadata": {},
     "output_type": "execute_result"
    }
   ],
   "source": [
    "trials.trials[0:2]"
   ]
  },
  {
   "cell_type": "markdown",
   "id": "ca8f7298-f078-4873-b554-e058eb998239",
   "metadata": {},
   "source": [
    "## Get Best Trial Metadata\n",
    "We can see the best trial:"
   ]
  },
  {
   "cell_type": "code",
   "execution_count": 54,
   "id": "9542c1e8-5b5b-4013-a8ce-3d254c5875eb",
   "metadata": {},
   "outputs": [
    {
     "data": {
      "text/plain": [
       "{'state': 2,\n",
       " 'tid': 2,\n",
       " 'spec': None,\n",
       " 'result': {'loss': 1.0, 'status': 'ok'},\n",
       " 'misc': {'tid': 2,\n",
       "  'cmd': ('domain_attachment', 'FMinIter_Domain'),\n",
       "  'workdir': None,\n",
       "  'idxs': {'model_a_x': [2],\n",
       "   'model_b_x': [],\n",
       "   'model_b_y': [],\n",
       "   'my_choice': [2]},\n",
       "  'vals': {'model_a_x': [0],\n",
       "   'model_b_x': [],\n",
       "   'model_b_y': [],\n",
       "   'my_choice': [0]}},\n",
       " 'exp_key': None,\n",
       " 'owner': None,\n",
       " 'version': 0,\n",
       " 'book_time': datetime.datetime(2021, 12, 16, 21, 43, 51, 166000),\n",
       " 'refresh_time': datetime.datetime(2021, 12, 16, 21, 43, 51, 166000)}"
      ]
     },
     "execution_count": 54,
     "metadata": {},
     "output_type": "execute_result"
    }
   ],
   "source": [
    "trials.best_trial"
   ]
  },
  {
   "cell_type": "markdown",
   "id": "1aa0c2e4-383a-47c8-bcd5-a93c0faf0217",
   "metadata": {},
   "source": [
    "## Get Trial ID"
   ]
  },
  {
   "cell_type": "code",
   "execution_count": 55,
   "id": "382a1d34-280f-4e4e-9526-2ea9cca6b1a5",
   "metadata": {},
   "outputs": [
    {
     "data": {
      "text/plain": [
       "0"
      ]
     },
     "execution_count": 55,
     "metadata": {},
     "output_type": "execute_result"
    }
   ],
   "source": [
    "trials.trials[0][\"tid\"]"
   ]
  },
  {
   "cell_type": "markdown",
   "id": "c46d56d6-6065-4865-a2f6-bf11f7ba484e",
   "metadata": {},
   "source": [
    "## Get Hyperparameters For Best Trial"
   ]
  },
  {
   "cell_type": "code",
   "execution_count": 56,
   "id": "64c510b9-e0b9-4a84-a2f2-46a0fce30ebb",
   "metadata": {},
   "outputs": [
    {
     "data": {
      "text/plain": [
       "{'model_a_x': 0, 'my_choice': 0}"
      ]
     },
     "execution_count": 56,
     "metadata": {},
     "output_type": "execute_result"
    }
   ],
   "source": [
    "trials.argmin"
   ]
  },
  {
   "cell_type": "code",
   "execution_count": 57,
   "id": "8f72d001-8c1c-4a18-8d73-362041eeb711",
   "metadata": {},
   "outputs": [
    {
     "data": {
      "text/plain": [
       "{'name': 'model a', 'x': 1}"
      ]
     },
     "execution_count": 57,
     "metadata": {},
     "output_type": "execute_result"
    }
   ],
   "source": [
    "hyperopt.space_eval(space, trials.argmin)"
   ]
  },
  {
   "cell_type": "markdown",
   "id": "4a7607fd-6116-4b48-bfa9-167ff6069058",
   "metadata": {},
   "source": [
    "## Get Hyperparameters For Arbitrary Trial"
   ]
  },
  {
   "cell_type": "code",
   "execution_count": 58,
   "id": "540aaf0b-52e8-4ffd-9a11-3786ae86ec9b",
   "metadata": {},
   "outputs": [
    {
     "data": {
      "text/plain": [
       "{'model_a_x': [0], 'model_b_x': [], 'model_b_y': [], 'my_choice': [0]}"
      ]
     },
     "execution_count": 58,
     "metadata": {},
     "output_type": "execute_result"
    }
   ],
   "source": [
    "trials.trials[2][\"misc\"][\"vals\"]"
   ]
  },
  {
   "cell_type": "markdown",
   "id": "1d726993-5987-4d70-b583-84aed964b534",
   "metadata": {},
   "source": [
    "We need to convert this value into another form. The [source code](https://github.com/hyperopt/hyperopt/blob/0b49cde7c0860542b17e8f6102dcf46af4739d23/hyperopt/base.py#L619) for doing this is in the *argmin* property on the Trials object"
   ]
  },
  {
   "cell_type": "code",
   "execution_count": 67,
   "id": "5e0a6d6b-dca2-4bf7-9914-17f796216a49",
   "metadata": {},
   "outputs": [
    {
     "data": {
      "text/plain": [
       "{'model_a_x': 0, 'my_choice': 0}"
      ]
     },
     "execution_count": 67,
     "metadata": {},
     "output_type": "execute_result"
    }
   ],
   "source": [
    "vals = trials.trials[2][\"misc\"][\"vals\"]\n",
    "\n",
    "def correct_vals_object_format(vals):\n",
    "    rval = {}\n",
    "    for k, v in list(vals.items()):\n",
    "        if v:\n",
    "            rval[k] = v[0]\n",
    "    return rval\n",
    "        \n",
    "corrected_vals = correct_vals_object_format(vals)\n",
    "corrected_vals"
   ]
  },
  {
   "cell_type": "markdown",
   "id": "fc3fb4ca-91ab-4b17-af12-ab788a1e7302",
   "metadata": {},
   "source": [
    "Once converted, we can use the same *space_eval* function to derive the hyperparameters."
   ]
  },
  {
   "cell_type": "code",
   "execution_count": 68,
   "id": "820a6044-67b3-4986-878f-6ca3b68361a1",
   "metadata": {},
   "outputs": [
    {
     "data": {
      "text/plain": [
       "{'name': 'model a', 'x': 1}"
      ]
     },
     "execution_count": 68,
     "metadata": {},
     "output_type": "execute_result"
    }
   ],
   "source": [
    "hyperopt.space_eval(space, corrected_vals)"
   ]
  },
  {
   "cell_type": "markdown",
   "id": "538681a2-8eaa-43ec-8f36-514bcdf5d19a",
   "metadata": {},
   "source": [
    "## Get Scores For A Trial"
   ]
  },
  {
   "cell_type": "code",
   "execution_count": 73,
   "id": "131cfbfd-d74c-421a-b383-dd1d5cb48e0c",
   "metadata": {},
   "outputs": [
    {
     "data": {
      "text/plain": [
       "{'loss': 8.0, 'status': 'ok'}"
      ]
     },
     "execution_count": 73,
     "metadata": {},
     "output_type": "execute_result"
    }
   ],
   "source": [
    "trials.results[0]"
   ]
  }
 ],
 "metadata": {
  "kernelspec": {
   "display_name": "Python 3",
   "language": "python",
   "name": "python3"
  },
  "language_info": {
   "codemirror_mode": {
    "name": "ipython",
    "version": 3
   },
   "file_extension": ".py",
   "mimetype": "text/x-python",
   "name": "python",
   "nbconvert_exporter": "python",
   "pygments_lexer": "ipython3",
   "version": "3.6.8"
  }
 },
 "nbformat": 4,
 "nbformat_minor": 5
}
