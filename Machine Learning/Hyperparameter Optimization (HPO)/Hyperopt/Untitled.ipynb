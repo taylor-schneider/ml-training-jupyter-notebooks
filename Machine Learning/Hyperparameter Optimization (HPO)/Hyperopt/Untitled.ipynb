{
 "cells": [
  {
   "cell_type": "code",
   "execution_count": 1,
   "id": "74d934a8-133f-4756-a9fa-35bdecab2484",
   "metadata": {},
   "outputs": [],
   "source": [
    "class my_class:\n",
    "    \n",
    "    x = 5"
   ]
  },
  {
   "cell_type": "code",
   "execution_count": null,
   "id": "ecd0b370-d85c-47cf-a67b-f73a5e68c9f4",
   "metadata": {},
   "outputs": [],
   "source": [
    "o = my_class"
   ]
  },
  {
   "cell_type": "code",
   "execution_count": null,
   "id": "c3ae5a5e-7d93-49f9-a1f2-94acd1325b72",
   "metadata": {},
   "outputs": [],
   "source": []
  },
  {
   "cell_type": "code",
   "execution_count": null,
   "id": "7108595d-4202-415e-84f6-f35e50334538",
   "metadata": {},
   "outputs": [],
   "source": []
  },
  {
   "cell_type": "code",
   "execution_count": null,
   "id": "36511c46-77f0-415a-8717-721ccbca48cc",
   "metadata": {},
   "outputs": [],
   "source": []
  }
 ],
 "metadata": {
  "kernelspec": {
   "display_name": "Python 3",
   "language": "python",
   "name": "python3"
  },
  "language_info": {
   "codemirror_mode": {
    "name": "ipython",
    "version": 3
   },
   "file_extension": ".py",
   "mimetype": "text/x-python",
   "name": "python",
   "nbconvert_exporter": "python",
   "pygments_lexer": "ipython3",
   "version": "3.6.8"
  }
 },
 "nbformat": 4,
 "nbformat_minor": 5
}
