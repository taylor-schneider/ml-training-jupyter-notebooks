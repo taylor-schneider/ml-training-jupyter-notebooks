{
 "cells": [
  {
   "cell_type": "markdown",
   "metadata": {},
   "source": [
    "# Agenda\n",
    "In this notebook we will explore the K-Means algorithm. We will get some basic intuition, we will examine our sample data set, and then we will get acquainted with the scikitlearn implimentation.\n",
    "1. Introduction to The K-Means Algorithm\n",
    "2. Visual Inspection Of Our Sample Data\n",
    "3. Explore The Scikit-Learn Implimentation\n",
    "4. Colors and Matplotlib Scatter Plots\n",
    "5. Hyperparameter tuning"
   ]
  },
  {
   "cell_type": "markdown",
   "metadata": {},
   "source": [
    "# 1. Introduction To The K-Means Algorithm"
   ]
  },
  {
   "cell_type": "markdown",
   "metadata": {},
   "source": [
    "## 1.1. K-Means Overview\n",
    "**Unsupervised Learning** is a subfield of machine learning that focuses on recognizing and discovering patterns within a given data set without being explicitly given any information about the pattern or underlying relationshpis.\n",
    "\n",
    "A subfield of unsupervised learning is **Cluster Analysis**. Cluster analysis is concerned with categorizing data points into groups based on similarity. In other words, if there are two clusters of data within our universe, one would expect there to be a measurable difference between the average point of cluster A compared to cluster B.\n",
    "\n",
    "The **K-Means algorithm** is a specific clustering algorithm which this workbook focuses on. The basic premise of the model is that a user will specify a number of clusters and the algorithm divide our data the best way possible. The algorithm gets its name because the user specifies K cluster in which to allocate data point and the algorithm fits K centroids to the data to establish a central point for the cluster. (more on this in 3.3)."
   ]
  },
  {
   "cell_type": "markdown",
   "metadata": {},
   "source": [
    "## 1.2. History of K-Means\n",
    "\n",
    "The term \"k-means\" was first used by James MacQueen in 1967, though the idea goes back to Hugo Steinhaus in 1956. The standard algorithm was first proposed by Stuart Lloyd of Bell Labs in 1957 although it was not published as a journal article until 1982. In 1965, Edward W. Forgy published essentially the same method, which is why it is sometimes referred to as the Lloyd–Forgy algorithm.\n",
    "\n",
    "https://en.wikipedia.org/wiki/K-means_clustering#History"
   ]
  },
  {
   "cell_type": "markdown",
   "metadata": {},
   "source": [
    "## 1.3. The Basic Algorithm\n",
    "\n",
    "The **centroid**, or central point of the cluster, is such that it provides the minimal aggregate Euclidian distance between it and the rest of the points in the cluster. Each cluster will have a centroid. The centroid being an \"average\" representaion of the poins within the cluster is where the term K-means comes from. K clusters means K centroids (ie K means).\n",
    "\n",
    "Finding the centroid is reduced to an optimization problem which can be solved by numerical approximation. In the case of K-Means, we will setup a recursive convergent function and itertate through the values of the function until we approach that convergent point within some acceptable level of error.\n",
    "\n",
    "The algorithm does not guarantee convergence to the global optimum. The result may depend on the initial clusters. As the algorithm is usually fast, it is common to run it multiple times with different starting conditions.\n",
    "\n",
    "To summarize, the algorithm breaks down into the following components: \n",
    "- An initialization step - We set the initial values of of centroids. This is the starting point from which we will iterate and optimize.\n",
    "- A measure of distance - The centroids and cluster membership are established based on a measure of distance. This is a quantitative explanation of how goo a centroid fits the cluster members\n",
    "- A convergent / optimizable function - In order to find the optimal point, one must exist. There are many numerical methods for finding an optimal point and there are many types of functions which express the optimal point. Typically, in the case of K-Means, our optimizable function is not known ahead of time and we will be using a \"search algorithm\" to iteratively (and sometimes recursively) search along a convergent path for an optimal point. This is why we will see a convergent function listed as a prerequisite.\n",
    "- A numerical method to find the convergent point\n",
    "\n",
    "\n",
    "The basic K-Means algorithm is as follows:\n",
    "1. Initialization - randomly select a group of K centroids for our K clusters\n",
    "2. Loop through the data points and assign them to a cluster\n",
    "    - The assignment is based on our measure of distance $D_i$ between the data point $x_i$ and the centroid $c_j$\n",
    "    - Mathematically this is represented as: $D_j := arg min \\lVert x_i - c_j \\lVert$\n",
    "    - Here we are using the L2 Norm as the measure of Euclidian Distance\n",
    "    - We assigne $x_i$ to the cluster $k_i$ based on the distance $D_j$ from the cluster's centroid $c_j$\n",
    "3. Loop through the clusters and recompute centroid\n",
    "    - The calculation is based on the mean of the data points within the cluster\n",
    "    - Mathematically this is represented as: $c_j := \\sum_i{x_i} $\n",
    "4. If none of the cluster assignments have changed we have converged and the algorithm is finished\n",
    "5. If we have not converged, go back to step 2\n",
    "\n",
    "\n",
    "We can see an example of the algorithm at work here:\n",
    "\n",
    "<img src='k-means_convergence.gif' style='display: block;max-width: 100%;height: auto;margin: auto;float: none!important;width:300px'>\n",
    "\n",
    "A nice youtube video can he found [here](https://youtu.be/_aWzGGNrcic)"
   ]
  },
  {
   "cell_type": "markdown",
   "metadata": {},
   "source": [
    "## 1.4. Additional thoughts\n",
    "- Are clusters uniformally distributed? No\n",
    "- Shortcomings: micky mouse diagram above: head and two ears... why are we having problems? Outliers throwing off fit... human to reclassify?\n",
    "- euclidian distance is huge importance. Nonlinear transformations will affect our results. Example: normalizing vs squaring a number"
   ]
  },
  {
   "cell_type": "markdown",
   "metadata": {},
   "source": [
    "## 1.5. Variations Of The Algorithm\n",
    "As mentioned earlier, the algorithm breaks down into several components which can be swapped out. There are a number of variations to the algorithm which consist of changing one or more of these parts. For example K-medians uses the median rather than the mean as the measure of distance. [Wikipedia](https://en.wikipedia.org/wiki/K-means_clustering#Variations) has a list of some of the alternatives.\n",
    "\n"
   ]
  },
  {
   "cell_type": "markdown",
   "metadata": {},
   "source": [
    "# 2. Examine Our Sample Data\n",
    "We will be working with a set of stock data from NASDAQ from an arbitrary day. We will be looking to see if there are any clusters among the data related to the open prices"
   ]
  },
  {
   "cell_type": "markdown",
   "metadata": {},
   "source": [
    "## 2.1. Load and configure libraries"
   ]
  },
  {
   "cell_type": "code",
   "execution_count": 1,
   "metadata": {},
   "outputs": [],
   "source": [
    "# Import libraries to manipulate data\n",
    "import pandas\n",
    "import numpy \n",
    "import scipy\n",
    "\n",
    "# Import library for visualizing data\n",
    "import matplotlib\n",
    "import matplotlib.pyplot as pyplot\n",
    "\n",
    "# Import the progress so we can display progress for long running calculations in real time\n",
    "import progressbar\n",
    "\n",
    "# Import webcolors to help us identify the colors being automatically assigned to our graphs\n",
    "import webcolors"
   ]
  },
  {
   "cell_type": "code",
   "execution_count": 2,
   "metadata": {},
   "outputs": [],
   "source": [
    "# Tell pandas to supress scientific notation and display decimals with 5 places\n",
    "pandas.set_option('display.float_format', lambda x: '%.5f' % x)\n",
    "\n",
    "# We can undo this operation with:\n",
    "#pandas.reset_option('display.float_format')"
   ]
  },
  {
   "cell_type": "markdown",
   "metadata": {},
   "source": [
    "# 2.2. Load Data"
   ]
  },
  {
   "cell_type": "markdown",
   "metadata": {},
   "source": [
    "Load our OHCLV data for the exchange into a dataframe"
   ]
  },
  {
   "cell_type": "code",
   "execution_count": 3,
   "metadata": {},
   "outputs": [],
   "source": [
    "# Import the utilities module we wrote\n",
    "import importlib.util\n",
    "spec = importlib.util.spec_from_file_location(\"utilities\", \"../Utilities/utilities.py\")\n",
    "utilities = importlib.util.module_from_spec(spec)\n",
    "spec.loader.exec_module(utilities)\n",
    "\n",
    "# Read the file into a dataframe\n",
    "file_path = \"../nasdaq_2019.csv\"\n",
    "converter_mapping = {\n",
    "    \"date\": utilities.convert_date_string_to_date\n",
    "}\n",
    "pandas_dataframe = pandas.read_csv(file_path, converters=converter_mapping)"
   ]
  },
  {
   "cell_type": "markdown",
   "metadata": {},
   "source": [
    "## 2.3 Transform our data\n",
    "We want to add some features to our data based on the open price and we want to select a subset of the data that representes a particular date"
   ]
  },
  {
   "cell_type": "code",
   "execution_count": 4,
   "metadata": {},
   "outputs": [
    {
     "name": "stderr",
     "output_type": "stream",
     "text": [
      "[=================================== ] Processed: 3523 / 3530 ops ETA:  0:00:00\r"
     ]
    }
   ],
   "source": [
    "# Add some additional columns to the data\n",
    "pandas_dataframe[\"d_open\"] = 0\n",
    "pandas_dataframe[\"d2_open\"] = 0\n",
    "pandas_dataframe[\"ma_open\"] = 0\n",
    "pandas_dataframe[\"prev_open\"] = 0\n",
    "\n",
    "tickers = numpy.sort(pandas_dataframe[\"ticker\"].unique())\n",
    "\n",
    "# Create a progress bar to keep us updates while the numbers crunch\n",
    "num_ops = len(tickers)\n",
    "progress_bar_widgets = [\n",
    "    progressbar.Bar('=', '[', ']'), \n",
    "    ' ', \n",
    "    progressbar.FormatLabel('Processed: %(value)d / {0} ops'.format(num_ops)),\n",
    "    ' ', \n",
    "    progressbar.ETA()\n",
    "]\n",
    "bar = progressbar.ProgressBar(maxval=num_ops, widgets=progress_bar_widgets)\n",
    "bar.start()\n",
    "count = 0\n",
    "\n",
    "for ticker in tickers:\n",
    "    ticker_df = pandas_dataframe[pandas_dataframe[\"ticker\"] == ticker]\n",
    "    d_open = ticker_df[\"open\"].diff()\n",
    "    pandas_dataframe.loc[ticker_df.index, \"d_open\"] = d_open\n",
    "    pandas_dataframe.loc[ticker_df.index, \"d2_open\"] = d_open.diff()\n",
    "    pandas_dataframe.loc[ticker_df.index, \"ma_open\"] = ticker_df[\"open\"].rolling(5).mean()\n",
    "    pandas_dataframe.loc[ticker_df.index, \"prev_open\"] = ticker_df[\"open\"].shift(1)\n",
    "    count += 1\n",
    "    bar.update(count)"
   ]
  },
  {
   "cell_type": "code",
   "execution_count": 5,
   "metadata": {},
   "outputs": [
    {
     "data": {
      "text/html": [
       "<div>\n",
       "<style scoped>\n",
       "    .dataframe tbody tr th:only-of-type {\n",
       "        vertical-align: middle;\n",
       "    }\n",
       "\n",
       "    .dataframe tbody tr th {\n",
       "        vertical-align: top;\n",
       "    }\n",
       "\n",
       "    .dataframe thead th {\n",
       "        text-align: right;\n",
       "    }\n",
       "</style>\n",
       "<table border=\"1\" class=\"dataframe\">\n",
       "  <thead>\n",
       "    <tr style=\"text-align: right;\">\n",
       "      <th></th>\n",
       "      <th>ticker</th>\n",
       "      <th>interval</th>\n",
       "      <th>date</th>\n",
       "      <th>open</th>\n",
       "      <th>high</th>\n",
       "      <th>low</th>\n",
       "      <th>close</th>\n",
       "      <th>volume</th>\n",
       "      <th>d_open</th>\n",
       "      <th>d2_open</th>\n",
       "      <th>ma_open</th>\n",
       "      <th>prev_open</th>\n",
       "    </tr>\n",
       "  </thead>\n",
       "  <tbody>\n",
       "    <tr>\n",
       "      <th>22498</th>\n",
       "      <td>AABA</td>\n",
       "      <td>D</td>\n",
       "      <td>2019-07-11</td>\n",
       "      <td>69.38000</td>\n",
       "      <td>69.72000</td>\n",
       "      <td>68.90000</td>\n",
       "      <td>69.28000</td>\n",
       "      <td>2534300</td>\n",
       "      <td>-0.61000</td>\n",
       "      <td>-1.70000</td>\n",
       "      <td>69.59400</td>\n",
       "      <td>69.99000</td>\n",
       "    </tr>\n",
       "    <tr>\n",
       "      <th>22499</th>\n",
       "      <td>AAL</td>\n",
       "      <td>D</td>\n",
       "      <td>2019-07-11</td>\n",
       "      <td>33.06000</td>\n",
       "      <td>33.30000</td>\n",
       "      <td>32.82000</td>\n",
       "      <td>33.03000</td>\n",
       "      <td>6842800</td>\n",
       "      <td>0.13000</td>\n",
       "      <td>-0.40000</td>\n",
       "      <td>32.58400</td>\n",
       "      <td>32.93000</td>\n",
       "    </tr>\n",
       "    <tr>\n",
       "      <th>22500</th>\n",
       "      <td>AAME</td>\n",
       "      <td>D</td>\n",
       "      <td>2019-07-11</td>\n",
       "      <td>2.34500</td>\n",
       "      <td>2.34500</td>\n",
       "      <td>2.29000</td>\n",
       "      <td>2.29000</td>\n",
       "      <td>800</td>\n",
       "      <td>0.00500</td>\n",
       "      <td>0.10500</td>\n",
       "      <td>2.37500</td>\n",
       "      <td>2.34000</td>\n",
       "    </tr>\n",
       "    <tr>\n",
       "      <th>22501</th>\n",
       "      <td>AAOI</td>\n",
       "      <td>D</td>\n",
       "      <td>2019-07-11</td>\n",
       "      <td>10.45000</td>\n",
       "      <td>10.45000</td>\n",
       "      <td>9.87000</td>\n",
       "      <td>9.90000</td>\n",
       "      <td>610700</td>\n",
       "      <td>-0.39000</td>\n",
       "      <td>-1.12000</td>\n",
       "      <td>10.20000</td>\n",
       "      <td>10.84000</td>\n",
       "    </tr>\n",
       "    <tr>\n",
       "      <th>22502</th>\n",
       "      <td>AAON</td>\n",
       "      <td>D</td>\n",
       "      <td>2019-07-11</td>\n",
       "      <td>50.98000</td>\n",
       "      <td>51.14000</td>\n",
       "      <td>49.68000</td>\n",
       "      <td>49.85000</td>\n",
       "      <td>83600</td>\n",
       "      <td>0.68000</td>\n",
       "      <td>0.11000</td>\n",
       "      <td>49.84800</td>\n",
       "      <td>50.30000</td>\n",
       "    </tr>\n",
       "  </tbody>\n",
       "</table>\n",
       "</div>"
      ],
      "text/plain": [
       "      ticker interval       date     open     high      low    close   volume  \\\n",
       "22498   AABA        D 2019-07-11 69.38000 69.72000 68.90000 69.28000  2534300   \n",
       "22499    AAL        D 2019-07-11 33.06000 33.30000 32.82000 33.03000  6842800   \n",
       "22500   AAME        D 2019-07-11  2.34500  2.34500  2.29000  2.29000      800   \n",
       "22501   AAOI        D 2019-07-11 10.45000 10.45000  9.87000  9.90000   610700   \n",
       "22502   AAON        D 2019-07-11 50.98000 51.14000 49.68000 49.85000    83600   \n",
       "\n",
       "        d_open  d2_open  ma_open  prev_open  \n",
       "22498 -0.61000 -1.70000 69.59400   69.99000  \n",
       "22499  0.13000 -0.40000 32.58400   32.93000  \n",
       "22500  0.00500  0.10500  2.37500    2.34000  \n",
       "22501 -0.39000 -1.12000 10.20000   10.84000  \n",
       "22502  0.68000  0.11000 49.84800   50.30000  "
      ]
     },
     "execution_count": 5,
     "metadata": {},
     "output_type": "execute_result"
    }
   ],
   "source": [
    "# Get a subset of our data for a particular date\n",
    "df_07_11_2019 = pandas_dataframe[pandas_dataframe[\"date\"] == '2019-07-11']\n",
    "df_07_11_2019.head()"
   ]
  },
  {
   "cell_type": "markdown",
   "metadata": {},
   "source": [
    "## 2.4. Visual inspection\n",
    "We first visually inspect our data to gain some intuition about the possible underlying clusters. Some data does not lend iteslf well to cluster analysis so we will need to check that our features will provide useful information to the clustering algorithm."
   ]
  },
  {
   "cell_type": "markdown",
   "metadata": {},
   "source": [
    "### 2.4.1. Look at the distributions of our features"
   ]
  },
  {
   "cell_type": "code",
   "execution_count": 6,
   "metadata": {},
   "outputs": [
    {
     "data": {
      "image/png": "[encoded data removed]",
      "text/plain": [
       "<Figure size 1440x576 with 4 Axes>"
      ]
     },
     "metadata": {
      "needs_background": "light"
     },
     "output_type": "display_data"
    }
   ],
   "source": [
    "fig, (ax0, ax1, ax2, ax3) = pyplot.subplots(figsize=(20, 8), nrows=4, ncols=1)\n",
    "fig.tight_layout(h_pad=2)\n",
    "\n",
    "zeros = [0 for o in df_07_11_2019[\"open\"]]\n",
    "ax0.set_title(\"open\", fontsize=20);\n",
    "ax0.scatter(df_07_11_2019[\"open\"], zeros)\n",
    "ax1.set_title(\"d_open\", fontsize=20);\n",
    "ax1.scatter(df_07_11_2019[\"d_open\"], zeros)\n",
    "ax2.set_title(\"d2_open\", fontsize=20);\n",
    "ax2.scatter(df_07_11_2019[\"d2_open\"], zeros)\n",
    "ax3.set_title(\"ma_open\", fontsize=20);\n",
    "ax3.scatter(df_07_11_2019[\"ma_open\"], zeros);"
   ]
  },
  {
   "cell_type": "markdown",
   "metadata": {},
   "source": [
    "## 2.4.2. Look at the joint distributions"
   ]
  },
  {
   "cell_type": "code",
   "execution_count": 7,
   "metadata": {
    "jupyter": {
     "source_hidden": true
    },
    "tags": []
   },
   "outputs": [
    {
     "data": {
      "image/png": "[encoded data removed]",
      "text/plain": [
       "<Figure size 1440x720 with 8 Axes>"
      ]
     },
     "metadata": {
      "needs_background": "light"
     },
     "output_type": "display_data"
    }
   ],
   "source": [
    "fig, ax = pyplot.subplots(figsize=(20, 10), nrows=4, ncols=2)\n",
    "fig.tight_layout(h_pad=2)\n",
    "\n",
    "ax[0, 0].set_title(\"open vs. d_open\", fontsize=20);\n",
    "ax[0, 0].scatter(df_07_11_2019[\"open\"], df_07_11_2019[\"d_open\"]);\n",
    "\n",
    "ax[1, 0].set_title(\"open vs. d2_open\", fontsize=20);\n",
    "ax[1, 0].scatter(df_07_11_2019[\"open\"], df_07_11_2019[\"d2_open\"]);\n",
    "\n",
    "ax[2, 0].set_title(\"open vs. ma_open\", fontsize=20);\n",
    "ax[2, 0].scatter(df_07_11_2019[\"open\"], df_07_11_2019[\"ma_open\"]);\n",
    "\n",
    "ax[3, 0].set_title(\"open vs. prev_open\", fontsize=20);\n",
    "ax[3, 0].scatter(df_07_11_2019[\"open\"], df_07_11_2019[\"prev_open\"]);\n",
    "\n",
    "ax[0, 1].set_title(\"d_open vs. d2_open\", fontsize=20);\n",
    "ax[0, 1].scatter(df_07_11_2019[\"d_open\"], df_07_11_2019[\"d2_open\"]);\n",
    "\n",
    "ax[1, 1].set_title(\"d_open vs. ma_open\", fontsize=20);\n",
    "ax[1, 1].scatter(df_07_11_2019[\"d_open\"], df_07_11_2019[\"ma_open\"]);\n",
    "\n",
    "ax[2, 1].set_title(\"d_open vs. prev_open\", fontsize=20);\n",
    "ax[2, 1].scatter(df_07_11_2019[\"d_open\"], df_07_11_2019[\"prev_open\"]);\n",
    "\n",
    "ax[3, 1].set_title(\"ma_open vs. d2_open\", fontsize=20);\n",
    "ax[3, 1].scatter(df_07_11_2019[\"ma_open\"], df_07_11_2019[\"d2_open\"]);"
   ]
  },
  {
   "cell_type": "markdown",
   "metadata": {},
   "source": [
    "## 2.4.3. Collect our thoughts on the visualizations"
   ]
  },
  {
   "cell_type": "markdown",
   "metadata": {},
   "source": [
    "Looking at our data, there generally appears to be a single tight clustering and then a sizable set of outliers/leverage poitns which are not tightly clustered. It does not seem two people would be able to agree on how to split up these points. If you said draw two cirles/ovals (strictly speaking) to differentiate two clusters it's doubtful that any two people would agree on both the drawings. This is an example of a problem where the starting point may have an impact on our centroids."
   ]
  },
  {
   "cell_type": "markdown",
   "metadata": {},
   "source": [
    "# 3. Explore The Scikit-Learn Implimentation\n",
    "The python library named \"scikitlearn\" has a number of machine learning algorithms in it. One of them is the K-Means algorithm. We will be using this model in the coming section. For more documentation on this implimentation see the following [documentation](https://scikit-learn.org/stable/modules/generated/sklearn.cluster.KMeans.html)."
   ]
  },
  {
   "cell_type": "code",
   "execution_count": 8,
   "metadata": {},
   "outputs": [],
   "source": [
    "# Import the library with our model\n",
    "from sklearn.cluster import KMeans"
   ]
  },
  {
   "cell_type": "markdown",
   "metadata": {},
   "source": [
    "## 3.2. The univariate case\n",
    "To start things off slow, we will look at a univariate example. We will generate clusters solely based on the open price of the stock."
   ]
  },
  {
   "cell_type": "markdown",
   "metadata": {},
   "source": [
    "### 3.2.1. Training our Model\n",
    "The code to train the kmeans algorithm is fairly straight forward"
   ]
  },
  {
   "cell_type": "code",
   "execution_count": 9,
   "metadata": {},
   "outputs": [],
   "source": [
    "# Create a copy of our dataframe so we can play around\n",
    "copy = df_07_11_2019.copy()\n",
    "\n",
    "# Create an instance of our model\n",
    "model = KMeans(n_clusters=5, random_state=42)\n",
    "\n",
    "# Set the parameters for our model\n",
    "copy[\"Y\"] = 1 # Kmeans requires a 2D array so we will add a static column\n",
    "model_parameters = copy[[\"open\", \"Y\"]]\n",
    "fit = model.fit(model_parameters)"
   ]
  },
  {
   "cell_type": "markdown",
   "metadata": {},
   "source": [
    "There are a few objects worth discussing here:\n",
    "* The *model* variable represents an instance of the KMeans class. This object holds metadata about our clustering algorithm such as the max number of iterations for our search algorithm, the number of clusters to find, etc.\n",
    "* The *fit* variable represents an instance of a calibrated KMeans algorithm. Using the fit object, we can make predictions about points not contained in our training set. It also holds metadata supplied to the model which configure how the fit is obtained (eg. the max iterations) and information about the centroids and their effieicnecy.\n",
    "\n",
    "### 3.2.2. Mapping clusters and centroids to data points\n",
    "\n",
    "Now that we have this information, how do we know which cluster each datapoint fits into and what the coresponding centroid is? This will take a little programming magic becasue scikitlearn does not store all this information in one place. We start by getting a list of centroids"
   ]
  },
  {
   "cell_type": "code",
   "execution_count": 10,
   "metadata": {},
   "outputs": [
    {
     "data": {
      "text/plain": [
       "array([[1.64302601e+01, 1.00000000e+00],\n",
       "       [3.15819767e+02, 1.00000000e+00],\n",
       "       [1.95053500e+03, 1.00000000e+00],\n",
       "       [9.57415833e+01, 1.00000000e+00],\n",
       "       [1.02527333e+03, 1.00000000e+00]])"
      ]
     },
     "execution_count": 10,
     "metadata": {},
     "output_type": "execute_result"
    }
   ],
   "source": [
    "centroids = model.cluster_centers_\n",
    "centroids[0:5]"
   ]
  },
  {
   "cell_type": "markdown",
   "metadata": {},
   "source": [
    "The *centroids* variable is a pointer to a 2D array of centroids. The order of the centroids indicates their cluster identity. Ie. the first centroid is cluster 0, the third is cluster 2, the nth is cluster n. We can separate the centroids by dimension based on the order of the columns:"
   ]
  },
  {
   "cell_type": "code",
   "execution_count": 11,
   "metadata": {},
   "outputs": [
    {
     "data": {
      "text/plain": [
       "array([  16.43026006,  315.81976744, 1950.535     ,   95.74158329])"
      ]
     },
     "execution_count": 11,
     "metadata": {},
     "output_type": "execute_result"
    }
   ],
   "source": [
    "x_centroids = centroids[:, 0] # Remember, numpy is row, column... so we want a \"slice\" of all the rows in the first column\n",
    "y_centroids = centroids[:, 1] \n",
    "x_centroids[0:4]"
   ]
  },
  {
   "cell_type": "markdown",
   "metadata": {},
   "source": [
    "The other piece of information the scikitlearn model gives us is a mapping of each datapoint to a given cluster."
   ]
  },
  {
   "cell_type": "code",
   "execution_count": 12,
   "metadata": {},
   "outputs": [
    {
     "data": {
      "text/plain": [
       "22498    3\n",
       "22499    0\n",
       "22500    0\n",
       "22501    0\n",
       "Name: cluster, dtype: int32"
      ]
     },
     "execution_count": 12,
     "metadata": {},
     "output_type": "execute_result"
    }
   ],
   "source": [
    "# Extract some information\n",
    "copy[\"cluster\"] = fit.labels_.astype(int)\n",
    "copy[\"cluster\"][0 : 4]"
   ]
  },
  {
   "cell_type": "markdown",
   "metadata": {},
   "source": [
    "So now we have to map each datapoint to each centroid using the cluster index supplied. A python list comprehension makes this short work:"
   ]
  },
  {
   "cell_type": "code",
   "execution_count": 13,
   "metadata": {},
   "outputs": [
    {
     "data": {
      "text/html": [
       "<div>\n",
       "<style scoped>\n",
       "    .dataframe tbody tr th:only-of-type {\n",
       "        vertical-align: middle;\n",
       "    }\n",
       "\n",
       "    .dataframe tbody tr th {\n",
       "        vertical-align: top;\n",
       "    }\n",
       "\n",
       "    .dataframe thead th {\n",
       "        text-align: right;\n",
       "    }\n",
       "</style>\n",
       "<table border=\"1\" class=\"dataframe\">\n",
       "  <thead>\n",
       "    <tr style=\"text-align: right;\">\n",
       "      <th></th>\n",
       "      <th>cluster</th>\n",
       "      <th>centroid</th>\n",
       "    </tr>\n",
       "  </thead>\n",
       "  <tbody>\n",
       "    <tr>\n",
       "      <th>22498</th>\n",
       "      <td>3</td>\n",
       "      <td>95.74158</td>\n",
       "    </tr>\n",
       "    <tr>\n",
       "      <th>22499</th>\n",
       "      <td>0</td>\n",
       "      <td>16.43026</td>\n",
       "    </tr>\n",
       "    <tr>\n",
       "      <th>22500</th>\n",
       "      <td>0</td>\n",
       "      <td>16.43026</td>\n",
       "    </tr>\n",
       "    <tr>\n",
       "      <th>22501</th>\n",
       "      <td>0</td>\n",
       "      <td>16.43026</td>\n",
       "    </tr>\n",
       "    <tr>\n",
       "      <th>22502</th>\n",
       "      <td>0</td>\n",
       "      <td>16.43026</td>\n",
       "    </tr>\n",
       "  </tbody>\n",
       "</table>\n",
       "</div>"
      ],
      "text/plain": [
       "       cluster  centroid\n",
       "22498        3  95.74158\n",
       "22499        0  16.43026\n",
       "22500        0  16.43026\n",
       "22501        0  16.43026\n",
       "22502        0  16.43026"
      ]
     },
     "execution_count": 13,
     "metadata": {},
     "output_type": "execute_result"
    }
   ],
   "source": [
    "copy[\"centroid\"] = [centroids[:, 0][i] for i in copy[\"cluster\"]]\n",
    "copy[[\"cluster\", \"centroid\"]].head()"
   ]
  },
  {
   "cell_type": "markdown",
   "metadata": {},
   "source": [
    "### 3.2.3. Visualizing the results\n",
    "Our graphing library Matplotlib has a nice functionality that allows us to color code points using a numerical value. We can supply our cluster index as this numerical value and generate nice visuals illustrating our cluster parimiters and sharacteristics."
   ]
  },
  {
   "cell_type": "code",
   "execution_count": 14,
   "metadata": {
    "jupyter": {
     "source_hidden": true
    }
   },
   "outputs": [
    {
     "data": {
      "image/png": "[encoded data removed]",
      "text/plain": [
       "<Figure size 1440x576 with 1 Axes>"
      ]
     },
     "metadata": {
      "needs_background": "light"
     },
     "output_type": "display_data"
    }
   ],
   "source": [
    "fig, ax = pyplot.subplots(figsize=(20, 8))\n",
    "x = copy[\"open\"]\n",
    "y = [1 for i in copy[\"centroid\"]]\n",
    "colors = copy[\"cluster\"]\n",
    "pyplot.scatter(x, y, c=colors, s=50);"
   ]
  },
  {
   "cell_type": "markdown",
   "metadata": {},
   "source": [
    "## 3.2. The multivariate case\n",
    "Now that we have our feet wet, lets look at how k-means accomodates multiple variables simultaneously."
   ]
  },
  {
   "cell_type": "markdown",
   "metadata": {},
   "source": [
    "### 3.2.1. Removing NaNs and Infinity from training data\n",
    "The first thing to note is that there is an [bug](https://github.com/scikit-learn/scikit-learn/issues/16529) prior to v0.24.1 that prevents the library from working correctly. You may come accross this issue when doing something like what we are doing in this notebook: we created a moving average which introduces NaNs to the rows occurring before the moving window was filled with points. These NaNs break the model so we need to remove them. As do Infinity. In this short section we look at identifying the problematic cells and removing them.\n",
    "\n",
    "First we can identify the bad data:"
   ]
  },
  {
   "cell_type": "code",
   "execution_count": 15,
   "metadata": {},
   "outputs": [
    {
     "data": {
      "text/html": [
       "<div>\n",
       "<style scoped>\n",
       "    .dataframe tbody tr th:only-of-type {\n",
       "        vertical-align: middle;\n",
       "    }\n",
       "\n",
       "    .dataframe tbody tr th {\n",
       "        vertical-align: top;\n",
       "    }\n",
       "\n",
       "    .dataframe thead th {\n",
       "        text-align: right;\n",
       "    }\n",
       "</style>\n",
       "<table border=\"1\" class=\"dataframe\">\n",
       "  <thead>\n",
       "    <tr style=\"text-align: right;\">\n",
       "      <th></th>\n",
       "      <th>ticker</th>\n",
       "      <th>interval</th>\n",
       "      <th>date</th>\n",
       "      <th>open</th>\n",
       "      <th>high</th>\n",
       "      <th>low</th>\n",
       "      <th>close</th>\n",
       "      <th>volume</th>\n",
       "      <th>d_open</th>\n",
       "      <th>d2_open</th>\n",
       "      <th>ma_open</th>\n",
       "      <th>prev_open</th>\n",
       "    </tr>\n",
       "  </thead>\n",
       "  <tbody>\n",
       "    <tr>\n",
       "      <th>19309</th>\n",
       "      <td>ADRA</td>\n",
       "      <td>D</td>\n",
       "      <td>2019-07-10</td>\n",
       "      <td>30.94000</td>\n",
       "      <td>30.94000</td>\n",
       "      <td>30.94000</td>\n",
       "      <td>30.94000</td>\n",
       "      <td>300</td>\n",
       "      <td>-0.22000</td>\n",
       "      <td>-0.09880</td>\n",
       "      <td>NaN</td>\n",
       "      <td>31.16000</td>\n",
       "    </tr>\n",
       "    <tr>\n",
       "      <th>19328</th>\n",
       "      <td>AFHBL</td>\n",
       "      <td>D</td>\n",
       "      <td>2019-07-10</td>\n",
       "      <td>9.35490</td>\n",
       "      <td>9.35490</td>\n",
       "      <td>8.34000</td>\n",
       "      <td>8.80000</td>\n",
       "      <td>10000</td>\n",
       "      <td>-0.24510</td>\n",
       "      <td>-0.80010</td>\n",
       "      <td>NaN</td>\n",
       "      <td>9.60000</td>\n",
       "    </tr>\n",
       "    <tr>\n",
       "      <th>19332</th>\n",
       "      <td>AGBAU</td>\n",
       "      <td>D</td>\n",
       "      <td>2019-07-10</td>\n",
       "      <td>10.05000</td>\n",
       "      <td>10.05000</td>\n",
       "      <td>10.05000</td>\n",
       "      <td>10.05000</td>\n",
       "      <td>5000</td>\n",
       "      <td>0.00000</td>\n",
       "      <td>-0.03000</td>\n",
       "      <td>NaN</td>\n",
       "      <td>10.05000</td>\n",
       "    </tr>\n",
       "    <tr>\n",
       "      <th>19367</th>\n",
       "      <td>ALAC</td>\n",
       "      <td>D</td>\n",
       "      <td>2019-07-10</td>\n",
       "      <td>10.11000</td>\n",
       "      <td>10.11000</td>\n",
       "      <td>10.11000</td>\n",
       "      <td>10.11000</td>\n",
       "      <td>100000</td>\n",
       "      <td>0.02000</td>\n",
       "      <td>0.03000</td>\n",
       "      <td>NaN</td>\n",
       "      <td>10.09000</td>\n",
       "    </tr>\n",
       "    <tr>\n",
       "      <th>19368</th>\n",
       "      <td>ALACW</td>\n",
       "      <td>D</td>\n",
       "      <td>2019-07-10</td>\n",
       "      <td>0.14000</td>\n",
       "      <td>0.14000</td>\n",
       "      <td>0.14000</td>\n",
       "      <td>0.14000</td>\n",
       "      <td>200</td>\n",
       "      <td>0.00000</td>\n",
       "      <td>-0.01000</td>\n",
       "      <td>NaN</td>\n",
       "      <td>0.14000</td>\n",
       "    </tr>\n",
       "  </tbody>\n",
       "</table>\n",
       "</div>"
      ],
      "text/plain": [
       "      ticker interval       date     open     high      low    close  volume  \\\n",
       "19309   ADRA        D 2019-07-10 30.94000 30.94000 30.94000 30.94000     300   \n",
       "19328  AFHBL        D 2019-07-10  9.35490  9.35490  8.34000  8.80000   10000   \n",
       "19332  AGBAU        D 2019-07-10 10.05000 10.05000 10.05000 10.05000    5000   \n",
       "19367   ALAC        D 2019-07-10 10.11000 10.11000 10.11000 10.11000  100000   \n",
       "19368  ALACW        D 2019-07-10  0.14000  0.14000  0.14000  0.14000     200   \n",
       "\n",
       "        d_open  d2_open  ma_open  prev_open  \n",
       "19309 -0.22000 -0.09880      NaN   31.16000  \n",
       "19328 -0.24510 -0.80010      NaN    9.60000  \n",
       "19332  0.00000 -0.03000      NaN   10.05000  \n",
       "19367  0.02000  0.03000      NaN   10.09000  \n",
       "19368  0.00000 -0.01000      NaN    0.14000  "
      ]
     },
     "execution_count": 15,
     "metadata": {},
     "output_type": "execute_result"
    }
   ],
   "source": [
    "# Find bad cells in a problematic dataframe\n",
    "df_07_10_2019 = pandas_dataframe[pandas_dataframe[\"date\"] == '2019-07-10']\n",
    "bad_chars = [numpy.nan, numpy.inf, -numpy.inf]\n",
    "# We want to identify bad data bby the row and not the column\n",
    "# We can use the any() function to do this, and the axis param to specify using rows and not columns\n",
    "axis = 1\n",
    "bad_rows = df_07_10_2019.isin(bad_chars).any(axis)\n",
    "df_07_10_2019[bad_rows].head()"
   ]
  },
  {
   "cell_type": "markdown",
   "metadata": {},
   "source": [
    "In the section above, we see that we can quickly identify the bad rows using a combination of the isin() function and the .any() function provided to the pandas DataFrame and Series respectively. We can then use these bad rows as indices and select the problematic rows.\n",
    "\n",
    "We can also do the inverse and select only the good rows using the \"~\" (bitwise not) operator."
   ]
  },
  {
   "cell_type": "code",
   "execution_count": 16,
   "metadata": {},
   "outputs": [
    {
     "data": {
      "text/html": [
       "<div>\n",
       "<style scoped>\n",
       "    .dataframe tbody tr th:only-of-type {\n",
       "        vertical-align: middle;\n",
       "    }\n",
       "\n",
       "    .dataframe tbody tr th {\n",
       "        vertical-align: top;\n",
       "    }\n",
       "\n",
       "    .dataframe thead th {\n",
       "        text-align: right;\n",
       "    }\n",
       "</style>\n",
       "<table border=\"1\" class=\"dataframe\">\n",
       "  <thead>\n",
       "    <tr style=\"text-align: right;\">\n",
       "      <th></th>\n",
       "      <th>ticker</th>\n",
       "      <th>interval</th>\n",
       "      <th>date</th>\n",
       "      <th>open</th>\n",
       "      <th>high</th>\n",
       "      <th>low</th>\n",
       "      <th>close</th>\n",
       "      <th>volume</th>\n",
       "      <th>d_open</th>\n",
       "      <th>d2_open</th>\n",
       "      <th>ma_open</th>\n",
       "      <th>prev_open</th>\n",
       "    </tr>\n",
       "  </thead>\n",
       "  <tbody>\n",
       "    <tr>\n",
       "      <th>19255</th>\n",
       "      <td>AABA</td>\n",
       "      <td>D</td>\n",
       "      <td>2019-07-10</td>\n",
       "      <td>69.99000</td>\n",
       "      <td>70.09000</td>\n",
       "      <td>69.18000</td>\n",
       "      <td>69.33000</td>\n",
       "      <td>2688100</td>\n",
       "      <td>1.09000</td>\n",
       "      <td>1.85000</td>\n",
       "      <td>69.90000</td>\n",
       "      <td>68.90000</td>\n",
       "    </tr>\n",
       "    <tr>\n",
       "      <th>19256</th>\n",
       "      <td>AAL</td>\n",
       "      <td>D</td>\n",
       "      <td>2019-07-10</td>\n",
       "      <td>32.93000</td>\n",
       "      <td>33.68500</td>\n",
       "      <td>32.59000</td>\n",
       "      <td>32.94000</td>\n",
       "      <td>8869700</td>\n",
       "      <td>0.53000</td>\n",
       "      <td>0.12000</td>\n",
       "      <td>32.45200</td>\n",
       "      <td>32.40000</td>\n",
       "    </tr>\n",
       "    <tr>\n",
       "      <th>19257</th>\n",
       "      <td>AAME</td>\n",
       "      <td>D</td>\n",
       "      <td>2019-07-10</td>\n",
       "      <td>2.34000</td>\n",
       "      <td>2.41000</td>\n",
       "      <td>2.26000</td>\n",
       "      <td>2.29000</td>\n",
       "      <td>2400</td>\n",
       "      <td>-0.10000</td>\n",
       "      <td>-0.27000</td>\n",
       "      <td>2.37000</td>\n",
       "      <td>2.44000</td>\n",
       "    </tr>\n",
       "    <tr>\n",
       "      <th>19258</th>\n",
       "      <td>AAOI</td>\n",
       "      <td>D</td>\n",
       "      <td>2019-07-10</td>\n",
       "      <td>10.84000</td>\n",
       "      <td>11.09500</td>\n",
       "      <td>10.18000</td>\n",
       "      <td>10.31000</td>\n",
       "      <td>1013300</td>\n",
       "      <td>0.73000</td>\n",
       "      <td>0.34000</td>\n",
       "      <td>10.12200</td>\n",
       "      <td>10.11000</td>\n",
       "    </tr>\n",
       "    <tr>\n",
       "      <th>19259</th>\n",
       "      <td>AAON</td>\n",
       "      <td>D</td>\n",
       "      <td>2019-07-10</td>\n",
       "      <td>50.30000</td>\n",
       "      <td>51.33000</td>\n",
       "      <td>50.18000</td>\n",
       "      <td>51.03000</td>\n",
       "      <td>127100</td>\n",
       "      <td>0.57000</td>\n",
       "      <td>0.19000</td>\n",
       "      <td>49.70200</td>\n",
       "      <td>49.73000</td>\n",
       "    </tr>\n",
       "  </tbody>\n",
       "</table>\n",
       "</div>"
      ],
      "text/plain": [
       "      ticker interval       date     open     high      low    close   volume  \\\n",
       "19255   AABA        D 2019-07-10 69.99000 70.09000 69.18000 69.33000  2688100   \n",
       "19256    AAL        D 2019-07-10 32.93000 33.68500 32.59000 32.94000  8869700   \n",
       "19257   AAME        D 2019-07-10  2.34000  2.41000  2.26000  2.29000     2400   \n",
       "19258   AAOI        D 2019-07-10 10.84000 11.09500 10.18000 10.31000  1013300   \n",
       "19259   AAON        D 2019-07-10 50.30000 51.33000 50.18000 51.03000   127100   \n",
       "\n",
       "        d_open  d2_open  ma_open  prev_open  \n",
       "19255  1.09000  1.85000 69.90000   68.90000  \n",
       "19256  0.53000  0.12000 32.45200   32.40000  \n",
       "19257 -0.10000 -0.27000  2.37000    2.44000  \n",
       "19258  0.73000  0.34000 10.12200   10.11000  \n",
       "19259  0.57000  0.19000 49.70200   49.73000  "
      ]
     },
     "execution_count": 16,
     "metadata": {},
     "output_type": "execute_result"
    }
   ],
   "source": [
    "good_rows = ~df_07_10_2019.isin(bad_chars).any(1)\n",
    "df_07_10_2019[good_rows].head()"
   ]
  },
  {
   "cell_type": "markdown",
   "metadata": {},
   "source": [
    "### 3.2.2. Applying K-Means to multiple features"
   ]
  },
  {
   "cell_type": "code",
   "execution_count": 17,
   "metadata": {},
   "outputs": [
    {
     "data": {
      "text/html": [
       "<div>\n",
       "<style scoped>\n",
       "    .dataframe tbody tr th:only-of-type {\n",
       "        vertical-align: middle;\n",
       "    }\n",
       "\n",
       "    .dataframe tbody tr th {\n",
       "        vertical-align: top;\n",
       "    }\n",
       "\n",
       "    .dataframe thead th {\n",
       "        text-align: right;\n",
       "    }\n",
       "</style>\n",
       "<table border=\"1\" class=\"dataframe\">\n",
       "  <thead>\n",
       "    <tr style=\"text-align: right;\">\n",
       "      <th></th>\n",
       "      <th>ticker</th>\n",
       "      <th>interval</th>\n",
       "      <th>date</th>\n",
       "      <th>open</th>\n",
       "      <th>high</th>\n",
       "      <th>low</th>\n",
       "      <th>close</th>\n",
       "      <th>volume</th>\n",
       "      <th>d_open</th>\n",
       "      <th>d2_open</th>\n",
       "      <th>ma_open</th>\n",
       "      <th>prev_open</th>\n",
       "      <th>cluster</th>\n",
       "      <th>centroids</th>\n",
       "    </tr>\n",
       "  </thead>\n",
       "  <tbody>\n",
       "    <tr>\n",
       "      <th>22498</th>\n",
       "      <td>AABA</td>\n",
       "      <td>D</td>\n",
       "      <td>2019-07-11</td>\n",
       "      <td>69.38000</td>\n",
       "      <td>69.72000</td>\n",
       "      <td>68.90000</td>\n",
       "      <td>69.28000</td>\n",
       "      <td>2534300</td>\n",
       "      <td>-0.61000</td>\n",
       "      <td>-1.70000</td>\n",
       "      <td>69.59400</td>\n",
       "      <td>69.99000</td>\n",
       "      <td>4</td>\n",
       "      <td>[92.29757898383372, 0.07322471131639785, -1.04...</td>\n",
       "    </tr>\n",
       "    <tr>\n",
       "      <th>22499</th>\n",
       "      <td>AAL</td>\n",
       "      <td>D</td>\n",
       "      <td>2019-07-11</td>\n",
       "      <td>33.06000</td>\n",
       "      <td>33.30000</td>\n",
       "      <td>32.82000</td>\n",
       "      <td>33.03000</td>\n",
       "      <td>6842800</td>\n",
       "      <td>0.13000</td>\n",
       "      <td>-0.40000</td>\n",
       "      <td>32.58400</td>\n",
       "      <td>32.93000</td>\n",
       "      <td>0</td>\n",
       "      <td>[16.207586599477416, -0.022697984322508136, -0...</td>\n",
       "    </tr>\n",
       "    <tr>\n",
       "      <th>22500</th>\n",
       "      <td>AAME</td>\n",
       "      <td>D</td>\n",
       "      <td>2019-07-11</td>\n",
       "      <td>2.34500</td>\n",
       "      <td>2.34500</td>\n",
       "      <td>2.29000</td>\n",
       "      <td>2.29000</td>\n",
       "      <td>800</td>\n",
       "      <td>0.00500</td>\n",
       "      <td>0.10500</td>\n",
       "      <td>2.37500</td>\n",
       "      <td>2.34000</td>\n",
       "      <td>0</td>\n",
       "      <td>[16.207586599477416, -0.022697984322508136, -0...</td>\n",
       "    </tr>\n",
       "    <tr>\n",
       "      <th>22501</th>\n",
       "      <td>AAOI</td>\n",
       "      <td>D</td>\n",
       "      <td>2019-07-11</td>\n",
       "      <td>10.45000</td>\n",
       "      <td>10.45000</td>\n",
       "      <td>9.87000</td>\n",
       "      <td>9.90000</td>\n",
       "      <td>610700</td>\n",
       "      <td>-0.39000</td>\n",
       "      <td>-1.12000</td>\n",
       "      <td>10.20000</td>\n",
       "      <td>10.84000</td>\n",
       "      <td>0</td>\n",
       "      <td>[16.207586599477416, -0.022697984322508136, -0...</td>\n",
       "    </tr>\n",
       "    <tr>\n",
       "      <th>22502</th>\n",
       "      <td>AAON</td>\n",
       "      <td>D</td>\n",
       "      <td>2019-07-11</td>\n",
       "      <td>50.98000</td>\n",
       "      <td>51.14000</td>\n",
       "      <td>49.68000</td>\n",
       "      <td>49.85000</td>\n",
       "      <td>83600</td>\n",
       "      <td>0.68000</td>\n",
       "      <td>0.11000</td>\n",
       "      <td>49.84800</td>\n",
       "      <td>50.30000</td>\n",
       "      <td>0</td>\n",
       "      <td>[16.207586599477416, -0.022697984322508136, -0...</td>\n",
       "    </tr>\n",
       "  </tbody>\n",
       "</table>\n",
       "</div>"
      ],
      "text/plain": [
       "      ticker interval       date     open     high      low    close   volume  \\\n",
       "22498   AABA        D 2019-07-11 69.38000 69.72000 68.90000 69.28000  2534300   \n",
       "22499    AAL        D 2019-07-11 33.06000 33.30000 32.82000 33.03000  6842800   \n",
       "22500   AAME        D 2019-07-11  2.34500  2.34500  2.29000  2.29000      800   \n",
       "22501   AAOI        D 2019-07-11 10.45000 10.45000  9.87000  9.90000   610700   \n",
       "22502   AAON        D 2019-07-11 50.98000 51.14000 49.68000 49.85000    83600   \n",
       "\n",
       "        d_open  d2_open  ma_open  prev_open  cluster  \\\n",
       "22498 -0.61000 -1.70000 69.59400   69.99000        4   \n",
       "22499  0.13000 -0.40000 32.58400   32.93000        0   \n",
       "22500  0.00500  0.10500  2.37500    2.34000        0   \n",
       "22501 -0.39000 -1.12000 10.20000   10.84000        0   \n",
       "22502  0.68000  0.11000 49.84800   50.30000        0   \n",
       "\n",
       "                                               centroids  \n",
       "22498  [92.29757898383372, 0.07322471131639785, -1.04...  \n",
       "22499  [16.207586599477416, -0.022697984322508136, -0...  \n",
       "22500  [16.207586599477416, -0.022697984322508136, -0...  \n",
       "22501  [16.207586599477416, -0.022697984322508136, -0...  \n",
       "22502  [16.207586599477416, -0.022697984322508136, -0...  "
      ]
     },
     "execution_count": 17,
     "metadata": {},
     "output_type": "execute_result"
    }
   ],
   "source": [
    "# Create a copy of our dataframe so we can play around\n",
    "copy = df_07_11_2019.copy()\n",
    "\n",
    "# Remove any bad data\n",
    "copy = copy[~copy.isin([numpy.nan, numpy.inf, -numpy.inf]).any(1)]\n",
    "\n",
    "# Create an instance of our model\n",
    "model = KMeans(n_clusters=5, random_state=42)\n",
    "\n",
    "# Set the parameters for our model\n",
    "variables = [\"open\", \"d_open\", \"d2_open\", \"ma_open\", \"prev_open\"]\n",
    "model_parameters = copy[variables]\n",
    "fit = model.fit(model_parameters)\n",
    "\n",
    "# Set the cluster for the coresponding data point\n",
    "copy[\"cluster\"] = fit.labels_.astype(int)\n",
    "\n",
    "# Set the centroid coresponding to that cluster\n",
    "centroids = model.cluster_centers_\n",
    "copy[\"centroids\"] = [centroids[cluster] for cluster in copy[\"cluster\"]]\n",
    "\n",
    "copy.head()"
   ]
  },
  {
   "cell_type": "markdown",
   "metadata": {},
   "source": [
    "Our centroids are now expressed for multivariate vectors. \n",
    "\n",
    "We can extract the information into a table to show us what is what. Below, each row coresponds to a cluster. Each column coresponds to a variable. The first row is the first cluster, the first column is the first variable."
   ]
  },
  {
   "cell_type": "code",
   "execution_count": 18,
   "metadata": {
    "jupyter": {
     "source_hidden": true
    },
    "tags": []
   },
   "outputs": [
    {
     "data": {
      "text/html": [
       "<div>\n",
       "<style scoped>\n",
       "    .dataframe tbody tr th:only-of-type {\n",
       "        vertical-align: middle;\n",
       "    }\n",
       "\n",
       "    .dataframe tbody tr th {\n",
       "        vertical-align: top;\n",
       "    }\n",
       "\n",
       "    .dataframe thead th {\n",
       "        text-align: right;\n",
       "    }\n",
       "</style>\n",
       "<table border=\"1\" class=\"dataframe\">\n",
       "  <thead>\n",
       "    <tr style=\"text-align: right;\">\n",
       "      <th></th>\n",
       "      <th>open</th>\n",
       "      <th>d_open</th>\n",
       "      <th>d2_open</th>\n",
       "      <th>ma_open</th>\n",
       "      <th>prev_open</th>\n",
       "    </tr>\n",
       "  </thead>\n",
       "  <tbody>\n",
       "    <tr>\n",
       "      <th>0</th>\n",
       "      <td>16.20759</td>\n",
       "      <td>-0.02270</td>\n",
       "      <td>-0.15981</td>\n",
       "      <td>16.19666</td>\n",
       "      <td>16.23028</td>\n",
       "    </tr>\n",
       "    <tr>\n",
       "      <th>1</th>\n",
       "      <td>1950.53500</td>\n",
       "      <td>7.02000</td>\n",
       "      <td>-26.09500</td>\n",
       "      <td>1929.51100</td>\n",
       "      <td>1943.51500</td>\n",
       "    </tr>\n",
       "    <tr>\n",
       "      <th>2</th>\n",
       "      <td>927.00750</td>\n",
       "      <td>-0.71750</td>\n",
       "      <td>-16.45750</td>\n",
       "      <td>923.01550</td>\n",
       "      <td>927.72500</td>\n",
       "    </tr>\n",
       "    <tr>\n",
       "      <th>3</th>\n",
       "      <td>296.20404</td>\n",
       "      <td>1.01660</td>\n",
       "      <td>-2.06085</td>\n",
       "      <td>294.25596</td>\n",
       "      <td>295.18745</td>\n",
       "    </tr>\n",
       "    <tr>\n",
       "      <th>4</th>\n",
       "      <td>92.29758</td>\n",
       "      <td>0.07322</td>\n",
       "      <td>-1.04007</td>\n",
       "      <td>91.85052</td>\n",
       "      <td>92.22435</td>\n",
       "    </tr>\n",
       "  </tbody>\n",
       "</table>\n",
       "</div>"
      ],
      "text/plain": [
       "        open   d_open   d2_open    ma_open  prev_open\n",
       "0   16.20759 -0.02270  -0.15981   16.19666   16.23028\n",
       "1 1950.53500  7.02000 -26.09500 1929.51100 1943.51500\n",
       "2  927.00750 -0.71750 -16.45750  923.01550  927.72500\n",
       "3  296.20404  1.01660  -2.06085  294.25596  295.18745\n",
       "4   92.29758  0.07322  -1.04007   91.85052   92.22435"
      ]
     },
     "execution_count": 18,
     "metadata": {},
     "output_type": "execute_result"
    }
   ],
   "source": [
    "centroids_df = pandas.DataFrame(centroids, columns=variables)\n",
    "centroids_df"
   ]
  },
  {
   "cell_type": "markdown",
   "metadata": {},
   "source": [
    "We can find the distance between clusters using the norm of the difference between the centroids"
   ]
  },
  {
   "cell_type": "code",
   "execution_count": 19,
   "metadata": {},
   "outputs": [
    {
     "data": {
      "text/html": [
       "<div>\n",
       "<style scoped>\n",
       "    .dataframe tbody tr th:only-of-type {\n",
       "        vertical-align: middle;\n",
       "    }\n",
       "\n",
       "    .dataframe tbody tr th {\n",
       "        vertical-align: top;\n",
       "    }\n",
       "\n",
       "    .dataframe thead th {\n",
       "        text-align: right;\n",
       "    }\n",
       "</style>\n",
       "<table border=\"1\" class=\"dataframe\">\n",
       "  <thead>\n",
       "    <tr style=\"text-align: right;\">\n",
       "      <th></th>\n",
       "      <th>0</th>\n",
       "      <th>1</th>\n",
       "      <th>2</th>\n",
       "      <th>3</th>\n",
       "      <th>4</th>\n",
       "    </tr>\n",
       "  </thead>\n",
       "  <tbody>\n",
       "    <tr>\n",
       "      <th>0</th>\n",
       "      <td>0</td>\n",
       "      <td>3334</td>\n",
       "      <td>1575</td>\n",
       "      <td>483</td>\n",
       "      <td>131</td>\n",
       "    </tr>\n",
       "    <tr>\n",
       "      <th>1</th>\n",
       "      <td>3334</td>\n",
       "      <td>0</td>\n",
       "      <td>1758</td>\n",
       "      <td>2851</td>\n",
       "      <td>3202</td>\n",
       "    </tr>\n",
       "    <tr>\n",
       "      <th>2</th>\n",
       "      <td>1575</td>\n",
       "      <td>1758</td>\n",
       "      <td>0</td>\n",
       "      <td>1092</td>\n",
       "      <td>1444</td>\n",
       "    </tr>\n",
       "    <tr>\n",
       "      <th>3</th>\n",
       "      <td>483</td>\n",
       "      <td>2851</td>\n",
       "      <td>1092</td>\n",
       "      <td>0</td>\n",
       "      <td>351</td>\n",
       "    </tr>\n",
       "    <tr>\n",
       "      <th>4</th>\n",
       "      <td>131</td>\n",
       "      <td>3202</td>\n",
       "      <td>1444</td>\n",
       "      <td>351</td>\n",
       "      <td>0</td>\n",
       "    </tr>\n",
       "  </tbody>\n",
       "</table>\n",
       "</div>"
      ],
      "text/plain": [
       "      0     1     2     3     4\n",
       "0     0  3334  1575   483   131\n",
       "1  3334     0  1758  2851  3202\n",
       "2  1575  1758     0  1092  1444\n",
       "3   483  2851  1092     0   351\n",
       "4   131  3202  1444   351     0"
      ]
     },
     "execution_count": 19,
     "metadata": {},
     "output_type": "execute_result"
    }
   ],
   "source": [
    "# Create an adjacency matrix\n",
    "shape = (len(centroids), len(centroids))\n",
    "distances = numpy.zeros(shape, dtype=int, order='C')\n",
    "for row in range(0, len(distances)):\n",
    "    for column in range(0, len(distances[0])):\n",
    "        a = centroids[row]\n",
    "        b = centroids[column]\n",
    "        distance = numpy.linalg.norm(a - b)\n",
    "        distances[row][column] = distance\n",
    "distance = pandas.DataFrame(distances)\n",
    "distance"
   ]
  },
  {
   "cell_type": "markdown",
   "metadata": {},
   "source": [
    "Lets look at the clusters visually. Each cluster has a unique color. The cluster centroids are indicated in red."
   ]
  },
  {
   "cell_type": "code",
   "execution_count": 20,
   "metadata": {
    "tags": []
   },
   "outputs": [
    {
     "data": {
      "image/png": "[encoded data removed]",
      "text/plain": [
       "<Figure size 1440x720 with 8 Axes>"
      ]
     },
     "metadata": {
      "needs_background": "light"
     },
     "output_type": "display_data"
    }
   ],
   "source": [
    "fig, ax = pyplot.subplots(figsize=(20, 10), nrows=4, ncols=2)\n",
    "fig.tight_layout(h_pad=2)\n",
    "\n",
    "ax[0, 0].set_title(\"open vs. d_open\", fontsize=20);\n",
    "ax[0, 0].scatter(copy[\"open\"], copy[\"d_open\"], c=copy[\"cluster\"]);\n",
    "ax[0, 0].scatter(centroids_df[\"open\"], centroids_df[\"d_open\"], c='red')\n",
    "\n",
    "ax[1, 0].set_title(\"open vs. d2_open\", fontsize=20);\n",
    "ax[1, 0].scatter(copy[\"open\"], copy[\"d2_open\"], c=copy[\"cluster\"]);\n",
    "ax[1, 0].scatter(centroids_df[\"open\"], centroids_df[\"d2_open\"], c='red')\n",
    "\n",
    "ax[2, 0].set_title(\"open vs. ma_open\", fontsize=20);\n",
    "ax[2, 0].scatter(copy[\"open\"], copy[\"ma_open\"], c=copy[\"cluster\"]);\n",
    "ax[2, 0].scatter(centroids_df[\"open\"], centroids_df[\"ma_open\"], c='red')\n",
    "\n",
    "ax[3, 0].set_title(\"open vs. prev_open\", fontsize=20);\n",
    "ax[3, 0].scatter(copy[\"open\"], copy[\"prev_open\"], c=copy[\"cluster\"]);\n",
    "ax[3, 0].scatter(centroids_df[\"open\"], centroids_df[\"prev_open\"], c='red')\n",
    "\n",
    "ax[0, 1].set_title(\"d_open vs. d2_open\", fontsize=20);\n",
    "ax[0, 1].scatter(copy[\"d_open\"], copy[\"d2_open\"], c=copy[\"cluster\"]);\n",
    "ax[0, 1].scatter(centroids_df[\"d_open\"], centroids_df[\"d2_open\"], c='red')\n",
    "\n",
    "ax[1, 1].set_title(\"d_open vs. ma_open\", fontsize=20);\n",
    "ax[1, 1].scatter(copy[\"d_open\"], copy[\"ma_open\"], c=copy[\"cluster\"]);\n",
    "ax[1, 1].scatter(centroids_df[\"d_open\"], centroids_df[\"ma_open\"], c='red')\n",
    "\n",
    "ax[2, 1].set_title(\"d_open vs. prev_open\", fontsize=20);\n",
    "ax[2, 1].scatter(copy[\"d_open\"], copy[\"prev_open\"], c=copy[\"cluster\"]);\n",
    "ax[2, 1].scatter(centroids_df[\"d_open\"], centroids_df[\"prev_open\"], c='red')\n",
    "\n",
    "ax[3, 1].set_title(\"ma_open vs. d2_open\", fontsize=20);\n",
    "ax[3, 1].scatter(copy[\"ma_open\"], copy[\"d2_open\"], c=copy[\"cluster\"]);\n",
    "ax[3, 1].scatter(centroids_df[\"ma_open\"], centroids_df[\"d2_open\"], c='red');"
   ]
  },
  {
   "cell_type": "markdown",
   "metadata": {},
   "source": [
    "# 4. Colors and Matplotlib Scatter Plots\n",
    "Previously we have been using the cluster index to represent the color for a given point. Behind the scenes there is some magic happening to map those cluster numbers to colors. In this section we have a look at how this works. We also look at pulling human names for the associated colors.\n",
    "\n",
    "In a nutshell, we are answeing the question \"Hey, which cluster in that purple cluster?\""
   ]
  },
  {
   "cell_type": "code",
   "execution_count": 21,
   "metadata": {
    "jupyter": {
     "source_hidden": true
    },
    "tags": []
   },
   "outputs": [],
   "source": [
    "# Import the color map and webcolor libraries to help us identify the colors assigned in our visualization\n",
    "\n",
    "import matplotlib.cm as cm\n",
    "import webcolors\n",
    "\n",
    "# When we used pyplot earlier to create a scatter plot, we used the cluster indexes as a color code\n",
    "# Behind the scenes, pyplot uses the viridis color map (by default) to convert numbers into colors.\n",
    "# It does this by normalizing the integer values according to the cluster index range and then\n",
    "# looking up the coresponding hexadecimal color value for the coresponding normalized value \n",
    "# We needed to do some magic to reverse engineer the process\n",
    "\n",
    "def int_to_hex(value, cmap_name='viridis', vmin=0, vmax=1):\n",
    "    norm = matplotlib.colors.Normalize(vmin=vmin, vmax=vmax)\n",
    "    cmap = cm.get_cmap(cmap_name)\n",
    "    rgb = cmap(norm(abs(value)))[:3]\n",
    "    color = matplotlib.colors.rgb2hex(rgb)\n",
    "    return color\n",
    "\n",
    "# Mapping the hexedecimal number to the human friendly name is a tricky subject.\n",
    "# For a small craction of colors, theres is a CSS standard which dictates a name for the code\n",
    "# For all the rest... there is no standard\n",
    "# I have seen implimentations where a site (like xkcd) takes a survey of the color names and provides a lookup table\n",
    "# I have taken a hybrid approach:\n",
    "# We have the CSS lookups and we have some exact matches in a lookup table\n",
    "# I use a function to find the closest value mathematically\n",
    "\n",
    "file_path = \"rgb.txt\"\n",
    "color_dataframe = pandas.read_csv(file_path, names=[\"name\", \"hex\"], header=None, comment='!', skip_blank_lines=True)\n",
    "color_dataframe.head()\n",
    "    \n",
    "def closest_colour(rgb_tuple):\n",
    "\n",
    "    min_colours = {}\n",
    "    for i, row in color_dataframe.iterrows():\n",
    "        color_name = row[\"name\"]\n",
    "        color_hex = row[\"hex\"]\n",
    "        r_c, g_c, b_c = webcolors.hex_to_rgb(color_hex)\n",
    "        rd = (r_c - rgb_tuple[0]) ** 2\n",
    "        gd = (g_c - rgb_tuple[1]) ** 2\n",
    "        bd = (b_c - rgb_tuple[2]) ** 2\n",
    "        min_colours[(rd + gd + bd)] = color_name\n",
    "    return min_colours[min(min_colours.keys())]"
   ]
  },
  {
   "cell_type": "code",
   "execution_count": 22,
   "metadata": {
    "jupyter": {
     "source_hidden": true
    },
    "tags": []
   },
   "outputs": [
    {
     "data": {
      "text/html": [
       "<div>\n",
       "<style scoped>\n",
       "    .dataframe tbody tr th:only-of-type {\n",
       "        vertical-align: middle;\n",
       "    }\n",
       "\n",
       "    .dataframe tbody tr th {\n",
       "        vertical-align: top;\n",
       "    }\n",
       "\n",
       "    .dataframe thead th {\n",
       "        text-align: right;\n",
       "    }\n",
       "</style>\n",
       "<table border=\"1\" class=\"dataframe\">\n",
       "  <thead>\n",
       "    <tr style=\"text-align: right;\">\n",
       "      <th></th>\n",
       "      <th>cluster</th>\n",
       "      <th>color hex</th>\n",
       "      <th>rgb</th>\n",
       "      <th>color name</th>\n",
       "    </tr>\n",
       "  </thead>\n",
       "  <tbody>\n",
       "    <tr>\n",
       "      <th>0</th>\n",
       "      <td>0</td>\n",
       "      <td>#440154</td>\n",
       "      <td>(68, 1, 84)</td>\n",
       "      <td>dark purple</td>\n",
       "    </tr>\n",
       "    <tr>\n",
       "      <th>1</th>\n",
       "      <td>1</td>\n",
       "      <td>#3b528b</td>\n",
       "      <td>(59, 82, 139)</td>\n",
       "      <td>dark slate blue</td>\n",
       "    </tr>\n",
       "    <tr>\n",
       "      <th>2</th>\n",
       "      <td>2</td>\n",
       "      <td>#21918c</td>\n",
       "      <td>(33, 145, 140)</td>\n",
       "      <td>dark cyan</td>\n",
       "    </tr>\n",
       "    <tr>\n",
       "      <th>3</th>\n",
       "      <td>3</td>\n",
       "      <td>#5ec962</td>\n",
       "      <td>(94, 201, 98)</td>\n",
       "      <td>bright green</td>\n",
       "    </tr>\n",
       "    <tr>\n",
       "      <th>4</th>\n",
       "      <td>4</td>\n",
       "      <td>#fde725</td>\n",
       "      <td>(253, 231, 37)</td>\n",
       "      <td>gold</td>\n",
       "    </tr>\n",
       "  </tbody>\n",
       "</table>\n",
       "</div>"
      ],
      "text/plain": [
       "  cluster color hex             rgb       color name\n",
       "0       0   #440154     (68, 1, 84)      dark purple\n",
       "1       1   #3b528b   (59, 82, 139)  dark slate blue\n",
       "2       2   #21918c  (33, 145, 140)        dark cyan\n",
       "3       3   #5ec962   (94, 201, 98)     bright green\n",
       "4       4   #fde725  (253, 231, 37)             gold"
      ]
     },
     "execution_count": 22,
     "metadata": {},
     "output_type": "execute_result"
    }
   ],
   "source": [
    "# Get paramters for the color conversion\n",
    "vmin = copy['cluster'].min()\n",
    "vmax = copy['cluster'].max()\n",
    "color_df = pandas.DataFrame({}, columns=[\"cluster\", \"color hex\", \"rgb\", \"color name\"])\n",
    "cluster_numbers = numpy.sort(copy[\"cluster\"].unique())\n",
    "for cluster_number in cluster_numbers:    \n",
    "    color_hex = int_to_hex(cluster_number, vmin=vmin, vmax=vmax)\n",
    "    color_rgb = tuple(webcolors.hex_to_rgb(color_hex))\n",
    "    color_name = closest_colour(color_rgb)\n",
    "    color_df = color_df.append({\n",
    "        \"cluster\": cluster_number, \n",
    "        \"color hex\": color_hex, \n",
    "        \"rgb\": color_rgb, \n",
    "        \"color name\": color_name\n",
    "    }, ignore_index=True)\n",
    "color_df.head()"
   ]
  },
  {
   "cell_type": "code",
   "execution_count": 23,
   "metadata": {
    "jupyter": {
     "source_hidden": true
    },
    "tags": []
   },
   "outputs": [
    {
     "data": {
      "image/png": "[encoded data removed]",
      "text/plain": [
       "<Figure size 432x288 with 1 Axes>"
      ]
     },
     "metadata": {
      "needs_background": "light"
     },
     "output_type": "display_data"
    }
   ],
   "source": [
    "fig, ax = pyplot.subplots()\n",
    "fig.tight_layout(h_pad=2)\n",
    "ax.get_yaxis().set_visible(False)\n",
    "ax.tick_params(axis='x', labelrotation=45) \n",
    "ax.bar(color_df[\"color name\"], [5 for x in color_df[\"cluster\"]], color=color_df[\"color hex\"]);"
   ]
  },
  {
   "cell_type": "markdown",
   "metadata": {},
   "source": [
    "# 5. Hyperparameter Tuning the K-Means Algorithm\n",
    "The K-Means algorithm has only one parameter which makes it a great model to talk about if you're new to hyperparameter tuning. Having one parameter to optimize means simpler code and simpler processes to check our work."
   ]
  },
  {
   "cell_type": "markdown",
   "metadata": {},
   "source": [
    "## 5.1. Hyperparameter tuning refresher\n",
    "In a nutshell, hyperparameter tuning is an exercise of optimizing a loss function. Another way of saying this is finding the optimal parameter which yields the best fit given computational constraints.\n",
    "\n",
    "No matter what model or parameter set the problem breaks down to a **loss function** and an **optimization technique**; the former typically informing the latter. The loss function measures how well our model fit the data or performed during testing. The optimization technique is the method by which we determine our optimal parameter set."
   ]
  },
  {
   "cell_type": "markdown",
   "metadata": {},
   "source": [
    "## 6.2. The Loss Function for K-Means Optimization\n",
    "As mentioned earlier, we can break this problem down into two simple components: a loss function and an optimization technique. \n",
    "\n",
    "For our loss function, we can use sum of squares which is provided out-of-the-box by scikit-learn. Note: There are many possible loss functions that one can use, we have selected this function out of convenience."
   ]
  },
  {
   "cell_type": "markdown",
   "metadata": {},
   "source": [
    "### 6.2.1. Sum Of Squares\n",
    "\n",
    "Recall the following definition:\n",
    "\n",
    "$$ Sum \\ of \\ squares  = \\sum^n_{i=0}(x_i - \\bar{x})^2 $$\n",
    "\n",
    "In this case, $X$ represents the values of the variables associated with the cluster at a given point in time."
   ]
  },
  {
   "cell_type": "markdown",
   "metadata": {},
   "source": [
    "### 6.2.1. Sum Of Squares using scikitlearn\n",
    "\n",
    "The K-Means implimentation from scikitlearn already builds this calculatation into the model object it creates. We will modify our code from before to take advantage of this feature."
   ]
  },
  {
   "cell_type": "code",
   "execution_count": 24,
   "metadata": {
    "jupyter": {
     "source_hidden": true
    },
    "tags": []
   },
   "outputs": [
    {
     "name": "stderr",
     "output_type": "stream",
     "text": [
      "[=====================================] Processed: 30 / 3530 ops Time:  0:00:07\n"
     ]
    }
   ],
   "source": [
    "# Create a copy of our dataframe so we can play around\n",
    "copy = df_07_11_2019.copy()\n",
    "\n",
    "# Remove any bad data\n",
    "copy = copy[~copy.isin([numpy.nan, numpy.inf, -numpy.inf]).any(1)]\n",
    "\n",
    "# Specify a maximum number of clusters to try\n",
    "max_cluster_count = 30\n",
    "range_of_cluster_counts = range(1, max_cluster_count)\n",
    "\n",
    "# Create a progress bar to keep us updates while the numbers crunch\n",
    "num_ops = max_cluster_count\n",
    "bar = progressbar.ProgressBar(maxval=num_ops, widgets=progress_bar_widgets)\n",
    "bar.start()\n",
    "count = 0\n",
    "\n",
    "# Fit the data using the number of clusters specified\n",
    "cluster_sos = None\n",
    "for cluster_count in range_of_cluster_counts:\n",
    "    \n",
    "    # Create an instance of our model\n",
    "    model = KMeans(n_clusters=cluster_count, random_state=42)\n",
    "\n",
    "    # Set the parameters for our model\n",
    "    model_parameters = copy[[\"open\", \"d_open\", \"d2_open\", \"ma_open\", \"prev_open\"]]\n",
    "    fit = model.fit(model_parameters)\n",
    "\n",
    "    # Save the sos data\n",
    "    row = {\n",
    "        \"cluster count\": cluster_count,\n",
    "        \"sos\": model.inertia_\n",
    "    }\n",
    "    if cluster_sos is None:\n",
    "        cluster_sos = pandas.DataFrame(row, index=[0])\n",
    "    else:\n",
    "        cluster_sos = cluster_sos.append(row, ignore_index=True)\n",
    "    \n",
    "    # Update the progress bar\n",
    "    count += 1\n",
    "    bar.update(count)\n",
    "\n",
    "bar.finish()"
   ]
  },
  {
   "cell_type": "code",
   "execution_count": 25,
   "metadata": {},
   "outputs": [
    {
     "data": {
      "text/html": [
       "<div>\n",
       "<style scoped>\n",
       "    .dataframe tbody tr th:only-of-type {\n",
       "        vertical-align: middle;\n",
       "    }\n",
       "\n",
       "    .dataframe tbody tr th {\n",
       "        vertical-align: top;\n",
       "    }\n",
       "\n",
       "    .dataframe thead th {\n",
       "        text-align: right;\n",
       "    }\n",
       "</style>\n",
       "<table border=\"1\" class=\"dataframe\">\n",
       "  <thead>\n",
       "    <tr style=\"text-align: right;\">\n",
       "      <th></th>\n",
       "      <th>cluster count</th>\n",
       "      <th>sos</th>\n",
       "    </tr>\n",
       "  </thead>\n",
       "  <tbody>\n",
       "    <tr>\n",
       "      <th>0</th>\n",
       "      <td>1.00000</td>\n",
       "      <td>52940926.55852</td>\n",
       "    </tr>\n",
       "    <tr>\n",
       "      <th>1</th>\n",
       "      <td>2.00000</td>\n",
       "      <td>25288408.42660</td>\n",
       "    </tr>\n",
       "    <tr>\n",
       "      <th>2</th>\n",
       "      <td>3.00000</td>\n",
       "      <td>12238345.98847</td>\n",
       "    </tr>\n",
       "    <tr>\n",
       "      <th>3</th>\n",
       "      <td>4.00000</td>\n",
       "      <td>7384636.27569</td>\n",
       "    </tr>\n",
       "    <tr>\n",
       "      <th>4</th>\n",
       "      <td>5.00000</td>\n",
       "      <td>5021840.46284</td>\n",
       "    </tr>\n",
       "    <tr>\n",
       "      <th>5</th>\n",
       "      <td>6.00000</td>\n",
       "      <td>3030011.07666</td>\n",
       "    </tr>\n",
       "    <tr>\n",
       "      <th>6</th>\n",
       "      <td>7.00000</td>\n",
       "      <td>2110835.33600</td>\n",
       "    </tr>\n",
       "    <tr>\n",
       "      <th>7</th>\n",
       "      <td>8.00000</td>\n",
       "      <td>1487709.16141</td>\n",
       "    </tr>\n",
       "    <tr>\n",
       "      <th>8</th>\n",
       "      <td>9.00000</td>\n",
       "      <td>1120049.65002</td>\n",
       "    </tr>\n",
       "    <tr>\n",
       "      <th>9</th>\n",
       "      <td>10.00000</td>\n",
       "      <td>865522.18517</td>\n",
       "    </tr>\n",
       "  </tbody>\n",
       "</table>\n",
       "</div>"
      ],
      "text/plain": [
       "   cluster count            sos\n",
       "0        1.00000 52940926.55852\n",
       "1        2.00000 25288408.42660\n",
       "2        3.00000 12238345.98847\n",
       "3        4.00000  7384636.27569\n",
       "4        5.00000  5021840.46284\n",
       "5        6.00000  3030011.07666\n",
       "6        7.00000  2110835.33600\n",
       "7        8.00000  1487709.16141\n",
       "8        9.00000  1120049.65002\n",
       "9       10.00000   865522.18517"
      ]
     },
     "execution_count": 25,
     "metadata": {},
     "output_type": "execute_result"
    }
   ],
   "source": [
    "cluster_sos.head(10)"
   ]
  },
  {
   "cell_type": "markdown",
   "metadata": {},
   "source": [
    "We can plot our SOS accross the values of our hyper parameter and assess what number of clusters is best."
   ]
  },
  {
   "cell_type": "code",
   "execution_count": 26,
   "metadata": {
    "jupyter": {
     "source_hidden": true
    }
   },
   "outputs": [
    {
     "data": {
      "image/png": "[encoded data removed]",
      "text/plain": [
       "<Figure size 432x288 with 1 Axes>"
      ]
     },
     "metadata": {
      "needs_background": "light"
     },
     "output_type": "display_data"
    }
   ],
   "source": [
    "pyplot.plot(cluster_sos[\"cluster count\"], cluster_sos[\"sos\"]);"
   ]
  },
  {
   "cell_type": "markdown",
   "metadata": {},
   "source": [
    "Visually we might assess that somewhere between 5 and 10 is the point where marginal benefit becomes insignificant. But how do we mathematically choose an exact point? There are a number of methods. A large branch of them full under the category of the \"elbow method\". This is discussed in greater detail in the Optimization notebook."
   ]
  },
  {
   "cell_type": "markdown",
   "metadata": {},
   "source": [
    "Luckily, there is a python implimentation of this method available in the [kneed library](https://github.com/arvkevi/kneed)."
   ]
  },
  {
   "cell_type": "code",
   "execution_count": 27,
   "metadata": {},
   "outputs": [
    {
     "name": "stdout",
     "output_type": "stream",
     "text": [
      "Our knee point is: 6\n"
     ]
    },
    {
     "data": {
      "image/png": "[encoded data removed]",
      "text/plain": [
       "<Figure size 432x288 with 1 Axes>"
      ]
     },
     "metadata": {
      "needs_background": "light"
     },
     "output_type": "display_data"
    }
   ],
   "source": [
    "import kneed\n",
    "x = cluster_sos[\"cluster count\"]\n",
    "y = cluster_sos[\"sos\"]\n",
    "kneedle = kneed.KneeLocator(x, y, S=1.0, curve=\"convex\", direction=\"decreasing\")\n",
    "knee_point = int(kneedle.knee)\n",
    "print(\"Our knee point is: {0}\".format(knee_point))\n",
    "fig, ax = pyplot.subplots()\n",
    "ax.plot(cluster_sos[\"cluster count\"], cluster_sos[\"sos\"]);\n",
    "ax.scatter(knee_point, cluster_sos[cluster_sos[\"cluster count\"] == knee_point][\"sos\"], c='red');"
   ]
  },
  {
   "cell_type": "markdown",
   "metadata": {},
   "source": [
    "So we can apply this optimization technique to K-Means and select the best number of clusters dynamically"
   ]
  },
  {
   "cell_type": "code",
   "execution_count": 28,
   "metadata": {
    "jupyter": {
     "source_hidden": true
    },
    "tags": []
   },
   "outputs": [],
   "source": [
    "from sklearn.cluster import KMeans\n",
    "\n",
    "def fit_kmeans_to_data(x, y, num_clusters, random_state=42):\n",
    "    \n",
    "    kmeans = KMeans(n_clusters=num_clusters, random_state=random_state)\n",
    "    df = pandas.DataFrame({\n",
    "        \"x\": x,\n",
    "        \"y\": y\n",
    "    })\n",
    "    fit = kmeans.fit(df)\n",
    "    centroids = kmeans.cluster_centers_\n",
    "    return fit, centroids, kmeans"
   ]
  },
  {
   "cell_type": "code",
   "execution_count": 38,
   "metadata": {
    "tags": []
   },
   "outputs": [
    {
     "name": "stdout",
     "output_type": "stream",
     "text": [
      "Index(['ticker', 'interval', 'date', 'open', 'high', 'low', 'close', 'volume',\n",
      "       'd_open', 'd2_open', 'ma_open', 'prev_open', 'cluster', 'centroid'],\n",
      "      dtype='object')\n",
      "Index(['ticker', 'interval', 'date', 'open', 'high', 'low', 'close', 'volume',\n",
      "       'd_open', 'd2_open', 'ma_open', 'prev_open'],\n",
      "      dtype='object')\n"
     ]
    }
   ],
   "source": [
    "def perform_kmeans_for_date(df, date, random_state):\n",
    "\n",
    "    # Get a subset of our data for a particular date\n",
    "    date_df = df[df[\"date\"] == date]\n",
    "\n",
    "    # Set the parameters for our model\n",
    "    variables = [\"open\", \"d_open\", \"d2_open\", \"ma_open\", \"prev_open\"]    \n",
    "    \n",
    "    # Remove any bad data\n",
    "    date_df = date_df[~date_df[variables].isin([numpy.nan, numpy.inf, -numpy.inf]).any(1)]\n",
    "\n",
    "    # Fit the model to find a varying number of clusters\n",
    "    cluster_counts = list(range(1, 31))\n",
    "    model_data = {}\n",
    "    for num_clusters in cluster_counts:\n",
    "    \n",
    "        # Create an instance of our model\n",
    "        model = KMeans(n_clusters=num_clusters, random_state=random_state)\n",
    "\n",
    "        # Fit the model\n",
    "        model_parameters = date_df[variables]\n",
    "        fit = model.fit(model_parameters)\n",
    "        \n",
    "        # Store information         \n",
    "        model_data[num_clusters] = {\n",
    "            \"sos\": model.inertia_,\n",
    "            \"fit\": fit,\n",
    "            \"centroids\": model.cluster_centers_,\n",
    "            \"model\": model,            \n",
    "        }\n",
    "\n",
    "    # Determine the knee point and thus the optimal hyper parameters\n",
    "    import kneed\n",
    "    knee_x = cluster_counts\n",
    "    knee_y = [model_data[cluster_count][\"sos\"] for cluster_count in cluster_counts]\n",
    "    kneedle = kneed.KneeLocator(knee_x, knee_y, S=1.0, curve=\"convex\", direction=\"decreasing\")\n",
    "    knee = int(kneedle.knee)  \n",
    "    \n",
    "    # Retrieve information\n",
    "    fit = model_data[knee][\"fit\"]\n",
    "    centroids = model_data[knee][\"centroids\"]\n",
    "    model = model_data[knee][\"model\"]    \n",
    "        \n",
    "    # Set the clusters and centroids\n",
    "    date_df[\"cluster\"] = fit.labels_.astype(int)\n",
    "    date_df[\"centroid\"] = [centroids[:, 0][i] for i in date_df[\"cluster\"]]\n",
    "    print(date_df.columns)\n",
    "    \n",
    "    # Add the information back to the dataframe\n",
    "    df.update(date_df)\n",
    "    print(df.columns)\n",
    "    \n",
    "    return date_df\n",
    "\n",
    "# Sanity check the code is working\n",
    "df_07_12_2019 = perform_kmeans_for_date(pandas_dataframe, '2019-07-12', 42)"
   ]
  },
  {
   "cell_type": "code",
   "execution_count": 35,
   "metadata": {},
   "outputs": [
    {
     "data": {
      "text/plain": [
       "Index(['ticker', 'interval', 'date', 'open', 'high', 'low', 'close', 'volume',\n",
       "       'd_open', 'd2_open', 'ma_open', 'prev_open'],\n",
       "      dtype='object')"
      ]
     },
     "execution_count": 35,
     "metadata": {},
     "output_type": "execute_result"
    }
   ],
   "source": []
  },
  {
   "cell_type": "code",
   "execution_count": 34,
   "metadata": {},
   "outputs": [
    {
     "data": {
      "text/html": [
       "<div>\n",
       "<style scoped>\n",
       "    .dataframe tbody tr th:only-of-type {\n",
       "        vertical-align: middle;\n",
       "    }\n",
       "\n",
       "    .dataframe tbody tr th {\n",
       "        vertical-align: top;\n",
       "    }\n",
       "\n",
       "    .dataframe thead th {\n",
       "        text-align: right;\n",
       "    }\n",
       "</style>\n",
       "<table border=\"1\" class=\"dataframe\">\n",
       "  <thead>\n",
       "    <tr style=\"text-align: right;\">\n",
       "      <th></th>\n",
       "      <th>ticker</th>\n",
       "      <th>interval</th>\n",
       "      <th>date</th>\n",
       "      <th>open</th>\n",
       "      <th>high</th>\n",
       "      <th>low</th>\n",
       "      <th>close</th>\n",
       "      <th>volume</th>\n",
       "      <th>d_open</th>\n",
       "      <th>d2_open</th>\n",
       "      <th>ma_open</th>\n",
       "      <th>prev_open</th>\n",
       "    </tr>\n",
       "  </thead>\n",
       "  <tbody>\n",
       "    <tr>\n",
       "      <th>22498</th>\n",
       "      <td>AABA</td>\n",
       "      <td>D</td>\n",
       "      <td>2019-07-11</td>\n",
       "      <td>69.38000</td>\n",
       "      <td>69.72000</td>\n",
       "      <td>68.90000</td>\n",
       "      <td>69.28000</td>\n",
       "      <td>2534300</td>\n",
       "      <td>-0.61000</td>\n",
       "      <td>-1.70000</td>\n",
       "      <td>69.59400</td>\n",
       "      <td>69.99000</td>\n",
       "    </tr>\n",
       "    <tr>\n",
       "      <th>22499</th>\n",
       "      <td>AAL</td>\n",
       "      <td>D</td>\n",
       "      <td>2019-07-11</td>\n",
       "      <td>33.06000</td>\n",
       "      <td>33.30000</td>\n",
       "      <td>32.82000</td>\n",
       "      <td>33.03000</td>\n",
       "      <td>6842800</td>\n",
       "      <td>0.13000</td>\n",
       "      <td>-0.40000</td>\n",
       "      <td>32.58400</td>\n",
       "      <td>32.93000</td>\n",
       "    </tr>\n",
       "    <tr>\n",
       "      <th>22500</th>\n",
       "      <td>AAME</td>\n",
       "      <td>D</td>\n",
       "      <td>2019-07-11</td>\n",
       "      <td>2.34500</td>\n",
       "      <td>2.34500</td>\n",
       "      <td>2.29000</td>\n",
       "      <td>2.29000</td>\n",
       "      <td>800</td>\n",
       "      <td>0.00500</td>\n",
       "      <td>0.10500</td>\n",
       "      <td>2.37500</td>\n",
       "      <td>2.34000</td>\n",
       "    </tr>\n",
       "    <tr>\n",
       "      <th>22501</th>\n",
       "      <td>AAOI</td>\n",
       "      <td>D</td>\n",
       "      <td>2019-07-11</td>\n",
       "      <td>10.45000</td>\n",
       "      <td>10.45000</td>\n",
       "      <td>9.87000</td>\n",
       "      <td>9.90000</td>\n",
       "      <td>610700</td>\n",
       "      <td>-0.39000</td>\n",
       "      <td>-1.12000</td>\n",
       "      <td>10.20000</td>\n",
       "      <td>10.84000</td>\n",
       "    </tr>\n",
       "    <tr>\n",
       "      <th>22502</th>\n",
       "      <td>AAON</td>\n",
       "      <td>D</td>\n",
       "      <td>2019-07-11</td>\n",
       "      <td>50.98000</td>\n",
       "      <td>51.14000</td>\n",
       "      <td>49.68000</td>\n",
       "      <td>49.85000</td>\n",
       "      <td>83600</td>\n",
       "      <td>0.68000</td>\n",
       "      <td>0.11000</td>\n",
       "      <td>49.84800</td>\n",
       "      <td>50.30000</td>\n",
       "    </tr>\n",
       "  </tbody>\n",
       "</table>\n",
       "</div>"
      ],
      "text/plain": [
       "      ticker interval       date     open     high      low    close   volume  \\\n",
       "22498   AABA        D 2019-07-11 69.38000 69.72000 68.90000 69.28000  2534300   \n",
       "22499    AAL        D 2019-07-11 33.06000 33.30000 32.82000 33.03000  6842800   \n",
       "22500   AAME        D 2019-07-11  2.34500  2.34500  2.29000  2.29000      800   \n",
       "22501   AAOI        D 2019-07-11 10.45000 10.45000  9.87000  9.90000   610700   \n",
       "22502   AAON        D 2019-07-11 50.98000 51.14000 49.68000 49.85000    83600   \n",
       "\n",
       "        d_open  d2_open  ma_open  prev_open  \n",
       "22498 -0.61000 -1.70000 69.59400   69.99000  \n",
       "22499  0.13000 -0.40000 32.58400   32.93000  \n",
       "22500  0.00500  0.10500  2.37500    2.34000  \n",
       "22501 -0.39000 -1.12000 10.20000   10.84000  \n",
       "22502  0.68000  0.11000 49.84800   50.30000  "
      ]
     },
     "execution_count": 34,
     "metadata": {},
     "output_type": "execute_result"
    }
   ],
   "source": [
    "df_07_11_2019.head()"
   ]
  },
  {
   "cell_type": "code",
   "execution_count": 32,
   "metadata": {
    "tags": []
   },
   "outputs": [
    {
     "ename": "KeyError",
     "evalue": "'cluster'",
     "output_type": "error",
     "traceback": [
      "\u001b[1;31m---------------------------------------------------------------------------\u001b[0m",
      "\u001b[1;31mKeyError\u001b[0m                                  Traceback (most recent call last)",
      "\u001b[1;32mc:\\program files\\python\\python 3.8\\lib\\site-packages\\pandas\\core\\indexes\\base.py\u001b[0m in \u001b[0;36mget_loc\u001b[1;34m(self, key, method, tolerance)\u001b[0m\n\u001b[0;32m   3079\u001b[0m             \u001b[1;32mtry\u001b[0m\u001b[1;33m:\u001b[0m\u001b[1;33m\u001b[0m\u001b[1;33m\u001b[0m\u001b[0m\n\u001b[1;32m-> 3080\u001b[1;33m                 \u001b[1;32mreturn\u001b[0m \u001b[0mself\u001b[0m\u001b[1;33m.\u001b[0m\u001b[0m_engine\u001b[0m\u001b[1;33m.\u001b[0m\u001b[0mget_loc\u001b[0m\u001b[1;33m(\u001b[0m\u001b[0mcasted_key\u001b[0m\u001b[1;33m)\u001b[0m\u001b[1;33m\u001b[0m\u001b[1;33m\u001b[0m\u001b[0m\n\u001b[0m\u001b[0;32m   3081\u001b[0m             \u001b[1;32mexcept\u001b[0m \u001b[0mKeyError\u001b[0m \u001b[1;32mas\u001b[0m \u001b[0merr\u001b[0m\u001b[1;33m:\u001b[0m\u001b[1;33m\u001b[0m\u001b[1;33m\u001b[0m\u001b[0m\n",
      "\u001b[1;32mpandas\\_libs\\index.pyx\u001b[0m in \u001b[0;36mpandas._libs.index.IndexEngine.get_loc\u001b[1;34m()\u001b[0m\n",
      "\u001b[1;32mpandas\\_libs\\index.pyx\u001b[0m in \u001b[0;36mpandas._libs.index.IndexEngine.get_loc\u001b[1;34m()\u001b[0m\n",
      "\u001b[1;32mpandas\\_libs\\hashtable_class_helper.pxi\u001b[0m in \u001b[0;36mpandas._libs.hashtable.PyObjectHashTable.get_item\u001b[1;34m()\u001b[0m\n",
      "\u001b[1;32mpandas\\_libs\\hashtable_class_helper.pxi\u001b[0m in \u001b[0;36mpandas._libs.hashtable.PyObjectHashTable.get_item\u001b[1;34m()\u001b[0m\n",
      "\u001b[1;31mKeyError\u001b[0m: 'cluster'",
      "\nThe above exception was the direct cause of the following exception:\n",
      "\u001b[1;31mKeyError\u001b[0m                                  Traceback (most recent call last)",
      "\u001b[1;32m<ipython-input-32-d297bc547d44>\u001b[0m in \u001b[0;36m<module>\u001b[1;34m\u001b[0m\n\u001b[0;32m      3\u001b[0m \u001b[1;33m\u001b[0m\u001b[0m\n\u001b[0;32m      4\u001b[0m \u001b[0max\u001b[0m\u001b[1;33m[\u001b[0m\u001b[1;36m0\u001b[0m\u001b[1;33m,\u001b[0m \u001b[1;36m0\u001b[0m\u001b[1;33m]\u001b[0m\u001b[1;33m.\u001b[0m\u001b[0mset_title\u001b[0m\u001b[1;33m(\u001b[0m\u001b[1;34m\"open vs. d_open\"\u001b[0m\u001b[1;33m,\u001b[0m \u001b[0mfontsize\u001b[0m\u001b[1;33m=\u001b[0m\u001b[1;36m20\u001b[0m\u001b[1;33m)\u001b[0m\u001b[1;33m;\u001b[0m\u001b[1;33m\u001b[0m\u001b[1;33m\u001b[0m\u001b[0m\n\u001b[1;32m----> 5\u001b[1;33m \u001b[0max\u001b[0m\u001b[1;33m[\u001b[0m\u001b[1;36m0\u001b[0m\u001b[1;33m,\u001b[0m \u001b[1;36m0\u001b[0m\u001b[1;33m]\u001b[0m\u001b[1;33m.\u001b[0m\u001b[0mscatter\u001b[0m\u001b[1;33m(\u001b[0m\u001b[0mdf_07_11_2019\u001b[0m\u001b[1;33m[\u001b[0m\u001b[1;34m\"open\"\u001b[0m\u001b[1;33m]\u001b[0m\u001b[1;33m,\u001b[0m \u001b[0mdf_07_11_2019\u001b[0m\u001b[1;33m[\u001b[0m\u001b[1;34m\"d_open\"\u001b[0m\u001b[1;33m]\u001b[0m\u001b[1;33m,\u001b[0m \u001b[0mc\u001b[0m\u001b[1;33m=\u001b[0m\u001b[0mdf_07_11_2019\u001b[0m\u001b[1;33m[\u001b[0m\u001b[1;34m\"cluster\"\u001b[0m\u001b[1;33m]\u001b[0m\u001b[1;33m)\u001b[0m\u001b[1;33m;\u001b[0m\u001b[1;33m\u001b[0m\u001b[1;33m\u001b[0m\u001b[0m\n\u001b[0m\u001b[0;32m      6\u001b[0m \u001b[1;33m\u001b[0m\u001b[0m\n\u001b[0;32m      7\u001b[0m \u001b[0max\u001b[0m\u001b[1;33m[\u001b[0m\u001b[1;36m1\u001b[0m\u001b[1;33m,\u001b[0m \u001b[1;36m0\u001b[0m\u001b[1;33m]\u001b[0m\u001b[1;33m.\u001b[0m\u001b[0mset_title\u001b[0m\u001b[1;33m(\u001b[0m\u001b[1;34m\"open vs. d2_open\"\u001b[0m\u001b[1;33m,\u001b[0m \u001b[0mfontsize\u001b[0m\u001b[1;33m=\u001b[0m\u001b[1;36m20\u001b[0m\u001b[1;33m)\u001b[0m\u001b[1;33m;\u001b[0m\u001b[1;33m\u001b[0m\u001b[1;33m\u001b[0m\u001b[0m\n",
      "\u001b[1;32mc:\\program files\\python\\python 3.8\\lib\\site-packages\\pandas\\core\\frame.py\u001b[0m in \u001b[0;36m__getitem__\u001b[1;34m(self, key)\u001b[0m\n\u001b[0;32m   3022\u001b[0m             \u001b[1;32mif\u001b[0m \u001b[0mself\u001b[0m\u001b[1;33m.\u001b[0m\u001b[0mcolumns\u001b[0m\u001b[1;33m.\u001b[0m\u001b[0mnlevels\u001b[0m \u001b[1;33m>\u001b[0m \u001b[1;36m1\u001b[0m\u001b[1;33m:\u001b[0m\u001b[1;33m\u001b[0m\u001b[1;33m\u001b[0m\u001b[0m\n\u001b[0;32m   3023\u001b[0m                 \u001b[1;32mreturn\u001b[0m \u001b[0mself\u001b[0m\u001b[1;33m.\u001b[0m\u001b[0m_getitem_multilevel\u001b[0m\u001b[1;33m(\u001b[0m\u001b[0mkey\u001b[0m\u001b[1;33m)\u001b[0m\u001b[1;33m\u001b[0m\u001b[1;33m\u001b[0m\u001b[0m\n\u001b[1;32m-> 3024\u001b[1;33m             \u001b[0mindexer\u001b[0m \u001b[1;33m=\u001b[0m \u001b[0mself\u001b[0m\u001b[1;33m.\u001b[0m\u001b[0mcolumns\u001b[0m\u001b[1;33m.\u001b[0m\u001b[0mget_loc\u001b[0m\u001b[1;33m(\u001b[0m\u001b[0mkey\u001b[0m\u001b[1;33m)\u001b[0m\u001b[1;33m\u001b[0m\u001b[1;33m\u001b[0m\u001b[0m\n\u001b[0m\u001b[0;32m   3025\u001b[0m             \u001b[1;32mif\u001b[0m \u001b[0mis_integer\u001b[0m\u001b[1;33m(\u001b[0m\u001b[0mindexer\u001b[0m\u001b[1;33m)\u001b[0m\u001b[1;33m:\u001b[0m\u001b[1;33m\u001b[0m\u001b[1;33m\u001b[0m\u001b[0m\n\u001b[0;32m   3026\u001b[0m                 \u001b[0mindexer\u001b[0m \u001b[1;33m=\u001b[0m \u001b[1;33m[\u001b[0m\u001b[0mindexer\u001b[0m\u001b[1;33m]\u001b[0m\u001b[1;33m\u001b[0m\u001b[1;33m\u001b[0m\u001b[0m\n",
      "\u001b[1;32mc:\\program files\\python\\python 3.8\\lib\\site-packages\\pandas\\core\\indexes\\base.py\u001b[0m in \u001b[0;36mget_loc\u001b[1;34m(self, key, method, tolerance)\u001b[0m\n\u001b[0;32m   3080\u001b[0m                 \u001b[1;32mreturn\u001b[0m \u001b[0mself\u001b[0m\u001b[1;33m.\u001b[0m\u001b[0m_engine\u001b[0m\u001b[1;33m.\u001b[0m\u001b[0mget_loc\u001b[0m\u001b[1;33m(\u001b[0m\u001b[0mcasted_key\u001b[0m\u001b[1;33m)\u001b[0m\u001b[1;33m\u001b[0m\u001b[1;33m\u001b[0m\u001b[0m\n\u001b[0;32m   3081\u001b[0m             \u001b[1;32mexcept\u001b[0m \u001b[0mKeyError\u001b[0m \u001b[1;32mas\u001b[0m \u001b[0merr\u001b[0m\u001b[1;33m:\u001b[0m\u001b[1;33m\u001b[0m\u001b[1;33m\u001b[0m\u001b[0m\n\u001b[1;32m-> 3082\u001b[1;33m                 \u001b[1;32mraise\u001b[0m \u001b[0mKeyError\u001b[0m\u001b[1;33m(\u001b[0m\u001b[0mkey\u001b[0m\u001b[1;33m)\u001b[0m \u001b[1;32mfrom\u001b[0m \u001b[0merr\u001b[0m\u001b[1;33m\u001b[0m\u001b[1;33m\u001b[0m\u001b[0m\n\u001b[0m\u001b[0;32m   3083\u001b[0m \u001b[1;33m\u001b[0m\u001b[0m\n\u001b[0;32m   3084\u001b[0m         \u001b[1;32mif\u001b[0m \u001b[0mtolerance\u001b[0m \u001b[1;32mis\u001b[0m \u001b[1;32mnot\u001b[0m \u001b[1;32mNone\u001b[0m\u001b[1;33m:\u001b[0m\u001b[1;33m\u001b[0m\u001b[1;33m\u001b[0m\u001b[0m\n",
      "\u001b[1;31mKeyError\u001b[0m: 'cluster'"
     ]
    },
    {
     "data": {
      "image/png": "[encoded data removed]",
      "text/plain": [
       "<Figure size 1440x720 with 8 Axes>"
      ]
     },
     "metadata": {
      "needs_background": "light"
     },
     "output_type": "display_data"
    }
   ],
   "source": [
    "fig, ax = pyplot.subplots(figsize=(20, 10), nrows=4, ncols=2)\n",
    "fig.tight_layout(h_pad=2)\n",
    "\n",
    "ax[0, 0].set_title(\"open vs. d_open\", fontsize=20);\n",
    "ax[0, 0].scatter(df_07_11_2019[\"open\"], df_07_11_2019[\"d_open\"], c=df_07_11_2019[\"cluster\"]);\n",
    "\n",
    "ax[1, 0].set_title(\"open vs. d2_open\", fontsize=20);\n",
    "ax[1, 0].scatter(df_07_11_2019[\"open\"], df_07_11_2019[\"d2_open\"], c=df_07_11_2019[\"cluster\"]);\n",
    "\n",
    "ax[2, 0].set_title(\"open vs. ma_open\", fontsize=20);\n",
    "ax[2, 0].scatter(df_07_11_2019[\"open\"], df_07_11_2019[\"ma_open\"], c=df_07_11_2019[\"cluster\"]);\n",
    "\n",
    "ax[3, 0].set_title(\"open vs. prev_open\", fontsize=20);\n",
    "ax[3, 0].scatter(df_07_11_2019[\"open\"], df_07_11_2019[\"prev_open\"], c=df_07_11_2019[\"cluster\"]);\n",
    "\n",
    "ax[0, 1].set_title(\"d_open vs. d2_open\", fontsize=20);\n",
    "ax[0, 1].scatter(df_07_11_2019[\"d_open\"], df_07_11_2019[\"d2_open\"], c=df_07_11_2019[\"cluster\"]);\n",
    "\n",
    "ax[1, 1].set_title(\"d_open vs. ma_open\", fontsize=20);\n",
    "ax[1, 1].scatter(df_07_11_2019[\"d_open\"], df_07_11_2019[\"ma_open\"], c=df_07_11_2019[\"cluster\"]);\n",
    "\n",
    "ax[2, 1].set_title(\"d_open vs. prev_open\", fontsize=20);\n",
    "ax[2, 1].scatter(df_07_11_2019[\"d_open\"], df_07_11_2019[\"prev_open\"], c=df_07_11_2019[\"cluster\"]);\n",
    "\n",
    "ax[3, 1].set_title(\"ma_open vs. d2_open\", fontsize=20);\n",
    "ax[3, 1].scatter(df_07_11_2019[\"ma_open\"], df_07_11_2019[\"d2_open\"], c=df_07_11_2019[\"cluster\"]);"
   ]
  },
  {
   "cell_type": "markdown",
   "metadata": {},
   "source": [
    "For more information about the application of K-Means, check out the notebooks regarding cluster analysis of time series data."
   ]
  }
 ],
 "metadata": {
  "kernelspec": {
   "display_name": "Python 3",
   "language": "python",
   "name": "python3"
  },
  "language_info": {
   "codemirror_mode": {
    "name": "ipython",
    "version": 3
   },
   "file_extension": ".py",
   "mimetype": "text/x-python",
   "name": "python",
   "nbconvert_exporter": "python",
   "pygments_lexer": "ipython3",
   "version": "3.6.8"
  }
 },
 "nbformat": 4,
 "nbformat_minor": 4
}
