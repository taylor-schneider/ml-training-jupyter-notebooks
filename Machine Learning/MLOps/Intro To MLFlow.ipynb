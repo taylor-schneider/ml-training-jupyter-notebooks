{
 "cells": [
  {
   "cell_type": "markdown",
   "id": "7aa97a78-ea0a-463f-b624-d92517d317f3",
   "metadata": {},
   "source": [
    "# Overview\n",
    "\n",
    "According to the [homepage](https://mlflow.org/) MLFlow is \"An open source platform for the machine learning lifecycle\". Its intended purpose is to provide a single tool which allows data scientists to address ML specific components of the Software Development Life cycle (SDLC) including: experimentation, reproducibility, model deployment, and a model storage in a centralizing model registry.\n",
    "\n",
    "The project breaks down into the following sub-components:\n",
    "- MLflow Tracking - Allows user to record and query experiments: code, data, config, and results\n",
    "- MLflow Projects - A standard package format allowing reproducable deployments of models to any platform regardless of where they were authored\n",
    "- MLflow Models - A unified abstraction layer allowing support for integration with multiple machine learning model libraries and providers\n",
    "- Model Registry - Store, annotate, discover, and manage models in a central repository\n",
    "\n",
    "We will see that each sub-component has a coresponding UI and API.\n",
    "\n",
    "The project page boasts integrations with many big name players, providers, and technology stacks and sees contributions coming from many big names in the space."
   ]
  },
  {
   "cell_type": "markdown",
   "id": "2f3d3f29-c50a-498c-8b99-eaf88b1e7f0b",
   "metadata": {},
   "source": [
    "## Agenda\n",
    "\n",
    "In this notebook we will get our feet wet and explore the basic functionalities. For official documentation, see the [MLFlow quickstart guide](https://mlflow.org/docs/latest/quickstart.html).\n",
    "\n"
   ]
  },
  {
   "cell_type": "markdown",
   "id": "26cc5ba8-f09f-48bf-a10b-843679baaef7",
   "metadata": {},
   "source": [
    "# 1. MLFlow Architecture\n",
    "\n",
    "Before we get started with MLFlow, It is important to understand the architectural components. As we will see in section 2, there are a number of ways to deploy the MLFlow. Before we choose a method, it is important to understand that an MLFlow deployment consists of the following components:\n",
    "- Backend - Persists MLflow entities (runs, parameters, metrics, tags, notes, metadata, etc)\n",
    "- Artifact Store - persists artifacts (files, models, images, in-memory objects, or model summary, etc)\n",
    "- REST API - The optional component exposing web based MLFlow API\n",
    "- Tracking UI - The Web UI for lets you visualize, search and compare runs, as well as download run artifacts or metadata for analysis in other tools, and register or tag models.\n",
    "\n"
   ]
  },
  {
   "cell_type": "markdown",
   "id": "11a602e1-b886-4a0b-b1a5-ce33e1d540ca",
   "metadata": {},
   "source": [
    "# 2. Deployment Options\n",
    "\n",
    "Reading through the [documentation](https://mlflow.org/docs/latest/tracking.html), assuming you are deploying your own MLFlow installation, you have the following documented options:\n",
    "\n",
    "<table >\n",
    "\t<tbody>\n",
    "\t\t<tr>\n",
    "\t\t\t<td>Scenario</td>\n",
    "\t\t\t<td>Description</td>\n",
    "\t\t\t<td>Backend</td>\n",
    "\t\t\t<td>Artifact Store</td>\n",
    "\t\t</tr>\n",
    "\t\t<tr>\n",
    "\t\t\t<td>1</td>\n",
    "\t\t\t<td>MLflow on localhost</td>\n",
    "\t\t\t<td>local ./mlruns&nbsp;directory</td>\n",
    "\t\t\t<td>local ./mlruns&nbsp;directory</td>\n",
    "\t\t</tr>\n",
    "\t\t<tr>\n",
    "\t\t\t<td>2</td>\n",
    "\t\t\t<td>MLflow on localhost with SQLite</td>\n",
    "\t\t\t<td>local ./mlruns directory</td>\n",
    "\t\t\t<td>local mlruns.db file</td>\n",
    "\t\t</tr>\n",
    "\t\t<tr>\n",
    "\t\t\t<td>3</td>\n",
    "\t\t\t<td>MLflow on localhost with Tracking Server</td>\n",
    "\t\t\t<td>A REST API utilizes&nbsp;./mlruns directory</td>\n",
    "\t\t\t<td>A REST API utilizes ./mlruns directory</td>\n",
    "\t\t</tr>\n",
    "\t\t<tr>\n",
    "\t\t\t<td>4</td>\n",
    "\t\t\t<td>MLflow with remote Tracking Server, backend and artifact stores</td>\n",
    "\t\t\t<td>A REST API utilizes remote backend</td>\n",
    "\t\t\t<td>A REST API utilizes remote artifact store</td>\n",
    "\t\t</tr>\n",
    "\t</tbody>\n",
    "</table>\n",
    "\n",
    "**Note**: None of these options discuss the MLFlow UI.\n",
    "\n",
    "Databricks and AWS also provide MLFlow deployments that data scientists can leverage.\n",
    "\n",
    "For our purposes, we will keep it simple and go with scenario 1 and host our own UI."
   ]
  },
  {
   "cell_type": "markdown",
   "id": "e9f5991d-b56d-4d70-a472-7b937bc0b2ae",
   "metadata": {},
   "source": [
    "# 3. MLFLow Object Model"
   ]
  },
  {
   "cell_type": "markdown",
   "id": "02c5424b-4405-4a33-a765-02b5cd576473",
   "metadata": {},
   "source": [
    "# 4. Launching MLFlow\n",
    "Launching MLFlow from a jupyter notebook is a bit complicated. Long story short; we will need to launch the process in a separate thread so that the jupyter cell does not block us by running forever."
   ]
  },
  {
   "cell_type": "code",
   "execution_count": 21,
   "id": "be4a38d9-93f0-4830-8bfb-106bdc02a9e0",
   "metadata": {
    "tags": []
   },
   "outputs": [
    {
     "name": "stdout",
     "output_type": "stream",
     "text": [
      "It looks like MLFlow is already running. Check is python.exe is listening on port 5000 \n",
      "MLFlow should be accessible at http://localhost:5000\n"
     ]
    }
   ],
   "source": [
    "shell_command = \"mlflow ui\"\n",
    "mlflow_port = 5000\n",
    "\n",
    "def mlflow_running():\n",
    "    import socket\n",
    "    with socket.socket(socket.AF_INET, socket.SOCK_STREAM) as s:\n",
    "        running = s.connect_ex(('localhost', mlflow_port)) == 0\n",
    "        return running\n",
    "    \n",
    "if mlflow_running():\n",
    "    print(\"It looks like MLFlow is already running. Check is python.exe is listening on port 5000 \")\n",
    "else:\n",
    "    print(\"Starting MLFlow\")\n",
    "    import subprocess\n",
    "    process = subprocess.Popen(shell_command)\n",
    "print(\"MLFlow should be accessible at http://localhost:5000\")"
   ]
  },
  {
   "cell_type": "markdown",
   "id": "a25b33c0-1521-4975-9c00-775479693c02",
   "metadata": {},
   "source": [
    "Once launched, you should see a page like this:\n",
    "\n",
    "<center><img src=\"images/mlflow_ui.png\" ></center>"
   ]
  },
  {
   "cell_type": "markdown",
   "id": "4af14dc2-7b33-424e-9271-5ccc53f2a6b5",
   "metadata": {},
   "source": [
    "We will also notice that the mlruns directory will be created for us in the same directory as our notebook"
   ]
  },
  {
   "cell_type": "code",
   "execution_count": 215,
   "id": "cb8b10d7-6d06-4dd8-968f-ce6a97966ca1",
   "metadata": {},
   "outputs": [
    {
     "name": "stdout",
     "output_type": "stream",
     "text": [
      " Volume in drive C has no label.\n",
      " Volume Serial Number is A4C8-EE27\n",
      "\n",
      " Directory of C:\\Users\\Administrator\\git\\ml-training-jupyter-notebooks\\Machine Learning\\MLOps\n",
      "\n",
      "06/14/2021  09:07 AM    <DIR>          .\n",
      "06/14/2021  09:07 AM    <DIR>          ..\n",
      "06/11/2021  05:40 PM    <DIR>          .ipynb_checkpoints\n",
      "06/12/2021  11:03 AM    <DIR>          images\n",
      "06/14/2021  09:07 AM            78,162 Intro To MLFlow.ipynb\n",
      "06/12/2021  11:56 AM    <DIR>          mlruns\n",
      "06/11/2021  05:40 PM             1,266 README.md\n",
      "               2 File(s)         79,428 bytes\n",
      "               5 Dir(s)   1,480,425,472 bytes free\n"
     ]
    }
   ],
   "source": [
    "! dir"
   ]
  },
  {
   "cell_type": "markdown",
   "id": "35ec294d-9e42-4a2d-acb9-1ec2275532a5",
   "metadata": {},
   "source": [
    "# 5. Example Workflow\n",
    "## 5.1. Load Data\n",
    "In our example we will load some NASDAQ data and train a model to make predictions. "
   ]
  },
  {
   "cell_type": "code",
   "execution_count": 81,
   "id": "52aa6a24-ec24-4d20-9f59-7efc1a038746",
   "metadata": {
    "tags": []
   },
   "outputs": [
    {
     "data": {
      "image/png": "[encoded data removed]",
      "text/plain": [
       "<Figure size 1440x576 with 1 Axes>"
      ]
     },
     "metadata": {
      "needs_background": "light"
     },
     "output_type": "display_data"
    }
   ],
   "source": [
    "# Import the utilities module we wrote\n",
    "import importlib.util\n",
    "spec = importlib.util.spec_from_file_location(\"utilities\", \"../../Utilities/utilities.py\")\n",
    "utilities = importlib.util.module_from_spec(spec)\n",
    "spec.loader.exec_module(utilities)\n",
    "\n",
    "# Read the file into a dataframe\n",
    "file_path = \"../../Example Data Sets/nasdaq_2019.csv\"\n",
    "converter_mapping = {\n",
    "    \"date\": utilities.convert_date_string_to_date\n",
    "}\n",
    "import pandas\n",
    "pandas_dataframe = pandas.read_csv(file_path, converters=converter_mapping)\n",
    "aaba_dataframe = pandas_dataframe[pandas_dataframe[\"ticker\"] == 'AABA']\n",
    "aaba_dataframe = aaba_dataframe.sort_values(by=\"date\", ascending=True)\n",
    "\n",
    "# Plot the data\n",
    "import matplotlib.pyplot as pyplot\n",
    "fig, ax = pyplot.subplots(figsize=(20, 8), nrows=1, ncols=1)\n",
    "ax.set_title(\"AABA Open Price\")\n",
    "pyplot.scatter(aaba_dataframe[\"date\"], aaba_dataframe[\"open\"]);"
   ]
  },
  {
   "cell_type": "markdown",
   "id": "47143355-9b3e-4683-b301-ad86c929c822",
   "metadata": {},
   "source": [
    "## 5.2. Train The ARIMA Model"
   ]
  },
  {
   "cell_type": "markdown",
   "id": "ce669722-6e88-496c-8bb8-61fe8e33d4e8",
   "metadata": {},
   "source": [
    "The model we will be using is the ARIMA model which stands for:\n",
    "\n",
    "- AutoRegressive (AR) - the model takes advantage of the connection between a predefined number of lagged observations and the current one.\n",
    "- Integrated (I) - differencing between raw observations (eg. subtracting observations at different time steps).\n",
    "- Moving Average (MA) - the model takes advantage of the relationship between the residual error and the observations.\n",
    "\n",
    "The ARIMA model makes use of three main parameters (p,d,q):\n",
    "- p - number of lag observations\n",
    "- d - the degree of differencing\n",
    "- q - the size of the moving average window\n"
   ]
  },
  {
   "cell_type": "code",
   "execution_count": 48,
   "id": "3ccc49a2-da04-435d-ba63-7b148d57fac5",
   "metadata": {},
   "outputs": [],
   "source": [
    "# Disable warnings\n",
    "import warnings\n",
    "warnings.filterwarnings('ignore')"
   ]
  },
  {
   "cell_type": "markdown",
   "id": "857eaf91-7857-45cf-9771-5713736e0dfe",
   "metadata": {},
   "source": [
    "We will then iterate through a number of training and testing scenarios choosing the best parameters for the predictions."
   ]
  },
  {
   "cell_type": "code",
   "execution_count": 107,
   "id": "ef5d3cb4-9ada-4c09-956f-505a4bfacc17",
   "metadata": {
    "tags": []
   },
   "outputs": [
    {
     "name": "stdout",
     "output_type": "stream",
     "text": [
      "The best parameter set (0, 1, 0) yielded an AIC of 409.4944259259052\n"
     ]
    },
    {
     "data": {
      "text/html": [
       "<table class=\"simpletable\">\n",
       "<caption>SARIMAX Results</caption>\n",
       "<tr>\n",
       "  <th>Dep. Variable:</th>         <td>open</td>       <th>  No. Observations:  </th>    <td>126</td>  \n",
       "</tr>\n",
       "<tr>\n",
       "  <th>Model:</th>           <td>SARIMAX(2, 2, 2)</td> <th>  Log Likelihood     </th> <td>-202.800</td>\n",
       "</tr>\n",
       "<tr>\n",
       "  <th>Date:</th>            <td>Fri, 11 Jun 2021</td> <th>  AIC                </th>  <td>415.600</td>\n",
       "</tr>\n",
       "<tr>\n",
       "  <th>Time:</th>                <td>22:26:31</td>     <th>  BIC                </th>  <td>429.702</td>\n",
       "</tr>\n",
       "<tr>\n",
       "  <th>Sample:</th>                  <td>0</td>        <th>  HQIC               </th>  <td>421.329</td>\n",
       "</tr>\n",
       "<tr>\n",
       "  <th></th>                      <td> - 126</td>      <th>                     </th>     <td> </td>   \n",
       "</tr>\n",
       "<tr>\n",
       "  <th>Covariance Type:</th>        <td>opg</td>       <th>                     </th>     <td> </td>   \n",
       "</tr>\n",
       "</table>\n",
       "<table class=\"simpletable\">\n",
       "<tr>\n",
       "     <td></td>       <th>coef</th>     <th>std err</th>      <th>z</th>      <th>P>|z|</th>  <th>[0.025</th>    <th>0.975]</th>  \n",
       "</tr>\n",
       "<tr>\n",
       "  <th>ar.L1</th>  <td>   -0.8990</td> <td>    0.093</td> <td>   -9.686</td> <td> 0.000</td> <td>   -1.081</td> <td>   -0.717</td>\n",
       "</tr>\n",
       "<tr>\n",
       "  <th>ar.L2</th>  <td>    0.0379</td> <td>    0.087</td> <td>    0.436</td> <td> 0.663</td> <td>   -0.133</td> <td>    0.208</td>\n",
       "</tr>\n",
       "<tr>\n",
       "  <th>ma.L1</th>  <td>    0.0319</td> <td>   15.866</td> <td>    0.002</td> <td> 0.998</td> <td>  -31.066</td> <td>   31.130</td>\n",
       "</tr>\n",
       "<tr>\n",
       "  <th>ma.L2</th>  <td>   -0.9680</td> <td>   15.372</td> <td>   -0.063</td> <td> 0.950</td> <td>  -31.097</td> <td>   29.161</td>\n",
       "</tr>\n",
       "<tr>\n",
       "  <th>sigma2</th> <td>    1.4904</td> <td>   23.588</td> <td>    0.063</td> <td> 0.950</td> <td>  -44.742</td> <td>   47.723</td>\n",
       "</tr>\n",
       "</table>\n",
       "<table class=\"simpletable\">\n",
       "<tr>\n",
       "  <th>Ljung-Box (L1) (Q):</th>     <td>0.00</td> <th>  Jarque-Bera (JB):  </th> <td>9.83</td> \n",
       "</tr>\n",
       "<tr>\n",
       "  <th>Prob(Q):</th>                <td>0.99</td> <th>  Prob(JB):          </th> <td>0.01</td> \n",
       "</tr>\n",
       "<tr>\n",
       "  <th>Heteroskedasticity (H):</th> <td>1.90</td> <th>  Skew:              </th> <td>-0.00</td>\n",
       "</tr>\n",
       "<tr>\n",
       "  <th>Prob(H) (two-sided):</th>    <td>0.04</td> <th>  Kurtosis:          </th> <td>4.38</td> \n",
       "</tr>\n",
       "</table><br/><br/>Warnings:<br/>[1] Covariance matrix calculated using the outer product of gradients (complex-step)."
      ],
      "text/plain": [
       "<class 'statsmodels.iolib.summary.Summary'>\n",
       "\"\"\"\n",
       "                               SARIMAX Results                                \n",
       "==============================================================================\n",
       "Dep. Variable:                   open   No. Observations:                  126\n",
       "Model:               SARIMAX(2, 2, 2)   Log Likelihood                -202.800\n",
       "Date:                Fri, 11 Jun 2021   AIC                            415.600\n",
       "Time:                        22:26:31   BIC                            429.702\n",
       "Sample:                             0   HQIC                           421.329\n",
       "                                - 126                                         \n",
       "Covariance Type:                  opg                                         \n",
       "==============================================================================\n",
       "                 coef    std err          z      P>|z|      [0.025      0.975]\n",
       "------------------------------------------------------------------------------\n",
       "ar.L1         -0.8990      0.093     -9.686      0.000      -1.081      -0.717\n",
       "ar.L2          0.0379      0.087      0.436      0.663      -0.133       0.208\n",
       "ma.L1          0.0319     15.866      0.002      0.998     -31.066      31.130\n",
       "ma.L2         -0.9680     15.372     -0.063      0.950     -31.097      29.161\n",
       "sigma2         1.4904     23.588      0.063      0.950     -44.742      47.723\n",
       "===================================================================================\n",
       "Ljung-Box (L1) (Q):                   0.00   Jarque-Bera (JB):                 9.83\n",
       "Prob(Q):                              0.99   Prob(JB):                         0.01\n",
       "Heteroskedasticity (H):               1.90   Skew:                            -0.00\n",
       "Prob(H) (two-sided):                  0.04   Kurtosis:                         4.38\n",
       "===================================================================================\n",
       "\n",
       "Warnings:\n",
       "[1] Covariance matrix calculated using the outer product of gradients (complex-step).\n",
       "\"\"\""
      ]
     },
     "execution_count": 107,
     "metadata": {},
     "output_type": "execute_result"
    }
   ],
   "source": [
    "import itertools\n",
    "import statsmodels.api\n",
    "\n",
    "# Split the data into a train and test set\n",
    "datapoint_count = aaba_dataframe.shape[0]\n",
    "split_point = int(datapoint_count * 0.8)\n",
    "train_df = aaba_dataframe[:split_point]\n",
    "test_df = aaba_dataframe[split_point:]\n",
    "\n",
    "# Generate the posisble parameters for the model\n",
    "p = d = q = range(0, 3)\n",
    "pdq_combinations = list(itertools.product(p, d, q))\n",
    "\n",
    "# Train the model\n",
    "#      Find the optimal parameter set and the coresponding performance metric\n",
    "#\n",
    "\n",
    "best_param_set = None\n",
    "best_perf_metric = -1\n",
    "\n",
    "for pdq in pdq_combinations:\n",
    "    \n",
    "    # Create the model\n",
    "    model = statsmodels.api.tsa.statespace.SARIMAX(\n",
    "        train_df[\"open\"], \n",
    "        order=pdq, \n",
    "        enforce_stationarity=True, \n",
    "        enforce_invertibility=True)\n",
    "    \n",
    "    # Fit the model to the data\n",
    "    fit_model = model.fit()\n",
    "    \n",
    "    # Calculate performance metric\n",
    "    aic = fit_model.aic\n",
    "    \n",
    "    # Record the results\n",
    "    if aic < best_perf_metric or best_perf_metric == -1:\n",
    "        best_param_set = pdq\n",
    "        best_perf_metric = aic\n",
    "\n",
    "    #print(\"The parameter set {} yielded an AIC of {}\".format(pdq, aic))\n",
    "\n",
    "print(\"The best parameter set {} yielded an AIC of {}\".format(best_param_set, best_perf_metric))\n",
    "fit_model.summary()"
   ]
  },
  {
   "cell_type": "markdown",
   "id": "af64c9c6-b227-493b-8279-e8bda5a08497",
   "metadata": {},
   "source": [
    "## 5.3. Test The Model\n",
    "We can make predictions using our fit model:"
   ]
  },
  {
   "cell_type": "code",
   "execution_count": 159,
   "id": "d074807c-cdb9-4178-a632-a2610c6dcff3",
   "metadata": {
    "tags": []
   },
   "outputs": [],
   "source": [
    "# Make predictions using the fit model\n",
    "points_to_predict = datapoint_count - split_point\n",
    "points_to_predict\n",
    "alpha = 0.05\n",
    "predictions = fit_model.forecast(points_to_predict, alpha=alpha)  # 95% conf\n",
    "\n",
    "# Calculate the upper and lower bound for the confidence interval\n",
    "forecast = fit_model.get_forecast(points_to_predict)\n",
    "ci = forecast.conf_int()"
   ]
  },
  {
   "cell_type": "markdown",
   "id": "76cfe3e0-b89d-41d1-89b3-c6f55b6e10ca",
   "metadata": {},
   "source": [
    "Plotting our predictions we see:"
   ]
  },
  {
   "cell_type": "code",
   "execution_count": 158,
   "id": "2b350ce7-d4f3-439d-be0b-64200a1992e1",
   "metadata": {
    "tags": []
   },
   "outputs": [
    {
     "data": {
      "image/png": "[encoded data removed]",
      "text/plain": [
       "<Figure size 1440x576 with 1 Axes>"
      ]
     },
     "metadata": {
      "needs_background": "light"
     },
     "output_type": "display_data"
    }
   ],
   "source": [
    "fig, ax = pyplot.subplots(figsize=(20, 8), nrows=1, ncols=1)\n",
    "ax.set_title(\"AABA Open Price\")\n",
    "ax.scatter(aaba_dataframe[\"date\"], aaba_dataframe[\"open\"])\n",
    "ax.plot(aaba_dataframe[\"date\"][split_point:], predictions, color=\"green\", linewidth=4);\n",
    "\n",
    "lower_series= ci.iloc[:, 0]\n",
    "upper_series= ci.iloc[:, 1]\n",
    "ax.fill_between(aaba_dataframe[\"date\"][split_point:], lower_series, upper_series, color='k', alpha=alpha);"
   ]
  },
  {
   "cell_type": "markdown",
   "id": "ae685fcf-d5e4-4a60-b3d9-c9dc3a3a9f86",
   "metadata": {},
   "source": [
    "We can quantify the error from our test trial:"
   ]
  },
  {
   "cell_type": "code",
   "execution_count": 177,
   "id": "5a29d610-4cae-4e68-bfdc-b0b1475230bc",
   "metadata": {},
   "outputs": [
    {
     "name": "stdout",
     "output_type": "stream",
     "text": [
      "The MSE is: 1.0199129847785446\n",
      "The RMSE is: 1.0099074139635498\n"
     ]
    }
   ],
   "source": [
    "import math\n",
    "import numpy\n",
    "\n",
    "y_actual = test_df[\"open\"].to_numpy()\n",
    "y_predicted = predictions\n",
    "\n",
    "MSE = numpy.square(numpy.subtract(y_actual,y_predicted)).mean()\n",
    "RMSE = math.sqrt(MSE)\n",
    "\n",
    "print(\"The MSE is: {}\".format(MSE))\n",
    "print(\"The RMSE is: {}\".format(RMSE))"
   ]
  },
  {
   "cell_type": "markdown",
   "id": "d387e573-0b7d-4327-92ad-dbbed3a4782d",
   "metadata": {},
   "source": [
    "# 6. Configure MLFlow Connection\n",
    "We need to tell our MLFlow client where the server is and how to connect."
   ]
  },
  {
   "cell_type": "code",
   "execution_count": 179,
   "id": "f072aefb-d59f-40d0-968b-0b600df8adc7",
   "metadata": {},
   "outputs": [],
   "source": [
    "import mlflow\n",
    "mlflow.set_tracking_uri(\"http://127.0.0.1:5000\")"
   ]
  },
  {
   "cell_type": "markdown",
   "id": "7d5b994d-d285-4f90-b0d6-3965f95ef334",
   "metadata": {},
   "source": [
    "We can verify the connection settings as follows:"
   ]
  },
  {
   "cell_type": "code",
   "execution_count": 183,
   "id": "b0cec625-3b9c-481f-80d1-ac804b7f49e4",
   "metadata": {},
   "outputs": [
    {
     "data": {
      "text/plain": [
       "'http://127.0.0.1:5000'"
      ]
     },
     "execution_count": 183,
     "metadata": {},
     "output_type": "execute_result"
    }
   ],
   "source": [
    "mlflow.get_tracking_uri()"
   ]
  },
  {
   "cell_type": "markdown",
   "id": "30af87d2-1ad1-49c6-8659-027dc641876e",
   "metadata": {},
   "source": [
    "In addition to the MLFLOW_TRACKING_URI environment variable, the following environment variables allow passing HTTP authentication to the tracking server:\n",
    "\n",
    "- MLFLOW_TRACKING_USERNAME and MLFLOW_TRACKING_PASSWORD - username and password to use with HTTP Basic authentication. To use Basic authentication, you must set both environment variables .\n",
    "\n",
    "- MLFLOW_TRACKING_TOKEN - token to use with HTTP Bearer authentication. Basic authentication takes precedence if set.\n",
    "\n",
    "- MLFLOW_TRACKING_INSECURE_TLS - If set to the literal true, MLflow does not verify the TLS connection, meaning it does not validate certificates or hostnames for https:// tracking URIs. This flag is not recommended for production environments. If this is set to true then MLFLOW_TRACKING_SERVER_CERT_PATH must not be set.\n",
    "\n",
    "- MLFLOW_TRACKING_SERVER_CERT_PATH - Path to a CA bundle to use. Sets the verify param of the requests.request function (see requests main interface). When you use a self-signed server certificate you can use this to verify it on client side. If this is set MLFLOW_TRACKING_INSECURE_TLS must not be set (false).\n",
    "\n",
    "- MLFLOW_TRACKING_CLIENT_CERT_PATH - Path to ssl client cert file (.pem). Sets the cert param of the requests.request function (see requests main interface). This can be used to use a (self-signed) client certificate.\n",
    "\n",
    "https://www.mlflow.org/docs/latest/tracking.html"
   ]
  },
  {
   "cell_type": "markdown",
   "id": "e533fd12-89c3-47b7-b61a-2da8fe271893",
   "metadata": {},
   "source": [
    "# 7. Conduct An Experiment\n",
    "\n",
    "Usint the MLFLow Tracking API we are able to log model paramters, metics, and artifacts to the MLFlow server.\n",
    "\n",
    "The first thing we need to do is tell MLFlow which experiment we are working on"
   ]
  },
  {
   "cell_type": "markdown",
   "id": "299d2662-42c5-4546-8d61-9dbfa52aafc8",
   "metadata": {},
   "source": [
    "## 7.1. Create The Experiment Object\n",
    "The experiment object allows us logically group runs which serve a common task. In our case, the act of training the model, testing the model, and calculating performance metrics can all be considered a run. The larger experiment is thus observing the different runs so that we can choose the best performing model parameters.\n",
    "\n",
    "As MLFlow is operating on a distributed model, we have the ability to attach to existing experiments or define new ones. Before creating one, we will observe that there is a default experiment which is automagically created for us."
   ]
  },
  {
   "cell_type": "code",
   "execution_count": 194,
   "id": "e363b0b3-3cfb-455d-a116-6fe4e907314e",
   "metadata": {},
   "outputs": [
    {
     "data": {
      "text/plain": [
       "[<Experiment: artifact_location='./mlruns/0', experiment_id='0', lifecycle_stage='active', name='Default', tags={}>]"
      ]
     },
     "execution_count": 194,
     "metadata": {},
     "output_type": "execute_result"
    }
   ],
   "source": [
    "from  mlflow.tracking import MlflowClient\n",
    "mlflow_client = MlflowClient()\n",
    "experiments = mlflow_client.list_experiments()\n",
    "experiments"
   ]
  },
  {
   "cell_type": "markdown",
   "id": "a5ec2f83-2154-48bb-bf90-303477e3b22b",
   "metadata": {},
   "source": [
    "We will create a different experiment to store information from our runs. We will name the experiment AABA-ARIMA"
   ]
  },
  {
   "cell_type": "code",
   "execution_count": 314,
   "id": "dcc41e34-4cf6-4206-92ba-6bc375393c1d",
   "metadata": {},
   "outputs": [
    {
     "name": "stdout",
     "output_type": "stream",
     "text": [
      "INFO: 'AABA-ARIMA' does not exist. Creating a new experiment\n"
     ]
    }
   ],
   "source": [
    "experiment_name = 'AABA-ARIMA'\n",
    "mlflow.set_experiment(experiment_name)"
   ]
  },
  {
   "cell_type": "code",
   "execution_count": 315,
   "id": "9d34fe95-4557-483d-9d2f-cd01f0012b6f",
   "metadata": {},
   "outputs": [
    {
     "data": {
      "text/plain": [
       "<Experiment: artifact_location='./mlruns/1', experiment_id='1', lifecycle_stage='active', name='AABA-ARIMA', tags={}>"
      ]
     },
     "execution_count": 315,
     "metadata": {},
     "output_type": "execute_result"
    }
   ],
   "source": [
    "experiment = mlflow.get_experiment_by_name(experiment_name)\n",
    "experiment"
   ]
  },
  {
   "cell_type": "code",
   "execution_count": 316,
   "id": "7d33be6a-7848-434f-a872-c9fe05a52b4a",
   "metadata": {},
   "outputs": [
    {
     "data": {
      "text/plain": [
       "[<Experiment: artifact_location='./mlruns/0', experiment_id='0', lifecycle_stage='active', name='Default', tags={}>,\n",
       " <Experiment: artifact_location='./mlruns/1', experiment_id='1', lifecycle_stage='active', name='AABA-ARIMA', tags={}>]"
      ]
     },
     "execution_count": 316,
     "metadata": {},
     "output_type": "execute_result"
    }
   ],
   "source": [
    "mlflow_client.list_experiments()"
   ]
  },
  {
   "cell_type": "markdown",
   "id": "fa22dc7d-687a-4ab4-a8a6-2ffb9640cd00",
   "metadata": {},
   "source": [
    "We will see that a directory is created inside the mlruns directory on our local machine.\n",
    "\n",
    "Looking at the MLFlow UI, we see that a new experiment appears:\n",
    "\n",
    "<center><img src=\"images/experiments.png\" style=\"width: 500px\"></center>"
   ]
  },
  {
   "cell_type": "markdown",
   "id": "c6ea8733-dccf-4bc5-992c-6d011a83dd88",
   "metadata": {},
   "source": [
    "## 7.2. Conduct The Experiment And Log Results To ML Flow\n",
    "We are now going to repeat the example workflow we saw in section #5. With two main differences, the first is that we will be logging information to MLFlow, the second is that we will be querying the results from MLFlow rather (section 8) than keeping track locally.\n",
    "\n",
    "In this section we conduct multiple runs (one for each hyperparameter set). For each run we will log the trained model, the parameters, the performance metric, and a chart created from the testing phase of our run."
   ]
  },
  {
   "cell_type": "code",
   "execution_count": 303,
   "id": "f4670467-184c-46cc-ae06-12f0ed66d56c",
   "metadata": {
    "tags": []
   },
   "outputs": [],
   "source": [
    "import statsmodels.api\n",
    "\n",
    "# Create function to train the model\n",
    "def train_SARIMAX_model(pdq, x):\n",
    "\n",
    "    # Create the model\n",
    "    model = statsmodels.api.tsa.statespace.SARIMAX(\n",
    "        x, \n",
    "        order=pdq, \n",
    "        enforce_stationarity=True, \n",
    "        enforce_invertibility=True)\n",
    "    \n",
    "    # Fit the model to the data\n",
    "    trained_model = model.fit()\n",
    "    \n",
    "    # Calculate performance metric\n",
    "    aic = trained_model.aic\n",
    "    \n",
    "    return trained_model, aic"
   ]
  },
  {
   "cell_type": "code",
   "execution_count": 304,
   "id": "e0b7f179-7c64-44df-998f-dd4f47939055",
   "metadata": {
    "tags": []
   },
   "outputs": [],
   "source": [
    "def train_SARIMAX_model_and_log_to_mlflow(pdq, x):\n",
    "    \n",
    "    # Log the model parameters on mlflow\n",
    "    mlflow.log_params({\n",
    "        \"p\": pdq[0],\n",
    "        \"d\" :pdq[1],\n",
    "        \"q\": pdq[2]\n",
    "    })    \n",
    "\n",
    "    # Train the model\n",
    "    trained_model, aic = train_SARIMAX_model(pdq, x)\n",
    "\n",
    "    # Log the model in mlflow\n",
    "    mlflow.sklearn.log_model(trained_model, artifact_path=run_name)\n",
    "\n",
    "    # Log metrics\n",
    "    mlflow.log_metrics({\n",
    "        \"aic\": aic\n",
    "    })\n",
    "\n",
    "    return trained_model, aic"
   ]
  },
  {
   "cell_type": "code",
   "execution_count": 305,
   "id": "9e9e38e1-7f5b-4ae0-86f2-e228fc5ab7c5",
   "metadata": {},
   "outputs": [],
   "source": [
    "# Make predictions using the fit model\n",
    "def test_SARIMAX_model(trained_model, points_to_predict, alpha):\n",
    "    \n",
    "    points_to_predict = datapoint_count - split_point\n",
    "    points_to_predict\n",
    "    alpha = 0.05\n",
    "    predictions = trained_model.forecast(points_to_predict, alpha=alpha)  # 95% conf\n",
    "\n",
    "    # Calculate the upper and lower bound for the confidence interval\n",
    "    forecast = trained_model.get_forecast(points_to_predict)   \n",
    "    \n",
    "    return forecast"
   ]
  },
  {
   "cell_type": "code",
   "execution_count": 322,
   "id": "be580727-791b-4329-a327-5341de7d4283",
   "metadata": {},
   "outputs": [],
   "source": [
    "import matplotlib.pyplot as pyplot\n",
    "\n",
    "# Turn off interactive mode so our figures are not displayed\n",
    "# We will be writing them to a file and uploading them to mlflow instead\n",
    "pyplot.ioff()\n",
    "\n",
    "def plot_predictions(forecast):\n",
    "\n",
    "        return fig    "
   ]
  },
  {
   "cell_type": "code",
   "execution_count": 350,
   "id": "399417dd-8b0e-4d88-9b13-4661b8f82a50",
   "metadata": {},
   "outputs": [
    {
     "name": "stdout",
     "output_type": "stream",
     "text": [
      "All runs complete!\n"
     ]
    }
   ],
   "source": [
    "# Turn off interactive mode so our figures are not displayed\n",
    "#      We will be writing them to a file and uploading them to mlflow instead\n",
    "import matplotlib.pyplot as pyplot\n",
    "pyplot.ioff()\n",
    "\n",
    "# Generate the posisble parameters for the model\n",
    "import itertools\n",
    "p = d = q = range(0, 3)\n",
    "pdq_combinations = list(itertools.product(p, d, q))\n",
    "\n",
    "# Train and test the model\n",
    "for pdq in pdq_combinations:\n",
    "\n",
    "    # Create an MLFlow run\n",
    "    run_name = \"SARIMAX-{}_{}_{}\".format(*list(pdq))\n",
    "    tags = {\"model_type\": \"SARIMAX\"}\n",
    "    with mlflow.start_run(run_name=run_name, tags=tags) as mlflow_run:\n",
    "    \n",
    "        # Train the model\n",
    "        x = train_df[\"open\"]\n",
    "        trained_model, aic = train_SARIMAX_model_and_log_to_mlflow(pdq, x)\n",
    "\n",
    "        # Test the model\n",
    "        alpha = 0.05\n",
    "        forecast = test_SARIMAX_model(trained_model, points_to_predict, alpha)\n",
    "\n",
    "        # Draw a plot        \n",
    "        ci = forecast.conf_int()\n",
    "        lower_series= ci.iloc[:, 0]\n",
    "        upper_series= ci.iloc[:, 1]\n",
    "        fig, ax = pyplot.subplots(figsize=(20, 8), nrows=1, ncols=1)\n",
    "        ax.set_title(\"AABA Open Price\")\n",
    "        ax.scatter(aaba_dataframe[\"date\"], aaba_dataframe[\"open\"])\n",
    "        ax.plot(aaba_dataframe[\"date\"][split_point:], predictions, color=\"green\", linewidth=4);\n",
    "        ax.fill_between(aaba_dataframe[\"date\"][split_point:], lower_series, upper_series, color='k', alpha=alpha);\n",
    "        pyplot.close(fig)\n",
    "\n",
    "        # Save the plot to the run\n",
    "        file_name = \"test_results.png\"\n",
    "        fig.savefig(file_name)\n",
    "        mlflow.log_artifact(file_name)\n",
    "\n",
    "print(\"All runs complete!\")"
   ]
  },
  {
   "cell_type": "code",
   "execution_count": null,
   "id": "aa7bac1d-7e2a-4eec-8cf5-e7744b52e147",
   "metadata": {},
   "outputs": [],
   "source": []
  },
  {
   "cell_type": "code",
   "execution_count": null,
   "id": "fe1ab06c-9b27-431b-a3f5-499d66f278a5",
   "metadata": {},
   "outputs": [],
   "source": []
  },
  {
   "cell_type": "code",
   "execution_count": null,
   "id": "ed22caff-76be-4f24-a649-dd1eb7a74a6a",
   "metadata": {},
   "outputs": [],
   "source": [
    "    # Register the model\n",
    "    #model_name = run_name\n",
    "    #model_uri = \"runs:/{}/{}\".format(mlflow_run.info.run_id, run_name)\n",
    "    #mv = mlflow.register_model(model_uri, model_name)  "
   ]
  },
  {
   "cell_type": "code",
   "execution_count": null,
   "id": "3d45023f-647d-4cc8-8efd-f844875457ac",
   "metadata": {},
   "outputs": [],
   "source": []
  },
  {
   "cell_type": "markdown",
   "id": "4cf2fcf5-a02d-4454-b087-f43caa885cc2",
   "metadata": {},
   "source": [
    "# 8. Retrieve And Query Results\n",
    "Now that the experiment is complete was have the ability to query the results From MLFlow. \n",
    "\n",
    "We saw previously that we can keep track of results locally but this is not ideal when we are executing workloads on distributed compute systems (like Apache Spark). Additionally, we may not be interested in the results once they are ready. Instead we may only be interested later on as part of some larger information gathering process. For example, choosing the best model out of several experiments.\n",
    "\n",
    "## 8.1. Retrieve Result Set\n",
    "In the code snippets below we can retrieve all experiment run data from MLFlow. This information is presented as a pandas dataframe. As we will see, this means all of our pandas (and posisbly koalas/spark-sql) functionality is available."
   ]
  },
  {
   "cell_type": "code",
   "execution_count": 365,
   "id": "02e553e0-c3b3-478f-8071-1e1a9ad8b19c",
   "metadata": {},
   "outputs": [
    {
     "name": "stdout",
     "output_type": "stream",
     "text": [
      "Searching for experiment named 'AABA-ARIMA'\n",
      "Found id: 1\n",
      "Getting the run information\n",
      "Found 27 runs\n"
     ]
    }
   ],
   "source": [
    "# Get the experiment ID\n",
    "print(\"Searching for experiment named '{}'\".format(experiment_name))\n",
    "experiment = [experiment for experiment in mlflow_client.list_experiments() if experiment.name == experiment_name][0]\n",
    "print(\"Found id: {}\".format(experiment.experiment_id))\n",
    "\n",
    "# Get the runs for the experiment\n",
    "print(\"Getting the run information\")\n",
    "experiment_run_df = mlflow.search_runs()\n",
    "run_count = experiment_run_df.shape[0]\n",
    "print(\"Found {} runs\".format(run_count))"
   ]
  },
  {
   "cell_type": "code",
   "execution_count": 366,
   "id": "1550d2c5-2a24-4c8f-aec1-ac814ed10122",
   "metadata": {},
   "outputs": [
    {
     "data": {
      "text/html": [
       "<div>\n",
       "<style scoped>\n",
       "    .dataframe tbody tr th:only-of-type {\n",
       "        vertical-align: middle;\n",
       "    }\n",
       "\n",
       "    .dataframe tbody tr th {\n",
       "        vertical-align: top;\n",
       "    }\n",
       "\n",
       "    .dataframe thead th {\n",
       "        text-align: right;\n",
       "    }\n",
       "</style>\n",
       "<table border=\"1\" class=\"dataframe\">\n",
       "  <thead>\n",
       "    <tr style=\"text-align: right;\">\n",
       "      <th></th>\n",
       "      <th>run_id</th>\n",
       "      <th>experiment_id</th>\n",
       "      <th>status</th>\n",
       "      <th>artifact_uri</th>\n",
       "      <th>start_time</th>\n",
       "      <th>end_time</th>\n",
       "      <th>metrics.aic</th>\n",
       "      <th>params.d</th>\n",
       "      <th>params.p</th>\n",
       "      <th>params.q</th>\n",
       "      <th>tags.mlflow.source.name</th>\n",
       "      <th>tags.model_type</th>\n",
       "      <th>tags.mlflow.source.type</th>\n",
       "      <th>tags.mlflow.runName</th>\n",
       "      <th>tags.mlflow.log-model.history</th>\n",
       "      <th>tags.mlflow.user</th>\n",
       "    </tr>\n",
       "  </thead>\n",
       "  <tbody>\n",
       "    <tr>\n",
       "      <th>0</th>\n",
       "      <td>d903701a21cf412b812c7ef21765cca9</td>\n",
       "      <td>1</td>\n",
       "      <td>FINISHED</td>\n",
       "      <td>./mlruns/1/d903701a21cf412b812c7ef21765cca9/ar...</td>\n",
       "      <td>2021-06-14 22:42:14.714000+00:00</td>\n",
       "      <td>2021-06-14 22:42:15.194000+00:00</td>\n",
       "      <td>415.600221</td>\n",
       "      <td>2</td>\n",
       "      <td>2</td>\n",
       "      <td>2</td>\n",
       "      <td>c:\\program files\\python36\\lib\\site-packages\\ip...</td>\n",
       "      <td>SARIMAX</td>\n",
       "      <td>LOCAL</td>\n",
       "      <td>SARIMAX-2_2_2</td>\n",
       "      <td>[{\"run_id\": \"d903701a21cf412b812c7ef21765cca9\"...</td>\n",
       "      <td>Administrator</td>\n",
       "    </tr>\n",
       "    <tr>\n",
       "      <th>1</th>\n",
       "      <td>f61bd36a2b294d9b8a203d6c957f4d01</td>\n",
       "      <td>1</td>\n",
       "      <td>FINISHED</td>\n",
       "      <td>./mlruns/1/f61bd36a2b294d9b8a203d6c957f4d01/ar...</td>\n",
       "      <td>2021-06-14 22:42:13.897000+00:00</td>\n",
       "      <td>2021-06-14 22:42:14.707000+00:00</td>\n",
       "      <td>415.726758</td>\n",
       "      <td>2</td>\n",
       "      <td>2</td>\n",
       "      <td>1</td>\n",
       "      <td>c:\\program files\\python36\\lib\\site-packages\\ip...</td>\n",
       "      <td>SARIMAX</td>\n",
       "      <td>LOCAL</td>\n",
       "      <td>SARIMAX-2_2_1</td>\n",
       "      <td>[{\"run_id\": \"f61bd36a2b294d9b8a203d6c957f4d01\"...</td>\n",
       "      <td>Administrator</td>\n",
       "    </tr>\n",
       "    <tr>\n",
       "      <th>2</th>\n",
       "      <td>99ee0233d2d44dbcba61206f4f69bcee</td>\n",
       "      <td>1</td>\n",
       "      <td>FINISHED</td>\n",
       "      <td>./mlruns/1/99ee0233d2d44dbcba61206f4f69bcee/ar...</td>\n",
       "      <td>2021-06-14 22:42:13.594000+00:00</td>\n",
       "      <td>2021-06-14 22:42:13.888000+00:00</td>\n",
       "      <td>441.743152</td>\n",
       "      <td>2</td>\n",
       "      <td>2</td>\n",
       "      <td>0</td>\n",
       "      <td>c:\\program files\\python36\\lib\\site-packages\\ip...</td>\n",
       "      <td>SARIMAX</td>\n",
       "      <td>LOCAL</td>\n",
       "      <td>SARIMAX-2_2_0</td>\n",
       "      <td>[{\"run_id\": \"99ee0233d2d44dbcba61206f4f69bcee\"...</td>\n",
       "      <td>Administrator</td>\n",
       "    </tr>\n",
       "  </tbody>\n",
       "</table>\n",
       "</div>"
      ],
      "text/plain": [
       "                             run_id experiment_id    status  \\\n",
       "0  d903701a21cf412b812c7ef21765cca9             1  FINISHED   \n",
       "1  f61bd36a2b294d9b8a203d6c957f4d01             1  FINISHED   \n",
       "2  99ee0233d2d44dbcba61206f4f69bcee             1  FINISHED   \n",
       "\n",
       "                                        artifact_uri  \\\n",
       "0  ./mlruns/1/d903701a21cf412b812c7ef21765cca9/ar...   \n",
       "1  ./mlruns/1/f61bd36a2b294d9b8a203d6c957f4d01/ar...   \n",
       "2  ./mlruns/1/99ee0233d2d44dbcba61206f4f69bcee/ar...   \n",
       "\n",
       "                        start_time                         end_time  \\\n",
       "0 2021-06-14 22:42:14.714000+00:00 2021-06-14 22:42:15.194000+00:00   \n",
       "1 2021-06-14 22:42:13.897000+00:00 2021-06-14 22:42:14.707000+00:00   \n",
       "2 2021-06-14 22:42:13.594000+00:00 2021-06-14 22:42:13.888000+00:00   \n",
       "\n",
       "   metrics.aic params.d params.p params.q  \\\n",
       "0   415.600221        2        2        2   \n",
       "1   415.726758        2        2        1   \n",
       "2   441.743152        2        2        0   \n",
       "\n",
       "                             tags.mlflow.source.name tags.model_type  \\\n",
       "0  c:\\program files\\python36\\lib\\site-packages\\ip...         SARIMAX   \n",
       "1  c:\\program files\\python36\\lib\\site-packages\\ip...         SARIMAX   \n",
       "2  c:\\program files\\python36\\lib\\site-packages\\ip...         SARIMAX   \n",
       "\n",
       "  tags.mlflow.source.type tags.mlflow.runName  \\\n",
       "0                   LOCAL       SARIMAX-2_2_2   \n",
       "1                   LOCAL       SARIMAX-2_2_1   \n",
       "2                   LOCAL       SARIMAX-2_2_0   \n",
       "\n",
       "                       tags.mlflow.log-model.history tags.mlflow.user  \n",
       "0  [{\"run_id\": \"d903701a21cf412b812c7ef21765cca9\"...    Administrator  \n",
       "1  [{\"run_id\": \"f61bd36a2b294d9b8a203d6c957f4d01\"...    Administrator  \n",
       "2  [{\"run_id\": \"99ee0233d2d44dbcba61206f4f69bcee\"...    Administrator  "
      ]
     },
     "execution_count": 366,
     "metadata": {},
     "output_type": "execute_result"
    }
   ],
   "source": [
    "experiment_run_df.head(3)"
   ]
  },
  {
   "cell_type": "markdown",
   "id": "8ec33e45-ce06-4323-9027-ab2514649687",
   "metadata": {},
   "source": [
    "**Note**: MLFlow does provide the ability to submit query strings to the API. This is advantageous when we are working with a large amount of results. Rather than transfer all the data to the client, we can ask the server to do the hard work. We do not explore that functionality here but it is worth looking into for production type workflows. More information can be found in the [documentation for the search api](https://www.mlflow.org/docs/latest/search-syntax.html)."
   ]
  },
  {
   "cell_type": "markdown",
   "id": "e01ebf5a-ab82-4266-b9b9-de9126d71695",
   "metadata": {},
   "source": [
    "## 8.2. Query Run Data For Best Run\n",
    "In our case we are looking for the model parameter set with the lowest AIC. We can query this information using basic pandas functionality:"
   ]
  },
  {
   "cell_type": "code",
   "execution_count": 367,
   "id": "e224e96b-207f-49f6-bbe6-137536a1d552",
   "metadata": {},
   "outputs": [
    {
     "data": {
      "text/plain": [
       "run_id                                            efecf188533c4e2ab87b55623e0d0671\n",
       "experiment_id                                                                    1\n",
       "status                                                                    FINISHED\n",
       "artifact_uri                     ./mlruns/1/efecf188533c4e2ab87b55623e0d0671/ar...\n",
       "start_time                                        2021-06-14 22:42:01.670000+00:00\n",
       "end_time                                          2021-06-14 22:42:01.945000+00:00\n",
       "metrics.aic                                                                409.494\n",
       "params.d                                                                         1\n",
       "params.p                                                                         0\n",
       "params.q                                                                         0\n",
       "tags.mlflow.source.name          c:\\program files\\python36\\lib\\site-packages\\ip...\n",
       "tags.model_type                                                            SARIMAX\n",
       "tags.mlflow.source.type                                                      LOCAL\n",
       "tags.mlflow.runName                                                  SARIMAX-0_1_0\n",
       "tags.mlflow.log-model.history    [{\"run_id\": \"efecf188533c4e2ab87b55623e0d0671\"...\n",
       "tags.mlflow.user                                                     Administrator\n",
       "Name: 23, dtype: object"
      ]
     },
     "execution_count": 367,
     "metadata": {},
     "output_type": "execute_result"
    }
   ],
   "source": [
    "min_aic = experiment_run_df[\"metrics.aic\"].min()\n",
    "best_run = experiment_run_df[experiment_run_df[\"metrics.aic\"] == min_aic].iloc[0]\n",
    "best_run"
   ]
  },
  {
   "cell_type": "code",
   "execution_count": 368,
   "id": "8df5830f-e682-462c-89c3-77743cd925e1",
   "metadata": {},
   "outputs": [
    {
     "data": {
      "text/plain": [
       "pandas.core.series.Series"
      ]
     },
     "execution_count": 368,
     "metadata": {},
     "output_type": "execute_result"
    }
   ],
   "source": [
    "type(best_run)"
   ]
  },
  {
   "cell_type": "markdown",
   "id": "b66ab0f0-8104-44ac-b6ad-39d2f762460c",
   "metadata": {},
   "source": [
    "## 8.3. Download Run Artifacts\n",
    "When artifacts are logged to the MLFlow server, they are logged to a single directory coresponding to that run. The python API provides a way to download that directory to our local machine. We will notice that the file names of logged artifacts are the same in MLFlow as they were in the \n",
    "\n",
    "The first thing we will do is create that local directory:"
   ]
  },
  {
   "cell_type": "code",
   "execution_count": 369,
   "id": "759a1193-9fcc-4826-9e05-733972d49332",
   "metadata": {},
   "outputs": [],
   "source": [
    "# Create the tmp dir to store our artifacts\n",
    "local_dir = \"tmp\"\n",
    "if not os.path.exists(local_dir):\n",
    "    os.mkdir(local_dir)"
   ]
  },
  {
   "cell_type": "markdown",
   "id": "4afc5023-cdb5-4b12-b021-c3247a868e68",
   "metadata": {},
   "source": [
    "Next we download the artifacts"
   ]
  },
  {
   "cell_type": "code",
   "execution_count": 370,
   "id": "5d898c58-ee64-48bf-a00a-1abed5247fc0",
   "metadata": {},
   "outputs": [
    {
     "data": {
      "text/plain": [
       "'C:\\\\Users\\\\Administrator\\\\git\\\\ml-training-jupyter-notebooks\\\\Machine Learning\\\\MLOps\\\\tmp\\\\'"
      ]
     },
     "execution_count": 370,
     "metadata": {},
     "output_type": "execute_result"
    }
   ],
   "source": [
    "# Download the artifacts\n",
    "mlflow_client.download_artifacts(r'efecf188533c4e2ab87b55623e0d0671', \"\", \"tmp\")"
   ]
  },
  {
   "cell_type": "markdown",
   "id": "e6540c8d-1a27-4c0c-b1a9-8221f73c3391",
   "metadata": {},
   "source": [
    "We can show the files inside the tmp folder to confirm something was downloaded. Notice that the artifact names are preserved. We also see a folder named after the run which contains the default artifacts (picklefile, condafile, mlmodel file)."
   ]
  },
  {
   "cell_type": "code",
   "execution_count": 371,
   "id": "5caebed0-d97d-4a1a-a352-949ab99c8e68",
   "metadata": {},
   "outputs": [
    {
     "name": "stdout",
     "output_type": "stream",
     "text": [
      " Volume in drive C has no label.\n",
      " Volume Serial Number is A4C8-EE27\n",
      "\n",
      " Directory of C:\\Users\\Administrator\\git\\ml-training-jupyter-notebooks\\Machine Learning\\MLOps\\tmp\n",
      "\n",
      "06/14/2021  05:54 PM    <DIR>          .\n",
      "06/14/2021  05:54 PM    <DIR>          ..\n",
      "06/14/2021  05:54 PM    <DIR>          SARIMAX-0_1_0\n",
      "06/14/2021  05:54 PM            24,477 test_results.png\n",
      "               1 File(s)         24,477 bytes\n",
      "               3 Dir(s)   1,319,653,376 bytes free\n"
     ]
    }
   ],
   "source": [
    "! dir tmp"
   ]
  },
  {
   "cell_type": "markdown",
   "id": "76e2acca-27d4-491c-ad6b-6953b1c5fb55",
   "metadata": {},
   "source": [
    "We can load the chart stored in the artifact using a multitude of libraries."
   ]
  },
  {
   "cell_type": "code",
   "execution_count": 419,
   "id": "939d070c-cc9b-4c56-90d4-dda3011b4d89",
   "metadata": {},
   "outputs": [
    {
     "data": {
      "image/png": "[encoded data removed]",
      "text/plain": [
       "<IPython.core.display.Image object>"
      ]
     },
     "execution_count": 419,
     "metadata": {},
     "output_type": "execute_result"
    }
   ],
   "source": [
    "from IPython.display import Image\n",
    "local_image_path = \"tmp/test_results.png\"\n",
    "Image(local_image_path)"
   ]
  }
 ],
 "metadata": {
  "kernelspec": {
   "display_name": "Python 3",
   "language": "python",
   "name": "python3"
  },
  "language_info": {
   "codemirror_mode": {
    "name": "ipython",
    "version": 3
   },
   "file_extension": ".py",
   "mimetype": "text/x-python",
   "name": "python",
   "nbconvert_exporter": "python",
   "pygments_lexer": "ipython3",
   "version": "3.6.8"
  }
 },
 "nbformat": 4,
 "nbformat_minor": 5
}
