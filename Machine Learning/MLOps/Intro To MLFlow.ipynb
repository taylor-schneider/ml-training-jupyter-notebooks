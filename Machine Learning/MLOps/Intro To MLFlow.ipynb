{
 "cells": [
  {
   "cell_type": "markdown",
   "id": "7aa97a78-ea0a-463f-b624-d92517d317f3",
   "metadata": {},
   "source": [
    "# Overview\n",
    "\n",
    "According to the [homepage](https://mlflow.org/) MLFlow is \"An open source platform for the machine learning lifecycle\". Its intended purpose is to provide a single tool which allows data scientists to address ML specific components of the Software Development Life cycle (SDLC) including: experimentation, reproducibility, model deployment, and a model storage in a centralizing model registry.\n",
    "\n",
    "The project breaks down into the following sub-components:\n",
    "- MLflow Tracking - Allows user to record and query experiments: code, data, config, and results\n",
    "- MLflow Projects - A standard package format allowing reproducable deployments of models to any platform regardless of where they were authored\n",
    "- MLflow Models - A unified abstraction layer allowing support for integration with multiple machine learning model libraries and providers\n",
    "- Model Registry - Store, annotate, discover, and manage models in a central repository\n",
    "\n",
    "We will see that each sub-component has a coresponding UI and API.\n",
    "\n",
    "The project page boasts integrations with many big name players, providers, and technology stacks and sees contributions coming from many big names in the space."
   ]
  },
  {
   "cell_type": "markdown",
   "id": "2f3d3f29-c50a-498c-8b99-eaf88b1e7f0b",
   "metadata": {},
   "source": [
    "## Agenda\n",
    "\n",
    "In this notebook we will get our feet wet and explore the basic functionalities. For official documentation, see the [MLFlow quickstart guide](https://mlflow.org/docs/latest/quickstart.html).\n",
    "\n"
   ]
  },
  {
   "cell_type": "markdown",
   "id": "26cc5ba8-f09f-48bf-a10b-843679baaef7",
   "metadata": {},
   "source": [
    "# 1. MLFlow Architecture\n",
    "\n",
    "Before we get started with MLFlow, It is important to understand the architectural components. As we will see in section 2, there are a number of ways to deploy the MLFlow. Before we choose a method, it is important to understand that an MLFlow deployment consists of the following components:\n",
    "- Backend - Persists MLflow entities (runs, parameters, metrics, tags, notes, metadata, etc)\n",
    "- Artifact Store - persists artifacts (files, models, images, in-memory objects, or model summary, etc)\n",
    "- REST API - The optional component exposing web based MLFlow API\n",
    "- Tracking UI - The Web UI for lets you visualize, search and compare runs, as well as download run artifacts or metadata for analysis in other tools, and register or tag models.\n",
    "\n"
   ]
  },
  {
   "cell_type": "markdown",
   "id": "11a602e1-b886-4a0b-b1a5-ce33e1d540ca",
   "metadata": {},
   "source": [
    "# 2. Deployment Options\n",
    "\n",
    "Reading through the [documentation](https://mlflow.org/docs/latest/tracking.html), assuming you are deploying your own MLFlow installation, you have the following documented options:\n",
    "\n",
    "<table >\n",
    "\t<tbody>\n",
    "\t\t<tr>\n",
    "\t\t\t<td>Scenario</td>\n",
    "\t\t\t<td>Description</td>\n",
    "\t\t\t<td>Backend</td>\n",
    "\t\t\t<td>Artifact Store</td>\n",
    "\t\t</tr>\n",
    "\t\t<tr>\n",
    "\t\t\t<td>1</td>\n",
    "\t\t\t<td>MLflow on localhost</td>\n",
    "\t\t\t<td>local ./mlruns&nbsp;directory</td>\n",
    "\t\t\t<td>local ./mlruns&nbsp;directory</td>\n",
    "\t\t</tr>\n",
    "\t\t<tr>\n",
    "\t\t\t<td>2</td>\n",
    "\t\t\t<td>MLflow on localhost with SQLite</td>\n",
    "\t\t\t<td>local ./mlruns directory</td>\n",
    "\t\t\t<td>local mlruns.db file</td>\n",
    "\t\t</tr>\n",
    "\t\t<tr>\n",
    "\t\t\t<td>3</td>\n",
    "\t\t\t<td>MLflow on localhost with Tracking Server</td>\n",
    "\t\t\t<td>A REST API utilizes&nbsp;./mlruns directory</td>\n",
    "\t\t\t<td>A REST API utilizes ./mlruns directory</td>\n",
    "\t\t</tr>\n",
    "\t\t<tr>\n",
    "\t\t\t<td>4</td>\n",
    "\t\t\t<td>MLflow with remote Tracking Server, backend and artifact stores</td>\n",
    "\t\t\t<td>A REST API utilizes remote backend</td>\n",
    "\t\t\t<td>A REST API utilizes remote artifact store</td>\n",
    "\t\t</tr>\n",
    "\t</tbody>\n",
    "</table>\n",
    "\n",
    "**Note**: None of these options discuss the MLFlow UI.\n",
    "\n",
    "Databricks and AWS also provide MLFlow deployments that data scientists can leverage.\n",
    "\n",
    "For our purposes, we will keep it simple and go with scenario 1 and host our own UI."
   ]
  },
  {
   "cell_type": "markdown",
   "id": "e9f5991d-b56d-4d70-a472-7b937bc0b2ae",
   "metadata": {},
   "source": [
    "# 3. MLFLow Object Model"
   ]
  },
  {
   "cell_type": "markdown",
   "id": "02c5424b-4405-4a33-a765-02b5cd576473",
   "metadata": {},
   "source": [
    "# 4. Launching MLFlow\n",
    "Launching MLFlow from a jupyter notebook is a bit complicated. Long story short; we will need to launch the process in a separate thread so that the jupyter cell does not block us by running forever."
   ]
  },
  {
   "cell_type": "code",
   "execution_count": 21,
   "id": "be4a38d9-93f0-4830-8bfb-106bdc02a9e0",
   "metadata": {
    "jupyter": {
     "source_hidden": true
    },
    "tags": []
   },
   "outputs": [
    {
     "name": "stdout",
     "output_type": "stream",
     "text": [
      "It looks like MLFlow is already running. Check is python.exe is listening on port 5000 \n",
      "MLFlow should be accessible at http://localhost:5000\n"
     ]
    }
   ],
   "source": [
    "shell_command = \"mlflow ui\"\n",
    "mlflow_port = 5000\n",
    "\n",
    "def mlflow_running():\n",
    "    import socket\n",
    "    with socket.socket(socket.AF_INET, socket.SOCK_STREAM) as s:\n",
    "        running = s.connect_ex(('localhost', mlflow_port)) == 0\n",
    "        return running\n",
    "    \n",
    "if mlflow_running():\n",
    "    print(\"It looks like MLFlow is already running. Check is python.exe is listening on port 5000 \")\n",
    "else:\n",
    "    print(\"Starting MLFlow\")\n",
    "    import subprocess\n",
    "    process = subprocess.Popen(shell_command)\n",
    "print(\"MLFlow should be accessible at http://localhost:5000\")"
   ]
  },
  {
   "cell_type": "markdown",
   "id": "a25b33c0-1521-4975-9c00-775479693c02",
   "metadata": {},
   "source": [
    "Once launched, you should see a page like this:\n",
    "\n",
    "<center><img src=\"images/mlflow_ui.png\" ></center>"
   ]
  },
  {
   "cell_type": "markdown",
   "id": "35ec294d-9e42-4a2d-acb9-1ec2275532a5",
   "metadata": {},
   "source": [
    "# 5. Example Workflow\n",
    "## 5.1. Load Data\n",
    "In our example we will load some NASDAQ data and train a model to make predictions. "
   ]
  },
  {
   "cell_type": "code",
   "execution_count": 81,
   "id": "52aa6a24-ec24-4d20-9f59-7efc1a038746",
   "metadata": {
    "jupyter": {
     "source_hidden": true
    },
    "tags": []
   },
   "outputs": [
    {
     "data": {
      "image/png": "[encoded data removed]",
      "text/plain": [
       "<Figure size 1440x576 with 1 Axes>"
      ]
     },
     "metadata": {
      "needs_background": "light"
     },
     "output_type": "display_data"
    }
   ],
   "source": [
    "# Import the utilities module we wrote\n",
    "import importlib.util\n",
    "spec = importlib.util.spec_from_file_location(\"utilities\", \"../../Utilities/utilities.py\")\n",
    "utilities = importlib.util.module_from_spec(spec)\n",
    "spec.loader.exec_module(utilities)\n",
    "\n",
    "# Read the file into a dataframe\n",
    "file_path = \"../../Example Data Sets/nasdaq_2019.csv\"\n",
    "converter_mapping = {\n",
    "    \"date\": utilities.convert_date_string_to_date\n",
    "}\n",
    "import pandas\n",
    "pandas_dataframe = pandas.read_csv(file_path, converters=converter_mapping)\n",
    "aaba_dataframe = pandas_dataframe[pandas_dataframe[\"ticker\"] == 'AABA']\n",
    "aaba_dataframe = aaba_dataframe.sort_values(by=\"date\", ascending=True)\n",
    "\n",
    "# Plot the data\n",
    "import matplotlib.pyplot as pyplot\n",
    "fig, ax = pyplot.subplots(figsize=(20, 8), nrows=1, ncols=1)\n",
    "ax.set_title(\"AABA Open Price\")\n",
    "pyplot.scatter(aaba_dataframe[\"date\"], aaba_dataframe[\"open\"]);"
   ]
  },
  {
   "cell_type": "markdown",
   "id": "47143355-9b3e-4683-b301-ad86c929c822",
   "metadata": {},
   "source": [
    "## 5.2. Train The ARIMA Model"
   ]
  },
  {
   "cell_type": "markdown",
   "id": "ce669722-6e88-496c-8bb8-61fe8e33d4e8",
   "metadata": {},
   "source": [
    "The model we will be using is the ARIMA model which stands for:\n",
    "\n",
    "- AutoRegressive (AR) - the model takes advantage of the connection between a predefined number of lagged observations and the current one.\n",
    "- Integrated (I) - differencing between raw observations (eg. subtracting observations at different time steps).\n",
    "- Moving Average (MA) - the model takes advantage of the relationship between the residual error and the observations.\n",
    "\n",
    "The ARIMA model makes use of three main parameters (p,d,q):\n",
    "- p - number of lag observations\n",
    "- d - the degree of differencing\n",
    "- q - the size of the moving average window\n"
   ]
  },
  {
   "cell_type": "code",
   "execution_count": null,
   "id": "c99ea16c-7760-469a-957f-e1fa7708366b",
   "metadata": {},
   "outputs": [],
   "source": []
  },
  {
   "cell_type": "code",
   "execution_count": 48,
   "id": "3ccc49a2-da04-435d-ba63-7b148d57fac5",
   "metadata": {},
   "outputs": [],
   "source": [
    "import warnings\n",
    "warnings.filterwarnings('ignore')"
   ]
  },
  {
   "cell_type": "code",
   "execution_count": null,
   "id": "f6c0b7fa-9613-4887-8163-4e2f9ff24ff4",
   "metadata": {},
   "outputs": [],
   "source": []
  },
  {
   "cell_type": "markdown",
   "id": "857eaf91-7857-45cf-9771-5713736e0dfe",
   "metadata": {},
   "source": [
    "We will then iterate through a number of training and testing scenarios choosing the best parameters for the predictions."
   ]
  },
  {
   "cell_type": "code",
   "execution_count": 107,
   "id": "ef5d3cb4-9ada-4c09-956f-505a4bfacc17",
   "metadata": {
    "tags": []
   },
   "outputs": [
    {
     "name": "stdout",
     "output_type": "stream",
     "text": [
      "The best parameter set (0, 1, 0) yielded an AIC of 409.4944259259052\n"
     ]
    },
    {
     "data": {
      "text/html": [
       "<table class=\"simpletable\">\n",
       "<caption>SARIMAX Results</caption>\n",
       "<tr>\n",
       "  <th>Dep. Variable:</th>         <td>open</td>       <th>  No. Observations:  </th>    <td>126</td>  \n",
       "</tr>\n",
       "<tr>\n",
       "  <th>Model:</th>           <td>SARIMAX(2, 2, 2)</td> <th>  Log Likelihood     </th> <td>-202.800</td>\n",
       "</tr>\n",
       "<tr>\n",
       "  <th>Date:</th>            <td>Fri, 11 Jun 2021</td> <th>  AIC                </th>  <td>415.600</td>\n",
       "</tr>\n",
       "<tr>\n",
       "  <th>Time:</th>                <td>22:26:31</td>     <th>  BIC                </th>  <td>429.702</td>\n",
       "</tr>\n",
       "<tr>\n",
       "  <th>Sample:</th>                  <td>0</td>        <th>  HQIC               </th>  <td>421.329</td>\n",
       "</tr>\n",
       "<tr>\n",
       "  <th></th>                      <td> - 126</td>      <th>                     </th>     <td> </td>   \n",
       "</tr>\n",
       "<tr>\n",
       "  <th>Covariance Type:</th>        <td>opg</td>       <th>                     </th>     <td> </td>   \n",
       "</tr>\n",
       "</table>\n",
       "<table class=\"simpletable\">\n",
       "<tr>\n",
       "     <td></td>       <th>coef</th>     <th>std err</th>      <th>z</th>      <th>P>|z|</th>  <th>[0.025</th>    <th>0.975]</th>  \n",
       "</tr>\n",
       "<tr>\n",
       "  <th>ar.L1</th>  <td>   -0.8990</td> <td>    0.093</td> <td>   -9.686</td> <td> 0.000</td> <td>   -1.081</td> <td>   -0.717</td>\n",
       "</tr>\n",
       "<tr>\n",
       "  <th>ar.L2</th>  <td>    0.0379</td> <td>    0.087</td> <td>    0.436</td> <td> 0.663</td> <td>   -0.133</td> <td>    0.208</td>\n",
       "</tr>\n",
       "<tr>\n",
       "  <th>ma.L1</th>  <td>    0.0319</td> <td>   15.866</td> <td>    0.002</td> <td> 0.998</td> <td>  -31.066</td> <td>   31.130</td>\n",
       "</tr>\n",
       "<tr>\n",
       "  <th>ma.L2</th>  <td>   -0.9680</td> <td>   15.372</td> <td>   -0.063</td> <td> 0.950</td> <td>  -31.097</td> <td>   29.161</td>\n",
       "</tr>\n",
       "<tr>\n",
       "  <th>sigma2</th> <td>    1.4904</td> <td>   23.588</td> <td>    0.063</td> <td> 0.950</td> <td>  -44.742</td> <td>   47.723</td>\n",
       "</tr>\n",
       "</table>\n",
       "<table class=\"simpletable\">\n",
       "<tr>\n",
       "  <th>Ljung-Box (L1) (Q):</th>     <td>0.00</td> <th>  Jarque-Bera (JB):  </th> <td>9.83</td> \n",
       "</tr>\n",
       "<tr>\n",
       "  <th>Prob(Q):</th>                <td>0.99</td> <th>  Prob(JB):          </th> <td>0.01</td> \n",
       "</tr>\n",
       "<tr>\n",
       "  <th>Heteroskedasticity (H):</th> <td>1.90</td> <th>  Skew:              </th> <td>-0.00</td>\n",
       "</tr>\n",
       "<tr>\n",
       "  <th>Prob(H) (two-sided):</th>    <td>0.04</td> <th>  Kurtosis:          </th> <td>4.38</td> \n",
       "</tr>\n",
       "</table><br/><br/>Warnings:<br/>[1] Covariance matrix calculated using the outer product of gradients (complex-step)."
      ],
      "text/plain": [
       "<class 'statsmodels.iolib.summary.Summary'>\n",
       "\"\"\"\n",
       "                               SARIMAX Results                                \n",
       "==============================================================================\n",
       "Dep. Variable:                   open   No. Observations:                  126\n",
       "Model:               SARIMAX(2, 2, 2)   Log Likelihood                -202.800\n",
       "Date:                Fri, 11 Jun 2021   AIC                            415.600\n",
       "Time:                        22:26:31   BIC                            429.702\n",
       "Sample:                             0   HQIC                           421.329\n",
       "                                - 126                                         \n",
       "Covariance Type:                  opg                                         \n",
       "==============================================================================\n",
       "                 coef    std err          z      P>|z|      [0.025      0.975]\n",
       "------------------------------------------------------------------------------\n",
       "ar.L1         -0.8990      0.093     -9.686      0.000      -1.081      -0.717\n",
       "ar.L2          0.0379      0.087      0.436      0.663      -0.133       0.208\n",
       "ma.L1          0.0319     15.866      0.002      0.998     -31.066      31.130\n",
       "ma.L2         -0.9680     15.372     -0.063      0.950     -31.097      29.161\n",
       "sigma2         1.4904     23.588      0.063      0.950     -44.742      47.723\n",
       "===================================================================================\n",
       "Ljung-Box (L1) (Q):                   0.00   Jarque-Bera (JB):                 9.83\n",
       "Prob(Q):                              0.99   Prob(JB):                         0.01\n",
       "Heteroskedasticity (H):               1.90   Skew:                            -0.00\n",
       "Prob(H) (two-sided):                  0.04   Kurtosis:                         4.38\n",
       "===================================================================================\n",
       "\n",
       "Warnings:\n",
       "[1] Covariance matrix calculated using the outer product of gradients (complex-step).\n",
       "\"\"\""
      ]
     },
     "execution_count": 107,
     "metadata": {},
     "output_type": "execute_result"
    }
   ],
   "source": [
    "import itertools\n",
    "import statsmodels.api\n",
    "\n",
    "# Split the data into a train and test set\n",
    "datapoint_count = aaba_dataframe.shape[0]\n",
    "split_point = int(datapoint_count * 0.8)\n",
    "train_df = aaba_dataframe[:split_point]\n",
    "test_df = aaba_dataframe[split_point:]\n",
    "\n",
    "# Generate the posisble parameters for the model\n",
    "p = d = q = range(0, 3)\n",
    "pdq_combinations = list(itertools.product(p, d, q))\n",
    "\n",
    "# Train the model\n",
    "#      Find the optimal parameter set and the coresponding performance metric\n",
    "#\n",
    "\n",
    "best_param_set = None\n",
    "best_perf_metric = -1\n",
    "\n",
    "for pdq in pdq_combinations:\n",
    "    \n",
    "    # Create the model\n",
    "    model = statsmodels.api.tsa.statespace.SARIMAX(\n",
    "        train_df[\"open\"], \n",
    "        order=pdq, \n",
    "        enforce_stationarity=True, \n",
    "        enforce_invertibility=True)\n",
    "    \n",
    "    # Fit the model to the data\n",
    "    fit_model = model.fit()\n",
    "    \n",
    "    # Calculate performance metric\n",
    "    aic = fit_model.aic\n",
    "    \n",
    "    # Record the results\n",
    "    if aic < best_perf_metric or best_perf_metric == -1:\n",
    "        best_param_set = pdq\n",
    "        best_perf_metric = aic\n",
    "\n",
    "    #print(\"The parameter set {} yielded an AIC of {}\".format(pdq, aic))\n",
    "\n",
    "print(\"The best parameter set {} yielded an AIC of {}\".format(best_param_set, best_perf_metric))\n",
    "fit_model.summary()"
   ]
  },
  {
   "cell_type": "markdown",
   "id": "af64c9c6-b227-493b-8279-e8bda5a08497",
   "metadata": {},
   "source": [
    "## 5.3. Test The Model\n",
    "We can make predictions using our fit model:"
   ]
  },
  {
   "cell_type": "code",
   "execution_count": 159,
   "id": "d074807c-cdb9-4178-a632-a2610c6dcff3",
   "metadata": {
    "jupyter": {
     "source_hidden": true
    },
    "tags": []
   },
   "outputs": [],
   "source": [
    "# Make predictions using the fit model\n",
    "points_to_predict = datapoint_count - split_point\n",
    "points_to_predict\n",
    "alpha = 0.05\n",
    "predictions = fit_model.forecast(points_to_predict, alpha=alpha)  # 95% conf\n",
    "\n",
    "# Calculate the upper and lower bound for the confidence interval\n",
    "forecast = fit_model.get_forecast(points_to_predict)\n",
    "ci = forecast.conf_int()"
   ]
  },
  {
   "cell_type": "markdown",
   "id": "76cfe3e0-b89d-41d1-89b3-c6f55b6e10ca",
   "metadata": {},
   "source": [
    "Plotting our predictions we see:"
   ]
  },
  {
   "cell_type": "code",
   "execution_count": 158,
   "id": "2b350ce7-d4f3-439d-be0b-64200a1992e1",
   "metadata": {
    "jupyter": {
     "source_hidden": true
    },
    "tags": []
   },
   "outputs": [
    {
     "data": {
      "image/png": "[encoded data removed]",
      "text/plain": [
       "<Figure size 1440x576 with 1 Axes>"
      ]
     },
     "metadata": {
      "needs_background": "light"
     },
     "output_type": "display_data"
    }
   ],
   "source": [
    "fig, ax = pyplot.subplots(figsize=(20, 8), nrows=1, ncols=1)\n",
    "ax.set_title(\"AABA Open Price\")\n",
    "ax.scatter(aaba_dataframe[\"date\"], aaba_dataframe[\"open\"])\n",
    "ax.plot(aaba_dataframe[\"date\"][split_point:], predictions, color=\"green\", linewidth=4);\n",
    "\n",
    "lower_series= ci.iloc[:, 0]\n",
    "upper_series= ci.iloc[:, 1]\n",
    "ax.fill_between(aaba_dataframe[\"date\"][split_point:], lower_series, upper_series, color='k', alpha=alpha);"
   ]
  },
  {
   "cell_type": "markdown",
   "id": "ae685fcf-d5e4-4a60-b3d9-c9dc3a3a9f86",
   "metadata": {},
   "source": [
    "We can quantify the error from our test trial:"
   ]
  },
  {
   "cell_type": "code",
   "execution_count": 177,
   "id": "5a29d610-4cae-4e68-bfdc-b0b1475230bc",
   "metadata": {},
   "outputs": [
    {
     "name": "stdout",
     "output_type": "stream",
     "text": [
      "The MSE is: 1.0199129847785446\n",
      "The RMSE is: 1.0099074139635498\n"
     ]
    }
   ],
   "source": [
    "import math\n",
    "import numpy\n",
    "\n",
    "y_actual = test_df[\"open\"].to_numpy()\n",
    "y_predicted = predictions\n",
    "\n",
    "MSE = numpy.square(numpy.subtract(y_actual,y_predicted)).mean()\n",
    "RMSE = math.sqrt(MSE)\n",
    "\n",
    "print(\"The MSE is: {}\".format(MSE))\n",
    "print(\"The RMSE is: {}\".format(RMSE))"
   ]
  },
  {
   "cell_type": "markdown",
   "id": "d387e573-0b7d-4327-92ad-dbbed3a4782d",
   "metadata": {},
   "source": [
    "# 6. Configure MLFlow Connection\n",
    "We need to tell our MLFlow client where the server is and how to connect."
   ]
  },
  {
   "cell_type": "code",
   "execution_count": 179,
   "id": "f072aefb-d59f-40d0-968b-0b600df8adc7",
   "metadata": {},
   "outputs": [],
   "source": [
    "import mlflow\n",
    "mlflow.set_tracking_uri(\"http://127.0.0.1:5000\")"
   ]
  },
  {
   "cell_type": "markdown",
   "id": "7d5b994d-d285-4f90-b0d6-3965f95ef334",
   "metadata": {},
   "source": [
    "We can verify the connection settings as follows:"
   ]
  },
  {
   "cell_type": "code",
   "execution_count": 183,
   "id": "b0cec625-3b9c-481f-80d1-ac804b7f49e4",
   "metadata": {},
   "outputs": [
    {
     "data": {
      "text/plain": [
       "'http://127.0.0.1:5000'"
      ]
     },
     "execution_count": 183,
     "metadata": {},
     "output_type": "execute_result"
    }
   ],
   "source": [
    "mlflow.get_tracking_uri()"
   ]
  },
  {
   "cell_type": "markdown",
   "id": "e533fd12-89c3-47b7-b61a-2da8fe271893",
   "metadata": {},
   "source": [
    "# 7. Conduct An Experiment\n",
    "\n",
    "Usint the MLFLow Tracking API we are able to log model paramters, metics, and artifacts to the MLFlow server.\n",
    "\n",
    "The first thing we need to do is tell MLFlow which experiment we are working on"
   ]
  },
  {
   "cell_type": "markdown",
   "id": "299d2662-42c5-4546-8d61-9dbfa52aafc8",
   "metadata": {},
   "source": [
    "## 7.1. Create The Experiment Object\n",
    "The experiment object allows us logically group runs which serve a common task. In our case, the act of training the model, testing the model, and calculating performance metrics can all be considered a run. The larger experiment is thus observing the different runs so that we can choose the best performing model parameters.\n",
    "\n",
    "As MLFlow is operating on a distributed model, we have the ability to attach to existing experiments or define new ones. Before creating one, we will observe that there is a default experiment which is automagically created for us."
   ]
  },
  {
   "cell_type": "code",
   "execution_count": 194,
   "id": "e363b0b3-3cfb-455d-a116-6fe4e907314e",
   "metadata": {},
   "outputs": [
    {
     "data": {
      "text/plain": [
       "[<Experiment: artifact_location='./mlruns/0', experiment_id='0', lifecycle_stage='active', name='Default', tags={}>]"
      ]
     },
     "execution_count": 194,
     "metadata": {},
     "output_type": "execute_result"
    }
   ],
   "source": [
    "from  mlflow.tracking import MlflowClient\n",
    "mlflow_client = MlflowClient()\n",
    "experiments = mlflow_client.list_experiments()\n",
    "experiments"
   ]
  },
  {
   "cell_type": "markdown",
   "id": "a5ec2f83-2154-48bb-bf90-303477e3b22b",
   "metadata": {},
   "source": [
    "We will create a different experiment to store information from our runs. We will name the experiment AABA-ARIMA"
   ]
  },
  {
   "cell_type": "code",
   "execution_count": 211,
   "id": "dcc41e34-4cf6-4206-92ba-6bc375393c1d",
   "metadata": {},
   "outputs": [
    {
     "name": "stdout",
     "output_type": "stream",
     "text": [
      "INFO: 'AABA-ARIMA' does not exist. Creating a new experiment\n"
     ]
    }
   ],
   "source": [
    "experiment_name = 'AABA-ARIMA'\n",
    "mlflow.set_experiment(experiment_name)"
   ]
  },
  {
   "cell_type": "code",
   "execution_count": 212,
   "id": "9d34fe95-4557-483d-9d2f-cd01f0012b6f",
   "metadata": {},
   "outputs": [
    {
     "data": {
      "text/plain": [
       "<Experiment: artifact_location='./mlruns/1', experiment_id='1', lifecycle_stage='active', name='AABA-ARIMA', tags={}>"
      ]
     },
     "execution_count": 212,
     "metadata": {},
     "output_type": "execute_result"
    }
   ],
   "source": [
    "experiment = mlflow.get_experiment_by_name(experiment_name)\n",
    "experiment"
   ]
  },
  {
   "cell_type": "code",
   "execution_count": 214,
   "id": "7d33be6a-7848-434f-a872-c9fe05a52b4a",
   "metadata": {},
   "outputs": [
    {
     "data": {
      "text/plain": [
       "[<Experiment: artifact_location='./mlruns/0', experiment_id='0', lifecycle_stage='active', name='Default', tags={}>,\n",
       " <Experiment: artifact_location='./mlruns/1', experiment_id='1', lifecycle_stage='active', name='AABA-ARIMA', tags={}>]"
      ]
     },
     "execution_count": 214,
     "metadata": {},
     "output_type": "execute_result"
    }
   ],
   "source": [
    "mlflow_client.list_experiments()"
   ]
  },
  {
   "cell_type": "markdown",
   "id": "c6ea8733-dccf-4bc5-992c-6d011a83dd88",
   "metadata": {},
   "source": [
    "## 7.2. Conduct The Experiment And Log Run Data\n",
    "We can now run through our ML workflow from section 5. "
   ]
  },
  {
   "cell_type": "code",
   "execution_count": null,
   "id": "399417dd-8b0e-4d88-9b13-4661b8f82a50",
   "metadata": {},
   "outputs": [],
   "source": []
  },
  {
   "cell_type": "code",
   "execution_count": null,
   "id": "4a98df1d-c913-438b-8c98-d7683448d1bb",
   "metadata": {},
   "outputs": [],
   "source": []
  },
  {
   "cell_type": "code",
   "execution_count": null,
   "id": "64206f09-ccff-4fc9-8ab6-a88821bfe14e",
   "metadata": {},
   "outputs": [],
   "source": []
  },
  {
   "cell_type": "code",
   "execution_count": null,
   "id": "8a4bd58c-f099-438d-a2f0-dad82ef384b2",
   "metadata": {},
   "outputs": [],
   "source": []
  },
  {
   "cell_type": "code",
   "execution_count": null,
   "id": "03baf413-46af-4d39-91a8-994522ccd75d",
   "metadata": {},
   "outputs": [],
   "source": []
  }
 ],
 "metadata": {
  "kernelspec": {
   "display_name": "Python 3",
   "language": "python",
   "name": "python3"
  },
  "language_info": {
   "codemirror_mode": {
    "name": "ipython",
    "version": 3
   },
   "file_extension": ".py",
   "mimetype": "text/x-python",
   "name": "python",
   "nbconvert_exporter": "python",
   "pygments_lexer": "ipython3",
   "version": "3.6.8"
  }
 },
 "nbformat": 4,
 "nbformat_minor": 5
}
