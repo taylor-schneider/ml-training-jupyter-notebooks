{
 "cells": [
  {
   "cell_type": "markdown",
   "id": "7aa97a78-ea0a-463f-b624-d92517d317f3",
   "metadata": {},
   "source": [
    "# Overview\n",
    "\n",
    "According to the [homepage](https://mlflow.org/) MLFlow is \"An open source platform for the machine learning lifecycle\". Its intended purpose is to provide a single tool which allows data scientists to address ML specific components of the Software Development Life cycle (SDLC) including: experimentation, reproducibility, model deployment, and a model storage in a centralizing model registry.\n",
    "\n",
    "The project breaks down into the following sub-components:\n",
    "- MLflow Tracking - Allows user to record and query experiments: code, data, config, and results\n",
    "- MLflow Projects - A standard package format allowing reproducable deployments of models to any platform regardless of where they were authored\n",
    "- MLflow Models - A unified abstraction layer allowing support for integration with multiple machine learning model libraries and providers\n",
    "- Model Registry - Store, annotate, discover, and manage models in a central repository\n",
    "\n",
    "We will see that each sub-component has a coresponding UI and API.\n",
    "\n",
    "The project page boasts integrations with many big name players, providers, and technology stacks and sees contributions coming from many big names in the space."
   ]
  },
  {
   "cell_type": "markdown",
   "id": "2f3d3f29-c50a-498c-8b99-eaf88b1e7f0b",
   "metadata": {},
   "source": [
    "## Agenda\n",
    "\n",
    "In this notebook we will get our feet wet and explore the basic functionalities. For official documentation, see the [MLFlow quickstart guide](https://mlflow.org/docs/latest/quickstart.html).\n",
    "\n"
   ]
  },
  {
   "cell_type": "markdown",
   "id": "26cc5ba8-f09f-48bf-a10b-843679baaef7",
   "metadata": {},
   "source": [
    "# 1. Architecture\n",
    "\n",
    "Before we get started with MLFlow, It is important to understand the architectural components. As we will see in section 2, there are a number of ways to deploy the MLFlow. Before we choose a method, it is important to understand that an MLFlow deployment consists of the following components:\n",
    "- Backend - Persists MLflow entities (runs, parameters, metrics, tags, notes, metadata, etc)\n",
    "- Artifact Store - persists artifacts (files, models, images, in-memory objects, or model summary, etc)\n",
    "- REST API - The optional component exposing web based MLFlow API\n",
    "- Tracking UI - The Web UI for lets you visualize, search and compare runs, as well as download run artifacts or metadata for analysis in other tools, and register or tag models.\n",
    "\n"
   ]
  },
  {
   "cell_type": "markdown",
   "id": "11a602e1-b886-4a0b-b1a5-ce33e1d540ca",
   "metadata": {},
   "source": [
    "# 2. Deployments\n",
    "\n",
    "Reading through the [documentation](https://mlflow.org/docs/latest/tracking.html), assuming you are deploying your own MLFlow installation, you have the following documented options:\n",
    "\n",
    "<table >\n",
    "\t<tbody>\n",
    "\t\t<tr>\n",
    "\t\t\t<td>Scenario</td>\n",
    "\t\t\t<td>Description</td>\n",
    "\t\t\t<td>Backend</td>\n",
    "\t\t\t<td>Artifact Store</td>\n",
    "\t\t</tr>\n",
    "\t\t<tr>\n",
    "\t\t\t<td>1</td>\n",
    "\t\t\t<td>MLflow on localhost</td>\n",
    "\t\t\t<td>local ./mlruns&nbsp;directory</td>\n",
    "\t\t\t<td>local ./mlruns&nbsp;directory</td>\n",
    "\t\t</tr>\n",
    "\t\t<tr>\n",
    "\t\t\t<td>2</td>\n",
    "\t\t\t<td>MLflow on localhost with SQLite</td>\n",
    "\t\t\t<td>local ./mlruns directory</td>\n",
    "\t\t\t<td>local mlruns.db file</td>\n",
    "\t\t</tr>\n",
    "\t\t<tr>\n",
    "\t\t\t<td>3</td>\n",
    "\t\t\t<td>MLflow on localhost with Tracking Server</td>\n",
    "\t\t\t<td>A REST API utilizes&nbsp;./mlruns directory</td>\n",
    "\t\t\t<td>A REST API utilizes ./mlruns directory</td>\n",
    "\t\t</tr>\n",
    "\t\t<tr>\n",
    "\t\t\t<td>4</td>\n",
    "\t\t\t<td>MLflow with remote Tracking Server, backend and artifact stores</td>\n",
    "\t\t\t<td>A REST API utilizes remote backend</td>\n",
    "\t\t\t<td>A REST API utilizes remote artifact store</td>\n",
    "\t\t</tr>\n",
    "\t</tbody>\n",
    "</table>\n",
    "\n",
    "**Note**: None of these options discuss the MLFlow UI.\n",
    "\n",
    "Databricks and AWS also provide MLFlow deployments that data scientists can leverage.\n",
    "\n",
    "For our purposes, we will keep it simple and go with scenario 1 and host our own UI."
   ]
  },
  {
   "cell_type": "markdown",
   "id": "e9f5991d-b56d-4d70-a472-7b937bc0b2ae",
   "metadata": {},
   "source": [
    "# 3. Object Model"
   ]
  },
  {
   "cell_type": "markdown",
   "id": "02c5424b-4405-4a33-a765-02b5cd576473",
   "metadata": {},
   "source": [
    "# 4. Launching MLFlow"
   ]
  },
  {
   "cell_type": "code",
   "execution_count": null,
   "id": "be4a38d9-93f0-4830-8bfb-106bdc02a9e0",
   "metadata": {},
   "outputs": [],
   "source": []
  },
  {
   "cell_type": "code",
   "execution_count": null,
   "id": "12725454-cb5d-4ad3-bbd2-c7bd0ec4c263",
   "metadata": {},
   "outputs": [],
   "source": []
  },
  {
   "cell_type": "code",
   "execution_count": null,
   "id": "59d479e3-6980-4af1-9f1b-504556ccade8",
   "metadata": {},
   "outputs": [],
   "source": []
  },
  {
   "cell_type": "code",
   "execution_count": null,
   "id": "4e53c4fe-ce59-4ba0-9fe9-fd90336b17c9",
   "metadata": {},
   "outputs": [],
   "source": []
  },
  {
   "cell_type": "code",
   "execution_count": null,
   "id": "efafa420-6724-417e-a100-05e925c53a6a",
   "metadata": {},
   "outputs": [],
   "source": []
  },
  {
   "cell_type": "code",
   "execution_count": null,
   "id": "41118bed-ae8b-403e-8c88-78b90dac7457",
   "metadata": {},
   "outputs": [],
   "source": []
  }
 ],
 "metadata": {
  "kernelspec": {
   "display_name": "Python 3",
   "language": "python",
   "name": "python3"
  },
  "language_info": {
   "codemirror_mode": {
    "name": "ipython",
    "version": 3
   },
   "file_extension": ".py",
   "mimetype": "text/x-python",
   "name": "python",
   "nbconvert_exporter": "python",
   "pygments_lexer": "ipython3",
   "version": "3.6.8"
  }
 },
 "nbformat": 4,
 "nbformat_minor": 5
}
