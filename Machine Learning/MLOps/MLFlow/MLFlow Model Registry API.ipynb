{
 "cells": [
  {
   "cell_type": "markdown",
   "id": "4b2ad88d-3642-43b4-b9c3-302eec6d380f",
   "metadata": {},
   "source": [
    "# Overview\n",
    "In this notebook we will look at the MLFlow Registry API. As noted in the [README](README.md), MLFlow's API breaks down into several components. In the [MLFlow Tracking API Notebook](MLFLlow%20Tracking%20API.ipynb) we looked at how to experiment and run data to the MLFlow server.\n",
    "\n",
    "The Registry API allows data scientists to collaboratively manage the full lifecycle of an MLflow Model. It provides model lineage (which MLflow experiment and run produced the model), model versioning, stage transitions (for example from staging to production), and annotations.\n",
    "\n",
    "According to the [documentation](https://www.mlflow.org/docs/latest/model-registry.html), the Model Registry provides a centralized place to store models and manage their lifecycle. The Model Registry introduces a few concepts that describe and facilitate the full lifecycle of an MLflow Model. The registry is designed as an additional feature which can be used in tandem with the Tracking API. As we will see it allows us to impliment MLOps and integrate with existing DevOps practices.\n",
    "\n",
    "<center><img src=\"images/mlflow_model_registry_concepts.png\"></center>\n",
    "\n",
    "The MLFlow Model Registry also provides the baility to manage and monitor changes. Users can design events to automatically log key information when changes are made to the model registry. Users can also implement levels of control to the deployment process by requiring changes to the Model Registry to be requested, reviewed and approved before being submitted."
   ]
  },
  {
   "cell_type": "markdown",
   "id": "4586abc1-89b5-47a9-b370-dbbbdb620eb7",
   "metadata": {},
   "source": [
    "## Prerequisites\n",
    "This notebook is based on the work from the [MLFlow Tracking API Notebook](MLFLlow%20Tracking%20API.ipynb). Specifically, we logged models from an experiment which we will be using here. If we did not log models, we will not be able to register them as part of this notebook.\n",
    "\n",
    "## Agenda\n",
    "\n",
    "1. Launching MLFlow Server\n",
    "2. Configure Connection For MLFlow Client\n",
    "3. Register A Model"
   ]
  },
  {
   "cell_type": "markdown",
   "id": "b83121e6-46da-4325-8bdc-c0b1b3c7729a",
   "metadata": {},
   "source": [
    "# 1. Launch MLFlow Server"
   ]
  },
  {
   "cell_type": "code",
   "execution_count": 1,
   "id": "74961efe-6f76-416c-af27-c786c18fbf19",
   "metadata": {},
   "outputs": [
    {
     "name": "stdout",
     "output_type": "stream",
     "text": [
      "It looks like MLFlow is already running. Check is python.exe is listening on port 5000 \n",
      "MLFlow should be accessible at http://localhost:5000\n"
     ]
    }
   ],
   "source": [
    "mlflow_port = 5000\n",
    "shell_command = \"mlflow server --backend-store-uri sqlite:///mlflow.db\"\n",
    "shell_command += \" --default-artifact-root ./artifacts\"\n",
    "shell_command += \" --host 0.0.0.0\"\n",
    "shell_command += \" --port {}\".format(mlflow_port)\n",
    "\n",
    "def mlflow_running():\n",
    "    import socket\n",
    "    with socket.socket(socket.AF_INET, socket.SOCK_STREAM) as s:\n",
    "        running = s.connect_ex(('localhost', mlflow_port)) == 0\n",
    "        return running\n",
    "    \n",
    "if mlflow_running():\n",
    "    print(\"It looks like MLFlow is already running. Check is python.exe is listening on port 5000 \")\n",
    "else:\n",
    "    print(\"Starting MLFlow with the following shell command:\")\n",
    "    print(shell_command)\n",
    "    import subprocess\n",
    "    process = subprocess.Popen(shell_command)\n",
    "    \n",
    "print(\"MLFlow should be accessible at http://localhost:{}\".format(mlflow_port))"
   ]
  },
  {
   "cell_type": "markdown",
   "id": "5aa97c67-125d-49d2-a25c-9a8079af0f34",
   "metadata": {},
   "source": [
    "# 2. Configure Connection For MLFLow Client\n",
    "We need to tell our MLFlow client where the server is and how to connect."
   ]
  },
  {
   "cell_type": "code",
   "execution_count": 2,
   "id": "e5ea9b2d-19bf-4ef4-abb3-9a19e6235bc8",
   "metadata": {
    "tags": []
   },
   "outputs": [],
   "source": [
    "import mlflow\n",
    "mlflow.set_tracking_uri(\"http://127.0.0.1:5000\")"
   ]
  },
  {
   "cell_type": "markdown",
   "id": "3eb8ff7c-95ee-465d-8422-3eb20a23714e",
   "metadata": {},
   "source": [
    "We can verify the connection settings as follows:"
   ]
  },
  {
   "cell_type": "code",
   "execution_count": 3,
   "id": "3285e3ff-eaad-4639-920b-af5c72041076",
   "metadata": {},
   "outputs": [
    {
     "data": {
      "text/plain": [
       "'http://127.0.0.1:5000'"
      ]
     },
     "execution_count": 3,
     "metadata": {},
     "output_type": "execute_result"
    }
   ],
   "source": [
    "mlflow.get_tracking_uri()"
   ]
  },
  {
   "cell_type": "markdown",
   "id": "9fb3ad6e-81c7-42c6-ab5e-e1cf09a819ba",
   "metadata": {},
   "source": [
    "# 3. Register a Model\n",
    "As discussed in the [README](README.md), when we register a model, we are enabling that model to be managed using the lifecycle management functionality of the Registry API. Generally speaking everything we do with MLFlow can be done through the UI or through the API. \n",
    "\n",
    "## 3.1. Registering A Model Through The UI\n",
    "In the UI, registering a model is a few mouse clicks. One simply needs to navigate to the experiment run containing the model one wants to register and the click the \"register model\" button.\n",
    "\n",
    "<center><img src=\"images/register_model.png\"></center>\n",
    "\n",
    "We can create a newly registered model by providing a name or update an existing model by selecting the drop down.\n",
    "\n",
    "<center><img src=\"images/register_model_name.png\"></center>\n",
    "\n",
    "Once a model is registered we can view it in the Models tab.\n",
    "\n",
    "<center><img src=\"images/registered_models.png\"></center>\n",
    "\n",
    "On this page we can see the current version, the modification date, and the stage the model is in. If we click on the odel we can navigate back to the run page and see the meta data associated with a model."
   ]
  },
  {
   "cell_type": "markdown",
   "id": "1240734b-1171-41dd-96be-2fe1857870aa",
   "metadata": {},
   "source": [
    "## 3.2 Register A Model Using The Python API\n",
    "\n",
    "The first step in is to register a model. To do this we will call the *mlflow.register_model()* function. This function will require information from the Experiment Run which logged the model.\n",
    "\n",
    "As mentioned, we will continue our example from [MLFlow Tracking API Notebook](MLFLlow%20Tracking%20API.ipynb). We had a run which outperformed the others... we want to register the model from that run."
   ]
  },
  {
   "cell_type": "markdown",
   "id": "e1a6c90d-b7a9-49fe-ae3e-e3430bd73ce4",
   "metadata": {},
   "source": [
    "### 3.2.1. Lookup Past Experiment Run"
   ]
  },
  {
   "cell_type": "code",
   "execution_count": 4,
   "id": "b1ef17a3-3453-4fad-a08f-6b983dd839aa",
   "metadata": {},
   "outputs": [
    {
     "data": {
      "text/plain": [
       "[<Experiment: artifact_location='./artifacts/0', experiment_id='0', lifecycle_stage='active', name='Default', tags={}>,\n",
       " <Experiment: artifact_location='./artifacts/1', experiment_id='1', lifecycle_stage='active', name='AABA-ARIMA', tags={}>]"
      ]
     },
     "execution_count": 4,
     "metadata": {},
     "output_type": "execute_result"
    }
   ],
   "source": [
    "from  mlflow.tracking import MlflowClient\n",
    "mlflow_client = MlflowClient()\n",
    "experiments = mlflow_client.list_experiments()\n",
    "experiments"
   ]
  },
  {
   "cell_type": "code",
   "execution_count": 5,
   "id": "8c75a7d4-c2d8-4876-898b-2294b40e00bc",
   "metadata": {},
   "outputs": [],
   "source": [
    "experiment_name = 'AABA-ARIMA'\n",
    "mlflow.set_experiment(experiment_name)"
   ]
  },
  {
   "cell_type": "code",
   "execution_count": 9,
   "id": "0eee6c22-7cdc-468e-af66-3bc2c45b6234",
   "metadata": {},
   "outputs": [
    {
     "name": "stdout",
     "output_type": "stream",
     "text": [
      "Searching for experiment named 'AABA-ARIMA'\n",
      "Found id: 1\n",
      "Getting the run information\n",
      "Found 83 runs\n",
      "Searching for the best experiment run\n",
      "Found the following run:\n",
      "\n",
      "run_id                                            28155a8261b84db9813767da598f2c9b\n",
      "experiment_id                                                                    1\n",
      "status                                                                    FINISHED\n",
      "artifact_uri                     ./artifacts/1/28155a8261b84db9813767da598f2c9b...\n",
      "start_time                                        2021-06-15 16:29:23.445000+00:00\n",
      "end_time                                          2021-06-15 16:29:24.728000+00:00\n",
      "metrics.aic                                                                409.494\n",
      "params.q                                                                         0\n",
      "params.p                                                                         0\n",
      "params.d                                                                         1\n",
      "tags.mlflow.source.name          c:\\program files\\python36\\lib\\site-packages\\ip...\n",
      "tags.mlflow.user                                                     Administrator\n",
      "tags.model_type                                                            SARIMAX\n",
      "tags.mlflow.source.type                                                      LOCAL\n",
      "tags.mlflow.log-model.history    [{\"run_id\": \"28155a8261b84db9813767da598f2c9b\"...\n",
      "tags.mlflow.runName                                                  SARIMAX-0_1_0\n",
      "Name: 23, dtype: object\n"
     ]
    }
   ],
   "source": [
    "# Get the experiment ID\n",
    "print(\"Searching for experiment named '{}'\".format(experiment_name))\n",
    "experiment = [experiment for experiment in mlflow_client.list_experiments() if experiment.name == experiment_name][0]\n",
    "print(\"Found id: {}\".format(experiment.experiment_id))\n",
    "\n",
    "# Get the runs for the experiment\n",
    "print(\"Getting the run information\")\n",
    "experiment_run_df = mlflow.search_runs()\n",
    "run_count = experiment_run_df.shape[0]\n",
    "print(\"Found {} runs\".format(run_count))\n",
    "\n",
    "# Get the best run from the experiment\n",
    "print(\"Searching for the best experiment run\")\n",
    "min_aic = experiment_run_df[\"metrics.aic\"].min()\n",
    "best_run = experiment_run_df[experiment_run_df[\"metrics.aic\"] == min_aic].iloc[0]\n",
    "print(\"Found the following run:\")\n",
    "print(\"\")\n",
    "print(best_run)"
   ]
  },
  {
   "cell_type": "markdown",
   "id": "40a04338-6edb-4e20-ae96-d43e3250953d",
   "metadata": {},
   "source": [
    "### 3.2.2. Retrieve Model Details"
   ]
  },
  {
   "cell_type": "code",
   "execution_count": 16,
   "id": "55750c4d-2a6e-48f8-a60d-e50c1e617cb6",
   "metadata": {},
   "outputs": [
    {
     "data": {
      "text/plain": [
       "'28155a8261b84db9813767da598f2c9b'"
      ]
     },
     "execution_count": 16,
     "metadata": {},
     "output_type": "execute_result"
    }
   ],
   "source": [
    "experiment_run_id = best_run[\"run_id\"]\n",
    "experiment_run_id"
   ]
  },
  {
   "cell_type": "code",
   "execution_count": 18,
   "id": "393443ef-39e4-4739-b5d3-4dfeeef3dac7",
   "metadata": {},
   "outputs": [
    {
     "data": {
      "text/plain": [
       "'SARIMAX'"
      ]
     },
     "execution_count": 18,
     "metadata": {},
     "output_type": "execute_result"
    }
   ],
   "source": [
    "model_name = best_run[\"tags.model_type\"]\n",
    "model_name"
   ]
  },
  {
   "cell_type": "code",
   "execution_count": 20,
   "id": "5f16c46a-53d3-47fb-9b67-ba14deefd901",
   "metadata": {},
   "outputs": [
    {
     "data": {
      "text/plain": [
       "'[{\"run_id\": \"28155a8261b84db9813767da598f2c9b\", \"artifact_path\": \"SARIMAX-0_1_0\", \"utc_time_created\": \"2021-06-15 16:29:24.146840\", \"flavors\": {\"python_function\": {\"model_path\": \"model.pkl\", \"loader_module\": \"mlflow.sklearn\", \"python_version\": \"3.6.8\", \"env\": \"conda.yaml\"}, \"sklearn\": {\"pickled_model\": \"model.pkl\", \"sklearn_version\": \"0.24.2\", \"serialization_format\": \"cloudpickle\"}}}]'"
      ]
     },
     "execution_count": 20,
     "metadata": {},
     "output_type": "execute_result"
    }
   ],
   "source": [
    "best_run[\"tags.mlflow.log-model.history\"]"
   ]
  },
  {
   "cell_type": "markdown",
   "id": "c433d1d8-649d-4154-8509-94d2ab95c757",
   "metadata": {},
   "source": [
    "### 3.2.3. Register The Model"
   ]
  },
  {
   "cell_type": "code",
   "execution_count": 19,
   "id": "14a09958-85a1-4623-a51f-bc1e595208c7",
   "metadata": {},
   "outputs": [
    {
     "name": "stderr",
     "output_type": "stream",
     "text": [
      "Successfully registered model 'SARIMAX'.\n",
      "2021/06/15 13:11:55 INFO mlflow.tracking._model_registry.client: Waiting up to 500 seconds for model version to finish creation.                     Model name: SARIMAX, version 1\n",
      "Created version '1' of model 'SARIMAX'.\n"
     ]
    },
    {
     "data": {
      "text/plain": [
       "<ModelVersion: creation_timestamp=1623780715601, current_stage='None', description='', last_updated_timestamp=1623780715601, name='SARIMAX', run_id='28155a8261b84db9813767da598f2c9b', run_link='', source='./artifacts/1/28155a8261b84db9813767da598f2c9b/artifacts/sklearn-model', status='READY', status_message='', tags={}, user_id='', version='1'>"
      ]
     },
     "execution_count": 19,
     "metadata": {},
     "output_type": "execute_result"
    }
   ],
   "source": [
    "model_uri = \"runs:/{}\".format(experiment_run_id)\n",
    "seconds_to_wait = 500\n",
    "model_version = mlflow.register_model(model_uri, model_name, await_registration_for=seconds_to_wait)\n",
    "model_version"
   ]
  },
  {
   "cell_type": "markdown",
   "id": "5d63a0da-34c4-4fcd-a4a1-f9604b80fb07",
   "metadata": {},
   "source": [
    "# 4. Update Model Version"
   ]
  },
  {
   "cell_type": "markdown",
   "id": "85514e89-0222-4659-87af-acc1121c782e",
   "metadata": {},
   "source": [
    "We see that if we reregister the same model, the version is updated. The versioning appears to be based on the name and not the run id or the code associated with the model.\n",
    "\n",
    "To update a model through the UI or the API, simply register a run."
   ]
  },
  {
   "cell_type": "code",
   "execution_count": 21,
   "id": "7794581d-9231-4c95-9605-f66fad1f8219",
   "metadata": {},
   "outputs": [
    {
     "name": "stderr",
     "output_type": "stream",
     "text": [
      "Registered model 'SARIMAX' already exists. Creating a new version of this model...\n",
      "2021/06/15 13:18:50 INFO mlflow.tracking._model_registry.client: Waiting up to 500 seconds for model version to finish creation.                     Model name: SARIMAX, version 2\n",
      "Created version '2' of model 'SARIMAX'.\n"
     ]
    }
   ],
   "source": [
    "model_uri = \"runs:/{}\".format(experiment_run_id)\n",
    "seconds_to_wait = 500\n",
    "model_version = mlflow.register_model(model_uri, model_name, await_registration_for=seconds_to_wait)"
   ]
  },
  {
   "cell_type": "markdown",
   "id": "dc00e8cf-a52b-4ee5-86bf-7b797e094596",
   "metadata": {},
   "source": [
    "# 5. List Or Query Registered Models\n",
    "There are a few ways to interrogate the traking api. See the [docs](https://mlflow.org/docs/latest/python_api/mlflow.tracking.html) for more details.\n",
    "\n",
    "The first option for programatically browsing our rigistered models is to use the *list_registered_models()* function. As we will see, it only returns the latest version of a given model. But it does tell us a lot of information about that version including the stage and run associated with it."
   ]
  },
  {
   "cell_type": "code",
   "execution_count": 42,
   "id": "73bc4d98-0af2-4f1c-90c7-62287d91dd00",
   "metadata": {},
   "outputs": [
    {
     "data": {
      "text/plain": [
       "<RegisteredModel: creation_timestamp=1623780715046, description='', last_updated_timestamp=1623781130322, latest_versions=[<ModelVersion: creation_timestamp=1623781130322, current_stage='None', description='', last_updated_timestamp=1623781130322, name='SARIMAX', run_id='28155a8261b84db9813767da598f2c9b', run_link='', source='./artifacts/1/28155a8261b84db9813767da598f2c9b/artifacts', status='READY', status_message='', tags={}, user_id='', version='2'>], name='SARIMAX', tags={}>"
      ]
     },
     "execution_count": 42,
     "metadata": {},
     "output_type": "execute_result"
    }
   ],
   "source": [
    "registered_models = mlflow_client.list_registered_models()\n",
    "registered_models[0]"
   ]
  },
  {
   "cell_type": "markdown",
   "id": "a2cc7909-2ed0-4a96-97b2-113bf6b32722",
   "metadata": {},
   "source": [
    "The next option is to use the *search_registered_models()* function. This funcion allows us to search and filter the registered models according three parameters: source_path, run_id, and name. Using the name filter is similar to the *search_model_versions()* fucntion.\n",
    "\n",
    "This function can be used to return all versions of a model."
   ]
  },
  {
   "cell_type": "code",
   "execution_count": 50,
   "id": "1188ebd8-a95a-407f-a7bb-da4f3cbcdfd4",
   "metadata": {},
   "outputs": [
    {
     "name": "stdout",
     "output_type": "stream",
     "text": [
      "<ModelVersion: creation_timestamp=1623780715601, current_stage='None', description='', last_updated_timestamp=1623780715601, name='SARIMAX', run_id='28155a8261b84db9813767da598f2c9b', run_link='', source='./artifacts/1/28155a8261b84db9813767da598f2c9b/artifacts/sklearn-model', status='READY', status_message='', tags={}, user_id='', version='1'>\n",
      "\n",
      "<ModelVersion: creation_timestamp=1623781130322, current_stage='None', description='', last_updated_timestamp=1623781130322, name='SARIMAX', run_id='28155a8261b84db9813767da598f2c9b', run_link='', source='./artifacts/1/28155a8261b84db9813767da598f2c9b/artifacts', status='READY', status_message='', tags={}, user_id='', version='2'>\n",
      "\n"
     ]
    }
   ],
   "source": [
    "model_name = \"SARIMAX\"\n",
    "search_filter = \"name='{}'\".format(model_name)\n",
    "model_versions = mlflow_client.search_model_versions(search_filter)\n",
    "for model_version in model_versions:\n",
    "    print(model_version)\n",
    "    print(\"\")"
   ]
  },
  {
   "cell_type": "markdown",
   "id": "c685bbff-79a9-4b85-9580-6d57426b0b04",
   "metadata": {},
   "source": [
    "# 6. Load The Registered Model\n",
    "Once the registered model's run id has been identified, we can load the model in section 5.4. of the [MLFlow Tracking API Notebook](MLFLlow%20Tracking%20API.ipynb)."
   ]
  },
  {
   "cell_type": "code",
   "execution_count": 93,
   "id": "265ea32d-e35e-41c7-90ca-dacc72bc9418",
   "metadata": {},
   "outputs": [
    {
     "name": "stdout",
     "output_type": "stream",
     "text": [
      "Searching for model SARIMAX version 2\n",
      "Looking up run history for run 28155a8261b84db9813767da598f2c9b\n",
      "Deserializing the run history\n",
      "Importing model loader function\n",
      "Loading model\n"
     ]
    },
    {
     "data": {
      "text/plain": [
       "<statsmodels.tsa.statespace.sarimax.SARIMAXResultsWrapper at 0x1a20b2e8>"
      ]
     },
     "execution_count": 93,
     "metadata": {},
     "output_type": "execute_result"
    }
   ],
   "source": [
    "model_name = \"SARIMAX\"\n",
    "model_version_number = '2'\n",
    "\n",
    "print(\"Searching for model {} version {}\".format(model_name, model_version_number))\n",
    "\n",
    "search_filter = \"name='{}'\".format(model_name)\n",
    "model_versions = mlflow_client.search_model_versions(search_filter)\n",
    "model_run_id = None\n",
    "for model_version in model_versions:\n",
    "    if model_version.version == model_version_number:\n",
    "        model_run_id = model_version.run_id\n",
    "        break\n",
    "if model_run_id == None:\n",
    "    raise Exception(\"Unable to find a run ID for the coresponding model version!\")\n",
    "model_artifact_path = model_version.source\n",
    "\n",
    "print(\"Looking up run history for run {}\".format(model_run_id))\n",
    "model_run = mlflow_client.get_run(run_id=model_run_id)\n",
    "model_history = model_run._data.tags['mlflow.log-model.history']\n",
    "\n",
    "print(\"Deserializing the run history\")\n",
    "import json\n",
    "model_history = json.loads(model_history)\n",
    "\n",
    "print(\"Importing model loader function\")\n",
    "loader_module_string = model_history[0][\"flavors\"][\"python_function\"][\"loader_module\"]\n",
    "import importlib\n",
    "loader_module = importlib.import_module(loader_module_string)\n",
    "\n",
    "print(\"Loading model\")\n",
    "artifact_path = model_history[0][\"artifact_path\"]\n",
    "model_uri = \"runs:/{}/{}\".format(model_run_id, artifact_path)\n",
    "loaded_model = loader_module.load_model(model_uri)\n",
    "\n",
    "loaded_model"
   ]
  },
  {
   "cell_type": "markdown",
   "id": "eed3483a-6471-4d7c-9dcb-5bb162386b23",
   "metadata": {},
   "source": [
    "# 7. Transition Model To Stage\n",
    "Currently, MLFlow only supports four stages: None, Staging, Procuction, and Archived. This may change in the future but there is no current support on github.\n",
    "\n",
    "## 7.1 List Stages For a Model\n",
    "We can get a list of the stages for a given model as follows:"
   ]
  },
  {
   "cell_type": "code",
   "execution_count": 95,
   "id": "ba76082a-310d-4155-8a03-a0be4c04425f",
   "metadata": {},
   "outputs": [
    {
     "data": {
      "text/plain": [
       "['None', 'Staging', 'Production', 'Archived']"
      ]
     },
     "execution_count": 95,
     "metadata": {},
     "output_type": "execute_result"
    }
   ],
   "source": [
    "model_name = \"SARIMAX\"\n",
    "model_version_number = '2'\n",
    "posisble_model_stages = mlflow_client.get_model_version_stages(model_name, model_version_number)\n",
    "posisble_model_stages"
   ]
  },
  {
   "cell_type": "markdown",
   "id": "2415a2bd-0011-4677-a4bb-1e21fa55c88e",
   "metadata": {},
   "source": [
    "## 7.2. Get Model's Current Stage"
   ]
  },
  {
   "cell_type": "code",
   "execution_count": 97,
   "id": "342ab96b-4697-40d1-b44e-6b32facf9ea0",
   "metadata": {},
   "outputs": [
    {
     "data": {
      "text/plain": [
       "'None'"
      ]
     },
     "execution_count": 97,
     "metadata": {},
     "output_type": "execute_result"
    }
   ],
   "source": [
    "model_version = mlflow_client.get_model_version(model_name, model_version_number)\n",
    "model_version.current_stage"
   ]
  },
  {
   "cell_type": "markdown",
   "id": "3d7e1459-c2cc-499d-b724-0aa0f9391e38",
   "metadata": {},
   "source": [
    "## 7.3. Transition Model\n",
    "We can update the state as follows:"
   ]
  },
  {
   "cell_type": "code",
   "execution_count": 100,
   "id": "b2aee12c-1c5e-47f6-8c3a-bcfbfc29bb59",
   "metadata": {},
   "outputs": [
    {
     "data": {
      "text/plain": [
       "'Staging'"
      ]
     },
     "execution_count": 100,
     "metadata": {},
     "output_type": "execute_result"
    }
   ],
   "source": [
    "new_stage = \"Staging\"\n",
    "model_version = mlflow_client.transition_model_version_stage(model_name, model_version_number, new_stage)\n",
    "model_version.current_stage"
   ]
  },
  {
   "cell_type": "code",
   "execution_count": 101,
   "id": "96584023-bc13-4b12-aced-24d9852bea5b",
   "metadata": {},
   "outputs": [
    {
     "data": {
      "text/plain": [
       "'Staging'"
      ]
     },
     "execution_count": 101,
     "metadata": {},
     "output_type": "execute_result"
    }
   ],
   "source": [
    "model_version = mlflow_client.get_model_version(model_name, model_version_number)\n",
    "model_version.current_stage"
   ]
  }
 ],
 "metadata": {
  "kernelspec": {
   "display_name": "Python 3",
   "language": "python",
   "name": "python3"
  },
  "language_info": {
   "codemirror_mode": {
    "name": "ipython",
    "version": 3
   },
   "file_extension": ".py",
   "mimetype": "text/x-python",
   "name": "python",
   "nbconvert_exporter": "python",
   "pygments_lexer": "ipython3",
   "version": "3.6.8"
  }
 },
 "nbformat": 4,
 "nbformat_minor": 5
}
