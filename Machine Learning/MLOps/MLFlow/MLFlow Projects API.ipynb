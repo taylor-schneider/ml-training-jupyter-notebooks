{
 "cells": [
  {
   "cell_type": "markdown",
   "id": "249e7e75-7f59-4f5d-9a29-93b490dab32b",
   "metadata": {},
   "source": [
    "# Overview\n",
    "\n",
    "In this notebook we will explore the functionality of an MLFlow project. Before continuing, be sure to get familiar with the matrial in the [README](README.md) and the prerequisite notebooks listed there."
   ]
  },
  {
   "cell_type": "markdown",
   "id": "dfec9b30-8b9d-45fa-8613-65c0cbc5d3d5",
   "metadata": {},
   "source": [
    "# 1. Creating A Project\n",
    "\n",
    "## 1.1. Create A Directory\n",
    "As mentioned in the [README](README.md) an MLFlow Project is a packaging format for storing arbitrary code files. As such a project is basically a directory of files. MLFlow also supports using an Git repository (also a directory) as an MLFlow Project.\n",
    "\n",
    "We will use a simple directory named TestProject"
   ]
  },
  {
   "cell_type": "code",
   "execution_count": 2,
   "id": "6bb3562f-d260-432e-9921-00fbe86cf486",
   "metadata": {},
   "outputs": [
    {
     "data": {
      "text/plain": [
       "['.gitignore',\n",
       " '.ipynb_checkpoints',\n",
       " 'artifacts',\n",
       " 'images',\n",
       " 'MLFlow Model Registry API.ipynb',\n",
       " 'MLFlow Projects API.ipynb',\n",
       " 'MLFLow Tracking API.ipynb',\n",
       " 'mlflow.db',\n",
       " 'mlruns',\n",
       " 'README.md',\n",
       " 'TestProject',\n",
       " 'test_results.png',\n",
       " 'tmp']"
      ]
     },
     "execution_count": 2,
     "metadata": {},
     "output_type": "execute_result"
    }
   ],
   "source": [
    "import os\n",
    "os.listdir()"
   ]
  },
  {
   "cell_type": "markdown",
   "id": "6d48cfe6-1005-4bed-8fea-e564fa81c17a",
   "metadata": {},
   "source": [
    "## 1.2. Create A Script To Do ML\n",
    "We will create a script to do machine learning"
   ]
  },
  {
   "cell_type": "code",
   "execution_count": 12,
   "id": "d4af5e71-5e58-4d24-8716-bbe616849c1c",
   "metadata": {},
   "outputs": [
    {
     "name": "stdout",
     "output_type": "stream",
     "text": [
      "import sys\n",
      "import argparse\n",
      "\n",
      "print(\"Parsing Args\")\n",
      "parser = argparse.ArgumentParser(description='A Python Web Server')\n",
      "parser.add_argument('-d', '--data-file', help='A data file to load.', required=True)\n",
      "parser.add_argument('-t', '--ticker', help='The ticker to model.', required=True)\n",
      "args = parser.parse_args()\n",
      "\n",
      "print(\"Loading Data\")\n",
      "import pandas\n",
      "pandas_dataframe = pandas.read_csv(args.data_file)\n",
      "aaba_dataframe = pandas_dataframe[pandas_dataframe[\"ticker\"] == args.ticker]\n",
      "aaba_dataframe = aaba_dataframe.sort_values(by=\"date\", ascending=True)\n",
      "\n",
      "print(\"Showing Data\")\n",
      "print(aaba_dataframe.head())\n",
      "                    \n",
      "\n"
     ]
    }
   ],
   "source": [
    "with open(\"TestProject/train.py\") as f:\n",
    "    print(f.read())"
   ]
  },
  {
   "cell_type": "markdown",
   "id": "4151ed70-250d-4a83-9573-611dceaf6f8e",
   "metadata": {},
   "source": [
    "We can test the script as follows:"
   ]
  },
  {
   "cell_type": "code",
   "execution_count": 22,
   "id": "f476e2a1-cd20-488d-8e64-59dd27c4c653",
   "metadata": {},
   "outputs": [
    {
     "name": "stderr",
     "output_type": "stream",
     "text": [
      "C:\\Program Files\\Python36\\lib\\site-packages\\statsmodels\\tsa\\base\\tsa_model.py:579: ValueWarning: An unsupported index was provided and will be ignored when e.g. forecasting.\n",
      "  ' ignored when e.g. forecasting.', ValueWarning)\n",
      "C:\\Program Files\\Python36\\lib\\site-packages\\statsmodels\\tsa\\base\\tsa_model.py:579: ValueWarning: An unsupported index was provided and will be ignored when e.g. forecasting.\n",
      "  ' ignored when e.g. forecasting.', ValueWarning)\n",
      "C:\\Program Files\\Python36\\lib\\site-packages\\statsmodels\\tsa\\base\\tsa_model.py:579: ValueWarning: An unsupported index was provided and will be ignored when e.g. forecasting.\n",
      "  ' ignored when e.g. forecasting.', ValueWarning)\n",
      "C:\\Program Files\\Python36\\lib\\site-packages\\statsmodels\\tsa\\base\\tsa_model.py:579: ValueWarning: An unsupported index was provided and will be ignored when e.g. forecasting.\n",
      "  ' ignored when e.g. forecasting.', ValueWarning)\n",
      "C:\\Program Files\\Python36\\lib\\site-packages\\statsmodels\\tsa\\base\\tsa_model.py:579: ValueWarning: An unsupported index was provided and will be ignored when e.g. forecasting.\n",
      "  ' ignored when e.g. forecasting.', ValueWarning)\n",
      "C:\\Program Files\\Python36\\lib\\site-packages\\statsmodels\\tsa\\base\\tsa_model.py:579: ValueWarning: An unsupported index was provided and will be ignored when e.g. forecasting.\n",
      "  ' ignored when e.g. forecasting.', ValueWarning)\n",
      "C:\\Program Files\\Python36\\lib\\site-packages\\statsmodels\\tsa\\base\\tsa_model.py:579: ValueWarning: An unsupported index was provided and will be ignored when e.g. forecasting.\n",
      "  ' ignored when e.g. forecasting.', ValueWarning)\n",
      "C:\\Program Files\\Python36\\lib\\site-packages\\statsmodels\\tsa\\base\\tsa_model.py:579: ValueWarning: An unsupported index was provided and will be ignored when e.g. forecasting.\n",
      "  ' ignored when e.g. forecasting.', ValueWarning)\n",
      "C:\\Program Files\\Python36\\lib\\site-packages\\statsmodels\\tsa\\base\\tsa_model.py:579: ValueWarning: An unsupported index was provided and will be ignored when e.g. forecasting.\n",
      "  ' ignored when e.g. forecasting.', ValueWarning)\n",
      "C:\\Program Files\\Python36\\lib\\site-packages\\statsmodels\\tsa\\base\\tsa_model.py:579: ValueWarning: An unsupported index was provided and will be ignored when e.g. forecasting.\n",
      "  ' ignored when e.g. forecasting.', ValueWarning)\n",
      "C:\\Program Files\\Python36\\lib\\site-packages\\statsmodels\\tsa\\base\\tsa_model.py:579: ValueWarning: An unsupported index was provided and will be ignored when e.g. forecasting.\n",
      "  ' ignored when e.g. forecasting.', ValueWarning)\n",
      "C:\\Program Files\\Python36\\lib\\site-packages\\statsmodels\\tsa\\base\\tsa_model.py:579: ValueWarning: An unsupported index was provided and will be ignored when e.g. forecasting.\n",
      "  ' ignored when e.g. forecasting.', ValueWarning)\n",
      "C:\\Program Files\\Python36\\lib\\site-packages\\statsmodels\\tsa\\base\\tsa_model.py:579: ValueWarning: An unsupported index was provided and will be ignored when e.g. forecasting.\n",
      "  ' ignored when e.g. forecasting.', ValueWarning)\n",
      "C:\\Program Files\\Python36\\lib\\site-packages\\statsmodels\\tsa\\base\\tsa_model.py:579: ValueWarning: An unsupported index was provided and will be ignored when e.g. forecasting.\n",
      "  ' ignored when e.g. forecasting.', ValueWarning)\n",
      "C:\\Program Files\\Python36\\lib\\site-packages\\statsmodels\\tsa\\base\\tsa_model.py:579: ValueWarning: An unsupported index was provided and will be ignored when e.g. forecasting.\n",
      "  ' ignored when e.g. forecasting.', ValueWarning)\n",
      "C:\\Program Files\\Python36\\lib\\site-packages\\statsmodels\\tsa\\base\\tsa_model.py:579: ValueWarning: An unsupported index was provided and will be ignored when e.g. forecasting.\n",
      "  ' ignored when e.g. forecasting.', ValueWarning)\n",
      "C:\\Program Files\\Python36\\lib\\site-packages\\statsmodels\\tsa\\base\\tsa_model.py:579: ValueWarning: An unsupported index was provided and will be ignored when e.g. forecasting.\n",
      "  ' ignored when e.g. forecasting.', ValueWarning)\n",
      "C:\\Program Files\\Python36\\lib\\site-packages\\statsmodels\\tsa\\base\\tsa_model.py:579: ValueWarning: An unsupported index was provided and will be ignored when e.g. forecasting.\n",
      "  ' ignored when e.g. forecasting.', ValueWarning)\n",
      "C:\\Program Files\\Python36\\lib\\site-packages\\statsmodels\\tsa\\base\\tsa_model.py:579: ValueWarning: An unsupported index was provided and will be ignored when e.g. forecasting.\n",
      "  ' ignored when e.g. forecasting.', ValueWarning)\n",
      "C:\\Program Files\\Python36\\lib\\site-packages\\statsmodels\\tsa\\base\\tsa_model.py:579: ValueWarning: An unsupported index was provided and will be ignored when e.g. forecasting.\n",
      "  ' ignored when e.g. forecasting.', ValueWarning)\n",
      "C:\\Program Files\\Python36\\lib\\site-packages\\statsmodels\\tsa\\base\\tsa_model.py:579: ValueWarning: An unsupported index was provided and will be ignored when e.g. forecasting.\n",
      "  ' ignored when e.g. forecasting.', ValueWarning)\n",
      "C:\\Program Files\\Python36\\lib\\site-packages\\statsmodels\\tsa\\base\\tsa_model.py:579: ValueWarning: An unsupported index was provided and will be ignored when e.g. forecasting.\n",
      "  ' ignored when e.g. forecasting.', ValueWarning)\n",
      "C:\\Program Files\\Python36\\lib\\site-packages\\statsmodels\\tsa\\base\\tsa_model.py:579: ValueWarning: An unsupported index was provided and will be ignored when e.g. forecasting.\n",
      "  ' ignored when e.g. forecasting.', ValueWarning)\n",
      "C:\\Program Files\\Python36\\lib\\site-packages\\statsmodels\\tsa\\base\\tsa_model.py:579: ValueWarning: An unsupported index was provided and will be ignored when e.g. forecasting.\n",
      "  ' ignored when e.g. forecasting.', ValueWarning)\n",
      "C:\\Program Files\\Python36\\lib\\site-packages\\statsmodels\\tsa\\base\\tsa_model.py:579: ValueWarning: An unsupported index was provided and will be ignored when e.g. forecasting.\n",
      "  ' ignored when e.g. forecasting.', ValueWarning)\n",
      "C:\\Program Files\\Python36\\lib\\site-packages\\statsmodels\\tsa\\base\\tsa_model.py:579: ValueWarning: An unsupported index was provided and will be ignored when e.g. forecasting.\n",
      "  ' ignored when e.g. forecasting.', ValueWarning)\n",
      "C:\\Program Files\\Python36\\lib\\site-packages\\statsmodels\\tsa\\base\\tsa_model.py:579: ValueWarning: An unsupported index was provided and will be ignored when e.g. forecasting.\n",
      "  ' ignored when e.g. forecasting.', ValueWarning)\n",
      "C:\\Program Files\\Python36\\lib\\site-packages\\statsmodels\\tsa\\base\\tsa_model.py:579: ValueWarning: An unsupported index was provided and will be ignored when e.g. forecasting.\n",
      "  ' ignored when e.g. forecasting.', ValueWarning)\n",
      "C:\\Program Files\\Python36\\lib\\site-packages\\statsmodels\\tsa\\base\\tsa_model.py:579: ValueWarning: An unsupported index was provided and will be ignored when e.g. forecasting.\n",
      "  ' ignored when e.g. forecasting.', ValueWarning)\n",
      "C:\\Program Files\\Python36\\lib\\site-packages\\statsmodels\\tsa\\base\\tsa_model.py:579: ValueWarning: An unsupported index was provided and will be ignored when e.g. forecasting.\n",
      "  ' ignored when e.g. forecasting.', ValueWarning)\n",
      "C:\\Program Files\\Python36\\lib\\site-packages\\statsmodels\\tsa\\base\\tsa_model.py:579: ValueWarning: An unsupported index was provided and will be ignored when e.g. forecasting.\n",
      "  ' ignored when e.g. forecasting.', ValueWarning)\n",
      "C:\\Program Files\\Python36\\lib\\site-packages\\statsmodels\\tsa\\base\\tsa_model.py:579: ValueWarning: An unsupported index was provided and will be ignored when e.g. forecasting.\n",
      "  ' ignored when e.g. forecasting.', ValueWarning)\n",
      "C:\\Program Files\\Python36\\lib\\site-packages\\statsmodels\\tsa\\base\\tsa_model.py:579: ValueWarning: An unsupported index was provided and will be ignored when e.g. forecasting.\n",
      "  ' ignored when e.g. forecasting.', ValueWarning)\n",
      "C:\\Program Files\\Python36\\lib\\site-packages\\statsmodels\\tsa\\base\\tsa_model.py:579: ValueWarning: An unsupported index was provided and will be ignored when e.g. forecasting.\n",
      "  ' ignored when e.g. forecasting.', ValueWarning)\n",
      "C:\\Program Files\\Python36\\lib\\site-packages\\statsmodels\\tsa\\base\\tsa_model.py:579: ValueWarning: An unsupported index was provided and will be ignored when e.g. forecasting.\n",
      "  ' ignored when e.g. forecasting.', ValueWarning)\n",
      "C:\\Program Files\\Python36\\lib\\site-packages\\statsmodels\\tsa\\base\\tsa_model.py:579: ValueWarning: An unsupported index was provided and will be ignored when e.g. forecasting.\n",
      "  ' ignored when e.g. forecasting.', ValueWarning)\n",
      "C:\\Program Files\\Python36\\lib\\site-packages\\statsmodels\\tsa\\base\\tsa_model.py:579: ValueWarning: An unsupported index was provided and will be ignored when e.g. forecasting.\n",
      "  ' ignored when e.g. forecasting.', ValueWarning)\n",
      "C:\\Program Files\\Python36\\lib\\site-packages\\statsmodels\\tsa\\base\\tsa_model.py:579: ValueWarning: An unsupported index was provided and will be ignored when e.g. forecasting.\n",
      "  ' ignored when e.g. forecasting.', ValueWarning)\n",
      "C:\\Program Files\\Python36\\lib\\site-packages\\statsmodels\\tsa\\base\\tsa_model.py:579: ValueWarning: An unsupported index was provided and will be ignored when e.g. forecasting.\n",
      "  ' ignored when e.g. forecasting.', ValueWarning)\n",
      "C:\\Program Files\\Python36\\lib\\site-packages\\statsmodels\\tsa\\base\\tsa_model.py:579: ValueWarning: An unsupported index was provided and will be ignored when e.g. forecasting.\n",
      "  ' ignored when e.g. forecasting.', ValueWarning)\n",
      "C:\\Program Files\\Python36\\lib\\site-packages\\statsmodels\\tsa\\base\\tsa_model.py:579: ValueWarning: An unsupported index was provided and will be ignored when e.g. forecasting.\n",
      "  ' ignored when e.g. forecasting.', ValueWarning)\n",
      "C:\\Program Files\\Python36\\lib\\site-packages\\statsmodels\\tsa\\base\\tsa_model.py:579: ValueWarning: An unsupported index was provided and will be ignored when e.g. forecasting.\n",
      "  ' ignored when e.g. forecasting.', ValueWarning)\n",
      "C:\\Program Files\\Python36\\lib\\site-packages\\statsmodels\\tsa\\base\\tsa_model.py:579: ValueWarning: An unsupported index was provided and will be ignored when e.g. forecasting.\n",
      "  ' ignored when e.g. forecasting.', ValueWarning)\n",
      "C:\\Program Files\\Python36\\lib\\site-packages\\statsmodels\\tsa\\base\\tsa_model.py:579: ValueWarning: An unsupported index was provided and will be ignored when e.g. forecasting.\n",
      "  ' ignored when e.g. forecasting.', ValueWarning)\n",
      "C:\\Program Files\\Python36\\lib\\site-packages\\statsmodels\\tsa\\base\\tsa_model.py:579: ValueWarning: An unsupported index was provided and will be ignored when e.g. forecasting.\n",
      "  ' ignored when e.g. forecasting.', ValueWarning)\n",
      "C:\\Program Files\\Python36\\lib\\site-packages\\statsmodels\\tsa\\base\\tsa_model.py:579: ValueWarning: An unsupported index was provided and will be ignored when e.g. forecasting.\n",
      "  ' ignored when e.g. forecasting.', ValueWarning)\n",
      "C:\\Program Files\\Python36\\lib\\site-packages\\statsmodels\\tsa\\base\\tsa_model.py:579: ValueWarning: An unsupported index was provided and will be ignored when e.g. forecasting.\n",
      "  ' ignored when e.g. forecasting.', ValueWarning)\n",
      "C:\\Program Files\\Python36\\lib\\site-packages\\statsmodels\\tsa\\base\\tsa_model.py:579: ValueWarning: An unsupported index was provided and will be ignored when e.g. forecasting.\n",
      "  ' ignored when e.g. forecasting.', ValueWarning)\n",
      "C:\\Program Files\\Python36\\lib\\site-packages\\statsmodels\\base\\model.py:568: ConvergenceWarning: Maximum Likelihood optimization failed to converge. Check mle_retvals\n",
      "  ConvergenceWarning)\n",
      "C:\\Program Files\\Python36\\lib\\site-packages\\statsmodels\\tsa\\base\\tsa_model.py:579: ValueWarning: An unsupported index was provided and will be ignored when e.g. forecasting.\n",
      "  ' ignored when e.g. forecasting.', ValueWarning)\n",
      "C:\\Program Files\\Python36\\lib\\site-packages\\statsmodels\\tsa\\base\\tsa_model.py:579: ValueWarning: An unsupported index was provided and will be ignored when e.g. forecasting.\n",
      "  ' ignored when e.g. forecasting.', ValueWarning)\n",
      "C:\\Program Files\\Python36\\lib\\site-packages\\statsmodels\\tsa\\base\\tsa_model.py:579: ValueWarning: An unsupported index was provided and will be ignored when e.g. forecasting.\n"
     ]
    },
    {
     "name": "stdout",
     "output_type": "stream",
     "text": [
      "Parsing Args\n",
      "Loading Data\n",
      "Showing Data\n",
      "       ticker interval       date   open   high    low  close    volume\n",
      "93620    AABA        D 2019-01-01  57.94  57.94  57.94  57.94         0\n",
      "96799    AABA        D 2019-01-02  56.78  58.01  56.47  57.49  10532400\n",
      "99984    AABA        D 2019-01-03  56.48  56.85  55.09  55.53   8506900\n",
      "103170   AABA        D 2019-01-04  56.50  59.38  56.50  58.72   9438700\n",
      "106357   AABA        D 2019-01-07  58.90  60.20  58.45  59.64   9004700\n",
      "Train The Machine Learning Model\n",
      "The best parameter set (0, 1, 0) yielded an AIC of 409.4944259259052\n"
     ]
    },
    {
     "name": "stderr",
     "output_type": "stream",
     "text": [
      "  ' ignored when e.g. forecasting.', ValueWarning)\n",
      "C:\\Program Files\\Python36\\lib\\site-packages\\statsmodels\\tsa\\base\\tsa_model.py:579: ValueWarning: An unsupported index was provided and will be ignored when e.g. forecasting.\n",
      "  ' ignored when e.g. forecasting.', ValueWarning)\n",
      "C:\\Program Files\\Python36\\lib\\site-packages\\statsmodels\\tsa\\base\\tsa_model.py:579: ValueWarning: An unsupported index was provided and will be ignored when e.g. forecasting.\n",
      "  ' ignored when e.g. forecasting.', ValueWarning)\n",
      "C:\\Program Files\\Python36\\lib\\site-packages\\statsmodels\\tsa\\base\\tsa_model.py:579: ValueWarning: An unsupported index was provided and will be ignored when e.g. forecasting.\n",
      "  ' ignored when e.g. forecasting.', ValueWarning)\n"
     ]
    }
   ],
   "source": [
    "! python.exe TestProject/train.py -d \"..\\..\\..\\Example Data Sets\\nasdaq_2019.csv\" -t AABA"
   ]
  },
  {
   "cell_type": "markdown",
   "id": "925a38ea-ee77-4e6d-85be-555cc990cc31",
   "metadata": {},
   "source": [
    "## 1.2. Create An MLProject File\n",
    "MLFlow will try to understand how to handle the package in two ways. First, it will look for an [MLProject file](https://mlflow.org/docs/latest/projects.html#mlproject-file) in the root of the directory. This is a yaml file which explicitly defines the name, entrypoints, and environments for the project. If this file does not exist, [inferences will be made](https://mlflow.org/docs/latest/projects.html#project-directories) based on the directory and its structure. It is ideal to use the MLFlow project file as it is the only real way to get treuly reproducable results."
   ]
  },
  {
   "cell_type": "code",
   "execution_count": 6,
   "id": "56c95cdd-eb60-462d-a107-9005688ed3e0",
   "metadata": {},
   "outputs": [
    {
     "name": "stdout",
     "output_type": "stream",
     "text": [
      "name: My First MLFlow Project\n",
      "\n",
      "docker_env:\n",
      "  image:  tschneider/ml-python\n",
      "\n",
      "entry_points:\n",
      "  train_my_model:\n",
      "    parameters:\n",
      "      data_file: ..\\..\\..\\..\\Example Data Sets\\nasdaq_2019.csv\n",
      "      ticker: AABA\n",
      "    command: \"python3 train.py --data-file {data_file} --ticker {ticker}\"\n",
      "\n"
     ]
    }
   ],
   "source": [
    "with open(\"TestProject/MLProject\") as f:\n",
    "    print(f.read())"
   ]
  },
  {
   "cell_type": "code",
   "execution_count": null,
   "id": "f2084ad1-7525-40af-875f-ceeb2ec7ef23",
   "metadata": {},
   "outputs": [],
   "source": []
  },
  {
   "cell_type": "code",
   "execution_count": null,
   "id": "0fcd23f8-c5aa-4241-a956-aafb83d30676",
   "metadata": {},
   "outputs": [],
   "source": []
  },
  {
   "cell_type": "code",
   "execution_count": null,
   "id": "20dcdb43-a28c-46f0-9286-c4c3dea8b6a7",
   "metadata": {},
   "outputs": [],
   "source": []
  }
 ],
 "metadata": {
  "kernelspec": {
   "display_name": "Python 3",
   "language": "python",
   "name": "python3"
  },
  "language_info": {
   "codemirror_mode": {
    "name": "ipython",
    "version": 3
   },
   "file_extension": ".py",
   "mimetype": "text/x-python",
   "name": "python",
   "nbconvert_exporter": "python",
   "pygments_lexer": "ipython3",
   "version": "3.6.8"
  }
 },
 "nbformat": 4,
 "nbformat_minor": 5
}
