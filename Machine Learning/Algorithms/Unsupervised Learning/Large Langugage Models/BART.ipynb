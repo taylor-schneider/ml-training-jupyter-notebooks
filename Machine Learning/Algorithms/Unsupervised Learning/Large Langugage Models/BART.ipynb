{
 "cells": [
  {
   "cell_type": "markdown",
   "id": "ac190d06-a3ff-49cd-930b-031db7a8a57f",
   "metadata": {},
   "source": [
    "# Pretrained Models"
   ]
  },
  {
   "cell_type": "code",
   "execution_count": null,
   "id": "073ee824-f7da-4b15-a0b0-46dcb3566314",
   "metadata": {},
   "outputs": [],
   "source": []
  },
  {
   "cell_type": "markdown",
   "id": "cb665c3b-fb62-4070-a30d-21aae459f8db",
   "metadata": {},
   "source": [
    "# BART Overview"
   ]
  },
  {
   "cell_type": "markdown",
   "id": "7c8cb46d-5d9f-46aa-ae57-3b2ee9d94b03",
   "metadata": {},
   "source": [
    "> At the end of 2019, Facebook AI Language researchers published a new model for Natural Language Processing (NLP) called BART ...\n",
    ">\n",
    "> On the other side, in 2020 researchers of Google AI Language also had a new model for Natural Language Processing (NLP) called PEGASUS (Pre-training with Extracted Gap-Sentences for Abstractive Summarization). They both achieve state-of-the-art results on 12 diverse summarization datasets.\n",
    ">\n",
    "> https://www.neurond.com/blog/automatic-text-summarization-system-using-transformers"
   ]
  },
  {
   "cell_type": "code",
   "execution_count": null,
   "id": "bae77eeb-996f-4c03-b2e5-0f8c3d44c4e2",
   "metadata": {},
   "outputs": [],
   "source": []
  },
  {
   "cell_type": "markdown",
   "id": "9a7d3f07-eb0a-4c36-9421-7c7672f6dec7",
   "metadata": {},
   "source": [
    "> BART is a Denoising Sequence-to-Sequence Pre-training for Natural Language Generation, Translation, and Comprehension developed by Facebook AI in 2019. It uses a standard Transformer-based neural machine translation architecture which, despite its simplicity, can be seen as generalizing BERT (Bidirectional encoder) and GPT (left-to-right decoder).\n",
    ">\n",
    "> https://www.neurond.com/blog/automatic-text-summarization-system-using-transformers"
   ]
  },
  {
   "cell_type": "code",
   "execution_count": null,
   "id": "95663580-353e-44d4-b1c1-d322e6c9ff09",
   "metadata": {},
   "outputs": [],
   "source": []
  },
  {
   "cell_type": "code",
   "execution_count": null,
   "id": "092377d5-cfab-4bc1-8168-5b52606d6bad",
   "metadata": {},
   "outputs": [],
   "source": []
  },
  {
   "cell_type": "code",
   "execution_count": null,
   "id": "8a679687-5feb-4eab-844a-e03cdb3a5902",
   "metadata": {},
   "outputs": [],
   "source": []
  },
  {
   "cell_type": "code",
   "execution_count": null,
   "id": "777fb154-138b-4daa-905d-7a2d046d82c9",
   "metadata": {},
   "outputs": [],
   "source": []
  },
  {
   "cell_type": "code",
   "execution_count": null,
   "id": "bdabe381-87bc-483c-9c34-0e716cf1c180",
   "metadata": {},
   "outputs": [],
   "source": []
  },
  {
   "cell_type": "code",
   "execution_count": null,
   "id": "9d6c3128-8db7-4ff7-a974-51f2735e3b76",
   "metadata": {},
   "outputs": [],
   "source": []
  },
  {
   "cell_type": "code",
   "execution_count": null,
   "id": "9453a65d-1ce4-4046-9914-63f3377a8bb7",
   "metadata": {},
   "outputs": [],
   "source": []
  },
  {
   "cell_type": "code",
   "execution_count": null,
   "id": "0a6e85e4-b9ff-4c3b-83aa-f09969ce8c60",
   "metadata": {},
   "outputs": [],
   "source": []
  },
  {
   "cell_type": "code",
   "execution_count": null,
   "id": "8632c918-f6b4-4dad-b727-5ed04a4cc7e5",
   "metadata": {},
   "outputs": [],
   "source": []
  },
  {
   "cell_type": "code",
   "execution_count": null,
   "id": "1b834199-7edb-4396-8427-2e23a2d05e7b",
   "metadata": {},
   "outputs": [],
   "source": []
  }
 ],
 "metadata": {
  "kernelspec": {
   "display_name": "Python 3 (ipykernel)",
   "language": "python",
   "name": "python3"
  },
  "language_info": {
   "codemirror_mode": {
    "name": "ipython",
    "version": 3
   },
   "file_extension": ".py",
   "mimetype": "text/x-python",
   "name": "python",
   "nbconvert_exporter": "python",
   "pygments_lexer": "ipython3",
   "version": "3.9.18"
  }
 },
 "nbformat": 4,
 "nbformat_minor": 5
}
