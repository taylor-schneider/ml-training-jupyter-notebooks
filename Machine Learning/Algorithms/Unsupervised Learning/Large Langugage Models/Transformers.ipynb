{
 "cells": [
  {
   "cell_type": "markdown",
   "id": "25b479a4-b643-4a47-9ac8-f577c0c050b0",
   "metadata": {},
   "source": [
    "# Overview"
   ]
  },
  {
   "cell_type": "code",
   "execution_count": null,
   "id": "26c11fd5-c7da-4a7a-ba34-4b7366097c8e",
   "metadata": {},
   "outputs": [],
   "source": []
  },
  {
   "cell_type": "markdown",
   "id": "4ce381fa-5c02-4c93-8fd8-9f94af6e6823",
   "metadata": {},
   "source": [
    "# Origin"
   ]
  },
  {
   "cell_type": "markdown",
   "id": "7bf229a7-1403-4ffe-af3c-c317d9d7ad3a",
   "metadata": {},
   "source": [
    "The Transformer model was born as a solution to address problems in the machine translation space. Machine translation, as the name suggests, is the process of using a machine (an ml model) to translate from one language into another."
   ]
  },
  {
   "cell_type": "markdown",
   "id": "782336ac-dac0-4940-af79-8591b7984c0d",
   "metadata": {},
   "source": [
    "## 2014 - (Cho et al) - Learning Phrase Representations using RNN Encoder-Decoder for Statistical Machine Translation\n",
    "\n",
    "- The RNN Encoder–Decoder neural network architecture was introduced\n",
    "- "
   ]
  },
  {
   "cell_type": "markdown",
   "id": "07725291-a731-417f-92e2-178aa7001696",
   "metadata": {},
   "source": [
    "## 2014 - (Sutskever et al) - Sequence to Sequence Learning with Neural Networks\n",
    "\n",
    "- A multilayered Long Short-Term Memory (LSTM, a type of RNN)\n",
    "- "
   ]
  },
  {
   "cell_type": "code",
   "execution_count": null,
   "id": "1544272e-df0a-4518-9f19-23cb73da97b5",
   "metadata": {},
   "outputs": [],
   "source": []
  },
  {
   "cell_type": "code",
   "execution_count": null,
   "id": "d2fea5cc-bd11-4a23-ae25-a658c040994f",
   "metadata": {},
   "outputs": [],
   "source": []
  },
  {
   "cell_type": "markdown",
   "id": "af54933e-7216-4433-b38f-6ac7c704d57b",
   "metadata": {},
   "source": [
    "## 2017 - (Vaswani et al.) - Attention Is All You Need\n",
    "\n",
    "In this paper the transformer model was proposed as an NN that outperforms RNNs\n",
    "\n",
    "In the paper the transformer is used for machine translation (translating one language to another).\n",
    "\n",
    "At the heart of this model is the novel concept of multi-head attention which is also introduced in the paper."
   ]
  },
  {
   "cell_type": "code",
   "execution_count": null,
   "id": "57d31b55-b6b0-4823-b2b3-611dccf8687b",
   "metadata": {},
   "outputs": [],
   "source": []
  },
  {
   "cell_type": "markdown",
   "id": "2ed855a0-2e18-4813-ac3c-e6b5d5ae25ff",
   "metadata": {},
   "source": [
    "# Architecture"
   ]
  },
  {
   "cell_type": "markdown",
   "id": "3cd110e3-f67b-456e-bfee-6173309a9806",
   "metadata": {},
   "source": [
    "In the 2017 paper titled \"Attention Is All You Need\" The following architectural diagram is published:\n",
    "\n",
    "<center><img src=\"./images/transformer_model_architecture.png\" style=\"width:50%\"></center>"
   ]
  },
  {
   "cell_type": "code",
   "execution_count": null,
   "id": "e19adc6e-7693-4ded-ad6d-21669b4cf064",
   "metadata": {},
   "outputs": [],
   "source": []
  },
  {
   "cell_type": "code",
   "execution_count": null,
   "id": "8e364a9c-af6e-41ed-a4a8-af5cd8123f00",
   "metadata": {},
   "outputs": [],
   "source": []
  },
  {
   "cell_type": "markdown",
   "id": "47a73cd6-732c-4676-a819-86400d5ac017",
   "metadata": {},
   "source": [
    "# Implimentations"
   ]
  },
  {
   "cell_type": "markdown",
   "id": "3d14497a-acc0-4ab0-830b-c4de0748dd30",
   "metadata": {},
   "source": []
  },
  {
   "cell_type": "code",
   "execution_count": null,
   "id": "0603444b-5ca0-4fa8-a551-98823fad575b",
   "metadata": {},
   "outputs": [],
   "source": []
  },
  {
   "cell_type": "code",
   "execution_count": null,
   "id": "da06e449-cc7a-4031-9501-6bad14965ad0",
   "metadata": {},
   "outputs": [],
   "source": []
  }
 ],
 "metadata": {
  "kernelspec": {
   "display_name": "Python 3 (ipykernel)",
   "language": "python",
   "name": "python3"
  },
  "language_info": {
   "codemirror_mode": {
    "name": "ipython",
    "version": 3
   },
   "file_extension": ".py",
   "mimetype": "text/x-python",
   "name": "python",
   "nbconvert_exporter": "python",
   "pygments_lexer": "ipython3",
   "version": "3.9.18"
  }
 },
 "nbformat": 4,
 "nbformat_minor": 5
}
