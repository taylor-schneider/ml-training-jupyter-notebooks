{
 "cells": [
  {
   "cell_type": "markdown",
   "id": "1f5711a7-3d21-48a5-b319-540bf705a47b",
   "metadata": {},
   "source": [
    "# Overview\n",
    "Hyperopt is a framework providing numerical methods for optimizing hyperparameters. In this notebook we discuss the supported algorithms and the code to conduct a search. This notebook assumes that the [Intro To Hyperopt Search Spaces notebook](Intro%20To%20Hyperopt%20Search%20Spaces.ipynb) has been read.\n",
    "\n",
    "\n",
    "\n"
   ]
  },
  {
   "cell_type": "markdown",
   "id": "6eefb5d4-127a-49b6-a5a8-a492080c2cd4",
   "metadata": {},
   "source": [
    "# 1. Supported Algorithms\n",
    "Currently hyperopt uspports the following methods:\n",
    "- Random Search\n",
    "- Tree of Parzen Estimators (TPE)\n",
    "- Adaptive TPE\n",
    "These algorithms are discussed in detail in the Optimization notebook. A brief description is given below:"
   ]
  },
  {
   "cell_type": "markdown",
   "id": "aaa374b4-7f75-43ca-ab8c-132a0f8b7f5b",
   "metadata": {},
   "source": [
    "# 2. Conducting a search"
   ]
  },
  {
   "cell_type": "code",
   "execution_count": null,
   "id": "caaf075b-1f08-4250-8ea3-35013e3e5f80",
   "metadata": {},
   "outputs": [],
   "source": []
  }
 ],
 "metadata": {
  "kernelspec": {
   "display_name": "Python 3",
   "language": "python",
   "name": "python3"
  },
  "language_info": {
   "codemirror_mode": {
    "name": "ipython",
    "version": 3
   },
   "file_extension": ".py",
   "mimetype": "text/x-python",
   "name": "python",
   "nbconvert_exporter": "python",
   "pygments_lexer": "ipython3",
   "version": "3.6.8"
  }
 },
 "nbformat": 4,
 "nbformat_minor": 5
}
