{
 "cells": [
  {
   "cell_type": "markdown",
   "metadata": {},
   "source": [
    "# Generalized Linear Model (GLM)"
   ]
  },
  {
   "cell_type": "markdown",
   "metadata": {},
   "source": [
    "## Review: Linear Models and Linear Regression\n",
    "A linear regression is a mathematical method used to approximate a dependent variable based on values of one or more independent variables. The linear regression method \"fits\" a model to a data set so that the predictions of the model yield the most accurate approximations of the true values of the dependent variable. \n",
    "\n",
    "There are several methods for fitting a linear regression model to a data set including:\n",
    "\n",
    "- Least squares\n",
    "- Maximum Likelihood Estimation\n",
    "- Least Absolute Deviations Regression\n",
    "- Rigde Regression\n",
    "- Lasso Regression\n",
    "\n",
    "Traditional linear regression models are based on a series of assumptions. For example the error term may be expected to follow the normal distribution. Over the years, advancements and extensions to the theory have been made that allow these assumptions to be replaced, relaxed, and possibly removed. Generally these extensions make the estimation procedure more complex and time-consuming, and may also require more data in order to produce an equally precise model.\n",
    "\n",
    "https://en.wikipedia.org/wiki/Linear_regression"
   ]
  },
  {
   "cell_type": "markdown",
   "metadata": {},
   "source": [
    "## Introducing the Generalized Linear Model\n",
    "The generalized linear model (GLM) is an example of this. It is a generalization of ordinary linear regression.\n",
    "Not only does this generalization allow for response variables that have error distribution models other than a normal distribution, it also unifies various other statistical models, including linear regression, logistic regression and Poisson regression.\n",
    "\n",
    "The GLM generalizes linear regression by allowing the linear model to be related to the response variable via a link function and by allowing the magnitude of the variance of each measurement to be a function of its predicted value.\n",
    "\n",
    "https://en.wikipedia.org/wiki/Generalized_linear_model"
   ]
  },
  {
   "cell_type": "code",
   "execution_count": null,
   "metadata": {},
   "outputs": [],
   "source": []
  },
  {
   "cell_type": "markdown",
   "metadata": {},
   "source": [
    "# H2o's Implimentation of the GLM\n",
    "\n",
    "Generalized Linear Models (GLM) estimate regression models for outcomes following exponential distributions. In addition to the Gaussian (i.e. normal) distribution, these include Poisson, binomial, and gamma distributions. Each serves a different purpose, and depending on distribution and link function choice, can be used either for prediction or classification.\n",
    "\n",
    "The GLM suite includes:\n",
    "- Gaussian regression\n",
    "- Poisson regression\n",
    "- Binomial regression (classification)\n",
    "- Fractional binomial regression\n",
    "- Quasibinomial regression\n",
    "- Multinomial classification\n",
    "- Gamma regression\n",
    "- Ordinal regression\n",
    "- Negative Binomial regression\n",
    "- Tweedie distribution\n",
    "\n",
    "#### Classification and Regression\n",
    "GLM can produce two categories of models: classification and regression. Logistic regression is the GLM performing binary classification.\n",
    "\n",
    "https://docs.h2o.ai/h2o/latest-stable/h2o-docs/data-science/glm.html"
   ]
  },
  {
   "cell_type": "code",
   "execution_count": null,
   "metadata": {},
   "outputs": [],
   "source": []
  }
 ],
 "metadata": {
  "kernelspec": {
   "display_name": "Python 3",
   "language": "python",
   "name": "python3"
  },
  "language_info": {
   "codemirror_mode": {
    "name": "ipython",
    "version": 3
   },
   "file_extension": ".py",
   "mimetype": "text/x-python",
   "name": "python",
   "nbconvert_exporter": "python",
   "pygments_lexer": "ipython3",
   "version": "3.8.0"
  }
 },
 "nbformat": 4,
 "nbformat_minor": 4
}
