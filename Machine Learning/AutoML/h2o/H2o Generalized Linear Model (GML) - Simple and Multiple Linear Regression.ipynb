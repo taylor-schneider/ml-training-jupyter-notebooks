{
 "cells": [
  {
   "cell_type": "markdown",
   "metadata": {},
   "source": [
    "1. Connect to h2o\n",
    "2. Simple Linear Regression Example\n",
    "3. Multiple Linear Regression Example"
   ]
  },
  {
   "cell_type": "markdown",
   "metadata": {},
   "source": [
    "# 1. Connect to H2o"
   ]
  },
  {
   "cell_type": "code",
   "execution_count": 4,
   "metadata": {},
   "outputs": [],
   "source": [
    "import h2o"
   ]
  },
  {
   "cell_type": "code",
   "execution_count": 5,
   "metadata": {},
   "outputs": [
    {
     "name": "stdout",
     "output_type": "stream",
     "text": [
      "http://127.0.0.1:54321\n"
     ]
    }
   ],
   "source": [
    "# Define the URL to the h2o server/cluster\n",
    "ip = \"127.0.0.1\"\n",
    "port = 54321\n",
    "url = \"http://{0}:{1}\".format(ip, port)\n",
    "print(url)"
   ]
  },
  {
   "cell_type": "code",
   "execution_count": 6,
   "metadata": {},
   "outputs": [
    {
     "name": "stdout",
     "output_type": "stream",
     "text": [
      "Checking whether there is an H2O instance running at http://127.0.0.1:54321 . connected.\n"
     ]
    },
    {
     "data": {
      "text/html": [
       "<div style=\"overflow:auto\"><table style=\"width:50%\"><tr><td>H2O_cluster_uptime:</td>\n",
       "<td>2 hours 48 mins</td></tr>\n",
       "<tr><td>H2O_cluster_timezone:</td>\n",
       "<td>America/Chicago</td></tr>\n",
       "<tr><td>H2O_data_parsing_timezone:</td>\n",
       "<td>UTC</td></tr>\n",
       "<tr><td>H2O_cluster_version:</td>\n",
       "<td>3.30.0.7</td></tr>\n",
       "<tr><td>H2O_cluster_version_age:</td>\n",
       "<td>14 days, 2 hours and 41 minutes </td></tr>\n",
       "<tr><td>H2O_cluster_name:</td>\n",
       "<td>Administrator</td></tr>\n",
       "<tr><td>H2O_cluster_total_nodes:</td>\n",
       "<td>1</td></tr>\n",
       "<tr><td>H2O_cluster_free_memory:</td>\n",
       "<td>3.274 Gb</td></tr>\n",
       "<tr><td>H2O_cluster_total_cores:</td>\n",
       "<td>4</td></tr>\n",
       "<tr><td>H2O_cluster_allowed_cores:</td>\n",
       "<td>4</td></tr>\n",
       "<tr><td>H2O_cluster_status:</td>\n",
       "<td>locked, healthy</td></tr>\n",
       "<tr><td>H2O_connection_url:</td>\n",
       "<td>http://127.0.0.1:54321</td></tr>\n",
       "<tr><td>H2O_connection_proxy:</td>\n",
       "<td>{\"http\": null, \"https\": null}</td></tr>\n",
       "<tr><td>H2O_internal_security:</td>\n",
       "<td>False</td></tr>\n",
       "<tr><td>H2O_API_Extensions:</td>\n",
       "<td>Amazon S3, Algos, AutoML, Core V3, TargetEncoder, Core V4</td></tr>\n",
       "<tr><td>Python_version:</td>\n",
       "<td>3.8.0 final</td></tr></table></div>"
      ],
      "text/plain": [
       "--------------------------  ---------------------------------------------------------\n",
       "H2O_cluster_uptime:         2 hours 48 mins\n",
       "H2O_cluster_timezone:       America/Chicago\n",
       "H2O_data_parsing_timezone:  UTC\n",
       "H2O_cluster_version:        3.30.0.7\n",
       "H2O_cluster_version_age:    14 days, 2 hours and 41 minutes\n",
       "H2O_cluster_name:           Administrator\n",
       "H2O_cluster_total_nodes:    1\n",
       "H2O_cluster_free_memory:    3.274 Gb\n",
       "H2O_cluster_total_cores:    4\n",
       "H2O_cluster_allowed_cores:  4\n",
       "H2O_cluster_status:         locked, healthy\n",
       "H2O_connection_url:         http://127.0.0.1:54321\n",
       "H2O_connection_proxy:       {\"http\": null, \"https\": null}\n",
       "H2O_internal_security:      False\n",
       "H2O_API_Extensions:         Amazon S3, Algos, AutoML, Core V3, TargetEncoder, Core V4\n",
       "Python_version:             3.8.0 final\n",
       "--------------------------  ---------------------------------------------------------"
      ]
     },
     "metadata": {},
     "output_type": "display_data"
    }
   ],
   "source": [
    "h2o.init(url=url)"
   ]
  },
  {
   "cell_type": "markdown",
   "metadata": {},
   "source": [
    "# 2. Simple Linear Regression (gaussian family)"
   ]
  },
  {
   "cell_type": "code",
   "execution_count": 22,
   "metadata": {},
   "outputs": [
    {
     "name": "stdout",
     "output_type": "stream",
     "text": [
      "Parse progress: |█████████████████████████████████████████████████████████| 100%\n"
     ]
    },
    {
     "data": {
      "text/html": [
       "<table>\n",
       "<thead>\n",
       "<tr><th style=\"text-align: right;\">  x</th><th style=\"text-align: right;\">  y</th></tr>\n",
       "</thead>\n",
       "<tbody>\n",
       "<tr><td style=\"text-align: right;\">  5</td><td style=\"text-align: right;\">  5</td></tr>\n",
       "<tr><td style=\"text-align: right;\"> 15</td><td style=\"text-align: right;\"> 20</td></tr>\n",
       "<tr><td style=\"text-align: right;\"> 25</td><td style=\"text-align: right;\"> 14</td></tr>\n",
       "<tr><td style=\"text-align: right;\"> 35</td><td style=\"text-align: right;\"> 32</td></tr>\n",
       "<tr><td style=\"text-align: right;\"> 45</td><td style=\"text-align: right;\"> 22</td></tr>\n",
       "<tr><td style=\"text-align: right;\"> 55</td><td style=\"text-align: right;\"> 38</td></tr>\n",
       "</tbody>\n",
       "</table>"
      ]
     },
     "metadata": {},
     "output_type": "display_data"
    },
    {
     "data": {
      "text/plain": []
     },
     "execution_count": 22,
     "metadata": {},
     "output_type": "execute_result"
    }
   ],
   "source": [
    "# https://realpython.com/linear-regression-in-python/\n",
    "x = [5, 15, 25, 35, 45, 55]\n",
    "y = [5, 20, 14, 32, 22, 38]\n",
    "h2o_frame = h2o.H2OFrame({\n",
    "    \"x\": x,\n",
    "    \"y\": y\n",
    "})\n",
    "h2o_frame"
   ]
  },
  {
   "cell_type": "code",
   "execution_count": 23,
   "metadata": {},
   "outputs": [],
   "source": [
    "predictors = [\"x\"]\n",
    "response = \"y\""
   ]
  },
  {
   "cell_type": "code",
   "execution_count": 24,
   "metadata": {},
   "outputs": [],
   "source": [
    "from h2o.estimators.glm import H2OGeneralizedLinearEstimator\n",
    "glm_model = H2OGeneralizedLinearEstimator(family= \"gaussian\",\n",
    "                                          lambda_ = 0,\n",
    "                                          compute_p_values = True)"
   ]
  },
  {
   "cell_type": "code",
   "execution_count": 25,
   "metadata": {},
   "outputs": [
    {
     "name": "stdout",
     "output_type": "stream",
     "text": [
      "glm Model Build progress: |███████████████████████████████████████████████| 100%\n"
     ]
    }
   ],
   "source": [
    "glm_model.train(predictors, response, training_frame=h2o_frame)"
   ]
  },
  {
   "cell_type": "code",
   "execution_count": 26,
   "metadata": {},
   "outputs": [
    {
     "name": "stdout",
     "output_type": "stream",
     "text": [
      "Model Details\n",
      "=============\n",
      "H2OGeneralizedLinearEstimator :  Generalized Linear Modeling\n",
      "Model Key:  GLM_model_python_1596579253375_4\n",
      "\n",
      "\n",
      "GLM Model: summary\n"
     ]
    },
    {
     "data": {
      "text/html": [
       "<div>\n",
       "<style scoped>\n",
       "    .dataframe tbody tr th:only-of-type {\n",
       "        vertical-align: middle;\n",
       "    }\n",
       "\n",
       "    .dataframe tbody tr th {\n",
       "        vertical-align: top;\n",
       "    }\n",
       "\n",
       "    .dataframe thead th {\n",
       "        text-align: right;\n",
       "    }\n",
       "</style>\n",
       "<table border=\"1\" class=\"dataframe\">\n",
       "  <thead>\n",
       "    <tr style=\"text-align: right;\">\n",
       "      <th></th>\n",
       "      <th></th>\n",
       "      <th>family</th>\n",
       "      <th>link</th>\n",
       "      <th>regularization</th>\n",
       "      <th>number_of_predictors_total</th>\n",
       "      <th>number_of_active_predictors</th>\n",
       "      <th>number_of_iterations</th>\n",
       "      <th>training_frame</th>\n",
       "    </tr>\n",
       "  </thead>\n",
       "  <tbody>\n",
       "    <tr>\n",
       "      <th>0</th>\n",
       "      <td></td>\n",
       "      <td>gaussian</td>\n",
       "      <td>identity</td>\n",
       "      <td>None</td>\n",
       "      <td>1</td>\n",
       "      <td>1</td>\n",
       "      <td>1</td>\n",
       "      <td>Key_Frame__upload_a143c8cb8906624deabc561f64604c86.hex</td>\n",
       "    </tr>\n",
       "  </tbody>\n",
       "</table>\n",
       "</div>"
      ],
      "text/plain": [
       "       family      link regularization  number_of_predictors_total  \\\n",
       "0    gaussian  identity           None                           1   \n",
       "\n",
       "  number_of_active_predictors  number_of_iterations  \\\n",
       "0                           1                     1   \n",
       "\n",
       "                                           training_frame  \n",
       "0  Key_Frame__upload_a143c8cb8906624deabc561f64604c86.hex  "
      ]
     },
     "metadata": {},
     "output_type": "display_data"
    },
    {
     "name": "stdout",
     "output_type": "stream",
     "text": [
      "\n",
      "\n",
      "ModelMetricsRegressionGLM: glm\n",
      "** Reported on train data. **\n",
      "\n",
      "MSE: 33.75555555555555\n",
      "RMSE: 5.809953145728075\n",
      "MAE: 5.466666666666666\n",
      "RMSLE: 0.3071613256263486\n",
      "R^2: 0.7158756137479543\n",
      "Mean Residual Deviance: 33.75555555555555\n",
      "Null degrees of freedom: 5\n",
      "Residual degrees of freedom: 4\n",
      "Null deviance: 712.8333333333334\n",
      "Residual deviance: 202.5333333333333\n",
      "AIC: 44.14213247540879\n",
      "\n",
      "Scoring History: \n"
     ]
    },
    {
     "data": {
      "text/html": [
       "<div>\n",
       "<style scoped>\n",
       "    .dataframe tbody tr th:only-of-type {\n",
       "        vertical-align: middle;\n",
       "    }\n",
       "\n",
       "    .dataframe tbody tr th {\n",
       "        vertical-align: top;\n",
       "    }\n",
       "\n",
       "    .dataframe thead th {\n",
       "        text-align: right;\n",
       "    }\n",
       "</style>\n",
       "<table border=\"1\" class=\"dataframe\">\n",
       "  <thead>\n",
       "    <tr style=\"text-align: right;\">\n",
       "      <th></th>\n",
       "      <th></th>\n",
       "      <th>timestamp</th>\n",
       "      <th>duration</th>\n",
       "      <th>iterations</th>\n",
       "      <th>negative_log_likelihood</th>\n",
       "      <th>objective</th>\n",
       "    </tr>\n",
       "  </thead>\n",
       "  <tbody>\n",
       "    <tr>\n",
       "      <th>0</th>\n",
       "      <td></td>\n",
       "      <td>2020-08-04 20:17:27</td>\n",
       "      <td>0.000 sec</td>\n",
       "      <td>0</td>\n",
       "      <td>712.833333</td>\n",
       "      <td>118.805556</td>\n",
       "    </tr>\n",
       "  </tbody>\n",
       "</table>\n",
       "</div>"
      ],
      "text/plain": [
       "               timestamp    duration  iterations  negative_log_likelihood  \\\n",
       "0    2020-08-04 20:17:27   0.000 sec           0               712.833333   \n",
       "\n",
       "    objective  \n",
       "0  118.805556  "
      ]
     },
     "metadata": {},
     "output_type": "display_data"
    },
    {
     "data": {
      "text/plain": [
       "<bound method ModelBase.model_performance of >"
      ]
     },
     "execution_count": 26,
     "metadata": {},
     "output_type": "execute_result"
    }
   ],
   "source": [
    "glm_model.model_performance"
   ]
  },
  {
   "cell_type": "code",
   "execution_count": 27,
   "metadata": {},
   "outputs": [
    {
     "data": {
      "text/plain": [
       "0.7158756137479543"
      ]
     },
     "execution_count": 27,
     "metadata": {},
     "output_type": "execute_result"
    }
   ],
   "source": [
    "# We can extract specific metrics as follows:\n",
    "# https://docs.h2o.ai/h2o/latest-stable/h2o-docs/performance-and-prediction.html\n",
    "glm_model.r2()"
   ]
  },
  {
   "cell_type": "code",
   "execution_count": 34,
   "metadata": {},
   "outputs": [
    {
     "name": "stdout",
     "output_type": "stream",
     "text": [
      "glm prediction progress: |████████████████████████████████████████████████| 100%\n"
     ]
    },
    {
     "data": {
      "text/html": [
       "<table>\n",
       "<thead>\n",
       "<tr><th style=\"text-align: right;\">  predict</th><th style=\"text-align: right;\">  StdErr</th></tr>\n",
       "</thead>\n",
       "<tbody>\n",
       "<tr><td style=\"text-align: right;\">  8.33333</td><td style=\"text-align: right;\"> 5.14997</td></tr>\n",
       "<tr><td style=\"text-align: right;\"> 13.7333 </td><td style=\"text-align: right;\"> 3.86638</td></tr>\n",
       "<tr><td style=\"text-align: right;\"> 19.1333 </td><td style=\"text-align: right;\"> 3.02692</td></tr>\n",
       "<tr><td style=\"text-align: right;\"> 24.5333 </td><td style=\"text-align: right;\"> 3.02692</td></tr>\n",
       "<tr><td style=\"text-align: right;\"> 29.9333 </td><td style=\"text-align: right;\"> 3.86638</td></tr>\n",
       "<tr><td style=\"text-align: right;\"> 35.3333 </td><td style=\"text-align: right;\"> 5.14997</td></tr>\n",
       "</tbody>\n",
       "</table>"
      ]
     },
     "metadata": {},
     "output_type": "display_data"
    },
    {
     "data": {
      "text/plain": []
     },
     "execution_count": 34,
     "metadata": {},
     "output_type": "execute_result"
    }
   ],
   "source": [
    "predicted_values = glm_model.predict(h2o_frame[\"x\"])\n",
    "predicted_values"
   ]
  },
  {
   "cell_type": "code",
   "execution_count": 49,
   "metadata": {},
   "outputs": [
    {
     "data": {
      "text/plain": [
       "0     8.333333\n",
       "1    13.733333\n",
       "2    19.133333\n",
       "3    24.533333\n",
       "4    29.933333\n",
       "5    35.333333\n",
       "Name: predict, dtype: float64"
      ]
     },
     "execution_count": 49,
     "metadata": {},
     "output_type": "execute_result"
    }
   ],
   "source": [
    "# Convert the h2o frame to a python list and remove first element (unnecessary column name)\n",
    "# https://h2o-release.s3.amazonaws.com/h2o/rel-turan/4/docs-website/h2o-py/docs/h2o.html\n",
    "y_hat = h2o.as_list(predicted_values[\"predict\"])[\"predict\"]\n",
    "y_hat"
   ]
  },
  {
   "cell_type": "code",
   "execution_count": 52,
   "metadata": {},
   "outputs": [
    {
     "data": {
      "text/plain": [
       "[<matplotlib.lines.Line2D at 0x1b5cd4f0>]"
      ]
     },
     "execution_count": 52,
     "metadata": {},
     "output_type": "execute_result"
    },
    {
     "data": {
      "image/png": "[encoded data removed]",
      "text/plain": [
       "<Figure size 432x288 with 1 Axes>"
      ]
     },
     "metadata": {
      "needs_background": "light"
     },
     "output_type": "display_data"
    }
   ],
   "source": [
    "import matplotlib.pyplot as plt\n",
    "plt.scatter(x, y, color='blue', marker='o')\n",
    "plt.plot(x, y_hat, color='red')"
   ]
  },
  {
   "cell_type": "markdown",
   "metadata": {},
   "source": [
    "# 3. Multiple Linear Regression (gaussian family)"
   ]
  },
  {
   "cell_type": "code",
   "execution_count": 90,
   "metadata": {},
   "outputs": [
    {
     "name": "stdout",
     "output_type": "stream",
     "text": [
      "Parse progress: |█████████████████████████████████████████████████████████| 100%\n"
     ]
    },
    {
     "data": {
      "text/html": [
       "<table>\n",
       "<thead>\n",
       "<tr><th style=\"text-align: right;\">  a</th><th style=\"text-align: right;\">  b</th><th style=\"text-align: right;\">  c</th><th style=\"text-align: right;\">  d</th><th style=\"text-align: right;\">  y</th></tr>\n",
       "</thead>\n",
       "<tbody>\n",
       "<tr><td style=\"text-align: right;\">  5</td><td style=\"text-align: right;\">  1</td><td style=\"text-align: right;\">  3</td><td style=\"text-align: right;\"> -5</td><td style=\"text-align: right;\"> 10</td></tr>\n",
       "<tr><td style=\"text-align: right;\"> 15</td><td style=\"text-align: right;\">  8</td><td style=\"text-align: right;\">  5</td><td style=\"text-align: right;\"> -4</td><td style=\"text-align: right;\"> 20</td></tr>\n",
       "<tr><td style=\"text-align: right;\"> 25</td><td style=\"text-align: right;\"> 12</td><td style=\"text-align: right;\">  2</td><td style=\"text-align: right;\">-11</td><td style=\"text-align: right;\"> 14</td></tr>\n",
       "<tr><td style=\"text-align: right;\"> 35</td><td style=\"text-align: right;\"> 13</td><td style=\"text-align: right;\"> 15</td><td style=\"text-align: right;\">-12</td><td style=\"text-align: right;\"> 32</td></tr>\n",
       "<tr><td style=\"text-align: right;\"> 45</td><td style=\"text-align: right;\"> 16</td><td style=\"text-align: right;\"> 12</td><td style=\"text-align: right;\">-20</td><td style=\"text-align: right;\"> 22</td></tr>\n",
       "<tr><td style=\"text-align: right;\"> 55</td><td style=\"text-align: right;\"> 22</td><td style=\"text-align: right;\"> 14</td><td style=\"text-align: right;\">-23</td><td style=\"text-align: right;\"> 26</td></tr>\n",
       "</tbody>\n",
       "</table>"
      ]
     },
     "metadata": {},
     "output_type": "display_data"
    },
    {
     "data": {
      "text/plain": []
     },
     "execution_count": 90,
     "metadata": {},
     "output_type": "execute_result"
    }
   ],
   "source": [
    "a = [ 5, 15,  25,  35,  45,  55]\n",
    "b = [ 1,  8,  12,  13,  16,  22]\n",
    "c = [ 3,  5,   2,  15,  12,  14]\n",
    "d = [-5, -4, -11, -12, -20, -23]\n",
    "y = [ 10, 20,  14,  32,  22,  26]\n",
    "h2o_frame = h2o.H2OFrame({\n",
    "    \"a\": a,\n",
    "    \"b\": b,\n",
    "    \"c\": c,\n",
    "    \"d\": d,\n",
    "    \"y\": y\n",
    "})\n",
    "h2o_frame"
   ]
  },
  {
   "cell_type": "code",
   "execution_count": 91,
   "metadata": {},
   "outputs": [],
   "source": [
    "predictors = [\"a\", \"b\", \"c\", \"d\"]\n",
    "response = \"y\""
   ]
  },
  {
   "cell_type": "code",
   "execution_count": 92,
   "metadata": {},
   "outputs": [],
   "source": [
    "from h2o.estimators.glm import H2OGeneralizedLinearEstimator\n",
    "glm_model = H2OGeneralizedLinearEstimator(family= \"gaussian\",\n",
    "                                          lambda_ = 0,\n",
    "                                          compute_p_values = True)"
   ]
  },
  {
   "cell_type": "code",
   "execution_count": 93,
   "metadata": {},
   "outputs": [
    {
     "name": "stdout",
     "output_type": "stream",
     "text": [
      "glm Model Build progress: |███████████████████████████████████████████████| 100%\n"
     ]
    }
   ],
   "source": [
    "glm_model.train(predictors, response, training_frame=h2o_frame)"
   ]
  },
  {
   "cell_type": "code",
   "execution_count": 94,
   "metadata": {},
   "outputs": [
    {
     "name": "stdout",
     "output_type": "stream",
     "text": [
      "\n",
      "Coefficients: glm coefficients\n"
     ]
    },
    {
     "data": {
      "text/html": [
       "<div>\n",
       "<style scoped>\n",
       "    .dataframe tbody tr th:only-of-type {\n",
       "        vertical-align: middle;\n",
       "    }\n",
       "\n",
       "    .dataframe tbody tr th {\n",
       "        vertical-align: top;\n",
       "    }\n",
       "\n",
       "    .dataframe thead th {\n",
       "        text-align: right;\n",
       "    }\n",
       "</style>\n",
       "<table border=\"1\" class=\"dataframe\">\n",
       "  <thead>\n",
       "    <tr style=\"text-align: right;\">\n",
       "      <th></th>\n",
       "      <th>names</th>\n",
       "      <th>coefficients</th>\n",
       "      <th>std_error</th>\n",
       "      <th>z_value</th>\n",
       "      <th>p_value</th>\n",
       "      <th>standardized_coefficients</th>\n",
       "    </tr>\n",
       "  </thead>\n",
       "  <tbody>\n",
       "    <tr>\n",
       "      <th>0</th>\n",
       "      <td>Intercept</td>\n",
       "      <td>12.319886</td>\n",
       "      <td>2.191234</td>\n",
       "      <td>5.622350</td>\n",
       "      <td>0.112058</td>\n",
       "      <td>20.666667</td>\n",
       "    </tr>\n",
       "    <tr>\n",
       "      <th>1</th>\n",
       "      <td>a</td>\n",
       "      <td>0.911119</td>\n",
       "      <td>0.887777</td>\n",
       "      <td>1.026293</td>\n",
       "      <td>0.491740</td>\n",
       "      <td>17.045471</td>\n",
       "    </tr>\n",
       "    <tr>\n",
       "      <th>2</th>\n",
       "      <td>b</td>\n",
       "      <td>-0.265805</td>\n",
       "      <td>1.178490</td>\n",
       "      <td>-0.225547</td>\n",
       "      <td>0.858775</td>\n",
       "      <td>-1.894500</td>\n",
       "    </tr>\n",
       "    <tr>\n",
       "      <th>3</th>\n",
       "      <td>c</td>\n",
       "      <td>0.846544</td>\n",
       "      <td>0.557593</td>\n",
       "      <td>1.518210</td>\n",
       "      <td>0.370797</td>\n",
       "      <td>4.928890</td>\n",
       "    </tr>\n",
       "    <tr>\n",
       "      <th>4</th>\n",
       "      <td>d</td>\n",
       "      <td>1.839420</td>\n",
       "      <td>0.820730</td>\n",
       "      <td>2.241198</td>\n",
       "      <td>0.267177</td>\n",
       "      <td>14.188591</td>\n",
       "    </tr>\n",
       "  </tbody>\n",
       "</table>\n",
       "</div>"
      ],
      "text/plain": [
       "       names  coefficients  std_error   z_value   p_value  \\\n",
       "0  Intercept     12.319886   2.191234  5.622350  0.112058   \n",
       "1          a      0.911119   0.887777  1.026293  0.491740   \n",
       "2          b     -0.265805   1.178490 -0.225547  0.858775   \n",
       "3          c      0.846544   0.557593  1.518210  0.370797   \n",
       "4          d      1.839420   0.820730  2.241198  0.267177   \n",
       "\n",
       "   standardized_coefficients  \n",
       "0                  20.666667  \n",
       "1                  17.045471  \n",
       "2                  -1.894500  \n",
       "3                   4.928890  \n",
       "4                  14.188591  "
      ]
     },
     "metadata": {},
     "output_type": "display_data"
    },
    {
     "data": {
      "text/plain": []
     },
     "execution_count": 94,
     "metadata": {},
     "output_type": "execute_result"
    }
   ],
   "source": [
    "glm_model._model_json['output']['coefficients_table']"
   ]
  },
  {
   "cell_type": "code",
   "execution_count": 95,
   "metadata": {},
   "outputs": [
    {
     "name": "stdout",
     "output_type": "stream",
     "text": [
      "Model Details\n",
      "=============\n",
      "H2OGeneralizedLinearEstimator :  Generalized Linear Modeling\n",
      "Model Key:  GLM_model_python_1596579253375_7\n",
      "\n",
      "\n",
      "GLM Model: summary\n"
     ]
    },
    {
     "data": {
      "text/html": [
       "<div>\n",
       "<style scoped>\n",
       "    .dataframe tbody tr th:only-of-type {\n",
       "        vertical-align: middle;\n",
       "    }\n",
       "\n",
       "    .dataframe tbody tr th {\n",
       "        vertical-align: top;\n",
       "    }\n",
       "\n",
       "    .dataframe thead th {\n",
       "        text-align: right;\n",
       "    }\n",
       "</style>\n",
       "<table border=\"1\" class=\"dataframe\">\n",
       "  <thead>\n",
       "    <tr style=\"text-align: right;\">\n",
       "      <th></th>\n",
       "      <th></th>\n",
       "      <th>family</th>\n",
       "      <th>link</th>\n",
       "      <th>regularization</th>\n",
       "      <th>number_of_predictors_total</th>\n",
       "      <th>number_of_active_predictors</th>\n",
       "      <th>number_of_iterations</th>\n",
       "      <th>training_frame</th>\n",
       "    </tr>\n",
       "  </thead>\n",
       "  <tbody>\n",
       "    <tr>\n",
       "      <th>0</th>\n",
       "      <td></td>\n",
       "      <td>gaussian</td>\n",
       "      <td>identity</td>\n",
       "      <td>None</td>\n",
       "      <td>4</td>\n",
       "      <td>4</td>\n",
       "      <td>1</td>\n",
       "      <td>Key_Frame__upload_a14f21075906fac68478d4bac8e147a9.hex</td>\n",
       "    </tr>\n",
       "  </tbody>\n",
       "</table>\n",
       "</div>"
      ],
      "text/plain": [
       "       family      link regularization  number_of_predictors_total  \\\n",
       "0    gaussian  identity           None                           4   \n",
       "\n",
       "  number_of_active_predictors  number_of_iterations  \\\n",
       "0                           4                     1   \n",
       "\n",
       "                                           training_frame  \n",
       "0  Key_Frame__upload_a14f21075906fac68478d4bac8e147a9.hex  "
      ]
     },
     "metadata": {},
     "output_type": "display_data"
    },
    {
     "name": "stdout",
     "output_type": "stream",
     "text": [
      "\n",
      "\n",
      "ModelMetricsRegressionGLM: glm\n",
      "** Reported on train data. **\n",
      "\n",
      "MSE: 0.256118440340076\n",
      "RMSE: 0.5060814562301962\n",
      "MAE: 0.4338082673702723\n",
      "RMSLE: 0.025156728706648524\n",
      "R^2: 0.9951574244473516\n",
      "Mean Residual Deviance: 0.256118440340076\n",
      "Null degrees of freedom: 5\n",
      "Residual degrees of freedom: 1\n",
      "Null deviance: 317.3333333333333\n",
      "Residual deviance: 1.5367106420404562\n",
      "AIC: 20.85457069495305\n",
      "\n",
      "Scoring History: \n"
     ]
    },
    {
     "data": {
      "text/html": [
       "<div>\n",
       "<style scoped>\n",
       "    .dataframe tbody tr th:only-of-type {\n",
       "        vertical-align: middle;\n",
       "    }\n",
       "\n",
       "    .dataframe tbody tr th {\n",
       "        vertical-align: top;\n",
       "    }\n",
       "\n",
       "    .dataframe thead th {\n",
       "        text-align: right;\n",
       "    }\n",
       "</style>\n",
       "<table border=\"1\" class=\"dataframe\">\n",
       "  <thead>\n",
       "    <tr style=\"text-align: right;\">\n",
       "      <th></th>\n",
       "      <th></th>\n",
       "      <th>timestamp</th>\n",
       "      <th>duration</th>\n",
       "      <th>iterations</th>\n",
       "      <th>negative_log_likelihood</th>\n",
       "      <th>objective</th>\n",
       "    </tr>\n",
       "  </thead>\n",
       "  <tbody>\n",
       "    <tr>\n",
       "      <th>0</th>\n",
       "      <td></td>\n",
       "      <td>2020-08-04 21:52:02</td>\n",
       "      <td>0.000 sec</td>\n",
       "      <td>0</td>\n",
       "      <td>317.333333</td>\n",
       "      <td>52.888889</td>\n",
       "    </tr>\n",
       "  </tbody>\n",
       "</table>\n",
       "</div>"
      ],
      "text/plain": [
       "               timestamp    duration  iterations  negative_log_likelihood  \\\n",
       "0    2020-08-04 21:52:02   0.000 sec           0               317.333333   \n",
       "\n",
       "   objective  \n",
       "0  52.888889  "
      ]
     },
     "metadata": {},
     "output_type": "display_data"
    },
    {
     "data": {
      "text/plain": [
       "<bound method ModelBase.model_performance of >"
      ]
     },
     "execution_count": 95,
     "metadata": {},
     "output_type": "execute_result"
    }
   ],
   "source": [
    "glm_model.model_performance"
   ]
  },
  {
   "cell_type": "code",
   "execution_count": 96,
   "metadata": {},
   "outputs": [
    {
     "name": "stdout",
     "output_type": "stream",
     "text": [
      "glm prediction progress: |████████████████████████████████████████████████| 100%\n"
     ]
    },
    {
     "data": {
      "text/html": [
       "<table>\n",
       "<thead>\n",
       "<tr><th style=\"text-align: right;\">  predict</th><th style=\"text-align: right;\">  StdErr</th></tr>\n",
       "</thead>\n",
       "<tbody>\n",
       "<tr><td style=\"text-align: right;\">  9.95221</td><td style=\"text-align: right;\">1.23872 </td></tr>\n",
       "<tr><td style=\"text-align: right;\"> 20.7353 </td><td style=\"text-align: right;\">0.998044</td></tr>\n",
       "<tr><td style=\"text-align: right;\"> 13.3677 </td><td style=\"text-align: right;\">1.06624 </td></tr>\n",
       "<tr><td style=\"text-align: right;\"> 31.3787 </td><td style=\"text-align: right;\">1.0727  </td></tr>\n",
       "<tr><td style=\"text-align: right;\"> 22.4375 </td><td style=\"text-align: right;\">1.15988 </td></tr>\n",
       "<tr><td style=\"text-align: right;\"> 26.1287 </td><td style=\"text-align: right;\">1.23295 </td></tr>\n",
       "</tbody>\n",
       "</table>"
      ]
     },
     "metadata": {},
     "output_type": "display_data"
    },
    {
     "data": {
      "text/plain": []
     },
     "execution_count": 96,
     "metadata": {},
     "output_type": "execute_result"
    }
   ],
   "source": [
    "predicted_values = glm_model.predict(h2o_frame[:, [\"a\", \"b\", \"c\", \"d\"]])\n",
    "predicted_values"
   ]
  },
  {
   "cell_type": "code",
   "execution_count": 97,
   "metadata": {},
   "outputs": [
    {
     "data": {
      "text/plain": [
       "0     9.952208\n",
       "1    20.735268\n",
       "2    13.367669\n",
       "3    31.378698\n",
       "4    22.437485\n",
       "5    26.128672\n",
       "Name: predict, dtype: float64"
      ]
     },
     "execution_count": 97,
     "metadata": {},
     "output_type": "execute_result"
    }
   ],
   "source": [
    "y_hat = h2o.as_list(predicted_values[\"predict\"])[\"predict\"]\n",
    "y_hat"
   ]
  },
  {
   "cell_type": "code",
   "execution_count": 98,
   "metadata": {},
   "outputs": [
    {
     "data": {
      "text/plain": [
       "[<matplotlib.lines.Line2D at 0x1b7596a0>]"
      ]
     },
     "execution_count": 98,
     "metadata": {},
     "output_type": "execute_result"
    },
    {
     "data": {
      "image/png": "[encoded data removed]",
      "text/plain": [
       "<Figure size 432x288 with 1 Axes>"
      ]
     },
     "metadata": {
      "needs_background": "light"
     },
     "output_type": "display_data"
    }
   ],
   "source": [
    "import matplotlib.pyplot as plt\n",
    "plt.scatter(a, y, color='blue', marker='o')\n",
    "plt.plot(a, y_hat, color='red')"
   ]
  },
  {
   "cell_type": "code",
   "execution_count": 99,
   "metadata": {},
   "outputs": [
    {
     "name": "stdout",
     "output_type": "stream",
     "text": [
      "\n",
      "Coefficients: glm coefficients\n"
     ]
    },
    {
     "data": {
      "text/html": [
       "<div>\n",
       "<style scoped>\n",
       "    .dataframe tbody tr th:only-of-type {\n",
       "        vertical-align: middle;\n",
       "    }\n",
       "\n",
       "    .dataframe tbody tr th {\n",
       "        vertical-align: top;\n",
       "    }\n",
       "\n",
       "    .dataframe thead th {\n",
       "        text-align: right;\n",
       "    }\n",
       "</style>\n",
       "<table border=\"1\" class=\"dataframe\">\n",
       "  <thead>\n",
       "    <tr style=\"text-align: right;\">\n",
       "      <th></th>\n",
       "      <th>names</th>\n",
       "      <th>coefficients</th>\n",
       "      <th>std_error</th>\n",
       "      <th>z_value</th>\n",
       "      <th>p_value</th>\n",
       "      <th>standardized_coefficients</th>\n",
       "    </tr>\n",
       "  </thead>\n",
       "  <tbody>\n",
       "    <tr>\n",
       "      <th>0</th>\n",
       "      <td>Intercept</td>\n",
       "      <td>12.319886</td>\n",
       "      <td>2.191234</td>\n",
       "      <td>5.622350</td>\n",
       "      <td>0.112058</td>\n",
       "      <td>20.666667</td>\n",
       "    </tr>\n",
       "    <tr>\n",
       "      <th>1</th>\n",
       "      <td>a</td>\n",
       "      <td>0.911119</td>\n",
       "      <td>0.887777</td>\n",
       "      <td>1.026293</td>\n",
       "      <td>0.491740</td>\n",
       "      <td>17.045471</td>\n",
       "    </tr>\n",
       "    <tr>\n",
       "      <th>2</th>\n",
       "      <td>b</td>\n",
       "      <td>-0.265805</td>\n",
       "      <td>1.178490</td>\n",
       "      <td>-0.225547</td>\n",
       "      <td>0.858775</td>\n",
       "      <td>-1.894500</td>\n",
       "    </tr>\n",
       "    <tr>\n",
       "      <th>3</th>\n",
       "      <td>c</td>\n",
       "      <td>0.846544</td>\n",
       "      <td>0.557593</td>\n",
       "      <td>1.518210</td>\n",
       "      <td>0.370797</td>\n",
       "      <td>4.928890</td>\n",
       "    </tr>\n",
       "    <tr>\n",
       "      <th>4</th>\n",
       "      <td>d</td>\n",
       "      <td>1.839420</td>\n",
       "      <td>0.820730</td>\n",
       "      <td>2.241198</td>\n",
       "      <td>0.267177</td>\n",
       "      <td>14.188591</td>\n",
       "    </tr>\n",
       "  </tbody>\n",
       "</table>\n",
       "</div>"
      ],
      "text/plain": [
       "       names  coefficients  std_error   z_value   p_value  \\\n",
       "0  Intercept     12.319886   2.191234  5.622350  0.112058   \n",
       "1          a      0.911119   0.887777  1.026293  0.491740   \n",
       "2          b     -0.265805   1.178490 -0.225547  0.858775   \n",
       "3          c      0.846544   0.557593  1.518210  0.370797   \n",
       "4          d      1.839420   0.820730  2.241198  0.267177   \n",
       "\n",
       "   standardized_coefficients  \n",
       "0                  20.666667  \n",
       "1                  17.045471  \n",
       "2                  -1.894500  \n",
       "3                   4.928890  \n",
       "4                  14.188591  "
      ]
     },
     "metadata": {},
     "output_type": "display_data"
    },
    {
     "data": {
      "text/plain": []
     },
     "execution_count": 99,
     "metadata": {},
     "output_type": "execute_result"
    }
   ],
   "source": [
    "glm_model._model_json['output']['coefficients_table']"
   ]
  },
  {
   "cell_type": "code",
   "execution_count": 100,
   "metadata": {},
   "outputs": [
    {
     "data": {
      "text/plain": [
       "[12.319885664028387,\n",
       " 0.9111187335093489,\n",
       " -0.26580474934051784,\n",
       " 0.8465435356199827,\n",
       " 1.8394195250660663]"
      ]
     },
     "execution_count": 100,
     "metadata": {},
     "output_type": "execute_result"
    }
   ],
   "source": [
    "coeffs = glm_model._model_json['output']['coefficients_table']['coefficients']\n",
    "coeffs"
   ]
  },
  {
   "cell_type": "code",
   "execution_count": 101,
   "metadata": {},
   "outputs": [
    {
     "data": {
      "text/plain": [
       "9.952207563764231"
      ]
     },
     "execution_count": 101,
     "metadata": {},
     "output_type": "execute_result"
    }
   ],
   "source": [
    "y_hat_0 = coeffs[0] + coeffs[1] * a[0] + coeffs[2] * b[0] + coeffs[3] * c[0] + coeffs[4] * d[0]\n",
    "y_hat_0"
   ]
  },
  {
   "cell_type": "code",
   "execution_count": 102,
   "metadata": {},
   "outputs": [
    {
     "data": {
      "text/plain": [
       "20.735268249780123"
      ]
     },
     "execution_count": 102,
     "metadata": {},
     "output_type": "execute_result"
    }
   ],
   "source": [
    "y_hat_1 = coeffs[0] + coeffs[1] * a[1] + coeffs[2] * b[1] + coeffs[3] * c[1] + coeffs[4] * d[1]\n",
    "y_hat_1"
   ]
  }
 ],
 "metadata": {
  "kernelspec": {
   "display_name": "Python 3",
   "language": "python",
   "name": "python3"
  },
  "language_info": {
   "codemirror_mode": {
    "name": "ipython",
    "version": 3
   },
   "file_extension": ".py",
   "mimetype": "text/x-python",
   "name": "python",
   "nbconvert_exporter": "python",
   "pygments_lexer": "ipython3",
   "version": "3.8.0"
  }
 },
 "nbformat": 4,
 "nbformat_minor": 4
}
