{
 "cells": [
  {
   "cell_type": "markdown",
   "id": "03863d63-96f3-4527-b269-9918862bbfca",
   "metadata": {},
   "source": [
    "# Overview\n",
    "In this notebook we are going to work with Pachyderm to setup and manage our first repository. \n",
    "We will use several clients to interact with this repository and I will be using the local storage backend.\n",
    "\n",
    "The basic workflow we will go through is:\n",
    "- create a repo\n",
    "- upload a document\n",
    "- make a commit\n",
    "- create a branch\n",
    "- modify a branch\n",
    "- deleting file\n",
    "- merging branches"
   ]
  },
  {
   "cell_type": "markdown",
   "id": "6c18806e-ccc8-4970-9a86-69da8e8105e8",
   "metadata": {},
   "source": [
    "# 1. Prerequisites\n",
    "This assumes we have a working installation and followed the setps in the [installation notebook](BInstalling%20Pachyderm.ipynb)."
   ]
  },
  {
   "cell_type": "markdown",
   "id": "52752e9f-e26b-4c17-83e7-d37c1bb83db0",
   "metadata": {},
   "source": [
    "# 2. Create A Repository"
   ]
  },
  {
   "cell_type": "code",
   "execution_count": null,
   "id": "fcbda595-3e1b-427a-b4b7-5d08495d2856",
   "metadata": {},
   "outputs": [],
   "source": []
  },
  {
   "cell_type": "code",
   "execution_count": null,
   "id": "d9922800-44ee-452a-9be7-eed580159445",
   "metadata": {},
   "outputs": [],
   "source": []
  },
  {
   "cell_type": "code",
   "execution_count": null,
   "id": "b2ff1a30-3893-48ae-878f-8aee974d0417",
   "metadata": {},
   "outputs": [],
   "source": []
  },
  {
   "cell_type": "code",
   "execution_count": null,
   "id": "ef614af3-91c4-4aa0-a5a5-4dff0557df6b",
   "metadata": {},
   "outputs": [],
   "source": []
  },
  {
   "cell_type": "code",
   "execution_count": null,
   "id": "e2e6c272-2eb4-4e63-bfe3-4bd045b99966",
   "metadata": {},
   "outputs": [],
   "source": []
  }
 ],
 "metadata": {
  "kernelspec": {
   "display_name": "Python 3 (ipykernel)",
   "language": "python",
   "name": "python3"
  },
  "language_info": {
   "codemirror_mode": {
    "name": "ipython",
    "version": 3
   },
   "file_extension": ".py",
   "mimetype": "text/x-python",
   "name": "python",
   "nbconvert_exporter": "python",
   "pygments_lexer": "ipython3",
   "version": "3.9.13"
  }
 },
 "nbformat": 4,
 "nbformat_minor": 5
}
