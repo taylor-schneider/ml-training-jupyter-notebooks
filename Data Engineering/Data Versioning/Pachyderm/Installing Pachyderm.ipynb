{
 "cells": [
  {
   "cell_type": "markdown",
   "id": "3e96703e-ad57-421d-85a9-89d7980eba5c",
   "metadata": {},
   "source": [
    "# Overview\n",
    "\n",
    "In this notebook we will explore the options for installing pachyderm locally (i.e. in a self-hosted format). This means no commercial requirements like a cloud provider or any manages service or applicance."
   ]
  },
  {
   "cell_type": "markdown",
   "id": "f12da697-ee6c-4ca9-a350-9c16e7053eba",
   "metadata": {},
   "source": [
    "Currently the latest stable version is [2.5.5](https://github.com/pachyderm/pachyderm/releases/tag/v2.5.5) which was released 4/27/2023."
   ]
  },
  {
   "cell_type": "markdown",
   "id": "361f1e2b-af4e-420b-94ff-e0981a069c9d",
   "metadata": {},
   "source": [
    "# Installation Options\n",
    "\n",
    "Looking through the documentation we see two options for installing pachyderm: locally or in the cloud. We then see that these two opions break down further. The table below tries to enumerate the options presented or implied in the documentation.\n",
    "\n",
    "- [Local Installation](https://docs.pachyderm.com/2.3.x/getting-started/local-installation/)\n",
    "    - [Docker Desktop](https://docs.pachyderm.com/latest/getting-started/local-deploy/docker/) - A commercial application that allows running containers as well as a single node kubernetes cluster\n",
    "    - [Minikube](https://docs.pachyderm.com/latest/getting-started/local-deploy/minikube/) - An open source tool that allows running a single node kubernetes cluster locally\n",
    "    - (implied) Self-hosted kubernetes cluster\n",
    "- Cloud Installation\n",
    "    - AWS\n",
    "    - Azure\n",
    "    - GCP\n",
    "\n",
    "As the pachyderm instructions are assuming that local installation is performed on a desktop environment, they offer instructions tailored to Windows, Mac, and Linux.\n",
    "\n",
    "As mentioned earlier, we will be installing to a self-hosted kubernetes cluster. \n",
    "\n",
    "The official instructions for the local installation can be found [here](https://docs.pachyderm.com/latest/getting-started/local-deploy/)."
   ]
  },
  {
   "cell_type": "markdown",
   "id": "81c0bd80-6793-45f3-b8f9-483f60a0430e",
   "metadata": {},
   "source": [
    "# Installation On Kubernetes Cluster\n",
    "\n",
    "Regardless of which local installation method we have chosen, the steps should be reletively similar as we are essentially deployign an application to kubernetes."
   ]
  },
  {
   "cell_type": "markdown",
   "id": "498c9285-fa92-4fdc-95d9-5a7af1333f96",
   "metadata": {},
   "source": [
    "## Install Homebrew (docker desktop / minicube only)\n",
    "\n",
    "The first step in the installation is to install Homebrew (if using linux or mac; For Windows, do documentation lists manual steps that must be undertaken). \n",
    "\n",
    "Homebrew is a package manager. It is used to install other components including:\n",
    "- The kubernetes environment (Docker Desktop / Minicube)\n",
    "- pachctl\n",
    "- helm\n",
    "\n",
    "Originally named Linuxbrew, Homebrew was developed for macOS to provide users with a convenient way to install Linux applications. After the tool gained popularity for its large selection of applications and ease of use, Homebrew developers created a native Linux version.\n",
    "\n",
    "Homebrew is an “add-on” package manager. Homebrew installs packages alongside whatever system it runs on.\n",
    "\n",
    "As we are running on a full blown kubernetes cluster we do not need to use brew."
   ]
  },
  {
   "cell_type": "code",
   "execution_count": null,
   "id": "3aa03915-d0fd-4ef2-8f32-3356771e2137",
   "metadata": {},
   "outputs": [],
   "source": []
  },
  {
   "cell_type": "code",
   "execution_count": null,
   "id": "82cc59a8-2f34-4fdc-9444-146b4b6ccbd7",
   "metadata": {},
   "outputs": [],
   "source": []
  },
  {
   "cell_type": "markdown",
   "id": "7eea1517-b2e5-41b7-935c-30859ce0c799",
   "metadata": {},
   "source": [
    "## Install pachctl\n",
    "The pachctl is a command-line tool that you can use to interact with a Pachyderm cluster in your terminal. It is provided as a precompiled binary available from the [github releases page](https://github.com/pachyderm/pachyderm/releases/tag/v2.5.5).\n",
    "\n",
    "```\n",
    "[root@os004k8-master001 ~]# curl -L -O https://github.com/pachyderm/pachyderm/releases/download/v2.5.5/pachctl_2.5.5_linux_amd64.tar.gz\n",
    "  % Total    % Received % Xferd  Average Speed   Time    Time     Time  Current\n",
    "                                 Dload  Upload   Total   Spent    Left  Speed\n",
    "  0     0    0     0    0     0      0      0 --:--:-- --:--:-- --:--:--     0\n",
    "100 37.1M  100 37.1M    0     0  33.6M      0  0:00:01  0:00:01 --:--:-- 82.4M\n",
    "\n",
    "```\n",
    "\n",
    "**Note**:The official installation instructions can be found [here](https://docs.pachyderm.com/2.3.x/getting-started/local-installation/#install-pachctl)."
   ]
  },
  {
   "cell_type": "markdown",
   "id": "49d71fa6-884f-480c-9bf6-1afa87c7d396",
   "metadata": {},
   "source": [
    "## Install Helm (full kuberentes only)\n",
    "\n",
    "We can think of helm as a package and deployment manager for kubernetes. Helm automates the creation, packaging, configuration, and deployment of Kubernetes applications. It does this through a packaging structure that combines your configuration files into a single reusable format that can be understood and managed by the utility.\n",
    "\n",
    "### Helm Compatibility\n",
    "\n",
    "In order to install helm, we need to figure out which version is comptible with the version of our kubernetes cluster. The helm documentation lists the [compatibility matrix](https://helm.sh/docs/topics/version_skew/) as seen below:\n",
    "\n",
    "\n",
    "|Helm Version|Supported Kubernetes Versions|\n",
    "|------------|-----------------------------|\n",
    "|3.11.x |1.26.x - 1.23.x|\n",
    "|3.10.x|1.25.x - 1.22.x|\n",
    "|3.9.x|1.24.x - 1.21.x|\n",
    "|3.8.x|1.23.x - 1.20.x|\n",
    "|3.7.x|1.22.x - 1.19.x|\n",
    "|3.6.x|1.21.x - 1.18.x|\n",
    "|3.5.x|1.20.x - 1.17.x|\n",
    "|3.4.x|1.19.x - 1.16.x|\n"
   ]
  },
  {
   "cell_type": "markdown",
   "id": "4baf59b3-88ed-4ad4-a904-1799a2ce47bf",
   "metadata": {},
   "source": [
    "In my case my case my kubernetes cluster was running version 1.21.14:\n",
    "```\n",
    "[root@os004k8-master001 ~]# kubectl version\n",
    "Client Version: version.Info{Major:\"1\", Minor:\"21\", GitVersion:\"v1.21.9\", GitCommit:\"b631974d68ac5045e076c86a5c66fba6f128dc72\", GitTreeState:\"clean\", BuildDate:\"2022-01-19T17:51:12Z\", GoVersion:\"go1.16.12\", Compiler:\"gc\", Platform:\"linux/amd64\"}\n",
    "Server Version: version.Info{Major:\"1\", Minor:\"21\", GitVersion:\"v1.21.14\", GitCommit:\"0f77da5bd4809927e15d1658fb4aa8f13ad890a5\", GitTreeState:\"clean\", BuildDate:\"2022-06-15T14:11:36Z\", GoVersion:\"go1.16.15\", Compiler:\"gc\", Platform:\"linux/amd64\"}\n",
    "\n",
    "```\n",
    "\n",
    "So this means I can run helm 3.6 to 3.9. I will go with 3.9 as it's the newest version which has had the most burn in time with my version of k8."
   ]
  },
  {
   "cell_type": "markdown",
   "id": "c6e4f855-4458-4bb6-94d6-d8b1e8755bdf",
   "metadata": {},
   "source": [
    "### Download Binaries\n",
    "The official installation instructions can be found [here](https://helm.sh/docs/intro/install/). Every version of helm is distributed as a binary built for x64 arhchitectures. The binaries can be doenloaded from the [github releases page](https://github.com/helm/helm/releases).\n",
    "\n",
    "In my case, [3.9.4](https://github.com/helm/helm/releases/tag/v3.9.4) is the latest version available."
   ]
  },
  {
   "cell_type": "markdown",
   "id": "04da67bc-aee9-498d-9ed4-f12f081fe845",
   "metadata": {},
   "source": [
    "\n",
    "```\n",
    "[root@os004k8-master001 ~]# curl -O https://get.helm.sh/helm-v3.9.4-linux-amd64.tar.gz\n",
    "  % Total    % Received % Xferd  Average Speed   Time    Time     Time  Current\n",
    "                                 Dload  Upload   Total   Spent    Left  Speed\n",
    "100 13.3M  100 13.3M    0     0  20.1M      0 --:--:-- --:--:-- --:--:-- 20.1M\n",
    "\n",
    "[root@os004k8-master001 ~]# tar -zxvf helm-v3.9.4-linux-amd64.tar.gz\n",
    "linux-amd64/\n",
    "linux-amd64/helm\n",
    "linux-amd64/LICENSE\n",
    "linux-amd64/README.md\n",
    "\n",
    "[root@os004k8-master001 ~]# linux-amd64/helm version\n",
    "WARNING: Kubernetes configuration file is group-readable. This is insecure. Location: /root/.kube/config\n",
    "WARNING: Kubernetes configuration file is world-readable. This is insecure. Location: /root/.kube/config\n",
    "version.BuildInfo{Version:\"v3.9.4\", GitCommit:\"dbc6d8e20fe1d58d50e6ed30f09a04a77e4c68db\", GitTreeState:\"clean\", GoVersion:\"go1.17.13\"}\n",
    "\n",
    "[root@os004k8-master001 ~]# cp linux-amd64/helm /usr/bin/\n",
    "[root@os004k8-master001 ~]# helm version\n",
    "WARNING: Kubernetes configuration file is group-readable. This is insecure. Location: /root/.kube/config\n",
    "WARNING: Kubernetes configuration file is world-readable. This is insecure. Location: /root/.kube/config\n",
    "version.BuildInfo{Version:\"v3.9.4\", GitCommit:\"dbc6d8e20fe1d58d50e6ed30f09a04a77e4c68db\", GitTreeState:\"clean\", GoVersion:\"go1.17.13\"}\n",
    "\n",
    "```\n"
   ]
  },
  {
   "cell_type": "markdown",
   "id": "de1041bc-ba96-4d1c-b81e-e0bfbf29b984",
   "metadata": {},
   "source": [
    "### Connect helm to kubernetes cluster\n",
    "In order to allow helm to install packages on kuernetes, it needs to be able to access information about the cluster. This is typically done via the kube config file. A plain text file that contains the configurations and secrets necessary for a cli to connect and authenticate against a kubernetes cluster. For example, the kubectl and kubeadm programs use this file.\n",
    "\n",
    "Helm will default to using whatever your current Kubernetes context is, as specified in the $HOME/. kube/config file. "
   ]
  },
  {
   "cell_type": "markdown",
   "id": "9c392367-cfe1-4e2c-b115-5c9eb0a8533b",
   "metadata": {},
   "source": [
    "### Add Helm Chart Repository\n",
    "\n",
    "The heml package format is referred to as a chart. Similar to regular OS packages, helm charts are provided by repositories. The package manager (helmp) is configured to point to repositories to allow users to download and install packages from those repositories. Artifact Hub is a public repository providing open source helm charts.\n",
    "\n",
    "\n"
   ]
  },
  {
   "cell_type": "markdown",
   "id": "f6caf90c-65f1-45c0-9389-461228be3ac1",
   "metadata": {},
   "source": [
    "We want to add the repo for the pachyderm repo so we can install the app on our cluster.\n",
    "\n",
    "```\n",
    "[root@os004k8-master001 ~]# helm repo add pachyderm https://helm.pachyderm.com\n",
    "WARNING: Kubernetes configuration file is group-readable. This is insecure. Location: /root/.kube/config\n",
    "WARNING: Kubernetes configuration file is world-readable. This is insecure. Location: /root/.kube/config\n",
    "\"pachyderm\" has been added to your repositories\n",
    "\n",
    "[root@os004k8-master001 ~]# helm repo update\n",
    "WARNING: Kubernetes configuration file is group-readable. This is insecure. Location: /root/.kube/config\n",
    "WARNING: Kubernetes configuration file is world-readable. This is insecure. Location: /root/.kube/config\n",
    "Hang tight while we grab the latest from your chart repositories...\n",
    "...Successfully got an update from the \"pachyderm\" chart repository\n",
    "Update Complete. ⎈Happy Helming!⎈\n",
    "\n",
    "```"
   ]
  },
  {
   "cell_type": "markdown",
   "id": "771b6bca-c889-4043-9427-1a21313eecfb",
   "metadata": {},
   "source": [
    "## Install Pachyderm using helm\n",
    "\n",
    "Pachyderm uses the client server model. The pachD damon is packaged as a kubernetes pod and the pachctl cli connects to the server (the daemon running in the pod) to execute commands etc."
   ]
  },
  {
   "cell_type": "markdown",
   "id": "f23e4404-2a71-452d-890a-45c44b55f198",
   "metadata": {},
   "source": [
    "We can ask helm to list all the charts it can find. In my case I only have one repo (the pachyderm repo) and we can list out all the charts available for a given repo:\n",
    "\n",
    "```\n",
    "[root@os004k8-master001 ~]# helm repo list\n",
    "NAME            URL\n",
    "pachyderm       https://helm.pachyderm.com\n",
    "\n",
    "[root@os004k8-master001 ~]# helm search repo -l -r pachyderm 2>/dev/null\n",
    "NAME                    CHART VERSION   APP VERSION     DESCRIPTION\n",
    "pachyderm/pachyderm     2.5.5           2.5.5           Explainable, repeatable, scalable data science\n",
    "pachyderm/pachyderm     2.5.4           2.5.4           Explainable, repeatable, scalable data science\n",
    "pachyderm/pachyderm     2.5.3           2.5.3           Explainable, repeatable, scalable data science\n",
    "pachyderm/pachyderm     2.5.2           2.5.2           Explainable, repeatable, scalable data science\n",
    "pachyderm/pachyderm     2.5.1           2.5.1           Explainable, repeatable, scalable data science\n",
    "pachyderm/pachyderm     2.5.0           2.5.0           Explainable, repeatable, scalable data science\n",
    "pachyderm/pachyderm     2.4.6           2.4.6           Explainable, repeatable, scalable data science\n",
    "\n",
    "\n",
    "```"
   ]
  },
  {
   "cell_type": "markdown",
   "id": "39251f4d-b60a-4716-82e0-acdfa1703d70",
   "metadata": {},
   "source": [
    "We can then ask helm to install our preferred version:\n",
    "\n",
    "```\n",
    "[root@os004k8-master001 ~]# helm install pachd pachyderm/pachyderm --set deployTarget=LOCAL --set proxy.enabled=true --set proxy.service.type=LoadBalancer --version 2.5.5\n",
    "W0501 12:39:42.848489   21435 warnings.go:70] policy/v1beta1 PodSecurityPolicy is deprecated in v1.21+, unavailable in v1.25+\n",
    "W0501 12:39:43.115008   21435 warnings.go:70] policy/v1beta1 PodSecurityPolicy is deprecated in v1.21+, unavailable in v1.25+\n",
    "NAME: pachd\n",
    "LAST DEPLOYED: Mon May  1 12:39:40 2023\n",
    "NAMESPACE: default\n",
    "STATUS: deployed\n",
    "REVISION: 1\n",
    "NOTES:\n",
    "```"
   ]
  },
  {
   "cell_type": "markdown",
   "id": "0fc5dffc-6ffe-495e-b6c6-f518879f136a",
   "metadata": {},
   "source": [
    "We can then ask kubernetes about the status of the pods it has spun up to host the pachyderm solution.\n",
    "\n",
    "```\n",
    "[root@os004k8-master001 ~]# kubectl get pods -A\n",
    "NAMESPACE     NAME                                                   READY   STATUS              RESTARTS   AGE\n",
    "default       console-587c67787f-cm8sg                               0/1     ContainerCreating   0          38s\n",
    "default       etcd-0                                                 0/1     Pending             0          38s\n",
    "default       pachd-bd45db8cd-4bh5l                                  0/1     ContainerCreating   0          35s\n",
    "default       pachd-loki-0                                           0/1     Pending             0          38s\n",
    "default       pachd-promtail-64qpn                                   0/1     ContainerCreating   0          39s\n",
    "default       pachd-promtail-jtrkt                                   0/1     ContainerCreating   0          39s\n",
    "default       pachd-promtail-kjlcq                                   0/1     ContainerCreating   0          38s\n",
    "default       pachd-promtail-nljnp                                   0/1     ContainerCreating   0          38s\n",
    "default       pachd-promtail-xp82l                                   0/1     ContainerCreating   0          39s\n",
    "default       pachd-promtail-z6n65                                   0/1     ContainerCreating   0          38s\n",
    "default       pachyderm-kube-event-tail-6c6598cd5-pcthr              0/1     ContainerCreating   0          38s\n",
    "default       pachyderm-proxy-7f4545985c-zf2bv                       0/1     ContainerCreating   0          38s\n",
    "default       pg-bouncer-88dbc966b-l4xzs                             0/1     ContainerCreating   0          38s\n",
    "default       postgres-0                                             0/1     Pending             0          38s\n",
    "kube-system   coredns-558bd4d5db-478nt                               1/1     Running             1          17h\n",
    "kube-system   coredns-558bd4d5db-x42cd                               1/1     Running             1          17h\n",
    "kube-system   etcd-os004k8-master001.foobar.com                      1/1     Running             125        17h\n",
    "kube-system   kube-apiserver-os004k8-master001.foobar.com            1/1     Running             1          17h\n",
    "kube-system   kube-controller-manager-os004k8-master001.foobar.com   1/1     Running             1          17h\n",
    "kube-system   kube-proxy-2l94p                                       1/1     Running             1          16h\n",
    "kube-system   kube-proxy-2m6hr                                       1/1     Running             1          17h\n",
    "kube-system   kube-proxy-f4vbn                                       1/1     Running             1          16h\n",
    "kube-system   kube-proxy-kzz98                                       1/1     Running             1          17h\n",
    "kube-system   kube-proxy-plhkk                                       1/1     Running             1          17h\n",
    "kube-system   kube-proxy-sm9wf                                       1/1     Running             1          17h\n",
    "kube-system   kube-proxy-wcl4n                                       1/1     Running             1          16h\n",
    "kube-system   kube-scheduler-os004k8-master001.foobar.com            1/1     Running             1          17h\n",
    "kube-system   weave-net-472vx                                        2/2     Running             4          17h\n",
    "kube-system   weave-net-4lmgh                                        2/2     Running             4          17h\n",
    "kube-system   weave-net-6w7qx                                        2/2     Running             4          16h\n",
    "kube-system   weave-net-fkzm5                                        2/2     Running             3          16h\n",
    "kube-system   weave-net-g4sjk                                        2/2     Running             2          17h\n",
    "kube-system   weave-net-k7l4s                                        2/2     Running             3          17h\n",
    "kube-system   weave-net-qs929                                        2/2     Running             4          16h\n",
    "```\n",
    "\n",
    "**Note**: This will take some time before all the pods are running. Remember, the kubernetes cluster is going to download a bunch of docker images from dockerhub. This may take some time. It then neets to start the pods (containers) and wait for their internal services to come online."
   ]
  },
  {
   "cell_type": "code",
   "execution_count": null,
   "id": "745bb419-041c-43e3-83a6-8b2978fb9c18",
   "metadata": {},
   "outputs": [],
   "source": []
  }
 ],
 "metadata": {
  "kernelspec": {
   "display_name": "Python 3 (ipykernel)",
   "language": "python",
   "name": "python3"
  },
  "language_info": {
   "codemirror_mode": {
    "name": "ipython",
    "version": 3
   },
   "file_extension": ".py",
   "mimetype": "text/x-python",
   "name": "python",
   "nbconvert_exporter": "python",
   "pygments_lexer": "ipython3",
   "version": "3.9.13"
  }
 },
 "nbformat": 4,
 "nbformat_minor": 5
}
