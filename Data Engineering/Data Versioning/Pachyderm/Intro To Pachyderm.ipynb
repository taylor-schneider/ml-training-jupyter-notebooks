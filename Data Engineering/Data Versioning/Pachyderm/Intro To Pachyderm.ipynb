{
 "cells": [
  {
   "cell_type": "markdown",
   "id": "a24ba544-1c15-472b-b3c2-9fba99aeafff",
   "metadata": {},
   "source": []
  },
  {
   "cell_type": "code",
   "execution_count": null,
   "id": "f088ca8a-2344-447d-86c8-1e644e688759",
   "metadata": {},
   "outputs": [],
   "source": []
  },
  {
   "cell_type": "code",
   "execution_count": null,
   "id": "3d72b843-af1e-4079-8179-51847bf88acc",
   "metadata": {},
   "outputs": [],
   "source": []
  },
  {
   "cell_type": "code",
   "execution_count": null,
   "id": "a158a6cf-c55d-4799-965a-4aafe5668744",
   "metadata": {},
   "outputs": [],
   "source": []
  },
  {
   "cell_type": "code",
   "execution_count": null,
   "id": "b29b085c-d648-4950-880d-5ea9feeb4967",
   "metadata": {},
   "outputs": [],
   "source": []
  },
  {
   "cell_type": "markdown",
   "id": "a085518e-1529-46ab-b002-1f9498dc4bf3",
   "metadata": {},
   "source": [
    "# Basic Concepts\n",
    "\n",
    "## The Pachyderm File System (PFS)\n",
    "\n",
    "The Pachyderm File System (PFS) is a loose collection of concepts, an abstraction, which together define the version control functionality. The Pachyderm application orchestrates and manages the data through abstractions which are ultimately stored in Postrgres and S3.\n",
    "\n"
   ]
  },
  {
   "cell_type": "markdown",
   "id": "407adb64-6d92-4550-97f5-82dffe6ab754",
   "metadata": {},
   "source": [
    "# Architecture\n",
    "\n",
    "Pachyderm is packaged as a kubernetes application. The solution is composed of several services hosted in pods and several other kubernets resources. As the diagram below illustrates, the solution is also built on services which may be provided outside the kubernetes cluster sudh as S3 and a block device provider for persistent storage."
   ]
  },
  {
   "cell_type": "markdown",
   "id": "1c38734d-277f-4221-b659-0f922898f9cb",
   "metadata": {},
   "source": [
    "<center><img src=\"images/pachyderm-architecture-diagram.png\"></center>\n"
   ]
  },
  {
   "cell_type": "markdown",
   "id": "f0bd0a0c-c9ce-427b-a596-e6bd1205c045",
   "metadata": {},
   "source": [
    "As discussed in my article about [installing pachyderm](Installing%20Pachyderm.ipynb#Installation-Options) there are multiple installation options. The user may choose a cloud native or on-prem solution. As such, some elements of the architecture may change. Note: The core application is build on native kubernetes resources and custom resource definitions so that should not change too much."
   ]
  }
 ],
 "metadata": {
  "kernelspec": {
   "display_name": "Python 3 (ipykernel)",
   "language": "python",
   "name": "python3"
  },
  "language_info": {
   "codemirror_mode": {
    "name": "ipython",
    "version": 3
   },
   "file_extension": ".py",
   "mimetype": "text/x-python",
   "name": "python",
   "nbconvert_exporter": "python",
   "pygments_lexer": "ipython3",
   "version": "3.9.13"
  }
 },
 "nbformat": 4,
 "nbformat_minor": 5
}
