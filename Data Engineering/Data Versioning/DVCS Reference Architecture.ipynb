{
 "cells": [
  {
   "cell_type": "markdown",
   "id": "becec5fb-1c1f-4943-9204-01412abc5a50",
   "metadata": {},
   "source": [
    "# 4. Overview\n",
    "\n",
    "Currently there are no solutions which are feature complete. There are a number of solutions which offer a subset of the features specified above. In this section I propose a reference architecture and talk through how several existing solutions fit into that architecture."
   ]
  },
  {
   "cell_type": "markdown",
   "id": "2d84f4d7-1d69-467c-b766-ab393c7ebf14",
   "metadata": {},
   "source": [
    "## 4.1. Reference Architecture"
   ]
  },
  {
   "cell_type": "markdown",
   "id": "82a3cb66-0c86-427a-8236-9d02fb77cc3c",
   "metadata": {
    "tags": []
   },
   "source": [
    "Below we can see a modular solution designed to conform to the client-server model. The DVCS solution sits on top of the underlying storage layer and proxies native traffic to the underlying datastore.\n",
    "\n",
    "<center><img src=\"images/dvcs-architecture-diagram.png\" style=\"width: 400px\"></center>"
   ]
  },
  {
   "cell_type": "markdown",
   "id": "d885c979-78ef-4964-ac11-0ba2cbf97426",
   "metadata": {},
   "source": [
    "With this architecture the client connects to the DVCS to provide administrative commands to the DVCS repository,  informative metadata about the lineage of a particular state of the DVCS repository, or to connect to the underlying datastore to manipulate the actual data."
   ]
  },
  {
   "cell_type": "markdown",
   "id": "c26ca132-2755-4655-9ae5-d325ebf135d6",
   "metadata": {},
   "source": [
    "## 4.2. Components"
   ]
  },
  {
   "cell_type": "markdown",
   "id": "31fd18bc-1481-4f17-9015-6077accfc11e",
   "metadata": {},
   "source": [
    "### 4.2.1. The Storage Layer Proxy (SLP)\n",
    "\n",
    "The SLP is a metered/monitored proxy which is responsible for connecting a client directly to their data which is stored on the underlying storage layer. The location of the actual data is based on the input from the VCL. The data could \"move around\" as different VCS event occur. For example, if we want to access a file from a particular version of the repository, there may be some underlying magic that needs to happen so that I can read that file while someone else reads a newer copy. The SLP informs the LCL of client session activity through the metadata store. As clients establish connections and perform operations, the SLP can observe and report."
   ]
  },
  {
   "cell_type": "markdown",
   "id": "26773e03-9b92-49ea-a131-ce296dc4d120",
   "metadata": {},
   "source": [
    "### 4.2.2. The Lineage Control Layer (LCL)\n",
    "The LCL is responsible for tracking the lineage of the VCS events; such as where the data is from and what transformations are responsible for creating the data associated with a given commit. When clients connect to the DVCS they establish a session and are given access to the underlying data store through a metered proxy (the SLP). Any storage layer transactions declared/observed are tied to the respective client and catalogued."
   ]
  },
  {
   "cell_type": "markdown",
   "id": "c1bf5db9-4b00-45c7-869a-7319eb410917",
   "metadata": {},
   "source": [
    "### 4.2.3 The Version Control Layer\n",
    "\n",
    "The VCL is responsible for managing the commit history, the commit metadata, and the working set. It manipulates the underlying storage layer to snapshot data, create working copies, and provide diff functionality. It configures the storage layer proxy to direct client requests to a respective underlying data store."
   ]
  },
  {
   "cell_type": "markdown",
   "id": "30cb31f3-9396-44e1-88b8-6acaf9e0a368",
   "metadata": {},
   "source": [
    "### 4.2.4. The Storage Layer\n",
    "The storage layer is the technology the user has elected to store their raw data. This would be a solution that provides file, object, block, or database storage. The storage layer is managed by the DVCS which sits above it. User traffic is directed to the storage layer through the DVCS and its SLP."
   ]
  },
  {
   "cell_type": "markdown",
   "id": "17beff2e-2618-4733-be4d-1a162f8139d4",
   "metadata": {},
   "source": [
    "### 4.2.5. The Metadata Store\n",
    "The metadata store is responsible for storing metadata related to the version history, version lineage, proxy settings, and event hooks associated with a data repository."
   ]
  },
  {
   "cell_type": "markdown",
   "id": "33e2f060-7f90-4a4e-ad29-afdbf05cc2b3",
   "metadata": {},
   "source": [
    "### Message Bus\n",
    "\n",
    "The message bus allows for asynchronous event based communication between the internal services. Processes are able to listen to a bus for new units of work to complete and notify downstream consumers once the units of work have been completed or failed. "
   ]
  },
  {
   "cell_type": "markdown",
   "id": "ba76b7e2-7180-4a62-af39-7623ff549267",
   "metadata": {},
   "source": [
    "### 4.2.6. Event Hooks\n",
    "The event hook system allows sub systems to trigger events. Internal and 3rd party systems are able to register event hooks to execute when a specified events occur. For example, when the underlying storage layer triggers an event, the event hook system can witness the event and notify downstream systems. The Event Hook functionality requires a compute layer to host execution of the registered callbacks."
   ]
  },
  {
   "cell_type": "markdown",
   "id": "e4037198-ab0c-4789-b02e-3e39224e244a",
   "metadata": {},
   "source": [
    "### Compute\n"
   ]
  },
  {
   "cell_type": "markdown",
   "id": "e4b01985-d0b6-49ad-ae30-d004d0f4af08",
   "metadata": {},
   "source": [
    "## 4.3. Solution Workflow"
   ]
  },
  {
   "cell_type": "markdown",
   "id": "bf787c24-088f-4543-a912-533745014997",
   "metadata": {},
   "source": [
    "In this extion we will explore how the components of the reference architecture implement the high level VCS operations we have come to expect.\n",
    "The basic process of adding new data to the central repository is as follows:\n",
    "\n",
    "1. Create Repo\n",
    "1. Create Initial Commit & Integration Branch\n",
    "1. Create Branch\n",
    "1. Make Commit(s)\n",
    "    - Update Working Set (through human or pipeline)\n",
    "    - Commit Changes\n",
    "1. Merge Into Integration Branch\n",
    "\n",
    "Note: These operations are expected to be atomic and in practice will be invoked through a CLI or RESTful API."
   ]
  },
  {
   "cell_type": "markdown",
   "id": "eeccde08-4934-441a-8a17-59e94805af1c",
   "metadata": {},
   "source": [
    "\n",
    "<table>\n",
    "    <tbody>\n",
    "        <tr>\n",
    "            <td>      \n",
    "                \n",
    "### Creating A Repo\n",
    "       \n",
    "1. Client sends instruction to Server\n",
    "1. Server places a message on the message bus\n",
    "    - VCS Layer updates Metadata Store\n",
    "    - VCS Layer provisions and/or configures backend Storage\n",
    "    - VCS Layer places a message on the message bus\n",
    "1. Server responds to Client\n",
    "1. Event Hooks are invoked\n",
    "                \n",
    "### Creating A Branch\n",
    "       \n",
    "1. Client sends instruction to Server\n",
    "1. Server places a message on the message bus\n",
    "    - VCS layer activates\n",
    "        - Updates Metadata Store\n",
    "        - Provisions and/or configures backend Storage\n",
    "        - Places a message on the message bus\n",
    "    - SPL activates\n",
    "        - Updates Metadata Store\n",
    "        - Updates internal proxy settings\n",
    "        - Places a message on the message bus           \n",
    "1. Server responds to Client\n",
    "1. Event Hooks are invoked\n",
    "\n",
    "### Creating A Commit\n",
    "                \n",
    "1. Client sends instruction to Server\n",
    "1. Server places a message on the message bus\n",
    "    - LCS Layer activates\n",
    "        - Updates Metadata Store\n",
    "        - Places a message on the message bus\n",
    "    - VCS layer activates\n",
    "        - Updates Metadata Store\n",
    "        - Provisions and/or configures backend Storage\n",
    "        - Places a message on the message bus\n",
    "    - SPL activates\n",
    "        - Updates Metadata Store\n",
    "        - Updates internal proxy settings\n",
    "        - Places a message on the message bus           \n",
    "1. Server responds to Client\n",
    "1. Event Hooks are invoked              \n",
    "            </td>\n",
    "            <td>\n",
    "                <center><img src=\"images/dvcs-architecture-diagram.png\" style=\"height: 600px\"></center>\n",
    "            </td>\n",
    "        </tr>\n",
    "    </tbody>\n",
    "</table>"
   ]
  },
  {
   "cell_type": "markdown",
   "id": "2cb1d25b-2287-43b6-9e27-5a29bd7bafe4",
   "metadata": {},
   "source": [
    "### Diffing, Merging & Resolving Merge Conflicts\n",
    "The process of diffing, merging, and resolving conflicts is conceptually consistent accross use cases but practically will have nuances based on the underlying storage format of the data. For example, the process of diffing a text file and a database will be different: in terms of computation, presentation, and interpretation. How do you diff an image, or a video?\n",
    "\n",
    "This process and technology can be abstracted into it's own solution that can be used in tandem with a DVCS."
   ]
  },
  {
   "cell_type": "markdown",
   "id": "adabfcd8-14e8-4907-8c69-74b4c0653860",
   "metadata": {},
   "source": [
    "# Available Solutions According To Reference Architecture\n",
    "\n",
    "In the [Available Solutions notebook](Available%20Solutions.ipynb) I reviewed a number of solutions available on the market today. In this section I explain how they fit into the reference architecture provided in this article."
   ]
  },
  {
   "cell_type": "markdown",
   "id": "5916b9fc-bb75-4979-b8c5-bb2fc28ce626",
   "metadata": {},
   "source": [
    "## Dolt\n",
    "\n",
    "We can see that dolt sits on top of the storage layer and facilitates version control and a proxy to the storage layer.\n",
    "<center><img src=\"images/dvcs-reference-architecture-dolt.png\" style=\"height: 400px\"></center>"
   ]
  },
  {
   "cell_type": "markdown",
   "id": "918da7d8-bb60-481a-813e-b33dc6a7ae21",
   "metadata": {
    "tags": []
   },
   "source": [
    "## LakeFS\n",
    "LakeFS has a similar footprint to Dolt with respect to the reference architecture.\n",
    "<center><img src=\"images/dvcs-reference-architecture-lakefs.png\" style=\"height: 400px\"></center>"
   ]
  },
  {
   "cell_type": "markdown",
   "id": "f5329c6e-ab67-4583-8bc0-ee3b32546ae7",
   "metadata": {},
   "source": [
    "## Pachyderm\n",
    "PAchyderm is one of the more feature complete solutions. It has the largest footprint. It does not internally impliment a message bus as far as I know and that is not a problem.\n",
    "<center><img src=\"images/dvcs-reference-architecture-pachyderm.png\" style=\"height: 400px\"></center>"
   ]
  }
 ],
 "metadata": {
  "kernelspec": {
   "display_name": "Python 3 (ipykernel)",
   "language": "python",
   "name": "python3"
  },
  "language_info": {
   "codemirror_mode": {
    "name": "ipython",
    "version": 3
   },
   "file_extension": ".py",
   "mimetype": "text/x-python",
   "name": "python",
   "nbconvert_exporter": "python",
   "pygments_lexer": "ipython3",
   "version": "3.9.13"
  }
 },
 "nbformat": 4,
 "nbformat_minor": 5
}
