{
 "cells": [
  {
   "cell_type": "markdown",
   "id": "92a380eb-4bd5-4136-aa93-7a458f05881b",
   "metadata": {},
   "source": [
    "# Overview\n",
    "Before diving into DVCS it's imperative that the reader understand traditional version control. This is because VCS is the foundation of all scalable DevOps implimentations as it informs all process architectures and release strategies. As Such, DVCS closely follows and extends the VCS concepts. In doing so it is directly compatible with the DevOps mindset and workflow and can be adopted without major issues.\n",
    "\n",
    "So what is version control? Generally speaking version control is the practice of tracking the evolution of a code base over time. VCS tooling is able to serve the user historical and current versions and compare and track changes through the evolutionary timeline. It also allows multiple engineers to safely work in parallel and provide governance.\n",
    "\n",
    "The major elements of successful version control implimentations are built around four abstract concepts:\n",
    "\n",
    "- Branching Strategy - The process by which commits are made, reviewed, and approved by the development team.\n",
    "- Versioning Strategy - The process by which arbitrary change events are grouped, comitted, and named.\n",
    "- Promotion Strategy - The process by which versions of a software solution are associated with a quality tier.\n",
    "- Deployment Strategy - The process by which a given version of a specific quality tier is delivered to a target environment.\n",
    "\n",
    "Fully defining these concepts is a conversation of their own. The nuances are not necessarily required for this topic. Simply recognizing the parallels between VCS and DVCS is the intention of presenting this material."
   ]
  },
  {
   "cell_type": "markdown",
   "id": "c30dc9a4-1d45-49dd-8b36-14835e10b01b",
   "metadata": {},
   "source": [
    "# Versioning Strategies\n",
    "A code repository is expected to change over time. Thinking about change as a discrete process we can expect a liner sequence of change events.\n",
    "\n",
    "<center><img src=\"images/dvcs-versioning-events.png\"></center>\n",
    "\n",
    "But is every arbitary change event constituting a new version? Maybe a version is an aggregate of a set of one or more atomic transactions. \n",
    "\n",
    "For example we might have a new version called \"birthday code\" which consists of a bunch of changes I made during a four hour hacking session on my birthday. We might have a version coming out every three hours and name them based on the dev team's favorite baseball players. We might have a version called v2 which is so different from v1 such that it is incompatible.\n",
    "\n",
    "<center><img src=\"images/dvcs-versioning-events-2.png\"></center>\n",
    "\n",
    "\n",
    "In selecting a versioning strategy we will synchronize the state changes of a given dataset with the commits captured by the DVCS. Additionally, the versioning strategy is the process by which arbitrary change sets are comitted (archived in an immutable metastore) and named. Through the versioning strategy we understand logically and philisophically how and why a version is created as well as tangibly what we will call this thing. \n",
    "\n",
    "There are many versioning strategies, we will look at CalVer."
   ]
  },
  {
   "cell_type": "markdown",
   "id": "42d1b28b-6899-4ea3-a458-fff03e0b8a48",
   "metadata": {},
   "source": [
    "## Calendar Versioning (CalVer)\n",
    "A popular versioningstrategy is [Calendar Versioning (CalVer)](https://calver.org/). With this strategy a version number is broken down into several fields, each of which contain information about the version.\n",
    "\n",
    "TODO: Add image with fields"
   ]
  },
  {
   "cell_type": "markdown",
   "id": "b09d8740-a67c-430f-b9b8-434428ace147",
   "metadata": {},
   "source": [
    "# Branching Strategies\n",
    "\n",
    "OK, so now we understand how we are mapping individual change engents to change sets (i.e. versions) and we understand how the versions are being named. But this, by itself, will not lead to a well organized code repository. This is because there is a possibility for multiple versions to coexist in complex solutions. This means we need to track compatibility and lineage. Additionally when we have multiple developers doing things in parallel, we need a way for them to work independently (without impacting eachother) and then a way for all their versions to me combined into one single consolidated version."
   ]
  },
  {
   "cell_type": "markdown",
   "id": "1b82d7c6-e71c-4e4f-b15b-60c4b53d68ce",
   "metadata": {},
   "source": [
    "Consider an example where a team needs to produce a consumable product for downstream teams. This could be a piece of software, this could be some sort of data, like a report. The team might organize their work product on a file system in a way that explains who created what.\n",
    "<center><img src=\"images/dvcs-branching-workflow-without-branches.png\"></center>\n",
    "\n",
    "\n",
    "\n"
   ]
  },
  {
   "cell_type": "markdown",
   "id": "274e8501-614e-4b63-a6a8-3a783532c4f8",
   "metadata": {},
   "source": [
    "This is still a bit disorganized and a bit hard to understand and prone to inadvertent mistakes. Additionally while the picture shows an evolution over time, in reality we may only have one or two copies of a report, and as time goes on we might overwrite old versions with new versions. \n",
    "\n",
    "Instead of using a raw filesystem, we might elect to use a VCS tool and take advantage of branches. In a VCS, a branch is a sequential set of commits. Commits are immutable snapshots of the state of a code repository at a given point in time. The branches allow us to clearly deliniate evolutionary timelines for different versions of a file or directory. \n",
    "\n",
    "\n",
    "Below we can see branches represented by lines and the circles represent the different versions that might appear over time. \n",
    "\n",
    "<center><img src=\"images/dvcs-branching-workflow-with-crude-branches.png\"></center>\n",
    "\n",
    "We can also associate a branch with a particular purpose or quality level. For example we might designate one branch as the \"gold copy\" that we send to the public and another as \"a POC\" which is only available internally.\n",
    "\n"
   ]
  },
  {
   "cell_type": "markdown",
   "id": "39bf4a55-e883-489f-8a1a-b89167ca7e8c",
   "metadata": {},
   "source": [
    "**Note**: We can use the branches to implicitly express a lot of useful information, we will come back to this when we talk about promotion and deployment strategies.\n",
    "\n",
    "\n",
    "There are many branching strategies used in practice. These strategies can be classified by the number of integration branches, non integration branches, merge policies, and quality tiers. \n"
   ]
  },
  {
   "cell_type": "markdown",
   "id": "3e9fa80d-e677-455e-aea3-b1f295346a83",
   "metadata": {},
   "source": [
    "## Trunk Based Development\n",
    "\n",
    "We will consider the most basic strategy: Trunk Based Development. The workflow however applies to all strategies as they are all derived from this model. Below we see a branch-flow diagram.\n",
    "\n",
    "<center><img src=\"images/dvcs-branching-workflow.png\"></center>"
   ]
  },
  {
   "cell_type": "markdown",
   "id": "890f79a9-a904-478d-86ad-56a6b7a1b7a4",
   "metadata": {
    "tags": []
   },
   "source": [
    "# Promotion Strategies\n",
    "\n",
    "Promotion Strategies articulate quality gates; they define how code is promoted from one quality level to a higher quality level by crossing through a quality gate which is enforced programatically. Typically the gate is implimented as an automated test suite. Before the given version number can be attached to a specific commit it must run a series of tests that guarantee there are no problems and the quality standards are upheld (i.e. no bugs).\n",
    "\n",
    "We can tie our promotion strategy to our branching strategy by using branches to represent quality levels. In the case of TBD we would represent the quality levels as follows:\n",
    "\n",
    "<center><img src=\"images/dvcs-branching-workflow-with-quality.png\"></center>"
   ]
  },
  {
   "cell_type": "markdown",
   "id": "4224ddc3-4ea9-423c-9177-f09788a0736b",
   "metadata": {},
   "source": [
    "Here we can see that the release branch is a higher quality level than a bug branch which is the lowest quality level. But we may consider some branches to be the same quality level, so we might group them into a tier.\n",
    "\n",
    "<center><img src=\"images/dvcs-branching-workflow-with-quality-tiers.png\"></center>\n",
    "\n",
    "Above we can see that we have elected a three-tier promotion strategy. As we will see in the next section, we can map our promotion strategy to our deployment strategy. We will do this by associating a quality tier with an environment tier."
   ]
  },
  {
   "cell_type": "markdown",
   "id": "76b92576-df4c-405e-9c74-06c487160fed",
   "metadata": {},
   "source": [
    "# Deployment Strategies\n",
    "Deployment Strategies dictate what environment a specific version of code will be deployed to. Typically quality tiers are mapped to environment tiers such that code can only be deployed to an environment with an associated quality tier that is equal to or below the given version of code. For example, production quality code can be deployed to prod and non-prod environments while non-prod code can only target non-prod environments.\n",
    "\n",
    "<center><img src=\"images/dvcs-quality-tiers-deployment.png\" style=\"height: 300px\"></center>\n",
    "\n",
    "In the example above, we have a three-tiered environment. We could have any number of quality tiers but having at least three makes it very simple to map a quality tier to an environment tier."
   ]
  }
 ],
 "metadata": {
  "kernelspec": {
   "display_name": "Python 3 (ipykernel)",
   "language": "python",
   "name": "python3"
  },
  "language_info": {
   "codemirror_mode": {
    "name": "ipython",
    "version": 3
   },
   "file_extension": ".py",
   "mimetype": "text/x-python",
   "name": "python",
   "nbconvert_exporter": "python",
   "pygments_lexer": "ipython3",
   "version": "3.9.13"
  }
 },
 "nbformat": 4,
 "nbformat_minor": 5
}
