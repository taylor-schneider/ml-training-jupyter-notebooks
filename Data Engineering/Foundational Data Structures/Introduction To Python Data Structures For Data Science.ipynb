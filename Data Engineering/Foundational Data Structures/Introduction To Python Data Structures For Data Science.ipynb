{
 "cells": [
  {
   "cell_type": "markdown",
   "metadata": {},
   "source": [
    "# Indroduction to Python Data Structures for Data Science\n",
    "\n",
    "We are going to explore several libraries, so strap in!\n",
    "\n",
    "PS. If you're not familiar with jupyter notebooks please stop here and get up to speed\n",
    "\n",
    "## Table of Contents\n",
    "1. Intro to Python data science technology stack\n",
    "2. NumPy - the foundation\n",
    "3. Pandas - A higher level library built on numpy"
   ]
  },
  {
   "cell_type": "markdown",
   "metadata": {},
   "source": [
    "## 1. Intro to technology stacks\n",
    "\n",
    "Technology is built on layers. A layer may consist of multiple libraries and libraries may span multiple layers. What's important to remember is that libraries often build on eachother. \n",
    "\n",
    "A high level library may provide user friendly functionality based on the work of other lower-level libraries.\n",
    "\n",
    "The data science field is no different. There is a thriving open source community which is driving the majority of the innovations and changes of the most popular and powerful technology stacks.\n",
    "\n",
    "The diagram below gives a basic idea of how some of the major libraries are interrelates.\n",
    "\n",
    "<img src=\"LibraryDiagram.png\"/>\n",
    "\n",
    "Now that we have our bearings, we can begin exploring these libraries and understand why they are so useful for data science"
   ]
  }
 ],
 "metadata": {
  "kernelspec": {
   "display_name": "Python 3 (ipykernel)",
   "language": "python",
   "name": "python3"
  },
  "language_info": {
   "codemirror_mode": {
    "name": "ipython",
    "version": 3
   },
   "file_extension": ".py",
   "mimetype": "text/x-python",
   "name": "python",
   "nbconvert_exporter": "python",
   "pygments_lexer": "ipython3",
   "version": "3.9.1"
  }
 },
 "nbformat": 4,
 "nbformat_minor": 4
}
