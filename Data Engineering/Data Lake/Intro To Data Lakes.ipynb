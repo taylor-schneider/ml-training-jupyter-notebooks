{
 "cells": [
  {
   "cell_type": "markdown",
   "id": "e370a747-d18d-4f07-baa8-f584bae9235e",
   "metadata": {},
   "source": [
    "# Overview\n",
    "A Data Lake is a generation II big data solution. It is intended as a centralized storage repository that allows you to store all your structured and unstructured data in its raw format. Compared to a hierarchical data warehouse, which stores data in files or folders, a data lake uses a flat architecture and object storage to store the data.‍ Object storage stores data with metadata tags and a unique identifier, which makes it easier to locate and retrieve data across regions, and improves performance. By leveraging inexpensive object storage and open formats, data lakes enable many applications to take advantage of the data.\n",
    "\n",
    "A great article on data lakes can be found [here](https://databricks.com/discover/data-lakes/introduction). For information about how data lakes fit into the evolution of storage solutions see *Section 1. History Of Data Architectures* in my article [Intro To Data Lakehouses](../Data%20Lakehouse/Intro%20To%20Data%20Lakehouse.ipynb)"
   ]
  },
  {
   "cell_type": "markdown",
   "id": "841b03f9-3264-41fd-b5be-6366d01795de",
   "metadata": {},
   "source": [
    "# Implimentations\n",
    "It's a bit confusing to understand what a datalke is when we introduce a lot of technical terms like object storage or metadata tags etc.\n",
    "\n",
    "As mentioned previously, a data lake allows us to store data in its raw format... so what do we mean by data and how is it stored? Well we mean any kind of data: audio, video, json, tabular data, etc. All of this data is stored in files in one way or another. So a datalake is a storage solution that allows us to store files and attach metadata to them. In the most basic implimentation, a data lake is just a file server. While some implimentation provie a POSIX compliant interfact, others provide an HTTP based API.\n",
    "\n",
    "Every major cloud provider offers a data lake implimentation and they each have their own nuances. In this directory we will explore some of the solutions."
   ]
  }
 ],
 "metadata": {
  "kernelspec": {
   "display_name": "Python 3 (ipykernel)",
   "language": "python",
   "name": "python3"
  },
  "language_info": {
   "codemirror_mode": {
    "name": "ipython",
    "version": 3
   },
   "file_extension": ".py",
   "mimetype": "text/x-python",
   "name": "python",
   "nbconvert_exporter": "python",
   "pygments_lexer": "ipython3",
   "version": "3.10.1"
  }
 },
 "nbformat": 4,
 "nbformat_minor": 5
}
