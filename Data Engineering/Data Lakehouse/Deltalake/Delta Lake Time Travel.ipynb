{
 "cells": [
  {
   "cell_type": "markdown",
   "id": "8bb07176-cfb8-4f3e-80c6-559680a3b47b",
   "metadata": {},
   "source": [
    "# Overview"
   ]
  },
  {
   "cell_type": "markdown",
   "id": "d1f716d2-aaf3-47fe-9ba1-1ddee7f5c1cb",
   "metadata": {},
   "source": [
    "In February 19, 2019, Databricks [announced](https://databricks.com/blog/2019/02/04/introducing-delta-time-travel-for-large-scale-data-lakes.html) the release of the time travel feature. \n",
    "\n",
    "> With this new feature, Delta automatically versions the big data that you store in your data lake, and you can access any historical version of that data. This temporal data management simplifies your data pipeline by making it easy to audit, roll back data in case of accidental bad writes or deletes, and reproduce experiments and reports. Your organization can finally standardize on a clean, centralized,  versioned big data repository in your own cloud storage for your analytics.\n",
    "\n",
    "In this notebook we will explore this feature as well as the problems it is looking to solve."
   ]
  },
  {
   "cell_type": "markdown",
   "id": "e316141e-0970-4052-8ccf-8c4fd0259e12",
   "metadata": {},
   "source": [
    "# 1. Challenges Being Addressed\n",
    "\n",
    "## 1.1. Audit data changes\n",
    "Auditing data changes is critical from both in terms of data compliance as well as simple debugging to understand how data has changed over time. Traditionally the audit was tightly coupled with the pipelines responsible for delivering the data. This feature standardizes the audit regardless of how the data got into the data lake.\n",
    "\n",
    "## 1.2. Reproduce experiments & reports\n",
    "During model training, data scientists run various experiments with different parameters on a given set of data. When scientists revisit their experiments after a period of time to reproduce the models, typically the source data has been modified by upstream pipelines. Lot of times, they are caught unaware by such upstream data changes and hence struggle to reproduce their experiments. Some scientists and organizations engineer best practices by creating multiple copies of the data, leading to increased storage costs. The same is true for analysts generating reports.\n",
    "\n",
    "## 1.3. Rollbacks\n",
    "Data pipelines can sometimes write bad data for downstream consumers. This can happen because of issues ranging from infrastructure instabilities to messy data to bugs in the pipeline. For pipelines that do simple appends to directories or a table, rollbacks can easily be addressed by date-based partitioning. With updates and deletes, this can become very complicated, and data engineers typically have to engineer a complex pipeline to deal with such scenarios. This is no longer the case with time travel."
   ]
  },
  {
   "cell_type": "markdown",
   "id": "c5424b5f-7f12-4621-b0be-a0d58a4a7401",
   "metadata": {},
   "source": [
    "# 2. Under The Hood: How does time travel work?"
   ]
  },
  {
   "cell_type": "markdown",
   "id": "073f3b3c-db80-4f04-9655-db6e44257cff",
   "metadata": {},
   "source": [
    "As you write into a Delta table or directory, every operation is automatically versioned. And deltalake provides you with an API for accessing data as of a specified timestamp. But how does this work under the hood?\n",
    "\n",
    "## 2.1. A Brief Explanation\n",
    "A great video can be found [here](https://www.youtube.com/watch?v=o-zcZvfSUyIhttps://www.youtube.com/watch?v=o-zcZvfSUyI)\n",
    "\n",
    "In short, we can think of a delta table as the result of applying a sequence of changes. We will see that a delta table is not a file, but a directory structure. When we load a table into memory we are actually assembling the table from data files stored in the directory.\n",
    "\n",
    "As such, when we perform operations on the delta table (i.e. store a snapshot of the state of a spark dataframe), we see the files inthis dirctory are modified. \n",
    "\n",
    "The delta table directory contains several types of files\n",
    "1. Compressed parquet files\n",
    "2. Checksums to validate the parwuet files\n",
    "3. Transaction logs\n",
    "4. Checkpoint files (cached state to improve computational efficiency)\n",
    "\n",
    "The delta table has a log directory which stores json log files which record operations beind performed on the delta table. These operations describe how we transform the data from one state to another state. The operations can be categorized as follows:\n",
    "- update metadata\n",
    "- add parquet file\n",
    "- remove parquet file\n",
    "- set transaction (record idempotent transaction id)\n",
    "- change transaction protocol version\n",
    "\n",
    "This log directory is extremely important because it is what provides the information for calculating versions and of data and their coresponding timestamps. The log directory consists of transaction files, each transaction file pertains to a specific version of data. File '00000000000000000000.json' coresponds to version 0 while file '00000000000000000000.json' coresponds to version 1 of the delta table. Each transaction file has a modified data assigned by the operating system. This timestamp attaches a datatime to our version.\n",
    "\n",
    "Below we can see an example detlat table which i have stored in the `data/time-travel-demo.delta` directory\n",
    "\n",
    "```\n",
    "[root@pc]# tree data/time-travel-demo.delta\n",
    "data/time-travel-demo.delta/\n",
    "|-- _delta_log\n",
    "|   |-- 00000000000000000000.json\n",
    "|   `-- 00000000000000000001.json\n",
    "|-- part-00000-41e1a8cd-15d5-4263-9413-f649ad1d51da-c000.snappy.parquet\n",
    "`-- part-00000-e8891ae6-e9d4-449a-8531-de44d41f7669-c000.snappy.parquetdata\n",
    "```\n",
    "\n",
    "We see that the directory is filled with files (the crc files are hidden)\n",
    "\n",
    "```\n",
    "[root@pc]# ls -la data/time-travel-demo.delta/\n",
    "\n",
    "total 3\n",
    "drwxr-xr-x 1 root root   5 May 20 19:29 .\n",
    "drwxr-xr-x 1 root root   2 May 20 18:42 ..\n",
    "-rw-r--r-- 1 root root  16 May 20 18:42 .part-00000-41e1a8cd-15d5-4263-9413-f649ad1d51da-c000.snappy.parquet.crc\n",
    "-rw-r--r-- 1 root root  16 May 20 19:29 .part-00000-e8891ae6-e9d4-449a-8531-de44d41f7669-c000.snappy.parquet.crc\n",
    "drwxr-xr-x 1 root root   2 May 20 19:29 _delta_log\n",
    "-rw-r--r-- 1 root root 735 May 20 18:42 part-00000-41e1a8cd-15d5-4263-9413-f649ad1d51da-c000.snappy.parquet\n",
    "-rw-r--r-- 1 root root 946 May 20 19:29 part-00000-e8891ae6-e9d4-449a-8531-de44d41f7669-c000.snappy.parquet\n",
    "```\n",
    "\n",
    "And we can get the timestamp for the modification of the file\n",
    "\n",
    "```\n",
    "[root@pc]# stat data/time-travel-demo.delta/_delta_log/*\n",
    "\n",
    "  File: 'data/time-travel-demo.delta/_delta_log/00000000000000000000.json'\n",
    "  Size: 819       \tBlocks: 2          IO Block: 262144 regular file\n",
    "Device: 44h/68d\tInode: 1099511789237  Links: 1\n",
    "Access: (0644/-rw-r--r--)  Uid: (    0/    root)   Gid: (    0/    root)\n",
    "Access: 2022-05-20 18:42:13.100546536 +0000\n",
    "Modify: 2022-05-20 18:42:13.341529695 +0000\n",
    "Change: 2022-05-20 18:42:13.691505237 +0000\n",
    " Birth: -\n",
    "  File: 'data/time-travel-demo.delta/_delta_log/00000000000000000001.json'\n",
    "  Size: 1049      \tBlocks: 3          IO Block: 262144 regular file\n",
    "Device: 44h/68d\tInode: 1099511789264  Links: 1\n",
    "Access: (0644/-rw-r--r--)  Uid: (    0/    root)   Gid: (    0/    root)\n",
    "Access: 2022-05-20 19:29:50.672776623 +0000\n",
    "Modify: 2022-05-20 19:29:51.389726484 +0000\n",
    "Change: 2022-05-20 19:29:51.526716905 +0000\n",
    " Birth: -  \n",
    " ```\n",
    " \n",
    "**Note**: While delta lake does use this modification timestamp to attach a timestamp to a version number, it is not exact. We will see that timestamps for version numbers only takethe first three digits of the microsecond field. In this example we would see a timestamp of '2022-05-20 19:29:51.389' attached to version 1. \n",
    "\n",
    "**Note**: If the filesystem timestamps get messed up or out of order, delta lake will add one milisecond to the previoustimestamp to compute a new timestamp for a version. So the filesystem timestamps may not always line up.\n",
    "\n",
    "We will see that deltalake provides a utility for calculating the timestamps ov each version so we dont have to worry!"
   ]
  },
  {
   "cell_type": "markdown",
   "id": "a7e87fda-834c-4c1e-bb10-85f1b6236842",
   "metadata": {},
   "source": [
    "## 2.1. Fire up spark\n",
    "We assume you already have a working spark implimentation and you have already installed the delta pip package."
   ]
  },
  {
   "cell_type": "code",
   "execution_count": 85,
   "id": "d5e6ec10-86b5-45ec-88ad-7710f5e3ed11",
   "metadata": {},
   "outputs": [],
   "source": [
    "import pyspark\n",
    "import delta\n",
    "sparkConf = pyspark.SparkConf()\n",
    "sparkConf.setAppName(\"delta-time-travel-demo\")\n",
    "sparkConf.set(\"spark.sql.extensions\", \"io.delta.sql.DeltaSparkSessionExtension\")\n",
    "sparkConf.set(\"spark.sql.catalog.spark_catalog\", \"org.apache.spark.sql.delta.catalog.DeltaCatalog\")\n",
    "sparkConf.set(\"spark.databricks.delta.stateReconstructionValidation.enabled\", \"false\")\n",
    "sparkSessionBuilder = pyspark.sql.SparkSession.builder.config(conf=sparkConf)\n",
    "sparkSession = delta.configure_spark_with_delta_pip(sparkSessionBuilder).getOrCreate()"
   ]
  },
  {
   "cell_type": "markdown",
   "id": "5fbe2bb3-a7ac-4e2f-b8ba-5bd52f40985e",
   "metadata": {},
   "source": [
    "## 2.2. Write data and observe changes"
   ]
  },
  {
   "cell_type": "code",
   "execution_count": 124,
   "id": "51974ea8-ef38-4d89-969a-b9f7ccde02e9",
   "metadata": {},
   "outputs": [
    {
     "name": "stdout",
     "output_type": "stream",
     "text": [
      "+---+---+\n",
      "|  A|  B|\n",
      "+---+---+\n",
      "|  1|  6|\n",
      "|  2|  7|\n",
      "|  3|  8|\n",
      "|  4|  9|\n",
      "|  5| 10|\n",
      "+---+---+\n",
      "\n"
     ]
    }
   ],
   "source": [
    "import pandas\n",
    "pandas_df = pandas.DataFrame({\n",
    "    \"A\": [1,2,3,4,5],\n",
    "    \"B\": [6,7,8,9,10],\n",
    "})\n",
    "spark_df = sparkSession.createDataFrame(pandas_df)\n",
    "spark_df.show()"
   ]
  },
  {
   "cell_type": "markdown",
   "id": "b29c2ae3-1e92-4d1a-a8a0-160056e14c1d",
   "metadata": {},
   "source": [
    " Before writing our data we have a look at our data directory and see that it is empty"
   ]
  },
  {
   "cell_type": "code",
   "execution_count": 78,
   "id": "1241bdc0-c4dd-40e2-9f39-a806f2d7e2ff",
   "metadata": {},
   "outputs": [
    {
     "name": "stdout",
     "output_type": "stream",
     "text": [
      "total 1\n",
      "drwxr-xr-x 1 root root 2 May 20 18:21 .\n",
      "drwxr-xr-x 1 root root 5 May 20 18:37 ..\n",
      "-rw-r--r-- 1 root root 2 May 20 18:18 .gitignore\n",
      "drwxr-xr-x 1 root root 3 May 20 18:21 time-travel-demo.delta\n"
     ]
    }
   ],
   "source": [
    "! ls -la data"
   ]
  },
  {
   "cell_type": "markdown",
   "id": "a50b121d-75db-4dae-b92d-db78e226aa3e",
   "metadata": {},
   "source": [
    "We now write the data as a delta table"
   ]
  },
  {
   "cell_type": "code",
   "execution_count": 154,
   "id": "8c587c58-b43d-406d-ac55-fb2c8d3828b0",
   "metadata": {},
   "outputs": [],
   "source": [
    "delta_table_path = \"data/time-travel-demo.delta\""
   ]
  },
  {
   "cell_type": "code",
   "execution_count": 90,
   "id": "45a768cf-3856-4c59-b8dd-2092836e4640",
   "metadata": {},
   "outputs": [
    {
     "name": "stderr",
     "output_type": "stream",
     "text": [
      "                                                                                \r"
     ]
    }
   ],
   "source": [
    "spark_df.write.format(\"delta\").save(delta_table_path)"
   ]
  },
  {
   "cell_type": "markdown",
   "id": "cd28f744-7e48-4cf6-b266-ff02965cfedf",
   "metadata": {},
   "source": [
    "We again observe our directory"
   ]
  },
  {
   "cell_type": "code",
   "execution_count": 91,
   "id": "21f86af8-0a35-43ba-a2bd-7272279ef17f",
   "metadata": {},
   "outputs": [
    {
     "name": "stdout",
     "output_type": "stream",
     "text": [
      "data\n",
      "`-- time-travel-demo.delta\n",
      "    |-- _delta_log\n",
      "    |   `-- 00000000000000000000.json\n",
      "    `-- part-00000-41e1a8cd-15d5-4263-9413-f649ad1d51da-c000.snappy.parquet\n",
      "\n",
      "2 directories, 2 files\n"
     ]
    }
   ],
   "source": [
    "! tree data"
   ]
  },
  {
   "cell_type": "code",
   "execution_count": 171,
   "id": "b751eea4-40ce-4fef-aad4-5d059c1a51e7",
   "metadata": {},
   "outputs": [],
   "source": [
    "import json\n",
    "import pyprojroot\n",
    "import os\n",
    "\n",
    "def load_delta_log(log_file_path):\n",
    "    with open(log_file_path, \"r\") as file:\n",
    "        lines = file.readlines()\n",
    "        proper_json = \"[\" + \",\".join(lines) + \"]\"\n",
    "        d = json.loads(proper_json)\n",
    "        return d"
   ]
  },
  {
   "cell_type": "code",
   "execution_count": 179,
   "id": "081a7219-77fc-4637-9215-f9ac38f6cb58",
   "metadata": {},
   "outputs": [
    {
     "name": "stdout",
     "output_type": "stream",
     "text": [
      "[\n",
      "    {\n",
      "        \"commitInfo\": {\n",
      "            \"timestamp\": 1653072133086,\n",
      "            \"operation\": \"WRITE\",\n",
      "            \"operationParameters\": {\n",
      "                \"mode\": \"ErrorIfExists\",\n",
      "                \"partitionBy\": \"[]\"\n",
      "            },\n",
      "            \"isBlindAppend\": true,\n",
      "            \"operationMetrics\": {\n",
      "                \"numFiles\": \"1\",\n",
      "                \"numOutputBytes\": \"735\",\n",
      "                \"numOutputRows\": \"5\"\n",
      "            }\n",
      "        }\n",
      "    },\n",
      "    {\n",
      "        \"protocol\": {\n",
      "            \"minReaderVersion\": 1,\n",
      "            \"minWriterVersion\": 2\n",
      "        }\n",
      "    },\n",
      "    {\n",
      "        \"metaData\": {\n",
      "            \"id\": \"3af5efe7-073f-4692-9e7b-51d76ced0146\",\n",
      "            \"format\": {\n",
      "                \"provider\": \"parquet\",\n",
      "                \"options\": {}\n",
      "            },\n",
      "            \"schemaString\": \"{\\\"type\\\":\\\"struct\\\",\\\"fields\\\":[{\\\"name\\\":\\\"A\\\",\\\"type\\\":\\\"long\\\",\\\"nullable\\\":true,\\\"metadata\\\":{}},{\\\"name\\\":\\\"B\\\",\\\"type\\\":\\\"long\\\",\\\"nullable\\\":true,\\\"metadata\\\":{}}]}\",\n",
      "            \"partitionColumns\": [],\n",
      "            \"configuration\": {},\n",
      "            \"createdTime\": 1653072132288\n",
      "        }\n",
      "    },\n",
      "    {\n",
      "        \"add\": {\n",
      "            \"path\": \"part-00000-41e1a8cd-15d5-4263-9413-f649ad1d51da-c000.snappy.parquet\",\n",
      "            \"partitionValues\": {},\n",
      "            \"size\": 735,\n",
      "            \"modificationTime\": 1653072132985,\n",
      "            \"dataChange\": true\n",
      "        }\n",
      "    }\n",
      "]\n"
     ]
    }
   ],
   "source": [
    "log_file_path = os.path.join(delta_table_path, \"_delta_log\",\"00000000000000000000.json\") \n",
    "print(json.dumps(load_delta_log(log_file_path), indent=4))"
   ]
  },
  {
   "cell_type": "markdown",
   "id": "91644560-7051-46fa-9054-820488604217",
   "metadata": {},
   "source": [
    "It's important to understand the data written in this file. We have a list of dictionaries. The first pertains to commits. These are effectively our shapshots and we can see a section for add which tells us that a new part was added to the table."
   ]
  },
  {
   "cell_type": "markdown",
   "id": "cd8305aa-f0a8-492b-a797-29afeb46957a",
   "metadata": {},
   "source": [
    "We now modify our data and again write our data to the delta lake"
   ]
  },
  {
   "cell_type": "code",
   "execution_count": 150,
   "id": "7d231526-7c55-40e7-ad75-42638ac4f726",
   "metadata": {},
   "outputs": [
    {
     "name": "stdout",
     "output_type": "stream",
     "text": [
      "+---+---+---+\n",
      "|  A|  B|  C|\n",
      "+---+---+---+\n",
      "|  1|  6| 11|\n",
      "|  2|  7| 12|\n",
      "|  3|  8| 13|\n",
      "|  4|  9| 14|\n",
      "|  5| 10| 15|\n",
      "+---+---+---+\n",
      "\n"
     ]
    }
   ],
   "source": [
    "from pyspark.sql.functions import monotonically_increasing_id, row_number, udf\n",
    "from pyspark.sql.types import IntegerType\n",
    "\n",
    "C = [11,12,13,14,15]\n",
    "spark_udf = udf(lambda i: C[i -1], IntegerType())\n",
    "new_spark_df = spark_df.withColumn(\"C\", spark_udf('A'))\n",
    "new_spark_df.show()"
   ]
  },
  {
   "cell_type": "code",
   "execution_count": 156,
   "id": "085b1a1b-4a60-492a-8ed2-7652d2b9cccc",
   "metadata": {},
   "outputs": [
    {
     "name": "stdout",
     "output_type": "stream",
     "text": [
      "total 2\n",
      "drwxr-xr-x 1 root root   3 May 20 18:42 .\n",
      "drwxr-xr-x 1 root root   2 May 20 18:42 ..\n",
      "-rw-r--r-- 1 root root  16 May 20 18:42 .part-00000-41e1a8cd-15d5-4263-9413-f649ad1d51da-c000.snappy.parquet.crc\n",
      "drwxr-xr-x 1 root root   1 May 20 18:42 _delta_log\n",
      "-rw-r--r-- 1 root root 735 May 20 18:42 part-00000-41e1a8cd-15d5-4263-9413-f649ad1d51da-c000.snappy.parquet\n"
     ]
    }
   ],
   "source": [
    "! ls -la data/time-travel-demo.delta/"
   ]
  },
  {
   "cell_type": "code",
   "execution_count": 163,
   "id": "e47d0319-086b-4057-bedd-83adb6efa0ca",
   "metadata": {},
   "outputs": [
    {
     "name": "stderr",
     "output_type": "stream",
     "text": [
      "                                                                                \r"
     ]
    }
   ],
   "source": [
    "new_spark_df\\\n",
    "  .write\\\n",
    "  .format(\"delta\")\\\n",
    "  .mode(\"overwrite\")\\\n",
    "  .option(\"overwriteSchema\", \"true\")\\\n",
    "  .save(delta_table_path)"
   ]
  },
  {
   "cell_type": "code",
   "execution_count": 168,
   "id": "4077e048-e0c5-4e50-bd9c-df52b178b5da",
   "metadata": {},
   "outputs": [
    {
     "name": "stdout",
     "output_type": "stream",
     "text": [
      "data/time-travel-demo.delta/\n",
      "|-- _delta_log\n",
      "|   |-- 00000000000000000000.json\n",
      "|   `-- 00000000000000000001.json\n",
      "|-- part-00000-41e1a8cd-15d5-4263-9413-f649ad1d51da-c000.snappy.parquet\n",
      "`-- part-00000-e8891ae6-e9d4-449a-8531-de44d41f7669-c000.snappy.parquet\n",
      "\n",
      "1 directory, 4 files\n"
     ]
    }
   ],
   "source": [
    "! tree data/time-travel-demo.delta/"
   ]
  },
  {
   "cell_type": "markdown",
   "id": "9a0d2dce-6a67-4e35-b824-d6b6f64fd50e",
   "metadata": {},
   "source": [
    "We can see a new part has now shown up in the log directory. If we look at the log, we can see more entries than just an add (we see an add and a remove operation)."
   ]
  },
  {
   "cell_type": "code",
   "execution_count": 181,
   "id": "5bea3d5d-e6f2-493a-a6fc-a460437e819c",
   "metadata": {},
   "outputs": [
    {
     "name": "stdout",
     "output_type": "stream",
     "text": [
      "[\n",
      "    {\n",
      "        \"commitInfo\": {\n",
      "            \"timestamp\": 1653074990646,\n",
      "            \"operation\": \"WRITE\",\n",
      "            \"operationParameters\": {\n",
      "                \"mode\": \"Overwrite\",\n",
      "                \"partitionBy\": \"[]\"\n",
      "            },\n",
      "            \"readVersion\": 0,\n",
      "            \"isBlindAppend\": false,\n",
      "            \"operationMetrics\": {\n",
      "                \"numFiles\": \"1\",\n",
      "                \"numOutputBytes\": \"946\",\n",
      "                \"numOutputRows\": \"5\"\n",
      "            }\n",
      "        }\n",
      "    },\n",
      "    {\n",
      "        \"metaData\": {\n",
      "            \"id\": \"3af5efe7-073f-4692-9e7b-51d76ced0146\",\n",
      "            \"format\": {\n",
      "                \"provider\": \"parquet\",\n",
      "                \"options\": {}\n",
      "            },\n",
      "            \"schemaString\": \"{\\\"type\\\":\\\"struct\\\",\\\"fields\\\":[{\\\"name\\\":\\\"A\\\",\\\"type\\\":\\\"long\\\",\\\"nullable\\\":true,\\\"metadata\\\":{}},{\\\"name\\\":\\\"B\\\",\\\"type\\\":\\\"long\\\",\\\"nullable\\\":true,\\\"metadata\\\":{}},{\\\"name\\\":\\\"C\\\",\\\"type\\\":\\\"integer\\\",\\\"nullable\\\":true,\\\"metadata\\\":{}}]}\",\n",
      "            \"partitionColumns\": [],\n",
      "            \"configuration\": {},\n",
      "            \"createdTime\": 1653072132288\n",
      "        }\n",
      "    },\n",
      "    {\n",
      "        \"add\": {\n",
      "            \"path\": \"part-00000-e8891ae6-e9d4-449a-8531-de44d41f7669-c000.snappy.parquet\",\n",
      "            \"partitionValues\": {},\n",
      "            \"size\": 946,\n",
      "            \"modificationTime\": 1653074988956,\n",
      "            \"dataChange\": true\n",
      "        }\n",
      "    },\n",
      "    {\n",
      "        \"remove\": {\n",
      "            \"path\": \"part-00000-41e1a8cd-15d5-4263-9413-f649ad1d51da-c000.snappy.parquet\",\n",
      "            \"deletionTimestamp\": 1653074990645,\n",
      "            \"dataChange\": true,\n",
      "            \"extendedFileMetadata\": true,\n",
      "            \"partitionValues\": {},\n",
      "            \"size\": 735\n",
      "        }\n",
      "    }\n",
      "]\n"
     ]
    }
   ],
   "source": [
    "log_file_path = os.path.join(delta_table_path, \"_delta_log\",\"00000000000000000001.json\") \n",
    "log = load_delta_log(log_file_path)\n",
    "print(json.dumps(log, indent=4))"
   ]
  },
  {
   "cell_type": "markdown",
   "id": "fbd400b5-71c6-4e5b-86a1-ec2dbe2039f0",
   "metadata": {},
   "source": [
    "Looking closely we can see that a part was removed from the table (the part we added in the first transaction file) and a new part was added."
   ]
  },
  {
   "cell_type": "markdown",
   "id": "12b502de-9d80-4f1e-8d0f-d2da20b7f0d0",
   "metadata": {},
   "source": [
    "We can also see timestamps associated with each operation (modificationTime for add and deletionTimestamp for remove operations) as well as a timestamp for the entire atomic operation (commitInfo) and a timestamp for the metadata. We "
   ]
  },
  {
   "cell_type": "markdown",
   "id": "bd011f0d-0b3f-4239-8322-9a8227521b34",
   "metadata": {},
   "source": [
    "## 2.3. Load timestamps for operations from log"
   ]
  },
  {
   "cell_type": "markdown",
   "id": "b5671307-0e24-4920-ba96-d928404d1037",
   "metadata": {},
   "source": [
    "Timestamps are somewhat difficult to interpret. We will load the timestamps into datetime objects so they are more human friendly and so we can see what is going on."
   ]
  },
  {
   "cell_type": "code",
   "execution_count": 314,
   "id": "bf7eefe0-ad46-4935-b554-926104dfc1fd",
   "metadata": {},
   "outputs": [
    {
     "name": "stdout",
     "output_type": "stream",
     "text": [
      "v0 Info:\n",
      "Commit: 2022-05-20 18:42:13.086000\n",
      "Add: 2022-05-20 18:42:12.985000\n",
      "Creation: 2022-05-20 18:42:12.288000\n",
      "\n",
      "v1 Info:\n",
      "Commit: 2022-05-20 19:29:50.646000\n",
      "Add: 2022-05-20 19:29:48.956000\n",
      "Remove: 2022-05-20 19:29:50.645000\n",
      "Creation: 2022-05-20 18:42:12.288000\n"
     ]
    }
   ],
   "source": [
    "import datetime\n",
    "\n",
    "log0 = load_delta_log(os.path.join(delta_table_path, \"_delta_log\",\"00000000000000000000.json\"))\n",
    "\n",
    "log0_commit_info = log0[0][\"commitInfo\"]\n",
    "log0_commit_info_timestamp = log0_commit_info[\"timestamp\"]\n",
    "log0_commit_info_dt = datetime.datetime.fromtimestamp(log0_commit_info_timestamp/ 1e3)\n",
    "\n",
    "log0_metadata_info = log0[2][\"metaData\"]\n",
    "log0_metadata_info_timestamp = log0_metadata_info[\"createdTime\"]\n",
    "log0_metadata_info_dt = datetime.datetime.fromtimestamp(log0_metadata_info_timestamp/ 1e3)\n",
    "\n",
    "log0_add_info = log0[3][\"add\"][\"modificationTime\"]\n",
    "log0_add_info_dt = datetime.datetime.fromtimestamp(log0_add_info_timestamp/ 1e3)\n",
    "\n",
    "log1 = load_delta_log(os.path.join(delta_table_path, \"_delta_log\",\"00000000000000000001.json\"))\n",
    "\n",
    "log1_commit_info = log1[0][\"commitInfo\"]\n",
    "log1_commit_info_timestamp = log1_commit_info[\"timestamp\"]\n",
    "log1_commit_info_dt = datetime.datetime.fromtimestamp(log1_commit_info_timestamp/ 1e3)\n",
    "\n",
    "log1_metadata_info = log1[1][\"metaData\"]\n",
    "log1_metadata_info_timestamp = log1_metadata_info[\"createdTime\"]\n",
    "log1_metadata_info_dt = datetime.datetime.fromtimestamp(log0_metadata_info_timestamp/ 1e3)\n",
    "\n",
    "log1_add_info = log1[2][\"add\"]\n",
    "log1_add_info_timestamp = log1_add_info[\"modificationTime\"]\n",
    "log1_add_info_dt = datetime.datetime.fromtimestamp(log1_add_info_timestamp/ 1e3)\n",
    "\n",
    "log1_remove_info = log1[3][\"remove\"]\n",
    "log1_remove_info_timestamp = log1_remove_info[\"deletionTimestamp\"]\n",
    "log1_remove_info_dt = datetime.datetime.fromtimestamp(log1_remove_info_timestamp/ 1e3)\n",
    "\n",
    "print(\"v0 Info:\")\n",
    "print(f\"Commit: {log0_commit_info_dt}\")\n",
    "print(f\"Add: {log0_add_info_dt}\")\n",
    "print(f\"Creation: {log0_metadata_info_dt}\")\n",
    "print(\"\")\n",
    "print(\"v1 Info:\")\n",
    "print(f\"Commit: {log1_commit_info_dt}\")\n",
    "print(f\"Add: {log1_add_info_dt}\")\n",
    "print(f\"Remove: {log1_remove_info_dt}\")\n",
    "print(f\"Creation: {log1_metadata_info_dt}\")\n",
    "\n"
   ]
  },
  {
   "cell_type": "markdown",
   "id": "116eb960-6233-4fdc-be98-b137e9307e4d",
   "metadata": {},
   "source": [
    "We can see that the timestamp from the commitInfo section occurs the latest which logically makes sense."
   ]
  },
  {
   "cell_type": "markdown",
   "id": "a8e7d019-c7a5-4314-b6db-5bb7c0de4fa0",
   "metadata": {},
   "source": [
    "# 3. The DeltaTable Object\n",
    "\n",
    "A caveat of inspecting the log is that the timestamps are not always useful for doing timetravel. There is some black magic potentially going on and thankfully delta lake provides many utility functions\n",
    "\n",
    "## 3.1. The history() function\n",
    "\n",
    "Deltalake provides a DeltaTable object which allows us to query metadata about the table, specifically the history."
   ]
  },
  {
   "cell_type": "code",
   "execution_count": 400,
   "id": "b97e15ef-ab95-4e6d-8d37-48d9316802ec",
   "metadata": {
    "tags": []
   },
   "outputs": [
    {
     "data": {
      "text/html": [
       "<div>\n",
       "<style scoped>\n",
       "    .dataframe tbody tr th:only-of-type {\n",
       "        vertical-align: middle;\n",
       "    }\n",
       "\n",
       "    .dataframe tbody tr th {\n",
       "        vertical-align: top;\n",
       "    }\n",
       "\n",
       "    .dataframe thead th {\n",
       "        text-align: right;\n",
       "    }\n",
       "</style>\n",
       "<table border=\"1\" class=\"dataframe\">\n",
       "  <thead>\n",
       "    <tr style=\"text-align: right;\">\n",
       "      <th></th>\n",
       "      <th>version</th>\n",
       "      <th>timestamp</th>\n",
       "      <th>userId</th>\n",
       "      <th>userName</th>\n",
       "      <th>operation</th>\n",
       "      <th>operationParameters</th>\n",
       "      <th>job</th>\n",
       "      <th>notebook</th>\n",
       "      <th>clusterId</th>\n",
       "      <th>readVersion</th>\n",
       "      <th>isolationLevel</th>\n",
       "      <th>isBlindAppend</th>\n",
       "      <th>operationMetrics</th>\n",
       "      <th>userMetadata</th>\n",
       "    </tr>\n",
       "  </thead>\n",
       "  <tbody>\n",
       "    <tr>\n",
       "      <th>0</th>\n",
       "      <td>1</td>\n",
       "      <td>2022-05-20 19:29:51.389</td>\n",
       "      <td>None</td>\n",
       "      <td>None</td>\n",
       "      <td>WRITE</td>\n",
       "      <td>{'mode': 'Overwrite', 'partitionBy': '[]'}</td>\n",
       "      <td>None</td>\n",
       "      <td>None</td>\n",
       "      <td>None</td>\n",
       "      <td>0.0</td>\n",
       "      <td>None</td>\n",
       "      <td>False</td>\n",
       "      <td>{'numOutputRows': '5', 'numOutputBytes': '946'...</td>\n",
       "      <td>None</td>\n",
       "    </tr>\n",
       "    <tr>\n",
       "      <th>1</th>\n",
       "      <td>0</td>\n",
       "      <td>2022-05-20 18:42:13.341</td>\n",
       "      <td>None</td>\n",
       "      <td>None</td>\n",
       "      <td>WRITE</td>\n",
       "      <td>{'mode': 'ErrorIfExists', 'partitionBy': '[]'}</td>\n",
       "      <td>None</td>\n",
       "      <td>None</td>\n",
       "      <td>None</td>\n",
       "      <td>NaN</td>\n",
       "      <td>None</td>\n",
       "      <td>True</td>\n",
       "      <td>{'numOutputRows': '5', 'numOutputBytes': '735'...</td>\n",
       "      <td>None</td>\n",
       "    </tr>\n",
       "  </tbody>\n",
       "</table>\n",
       "</div>"
      ],
      "text/plain": [
       "   version               timestamp userId userName operation  \\\n",
       "0        1 2022-05-20 19:29:51.389   None     None     WRITE   \n",
       "1        0 2022-05-20 18:42:13.341   None     None     WRITE   \n",
       "\n",
       "                              operationParameters   job notebook clusterId  \\\n",
       "0      {'mode': 'Overwrite', 'partitionBy': '[]'}  None     None      None   \n",
       "1  {'mode': 'ErrorIfExists', 'partitionBy': '[]'}  None     None      None   \n",
       "\n",
       "   readVersion isolationLevel  isBlindAppend  \\\n",
       "0          0.0           None          False   \n",
       "1          NaN           None           True   \n",
       "\n",
       "                                    operationMetrics userMetadata  \n",
       "0  {'numOutputRows': '5', 'numOutputBytes': '946'...         None  \n",
       "1  {'numOutputRows': '5', 'numOutputBytes': '735'...         None  "
      ]
     },
     "execution_count": 400,
     "metadata": {},
     "output_type": "execute_result"
    }
   ],
   "source": [
    "from delta.tables import DeltaTable\n",
    "\n",
    "# Create a pointer tothe delta table (dont confuse with spark dataframe)\n",
    "deltaTable = DeltaTable.forPath(sparkSession, delta_table_path)\n",
    "\n",
    "# Get the history of the deltatable and store it as a dataframe\n",
    "dt_history_df = deltaTable.history()\n",
    "dt_history_pd_df = dt_history_df.toPandas()\n",
    "dt_history_pd_df"
   ]
  },
  {
   "cell_type": "code",
   "execution_count": 403,
   "id": "6f5621a7-6589-4cd4-99db-2063e2e9296e",
   "metadata": {},
   "outputs": [
    {
     "data": {
      "text/plain": [
       "version                         int64\n",
       "timestamp              datetime64[ns]\n",
       "userId                         object\n",
       "userName                       object\n",
       "operation                      object\n",
       "operationParameters            object\n",
       "job                            object\n",
       "notebook                       object\n",
       "clusterId                      object\n",
       "readVersion                   float64\n",
       "isolationLevel                 object\n",
       "isBlindAppend                    bool\n",
       "operationMetrics               object\n",
       "userMetadata                   object\n",
       "dtype: object"
      ]
     },
     "execution_count": 403,
     "metadata": {},
     "output_type": "execute_result"
    }
   ],
   "source": [
    "dt_history_pd_df.dtypes"
   ]
  },
  {
   "cell_type": "markdown",
   "id": "475e548b-befb-494e-b65d-13cf24d99600",
   "metadata": {},
   "source": [
    "This useful table will tie a version number to a datetime. It can also provide other userful describing the operation andthe user performing the operation. In our case, we see some information is missing. That will be discussed separaetely."
   ]
  },
  {
   "cell_type": "code",
   "execution_count": 419,
   "id": "b1a5b78a-630e-49f2-a800-09702a4f0c03",
   "metadata": {},
   "outputs": [
    {
     "data": {
      "text/plain": [
       "Timestamp('2022-05-20 19:29:51.389000')"
      ]
     },
     "execution_count": 419,
     "metadata": {},
     "output_type": "execute_result"
    }
   ],
   "source": [
    "v1_dt = dt_history_pd_df[dt_history_pd_df[\"version\"] == 1][\"timestamp\"].iloc[0]\n",
    "v1_dt"
   ]
  },
  {
   "cell_type": "code",
   "execution_count": 418,
   "id": "aa996401-643b-4d54-ae9a-78fc0c769fba",
   "metadata": {},
   "outputs": [
    {
     "data": {
      "text/plain": [
       "0"
      ]
     },
     "execution_count": 418,
     "metadata": {},
     "output_type": "execute_result"
    }
   ],
   "source": [
    "dt_history_pd_df[dt_history_pd_df[\"timestamp\"] < v1_dt.strftime('%Y-%m-%d %H:%M:%S.%f')][\"version\"].iloc[0]"
   ]
  },
  {
   "cell_type": "markdown",
   "id": "a6a36431-4c18-453b-b4de-9dd1d94334c5",
   "metadata": {},
   "source": [
    "# 3. Load Versioned Data\n",
    "In this section we will explore the ways in which we can load our data."
   ]
  },
  {
   "cell_type": "markdown",
   "id": "13303eb7-4a11-4a45-8bee-1c217860ec25",
   "metadata": {},
   "source": [
    "## 3.1. Load based on version number"
   ]
  },
  {
   "cell_type": "markdown",
   "id": "1c28f8fb-bcf4-497a-8d5d-ed4b1501d174",
   "metadata": {},
   "source": [
    "We saw the \\<version>.json file in the _delta_log directory. This allows us to load a given version via it's index"
   ]
  },
  {
   "cell_type": "code",
   "execution_count": 183,
   "id": "461c49b6-4295-422a-a151-e8e1d82f197d",
   "metadata": {},
   "outputs": [
    {
     "name": "stderr",
     "output_type": "stream",
     "text": [
      "[Stage 51:>                                                         (0 + 1) / 1]\r"
     ]
    },
    {
     "name": "stdout",
     "output_type": "stream",
     "text": [
      "+---+---+\n",
      "|  A|  B|\n",
      "+---+---+\n",
      "|  1|  6|\n",
      "|  2|  7|\n",
      "|  3|  8|\n",
      "|  4|  9|\n",
      "|  5| 10|\n",
      "+---+---+\n",
      "\n"
     ]
    },
    {
     "name": "stderr",
     "output_type": "stream",
     "text": [
      "                                                                                \r"
     ]
    }
   ],
   "source": [
    "sparkSession.read.format(\"delta\").option(\"versionAsOf\", 0).load(delta_table_path).show()"
   ]
  },
  {
   "cell_type": "code",
   "execution_count": 184,
   "id": "5eebce91-7d1c-410f-b767-f28d4dc02cb4",
   "metadata": {},
   "outputs": [
    {
     "name": "stdout",
     "output_type": "stream",
     "text": [
      "+---+---+---+\n",
      "|  A|  B|  C|\n",
      "+---+---+---+\n",
      "|  1|  6| 11|\n",
      "|  2|  7| 12|\n",
      "|  3|  8| 13|\n",
      "|  4|  9| 14|\n",
      "|  5| 10| 15|\n",
      "+---+---+---+\n",
      "\n"
     ]
    },
    {
     "name": "stderr",
     "output_type": "stream",
     "text": [
      "                                                                                \r"
     ]
    }
   ],
   "source": [
    "sparkSession.read.format(\"delta\").option(\"versionAsOf\", 1).load(delta_table_path).show()"
   ]
  },
  {
   "cell_type": "markdown",
   "id": "4fcc8210-cad4-483a-a15d-be3d3d1fa8a1",
   "metadata": {},
   "source": [
    "## 3.2. Load based on timestamp\n",
    "Loading data based on a version number is not that user friendly or intuitive so instead we will look at loading data based on a timestamp."
   ]
  },
  {
   "cell_type": "markdown",
   "id": "9b99d03e-dc0c-44ae-9d33-91516e0ae60d",
   "metadata": {},
   "source": [
    "**Note**: There is a limited band of time for which we can pull data as of. There is a minimum and maximum datetime. If we try to pull a datetime that is outside this band, we will see an error thrown which looks like this:\n",
    "```\n",
    "Py4JJavaError: An error occurred while calling o1083.load.\n",
    ": org.apache.spark.sql.delta.DeltaErrors$TimestampEarlierThanCommitRetentionException: The provided timestamp (2022-05-20 18:42:13.0) is before the earliest version available to this\n",
    "table (2022-05-20 18:42:13.341). Please use a timestamp after 2022-05-20 18:42:13.\n",
    "```\n",
    "\n",
    "\n",
    "``` \n",
    "Py4JJavaError: An error occurred while calling o1131.load.\n",
    ": org.apache.spark.sql.delta.DeltaErrors$TemporallyUnstableInputException: The provided timestamp: 2022-05-20 19:30:50.646 is after the latest commit timestamp of\n",
    "2022-05-20 19:29:51.389. If you wish to query this version of the table, please either provide\n",
    "the version with \"VERSION AS OF 1\" or use the exact timestamp\n",
    "of the last commit: \"TIMESTAMP AS OF '2022-05-20 19:29:51'\".\n",
    "```"
   ]
  },
  {
   "cell_type": "markdown",
   "id": "27f2c2fd-f4b0-43c3-8d68-a6478b394910",
   "metadata": {},
   "source": [
    "### 3.2.1. Load a hardcoded timestamp\n",
    "\n",
    "Note: I have seen many articles claiming that we must specify the timestamp in yyyyMMddHHmmssSSS format. This is not true as we will see."
   ]
  },
  {
   "cell_type": "markdown",
   "id": "96a0024f-ab87-4277-9e23-70af1d8b0ad5",
   "metadata": {},
   "source": [
    "First we review the timestamps in the log"
   ]
  },
  {
   "cell_type": "code",
   "execution_count": 315,
   "id": "d49d23bd-0a10-4e27-acbf-325b5c6f4e48",
   "metadata": {},
   "outputs": [
    {
     "name": "stdout",
     "output_type": "stream",
     "text": [
      "v0 Info:\n",
      "Commit: 2022-05-20 18:42:13.086000\n",
      "Add: 2022-05-20 18:42:12.985000\n",
      "Creation: 2022-05-20 18:42:12.288000\n",
      "\n",
      "v1 Info:\n",
      "Commit: 2022-05-20 19:29:50.646000\n",
      "Add: 2022-05-20 19:29:48.956000\n",
      "Remove: 2022-05-20 19:29:50.645000\n",
      "Creation: 2022-05-20 18:42:12.288000\n"
     ]
    }
   ],
   "source": [
    "print(\"v0 Info:\")\n",
    "print(f\"Commit: {log0_commit_info_dt}\")\n",
    "print(f\"Add: {log0_add_info_dt}\")\n",
    "print(f\"Creation: {log0_metadata_info_dt}\")\n",
    "print(\"\")\n",
    "print(\"v1 Info:\")\n",
    "print(f\"Commit: {log1_commit_info_dt}\")\n",
    "print(f\"Add: {log1_add_info_dt}\")\n",
    "print(f\"Remove: {log1_remove_info_dt}\")\n",
    "print(f\"Creation: {log1_metadata_info_dt}\")"
   ]
  },
  {
   "cell_type": "markdown",
   "id": "52ad3c10-7520-476e-9875-42b3a19bc7d7",
   "metadata": {},
   "source": [
    "#### 3.2.1.1. Notes on min and max"
   ]
  },
  {
   "cell_type": "code",
   "execution_count": 371,
   "id": "bfbb0569-a020-45ce-84f5-86921de3c7c4",
   "metadata": {},
   "outputs": [],
   "source": [
    "min_datetime_str = \"2022-05-20 18:42:13.341\"\n",
    "max_datetime_str = \"2022-05-20 19:29:51.389\""
   ]
  },
  {
   "cell_type": "code",
   "execution_count": 383,
   "id": "ba064d3c-7a58-4adf-80e0-689603c0b1c2",
   "metadata": {},
   "outputs": [
    {
     "data": {
      "text/plain": [
       "datetime.timedelta(microseconds=255000)"
      ]
     },
     "execution_count": 383,
     "metadata": {},
     "output_type": "execute_result"
    }
   ],
   "source": [
    "min_dt = datetime.datetime.strptime(min_datetime_str, '%Y-%m-%d %H:%M:%S.%f')\n",
    "min_dt_increment = (min_dt - log0_commit_info_dt)\n",
    "min_dt_increment"
   ]
  },
  {
   "cell_type": "code",
   "execution_count": 385,
   "id": "9edb4ec7-d9c3-4fb3-b42d-9dc4a510451d",
   "metadata": {},
   "outputs": [
    {
     "data": {
      "text/plain": [
       "datetime.timedelta(microseconds=743000)"
      ]
     },
     "execution_count": 385,
     "metadata": {},
     "output_type": "execute_result"
    }
   ],
   "source": [
    "max_dt = datetime.datetime.strptime(max_datetime_str, '%Y-%m-%d %H:%M:%S.%f')\n",
    "max_dt_increment = (max_dt - log1_commit_info_dt)\n",
    "max_dt_increment"
   ]
  },
  {
   "cell_type": "markdown",
   "id": "561e428e-fe2a-4349-885d-9903e8890f7d",
   "metadata": {},
   "source": [
    "#### 3.2.1.2. Exploring when data changes"
   ]
  },
  {
   "cell_type": "code",
   "execution_count": 374,
   "id": "816075dd-06e0-4f54-834c-88b7f8444176",
   "metadata": {},
   "outputs": [
    {
     "name": "stderr",
     "output_type": "stream",
     "text": [
      "                                                                                \r"
     ]
    },
    {
     "name": "stdout",
     "output_type": "stream",
     "text": [
      "+---+---+\n",
      "|  A|  B|\n",
      "+---+---+\n",
      "|  1|  6|\n",
      "|  2|  7|\n",
      "|  3|  8|\n",
      "|  4|  9|\n",
      "|  5| 10|\n",
      "+---+---+\n",
      "\n"
     ]
    }
   ],
   "source": [
    "sparkSession.read \\\n",
    "  .format(\"delta\") \\\n",
    "  .option(\"timestampAsOf\", min_datetime_str) \\\n",
    "  .load(delta_table_path).show()"
   ]
  },
  {
   "cell_type": "code",
   "execution_count": 375,
   "id": "19e67b5e-ba0e-4cb6-9be5-4ced52dc82c5",
   "metadata": {},
   "outputs": [
    {
     "name": "stderr",
     "output_type": "stream",
     "text": [
      "                                                                                \r"
     ]
    },
    {
     "name": "stdout",
     "output_type": "stream",
     "text": [
      "+---+---+\n",
      "|  A|  B|\n",
      "+---+---+\n",
      "|  1|  6|\n",
      "|  2|  7|\n",
      "|  3|  8|\n",
      "|  4|  9|\n",
      "|  5| 10|\n",
      "+---+---+\n",
      "\n"
     ]
    }
   ],
   "source": [
    "sparkSession.read \\\n",
    "  .format(\"delta\") \\\n",
    "  .option(\"timestampAsOf\", log1_commit_info_dt) \\\n",
    "  .load(delta_table_path).show()"
   ]
  },
  {
   "cell_type": "code",
   "execution_count": 390,
   "id": "babdad1b-16a3-432f-a025-6a52c436741f",
   "metadata": {},
   "outputs": [
    {
     "name": "stderr",
     "output_type": "stream",
     "text": [
      "                                                                                \r"
     ]
    },
    {
     "name": "stdout",
     "output_type": "stream",
     "text": [
      "+---+---+\n",
      "|  A|  B|\n",
      "+---+---+\n",
      "|  1|  6|\n",
      "|  2|  7|\n",
      "|  3|  8|\n",
      "|  4|  9|\n",
      "|  5| 10|\n",
      "+---+---+\n",
      "\n"
     ]
    },
    {
     "name": "stderr",
     "output_type": "stream",
     "text": [
      "                                                                                \r"
     ]
    }
   ],
   "source": [
    "tmp = max_dt - datetime.timedelta(microseconds=1)\n",
    "\n",
    "sparkSession.read \\\n",
    "  .format(\"delta\") \\\n",
    "  .option(\"timestampAsOf\", tmp.strftime('%Y-%m-%d %H:%M:%S.%f')) \\\n",
    "  .load(delta_table_path).show()"
   ]
  },
  {
   "cell_type": "code",
   "execution_count": 391,
   "id": "a3f4a8bd-d9a3-48e6-a396-018a4b6b55c8",
   "metadata": {},
   "outputs": [
    {
     "name": "stderr",
     "output_type": "stream",
     "text": [
      "[Stage 191:===================================================>   (47 + 1) / 50]\r"
     ]
    },
    {
     "name": "stdout",
     "output_type": "stream",
     "text": [
      "+---+---+---+\n",
      "|  A|  B|  C|\n",
      "+---+---+---+\n",
      "|  1|  6| 11|\n",
      "|  2|  7| 12|\n",
      "|  3|  8| 13|\n",
      "|  4|  9| 14|\n",
      "|  5| 10| 15|\n",
      "+---+---+---+\n",
      "\n"
     ]
    },
    {
     "name": "stderr",
     "output_type": "stream",
     "text": [
      "                                                                                \r"
     ]
    }
   ],
   "source": [
    "sparkSession.read \\\n",
    "  .format(\"delta\") \\\n",
    "  .option(\"timestampAsOf\", max_datetime_str) \\\n",
    "  .load(delta_table_path).show()"
   ]
  },
  {
   "cell_type": "code",
   "execution_count": null,
   "id": "ba9ac6a8-674f-42d9-bab1-ef676db2c0ab",
   "metadata": {},
   "outputs": [],
   "source": []
  },
  {
   "cell_type": "code",
   "execution_count": null,
   "id": "07aec1a7-b69e-4ac3-89ba-dca58b1298c1",
   "metadata": {},
   "outputs": [],
   "source": []
  },
  {
   "cell_type": "code",
   "execution_count": null,
   "id": "14a18b69-3e19-471b-8137-59bbc662a0e3",
   "metadata": {},
   "outputs": [],
   "source": []
  },
  {
   "cell_type": "code",
   "execution_count": 304,
   "id": "90c969d7-db0c-4edd-8453-d30711ee5a57",
   "metadata": {},
   "outputs": [
    {
     "name": "stdout",
     "output_type": "stream",
     "text": [
      "2022-05-20 18:42:13.086000 -> 2022-05-20 18:42:13\n"
     ]
    },
    {
     "ename": "Py4JJavaError",
     "evalue": "An error occurred while calling o1083.load.\n: org.apache.spark.sql.delta.DeltaErrors$TimestampEarlierThanCommitRetentionException: The provided timestamp (2022-05-20 18:42:13.0) is before the earliest version available to this\ntable (2022-05-20 18:42:13.341). Please use a timestamp after 2022-05-20 18:42:13.\n         \n\tat org.apache.spark.sql.delta.DeltaHistoryManager.getActiveCommitAtTime(DeltaHistoryManager.scala:137)\n\tat org.apache.spark.sql.delta.DeltaTableUtils$.resolveTimeTravelVersion(DeltaTable.scala:352)\n\tat org.apache.spark.sql.delta.catalog.DeltaTableV2.$anonfun$snapshot$1(DeltaTableV2.scala:92)\n\tat scala.Option.map(Option.scala:230)\n\tat org.apache.spark.sql.delta.catalog.DeltaTableV2.snapshot$lzycompute(DeltaTableV2.scala:90)\n\tat org.apache.spark.sql.delta.catalog.DeltaTableV2.snapshot(DeltaTableV2.scala:89)\n\tat org.apache.spark.sql.delta.catalog.DeltaTableV2.toBaseRelation(DeltaTableV2.scala:145)\n\tat org.apache.spark.sql.delta.sources.DeltaDataSource.createRelation(DeltaDataSource.scala:177)\n\tat org.apache.spark.sql.execution.datasources.DataSource.resolveRelation(DataSource.scala:354)\n\tat org.apache.spark.sql.DataFrameReader.loadV1Source(DataFrameReader.scala:326)\n\tat org.apache.spark.sql.DataFrameReader.$anonfun$load$1(DataFrameReader.scala:306)\n\tat scala.Option.map(Option.scala:230)\n\tat org.apache.spark.sql.DataFrameReader.load(DataFrameReader.scala:266)\n\tat org.apache.spark.sql.DataFrameReader.load(DataFrameReader.scala:240)\n\tat jdk.internal.reflect.GeneratedMethodAccessor136.invoke(Unknown Source)\n\tat java.base/jdk.internal.reflect.DelegatingMethodAccessorImpl.invoke(DelegatingMethodAccessorImpl.java:43)\n\tat java.base/java.lang.reflect.Method.invoke(Method.java:566)\n\tat py4j.reflection.MethodInvoker.invoke(MethodInvoker.java:244)\n\tat py4j.reflection.ReflectionEngine.invoke(ReflectionEngine.java:357)\n\tat py4j.Gateway.invoke(Gateway.java:282)\n\tat py4j.commands.AbstractCommand.invokeMethod(AbstractCommand.java:132)\n\tat py4j.commands.CallCommand.execute(CallCommand.java:79)\n\tat py4j.GatewayConnection.run(GatewayConnection.java:238)\n\tat java.base/java.lang.Thread.run(Thread.java:829)\n",
     "output_type": "error",
     "traceback": [
      "\u001b[0;31m---------------------------------------------------------------------------\u001b[0m",
      "\u001b[0;31mPy4JJavaError\u001b[0m                             Traceback (most recent call last)",
      "Input \u001b[0;32mIn [304]\u001b[0m, in \u001b[0;36m<cell line: 5>\u001b[0;34m()\u001b[0m\n\u001b[1;32m      2\u001b[0m log0_commit_info_ds \u001b[38;5;241m=\u001b[39m log0_commit_info_dt\u001b[38;5;241m.\u001b[39mstrftime(\u001b[38;5;124m\"\u001b[39m\u001b[38;5;124m%\u001b[39m\u001b[38;5;124mY-\u001b[39m\u001b[38;5;124m%\u001b[39m\u001b[38;5;124mm-\u001b[39m\u001b[38;5;132;01m%d\u001b[39;00m\u001b[38;5;124m \u001b[39m\u001b[38;5;124m%\u001b[39m\u001b[38;5;124mH:\u001b[39m\u001b[38;5;124m%\u001b[39m\u001b[38;5;124mM:\u001b[39m\u001b[38;5;124m%\u001b[39m\u001b[38;5;124mS\u001b[39m\u001b[38;5;124m\"\u001b[39m)\n\u001b[1;32m      3\u001b[0m \u001b[38;5;28mprint\u001b[39m(\u001b[38;5;124mf\u001b[39m\u001b[38;5;124m\"\u001b[39m\u001b[38;5;132;01m{\u001b[39;00mlog0_commit_info_dt\u001b[38;5;132;01m}\u001b[39;00m\u001b[38;5;124m -> \u001b[39m\u001b[38;5;132;01m{\u001b[39;00mlog0_commit_info_ds\u001b[38;5;132;01m}\u001b[39;00m\u001b[38;5;124m\"\u001b[39m)\n\u001b[1;32m      5\u001b[0m \u001b[43msparkSession\u001b[49m\u001b[38;5;241;43m.\u001b[39;49m\u001b[43mread\u001b[49m\u001b[43m \u001b[49m\u001b[43m\\\u001b[49m\n\u001b[1;32m      6\u001b[0m \u001b[43m  \u001b[49m\u001b[38;5;241;43m.\u001b[39;49m\u001b[43mformat\u001b[49m\u001b[43m(\u001b[49m\u001b[38;5;124;43m\"\u001b[39;49m\u001b[38;5;124;43mdelta\u001b[39;49m\u001b[38;5;124;43m\"\u001b[39;49m\u001b[43m)\u001b[49m\u001b[43m \u001b[49m\u001b[43m\\\u001b[49m\n\u001b[1;32m      7\u001b[0m \u001b[43m  \u001b[49m\u001b[38;5;241;43m.\u001b[39;49m\u001b[43moption\u001b[49m\u001b[43m(\u001b[49m\u001b[38;5;124;43m\"\u001b[39;49m\u001b[38;5;124;43mtimestampAsOf\u001b[39;49m\u001b[38;5;124;43m\"\u001b[39;49m\u001b[43m,\u001b[49m\u001b[43m \u001b[49m\u001b[43mlog0_commit_info_ds\u001b[49m\u001b[43m)\u001b[49m\u001b[43m \u001b[49m\u001b[43m\\\u001b[49m\n\u001b[0;32m----> 8\u001b[0m \u001b[43m  \u001b[49m\u001b[38;5;241;43m.\u001b[39;49m\u001b[43mload\u001b[49m\u001b[43m(\u001b[49m\u001b[43mdelta_table_path\u001b[49m\u001b[43m)\u001b[49m\u001b[38;5;241m.\u001b[39mshow()\n",
      "File \u001b[0;32m/usr/local/lib/python3.10/site-packages/pyspark/sql/readwriter.py:204\u001b[0m, in \u001b[0;36mDataFrameReader.load\u001b[0;34m(self, path, format, schema, **options)\u001b[0m\n\u001b[1;32m    202\u001b[0m \u001b[38;5;28mself\u001b[39m\u001b[38;5;241m.\u001b[39moptions(\u001b[38;5;241m*\u001b[39m\u001b[38;5;241m*\u001b[39moptions)\n\u001b[1;32m    203\u001b[0m \u001b[38;5;28;01mif\u001b[39;00m \u001b[38;5;28misinstance\u001b[39m(path, \u001b[38;5;28mstr\u001b[39m):\n\u001b[0;32m--> 204\u001b[0m     \u001b[38;5;28;01mreturn\u001b[39;00m \u001b[38;5;28mself\u001b[39m\u001b[38;5;241m.\u001b[39m_df(\u001b[38;5;28;43mself\u001b[39;49m\u001b[38;5;241;43m.\u001b[39;49m\u001b[43m_jreader\u001b[49m\u001b[38;5;241;43m.\u001b[39;49m\u001b[43mload\u001b[49m\u001b[43m(\u001b[49m\u001b[43mpath\u001b[49m\u001b[43m)\u001b[49m)\n\u001b[1;32m    205\u001b[0m \u001b[38;5;28;01melif\u001b[39;00m path \u001b[38;5;129;01mis\u001b[39;00m \u001b[38;5;129;01mnot\u001b[39;00m \u001b[38;5;28;01mNone\u001b[39;00m:\n\u001b[1;32m    206\u001b[0m     \u001b[38;5;28;01mif\u001b[39;00m \u001b[38;5;28mtype\u001b[39m(path) \u001b[38;5;241m!=\u001b[39m \u001b[38;5;28mlist\u001b[39m:\n",
      "File \u001b[0;32m/usr/local/lib/python3.10/site-packages/py4j/java_gateway.py:1304\u001b[0m, in \u001b[0;36mJavaMember.__call__\u001b[0;34m(self, *args)\u001b[0m\n\u001b[1;32m   1298\u001b[0m command \u001b[38;5;241m=\u001b[39m proto\u001b[38;5;241m.\u001b[39mCALL_COMMAND_NAME \u001b[38;5;241m+\u001b[39m\\\n\u001b[1;32m   1299\u001b[0m     \u001b[38;5;28mself\u001b[39m\u001b[38;5;241m.\u001b[39mcommand_header \u001b[38;5;241m+\u001b[39m\\\n\u001b[1;32m   1300\u001b[0m     args_command \u001b[38;5;241m+\u001b[39m\\\n\u001b[1;32m   1301\u001b[0m     proto\u001b[38;5;241m.\u001b[39mEND_COMMAND_PART\n\u001b[1;32m   1303\u001b[0m answer \u001b[38;5;241m=\u001b[39m \u001b[38;5;28mself\u001b[39m\u001b[38;5;241m.\u001b[39mgateway_client\u001b[38;5;241m.\u001b[39msend_command(command)\n\u001b[0;32m-> 1304\u001b[0m return_value \u001b[38;5;241m=\u001b[39m \u001b[43mget_return_value\u001b[49m\u001b[43m(\u001b[49m\n\u001b[1;32m   1305\u001b[0m \u001b[43m    \u001b[49m\u001b[43manswer\u001b[49m\u001b[43m,\u001b[49m\u001b[43m \u001b[49m\u001b[38;5;28;43mself\u001b[39;49m\u001b[38;5;241;43m.\u001b[39;49m\u001b[43mgateway_client\u001b[49m\u001b[43m,\u001b[49m\u001b[43m \u001b[49m\u001b[38;5;28;43mself\u001b[39;49m\u001b[38;5;241;43m.\u001b[39;49m\u001b[43mtarget_id\u001b[49m\u001b[43m,\u001b[49m\u001b[43m \u001b[49m\u001b[38;5;28;43mself\u001b[39;49m\u001b[38;5;241;43m.\u001b[39;49m\u001b[43mname\u001b[49m\u001b[43m)\u001b[49m\n\u001b[1;32m   1307\u001b[0m \u001b[38;5;28;01mfor\u001b[39;00m temp_arg \u001b[38;5;129;01min\u001b[39;00m temp_args:\n\u001b[1;32m   1308\u001b[0m     temp_arg\u001b[38;5;241m.\u001b[39m_detach()\n",
      "File \u001b[0;32m/usr/local/lib/python3.10/site-packages/pyspark/sql/utils.py:111\u001b[0m, in \u001b[0;36mcapture_sql_exception.<locals>.deco\u001b[0;34m(*a, **kw)\u001b[0m\n\u001b[1;32m    109\u001b[0m \u001b[38;5;28;01mdef\u001b[39;00m \u001b[38;5;21mdeco\u001b[39m(\u001b[38;5;241m*\u001b[39ma, \u001b[38;5;241m*\u001b[39m\u001b[38;5;241m*\u001b[39mkw):\n\u001b[1;32m    110\u001b[0m     \u001b[38;5;28;01mtry\u001b[39;00m:\n\u001b[0;32m--> 111\u001b[0m         \u001b[38;5;28;01mreturn\u001b[39;00m \u001b[43mf\u001b[49m\u001b[43m(\u001b[49m\u001b[38;5;241;43m*\u001b[39;49m\u001b[43ma\u001b[49m\u001b[43m,\u001b[49m\u001b[43m \u001b[49m\u001b[38;5;241;43m*\u001b[39;49m\u001b[38;5;241;43m*\u001b[39;49m\u001b[43mkw\u001b[49m\u001b[43m)\u001b[49m\n\u001b[1;32m    112\u001b[0m     \u001b[38;5;28;01mexcept\u001b[39;00m py4j\u001b[38;5;241m.\u001b[39mprotocol\u001b[38;5;241m.\u001b[39mPy4JJavaError \u001b[38;5;28;01mas\u001b[39;00m e:\n\u001b[1;32m    113\u001b[0m         converted \u001b[38;5;241m=\u001b[39m convert_exception(e\u001b[38;5;241m.\u001b[39mjava_exception)\n",
      "File \u001b[0;32m/usr/local/lib/python3.10/site-packages/py4j/protocol.py:326\u001b[0m, in \u001b[0;36mget_return_value\u001b[0;34m(answer, gateway_client, target_id, name)\u001b[0m\n\u001b[1;32m    324\u001b[0m value \u001b[38;5;241m=\u001b[39m OUTPUT_CONVERTER[\u001b[38;5;28mtype\u001b[39m](answer[\u001b[38;5;241m2\u001b[39m:], gateway_client)\n\u001b[1;32m    325\u001b[0m \u001b[38;5;28;01mif\u001b[39;00m answer[\u001b[38;5;241m1\u001b[39m] \u001b[38;5;241m==\u001b[39m REFERENCE_TYPE:\n\u001b[0;32m--> 326\u001b[0m     \u001b[38;5;28;01mraise\u001b[39;00m Py4JJavaError(\n\u001b[1;32m    327\u001b[0m         \u001b[38;5;124m\"\u001b[39m\u001b[38;5;124mAn error occurred while calling \u001b[39m\u001b[38;5;132;01m{0}\u001b[39;00m\u001b[38;5;132;01m{1}\u001b[39;00m\u001b[38;5;132;01m{2}\u001b[39;00m\u001b[38;5;124m.\u001b[39m\u001b[38;5;130;01m\\n\u001b[39;00m\u001b[38;5;124m\"\u001b[39m\u001b[38;5;241m.\u001b[39m\n\u001b[1;32m    328\u001b[0m         \u001b[38;5;28mformat\u001b[39m(target_id, \u001b[38;5;124m\"\u001b[39m\u001b[38;5;124m.\u001b[39m\u001b[38;5;124m\"\u001b[39m, name), value)\n\u001b[1;32m    329\u001b[0m \u001b[38;5;28;01melse\u001b[39;00m:\n\u001b[1;32m    330\u001b[0m     \u001b[38;5;28;01mraise\u001b[39;00m Py4JError(\n\u001b[1;32m    331\u001b[0m         \u001b[38;5;124m\"\u001b[39m\u001b[38;5;124mAn error occurred while calling \u001b[39m\u001b[38;5;132;01m{0}\u001b[39;00m\u001b[38;5;132;01m{1}\u001b[39;00m\u001b[38;5;132;01m{2}\u001b[39;00m\u001b[38;5;124m. Trace:\u001b[39m\u001b[38;5;130;01m\\n\u001b[39;00m\u001b[38;5;132;01m{3}\u001b[39;00m\u001b[38;5;130;01m\\n\u001b[39;00m\u001b[38;5;124m\"\u001b[39m\u001b[38;5;241m.\u001b[39m\n\u001b[1;32m    332\u001b[0m         \u001b[38;5;28mformat\u001b[39m(target_id, \u001b[38;5;124m\"\u001b[39m\u001b[38;5;124m.\u001b[39m\u001b[38;5;124m\"\u001b[39m, name, value))\n",
      "\u001b[0;31mPy4JJavaError\u001b[0m: An error occurred while calling o1083.load.\n: org.apache.spark.sql.delta.DeltaErrors$TimestampEarlierThanCommitRetentionException: The provided timestamp (2022-05-20 18:42:13.0) is before the earliest version available to this\ntable (2022-05-20 18:42:13.341). Please use a timestamp after 2022-05-20 18:42:13.\n         \n\tat org.apache.spark.sql.delta.DeltaHistoryManager.getActiveCommitAtTime(DeltaHistoryManager.scala:137)\n\tat org.apache.spark.sql.delta.DeltaTableUtils$.resolveTimeTravelVersion(DeltaTable.scala:352)\n\tat org.apache.spark.sql.delta.catalog.DeltaTableV2.$anonfun$snapshot$1(DeltaTableV2.scala:92)\n\tat scala.Option.map(Option.scala:230)\n\tat org.apache.spark.sql.delta.catalog.DeltaTableV2.snapshot$lzycompute(DeltaTableV2.scala:90)\n\tat org.apache.spark.sql.delta.catalog.DeltaTableV2.snapshot(DeltaTableV2.scala:89)\n\tat org.apache.spark.sql.delta.catalog.DeltaTableV2.toBaseRelation(DeltaTableV2.scala:145)\n\tat org.apache.spark.sql.delta.sources.DeltaDataSource.createRelation(DeltaDataSource.scala:177)\n\tat org.apache.spark.sql.execution.datasources.DataSource.resolveRelation(DataSource.scala:354)\n\tat org.apache.spark.sql.DataFrameReader.loadV1Source(DataFrameReader.scala:326)\n\tat org.apache.spark.sql.DataFrameReader.$anonfun$load$1(DataFrameReader.scala:306)\n\tat scala.Option.map(Option.scala:230)\n\tat org.apache.spark.sql.DataFrameReader.load(DataFrameReader.scala:266)\n\tat org.apache.spark.sql.DataFrameReader.load(DataFrameReader.scala:240)\n\tat jdk.internal.reflect.GeneratedMethodAccessor136.invoke(Unknown Source)\n\tat java.base/jdk.internal.reflect.DelegatingMethodAccessorImpl.invoke(DelegatingMethodAccessorImpl.java:43)\n\tat java.base/java.lang.reflect.Method.invoke(Method.java:566)\n\tat py4j.reflection.MethodInvoker.invoke(MethodInvoker.java:244)\n\tat py4j.reflection.ReflectionEngine.invoke(ReflectionEngine.java:357)\n\tat py4j.Gateway.invoke(Gateway.java:282)\n\tat py4j.commands.AbstractCommand.invokeMethod(AbstractCommand.java:132)\n\tat py4j.commands.CallCommand.execute(CallCommand.java:79)\n\tat py4j.GatewayConnection.run(GatewayConnection.java:238)\n\tat java.base/java.lang.Thread.run(Thread.java:829)\n"
     ]
    }
   ],
   "source": [
    "# Convert the datetime object into a date formatted string\n",
    "log0_commit_info_ds = log0_commit_info_dt.strftime(\"%Y-%m-%d %H:%M:%S\")\n",
    "print(f\"{log0_commit_info_dt} -> {log0_commit_info_ds}\")\n",
    "\n",
    "sparkSession.read \\\n",
    "  .format(\"delta\") \\\n",
    "  .option(\"timestampAsOf\", log0_commit_info_ds) \\\n",
    "  .load(delta_table_path).show()"
   ]
  },
  {
   "cell_type": "code",
   "execution_count": null,
   "id": "454b5394-1a45-4baa-a23d-ec257fafbe2e",
   "metadata": {},
   "outputs": [],
   "source": []
  },
  {
   "cell_type": "code",
   "execution_count": null,
   "id": "2cdc7d68-4aaf-4a65-ac9f-4e46fdbe97a0",
   "metadata": {},
   "outputs": [],
   "source": []
  },
  {
   "cell_type": "code",
   "execution_count": null,
   "id": "9b1f2b82-f4b0-44e5-aab0-4330d1a07d57",
   "metadata": {},
   "outputs": [],
   "source": [
    "log_file_path = os.path.join(delta_table_path, \"_delta_log\",\"00000000000000000000.json\") \n",
    "print(json.dumps(load_delta_log(log_file_path), indent=4))"
   ]
  },
  {
   "cell_type": "code",
   "execution_count": null,
   "id": "bfbef1f5-6810-4648-9dbd-4aaae61267ca",
   "metadata": {},
   "outputs": [],
   "source": []
  },
  {
   "cell_type": "code",
   "execution_count": 243,
   "id": "c848e35f-26ca-4eaa-8616-0f901ffc4f10",
   "metadata": {},
   "outputs": [
    {
     "data": {
      "text/plain": [
       "datetime.datetime(2022, 5, 20, 19, 29, 48, 956000)"
      ]
     },
     "execution_count": 243,
     "metadata": {},
     "output_type": "execute_result"
    }
   ],
   "source": [
    "import datetime\n",
    "dt = datetime.datetime.fromtimestamp(1653074988956/ 1e3)\n",
    "dt"
   ]
  },
  {
   "cell_type": "code",
   "execution_count": 211,
   "id": "797ee96f-39fb-49fe-bfe5-8f5f4413b5b0",
   "metadata": {},
   "outputs": [
    {
     "name": "stdout",
     "output_type": "stream",
     "text": [
      "Fri May 20 19:56:57 UTC 2022\n"
     ]
    }
   ],
   "source": [
    "! date"
   ]
  },
  {
   "cell_type": "markdown",
   "id": "d0184c8c-5f63-4682-ba8d-55b6f7b6e43d",
   "metadata": {},
   "source": [
    "Note: This is saying 7:29 PM. My desktop is at 2:29 PM but the server running the notebook is set to a different timezone (UCT)"
   ]
  },
  {
   "cell_type": "markdown",
   "id": "5375baf0-c1b4-49b7-bda9-60b8a31b9aa6",
   "metadata": {},
   "source": [
    "According to the release article, we must specify the timestamp in yyyyMMddHHmmssSSS format"
   ]
  },
  {
   "cell_type": "code",
   "execution_count": 228,
   "id": "d3f62326-d8f1-4593-99ff-86e70b501424",
   "metadata": {},
   "outputs": [
    {
     "data": {
      "text/plain": [
       "datetime.datetime(2022, 5, 20, 18, 42, 14)"
      ]
     },
     "execution_count": 228,
     "metadata": {},
     "output_type": "execute_result"
    }
   ],
   "source": [
    "date_time_str = '2022-05-20 18:42:14'\n",
    "date_time_obj = datetime.datetime.strptime(date_time_str, '%Y-%m-%d %H:%M:%S')\n",
    "date_time_obj"
   ]
  },
  {
   "cell_type": "code",
   "execution_count": 232,
   "id": "a980fe1f-1ef1-43a1-afe0-0efcbf4aaadf",
   "metadata": {},
   "outputs": [
    {
     "data": {
      "text/plain": [
       "1653072134"
      ]
     },
     "execution_count": 232,
     "metadata": {},
     "output_type": "execute_result"
    }
   ],
   "source": [
    "ts = int(datetime.datetime.timestamp(date_time_obj))\n",
    "ts"
   ]
  },
  {
   "cell_type": "code",
   "execution_count": 233,
   "id": "13061474-bcc1-4c0e-ba0d-38071500838f",
   "metadata": {},
   "outputs": [
    {
     "ename": "AnalysisException",
     "evalue": "`data/time-travel-demo.delta@1653072134` is not a Delta table.",
     "output_type": "error",
     "traceback": [
      "\u001b[0;31m---------------------------------------------------------------------------\u001b[0m",
      "\u001b[0;31mAnalysisException\u001b[0m                         Traceback (most recent call last)",
      "Input \u001b[0;32mIn [233]\u001b[0m, in \u001b[0;36m<cell line: 4>\u001b[0;34m()\u001b[0m\n\u001b[1;32m      1\u001b[0m \u001b[38;5;66;03m# 20190101000000000\u001b[39;00m\n\u001b[1;32m      2\u001b[0m \u001b[38;5;66;03m# 16530749906450000\u001b[39;00m\n\u001b[0;32m----> 4\u001b[0m \u001b[43msparkSession\u001b[49m\u001b[38;5;241;43m.\u001b[39;49m\u001b[43mread\u001b[49m\u001b[38;5;241;43m.\u001b[39;49m\u001b[43mformat\u001b[49m\u001b[43m(\u001b[49m\u001b[38;5;124;43m\"\u001b[39;49m\u001b[38;5;124;43mdelta\u001b[39;49m\u001b[38;5;124;43m\"\u001b[39;49m\u001b[43m)\u001b[49m\u001b[38;5;241;43m.\u001b[39;49m\u001b[43mload\u001b[49m\u001b[43m(\u001b[49m\u001b[43mdelta_table_path\u001b[49m\u001b[43m \u001b[49m\u001b[38;5;241;43m+\u001b[39;49m\u001b[43m \u001b[49m\u001b[38;5;124;43m\"\u001b[39;49m\u001b[38;5;124;43m@1653072134\u001b[39;49m\u001b[38;5;124;43m\"\u001b[39;49m\u001b[43m)\u001b[49m\u001b[38;5;241m.\u001b[39mshow()\n",
      "File \u001b[0;32m/usr/local/lib/python3.10/site-packages/pyspark/sql/readwriter.py:204\u001b[0m, in \u001b[0;36mDataFrameReader.load\u001b[0;34m(self, path, format, schema, **options)\u001b[0m\n\u001b[1;32m    202\u001b[0m \u001b[38;5;28mself\u001b[39m\u001b[38;5;241m.\u001b[39moptions(\u001b[38;5;241m*\u001b[39m\u001b[38;5;241m*\u001b[39moptions)\n\u001b[1;32m    203\u001b[0m \u001b[38;5;28;01mif\u001b[39;00m \u001b[38;5;28misinstance\u001b[39m(path, \u001b[38;5;28mstr\u001b[39m):\n\u001b[0;32m--> 204\u001b[0m     \u001b[38;5;28;01mreturn\u001b[39;00m \u001b[38;5;28mself\u001b[39m\u001b[38;5;241m.\u001b[39m_df(\u001b[38;5;28;43mself\u001b[39;49m\u001b[38;5;241;43m.\u001b[39;49m\u001b[43m_jreader\u001b[49m\u001b[38;5;241;43m.\u001b[39;49m\u001b[43mload\u001b[49m\u001b[43m(\u001b[49m\u001b[43mpath\u001b[49m\u001b[43m)\u001b[49m)\n\u001b[1;32m    205\u001b[0m \u001b[38;5;28;01melif\u001b[39;00m path \u001b[38;5;129;01mis\u001b[39;00m \u001b[38;5;129;01mnot\u001b[39;00m \u001b[38;5;28;01mNone\u001b[39;00m:\n\u001b[1;32m    206\u001b[0m     \u001b[38;5;28;01mif\u001b[39;00m \u001b[38;5;28mtype\u001b[39m(path) \u001b[38;5;241m!=\u001b[39m \u001b[38;5;28mlist\u001b[39m:\n",
      "File \u001b[0;32m/usr/local/lib/python3.10/site-packages/py4j/java_gateway.py:1304\u001b[0m, in \u001b[0;36mJavaMember.__call__\u001b[0;34m(self, *args)\u001b[0m\n\u001b[1;32m   1298\u001b[0m command \u001b[38;5;241m=\u001b[39m proto\u001b[38;5;241m.\u001b[39mCALL_COMMAND_NAME \u001b[38;5;241m+\u001b[39m\\\n\u001b[1;32m   1299\u001b[0m     \u001b[38;5;28mself\u001b[39m\u001b[38;5;241m.\u001b[39mcommand_header \u001b[38;5;241m+\u001b[39m\\\n\u001b[1;32m   1300\u001b[0m     args_command \u001b[38;5;241m+\u001b[39m\\\n\u001b[1;32m   1301\u001b[0m     proto\u001b[38;5;241m.\u001b[39mEND_COMMAND_PART\n\u001b[1;32m   1303\u001b[0m answer \u001b[38;5;241m=\u001b[39m \u001b[38;5;28mself\u001b[39m\u001b[38;5;241m.\u001b[39mgateway_client\u001b[38;5;241m.\u001b[39msend_command(command)\n\u001b[0;32m-> 1304\u001b[0m return_value \u001b[38;5;241m=\u001b[39m \u001b[43mget_return_value\u001b[49m\u001b[43m(\u001b[49m\n\u001b[1;32m   1305\u001b[0m \u001b[43m    \u001b[49m\u001b[43manswer\u001b[49m\u001b[43m,\u001b[49m\u001b[43m \u001b[49m\u001b[38;5;28;43mself\u001b[39;49m\u001b[38;5;241;43m.\u001b[39;49m\u001b[43mgateway_client\u001b[49m\u001b[43m,\u001b[49m\u001b[43m \u001b[49m\u001b[38;5;28;43mself\u001b[39;49m\u001b[38;5;241;43m.\u001b[39;49m\u001b[43mtarget_id\u001b[49m\u001b[43m,\u001b[49m\u001b[43m \u001b[49m\u001b[38;5;28;43mself\u001b[39;49m\u001b[38;5;241;43m.\u001b[39;49m\u001b[43mname\u001b[49m\u001b[43m)\u001b[49m\n\u001b[1;32m   1307\u001b[0m \u001b[38;5;28;01mfor\u001b[39;00m temp_arg \u001b[38;5;129;01min\u001b[39;00m temp_args:\n\u001b[1;32m   1308\u001b[0m     temp_arg\u001b[38;5;241m.\u001b[39m_detach()\n",
      "File \u001b[0;32m/usr/local/lib/python3.10/site-packages/pyspark/sql/utils.py:117\u001b[0m, in \u001b[0;36mcapture_sql_exception.<locals>.deco\u001b[0;34m(*a, **kw)\u001b[0m\n\u001b[1;32m    113\u001b[0m converted \u001b[38;5;241m=\u001b[39m convert_exception(e\u001b[38;5;241m.\u001b[39mjava_exception)\n\u001b[1;32m    114\u001b[0m \u001b[38;5;28;01mif\u001b[39;00m \u001b[38;5;129;01mnot\u001b[39;00m \u001b[38;5;28misinstance\u001b[39m(converted, UnknownException):\n\u001b[1;32m    115\u001b[0m     \u001b[38;5;66;03m# Hide where the exception came from that shows a non-Pythonic\u001b[39;00m\n\u001b[1;32m    116\u001b[0m     \u001b[38;5;66;03m# JVM exception message.\u001b[39;00m\n\u001b[0;32m--> 117\u001b[0m     \u001b[38;5;28;01mraise\u001b[39;00m converted \u001b[38;5;28;01mfrom\u001b[39;00m \u001b[38;5;28mNone\u001b[39m\n\u001b[1;32m    118\u001b[0m \u001b[38;5;28;01melse\u001b[39;00m:\n\u001b[1;32m    119\u001b[0m     \u001b[38;5;28;01mraise\u001b[39;00m\n",
      "\u001b[0;31mAnalysisException\u001b[0m: `data/time-travel-demo.delta@1653072134` is not a Delta table."
     ]
    }
   ],
   "source": [
    "# 20190101000000000\n",
    "# 16530749906450000\n",
    "\n",
    "sparkSession.read.format(\"delta\").load(delta_table_path + \"@1653072134\").show()"
   ]
  },
  {
   "cell_type": "code",
   "execution_count": null,
   "id": "7a17bdaf-f8d9-46af-9269-7318e534e108",
   "metadata": {},
   "outputs": [],
   "source": []
  },
  {
   "cell_type": "code",
   "execution_count": null,
   "id": "a8d55175-b439-4d86-9e5c-e1d097f0a6b3",
   "metadata": {},
   "outputs": [],
   "source": []
  },
  {
   "cell_type": "code",
   "execution_count": 215,
   "id": "ffee4422-02df-4a75-932d-35d72c47484c",
   "metadata": {},
   "outputs": [
    {
     "data": {
      "text/plain": [
       "'data/time-travel-demo.delta@1653074990645'"
      ]
     },
     "execution_count": 215,
     "metadata": {},
     "output_type": "execute_result"
    }
   ],
   "source": [
    "version_path = delta_table_path + \"@1653074990645\"\n",
    "version_path"
   ]
  },
  {
   "cell_type": "code",
   "execution_count": 216,
   "id": "e2e56207-db1d-459c-9d54-67247c0a8418",
   "metadata": {},
   "outputs": [
    {
     "ename": "AnalysisException",
     "evalue": "`data/time-travel-demo.delta@1653074990645` is not a Delta table.",
     "output_type": "error",
     "traceback": [
      "\u001b[0;31m---------------------------------------------------------------------------\u001b[0m",
      "\u001b[0;31mAnalysisException\u001b[0m                         Traceback (most recent call last)",
      "Input \u001b[0;32mIn [216]\u001b[0m, in \u001b[0;36m<cell line: 1>\u001b[0;34m()\u001b[0m\n\u001b[0;32m----> 1\u001b[0m \u001b[43msparkSession\u001b[49m\u001b[38;5;241;43m.\u001b[39;49m\u001b[43mread\u001b[49m\u001b[38;5;241;43m.\u001b[39;49m\u001b[43mformat\u001b[49m\u001b[43m(\u001b[49m\u001b[38;5;124;43m\"\u001b[39;49m\u001b[38;5;124;43mdelta\u001b[39;49m\u001b[38;5;124;43m\"\u001b[39;49m\u001b[43m)\u001b[49m\u001b[38;5;241;43m.\u001b[39;49m\u001b[43mload\u001b[49m\u001b[43m(\u001b[49m\u001b[43mversion_path\u001b[49m\u001b[43m)\u001b[49m\u001b[38;5;241m.\u001b[39mshow()\n",
      "File \u001b[0;32m/usr/local/lib/python3.10/site-packages/pyspark/sql/readwriter.py:204\u001b[0m, in \u001b[0;36mDataFrameReader.load\u001b[0;34m(self, path, format, schema, **options)\u001b[0m\n\u001b[1;32m    202\u001b[0m \u001b[38;5;28mself\u001b[39m\u001b[38;5;241m.\u001b[39moptions(\u001b[38;5;241m*\u001b[39m\u001b[38;5;241m*\u001b[39moptions)\n\u001b[1;32m    203\u001b[0m \u001b[38;5;28;01mif\u001b[39;00m \u001b[38;5;28misinstance\u001b[39m(path, \u001b[38;5;28mstr\u001b[39m):\n\u001b[0;32m--> 204\u001b[0m     \u001b[38;5;28;01mreturn\u001b[39;00m \u001b[38;5;28mself\u001b[39m\u001b[38;5;241m.\u001b[39m_df(\u001b[38;5;28;43mself\u001b[39;49m\u001b[38;5;241;43m.\u001b[39;49m\u001b[43m_jreader\u001b[49m\u001b[38;5;241;43m.\u001b[39;49m\u001b[43mload\u001b[49m\u001b[43m(\u001b[49m\u001b[43mpath\u001b[49m\u001b[43m)\u001b[49m)\n\u001b[1;32m    205\u001b[0m \u001b[38;5;28;01melif\u001b[39;00m path \u001b[38;5;129;01mis\u001b[39;00m \u001b[38;5;129;01mnot\u001b[39;00m \u001b[38;5;28;01mNone\u001b[39;00m:\n\u001b[1;32m    206\u001b[0m     \u001b[38;5;28;01mif\u001b[39;00m \u001b[38;5;28mtype\u001b[39m(path) \u001b[38;5;241m!=\u001b[39m \u001b[38;5;28mlist\u001b[39m:\n",
      "File \u001b[0;32m/usr/local/lib/python3.10/site-packages/py4j/java_gateway.py:1304\u001b[0m, in \u001b[0;36mJavaMember.__call__\u001b[0;34m(self, *args)\u001b[0m\n\u001b[1;32m   1298\u001b[0m command \u001b[38;5;241m=\u001b[39m proto\u001b[38;5;241m.\u001b[39mCALL_COMMAND_NAME \u001b[38;5;241m+\u001b[39m\\\n\u001b[1;32m   1299\u001b[0m     \u001b[38;5;28mself\u001b[39m\u001b[38;5;241m.\u001b[39mcommand_header \u001b[38;5;241m+\u001b[39m\\\n\u001b[1;32m   1300\u001b[0m     args_command \u001b[38;5;241m+\u001b[39m\\\n\u001b[1;32m   1301\u001b[0m     proto\u001b[38;5;241m.\u001b[39mEND_COMMAND_PART\n\u001b[1;32m   1303\u001b[0m answer \u001b[38;5;241m=\u001b[39m \u001b[38;5;28mself\u001b[39m\u001b[38;5;241m.\u001b[39mgateway_client\u001b[38;5;241m.\u001b[39msend_command(command)\n\u001b[0;32m-> 1304\u001b[0m return_value \u001b[38;5;241m=\u001b[39m \u001b[43mget_return_value\u001b[49m\u001b[43m(\u001b[49m\n\u001b[1;32m   1305\u001b[0m \u001b[43m    \u001b[49m\u001b[43manswer\u001b[49m\u001b[43m,\u001b[49m\u001b[43m \u001b[49m\u001b[38;5;28;43mself\u001b[39;49m\u001b[38;5;241;43m.\u001b[39;49m\u001b[43mgateway_client\u001b[49m\u001b[43m,\u001b[49m\u001b[43m \u001b[49m\u001b[38;5;28;43mself\u001b[39;49m\u001b[38;5;241;43m.\u001b[39;49m\u001b[43mtarget_id\u001b[49m\u001b[43m,\u001b[49m\u001b[43m \u001b[49m\u001b[38;5;28;43mself\u001b[39;49m\u001b[38;5;241;43m.\u001b[39;49m\u001b[43mname\u001b[49m\u001b[43m)\u001b[49m\n\u001b[1;32m   1307\u001b[0m \u001b[38;5;28;01mfor\u001b[39;00m temp_arg \u001b[38;5;129;01min\u001b[39;00m temp_args:\n\u001b[1;32m   1308\u001b[0m     temp_arg\u001b[38;5;241m.\u001b[39m_detach()\n",
      "File \u001b[0;32m/usr/local/lib/python3.10/site-packages/pyspark/sql/utils.py:117\u001b[0m, in \u001b[0;36mcapture_sql_exception.<locals>.deco\u001b[0;34m(*a, **kw)\u001b[0m\n\u001b[1;32m    113\u001b[0m converted \u001b[38;5;241m=\u001b[39m convert_exception(e\u001b[38;5;241m.\u001b[39mjava_exception)\n\u001b[1;32m    114\u001b[0m \u001b[38;5;28;01mif\u001b[39;00m \u001b[38;5;129;01mnot\u001b[39;00m \u001b[38;5;28misinstance\u001b[39m(converted, UnknownException):\n\u001b[1;32m    115\u001b[0m     \u001b[38;5;66;03m# Hide where the exception came from that shows a non-Pythonic\u001b[39;00m\n\u001b[1;32m    116\u001b[0m     \u001b[38;5;66;03m# JVM exception message.\u001b[39;00m\n\u001b[0;32m--> 117\u001b[0m     \u001b[38;5;28;01mraise\u001b[39;00m converted \u001b[38;5;28;01mfrom\u001b[39;00m \u001b[38;5;28mNone\u001b[39m\n\u001b[1;32m    118\u001b[0m \u001b[38;5;28;01melse\u001b[39;00m:\n\u001b[1;32m    119\u001b[0m     \u001b[38;5;28;01mraise\u001b[39;00m\n",
      "\u001b[0;31mAnalysisException\u001b[0m: `data/time-travel-demo.delta@1653074990645` is not a Delta table."
     ]
    }
   ],
   "source": [
    "sparkSession.read.format(\"delta\").load(version_path).show()"
   ]
  },
  {
   "cell_type": "code",
   "execution_count": null,
   "id": "9d4204f9-97b9-4586-8fd1-adff8599880b",
   "metadata": {},
   "outputs": [],
   "source": []
  },
  {
   "cell_type": "code",
   "execution_count": null,
   "id": "ea881180-441b-4061-9957-08e35be19f2c",
   "metadata": {},
   "outputs": [],
   "source": []
  },
  {
   "cell_type": "code",
   "execution_count": 205,
   "id": "e7cbd3ad-43f5-4929-8a61-97d62fc8c76d",
   "metadata": {},
   "outputs": [
    {
     "data": {
      "text/plain": [
       "'22-05-20 19:29:50.645000'"
      ]
     },
     "execution_count": 205,
     "metadata": {},
     "output_type": "execute_result"
    }
   ],
   "source": [
    "dt_s = dt.strftime(\"%y-%m-%d %H:%M:%S.%f\")\n",
    "dt_s"
   ]
  },
  {
   "cell_type": "code",
   "execution_count": null,
   "id": "cfd555b6-6440-4af4-ba91-9c8f0148d088",
   "metadata": {},
   "outputs": [],
   "source": []
  },
  {
   "cell_type": "code",
   "execution_count": 206,
   "id": "7e007c92-3fa2-4cb2-b797-1789b46e2b76",
   "metadata": {},
   "outputs": [
    {
     "ename": "AnalysisException",
     "evalue": "The provided timestamp ('22-05-20 19:29:50.645000') cannot be converted to a valid timestamp.",
     "output_type": "error",
     "traceback": [
      "\u001b[0;31m---------------------------------------------------------------------------\u001b[0m",
      "\u001b[0;31mAnalysisException\u001b[0m                         Traceback (most recent call last)",
      "Input \u001b[0;32mIn [206]\u001b[0m, in \u001b[0;36m<cell line: 1>\u001b[0;34m()\u001b[0m\n\u001b[0;32m----> 1\u001b[0m \u001b[43msparkSession\u001b[49m\u001b[38;5;241;43m.\u001b[39;49m\u001b[43mread\u001b[49m\u001b[38;5;241;43m.\u001b[39;49m\u001b[43mformat\u001b[49m\u001b[43m(\u001b[49m\u001b[38;5;124;43m\"\u001b[39;49m\u001b[38;5;124;43mdelta\u001b[39;49m\u001b[38;5;124;43m\"\u001b[39;49m\u001b[43m)\u001b[49m\u001b[38;5;241;43m.\u001b[39;49m\u001b[43moption\u001b[49m\u001b[43m(\u001b[49m\u001b[38;5;124;43m\"\u001b[39;49m\u001b[38;5;124;43mtimestampAsOf\u001b[39;49m\u001b[38;5;124;43m\"\u001b[39;49m\u001b[43m,\u001b[49m\u001b[43m \u001b[49m\u001b[43mdt_s\u001b[49m\u001b[43m)\u001b[49m\u001b[38;5;241;43m.\u001b[39;49m\u001b[43mload\u001b[49m\u001b[43m(\u001b[49m\u001b[43mdelta_table_path\u001b[49m\u001b[43m)\u001b[49m\u001b[38;5;241m.\u001b[39mshow()\n",
      "File \u001b[0;32m/usr/local/lib/python3.10/site-packages/pyspark/sql/readwriter.py:204\u001b[0m, in \u001b[0;36mDataFrameReader.load\u001b[0;34m(self, path, format, schema, **options)\u001b[0m\n\u001b[1;32m    202\u001b[0m \u001b[38;5;28mself\u001b[39m\u001b[38;5;241m.\u001b[39moptions(\u001b[38;5;241m*\u001b[39m\u001b[38;5;241m*\u001b[39moptions)\n\u001b[1;32m    203\u001b[0m \u001b[38;5;28;01mif\u001b[39;00m \u001b[38;5;28misinstance\u001b[39m(path, \u001b[38;5;28mstr\u001b[39m):\n\u001b[0;32m--> 204\u001b[0m     \u001b[38;5;28;01mreturn\u001b[39;00m \u001b[38;5;28mself\u001b[39m\u001b[38;5;241m.\u001b[39m_df(\u001b[38;5;28;43mself\u001b[39;49m\u001b[38;5;241;43m.\u001b[39;49m\u001b[43m_jreader\u001b[49m\u001b[38;5;241;43m.\u001b[39;49m\u001b[43mload\u001b[49m\u001b[43m(\u001b[49m\u001b[43mpath\u001b[49m\u001b[43m)\u001b[49m)\n\u001b[1;32m    205\u001b[0m \u001b[38;5;28;01melif\u001b[39;00m path \u001b[38;5;129;01mis\u001b[39;00m \u001b[38;5;129;01mnot\u001b[39;00m \u001b[38;5;28;01mNone\u001b[39;00m:\n\u001b[1;32m    206\u001b[0m     \u001b[38;5;28;01mif\u001b[39;00m \u001b[38;5;28mtype\u001b[39m(path) \u001b[38;5;241m!=\u001b[39m \u001b[38;5;28mlist\u001b[39m:\n",
      "File \u001b[0;32m/usr/local/lib/python3.10/site-packages/py4j/java_gateway.py:1304\u001b[0m, in \u001b[0;36mJavaMember.__call__\u001b[0;34m(self, *args)\u001b[0m\n\u001b[1;32m   1298\u001b[0m command \u001b[38;5;241m=\u001b[39m proto\u001b[38;5;241m.\u001b[39mCALL_COMMAND_NAME \u001b[38;5;241m+\u001b[39m\\\n\u001b[1;32m   1299\u001b[0m     \u001b[38;5;28mself\u001b[39m\u001b[38;5;241m.\u001b[39mcommand_header \u001b[38;5;241m+\u001b[39m\\\n\u001b[1;32m   1300\u001b[0m     args_command \u001b[38;5;241m+\u001b[39m\\\n\u001b[1;32m   1301\u001b[0m     proto\u001b[38;5;241m.\u001b[39mEND_COMMAND_PART\n\u001b[1;32m   1303\u001b[0m answer \u001b[38;5;241m=\u001b[39m \u001b[38;5;28mself\u001b[39m\u001b[38;5;241m.\u001b[39mgateway_client\u001b[38;5;241m.\u001b[39msend_command(command)\n\u001b[0;32m-> 1304\u001b[0m return_value \u001b[38;5;241m=\u001b[39m \u001b[43mget_return_value\u001b[49m\u001b[43m(\u001b[49m\n\u001b[1;32m   1305\u001b[0m \u001b[43m    \u001b[49m\u001b[43manswer\u001b[49m\u001b[43m,\u001b[49m\u001b[43m \u001b[49m\u001b[38;5;28;43mself\u001b[39;49m\u001b[38;5;241;43m.\u001b[39;49m\u001b[43mgateway_client\u001b[49m\u001b[43m,\u001b[49m\u001b[43m \u001b[49m\u001b[38;5;28;43mself\u001b[39;49m\u001b[38;5;241;43m.\u001b[39;49m\u001b[43mtarget_id\u001b[49m\u001b[43m,\u001b[49m\u001b[43m \u001b[49m\u001b[38;5;28;43mself\u001b[39;49m\u001b[38;5;241;43m.\u001b[39;49m\u001b[43mname\u001b[49m\u001b[43m)\u001b[49m\n\u001b[1;32m   1307\u001b[0m \u001b[38;5;28;01mfor\u001b[39;00m temp_arg \u001b[38;5;129;01min\u001b[39;00m temp_args:\n\u001b[1;32m   1308\u001b[0m     temp_arg\u001b[38;5;241m.\u001b[39m_detach()\n",
      "File \u001b[0;32m/usr/local/lib/python3.10/site-packages/pyspark/sql/utils.py:117\u001b[0m, in \u001b[0;36mcapture_sql_exception.<locals>.deco\u001b[0;34m(*a, **kw)\u001b[0m\n\u001b[1;32m    113\u001b[0m converted \u001b[38;5;241m=\u001b[39m convert_exception(e\u001b[38;5;241m.\u001b[39mjava_exception)\n\u001b[1;32m    114\u001b[0m \u001b[38;5;28;01mif\u001b[39;00m \u001b[38;5;129;01mnot\u001b[39;00m \u001b[38;5;28misinstance\u001b[39m(converted, UnknownException):\n\u001b[1;32m    115\u001b[0m     \u001b[38;5;66;03m# Hide where the exception came from that shows a non-Pythonic\u001b[39;00m\n\u001b[1;32m    116\u001b[0m     \u001b[38;5;66;03m# JVM exception message.\u001b[39;00m\n\u001b[0;32m--> 117\u001b[0m     \u001b[38;5;28;01mraise\u001b[39;00m converted \u001b[38;5;28;01mfrom\u001b[39;00m \u001b[38;5;28mNone\u001b[39m\n\u001b[1;32m    118\u001b[0m \u001b[38;5;28;01melse\u001b[39;00m:\n\u001b[1;32m    119\u001b[0m     \u001b[38;5;28;01mraise\u001b[39;00m\n",
      "\u001b[0;31mAnalysisException\u001b[0m: The provided timestamp ('22-05-20 19:29:50.645000') cannot be converted to a valid timestamp."
     ]
    }
   ],
   "source": [
    "\n",
    "sparkSession.read.format(\"delta\").option(\"timestampAsOf\", dt_s).load(delta_table_path).show()"
   ]
  },
  {
   "cell_type": "code",
   "execution_count": null,
   "id": "b1d7f268-f599-4c20-9acf-e531ae481631",
   "metadata": {},
   "outputs": [],
   "source": []
  },
  {
   "cell_type": "code",
   "execution_count": 155,
   "id": "e7e5b5f5-6bc0-44f4-a841-2cd1943d1c73",
   "metadata": {},
   "outputs": [],
   "source": [
    "from delta.tables import DeltaTable\n",
    "deltaTable = DeltaTable.forPath(sparkSession, delta_table_path)"
   ]
  },
  {
   "cell_type": "code",
   "execution_count": null,
   "id": "fada08bc-d3a4-447e-976a-ac5c1acb9ead",
   "metadata": {},
   "outputs": [],
   "source": []
  },
  {
   "cell_type": "code",
   "execution_count": null,
   "id": "717cc914-d651-4023-a522-95961c481041",
   "metadata": {},
   "outputs": [],
   "source": []
  },
  {
   "cell_type": "code",
   "execution_count": null,
   "id": "6671de36-5598-40f8-86c5-bbb1715f8082",
   "metadata": {},
   "outputs": [],
   "source": []
  },
  {
   "cell_type": "code",
   "execution_count": 162,
   "id": "cd00df3b-51e3-4658-89d9-d1f5d8150591",
   "metadata": {},
   "outputs": [
    {
     "ename": "AnalysisException",
     "evalue": "cannot resolve `C` in UPDATE clause given columns original.`A`, original.`B`",
     "output_type": "error",
     "traceback": [
      "\u001b[0;31m---------------------------------------------------------------------------\u001b[0m",
      "\u001b[0;31mAnalysisException\u001b[0m                         Traceback (most recent call last)",
      "Input \u001b[0;32mIn [162]\u001b[0m, in \u001b[0;36m<cell line: 1>\u001b[0;34m()\u001b[0m\n\u001b[1;32m      1\u001b[0m \u001b[43mdeltaTable\u001b[49m\u001b[38;5;241;43m.\u001b[39;49m\u001b[43malias\u001b[49m\u001b[43m(\u001b[49m\u001b[38;5;124;43m\"\u001b[39;49m\u001b[38;5;124;43moriginal\u001b[39;49m\u001b[38;5;124;43m\"\u001b[39;49m\u001b[43m)\u001b[49m\u001b[38;5;241;43m.\u001b[39;49m\u001b[43mmerge\u001b[49m\u001b[43m(\u001b[49m\n\u001b[1;32m      2\u001b[0m \u001b[43m    \u001b[49m\u001b[43mnew_spark_df\u001b[49m\u001b[38;5;241;43m.\u001b[39;49m\u001b[43malias\u001b[49m\u001b[43m(\u001b[49m\u001b[38;5;124;43m\"\u001b[39;49m\u001b[38;5;124;43mupdates\u001b[39;49m\u001b[38;5;124;43m\"\u001b[39;49m\u001b[43m)\u001b[49m\u001b[43m,\u001b[49m\n\u001b[1;32m      3\u001b[0m \u001b[43m    \u001b[49m\u001b[38;5;124;43m\"\u001b[39;49m\u001b[38;5;124;43moriginal.A = updates.A and original.B = updates.B\u001b[39;49m\u001b[38;5;124;43m\"\u001b[39;49m\n\u001b[1;32m      4\u001b[0m \u001b[43m)\u001b[49m\u001b[38;5;241;43m.\u001b[39;49m\u001b[43mwhenMatchedUpdate\u001b[49m\u001b[43m(\u001b[49m\u001b[38;5;28;43mset\u001b[39;49m\u001b[43m \u001b[49m\u001b[38;5;241;43m=\u001b[39;49m\u001b[43m \u001b[49m\u001b[43m{\u001b[49m\n\u001b[1;32m      5\u001b[0m \u001b[43m    \u001b[49m\u001b[38;5;124;43m\"\u001b[39;49m\u001b[38;5;124;43mA\u001b[39;49m\u001b[38;5;124;43m\"\u001b[39;49m\u001b[43m:\u001b[49m\u001b[43m \u001b[49m\u001b[38;5;124;43m\"\u001b[39;49m\u001b[38;5;124;43mupdates.A\u001b[39;49m\u001b[38;5;124;43m\"\u001b[39;49m\u001b[43m,\u001b[49m\n\u001b[1;32m      6\u001b[0m \u001b[43m    \u001b[49m\u001b[38;5;124;43m\"\u001b[39;49m\u001b[38;5;124;43mB\u001b[39;49m\u001b[38;5;124;43m\"\u001b[39;49m\u001b[43m:\u001b[49m\u001b[43m \u001b[49m\u001b[38;5;124;43m\"\u001b[39;49m\u001b[38;5;124;43mupdates.B\u001b[39;49m\u001b[38;5;124;43m\"\u001b[39;49m\u001b[43m,\u001b[49m\n\u001b[1;32m      7\u001b[0m \u001b[43m    \u001b[49m\u001b[38;5;124;43m\"\u001b[39;49m\u001b[38;5;124;43mC\u001b[39;49m\u001b[38;5;124;43m\"\u001b[39;49m\u001b[43m:\u001b[49m\u001b[43m \u001b[49m\u001b[38;5;124;43m\"\u001b[39;49m\u001b[38;5;124;43mupdates.C\u001b[39;49m\u001b[38;5;124;43m\"\u001b[39;49m\n\u001b[1;32m      8\u001b[0m \u001b[43m}\u001b[49m\u001b[43m)\u001b[49m\u001b[43m \u001b[49m\u001b[43m\\\u001b[49m\n\u001b[1;32m      9\u001b[0m \u001b[38;5;241;43m.\u001b[39;49m\u001b[43mwhenNotMatchedInsert\u001b[49m\u001b[43m(\u001b[49m\u001b[43mvalues\u001b[49m\u001b[43m \u001b[49m\u001b[38;5;241;43m=\u001b[39;49m\u001b[43m \u001b[49m\u001b[43m{\u001b[49m\n\u001b[1;32m     10\u001b[0m \u001b[43m    \u001b[49m\u001b[38;5;124;43m\"\u001b[39;49m\u001b[38;5;124;43mA\u001b[39;49m\u001b[38;5;124;43m\"\u001b[39;49m\u001b[43m:\u001b[49m\u001b[43m \u001b[49m\u001b[38;5;124;43m\"\u001b[39;49m\u001b[38;5;124;43mupdates.A\u001b[39;49m\u001b[38;5;124;43m\"\u001b[39;49m\u001b[43m,\u001b[49m\n\u001b[1;32m     11\u001b[0m \u001b[43m    \u001b[49m\u001b[38;5;124;43m\"\u001b[39;49m\u001b[38;5;124;43mB\u001b[39;49m\u001b[38;5;124;43m\"\u001b[39;49m\u001b[43m:\u001b[49m\u001b[43m \u001b[49m\u001b[38;5;124;43m\"\u001b[39;49m\u001b[38;5;124;43mupdates.B\u001b[39;49m\u001b[38;5;124;43m\"\u001b[39;49m\u001b[43m,\u001b[49m\n\u001b[1;32m     12\u001b[0m \u001b[43m    \u001b[49m\u001b[38;5;124;43m\"\u001b[39;49m\u001b[38;5;124;43mC\u001b[39;49m\u001b[38;5;124;43m\"\u001b[39;49m\u001b[43m:\u001b[49m\u001b[43m \u001b[49m\u001b[38;5;124;43m\"\u001b[39;49m\u001b[38;5;124;43mupdates.C\u001b[39;49m\u001b[38;5;124;43m\"\u001b[39;49m\n\u001b[0;32m---> 13\u001b[0m \u001b[43m}\u001b[49m\u001b[43m)\u001b[49m\u001b[38;5;241;43m.\u001b[39;49m\u001b[43mexecute\u001b[49m\u001b[43m(\u001b[49m\u001b[43m)\u001b[49m\n",
      "File \u001b[0;32m/usr/local/lib/python3.10/site-packages/delta/tables.py:689\u001b[0m, in \u001b[0;36mDeltaMergeBuilder.execute\u001b[0;34m(self)\u001b[0m\n\u001b[1;32m    682\u001b[0m \u001b[38;5;129m@since\u001b[39m(\u001b[38;5;241m0.4\u001b[39m)\n\u001b[1;32m    683\u001b[0m \u001b[38;5;28;01mdef\u001b[39;00m \u001b[38;5;21mexecute\u001b[39m(\u001b[38;5;28mself\u001b[39m):\n\u001b[1;32m    684\u001b[0m     \u001b[38;5;124;03m\"\"\"\u001b[39;00m\n\u001b[1;32m    685\u001b[0m \u001b[38;5;124;03m    Execute the merge operation based on the built matched and not matched actions.\u001b[39;00m\n\u001b[1;32m    686\u001b[0m \n\u001b[1;32m    687\u001b[0m \u001b[38;5;124;03m    See :py:class:`~delta.tables.DeltaMergeBuilder` for complete usage details.\u001b[39;00m\n\u001b[1;32m    688\u001b[0m \u001b[38;5;124;03m    \"\"\"\u001b[39;00m\n\u001b[0;32m--> 689\u001b[0m     \u001b[38;5;28;43mself\u001b[39;49m\u001b[38;5;241;43m.\u001b[39;49m\u001b[43m_jbuilder\u001b[49m\u001b[38;5;241;43m.\u001b[39;49m\u001b[43mexecute\u001b[49m\u001b[43m(\u001b[49m\u001b[43m)\u001b[49m\n",
      "File \u001b[0;32m/usr/local/lib/python3.10/site-packages/py4j/java_gateway.py:1304\u001b[0m, in \u001b[0;36mJavaMember.__call__\u001b[0;34m(self, *args)\u001b[0m\n\u001b[1;32m   1298\u001b[0m command \u001b[38;5;241m=\u001b[39m proto\u001b[38;5;241m.\u001b[39mCALL_COMMAND_NAME \u001b[38;5;241m+\u001b[39m\\\n\u001b[1;32m   1299\u001b[0m     \u001b[38;5;28mself\u001b[39m\u001b[38;5;241m.\u001b[39mcommand_header \u001b[38;5;241m+\u001b[39m\\\n\u001b[1;32m   1300\u001b[0m     args_command \u001b[38;5;241m+\u001b[39m\\\n\u001b[1;32m   1301\u001b[0m     proto\u001b[38;5;241m.\u001b[39mEND_COMMAND_PART\n\u001b[1;32m   1303\u001b[0m answer \u001b[38;5;241m=\u001b[39m \u001b[38;5;28mself\u001b[39m\u001b[38;5;241m.\u001b[39mgateway_client\u001b[38;5;241m.\u001b[39msend_command(command)\n\u001b[0;32m-> 1304\u001b[0m return_value \u001b[38;5;241m=\u001b[39m \u001b[43mget_return_value\u001b[49m\u001b[43m(\u001b[49m\n\u001b[1;32m   1305\u001b[0m \u001b[43m    \u001b[49m\u001b[43manswer\u001b[49m\u001b[43m,\u001b[49m\u001b[43m \u001b[49m\u001b[38;5;28;43mself\u001b[39;49m\u001b[38;5;241;43m.\u001b[39;49m\u001b[43mgateway_client\u001b[49m\u001b[43m,\u001b[49m\u001b[43m \u001b[49m\u001b[38;5;28;43mself\u001b[39;49m\u001b[38;5;241;43m.\u001b[39;49m\u001b[43mtarget_id\u001b[49m\u001b[43m,\u001b[49m\u001b[43m \u001b[49m\u001b[38;5;28;43mself\u001b[39;49m\u001b[38;5;241;43m.\u001b[39;49m\u001b[43mname\u001b[49m\u001b[43m)\u001b[49m\n\u001b[1;32m   1307\u001b[0m \u001b[38;5;28;01mfor\u001b[39;00m temp_arg \u001b[38;5;129;01min\u001b[39;00m temp_args:\n\u001b[1;32m   1308\u001b[0m     temp_arg\u001b[38;5;241m.\u001b[39m_detach()\n",
      "File \u001b[0;32m/usr/local/lib/python3.10/site-packages/pyspark/sql/utils.py:117\u001b[0m, in \u001b[0;36mcapture_sql_exception.<locals>.deco\u001b[0;34m(*a, **kw)\u001b[0m\n\u001b[1;32m    113\u001b[0m converted \u001b[38;5;241m=\u001b[39m convert_exception(e\u001b[38;5;241m.\u001b[39mjava_exception)\n\u001b[1;32m    114\u001b[0m \u001b[38;5;28;01mif\u001b[39;00m \u001b[38;5;129;01mnot\u001b[39;00m \u001b[38;5;28misinstance\u001b[39m(converted, UnknownException):\n\u001b[1;32m    115\u001b[0m     \u001b[38;5;66;03m# Hide where the exception came from that shows a non-Pythonic\u001b[39;00m\n\u001b[1;32m    116\u001b[0m     \u001b[38;5;66;03m# JVM exception message.\u001b[39;00m\n\u001b[0;32m--> 117\u001b[0m     \u001b[38;5;28;01mraise\u001b[39;00m converted \u001b[38;5;28;01mfrom\u001b[39;00m \u001b[38;5;28mNone\u001b[39m\n\u001b[1;32m    118\u001b[0m \u001b[38;5;28;01melse\u001b[39;00m:\n\u001b[1;32m    119\u001b[0m     \u001b[38;5;28;01mraise\u001b[39;00m\n",
      "\u001b[0;31mAnalysisException\u001b[0m: cannot resolve `C` in UPDATE clause given columns original.`A`, original.`B`"
     ]
    }
   ],
   "source": [
    "deltaTable.alias(\"original\").merge(\n",
    "    new_spark_df.alias(\"updates\"),\n",
    "    \"original.A = updates.A and original.B = updates.B\"\n",
    ").whenMatchedUpdate(set = {\n",
    "    \"A\": \"updates.A\",\n",
    "    \"B\": \"updates.B\",\n",
    "    \"C\": \"updates.C\"\n",
    "}) \\\n",
    ".whenNotMatchedInsert(values = {\n",
    "    \"A\": \"updates.A\",\n",
    "    \"B\": \"updates.B\",\n",
    "    \"C\": \"updates.C\"\n",
    "}).execute()"
   ]
  },
  {
   "cell_type": "code",
   "execution_count": null,
   "id": "6f5a9cd0-07fd-4d78-ac20-f60ed2aea3a6",
   "metadata": {},
   "outputs": [],
   "source": []
  },
  {
   "cell_type": "code",
   "execution_count": null,
   "id": "4d577c84-000a-4a76-a071-a04bea236552",
   "metadata": {},
   "outputs": [],
   "source": []
  },
  {
   "cell_type": "markdown",
   "id": "082c62cb-50ef-4fe8-99da-5fb86a3c84b0",
   "metadata": {},
   "source": [
    "# Retention"
   ]
  },
  {
   "cell_type": "markdown",
   "id": "6371b74a-cc2d-45a3-be9d-bc7d72f896ba",
   "metadata": {},
   "source": [
    "# Restoring"
   ]
  },
  {
   "cell_type": "code",
   "execution_count": null,
   "id": "e8148232-85cd-4ce6-9d91-b7406981c310",
   "metadata": {},
   "outputs": [],
   "source": []
  }
 ],
 "metadata": {
  "kernelspec": {
   "display_name": "Python 3 (ipykernel)",
   "language": "python",
   "name": "python3"
  },
  "language_info": {
   "codemirror_mode": {
    "name": "ipython",
    "version": 3
   },
   "file_extension": ".py",
   "mimetype": "text/x-python",
   "name": "python",
   "nbconvert_exporter": "python",
   "pygments_lexer": "ipython3",
   "version": "3.10.1"
  }
 },
 "nbformat": 4,
 "nbformat_minor": 5
}
