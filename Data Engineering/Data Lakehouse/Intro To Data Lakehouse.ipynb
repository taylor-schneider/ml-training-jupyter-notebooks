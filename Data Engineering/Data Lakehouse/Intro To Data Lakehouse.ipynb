{
 "cells": [
  {
   "cell_type": "markdown",
   "id": "4a1d7973-556c-40b7-b91f-d635a8ad9865",
   "metadata": {},
   "source": [
    "# Overview\n",
    "The concept of a data lakehouse, or simply lakehouse, is the next generation of datastore architectures. According to the original [whitepaper](http://cidrdb.org/cidr2021/papers/cidr2021_paper17.pdf), a lakehouse architecture seeks to replace that of a data warehouse. \n",
    "\n",
    "In this notebook we cover\n",
    "1. History Of Data Architectures\n",
    "2. Current Implimentations"
   ]
  },
  {
   "cell_type": "markdown",
   "id": "8cf280b5-36cd-47c7-b768-4e13e12069af",
   "metadata": {},
   "source": [
    "# 1. History Of Data Architectures\n",
    "At this point in time there are three generations of data store architectures that have evolved over the last 50 years. The data lakehouse is the third generation.\n",
    "\n",
    "Below we see an illustration of these architectures:\n",
    "\n",
    "<center><img src='images/datastore-generation-comparision.png'></center>\n",
    "\n",
    "In the next few sections we will review these concepts indetail."
   ]
  },
  {
   "cell_type": "markdown",
   "id": "4b2ecaaa-018c-4fa1-9103-622675e5afec",
   "metadata": {},
   "source": [
    "## 1.1. Generation I (Data Warehouse / Data Mart - 1970s)\n",
    "In the 1970's ACNielsen (a data provider) offered their clients a Data Mart to store information digitally and enhance their sales efforts. A \"Data Mart\" is an archive of stored, normally structured data, typically used and controlled by a specific community or department. It is normally smaller and more focused than a Data Warehouse and, currently, is often a subdivision of Data Warehouses. Data Marts were the first evolutionary step in the physical reality of Data Warehouses and Data Lakes.\n",
    "\n",
    "In the 1980's IBM researchers Barry Devlin and Paul Murphy developed the \"business data warehouse\". In essence, the data warehousing concept was intended to provide an architectural model for the flow of data from operational systems to decision support environments. The concept attempted to address the various problems associated with this flow, mainly the high costs associated with it. In the absence of a data warehousing architecture, an enormous amount of redundancy was required to support multiple decision support environments. In larger corporations, it was typical for multiple decision support environments to operate independently. Though each environment served different users, they often required much of the same stored data. \n",
    "\n",
    "Generally speaking a data warehouse has the following features:\n",
    "- subject oriented - information specif to a given subject (not all data in the company)\n",
    "- integrated - standardized format / naming\n",
    "- time-variant - contains historical information\n",
    "- nonvolatile - de data only flows in, it is not changed nor deleted\n",
    "- summarized - provides insights for data analytics / BI\n",
    "\n",
    "Generally speaking, this generation faced the following problems:\n",
    "1. Coupled compute and storage\n",
    "2. On-Premis Implimentations\n",
    "3. Schema-on-write for unstructured data"
   ]
  },
  {
   "cell_type": "markdown",
   "id": "16933ac0-092e-4f65-9e50-70a91c20bced",
   "metadata": {},
   "source": [
    "## 1.2. Generation II (Data Lakes - 2000s)\n",
    "The term was coined by James Dixon, founder and former CTO of Pentaho, in 2010. According to Dixon: \n",
    "\n",
    "> “If you think of a Data Mart as a store of bottled water, cleansed and packaged and structured for easy consumption, the Data Lake is a large body of water in a more natural state. The contents of the Data Lake stream in from a source to fill the lake, and various users of the lake can come to examine, dive in, or take samples.”\n",
    "\n",
    "This generation arose to solve the problems of the previous generation and was made practical with the cloud becoming an affordable mainstream solution. To be clear, Data Lakes do not replace data warehouses and data marts, they are used in tandem.\n",
    "\n",
    "Generally speaking a data lakes offer the following features:\n",
    "- Low Storage Cost\n",
    "- Scalability\n",
    "- Support for structured, semi-structured, and unstructured data\n",
    "- Schema on read\n",
    "- Reliability\n",
    "- Cloud/clustered implimentations\n",
    "\n",
    "Generally speaking, this generation faced the following problems:\n",
    "- Consisttency (ACID)\n",
    "- Advanced analytics\n",
    "- Continued need for a warehouse\n",
    "- Data duplication costs\n",
    "- Support for ML"
   ]
  },
  {
   "cell_type": "markdown",
   "id": "1847290c-0fc1-4f23-bb03-186eb7c7983c",
   "metadata": {},
   "source": [
    "## 1.3. Generation III (Data Lakehouse - 2020s)\n",
    "In Jan 2021 a [publication](http://cidrdb.org/cidr2021/papers/cidr2021_paper17.pdf) written by researchers at UC Berkly, Standford, and Databricks laid out the problems with Gen. II and a proposal for a new architecture. It presents a hybrid approach which offers the best features of both the data warehouse and the data lake.\n",
    "\n",
    "Generally speaking a data warehouse offers the following additional features:\n",
    "- Built in support for Data Management and ETL\n",
    "- Support for ML\n",
    "- SQL performance\n",
    "- Data versioning\n",
    "- ACID compliance"
   ]
  },
  {
   "cell_type": "markdown",
   "id": "0da53e10-1191-4fb9-8413-2030ddc86e19",
   "metadata": {},
   "source": [
    "# 2. Implimentations\n",
    "\n",
    "1. Databricks DeltaLake - A commercial and non-commercial opensource offering\n",
    "2. Dremio - A commercial closed source offering\n",
    "3. Snowflake - A commercial closed source offering\n",
    "4. DataLakeHouse.io - A commercial closed source offering based on snowflake"
   ]
  },
  {
   "cell_type": "markdown",
   "id": "8a700609-40d2-45df-8989-e70ef0aaaacf",
   "metadata": {},
   "source": [
    "# Reference Materials\n",
    "- [A brief history of data lakes](https://www.dataversity.net/brief-history-data-lakes/#)\n",
    "- [Wikipedia - Data Warehouses](https://en.wikipedia.org/wiki/Data_warehouse#History)\n",
    "- [Lakehouse: A New Generation of Open Platforms that Unify\n",
    "Data Warehousing and Advanced Analytics](http://cidrdb.org/cidr2021/papers/cidr2021_paper17.pdf)\n",
    "- [A Brief History of Data Lakes](https://www.dataversity.net/brief-history-data-lakes/#)\n",
    "- "
   ]
  }
 ],
 "metadata": {
  "kernelspec": {
   "display_name": "Python 3 (ipykernel)",
   "language": "python",
   "name": "python3"
  },
  "language_info": {
   "codemirror_mode": {
    "name": "ipython",
    "version": 3
   },
   "file_extension": ".py",
   "mimetype": "text/x-python",
   "name": "python",
   "nbconvert_exporter": "python",
   "pygments_lexer": "ipython3",
   "version": "3.9.1"
  }
 },
 "nbformat": 4,
 "nbformat_minor": 5
}
