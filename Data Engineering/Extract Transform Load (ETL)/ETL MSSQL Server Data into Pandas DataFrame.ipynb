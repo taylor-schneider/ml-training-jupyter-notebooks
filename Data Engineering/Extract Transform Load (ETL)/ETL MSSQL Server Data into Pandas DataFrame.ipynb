{
 "cells": [
  {
   "cell_type": "code",
   "execution_count": 1,
   "metadata": {},
   "outputs": [],
   "source": [
    "import pandas as pd"
   ]
  },
  {
   "cell_type": "code",
   "execution_count": 2,
   "metadata": {},
   "outputs": [],
   "source": [
    "# Import the pyodbc driver\n",
    "import pyodbc"
   ]
  },
  {
   "cell_type": "code",
   "execution_count": 3,
   "metadata": {},
   "outputs": [
    {
     "data": {
      "text/plain": [
       "['SQL Server',\n",
       " 'SQL Server Native Client 11.0',\n",
       " 'ODBC Driver 17 for SQL Server']"
      ]
     },
     "execution_count": 3,
     "metadata": {},
     "output_type": "execute_result"
    }
   ],
   "source": [
    "# Show a list of available drivers that can be used with pyodbc\n",
    "pyodbc.drivers()"
   ]
  },
  {
   "cell_type": "code",
   "execution_count": 4,
   "metadata": {},
   "outputs": [],
   "source": [
    "# Set some parameters to make our connection to the sql database\n",
    "SQL_SERVER = 'test_server'\n",
    "SQL_DATABASE = 'nasdaq_data'\n",
    "SQL_DRIVER = '{SQL Server}' "
   ]
  },
  {
   "cell_type": "code",
   "execution_count": 5,
   "metadata": {},
   "outputs": [],
   "source": [
    "# Connect to the database\n",
    "cn = pyodbc.connect(driver = SQL_DRIVER,\n",
    "                    server = SQL_SERVER,\n",
    "                    database = SQL_DATABASE,\n",
    "                    trusted_connection='yes')"
   ]
  },
  {
   "cell_type": "code",
   "execution_count": 6,
   "metadata": {},
   "outputs": [
    {
     "data": {
      "text/html": [
       "<div>\n",
       "<style scoped>\n",
       "    .dataframe tbody tr th:only-of-type {\n",
       "        vertical-align: middle;\n",
       "    }\n",
       "\n",
       "    .dataframe tbody tr th {\n",
       "        vertical-align: top;\n",
       "    }\n",
       "\n",
       "    .dataframe thead th {\n",
       "        text-align: right;\n",
       "    }\n",
       "</style>\n",
       "<table border=\"1\" class=\"dataframe\">\n",
       "  <thead>\n",
       "    <tr style=\"text-align: right;\">\n",
       "      <th></th>\n",
       "      <th>\"ticker\"</th>\n",
       "      <th>\"interval\"</th>\n",
       "      <th>\"date\"</th>\n",
       "      <th>\"open\"</th>\n",
       "      <th>\"high\"</th>\n",
       "      <th>\"low\"</th>\n",
       "      <th>\"close\"</th>\n",
       "      <th>\"volume\"</th>\n",
       "    </tr>\n",
       "  </thead>\n",
       "  <tbody>\n",
       "    <tr>\n",
       "      <th>0</th>\n",
       "      <td>\"BPTH\"</td>\n",
       "      <td>\"D\"</td>\n",
       "      <td>\"2019-07-18\"</td>\n",
       "      <td>\"14.46\"</td>\n",
       "      <td>\"14.79\"</td>\n",
       "      <td>\"13.75\"</td>\n",
       "      <td>\"13.87\"</td>\n",
       "      <td>\"268400\"</td>\n",
       "    </tr>\n",
       "    <tr>\n",
       "      <th>1</th>\n",
       "      <td>\"BPY\"</td>\n",
       "      <td>\"D\"</td>\n",
       "      <td>\"2019-07-18\"</td>\n",
       "      <td>\"18.85\"</td>\n",
       "      <td>\"19\"</td>\n",
       "      <td>\"18.75\"</td>\n",
       "      <td>\"18.95\"</td>\n",
       "      <td>\"488700\"</td>\n",
       "    </tr>\n",
       "    <tr>\n",
       "      <th>2</th>\n",
       "      <td>\"BPYPP\"</td>\n",
       "      <td>\"D\"</td>\n",
       "      <td>\"2019-07-18\"</td>\n",
       "      <td>\"25.38\"</td>\n",
       "      <td>\"25.47\"</td>\n",
       "      <td>\"25.3186\"</td>\n",
       "      <td>\"25.39\"</td>\n",
       "      <td>\"20200\"</td>\n",
       "    </tr>\n",
       "    <tr>\n",
       "      <th>3</th>\n",
       "      <td>\"BRAC\"</td>\n",
       "      <td>\"D\"</td>\n",
       "      <td>\"2019-07-18\"</td>\n",
       "      <td>\"10.21\"</td>\n",
       "      <td>\"10.2377\"</td>\n",
       "      <td>\"10.2\"</td>\n",
       "      <td>\"10.217\"</td>\n",
       "      <td>\"3900\"</td>\n",
       "    </tr>\n",
       "    <tr>\n",
       "      <th>4</th>\n",
       "      <td>\"BRACR\"</td>\n",
       "      <td>\"D\"</td>\n",
       "      <td>\"2019-07-18\"</td>\n",
       "      <td>\"0.35\"</td>\n",
       "      <td>\"0.39\"</td>\n",
       "      <td>\"0.3005\"</td>\n",
       "      <td>\"0.35\"</td>\n",
       "      <td>\"142500\"</td>\n",
       "    </tr>\n",
       "  </tbody>\n",
       "</table>\n",
       "</div>"
      ],
      "text/plain": [
       "  \"ticker\" \"interval\"        \"date\"   \"open\"     \"high\"      \"low\"   \"close\"  \\\n",
       "0   \"BPTH\"        \"D\"  \"2019-07-18\"  \"14.46\"    \"14.79\"    \"13.75\"   \"13.87\"   \n",
       "1    \"BPY\"        \"D\"  \"2019-07-18\"  \"18.85\"       \"19\"    \"18.75\"   \"18.95\"   \n",
       "2  \"BPYPP\"        \"D\"  \"2019-07-18\"  \"25.38\"    \"25.47\"  \"25.3186\"   \"25.39\"   \n",
       "3   \"BRAC\"        \"D\"  \"2019-07-18\"  \"10.21\"  \"10.2377\"     \"10.2\"  \"10.217\"   \n",
       "4  \"BRACR\"        \"D\"  \"2019-07-18\"   \"0.35\"     \"0.39\"   \"0.3005\"    \"0.35\"   \n",
       "\n",
       "   \"volume\"  \n",
       "0  \"268400\"  \n",
       "1  \"488700\"  \n",
       "2   \"20200\"  \n",
       "3    \"3900\"  \n",
       "4  \"142500\"  "
      ]
     },
     "execution_count": 6,
     "metadata": {},
     "output_type": "execute_result"
    }
   ],
   "source": [
    "# Execute a sql query and store the results in a dataframe\n",
    "SQL_QUERY_STRING = \"SELECT top 5 * FROM nasdaq_2019\"\n",
    "SQL_Query = pd.read_sql_query(SQL_QUERY_STRING, cn)\n",
    "df =  pd.DataFrame(SQL_Query)\n",
    "df"
   ]
  }
 ],
 "metadata": {
  "kernelspec": {
   "display_name": "Python 3",
   "language": "python",
   "name": "python3"
  },
  "language_info": {
   "codemirror_mode": {
    "name": "ipython",
    "version": 3
   },
   "file_extension": ".py",
   "mimetype": "text/x-python",
   "name": "python",
   "nbconvert_exporter": "python",
   "pygments_lexer": "ipython3",
   "version": "3.6.8"
  }
 },
 "nbformat": 4,
 "nbformat_minor": 4
}
