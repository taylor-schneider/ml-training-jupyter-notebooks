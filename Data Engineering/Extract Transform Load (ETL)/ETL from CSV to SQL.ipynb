{
 "cells": [
  {
   "cell_type": "markdown",
   "metadata": {},
   "source": [
    "# Overview\n",
    "In this notebook we will Extract data from a CSV, Transform the data, and then Load the data into SQL Server, all using python.\n",
    "\n",
    "Our workflow will consist of the following steps:\n",
    "1. Extract the data from csv\n",
    "2. Transform the data\n",
    "3. Load the data into SQL\n"
   ]
  },
  {
   "cell_type": "markdown",
   "metadata": {},
   "source": [
    "# Step 1 - 2: Extract and Transform the CSV data\n",
    "This code is copy pasted from the notebook about Data Preparation using Pandas"
   ]
  },
  {
   "cell_type": "code",
   "execution_count": 15,
   "metadata": {},
   "outputs": [],
   "source": [
    "# Import the pandas library\n",
    "import pandas"
   ]
  },
  {
   "cell_type": "code",
   "execution_count": 16,
   "metadata": {},
   "outputs": [],
   "source": [
    "# Define a conversion function to (T) Transform our data\n",
    "def convert_percent_string_to_float(raw_string):\n",
    "    \n",
    "    # The input variable will be a byte array\n",
    "    # We will convert this to a string\n",
    "\n",
    "    # We then do our manipulation\n",
    "    raw_string = raw_string.strip()\n",
    "    raw_string = raw_string.strip(\"%\")\n",
    "\n",
    "    # Make it a float\n",
    "    input_float = float(raw_string)\n",
    "\n",
    "    # We move the decimal place\n",
    "    result = input_float/100\n",
    "\n",
    "    return result"
   ]
  },
  {
   "cell_type": "code",
   "execution_count": 17,
   "metadata": {},
   "outputs": [
    {
     "name": "stderr",
     "output_type": "stream",
     "text": [
      "c:\\program files\\python36\\lib\\site-packages\\ipykernel_launcher.py:17: ParserWarning: Both a converter and dtype were specified for column percents - only the converter will be used\n"
     ]
    },
    {
     "data": {
      "text/html": [
       "<div>\n",
       "<style scoped>\n",
       "    .dataframe tbody tr th:only-of-type {\n",
       "        vertical-align: middle;\n",
       "    }\n",
       "\n",
       "    .dataframe tbody tr th {\n",
       "        vertical-align: top;\n",
       "    }\n",
       "\n",
       "    .dataframe thead th {\n",
       "        text-align: right;\n",
       "    }\n",
       "</style>\n",
       "<table border=\"1\" class=\"dataframe\">\n",
       "  <thead>\n",
       "    <tr style=\"text-align: right;\">\n",
       "      <th></th>\n",
       "      <th>dates</th>\n",
       "      <th>ints</th>\n",
       "      <th>percents</th>\n",
       "      <th>numbers</th>\n",
       "    </tr>\n",
       "  </thead>\n",
       "  <tbody>\n",
       "    <tr>\n",
       "      <th>0</th>\n",
       "      <td>2019-04-08</td>\n",
       "      <td>1</td>\n",
       "      <td>0.023</td>\n",
       "      <td>45.0</td>\n",
       "    </tr>\n",
       "    <tr>\n",
       "      <th>1</th>\n",
       "      <td>2019-04-08</td>\n",
       "      <td>6</td>\n",
       "      <td>0.789</td>\n",
       "      <td>0.0</td>\n",
       "    </tr>\n",
       "  </tbody>\n",
       "</table>\n",
       "</div>"
      ],
      "text/plain": [
       "       dates  ints  percents  numbers\n",
       "0 2019-04-08     1     0.023     45.0\n",
       "1 2019-04-08     6     0.789      0.0"
      ]
     },
     "execution_count": 17,
     "metadata": {},
     "output_type": "execute_result"
    }
   ],
   "source": [
    "# Setup some other parameters to instruct the pandas function how and what we are importing\n",
    "column_names = (\"dates\", \"ints\", \"percents\", \"numbers\")\n",
    "test_data_string = \"2019-04-08, 1, 2.3%, 45.\\n2019-04-08, 6, 78.9%, 0\"\n",
    "delimiter = \",\"\n",
    "converter_mapping = {\n",
    "    \"percents\": convert_percent_string_to_float\n",
    "}\n",
    "column_types = \"object,int,float,float\"\n",
    "\n",
    "# Import a module to help us import data\n",
    "# This module implements a file-like class, StringIO, that reads and writes a string buffer\n",
    "import io\n",
    "\n",
    "# Create a file handle for our string data\n",
    "test_data_file_handle = io.StringIO(test_data_string)\n",
    "\n",
    "my_dataframe = pandas.read_csv(test_data_file_handle, names=column_names, dtype=column_types, parse_dates=[\"dates\"], converters=converter_mapping)\n",
    "\n",
    "my_dataframe"
   ]
  },
  {
   "cell_type": "markdown",
   "metadata": {},
   "source": [
    "# 3. Load the data into SQL\n",
    "We will use the ODBC driver and the python wrapper to connect our jupyter notebook to the MS SQL server. These need to be installed ahead of time."
   ]
  },
  {
   "cell_type": "code",
   "execution_count": 2,
   "metadata": {},
   "outputs": [],
   "source": [
    "# Import the pyodbc driver (this allows python to talk to SQL Server)\n",
    "import pyodbc"
   ]
  },
  {
   "cell_type": "code",
   "execution_count": 3,
   "metadata": {},
   "outputs": [
    {
     "data": {
      "text/plain": [
       "['SQL Server',\n",
       " 'SQL Server Native Client 11.0',\n",
       " 'ODBC Driver 17 for SQL Server']"
      ]
     },
     "execution_count": 3,
     "metadata": {},
     "output_type": "execute_result"
    }
   ],
   "source": [
    "# Show a list of available drivers that can be used with pyodbc\n",
    "pyodbc.drivers()"
   ]
  },
  {
   "cell_type": "code",
   "execution_count": 4,
   "metadata": {},
   "outputs": [],
   "source": [
    "# Set some parameters to make our connection to the sql database\n",
    "sql_server_name = 'my-server'\n",
    "sql_database_name = 'Training'\n",
    "sql_driver_specification = '{ODBC Driver 17 for SQL Server}' # Note: The SQL Server driver will not work for this db"
   ]
  },
  {
   "cell_type": "code",
   "execution_count": 5,
   "metadata": {},
   "outputs": [
    {
     "data": {
      "text/plain": [
       "<pyodbc.Connection at 0x259e0c37c60>"
      ]
     },
     "execution_count": 5,
     "metadata": {},
     "output_type": "execute_result"
    }
   ],
   "source": [
    "# Connect to the database\n",
    "sql_connection = pyodbc.connect(driver = sql_driver_specification,\n",
    "                    server = sql_server_name,\n",
    "                    database = sql_database_name,\n",
    "                    trusted_connection='yes')\n",
    "sql_connection"
   ]
  },
  {
   "cell_type": "code",
   "execution_count": 43,
   "metadata": {},
   "outputs": [
    {
     "name": "stdout",
     "output_type": "stream",
     "text": [
      "\n",
      "if not exists (select * from sysobjects where name='taylor_training' and xtype='U')\n",
      "    CREATE TABLE taylor_training (\n",
      "        dates date,\n",
      "        ints int,\n",
      "        percents float,\n",
      "        numbers float\n",
      "    )\n",
      "\n",
      "Table Exists!\n"
     ]
    }
   ],
   "source": [
    "# Create a table in our database which will hold our data\n",
    "table_name = 'taylor_training'\n",
    "sql_query = \"\"\"\n",
    "if not exists (select * from sysobjects where name='{0}' and xtype='U')\n",
    "    CREATE TABLE {1} (\n",
    "        dates date,\n",
    "        ints int,\n",
    "        percents float,\n",
    "        numbers float\n",
    "    )\n",
    "\"\"\"\n",
    "sql_query = sql_query.format(table_name, table_name)\n",
    "print(sql_query)\n",
    "cursor = sql_connection.cursor()\n",
    "cursor.execute(sql_query)\n",
    "sql_connection.commit()\n",
    "print(\"Table Exists!\")"
   ]
  },
  {
   "cell_type": "code",
   "execution_count": 52,
   "metadata": {},
   "outputs": [],
   "source": [
    "# Write a template for a query we can reuse\n",
    "sql_insert_query_template = \"\"\"\n",
    "INSERT INTO {0} (dates, ints, percents, numbers)\n",
    "VALUES ('{1}', '{2}', '{3}', '{4}');\n",
    "\"\"\"\n",
    "\n",
    "# Loop through the rows, populate the template with values, execute the query\n",
    "for index, row in my_dataframe.iterrows():\n",
    "    sql_insert_query = sql_insert_query_template.format(table_name, row[\"dates\"], row[\"ints\"], row[\"percents\"], row[\"numbers\"])\n",
    "    cursor.execute(sql_insert_query)\n",
    "    sql_connection.commit()  "
   ]
  },
  {
   "cell_type": "code",
   "execution_count": 53,
   "metadata": {},
   "outputs": [
    {
     "data": {
      "text/html": [
       "<div>\n",
       "<style scoped>\n",
       "    .dataframe tbody tr th:only-of-type {\n",
       "        vertical-align: middle;\n",
       "    }\n",
       "\n",
       "    .dataframe tbody tr th {\n",
       "        vertical-align: top;\n",
       "    }\n",
       "\n",
       "    .dataframe thead th {\n",
       "        text-align: right;\n",
       "    }\n",
       "</style>\n",
       "<table border=\"1\" class=\"dataframe\">\n",
       "  <thead>\n",
       "    <tr style=\"text-align: right;\">\n",
       "      <th></th>\n",
       "      <th>dates</th>\n",
       "      <th>ints</th>\n",
       "      <th>percents</th>\n",
       "      <th>numbers</th>\n",
       "    </tr>\n",
       "  </thead>\n",
       "  <tbody>\n",
       "    <tr>\n",
       "      <th>0</th>\n",
       "      <td>2019-04-08</td>\n",
       "      <td>1</td>\n",
       "      <td>0.023</td>\n",
       "      <td>45.0</td>\n",
       "    </tr>\n",
       "    <tr>\n",
       "      <th>1</th>\n",
       "      <td>2019-04-08</td>\n",
       "      <td>1</td>\n",
       "      <td>0.023</td>\n",
       "      <td>45.0</td>\n",
       "    </tr>\n",
       "    <tr>\n",
       "      <th>2</th>\n",
       "      <td>2019-04-08</td>\n",
       "      <td>1</td>\n",
       "      <td>0.023</td>\n",
       "      <td>45.0</td>\n",
       "    </tr>\n",
       "    <tr>\n",
       "      <th>3</th>\n",
       "      <td>2019-04-08</td>\n",
       "      <td>1</td>\n",
       "      <td>0.023</td>\n",
       "      <td>45.0</td>\n",
       "    </tr>\n",
       "    <tr>\n",
       "      <th>4</th>\n",
       "      <td>2019-04-08</td>\n",
       "      <td>6</td>\n",
       "      <td>0.789</td>\n",
       "      <td>0.0</td>\n",
       "    </tr>\n",
       "    <tr>\n",
       "      <th>5</th>\n",
       "      <td>2019-04-08</td>\n",
       "      <td>1</td>\n",
       "      <td>0.023</td>\n",
       "      <td>45.0</td>\n",
       "    </tr>\n",
       "    <tr>\n",
       "      <th>6</th>\n",
       "      <td>2019-04-08</td>\n",
       "      <td>6</td>\n",
       "      <td>0.789</td>\n",
       "      <td>0.0</td>\n",
       "    </tr>\n",
       "    <tr>\n",
       "      <th>7</th>\n",
       "      <td>2019-04-08</td>\n",
       "      <td>1</td>\n",
       "      <td>0.023</td>\n",
       "      <td>45.0</td>\n",
       "    </tr>\n",
       "    <tr>\n",
       "      <th>8</th>\n",
       "      <td>2019-04-08</td>\n",
       "      <td>6</td>\n",
       "      <td>0.789</td>\n",
       "      <td>0.0</td>\n",
       "    </tr>\n",
       "  </tbody>\n",
       "</table>\n",
       "</div>"
      ],
      "text/plain": [
       "        dates  ints  percents  numbers\n",
       "0  2019-04-08     1     0.023     45.0\n",
       "1  2019-04-08     1     0.023     45.0\n",
       "2  2019-04-08     1     0.023     45.0\n",
       "3  2019-04-08     1     0.023     45.0\n",
       "4  2019-04-08     6     0.789      0.0\n",
       "5  2019-04-08     1     0.023     45.0\n",
       "6  2019-04-08     6     0.789      0.0\n",
       "7  2019-04-08     1     0.023     45.0\n",
       "8  2019-04-08     6     0.789      0.0"
      ]
     },
     "execution_count": 53,
     "metadata": {},
     "output_type": "execute_result"
    }
   ],
   "source": [
    "# Do a sanity check and look at what we have in our sql table\n",
    "SQL_Query = pd.read_sql_query(\"select * from taylor_training\", sql_connection)\n",
    "results_dataframe =  pd.DataFrame(SQL_Query)\n",
    "results_dataframe"
   ]
  }
 ],
 "metadata": {
  "kernelspec": {
   "display_name": "Python 3",
   "language": "python",
   "name": "python3"
  },
  "language_info": {
   "codemirror_mode": {
    "name": "ipython",
    "version": 3
   },
   "file_extension": ".py",
   "mimetype": "text/x-python",
   "name": "python",
   "nbconvert_exporter": "python",
   "pygments_lexer": "ipython3",
   "version": "3.6.8"
  }
 },
 "nbformat": 4,
 "nbformat_minor": 4
}
