{
 "cells": [
  {
   "cell_type": "markdown",
   "id": "47436892-1858-4cd4-aa4b-57d4865f5879",
   "metadata": {},
   "source": [
    "# Overview\n",
    "\n",
    "1. Why Koalas\n",
    "2. What is Koalas\n",
    "3. Important Caveats\n",
    "4. Hands on keyboard Examples\n"
   ]
  },
  {
   "cell_type": "markdown",
   "id": "fd105bd6-880f-4e0f-99a3-74749ca6423d",
   "metadata": {},
   "source": [
    "# 1. Why Koalas\n",
    "Apache Spark is a distributed computer environment. As such the computations and doresponding data are sharded on a pool of remote machines. The Spark API (and thus PySpark) provide abstracted APIs to the user which effectively hides the fact that data is sharded and where it exists. The Apark API include two notable objects for interacting with data: RDDs and DataFrames. The Spark DataFrame is the reccomended object for data scientists to use. The DataFrame is built on top of the more complicated RDDs and offers a number of creature comforts and simplicity that RDDs do not.\n",
    "\n",
    "Unfortunately the Spark DataFrame is very different than the Pandas DataFrame. The learning curve isnt extremely steep but the fact that we need to use a different technology does pose a problem: we cannot easily lift and shift code from our local machines to Spark Cluster.\n",
    "\n",
    "This is where the Koalas comes in. "
   ]
  },
  {
   "cell_type": "markdown",
   "id": "11f8d395-440e-495e-ae57-9ffe01b9eb34",
   "metadata": {},
   "source": [
    "# 2. What is Koalas\n",
    "Koalas impliments the pandas DataFrame API on top of Apache Spark. This means that Spark is going to look and feel a like Pandas.\n",
    "\n",
    "Koalas was introduced in 2019. At the timeof writing this article, the latest version of koalas is 1.8. Koalas supports Apache Spark 3.1 and below as it will be officially included to PySpark in the upcoming Apache Spark 3.2\n",
    "\n",
    "Currently Koalas is undergoing bi-weekly releases with a very active community. All the most common pandas functions have been implemented in Koalas but there still lies a lot of functions that aren’t. As of July 2020, the current state is as follows:\n",
    "\n",
    "<center><img src=\"koalas_current_state.jpg\" /></center>\n",
    "\n",
    "More recently I have come to understand that over 90% of the pandas API has been implimented. That being said, I have found a few instances where features were not yet implimented while writing the notebooks in this directory."
   ]
  },
  {
   "cell_type": "markdown",
   "id": "07ee0867-5910-46b1-8015-caa31d26a605",
   "metadata": {},
   "source": [
    "# 3. Important Caveats\n",
    "\n",
    "Recall that koalas is built on top of Spark. The data is not on the local moachine generally speaking. Some operations will require all the data to be collected on a single machine. This may break things if our worker nodes do not have enough recources to accomodate the operation. \n",
    "\n",
    "Additionally we can configure how and where data is placed. This is very advanced. We will not cover this topic but it is an important consideration for future growth.\n",
    "\n",
    "One last note: Spark is \"lazy\" meaning computation happen when they need to. If you dont use the data, no calculations are executed. Keep this in mind as you may see unexpected results or slow performance if youre not careful."
   ]
  },
  {
   "cell_type": "markdown",
   "id": "bbbb4ad8-f93e-41aa-9cf8-ef13fb8ef9b1",
   "metadata": {},
   "source": [
    "# 4. Hands On Keyboard Examples\n",
    "\n",
    "By this time you should be familiar with the SparkContext object and how to create it. If not, Go back and review the prerequisite materials mentioned in the [README.md](README.md) file.\n",
    "\n",
    "We will use a utility module to create our SparkContext for a Spark Cluster running on Kubernetes."
   ]
  },
  {
   "cell_type": "markdown",
   "id": "5d470c75-5b52-4a8a-bf70-61f688ff374e",
   "metadata": {},
   "source": [
    "Initialize our SparkContext object using a utility module from this directory."
   ]
  },
  {
   "cell_type": "code",
   "execution_count": 1,
   "id": "c0fcf6c4-a3a5-4a9e-98bb-4df70203d6de",
   "metadata": {},
   "outputs": [
    {
     "name": "stdout",
     "output_type": "stream",
     "text": [
      "Setting SPARK_HOME\n",
      "c:\\spark\\spark-3.1.1-bin-hadoop2.7\n",
      "\n",
      "Running findspark.init() function\n",
      "['c:\\\\spark\\\\spark-3.1.1-bin-hadoop2.7\\\\python', 'c:\\\\spark\\\\spark-3.1.1-bin-hadoop2.7\\\\python\\\\lib\\\\py4j-0.10.9-src.zip', 'c:\\\\program files\\\\python36\\\\python36.zip', 'c:\\\\program files\\\\python36\\\\DLLs', 'c:\\\\program files\\\\python36\\\\lib', 'c:\\\\program files\\\\python36', '', 'c:\\\\program files\\\\python36\\\\lib\\\\site-packages', 'c:\\\\program files\\\\python36\\\\lib\\\\site-packages\\\\win32', 'c:\\\\program files\\\\python36\\\\lib\\\\site-packages\\\\win32\\\\lib', 'c:\\\\program files\\\\python36\\\\lib\\\\site-packages\\\\Pythonwin', 'c:\\\\program files\\\\python36\\\\lib\\\\site-packages\\\\IPython\\\\extensions', 'C:\\\\Users\\\\Administrator\\\\.ipython']\n",
      "\n",
      "Setting PYSPARK_PYTHON\n",
      "/usr/bin/python3\n",
      "\n",
      "Create SparkContext\n",
      "The ip was detected as: 15.1.1.23\n",
      "\n"
     ]
    }
   ],
   "source": [
    "import create_spark_context"
   ]
  },
  {
   "cell_type": "markdown",
   "id": "8bfef37d-87b8-40cc-a393-2056e00e15f4",
   "metadata": {},
   "source": [
    "## 4.1. Creating A Simple DataFrame\n",
    "We can see this looks kust like pandas!"
   ]
  },
  {
   "cell_type": "code",
   "execution_count": 17,
   "id": "a319358a-5dea-4e98-b9a6-ccb3daa66c42",
   "metadata": {},
   "outputs": [
    {
     "data": {
      "text/html": [
       "<div>\n",
       "<style scoped>\n",
       "    .dataframe tbody tr th:only-of-type {\n",
       "        vertical-align: middle;\n",
       "    }\n",
       "\n",
       "    .dataframe tbody tr th {\n",
       "        vertical-align: top;\n",
       "    }\n",
       "\n",
       "    .dataframe thead th {\n",
       "        text-align: right;\n",
       "    }\n",
       "</style>\n",
       "<table border=\"1\" class=\"dataframe\">\n",
       "  <thead>\n",
       "    <tr style=\"text-align: right;\">\n",
       "      <th></th>\n",
       "      <th>A</th>\n",
       "      <th>B</th>\n",
       "      <th>C</th>\n",
       "    </tr>\n",
       "  </thead>\n",
       "  <tbody>\n",
       "    <tr>\n",
       "      <th>0</th>\n",
       "      <td>1</td>\n",
       "      <td>a</td>\n",
       "      <td>333</td>\n",
       "    </tr>\n",
       "    <tr>\n",
       "      <th>1</th>\n",
       "      <td>2</td>\n",
       "      <td>b</td>\n",
       "      <td>444</td>\n",
       "    </tr>\n",
       "    <tr>\n",
       "      <th>2</th>\n",
       "      <td>3</td>\n",
       "      <td>c</td>\n",
       "      <td>555</td>\n",
       "    </tr>\n",
       "    <tr>\n",
       "      <th>3</th>\n",
       "      <td>4</td>\n",
       "      <td>b</td>\n",
       "      <td>222</td>\n",
       "    </tr>\n",
       "    <tr>\n",
       "      <th>4</th>\n",
       "      <td>5</td>\n",
       "      <td>a</td>\n",
       "      <td>333</td>\n",
       "    </tr>\n",
       "  </tbody>\n",
       "</table>\n",
       "</div>"
      ],
      "text/plain": [
       "   A  B    C\n",
       "0  1  a  333\n",
       "1  2  b  444\n",
       "2  3  c  555\n",
       "3  4  b  222\n",
       "4  5  a  333"
      ]
     },
     "execution_count": 17,
     "metadata": {},
     "output_type": "execute_result"
    }
   ],
   "source": [
    "from databricks import koalas\n",
    "\n",
    "koalas_dataframe = koalas.DataFrame({\n",
    "    \"A\" : [1,2,3,4,5],\n",
    "    \"B\" : [\"a\", \"b\", \"c\", \"b\", \"a\"],\n",
    "    \"C\" : [333, 444, 555, 222, 333]\n",
    "})\n",
    "\n",
    "koalas_dataframe"
   ]
  },
  {
   "cell_type": "markdown",
   "id": "905a2c74-bd72-4ca5-9c47-dfea949df04c",
   "metadata": {},
   "source": [
    "## 4.2. Indexing\n",
    "Again, just like pandas!"
   ]
  },
  {
   "cell_type": "code",
   "execution_count": 18,
   "id": "4267e52d-40d0-4f18-a8d2-4e6720912a11",
   "metadata": {},
   "outputs": [
    {
     "data": {
      "text/plain": [
       "0    1\n",
       "1    2\n",
       "2    3\n",
       "3    4\n",
       "4    5\n",
       "Name: A, dtype: int64"
      ]
     },
     "execution_count": 18,
     "metadata": {},
     "output_type": "execute_result"
    }
   ],
   "source": [
    "koalas_dataframe[\"A\"]"
   ]
  },
  {
   "cell_type": "code",
   "execution_count": 19,
   "id": "45459e2f-ccc2-454c-8974-eb788f0f3b36",
   "metadata": {},
   "outputs": [
    {
     "data": {
      "text/html": [
       "<div>\n",
       "<style scoped>\n",
       "    .dataframe tbody tr th:only-of-type {\n",
       "        vertical-align: middle;\n",
       "    }\n",
       "\n",
       "    .dataframe tbody tr th {\n",
       "        vertical-align: top;\n",
       "    }\n",
       "\n",
       "    .dataframe thead th {\n",
       "        text-align: right;\n",
       "    }\n",
       "</style>\n",
       "<table border=\"1\" class=\"dataframe\">\n",
       "  <thead>\n",
       "    <tr style=\"text-align: right;\">\n",
       "      <th></th>\n",
       "      <th>A</th>\n",
       "      <th>B</th>\n",
       "      <th>C</th>\n",
       "    </tr>\n",
       "  </thead>\n",
       "  <tbody>\n",
       "    <tr>\n",
       "      <th>1</th>\n",
       "      <td>2</td>\n",
       "      <td>b</td>\n",
       "      <td>444</td>\n",
       "    </tr>\n",
       "    <tr>\n",
       "      <th>2</th>\n",
       "      <td>3</td>\n",
       "      <td>c</td>\n",
       "      <td>555</td>\n",
       "    </tr>\n",
       "    <tr>\n",
       "      <th>3</th>\n",
       "      <td>4</td>\n",
       "      <td>b</td>\n",
       "      <td>222</td>\n",
       "    </tr>\n",
       "  </tbody>\n",
       "</table>\n",
       "</div>"
      ],
      "text/plain": [
       "   A  B    C\n",
       "1  2  b  444\n",
       "2  3  c  555\n",
       "3  4  b  222"
      ]
     },
     "execution_count": 19,
     "metadata": {},
     "output_type": "execute_result"
    }
   ],
   "source": [
    "koalas_dataframe.iloc[1:4]"
   ]
  },
  {
   "cell_type": "code",
   "execution_count": 20,
   "id": "7b6fdf0e-0b1c-462a-869f-7300433091fa",
   "metadata": {},
   "outputs": [
    {
     "data": {
      "text/plain": [
       "A      1\n",
       "B      a\n",
       "C    333\n",
       "Name: 0, dtype: object"
      ]
     },
     "execution_count": 20,
     "metadata": {},
     "output_type": "execute_result"
    }
   ],
   "source": [
    "koalas_dataframe.loc[0]"
   ]
  },
  {
   "cell_type": "code",
   "execution_count": 21,
   "id": "fc0efe10-ad4b-4756-b333-3b52eff37885",
   "metadata": {},
   "outputs": [
    {
     "data": {
      "text/html": [
       "<div>\n",
       "<style scoped>\n",
       "    .dataframe tbody tr th:only-of-type {\n",
       "        vertical-align: middle;\n",
       "    }\n",
       "\n",
       "    .dataframe tbody tr th {\n",
       "        vertical-align: top;\n",
       "    }\n",
       "\n",
       "    .dataframe thead th {\n",
       "        text-align: right;\n",
       "    }\n",
       "</style>\n",
       "<table border=\"1\" class=\"dataframe\">\n",
       "  <thead>\n",
       "    <tr style=\"text-align: right;\">\n",
       "      <th></th>\n",
       "      <th>A</th>\n",
       "      <th>B</th>\n",
       "      <th>C</th>\n",
       "    </tr>\n",
       "  </thead>\n",
       "  <tbody>\n",
       "    <tr>\n",
       "      <th>0</th>\n",
       "      <td>1</td>\n",
       "      <td>a</td>\n",
       "      <td>333</td>\n",
       "    </tr>\n",
       "    <tr>\n",
       "      <th>4</th>\n",
       "      <td>5</td>\n",
       "      <td>a</td>\n",
       "      <td>333</td>\n",
       "    </tr>\n",
       "  </tbody>\n",
       "</table>\n",
       "</div>"
      ],
      "text/plain": [
       "   A  B    C\n",
       "0  1  a  333\n",
       "4  5  a  333"
      ]
     },
     "execution_count": 21,
     "metadata": {},
     "output_type": "execute_result"
    }
   ],
   "source": [
    "koalas_dataframe[koalas_dataframe[\"B\"] == \"a\"]"
   ]
  },
  {
   "cell_type": "code",
   "execution_count": 22,
   "id": "02dd48d8-7a67-4446-a853-6a499eaf7cfb",
   "metadata": {},
   "outputs": [
    {
     "data": {
      "text/html": [
       "<div>\n",
       "<style scoped>\n",
       "    .dataframe tbody tr th:only-of-type {\n",
       "        vertical-align: middle;\n",
       "    }\n",
       "\n",
       "    .dataframe tbody tr th {\n",
       "        vertical-align: top;\n",
       "    }\n",
       "\n",
       "    .dataframe thead th {\n",
       "        text-align: right;\n",
       "    }\n",
       "</style>\n",
       "<table border=\"1\" class=\"dataframe\">\n",
       "  <thead>\n",
       "    <tr style=\"text-align: right;\">\n",
       "      <th></th>\n",
       "      <th>A</th>\n",
       "      <th>C</th>\n",
       "    </tr>\n",
       "  </thead>\n",
       "  <tbody>\n",
       "    <tr>\n",
       "      <th>0</th>\n",
       "      <td>1</td>\n",
       "      <td>333</td>\n",
       "    </tr>\n",
       "    <tr>\n",
       "      <th>1</th>\n",
       "      <td>2</td>\n",
       "      <td>444</td>\n",
       "    </tr>\n",
       "    <tr>\n",
       "      <th>2</th>\n",
       "      <td>3</td>\n",
       "      <td>555</td>\n",
       "    </tr>\n",
       "    <tr>\n",
       "      <th>3</th>\n",
       "      <td>4</td>\n",
       "      <td>222</td>\n",
       "    </tr>\n",
       "    <tr>\n",
       "      <th>4</th>\n",
       "      <td>5</td>\n",
       "      <td>333</td>\n",
       "    </tr>\n",
       "  </tbody>\n",
       "</table>\n",
       "</div>"
      ],
      "text/plain": [
       "   A    C\n",
       "0  1  333\n",
       "1  2  444\n",
       "2  3  555\n",
       "3  4  222\n",
       "4  5  333"
      ]
     },
     "execution_count": 22,
     "metadata": {},
     "output_type": "execute_result"
    }
   ],
   "source": [
    "koalas_dataframe[[\"A\",\"C\"]]"
   ]
  },
  {
   "cell_type": "markdown",
   "id": "e553f96e-8364-4f34-be27-680fe420c3ec",
   "metadata": {},
   "source": [
    "## 4.4. Data Manipulation"
   ]
  },
  {
   "cell_type": "code",
   "execution_count": 32,
   "id": "1c50289b-1c9b-4005-87cd-c8edfe43cf0f",
   "metadata": {},
   "outputs": [
    {
     "data": {
      "text/html": [
       "<div>\n",
       "<style scoped>\n",
       "    .dataframe tbody tr th:only-of-type {\n",
       "        vertical-align: middle;\n",
       "    }\n",
       "\n",
       "    .dataframe tbody tr th {\n",
       "        vertical-align: top;\n",
       "    }\n",
       "\n",
       "    .dataframe thead th {\n",
       "        text-align: right;\n",
       "    }\n",
       "</style>\n",
       "<table border=\"1\" class=\"dataframe\">\n",
       "  <thead>\n",
       "    <tr style=\"text-align: right;\">\n",
       "      <th></th>\n",
       "      <th>A</th>\n",
       "      <th>B</th>\n",
       "      <th>C</th>\n",
       "      <th>D</th>\n",
       "    </tr>\n",
       "  </thead>\n",
       "  <tbody>\n",
       "    <tr>\n",
       "      <th>0</th>\n",
       "      <td>1</td>\n",
       "      <td>a</td>\n",
       "      <td>333</td>\n",
       "      <td>10</td>\n",
       "    </tr>\n",
       "    <tr>\n",
       "      <th>1</th>\n",
       "      <td>2</td>\n",
       "      <td>b</td>\n",
       "      <td>444</td>\n",
       "      <td>11</td>\n",
       "    </tr>\n",
       "    <tr>\n",
       "      <th>2</th>\n",
       "      <td>3</td>\n",
       "      <td>c</td>\n",
       "      <td>555</td>\n",
       "      <td>13</td>\n",
       "    </tr>\n",
       "    <tr>\n",
       "      <th>3</th>\n",
       "      <td>4</td>\n",
       "      <td>b</td>\n",
       "      <td>222</td>\n",
       "      <td>12</td>\n",
       "    </tr>\n",
       "    <tr>\n",
       "      <th>4</th>\n",
       "      <td>5</td>\n",
       "      <td>a</td>\n",
       "      <td>333</td>\n",
       "      <td>14</td>\n",
       "    </tr>\n",
       "  </tbody>\n",
       "</table>\n",
       "</div>"
      ],
      "text/plain": [
       "   A  B    C   D\n",
       "0  1  a  333  10\n",
       "1  2  b  444  11\n",
       "2  3  c  555  13\n",
       "3  4  b  222  12\n",
       "4  5  a  333  14"
      ]
     },
     "execution_count": 32,
     "metadata": {},
     "output_type": "execute_result"
    }
   ],
   "source": [
    "koalas_dataframe[\"D\"] = [10, 11, 12, 13 ,14]\n",
    "koalas_dataframe"
   ]
  },
  {
   "cell_type": "code",
   "execution_count": 39,
   "id": "e6a70e20-fda5-4f44-90cc-6c221cba0ad6",
   "metadata": {},
   "outputs": [
    {
     "data": {
      "text/plain": [
       "C\n",
       "222    12.0\n",
       "333    12.0\n",
       "444    11.0\n",
       "555    13.0\n",
       "Name: D, dtype: float64"
      ]
     },
     "execution_count": 39,
     "metadata": {},
     "output_type": "execute_result"
    }
   ],
   "source": [
    "koalas_dataframe[[\"C\", \"D\"]].groupby(\"C\").apply(lambda x: x.mean())[\"D\"]"
   ]
  },
  {
   "cell_type": "markdown",
   "id": "2c11f97a-2664-440a-905b-ed435ed71a52",
   "metadata": {},
   "source": [
    "## 4.5. Loading a CSV \n",
    "\n",
    "Please see the coresponding notebooks in the README as it is a bit complicated depending on our SparkContext."
   ]
  },
  {
   "cell_type": "markdown",
   "id": "812da62d-8429-40db-b530-b106358b81bb",
   "metadata": {},
   "source": [
    "## 4.6. Accessing Underlying Spark Objects"
   ]
  },
  {
   "cell_type": "markdown",
   "id": "e6b494cb-eca8-4c3a-bef1-02adda2eb71f",
   "metadata": {},
   "source": [
    "Convert the koalas DataFrame to a Spark DataFrame"
   ]
  },
  {
   "cell_type": "code",
   "execution_count": 27,
   "id": "cb355326-8fab-46c2-9b17-37ca9972e112",
   "metadata": {},
   "outputs": [
    {
     "name": "stdout",
     "output_type": "stream",
     "text": [
      "<class 'pyspark.sql.dataframe.DataFrame'>\n"
     ]
    },
    {
     "data": {
      "text/plain": [
       "DataFrame[A: bigint, B: string, C: bigint]"
      ]
     },
     "execution_count": 27,
     "metadata": {},
     "output_type": "execute_result"
    }
   ],
   "source": [
    "spark_dataframe = koalas_dataframe.to_spark()\n",
    "print(type(spark_dataframe))\n",
    "spark_dataframe"
   ]
  },
  {
   "cell_type": "markdown",
   "id": "630490e0-1711-4137-8243-af4fbdd0fc7c",
   "metadata": {},
   "source": [
    "Convert the Koalas DataFrame to a Spark RDD"
   ]
  },
  {
   "cell_type": "code",
   "execution_count": 30,
   "id": "d4303f68-c9a7-4666-b7b5-865f83561c72",
   "metadata": {},
   "outputs": [
    {
     "data": {
      "text/plain": [
       "MapPartitionsRDD[106] at javaToPython at <unknown>:0"
      ]
     },
     "execution_count": 30,
     "metadata": {},
     "output_type": "execute_result"
    }
   ],
   "source": [
    "koalas_dataframe.to_spark().rdd"
   ]
  },
  {
   "cell_type": "markdown",
   "id": "f15538b8-6851-423a-9747-93b59cdbfaa9",
   "metadata": {},
   "source": [
    "Check how our data is sharded accross the cluster"
   ]
  },
  {
   "cell_type": "code",
   "execution_count": 23,
   "id": "094d5350-e010-4a3d-b3b4-5bad5216db89",
   "metadata": {},
   "outputs": [
    {
     "data": {
      "text/plain": [
       "6"
      ]
     },
     "execution_count": 23,
     "metadata": {},
     "output_type": "execute_result"
    }
   ],
   "source": [
    "koalas_dataframe.to_spark().rdd.getNumPartitions()"
   ]
  },
  {
   "cell_type": "code",
   "execution_count": null,
   "id": "b2477ccc-9d9e-44eb-89da-c3c19aafbff2",
   "metadata": {},
   "outputs": [],
   "source": []
  }
 ],
 "metadata": {
  "kernelspec": {
   "display_name": "Python 3",
   "language": "python",
   "name": "python3"
  },
  "language_info": {
   "codemirror_mode": {
    "name": "ipython",
    "version": 3
   },
   "file_extension": ".py",
   "mimetype": "text/x-python",
   "name": "python",
   "nbconvert_exporter": "python",
   "pygments_lexer": "ipython3",
   "version": "3.6.8"
  }
 },
 "nbformat": 4,
 "nbformat_minor": 5
}
