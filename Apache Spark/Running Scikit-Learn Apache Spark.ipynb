{
 "cells": [
  {
   "cell_type": "markdown",
   "metadata": {},
   "source": [
    "# Overview\n",
    "\n",
    "In this notebook we are going to look at a few examples of running scikit-learn modeals against an Apache Spark cluster. Unlike the models packaged with Apache Spark, scikit-learn models are not ubilt to be distributed and cannot parallelize calculations.\n",
    "\n",
    "It assumes you have already read the following notebooks:\n",
    "- [Install Apache Spark Prerequisites](Install%20Apache%20Spark%20Prerequisites.ipynb)\n",
    "- [Spark Pi - The Hello World Example For Apache spark](Spark%20Pi%20-%20The%20Hello%20World%20Example%20For%20Apache%20spark.ipynb)\n",
    "\n",
    "The instructions are basically the same as [Running Apache Spark Locally](Running%20Apache%20Spark%20Locally.ipynb) once you get the kubernetes stuff setup.\n",
    "\n",
    "## Adjenda\n",
    "1. Configure Kubernetes Cluster For Spark\n",
    "2. Install the Kubectl CLI for Kubernetes\n",
    "3. Set Environment variables\n",
    "4. Create SparKConf\n",
    "5. Create SparkContext\n",
    "6. Submit Python Code To Spark Cluster\n",
    "7. Cleanup Spark and Kubernetes"
   ]
  },
  {
   "cell_type": "markdown",
   "metadata": {},
   "source": [
    "## 1. Configure Kubernetes Cluster For Spark\n",
    "In order for our kubernetes cluster to successfully run a spark cluster we need to do a few things:\n",
    "1. Configure RBAC - We will need to set permissions so that our jupyter notebook and spark components have the appropriate permissions.\n",
    "2. Build containers - We will need to build the contaienrs which host our spark cluster nodes."
   ]
  },
  {
   "cell_type": "markdown",
   "metadata": {},
   "source": [
    "## 1.1. Configure Kubernetes RBAC"
   ]
  },
  {
   "cell_type": "markdown",
   "metadata": {},
   "source": [
    "## 1.2. Build Spark Containers For Kubernetes"
   ]
  },
  {
   "cell_type": "markdown",
   "metadata": {},
   "source": [
    "# 2. Install and Configure Kubectl\n",
    "Kubectl is the CLI for kubernetes. It will allow our jupyter notebook to connect to the kubernetes cluster and spin up containers to run our Spark work."
   ]
  },
  {
   "cell_type": "markdown",
   "metadata": {},
   "source": [
    "## 2.1. Install Kubectl\n",
    "There are a number of ways to install kubectl. The easiest and fully featured way is to use the chocolatey installation process."
   ]
  },
  {
   "cell_type": "markdown",
   "metadata": {},
   "source": [
    "https://kubernetes.io/docs/tasks/tools/install-kubectl-windows/#install-on-windows-using-chocolatey-or-scoop"
   ]
  },
  {
   "cell_type": "code",
   "execution_count": 1,
   "metadata": {},
   "outputs": [
    {
     "name": "stdout",
     "output_type": "stream",
     "text": [
      "Client Version: version.Info{Major:\"1\", Minor:\"21\", GitVersion:\"v1.21.0\", GitCommit:\"cb303e613a121a29364f75cc67d3d580833a7479\", GitTreeState:\"clean\", BuildDate:\"2021-04-08T16:31:21Z\", GoVersion:\"go1.16.1\", Compiler:\"gc\", Platform:\"windows/amd64\"}\n"
     ]
    }
   ],
   "source": [
    "! kubectl version --client"
   ]
  },
  {
   "cell_type": "markdown",
   "metadata": {},
   "source": [
    "## 2.2. Configure Kubectl "
   ]
  },
  {
   "cell_type": "code",
   "execution_count": 2,
   "metadata": {},
   "outputs": [],
   "source": [
    "! cd %USERPROFILE% & mkdir .kube 2> NUL"
   ]
  },
  {
   "cell_type": "markdown",
   "metadata": {},
   "source": [
    "Create the kubeconfi file... We can copy it from the master\n"
   ]
  },
  {
   "cell_type": "markdown",
   "metadata": {},
   "source": [
    "! kubectl cluster-info"
   ]
  },
  {
   "cell_type": "code",
   "execution_count": 3,
   "metadata": {},
   "outputs": [
    {
     "name": "stdout",
     "output_type": "stream",
     "text": [
      "NAME                           STATUS   ROLES                  AGE   VERSION\n",
      "os004k8-master001.foobar.com   Ready    control-plane,master   22d   v1.21.1\n",
      "os004k8-worker001.foobar.com   Ready    <none>                 22d   v1.21.1\n",
      "os004k8-worker002.foobar.com   Ready    <none>                 22d   v1.21.1\n",
      "os004k8-worker003.foobar.com   Ready    <none>                 22d   v1.21.1\n"
     ]
    }
   ],
   "source": [
    "! kubectl get node"
   ]
  },
  {
   "cell_type": "markdown",
   "metadata": {},
   "source": [
    "# 3. Set Environment Variables\n",
    "We can use the os package to set environment variables"
   ]
  },
  {
   "cell_type": "markdown",
   "metadata": {},
   "source": [
    "## 3.1. Set SPARK_HOME variable\n",
    "This variable configures our system to understand where spark is installed."
   ]
  },
  {
   "cell_type": "code",
   "execution_count": 4,
   "metadata": {},
   "outputs": [],
   "source": [
    "import os"
   ]
  },
  {
   "cell_type": "code",
   "execution_count": 5,
   "metadata": {},
   "outputs": [],
   "source": [
    "os.environ['SPARK_HOME'] = \"c:\\\\spark\\\\spark-3.1.1-bin-hadoop2.7\""
   ]
  },
  {
   "cell_type": "code",
   "execution_count": 6,
   "metadata": {},
   "outputs": [
    {
     "name": "stdout",
     "output_type": "stream",
     "text": [
      "c:\\spark\\spark-3.1.1-bin-hadoop2.7\n"
     ]
    }
   ],
   "source": [
    "print(os.environ['SPARK_HOME'])"
   ]
  },
  {
   "cell_type": "markdown",
   "metadata": {},
   "source": [
    "## 3.2. Run findspark.init() to add Spark to PATH\n",
    "PySpark isn't on sys.path by default, but that doesn't mean it can't be used as a regular library. You can address this by either symlinking pyspark into your site-packages, or adding pyspark to sys.path at runtime. findspark does the latter.\n",
    "\n",
    "https://github.com/minrk/findspark"
   ]
  },
  {
   "cell_type": "code",
   "execution_count": 7,
   "metadata": {
    "tags": []
   },
   "outputs": [],
   "source": [
    "import findspark\n",
    "findspark.init()"
   ]
  },
  {
   "cell_type": "code",
   "execution_count": 8,
   "metadata": {},
   "outputs": [
    {
     "name": "stdout",
     "output_type": "stream",
     "text": [
      "['c:\\\\spark\\\\spark-3.1.1-bin-hadoop2.7\\\\python', 'c:\\\\spark\\\\spark-3.1.1-bin-hadoop2.7\\\\python\\\\lib\\\\py4j-0.10.9-src.zip', 'c:\\\\program files\\\\python36\\\\python36.zip', 'c:\\\\program files\\\\python36\\\\DLLs', 'c:\\\\program files\\\\python36\\\\lib', 'c:\\\\program files\\\\python36', '', 'c:\\\\program files\\\\python36\\\\lib\\\\site-packages', 'c:\\\\program files\\\\python36\\\\lib\\\\site-packages\\\\win32', 'c:\\\\program files\\\\python36\\\\lib\\\\site-packages\\\\win32\\\\lib', 'c:\\\\program files\\\\python36\\\\lib\\\\site-packages\\\\Pythonwin', 'c:\\\\program files\\\\python36\\\\lib\\\\site-packages\\\\IPython\\\\extensions', 'C:\\\\Users\\\\Administrator\\\\.ipython']\n"
     ]
    }
   ],
   "source": [
    "# Print the PATH variable to show the spark directory is set\n",
    "import sys\n",
    "print(sys.path)"
   ]
  },
  {
   "cell_type": "markdown",
   "metadata": {},
   "source": [
    "## 3.3. Set PYSPARK_PYTHON variable\n",
    "This variable configures spark to understand where python is installed on the spark nodes. Recall, these are the linux containers we built earlier. By default, the local windows file path may be set, but this will not work. If improperly confiugred we may see an error like this one:\n",
    "```\n",
    "Py4JJavaError: An error occurred while calling z:org.apache.spark.api.python.PythonRDD.collectAndServe.\n",
    ": org.apache.spark.SparkException: Job aborted due to stage failure: Task 2 in stage 0.0 failed 4 times, most recent failure: Lost task 2.3 in stage 0.0 (TID 17) (10.36.0.2 executor 1): java.io.IOException: Cannot run program \"c:\\program files\\python36\\python.exe\": error=2, No such file or directory\n",
    "```\n",
    "We need to set this variable equal to path of python on the container."
   ]
  },
  {
   "cell_type": "code",
   "execution_count": 9,
   "metadata": {},
   "outputs": [],
   "source": [
    "os.environ['PYSPARK_PYTHON'] = \"/usr/bin/python3\""
   ]
  },
  {
   "cell_type": "code",
   "execution_count": 10,
   "metadata": {},
   "outputs": [
    {
     "name": "stdout",
     "output_type": "stream",
     "text": [
      "/usr/bin/python3\n"
     ]
    }
   ],
   "source": [
    "print(os.environ['PYSPARK_PYTHON'])"
   ]
  },
  {
   "cell_type": "markdown",
   "metadata": {},
   "source": [
    "# 4. Create SparKConf Object"
   ]
  },
  {
   "cell_type": "code",
   "execution_count": 11,
   "metadata": {},
   "outputs": [],
   "source": [
    "import pyspark"
   ]
  },
  {
   "cell_type": "code",
   "execution_count": 12,
   "metadata": {},
   "outputs": [],
   "source": [
    "# Set some vars to specify where the kubernetes master is\n",
    "kubernetes_master_ip = \"15.4.7.11\"\n",
    "kubernetes_master_port = \"6443\"\n",
    "spark_master_url = \"k8s://https://{0}:{1}\".format(kubernetes_master_ip, kubernetes_master_port)"
   ]
  },
  {
   "cell_type": "code",
   "execution_count": 13,
   "metadata": {},
   "outputs": [
    {
     "name": "stdout",
     "output_type": "stream",
     "text": [
      "The ip was detected as: 15.1.1.23\n"
     ]
    }
   ],
   "source": [
    "# Determine the ip address of the machine\n",
    "import netifaces\n",
    "import re\n",
    "nic_uuid = netifaces.gateways()['default'][netifaces.AF_INET][1]\n",
    "nic_details = netifaces.ifaddresses(nic_uuid)\n",
    "ip_address = None\n",
    "for i, nic_detail, in nic_details.items():\n",
    "    if all([key in nic_detail[0].keys() for key in [\"addr\", \"netmask\", \"broadcast\"]]):\n",
    "        if re.match(\"([0-9]+\\\\.)+\", nic_detail[0][\"addr\"]):\n",
    "            ip_address = nic_detail[0][\"addr\"]\n",
    "            break\n",
    "print(\"The ip was detected as: {0}\".format(ip_address))"
   ]
  },
  {
   "cell_type": "code",
   "execution_count": 19,
   "metadata": {},
   "outputs": [
    {
     "data": {
      "text/plain": [
       "<pyspark.conf.SparkConf at 0x730d6d8>"
      ]
     },
     "execution_count": 19,
     "metadata": {},
     "output_type": "execute_result"
    }
   ],
   "source": [
    "# Wire up the SparkConf object\n",
    "sparkConf = pyspark.SparkConf()\n",
    "sparkConf.setMaster(spark_master_url)\n",
    "\n",
    "sparkConf.setAppName(\"spark-jupyter-win\")\n",
    "\n",
    "sparkConf.set(\"spark.submit.deploy.mode\", \"cluster\")\n",
    "sparkConf.set(\"spark.kubernetes.container.image\", \"tschneider/pyspark:v5\") \n",
    "sparkConf.set(\"spark.kubernetes.namespace\", \"spark\")\n",
    "sparkConf.set(\"spark.kubernetes.pyspark.pythonVersion\", \"3\")\n",
    "sparkConf.set(\"spark.kubernetes.authenticate.driver.serviceAccountName\", \"spark-sa\")\n",
    "sparkConf.set(\"spark.kubernetes.authenticate.serviceAccountName\", \"spark-sa\")\n",
    "\n",
    "sparkConf.set(\"spark.executor.instances\", \"3\")\n",
    "sparkConf.set(\"spark.executor.cores\", \"2\")\n",
    "sparkConf.set(\"spark.executor.memory\", \"1024m\")\n",
    "sparkConf.set(\"spark.driver.memory\", \"1024m\")\n",
    "\n",
    "# If we are not using a hostname registered with a dns server, we need to set this parameter\n",
    "sparkConf.set(\"spark.driver.host\", ip_address)"
   ]
  },
  {
   "cell_type": "code",
   "execution_count": 20,
   "metadata": {},
   "outputs": [
    {
     "data": {
      "text/plain": [
       "[('spark.executor.instances', '3'),\n",
       " ('spark.kubernetes.container.image', 'tschneider/pyspark:v5'),\n",
       " ('spark.app.name', 'spark-jupyter-win'),\n",
       " ('spark.driver.memory', '1024m'),\n",
       " ('spark.executor.cores', '2'),\n",
       " ('spark.kubernetes.pyspark.pythonVersion', '3'),\n",
       " ('spark.kubernetes.namespace', 'spark'),\n",
       " ('spark.kubernetes.authenticate.serviceAccountName', 'spark-sa'),\n",
       " ('spark.submit.deploy.mode', 'cluster'),\n",
       " ('spark.executor.memory', '1024m'),\n",
       " ('spark.master', 'k8s://https://15.4.7.11:6443'),\n",
       " ('spark.submit.pyFiles', ''),\n",
       " ('spark.submit.deployMode', 'client'),\n",
       " ('spark.kubernetes.authenticate.driver.serviceAccountName', 'spark-sa'),\n",
       " ('spark.driver.host', '15.1.1.23'),\n",
       " ('spark.ui.showConsoleProgress', 'true')]"
      ]
     },
     "execution_count": 20,
     "metadata": {},
     "output_type": "execute_result"
    }
   ],
   "source": [
    "sparkConf.getAll()"
   ]
  },
  {
   "cell_type": "markdown",
   "metadata": {},
   "source": [
    "# 5. Create SparkContext"
   ]
  },
  {
   "cell_type": "code",
   "execution_count": 21,
   "metadata": {},
   "outputs": [],
   "source": [
    "from pyspark.sql import SparkSession\n",
    "spark = SparkSession.builder.config(conf=sparkConf).getOrCreate()\n",
    "sc = spark.sparkContext"
   ]
  },
  {
   "cell_type": "markdown",
   "metadata": {},
   "source": [
    "We can look at kubernetes to see that out worker nodes were created. \n",
    "\n",
    "The first time we create the spark context with a given docker image, the image will need to be downloaded (which takes some time). As a result, we may see the pods with a status of \"ContainerCreating\". In this case, we will need to wait until the containers are in a \"Running\" state.\n",
    "\n",
    "```\n",
    "kubectl -n spark get pod\n",
    "NAME                                        READY   STATUS              RESTARTS   AGE\n",
    "spark-jupyter-win-3ed7f27984f7563a-exec-1   0/1     ContainerCreating   0          12m\n",
    "spark-jupyter-win-3ed7f27984f7563a-exec-2   0/1     ContainerCreating   0          12m\n",
    "spark-jupyter-win-3ed7f27984f7563a-exec-3   0/1     ContainerCreating   0          12m\n",
    "```\n",
    "\n",
    "We can check the status of the docker pull by logging into the container and running the docker pull command to attach to the running process:\n",
    "```\n",
    "kubectl -n spark exec -ti docker pull tschneider/pyspark:v3 docker pull tschneider/pyspark:v4\n",
    "v3: Pulling from tschneider/pyspark\n",
    "2d473b07cdd5: Already exists\n",
    "71d236fb1195: Already exists\n",
    "2e22160d8cab: Already exists\n",
    "e99d962ac218: Pull complete\n",
    "Digest: sha256:eb74701b4ae909c40046ff68b1044b09b11895e175c955dfd8afe9fe680309cf\n",
    "Status: Downloaded newer image for tschneider/pyspark:v3\n",
    "docker.io/tschneider/pyspark:v3\n",
    "[root@os004k8-worker002 ~]# docker pull tschneider/pyspark:v4\n",
    "v4: Pulling from tschneider/pyspark\n",
    "2d473b07cdd5: Already exists\n",
    "71d236fb1195: Already exists\n",
    "2e22160d8cab: Already exists\n",
    "c556a717fe5d: Downloading [=======================>                           ]  578.7MB/1.246GB\n",
    "```"
   ]
  },
  {
   "cell_type": "code",
   "execution_count": 28,
   "metadata": {},
   "outputs": [
    {
     "name": "stdout",
     "output_type": "stream",
     "text": [
      "NAME                                        READY   STATUS    RESTARTS   AGE\n",
      "spark-jupyter-win-563a3b798591b8da-exec-1   1/1     Running   0          32m\n",
      "spark-jupyter-win-563a3b798591b8da-exec-2   1/1     Running   0          32m\n",
      "spark-jupyter-win-563a3b798591b8da-exec-3   1/1     Running   0          32m\n"
     ]
    }
   ],
   "source": [
    "! kubectl -n spark get pod"
   ]
  },
  {
   "cell_type": "markdown",
   "metadata": {},
   "source": [
    "# 6. Create web server to host data"
   ]
  },
  {
   "cell_type": "markdown",
   "metadata": {},
   "source": [
    "Determine the current working directory. \n",
    "\n",
    "Note: There is a trick to doing this inside a jupyter notebook and so we will use a special library to get that information."
   ]
  },
  {
   "cell_type": "code",
   "execution_count": 29,
   "metadata": {},
   "outputs": [
    {
     "name": "stdout",
     "output_type": "stream",
     "text": [
      "C:\\Users\\Administrator\\git\\ml-training-jupyter-notebooks\n"
     ]
    }
   ],
   "source": [
    "import pyprojroot\n",
    "project_root_dir  = pyprojroot.here()\n",
    "print(project_root_dir)"
   ]
  },
  {
   "cell_type": "markdown",
   "metadata": {},
   "source": [
    "Load the module for the webserver from our utilities directory"
   ]
  },
  {
   "cell_type": "code",
   "execution_count": 30,
   "metadata": {},
   "outputs": [],
   "source": [
    "# Import the module for the web server we wrote\n",
    "import importlib.util\n",
    "spec = importlib.util.spec_from_file_location(\"PythonHttpFileServer\", \"../Utilities/PythonHttpFileServer.py\")\n",
    "PythonHttpFileServer = importlib.util.module_from_spec(spec)\n",
    "spec.loader.exec_module(PythonHttpFileServer)"
   ]
  },
  {
   "cell_type": "markdown",
   "metadata": {},
   "source": [
    "Configure logging so that messages are collected and displayed asynchronously so that the server can run in the background without casuing a jupyter cell to block."
   ]
  },
  {
   "cell_type": "code",
   "execution_count": 31,
   "metadata": {},
   "outputs": [
    {
     "name": "stderr",
     "output_type": "stream",
     "text": [
      "INFO:root:Starting server on port 80\n",
      "INFO:root:Web root specified as: C:\\Users\\Administrator\\git\\ml-training-jupyter-notebooks\n"
     ]
    },
    {
     "name": "stdout",
     "output_type": "stream",
     "text": [
      " * Serving Flask app 'PythonHttpFileServer' (lazy loading)\n",
      " * Environment: production\n",
      "\u001b[31m   WARNING: This is a development server. Do not use it in a production deployment.\u001b[0m\n",
      "\u001b[2m   Use a production WSGI server instead.\u001b[0m\n",
      " * Debug mode: off\n"
     ]
    },
    {
     "name": "stderr",
     "output_type": "stream",
     "text": [
      "WARNING:werkzeug: * Running on all addresses.\n",
      "   WARNING: This is a development server. Do not use it in a production deployment.\n",
      "INFO:werkzeug: * Running on http://15.1.1.23:80/ (Press CTRL+C to quit)\n"
     ]
    }
   ],
   "source": [
    "# Configure the logger and log level\n",
    "import logging\n",
    "logger = logging.getLogger()\n",
    "logger.setLevel(logging.INFO)\n",
    "\n",
    "# Remove all handlers\n",
    "for handler in logger.handlers: \n",
    "    logger.removeHandler(handler)\n",
    "for handler in logger.handlers: \n",
    "    logger.removeHandler(handler)\n",
    "    \n",
    "# Start the webserver in a thread so the cell is not stuck in a running state\n",
    "import threading\n",
    "web_server_port = 80\n",
    "web_server_args = (web_server_port, project_root_dir)\n",
    "web_server_thread = threading.Thread(target=PythonHttpFileServer.run_server, args=web_server_args)\n",
    "web_server_thread.start()"
   ]
  },
  {
   "cell_type": "markdown",
   "metadata": {},
   "source": [
    "# 7. Load The Data"
   ]
  },
  {
   "cell_type": "markdown",
   "metadata": {},
   "source": [
    "Instruct the spark cluster to download a file from the web server"
   ]
  },
  {
   "cell_type": "code",
   "execution_count": 32,
   "metadata": {},
   "outputs": [],
   "source": [
    "csv_file_name = \"nasdaq_2019.csv\"\n",
    "csv_file_url = \"http://{0}:{1}/{2}\".format(ip_address, web_server_port, csv_file_name)\n",
    "sc.addFile(csv_file_url)"
   ]
  },
  {
   "cell_type": "markdown",
   "metadata": {},
   "source": [
    "Import the utility function to convert a date string to a datetime object from our utilities module"
   ]
  },
  {
   "cell_type": "code",
   "execution_count": 33,
   "metadata": {
    "tags": []
   },
   "outputs": [],
   "source": [
    "# Import the utilities module we wrote\n",
    "import importlib.util\n",
    "spec = importlib.util.spec_from_file_location(\"utilities\", \"../Utilities/utilities.py\")\n",
    "utilities = importlib.util.module_from_spec(spec)\n",
    "spec.loader.exec_module(utilities)\n",
    "\n",
    "# Define a mapping to convert our data field to the correct type\n",
    "converter_mapping = {\n",
    "    \"date\": utilities.convert_date_string_to_date\n",
    "}"
   ]
  },
  {
   "cell_type": "markdown",
   "metadata": {
    "tags": []
   },
   "source": [
    "Load our OHCLV data Into a koalas dataframe and pull out a single day in the say way we would in pandas"
   ]
  },
  {
   "cell_type": "code",
   "execution_count": 34,
   "metadata": {},
   "outputs": [
    {
     "name": "stderr",
     "output_type": "stream",
     "text": [
      "WARNING:root:'PYARROW_IGNORE_TIMEZONE' environment variable was not set. It is required to set this environment variable to '1' in both driver and executor sides if you use pyarrow>=2.0.0. Koalas will set it for you but it does not work if there is a Spark context already launched.\n",
      "INFO:spark:Patching spark automatically. You can disable it by setting SPARK_KOALAS_AUTOPATCH=false in your environment\n"
     ]
    }
   ],
   "source": [
    "from databricks import koalas\n",
    "koalas_dataframe = koalas.read_csv(u\"file:////nasdaq_2019.csv\", converters=converter_mapping)"
   ]
  },
  {
   "cell_type": "markdown",
   "metadata": {},
   "source": [
    "We should see the workers download the file in the logs. If we log into the nodes we can see the file is located on the filesystem root."
   ]
  },
  {
   "cell_type": "markdown",
   "metadata": {},
   "source": [
    "With the data loaded into a koalas dataframe we can access the data in the same way we would from a pandas dataframe"
   ]
  },
  {
   "cell_type": "code",
   "execution_count": 35,
   "metadata": {},
   "outputs": [
    {
     "data": {
      "text/html": [
       "<div>\n",
       "<style scoped>\n",
       "    .dataframe tbody tr th:only-of-type {\n",
       "        vertical-align: middle;\n",
       "    }\n",
       "\n",
       "    .dataframe tbody tr th {\n",
       "        vertical-align: top;\n",
       "    }\n",
       "\n",
       "    .dataframe thead th {\n",
       "        text-align: right;\n",
       "    }\n",
       "</style>\n",
       "<table border=\"1\" class=\"dataframe\">\n",
       "  <thead>\n",
       "    <tr style=\"text-align: right;\">\n",
       "      <th></th>\n",
       "      <th>ticker</th>\n",
       "      <th>interval</th>\n",
       "      <th>date</th>\n",
       "      <th>open</th>\n",
       "      <th>high</th>\n",
       "      <th>low</th>\n",
       "      <th>close</th>\n",
       "      <th>volume</th>\n",
       "    </tr>\n",
       "  </thead>\n",
       "  <tbody>\n",
       "    <tr>\n",
       "      <th>0</th>\n",
       "      <td>AABA</td>\n",
       "      <td>D</td>\n",
       "      <td>2019-07-01</td>\n",
       "      <td>70.90</td>\n",
       "      <td>71.5200</td>\n",
       "      <td>70.3250</td>\n",
       "      <td>70.57</td>\n",
       "      <td>10234800</td>\n",
       "    </tr>\n",
       "    <tr>\n",
       "      <th>1</th>\n",
       "      <td>AAL</td>\n",
       "      <td>D</td>\n",
       "      <td>2019-07-01</td>\n",
       "      <td>33.14</td>\n",
       "      <td>33.6632</td>\n",
       "      <td>32.5301</td>\n",
       "      <td>32.88</td>\n",
       "      <td>8995100</td>\n",
       "    </tr>\n",
       "    <tr>\n",
       "      <th>2</th>\n",
       "      <td>AAME</td>\n",
       "      <td>D</td>\n",
       "      <td>2019-07-01</td>\n",
       "      <td>2.43</td>\n",
       "      <td>2.4300</td>\n",
       "      <td>2.4000</td>\n",
       "      <td>2.40</td>\n",
       "      <td>500</td>\n",
       "    </tr>\n",
       "    <tr>\n",
       "      <th>3</th>\n",
       "      <td>AAOI</td>\n",
       "      <td>D</td>\n",
       "      <td>2019-07-01</td>\n",
       "      <td>10.70</td>\n",
       "      <td>10.8900</td>\n",
       "      <td>10.0100</td>\n",
       "      <td>10.18</td>\n",
       "      <td>883100</td>\n",
       "    </tr>\n",
       "    <tr>\n",
       "      <th>4</th>\n",
       "      <td>AAON</td>\n",
       "      <td>D</td>\n",
       "      <td>2019-07-01</td>\n",
       "      <td>50.57</td>\n",
       "      <td>50.9850</td>\n",
       "      <td>48.5600</td>\n",
       "      <td>49.73</td>\n",
       "      <td>180200</td>\n",
       "    </tr>\n",
       "  </tbody>\n",
       "</table>\n",
       "</div>"
      ],
      "text/plain": [
       "  ticker interval        date   open     high      low  close    volume\n",
       "0   AABA        D  2019-07-01  70.90  71.5200  70.3250  70.57  10234800\n",
       "1    AAL        D  2019-07-01  33.14  33.6632  32.5301  32.88   8995100\n",
       "2   AAME        D  2019-07-01   2.43   2.4300   2.4000   2.40       500\n",
       "3   AAOI        D  2019-07-01  10.70  10.8900  10.0100  10.18    883100\n",
       "4   AAON        D  2019-07-01  50.57  50.9850  48.5600  49.73    180200"
      ]
     },
     "execution_count": 35,
     "metadata": {},
     "output_type": "execute_result"
    }
   ],
   "source": [
    "koalas_dataframe.head()"
   ]
  },
  {
   "cell_type": "markdown",
   "metadata": {},
   "source": [
    "# 7. Submit Python Code To Spark Cluster"
   ]
  },
  {
   "cell_type": "markdown",
   "metadata": {},
   "source": [
    "Write a function to perform kmeans on data for a particular date"
   ]
  },
  {
   "cell_type": "code",
   "execution_count": 36,
   "metadata": {},
   "outputs": [
    {
     "data": {
      "text/html": [
       "<div>\n",
       "<style scoped>\n",
       "    .dataframe tbody tr th:only-of-type {\n",
       "        vertical-align: middle;\n",
       "    }\n",
       "\n",
       "    .dataframe tbody tr th {\n",
       "        vertical-align: top;\n",
       "    }\n",
       "\n",
       "    .dataframe thead th {\n",
       "        text-align: right;\n",
       "    }\n",
       "</style>\n",
       "<table border=\"1\" class=\"dataframe\">\n",
       "  <thead>\n",
       "    <tr style=\"text-align: right;\">\n",
       "      <th></th>\n",
       "      <th>ticker</th>\n",
       "      <th>interval</th>\n",
       "      <th>date</th>\n",
       "      <th>open</th>\n",
       "      <th>high</th>\n",
       "      <th>low</th>\n",
       "      <th>close</th>\n",
       "      <th>volume</th>\n",
       "    </tr>\n",
       "  </thead>\n",
       "  <tbody>\n",
       "    <tr>\n",
       "      <th>93620</th>\n",
       "      <td>AABA</td>\n",
       "      <td>D</td>\n",
       "      <td>2019-01-01</td>\n",
       "      <td>57.94</td>\n",
       "      <td>57.94</td>\n",
       "      <td>57.94</td>\n",
       "      <td>57.94</td>\n",
       "      <td>0</td>\n",
       "    </tr>\n",
       "    <tr>\n",
       "      <th>93621</th>\n",
       "      <td>AAL</td>\n",
       "      <td>D</td>\n",
       "      <td>2019-01-01</td>\n",
       "      <td>32.11</td>\n",
       "      <td>32.11</td>\n",
       "      <td>32.11</td>\n",
       "      <td>32.11</td>\n",
       "      <td>0</td>\n",
       "    </tr>\n",
       "    <tr>\n",
       "      <th>93622</th>\n",
       "      <td>AAME</td>\n",
       "      <td>D</td>\n",
       "      <td>2019-01-01</td>\n",
       "      <td>2.41</td>\n",
       "      <td>2.41</td>\n",
       "      <td>2.41</td>\n",
       "      <td>2.41</td>\n",
       "      <td>0</td>\n",
       "    </tr>\n",
       "    <tr>\n",
       "      <th>93623</th>\n",
       "      <td>AAOI</td>\n",
       "      <td>D</td>\n",
       "      <td>2019-01-01</td>\n",
       "      <td>15.43</td>\n",
       "      <td>15.43</td>\n",
       "      <td>15.43</td>\n",
       "      <td>15.43</td>\n",
       "      <td>0</td>\n",
       "    </tr>\n",
       "    <tr>\n",
       "      <th>93624</th>\n",
       "      <td>AAON</td>\n",
       "      <td>D</td>\n",
       "      <td>2019-01-01</td>\n",
       "      <td>35.06</td>\n",
       "      <td>35.06</td>\n",
       "      <td>35.06</td>\n",
       "      <td>35.06</td>\n",
       "      <td>0</td>\n",
       "    </tr>\n",
       "  </tbody>\n",
       "</table>\n",
       "</div>"
      ],
      "text/plain": [
       "      ticker interval        date   open   high    low  close  volume\n",
       "93620   AABA        D  2019-01-01  57.94  57.94  57.94  57.94       0\n",
       "93621    AAL        D  2019-01-01  32.11  32.11  32.11  32.11       0\n",
       "93622   AAME        D  2019-01-01   2.41   2.41   2.41   2.41       0\n",
       "93623   AAOI        D  2019-01-01  15.43  15.43  15.43  15.43       0\n",
       "93624   AAON        D  2019-01-01  35.06  35.06  35.06  35.06       0"
      ]
     },
     "execution_count": 36,
     "metadata": {},
     "output_type": "execute_result"
    }
   ],
   "source": [
    "# Sort based on the date column\n",
    "koalas_dataframe = koalas_dataframe.sort_values(\"date\")\n",
    "df_01_01_2019 = koalas_dataframe.loc[koalas_dataframe[\"date\"] == '2019-01-01'].copy()\n",
    "df_01_01_2019.head()"
   ]
  },
  {
   "cell_type": "code",
   "execution_count": 138,
   "metadata": {},
   "outputs": [
    {
     "data": {
      "text/plain": [
       "False"
      ]
     },
     "execution_count": 138,
     "metadata": {},
     "output_type": "execute_result"
    }
   ],
   "source": [
    "koalas.get_option('compute.ops_on_diff_frames')"
   ]
  },
  {
   "cell_type": "code",
   "execution_count": 167,
   "metadata": {},
   "outputs": [
    {
     "name": "stderr",
     "output_type": "stream",
     "text": [
      "c:\\spark\\spark-3.1.1-bin-hadoop2.7\\python\\pyspark\\sql\\pandas\\group_ops.py:84: UserWarning: It is preferred to use 'applyInPandas' over this API. This API will be deprecated in the future releases. See SPARK-28264 for more details.\n",
      "  \"more details.\", UserWarning)\n"
     ]
    },
    {
     "data": {
      "text/html": [
       "<div>\n",
       "<style scoped>\n",
       "    .dataframe tbody tr th:only-of-type {\n",
       "        vertical-align: middle;\n",
       "    }\n",
       "\n",
       "    .dataframe tbody tr th {\n",
       "        vertical-align: top;\n",
       "    }\n",
       "\n",
       "    .dataframe thead th {\n",
       "        text-align: right;\n",
       "    }\n",
       "</style>\n",
       "<table border=\"1\" class=\"dataframe\">\n",
       "  <thead>\n",
       "    <tr style=\"text-align: right;\">\n",
       "      <th></th>\n",
       "      <th></th>\n",
       "      <th>ticker</th>\n",
       "      <th>interval</th>\n",
       "      <th>date</th>\n",
       "      <th>open</th>\n",
       "      <th>high</th>\n",
       "      <th>low</th>\n",
       "      <th>close</th>\n",
       "      <th>volume</th>\n",
       "      <th>Y</th>\n",
       "      <th>cluster_indices</th>\n",
       "      <th>cluster_centroids</th>\n",
       "    </tr>\n",
       "    <tr>\n",
       "      <th>date</th>\n",
       "      <th></th>\n",
       "      <th></th>\n",
       "      <th></th>\n",
       "      <th></th>\n",
       "      <th></th>\n",
       "      <th></th>\n",
       "      <th></th>\n",
       "      <th></th>\n",
       "      <th></th>\n",
       "      <th></th>\n",
       "      <th></th>\n",
       "      <th></th>\n",
       "    </tr>\n",
       "  </thead>\n",
       "  <tbody>\n",
       "    <tr>\n",
       "      <th rowspan=\"5\" valign=\"top\">2019-01-01</th>\n",
       "      <th>93620</th>\n",
       "      <td>AABA</td>\n",
       "      <td>D</td>\n",
       "      <td>2019-01-01</td>\n",
       "      <td>57.94</td>\n",
       "      <td>57.94</td>\n",
       "      <td>57.94</td>\n",
       "      <td>57.94</td>\n",
       "      <td>0</td>\n",
       "      <td>1</td>\n",
       "      <td>0</td>\n",
       "      <td>[67.53273664825046, 1.0]</td>\n",
       "    </tr>\n",
       "    <tr>\n",
       "      <th>93621</th>\n",
       "      <td>AAL</td>\n",
       "      <td>D</td>\n",
       "      <td>2019-01-01</td>\n",
       "      <td>32.11</td>\n",
       "      <td>32.11</td>\n",
       "      <td>32.11</td>\n",
       "      <td>32.11</td>\n",
       "      <td>0</td>\n",
       "      <td>1</td>\n",
       "      <td>2</td>\n",
       "      <td>[13.05660116731514, 1.0]</td>\n",
       "    </tr>\n",
       "    <tr>\n",
       "      <th>93622</th>\n",
       "      <td>AAME</td>\n",
       "      <td>D</td>\n",
       "      <td>2019-01-01</td>\n",
       "      <td>2.41</td>\n",
       "      <td>2.41</td>\n",
       "      <td>2.41</td>\n",
       "      <td>2.41</td>\n",
       "      <td>0</td>\n",
       "      <td>1</td>\n",
       "      <td>2</td>\n",
       "      <td>[13.05660116731514, 1.0]</td>\n",
       "    </tr>\n",
       "    <tr>\n",
       "      <th>93623</th>\n",
       "      <td>AAOI</td>\n",
       "      <td>D</td>\n",
       "      <td>2019-01-01</td>\n",
       "      <td>15.43</td>\n",
       "      <td>15.43</td>\n",
       "      <td>15.43</td>\n",
       "      <td>15.43</td>\n",
       "      <td>0</td>\n",
       "      <td>1</td>\n",
       "      <td>2</td>\n",
       "      <td>[13.05660116731514, 1.0]</td>\n",
       "    </tr>\n",
       "    <tr>\n",
       "      <th>93624</th>\n",
       "      <td>AAON</td>\n",
       "      <td>D</td>\n",
       "      <td>2019-01-01</td>\n",
       "      <td>35.06</td>\n",
       "      <td>35.06</td>\n",
       "      <td>35.06</td>\n",
       "      <td>35.06</td>\n",
       "      <td>0</td>\n",
       "      <td>1</td>\n",
       "      <td>2</td>\n",
       "      <td>[13.05660116731514, 1.0]</td>\n",
       "    </tr>\n",
       "  </tbody>\n",
       "</table>\n",
       "</div>"
      ],
      "text/plain": [
       "                 ticker interval        date   open   high    low  close  volume  Y  cluster_indices         cluster_centroids\n",
       "date                                                                                                                          \n",
       "2019-01-01 93620   AABA        D  2019-01-01  57.94  57.94  57.94  57.94       0  1                0  [67.53273664825046, 1.0]\n",
       "           93621    AAL        D  2019-01-01  32.11  32.11  32.11  32.11       0  1                2  [13.05660116731514, 1.0]\n",
       "           93622   AAME        D  2019-01-01   2.41   2.41   2.41   2.41       0  1                2  [13.05660116731514, 1.0]\n",
       "           93623   AAOI        D  2019-01-01  15.43  15.43  15.43  15.43       0  1                2  [13.05660116731514, 1.0]\n",
       "           93624   AAON        D  2019-01-01  35.06  35.06  35.06  35.06       0  1                2  [13.05660116731514, 1.0]"
      ]
     },
     "execution_count": 167,
     "metadata": {},
     "output_type": "execute_result"
    }
   ],
   "source": [
    "# Create an instance of our model\n",
    "\n",
    "from sklearn.cluster import KMeans\n",
    "model = KMeans(n_clusters=5, random_state=42)\n",
    "\n",
    "def perform_kmeans_on_dataframe(df, column_name=\"open\"):\n",
    "    \n",
    "    # Create a copy of our dataframe so we can play around\n",
    "    tmp = df.copy()\n",
    "\n",
    "    # Set the parameters for our model\n",
    "    tmp[\"Y\"] = 1 # Kmeans requires a 2D array so we will add a static column\n",
    "    model_parameters = tmp[[column_name, \"Y\"]].to_numpy()\n",
    "    fit_model = model.fit(model_parameters)\n",
    "    \n",
    "    # Extract the information\n",
    "    #option_value = koalas.get_option('compute.ops_on_diff_frames')\n",
    "    #koalas.set_option('compute.ops_on_diff_frames', True)\n",
    "    tmp[\"cluster_indices\"] = fit_model.labels_.astype(int)\n",
    "    centroids = fit_model.cluster_centers_\n",
    "    tmp[\"cluster_centroids\"] = tmp[\"cluster_indices\"].apply(lambda i: centroids[i].tolist())\n",
    "    #koalas.set_option('compute.ops_on_diff_frames', option_value)\n",
    "    \n",
    "    # Return the objects\n",
    "    return tmp\n",
    "\n",
    "df_01_01_2019.groupby(\"date\").apply(perform_kmeans_on_dataframe).head()"
   ]
  },
  {
   "cell_type": "code",
   "execution_count": null,
   "metadata": {},
   "outputs": [],
   "source": []
  },
  {
   "cell_type": "code",
   "execution_count": 177,
   "metadata": {},
   "outputs": [
    {
     "name": "stderr",
     "output_type": "stream",
     "text": [
      "c:\\spark\\spark-3.1.1-bin-hadoop2.7\\python\\pyspark\\sql\\pandas\\group_ops.py:84: UserWarning: It is preferred to use 'applyInPandas' over this API. This API will be deprecated in the future releases. See SPARK-28264 for more details.\n",
      "  \"more details.\", UserWarning)\n"
     ]
    },
    {
     "data": {
      "text/html": [
       "<div>\n",
       "<style scoped>\n",
       "    .dataframe tbody tr th:only-of-type {\n",
       "        vertical-align: middle;\n",
       "    }\n",
       "\n",
       "    .dataframe tbody tr th {\n",
       "        vertical-align: top;\n",
       "    }\n",
       "\n",
       "    .dataframe thead th {\n",
       "        text-align: right;\n",
       "    }\n",
       "</style>\n",
       "<table border=\"1\" class=\"dataframe\">\n",
       "  <thead>\n",
       "    <tr style=\"text-align: right;\">\n",
       "      <th></th>\n",
       "      <th></th>\n",
       "      <th>open</th>\n",
       "    </tr>\n",
       "    <tr>\n",
       "      <th>date</th>\n",
       "      <th></th>\n",
       "      <th></th>\n",
       "    </tr>\n",
       "  </thead>\n",
       "  <tbody>\n",
       "    <tr>\n",
       "      <th rowspan=\"5\" valign=\"top\">2019-01-01</th>\n",
       "      <th>93620</th>\n",
       "      <td>57.94</td>\n",
       "    </tr>\n",
       "    <tr>\n",
       "      <th>93621</th>\n",
       "      <td>32.11</td>\n",
       "    </tr>\n",
       "    <tr>\n",
       "      <th>93622</th>\n",
       "      <td>2.41</td>\n",
       "    </tr>\n",
       "    <tr>\n",
       "      <th>93623</th>\n",
       "      <td>15.43</td>\n",
       "    </tr>\n",
       "    <tr>\n",
       "      <th>93624</th>\n",
       "      <td>35.06</td>\n",
       "    </tr>\n",
       "  </tbody>\n",
       "</table>\n",
       "</div>"
      ],
      "text/plain": [
       "                   open\n",
       "date                   \n",
       "2019-01-01 93620  57.94\n",
       "           93621  32.11\n",
       "           93622   2.41\n",
       "           93623  15.43\n",
       "           93624  35.06"
      ]
     },
     "execution_count": 177,
     "metadata": {},
     "output_type": "execute_result"
    }
   ],
   "source": [
    "def perform_kmeans_on_dataframe2(df, column_names=[\"open\"]):\n",
    "    \n",
    "    # Create a copy of our dataframe so we can play around\n",
    "    tmp = df.copy()\n",
    "\n",
    "    # IF we only supplied one column name, we will need to create a bogus column\n",
    "    # Kmeans requires a 2D array so we will add a static column\n",
    "    if len(column_names) < 2:\n",
    "        bogus_column = \"Y\"\n",
    "        tmp[bogus_column] = 1\n",
    "        column_names.append(bogus_column)\n",
    "        \n",
    "    # Set the parameters for our model\n",
    "    # It expects a 2D array where the columns are our features\n",
    "    model_parameters = tmp[[*column_names]].to_numpy()\n",
    "    fit_model = model.fit(model_parameters)\n",
    "    \n",
    "    # Extract the information\n",
    "    #option_value = koalas.get_option('compute.ops_on_diff_frames')\n",
    "    #koalas.set_option('compute.ops_on_diff_frames', True)\n",
    "    tmp[\"cluster_indices\"] = fit_model.labels_.astype(int)\n",
    "#    centroids = fit_model.cluster_centers_\n",
    "#    tmp[\"cluster_centroids\"] = tmp[\"cluster_indices\"].apply(lambda i: centroids[i].tolist())\n",
    "    #koalas.set_option('compute.ops_on_diff_frames', option_value)\n",
    "    \n",
    "    if bogus_column in column_names:\n",
    "        column_names.remove(bogus_column)\n",
    "    \n",
    "    # Return the objects\n",
    "    return tmp[[*column_names]]\n",
    "\n",
    "df_01_01_2019.groupby(\"date\").apply(perform_kmeans_on_dataframe2).head()"
   ]
  },
  {
   "cell_type": "code",
   "execution_count": 296,
   "metadata": {},
   "outputs": [],
   "source": [
    "def perform_kmeans_on_dataframe3(df, column_names=[\"open\"]):\n",
    "    \n",
    "    # Create a copy of our dataframe so we can play around\n",
    "    tmp = df.copy()\n",
    "    columns = column_names.copy()\n",
    "\n",
    "    # IF we only supplied one column name, we will need to create a bogus column\n",
    "    # Kmeans requires a 2D array so we will add a static column\n",
    "    bogus_column = None\n",
    "    if len(column_names) < 2:\n",
    "        bogus_column = \"Y\"\n",
    "        tmp[bogus_column] = [1 for x in range(0, tmp.shape[0])]\n",
    "        columns.append(bogus_column)\n",
    "        \n",
    "    # Set the parameters for our model\n",
    "    # It expects a 2D array where the columns are our features\n",
    "    model_parameters = tmp[[*columns]].to_numpy()\n",
    "    \n",
    "    # Train the model\n",
    "    trained_model = model.fit(model_parameters)\n",
    "    \n",
    "    # Extract the information\n",
    "    cluster_indices = trained_model.labels_.astype(int)\n",
    "    if bogus_column in columns:\n",
    "        cluster_centroids = [trained_model.cluster_centers_[i][0] for i in cluster_indices]\n",
    "    else:\n",
    "        cluster_centroids = [str(trained_model.cluster_centers_[i].tolist()) for i in cluster_indices]\n",
    "        \n",
    "    # Update the dataframe (setting special options to allow koalas to work)\n",
    "#    option_value = koalas.get_option('compute.ops_on_diff_frames')\n",
    "#    koalas.set_option('compute.ops_on_diff_frames', True)\n",
    "\n",
    "    tmp[\"cluster_indices\"] = cluster_indices.tolist()\n",
    "    tmp[\"cluster_centroids\"] = cluster_centroids\n",
    "        \n",
    "#    koalas.set_option('compute.ops_on_diff_frames', option_value)\n",
    "    \n",
    "    # Determine which columns we want to return\n",
    "    columns = tmp.columns.to_list()\n",
    "    if bogus_column in columns:\n",
    "        columns.remove(bogus_column)\n",
    "    \n",
    "    return tmp[[*columns]]\n"
   ]
  },
  {
   "cell_type": "code",
   "execution_count": 297,
   "metadata": {},
   "outputs": [
    {
     "data": {
      "text/html": [
       "<div>\n",
       "<style scoped>\n",
       "    .dataframe tbody tr th:only-of-type {\n",
       "        vertical-align: middle;\n",
       "    }\n",
       "\n",
       "    .dataframe tbody tr th {\n",
       "        vertical-align: top;\n",
       "    }\n",
       "\n",
       "    .dataframe thead th {\n",
       "        text-align: right;\n",
       "    }\n",
       "</style>\n",
       "<table border=\"1\" class=\"dataframe\">\n",
       "  <thead>\n",
       "    <tr style=\"text-align: right;\">\n",
       "      <th></th>\n",
       "      <th>ticker</th>\n",
       "      <th>interval</th>\n",
       "      <th>date</th>\n",
       "      <th>open</th>\n",
       "      <th>high</th>\n",
       "      <th>low</th>\n",
       "      <th>close</th>\n",
       "      <th>volume</th>\n",
       "      <th>cluster_indices</th>\n",
       "      <th>cluster_centroids</th>\n",
       "    </tr>\n",
       "  </thead>\n",
       "  <tbody>\n",
       "    <tr>\n",
       "      <th>95460</th>\n",
       "      <td>MITK</td>\n",
       "      <td>D</td>\n",
       "      <td>2019-01-01</td>\n",
       "      <td>10.81</td>\n",
       "      <td>10.81</td>\n",
       "      <td>10.81</td>\n",
       "      <td>10.81</td>\n",
       "      <td>0</td>\n",
       "      <td>2</td>\n",
       "      <td>[13.05660116731515, 13.05660116731515]</td>\n",
       "    </tr>\n",
       "    <tr>\n",
       "      <th>96515</th>\n",
       "      <td>TWNK</td>\n",
       "      <td>D</td>\n",
       "      <td>2019-01-01</td>\n",
       "      <td>10.94</td>\n",
       "      <td>10.94</td>\n",
       "      <td>10.94</td>\n",
       "      <td>10.94</td>\n",
       "      <td>0</td>\n",
       "      <td>2</td>\n",
       "      <td>[13.05660116731515, 13.05660116731515]</td>\n",
       "    </tr>\n",
       "    <tr>\n",
       "      <th>94136</th>\n",
       "      <td>CELH</td>\n",
       "      <td>D</td>\n",
       "      <td>2019-01-01</td>\n",
       "      <td>3.47</td>\n",
       "      <td>3.47</td>\n",
       "      <td>3.47</td>\n",
       "      <td>3.47</td>\n",
       "      <td>0</td>\n",
       "      <td>2</td>\n",
       "      <td>[13.05660116731515, 13.05660116731515]</td>\n",
       "    </tr>\n",
       "    <tr>\n",
       "      <th>95617</th>\n",
       "      <td>NNDM</td>\n",
       "      <td>D</td>\n",
       "      <td>2019-01-01</td>\n",
       "      <td>1.11</td>\n",
       "      <td>1.11</td>\n",
       "      <td>1.11</td>\n",
       "      <td>1.11</td>\n",
       "      <td>0</td>\n",
       "      <td>2</td>\n",
       "      <td>[13.05660116731515, 13.05660116731515]</td>\n",
       "    </tr>\n",
       "    <tr>\n",
       "      <th>95363</th>\n",
       "      <td>LSBK</td>\n",
       "      <td>D</td>\n",
       "      <td>2019-01-01</td>\n",
       "      <td>15.06</td>\n",
       "      <td>15.06</td>\n",
       "      <td>15.06</td>\n",
       "      <td>15.06</td>\n",
       "      <td>0</td>\n",
       "      <td>2</td>\n",
       "      <td>[13.05660116731515, 13.05660116731515]</td>\n",
       "    </tr>\n",
       "  </tbody>\n",
       "</table>\n",
       "</div>"
      ],
      "text/plain": [
       "      ticker interval        date   open   high    low  close  volume  cluster_indices                       cluster_centroids\n",
       "95460   MITK        D  2019-01-01  10.81  10.81  10.81  10.81       0                2  [13.05660116731515, 13.05660116731515]\n",
       "96515   TWNK        D  2019-01-01  10.94  10.94  10.94  10.94       0                2  [13.05660116731515, 13.05660116731515]\n",
       "94136   CELH        D  2019-01-01   3.47   3.47   3.47   3.47       0                2  [13.05660116731515, 13.05660116731515]\n",
       "95617   NNDM        D  2019-01-01   1.11   1.11   1.11   1.11       0                2  [13.05660116731515, 13.05660116731515]\n",
       "95363   LSBK        D  2019-01-01  15.06  15.06  15.06  15.06       0                2  [13.05660116731515, 13.05660116731515]"
      ]
     },
     "execution_count": 297,
     "metadata": {},
     "output_type": "execute_result"
    }
   ],
   "source": [
    "perform_kmeans_on_dataframe3(df_01_01_2019, column_names=[\"open\", \"close\"]).head()"
   ]
  },
  {
   "cell_type": "code",
   "execution_count": 298,
   "metadata": {},
   "outputs": [
    {
     "name": "stderr",
     "output_type": "stream",
     "text": [
      "c:\\spark\\spark-3.1.1-bin-hadoop2.7\\python\\pyspark\\sql\\pandas\\group_ops.py:84: UserWarning: It is preferred to use 'applyInPandas' over this API. This API will be deprecated in the future releases. See SPARK-28264 for more details.\n",
      "  \"more details.\", UserWarning)\n"
     ]
    },
    {
     "data": {
      "text/html": [
       "<div>\n",
       "<style scoped>\n",
       "    .dataframe tbody tr th:only-of-type {\n",
       "        vertical-align: middle;\n",
       "    }\n",
       "\n",
       "    .dataframe tbody tr th {\n",
       "        vertical-align: top;\n",
       "    }\n",
       "\n",
       "    .dataframe thead th {\n",
       "        text-align: right;\n",
       "    }\n",
       "</style>\n",
       "<table border=\"1\" class=\"dataframe\">\n",
       "  <thead>\n",
       "    <tr style=\"text-align: right;\">\n",
       "      <th></th>\n",
       "      <th></th>\n",
       "      <th>ticker</th>\n",
       "      <th>interval</th>\n",
       "      <th>date</th>\n",
       "      <th>open</th>\n",
       "      <th>high</th>\n",
       "      <th>low</th>\n",
       "      <th>close</th>\n",
       "      <th>volume</th>\n",
       "      <th>cluster_indices</th>\n",
       "      <th>cluster_centroids</th>\n",
       "    </tr>\n",
       "    <tr>\n",
       "      <th>date</th>\n",
       "      <th></th>\n",
       "      <th></th>\n",
       "      <th></th>\n",
       "      <th></th>\n",
       "      <th></th>\n",
       "      <th></th>\n",
       "      <th></th>\n",
       "      <th></th>\n",
       "      <th></th>\n",
       "      <th></th>\n",
       "      <th></th>\n",
       "    </tr>\n",
       "  </thead>\n",
       "  <tbody>\n",
       "    <tr>\n",
       "      <th rowspan=\"5\" valign=\"top\">2019-01-01</th>\n",
       "      <th>93620</th>\n",
       "      <td>AABA</td>\n",
       "      <td>D</td>\n",
       "      <td>2019-01-01</td>\n",
       "      <td>57.94</td>\n",
       "      <td>57.94</td>\n",
       "      <td>57.94</td>\n",
       "      <td>57.94</td>\n",
       "      <td>0</td>\n",
       "      <td>0</td>\n",
       "      <td>67.532737</td>\n",
       "    </tr>\n",
       "    <tr>\n",
       "      <th>93621</th>\n",
       "      <td>AAL</td>\n",
       "      <td>D</td>\n",
       "      <td>2019-01-01</td>\n",
       "      <td>32.11</td>\n",
       "      <td>32.11</td>\n",
       "      <td>32.11</td>\n",
       "      <td>32.11</td>\n",
       "      <td>0</td>\n",
       "      <td>2</td>\n",
       "      <td>13.056601</td>\n",
       "    </tr>\n",
       "    <tr>\n",
       "      <th>93622</th>\n",
       "      <td>AAME</td>\n",
       "      <td>D</td>\n",
       "      <td>2019-01-01</td>\n",
       "      <td>2.41</td>\n",
       "      <td>2.41</td>\n",
       "      <td>2.41</td>\n",
       "      <td>2.41</td>\n",
       "      <td>0</td>\n",
       "      <td>2</td>\n",
       "      <td>13.056601</td>\n",
       "    </tr>\n",
       "    <tr>\n",
       "      <th>93623</th>\n",
       "      <td>AAOI</td>\n",
       "      <td>D</td>\n",
       "      <td>2019-01-01</td>\n",
       "      <td>15.43</td>\n",
       "      <td>15.43</td>\n",
       "      <td>15.43</td>\n",
       "      <td>15.43</td>\n",
       "      <td>0</td>\n",
       "      <td>2</td>\n",
       "      <td>13.056601</td>\n",
       "    </tr>\n",
       "    <tr>\n",
       "      <th>93624</th>\n",
       "      <td>AAON</td>\n",
       "      <td>D</td>\n",
       "      <td>2019-01-01</td>\n",
       "      <td>35.06</td>\n",
       "      <td>35.06</td>\n",
       "      <td>35.06</td>\n",
       "      <td>35.06</td>\n",
       "      <td>0</td>\n",
       "      <td>2</td>\n",
       "      <td>13.056601</td>\n",
       "    </tr>\n",
       "  </tbody>\n",
       "</table>\n",
       "</div>"
      ],
      "text/plain": [
       "                 ticker interval        date   open   high    low  close  volume  cluster_indices  cluster_centroids\n",
       "date                                                                                                                \n",
       "2019-01-01 93620   AABA        D  2019-01-01  57.94  57.94  57.94  57.94       0                0          67.532737\n",
       "           93621    AAL        D  2019-01-01  32.11  32.11  32.11  32.11       0                2          13.056601\n",
       "           93622   AAME        D  2019-01-01   2.41   2.41   2.41   2.41       0                2          13.056601\n",
       "           93623   AAOI        D  2019-01-01  15.43  15.43  15.43  15.43       0                2          13.056601\n",
       "           93624   AAON        D  2019-01-01  35.06  35.06  35.06  35.06       0                2          13.056601"
      ]
     },
     "execution_count": 298,
     "metadata": {},
     "output_type": "execute_result"
    }
   ],
   "source": [
    "df_01_01_2019.groupby(\"date\").apply(perform_kmeans_on_dataframe3, column_names=[\"open\"]).head()"
   ]
  },
  {
   "cell_type": "code",
   "execution_count": null,
   "metadata": {},
   "outputs": [],
   "source": []
  },
  {
   "cell_type": "code",
   "execution_count": 196,
   "metadata": {},
   "outputs": [
    {
     "data": {
      "text/plain": [
       "['ticker', 'interval', 'date', 'open', 'high', 'low', 'close', 'volume']"
      ]
     },
     "execution_count": 196,
     "metadata": {},
     "output_type": "execute_result"
    }
   ],
   "source": [
    "df_01_01_2019.columns.to_list()"
   ]
  },
  {
   "cell_type": "code",
   "execution_count": null,
   "metadata": {},
   "outputs": [],
   "source": []
  },
  {
   "cell_type": "code",
   "execution_count": 260,
   "metadata": {},
   "outputs": [
    {
     "name": "stderr",
     "output_type": "stream",
     "text": [
      "c:\\spark\\spark-3.1.1-bin-hadoop2.7\\python\\pyspark\\sql\\pandas\\group_ops.py:84: UserWarning: It is preferred to use 'applyInPandas' over this API. This API will be deprecated in the future releases. See SPARK-28264 for more details.\n",
      "  \"more details.\", UserWarning)\n"
     ]
    },
    {
     "data": {
      "text/html": [
       "<div>\n",
       "<style scoped>\n",
       "    .dataframe tbody tr th:only-of-type {\n",
       "        vertical-align: middle;\n",
       "    }\n",
       "\n",
       "    .dataframe tbody tr th {\n",
       "        vertical-align: top;\n",
       "    }\n",
       "\n",
       "    .dataframe thead th {\n",
       "        text-align: right;\n",
       "    }\n",
       "</style>\n",
       "<table border=\"1\" class=\"dataframe\">\n",
       "  <thead>\n",
       "    <tr style=\"text-align: right;\">\n",
       "      <th></th>\n",
       "      <th></th>\n",
       "      <th>open</th>\n",
       "    </tr>\n",
       "    <tr>\n",
       "      <th>date</th>\n",
       "      <th></th>\n",
       "      <th></th>\n",
       "    </tr>\n",
       "  </thead>\n",
       "  <tbody>\n",
       "    <tr>\n",
       "      <th rowspan=\"5\" valign=\"top\">2019-01-01</th>\n",
       "      <th>93620</th>\n",
       "      <td>57.94</td>\n",
       "    </tr>\n",
       "    <tr>\n",
       "      <th>93621</th>\n",
       "      <td>32.11</td>\n",
       "    </tr>\n",
       "    <tr>\n",
       "      <th>93622</th>\n",
       "      <td>2.41</td>\n",
       "    </tr>\n",
       "    <tr>\n",
       "      <th>93623</th>\n",
       "      <td>15.43</td>\n",
       "    </tr>\n",
       "    <tr>\n",
       "      <th>93624</th>\n",
       "      <td>35.06</td>\n",
       "    </tr>\n",
       "  </tbody>\n",
       "</table>\n",
       "</div>"
      ],
      "text/plain": [
       "                   open\n",
       "date                   \n",
       "2019-01-01 93620  57.94\n",
       "           93621  32.11\n",
       "           93622   2.41\n",
       "           93623  15.43\n",
       "           93624  35.06"
      ]
     },
     "execution_count": 260,
     "metadata": {},
     "output_type": "execute_result"
    }
   ],
   "source": [
    "def perform_kmeans_on_dataframe4(df, column_names=[\"open\"]):\n",
    "    \n",
    "    # Create a copy of our dataframe so we can play around\n",
    "    tmp = df.copy()\n",
    "\n",
    "    # IF we only supplied one column name, we will need to create a bogus column\n",
    "    # Kmeans requires a 2D array so we will add a static column\n",
    "    if len(column_names) < 2:\n",
    "        bogus_column = \"Y\"\n",
    "        tmp[bogus_column] = 1\n",
    "        column_names.append(bogus_column)\n",
    "\n",
    "        \n",
    "    # Set the parameters for our model\n",
    "    # It expects a 2D array where the columns are our features\n",
    "    model_parameters = tmp[[*column_names]].to_numpy()\n",
    "    fit_model = model.fit(model_parameters)\n",
    "    \n",
    "    # Extract the information\n",
    "    #option_value = koalas.get_option('compute.ops_on_diff_frames')\n",
    "    #koalas.set_option('compute.ops_on_diff_frames', True)\n",
    "    #tmp[\"cluster_indices\"] = fit_model.labels_.astype(int)\n",
    "    #centroids = fit_model.cluster_centers_\n",
    "    #tmp[\"cluster_centroids\"] = tmp[\"cluster_indices\"].apply(lambda i: centroids[i].tolist())\n",
    "    #koalas.set_option('compute.ops_on_diff_frames', option_value)\n",
    "    \n",
    "    if bogus_column in column_names:\n",
    "        column_names.remove(bogus_column)\n",
    "    \n",
    "    # Return the objects\n",
    "    return tmp[[*column_names]]\n",
    "\n",
    "df_01_01_2019.groupby(\"date\").apply(perform_kmeans_on_dataframe4).head()"
   ]
  },
  {
   "cell_type": "code",
   "execution_count": null,
   "metadata": {},
   "outputs": [],
   "source": []
  },
  {
   "cell_type": "code",
   "execution_count": 172,
   "metadata": {},
   "outputs": [
    {
     "ename": "TypeError",
     "evalue": "Column assignment doesn't support type ndarray",
     "output_type": "error",
     "traceback": [
      "\u001b[1;31m---------------------------------------------------------------------------\u001b[0m",
      "\u001b[1;31mTypeError\u001b[0m                                 Traceback (most recent call last)",
      "\u001b[1;32m<ipython-input-172-8b2cd6d5716b>\u001b[0m in \u001b[0;36m<module>\u001b[1;34m\u001b[0m\n\u001b[1;32m----> 1\u001b[1;33m \u001b[0mperform_kmeans_on_dataframe\u001b[0m\u001b[1;33m(\u001b[0m\u001b[0mdf_01_01_2019\u001b[0m\u001b[1;33m)\u001b[0m\u001b[1;33m\u001b[0m\u001b[1;33m\u001b[0m\u001b[0m\n\u001b[0m",
      "\u001b[1;32m<ipython-input-167-7318373d56d1>\u001b[0m in \u001b[0;36mperform_kmeans_on_dataframe\u001b[1;34m(df, column_name)\u001b[0m\n\u001b[0;32m     17\u001b[0m     \u001b[1;31m#option_value = koalas.get_option('compute.ops_on_diff_frames')\u001b[0m\u001b[1;33m\u001b[0m\u001b[1;33m\u001b[0m\u001b[1;33m\u001b[0m\u001b[0m\n\u001b[0;32m     18\u001b[0m     \u001b[1;31m#koalas.set_option('compute.ops_on_diff_frames', True)\u001b[0m\u001b[1;33m\u001b[0m\u001b[1;33m\u001b[0m\u001b[1;33m\u001b[0m\u001b[0m\n\u001b[1;32m---> 19\u001b[1;33m     \u001b[0mtmp\u001b[0m\u001b[1;33m[\u001b[0m\u001b[1;34m\"cluster_indices\"\u001b[0m\u001b[1;33m]\u001b[0m \u001b[1;33m=\u001b[0m \u001b[0mfit_model\u001b[0m\u001b[1;33m.\u001b[0m\u001b[0mlabels_\u001b[0m\u001b[1;33m.\u001b[0m\u001b[0mastype\u001b[0m\u001b[1;33m(\u001b[0m\u001b[0mint\u001b[0m\u001b[1;33m)\u001b[0m\u001b[1;33m\u001b[0m\u001b[1;33m\u001b[0m\u001b[0m\n\u001b[0m\u001b[0;32m     20\u001b[0m     \u001b[0mcentroids\u001b[0m \u001b[1;33m=\u001b[0m \u001b[0mfit_model\u001b[0m\u001b[1;33m.\u001b[0m\u001b[0mcluster_centers_\u001b[0m\u001b[1;33m\u001b[0m\u001b[1;33m\u001b[0m\u001b[0m\n\u001b[0;32m     21\u001b[0m     \u001b[0mtmp\u001b[0m\u001b[1;33m[\u001b[0m\u001b[1;34m\"cluster_centroids\"\u001b[0m\u001b[1;33m]\u001b[0m \u001b[1;33m=\u001b[0m \u001b[0mtmp\u001b[0m\u001b[1;33m[\u001b[0m\u001b[1;34m\"cluster_indices\"\u001b[0m\u001b[1;33m]\u001b[0m\u001b[1;33m.\u001b[0m\u001b[0mapply\u001b[0m\u001b[1;33m(\u001b[0m\u001b[1;32mlambda\u001b[0m \u001b[0mi\u001b[0m\u001b[1;33m:\u001b[0m \u001b[0mcentroids\u001b[0m\u001b[1;33m[\u001b[0m\u001b[0mi\u001b[0m\u001b[1;33m]\u001b[0m\u001b[1;33m.\u001b[0m\u001b[0mtolist\u001b[0m\u001b[1;33m(\u001b[0m\u001b[1;33m)\u001b[0m\u001b[1;33m)\u001b[0m\u001b[1;33m\u001b[0m\u001b[1;33m\u001b[0m\u001b[0m\n",
      "\u001b[1;32mc:\\program files\\python36\\lib\\site-packages\\databricks\\koalas\\frame.py\u001b[0m in \u001b[0;36m__setitem__\u001b[1;34m(self, key, value)\u001b[0m\n\u001b[0;32m  11764\u001b[0m         \u001b[1;32melse\u001b[0m\u001b[1;33m:\u001b[0m\u001b[1;33m\u001b[0m\u001b[1;33m\u001b[0m\u001b[0m\n\u001b[0;32m  11765\u001b[0m             \u001b[1;31m# Same Series.\u001b[0m\u001b[1;33m\u001b[0m\u001b[1;33m\u001b[0m\u001b[1;33m\u001b[0m\u001b[0m\n\u001b[1;32m> 11766\u001b[1;33m             \u001b[0mkdf\u001b[0m \u001b[1;33m=\u001b[0m \u001b[0mself\u001b[0m\u001b[1;33m.\u001b[0m\u001b[0m_assign\u001b[0m\u001b[1;33m(\u001b[0m\u001b[1;33m{\u001b[0m\u001b[0mkey\u001b[0m\u001b[1;33m:\u001b[0m \u001b[0mvalue\u001b[0m\u001b[1;33m}\u001b[0m\u001b[1;33m)\u001b[0m\u001b[1;33m\u001b[0m\u001b[1;33m\u001b[0m\u001b[0m\n\u001b[0m\u001b[0;32m  11767\u001b[0m \u001b[1;33m\u001b[0m\u001b[0m\n\u001b[0;32m  11768\u001b[0m         \u001b[0mself\u001b[0m\u001b[1;33m.\u001b[0m\u001b[0m_update_internal_frame\u001b[0m\u001b[1;33m(\u001b[0m\u001b[0mkdf\u001b[0m\u001b[1;33m.\u001b[0m\u001b[0m_internal\u001b[0m\u001b[1;33m)\u001b[0m\u001b[1;33m\u001b[0m\u001b[1;33m\u001b[0m\u001b[0m\n",
      "\u001b[1;32mc:\\program files\\python36\\lib\\site-packages\\databricks\\koalas\\frame.py\u001b[0m in \u001b[0;36m_assign\u001b[1;34m(self, kwargs)\u001b[0m\n\u001b[0;32m   4979\u001b[0m             \u001b[1;32mif\u001b[0m \u001b[0mis_invalid_assignee\u001b[0m\u001b[1;33m:\u001b[0m\u001b[1;33m\u001b[0m\u001b[1;33m\u001b[0m\u001b[0m\n\u001b[0;32m   4980\u001b[0m                 raise TypeError(\n\u001b[1;32m-> 4981\u001b[1;33m                     \u001b[1;34m\"Column assignment doesn't support type \"\u001b[0m \u001b[1;34m\"{0}\"\u001b[0m\u001b[1;33m.\u001b[0m\u001b[0mformat\u001b[0m\u001b[1;33m(\u001b[0m\u001b[0mtype\u001b[0m\u001b[1;33m(\u001b[0m\u001b[0mv\u001b[0m\u001b[1;33m)\u001b[0m\u001b[1;33m.\u001b[0m\u001b[0m__name__\u001b[0m\u001b[1;33m)\u001b[0m\u001b[1;33m\u001b[0m\u001b[1;33m\u001b[0m\u001b[0m\n\u001b[0m\u001b[0;32m   4982\u001b[0m                 )\n\u001b[0;32m   4983\u001b[0m             \u001b[1;32mif\u001b[0m \u001b[0mcallable\u001b[0m\u001b[1;33m(\u001b[0m\u001b[0mv\u001b[0m\u001b[1;33m)\u001b[0m\u001b[1;33m:\u001b[0m\u001b[1;33m\u001b[0m\u001b[1;33m\u001b[0m\u001b[0m\n",
      "\u001b[1;31mTypeError\u001b[0m: Column assignment doesn't support type ndarray"
     ]
    }
   ],
   "source": [
    "perform_kmeans_on_dataframe(df_01_01_2019)"
   ]
  },
  {
   "cell_type": "code",
   "execution_count": null,
   "metadata": {},
   "outputs": [],
   "source": []
  },
  {
   "cell_type": "code",
   "execution_count": null,
   "metadata": {},
   "outputs": [],
   "source": []
  },
  {
   "cell_type": "markdown",
   "metadata": {},
   "source": [
    "We can test the function on a subset of our data"
   ]
  },
  {
   "cell_type": "code",
   "execution_count": null,
   "metadata": {},
   "outputs": [],
   "source": []
  },
  {
   "cell_type": "code",
   "execution_count": 161,
   "metadata": {},
   "outputs": [
    {
     "name": "stderr",
     "output_type": "stream",
     "text": [
      "c:\\spark\\spark-3.1.1-bin-hadoop2.7\\python\\pyspark\\sql\\pandas\\group_ops.py:84: UserWarning: It is preferred to use 'applyInPandas' over this API. This API will be deprecated in the future releases. See SPARK-28264 for more details.\n",
      "  \"more details.\", UserWarning)\n"
     ]
    },
    {
     "ename": "PythonException",
     "evalue": "\n  An exception was thrown from the Python worker. Please see the stack trace below.\nTraceback (most recent call last):\n  File \"/usr/local/lib/python3.6/site-packages/pyspark/worker.py\", line 604, in main\n    process()\n  File \"/usr/local/lib/python3.6/site-packages/pyspark/worker.py\", line 596, in process\n    serializer.dump_stream(out_iter, outfile)\n  File \"/usr/local/lib/python3.6/site-packages/pyspark/sql/pandas/serializers.py\", line 273, in dump_stream\n    return ArrowStreamSerializer.dump_stream(self, init_stream_yield_batches(), stream)\n  File \"/usr/local/lib/python3.6/site-packages/pyspark/sql/pandas/serializers.py\", line 81, in dump_stream\n    for batch in iterator:\n  File \"/usr/local/lib/python3.6/site-packages/pyspark/sql/pandas/serializers.py\", line 266, in init_stream_yield_batches\n    for series in iterator:\n  File \"/usr/local/lib/python3.6/site-packages/pyspark/worker.py\", line 429, in mapper\n    return f(keys, vals)\n  File \"/usr/local/lib/python3.6/site-packages/pyspark/worker.py\", line 170, in <lambda>\n    return lambda k, v: [(wrapped(k, v), to_arrow_type(return_type))]\n  File \"/usr/local/lib/python3.6/site-packages/pyspark/worker.py\", line 155, in wrapped\n    result = f(pd.concat(value_series, axis=1))\n  File \"/usr/local/lib/python3.6/site-packages/pyspark/util.py\", line 73, in wrapper\n    return f(*args, **kwargs)\n  File \"c:\\program files\\python36\\lib\\site-packages\\databricks\\koalas\\groupby.py\", line 1377, in rename_output\n  File \"c:\\program files\\python36\\lib\\site-packages\\databricks\\koalas\\groupby.py\", line 1222, in pandas_groupby_apply\n  File \"/usr/local/lib64/python3.6/site-packages/pandas/core/groupby/groupby.py\", line 859, in apply\n    result = self._python_apply_general(f, self._selected_obj)\n  File \"/usr/local/lib64/python3.6/site-packages/pandas/core/groupby/groupby.py\", line 892, in _python_apply_general\n    keys, values, mutated = self.grouper.apply(f, data, self.axis)\n  File \"/usr/local/lib64/python3.6/site-packages/pandas/core/groupby/ops.py\", line 220, in apply\n    res = f(group)\n  File \"c:\\program files\\python36\\lib\\site-packages\\databricks\\koalas\\groupby.py\", line 1141, in pandas_apply\n  File \"<ipython-input-160-cdcc91a22bd5>\", line 17, in perform_kmeans_on_dataframe\n  File \"/usr/local/lib/python3.6/site-packages/databricks/koalas/config.py\", line 301, in get_option\n    return json.loads(default_session().conf.get(_key_format(key), default=json.dumps(default)))\n  File \"/usr/local/lib/python3.6/site-packages/databricks/koalas/utils.py\", line 456, in default_session\n    session = builder.getOrCreate()\n  File \"/usr/local/lib/python3.6/site-packages/pyspark/sql/session.py\", line 228, in getOrCreate\n    sc = SparkContext.getOrCreate(sparkConf)\n  File \"/usr/local/lib/python3.6/site-packages/pyspark/context.py\", line 384, in getOrCreate\n    SparkContext(conf=conf or SparkConf())\n  File \"/usr/local/lib/python3.6/site-packages/pyspark/context.py\", line 136, in __init__\n    SparkContext._assert_on_driver()\n  File \"/usr/local/lib/python3.6/site-packages/pyspark/context.py\", line 1277, in _assert_on_driver\n    raise Exception(\"SparkContext should only be created and accessed on the driver.\")\nException: SparkContext should only be created and accessed on the driver.\n",
     "output_type": "error",
     "traceback": [
      "\u001b[1;31m---------------------------------------------------------------------------\u001b[0m",
      "\u001b[1;31mPythonException\u001b[0m                           Traceback (most recent call last)",
      "\u001b[1;32mc:\\program files\\python36\\lib\\site-packages\\IPython\\core\\formatters.py\u001b[0m in \u001b[0;36m__call__\u001b[1;34m(self, obj)\u001b[0m\n\u001b[0;32m    700\u001b[0m                 \u001b[0mtype_pprinters\u001b[0m\u001b[1;33m=\u001b[0m\u001b[0mself\u001b[0m\u001b[1;33m.\u001b[0m\u001b[0mtype_printers\u001b[0m\u001b[1;33m,\u001b[0m\u001b[1;33m\u001b[0m\u001b[1;33m\u001b[0m\u001b[0m\n\u001b[0;32m    701\u001b[0m                 deferred_pprinters=self.deferred_printers)\n\u001b[1;32m--> 702\u001b[1;33m             \u001b[0mprinter\u001b[0m\u001b[1;33m.\u001b[0m\u001b[0mpretty\u001b[0m\u001b[1;33m(\u001b[0m\u001b[0mobj\u001b[0m\u001b[1;33m)\u001b[0m\u001b[1;33m\u001b[0m\u001b[1;33m\u001b[0m\u001b[0m\n\u001b[0m\u001b[0;32m    703\u001b[0m             \u001b[0mprinter\u001b[0m\u001b[1;33m.\u001b[0m\u001b[0mflush\u001b[0m\u001b[1;33m(\u001b[0m\u001b[1;33m)\u001b[0m\u001b[1;33m\u001b[0m\u001b[1;33m\u001b[0m\u001b[0m\n\u001b[0;32m    704\u001b[0m             \u001b[1;32mreturn\u001b[0m \u001b[0mstream\u001b[0m\u001b[1;33m.\u001b[0m\u001b[0mgetvalue\u001b[0m\u001b[1;33m(\u001b[0m\u001b[1;33m)\u001b[0m\u001b[1;33m\u001b[0m\u001b[1;33m\u001b[0m\u001b[0m\n",
      "\u001b[1;32mc:\\program files\\python36\\lib\\site-packages\\IPython\\lib\\pretty.py\u001b[0m in \u001b[0;36mpretty\u001b[1;34m(self, obj)\u001b[0m\n\u001b[0;32m    392\u001b[0m                         \u001b[1;32mif\u001b[0m \u001b[0mcls\u001b[0m \u001b[1;32mis\u001b[0m \u001b[1;32mnot\u001b[0m \u001b[0mobject\u001b[0m\u001b[0;31m \u001b[0m\u001b[0;31m\\\u001b[0m\u001b[1;33m\u001b[0m\u001b[1;33m\u001b[0m\u001b[0m\n\u001b[0;32m    393\u001b[0m                                 \u001b[1;32mand\u001b[0m \u001b[0mcallable\u001b[0m\u001b[1;33m(\u001b[0m\u001b[0mcls\u001b[0m\u001b[1;33m.\u001b[0m\u001b[0m__dict__\u001b[0m\u001b[1;33m.\u001b[0m\u001b[0mget\u001b[0m\u001b[1;33m(\u001b[0m\u001b[1;34m'__repr__'\u001b[0m\u001b[1;33m)\u001b[0m\u001b[1;33m)\u001b[0m\u001b[1;33m:\u001b[0m\u001b[1;33m\u001b[0m\u001b[1;33m\u001b[0m\u001b[0m\n\u001b[1;32m--> 394\u001b[1;33m                             \u001b[1;32mreturn\u001b[0m \u001b[0m_repr_pprint\u001b[0m\u001b[1;33m(\u001b[0m\u001b[0mobj\u001b[0m\u001b[1;33m,\u001b[0m \u001b[0mself\u001b[0m\u001b[1;33m,\u001b[0m \u001b[0mcycle\u001b[0m\u001b[1;33m)\u001b[0m\u001b[1;33m\u001b[0m\u001b[1;33m\u001b[0m\u001b[0m\n\u001b[0m\u001b[0;32m    395\u001b[0m \u001b[1;33m\u001b[0m\u001b[0m\n\u001b[0;32m    396\u001b[0m             \u001b[1;32mreturn\u001b[0m \u001b[0m_default_pprint\u001b[0m\u001b[1;33m(\u001b[0m\u001b[0mobj\u001b[0m\u001b[1;33m,\u001b[0m \u001b[0mself\u001b[0m\u001b[1;33m,\u001b[0m \u001b[0mcycle\u001b[0m\u001b[1;33m)\u001b[0m\u001b[1;33m\u001b[0m\u001b[1;33m\u001b[0m\u001b[0m\n",
      "\u001b[1;32mc:\\program files\\python36\\lib\\site-packages\\IPython\\lib\\pretty.py\u001b[0m in \u001b[0;36m_repr_pprint\u001b[1;34m(obj, p, cycle)\u001b[0m\n\u001b[0;32m    698\u001b[0m     \u001b[1;34m\"\"\"A pprint that just redirects to the normal repr function.\"\"\"\u001b[0m\u001b[1;33m\u001b[0m\u001b[1;33m\u001b[0m\u001b[0m\n\u001b[0;32m    699\u001b[0m     \u001b[1;31m# Find newlines and replace them with p.break_()\u001b[0m\u001b[1;33m\u001b[0m\u001b[1;33m\u001b[0m\u001b[1;33m\u001b[0m\u001b[0m\n\u001b[1;32m--> 700\u001b[1;33m     \u001b[0moutput\u001b[0m \u001b[1;33m=\u001b[0m \u001b[0mrepr\u001b[0m\u001b[1;33m(\u001b[0m\u001b[0mobj\u001b[0m\u001b[1;33m)\u001b[0m\u001b[1;33m\u001b[0m\u001b[1;33m\u001b[0m\u001b[0m\n\u001b[0m\u001b[0;32m    701\u001b[0m     \u001b[0mlines\u001b[0m \u001b[1;33m=\u001b[0m \u001b[0moutput\u001b[0m\u001b[1;33m.\u001b[0m\u001b[0msplitlines\u001b[0m\u001b[1;33m(\u001b[0m\u001b[1;33m)\u001b[0m\u001b[1;33m\u001b[0m\u001b[1;33m\u001b[0m\u001b[0m\n\u001b[0;32m    702\u001b[0m     \u001b[1;32mwith\u001b[0m \u001b[0mp\u001b[0m\u001b[1;33m.\u001b[0m\u001b[0mgroup\u001b[0m\u001b[1;33m(\u001b[0m\u001b[1;33m)\u001b[0m\u001b[1;33m:\u001b[0m\u001b[1;33m\u001b[0m\u001b[1;33m\u001b[0m\u001b[0m\n",
      "\u001b[1;32mc:\\program files\\python36\\lib\\site-packages\\databricks\\koalas\\frame.py\u001b[0m in \u001b[0;36m__repr__\u001b[1;34m(self)\u001b[0m\n\u001b[0;32m  11661\u001b[0m             \u001b[1;32mreturn\u001b[0m \u001b[0mself\u001b[0m\u001b[1;33m.\u001b[0m\u001b[0m_to_internal_pandas\u001b[0m\u001b[1;33m(\u001b[0m\u001b[1;33m)\u001b[0m\u001b[1;33m.\u001b[0m\u001b[0mto_string\u001b[0m\u001b[1;33m(\u001b[0m\u001b[1;33m)\u001b[0m\u001b[1;33m\u001b[0m\u001b[1;33m\u001b[0m\u001b[0m\n\u001b[0;32m  11662\u001b[0m \u001b[1;33m\u001b[0m\u001b[0m\n\u001b[1;32m> 11663\u001b[1;33m         \u001b[0mpdf\u001b[0m \u001b[1;33m=\u001b[0m \u001b[0mself\u001b[0m\u001b[1;33m.\u001b[0m\u001b[0m_get_or_create_repr_pandas_cache\u001b[0m\u001b[1;33m(\u001b[0m\u001b[0mmax_display_count\u001b[0m\u001b[1;33m)\u001b[0m\u001b[1;33m\u001b[0m\u001b[1;33m\u001b[0m\u001b[0m\n\u001b[0m\u001b[0;32m  11664\u001b[0m         \u001b[0mpdf_length\u001b[0m \u001b[1;33m=\u001b[0m \u001b[0mlen\u001b[0m\u001b[1;33m(\u001b[0m\u001b[0mpdf\u001b[0m\u001b[1;33m)\u001b[0m\u001b[1;33m\u001b[0m\u001b[1;33m\u001b[0m\u001b[0m\n\u001b[0;32m  11665\u001b[0m         \u001b[0mpdf\u001b[0m \u001b[1;33m=\u001b[0m \u001b[0mpdf\u001b[0m\u001b[1;33m.\u001b[0m\u001b[0miloc\u001b[0m\u001b[1;33m[\u001b[0m\u001b[1;33m:\u001b[0m\u001b[0mmax_display_count\u001b[0m\u001b[1;33m]\u001b[0m\u001b[1;33m\u001b[0m\u001b[1;33m\u001b[0m\u001b[0m\n",
      "\u001b[1;32mc:\\program files\\python36\\lib\\site-packages\\databricks\\koalas\\frame.py\u001b[0m in \u001b[0;36m_get_or_create_repr_pandas_cache\u001b[1;34m(self, n)\u001b[0m\n\u001b[0;32m  11652\u001b[0m         \u001b[1;32mif\u001b[0m \u001b[1;32mnot\u001b[0m \u001b[0mhasattr\u001b[0m\u001b[1;33m(\u001b[0m\u001b[0mself\u001b[0m\u001b[1;33m,\u001b[0m \u001b[1;34m\"_repr_pandas_cache\"\u001b[0m\u001b[1;33m)\u001b[0m \u001b[1;32mor\u001b[0m \u001b[0mn\u001b[0m \u001b[1;32mnot\u001b[0m \u001b[1;32min\u001b[0m \u001b[0mself\u001b[0m\u001b[1;33m.\u001b[0m\u001b[0m_repr_pandas_cache\u001b[0m\u001b[1;33m:\u001b[0m\u001b[1;33m\u001b[0m\u001b[1;33m\u001b[0m\u001b[0m\n\u001b[0;32m  11653\u001b[0m             object.__setattr__(\n\u001b[1;32m> 11654\u001b[1;33m                 \u001b[0mself\u001b[0m\u001b[1;33m,\u001b[0m \u001b[1;34m\"_repr_pandas_cache\"\u001b[0m\u001b[1;33m,\u001b[0m \u001b[1;33m{\u001b[0m\u001b[0mn\u001b[0m\u001b[1;33m:\u001b[0m \u001b[0mself\u001b[0m\u001b[1;33m.\u001b[0m\u001b[0mhead\u001b[0m\u001b[1;33m(\u001b[0m\u001b[0mn\u001b[0m \u001b[1;33m+\u001b[0m \u001b[1;36m1\u001b[0m\u001b[1;33m)\u001b[0m\u001b[1;33m.\u001b[0m\u001b[0m_to_internal_pandas\u001b[0m\u001b[1;33m(\u001b[0m\u001b[1;33m)\u001b[0m\u001b[1;33m}\u001b[0m\u001b[1;33m\u001b[0m\u001b[1;33m\u001b[0m\u001b[0m\n\u001b[0m\u001b[0;32m  11655\u001b[0m             )\n\u001b[0;32m  11656\u001b[0m         \u001b[1;32mreturn\u001b[0m \u001b[0mself\u001b[0m\u001b[1;33m.\u001b[0m\u001b[0m_repr_pandas_cache\u001b[0m\u001b[1;33m[\u001b[0m\u001b[0mn\u001b[0m\u001b[1;33m]\u001b[0m\u001b[1;33m\u001b[0m\u001b[1;33m\u001b[0m\u001b[0m\n",
      "\u001b[1;32mc:\\program files\\python36\\lib\\site-packages\\databricks\\koalas\\frame.py\u001b[0m in \u001b[0;36m_to_internal_pandas\u001b[1;34m(self)\u001b[0m\n\u001b[0;32m  11647\u001b[0m         \u001b[0mThis\u001b[0m \u001b[0mmethod\u001b[0m \u001b[1;32mis\u001b[0m \u001b[1;32mfor\u001b[0m \u001b[0minternal\u001b[0m \u001b[0muse\u001b[0m \u001b[0monly\u001b[0m\u001b[1;33m.\u001b[0m\u001b[1;33m\u001b[0m\u001b[1;33m\u001b[0m\u001b[0m\n\u001b[0;32m  11648\u001b[0m         \"\"\"\n\u001b[1;32m> 11649\u001b[1;33m         \u001b[1;32mreturn\u001b[0m \u001b[0mself\u001b[0m\u001b[1;33m.\u001b[0m\u001b[0m_internal\u001b[0m\u001b[1;33m.\u001b[0m\u001b[0mto_pandas_frame\u001b[0m\u001b[1;33m\u001b[0m\u001b[1;33m\u001b[0m\u001b[0m\n\u001b[0m\u001b[0;32m  11650\u001b[0m \u001b[1;33m\u001b[0m\u001b[0m\n\u001b[0;32m  11651\u001b[0m     \u001b[1;32mdef\u001b[0m \u001b[0m_get_or_create_repr_pandas_cache\u001b[0m\u001b[1;33m(\u001b[0m\u001b[0mself\u001b[0m\u001b[1;33m,\u001b[0m \u001b[0mn\u001b[0m\u001b[1;33m)\u001b[0m\u001b[1;33m:\u001b[0m\u001b[1;33m\u001b[0m\u001b[1;33m\u001b[0m\u001b[0m\n",
      "\u001b[1;32mc:\\program files\\python36\\lib\\site-packages\\databricks\\koalas\\utils.py\u001b[0m in \u001b[0;36mwrapped_lazy_property\u001b[1;34m(self)\u001b[0m\n\u001b[0;32m    576\u001b[0m     \u001b[1;32mdef\u001b[0m \u001b[0mwrapped_lazy_property\u001b[0m\u001b[1;33m(\u001b[0m\u001b[0mself\u001b[0m\u001b[1;33m)\u001b[0m\u001b[1;33m:\u001b[0m\u001b[1;33m\u001b[0m\u001b[1;33m\u001b[0m\u001b[0m\n\u001b[0;32m    577\u001b[0m         \u001b[1;32mif\u001b[0m \u001b[1;32mnot\u001b[0m \u001b[0mhasattr\u001b[0m\u001b[1;33m(\u001b[0m\u001b[0mself\u001b[0m\u001b[1;33m,\u001b[0m \u001b[0mattr_name\u001b[0m\u001b[1;33m)\u001b[0m\u001b[1;33m:\u001b[0m\u001b[1;33m\u001b[0m\u001b[1;33m\u001b[0m\u001b[0m\n\u001b[1;32m--> 578\u001b[1;33m             \u001b[0msetattr\u001b[0m\u001b[1;33m(\u001b[0m\u001b[0mself\u001b[0m\u001b[1;33m,\u001b[0m \u001b[0mattr_name\u001b[0m\u001b[1;33m,\u001b[0m \u001b[0mfn\u001b[0m\u001b[1;33m(\u001b[0m\u001b[0mself\u001b[0m\u001b[1;33m)\u001b[0m\u001b[1;33m)\u001b[0m\u001b[1;33m\u001b[0m\u001b[1;33m\u001b[0m\u001b[0m\n\u001b[0m\u001b[0;32m    579\u001b[0m         \u001b[1;32mreturn\u001b[0m \u001b[0mgetattr\u001b[0m\u001b[1;33m(\u001b[0m\u001b[0mself\u001b[0m\u001b[1;33m,\u001b[0m \u001b[0mattr_name\u001b[0m\u001b[1;33m)\u001b[0m\u001b[1;33m\u001b[0m\u001b[1;33m\u001b[0m\u001b[0m\n\u001b[0;32m    580\u001b[0m \u001b[1;33m\u001b[0m\u001b[0m\n",
      "\u001b[1;32mc:\\program files\\python36\\lib\\site-packages\\databricks\\koalas\\internal.py\u001b[0m in \u001b[0;36mto_pandas_frame\u001b[1;34m(self)\u001b[0m\n\u001b[0;32m    931\u001b[0m         \u001b[1;34m\"\"\" Return as pandas DataFrame. \"\"\"\u001b[0m\u001b[1;33m\u001b[0m\u001b[1;33m\u001b[0m\u001b[0m\n\u001b[0;32m    932\u001b[0m         \u001b[0msdf\u001b[0m \u001b[1;33m=\u001b[0m \u001b[0mself\u001b[0m\u001b[1;33m.\u001b[0m\u001b[0mto_internal_spark_frame\u001b[0m\u001b[1;33m\u001b[0m\u001b[1;33m\u001b[0m\u001b[0m\n\u001b[1;32m--> 933\u001b[1;33m         \u001b[0mpdf\u001b[0m \u001b[1;33m=\u001b[0m \u001b[0msdf\u001b[0m\u001b[1;33m.\u001b[0m\u001b[0mtoPandas\u001b[0m\u001b[1;33m(\u001b[0m\u001b[1;33m)\u001b[0m\u001b[1;33m\u001b[0m\u001b[1;33m\u001b[0m\u001b[0m\n\u001b[0m\u001b[0;32m    934\u001b[0m         \u001b[1;32mif\u001b[0m \u001b[0mlen\u001b[0m\u001b[1;33m(\u001b[0m\u001b[0mpdf\u001b[0m\u001b[1;33m)\u001b[0m \u001b[1;33m==\u001b[0m \u001b[1;36m0\u001b[0m \u001b[1;32mand\u001b[0m \u001b[0mlen\u001b[0m\u001b[1;33m(\u001b[0m\u001b[0msdf\u001b[0m\u001b[1;33m.\u001b[0m\u001b[0mschema\u001b[0m\u001b[1;33m)\u001b[0m \u001b[1;33m>\u001b[0m \u001b[1;36m0\u001b[0m\u001b[1;33m:\u001b[0m\u001b[1;33m\u001b[0m\u001b[1;33m\u001b[0m\u001b[0m\n\u001b[0;32m    935\u001b[0m             pdf = pdf.astype(\n",
      "\u001b[1;32mc:\\spark\\spark-3.1.1-bin-hadoop2.7\\python\\pyspark\\sql\\pandas\\conversion.py\u001b[0m in \u001b[0;36mtoPandas\u001b[1;34m(self)\u001b[0m\n\u001b[0;32m    139\u001b[0m \u001b[1;33m\u001b[0m\u001b[0m\n\u001b[0;32m    140\u001b[0m         \u001b[1;31m# Below is toPandas without Arrow optimization.\u001b[0m\u001b[1;33m\u001b[0m\u001b[1;33m\u001b[0m\u001b[1;33m\u001b[0m\u001b[0m\n\u001b[1;32m--> 141\u001b[1;33m         \u001b[0mpdf\u001b[0m \u001b[1;33m=\u001b[0m \u001b[0mpd\u001b[0m\u001b[1;33m.\u001b[0m\u001b[0mDataFrame\u001b[0m\u001b[1;33m.\u001b[0m\u001b[0mfrom_records\u001b[0m\u001b[1;33m(\u001b[0m\u001b[0mself\u001b[0m\u001b[1;33m.\u001b[0m\u001b[0mcollect\u001b[0m\u001b[1;33m(\u001b[0m\u001b[1;33m)\u001b[0m\u001b[1;33m,\u001b[0m \u001b[0mcolumns\u001b[0m\u001b[1;33m=\u001b[0m\u001b[0mself\u001b[0m\u001b[1;33m.\u001b[0m\u001b[0mcolumns\u001b[0m\u001b[1;33m)\u001b[0m\u001b[1;33m\u001b[0m\u001b[1;33m\u001b[0m\u001b[0m\n\u001b[0m\u001b[0;32m    142\u001b[0m         \u001b[0mcolumn_counter\u001b[0m \u001b[1;33m=\u001b[0m \u001b[0mCounter\u001b[0m\u001b[1;33m(\u001b[0m\u001b[0mself\u001b[0m\u001b[1;33m.\u001b[0m\u001b[0mcolumns\u001b[0m\u001b[1;33m)\u001b[0m\u001b[1;33m\u001b[0m\u001b[1;33m\u001b[0m\u001b[0m\n\u001b[0;32m    143\u001b[0m \u001b[1;33m\u001b[0m\u001b[0m\n",
      "\u001b[1;32mc:\\spark\\spark-3.1.1-bin-hadoop2.7\\python\\pyspark\\sql\\dataframe.py\u001b[0m in \u001b[0;36mcollect\u001b[1;34m(self)\u001b[0m\n\u001b[0;32m    675\u001b[0m         \"\"\"\n\u001b[0;32m    676\u001b[0m         \u001b[1;32mwith\u001b[0m \u001b[0mSCCallSiteSync\u001b[0m\u001b[1;33m(\u001b[0m\u001b[0mself\u001b[0m\u001b[1;33m.\u001b[0m\u001b[0m_sc\u001b[0m\u001b[1;33m)\u001b[0m \u001b[1;32mas\u001b[0m \u001b[0mcss\u001b[0m\u001b[1;33m:\u001b[0m\u001b[1;33m\u001b[0m\u001b[1;33m\u001b[0m\u001b[0m\n\u001b[1;32m--> 677\u001b[1;33m             \u001b[0msock_info\u001b[0m \u001b[1;33m=\u001b[0m \u001b[0mself\u001b[0m\u001b[1;33m.\u001b[0m\u001b[0m_jdf\u001b[0m\u001b[1;33m.\u001b[0m\u001b[0mcollectToPython\u001b[0m\u001b[1;33m(\u001b[0m\u001b[1;33m)\u001b[0m\u001b[1;33m\u001b[0m\u001b[1;33m\u001b[0m\u001b[0m\n\u001b[0m\u001b[0;32m    678\u001b[0m         \u001b[1;32mreturn\u001b[0m \u001b[0mlist\u001b[0m\u001b[1;33m(\u001b[0m\u001b[0m_load_from_socket\u001b[0m\u001b[1;33m(\u001b[0m\u001b[0msock_info\u001b[0m\u001b[1;33m,\u001b[0m \u001b[0mBatchedSerializer\u001b[0m\u001b[1;33m(\u001b[0m\u001b[0mPickleSerializer\u001b[0m\u001b[1;33m(\u001b[0m\u001b[1;33m)\u001b[0m\u001b[1;33m)\u001b[0m\u001b[1;33m)\u001b[0m\u001b[1;33m)\u001b[0m\u001b[1;33m\u001b[0m\u001b[1;33m\u001b[0m\u001b[0m\n\u001b[0;32m    679\u001b[0m \u001b[1;33m\u001b[0m\u001b[0m\n",
      "\u001b[1;32mc:\\spark\\spark-3.1.1-bin-hadoop2.7\\python\\lib\\py4j-0.10.9-src.zip\\py4j\\java_gateway.py\u001b[0m in \u001b[0;36m__call__\u001b[1;34m(self, *args)\u001b[0m\n\u001b[0;32m   1303\u001b[0m         \u001b[0manswer\u001b[0m \u001b[1;33m=\u001b[0m \u001b[0mself\u001b[0m\u001b[1;33m.\u001b[0m\u001b[0mgateway_client\u001b[0m\u001b[1;33m.\u001b[0m\u001b[0msend_command\u001b[0m\u001b[1;33m(\u001b[0m\u001b[0mcommand\u001b[0m\u001b[1;33m)\u001b[0m\u001b[1;33m\u001b[0m\u001b[1;33m\u001b[0m\u001b[0m\n\u001b[0;32m   1304\u001b[0m         return_value = get_return_value(\n\u001b[1;32m-> 1305\u001b[1;33m             answer, self.gateway_client, self.target_id, self.name)\n\u001b[0m\u001b[0;32m   1306\u001b[0m \u001b[1;33m\u001b[0m\u001b[0m\n\u001b[0;32m   1307\u001b[0m         \u001b[1;32mfor\u001b[0m \u001b[0mtemp_arg\u001b[0m \u001b[1;32min\u001b[0m \u001b[0mtemp_args\u001b[0m\u001b[1;33m:\u001b[0m\u001b[1;33m\u001b[0m\u001b[1;33m\u001b[0m\u001b[0m\n",
      "\u001b[1;32mc:\\spark\\spark-3.1.1-bin-hadoop2.7\\python\\pyspark\\sql\\utils.py\u001b[0m in \u001b[0;36mdeco\u001b[1;34m(*a, **kw)\u001b[0m\n\u001b[0;32m    115\u001b[0m                 \u001b[1;31m# Hide where the exception came from that shows a non-Pythonic\u001b[0m\u001b[1;33m\u001b[0m\u001b[1;33m\u001b[0m\u001b[1;33m\u001b[0m\u001b[0m\n\u001b[0;32m    116\u001b[0m                 \u001b[1;31m# JVM exception message.\u001b[0m\u001b[1;33m\u001b[0m\u001b[1;33m\u001b[0m\u001b[1;33m\u001b[0m\u001b[0m\n\u001b[1;32m--> 117\u001b[1;33m                 \u001b[1;32mraise\u001b[0m \u001b[0mconverted\u001b[0m \u001b[1;32mfrom\u001b[0m \u001b[1;32mNone\u001b[0m\u001b[1;33m\u001b[0m\u001b[1;33m\u001b[0m\u001b[0m\n\u001b[0m\u001b[0;32m    118\u001b[0m             \u001b[1;32melse\u001b[0m\u001b[1;33m:\u001b[0m\u001b[1;33m\u001b[0m\u001b[1;33m\u001b[0m\u001b[0m\n\u001b[0;32m    119\u001b[0m                 \u001b[1;32mraise\u001b[0m\u001b[1;33m\u001b[0m\u001b[1;33m\u001b[0m\u001b[0m\n",
      "\u001b[1;31mPythonException\u001b[0m: \n  An exception was thrown from the Python worker. Please see the stack trace below.\nTraceback (most recent call last):\n  File \"/usr/local/lib/python3.6/site-packages/pyspark/worker.py\", line 604, in main\n    process()\n  File \"/usr/local/lib/python3.6/site-packages/pyspark/worker.py\", line 596, in process\n    serializer.dump_stream(out_iter, outfile)\n  File \"/usr/local/lib/python3.6/site-packages/pyspark/sql/pandas/serializers.py\", line 273, in dump_stream\n    return ArrowStreamSerializer.dump_stream(self, init_stream_yield_batches(), stream)\n  File \"/usr/local/lib/python3.6/site-packages/pyspark/sql/pandas/serializers.py\", line 81, in dump_stream\n    for batch in iterator:\n  File \"/usr/local/lib/python3.6/site-packages/pyspark/sql/pandas/serializers.py\", line 266, in init_stream_yield_batches\n    for series in iterator:\n  File \"/usr/local/lib/python3.6/site-packages/pyspark/worker.py\", line 429, in mapper\n    return f(keys, vals)\n  File \"/usr/local/lib/python3.6/site-packages/pyspark/worker.py\", line 170, in <lambda>\n    return lambda k, v: [(wrapped(k, v), to_arrow_type(return_type))]\n  File \"/usr/local/lib/python3.6/site-packages/pyspark/worker.py\", line 155, in wrapped\n    result = f(pd.concat(value_series, axis=1))\n  File \"/usr/local/lib/python3.6/site-packages/pyspark/util.py\", line 73, in wrapper\n    return f(*args, **kwargs)\n  File \"c:\\program files\\python36\\lib\\site-packages\\databricks\\koalas\\groupby.py\", line 1377, in rename_output\n  File \"c:\\program files\\python36\\lib\\site-packages\\databricks\\koalas\\groupby.py\", line 1222, in pandas_groupby_apply\n  File \"/usr/local/lib64/python3.6/site-packages/pandas/core/groupby/groupby.py\", line 859, in apply\n    result = self._python_apply_general(f, self._selected_obj)\n  File \"/usr/local/lib64/python3.6/site-packages/pandas/core/groupby/groupby.py\", line 892, in _python_apply_general\n    keys, values, mutated = self.grouper.apply(f, data, self.axis)\n  File \"/usr/local/lib64/python3.6/site-packages/pandas/core/groupby/ops.py\", line 220, in apply\n    res = f(group)\n  File \"c:\\program files\\python36\\lib\\site-packages\\databricks\\koalas\\groupby.py\", line 1141, in pandas_apply\n  File \"<ipython-input-160-cdcc91a22bd5>\", line 17, in perform_kmeans_on_dataframe\n  File \"/usr/local/lib/python3.6/site-packages/databricks/koalas/config.py\", line 301, in get_option\n    return json.loads(default_session().conf.get(_key_format(key), default=json.dumps(default)))\n  File \"/usr/local/lib/python3.6/site-packages/databricks/koalas/utils.py\", line 456, in default_session\n    session = builder.getOrCreate()\n  File \"/usr/local/lib/python3.6/site-packages/pyspark/sql/session.py\", line 228, in getOrCreate\n    sc = SparkContext.getOrCreate(sparkConf)\n  File \"/usr/local/lib/python3.6/site-packages/pyspark/context.py\", line 384, in getOrCreate\n    SparkContext(conf=conf or SparkConf())\n  File \"/usr/local/lib/python3.6/site-packages/pyspark/context.py\", line 136, in __init__\n    SparkContext._assert_on_driver()\n  File \"/usr/local/lib/python3.6/site-packages/pyspark/context.py\", line 1277, in _assert_on_driver\n    raise Exception(\"SparkContext should only be created and accessed on the driver.\")\nException: SparkContext should only be created and accessed on the driver.\n"
     ]
    },
    {
     "ename": "PythonException",
     "evalue": "\n  An exception was thrown from the Python worker. Please see the stack trace below.\nTraceback (most recent call last):\n  File \"/usr/local/lib/python3.6/site-packages/pyspark/worker.py\", line 604, in main\n    process()\n  File \"/usr/local/lib/python3.6/site-packages/pyspark/worker.py\", line 596, in process\n    serializer.dump_stream(out_iter, outfile)\n  File \"/usr/local/lib/python3.6/site-packages/pyspark/sql/pandas/serializers.py\", line 273, in dump_stream\n    return ArrowStreamSerializer.dump_stream(self, init_stream_yield_batches(), stream)\n  File \"/usr/local/lib/python3.6/site-packages/pyspark/sql/pandas/serializers.py\", line 81, in dump_stream\n    for batch in iterator:\n  File \"/usr/local/lib/python3.6/site-packages/pyspark/sql/pandas/serializers.py\", line 266, in init_stream_yield_batches\n    for series in iterator:\n  File \"/usr/local/lib/python3.6/site-packages/pyspark/worker.py\", line 429, in mapper\n    return f(keys, vals)\n  File \"/usr/local/lib/python3.6/site-packages/pyspark/worker.py\", line 170, in <lambda>\n    return lambda k, v: [(wrapped(k, v), to_arrow_type(return_type))]\n  File \"/usr/local/lib/python3.6/site-packages/pyspark/worker.py\", line 155, in wrapped\n    result = f(pd.concat(value_series, axis=1))\n  File \"/usr/local/lib/python3.6/site-packages/pyspark/util.py\", line 73, in wrapper\n    return f(*args, **kwargs)\n  File \"c:\\program files\\python36\\lib\\site-packages\\databricks\\koalas\\groupby.py\", line 1377, in rename_output\n  File \"c:\\program files\\python36\\lib\\site-packages\\databricks\\koalas\\groupby.py\", line 1222, in pandas_groupby_apply\n  File \"/usr/local/lib64/python3.6/site-packages/pandas/core/groupby/groupby.py\", line 859, in apply\n    result = self._python_apply_general(f, self._selected_obj)\n  File \"/usr/local/lib64/python3.6/site-packages/pandas/core/groupby/groupby.py\", line 892, in _python_apply_general\n    keys, values, mutated = self.grouper.apply(f, data, self.axis)\n  File \"/usr/local/lib64/python3.6/site-packages/pandas/core/groupby/ops.py\", line 220, in apply\n    res = f(group)\n  File \"c:\\program files\\python36\\lib\\site-packages\\databricks\\koalas\\groupby.py\", line 1141, in pandas_apply\n  File \"<ipython-input-160-cdcc91a22bd5>\", line 17, in perform_kmeans_on_dataframe\n  File \"/usr/local/lib/python3.6/site-packages/databricks/koalas/config.py\", line 301, in get_option\n    return json.loads(default_session().conf.get(_key_format(key), default=json.dumps(default)))\n  File \"/usr/local/lib/python3.6/site-packages/databricks/koalas/utils.py\", line 456, in default_session\n    session = builder.getOrCreate()\n  File \"/usr/local/lib/python3.6/site-packages/pyspark/sql/session.py\", line 228, in getOrCreate\n    sc = SparkContext.getOrCreate(sparkConf)\n  File \"/usr/local/lib/python3.6/site-packages/pyspark/context.py\", line 384, in getOrCreate\n    SparkContext(conf=conf or SparkConf())\n  File \"/usr/local/lib/python3.6/site-packages/pyspark/context.py\", line 136, in __init__\n    SparkContext._assert_on_driver()\n  File \"/usr/local/lib/python3.6/site-packages/pyspark/context.py\", line 1277, in _assert_on_driver\n    raise Exception(\"SparkContext should only be created and accessed on the driver.\")\nException: SparkContext should only be created and accessed on the driver.\n",
     "output_type": "error",
     "traceback": [
      "\u001b[1;31m---------------------------------------------------------------------------\u001b[0m",
      "\u001b[1;31mPythonException\u001b[0m                           Traceback (most recent call last)",
      "\u001b[1;32mc:\\program files\\python36\\lib\\site-packages\\IPython\\core\\formatters.py\u001b[0m in \u001b[0;36m__call__\u001b[1;34m(self, obj)\u001b[0m\n\u001b[0;32m    343\u001b[0m             \u001b[0mmethod\u001b[0m \u001b[1;33m=\u001b[0m \u001b[0mget_real_method\u001b[0m\u001b[1;33m(\u001b[0m\u001b[0mobj\u001b[0m\u001b[1;33m,\u001b[0m \u001b[0mself\u001b[0m\u001b[1;33m.\u001b[0m\u001b[0mprint_method\u001b[0m\u001b[1;33m)\u001b[0m\u001b[1;33m\u001b[0m\u001b[1;33m\u001b[0m\u001b[0m\n\u001b[0;32m    344\u001b[0m             \u001b[1;32mif\u001b[0m \u001b[0mmethod\u001b[0m \u001b[1;32mis\u001b[0m \u001b[1;32mnot\u001b[0m \u001b[1;32mNone\u001b[0m\u001b[1;33m:\u001b[0m\u001b[1;33m\u001b[0m\u001b[1;33m\u001b[0m\u001b[0m\n\u001b[1;32m--> 345\u001b[1;33m                 \u001b[1;32mreturn\u001b[0m \u001b[0mmethod\u001b[0m\u001b[1;33m(\u001b[0m\u001b[1;33m)\u001b[0m\u001b[1;33m\u001b[0m\u001b[1;33m\u001b[0m\u001b[0m\n\u001b[0m\u001b[0;32m    346\u001b[0m             \u001b[1;32mreturn\u001b[0m \u001b[1;32mNone\u001b[0m\u001b[1;33m\u001b[0m\u001b[1;33m\u001b[0m\u001b[0m\n\u001b[0;32m    347\u001b[0m         \u001b[1;32melse\u001b[0m\u001b[1;33m:\u001b[0m\u001b[1;33m\u001b[0m\u001b[1;33m\u001b[0m\u001b[0m\n",
      "\u001b[1;32mc:\\program files\\python36\\lib\\site-packages\\databricks\\koalas\\frame.py\u001b[0m in \u001b[0;36m_repr_html_\u001b[1;34m(self)\u001b[0m\n\u001b[0;32m  11684\u001b[0m             \u001b[1;32mreturn\u001b[0m \u001b[0mself\u001b[0m\u001b[1;33m.\u001b[0m\u001b[0m_to_internal_pandas\u001b[0m\u001b[1;33m(\u001b[0m\u001b[1;33m)\u001b[0m\u001b[1;33m.\u001b[0m\u001b[0mto_html\u001b[0m\u001b[1;33m(\u001b[0m\u001b[0mnotebook\u001b[0m\u001b[1;33m=\u001b[0m\u001b[1;32mTrue\u001b[0m\u001b[1;33m,\u001b[0m \u001b[0mbold_rows\u001b[0m\u001b[1;33m=\u001b[0m\u001b[0mbold_rows\u001b[0m\u001b[1;33m)\u001b[0m\u001b[1;33m\u001b[0m\u001b[1;33m\u001b[0m\u001b[0m\n\u001b[0;32m  11685\u001b[0m \u001b[1;33m\u001b[0m\u001b[0m\n\u001b[1;32m> 11686\u001b[1;33m         \u001b[0mpdf\u001b[0m \u001b[1;33m=\u001b[0m \u001b[0mself\u001b[0m\u001b[1;33m.\u001b[0m\u001b[0m_get_or_create_repr_pandas_cache\u001b[0m\u001b[1;33m(\u001b[0m\u001b[0mmax_display_count\u001b[0m\u001b[1;33m)\u001b[0m\u001b[1;33m\u001b[0m\u001b[1;33m\u001b[0m\u001b[0m\n\u001b[0m\u001b[0;32m  11687\u001b[0m         \u001b[0mpdf_length\u001b[0m \u001b[1;33m=\u001b[0m \u001b[0mlen\u001b[0m\u001b[1;33m(\u001b[0m\u001b[0mpdf\u001b[0m\u001b[1;33m)\u001b[0m\u001b[1;33m\u001b[0m\u001b[1;33m\u001b[0m\u001b[0m\n\u001b[0;32m  11688\u001b[0m         \u001b[0mpdf\u001b[0m \u001b[1;33m=\u001b[0m \u001b[0mpdf\u001b[0m\u001b[1;33m.\u001b[0m\u001b[0miloc\u001b[0m\u001b[1;33m[\u001b[0m\u001b[1;33m:\u001b[0m\u001b[0mmax_display_count\u001b[0m\u001b[1;33m]\u001b[0m\u001b[1;33m\u001b[0m\u001b[1;33m\u001b[0m\u001b[0m\n",
      "\u001b[1;32mc:\\program files\\python36\\lib\\site-packages\\databricks\\koalas\\frame.py\u001b[0m in \u001b[0;36m_get_or_create_repr_pandas_cache\u001b[1;34m(self, n)\u001b[0m\n\u001b[0;32m  11652\u001b[0m         \u001b[1;32mif\u001b[0m \u001b[1;32mnot\u001b[0m \u001b[0mhasattr\u001b[0m\u001b[1;33m(\u001b[0m\u001b[0mself\u001b[0m\u001b[1;33m,\u001b[0m \u001b[1;34m\"_repr_pandas_cache\"\u001b[0m\u001b[1;33m)\u001b[0m \u001b[1;32mor\u001b[0m \u001b[0mn\u001b[0m \u001b[1;32mnot\u001b[0m \u001b[1;32min\u001b[0m \u001b[0mself\u001b[0m\u001b[1;33m.\u001b[0m\u001b[0m_repr_pandas_cache\u001b[0m\u001b[1;33m:\u001b[0m\u001b[1;33m\u001b[0m\u001b[1;33m\u001b[0m\u001b[0m\n\u001b[0;32m  11653\u001b[0m             object.__setattr__(\n\u001b[1;32m> 11654\u001b[1;33m                 \u001b[0mself\u001b[0m\u001b[1;33m,\u001b[0m \u001b[1;34m\"_repr_pandas_cache\"\u001b[0m\u001b[1;33m,\u001b[0m \u001b[1;33m{\u001b[0m\u001b[0mn\u001b[0m\u001b[1;33m:\u001b[0m \u001b[0mself\u001b[0m\u001b[1;33m.\u001b[0m\u001b[0mhead\u001b[0m\u001b[1;33m(\u001b[0m\u001b[0mn\u001b[0m \u001b[1;33m+\u001b[0m \u001b[1;36m1\u001b[0m\u001b[1;33m)\u001b[0m\u001b[1;33m.\u001b[0m\u001b[0m_to_internal_pandas\u001b[0m\u001b[1;33m(\u001b[0m\u001b[1;33m)\u001b[0m\u001b[1;33m}\u001b[0m\u001b[1;33m\u001b[0m\u001b[1;33m\u001b[0m\u001b[0m\n\u001b[0m\u001b[0;32m  11655\u001b[0m             )\n\u001b[0;32m  11656\u001b[0m         \u001b[1;32mreturn\u001b[0m \u001b[0mself\u001b[0m\u001b[1;33m.\u001b[0m\u001b[0m_repr_pandas_cache\u001b[0m\u001b[1;33m[\u001b[0m\u001b[0mn\u001b[0m\u001b[1;33m]\u001b[0m\u001b[1;33m\u001b[0m\u001b[1;33m\u001b[0m\u001b[0m\n",
      "\u001b[1;32mc:\\program files\\python36\\lib\\site-packages\\databricks\\koalas\\frame.py\u001b[0m in \u001b[0;36m_to_internal_pandas\u001b[1;34m(self)\u001b[0m\n\u001b[0;32m  11647\u001b[0m         \u001b[0mThis\u001b[0m \u001b[0mmethod\u001b[0m \u001b[1;32mis\u001b[0m \u001b[1;32mfor\u001b[0m \u001b[0minternal\u001b[0m \u001b[0muse\u001b[0m \u001b[0monly\u001b[0m\u001b[1;33m.\u001b[0m\u001b[1;33m\u001b[0m\u001b[1;33m\u001b[0m\u001b[0m\n\u001b[0;32m  11648\u001b[0m         \"\"\"\n\u001b[1;32m> 11649\u001b[1;33m         \u001b[1;32mreturn\u001b[0m \u001b[0mself\u001b[0m\u001b[1;33m.\u001b[0m\u001b[0m_internal\u001b[0m\u001b[1;33m.\u001b[0m\u001b[0mto_pandas_frame\u001b[0m\u001b[1;33m\u001b[0m\u001b[1;33m\u001b[0m\u001b[0m\n\u001b[0m\u001b[0;32m  11650\u001b[0m \u001b[1;33m\u001b[0m\u001b[0m\n\u001b[0;32m  11651\u001b[0m     \u001b[1;32mdef\u001b[0m \u001b[0m_get_or_create_repr_pandas_cache\u001b[0m\u001b[1;33m(\u001b[0m\u001b[0mself\u001b[0m\u001b[1;33m,\u001b[0m \u001b[0mn\u001b[0m\u001b[1;33m)\u001b[0m\u001b[1;33m:\u001b[0m\u001b[1;33m\u001b[0m\u001b[1;33m\u001b[0m\u001b[0m\n",
      "\u001b[1;32mc:\\program files\\python36\\lib\\site-packages\\databricks\\koalas\\utils.py\u001b[0m in \u001b[0;36mwrapped_lazy_property\u001b[1;34m(self)\u001b[0m\n\u001b[0;32m    576\u001b[0m     \u001b[1;32mdef\u001b[0m \u001b[0mwrapped_lazy_property\u001b[0m\u001b[1;33m(\u001b[0m\u001b[0mself\u001b[0m\u001b[1;33m)\u001b[0m\u001b[1;33m:\u001b[0m\u001b[1;33m\u001b[0m\u001b[1;33m\u001b[0m\u001b[0m\n\u001b[0;32m    577\u001b[0m         \u001b[1;32mif\u001b[0m \u001b[1;32mnot\u001b[0m \u001b[0mhasattr\u001b[0m\u001b[1;33m(\u001b[0m\u001b[0mself\u001b[0m\u001b[1;33m,\u001b[0m \u001b[0mattr_name\u001b[0m\u001b[1;33m)\u001b[0m\u001b[1;33m:\u001b[0m\u001b[1;33m\u001b[0m\u001b[1;33m\u001b[0m\u001b[0m\n\u001b[1;32m--> 578\u001b[1;33m             \u001b[0msetattr\u001b[0m\u001b[1;33m(\u001b[0m\u001b[0mself\u001b[0m\u001b[1;33m,\u001b[0m \u001b[0mattr_name\u001b[0m\u001b[1;33m,\u001b[0m \u001b[0mfn\u001b[0m\u001b[1;33m(\u001b[0m\u001b[0mself\u001b[0m\u001b[1;33m)\u001b[0m\u001b[1;33m)\u001b[0m\u001b[1;33m\u001b[0m\u001b[1;33m\u001b[0m\u001b[0m\n\u001b[0m\u001b[0;32m    579\u001b[0m         \u001b[1;32mreturn\u001b[0m \u001b[0mgetattr\u001b[0m\u001b[1;33m(\u001b[0m\u001b[0mself\u001b[0m\u001b[1;33m,\u001b[0m \u001b[0mattr_name\u001b[0m\u001b[1;33m)\u001b[0m\u001b[1;33m\u001b[0m\u001b[1;33m\u001b[0m\u001b[0m\n\u001b[0;32m    580\u001b[0m \u001b[1;33m\u001b[0m\u001b[0m\n",
      "\u001b[1;32mc:\\program files\\python36\\lib\\site-packages\\databricks\\koalas\\internal.py\u001b[0m in \u001b[0;36mto_pandas_frame\u001b[1;34m(self)\u001b[0m\n\u001b[0;32m    931\u001b[0m         \u001b[1;34m\"\"\" Return as pandas DataFrame. \"\"\"\u001b[0m\u001b[1;33m\u001b[0m\u001b[1;33m\u001b[0m\u001b[0m\n\u001b[0;32m    932\u001b[0m         \u001b[0msdf\u001b[0m \u001b[1;33m=\u001b[0m \u001b[0mself\u001b[0m\u001b[1;33m.\u001b[0m\u001b[0mto_internal_spark_frame\u001b[0m\u001b[1;33m\u001b[0m\u001b[1;33m\u001b[0m\u001b[0m\n\u001b[1;32m--> 933\u001b[1;33m         \u001b[0mpdf\u001b[0m \u001b[1;33m=\u001b[0m \u001b[0msdf\u001b[0m\u001b[1;33m.\u001b[0m\u001b[0mtoPandas\u001b[0m\u001b[1;33m(\u001b[0m\u001b[1;33m)\u001b[0m\u001b[1;33m\u001b[0m\u001b[1;33m\u001b[0m\u001b[0m\n\u001b[0m\u001b[0;32m    934\u001b[0m         \u001b[1;32mif\u001b[0m \u001b[0mlen\u001b[0m\u001b[1;33m(\u001b[0m\u001b[0mpdf\u001b[0m\u001b[1;33m)\u001b[0m \u001b[1;33m==\u001b[0m \u001b[1;36m0\u001b[0m \u001b[1;32mand\u001b[0m \u001b[0mlen\u001b[0m\u001b[1;33m(\u001b[0m\u001b[0msdf\u001b[0m\u001b[1;33m.\u001b[0m\u001b[0mschema\u001b[0m\u001b[1;33m)\u001b[0m \u001b[1;33m>\u001b[0m \u001b[1;36m0\u001b[0m\u001b[1;33m:\u001b[0m\u001b[1;33m\u001b[0m\u001b[1;33m\u001b[0m\u001b[0m\n\u001b[0;32m    935\u001b[0m             pdf = pdf.astype(\n",
      "\u001b[1;32mc:\\spark\\spark-3.1.1-bin-hadoop2.7\\python\\pyspark\\sql\\pandas\\conversion.py\u001b[0m in \u001b[0;36mtoPandas\u001b[1;34m(self)\u001b[0m\n\u001b[0;32m    139\u001b[0m \u001b[1;33m\u001b[0m\u001b[0m\n\u001b[0;32m    140\u001b[0m         \u001b[1;31m# Below is toPandas without Arrow optimization.\u001b[0m\u001b[1;33m\u001b[0m\u001b[1;33m\u001b[0m\u001b[1;33m\u001b[0m\u001b[0m\n\u001b[1;32m--> 141\u001b[1;33m         \u001b[0mpdf\u001b[0m \u001b[1;33m=\u001b[0m \u001b[0mpd\u001b[0m\u001b[1;33m.\u001b[0m\u001b[0mDataFrame\u001b[0m\u001b[1;33m.\u001b[0m\u001b[0mfrom_records\u001b[0m\u001b[1;33m(\u001b[0m\u001b[0mself\u001b[0m\u001b[1;33m.\u001b[0m\u001b[0mcollect\u001b[0m\u001b[1;33m(\u001b[0m\u001b[1;33m)\u001b[0m\u001b[1;33m,\u001b[0m \u001b[0mcolumns\u001b[0m\u001b[1;33m=\u001b[0m\u001b[0mself\u001b[0m\u001b[1;33m.\u001b[0m\u001b[0mcolumns\u001b[0m\u001b[1;33m)\u001b[0m\u001b[1;33m\u001b[0m\u001b[1;33m\u001b[0m\u001b[0m\n\u001b[0m\u001b[0;32m    142\u001b[0m         \u001b[0mcolumn_counter\u001b[0m \u001b[1;33m=\u001b[0m \u001b[0mCounter\u001b[0m\u001b[1;33m(\u001b[0m\u001b[0mself\u001b[0m\u001b[1;33m.\u001b[0m\u001b[0mcolumns\u001b[0m\u001b[1;33m)\u001b[0m\u001b[1;33m\u001b[0m\u001b[1;33m\u001b[0m\u001b[0m\n\u001b[0;32m    143\u001b[0m \u001b[1;33m\u001b[0m\u001b[0m\n",
      "\u001b[1;32mc:\\spark\\spark-3.1.1-bin-hadoop2.7\\python\\pyspark\\sql\\dataframe.py\u001b[0m in \u001b[0;36mcollect\u001b[1;34m(self)\u001b[0m\n\u001b[0;32m    675\u001b[0m         \"\"\"\n\u001b[0;32m    676\u001b[0m         \u001b[1;32mwith\u001b[0m \u001b[0mSCCallSiteSync\u001b[0m\u001b[1;33m(\u001b[0m\u001b[0mself\u001b[0m\u001b[1;33m.\u001b[0m\u001b[0m_sc\u001b[0m\u001b[1;33m)\u001b[0m \u001b[1;32mas\u001b[0m \u001b[0mcss\u001b[0m\u001b[1;33m:\u001b[0m\u001b[1;33m\u001b[0m\u001b[1;33m\u001b[0m\u001b[0m\n\u001b[1;32m--> 677\u001b[1;33m             \u001b[0msock_info\u001b[0m \u001b[1;33m=\u001b[0m \u001b[0mself\u001b[0m\u001b[1;33m.\u001b[0m\u001b[0m_jdf\u001b[0m\u001b[1;33m.\u001b[0m\u001b[0mcollectToPython\u001b[0m\u001b[1;33m(\u001b[0m\u001b[1;33m)\u001b[0m\u001b[1;33m\u001b[0m\u001b[1;33m\u001b[0m\u001b[0m\n\u001b[0m\u001b[0;32m    678\u001b[0m         \u001b[1;32mreturn\u001b[0m \u001b[0mlist\u001b[0m\u001b[1;33m(\u001b[0m\u001b[0m_load_from_socket\u001b[0m\u001b[1;33m(\u001b[0m\u001b[0msock_info\u001b[0m\u001b[1;33m,\u001b[0m \u001b[0mBatchedSerializer\u001b[0m\u001b[1;33m(\u001b[0m\u001b[0mPickleSerializer\u001b[0m\u001b[1;33m(\u001b[0m\u001b[1;33m)\u001b[0m\u001b[1;33m)\u001b[0m\u001b[1;33m)\u001b[0m\u001b[1;33m)\u001b[0m\u001b[1;33m\u001b[0m\u001b[1;33m\u001b[0m\u001b[0m\n\u001b[0;32m    679\u001b[0m \u001b[1;33m\u001b[0m\u001b[0m\n",
      "\u001b[1;32mc:\\spark\\spark-3.1.1-bin-hadoop2.7\\python\\lib\\py4j-0.10.9-src.zip\\py4j\\java_gateway.py\u001b[0m in \u001b[0;36m__call__\u001b[1;34m(self, *args)\u001b[0m\n\u001b[0;32m   1303\u001b[0m         \u001b[0manswer\u001b[0m \u001b[1;33m=\u001b[0m \u001b[0mself\u001b[0m\u001b[1;33m.\u001b[0m\u001b[0mgateway_client\u001b[0m\u001b[1;33m.\u001b[0m\u001b[0msend_command\u001b[0m\u001b[1;33m(\u001b[0m\u001b[0mcommand\u001b[0m\u001b[1;33m)\u001b[0m\u001b[1;33m\u001b[0m\u001b[1;33m\u001b[0m\u001b[0m\n\u001b[0;32m   1304\u001b[0m         return_value = get_return_value(\n\u001b[1;32m-> 1305\u001b[1;33m             answer, self.gateway_client, self.target_id, self.name)\n\u001b[0m\u001b[0;32m   1306\u001b[0m \u001b[1;33m\u001b[0m\u001b[0m\n\u001b[0;32m   1307\u001b[0m         \u001b[1;32mfor\u001b[0m \u001b[0mtemp_arg\u001b[0m \u001b[1;32min\u001b[0m \u001b[0mtemp_args\u001b[0m\u001b[1;33m:\u001b[0m\u001b[1;33m\u001b[0m\u001b[1;33m\u001b[0m\u001b[0m\n",
      "\u001b[1;32mc:\\spark\\spark-3.1.1-bin-hadoop2.7\\python\\pyspark\\sql\\utils.py\u001b[0m in \u001b[0;36mdeco\u001b[1;34m(*a, **kw)\u001b[0m\n\u001b[0;32m    115\u001b[0m                 \u001b[1;31m# Hide where the exception came from that shows a non-Pythonic\u001b[0m\u001b[1;33m\u001b[0m\u001b[1;33m\u001b[0m\u001b[1;33m\u001b[0m\u001b[0m\n\u001b[0;32m    116\u001b[0m                 \u001b[1;31m# JVM exception message.\u001b[0m\u001b[1;33m\u001b[0m\u001b[1;33m\u001b[0m\u001b[1;33m\u001b[0m\u001b[0m\n\u001b[1;32m--> 117\u001b[1;33m                 \u001b[1;32mraise\u001b[0m \u001b[0mconverted\u001b[0m \u001b[1;32mfrom\u001b[0m \u001b[1;32mNone\u001b[0m\u001b[1;33m\u001b[0m\u001b[1;33m\u001b[0m\u001b[0m\n\u001b[0m\u001b[0;32m    118\u001b[0m             \u001b[1;32melse\u001b[0m\u001b[1;33m:\u001b[0m\u001b[1;33m\u001b[0m\u001b[1;33m\u001b[0m\u001b[0m\n\u001b[0;32m    119\u001b[0m                 \u001b[1;32mraise\u001b[0m\u001b[1;33m\u001b[0m\u001b[1;33m\u001b[0m\u001b[0m\n",
      "\u001b[1;31mPythonException\u001b[0m: \n  An exception was thrown from the Python worker. Please see the stack trace below.\nTraceback (most recent call last):\n  File \"/usr/local/lib/python3.6/site-packages/pyspark/worker.py\", line 604, in main\n    process()\n  File \"/usr/local/lib/python3.6/site-packages/pyspark/worker.py\", line 596, in process\n    serializer.dump_stream(out_iter, outfile)\n  File \"/usr/local/lib/python3.6/site-packages/pyspark/sql/pandas/serializers.py\", line 273, in dump_stream\n    return ArrowStreamSerializer.dump_stream(self, init_stream_yield_batches(), stream)\n  File \"/usr/local/lib/python3.6/site-packages/pyspark/sql/pandas/serializers.py\", line 81, in dump_stream\n    for batch in iterator:\n  File \"/usr/local/lib/python3.6/site-packages/pyspark/sql/pandas/serializers.py\", line 266, in init_stream_yield_batches\n    for series in iterator:\n  File \"/usr/local/lib/python3.6/site-packages/pyspark/worker.py\", line 429, in mapper\n    return f(keys, vals)\n  File \"/usr/local/lib/python3.6/site-packages/pyspark/worker.py\", line 170, in <lambda>\n    return lambda k, v: [(wrapped(k, v), to_arrow_type(return_type))]\n  File \"/usr/local/lib/python3.6/site-packages/pyspark/worker.py\", line 155, in wrapped\n    result = f(pd.concat(value_series, axis=1))\n  File \"/usr/local/lib/python3.6/site-packages/pyspark/util.py\", line 73, in wrapper\n    return f(*args, **kwargs)\n  File \"c:\\program files\\python36\\lib\\site-packages\\databricks\\koalas\\groupby.py\", line 1377, in rename_output\n  File \"c:\\program files\\python36\\lib\\site-packages\\databricks\\koalas\\groupby.py\", line 1222, in pandas_groupby_apply\n  File \"/usr/local/lib64/python3.6/site-packages/pandas/core/groupby/groupby.py\", line 859, in apply\n    result = self._python_apply_general(f, self._selected_obj)\n  File \"/usr/local/lib64/python3.6/site-packages/pandas/core/groupby/groupby.py\", line 892, in _python_apply_general\n    keys, values, mutated = self.grouper.apply(f, data, self.axis)\n  File \"/usr/local/lib64/python3.6/site-packages/pandas/core/groupby/ops.py\", line 220, in apply\n    res = f(group)\n  File \"c:\\program files\\python36\\lib\\site-packages\\databricks\\koalas\\groupby.py\", line 1141, in pandas_apply\n  File \"<ipython-input-160-cdcc91a22bd5>\", line 17, in perform_kmeans_on_dataframe\n  File \"/usr/local/lib/python3.6/site-packages/databricks/koalas/config.py\", line 301, in get_option\n    return json.loads(default_session().conf.get(_key_format(key), default=json.dumps(default)))\n  File \"/usr/local/lib/python3.6/site-packages/databricks/koalas/utils.py\", line 456, in default_session\n    session = builder.getOrCreate()\n  File \"/usr/local/lib/python3.6/site-packages/pyspark/sql/session.py\", line 228, in getOrCreate\n    sc = SparkContext.getOrCreate(sparkConf)\n  File \"/usr/local/lib/python3.6/site-packages/pyspark/context.py\", line 384, in getOrCreate\n    SparkContext(conf=conf or SparkConf())\n  File \"/usr/local/lib/python3.6/site-packages/pyspark/context.py\", line 136, in __init__\n    SparkContext._assert_on_driver()\n  File \"/usr/local/lib/python3.6/site-packages/pyspark/context.py\", line 1277, in _assert_on_driver\n    raise Exception(\"SparkContext should only be created and accessed on the driver.\")\nException: SparkContext should only be created and accessed on the driver.\n"
     ]
    }
   ],
   "source": [
    "tmp = \n",
    "tmp.head()"
   ]
  },
  {
   "cell_type": "code",
   "execution_count": null,
   "metadata": {},
   "outputs": [],
   "source": []
  },
  {
   "cell_type": "markdown",
   "metadata": {},
   "source": [
    "Note: We need to install relevant python libraries on the worker nodes. If you do not, you might see an error as follows:\n",
    "```\n",
    "PythonException: \n",
    "  An exception was thrown from the Python worker. Please see the stack trace below.\n",
    "Traceback (most recent call last):\n",
    "  File \"/usr/local/lib/python3.6/site-packages/pyspark/worker.py\", line 588, in main\n",
    "    func, profiler, deserializer, serializer = read_udfs(pickleSer, infile, eval_type)\n",
    "  File \"/usr/local/lib/python3.6/site-packages/pyspark/worker.py\", line 421, in read_udfs\n",
    "    arg_offsets, f = read_single_udf(pickleSer, infile, eval_type, runner_conf, udf_index=0)\n",
    "  File \"/usr/local/lib/python3.6/site-packages/pyspark/worker.py\", line 249, in read_single_udf\n",
    "    f, return_type = read_command(pickleSer, infile)\n",
    "  File \"/usr/local/lib/python3.6/site-packages/pyspark/worker.py\", line 69, in read_command\n",
    "    command = serializer._read_with_length(file)\n",
    "  File \"/usr/local/lib/python3.6/site-packages/pyspark/serializers.py\", line 160, in _read_with_length\n",
    "    return self.loads(obj)\n",
    "  File \"/usr/local/lib/python3.6/site-packages/pyspark/serializers.py\", line 430, in loads\n",
    "    return pickle.loads(obj, encoding=encoding)\n",
    "  File \"/usr/local/lib/python3.6/site-packages/pyspark/cloudpickle/cloudpickle.py\", line 562, in subimport\n",
    "    __import__(name)\n",
    "ModuleNotFoundError: No module named 'pandas'\n",
    "```\n",
    "\n",
    "We can log into the kubernetes pods and execute shell commands.\n",
    "\n",
    "Note: We must do this on all workers."
   ]
  },
  {
   "cell_type": "code",
   "execution_count": null,
   "metadata": {},
   "outputs": [],
   "source": [
    "! kubectl -n spark get pod"
   ]
  },
  {
   "cell_type": "code",
   "execution_count": null,
   "metadata": {},
   "outputs": [],
   "source": [
    "! kubectl -n spark exec -ti spark-jupyter-win-eb2d737982c132f8-exec-1 -- pip3 list"
   ]
  },
  {
   "cell_type": "markdown",
   "metadata": {},
   "source": [
    "Test it out"
   ]
  },
  {
   "cell_type": "code",
   "execution_count": 48,
   "metadata": {},
   "outputs": [],
   "source": [
    "from pyspark.sql.functions import udf\n",
    "@udf('double')\n",
    "def foo(df, column_name=\"open\"):\n",
    "    return df[column_name]"
   ]
  },
  {
   "cell_type": "code",
   "execution_count": null,
   "metadata": {},
   "outputs": [],
   "source": []
  },
  {
   "cell_type": "code",
   "execution_count": 62,
   "metadata": {},
   "outputs": [
    {
     "data": {
      "text/html": [
       "<div>\n",
       "<style scoped>\n",
       "    .dataframe tbody tr th:only-of-type {\n",
       "        vertical-align: middle;\n",
       "    }\n",
       "\n",
       "    .dataframe tbody tr th {\n",
       "        vertical-align: top;\n",
       "    }\n",
       "\n",
       "    .dataframe thead th {\n",
       "        text-align: right;\n",
       "    }\n",
       "</style>\n",
       "<table border=\"1\" class=\"dataframe\">\n",
       "  <thead>\n",
       "    <tr style=\"text-align: right;\">\n",
       "      <th></th>\n",
       "      <th>A</th>\n",
       "      <th>B</th>\n",
       "    </tr>\n",
       "  </thead>\n",
       "  <tbody>\n",
       "    <tr>\n",
       "      <th>0</th>\n",
       "      <td>4</td>\n",
       "      <td>9</td>\n",
       "    </tr>\n",
       "    <tr>\n",
       "      <th>1</th>\n",
       "      <td>4</td>\n",
       "      <td>9</td>\n",
       "    </tr>\n",
       "    <tr>\n",
       "      <th>2</th>\n",
       "      <td>4</td>\n",
       "      <td>9</td>\n",
       "    </tr>\n",
       "  </tbody>\n",
       "</table>\n",
       "</div>"
      ],
      "text/plain": [
       "   A  B\n",
       "0  4  9\n",
       "1  4  9\n",
       "2  4  9"
      ]
     },
     "execution_count": 62,
     "metadata": {},
     "output_type": "execute_result"
    }
   ],
   "source": [
    "df = koalas.DataFrame([[4, 9]] * 3, columns=['A', 'B'])\n",
    "df"
   ]
  },
  {
   "cell_type": "code",
   "execution_count": 72,
   "metadata": {
    "tags": []
   },
   "outputs": [
    {
     "data": {
      "text/html": [
       "<div>\n",
       "<style scoped>\n",
       "    .dataframe tbody tr th:only-of-type {\n",
       "        vertical-align: middle;\n",
       "    }\n",
       "\n",
       "    .dataframe tbody tr th {\n",
       "        vertical-align: top;\n",
       "    }\n",
       "\n",
       "    .dataframe thead th {\n",
       "        text-align: right;\n",
       "    }\n",
       "</style>\n",
       "<table border=\"1\" class=\"dataframe\">\n",
       "  <thead>\n",
       "    <tr style=\"text-align: right;\">\n",
       "      <th></th>\n",
       "      <th>A</th>\n",
       "      <th>B</th>\n",
       "    </tr>\n",
       "  </thead>\n",
       "  <tbody>\n",
       "    <tr>\n",
       "      <th>0</th>\n",
       "      <td>2.0</td>\n",
       "      <td>3.0</td>\n",
       "    </tr>\n",
       "    <tr>\n",
       "      <th>1</th>\n",
       "      <td>2.0</td>\n",
       "      <td>3.0</td>\n",
       "    </tr>\n",
       "    <tr>\n",
       "      <th>2</th>\n",
       "      <td>2.0</td>\n",
       "      <td>3.0</td>\n",
       "    </tr>\n",
       "  </tbody>\n",
       "</table>\n",
       "</div>"
      ],
      "text/plain": [
       "     A    B\n",
       "0  2.0  3.0\n",
       "1  2.0  3.0\n",
       "2  2.0  3.0"
      ]
     },
     "execution_count": 72,
     "metadata": {},
     "output_type": "execute_result"
    }
   ],
   "source": [
    "import numpy\n",
    "def sqrt(x) -> koalas.Series[float]:\n",
    "    return numpy.sqrt(x)\n",
    "\n",
    "df.apply(sqrt, axis=0)"
   ]
  },
  {
   "cell_type": "code",
   "execution_count": 74,
   "metadata": {},
   "outputs": [
    {
     "data": {
      "text/html": [
       "<div>\n",
       "<style scoped>\n",
       "    .dataframe tbody tr th:only-of-type {\n",
       "        vertical-align: middle;\n",
       "    }\n",
       "\n",
       "    .dataframe tbody tr th {\n",
       "        vertical-align: top;\n",
       "    }\n",
       "\n",
       "    .dataframe thead th {\n",
       "        text-align: right;\n",
       "    }\n",
       "</style>\n",
       "<table border=\"1\" class=\"dataframe\">\n",
       "  <thead>\n",
       "    <tr style=\"text-align: right;\">\n",
       "      <th></th>\n",
       "      <th>A</th>\n",
       "      <th>B</th>\n",
       "      <th>C</th>\n",
       "    </tr>\n",
       "  </thead>\n",
       "  <tbody>\n",
       "    <tr>\n",
       "      <th>0</th>\n",
       "      <td>a</td>\n",
       "      <td>1</td>\n",
       "      <td>4</td>\n",
       "    </tr>\n",
       "    <tr>\n",
       "      <th>1</th>\n",
       "      <td>a</td>\n",
       "      <td>2</td>\n",
       "      <td>6</td>\n",
       "    </tr>\n",
       "    <tr>\n",
       "      <th>2</th>\n",
       "      <td>b</td>\n",
       "      <td>3</td>\n",
       "      <td>5</td>\n",
       "    </tr>\n",
       "  </tbody>\n",
       "</table>\n",
       "</div>"
      ],
      "text/plain": [
       "   A  B  C\n",
       "0  a  1  4\n",
       "1  a  2  6\n",
       "2  b  3  5"
      ]
     },
     "execution_count": 74,
     "metadata": {},
     "output_type": "execute_result"
    }
   ],
   "source": [
    "df = koalas.DataFrame({'A': ['a', 'a', 'b'], 'B': [1, 2, 3], 'C': [4, 6, 5]})\n",
    "df"
   ]
  },
  {
   "cell_type": "code",
   "execution_count": 76,
   "metadata": {},
   "outputs": [
    {
     "name": "stderr",
     "output_type": "stream",
     "text": [
      "c:\\spark\\spark-3.1.1-bin-hadoop2.7\\python\\pyspark\\sql\\pandas\\group_ops.py:84: UserWarning: It is preferred to use 'applyInPandas' over this API. This API will be deprecated in the future releases. See SPARK-28264 for more details.\n",
      "  \"more details.\", UserWarning)\n"
     ]
    },
    {
     "data": {
      "text/html": [
       "<div>\n",
       "<style scoped>\n",
       "    .dataframe tbody tr th:only-of-type {\n",
       "        vertical-align: middle;\n",
       "    }\n",
       "\n",
       "    .dataframe tbody tr th {\n",
       "        vertical-align: top;\n",
       "    }\n",
       "\n",
       "    .dataframe thead th {\n",
       "        text-align: right;\n",
       "    }\n",
       "</style>\n",
       "<table border=\"1\" class=\"dataframe\">\n",
       "  <thead>\n",
       "    <tr style=\"text-align: right;\">\n",
       "      <th></th>\n",
       "      <th>c0</th>\n",
       "      <th>c1</th>\n",
       "    </tr>\n",
       "  </thead>\n",
       "  <tbody>\n",
       "    <tr>\n",
       "      <th>0</th>\n",
       "      <td>1.0</td>\n",
       "      <td>1.0</td>\n",
       "    </tr>\n",
       "    <tr>\n",
       "      <th>1</th>\n",
       "      <td>1.0</td>\n",
       "      <td>1.0</td>\n",
       "    </tr>\n",
       "    <tr>\n",
       "      <th>2</th>\n",
       "      <td>1.0</td>\n",
       "      <td>1.0</td>\n",
       "    </tr>\n",
       "  </tbody>\n",
       "</table>\n",
       "</div>"
      ],
      "text/plain": [
       "    c0   c1\n",
       "0  1.0  1.0\n",
       "1  1.0  1.0\n",
       "2  1.0  1.0"
      ]
     },
     "execution_count": 76,
     "metadata": {},
     "output_type": "execute_result"
    }
   ],
   "source": [
    "def pandas_div(pdf) -> koalas.DataFrame[float, float]:\n",
    "    # pdf is a pandas DataFrame,\n",
    "    return pdf[['B', 'C']] / pdf[['B', 'C']]\n",
    "\n",
    "df.groupby('A').apply(pandas_div)"
   ]
  },
  {
   "cell_type": "code",
   "execution_count": 77,
   "metadata": {},
   "outputs": [
    {
     "name": "stderr",
     "output_type": "stream",
     "text": [
      "c:\\spark\\spark-3.1.1-bin-hadoop2.7\\python\\pyspark\\sql\\pandas\\group_ops.py:84: UserWarning: It is preferred to use 'applyInPandas' over this API. This API will be deprecated in the future releases. See SPARK-28264 for more details.\n",
      "  \"more details.\", UserWarning)\n"
     ]
    },
    {
     "data": {
      "text/html": [
       "<div>\n",
       "<style scoped>\n",
       "    .dataframe tbody tr th:only-of-type {\n",
       "        vertical-align: middle;\n",
       "    }\n",
       "\n",
       "    .dataframe tbody tr th {\n",
       "        vertical-align: top;\n",
       "    }\n",
       "\n",
       "    .dataframe thead th {\n",
       "        text-align: right;\n",
       "    }\n",
       "</style>\n",
       "<table border=\"1\" class=\"dataframe\">\n",
       "  <thead>\n",
       "    <tr style=\"text-align: right;\">\n",
       "      <th></th>\n",
       "      <th>c0</th>\n",
       "      <th>c1</th>\n",
       "    </tr>\n",
       "  </thead>\n",
       "  <tbody>\n",
       "    <tr>\n",
       "      <th>0</th>\n",
       "      <td>3.0</td>\n",
       "      <td>5.0</td>\n",
       "    </tr>\n",
       "    <tr>\n",
       "      <th>1</th>\n",
       "      <td>2.0</td>\n",
       "      <td>6.0</td>\n",
       "    </tr>\n",
       "    <tr>\n",
       "      <th>2</th>\n",
       "      <td>1.0</td>\n",
       "      <td>4.0</td>\n",
       "    </tr>\n",
       "  </tbody>\n",
       "</table>\n",
       "</div>"
      ],
      "text/plain": [
       "    c0   c1\n",
       "0  3.0  5.0\n",
       "1  2.0  6.0\n",
       "2  1.0  4.0"
      ]
     },
     "execution_count": 77,
     "metadata": {},
     "output_type": "execute_result"
    }
   ],
   "source": [
    "def test(pdf) -> koalas.DataFrame[float, float]:\n",
    "    # pdf is a pandas DataFrame,\n",
    "    return pdf[['B', 'C']]\n",
    "\n",
    "df.groupby('A').apply(test)"
   ]
  },
  {
   "cell_type": "code",
   "execution_count": 84,
   "metadata": {},
   "outputs": [
    {
     "data": {
      "text/html": [
       "<div>\n",
       "<style scoped>\n",
       "    .dataframe tbody tr th:only-of-type {\n",
       "        vertical-align: middle;\n",
       "    }\n",
       "\n",
       "    .dataframe tbody tr th {\n",
       "        vertical-align: top;\n",
       "    }\n",
       "\n",
       "    .dataframe thead th {\n",
       "        text-align: right;\n",
       "    }\n",
       "</style>\n",
       "<table border=\"1\" class=\"dataframe\">\n",
       "  <thead>\n",
       "    <tr style=\"text-align: right;\">\n",
       "      <th></th>\n",
       "      <th>ticker</th>\n",
       "      <th>interval</th>\n",
       "      <th>date</th>\n",
       "      <th>open</th>\n",
       "      <th>high</th>\n",
       "      <th>low</th>\n",
       "      <th>close</th>\n",
       "      <th>volume</th>\n",
       "    </tr>\n",
       "  </thead>\n",
       "  <tbody>\n",
       "    <tr>\n",
       "      <th>93620</th>\n",
       "      <td>AABA</td>\n",
       "      <td>D</td>\n",
       "      <td>2019-01-01</td>\n",
       "      <td>57.94</td>\n",
       "      <td>57.94</td>\n",
       "      <td>57.94</td>\n",
       "      <td>57.94</td>\n",
       "      <td>0</td>\n",
       "    </tr>\n",
       "    <tr>\n",
       "      <th>93621</th>\n",
       "      <td>AAL</td>\n",
       "      <td>D</td>\n",
       "      <td>2019-01-01</td>\n",
       "      <td>32.11</td>\n",
       "      <td>32.11</td>\n",
       "      <td>32.11</td>\n",
       "      <td>32.11</td>\n",
       "      <td>0</td>\n",
       "    </tr>\n",
       "    <tr>\n",
       "      <th>93622</th>\n",
       "      <td>AAME</td>\n",
       "      <td>D</td>\n",
       "      <td>2019-01-01</td>\n",
       "      <td>2.41</td>\n",
       "      <td>2.41</td>\n",
       "      <td>2.41</td>\n",
       "      <td>2.41</td>\n",
       "      <td>0</td>\n",
       "    </tr>\n",
       "    <tr>\n",
       "      <th>93623</th>\n",
       "      <td>AAOI</td>\n",
       "      <td>D</td>\n",
       "      <td>2019-01-01</td>\n",
       "      <td>15.43</td>\n",
       "      <td>15.43</td>\n",
       "      <td>15.43</td>\n",
       "      <td>15.43</td>\n",
       "      <td>0</td>\n",
       "    </tr>\n",
       "    <tr>\n",
       "      <th>93624</th>\n",
       "      <td>AAON</td>\n",
       "      <td>D</td>\n",
       "      <td>2019-01-01</td>\n",
       "      <td>35.06</td>\n",
       "      <td>35.06</td>\n",
       "      <td>35.06</td>\n",
       "      <td>35.06</td>\n",
       "      <td>0</td>\n",
       "    </tr>\n",
       "  </tbody>\n",
       "</table>\n",
       "</div>"
      ],
      "text/plain": [
       "      ticker interval        date   open   high    low  close  volume\n",
       "93620   AABA        D  2019-01-01  57.94  57.94  57.94  57.94       0\n",
       "93621    AAL        D  2019-01-01  32.11  32.11  32.11  32.11       0\n",
       "93622   AAME        D  2019-01-01   2.41   2.41   2.41   2.41       0\n",
       "93623   AAOI        D  2019-01-01  15.43  15.43  15.43  15.43       0\n",
       "93624   AAON        D  2019-01-01  35.06  35.06  35.06  35.06       0"
      ]
     },
     "execution_count": 84,
     "metadata": {},
     "output_type": "execute_result"
    }
   ],
   "source": [
    "df_01_01_2019.head()"
   ]
  },
  {
   "cell_type": "code",
   "execution_count": 85,
   "metadata": {},
   "outputs": [
    {
     "data": {
      "text/plain": [
       "ticker       object\n",
       "interval     object\n",
       "date         object\n",
       "open        float64\n",
       "high        float64\n",
       "low         float64\n",
       "close       float64\n",
       "volume        int32\n",
       "dtype: object"
      ]
     },
     "execution_count": 85,
     "metadata": {},
     "output_type": "execute_result"
    }
   ],
   "source": [
    "df_01_01_2019.dtypes"
   ]
  },
  {
   "cell_type": "code",
   "execution_count": 93,
   "metadata": {},
   "outputs": [
    {
     "name": "stderr",
     "output_type": "stream",
     "text": [
      "c:\\spark\\spark-3.1.1-bin-hadoop2.7\\python\\pyspark\\sql\\pandas\\group_ops.py:84: UserWarning: It is preferred to use 'applyInPandas' over this API. This API will be deprecated in the future releases. See SPARK-28264 for more details.\n",
      "  \"more details.\", UserWarning)\n"
     ]
    },
    {
     "data": {
      "text/html": [
       "<div>\n",
       "<style scoped>\n",
       "    .dataframe tbody tr th:only-of-type {\n",
       "        vertical-align: middle;\n",
       "    }\n",
       "\n",
       "    .dataframe tbody tr th {\n",
       "        vertical-align: top;\n",
       "    }\n",
       "\n",
       "    .dataframe thead th {\n",
       "        text-align: right;\n",
       "    }\n",
       "</style>\n",
       "<table border=\"1\" class=\"dataframe\">\n",
       "  <thead>\n",
       "    <tr style=\"text-align: right;\">\n",
       "      <th></th>\n",
       "      <th>c0</th>\n",
       "    </tr>\n",
       "  </thead>\n",
       "  <tbody>\n",
       "    <tr>\n",
       "      <th>0</th>\n",
       "      <td>57.94</td>\n",
       "    </tr>\n",
       "    <tr>\n",
       "      <th>1</th>\n",
       "      <td>32.11</td>\n",
       "    </tr>\n",
       "    <tr>\n",
       "      <th>2</th>\n",
       "      <td>2.41</td>\n",
       "    </tr>\n",
       "    <tr>\n",
       "      <th>3</th>\n",
       "      <td>15.43</td>\n",
       "    </tr>\n",
       "    <tr>\n",
       "      <th>4</th>\n",
       "      <td>35.06</td>\n",
       "    </tr>\n",
       "  </tbody>\n",
       "</table>\n",
       "</div>"
      ],
      "text/plain": [
       "      c0\n",
       "0  57.94\n",
       "1  32.11\n",
       "2   2.41\n",
       "3  15.43\n",
       "4  35.06"
      ]
     },
     "execution_count": 93,
     "metadata": {},
     "output_type": "execute_result"
    }
   ],
   "source": [
    "t = None\n",
    "def test2(pdf) -> koalas.DataFrame[float]:\n",
    "    t = pdf\n",
    "    return pdf[[\"open\"]]\n",
    "\n",
    "df_01_01_2019.groupby(\"date\").apply(test2).head()"
   ]
  },
  {
   "cell_type": "code",
   "execution_count": 95,
   "metadata": {},
   "outputs": [],
   "source": []
  },
  {
   "cell_type": "code",
   "execution_count": 96,
   "metadata": {},
   "outputs": [
    {
     "name": "stderr",
     "output_type": "stream",
     "text": [
      "c:\\spark\\spark-3.1.1-bin-hadoop2.7\\python\\pyspark\\sql\\pandas\\group_ops.py:84: UserWarning: It is preferred to use 'applyInPandas' over this API. This API will be deprecated in the future releases. See SPARK-28264 for more details.\n",
      "  \"more details.\", UserWarning)\n"
     ]
    },
    {
     "data": {
      "text/html": [
       "<div>\n",
       "<style scoped>\n",
       "    .dataframe tbody tr th:only-of-type {\n",
       "        vertical-align: middle;\n",
       "    }\n",
       "\n",
       "    .dataframe tbody tr th {\n",
       "        vertical-align: top;\n",
       "    }\n",
       "\n",
       "    .dataframe thead th {\n",
       "        text-align: right;\n",
       "    }\n",
       "</style>\n",
       "<table border=\"1\" class=\"dataframe\">\n",
       "  <thead>\n",
       "    <tr style=\"text-align: right;\">\n",
       "      <th></th>\n",
       "      <th>ticker</th>\n",
       "      <th>interval</th>\n",
       "      <th>date</th>\n",
       "      <th>open</th>\n",
       "      <th>high</th>\n",
       "      <th>low</th>\n",
       "      <th>close</th>\n",
       "      <th>volume</th>\n",
       "    </tr>\n",
       "    <tr>\n",
       "      <th>date</th>\n",
       "      <th></th>\n",
       "      <th></th>\n",
       "      <th></th>\n",
       "      <th></th>\n",
       "      <th></th>\n",
       "      <th></th>\n",
       "      <th></th>\n",
       "      <th></th>\n",
       "    </tr>\n",
       "  </thead>\n",
       "  <tbody>\n",
       "    <tr>\n",
       "      <th>2019-01-01</th>\n",
       "      <td>AABAAALAAMEAAOIAAONAAPLAAWWAAXJAAXNABCBABDCABE...</td>\n",
       "      <td>DDDDDDDDDDDDDDDDDDDDDDDDDDDDDDDDDDDDDDDDDDDDDD...</td>\n",
       "      <td>2019-01-012019-01-012019-01-012019-01-012019-0...</td>\n",
       "      <td>90014.221</td>\n",
       "      <td>90014.221</td>\n",
       "      <td>90014.221</td>\n",
       "      <td>90014.221</td>\n",
       "      <td>0</td>\n",
       "    </tr>\n",
       "  </tbody>\n",
       "</table>\n",
       "</div>"
      ],
      "text/plain": [
       "                                                                                                                                                                                                                                                                                                                                                                                                                                                                                                                                                                                                                                                                                                                                                                                                                                                                                                                                                                                                                                                                                                                                                                                                                                                                                                                                                                                                                                                                                                                                                                                                                                                                                                                                                                                                                                                                                                                                                                                                                                                                                                                                                                                                                                                                                                                                                                                                                                                                                                                                                                                                                                                                                                                                                                                                                                                                                                                                                                                                                                                                                                                                                                                                                                                                                                                                                                                                                                                                                                                                                                                                                                                                                                                                                                                                                                                                                                                                                                                                                                                                                                                                                                                                                                                                                                                                                                                                                                                                                                                                                                                                                                                                                                                                                                                                                                                                                                                                                                                                                                                                                                                                                                                                                                                                                                                                                                                                                                                                                                                                                                                                                                                                                                                                                                                                                                                                                                                                                                                                                                                                                                                                                                                                                                                                                                                                                                                                                                                                                                                                                                                                                                                                                                                                                                                                                                                                                                                                                                                                                                                                                                                                                                                                                                                                                                                                                                                                                                                                                                                                                                                                                                                                                                                                                                                                                                                                                                                                                                                                                                                                                                                                                                                                                                                                                                                                                                                                                                                                                                                                                                                                                                                                                                                                                                                                                                                                                                                                                                                                                                                                                                                                                                                                                                                                                                                                                                                                                                                                                                                                                                                                                                                                                                                                                                                                                                                                                                                                                                                                                                                                                                                                                                                                                                                                                                                                                                                                                                                                                                                                                                                                                                                                                                                                                                                                                                                                                                                                                                                                                                                                                                                                                                                                                                                                                                                                                                                                                                                                                                                                                                                                                                                                                                                                                                                                                                                                                                                                                                                                                                                                                                                                                                                                                                                                                                                                                                                                                                                                                                                                                                                                                                                                                                                                                                                                                                                                                                                                                                                                                                                                                                                                                                            ticker                                                                                                                                                                                                                                                                                                                                                                                                                                                                                                                                                                                                                                                                                                                                                                                                                                                                                                                                                                                                                                                                                                                                                                                                                                                                                                                                                                                                                                                                                                                                                                                                                                                                                                                                                                                                                                                                                                                                                                                                                                                                                                                                                                                                                                                                                                                                                                                                                                                                                                                                                                                                                                                                                                                                                                                                                                                                                                                                                                                                                                                                                                                                                                                                                                                                                                     interval                                                                                                                                                                                                                                                                                                                                                                                                                                                                                                                                                                                                                                                                                                                                                                                                                                                                                                                                                                                                                                                                                                                                                                                                                                                                                                                                                                                                                                                                                                                                                                                                                                                                                                                                                                                                                                                                                                                                                                                                                                                                                                                                                                                                                                                                                                                                                                                                                                                                                                                                                                                                                                                                                                                                                                                                                                                                                                                                                                                                                                                                                                                                                                                                                                                                                                                                                                                                                                                                                                                                                                                                                                                                                                                                                                                                                                                                                                                                                                                                                                                                                                                                                                                                                                                                                                                                                                                                                                                                                                                                                                                                                                                                                                                                                                                                                                                                                                                                                                                                                                                                                                                                                                                                                                                                                                                                                                                                                                                                                                                                                                                                                                                                                                                                                                                                                                                                                                                                                                                                                                                                                                                                                                                                                                                                                                                                                                                                                                                                                                                                                                                                                                                                                                                                                                                                                                                                                                                                                                                                                                                                                                                                                                                                                                                                                                                                                                                                                                                                                                                                                                                                                                                                                                                                                                                                                                                                                                                                                                                                                                                                                                                                                                                                                                                                                                                                                                                                                                                                                                                                                                                                                                                                                                                                                                                                                                                                                                                                                                                                                                                                                                                                                                                                                                                                                                                                                                                                                                                                                                                                                                                                                                                                                                                                                                                                                                                                                                                                                                                                                                                                                                                                                                                                                                                                                                                                                                                                                                                                                                                                                                                                                                                                                                                                                                                                                                                                                                                                                                                                                                                                                                                                                                                                                                                                                                                                                                                                                                                                                                                                                                                                                                                                                                                                                                                                                                                                                                                                                                                                                                                                                                                                                                                                                                                                                                                                                                                                                                                                                                                                                                                                                                                                                                                                                                                                                                                                                                                                                                                                                                                                                                                                                                                                                                                                                                                                                                                                                                                                                                                                                                                                                                                                                                                                                                                                                                                                                                                                                                                                                                                                                                                                                                                                                                                                                                                                                                                                                                                                                                                                                                                                                                                                                                                                                                                                                                                                                                                                                                                                                                                                                                                                                                                                                                                                                                                                                                                                                                                                                                                                                                                                                                                                                                                                                                                                                                                                                                                                                                                                                                                                                                                                                                                                                                                                                                                                                                                                                                                                                                                                                                                                                                                                                                                                                                                                                                                                                                                                                                                                                                                                                                                                                                                                                                                                                                                                                                                                                                                                                                                                                                                                                                                                                                                                                                                                                                                                                                                                                                                                                                                                                                                                                                                                                                                                                                                                                                                                                                                                                                                                                                                                                                                                                                                                                                                                                                                                                                                                                                                                                                                                                                                                                                                                                                                                                                                                                                                                                                                                                                                                                                                                                                                                                                                                                                                                                                                                                                                                                                                                                                                                                                                                                                                                                                                                                                                                                                                                                                                                                                                                                                                                                                                                                                                                                                                                                                                                                                                                                                                                                                                                                                                                                                                                                                                                                                                                                                                                                                                                                                                                                                                                                                                                                                                                                                                                                                                                                                                                                                                                                                                                                                                                                                                                                                                                                                                                                                                                                                                                                                                                                                                                                                                                                                                                                                                                                                                                                                                                                                                                                                                                                                                                                                                                                                                                                                                                                                                                                                                                                                                                                                                                                                                                                                                                                                                                                                                                                                                                                                                                                                                                                                                                                                                                                                                                                                                                                                                                                                                                                                                                                                                                                                                                                                                                                                                                                                                                                                                                                                                                                                                                                                                                                                                                                                                                                                                                                                                                                                                                                                                                                                                                                                                                                                                                                                                                                                                                                                                                                                                                                                                                                                                                                                                                                                                                                                                                                                                                                                                                                                                                                                                                                                                                                                                                                                                                                                                                                                                                                                                                                                                                                                                                                                                                                                                                                                                                                                                                                                                                                                                                                                                                                                                                                                                                                                                                                                                                                                                                                                                                                                                                                                                                                                                                                                                                                                                                                                                                                                                                                                                                                                                                                                                                                                                                                                                                                                                                                                                                                                                                                                                                                                                                                                                                                                                                                                                                                                                                                                                                                                                                                                                                                                                                                                                                                                                                                                                                                                                                                                                                                                                                                                                                                                                                                                                                                                                                                                                                                                                                                                                                                                                                                                                                                                                                                                                                                                                                                                                                                                                                                                                                                                                                                                                                                                                                                                                                                                                                                                                                                                                                                                                                                                                                                                                                                                                                                                                                                                                                                                                                                                                                                                                                                                                                                                                                                                                                                                                                                                                                                                                                                                                                                                                                                                                                                                                                                                                                                                                                                                                                                                                                                                            date       open       high        low      close  volume\n",
       "date                                                                                                                                                                                                                                                                                                                                                                                                                                                                                                                                                                                                                                                                                                                                                                                                                                                                                                                                                                                                                                                                                                                                                                                                                                                                                                                                                                                                                                                                                                                                                                                                                                                                                                                                                                                                                                                                                                                                                                                                                                                                                                                                                                                                                                                                                                                                                                                                                                                                                                                                                                                                                                                                                                                                                                                                                                                                                                                                                                                                                                                                                                                                                                                                                                                                                                                                                                                                                                                                                                                                                                                                                                                                                                                                                                                                                                                                                                                                                                                                                                                                                                                                                                                                                                                                                                                                                                                                                                                                                                                                                                                                                                                                                                                                                                                                                                                                                                                                                                                                                                                                                                                                                                                                                                                                                                                                                                                                                                                                                                                                                                                                                                                                                                                                                                                                                                                                                                                                                                                                                                                                                                                                                                                                                                                                                                                                                                                                                                                                                                                                                                                                                                                                                                                                                                                                                                                                                                                                                                                                                                                                                                                                                                                                                                                                                                                                                                                                                                                                                                                                                                                                                                                                                                                                                                                                                                                                                                                                                                                                                                                                                                                                                                                                                                                                                                                                                                                                                                                                                                                                                                                                                                                                                                                                                                                                                                                                                                                                                                                                                                                                                                                                                                                                                                                                                                                                                                                                                                                                                                                                                                                                                                                                                                                                                                                                                                                                                                                                                                                                                                                                                                                                                                                                                                                                                                                                                                                                                                                                                                                                                                                                                                                                                                                                                                                                                                                                                                                                                                                                                                                                                                                                                                                                                                                                                                                                                                                                                                                                                                                                                                                                                                                                                                                                                                                                                                                                                                                                                                                                                                                                                                                                                                                                                                                                                                                                                                                                                                                                                                                                                                                                                                                                                                                                                                                                                                                                                                                                                                                                                                                                                                                                                                                                                                                                                                                                                                                                                                                                                                                                                                                                                                                                                                                                                                                                                                                                                                                                                                                                                                                                                                                                                                                                                                                                                                                                                                                                                                                                                                                                                                                                                                                                                                                                                                                                                                                                                                                                                                                                                                                                                                                                                                                                                                                                                                                                                                                                                                                                                                                                                                                                                                                                                                                                                                                                                                                                                                                                                                                                                                                                                                                                                                                                                                                                                                                                                                                                                                                                                                                                                                                                                                                                                                                                                                                                                                                                                                                                                                                                                                                                                                                                                                                                                                                                                                                                                                                                                                                                                                                                                                                                                                                                                                                                                                                                                                                                                                                                                                                                                                                                                                                                                                                                                                                                                                                                                                                                                                                                                                                                                                                                                                                                                                                                                                                                                                                                                                                                                                                                                                                                                                                                                                                                                                                                                                                                                                                                                                                                                                                                                                                                                                                                                                                                                                                                                                                                                                                                                                                                                                                                                                                                                                                                                                                                                                                                                                                                                                                                                                                                                                                                                                                                                                                                                                                                                                                                                                                                                                                                                                                                                                                                                                                                                                                                                                                                                                                                                                                                                                                                                                                                                                                                                                                                                                                                                                                                                                                                                                                                                                                                                                                                                                                                                                                                                                                                                                                                                                                                                                                                                                                                                                                                                                                                                                                                                                                                                                                                                                                                                                                                                                                                                                                                                                                                                                                                                                                                                                                                                                                                                                                                                                                                                                                                                                                                                                                                                                                                                                                                                                                                                                                                                                                                                                                                                                                                                                                                                                                                                                                                                                                                                                                                                                                                                                                                                                                                                                                                                                                                                                                                                                                                                                                                                                                                                                                                                                                                                                                                                                                                                                                                                                                                                                                                                                                                                                                                                                                                                                                                                                                                                                                                                                                                                                                                                                                                                                                                                                                                                                                                                                                                                                                                                                                                                                                                                                                                                                                                                                                                                                                                                                                                                                                                                                                                                                                                                                                                                                                                                                                                                                                                                                                                                                                                                                                                                                                                                                                                                                                                                                                                                                                                                                                                                                                                                                                                                                                                                                                                                                                                                                                                                                                                                                                                                                                                                                                                                                                                                                                                                                                                                                                                                                                                                                                                                                                                                                                                                                                                                                                                                                                                                                                                                                                                                                                                                                                                                                                                                                                                                                                                                                                                                                                                                                                                                                                                                                                                                                                                                                                                                                                                                                                                                                                                                                                                                                                                                                                                                                                                                                                                                                                                                                                                                                                                                                                                                                                                                                                                                                                                                                                                                                                                                                                                                                                                                                                                                                                                                                                                                                                                                                                                                                                                                                                                                                                                                                                                                                                                                                                                                                                                                                                                                                                                                                                                                                                                                                                                                                                                                                                                                                                                                                                                                                                                                                                                                                                                                                                                                                                                                                                                                                                                                                                                                                                                                                                                                                                                                                                                                                                                                                                                                                                                                                                                                                                                                                                                                                                                                                                                                                                                                                                                                                                                                                                                                                                                                                                                                                                                                                                                                                                                                                                                                                                                                                                                                                                                                                                                                                                                                                                                                                                                                                                                                                                                                                                                                                                                                                                                                                                                                                                                                                                                                                                                                                                                                                                                                                                                                                                                                                                                                                                                                                                                                                                                                                                                                                                                                                                                                                                                                                                                                                                                                                                                                                                                                                                                                                                                                                                                                                                                                                                                                                                                                                                                                                                                                                                                                                                                                                                                                                                                                                                                                                                                                                                                                                                                                                                                                                                                                                                                                                                                                                                                                                                                                                                                                                                                                                                                                                                                                                                                                                                                                                                                                                                                                                                                                                                                                                                                                                                                                                                                                                                                                                                                                                                                                                                                                                                                                                                                                                                                                                                                                                                                                                                                                                                                                                                                                                                                                                                                                                                                                                                                                                                                                                                                                                                                                                                                                                                                                                                                                                                                                                                                                                                                                                                                                                                                                                                                                                                                                                                                                                                                                                                                                                                                                                                                                                                                                                                                                                                                                                                                                                                                                                                                                                                                                                                                                                                                                                                                                                                                                                                                                                                                                                                                                                                                                                                                                                                                                                                                                                                                                                                                                                                                                                                                                                                                                                                                                                                                                                                                                                                                                                                                                                                                                                                                                                                                                                                                                                                                                                                                                                                                                                                                                                                                                                                                                                                                                                                                                                                                                                                                                                                                                                                                                                                                                                                                                                                                                                                                                                                                                                                                                                                                                                                                                                                                                                                                                                                                                                                                                                                                                                                                                                                                                                                                                                                                                                                                                                                                                                                                                                                                                                                                                                                                                                                                                                                                                                                                                                                                                                                                                                                                                                                                                                                                                                                                                                                                                                                                                                                                                                                                                                                                                                                                                                                                                                                                                                                                                                                                                                                                                                                                                                                                                                                                                                                                                                                                                                                                                                                                                                                                                                                                                                                                                                                                                                                                                                                                                                                                                                                                                                                                                                                                                                                                                                                                                                                                                                                                                                                                                                                                                                                                                                                                                                                                                                                                                                                                                                                               \n",
       "2019-01-01  AABAAALAAMEAAOIAAONAAPLAAWWAAXJAAXNABCBABDCABEOABEOWABILABIOABMDABTXABUSACADACBIACERACGLACGLOACGLPACHCACHNACHVACIAACIUACIWACLSACMRACNBACORACRSACRXACSTACTACTGACWIACWXADAPADBEADESADIADILADILWADMAADMPADMSADOMADPADRAADRDADREADROADRUADSKADTNADUSADVMADXSAEGNAEHRAEISAEMDAERIAETIAEYAEYEAEZSAFHAFHBLAFINAFMDAGENAGFSAGFSWAGIOAGLEAGMHAGNCAGNCBAGNCNAGNDAGRXAGTCAGYSAGZDAHPIAIAAIHSAIMCAIMTAINVAIPTAIQAIRGAIRRAIRTAKAMAKBAAKCAAKERAKRXAKTSAKTXALACALACRALACUALACWALBOALCOALDRALDXALGNALGRALGRRALGRUALGRWALGTALIMALJJALKSALLKALLOALLTALNAALNYALOTALPNALRMALRNALSKALTALTMALTRALTYALXNALYAAMAGAMALAMATAMBAAMBCAMBCWAMCAAMCIUAMCNAMCXAMDAMEDAMEHAMGNAMKRAMNBAMOTAMPHAMRAMRBAMRHAMRHWAMRKAMRNAMRSAMRWWAMSCAMSFAMSWAAMTBAMTBBAMTDAMTXAMWDAMZNANABANATANDEANGIANGOANIKANIPANIXANSSANYAOBCAOSLAPDNAPDNWAPEIAPENAPLSAPMAPOGAPOPAPOPWAPPFAPPNAPPSAPTOAPTXAPVOAPWCAQBAQMSAQSTAQXPARAVARAYARCBARCCARCEARCIARCTARCWARDSARDXAREXARGXARKRARLPARNAAROWARPOARQLARRYARTNAARTWARTXARVNARWRARYAARYAUASCMAASETASFIASLNASMBASMLASNAASNDASPSASPUASRTASRVASRVPASTCASTEASURASVASYSATAIATAXATECATHXATISATISWATLCATLOATNIATNXATOMATOSATRAATRCATRIATROATRSATSGATVIATXIAUBNAUDCAUPHAUTLAUTOAVAVAVCOAVDLAVEOAVGOAVGRAVIDAVNWAVROAVTAVXLAWREAWSMAXASAXDXAXGNAXNXAXSMAXTIAYAYTUAZPNAZRXBABYBANDBANFBANFPBANRBANXBASIBATRABATRKBBBYBBCPBBGIBBHBBSIBCBPBCLIBCMLBCNABCOMBCORBCOVBCPCBCRXBCTFBDGEBDSIBEATBECNBELFABELFBBFCBFINBFITBFRABFSTBGCPBGFVBGNEBGRNBHFBHFALBHTGBIBBICKBIDUBIIBBILIBIOCBIOLBIOSBISBJRIBKCCBKEPBKEPPBKNGBKSCBKYIBLBLBDBLCMBLCNBLDPBLDRBLFSBLINBLKBBLMNBLNKBLNKWBLPHBLRXBLUEBMCHBMLPBMRABMRCBMRNBMTCBNDBNDWBNDXBNFTBNGOBNGOWBNSOBNTCBOCHBOKFBOKFLBOLDBOMNBOOMBOSCBOTJBOTZBOXLBPFHBPMCBPOPBPOPMBPOPNBPRBPRAPBPRNBPTHBPYBRACBRACRBRACWBREWBRIDBRKLBRKRBRKSBRPABRPARBRPAUBRPAWBRQSBRYBSETBSGMBSQRBSRRBSTCBSVNBTAIBTECBURGBUSEBVSNBVXVBVXVWBWBBWENBWFGBWMCUBYFCBYSIBZUNCAASCACCACCCACGCADCCAKECALACALMCAMPCAMTCAPRCARCARACARBCARGCAROCARTCARVCARZCASACASHCASICASSCASYCATBCATCCATHCATMCATSCATYCBANCBATCBAYCBFVCBIOCBLICBLKCBMBCBMGCBNKCBPOCBRLCBSHCBSHPCBTXCCBCCBGCCCLCCDCCLPCCMPCCNECCNICCOICCRCCCRNCCXICDCCDEVCDKCDLCDLXCDMOCDMOPCDNACDNSCDTXCDWCDXCCDXSCDZICECECECOCELCCELGCELGZCELHCEMICENTCENTACENXCERCCERNCERSCETVCETXCETXPCETXWCEVACEYCEZCFACFBICFBKCFFAUCFFICFFNCFMSCFOCFRXCGCGBDCGENCGIXCGNXCGOCHCICHCOCHDNCHEFCHEKCHEKWCHEKZCHFCCHFSCHICHKECHKPCHMACHMGCHNACHNRCHRSCHRWCHSCLCHSCMCHSCNCHSCOCHSCPCHTRCHUYCHWCHYCIBRCIDCIDMCIFSCIGICILCINFCIVBCIVBPCIZCIZNCJJDCKPTCLARCLBKCLBSCLCTCLDCCLDXCLFDCLGNCLIRCLLSCLMTCLNECLPSCLRBCLRBZCLRGCLROCLSDCLSNCLUBCLVSCLWTCLXTCMCOCMCSACMCTCMCTPCMECMFNCMFNLCMLSCMPRCMRXCMTLCNACCNACRCNACUCNACWCNATCNBKACNCECNCRCNETCNFRCNFRLCNMDCNOBCNSLCNSTCNTFCNTYCNXNCOCPCODACODXCOHRCOHUCOKECOLBCOLLCOLMCOMMCOMTCONECONNCOOPCORECORTCORVCOSTCOUPCOWNCOWNLCOWNZCPAHCPHCCPIXCPLPCPRTCPRXCPSHCPSICPSSCPSTCPTACPTAGCPTALCRAICRAYCRBPCREECREGCRESYCREXCREXWCRISCRMTCRNTCRNXCRONCROXCRSPCRTOCRUSCRVLCRVSCRWSCRZOCSACSBCSBRCSCOCSFCSFLCSGPCSGSCSIICSIQCSMLCSODCSPICSQCSSECSSEPCSTECSTRCSWCCSWCLCSWICSXCTACCTACUCTASCTBICTGCTHRCTIBCTICCTMXCTRCCTRECTRLCTRNCTRPCTRVCTSHCTSOCTWSCTXRCTXRWCTXSCUBACUECUICURCUTRCVBFCVCOCVCYCVGICVGWCVLTCVLYCVTICVVCWBCCWBRCWCOCWSTCXDCCXSECYCYADCYANCYBECYBRCYCCCYCCPCYOUCYRNCYRXCYRXWCYTKCYTXCYTXZCZFCCZNCCZRCZWIDAIODAKTDALIDAREDAVEDAXDBVTDBXDCARDCIXDCOMDCPHDDIVDDMXUDENNDERMDESTDFBHDFFNDFNLDFRGDGICADGICBDGIIDGLDDGLYDGREDGRSDGRWDHILDHXMDINTDIODDISCADISCKDISHDJCODLHCDLPNDLPNWDLTHDLTRDMACDMLPDMPIDMRCDNBFDNJRDNKNDNLIDOCUDOGZDOMODOOODORMDOVADOXDRADDRIODRIOWDRIVDRNADRRXDRYSDSGXDSKEDSKEWDSLVDSPGDSWLDTEADTSSDUSADVAXDVCRDVLUDVOLDVYDWAQDWASDWATDWCRDWFIDWINDWLDDWMCDWPPDWSHDWSNDWTRDXCMDXGEDXJSDXLGDXPEDXYNDYNTDYSLDZSIEAEARSEASTEBAYEBAYLEBIXEBMTEBSBEBTCECHOECOLECORECPGEDAPEDITEDNTEDRYEDTXEDTXUEDTXWEDUCEEFTEEIEEMAEFASEFBIEFIIEFOIEFSCEGANEGBNEGLEEGOVEGRXEHTHEIDXEIGIEIGREKSOELGXELOXELSEELTKEMBEMCBEMCFEMCGEMCIEMIFEMKREMLEMMSEMXCENDPENFCENGENOBENPHENSGENTENTAENTGENTXENTXWENZLEOLSEPAYEPIXEPZMEQEQBKEQIXEQRRERIERICERIEERIIERYPESBKESCAESEAESGDESGEESGGESGRESGROESGRPESGUESLTESPRESQESSAESTAESTRESTRWESXBETFCETONETSYETTXEUFNEVBGEVEREVFMEVGNEVKEVLOEVLVEVOKEVOLEVOPEVSTCEWBCEWZSEXASEXELEXFOEXLSEXPDEXPEEXPIEXPOEXTREYEEYEGEYEGWEYENEYESEYESWEYPTEZPWFAARFABFADFALNFAMIFANGFANHFARMFAROFASTFATFATEFBFBIOFBIOPFBIZFBMSFBNCFBSSFBZFCAFCALFCANFCAPFCBCFCBPFCCOFCCYFCEFFCELFCFSFCNCAFCSCFCVTFDBCFDEFFDIVFDNIFDTFDTSFDUSFDUSLFEIMFELEFEMFEMBFEMSFENCFEPFEUZFEXFEYEFFBCFFBWFFHLFFICFFINFFIVFFNWFFWMFGBIFGENFGMFHBFHKFIBKFIDFINXFISIFISVFITBFITBIFIVEFIVNFIXDFIXXFIZZFJPFKOFKUFLDMFLEXFLGTFLICFLIRFLKSFLLFLMNFLMNWFLNFLNTFLWSFLXNFLXSFMAOFMBFMBHFMBIFMCIFMCIUFMCIWFMHIFMKFMNBFNCBFNHCFNJNFNKFNKOFNLCFNSRFNWBFNXFNYFOCSFOLDFOMXFONRFORDFORKFORMFORRFORTYFOSLFOXFOXAFOXFFPAFPAYFPAYWFPRXFPXEFPXIFRANFRBAFRBKFREDFRGIFRMEFRPHFRPTFRSXFRTAFSBCFSBWFSCTFSFGFSLRFSTRFSVFSZFTAFTACUFTAGFTCFTCSFTDFTDRFTEKFTEOFTFTFTGCFTHIFTLBFTNTFTRFTRIFTSLFTSMFTSVFTXDFTXGFTXHFTXLFTXNFTXOFTXRFULTFUNCFUNDFUSBFUVFVFVCFVCBFVEFWONAFWONKFWPFWRDFYCFYTFYXGABCGAIAGAINGAINLGAINMGALTGARSGASSGBCIGBDCGBLIGBLILGBLIZGBTGCBCGCVRZGDENGDSGECGECCGECCLGECCMGEMPGENCGENEGENYGEOSGERNGEVOGFEDGFNGFNCPGFNSLGGALGHGHDXGIFIGIGMGIIIGILDGILTGLACGLACUGLACWGLADGLADDGLADNGLBSGLBZGLDDGLDIGLGGLIBAGLIBPGLMDGLNGGLPGGLPIGLREGLUUGLYCGMDAGMLPGMLPPGNCAGNMAGNMKGNMXGNPXGNTXGNTYGNUSGOGLGOGOGOODGOODMGOODOGOODPGOOGGOOGLGPAQGPAQUGPAQWGPORGPPGPREGPROGRBKGRFSGRIDGRIFGRINGRMNGRNQGROWGRPNGRSHGRSHUGRSHWGRTSGRVYGSBCGSHDGSITGSKYGSMGSUMGSVCGTGTHXGTIMGTLSGTXIGTYHGULFGUREGVPGWGHGWPHGWRSGYROHAHABTHAFCHAINHAIRHALLHALOHASHAYNHBANHBANNHBANOHBCPHBIOHBMDHBNCHBPHCAPHCAPZHCCHRHCCHUHCCIHCKTHCMHCSGHDSHDSNHEARHEBTHEESHELEHEWGHFBCHFBLHFFGHFWAHGSHHIBBHIFSHIHOHIIQHIMXHJLIHJLIWHLGHLITHLNEHMHCHMNFHMSTHMSYHMTVHNDLHNNAHNRGHOFTHOLIHOLXHOMBHONEHOPEHOVNPHPJHPTHQYHRTXHRZNHSDTHSGXHSICHSIIHSKAHSONHSTMHTBIHTBKHTBXHTGMHTHTHTLDHTLFHUBGHURCHURNHVBCHWBKHWCHWCCHWCPLHWKNHXHYACUHYGSHYLSHYNDHYREHYXEHYZDHZNPIACIARTIBBIBCPIBKCIBKCOIBKCPIBOCIBTXIBUYICADICBKICCCICCHICFIICHRICLKICLNICLRICONICPTICUIIDCCIDEXIDLBIDRAIDSAIDSYIDXGIDXXIEAIEAWWIEFIEIIEPIESCIEUSIFEUIFGLIFMKIFRXIFVIGFIGIBIGLDIGOVIGSBIIIIIINIIIVIINIIVIIJTIKNXILMNILPTIMGNIMIIMKTAIMMPIMMRIMMUIMOSIMRNIMRNWIMTEIMVIMXIINAPINBKINBKLINCYINDBINDYINFIINFNINFOINFRINGNINNTINOINODINOVINPXINSEINSGINSMINSYINTCINTGINTLINTUINVAINVEINWKIONSIOSPIOTSIOVAIPARIPDNIPGPIPHSIPICIPKWIPLDPIPWRIQIRBTIRCPIRDMIRIXIRMDIROQIRTCIRWDISBCISCAISDSISDXISEMISHGISIGISNSISRGISRLISSCISTBISTRITCIITIITICITRIITRMITRNIUSIUSBIUSGIUSSIUSVIVACIXUSIZEAJACKJAGXJAKKJASNJASNWJAZZJBHTJBLUJBSSJCOMJCSJCTCFJDJGJJSFJKHYJKIJMUJNCEJOBSJOUTJRJCJRSHJRVRJSMJSMDJSMLJSYNJSYNRJSYNWJVAJYNTKALAKALUKALVKBALKBLMKBLMRKBLMWKBSFKBWBKBWDKBWPKBWRKBWYKCAPLKEKELYAKEQUKEYWKFFBKFRCKGJIKHCKIDSKINKINSKIRKKLACKLICKLXEKMDAKMPHKNDIKNSAKNSLKODKOOLKOPNKOSSKPFSKPTIKRMAKRNTKRNYKRYSKTCCKTOSKTOVKTOVWKURAKVHIKZIAKZRLABLLACQLACQULACQWLAKELAMRLANCLANDLANDPLARKLASRLAURLAWSLAZYLBAILBCLBRDALBRDKLBTYALBTYBLBTYKLCNBLCUTLDRILELECOLEDSLEGHLEGRLEVLLEXEALFACLFACULFACWLFUSLFVNLGCYLGIHLGNDLHCGLIFELILALILAKLINCLINDLINDWLIONLITELIVELIVNLIVXLJPCLKFNLKORLKQLLITLLNWLMATLMBLMBSLMFALMFAWLMNRLMNXLMRKLMRKNLMRKOLMRKPLMSTLNDCLNGRLNTLNTHLOACLOACRLOACULOACWLOANLOBLOCOLOGCLOGILOGMLONELOOPLOPELORLLOVELPCNLPLALPSNLPTHLPTXLQDALQDTLRADLRCXLRGELSBKLSCCLSTRLSXMALSXMBLSXMKLTBRLTRPALTRXLTXBLULULUNALVHDLWAYLXLXRXLYLLYTSMACKMAGSMAMSMANHMANTMARMARAMARKMARPSMASIMATMATWMAYSMBBMBCNMBIIMBINMBIOMBOTMBRXMBSDMBTFMBUUMBWMMCBCMCEFMCEPMCFTMCHIMCHPMCHXMCRBMCRIMDBMDCAMDCOMDGLMDGSMDGSWMDIVMDLZMDRRMDRXMDSOMDWDMEDPMEETMEIPMELIMELRMEOHMERCMESAMESOMETCMFINMFINLMFNCMFSFMGEEMGENMGIMGICMGLNMGNXMGPIMGRCMGTAMGTXMGYRMHLDMICTMIDDMIKMILNMIMEMINDMINDPMINIMITKMKGIMKSIMKTXMLABMLCOMLHRMLNDMLNTMLNXMLVFMMACMMDMMMDMRMMDMUMMDMWMMLPMMSIMMYTMNDOMNKDMNLOMNOVMNROMNSTMNTAMNTXMOBLMOFGMOGOMOMOMORMORNMOSYMOTSMOXCMPAAMPBMPVDMPWRMRAMMRBKMRCCMRCCLMRCYMRINMRKRMRLNMRNAMRNSMRSNMRTNMRTXMRUSMRVLMSBFMSBIMSEXMSFTMSONMSTRMSVBMTBCMTBCPMTCHMTECMTECUMTECWMTEMMTEXMTFBMTFBWMTLSMTPMTRXMTSCMTSIMTSLMUMUDSMUDSWMVBFMVISMXIMMYFWMYGNMYLMYNDMYNDWMYOKMYOSMYRGMYSZNAIINAKDNANONAOVNATHNATINATRNAVINBEVNBIXNBNNBRVNBTBNCBSNCMINCNANCSMNCTYNDAQNDLSNDRANDRAWNDSNNEBUNEONEOGNEONNEOSNEPTNERVNESRNESRWNETENEWANEWTNEWTINEWTZNEXTNFBKNFLXNFTYNGHCNGHCNNGHCONGHCPNGHCZNHNHLDNHLDWNHTCNICENICKNIHDNITENIUNKNKSHNKTRNLNKNMCINMIHNMRDNMRKNNBRNNDMNODKNOVNNOVTNRCNRIMNSECNSITNSSCNSTGNSYSNTAPNTCTNTECNTESNTGNNTGRNTICNTLANTNXNTRANTRPNTRSNTRSPNTWKNUANNURONUROWNUVANVAXNVCNNVCRNVDANVECNVEENVFYNVIVNVLNNVMINVTRNVUSNWBINWFLNWLNWLINWPXNWSNWSANXGNNXPINXSTNXTDNXTDWNYMTNYMTNNYMTONYMTPNYMXNYNYOASMOBASOBCIOBLNOBNKOBSVOCCOCCIOCFCOCSIOCSLOCSLLOCULODFLODPODTOESXOFEDOFIXOFLXOFSOFSSLOFSSZOHAIOHRPOIIMOKDCCOKTAOLBKOLDOLEDOLLIOMABOMCLOMEROMEXONONBONCEONCSONCYONEQONTXONVOOPBOPBKOPESOPESUOPESWOPGNOPGNWOPHCOPKOPNTOPOFOPRAOPRXOPTNOPTTORBCORGORGSORITORLYORMPORRFORTXOSBCOSBCPOSISOSMTOSNOSPNOSSOSTKOSUROTELOTEXOTICOTIVOTLKOTLKWOTTROTTWOVBCOVIDOVLYOXBROXBRWOXFDOXLCOXLCMOXLCOOXSQOXSQLOZKPAASPACBPACQPACQUPACQWPACWPAHCPANLPATIPATKPAVMPAVMZPAYXPBBIPBCTPBCTPPBHCPBIPPBPBPBYIPCARPCBPCHPCMIPCOMPCRXPCSBPCTIPCTYPCYGPCYOPDBCPDCEPDCOPDDPDEXPDFSPDLBPDLIPDPPDVWPEBKPEBOPEGAPEGIPEIXPENNPEPPERIPESIPETQPETSPETXPETZPEYPEZPFBCPFBIPFFPFGPFIPFIEPFINPFISPFLTPFMPFMTPFPTPFSWPGCPGJPGNXPHASPHCFPHIOPHIOWPHOPHUNPHUNWPIPICOPIDPIEPIHPIHPPPINCPIOPIRSPIXYPIZPKBKPKOHPKWPLABPLAYPLBCPLCEPLLPLPCPLSEPLUGPLUSPLWPLXPPLXSPLYAPMBCPMDPMEPMOMPMTSPNBKPNFPPNNTPNQIPNRGPNRLPNTRPODDPOLAPOOLPOPEPOWIPOWLPPBIPPCPPHPPIHPPSIPRAAPRAHPRCPPRFTPRFZPRGSPRGXPRIMPRMWPRNPRNBPROVPRPHPRPLPRPOPRQRPRSCPRTAPRTHPRTKPRTOPRTSPRVBPSPSCPSCCPSCDPSCEPSCFPSCHPSCIPSCMPSCTPSCUPSDOPSECPSETPSLPSMTPSTIPTPTCPTCTPTEPTENPTFPTGXPTHPTIPTLAPTNRPTSIPTVCAPTVCBPUBPUIPULMPVACPVALPVBCPWODPXIPXLWPXSPYPYDSPYPLPYZPZZAQABAQADAQADBQATQBAKQCLNQCOMQCRHQDELQFINQIWIQLCQLYSQNSTQQEWQQQQQQXQQXTQRHCQRTEAQRTEBQRVOQTECQTNAQTNTQTRHQTRXQTTQUIKQUMUQUREQYLDRADARAILRANDRARERARXRAVERAVNRBBRBBNRBCAARBCNRBNCRBZRCIIRCKTRCKYRCMRCMTRCONRDCMRDFNRDHLRDIRDNTRDUSRDVTRDVYRDWRRECNREDUREFRREGREGIREGNRELLRELVREPHREPLRESNRETARETORFAPRFDIRFEMRFEURFILRGCORGENRGLDRGLSRGNXRIBTRICKRIGLRILYRILYGRILYHRILYIRILYLRILYZRINGRIOTRIVERKDARLMRMBLRMBSRMCFRMNIRMRRMTIRNDBRNDMRNDVRNEMRNETRNLCRNMCRNSCRNSTRNWKROADROBTROCKROICROKUROLLROSEROSEUROSEWROSTRPRPDRRGBRRRRTIXRTRXRTTRRUBYRUNRUSHARUSHBRUTHRVENRVLTRVNCRVSBRWLKRYAAYRYTMSABRSAEXSAFMSAFTSAGESAIASALSALMSAMAUSAMGSANMSANWSASRSATSSAUCSBACSBBPSBBXSBCFSBFGSBFGPSBGISBLKSBLKZSBNYSBOTSBPHSBRASBSISBTSBUXSCHLSCHNSCKTSCONSCORSCPHSCSCSCVLSCWXSCYXSCZSDGSDVYSEACSECOSEDGSEEDSEICSELBSELFSENEASENEBSESSESNSFBCSFBSSFETSFIXSFLYSFMSFNCSFSTSGSGASGBXSGCSGENSGHSGLBSGLBWSGMASGMOSGMSSGOCSGRPSGRYSHBISHENSHIPSHIPWSHLOSHOOSHOSSHSPSHVSHYSIBNSICSIEBSIENSIFYSIGASIGISILCSIMOSINASINOSINTSIRISITOSIVBSKISSKORSKYSSKYWSKYYSLABSLCTSLDBSLGLSLGNSLIMSLMSLMBPSLNOSLNOWSLPSLQDSLRCSLSSLVOSMBCSMBKSMCPSMEDSMITSMMFSMMTSMPLSMRTSMSISMTCSMTXSNBRSNCRSNDSNDESNDXSNESSNFCASNGXSNGXWSNHSNHNISNHNLSNHYSNLNSNNASNOASNOAWSNPSSNSRSNSSSOCLSOHOSOHOBSOHOOSOHUSOLOSOLOWSONASONOSORLSOXXSPSPARSPCBSPEXSPHSSPISPKESPKEPSPLKSPNESPNSSPOKSPPISPROSPRTSPSCSPTNSPWHSPWRSQBGSQLVSQQQSRAXSRCESRCLSRDXSRETSREVSRNESRPTSRRASRRKSRTSSRTSWSSBSSBISSFNSSKNSSNCSSNTSSPSSRMSSTISSYSSTAASTAFSTAYSTBASTCNSTFCSTIMSTKLSTKSSTLDSTMLSTMPSTNDSTNESTNLSTNLUSTNLWSTRASTRLSTRMSTROSTRSSTRTSTXSTXBSUMRSUNSSUNWSUPNSURFSUSBSUSCSVBISVMKSVRASVVCSWIRSWKSSYBTSYBXSYKESYMCSYNASYNCSYNHSYNLSYPRSYRSTATACOTACOWTACTTAITTANHTANNITANNLTANNZTAOPTASTTATTTAYDTBBKTBIOTBKTBLTTBLTUTBNKTBPHTBRGTBRGUTBRGWTCTCBITCBILTCBIPTCBKTCCOTCDATCFCTCGPTCMDTCONTCPCTCRDTCXTDACTDACUTDACWTDIVTEAMTECDTECHTEDUTELLTENBTENXTERTERPTESSTEUMTFSLTGATGENTGLSTGTXTHFFTHORTHRMTIBRTIBRUTIBRWTILETIPTTITNTIVOTKKSTKKSRTKKSUTKKSWTLCTLFTLGTTLNDTLRYTLSATLTTMCXTMCXUTMCXWTMDITMSRTMUSTNAVTNDMTNXPTOCATOPSTORCTOTATOURTOWNTPCOTPICTQQQTRCBTRCHTREETRHCTRIBTRILTRIPTRMBTRMDTRMKTRMTTRNSTROVTROWTRPXTRSTRSTTRUETRUPTRVGTRVNTSBKTSCTSCAPTSCOTSEMTSGTSLATSRITSTTTDTTECTTEKTTGTTTMITTNPTTOOTTPHTTSTTTNTTWOTUESTURTURNTUSATUSKTVIXTVTYTWINTWMCTWNKTWNKWTWOUTWSTTXMDTXNTXRHTYHTTYMETYPETZACTZACUTZACWTZOOUAEUALUBCPUBFOUBIOUBNKUBNTUBOHUBSIUBXUCBIUCFCUCTTUEICUEPSUFCSUFPIUFPTUGUGLDUHALUIHCULBIULHULTAUMBFUMPQUMRXUNAMUNBUNITUNTYUONEUONEKUPLUPLDUPWKURBNURGNUROVUSAKUSAPUSATUSATPUSAUUSCRUSEGUSIGUSLBUSLMUSLVUSMCUSOIUSWSUSWSWUTHRUTMDUTSIUVSPUXINVALUVALXVBFCVBIVVBLTVBTXVCVCELVCITVCLTVCNXVCSHVCTRVCYTVECOVEONVERIVERUVGITVGLTVGSHVIAVIABVIAVVICLVICRVIGIVIIXVIOTVIRCVIRTVIVEVIVOVKTXVKTXWVLGEAVLRXVLYVLYPOVLYPPVMBSVNDAVNETVNOMVNQIVODVONEVONGVONVVOXXVRAVRAYVRCAVREXVRIGVRMLVRNAVRNSVRNTVRRMVRSKVRSNVRTSVRTSPVRTUVRTXVSATVSDAVSECVSMVVSTMVTCVTGNVTHRVTIPVTIQVTIQUVTIQWVTNRVTSIVTVTVTWGVTWOVTWVVUZIVVPRVVUSVWOBVXRTVXUSVYGRVYMIWABCWAFDWASHWATTWBWBAWBNDWCFBWDAYWDCWDFCWEBKWENWERNWETFWEYSWHFWHFBZWHLMWHLRWHLRDWHLRPWIFIWILCWINAWINGWINSWIREWISAWIXWKHSWLDNWLFCWLTWWMGIWNEBWOODWPRTWRLDWRLSWRLSRWRLSWWRTCWSBCWSBFWSCWSFSWSTGWSTLWTBAWTERWTFCWTFCMWTRHWVEWVFCWVVIWVVIPWWDWWRWYNNXBIOXBITXELXELAXELBXENEXENTXERSXLNXXLRNXNCRXNETXOGXOMAXONXONEXPERXRAYXSPAXTXTLBYGYIYIYINYLCOYLDEYMABYNDXYOGAYORWYRCWYRIVYTENYTRAYVRYYZZAGGZBIOZBRAZEALZEUSZFGNZGZGNXZIONZIONWZIOPZIVZIXIZKINZLABZNZNGAZSZSANZUMZ  DDDDDDDDDDDDDDDDDDDDDDDDDDDDDDDDDDDDDDDDDDDDDDDDDDDDDDDDDDDDDDDDDDDDDDDDDDDDDDDDDDDDDDDDDDDDDDDDDDDDDDDDDDDDDDDDDDDDDDDDDDDDDDDDDDDDDDDDDDDDDDDDDDDDDDDDDDDDDDDDDDDDDDDDDDDDDDDDDDDDDDDDDDDDDDDDDDDDDDDDDDDDDDDDDDDDDDDDDDDDDDDDDDDDDDDDDDDDDDDDDDDDDDDDDDDDDDDDDDDDDDDDDDDDDDDDDDDDDDDDDDDDDDDDDDDDDDDDDDDDDDDDDDDDDDDDDDDDDDDDDDDDDDDDDDDDDDDDDDDDDDDDDDDDDDDDDDDDDDDDDDDDDDDDDDDDDDDDDDDDDDDDDDDDDDDDDDDDDDDDDDDDDDDDDDDDDDDDDDDDDDDDDDDDDDDDDDDDDDDDDDDDDDDDDDDDDDDDDDDDDDDDDDDDDDDDDDDDDDDDDDDDDDDDDDDDDDDDDDDDDDDDDDDDDDDDDDDDDDDDDDDDDDDDDDDDDDDDDDDDDDDDDDDDDDDDDDDDDDDDDDDDDDDDDDDDDDDDDDDDDDDDDDDDDDDDDDDDDDDDDDDDDDDDDDDDDDDDDDDDDDDDDDDDDDDDDDDDDDDDDDDDDDDDDDDDDDDDDDDDDDDDDDDDDDDDDDDDDDDDDDDDDDDDDDDDDDDDDDDDDDDDDDDDDDDDDDDDDDDDDDDDDDDDDDDDDDDDDDDDDDDDDDDDDDDDDDDDDDDDDDDDDDDDDDDDDDDDDDDDDDDDDDDDDDDDDDDDDDDDDDDDDDDDDDDDDDDDDDDDDDDDDDDDDDDDDDDDDDDDDDDDDDDDDDDDDDDDDDDDDDDDDDDDDDDDDDDDDDDDDDDDDDDDDDDDDDDDDDDDDDDDDDDDDDDDDDDDDDDDDDDDDDDDDDDDDDDDDDDDDDDDDDDDDDDDDDDDDDDDDDDDDDDDDDDDDDDDDDDDDDDDDDDDDDDDDDDDDDDDDDDDDDDDDDDDDDDDDDDDDDDDDDDDDDDDDDDDDDDDDDDDDDDDDDDDDDDDDDDDDDDDDDDDDDDDDDDDDDDDDDDDDDDDDDDDDDDDDDDDDDDDDDDDDDDDDDDDDDDDDDDDDDDDDDDDDDDDDDDDDDDDDDDDDDDDDDDDDDDDDDDDDDDDDDDDDDDDDDDDDDDDDDDDDDDDDDDDDDDDDDDDDDDDDDDDDDDDDDDDDDDDDDDDDDDDDDDDDDDDDDDDDDDDDDDDDDDDDDDDDDDDDDDDDDDDDDDDDDDDDDDDDDDDDDDDDDDDDDDDDDDDDDDDDDDDDDDDDDDDDDDDDDDDDDDDDDDDDDDDDDDDDDDDDDDDDDDDDDDDDDDDDDDDDDDDDDDDDDDDDDDDDDDDDDDDDDDDDDDDDDDDDDDDDDDDDDDDDDDDDDDDDDDDDDDDDDDDDDDDDDDDDDDDDDDDDDDDDDDDDDDDDDDDDDDDDDDDDDDDDDDDDDDDDDDDDDDDDDDDDDDDDDDDDDDDDDDDDDDDDDDDDDDDDDDDDDDDDDDDDDDDDDDDDDDDDDDDDDDDDDDDDDDDDDDDDDDDDDDDDDDDDDDDDDDDDDDDDDDDDDDDDDDDDDDDDDDDDDDDDDDDDDDDDDDDDDDDDDDDDDDDDDDDDDDDDDDDDDDDDDDDDDDDDDDDDDDDDDDDDDDDDDDDDDDDDDDDDDDDDDDDDDDDDDDDDDDDDDDDDDDDDDDDDDDDDDDDDDDDDDDDDDDDDDDDDDDDDDDDDDDDDDDDDDDDDDDDDDDDDDDDDDDDDDDDDDDDDDDDDDDDDDDDDDDDDDDDDDDDDDDDDDDDDDDDDDDDDDDDDDDDDDDDDDDDDDDDDDDDDDDDDDDDDDDDDDDDDDDDDDDDDDDDDDDDDDDDDDDDDDDDDDDDDDDDDDDDDDDDDDDDDDDDDDDDDDDDDDDDDDDDDDDDDDDDDDDDDDDDDDDDDDDDDDDDDDDDDDDDDDDDDDDDDDDDDDDDDDDDDDDDDDDDDDDDDDDDDDDDDDDDDDDDDDDDDDDDDDDDDDDDDDDDDDDDDDDDDDDDDDDDDDDDDDDDDDDDDDDDDDDDDDDDDDDDDDDDDDDDDDDDDDDDDDDDDDDDDDDDDDDDDDDDDDDDDDDDDDDDDDDDDDDDDDDDDDDDDDDDDDDDDDDDDDDDDDDDDDDDDDDDDDDDDDDDDDDDDDDDDDDDDDDDDDDDDDDDDDDDDDDDDDDDDDDDDDDDDDDDDDDDDDDDDDDDDDDDDDDDDDDDDDDDDDDDDDDDDDDDDDDDDDDDDDDDDDDDDDDDDDDDDDDDDDDDDDDDDDDDDDDDDDDDDDDDDDDDDDDDDDDDDDDDDDDDDDDDDDDDDDDDDDDDDDDDDDDDDDDDDDDDDDDDDDDDDDDDDDDDDDDDDDDDDDDDDDDDDDDDDDDDDDDDDDDDDDDDDDDDDDDDDDDDDDDDDDDDDDDDDDDDDDDDDDDDDDDDDDDDDDDDDDDDDDDDDDDDDDDDDDDDDDDDDDDDDDDDDDDDDDDDDDDDDDDDDDDDDDDDDDDDDDDDDDDDDDDDDDDDDDDDDDDDDDDDDDDDDDDDDDDDDDDDDDDDDDDDDDDDDDDDDDDDDDDDDDDDDDDDDDDDDDDDDDDDDDDDDDDDDDDDDDDDDDDDDDDDDDDDDDDDDDDDDDDDDDDDDDDDDDDDDDDDDDDDDDDDDDDDDDDDDDDDDDDDDDDDDDDDDDDDDDDDDDDDDDDDDDDDDDDDDDDDDDDDDDDDDDDDDDDDDDDDDDDDDDDDDDDDDDDDDDDDDDDDDDDDDDDDDDDDDDDDDDDDDDDDDDDDDDDDDDDDDDDDDDDDDDDDDDDDDDDDDDDDDDDDDDDDDDDDDDDDDDDDDDDDDDDDDDDDDDDDDDDDDDDDDDDDDDDDDDDDDDDDDDDDDDDDDDDDDDDDDDDDDDDDDDDDDDDDDDDDDDDDDDDDDDDDDDDDDDDDDDDDDDDDDDDDDDDDDDDDDDDDDDDDDDDDDDDDDDDDDDDDDDDDDDDDDDDDDDDDDDDDDDDDDDDDDDDDDDDDDDDDDDDDDDDDDDDDDDDDDDDDDDDDDDDDDDDDDDDDDDDDDDDDDDDDDDDDDDDDDDDDDDDDDDDDDDDDDDDDDDDDDDDDDDDDDDDDDDDDDDDDDDDDDDDDDDDDDDDDDDDDDDDDDDD  2019-01-012019-01-012019-01-012019-01-012019-01-012019-01-012019-01-012019-01-012019-01-012019-01-012019-01-012019-01-012019-01-012019-01-012019-01-012019-01-012019-01-012019-01-012019-01-012019-01-012019-01-012019-01-012019-01-012019-01-012019-01-012019-01-012019-01-012019-01-012019-01-012019-01-012019-01-012019-01-012019-01-012019-01-012019-01-012019-01-012019-01-012019-01-012019-01-012019-01-012019-01-012019-01-012019-01-012019-01-012019-01-012019-01-012019-01-012019-01-012019-01-012019-01-012019-01-012019-01-012019-01-012019-01-012019-01-012019-01-012019-01-012019-01-012019-01-012019-01-012019-01-012019-01-012019-01-012019-01-012019-01-012019-01-012019-01-012019-01-012019-01-012019-01-012019-01-012019-01-012019-01-012019-01-012019-01-012019-01-012019-01-012019-01-012019-01-012019-01-012019-01-012019-01-012019-01-012019-01-012019-01-012019-01-012019-01-012019-01-012019-01-012019-01-012019-01-012019-01-012019-01-012019-01-012019-01-012019-01-012019-01-012019-01-012019-01-012019-01-012019-01-012019-01-012019-01-012019-01-012019-01-012019-01-012019-01-012019-01-012019-01-012019-01-012019-01-012019-01-012019-01-012019-01-012019-01-012019-01-012019-01-012019-01-012019-01-012019-01-012019-01-012019-01-012019-01-012019-01-012019-01-012019-01-012019-01-012019-01-012019-01-012019-01-012019-01-012019-01-012019-01-012019-01-012019-01-012019-01-012019-01-012019-01-012019-01-012019-01-012019-01-012019-01-012019-01-012019-01-012019-01-012019-01-012019-01-012019-01-012019-01-012019-01-012019-01-012019-01-012019-01-012019-01-012019-01-012019-01-012019-01-012019-01-012019-01-012019-01-012019-01-012019-01-012019-01-012019-01-012019-01-012019-01-012019-01-012019-01-012019-01-012019-01-012019-01-012019-01-012019-01-012019-01-012019-01-012019-01-012019-01-012019-01-012019-01-012019-01-012019-01-012019-01-012019-01-012019-01-012019-01-012019-01-012019-01-012019-01-012019-01-012019-01-012019-01-012019-01-012019-01-012019-01-012019-01-012019-01-012019-01-012019-01-012019-01-012019-01-012019-01-012019-01-012019-01-012019-01-012019-01-012019-01-012019-01-012019-01-012019-01-012019-01-012019-01-012019-01-012019-01-012019-01-012019-01-012019-01-012019-01-012019-01-012019-01-012019-01-012019-01-012019-01-012019-01-012019-01-012019-01-012019-01-012019-01-012019-01-012019-01-012019-01-012019-01-012019-01-012019-01-012019-01-012019-01-012019-01-012019-01-012019-01-012019-01-012019-01-012019-01-012019-01-012019-01-012019-01-012019-01-012019-01-012019-01-012019-01-012019-01-012019-01-012019-01-012019-01-012019-01-012019-01-012019-01-012019-01-012019-01-012019-01-012019-01-012019-01-012019-01-012019-01-012019-01-012019-01-012019-01-012019-01-012019-01-012019-01-012019-01-012019-01-012019-01-012019-01-012019-01-012019-01-012019-01-012019-01-012019-01-012019-01-012019-01-012019-01-012019-01-012019-01-012019-01-012019-01-012019-01-012019-01-012019-01-012019-01-012019-01-012019-01-012019-01-012019-01-012019-01-012019-01-012019-01-012019-01-012019-01-012019-01-012019-01-012019-01-012019-01-012019-01-012019-01-012019-01-012019-01-012019-01-012019-01-012019-01-012019-01-012019-01-012019-01-012019-01-012019-01-012019-01-012019-01-012019-01-012019-01-012019-01-012019-01-012019-01-012019-01-012019-01-012019-01-012019-01-012019-01-012019-01-012019-01-012019-01-012019-01-012019-01-012019-01-012019-01-012019-01-012019-01-012019-01-012019-01-012019-01-012019-01-012019-01-012019-01-012019-01-012019-01-012019-01-012019-01-012019-01-012019-01-012019-01-012019-01-012019-01-012019-01-012019-01-012019-01-012019-01-012019-01-012019-01-012019-01-012019-01-012019-01-012019-01-012019-01-012019-01-012019-01-012019-01-012019-01-012019-01-012019-01-012019-01-012019-01-012019-01-012019-01-012019-01-012019-01-012019-01-012019-01-012019-01-012019-01-012019-01-012019-01-012019-01-012019-01-012019-01-012019-01-012019-01-012019-01-012019-01-012019-01-012019-01-012019-01-012019-01-012019-01-012019-01-012019-01-012019-01-012019-01-012019-01-012019-01-012019-01-012019-01-012019-01-012019-01-012019-01-012019-01-012019-01-012019-01-012019-01-012019-01-012019-01-012019-01-012019-01-012019-01-012019-01-012019-01-012019-01-012019-01-012019-01-012019-01-012019-01-012019-01-012019-01-012019-01-012019-01-012019-01-012019-01-012019-01-012019-01-012019-01-012019-01-012019-01-012019-01-012019-01-012019-01-012019-01-012019-01-012019-01-012019-01-012019-01-012019-01-012019-01-012019-01-012019-01-012019-01-012019-01-012019-01-012019-01-012019-01-012019-01-012019-01-012019-01-012019-01-012019-01-012019-01-012019-01-012019-01-012019-01-012019-01-012019-01-012019-01-012019-01-012019-01-012019-01-012019-01-012019-01-012019-01-012019-01-012019-01-012019-01-012019-01-012019-01-012019-01-012019-01-012019-01-012019-01-012019-01-012019-01-012019-01-012019-01-012019-01-012019-01-012019-01-012019-01-012019-01-012019-01-012019-01-012019-01-012019-01-012019-01-012019-01-012019-01-012019-01-012019-01-012019-01-012019-01-012019-01-012019-01-012019-01-012019-01-012019-01-012019-01-012019-01-012019-01-012019-01-012019-01-012019-01-012019-01-012019-01-012019-01-012019-01-012019-01-012019-01-012019-01-012019-01-012019-01-012019-01-012019-01-012019-01-012019-01-012019-01-012019-01-012019-01-012019-01-012019-01-012019-01-012019-01-012019-01-012019-01-012019-01-012019-01-012019-01-012019-01-012019-01-012019-01-012019-01-012019-01-012019-01-012019-01-012019-01-012019-01-012019-01-012019-01-012019-01-012019-01-012019-01-012019-01-012019-01-012019-01-012019-01-012019-01-012019-01-012019-01-012019-01-012019-01-012019-01-012019-01-012019-01-012019-01-012019-01-012019-01-012019-01-012019-01-012019-01-012019-01-012019-01-012019-01-012019-01-012019-01-012019-01-012019-01-012019-01-012019-01-012019-01-012019-01-012019-01-012019-01-012019-01-012019-01-012019-01-012019-01-012019-01-012019-01-012019-01-012019-01-012019-01-012019-01-012019-01-012019-01-012019-01-012019-01-012019-01-012019-01-012019-01-012019-01-012019-01-012019-01-012019-01-012019-01-012019-01-012019-01-012019-01-012019-01-012019-01-012019-01-012019-01-012019-01-012019-01-012019-01-012019-01-012019-01-012019-01-012019-01-012019-01-012019-01-012019-01-012019-01-012019-01-012019-01-012019-01-012019-01-012019-01-012019-01-012019-01-012019-01-012019-01-012019-01-012019-01-012019-01-012019-01-012019-01-012019-01-012019-01-012019-01-012019-01-012019-01-012019-01-012019-01-012019-01-012019-01-012019-01-012019-01-012019-01-012019-01-012019-01-012019-01-012019-01-012019-01-012019-01-012019-01-012019-01-012019-01-012019-01-012019-01-012019-01-012019-01-012019-01-012019-01-012019-01-012019-01-012019-01-012019-01-012019-01-012019-01-012019-01-012019-01-012019-01-012019-01-012019-01-012019-01-012019-01-012019-01-012019-01-012019-01-012019-01-012019-01-012019-01-012019-01-012019-01-012019-01-012019-01-012019-01-012019-01-012019-01-012019-01-012019-01-012019-01-012019-01-012019-01-012019-01-012019-01-012019-01-012019-01-012019-01-012019-01-012019-01-012019-01-012019-01-012019-01-012019-01-012019-01-012019-01-012019-01-012019-01-012019-01-012019-01-012019-01-012019-01-012019-01-012019-01-012019-01-012019-01-012019-01-012019-01-012019-01-012019-01-012019-01-012019-01-012019-01-012019-01-012019-01-012019-01-012019-01-012019-01-012019-01-012019-01-012019-01-012019-01-012019-01-012019-01-012019-01-012019-01-012019-01-012019-01-012019-01-012019-01-012019-01-012019-01-012019-01-012019-01-012019-01-012019-01-012019-01-012019-01-012019-01-012019-01-012019-01-012019-01-012019-01-012019-01-012019-01-012019-01-012019-01-012019-01-012019-01-012019-01-012019-01-012019-01-012019-01-012019-01-012019-01-012019-01-012019-01-012019-01-012019-01-012019-01-012019-01-012019-01-012019-01-012019-01-012019-01-012019-01-012019-01-012019-01-012019-01-012019-01-012019-01-012019-01-012019-01-012019-01-012019-01-012019-01-012019-01-012019-01-012019-01-012019-01-012019-01-012019-01-012019-01-012019-01-012019-01-012019-01-012019-01-012019-01-012019-01-012019-01-012019-01-012019-01-012019-01-012019-01-012019-01-012019-01-012019-01-012019-01-012019-01-012019-01-012019-01-012019-01-012019-01-012019-01-012019-01-012019-01-012019-01-012019-01-012019-01-012019-01-012019-01-012019-01-012019-01-012019-01-012019-01-012019-01-012019-01-012019-01-012019-01-012019-01-012019-01-012019-01-012019-01-012019-01-012019-01-012019-01-012019-01-012019-01-012019-01-012019-01-012019-01-012019-01-012019-01-012019-01-012019-01-012019-01-012019-01-012019-01-012019-01-012019-01-012019-01-012019-01-012019-01-012019-01-012019-01-012019-01-012019-01-012019-01-012019-01-012019-01-012019-01-012019-01-012019-01-012019-01-012019-01-012019-01-012019-01-012019-01-012019-01-012019-01-012019-01-012019-01-012019-01-012019-01-012019-01-012019-01-012019-01-012019-01-012019-01-012019-01-012019-01-012019-01-012019-01-012019-01-012019-01-012019-01-012019-01-012019-01-012019-01-012019-01-012019-01-012019-01-012019-01-012019-01-012019-01-012019-01-012019-01-012019-01-012019-01-012019-01-012019-01-012019-01-012019-01-012019-01-012019-01-012019-01-012019-01-012019-01-012019-01-012019-01-012019-01-012019-01-012019-01-012019-01-012019-01-012019-01-012019-01-012019-01-012019-01-012019-01-012019-01-012019-01-012019-01-012019-01-012019-01-012019-01-012019-01-012019-01-012019-01-012019-01-012019-01-012019-01-012019-01-012019-01-012019-01-012019-01-012019-01-012019-01-012019-01-012019-01-012019-01-012019-01-012019-01-012019-01-012019-01-012019-01-012019-01-012019-01-012019-01-012019-01-012019-01-012019-01-012019-01-012019-01-012019-01-012019-01-012019-01-012019-01-012019-01-012019-01-012019-01-012019-01-012019-01-012019-01-012019-01-012019-01-012019-01-012019-01-012019-01-012019-01-012019-01-012019-01-012019-01-012019-01-012019-01-012019-01-012019-01-012019-01-012019-01-012019-01-012019-01-012019-01-012019-01-012019-01-012019-01-012019-01-012019-01-012019-01-012019-01-012019-01-012019-01-012019-01-012019-01-012019-01-012019-01-012019-01-012019-01-012019-01-012019-01-012019-01-012019-01-012019-01-012019-01-012019-01-012019-01-012019-01-012019-01-012019-01-012019-01-012019-01-012019-01-012019-01-012019-01-012019-01-012019-01-012019-01-012019-01-012019-01-012019-01-012019-01-012019-01-012019-01-012019-01-012019-01-012019-01-012019-01-012019-01-012019-01-012019-01-012019-01-012019-01-012019-01-012019-01-012019-01-012019-01-012019-01-012019-01-012019-01-012019-01-012019-01-012019-01-012019-01-012019-01-012019-01-012019-01-012019-01-012019-01-012019-01-012019-01-012019-01-012019-01-012019-01-012019-01-012019-01-012019-01-012019-01-012019-01-012019-01-012019-01-012019-01-012019-01-012019-01-012019-01-012019-01-012019-01-012019-01-012019-01-012019-01-012019-01-012019-01-012019-01-012019-01-012019-01-012019-01-012019-01-012019-01-012019-01-012019-01-012019-01-012019-01-012019-01-012019-01-012019-01-012019-01-012019-01-012019-01-012019-01-012019-01-012019-01-012019-01-012019-01-012019-01-012019-01-012019-01-012019-01-012019-01-012019-01-012019-01-012019-01-012019-01-012019-01-012019-01-012019-01-012019-01-012019-01-012019-01-012019-01-012019-01-012019-01-012019-01-012019-01-012019-01-012019-01-012019-01-012019-01-012019-01-012019-01-012019-01-012019-01-012019-01-012019-01-012019-01-012019-01-012019-01-012019-01-012019-01-012019-01-012019-01-012019-01-012019-01-012019-01-012019-01-012019-01-012019-01-012019-01-012019-01-012019-01-012019-01-012019-01-012019-01-012019-01-012019-01-012019-01-012019-01-012019-01-012019-01-012019-01-012019-01-012019-01-012019-01-012019-01-012019-01-012019-01-012019-01-012019-01-012019-01-012019-01-012019-01-012019-01-012019-01-012019-01-012019-01-012019-01-012019-01-012019-01-012019-01-012019-01-012019-01-012019-01-012019-01-012019-01-012019-01-012019-01-012019-01-012019-01-012019-01-012019-01-012019-01-012019-01-012019-01-012019-01-012019-01-012019-01-012019-01-012019-01-012019-01-012019-01-012019-01-012019-01-012019-01-012019-01-012019-01-012019-01-012019-01-012019-01-012019-01-012019-01-012019-01-012019-01-012019-01-012019-01-012019-01-012019-01-012019-01-012019-01-012019-01-012019-01-012019-01-012019-01-012019-01-012019-01-012019-01-012019-01-012019-01-012019-01-012019-01-012019-01-012019-01-012019-01-012019-01-012019-01-012019-01-012019-01-012019-01-012019-01-012019-01-012019-01-012019-01-012019-01-012019-01-012019-01-012019-01-012019-01-012019-01-012019-01-012019-01-012019-01-012019-01-012019-01-012019-01-012019-01-012019-01-012019-01-012019-01-012019-01-012019-01-012019-01-012019-01-012019-01-012019-01-012019-01-012019-01-012019-01-012019-01-012019-01-012019-01-012019-01-012019-01-012019-01-012019-01-012019-01-012019-01-012019-01-012019-01-012019-01-012019-01-012019-01-012019-01-012019-01-012019-01-012019-01-012019-01-012019-01-012019-01-012019-01-012019-01-012019-01-012019-01-012019-01-012019-01-012019-01-012019-01-012019-01-012019-01-012019-01-012019-01-012019-01-012019-01-012019-01-012019-01-012019-01-012019-01-012019-01-012019-01-012019-01-012019-01-012019-01-012019-01-012019-01-012019-01-012019-01-012019-01-012019-01-012019-01-012019-01-012019-01-012019-01-012019-01-012019-01-012019-01-012019-01-012019-01-012019-01-012019-01-012019-01-012019-01-012019-01-012019-01-012019-01-012019-01-012019-01-012019-01-012019-01-012019-01-012019-01-012019-01-012019-01-012019-01-012019-01-012019-01-012019-01-012019-01-012019-01-012019-01-012019-01-012019-01-012019-01-012019-01-012019-01-012019-01-012019-01-012019-01-012019-01-012019-01-012019-01-012019-01-012019-01-012019-01-012019-01-012019-01-012019-01-012019-01-012019-01-012019-01-012019-01-012019-01-012019-01-012019-01-012019-01-012019-01-012019-01-012019-01-012019-01-012019-01-012019-01-012019-01-012019-01-012019-01-012019-01-012019-01-012019-01-012019-01-012019-01-012019-01-012019-01-012019-01-012019-01-012019-01-012019-01-012019-01-012019-01-012019-01-012019-01-012019-01-012019-01-012019-01-012019-01-012019-01-012019-01-012019-01-012019-01-012019-01-012019-01-012019-01-012019-01-012019-01-012019-01-012019-01-012019-01-012019-01-012019-01-012019-01-012019-01-012019-01-012019-01-012019-01-012019-01-012019-01-012019-01-012019-01-012019-01-012019-01-012019-01-012019-01-012019-01-012019-01-012019-01-012019-01-012019-01-012019-01-012019-01-012019-01-012019-01-012019-01-012019-01-012019-01-012019-01-012019-01-012019-01-012019-01-012019-01-012019-01-012019-01-012019-01-012019-01-012019-01-012019-01-012019-01-012019-01-012019-01-012019-01-012019-01-012019-01-012019-01-012019-01-012019-01-012019-01-012019-01-012019-01-012019-01-012019-01-012019-01-012019-01-012019-01-012019-01-012019-01-012019-01-012019-01-012019-01-012019-01-012019-01-012019-01-012019-01-012019-01-012019-01-012019-01-012019-01-012019-01-012019-01-012019-01-012019-01-012019-01-012019-01-012019-01-012019-01-012019-01-012019-01-012019-01-012019-01-012019-01-012019-01-012019-01-012019-01-012019-01-012019-01-012019-01-012019-01-012019-01-012019-01-012019-01-012019-01-012019-01-012019-01-012019-01-012019-01-012019-01-012019-01-012019-01-012019-01-012019-01-012019-01-012019-01-012019-01-012019-01-012019-01-012019-01-012019-01-012019-01-012019-01-012019-01-012019-01-012019-01-012019-01-012019-01-012019-01-012019-01-012019-01-012019-01-012019-01-012019-01-012019-01-012019-01-012019-01-012019-01-012019-01-012019-01-012019-01-012019-01-012019-01-012019-01-012019-01-012019-01-012019-01-012019-01-012019-01-012019-01-012019-01-012019-01-012019-01-012019-01-012019-01-012019-01-012019-01-012019-01-012019-01-012019-01-012019-01-012019-01-012019-01-012019-01-012019-01-012019-01-012019-01-012019-01-012019-01-012019-01-012019-01-012019-01-012019-01-012019-01-012019-01-012019-01-012019-01-012019-01-012019-01-012019-01-012019-01-012019-01-012019-01-012019-01-012019-01-012019-01-012019-01-012019-01-012019-01-012019-01-012019-01-012019-01-012019-01-012019-01-012019-01-012019-01-012019-01-012019-01-012019-01-012019-01-012019-01-012019-01-012019-01-012019-01-012019-01-012019-01-012019-01-012019-01-012019-01-012019-01-012019-01-012019-01-012019-01-012019-01-012019-01-012019-01-012019-01-012019-01-012019-01-012019-01-012019-01-012019-01-012019-01-012019-01-012019-01-012019-01-012019-01-012019-01-012019-01-012019-01-012019-01-012019-01-012019-01-012019-01-012019-01-012019-01-012019-01-012019-01-012019-01-012019-01-012019-01-012019-01-012019-01-012019-01-012019-01-012019-01-012019-01-012019-01-012019-01-012019-01-012019-01-012019-01-012019-01-012019-01-012019-01-012019-01-012019-01-012019-01-012019-01-012019-01-012019-01-012019-01-012019-01-012019-01-012019-01-012019-01-012019-01-012019-01-012019-01-012019-01-012019-01-012019-01-012019-01-012019-01-012019-01-012019-01-012019-01-012019-01-012019-01-012019-01-012019-01-012019-01-012019-01-012019-01-012019-01-012019-01-012019-01-012019-01-012019-01-012019-01-012019-01-012019-01-012019-01-012019-01-012019-01-012019-01-012019-01-012019-01-012019-01-012019-01-012019-01-012019-01-012019-01-012019-01-012019-01-012019-01-012019-01-012019-01-012019-01-012019-01-012019-01-012019-01-012019-01-012019-01-012019-01-012019-01-012019-01-012019-01-012019-01-012019-01-012019-01-012019-01-012019-01-012019-01-012019-01-012019-01-012019-01-012019-01-012019-01-012019-01-012019-01-012019-01-012019-01-012019-01-012019-01-012019-01-012019-01-012019-01-012019-01-012019-01-012019-01-012019-01-012019-01-012019-01-012019-01-012019-01-012019-01-012019-01-012019-01-012019-01-012019-01-012019-01-012019-01-012019-01-012019-01-012019-01-012019-01-012019-01-012019-01-012019-01-012019-01-012019-01-012019-01-012019-01-012019-01-012019-01-012019-01-012019-01-012019-01-012019-01-012019-01-012019-01-012019-01-012019-01-012019-01-012019-01-012019-01-012019-01-012019-01-012019-01-012019-01-012019-01-012019-01-012019-01-012019-01-012019-01-012019-01-012019-01-012019-01-012019-01-012019-01-012019-01-012019-01-012019-01-012019-01-012019-01-012019-01-012019-01-012019-01-012019-01-012019-01-012019-01-012019-01-012019-01-012019-01-012019-01-012019-01-012019-01-012019-01-012019-01-012019-01-012019-01-012019-01-012019-01-012019-01-012019-01-012019-01-012019-01-012019-01-012019-01-012019-01-012019-01-012019-01-012019-01-012019-01-012019-01-012019-01-012019-01-012019-01-012019-01-012019-01-012019-01-012019-01-012019-01-012019-01-012019-01-012019-01-012019-01-012019-01-012019-01-012019-01-012019-01-012019-01-012019-01-012019-01-012019-01-012019-01-012019-01-012019-01-012019-01-012019-01-012019-01-012019-01-012019-01-012019-01-012019-01-012019-01-012019-01-012019-01-012019-01-012019-01-012019-01-012019-01-012019-01-012019-01-012019-01-012019-01-012019-01-012019-01-012019-01-012019-01-012019-01-012019-01-012019-01-012019-01-012019-01-012019-01-012019-01-012019-01-012019-01-012019-01-012019-01-012019-01-012019-01-012019-01-012019-01-012019-01-012019-01-012019-01-012019-01-012019-01-012019-01-012019-01-012019-01-012019-01-012019-01-012019-01-012019-01-012019-01-012019-01-012019-01-012019-01-012019-01-012019-01-012019-01-012019-01-012019-01-012019-01-012019-01-012019-01-012019-01-012019-01-012019-01-012019-01-012019-01-012019-01-012019-01-012019-01-012019-01-012019-01-012019-01-012019-01-012019-01-012019-01-012019-01-012019-01-012019-01-012019-01-012019-01-012019-01-012019-01-012019-01-012019-01-012019-01-012019-01-012019-01-012019-01-012019-01-012019-01-012019-01-012019-01-012019-01-012019-01-012019-01-012019-01-012019-01-012019-01-012019-01-012019-01-012019-01-012019-01-012019-01-012019-01-012019-01-012019-01-012019-01-012019-01-012019-01-012019-01-012019-01-012019-01-012019-01-012019-01-012019-01-012019-01-012019-01-012019-01-012019-01-012019-01-012019-01-012019-01-012019-01-012019-01-012019-01-012019-01-012019-01-012019-01-012019-01-012019-01-012019-01-012019-01-012019-01-012019-01-012019-01-012019-01-012019-01-012019-01-012019-01-012019-01-012019-01-012019-01-012019-01-012019-01-012019-01-012019-01-012019-01-012019-01-012019-01-012019-01-012019-01-012019-01-012019-01-012019-01-012019-01-012019-01-012019-01-012019-01-012019-01-012019-01-012019-01-012019-01-012019-01-012019-01-012019-01-012019-01-012019-01-012019-01-012019-01-012019-01-012019-01-012019-01-012019-01-012019-01-012019-01-012019-01-012019-01-012019-01-012019-01-012019-01-012019-01-012019-01-012019-01-012019-01-012019-01-012019-01-012019-01-012019-01-012019-01-012019-01-012019-01-012019-01-012019-01-012019-01-012019-01-012019-01-012019-01-012019-01-012019-01-012019-01-012019-01-012019-01-012019-01-012019-01-012019-01-012019-01-012019-01-012019-01-012019-01-012019-01-012019-01-012019-01-012019-01-012019-01-012019-01-012019-01-012019-01-012019-01-012019-01-012019-01-012019-01-012019-01-012019-01-012019-01-012019-01-012019-01-012019-01-012019-01-012019-01-012019-01-012019-01-012019-01-012019-01-012019-01-012019-01-012019-01-012019-01-012019-01-012019-01-012019-01-012019-01-012019-01-012019-01-012019-01-012019-01-012019-01-012019-01-012019-01-012019-01-012019-01-012019-01-012019-01-012019-01-012019-01-012019-01-012019-01-012019-01-012019-01-012019-01-012019-01-012019-01-012019-01-012019-01-012019-01-012019-01-012019-01-012019-01-012019-01-012019-01-012019-01-012019-01-012019-01-012019-01-012019-01-012019-01-012019-01-012019-01-012019-01-012019-01-012019-01-012019-01-012019-01-012019-01-012019-01-012019-01-012019-01-012019-01-012019-01-012019-01-012019-01-012019-01-012019-01-012019-01-012019-01-012019-01-012019-01-012019-01-012019-01-012019-01-012019-01-012019-01-012019-01-012019-01-012019-01-012019-01-012019-01-012019-01-012019-01-012019-01-012019-01-012019-01-012019-01-012019-01-012019-01-012019-01-012019-01-012019-01-012019-01-012019-01-012019-01-012019-01-012019-01-012019-01-012019-01-012019-01-012019-01-012019-01-012019-01-012019-01-012019-01-012019-01-012019-01-012019-01-012019-01-012019-01-012019-01-012019-01-012019-01-012019-01-012019-01-012019-01-012019-01-012019-01-012019-01-012019-01-012019-01-012019-01-012019-01-012019-01-012019-01-012019-01-012019-01-012019-01-012019-01-012019-01-012019-01-012019-01-012019-01-012019-01-012019-01-012019-01-012019-01-012019-01-012019-01-012019-01-012019-01-012019-01-012019-01-012019-01-012019-01-012019-01-012019-01-012019-01-012019-01-012019-01-012019-01-012019-01-012019-01-012019-01-012019-01-012019-01-012019-01-012019-01-012019-01-012019-01-012019-01-012019-01-012019-01-012019-01-012019-01-012019-01-012019-01-012019-01-012019-01-012019-01-012019-01-012019-01-012019-01-012019-01-012019-01-012019-01-012019-01-012019-01-012019-01-012019-01-012019-01-012019-01-012019-01-012019-01-012019-01-012019-01-012019-01-012019-01-012019-01-012019-01-012019-01-012019-01-012019-01-012019-01-012019-01-012019-01-012019-01-012019-01-012019-01-012019-01-012019-01-012019-01-012019-01-012019-01-012019-01-012019-01-012019-01-012019-01-012019-01-012019-01-012019-01-012019-01-012019-01-012019-01-012019-01-012019-01-012019-01-012019-01-012019-01-012019-01-012019-01-012019-01-012019-01-012019-01-012019-01-012019-01-012019-01-012019-01-012019-01-012019-01-012019-01-012019-01-012019-01-012019-01-012019-01-012019-01-012019-01-012019-01-012019-01-012019-01-012019-01-012019-01-012019-01-012019-01-012019-01-012019-01-012019-01-012019-01-012019-01-012019-01-012019-01-012019-01-012019-01-012019-01-012019-01-012019-01-012019-01-012019-01-012019-01-012019-01-012019-01-012019-01-012019-01-012019-01-012019-01-012019-01-012019-01-012019-01-012019-01-012019-01-012019-01-012019-01-012019-01-012019-01-012019-01-012019-01-012019-01-012019-01-012019-01-012019-01-012019-01-012019-01-012019-01-012019-01-012019-01-012019-01-012019-01-012019-01-012019-01-012019-01-012019-01-012019-01-012019-01-012019-01-012019-01-012019-01-012019-01-012019-01-012019-01-012019-01-012019-01-012019-01-012019-01-012019-01-012019-01-012019-01-012019-01-012019-01-012019-01-012019-01-012019-01-012019-01-012019-01-012019-01-012019-01-012019-01-012019-01-012019-01-012019-01-012019-01-012019-01-012019-01-012019-01-012019-01-012019-01-012019-01-012019-01-012019-01-012019-01-012019-01-012019-01-012019-01-012019-01-012019-01-012019-01-012019-01-012019-01-012019-01-012019-01-012019-01-012019-01-012019-01-012019-01-012019-01-012019-01-012019-01-012019-01-012019-01-012019-01-012019-01-012019-01-012019-01-012019-01-012019-01-012019-01-012019-01-012019-01-012019-01-012019-01-012019-01-012019-01-012019-01-012019-01-012019-01-012019-01-012019-01-012019-01-012019-01-012019-01-012019-01-012019-01-012019-01-012019-01-012019-01-012019-01-012019-01-012019-01-012019-01-012019-01-012019-01-012019-01-012019-01-012019-01-012019-01-012019-01-012019-01-012019-01-012019-01-012019-01-012019-01-012019-01-012019-01-012019-01-012019-01-012019-01-012019-01-012019-01-012019-01-012019-01-012019-01-012019-01-012019-01-012019-01-012019-01-012019-01-012019-01-012019-01-012019-01-012019-01-012019-01-012019-01-012019-01-012019-01-012019-01-012019-01-012019-01-012019-01-012019-01-012019-01-012019-01-012019-01-012019-01-012019-01-012019-01-012019-01-012019-01-012019-01-012019-01-012019-01-012019-01-012019-01-012019-01-012019-01-012019-01-012019-01-012019-01-012019-01-012019-01-012019-01-012019-01-012019-01-012019-01-012019-01-012019-01-012019-01-012019-01-012019-01-012019-01-012019-01-012019-01-012019-01-012019-01-012019-01-012019-01-012019-01-012019-01-012019-01-012019-01-012019-01-012019-01-012019-01-012019-01-012019-01-012019-01-012019-01-012019-01-012019-01-012019-01-012019-01-012019-01-012019-01-012019-01-012019-01-012019-01-012019-01-012019-01-012019-01-012019-01-012019-01-012019-01-012019-01-012019-01-012019-01-012019-01-012019-01-012019-01-012019-01-012019-01-012019-01-012019-01-012019-01-012019-01-012019-01-012019-01-012019-01-012019-01-012019-01-012019-01-012019-01-012019-01-012019-01-012019-01-012019-01-012019-01-012019-01-012019-01-012019-01-012019-01-012019-01-012019-01-012019-01-012019-01-012019-01-012019-01-012019-01-012019-01-012019-01-012019-01-012019-01-012019-01-012019-01-012019-01-012019-01-012019-01-012019-01-012019-01-012019-01-012019-01-012019-01-012019-01-012019-01-012019-01-012019-01-012019-01-012019-01-012019-01-012019-01-012019-01-012019-01-012019-01-012019-01-012019-01-012019-01-012019-01-012019-01-012019-01-012019-01-012019-01-012019-01-012019-01-012019-01-012019-01-012019-01-012019-01-012019-01-012019-01-012019-01-012019-01-012019-01-012019-01-012019-01-012019-01-012019-01-012019-01-012019-01-012019-01-012019-01-012019-01-012019-01-012019-01-012019-01-012019-01-012019-01-012019-01-012019-01-012019-01-012019-01-012019-01-012019-01-012019-01-012019-01-012019-01-012019-01-012019-01-012019-01-012019-01-012019-01-012019-01-012019-01-012019-01-012019-01-012019-01-012019-01-012019-01-012019-01-012019-01-012019-01-012019-01-012019-01-012019-01-012019-01-012019-01-012019-01-012019-01-012019-01-012019-01-012019-01-012019-01-012019-01-012019-01-012019-01-012019-01-012019-01-012019-01-012019-01-012019-01-012019-01-012019-01-012019-01-012019-01-012019-01-012019-01-012019-01-012019-01-012019-01-012019-01-012019-01-012019-01-012019-01-012019-01-012019-01-012019-01-012019-01-012019-01-012019-01-012019-01-012019-01-012019-01-012019-01-012019-01-012019-01-012019-01-012019-01-012019-01-012019-01-012019-01-012019-01-012019-01-012019-01-012019-01-012019-01-012019-01-012019-01-012019-01-012019-01-012019-01-012019-01-012019-01-012019-01-012019-01-012019-01-012019-01-012019-01-012019-01-012019-01-012019-01-012019-01-012019-01-012019-01-012019-01-012019-01-012019-01-012019-01-012019-01-012019-01-012019-01-012019-01-012019-01-012019-01-012019-01-012019-01-012019-01-012019-01-012019-01-012019-01-012019-01-012019-01-012019-01-012019-01-012019-01-012019-01-012019-01-012019-01-012019-01-012019-01-012019-01-012019-01-012019-01-012019-01-012019-01-012019-01-012019-01-012019-01-012019-01-012019-01-012019-01-012019-01-012019-01-012019-01-012019-01-012019-01-012019-01-012019-01-012019-01-012019-01-012019-01-012019-01-012019-01-012019-01-012019-01-012019-01-012019-01-012019-01-012019-01-012019-01-012019-01-012019-01-012019-01-012019-01-012019-01-012019-01-012019-01-012019-01-012019-01-012019-01-012019-01-012019-01-012019-01-012019-01-012019-01-012019-01-012019-01-012019-01-012019-01-012019-01-012019-01-012019-01-012019-01-012019-01-012019-01-012019-01-012019-01-012019-01-012019-01-012019-01-012019-01-012019-01-012019-01-012019-01-012019-01-012019-01-012019-01-012019-01-012019-01-012019-01-012019-01-012019-01-012019-01-012019-01-012019-01-012019-01-012019-01-012019-01-012019-01-012019-01-012019-01-012019-01-012019-01-012019-01-012019-01-012019-01-012019-01-012019-01-012019-01-012019-01-012019-01-012019-01-012019-01-012019-01-012019-01-012019-01-012019-01-012019-01-012019-01-012019-01-012019-01-012019-01-012019-01-012019-01-012019-01-012019-01-012019-01-012019-01-012019-01-012019-01-012019-01-012019-01-012019-01-012019-01-012019-01-012019-01-012019-01-012019-01-012019-01-012019-01-012019-01-012019-01-012019-01-012019-01-012019-01-012019-01-012019-01-012019-01-012019-01-012019-01-012019-01-012019-01-012019-01-012019-01-012019-01-012019-01-012019-01-012019-01-012019-01-012019-01-012019-01-012019-01-012019-01-012019-01-012019-01-012019-01-012019-01-012019-01-012019-01-012019-01-012019-01-012019-01-012019-01-012019-01-012019-01-012019-01-012019-01-012019-01-012019-01-012019-01-012019-01-012019-01-012019-01-012019-01-012019-01-012019-01-012019-01-012019-01-012019-01-012019-01-012019-01-012019-01-012019-01-012019-01-012019-01-012019-01-012019-01-012019-01-012019-01-012019-01-012019-01-012019-01-012019-01-012019-01-012019-01-012019-01-012019-01-012019-01-012019-01-012019-01-012019-01-012019-01-012019-01-012019-01-012019-01-012019-01-012019-01-012019-01-012019-01-012019-01-012019-01-012019-01-012019-01-012019-01-012019-01-012019-01-012019-01-012019-01-012019-01-012019-01-012019-01-012019-01-012019-01-012019-01-012019-01-012019-01-012019-01-012019-01-012019-01-012019-01-012019-01-012019-01-012019-01-012019-01-012019-01-012019-01-012019-01-012019-01-012019-01-012019-01-012019-01-012019-01-012019-01-012019-01-012019-01-012019-01-012019-01-012019-01-012019-01-012019-01-012019-01-012019-01-012019-01-012019-01-012019-01-012019-01-012019-01-012019-01-012019-01-012019-01-012019-01-012019-01-012019-01-012019-01-012019-01-012019-01-012019-01-012019-01-012019-01-012019-01-012019-01-012019-01-012019-01-012019-01-012019-01-012019-01-012019-01-012019-01-012019-01-012019-01-012019-01-012019-01-012019-01-012019-01-012019-01-012019-01-012019-01-012019-01-012019-01-012019-01-012019-01-012019-01-012019-01-012019-01-012019-01-012019-01-012019-01-012019-01-012019-01-012019-01-012019-01-012019-01-012019-01-012019-01-012019-01-012019-01-012019-01-012019-01-012019-01-012019-01-012019-01-012019-01-012019-01-012019-01-012019-01-012019-01-012019-01-012019-01-012019-01-012019-01-012019-01-012019-01-012019-01-012019-01-012019-01-012019-01-012019-01-012019-01-012019-01-012019-01-012019-01-012019-01-012019-01-012019-01-012019-01-012019-01-012019-01-012019-01-012019-01-012019-01-012019-01-012019-01-012019-01-012019-01-012019-01-012019-01-012019-01-012019-01-012019-01-012019-01-012019-01-012019-01-012019-01-012019-01-012019-01-012019-01-012019-01-012019-01-012019-01-012019-01-012019-01-012019-01-012019-01-012019-01-012019-01-012019-01-012019-01-012019-01-012019-01-012019-01-012019-01-012019-01-012019-01-012019-01-012019-01-012019-01-012019-01-012019-01-012019-01-012019-01-012019-01-012019-01-012019-01-012019-01-012019-01-012019-01-012019-01-012019-01-012019-01-012019-01-012019-01-012019-01-012019-01-012019-01-012019-01-012019-01-012019-01-012019-01-012019-01-012019-01-012019-01-012019-01-012019-01-012019-01-012019-01-012019-01-012019-01-012019-01-012019-01-012019-01-012019-01-012019-01-012019-01-012019-01-012019-01-012019-01-012019-01-012019-01-012019-01-012019-01-012019-01-012019-01-012019-01-012019-01-012019-01-012019-01-012019-01-012019-01-012019-01-012019-01-012019-01-012019-01-012019-01-012019-01-012019-01-012019-01-012019-01-012019-01-012019-01-012019-01-012019-01-012019-01-01  90014.221  90014.221  90014.221  90014.221       0"
      ]
     },
     "execution_count": 96,
     "metadata": {},
     "output_type": "execute_result"
    }
   ],
   "source": [
    "df_01_01_2019.groupby(\"date\").apply(sum).head()"
   ]
  },
  {
   "cell_type": "code",
   "execution_count": null,
   "metadata": {},
   "outputs": [],
   "source": []
  },
  {
   "cell_type": "code",
   "execution_count": null,
   "metadata": {},
   "outputs": [],
   "source": []
  },
  {
   "cell_type": "code",
   "execution_count": null,
   "metadata": {},
   "outputs": [],
   "source": []
  },
  {
   "cell_type": "code",
   "execution_count": 119,
   "metadata": {},
   "outputs": [
    {
     "data": {
      "text/plain": [
       "93620    [67.53273664825046, 1.0]\n",
       "Name: centroids, dtype: object"
      ]
     },
     "execution_count": 119,
     "metadata": {},
     "output_type": "execute_result"
    }
   ],
   "source": [
    "centroids = tmp[tmp[\"ticker\"] == \"AABA\"][\"centroids\"]\n",
    "centroids"
   ]
  },
  {
   "cell_type": "code",
   "execution_count": 126,
   "metadata": {},
   "outputs": [
    {
     "data": {
      "text/plain": [
       "67.53273664825046"
      ]
     },
     "execution_count": 126,
     "metadata": {},
     "output_type": "execute_result"
    }
   ],
   "source": [
    "centroids.iloc[0][0]"
   ]
  },
  {
   "cell_type": "code",
   "execution_count": null,
   "metadata": {},
   "outputs": [],
   "source": []
  },
  {
   "cell_type": "code",
   "execution_count": null,
   "metadata": {},
   "outputs": [],
   "source": []
  },
  {
   "cell_type": "markdown",
   "metadata": {},
   "source": [
    "# We can create a user defined function and apply it to our dataframe\n",
    "\n",
    "PySpark UDFs work in a similar way as the pandas .map() and .apply() methods for pandas series and dataframes. If I have a function that can use values from a row in the dataframe as input, then I can map it to the entire dataframe."
   ]
  },
  {
   "cell_type": "code",
   "execution_count": null,
   "metadata": {},
   "outputs": [],
   "source": []
  },
  {
   "cell_type": "code",
   "execution_count": null,
   "metadata": {},
   "outputs": [],
   "source": [
    "kmeans_udf = pyspark.sql.functions.udf(perform_kmeans_on_dataframe, pyspark.sql.types.FloatType)"
   ]
  },
  {
   "cell_type": "code",
   "execution_count": null,
   "metadata": {},
   "outputs": [],
   "source": []
  },
  {
   "cell_type": "code",
   "execution_count": null,
   "metadata": {},
   "outputs": [],
   "source": []
  },
  {
   "cell_type": "code",
   "execution_count": null,
   "metadata": {},
   "outputs": [],
   "source": []
  },
  {
   "cell_type": "code",
   "execution_count": null,
   "metadata": {},
   "outputs": [],
   "source": []
  },
  {
   "cell_type": "code",
   "execution_count": null,
   "metadata": {},
   "outputs": [],
   "source": []
  },
  {
   "cell_type": "code",
   "execution_count": null,
   "metadata": {},
   "outputs": [],
   "source": [
    "centroids = model.cluster_centers_"
   ]
  },
  {
   "cell_type": "code",
   "execution_count": null,
   "metadata": {
    "tags": []
   },
   "outputs": [],
   "source": [
    "\n",
    "\n",
    "# Use the SparkContext to apply the monte carlo trials in parrallel and count the positive results\n",
    "count = sc.parallelize(range(0, number_of_trials)).filter(monte_carlo_trial).count()\n",
    "\n",
    "# Compute the value of pi based on the information from the monte carlo simulation\n",
    "pi = 4 * count / number_of_trials\n",
    "\n",
    "# Print the value of pi\n",
    "print(pi)"
   ]
  },
  {
   "cell_type": "markdown",
   "metadata": {},
   "source": [
    "# 10. Cleanup Spark Cluster On Kubernetes"
   ]
  },
  {
   "cell_type": "code",
   "execution_count": null,
   "metadata": {},
   "outputs": [],
   "source": [
    "sc.stop()"
   ]
  },
  {
   "cell_type": "code",
   "execution_count": null,
   "metadata": {},
   "outputs": [],
   "source": [
    "! kubectl -n spark get pod"
   ]
  }
 ],
 "metadata": {
  "kernelspec": {
   "display_name": "Python 3",
   "language": "python",
   "name": "python3"
  },
  "language_info": {
   "codemirror_mode": {
    "name": "ipython",
    "version": 3
   },
   "file_extension": ".py",
   "mimetype": "text/x-python",
   "name": "python",
   "nbconvert_exporter": "python",
   "pygments_lexer": "ipython3",
   "version": "3.6.8"
  }
 },
 "nbformat": 4,
 "nbformat_minor": 4
}
