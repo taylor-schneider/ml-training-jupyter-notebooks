{
 "cells": [
  {
   "cell_type": "markdown",
   "metadata": {},
   "source": [
    "# Optimization\n",
    "## Agenda\n",
    "1. Overview\n",
    "2. Types Of Optimization Problems\n",
    "3. Techniques For Solving Them"
   ]
  },
  {
   "cell_type": "markdown",
   "metadata": {},
   "source": [
    "## 1. Overview\n",
    "Optimization is a field of applied mathematics. In a nutshell, when optimization seeks to find the \"optimal\" inputs to a given problem. As we will see, there are several types of optimization problems. Additionally, based on the circomstances, there are several categories of techniques that can be applied.\n",
    "\n",
    "In this notebook we will examine the different types of optimization problems as well as the techniques for addressing them."
   ]
  },
  {
   "cell_type": "markdown",
   "metadata": {},
   "source": [
    "# 2. Types Of Optimization Problems\n",
    "\n",
    "Classically, the optimzation problems in any introductory course fall into two categories:\n",
    "1. Maximization - finding a local or absolute maximum\n",
    "2. Mimimization - finding a local or absolute minimum\n",
    "\n",
    "These problems are basically two sides of the same coin. A simple transformation can render an maximization as a minimization: simply render the equation such that $$g(x) = \\frac{1}{f(x)}$$\n",
    "\n",
    "As we will see, it not always the case that a local maxima/minima exists in the real world. As a result we will look at additional problems which deal with asymtotal functions which have no maxima/minima but instead have an asymtote. We will refer to these types of problems as:\n",
    "\n",
    "3. Asymtotal Optimization - finding a point that can reasonably be treated like a maxima/minima\n"
   ]
  },
  {
   "cell_type": "markdown",
   "metadata": {},
   "source": [
    "## 2.1. Maximization"
   ]
  },
  {
   "cell_type": "markdown",
   "metadata": {},
   "source": [
    "## 2.2. Minimization"
   ]
  },
  {
   "cell_type": "markdown",
   "metadata": {},
   "source": [
    "## 2.3. Asymptotic Optimization\n",
    "While the classical problems covered section in 2.1 and 2.2 do occur in nature, they are not the only pattern we will see. In some cases, we are not presented a hyperbolic curve (or atleast a curve with a local extrema) but instead are presented with a curve that is asymtotic.\n",
    "\n",
    "As an example, consider a problem where we want to find the optimal amount of investment. We look at the cost/benefit curve and see that it is asymtotic. We would need a method for defining and identifying that optimal point."
   ]
  },
  {
   "cell_type": "markdown",
   "metadata": {},
   "source": [
    "# 3. Optimization Techniques\n",
    "\n",
    "Besides lookingf at the types of problems they address, optimization techniques can be classified broadly based on the way they work. At the highest level we have:\n",
    "1. **Analytical Methods** - Rely on solving a system of equations to find an exact result\n",
    "2. **Numerical Methods** - Rely on brute force trial and error to approximate the correct result\n",
    "\n",
    "In the table below we try to relate the categories of problem and technique to the individual method. We dive deeper into these methods later in this section.\n",
    "\n",
    "<table>\n",
    "    <tr>\n",
    "        <th>Optimization Problems<br>Optimization techniques\n",
    "        </th>\n",
    "        <th>Maxima</th>\n",
    "        <th>Minima</th>\n",
    "        <th>Asymtote</th>\n",
    "    </tr>\n",
    "    <tr>\n",
    "        <td>Numerical</td>\n",
    "        <td></td>\n",
    "        <td></td>\n",
    "        <td></td>\n",
    "    </tr>\n",
    "    <tr>\n",
    "        <td>Analytical</td>\n",
    "        <td></td>\n",
    "        <td></td>\n",
    "        <td></td>\n",
    "    </tr>\n",
    "</table>"
   ]
  },
  {
   "cell_type": "markdown",
   "metadata": {},
   "source": [
    "## 3.1. Analytical Optimization Techniques"
   ]
  },
  {
   "cell_type": "markdown",
   "metadata": {},
   "source": [
    "## 3.2. Numerical Optimization Techniques\n",
    "\n",
    "Unlinke analytical methods which find the exact right answer, the numerical methods are those which apply an iterative, trial and error, approach to finding an approximation. At a high level, most of these solutions require a discrete (or discretized) search space with the use specifying a threshold for \"what is close enough to stop looking\".\n",
    "\n",
    "Broadly speaking numerical methods can be further subdivided based on how they work:\n",
    "- **Grid Search** - Sequentially search the entire search space until the extrema is found.\n",
    "- **Random Search** - Pseudo-randomly search the space until the extrema is found\n",
    "- **Model Based Search** - Randomly search a probability distribution that self calibrates during the search\n",
    "\n",
    "Visual representations of these search methods can be seen below:\n",
    "\n",
    "<table>\n",
    "    <tr>\n",
    "        <th>Grid Search</th>\n",
    "        <th>Random Search</th>\n",
    "        <th>Model Based Search</th>\n",
    "    </tr>\n",
    "    <tr>\n",
    "        <td><img src='images/grid_search.gif' width=\"400px\" height=\"400px\" /></td>\n",
    "        <td><img src='images/random_search.gif' width=\"400px\" height=\"400px\" /></td>\n",
    "        <td><img src='images/bayesian_search.gif' width=\"400px\" height=\"400px\" /></td>\n",
    "    </tr>\n",
    "</table>\n",
    "\n",
    "\n"
   ]
  },
  {
   "cell_type": "code",
   "execution_count": null,
   "metadata": {},
   "outputs": [],
   "source": []
  },
  {
   "cell_type": "markdown",
   "metadata": {},
   "source": [
    "A smooth function can be optimized in a few ways\n",
    "- first-order method: gradient descent, SGD, etc.\n",
    "- second-order method: Newton’s method, L-BFGS, etc\n",
    "https://www.cs.uic.edu/~hjin/files/bayesian_opt.pdf"
   ]
  },
  {
   "cell_type": "code",
   "execution_count": null,
   "metadata": {},
   "outputs": [],
   "source": []
  },
  {
   "cell_type": "code",
   "execution_count": null,
   "metadata": {},
   "outputs": [],
   "source": []
  },
  {
   "cell_type": "markdown",
   "metadata": {},
   "source": [
    "### 3.2.2. Random Search\n",
    "\n",
    "- quasi-random sampling\n",
    "- Latin hypercube sampling"
   ]
  },
  {
   "cell_type": "markdown",
   "metadata": {},
   "source": [
    "### 3.2.3. Sequential Model-Based Optimization (SMBO)\n",
    "SMBO methods sequentially construct models to approximate the performance of hyperparameters based on historical measurements, and then subsequently choose new hyperparameters to test based on this model.\n",
    "\n",
    "SMBO iterates between fitting models and using them to make choices about which configurations to investigate. It offers the appealing prospects of interpolating performance between observed parameter settings and of extrapolating to previously unseen regions of parameter space. It can also be used to quantify importance of each parameter and parameter interactions. \n",
    "\n",
    "Stated another way, in the context of machine learning, we are usign machine learning to calibrate the search algorithm to efficiently yield hyperparameters for our machine learning algorithm.\n",
    "\n",
    "In my research I have come accross the following SMBO algorithms:\n",
    "- [Random Online Adaptive Racing (ROAR)](https://www.cs.ubc.ca/~hutter/papers/10-TR-SMAC.pdf)\n",
    "- [Sequential Model-based Algorithm Configuration (SMAC)](https://www.cs.ubc.ca/~hutter/papers/10-TR-SMAC.pdf)\n",
    "\n",
    "Probabilistic Regression Models\n",
    "- Gaussian Process (GP)\n",
    "- Random Forests\n",
    "- Tree-structured Parzen Estimator (TPE)"
   ]
  },
  {
   "cell_type": "code",
   "execution_count": null,
   "metadata": {},
   "outputs": [],
   "source": []
  },
  {
   "cell_type": "markdown",
   "metadata": {},
   "source": [
    "With hyperparameter optimization we aim to identify a set of hyperparameters $x*$ which yield the minimal/maximal value of a unction $f(x)$.\n",
    "\n",
    "$$ x^* = argmin \\ f(x)$$ \n",
    "\n",
    "It may be expensive to exhaustively search for $x^*$ and the hyperparameter gradients may not exist preventing us from using methods like gradient descent.\n",
    "\n",
    "We can randomly sample but this may not be accurate. So we may choose to model the function."
   ]
  },
  {
   "cell_type": "code",
   "execution_count": null,
   "metadata": {},
   "outputs": [],
   "source": []
  },
  {
   "cell_type": "markdown",
   "metadata": {},
   "source": [
    "#### Gaussian Process (GP)\n",
    "\n",
    "The gaussian proccess assume that values within a search space will be most similar bewteen neighboring points.\n",
    "\n",
    "Assume we have a variable or function which depends on a set of parameters:\n",
    "\n",
    "$$ y = f(X) $$\n",
    "\n",
    "Assume variable or function is being modeled as a gaussian process:\n",
    "\n",
    "$$ \\hat y \\sim \\mathcal{N}(\\mu, \\sigma^2) $$\n",
    "\n",
    "We normalize our $x$ and $y$ data which means that $\\mu=0$\n",
    "\n",
    "We can express our $\\sigma^2$ as the value of a kernel function $k$ which considers the parameter set\n",
    "\n",
    "$$ \\sigma^2 = k(X) $$\n",
    "\n",
    "**Note:** There are a number of different kernels to choose from.\n",
    "\n",
    "\n",
    "\n",
    "\n",
    "\n",
    "The prediction of the value of the function $\\hat f$ also follow the normal distribution:\n",
    "\n",
    "$$ f^* \\sim \\mathcal{N}(\\hat \\mu, \\hat \\sigma )$$\n",
    "\n",
    "As we iterate and sample the optimization funcion we look at historical values to calibrate our distribution\n",
    "\n",
    "<center><img src='images/gaussian_process_predictions.jpg' height='400px' width='400px' ></center>\n",
    "\n",
    "We do this until we hit a termination condition (threshold of accuracy, maximum number of iterations, time limit reached).\n",
    "\n",
    "https://maelfabien.github.io/machinelearning/HyperOpt/#gaussian-process-gp"
   ]
  },
  {
   "cell_type": "code",
   "execution_count": null,
   "metadata": {},
   "outputs": [],
   "source": []
  },
  {
   "cell_type": "code",
   "execution_count": 2,
   "metadata": {},
   "outputs": [
    {
     "ename": "SyntaxError",
     "evalue": "keyword can't be an expression (<ipython-input-2-e4f977bd523a>, line 2)",
     "output_type": "error",
     "traceback": [
      "\u001b[1;36m  File \u001b[1;32m\"<ipython-input-2-e4f977bd523a>\"\u001b[1;36m, line \u001b[1;32m2\u001b[0m\n\u001b[1;33m    data.grid = expand.grid(x=seq(-3, 3, length.out=200), y=seq(-3, 3, length.out=200))\u001b[0m\n\u001b[1;37m                                        ^\u001b[0m\n\u001b[1;31mSyntaxError\u001b[0m\u001b[1;31m:\u001b[0m keyword can't be an expression\n"
     ]
    }
   ],
   "source": []
  },
  {
   "cell_type": "code",
   "execution_count": null,
   "metadata": {},
   "outputs": [],
   "source": []
  },
  {
   "cell_type": "code",
   "execution_count": null,
   "metadata": {},
   "outputs": [],
   "source": []
  },
  {
   "cell_type": "markdown",
   "metadata": {},
   "source": [
    "#### Random Forests\n",
    "\n",
    "A Random Forest is an ensemble of regression trees. We use a regression to model $f$. Like the gaussian process we assume $ f^* \\sim \\mathcal{N}(\\hat \\mu, \\hat \\sigma )$. Again $\\mu$ and $\\sigma$ are recalibrated with each iteration.\n",
    "\n",
    "not sure how this is different...???\n",
    "\n",
    "This is used by Sequential Model-based Algorithm Configuration library (SMAC). https://maelfabien.github.io/machinelearning/HyperOpt/#gaussian-process-gp\n",
    "\n",
    "\n"
   ]
  },
  {
   "cell_type": "code",
   "execution_count": null,
   "metadata": {},
   "outputs": [],
   "source": []
  },
  {
   "cell_type": "markdown",
   "metadata": {},
   "source": [
    "#### Bayesian Optimization\n",
    "\n",
    "See mayesian notebook\n",
    "\n"
   ]
  },
  {
   "cell_type": "markdown",
   "metadata": {},
   "source": []
  },
  {
   "cell_type": "code",
   "execution_count": null,
   "metadata": {},
   "outputs": [],
   "source": []
  },
  {
   "cell_type": "code",
   "execution_count": null,
   "metadata": {},
   "outputs": [],
   "source": []
  },
  {
   "cell_type": "code",
   "execution_count": null,
   "metadata": {},
   "outputs": [],
   "source": []
  },
  {
   "cell_type": "markdown",
   "metadata": {},
   "source": [
    "#### Tree-structured Parzen Estimator (TPE)\n",
    "\n",
    "The TPE approach models $P(x|y)$ and $P(y)$ where x represents hyperparameters and $y$ the associated quality score. $P(x|y)$ is modeled by transforming the generative process of hyperparameters, replacing the distributions of the configuration prior with non-parametric densities.\n",
    "\n",
    "https://optunity.readthedocs.io/en/latest/user/solvers/TPE.html\n",
    "\n",
    "Unlike gaussian process it does not assume a predictive distribution. Instead it creates two hierarchical processes $l(x)$ and $g(x)$. These functions model the paramers $x$ of f as a disjoint pair values partitioned as a specified point $\\dot y$\n",
    "\n",
    "$$x* = \\begin{cases}\n",
    "l(x) & when \\ \n",
    "g(x) & when \\ \n",
    "\\end{cases}$$\n",
    "\n"
   ]
  },
  {
   "cell_type": "code",
   "execution_count": null,
   "metadata": {},
   "outputs": [],
   "source": []
  },
  {
   "cell_type": "code",
   "execution_count": null,
   "metadata": {},
   "outputs": [],
   "source": []
  },
  {
   "cell_type": "markdown",
   "metadata": {},
   "source": [
    "## 3.3 Asymptotic Optimization Techniques"
   ]
  },
  {
   "cell_type": "markdown",
   "metadata": {},
   "source": [
    "### 3.3.1. The Elbow Method\n",
    "The elbow method is a heuristic approach (imperfect approximation) applied to optimizations of asymtotic functions. The method traced back to Robert Thorndike's 1953 publication. It was larely an inituitive method where the user visually identifies rather than quantitatively. Since then there have been formal definitions for the Elbow method."
   ]
  },
  {
   "cell_type": "markdown",
   "metadata": {},
   "source": [
    "#### 3.3.1.1 The Kneedle Algorithm\n",
    "The [kneedle algorithm](https://raghavan.usc.edu/papers/kneedle-simplex11.pdf) is relatively new being published in 2011. \n",
    "\n",
    "The algorithm is an intuitive numerical method that relies on the definition of **curvature**. Curvature quantifies the difference between an arbitrary function and a straight line. Curvature is defined as follows in a closed form solution:\n",
    "\n",
    "$$ K_f(x) = \\frac{f^{''}(x)}{(1+f^{'}(x)^2)^{1.5}} $$\n",
    "\n",
    "For more information on curvature, see the [wikipedia article](https://en.wikipedia.org/wiki/Curvature).\n",
    "\n",
    "In Figure 2 below, we see how the algorithm works.\n",
    "\n",
    "<img src=\"./Kneedle Algorithm.png\" style=\"width:800px\">\n",
    "\n",
    "Fig. 2: Kneedle algorithm for online knee detection. (a) depicts the smoothed and normalized data, with dashed bars indicating the\n",
    "perpendicular distance from y = x with the maximum distance indicated. (b) shows the same data, but this time the dashed bars are\n",
    "rotated 45 degrees. The magnitude of these bars correspond to the difference values used in Kneedle. (c) shows the plot of these difference\n",
    "values and the corresponding threshold values (with S = 1). The knee is found at x = 0.22 and is detected after receiving the point x = 0.55"
   ]
  },
  {
   "cell_type": "markdown",
   "metadata": {},
   "source": [
    "#### 3.1.1.2. Implimentations Of The Kneedle Algorithm\n",
    "Luckily, there is a python implimentation of this method available in the [kneed library](https://github.com/arvkevi/kneed).\n",
    "\n",
    "The library's functionality relies on the user specifying two pieces of data: the corve type and the direction of the curve. The documentation provides the following diagram to assist:\n",
    "<img src=\"./Curve Types And Directions.png\" style=\"width:800px\">\n",
    "\n"
   ]
  },
  {
   "cell_type": "markdown",
   "metadata": {},
   "source": [
    "Here is an example using the code:"
   ]
  },
  {
   "cell_type": "code",
   "execution_count": 33,
   "metadata": {},
   "outputs": [
    {
     "name": "stdout",
     "output_type": "stream",
     "text": [
      "Our knee point is: <4,3>\n"
     ]
    },
    {
     "data": {
      "image/png": "[encoded data removed]",
      "text/plain": [
       "<Figure size 432x288 with 1 Axes>"
      ]
     },
     "metadata": {
      "needs_background": "light"
     },
     "output_type": "display_data"
    }
   ],
   "source": [
    "# Generate some test data\n",
    "x = [1,  2, 3, 4, 5, 6, 7,   8,   9,   10]\n",
    "y = [10, 7, 5, 3, 2, 1, 0.5, 0.4, 0.3, 0.2]\n",
    "\n",
    "# Calculate the knee point\n",
    "import kneed\n",
    "kneedle = kneed.KneeLocator(x, y, S=1.0, curve=\"convex\", direction=\"decreasing\")\n",
    "knee_point_x = int(kneedle.knee)\n",
    "knee_point_y = y[knee_point_x - 1]\n",
    "print(\"Our knee point is: <{0},{1}>\".format(knee_point_x, knee_point_y))\n",
    "\n",
    "# Plot the information\n",
    "from matplotlib import pyplot\n",
    "fig, ax = pyplot.subplots()\n",
    "pyplot.plot(x, y)\n",
    "pyplot.scatter(knee_point_x, knee_point_y, c='red');"
   ]
  },
  {
   "cell_type": "markdown",
   "metadata": {},
   "source": [
    "### 3.3.2. Inflection Point Of Acceleration\n",
    "Velocity is a rate of change in position for a given object. It has a scalar indicating magnitude and a sign indicating direction. If the velocity is positive it means the object is moving in a particular direction (up, down, forward, etc.). If the velocity changes sign (eg. from positive to negative) it indicates that the object has changed direction.\n",
    "\n",
    "Acceleration is a rate of change in velocity. It is a rate of change of a rate of change. A positive acceleration indicates that the velocity (rate of change in position) has increased. A negative acceleration indicates that the velocity has decreased.\n",
    "\n",
    "| V | A | Description |\n",
    "--- | --- | ---\n",
    "| + | + | Speeding up |\n",
    "| + | - | Slowing down |\n",
    "| - | - | Speeding up |\n",
    "| - | + | Slowing Down |\n",
    "\n",
    "If we see a sign change in accelleration it means that we have gone from speeding up to slowing down or vice versa. It is indicitive of a course correction because at some point the acceleration was zero. This is an inflection point of acceleration.\n",
    "\n"
   ]
  },
  {
   "cell_type": "code",
   "execution_count": 123,
   "metadata": {},
   "outputs": [
    {
     "data": {
      "text/html": [
       "<div>\n",
       "<style scoped>\n",
       "    .dataframe tbody tr th:only-of-type {\n",
       "        vertical-align: middle;\n",
       "    }\n",
       "\n",
       "    .dataframe tbody tr th {\n",
       "        vertical-align: top;\n",
       "    }\n",
       "\n",
       "    .dataframe thead th {\n",
       "        text-align: right;\n",
       "    }\n",
       "</style>\n",
       "<table border=\"1\" class=\"dataframe\">\n",
       "  <thead>\n",
       "    <tr style=\"text-align: right;\">\n",
       "      <th></th>\n",
       "      <th>x</th>\n",
       "      <th>y</th>\n",
       "      <th>v</th>\n",
       "      <th>a</th>\n",
       "      <th>d</th>\n",
       "      <th>ip</th>\n",
       "    </tr>\n",
       "  </thead>\n",
       "  <tbody>\n",
       "    <tr>\n",
       "      <th>0</th>\n",
       "      <td>1</td>\n",
       "      <td>10.0</td>\n",
       "      <td>NaN</td>\n",
       "      <td>NaN</td>\n",
       "      <td>Speeding Up</td>\n",
       "      <td>NaN</td>\n",
       "    </tr>\n",
       "    <tr>\n",
       "      <th>1</th>\n",
       "      <td>2</td>\n",
       "      <td>7.0</td>\n",
       "      <td>-3.0</td>\n",
       "      <td>NaN</td>\n",
       "      <td>Speeding Up</td>\n",
       "      <td>NaN</td>\n",
       "    </tr>\n",
       "    <tr>\n",
       "      <th>2</th>\n",
       "      <td>3</td>\n",
       "      <td>5.0</td>\n",
       "      <td>-2.0</td>\n",
       "      <td>1.000000e+00</td>\n",
       "      <td>Slowing down</td>\n",
       "      <td>NaN</td>\n",
       "    </tr>\n",
       "    <tr>\n",
       "      <th>3</th>\n",
       "      <td>4</td>\n",
       "      <td>3.0</td>\n",
       "      <td>-2.0</td>\n",
       "      <td>0.000000e+00</td>\n",
       "      <td>Slowing down</td>\n",
       "      <td>0.0</td>\n",
       "    </tr>\n",
       "    <tr>\n",
       "      <th>4</th>\n",
       "      <td>5</td>\n",
       "      <td>2.0</td>\n",
       "      <td>-1.0</td>\n",
       "      <td>1.000000e+00</td>\n",
       "      <td>Slowing down</td>\n",
       "      <td>0.0</td>\n",
       "    </tr>\n",
       "    <tr>\n",
       "      <th>5</th>\n",
       "      <td>6</td>\n",
       "      <td>1.0</td>\n",
       "      <td>-1.0</td>\n",
       "      <td>0.000000e+00</td>\n",
       "      <td>Slowing down</td>\n",
       "      <td>0.0</td>\n",
       "    </tr>\n",
       "    <tr>\n",
       "      <th>6</th>\n",
       "      <td>7</td>\n",
       "      <td>0.5</td>\n",
       "      <td>-0.5</td>\n",
       "      <td>5.000000e-01</td>\n",
       "      <td>Slowing down</td>\n",
       "      <td>0.0</td>\n",
       "    </tr>\n",
       "    <tr>\n",
       "      <th>7</th>\n",
       "      <td>8</td>\n",
       "      <td>0.4</td>\n",
       "      <td>-0.1</td>\n",
       "      <td>4.000000e-01</td>\n",
       "      <td>Slowing down</td>\n",
       "      <td>0.0</td>\n",
       "    </tr>\n",
       "    <tr>\n",
       "      <th>8</th>\n",
       "      <td>9</td>\n",
       "      <td>0.3</td>\n",
       "      <td>-0.1</td>\n",
       "      <td>-5.551115e-17</td>\n",
       "      <td>Speeding Up</td>\n",
       "      <td>1.0</td>\n",
       "    </tr>\n",
       "    <tr>\n",
       "      <th>9</th>\n",
       "      <td>10</td>\n",
       "      <td>0.2</td>\n",
       "      <td>-0.1</td>\n",
       "      <td>5.551115e-17</td>\n",
       "      <td>Slowing down</td>\n",
       "      <td>0.0</td>\n",
       "    </tr>\n",
       "  </tbody>\n",
       "</table>\n",
       "</div>"
      ],
      "text/plain": [
       "    x     y    v             a             d   ip\n",
       "0   1  10.0  NaN           NaN   Speeding Up  NaN\n",
       "1   2   7.0 -3.0           NaN   Speeding Up  NaN\n",
       "2   3   5.0 -2.0  1.000000e+00  Slowing down  NaN\n",
       "3   4   3.0 -2.0  0.000000e+00  Slowing down  0.0\n",
       "4   5   2.0 -1.0  1.000000e+00  Slowing down  0.0\n",
       "5   6   1.0 -1.0  0.000000e+00  Slowing down  0.0\n",
       "6   7   0.5 -0.5  5.000000e-01  Slowing down  0.0\n",
       "7   8   0.4 -0.1  4.000000e-01  Slowing down  0.0\n",
       "8   9   0.3 -0.1 -5.551115e-17   Speeding Up  1.0\n",
       "9  10   0.2 -0.1  5.551115e-17  Slowing down  0.0"
      ]
     },
     "execution_count": 123,
     "metadata": {},
     "output_type": "execute_result"
    }
   ],
   "source": [
    "# Generate some test data\n",
    "x = [1,  2, 3, 4, 5, 6, 7,   8,   9,   10]\n",
    "y = [10, 7, 5, 3, 2, 1, 0.5, 0.4, 0.3, 0.2]\n",
    "\n",
    "# Define some helpful functions\n",
    "def same_sign(a, b):\n",
    "    if a >= 0:\n",
    "        if b >= 0:\n",
    "            return True\n",
    "        else:\n",
    "            return False\n",
    "    else:\n",
    "        if b >= 0:\n",
    "            return True\n",
    "        else:\n",
    "            return False\n",
    "    \n",
    "def is_ip(col):\n",
    "    a = col.iloc[0]\n",
    "    b = col.iloc[1]\n",
    "    return not same_sign(a, b)\n",
    "\n",
    "def description(cols):\n",
    "    a = cols.iloc[0]\n",
    "    b = cols.iloc[1]\n",
    "    if same_sign(a, b):\n",
    "        return 'Slowing down'\n",
    "    else:\n",
    "        return 'Speeding Up'\n",
    "        \n",
    "\n",
    "# Make some additional calculations\n",
    "import pandas\n",
    "df = pandas.DataFrame({\"x\": x, \"y\": y})\n",
    "df[\"v\"] = df[\"y\"].diff()\n",
    "df[\"a\"] = df[\"v\"].diff()\n",
    "df[\"d\"] = df[[\"v\", \"a\"]].apply(lambda col: description(col), axis=1)\n",
    "df[\"ip\"] = df[\"a\"].rolling(2, center=True).apply(lambda col: is_ip(col))\n",
    "df"
   ]
  },
  {
   "cell_type": "markdown",
   "metadata": {},
   "source": [
    "We can see that the acceleration was decreasing all the way down the curve (moving left to right on the x-axis) until we hit zero. We can see this is a much more aggressive selection that the Kneedle algorithm produced (green)."
   ]
  },
  {
   "cell_type": "code",
   "execution_count": 124,
   "metadata": {},
   "outputs": [
    {
     "name": "stdout",
     "output_type": "stream",
     "text": [
      "Our knee point is: <8,0.4>\n"
     ]
    },
    {
     "data": {
      "image/png": "[encoded data removed]",
      "text/plain": [
       "<Figure size 432x288 with 1 Axes>"
      ]
     },
     "metadata": {
      "needs_background": "light"
     },
     "output_type": "display_data"
    }
   ],
   "source": [
    "# Calculate the knee point\n",
    "i = df[df[\"ip\"] == 1].index[0] - 1\n",
    "knee_point_x = df.loc[i, \"x\"]\n",
    "knee_point_y = df.loc[i, \"y\"]\n",
    "print(\"Our knee point is: <{0},{1}>\".format(knee_point_x, knee_point_y))\n",
    "\n",
    "# Plot the information\n",
    "from matplotlib import pyplot\n",
    "fig, ax = pyplot.subplots()\n",
    "pyplot.plot(x, y)\n",
    "pyplot.scatter(knee_point_x, knee_point_y, c='red');\n",
    "pyplot.scatter(4, 3, c='green');"
   ]
  },
  {
   "cell_type": "markdown",
   "metadata": {},
   "source": [
    "### 3.3.3. Marginal Threshold"
   ]
  },
  {
   "cell_type": "markdown",
   "metadata": {},
   "source": [
    "We may decide that certain increments are just not worth the marginal gain. We can set a threshold to act as a cutoff point."
   ]
  },
  {
   "cell_type": "code",
   "execution_count": 126,
   "metadata": {
    "jupyter": {
     "source_hidden": true
    }
   },
   "outputs": [
    {
     "data": {
      "text/html": [
       "<div>\n",
       "<style scoped>\n",
       "    .dataframe tbody tr th:only-of-type {\n",
       "        vertical-align: middle;\n",
       "    }\n",
       "\n",
       "    .dataframe tbody tr th {\n",
       "        vertical-align: top;\n",
       "    }\n",
       "\n",
       "    .dataframe thead th {\n",
       "        text-align: right;\n",
       "    }\n",
       "</style>\n",
       "<table border=\"1\" class=\"dataframe\">\n",
       "  <thead>\n",
       "    <tr style=\"text-align: right;\">\n",
       "      <th></th>\n",
       "      <th>x</th>\n",
       "      <th>y</th>\n",
       "      <th>d</th>\n",
       "      <th>t</th>\n",
       "    </tr>\n",
       "  </thead>\n",
       "  <tbody>\n",
       "    <tr>\n",
       "      <th>0</th>\n",
       "      <td>1</td>\n",
       "      <td>10.0</td>\n",
       "      <td>NaN</td>\n",
       "      <td>False</td>\n",
       "    </tr>\n",
       "    <tr>\n",
       "      <th>1</th>\n",
       "      <td>2</td>\n",
       "      <td>7.0</td>\n",
       "      <td>3.0</td>\n",
       "      <td>False</td>\n",
       "    </tr>\n",
       "    <tr>\n",
       "      <th>2</th>\n",
       "      <td>3</td>\n",
       "      <td>5.0</td>\n",
       "      <td>2.0</td>\n",
       "      <td>False</td>\n",
       "    </tr>\n",
       "    <tr>\n",
       "      <th>3</th>\n",
       "      <td>4</td>\n",
       "      <td>3.0</td>\n",
       "      <td>2.0</td>\n",
       "      <td>False</td>\n",
       "    </tr>\n",
       "    <tr>\n",
       "      <th>4</th>\n",
       "      <td>5</td>\n",
       "      <td>2.0</td>\n",
       "      <td>1.0</td>\n",
       "      <td>False</td>\n",
       "    </tr>\n",
       "    <tr>\n",
       "      <th>5</th>\n",
       "      <td>6</td>\n",
       "      <td>1.0</td>\n",
       "      <td>1.0</td>\n",
       "      <td>False</td>\n",
       "    </tr>\n",
       "    <tr>\n",
       "      <th>6</th>\n",
       "      <td>7</td>\n",
       "      <td>0.5</td>\n",
       "      <td>0.5</td>\n",
       "      <td>False</td>\n",
       "    </tr>\n",
       "    <tr>\n",
       "      <th>7</th>\n",
       "      <td>8</td>\n",
       "      <td>0.4</td>\n",
       "      <td>0.1</td>\n",
       "      <td>True</td>\n",
       "    </tr>\n",
       "    <tr>\n",
       "      <th>8</th>\n",
       "      <td>9</td>\n",
       "      <td>0.3</td>\n",
       "      <td>0.1</td>\n",
       "      <td>False</td>\n",
       "    </tr>\n",
       "    <tr>\n",
       "      <th>9</th>\n",
       "      <td>10</td>\n",
       "      <td>0.2</td>\n",
       "      <td>0.1</td>\n",
       "      <td>True</td>\n",
       "    </tr>\n",
       "  </tbody>\n",
       "</table>\n",
       "</div>"
      ],
      "text/plain": [
       "    x     y    d      t\n",
       "0   1  10.0  NaN  False\n",
       "1   2   7.0  3.0  False\n",
       "2   3   5.0  2.0  False\n",
       "3   4   3.0  2.0  False\n",
       "4   5   2.0  1.0  False\n",
       "5   6   1.0  1.0  False\n",
       "6   7   0.5  0.5  False\n",
       "7   8   0.4  0.1   True\n",
       "8   9   0.3  0.1  False\n",
       "9  10   0.2  0.1   True"
      ]
     },
     "execution_count": 126,
     "metadata": {},
     "output_type": "execute_result"
    }
   ],
   "source": [
    "# Generate some test data\n",
    "x = [1,  2, 3, 4, 5, 6, 7,   8,   9,   10]\n",
    "y = [10, 7, 5, 3, 2, 1, 0.5, 0.4, 0.3, 0.2]\n",
    "       \n",
    "\n",
    "# Make some additional calculations\n",
    "import pandas\n",
    "import numpy\n",
    "df = pandas.DataFrame({\"x\": x, \"y\": y})\n",
    "df[\"d\"] = abs(df[\"y\"].diff())\n",
    "df[\"t\"] = df[\"d\"] <= 0.1\n",
    "df"
   ]
  },
  {
   "cell_type": "code",
   "execution_count": 127,
   "metadata": {
    "jupyter": {
     "source_hidden": true
    }
   },
   "outputs": [
    {
     "name": "stdout",
     "output_type": "stream",
     "text": [
      "Our knee point is: <7,0.5>\n"
     ]
    },
    {
     "data": {
      "image/png": "[encoded data removed]",
      "text/plain": [
       "<Figure size 432x288 with 1 Axes>"
      ]
     },
     "metadata": {
      "needs_background": "light"
     },
     "output_type": "display_data"
    }
   ],
   "source": [
    "# Calculate the knee point\n",
    "i = df[df[\"t\"] == 1][\"x\"].index[0] - 1\n",
    "knee_point_x = df.loc[i, \"x\"]\n",
    "knee_point_y = df.loc[i, \"y\"]\n",
    "print(\"Our knee point is: <{0},{1}>\".format(knee_point_x, knee_point_y))\n",
    "\n",
    "# Plot the information\n",
    "from matplotlib import pyplot\n",
    "fig, ax = pyplot.subplots()\n",
    "pyplot.plot(x, y)\n",
    "pyplot.scatter(knee_point_x, knee_point_y, c='red');\n",
    "pyplot.scatter(4, 3, c='green');\n",
    "pyplot.scatter(8, 0.4, c='green');"
   ]
  },
  {
   "cell_type": "code",
   "execution_count": null,
   "metadata": {},
   "outputs": [],
   "source": []
  },
  {
   "cell_type": "code",
   "execution_count": null,
   "metadata": {},
   "outputs": [],
   "source": []
  }
 ],
 "metadata": {
  "kernelspec": {
   "display_name": "Python 3",
   "language": "python",
   "name": "python3"
  },
  "language_info": {
   "codemirror_mode": {
    "name": "ipython",
    "version": 3
   },
   "file_extension": ".py",
   "mimetype": "text/x-python",
   "name": "python",
   "nbconvert_exporter": "python",
   "pygments_lexer": "ipython3",
   "version": "3.6.8"
  }
 },
 "nbformat": 4,
 "nbformat_minor": 4
}
