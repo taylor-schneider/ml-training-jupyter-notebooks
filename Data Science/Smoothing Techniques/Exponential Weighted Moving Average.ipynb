{
 "cells": [
  {
   "cell_type": "markdown",
   "metadata": {},
   "source": [
    "# Exponential Weighted Moving Average\n",
    "\n",
    "In this notebook we explore the exponential weighted moving average"
   ]
  },
  {
   "cell_type": "markdown",
   "metadata": {},
   "source": [
    "Agenda:\n",
    "1. Prerequisites\n",
    "2. Intuition and Definition\n",
    "3. Calculation\n",
    "4. Additional Readings\n"
   ]
  },
  {
   "cell_type": "markdown",
   "metadata": {},
   "source": [
    "# TL;DR; \n",
    "MA -> Weights -> Exponential Decay (formula for choosing ewights, has nice properties?)"
   ]
  },
  {
   "cell_type": "markdown",
   "metadata": {},
   "source": [
    "# 1. Prerequisites"
   ]
  },
  {
   "cell_type": "markdown",
   "metadata": {},
   "source": [
    "### 1.1 Ratios\n",
    "\n",
    "A **ratio** is an expression of the relationship between two quantities of things. It expressed the number of one thing relative to the number of the other things.\n",
    "\n",
    "For example, consider a bakery that makes cakes and pies. Assume that today, the Bakery has baked 30 cakes and 10 pies. The ratio of cakes to pies is\n",
    "\n",
    "$$ r = 30:10$$\n",
    "\n",
    "which is pronounced as \"thirty to ten\". Like a fraction, the ratio can be reduced by a common denuminator. We can simplify this ratio to $3:1$."
   ]
  },
  {
   "cell_type": "markdown",
   "metadata": {},
   "source": [
    "### 1.2 Proportions\n",
    "\n",
    "A **portion** is a measurement of \"how much\" of something is being considered, referenced, or divided. It is measured as a fraction:\n",
    "\n",
    "$$ proportion = \\frac{part}{whole} $$\n",
    "\n",
    "For example, when you cut a slice of a pie, you take a piece of the pie; you take a portion of the pie. The portion you take may vary in size: the portion could be 1/8 of the pie, 1/2 the pie, the whole pie!\n",
    "\n",
    "Continuing the example from before, the proportion of baked goods that are pies is $\\frac{10}{40}= \\frac{1}{4}$.\n",
    "\n",
    "Note: Proportions may also be discussed more generically/abstractly. They dont need to strictly refer to part and whole. For example, one might say that a rope's weight is *proportional* to its length. Meaning that as the rope gets longer, the rope gets heavier. The increase in length resulting in an increase in weight that maintains the same proportion or fractional value. One might also refer to this phenomenon by saying the length and weight are *in proportion* of eathother. "
   ]
  },
  {
   "cell_type": "markdown",
   "metadata": {},
   "source": [
    "#### 1.1.1 Proportinality of single values or measurements\n",
    "\n",
    "Proportionality is a type of relationship that may exist between two things.\n",
    "\n",
    "The **constant of proportionality** $p$ is expressed mathematically as:\n",
    "\n",
    "$$ p = \\frac{a}{b} $$\n",
    "\n",
    "Where a and b are two measurements and p is a constant which gives the magnitute of the proportional relationship between two entities.\n",
    "\n",
    "When a proportionality constant exists, two entities are said to be directly proportional.\n",
    "\n",
    "https://en.wikipedia.org/wiki/Proportionality_(mathematics)#Direct_proportionality"
   ]
  },
  {
   "cell_type": "markdown",
   "metadata": {},
   "source": [
    "# TODO: Inverse proportionality\n",
    "https://en.wikipedia.org/wiki/Proportionality_(mathematics)#Inverse_proportionality"
   ]
  },
  {
   "cell_type": "markdown",
   "metadata": {},
   "source": [
    "#### 1.1.2 Proportinality of variables or funcitons\n",
    "\n",
    "While single values can be proportional, so can variables or functions. For exmaple, if there are two variables $x$ and $y$ their proportionality may be expressed as $k$ meaning that for each value of x and y, the proportionality holds.\n",
    "\n",
    "$$ p = \\frac{x}{y} $$\n",
    "\n",
    "Doing some simple algebra we can also rearrange the equation such that\n",
    "\n",
    "$$ y = kx $$\n",
    "\n",
    "We can graph this relationship as follows:\n",
    "\n",
    "<img src=\"proportional_variables.png\" width=\"300\" height=\"300\"/>\n",
    "\n",
    "https://en.wikipedia.org/wiki/Proportionality_(mathematics)"
   ]
  },
  {
   "cell_type": "markdown",
   "metadata": {},
   "source": [
    "#### 1.1.3 Non constant Proportionality\n",
    "\n",
    "In the graph above, y and x have a constant proportionality.\n",
    "\n",
    "It is possible that the proprortionality between two variables or functions is not constant. The constant $k$ could be replaced by the function $k()$ which is non linear.\n",
    "\n",
    "For example, consider the equation \n",
    "\n",
    "$$y = b^xx$$\n",
    "\n",
    "We can see that $k(x)$ is an exponential function.\n",
    "\n",
    "$$ k(x) = b^x $$\n",
    "\n",
    "Lets have a look at the *natural exponential function*\n",
    "\n",
    "<img src=\"graph_natural_exponential.png\" width=\"500\" height=\"500\"/>"
   ]
  },
  {
   "cell_type": "markdown",
   "metadata": {},
   "source": [
    "### 1.3 Growth and Decay (Rates of change)\n",
    "\n",
    "**Growth** and proportion are related to eachother because they both quantify a relationship as a fraction. The difference is that while a proprtion focuses on the relationship between a part and the whole, a growth rate describes the relationship between a function at two separate points.\n",
    "\n",
    "Growth rates are intuitively understood in nature. For example, the growth rate of a tree describes how it's hight has changed based on some change in time. We have a fraction of the changes in two variables.\n",
    "\n",
    "$$ g = \\frac{\\Delta y}{\\Delta x} $$\n",
    "\n",
    "There are many types of growth rates. And as with proportions, the rate need not remain constant. The growth rate itself can be a function $g()$.\n",
    "\n",
    "There are many popular growth rates that have become standards in various achedemic texts such as the geometric growth rate or the exponential growth rate. We will talk about the latter in just a bit.\n",
    "\n",
    "**Decay** Decay is the oppposite of growth. Growth has positive values representing a positive change in quantitiy while decay has a negative value representing a negative change in a given quantitity. \n",
    "\n",
    "A popular example of decay would be the radioactive decay that occurs in nature.\n"
   ]
  },
  {
   "cell_type": "markdown",
   "metadata": {},
   "source": [
    "### 2.5 Geometric Series\n",
    "A series is the summation of an infinite set of sequential terms.\n",
    "\n",
    "A geometric series is a series which has a constant proportional relationship between terms. Meaning the a given term is proportional to the previous term, and that proportionality is preserved between the previous term and the term before it.\n",
    "\n",
    "$$ x_n = p * X_{n-1} $$\n",
    "\n",
    "Recall that proportion is defined as:\n",
    "\n",
    "$$ p = \\frac{a}{b} $$\n",
    "\n",
    "So a proportional relationship between terms in a series would be such that\n",
    "\n",
    "$$ p = \\frac{x_n}{x_{n-1}} $$\n",
    "\n",
    "This proportion relationship is sometimes also referred to as the **common ratio** despite the fact that it is not a ratio according to our definition.\n",
    "\n",
    "#### 2.5.1 Example Geometric Series"
   ]
  },
  {
   "cell_type": "markdown",
   "metadata": {},
   "source": [
    "An example might be the series: \n",
    "$$\\frac{1}{2} + \\frac{1}{4} + \\frac{1}{8} + \\frac{1}{16} ...$$\n",
    "\n",
    "we can express the series as\n",
    "\n",
    "$$ y = \\sum_{x=1}^\\infty \\frac{1}{2^x}$$\n",
    "\n",
    "If we look at the proportion of the terms we have\n",
    "\n",
    "$$ = \\frac{ \\frac{1}{2^x} }{ \\frac{1}{2^{x-1}} }$$\n",
    "\n",
    "$$ = \\frac{ 2^{x-1}}{2^x} $$\n",
    "\n",
    "$$ = 2^{(x-1)-x} $$\n",
    "\n",
    "$$ = 2^{-1} $$\n",
    "\n",
    "$$ = \\frac{1}{2} $$"
   ]
  },
  {
   "cell_type": "markdown",
   "metadata": {},
   "source": [
    "This proportional relationship between terms implies an exponential growth (more on that later).\n",
    "\n",
    "Recall that a growth rate can be expressed as:\n",
    "\n",
    "$$ g = \\frac{\\Delta y}{\\Delta x} $$\n",
    "\n",
    "So the rate of change for the nth term in the series would be\n",
    "\n",
    "$$ 2^n $$"
   ]
  },
  {
   "cell_type": "markdown",
   "metadata": {},
   "source": [
    "#### 2.5.2 Convergence and Convergence Tests for the Geometric Series\n",
    "A series (an infinite sum) is convergent if it tends towards a finite limit as the number of terms in the series increases. A series that does not converge is said to be divergent.\n",
    "\n",
    "Based on the characteristics of the series, there may exits [tests](https://en.wikipedia.org/wiki/Convergence_tests) to determine whether or not convergence exists. There may also exist proofs for the convergence of the series.\n",
    "\n",
    "Given a geomertic series $\\sum px_n$ we have convergence at:\n",
    "\n",
    "$$ \\frac{1}{1-p} $$\n",
    "\n",
    "https://en.wikipedia.org/wiki/Geometric_series#Proof_of_convergence\n"
   ]
  },
  {
   "cell_type": "code",
   "execution_count": null,
   "metadata": {},
   "outputs": [],
   "source": []
  },
  {
   "cell_type": "code",
   "execution_count": null,
   "metadata": {},
   "outputs": [],
   "source": []
  },
  {
   "cell_type": "markdown",
   "metadata": {},
   "source": [
    "## 2. Exponentials"
   ]
  },
  {
   "cell_type": "markdown",
   "metadata": {},
   "source": [
    "### 2.1 Exponents and Exponential Things\n",
    "\n",
    "The word Exponent comes from Latin, expo, meaning out of, and ponere, meaning place. In very early texts Euclid is refered to the concept as aplification. Sometimes the term \"power\" is used as Euclid's term amplification was mistranslated.\n",
    "\n",
    "An exponent is a symbol that appears in a mathematical formual of an exponential function.\n",
    "\n",
    "The term exponential is an adjective that applies to many mathematical concepts. I will try to elaborate on the important relationships and parallels. In a nutshell, anything being referred to as exponential has some relationship to an exponent\n",
    "\n",
    "https://en.wikipedia.org/wiki/Exponentiation#History_of_the_notation\n",
    "\n",
    "https://sciencing.com/history-exponents-5134780.html"
   ]
  },
  {
   "cell_type": "markdown",
   "metadata": {},
   "source": [
    "### 2.2 Exponentiation and the Exponential Function\n",
    "\n",
    "**Exponentiation** is a mathematical operation that dictates that some variable be multiplied by itself a specified number of times. The exponential operator is used to indicate when and where exponentiation is used. The exponent is the number of times a variable is being multiplied by itself.\n",
    "\n",
    "An **exponential function** is one which demonstrates exponentiation, or use of the exponential operatior. Simply put, it is recognized as a function which has a variable in the exponent. For example:\n",
    "\n",
    "$$ f(x) = kb^{cx} $$\n",
    "\n",
    "$$ f(x) = kb^{x+2} $$ \n",
    "\n",
    "The number being raised to some exponent (exponentiated) is referred to as the **base**.\n",
    "\n",
    "It is common for the base to be $e$ (more on that later), and in this situation, sometimes you will see an exponential written as:\n",
    "\n",
    "$$ f(x) = k*exp(cx) $$\n",
    "\n",
    "Where $exp(x)$ denotes $e$ being exponentiated by $x$ instead of the normal notation using a base and exponent."
   ]
  },
  {
   "cell_type": "markdown",
   "metadata": {},
   "source": [
    "### 2.3 Exponential Growth\n",
    "An important property of the exponential function is that it has a **growth rate** that is directly proportional to the value of the function. \n",
    "\n",
    "Prevously we defined a growth rate as:\n",
    "\n",
    "$$ g = \\frac{\\Delta f(x)}{\\Delta x} $$\n",
    "\n",
    "So an exponential function would be such that\n",
    "\n",
    "$$ f'(x) = pf(x) \\ \\ \\ \\ \\Rightarrow \\ \\ \\ \\ p=\\frac{f'(x)}{f(x)}$$\n",
    "\n",
    "Note: That we may also be talking about a **decay rate** instead of a growth rate depending on the sign of the differential.\n",
    "\n",
    "Plugging in a value of $b^x$ for $f(x)$ we might have\n",
    "\n",
    "$$ f'(x) = b^x\\ln(b) \\ \\ \\ \\ \\Rightarrow \\ \\ \\ \\ \\ln(b)=\\frac{f'(x)}{b^x}$$\n",
    "\n",
    "Which naturally implies that\n",
    "\n",
    "$$ f'(x) = b^x \\ln(b) $$\n",
    "\n",
    "As we see above, the exponential function's growth rate takes the form:\n",
    "\n",
    "$$ g(x) = kb^x $$"
   ]
  },
  {
   "cell_type": "markdown",
   "metadata": {},
   "source": [
    "##### 2.3.1 Exponential Growth Example\n",
    "\n",
    "Consider the formula $$y=5*2^x$$"
   ]
  },
  {
   "cell_type": "code",
   "execution_count": 135,
   "metadata": {
    "jupyter": {
     "source_hidden": true
    }
   },
   "outputs": [
    {
     "data": {
      "text/html": [
       "<div>\n",
       "<style scoped>\n",
       "    .dataframe tbody tr th:only-of-type {\n",
       "        vertical-align: middle;\n",
       "    }\n",
       "\n",
       "    .dataframe tbody tr th {\n",
       "        vertical-align: top;\n",
       "    }\n",
       "\n",
       "    .dataframe thead th {\n",
       "        text-align: right;\n",
       "    }\n",
       "</style>\n",
       "<table border=\"1\" class=\"dataframe\">\n",
       "  <thead>\n",
       "    <tr style=\"text-align: right;\">\n",
       "      <th></th>\n",
       "      <th>x</th>\n",
       "      <th>y</th>\n",
       "      <th>dy/dx</th>\n",
       "      <th>yt - yt-1</th>\n",
       "    </tr>\n",
       "  </thead>\n",
       "  <tbody>\n",
       "    <tr>\n",
       "      <th>0</th>\n",
       "      <td>0</td>\n",
       "      <td>5</td>\n",
       "      <td>NaN</td>\n",
       "      <td>NaN</td>\n",
       "    </tr>\n",
       "    <tr>\n",
       "      <th>1</th>\n",
       "      <td>1</td>\n",
       "      <td>10</td>\n",
       "      <td>5.0</td>\n",
       "      <td>5.0</td>\n",
       "    </tr>\n",
       "    <tr>\n",
       "      <th>2</th>\n",
       "      <td>2</td>\n",
       "      <td>20</td>\n",
       "      <td>10.0</td>\n",
       "      <td>10.0</td>\n",
       "    </tr>\n",
       "    <tr>\n",
       "      <th>3</th>\n",
       "      <td>3</td>\n",
       "      <td>40</td>\n",
       "      <td>20.0</td>\n",
       "      <td>20.0</td>\n",
       "    </tr>\n",
       "    <tr>\n",
       "      <th>4</th>\n",
       "      <td>4</td>\n",
       "      <td>80</td>\n",
       "      <td>40.0</td>\n",
       "      <td>40.0</td>\n",
       "    </tr>\n",
       "  </tbody>\n",
       "</table>\n",
       "</div>"
      ],
      "text/plain": [
       "   x   y  dy/dx  yt - yt-1\n",
       "0  0   5    NaN        NaN\n",
       "1  1  10    5.0        5.0\n",
       "2  2  20   10.0       10.0\n",
       "3  3  40   20.0       20.0\n",
       "4  4  80   40.0       40.0"
      ]
     },
     "execution_count": 135,
     "metadata": {},
     "output_type": "execute_result"
    }
   ],
   "source": [
    "import pandas\n",
    "df = pandas.DataFrame()\n",
    "df['x'] = range(0,5)\n",
    "df['y'] = 5 * 2 ** df['x']\n",
    "df['dy/dx'] = df[\"y\"].diff() / df[\"x\"].diff()\n",
    "df[\"yt-1\"] = df[\"y\"][:-1]\n",
    "df[\"yt-1\"] = df[\"yt-1\"].shift(1)\n",
    "df[\"yt - yt-1\"] = df[\"y\"] - df[\"yt-1\"]\n",
    "df = df.drop(columns=['yt-1'])\n",
    "df"
   ]
  },
  {
   "cell_type": "markdown",
   "metadata": {},
   "source": [
    "Compare this with linear growth of $$y = 5x$$"
   ]
  },
  {
   "cell_type": "code",
   "execution_count": 136,
   "metadata": {
    "jupyter": {
     "source_hidden": true
    }
   },
   "outputs": [
    {
     "data": {
      "text/html": [
       "<div>\n",
       "<style scoped>\n",
       "    .dataframe tbody tr th:only-of-type {\n",
       "        vertical-align: middle;\n",
       "    }\n",
       "\n",
       "    .dataframe tbody tr th {\n",
       "        vertical-align: top;\n",
       "    }\n",
       "\n",
       "    .dataframe thead th {\n",
       "        text-align: right;\n",
       "    }\n",
       "</style>\n",
       "<table border=\"1\" class=\"dataframe\">\n",
       "  <thead>\n",
       "    <tr style=\"text-align: right;\">\n",
       "      <th></th>\n",
       "      <th>x</th>\n",
       "      <th>y</th>\n",
       "      <th>dy/dx</th>\n",
       "      <th>yt - yt-1</th>\n",
       "    </tr>\n",
       "  </thead>\n",
       "  <tbody>\n",
       "    <tr>\n",
       "      <th>0</th>\n",
       "      <td>0</td>\n",
       "      <td>0</td>\n",
       "      <td>NaN</td>\n",
       "      <td>NaN</td>\n",
       "    </tr>\n",
       "    <tr>\n",
       "      <th>1</th>\n",
       "      <td>1</td>\n",
       "      <td>5</td>\n",
       "      <td>5.0</td>\n",
       "      <td>5.0</td>\n",
       "    </tr>\n",
       "    <tr>\n",
       "      <th>2</th>\n",
       "      <td>2</td>\n",
       "      <td>10</td>\n",
       "      <td>5.0</td>\n",
       "      <td>5.0</td>\n",
       "    </tr>\n",
       "    <tr>\n",
       "      <th>3</th>\n",
       "      <td>3</td>\n",
       "      <td>15</td>\n",
       "      <td>5.0</td>\n",
       "      <td>5.0</td>\n",
       "    </tr>\n",
       "    <tr>\n",
       "      <th>4</th>\n",
       "      <td>4</td>\n",
       "      <td>20</td>\n",
       "      <td>5.0</td>\n",
       "      <td>5.0</td>\n",
       "    </tr>\n",
       "  </tbody>\n",
       "</table>\n",
       "</div>"
      ],
      "text/plain": [
       "   x   y  dy/dx  yt - yt-1\n",
       "0  0   0    NaN        NaN\n",
       "1  1   5    5.0        5.0\n",
       "2  2  10    5.0        5.0\n",
       "3  3  15    5.0        5.0\n",
       "4  4  20    5.0        5.0"
      ]
     },
     "execution_count": 136,
     "metadata": {},
     "output_type": "execute_result"
    }
   ],
   "source": [
    "df = pandas.DataFrame()\n",
    "df['x'] = range(0,5)\n",
    "df['y'] = 5 * df['x']\n",
    "df['dy/dx'] = df[\"y\"].diff() / df[\"x\"].diff()\n",
    "df[\"yt-1\"] = df[\"y\"][:-1]\n",
    "df[\"yt-1\"] = df[\"yt-1\"].shift(1)\n",
    "df[\"yt - yt-1\"] = df[\"y\"] - df[\"yt-1\"]\n",
    "df = df.drop(columns=['yt-1'])\n",
    "df"
   ]
  },
  {
   "cell_type": "markdown",
   "metadata": {},
   "source": [
    "For the linear growth, we see a constant growth rate and proportion, for exponential we see non-constant growth. We also see that the growth is proportional to the previous term."
   ]
  },
  {
   "cell_type": "markdown",
   "metadata": {},
   "source": [
    "### 2.4 Connection between Exponential Functions and Euler's Number e (NEEDS WORK)\n",
    "\n",
    "After studdying the class of exponential functions, methematicians found that there was a \"best\" way to articulate the desired results. All of the comlicated variations of the relationships could be simplified and expressed using euler'snumber e.\n",
    "\n",
    "To understand how this is possible, first consider that it can be shown that $y=9^x$ and $y=3^{2x}$ are equivalanet for all values of x. You can use this [online graphing utility](https://www.desmos.com/calculator) to see for yourself. Similarely we will see that these equations can be rewritten to have a base of $e$.\n",
    "\n",
    "Mathematically it can be proven that any exponential function $b^x$ can be rewritten in terms of $e$ such that\n",
    "\n",
    "$$ b^x = e^{x\\ln(b)} $$\n",
    "\n",
    "\n",
    "Note:\n",
    "\n",
    "$$ e ≈ 2.71828183 $$\n",
    "\n",
    "Because all exponentials can be thought of as the variations of the exponential with base $e$, $e^x$ has been dubbed the \"natural exponential\" in a similar way that the \"natural logarithm\" got its name.\n",
    "\n",
    "https://en.wikipedia.org/wiki/Exponential_function\n",
    "https://mathinsight.org/exponential_function\n"
   ]
  },
  {
   "cell_type": "markdown",
   "metadata": {},
   "source": [
    "### 2.5 The benefits of the natural exponential\n",
    "\n",
    "Using a base $e$ over other possible bases makes things computationaly advantageous. For example, if ou are trying to find the growth rate of the function (taking the derivative) you will have an easier time with $e^x$ because\n",
    "\n",
    "$$ \\frac{d}{dx}ke^x=ke^x $$\n",
    "\n",
    "The connection with the exponential series (discussed in 2.6) is also advantageous when one needs to decompose a function into a series.\n",
    "\n",
    "$$ e^x =  \\lim_{n \\rightarrow \\infty} \\left(1 + \\frac{x}{n} \\right) ^ {n} $$"
   ]
  },
  {
   "cell_type": "markdown",
   "metadata": {},
   "source": [
    "### 2.6 Connection with Compound interest\n",
    "\n",
    "#### TL;DR;\n",
    "\n",
    "If we assume interest is being continuously compounded with a rate $x$, the growth rate formula approaches the form $e^x $ as the number of compounding periods approaches infinity. So we realize that compound interest has an exponential growth rate and can be modled with the **natural exponential**\n",
    "\n",
    "####  Long Version:\n",
    "\n",
    "Recall that interest is accrued in periods. Compound interest is different than simple interest in that interest is acrued on previously accrued interest during a period.\n",
    "\n",
    "$$ simple \\ interest = principal * interest \\ rate * numer \\ of \\ periods $$\n",
    "\n",
    "$$ compound \\ interest = principal \\left(1 + \\frac{interest \\ rate}{compounds \\ per \\ period} \\right) ^ {compounds \\ per \\ period \\  * \\ numer \\ of \\ periods} $$\n",
    "\n",
    "We can transform this equation by removing the principal. Doing so,  we can see that a growth rate is specified\n",
    "\n",
    "$$ growth = \\left(1 + \\frac{interest \\ rate}{compounds \\ per \\ period} \\right) ^ {compounds \\ per \\ period \\  * \\ numer \\ of \\ periods} $$\n",
    "\n",
    "\n",
    "As the number of compounding periods approaches infinity, the number of periods becomes inconsequential. This is called continous compounding.\n",
    "\n",
    "$$ \\lim_{compounds \\ per \\ period \\rightarrow \\infty} \\left(1 + \\frac{interest \\ rate}{compounds \\ per \\ period} \\right) ^ {compounds \\ per \\ period \\  * \\ numer \\ of \\ periods} $$ \n",
    "\n",
    "$$ = \\lim_{compounds \\ per \\ period \\rightarrow \\infty} \\left(1 + \\frac{interest \\ rate}{compounds \\ per \\ period} \\right) ^ {compounds \\ per \\ period} $$\n",
    "\n",
    "Simplifying the notation we have:\n",
    "\n",
    "$$ = \\lim_{n \\rightarrow \\infty} \\left(1 + \\frac{r}{n} \\right) ^ {n} $$\n",
    "\n",
    "$$  = e^r $$\n",
    "\n",
    "This is the **natural exponential** discussed earlier. It is an exponential function.\n",
    "\n",
    "\n",
    "https://en.wikipedia.org/wiki/E_(mathematical_constant)\n",
    "\n",
    "https://en.wikipedia.org/wiki/List_of_representations_of_e"
   ]
  },
  {
   "cell_type": "markdown",
   "metadata": {},
   "source": [
    "### 2.7 Connection with logarithms\n",
    "Logarithms are a useful tool for manipulating exponential functions.\n",
    "\n",
    "#### The logarithm\n",
    "\n",
    "Given an exponential function $ y=k^x $ we can find the value of the exponent using a logarithm. A logarithm is defined as \n",
    "\n",
    "$$ x = log_b(y) $$\n",
    "\n",
    "And this extends to the **natural exponential**\n",
    "\n",
    "#### The Natural logarithm\n",
    "\n",
    "The **natural logarithm** is such that the base is equal to $e$.\n",
    "\n",
    "$ y=e^x $ would be solved as $x = log_e(y) $. When we are dealing with base of e, we use a special notation for the logarithm \n",
    "\n",
    "$$x = \\ln(y)$$.\n",
    "\n",
    "And we have a useful property\n",
    "\n",
    "$$ ln(e^x) = x $$"
   ]
  },
  {
   "cell_type": "markdown",
   "metadata": {},
   "source": [
    "## 4. Exponential Weighted Moving Average\n",
    "\n",
    "As the name suggests, the exponential weighted moving average is a weighted moving average where the weights decay exponentially. This means that the importance of values is relative to their relative location to the point on the boundary\n",
    "\n",
    "The documentation for the mathematical equation can be found [here](https://pandas.pydata.org/pandas-docs/stable/user_guide/computation.html#stats-moments-exponentially-weightedhttps://pandas.pydata.org/pandas-docs/stable/user_guide/computation.html#stats-moments-exponentially-weighted) [here](https://www.value-at-risk.net/exponentially-weighted-moving-average-ewma/)"
   ]
  },
  {
   "cell_type": "markdown",
   "metadata": {},
   "source": [
    "#### 4.1 EWMA Equations\n",
    "\n",
    "##### 4.1.1 General Formula\n",
    "\n",
    "The general formula for Weighted Moving Averages is\n",
    "\n",
    "$$ y_t = \\sum_{i=0}^{t} w_ix_{t-i} $$\n",
    "\n",
    "In some cases, the weights can be normed such that their sum is equal to one. This is the way that pandas is calculating the average (more on this later). This should not matter so much as $T$ becomes large. \n",
    "\n",
    "https://quant.stackexchange.com/questions/46194/half-life-of-exponetial-weighted-moving-average\n",
    "\n",
    "$$ y_t = \\frac{\\sum_{i=0}^{t} w_ix_{t-i}}{\\sum_{i=0}^{t} w_i} $$\n",
    "\n",
    "We define our weights as\n",
    "\n",
    "$$ w_i = (1 - \\alpha)^i $$\n",
    "\n",
    "An our general formula for the EWMA is:\n",
    "\n",
    "$$ y_t = \\frac{\\sum_{i=0}^{t} (1 - \\alpha)^i x_{t-i}}{\\sum_{i=0}^{t} (1 - \\alpha)^i} $$\n",
    "\n",
    "##### 4.1.2 Recursive formula for infinite series\n",
    "\n",
    "If you assume an infinite series, the equation can be simplified into a recursive form that is often sited\n",
    "\n",
    "$$ y_t = \\frac{x_t + (1-a)x_{t-1} + (1-a)^2x_{t-2} + ...}{1 + (1-a) + (1-a)^2 + ...} $$\n",
    "\n",
    "We can simplify this equation further. If we look at the denominator we have a geometric series. The geometric series is proportional where $p=(1-a)$ and convergent such that:\n",
    "\n",
    "$$ \\lim_{x \\rightarrow \\infty} \\sum (1-a)^n = \\frac{1}{1-(1-a)} = \\frac{1}{a} $$\n",
    "\n",
    "\n"
   ]
  },
  {
   "cell_type": "markdown",
   "metadata": {},
   "source": [
    "So our equation becomes\n",
    "\n",
    "$$ y_t = a \\left[x_t + (1-a)x_{t-1} + (1-a)^2x_{t-2} + ...+ (1-a)^n x_{t-n} \\right] $$\n",
    "\n",
    "$$  = ax_t + a\\left[(1-a)x_{t-1} + (1-a)^2x_{t-2} + ...+ (1-a)^n x_{t-n} \\right] $$\n",
    "\n",
    "$$  = ax_t + (1-a)a\\left[x_{t-1} + (1-a)^2x_{t-2} + ...+ (1-a)^n x_{t-n} \\right] $$\n",
    "\n",
    "An finally, we recognize a recursive pattern\n",
    "\n",
    "$$  y_t= ax_t + (1-a) y_{t-1} $$\n",
    "\n",
    "It is common to define the EWMA using this formula but we are dealing with a finite series this equation will not work. This formula does not yield the same results as a finite series. Do not try to program/compute the EWMA in this way. Use the original general formula (non recursive)."
   ]
  },
  {
   "cell_type": "markdown",
   "metadata": {},
   "source": [
    "### 4.2 Effects of alpha\n",
    "\n",
    "Recall the the weights of our weighted moving average are defined as \n",
    "\n",
    "$$ w_i = (1 - \\alpha)^i $$\n",
    "\n",
    "We can see that the larger alpha becomes, the more pronounced the decay becomes.\n",
    "\n",
    "<img src=\"exponential_weighted_decay.png\" width=\"1000\" height=\"1000\"/>"
   ]
  },
  {
   "cell_type": "markdown",
   "metadata": {},
   "source": [
    "The smooth nature of the decay has a nice ability to remove noise from trends (more on that later)."
   ]
  },
  {
   "cell_type": "markdown",
   "metadata": {},
   "source": [
    "### 4.2 Calculating EWMA with Pandas\n",
    "\n",
    "The pandas Series object has a built in mechanism for calculating the EWMA which we will see in 4.2.4.\n",
    "\n",
    "The source code can be found on [github](https://github.com/pandas-dev/pandas/blob/master/pandas/core/window/ewm.pyhttps://github.com/pandas-dev/pandas/blob/master/pandas/core/window/ewm.py)\n",
    "The pandas library has a built in mechanism for calculating the EWMA.\n",
    "\n",
    "The source code can be found on [github](https://github.com/pandas-dev/pandas/blob/master/pandas/core/window/ewm.pyhttps://github.com/pandas-dev/pandas/blob/master/pandas/core/window/ewm.py)\n",
    "\n",
    "\n",
    "There are two methods of computation: Adjusted and non-adjusted. These methods arise from the fact that we are trying to apply an exponential function which is continuous to a finite series which is discussed on this [github issues](https://github.com/pandas-dev/pandas/issues/8861). [pandas docs](https://pandas.pydata.org/pandas-docs/stable/user_guide/computation.html#stats-moments-exponentially-weighted)\n",
    "\n",
    "In a nutshell we have two ways to answer the question \"what weight do we apply to that last term\". The Adjusted calculation applies a weight the term, the Non-Adjusted assumes that the term represents the exponentially weighted sum of the series up until that point and thus no weight need be applied."
   ]
  },
  {
   "cell_type": "markdown",
   "metadata": {},
   "source": [
    "##### 4.1.1 Adjusted Computation (the default)\n",
    "\n",
    "The default implimenation will use the general formula to calculate the EWMA.\n",
    "\n",
    "$$ y_t = \\frac{\\sum_{i=0}^{t} (1 - \\alpha)^i x_{t-i}}{\\sum_{i=0}^{t} (1 - \\alpha)^i} $$"
   ]
  },
  {
   "cell_type": "markdown",
   "metadata": {},
   "source": [
    "##### 4.1.2 Non-Adjusted Computation\n",
    "\n",
    "This method applies the recursive following:\n",
    "\n",
    "$$ y_t = \n",
    "\\begin{cases} \n",
    "x_0 & \\mbox{if } t = 0 \\\\\n",
    "ax_t + (1-a) y_{t-1} & otherwise \n",
    "\\end{cases} $$\n",
    "\n",
    "Notice $x_0$ is not weighted. It is assumed to be the exponential sum of the terms occurring up until that point.\n",
    "\n",
    "Note: This formula does not yield the same results as a finite series. Do not try to program/compute the EWMA in this way. Use the original general formula (non recursive)."
   ]
  },
  {
   "cell_type": "markdown",
   "metadata": {},
   "source": [
    "##### 4.1.3 Specifying Alpha\n",
    "There are four methods for specifying alpha (the growth/decay factor). The documentation is found [here](https://pandas.pydata.org/pandas-docs/stable/user_guide/computation.html#stats-moments-exponentially-weighted).\n",
    "\n",
    "The simplest method is to specify alpha directly. Asside from that method, we have the following methods:\n",
    "\n",
    "###### 4.1.3.1 Span\n",
    "\n",
    "$$ \\alpha = \\frac{2}{span + 1} $$\n",
    "\n",
    "This parameter coresponds towhat is commonly referred to as an “N-day EW moving average”.\n",
    "\n",
    "###### 4.1.3.1 Center of Mass\n",
    "\n",
    "$$ \\alpha = \\frac{1}{1 + com} $$\n",
    "\n",
    "###### 4.1.3.1 Half-life\n",
    "\n",
    "$$ \\alpha = 1-e^\\frac{log(0.5}{halflife} $$\n",
    "\n",
    "Halflife is the period of time for the exponential weight to reduce to one half."
   ]
  },
  {
   "cell_type": "markdown",
   "metadata": {},
   "source": [
    "#### 4.2.4 Using the built in method\n",
    "The pandas Series object has a built in method to calculate the EWMA for the whole column."
   ]
  },
  {
   "cell_type": "code",
   "execution_count": 141,
   "metadata": {},
   "outputs": [
    {
     "data": {
      "text/plain": [
       "0    1.000000\n",
       "1    1.666667\n",
       "2    2.428571\n",
       "3    3.266667\n",
       "4    4.161290\n",
       "5    5.095238\n",
       "6    6.055118\n",
       "7    7.031373\n",
       "8    8.017613\n",
       "9    9.009775\n",
       "dtype: float64"
      ]
     },
     "execution_count": 141,
     "metadata": {},
     "output_type": "execute_result"
    }
   ],
   "source": [
    "s = pandas.Series([1,2,3,4,5,6,7,8,9,10])\n",
    "s.ewm(alpha=.5).mean()"
   ]
  },
  {
   "cell_type": "markdown",
   "metadata": {},
   "source": [
    "Here, each value represents the EWMA at that point, based on all the previous data. We can get a particular value by indexing the column."
   ]
  },
  {
   "cell_type": "code",
   "execution_count": 143,
   "metadata": {},
   "outputs": [
    {
     "data": {
      "text/plain": [
       "9.009775171065494"
      ]
     },
     "execution_count": 143,
     "metadata": {},
     "output_type": "execute_result"
    }
   ],
   "source": [
    "s.ewm(alpha=.5).mean().iloc[-1]"
   ]
  },
  {
   "cell_type": "markdown",
   "metadata": {},
   "source": [
    "### 4.3 EWMA vs. Simple Moving Average\n",
    "In this section we can examine the difference between the effects of a EWMA and a SMA"
   ]
  },
  {
   "cell_type": "code",
   "execution_count": 225,
   "metadata": {},
   "outputs": [
    {
     "data": {
      "text/plain": [
       "Text(0.5, 1.0, 'Trend (blue), SMA (green), EWMA a=0.2 (red), EWMA a=0.9 (purple)')"
      ]
     },
     "execution_count": 225,
     "metadata": {},
     "output_type": "execute_result"
    },
    {
     "data": {
      "image/png": "[encoded data removed]",
      "text/plain": [
       "<Figure size 1440x432 with 1 Axes>"
      ]
     },
     "metadata": {
      "needs_background": "light"
     },
     "output_type": "display_data"
    }
   ],
   "source": [
    "from numpy.random import Generator, PCG64\n",
    "import matplotlib.pyplot as pyplot\n",
    "\n",
    "# Generate a random trend\n",
    "df = pandas.DataFrame({\n",
    "    'x': pandas.Series(list(range(0, 50))),\n",
    "})\n",
    "df['y'] = df['x'] + 3\n",
    "df['y'] = df['y'].apply(lambda x: x + int(rg.standard_normal() * 10))\n",
    "\n",
    "# Calculate 10 day aveverages\n",
    "window = 10\n",
    "df['sma'] = df['y'].rolling(window).mean()\n",
    "df['ewma-0.2'] = df['y'].rolling(window).apply(lambda x: x.ewm(alpha=0.2).mean().iloc[-1])\n",
    "df['ewma-0.9'] = df['y'].rolling(window).apply(lambda x: x.ewm(alpha=0.9).mean().iloc[-1])\n",
    "\n",
    "# Plot the data\n",
    "figure, axis = pyplot.subplots(nrows=1,ncols=1,figsize=(20, 6))\n",
    "axis.scatter(df[\"x\"], df[\"y\"], color=\"blue\")\n",
    "axis.plot(df[\"x\"], df[\"sma\"], color=\"green\")\n",
    "axis.plot(df[\"x\"], df['ewma-0.2'], color=\"red\")\n",
    "axis.plot(df[\"x\"], df['ewma-0.9'], color=\"purple\")\n",
    "axis.set_title('Trend (blue), SMA (green), EWMA a=0.2 (red), EWMA a=0.9 (purple)')"
   ]
  },
  {
   "cell_type": "markdown",
   "metadata": {},
   "source": [
    "We can see that the $\\alpha$ value being supplied to the EWMA is effectively the smoothing factor. The closer to zero, the smoother the line becomes. This is because a smaller $alpha$ means that the weight of the terms $y_{t-i}$ will be closer to one meaning that the term has more influence. We see the purple line, with a higher alpha, has a lower weights being assigned to $y_{t-i}$, so it more closely tracks the actual data.\n",
    "\n",
    "We also see that the SMA is \"delayed\" behind the real trend. The bends in the SMA occur after the bends of the original data."
   ]
  },
  {
   "cell_type": "code",
   "execution_count": null,
   "metadata": {},
   "outputs": [],
   "source": []
  },
  {
   "cell_type": "code",
   "execution_count": null,
   "metadata": {},
   "outputs": [],
   "source": []
  },
  {
   "cell_type": "code",
   "execution_count": null,
   "metadata": {},
   "outputs": [],
   "source": []
  },
  {
   "cell_type": "markdown",
   "metadata": {},
   "source": [
    "#### what does it look like to have a linear series combine with the exponential?"
   ]
  },
  {
   "cell_type": "code",
   "execution_count": null,
   "metadata": {},
   "outputs": [],
   "source": []
  },
  {
   "cell_type": "code",
   "execution_count": null,
   "metadata": {},
   "outputs": [],
   "source": []
  },
  {
   "cell_type": "code",
   "execution_count": null,
   "metadata": {},
   "outputs": [],
   "source": []
  },
  {
   "cell_type": "code",
   "execution_count": null,
   "metadata": {},
   "outputs": [],
   "source": []
  },
  {
   "cell_type": "code",
   "execution_count": null,
   "metadata": {},
   "outputs": [],
   "source": []
  },
  {
   "cell_type": "code",
   "execution_count": null,
   "metadata": {},
   "outputs": [],
   "source": []
  },
  {
   "cell_type": "code",
   "execution_count": null,
   "metadata": {},
   "outputs": [],
   "source": []
  },
  {
   "cell_type": "code",
   "execution_count": null,
   "metadata": {},
   "outputs": [],
   "source": []
  },
  {
   "cell_type": "code",
   "execution_count": null,
   "metadata": {},
   "outputs": [],
   "source": []
  },
  {
   "cell_type": "markdown",
   "metadata": {},
   "source": [
    "# Appendix"
   ]
  },
  {
   "cell_type": "markdown",
   "metadata": {},
   "source": [
    "## Exponential Constant of proportionality proof\n",
    "The constant of proportionality is something we have seen when discussing proportionality. We saw that proportion can be a constant sudh that:\n",
    "\n",
    "$$ p = \\frac{x}{y} $$\n",
    "\n",
    "The proportionality between two functions might also be non constant such that:\n",
    "\n",
    "$$ p(x,y) = \\frac{x}{y} $$\n",
    "\n",
    "The constant of proportionality my be an exponential function where the proportion increases at an exponential rate.\n",
    "\n",
    "$$ p = \\frac{d}{dx}k^x = k^x \\ln(k)$$\n",
    "\n",
    "**Proof:**\n",
    "\n",
    "Using the fundamental theory of calculus we know:\n",
    "$$ \\frac{d}{dx}f(x) = \\lim_{\\Delta x \\to 0} \\frac{f(x+ \\Delta x) - f(x)}{\\Delta x}$$\n",
    "\n",
    "Assume that $\\Delta x$ is equal to h, our equation befomes:\n",
    "\n",
    "$$ \\frac{d}{dx}f(x) = \\lim_{h \\to 0} \\frac{f(x+ h) - f(x)}{h}$$\n",
    "\n",
    "Assume that $f(x)$ is an exponential function such that $f(x)=k^x$. If we have $(x+h)$ we have $k^{x+h}$. So our equation becomes:\n",
    "\n",
    "$$ \\frac{d}{dx}f(x) = \\lim_{h \\to 0} \\frac{k^{x+h} - k^x}{h}$$\n",
    "\n",
    "We can use some laws of exponents to expand our equation\n",
    "\n",
    "$$  = \\lim_{h \\to 0} \\frac{k^xk^h - k^x}{h}$$\n",
    "\n",
    "$$  = \\lim_{h \\to 0} \\frac{k^x(k^h - 1)}{h}$$\n",
    "\n",
    "$$  = \\lim_{h \\to 0} k^x \\frac{k^h - 1}{h}$$\n",
    "\n",
    "Using the product rule of exponents\n",
    "\n",
    "$$  = \\lim_{h \\to 0} k^x * \\lim_{h \\to 0} \\frac{k^h - 1}{h}$$\n",
    "\n",
    "Simplify the limit which does not depend on h\n",
    "\n",
    "$$  = k^x * \\lim_{h \\to 0} \\frac{k^h - 1}{h}$$\n",
    "\n",
    "Now solve the limit of the exponential function [proof here](https://www.mathdoubts.com/lim-a-power-x-1-by-x-as-x-approaches-0-proof/)\n",
    "\n",
    "$$  = k^x \\ln(k)$$\n",
    "\n",
    "\n",
    "https://www.mathdoubts.com/derivative-of-exponential-function-proof/\n"
   ]
  },
  {
   "cell_type": "code",
   "execution_count": null,
   "metadata": {},
   "outputs": [],
   "source": []
  }
 ],
 "metadata": {
  "kernelspec": {
   "display_name": "Python 3",
   "language": "python",
   "name": "python3"
  },
  "language_info": {
   "codemirror_mode": {
    "name": "ipython",
    "version": 3
   },
   "file_extension": ".py",
   "mimetype": "text/x-python",
   "name": "python",
   "nbconvert_exporter": "python",
   "pygments_lexer": "ipython3",
   "version": "3.8.0"
  }
 },
 "nbformat": 4,
 "nbformat_minor": 4
}
