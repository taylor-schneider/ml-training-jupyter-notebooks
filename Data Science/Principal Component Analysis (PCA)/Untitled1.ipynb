{
 "cells": [
  {
   "cell_type": "code",
   "execution_count": 1,
   "id": "69aefcc0-df45-4f1f-b1a7-f11337771eca",
   "metadata": {},
   "outputs": [],
   "source": [
    "import numpy\n",
    "import pandas"
   ]
  },
  {
   "cell_type": "code",
   "execution_count": 25,
   "id": "f8ee44ff-dc4b-4356-a4b3-51a367b3eed4",
   "metadata": {},
   "outputs": [
    {
     "data": {
      "text/plain": [
       "array([[1, 4, 7],\n",
       "       [4, 2, 8],\n",
       "       [7, 9, 9]])"
      ]
     },
     "execution_count": 25,
     "metadata": {},
     "output_type": "execute_result"
    }
   ],
   "source": [
    "X = numpy.array([[1, 4, 7],\n",
    "                 [4, 2, 8],\n",
    "                 [7, 9, 9]])\n",
    "X"
   ]
  },
  {
   "cell_type": "code",
   "execution_count": 26,
   "id": "c1ab4dcb-14b7-4f92-b55f-391c3eacee07",
   "metadata": {},
   "outputs": [
    {
     "data": {
      "text/plain": [
       "[4.0, 5.0, 8.0]"
      ]
     },
     "execution_count": 26,
     "metadata": {},
     "output_type": "execute_result"
    }
   ],
   "source": [
    "x_bar = [X[:, 0].mean(), X[:, 1].mean(), X[:, 2].mean()]\n",
    "x_bar"
   ]
  },
  {
   "cell_type": "code",
   "execution_count": 27,
   "id": "b586d699-3ff4-4aa1-8589-8a5cd5c436fc",
   "metadata": {},
   "outputs": [
    {
     "data": {
      "text/plain": [
       "array([[-3., -1., -1.],\n",
       "       [ 0., -3.,  0.],\n",
       "       [ 3.,  4.,  1.]])"
      ]
     },
     "execution_count": 27,
     "metadata": {},
     "output_type": "execute_result"
    }
   ],
   "source": [
    "diff = X - x_bar\n",
    "diff"
   ]
  },
  {
   "cell_type": "code",
   "execution_count": 28,
   "id": "af6d50e6-e370-4cdd-9cc4-0a4ea56690f2",
   "metadata": {},
   "outputs": [
    {
     "data": {
      "text/plain": [
       "array([[ 3.        , -0.        , -1.        ],\n",
       "       [-0.        ,  3.        ,  0.        ],\n",
       "       [-1.        ,  0.        ,  0.33333333]])"
      ]
     },
     "execution_count": 28,
     "metadata": {},
     "output_type": "execute_result"
    }
   ],
   "source": [
    "cov_mat = (1/3) * diff * diff.T\n",
    "cov_mat"
   ]
  },
  {
   "cell_type": "code",
   "execution_count": null,
   "id": "b872f856-040e-4707-bf16-6711b18c20b8",
   "metadata": {},
   "outputs": [],
   "source": []
  },
  {
   "cell_type": "code",
   "execution_count": 29,
   "id": "c480e286-7582-4983-90d4-072a4ab725dd",
   "metadata": {},
   "outputs": [],
   "source": [
    "from matplotlib import pyplot"
   ]
  },
  {
   "cell_type": "code",
   "execution_count": null,
   "id": "1a1492ba-9b0b-4cfc-a7e9-0b578220f014",
   "metadata": {},
   "outputs": [],
   "source": []
  },
  {
   "cell_type": "code",
   "execution_count": null,
   "id": "1a3db832-919c-4fc5-9862-e7a043ef6ffb",
   "metadata": {},
   "outputs": [],
   "source": []
  },
  {
   "cell_type": "code",
   "execution_count": 34,
   "id": "fc7747f1-496d-4878-8737-4024ec874b21",
   "metadata": {},
   "outputs": [
    {
     "data": {
      "text/plain": [
       "array([[ 3., -0., -7.],\n",
       "       [-0.,  6.,  0.],\n",
       "       [-7.,  0.,  3.]])"
      ]
     },
     "execution_count": 34,
     "metadata": {},
     "output_type": "execute_result"
    }
   ],
   "source": [
    "new = X * cov_mat\n",
    "new"
   ]
  },
  {
   "cell_type": "code",
   "execution_count": 37,
   "id": "4a8c68a8-ba99-43f8-a9bd-c95828583cd1",
   "metadata": {},
   "outputs": [
    {
     "data": {
      "image/png": "[encoded data removed]",
      "text/plain": [
       "<Figure size 432x288 with 1 Axes>"
      ]
     },
     "metadata": {
      "needs_background": "light"
     },
     "output_type": "display_data"
    }
   ],
   "source": []
  },
  {
   "cell_type": "code",
   "execution_count": null,
   "id": "789a3498-2856-4de5-8bf9-cfa60e31f193",
   "metadata": {},
   "outputs": [],
   "source": []
  },
  {
   "cell_type": "code",
   "execution_count": null,
   "id": "0e7f4cc3-9063-4c88-b786-52ace828fe7b",
   "metadata": {},
   "outputs": [],
   "source": []
  },
  {
   "cell_type": "code",
   "execution_count": null,
   "id": "faf808ba-3c1b-4cd8-bdba-aca45a42f91d",
   "metadata": {},
   "outputs": [],
   "source": []
  }
 ],
 "metadata": {
  "kernelspec": {
   "display_name": "Python 3",
   "language": "python",
   "name": "python3"
  },
  "language_info": {
   "codemirror_mode": {
    "name": "ipython",
    "version": 3
   },
   "file_extension": ".py",
   "mimetype": "text/x-python",
   "name": "python",
   "nbconvert_exporter": "python",
   "pygments_lexer": "ipython3",
   "version": "3.6.8"
  }
 },
 "nbformat": 4,
 "nbformat_minor": 5
}
