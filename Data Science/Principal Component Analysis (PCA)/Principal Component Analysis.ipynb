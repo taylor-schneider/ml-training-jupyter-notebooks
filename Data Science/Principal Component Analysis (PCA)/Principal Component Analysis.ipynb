{
 "cells": [
  {
   "cell_type": "markdown",
   "metadata": {},
   "source": [
    "# Overview\n",
    "In this notebook we explore the concept of Principal Component Analysis. This technique is a powerful tool which is typically used for dimentionality reduction. PCA will try to measure the importance of a feature by measuring the variance that the variable introduces into the system. We then minimize the number of factors selected while maximizing the amount of variance preserved by the selected factors.\n",
    "\n",
    "Before reading this notebook ensure you are familiar with the material in the [README.md](README.md)"
   ]
  },
  {
   "cell_type": "markdown",
   "metadata": {},
   "source": [
    "# Step 1. Load our data"
   ]
  },
  {
   "cell_type": "code",
   "execution_count": 2,
   "metadata": {
    "tags": []
   },
   "outputs": [],
   "source": [
    "# Load our libraires\n",
    "import pandas\n",
    "import numpy"
   ]
  },
  {
   "cell_type": "code",
   "execution_count": 3,
   "metadata": {
    "tags": []
   },
   "outputs": [
    {
     "data": {
      "text/html": [
       "<div>\n",
       "<style scoped>\n",
       "    .dataframe tbody tr th:only-of-type {\n",
       "        vertical-align: middle;\n",
       "    }\n",
       "\n",
       "    .dataframe tbody tr th {\n",
       "        vertical-align: top;\n",
       "    }\n",
       "\n",
       "    .dataframe thead th {\n",
       "        text-align: right;\n",
       "    }\n",
       "</style>\n",
       "<table border=\"1\" class=\"dataframe\">\n",
       "  <thead>\n",
       "    <tr style=\"text-align: right;\">\n",
       "      <th></th>\n",
       "      <th>ACT</th>\n",
       "      <th>FinalExam</th>\n",
       "      <th>QuizAvg</th>\n",
       "      <th>TestAvg</th>\n",
       "    </tr>\n",
       "  </thead>\n",
       "  <tbody>\n",
       "    <tr>\n",
       "      <th>0</th>\n",
       "      <td>33</td>\n",
       "      <td>181</td>\n",
       "      <td>95</td>\n",
       "      <td>89</td>\n",
       "    </tr>\n",
       "    <tr>\n",
       "      <th>1</th>\n",
       "      <td>31</td>\n",
       "      <td>169</td>\n",
       "      <td>81</td>\n",
       "      <td>89</td>\n",
       "    </tr>\n",
       "    <tr>\n",
       "      <th>2</th>\n",
       "      <td>21</td>\n",
       "      <td>176</td>\n",
       "      <td>65</td>\n",
       "      <td>68</td>\n",
       "    </tr>\n",
       "    <tr>\n",
       "      <th>3</th>\n",
       "      <td>25</td>\n",
       "      <td>181</td>\n",
       "      <td>66</td>\n",
       "      <td>90</td>\n",
       "    </tr>\n",
       "    <tr>\n",
       "      <th>4</th>\n",
       "      <td>29</td>\n",
       "      <td>169</td>\n",
       "      <td>89</td>\n",
       "      <td>81</td>\n",
       "    </tr>\n",
       "    <tr>\n",
       "      <th>5</th>\n",
       "      <td>24</td>\n",
       "      <td>103</td>\n",
       "      <td>61</td>\n",
       "      <td>57</td>\n",
       "    </tr>\n",
       "    <tr>\n",
       "      <th>6</th>\n",
       "      <td>25</td>\n",
       "      <td>150</td>\n",
       "      <td>81</td>\n",
       "      <td>76</td>\n",
       "    </tr>\n",
       "    <tr>\n",
       "      <th>7</th>\n",
       "      <td>29</td>\n",
       "      <td>147</td>\n",
       "      <td>86</td>\n",
       "      <td>76</td>\n",
       "    </tr>\n",
       "    <tr>\n",
       "      <th>8</th>\n",
       "      <td>36</td>\n",
       "      <td>181</td>\n",
       "      <td>98</td>\n",
       "      <td>102</td>\n",
       "    </tr>\n",
       "    <tr>\n",
       "      <th>9</th>\n",
       "      <td>26</td>\n",
       "      <td>163</td>\n",
       "      <td>72</td>\n",
       "      <td>70</td>\n",
       "    </tr>\n",
       "    <tr>\n",
       "      <th>10</th>\n",
       "      <td>31</td>\n",
       "      <td>163</td>\n",
       "      <td>95</td>\n",
       "      <td>81</td>\n",
       "    </tr>\n",
       "    <tr>\n",
       "      <th>11</th>\n",
       "      <td>29</td>\n",
       "      <td>147</td>\n",
       "      <td>65</td>\n",
       "      <td>67</td>\n",
       "    </tr>\n",
       "    <tr>\n",
       "      <th>12</th>\n",
       "      <td>23</td>\n",
       "      <td>160</td>\n",
       "      <td>62</td>\n",
       "      <td>68</td>\n",
       "    </tr>\n",
       "    <tr>\n",
       "      <th>13</th>\n",
       "      <td>26</td>\n",
       "      <td>100</td>\n",
       "      <td>63</td>\n",
       "      <td>56</td>\n",
       "    </tr>\n",
       "  </tbody>\n",
       "</table>\n",
       "</div>"
      ],
      "text/plain": [
       "    ACT  FinalExam  QuizAvg  TestAvg\n",
       "0    33        181       95       89\n",
       "1    31        169       81       89\n",
       "2    21        176       65       68\n",
       "3    25        181       66       90\n",
       "4    29        169       89       81\n",
       "5    24        103       61       57\n",
       "6    25        150       81       76\n",
       "7    29        147       86       76\n",
       "8    36        181       98      102\n",
       "9    26        163       72       70\n",
       "10   31        163       95       81\n",
       "11   29        147       65       67\n",
       "12   23        160       62       68\n",
       "13   26        100       63       56"
      ]
     },
     "execution_count": 3,
     "metadata": {},
     "output_type": "execute_result"
    }
   ],
   "source": [
    "# Load our sample data\n",
    "import os\n",
    "import pyprojroot\n",
    "project_root_dir = pyprojroot.here()\n",
    "input_file_path = os.path.join(project_root_dir, \"Example Data Sets\", \"Test Scores.csv\")\n",
    "delimiter = \",\"\n",
    "df = pandas.read_csv(input_file_path, delimiter=delimiter)\n",
    "df"
   ]
  },
  {
   "cell_type": "markdown",
   "metadata": {},
   "source": [
    "# Step 2. Decompose Eigenvalues and Eigenvectors"
   ]
  },
  {
   "cell_type": "markdown",
   "metadata": {},
   "source": [
    "This step is the heart of PCA. In short, the eigenvalues/eigenvector decomposition provides us a a way of eliminating features which provide duplicate data.\n",
    "\n",
    "Mathematically eigenvalues and eivenvectors allows us to selectively reduce the number of dimensions in our problem while minimizing (and thus quantifying) information loss. The information being considered in the case of PCA is that of the correlation matrix. Thus any redundancy is that of correlation. By reducing the dimensionality we are reducing the overall covariance explained by our feature set."
   ]
  },
  {
   "cell_type": "markdown",
   "metadata": {},
   "source": [
    "## 2.2. Using Scikit-learn To Calculate Eigenvalues\n",
    "\n",
    "The python library scikit-learn provides an object named PCA which preforms the principal component analysis. The official documentation can be found [here](https://scikit-learn.org/stable/modules/generated/sklearn.decomposition.PCA.html)\n",
    "\n",
    "It uses the LAPACK implementation of the full SVD or a randomized truncated SVD by the method of Halko et al. 2009, depending on the shape of the input data and the number of components to extract.\n",
    "\n",
    "**Note**: The data must be normalized before being passed to the PCA object in order to get the correct values."
   ]
  },
  {
   "cell_type": "code",
   "execution_count": 41,
   "metadata": {},
   "outputs": [
    {
     "name": "stdout",
     "output_type": "stream",
     "text": [
      "[2.97886743 0.76294635 0.17495639 0.08322983]\n",
      "\n",
      "[[ 0.48865719  0.43504178  0.52153824  0.54767752]\n",
      " [-0.54890184  0.73529711 -0.33072051  0.22061023]\n",
      " [ 0.47319583 -0.11632092 -0.7729759   0.40627996]\n",
      " [ 0.48580512  0.50650396 -0.14536185 -0.69736436]]\n",
      "\n"
     ]
    }
   ],
   "source": [
    "normalized_df = ((df - df.mean())/df.std())\n",
    "\n",
    "from sklearn.decomposition import PCA\n",
    "pca = PCA()\n",
    "pca.fit(normalized_df)\n",
    "eigenvalues = pca.explained_variance_\n",
    "eigenvectors = pca.components_\n",
    "\n",
    "print(eigenvalues)\n",
    "print(\"\")\n",
    "print(eigenvectors)\n",
    "print(\"\")"
   ]
  },
  {
   "cell_type": "markdown",
   "metadata": {},
   "source": [
    "## 2.2. Using Numpy To Calculate Eigenvalues\n",
    "\n",
    "We can use a [builtin numpy function](https://docs.scipy.org/doc/numpy/reference/generated/numpy.linalg.eig.html) to do the eigen-decomposition. Note we can decompose either the covariance matrix or the correlation matrix."
   ]
  },
  {
   "cell_type": "markdown",
   "metadata": {},
   "source": [
    "### 2.2.1. Calculate Eigenvalues using Correlation Matrix"
   ]
  },
  {
   "cell_type": "code",
   "execution_count": 21,
   "metadata": {},
   "outputs": [
    {
     "data": {
      "text/html": [
       "<div>\n",
       "<style scoped>\n",
       "    .dataframe tbody tr th:only-of-type {\n",
       "        vertical-align: middle;\n",
       "    }\n",
       "\n",
       "    .dataframe tbody tr th {\n",
       "        vertical-align: top;\n",
       "    }\n",
       "\n",
       "    .dataframe thead th {\n",
       "        text-align: right;\n",
       "    }\n",
       "</style>\n",
       "<table border=\"1\" class=\"dataframe\">\n",
       "  <thead>\n",
       "    <tr style=\"text-align: right;\">\n",
       "      <th></th>\n",
       "      <th>eigenvalue</th>\n",
       "    </tr>\n",
       "  </thead>\n",
       "  <tbody>\n",
       "    <tr>\n",
       "      <th>ACT</th>\n",
       "      <td>2.978867</td>\n",
       "    </tr>\n",
       "    <tr>\n",
       "      <th>FinalExam</th>\n",
       "      <td>0.762946</td>\n",
       "    </tr>\n",
       "    <tr>\n",
       "      <th>QuizAvg</th>\n",
       "      <td>0.083230</td>\n",
       "    </tr>\n",
       "    <tr>\n",
       "      <th>TestAvg</th>\n",
       "      <td>0.174956</td>\n",
       "    </tr>\n",
       "  </tbody>\n",
       "</table>\n",
       "</div>"
      ],
      "text/plain": [
       "           eigenvalue\n",
       "ACT          2.978867\n",
       "FinalExam    0.762946\n",
       "QuizAvg      0.083230\n",
       "TestAvg      0.174956"
      ]
     },
     "execution_count": 21,
     "metadata": {},
     "output_type": "execute_result"
    }
   ],
   "source": [
    "# Compute the correlation matrix (a numpy ndarray)\n",
    "correlation_numpy_array = numpy.corrcoef(df.T)\n",
    "correlation_numpy_array\n",
    "\n",
    "# Do the decomposition\n",
    "#\n",
    "#    Note: The term right vector just refers to the orientation of rows vs columns\n",
    "#          This is part of the math that we just do not need to worry about\n",
    "#\n",
    "\n",
    "eigenvalues_numpy_array, right_eigenvectors_numpy_array = numpy.linalg.eig(correlation_numpy_array)\n",
    "\n",
    "# Look at our lamndas (eigenvalues)\n",
    "eigenvalues_df = pandas.DataFrame(eigenvalues_numpy_array, index=df.columns, columns=[\"eigenvalue\"])\n",
    "eigenvalues_df"
   ]
  },
  {
   "cell_type": "markdown",
   "metadata": {},
   "source": [
    "### 2.3.2. Calculate Eigenvalues Using Covariance Matrix"
   ]
  },
  {
   "cell_type": "code",
   "execution_count": 22,
   "metadata": {},
   "outputs": [
    {
     "data": {
      "text/html": [
       "<div>\n",
       "<style scoped>\n",
       "    .dataframe tbody tr th:only-of-type {\n",
       "        vertical-align: middle;\n",
       "    }\n",
       "\n",
       "    .dataframe tbody tr th {\n",
       "        vertical-align: top;\n",
       "    }\n",
       "\n",
       "    .dataframe thead th {\n",
       "        text-align: right;\n",
       "    }\n",
       "</style>\n",
       "<table border=\"1\" class=\"dataframe\">\n",
       "  <thead>\n",
       "    <tr style=\"text-align: right;\">\n",
       "      <th></th>\n",
       "      <th>eigenvalue</th>\n",
       "    </tr>\n",
       "  </thead>\n",
       "  <tbody>\n",
       "    <tr>\n",
       "      <th>ACT</th>\n",
       "      <td>2.978867</td>\n",
       "    </tr>\n",
       "    <tr>\n",
       "      <th>FinalExam</th>\n",
       "      <td>0.762946</td>\n",
       "    </tr>\n",
       "    <tr>\n",
       "      <th>QuizAvg</th>\n",
       "      <td>0.083230</td>\n",
       "    </tr>\n",
       "    <tr>\n",
       "      <th>TestAvg</th>\n",
       "      <td>0.174956</td>\n",
       "    </tr>\n",
       "  </tbody>\n",
       "</table>\n",
       "</div>"
      ],
      "text/plain": [
       "           eigenvalue\n",
       "ACT          2.978867\n",
       "FinalExam    0.762946\n",
       "QuizAvg      0.083230\n",
       "TestAvg      0.174956"
      ]
     },
     "execution_count": 22,
     "metadata": {},
     "output_type": "execute_result"
    }
   ],
   "source": [
    "# Compute the correlation matrix (a numpy ndarray)\n",
    "covariance_numpy_array = numpy.corrcoef(df.T)\n",
    "covariance_numpy_array\n",
    "\n",
    "# Do the decomposition\n",
    "#\n",
    "#    Note: The term right vector just refers to the orientation of rows vs columns\n",
    "#          This is part of the math that we just do not need to worry about\n",
    "#\n",
    "\n",
    "eigenvalues_numpy_array, right_eigenvectors_numpy_array = numpy.linalg.eig(covariance_numpy_array)\n",
    "\n",
    "# Look at our lamndas (eigenvalues)\n",
    "eigenvalues_df = pandas.DataFrame(eigenvalues_numpy_array, index=df.columns, columns=[\"eigenvalue\"])\n",
    "eigenvalues_df"
   ]
  },
  {
   "cell_type": "markdown",
   "metadata": {},
   "source": [
    "## 2.4. Calculate Proportion Of Variance Explained\n",
    "If we look at the eigenvalues as being a measure of variance explained by a feature, we can cauluate the proportion of information explained by dividing the eigenvalue by the total sum of eigenvalues."
   ]
  },
  {
   "cell_type": "code",
   "execution_count": 10,
   "metadata": {},
   "outputs": [
    {
     "data": {
      "text/html": [
       "<div>\n",
       "<style scoped>\n",
       "    .dataframe tbody tr th:only-of-type {\n",
       "        vertical-align: middle;\n",
       "    }\n",
       "\n",
       "    .dataframe tbody tr th {\n",
       "        vertical-align: top;\n",
       "    }\n",
       "\n",
       "    .dataframe thead th {\n",
       "        text-align: right;\n",
       "    }\n",
       "</style>\n",
       "<table border=\"1\" class=\"dataframe\">\n",
       "  <thead>\n",
       "    <tr style=\"text-align: right;\">\n",
       "      <th></th>\n",
       "      <th>eigenvalue</th>\n",
       "    </tr>\n",
       "  </thead>\n",
       "  <tbody>\n",
       "    <tr>\n",
       "      <th>ACT</th>\n",
       "      <td>0.744717</td>\n",
       "    </tr>\n",
       "    <tr>\n",
       "      <th>FinalExam</th>\n",
       "      <td>0.190737</td>\n",
       "    </tr>\n",
       "    <tr>\n",
       "      <th>TestAvg</th>\n",
       "      <td>0.043739</td>\n",
       "    </tr>\n",
       "    <tr>\n",
       "      <th>QuizAvg</th>\n",
       "      <td>0.020807</td>\n",
       "    </tr>\n",
       "  </tbody>\n",
       "</table>\n",
       "</div>"
      ],
      "text/plain": [
       "           eigenvalue\n",
       "ACT          0.744717\n",
       "FinalExam    0.190737\n",
       "TestAvg      0.043739\n",
       "QuizAvg      0.020807"
      ]
     },
     "execution_count": 10,
     "metadata": {},
     "output_type": "execute_result"
    }
   ],
   "source": [
    "total_variance = eigenvalues_df[\"eigenvalue\"].sum()\n",
    "proportion_variance_explained_df = eigenvalues_df / total_variance\n",
    "proportion_variance_explained_df = proportion_variance_explained_df.sort_values(by=[\"eigenvalue\"], ascending=False)\n",
    "proportion_variance_explained_df"
   ]
  },
  {
   "cell_type": "markdown",
   "metadata": {},
   "source": [
    "We can see that the proportions sum to 1. Note: Rounding errors are due to numpy's numerical implimentation of floating point numbers."
   ]
  },
  {
   "cell_type": "code",
   "execution_count": 11,
   "metadata": {},
   "outputs": [
    {
     "data": {
      "text/plain": [
       "1.0000000000000002"
      ]
     },
     "execution_count": 11,
     "metadata": {},
     "output_type": "execute_result"
    }
   ],
   "source": [
    "proportion_variance_explained_df[\"eigenvalue\"].sum()"
   ]
  },
  {
   "cell_type": "markdown",
   "metadata": {},
   "source": [
    "# Step 3. Select the Principal Components\n",
    "## 3.1. Frame the problem as an optimization problem\n",
    "As with most problems, selecting the principal components is an optimization problem. If you are not familiar with optimization, see the [coresponding notebook](../Optimization/Optimization.ipynb).\n",
    "\n",
    "We want to maximize the amount of variance explained or to minimize the information lost by removing a feature.\n",
    "\n",
    "Looking at the proportion of information explained we see the following plot which can be optimized."
   ]
  },
  {
   "cell_type": "code",
   "execution_count": 12,
   "metadata": {
    "tags": []
   },
   "outputs": [
    {
     "data": {
      "image/png": "[encoded data removed]",
      "text/plain": [
       "<Figure size 432x288 with 1 Axes>"
      ]
     },
     "metadata": {
      "needs_background": "light"
     },
     "output_type": "display_data"
    }
   ],
   "source": [
    "import matplotlib.pyplot as pyplot\n",
    "fig, ax = pyplot.subplots()\n",
    "\n",
    "\n",
    "x = []\n",
    "y = []\n",
    "\n",
    "for i, proportion in enumerate(proportion_variance_explained_df[\"eigenvalue\"]):\n",
    "    x.append(i)\n",
    "    y.append(proportion)\n",
    "\n",
    "ax.plot(x, y)\n",
    "ax.scatter(x, y);"
   ]
  },
  {
   "cell_type": "markdown",
   "metadata": {},
   "source": [
    "## 3.2. Select An Optimization Technique\n",
    "As mentioned earlier, the [optimization notebook](../Optimization/Optimization.ipynb) discusses various methods for optimizing. In our case we need to select a cutoff point for an asymtotic function."
   ]
  },
  {
   "cell_type": "markdown",
   "metadata": {},
   "source": [
    "In our case we will choose to drop the last parameter with the smallest eigenvalue."
   ]
  }
 ],
 "metadata": {
  "kernelspec": {
   "display_name": "Python 3",
   "language": "python",
   "name": "python3"
  },
  "language_info": {
   "codemirror_mode": {
    "name": "ipython",
    "version": 3
   },
   "file_extension": ".py",
   "mimetype": "text/x-python",
   "name": "python",
   "nbconvert_exporter": "python",
   "pygments_lexer": "ipython3",
   "version": "3.6.8"
  }
 },
 "nbformat": 4,
 "nbformat_minor": 4
}
