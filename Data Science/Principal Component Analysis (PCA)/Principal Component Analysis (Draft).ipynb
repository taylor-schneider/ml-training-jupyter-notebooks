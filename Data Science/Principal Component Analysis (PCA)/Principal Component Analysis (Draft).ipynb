{
 "cells": [
  {
   "cell_type": "markdown",
   "metadata": {},
   "source": [
    "# Overview\n",
    "In this notebook we explore the concept of Principal Component Analysis. This is a popular feature engineering technique used specifically for dimentionality reduction. In short, PCA will try to measure the importance of a feature using a measurement similar to correlation. \n",
    "\n",
    "## Prerequisite Reading\n",
    "If you are unfamiliar with correlation it is suggested you read the [notebook on correlation](Correlation.ipynb). As correlation is affected by linear scale, we will see that normalization is a prerequisite transformation for our data. If you are not famliar with normalization it is suggested you reat the [notebook on normalization](../Exploratory%20Data%20Analysis%20%28EDA%29%2F/Normalization.ipynb)\n",
    "\n",
    "This notebook is broken down into the following sections:\n",
    "1. Loading our data\n",
    "2. Normalizing our data\n"
   ]
  },
  {
   "cell_type": "markdown",
   "metadata": {},
   "source": [
    "# Step 1. Load our data"
   ]
  },
  {
   "cell_type": "code",
   "execution_count": 1,
   "metadata": {
    "tags": []
   },
   "outputs": [],
   "source": [
    "# Load our libraires\n",
    "import pandas\n",
    "import numpy"
   ]
  },
  {
   "cell_type": "code",
   "execution_count": 2,
   "metadata": {
    "tags": []
   },
   "outputs": [
    {
     "data": {
      "text/html": [
       "<div>\n",
       "<style scoped>\n",
       "    .dataframe tbody tr th:only-of-type {\n",
       "        vertical-align: middle;\n",
       "    }\n",
       "\n",
       "    .dataframe tbody tr th {\n",
       "        vertical-align: top;\n",
       "    }\n",
       "\n",
       "    .dataframe thead th {\n",
       "        text-align: right;\n",
       "    }\n",
       "</style>\n",
       "<table border=\"1\" class=\"dataframe\">\n",
       "  <thead>\n",
       "    <tr style=\"text-align: right;\">\n",
       "      <th></th>\n",
       "      <th>ACT</th>\n",
       "      <th>FinalExam</th>\n",
       "      <th>QuizAvg</th>\n",
       "      <th>TestAvg</th>\n",
       "    </tr>\n",
       "  </thead>\n",
       "  <tbody>\n",
       "    <tr>\n",
       "      <th>0</th>\n",
       "      <td>33</td>\n",
       "      <td>181</td>\n",
       "      <td>95</td>\n",
       "      <td>89</td>\n",
       "    </tr>\n",
       "    <tr>\n",
       "      <th>1</th>\n",
       "      <td>31</td>\n",
       "      <td>169</td>\n",
       "      <td>81</td>\n",
       "      <td>89</td>\n",
       "    </tr>\n",
       "    <tr>\n",
       "      <th>2</th>\n",
       "      <td>21</td>\n",
       "      <td>176</td>\n",
       "      <td>65</td>\n",
       "      <td>68</td>\n",
       "    </tr>\n",
       "    <tr>\n",
       "      <th>3</th>\n",
       "      <td>25</td>\n",
       "      <td>181</td>\n",
       "      <td>66</td>\n",
       "      <td>90</td>\n",
       "    </tr>\n",
       "    <tr>\n",
       "      <th>4</th>\n",
       "      <td>29</td>\n",
       "      <td>169</td>\n",
       "      <td>89</td>\n",
       "      <td>81</td>\n",
       "    </tr>\n",
       "    <tr>\n",
       "      <th>5</th>\n",
       "      <td>24</td>\n",
       "      <td>103</td>\n",
       "      <td>61</td>\n",
       "      <td>57</td>\n",
       "    </tr>\n",
       "    <tr>\n",
       "      <th>6</th>\n",
       "      <td>25</td>\n",
       "      <td>150</td>\n",
       "      <td>81</td>\n",
       "      <td>76</td>\n",
       "    </tr>\n",
       "    <tr>\n",
       "      <th>7</th>\n",
       "      <td>29</td>\n",
       "      <td>147</td>\n",
       "      <td>86</td>\n",
       "      <td>76</td>\n",
       "    </tr>\n",
       "    <tr>\n",
       "      <th>8</th>\n",
       "      <td>36</td>\n",
       "      <td>181</td>\n",
       "      <td>98</td>\n",
       "      <td>102</td>\n",
       "    </tr>\n",
       "    <tr>\n",
       "      <th>9</th>\n",
       "      <td>26</td>\n",
       "      <td>163</td>\n",
       "      <td>72</td>\n",
       "      <td>70</td>\n",
       "    </tr>\n",
       "    <tr>\n",
       "      <th>10</th>\n",
       "      <td>31</td>\n",
       "      <td>163</td>\n",
       "      <td>95</td>\n",
       "      <td>81</td>\n",
       "    </tr>\n",
       "    <tr>\n",
       "      <th>11</th>\n",
       "      <td>29</td>\n",
       "      <td>147</td>\n",
       "      <td>65</td>\n",
       "      <td>67</td>\n",
       "    </tr>\n",
       "    <tr>\n",
       "      <th>12</th>\n",
       "      <td>23</td>\n",
       "      <td>160</td>\n",
       "      <td>62</td>\n",
       "      <td>68</td>\n",
       "    </tr>\n",
       "    <tr>\n",
       "      <th>13</th>\n",
       "      <td>26</td>\n",
       "      <td>100</td>\n",
       "      <td>63</td>\n",
       "      <td>56</td>\n",
       "    </tr>\n",
       "  </tbody>\n",
       "</table>\n",
       "</div>"
      ],
      "text/plain": [
       "    ACT  FinalExam  QuizAvg  TestAvg\n",
       "0    33        181       95       89\n",
       "1    31        169       81       89\n",
       "2    21        176       65       68\n",
       "3    25        181       66       90\n",
       "4    29        169       89       81\n",
       "5    24        103       61       57\n",
       "6    25        150       81       76\n",
       "7    29        147       86       76\n",
       "8    36        181       98      102\n",
       "9    26        163       72       70\n",
       "10   31        163       95       81\n",
       "11   29        147       65       67\n",
       "12   23        160       62       68\n",
       "13   26        100       63       56"
      ]
     },
     "execution_count": 2,
     "metadata": {},
     "output_type": "execute_result"
    }
   ],
   "source": [
    "# Load our sample data\n",
    "import os\n",
    "import pyprojroot\n",
    "project_root_dir = pyprojroot.here()\n",
    "input_file_path = os.path.join(project_root_dir, \"Example Data Sets\", \"Test Scores.csv\")\n",
    "delimiter = \",\"\n",
    "df = pandas.read_csv(input_file_path, delimiter=delimiter)\n",
    "df"
   ]
  },
  {
   "cell_type": "markdown",
   "metadata": {},
   "source": [
    "# Step 2. Normalize Our Data\n",
    "In order to use PCA we need to take care to appropriately normalize our data. In a nutshell, the PCA algorithm relies on linear distance of the deviations of our variables; variables with different scales will disproportionately report deviations and thus will introduce bias into the analysis (penalizing variables with smaller scale). Normalization removes this problem by adjusting variables to a common (or similar enough) scale. If you are not famliar with normalization it is suggested you reat the [notebook on normalization](../Exploratory%20Data%20Analysis%20%28EDA%29%2F/Normalization.ipynb).\n"
   ]
  },
  {
   "cell_type": "markdown",
   "metadata": {},
   "source": [
    "## 2.1 Choose a normalization method\n",
    "There are many ways to normalize or standardiaze our data. We will not talk about all the approaches here... but there are a few and they all have different affects and implications. We will choose standardization."
   ]
  },
  {
   "cell_type": "markdown",
   "metadata": {},
   "source": [
    "### 2.3 Normalize using a Standard Score\n",
    "We will use the **standard score** (z-score) because it is simple and well documented.\n",
    "\n",
    "The standard score is the signed fractional number of standard deviations by which the value of an observation or data point is above or below the mean value of what is being observed or measured. Observed values above the mean have positive standard scores, while values below the mean have negative standard scores.\n",
    "\n",
    "$$ z = \\frac{(x-\\mu)}{\\sigma} $$\n",
    "\n",
    "The higher or lower the score, the farther from the mean, and thus the more exceptional a given score is when compared to the sample. This is how we will compare our scores!!\n",
    "\n",
    "If we look at a sample with a normally distributed random variable, we will see the implications of the various scores:\n",
    "\n",
    "![image](Normalization_method_comparison.png)"
   ]
  },
  {
   "cell_type": "markdown",
   "metadata": {},
   "source": [
    "We calculate the standard score of each element in our data frame (on a per-column basis)"
   ]
  },
  {
   "cell_type": "code",
   "execution_count": 3,
   "metadata": {
    "tags": []
   },
   "outputs": [
    {
     "data": {
      "text/html": [
       "<div>\n",
       "<style scoped>\n",
       "    .dataframe tbody tr th:only-of-type {\n",
       "        vertical-align: middle;\n",
       "    }\n",
       "\n",
       "    .dataframe tbody tr th {\n",
       "        vertical-align: top;\n",
       "    }\n",
       "\n",
       "    .dataframe thead th {\n",
       "        text-align: right;\n",
       "    }\n",
       "</style>\n",
       "<table border=\"1\" class=\"dataframe\">\n",
       "  <thead>\n",
       "    <tr style=\"text-align: right;\">\n",
       "      <th></th>\n",
       "      <th>ACT</th>\n",
       "      <th>FinalExam</th>\n",
       "      <th>QuizAvg</th>\n",
       "      <th>TestAvg</th>\n",
       "    </tr>\n",
       "  </thead>\n",
       "  <tbody>\n",
       "    <tr>\n",
       "      <th>0</th>\n",
       "      <td>1.270931</td>\n",
       "      <td>0.940813</td>\n",
       "      <td>1.304131</td>\n",
       "      <td>0.952737</td>\n",
       "    </tr>\n",
       "    <tr>\n",
       "      <th>1</th>\n",
       "      <td>0.790038</td>\n",
       "      <td>0.481346</td>\n",
       "      <td>0.285766</td>\n",
       "      <td>0.952737</td>\n",
       "    </tr>\n",
       "    <tr>\n",
       "      <th>2</th>\n",
       "      <td>-1.614426</td>\n",
       "      <td>0.749368</td>\n",
       "      <td>-0.878080</td>\n",
       "      <td>-0.638767</td>\n",
       "    </tr>\n",
       "    <tr>\n",
       "      <th>3</th>\n",
       "      <td>-0.652640</td>\n",
       "      <td>0.940813</td>\n",
       "      <td>-0.805340</td>\n",
       "      <td>1.028523</td>\n",
       "    </tr>\n",
       "    <tr>\n",
       "      <th>4</th>\n",
       "      <td>0.309145</td>\n",
       "      <td>0.481346</td>\n",
       "      <td>0.867689</td>\n",
       "      <td>0.346450</td>\n",
       "    </tr>\n",
       "    <tr>\n",
       "      <th>5</th>\n",
       "      <td>-0.893087</td>\n",
       "      <td>-2.045721</td>\n",
       "      <td>-1.169041</td>\n",
       "      <td>-1.472411</td>\n",
       "    </tr>\n",
       "    <tr>\n",
       "      <th>6</th>\n",
       "      <td>-0.652640</td>\n",
       "      <td>-0.246143</td>\n",
       "      <td>0.285766</td>\n",
       "      <td>-0.032480</td>\n",
       "    </tr>\n",
       "    <tr>\n",
       "      <th>7</th>\n",
       "      <td>0.309145</td>\n",
       "      <td>-0.361010</td>\n",
       "      <td>0.649467</td>\n",
       "      <td>-0.032480</td>\n",
       "    </tr>\n",
       "    <tr>\n",
       "      <th>8</th>\n",
       "      <td>1.992270</td>\n",
       "      <td>0.940813</td>\n",
       "      <td>1.522352</td>\n",
       "      <td>1.937953</td>\n",
       "    </tr>\n",
       "    <tr>\n",
       "      <th>9</th>\n",
       "      <td>-0.412194</td>\n",
       "      <td>0.251613</td>\n",
       "      <td>-0.368898</td>\n",
       "      <td>-0.487195</td>\n",
       "    </tr>\n",
       "    <tr>\n",
       "      <th>10</th>\n",
       "      <td>0.790038</td>\n",
       "      <td>0.251613</td>\n",
       "      <td>1.304131</td>\n",
       "      <td>0.346450</td>\n",
       "    </tr>\n",
       "    <tr>\n",
       "      <th>11</th>\n",
       "      <td>0.309145</td>\n",
       "      <td>-0.361010</td>\n",
       "      <td>-0.878080</td>\n",
       "      <td>-0.714553</td>\n",
       "    </tr>\n",
       "    <tr>\n",
       "      <th>12</th>\n",
       "      <td>-1.133533</td>\n",
       "      <td>0.136746</td>\n",
       "      <td>-1.096301</td>\n",
       "      <td>-0.638767</td>\n",
       "    </tr>\n",
       "    <tr>\n",
       "      <th>13</th>\n",
       "      <td>-0.412194</td>\n",
       "      <td>-2.160588</td>\n",
       "      <td>-1.023561</td>\n",
       "      <td>-1.548197</td>\n",
       "    </tr>\n",
       "  </tbody>\n",
       "</table>\n",
       "</div>"
      ],
      "text/plain": [
       "         ACT  FinalExam   QuizAvg   TestAvg\n",
       "0   1.270931   0.940813  1.304131  0.952737\n",
       "1   0.790038   0.481346  0.285766  0.952737\n",
       "2  -1.614426   0.749368 -0.878080 -0.638767\n",
       "3  -0.652640   0.940813 -0.805340  1.028523\n",
       "4   0.309145   0.481346  0.867689  0.346450\n",
       "5  -0.893087  -2.045721 -1.169041 -1.472411\n",
       "6  -0.652640  -0.246143  0.285766 -0.032480\n",
       "7   0.309145  -0.361010  0.649467 -0.032480\n",
       "8   1.992270   0.940813  1.522352  1.937953\n",
       "9  -0.412194   0.251613 -0.368898 -0.487195\n",
       "10  0.790038   0.251613  1.304131  0.346450\n",
       "11  0.309145  -0.361010 -0.878080 -0.714553\n",
       "12 -1.133533   0.136746 -1.096301 -0.638767\n",
       "13 -0.412194  -2.160588 -1.023561 -1.548197"
      ]
     },
     "execution_count": 3,
     "metadata": {},
     "output_type": "execute_result"
    }
   ],
   "source": [
    "normalized_df = ((df - df.mean())/df.std())\n",
    "normalized_df"
   ]
  },
  {
   "cell_type": "markdown",
   "metadata": {},
   "source": [
    "# Step 3. Calculate Correlation Matrix\n",
    "As we will see, PCA is reliant on the pearson correlation coefficient. We can calculate the correlation between pairs of variables. When dealing with more than one pair, a correlation matrix is a convenient way of tracking the information.\n",
    "\n",
    "The correlation matrix, a type of adjacency matrix, allows us to show the correlation between all variables in a sample set using a compact format. Each row and column pertain to a particular variable, the cells indicate the correlation between the two points.\n",
    "\n",
    "We can easily calculate correlation using numpy or pandas. We will look at both methods."
   ]
  },
  {
   "cell_type": "markdown",
   "metadata": {},
   "source": [
    "## 3.1. Calculate Correlation Using Numpy\n",
    "Numpy provides a method for calculating covariance and returing a correlation matrix represented by a numpy array. It's not as nice to look at, but sometimes numpy objects are needed. The rows/columns match those of our data frame. We see a diagonal set of 1's indicating that variable A is adjacent to itself in that cell."
   ]
  },
  {
   "cell_type": "code",
   "execution_count": 4,
   "metadata": {},
   "outputs": [
    {
     "data": {
      "text/plain": [
       "array([[1.        , 0.33618637, 0.82780343, 0.7102748 ],\n",
       "       [0.33618637, 1.        , 0.49994932, 0.79584684],\n",
       "       [0.82780343, 0.49994932, 1.        , 0.7486962 ],\n",
       "       [0.7102748 , 0.79584684, 0.7486962 , 1.        ]])"
      ]
     },
     "execution_count": 4,
     "metadata": {},
     "output_type": "execute_result"
    }
   ],
   "source": [
    "# Take the transpose of our matrix (not important to understand why we are doing this)\n",
    "normalized_transposed_df = normalized_df.T\n",
    "\n",
    "# Compute the correlation matrix (a numpy ndarray)\n",
    "correlation_numpy_array = numpy.corrcoef(normalized_transposed_df)\n",
    "correlation_numpy_array"
   ]
  },
  {
   "cell_type": "code",
   "execution_count": 5,
   "metadata": {},
   "outputs": [
    {
     "name": "stdout",
     "output_type": "stream",
     "text": [
      "['ACT', 'FinalExam', 'QuizAvg', 'TestAvg']\n"
     ]
    }
   ],
   "source": [
    "# Show the rows and columns in order\n",
    "print(list(normalized_df.columns))"
   ]
  },
  {
   "cell_type": "markdown",
   "metadata": {},
   "source": [
    "## 3.2. Calculate Correlation Using Pandas\n",
    "Pandas is a little more user friendly because it requires less knowledge of matrix algebra (the transpose) and it tells us the row and column names upfront."
   ]
  },
  {
   "cell_type": "code",
   "execution_count": 6,
   "metadata": {},
   "outputs": [
    {
     "data": {
      "text/html": [
       "<div>\n",
       "<style scoped>\n",
       "    .dataframe tbody tr th:only-of-type {\n",
       "        vertical-align: middle;\n",
       "    }\n",
       "\n",
       "    .dataframe tbody tr th {\n",
       "        vertical-align: top;\n",
       "    }\n",
       "\n",
       "    .dataframe thead th {\n",
       "        text-align: right;\n",
       "    }\n",
       "</style>\n",
       "<table border=\"1\" class=\"dataframe\">\n",
       "  <thead>\n",
       "    <tr style=\"text-align: right;\">\n",
       "      <th></th>\n",
       "      <th>ACT</th>\n",
       "      <th>FinalExam</th>\n",
       "      <th>QuizAvg</th>\n",
       "      <th>TestAvg</th>\n",
       "    </tr>\n",
       "  </thead>\n",
       "  <tbody>\n",
       "    <tr>\n",
       "      <th>ACT</th>\n",
       "      <td>1.000000</td>\n",
       "      <td>0.336186</td>\n",
       "      <td>0.827803</td>\n",
       "      <td>0.710275</td>\n",
       "    </tr>\n",
       "    <tr>\n",
       "      <th>FinalExam</th>\n",
       "      <td>0.336186</td>\n",
       "      <td>1.000000</td>\n",
       "      <td>0.499949</td>\n",
       "      <td>0.795847</td>\n",
       "    </tr>\n",
       "    <tr>\n",
       "      <th>QuizAvg</th>\n",
       "      <td>0.827803</td>\n",
       "      <td>0.499949</td>\n",
       "      <td>1.000000</td>\n",
       "      <td>0.748696</td>\n",
       "    </tr>\n",
       "    <tr>\n",
       "      <th>TestAvg</th>\n",
       "      <td>0.710275</td>\n",
       "      <td>0.795847</td>\n",
       "      <td>0.748696</td>\n",
       "      <td>1.000000</td>\n",
       "    </tr>\n",
       "  </tbody>\n",
       "</table>\n",
       "</div>"
      ],
      "text/plain": [
       "                ACT  FinalExam   QuizAvg   TestAvg\n",
       "ACT        1.000000   0.336186  0.827803  0.710275\n",
       "FinalExam  0.336186   1.000000  0.499949  0.795847\n",
       "QuizAvg    0.827803   0.499949  1.000000  0.748696\n",
       "TestAvg    0.710275   0.795847  0.748696  1.000000"
      ]
     },
     "execution_count": 6,
     "metadata": {},
     "output_type": "execute_result"
    }
   ],
   "source": [
    "# Convert the numpy array into a pandas data frame\n",
    "correlation_df = normalized_df.corr()\n",
    "correlation_df"
   ]
  },
  {
   "cell_type": "markdown",
   "metadata": {},
   "source": [
    "We see that QuizAvg and ACT have the highest correlation meaning that they are likely to be redundant features. There is only a small benefit to including both because one of them give us most of the information about the deviations of the other."
   ]
  },
  {
   "cell_type": "markdown",
   "metadata": {},
   "source": [
    "# Step 4. Decompose Eigenvalues and Eigenvectors"
   ]
  },
  {
   "cell_type": "markdown",
   "metadata": {},
   "source": [
    "This step is the heart of PCA. In short, the eigenvalues/eigenvector decomposition provides us a a way of eliminating features which provide duplicate data.\n",
    "\n",
    "Mathematically eigenvalues and eivenvectors allows us to selectively reduce the number of dimensions in our problem while minimizing (and thus quantifying) information loss. The information being considered in the case of PCA is that of the correlation matrix. Thus any redundancy is that of correlation. By reducing the dimensionality we are reducing the overall covariance explained by our feature set."
   ]
  },
  {
   "cell_type": "markdown",
   "metadata": {},
   "source": []
  },
  {
   "cell_type": "markdown",
   "metadata": {},
   "source": []
  },
  {
   "cell_type": "markdown",
   "metadata": {},
   "source": []
  },
  {
   "cell_type": "markdown",
   "metadata": {},
   "source": []
  },
  {
   "cell_type": "markdown",
   "metadata": {},
   "source": [
    "## 4.3. Using Numpy To Calculate eigenvalues\n",
    "\n",
    "We can use a builtin numpy function to do the decomposition:\n",
    "\n",
    "https://docs.scipy.org/doc/numpy/reference/generated/numpy.linalg.eig.html"
   ]
  },
  {
   "cell_type": "code",
   "execution_count": 8,
   "metadata": {},
   "outputs": [],
   "source": [
    "# Do the decomposition\n",
    "#\n",
    "#    Note: The term right vector just refers to the orientation of rows vs columns\n",
    "#          This is part of the math that we just do not need to worry about\n",
    "#\n",
    "\n",
    "eigenvalues_numpy_array, right_eigenvectors_numpy_array = numpy.linalg.eig(correlation_numpy_array)"
   ]
  },
  {
   "cell_type": "code",
   "execution_count": 9,
   "metadata": {},
   "outputs": [
    {
     "data": {
      "text/html": [
       "<div>\n",
       "<style scoped>\n",
       "    .dataframe tbody tr th:only-of-type {\n",
       "        vertical-align: middle;\n",
       "    }\n",
       "\n",
       "    .dataframe tbody tr th {\n",
       "        vertical-align: top;\n",
       "    }\n",
       "\n",
       "    .dataframe thead th {\n",
       "        text-align: right;\n",
       "    }\n",
       "</style>\n",
       "<table border=\"1\" class=\"dataframe\">\n",
       "  <thead>\n",
       "    <tr style=\"text-align: right;\">\n",
       "      <th></th>\n",
       "      <th>eigenvalue</th>\n",
       "    </tr>\n",
       "  </thead>\n",
       "  <tbody>\n",
       "    <tr>\n",
       "      <th>ACT</th>\n",
       "      <td>2.978867</td>\n",
       "    </tr>\n",
       "    <tr>\n",
       "      <th>FinalExam</th>\n",
       "      <td>0.762946</td>\n",
       "    </tr>\n",
       "    <tr>\n",
       "      <th>QuizAvg</th>\n",
       "      <td>0.083230</td>\n",
       "    </tr>\n",
       "    <tr>\n",
       "      <th>TestAvg</th>\n",
       "      <td>0.174956</td>\n",
       "    </tr>\n",
       "  </tbody>\n",
       "</table>\n",
       "</div>"
      ],
      "text/plain": [
       "           eigenvalue\n",
       "ACT          2.978867\n",
       "FinalExam    0.762946\n",
       "QuizAvg      0.083230\n",
       "TestAvg      0.174956"
      ]
     },
     "execution_count": 9,
     "metadata": {},
     "output_type": "execute_result"
    }
   ],
   "source": [
    "# Look at our lamndas (eigenvalues)\n",
    "eigenvalues_df = pandas.DataFrame(eigenvalues_numpy_array, index=df.columns, columns=[\"eigenvalue\"])\n",
    "eigenvalues_df"
   ]
  },
  {
   "cell_type": "markdown",
   "metadata": {},
   "source": [
    "## 4.4. Calculate Proportion Of Variance Explained\n",
    "If we look at the eigenvalues as being a measure of variance explained by a feature, we can cauluate the proportion of information explained by dividing the eigenvalue by the total sum of eigenvalues."
   ]
  },
  {
   "cell_type": "code",
   "execution_count": 10,
   "metadata": {},
   "outputs": [
    {
     "data": {
      "text/html": [
       "<div>\n",
       "<style scoped>\n",
       "    .dataframe tbody tr th:only-of-type {\n",
       "        vertical-align: middle;\n",
       "    }\n",
       "\n",
       "    .dataframe tbody tr th {\n",
       "        vertical-align: top;\n",
       "    }\n",
       "\n",
       "    .dataframe thead th {\n",
       "        text-align: right;\n",
       "    }\n",
       "</style>\n",
       "<table border=\"1\" class=\"dataframe\">\n",
       "  <thead>\n",
       "    <tr style=\"text-align: right;\">\n",
       "      <th></th>\n",
       "      <th>eigenvalue</th>\n",
       "    </tr>\n",
       "  </thead>\n",
       "  <tbody>\n",
       "    <tr>\n",
       "      <th>ACT</th>\n",
       "      <td>0.744717</td>\n",
       "    </tr>\n",
       "    <tr>\n",
       "      <th>FinalExam</th>\n",
       "      <td>0.190737</td>\n",
       "    </tr>\n",
       "    <tr>\n",
       "      <th>TestAvg</th>\n",
       "      <td>0.043739</td>\n",
       "    </tr>\n",
       "    <tr>\n",
       "      <th>QuizAvg</th>\n",
       "      <td>0.020807</td>\n",
       "    </tr>\n",
       "  </tbody>\n",
       "</table>\n",
       "</div>"
      ],
      "text/plain": [
       "           eigenvalue\n",
       "ACT          0.744717\n",
       "FinalExam    0.190737\n",
       "TestAvg      0.043739\n",
       "QuizAvg      0.020807"
      ]
     },
     "execution_count": 10,
     "metadata": {},
     "output_type": "execute_result"
    }
   ],
   "source": [
    "total_variance = eigenvalues_df[\"eigenvalue\"].sum()\n",
    "proportion_variance_explained_df = eigenvalues_df / total_variance\n",
    "proportion_variance_explained_df = proportion_variance_explained_df.sort_values(by=[\"eigenvalue\"], ascending=False)\n",
    "proportion_variance_explained_df"
   ]
  },
  {
   "cell_type": "markdown",
   "metadata": {},
   "source": [
    "We can see that the proportions sum to 1. Note: Rounding errors are due to numpy's numerical implimentation of floating point numbers."
   ]
  },
  {
   "cell_type": "code",
   "execution_count": 11,
   "metadata": {},
   "outputs": [
    {
     "data": {
      "text/plain": [
       "1.0000000000000002"
      ]
     },
     "execution_count": 11,
     "metadata": {},
     "output_type": "execute_result"
    }
   ],
   "source": [
    "proportion_variance_explained_df[\"eigenvalue\"].sum()"
   ]
  },
  {
   "cell_type": "markdown",
   "metadata": {},
   "source": [
    "# Step 5. Select the Principal Components\n",
    "## 5.1. Frame the problem as an optimization problem\n",
    "As with most problems, selecting the principal components is an optimization problem. If you are not familiar with optimization, see the [coresponding notebook](../Optimization/Optimization.ipynb).\n",
    "\n",
    "We want to maximize the amount of variance explained or to minimize the information lost by removing a feature.\n",
    "\n",
    "Looking at the proportion of information explained we see the following plot which can be optimized."
   ]
  },
  {
   "cell_type": "code",
   "execution_count": 12,
   "metadata": {
    "tags": []
   },
   "outputs": [
    {
     "data": {
      "image/png": "[encoded data removed]",
      "text/plain": [
       "<Figure size 432x288 with 1 Axes>"
      ]
     },
     "metadata": {
      "needs_background": "light"
     },
     "output_type": "display_data"
    }
   ],
   "source": [
    "import matplotlib.pyplot as pyplot\n",
    "fig, ax = pyplot.subplots()\n",
    "\n",
    "\n",
    "x = []\n",
    "y = []\n",
    "\n",
    "for i, proportion in enumerate(proportion_variance_explained_df[\"eigenvalue\"]):\n",
    "    x.append(i)\n",
    "    y.append(proportion)\n",
    "\n",
    "ax.plot(x, y)\n",
    "ax.scatter(x, y);"
   ]
  },
  {
   "cell_type": "markdown",
   "metadata": {},
   "source": [
    "## 5.2. Select An Optimization Technique\n",
    "As mentioned earlier, the [optimization notebook](../Optimization/Optimization.ipynb) discusses various methods for optimizing. In our case we need to select a cutoff point for an asymtotic function."
   ]
  },
  {
   "cell_type": "markdown",
   "metadata": {},
   "source": [
    "In our case we will choose to drop the last parameter with the smallest eigenvalue."
   ]
  }
 ],
 "metadata": {
  "kernelspec": {
   "display_name": "Python 3",
   "language": "python",
   "name": "python3"
  },
  "language_info": {
   "codemirror_mode": {
    "name": "ipython",
    "version": 3
   },
   "file_extension": ".py",
   "mimetype": "text/x-python",
   "name": "python",
   "nbconvert_exporter": "python",
   "pygments_lexer": "ipython3",
   "version": "3.6.8"
  }
 },
 "nbformat": 4,
 "nbformat_minor": 4
}
