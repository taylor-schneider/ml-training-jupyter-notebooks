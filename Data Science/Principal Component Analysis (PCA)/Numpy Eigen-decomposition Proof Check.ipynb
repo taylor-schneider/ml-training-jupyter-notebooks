{
 "cells": [
  {
   "cell_type": "markdown",
   "id": "436edd93-f2f6-43ac-8f82-97e2603abf3f",
   "metadata": {},
   "source": [
    "# Overview\n",
    "In this notebook we have a look at how to comute eigenvalues and eigenvectors using numpy (ie. do an eigen-decomposition or single value decomposition). We also look at some helpful proofs to show that the math is indeed correct.\n",
    "\n",
    "This notebook assumes you already know spectral theory, single value decomposition, and or eigen-decomposition. If you are not familiar with these concepts refer to the material recomended in the [README](README.md).\n",
    "\n",
    "We will be using the following formulas:\n",
    "\n",
    "$$ Av = \\lambda v $$\n",
    "$$ A = U \\Sigma V^T $$\n",
    "$$ A = Q \\Lambda Q^T $$"
   ]
  },
  {
   "cell_type": "code",
   "execution_count": 1,
   "id": "1372a816-ab55-430e-b0d2-3ca472f68441",
   "metadata": {},
   "outputs": [],
   "source": [
    "# Import the libraries we will be using\n",
    "import numpy"
   ]
  },
  {
   "cell_type": "markdown",
   "id": "105368bc-ec85-45c5-9ba9-fd41886da4d1",
   "metadata": {},
   "source": [
    "# Example 1: Symetric Semi-definite positive matrix\n",
    "We create an example matrix"
   ]
  },
  {
   "cell_type": "code",
   "execution_count": 2,
   "id": "0eb66a8b-fb6e-4e8d-95f5-f3d9d80363d1",
   "metadata": {},
   "outputs": [
    {
     "name": "stdout",
     "output_type": "stream",
     "text": [
      "[[1 2 3]\n",
      " [2 2 1]\n",
      " [3 1 1]]\n"
     ]
    }
   ],
   "source": [
    "A = numpy.array([[1,2,3],\n",
    "                 [2,2,1],\n",
    "                 [3,1,1]])\n",
    "print(A)"
   ]
  },
  {
   "cell_type": "markdown",
   "id": "92e54738-7313-4317-bee6-16b84103ddc2",
   "metadata": {},
   "source": [
    "We then do the decomposition using numpy."
   ]
  },
  {
   "cell_type": "code",
   "execution_count": 3,
   "id": "79c5e59d-d488-4ffd-a1e0-031834f7071c",
   "metadata": {},
   "outputs": [
    {
     "name": "stdout",
     "output_type": "stream",
     "text": [
      "[ 5.36488085 -2.14644241  0.78156156]\n",
      "\n",
      "[[-0.63053714 -0.74009445  0.23384422]\n",
      " [-0.54035845  0.20230251 -0.81675359]\n",
      " [-0.55716753  0.64135318  0.52747554]]\n"
     ]
    }
   ],
   "source": [
    "lam, v = numpy.linalg.eig(A)\n",
    "print(lam)\n",
    "print(\"\")\n",
    "print(v)"
   ]
  },
  {
   "cell_type": "markdown",
   "id": "f75d901c-ee71-4593-a392-9107e0562d63",
   "metadata": {},
   "source": [
    "## Decomposition Proof\n",
    "We can look at proving $ Av = \\lambda v $"
   ]
  },
  {
   "cell_type": "markdown",
   "id": "15bf77c0-d471-4073-b9f1-6d744fcf29f1",
   "metadata": {},
   "source": [
    "### Go vector by vector\n",
    "We can first look at multiplying each column of the right eigenvector $v$ by the coresponding scalar eigenvalue $\\lambda$."
   ]
  },
  {
   "cell_type": "code",
   "execution_count": 4,
   "id": "06a275c7-1f4c-4c6a-bb71-53c3d6eb9987",
   "metadata": {},
   "outputs": [
    {
     "name": "stdout",
     "output_type": "stream",
     "text": [
      "[-3.38275663 -2.89895872 -2.98913741]\n",
      "\n",
      "[-3.38275663 -2.89895872 -2.98913741]\n"
     ]
    }
   ],
   "source": [
    "# Case 0\n",
    "print(numpy.dot(A,v[:, 0]))\n",
    "print(\"\")\n",
    "print(numpy.dot(lam[0], v[:, 0]))"
   ]
  },
  {
   "cell_type": "code",
   "execution_count": 5,
   "id": "b765587a-df08-4ea7-a2fd-a0316544d89b",
   "metadata": {},
   "outputs": [
    {
     "name": "stdout",
     "output_type": "stream",
     "text": [
      "[ 1.58857011 -0.43423069 -1.37662766]\n",
      "\n",
      "[ 1.58857011 -0.43423069 -1.37662766]\n"
     ]
    }
   ],
   "source": [
    "# Case 1\n",
    "print(numpy.dot(A,v[:, 1]))\n",
    "print(\"\")\n",
    "print(numpy.dot(lam[1], v[:, 1]))"
   ]
  },
  {
   "cell_type": "code",
   "execution_count": 6,
   "id": "b9bc18c7-7590-4f60-a075-33e70938b994",
   "metadata": {},
   "outputs": [
    {
     "name": "stdout",
     "output_type": "stream",
     "text": [
      "[ 0.18276365 -0.63834321  0.4122546 ]\n",
      "\n",
      "[ 0.18276365 -0.63834321  0.4122546 ]\n"
     ]
    }
   ],
   "source": [
    "# Case 2\n",
    "print(numpy.dot(A,v[:, 2]))\n",
    "print(\"\")\n",
    "print(numpy.dot(lam[2], v[:, 2]))"
   ]
  },
  {
   "cell_type": "markdown",
   "id": "6f09b476-a0b5-4897-974c-81716d66b6bc",
   "metadata": {},
   "source": [
    "### Do everything using matrix algebra\n",
    "Using matrix algebra we would can multiply the set of scalars $\\lambda$ by the matrix $v$:"
   ]
  },
  {
   "cell_type": "code",
   "execution_count": 7,
   "id": "ef85ffcd-bb98-493d-a20b-ca97da2ac2e9",
   "metadata": {},
   "outputs": [
    {
     "name": "stdout",
     "output_type": "stream",
     "text": [
      "[[-3.38275663  1.58857011  0.18276365]\n",
      " [-2.89895872 -0.43423069 -0.63834321]\n",
      " [-2.98913741 -1.37662766  0.4122546 ]]\n",
      "\n",
      "[[-3.38275663  1.58857011  0.18276365]\n",
      " [-2.89895872 -0.43423069 -0.63834321]\n",
      " [-2.98913741 -1.37662766  0.4122546 ]]\n"
     ]
    }
   ],
   "source": [
    "# General Case\n",
    "#    Using scalar multiplication\n",
    "print(numpy.matmul(A, v))\n",
    "print(\"\")\n",
    "print(lam * v)"
   ]
  },
  {
   "cell_type": "markdown",
   "id": "c4f184f1-abe6-41e0-9f9b-660d22e548d3",
   "metadata": {},
   "source": [
    "We can convert the set of scalars $\\lambda$ back into the matrix $\\Lambda$ by multiplying by the identity matrix $I$. We will see the equation is slightly different if we are consious of matrix dimensions:\n",
    "\n",
    "$$ Av = (\\Lambda v^T)^T $$"
   ]
  },
  {
   "cell_type": "code",
   "execution_count": 8,
   "id": "723dc2b6-5571-4e14-8d87-33554f9c272a",
   "metadata": {},
   "outputs": [
    {
     "name": "stdout",
     "output_type": "stream",
     "text": [
      "[[ 5.36488085 -0.          0.        ]\n",
      " [ 0.         -2.14644241  0.        ]\n",
      " [ 0.         -0.          0.78156156]]\n"
     ]
    }
   ],
   "source": [
    "Lam = lam * numpy.identity(3)\n",
    "print(Lam)"
   ]
  },
  {
   "cell_type": "code",
   "execution_count": 9,
   "id": "f4e37b9f-6a41-419f-bf87-e6f8889a8138",
   "metadata": {},
   "outputs": [
    {
     "name": "stdout",
     "output_type": "stream",
     "text": [
      "[[-3.38275663  1.58857011  0.18276365]\n",
      " [-2.89895872 -0.43423069 -0.63834321]\n",
      " [-2.98913741 -1.37662766  0.4122546 ]]\n",
      "\n",
      "[[-3.38275663  1.58857011  0.18276365]\n",
      " [-2.89895872 -0.43423069 -0.63834321]\n",
      " [-2.98913741 -1.37662766  0.4122546 ]]\n"
     ]
    }
   ],
   "source": [
    "# General Case\n",
    "#    Using matmul to perform matrix multiplication\n",
    "print(numpy.matmul(A, v))\n",
    "print(\"\")\n",
    "print(numpy.matmul(Lam, v.T).T)"
   ]
  },
  {
   "cell_type": "markdown",
   "id": "89cbe0c3-ef5a-4a5d-919e-96d5aaf93c45",
   "metadata": {},
   "source": [
    "## Orthogonal Proof\n",
    "Here we can show that the matrix $v$ is orthoganal such that:\n",
    "\n",
    "$$ v \\perp v^T := vv^t=I = vv^{-1} $$"
   ]
  },
  {
   "cell_type": "code",
   "execution_count": 10,
   "id": "941ecdbf-e14f-4a00-8d7b-dce71d57250d",
   "metadata": {},
   "outputs": [
    {
     "data": {
      "text/plain": [
       "array([[ 1., -0., -0.],\n",
       "       [-0.,  1.,  0.],\n",
       "       [-0.,  0.,  1.]])"
      ]
     },
     "execution_count": 10,
     "metadata": {},
     "output_type": "execute_result"
    }
   ],
   "source": [
    "numpy.matmul(v, v.T).round()"
   ]
  },
  {
   "cell_type": "code",
   "execution_count": 11,
   "id": "bab967e4-8121-43cb-b00e-f102634fafa1",
   "metadata": {},
   "outputs": [
    {
     "data": {
      "text/plain": [
       "True"
      ]
     },
     "execution_count": 11,
     "metadata": {},
     "output_type": "execute_result"
    }
   ],
   "source": [
    "numpy.array_equal(numpy.matmul(v, v.T).round(),  numpy.identity(3))"
   ]
  },
  {
   "cell_type": "code",
   "execution_count": 12,
   "id": "1c4ccf99-eacd-4971-ab41-2e7d69817e1a",
   "metadata": {},
   "outputs": [
    {
     "data": {
      "text/plain": [
       "True"
      ]
     },
     "execution_count": 12,
     "metadata": {},
     "output_type": "execute_result"
    }
   ],
   "source": [
    "numpy.array_equal(numpy.matmul(v, numpy.linalg.inv(v)).round(),  numpy.identity(3))"
   ]
  },
  {
   "cell_type": "markdown",
   "id": "914c5d38-35c6-4754-92a5-35a7a268d52b",
   "metadata": {},
   "source": [
    "## Recompose the original matrix\n",
    "Here we will show that we can recreate the original matrix thus proving $A = Q \\Lambda Q^T$."
   ]
  },
  {
   "cell_type": "code",
   "execution_count": 13,
   "id": "bf9a9d94-dee9-4dbd-bb63-510e75953d0b",
   "metadata": {},
   "outputs": [
    {
     "name": "stdout",
     "output_type": "stream",
     "text": [
      "[[1 2 3]\n",
      " [2 2 1]\n",
      " [3 1 1]]\n"
     ]
    }
   ],
   "source": [
    "print(A)"
   ]
  },
  {
   "cell_type": "code",
   "execution_count": 14,
   "id": "776b2f5c-f47b-419d-8e10-71d17b3cc9f7",
   "metadata": {},
   "outputs": [
    {
     "name": "stdout",
     "output_type": "stream",
     "text": [
      "[[-0.63053714 -0.74009445  0.23384422]\n",
      " [-0.54035845  0.20230251 -0.81675359]\n",
      " [-0.55716753  0.64135318  0.52747554]]\n"
     ]
    }
   ],
   "source": [
    "Q = v\n",
    "print(Q)"
   ]
  },
  {
   "cell_type": "code",
   "execution_count": 15,
   "id": "78893277-7a8c-4c69-a872-d2733b85d659",
   "metadata": {},
   "outputs": [
    {
     "name": "stdout",
     "output_type": "stream",
     "text": [
      "[[-0.63053714 -0.54035845 -0.55716753]\n",
      " [-0.74009445  0.20230251  0.64135318]\n",
      " [ 0.23384422 -0.81675359  0.52747554]]\n"
     ]
    }
   ],
   "source": [
    "Qt = numpy.linalg.inv(Q)\n",
    "print(Qt)"
   ]
  },
  {
   "cell_type": "code",
   "execution_count": 16,
   "id": "9b001cfa-e011-4817-b206-0ad4ff5c840d",
   "metadata": {},
   "outputs": [],
   "source": [
    "Lam = numpy.diag(lam)"
   ]
  },
  {
   "cell_type": "code",
   "execution_count": 17,
   "id": "c77bcd8a-70b0-4738-be02-2811e937f2e4",
   "metadata": {},
   "outputs": [
    {
     "name": "stdout",
     "output_type": "stream",
     "text": [
      "[[1. 2. 3.]\n",
      " [2. 2. 1.]\n",
      " [3. 1. 1.]]\n"
     ]
    }
   ],
   "source": [
    "A_rec = Q @ Lam @ Qt\n",
    "print(A_rec)"
   ]
  },
  {
   "cell_type": "markdown",
   "id": "a2ccdbf9-23e2-4709-8eeb-64247e32eb7b",
   "metadata": {},
   "source": [
    "**Note:** The @ symbol was introduced in 2016 as an alias for numpy.matmul() function. As we can see, it is much more convenient:"
   ]
  },
  {
   "cell_type": "code",
   "execution_count": 18,
   "id": "e7a1fa1c-3e1d-43a0-a888-6401097c029e",
   "metadata": {},
   "outputs": [
    {
     "name": "stdout",
     "output_type": "stream",
     "text": [
      "[[1. 2. 3.]\n",
      " [2. 2. 1.]\n",
      " [3. 1. 1.]]\n"
     ]
    }
   ],
   "source": [
    "print(numpy.matmul(numpy.matmul(Q, Lam), Qt))"
   ]
  }
 ],
 "metadata": {
  "kernelspec": {
   "display_name": "Python 3",
   "language": "python",
   "name": "python3"
  },
  "language_info": {
   "codemirror_mode": {
    "name": "ipython",
    "version": 3
   },
   "file_extension": ".py",
   "mimetype": "text/x-python",
   "name": "python",
   "nbconvert_exporter": "python",
   "pygments_lexer": "ipython3",
   "version": "3.6.8"
  }
 },
 "nbformat": 4,
 "nbformat_minor": 5
}
