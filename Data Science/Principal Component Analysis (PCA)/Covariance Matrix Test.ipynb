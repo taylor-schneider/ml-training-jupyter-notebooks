{
 "cells": [
  {
   "cell_type": "code",
   "execution_count": 82,
   "id": "3868098a-3a06-42fd-8364-481d92fe7b21",
   "metadata": {},
   "outputs": [],
   "source": [
    "import numpy\n",
    "import pandas\n",
    "import scipy"
   ]
  },
  {
   "cell_type": "code",
   "execution_count": 22,
   "id": "8b873664-cf49-4c70-a471-c6e081e12102",
   "metadata": {},
   "outputs": [],
   "source": []
  },
  {
   "cell_type": "code",
   "execution_count": 103,
   "id": "1ed7c9c9-3d16-4173-a114-4ec05d991f45",
   "metadata": {},
   "outputs": [
    {
     "data": {
      "text/plain": [
       "array([[0.28509272, 0.75261375],\n",
       "       [0.95925439, 0.35227437],\n",
       "       [0.06943028, 0.35264147],\n",
       "       ...,\n",
       "       [0.64836605, 0.53790149],\n",
       "       [0.66004945, 0.03685817],\n",
       "       [0.80265506, 0.17462521]])"
      ]
     },
     "execution_count": 103,
     "metadata": {},
     "output_type": "execute_result"
    }
   ],
   "source": [
    "X = numpy.random.rand(10000, 2)\n",
    "X"
   ]
  },
  {
   "cell_type": "code",
   "execution_count": null,
   "id": "ad32938b-cb5a-4620-9caf-0aa47785ba06",
   "metadata": {},
   "outputs": [],
   "source": []
  },
  {
   "cell_type": "code",
   "execution_count": 106,
   "id": "fa0b9f95-d82a-40e7-8935-cec00a21798e",
   "metadata": {},
   "outputs": [
    {
     "data": {
      "text/plain": [
       "array([[ 0.08400186, -0.00063844],\n",
       "       [-0.00063844,  0.08355507]])"
      ]
     },
     "execution_count": 106,
     "metadata": {},
     "output_type": "execute_result"
    }
   ],
   "source": [
    "original_cov = pandas.DataFrame(X).cov().to_numpy()\n",
    "original_cov"
   ]
  },
  {
   "cell_type": "code",
   "execution_count": null,
   "id": "6a25b9eb-5e9f-4530-b4d3-b2a1a8fca0f2",
   "metadata": {},
   "outputs": [],
   "source": []
  },
  {
   "cell_type": "code",
   "execution_count": 110,
   "id": "9495278d-7cf3-4401-bd09-ac69cbf42cfc",
   "metadata": {},
   "outputs": [
    {
     "data": {
      "text/plain": [
       "array([[3. , 1. ],\n",
       "       [1. , 0.4]])"
      ]
     },
     "execution_count": 110,
     "metadata": {},
     "output_type": "execute_result"
    }
   ],
   "source": [
    "desired_cov = numpy.array([[ 3.00, 1.00],\n",
    "               [ 1.00, 0.40]])\n",
    "\n",
    "desired_cov"
   ]
  },
  {
   "cell_type": "code",
   "execution_count": null,
   "id": "328f4c88-f870-4f3d-8f44-f238ca9e71e9",
   "metadata": {},
   "outputs": [],
   "source": []
  },
  {
   "cell_type": "code",
   "execution_count": 111,
   "id": "45b4feb4-58bd-4182-bd5b-3b88414599aa",
   "metadata": {},
   "outputs": [
    {
     "data": {
      "text/plain": [
       "array([[1.73205081, 1.        ],\n",
       "       [1.        , 0.63245553]])"
      ]
     },
     "execution_count": 111,
     "metadata": {},
     "output_type": "execute_result"
    }
   ],
   "source": [
    "sqrt_desired_cov = numpy.sqrt(desired_cov)\n",
    "sqrt_desired_cov"
   ]
  },
  {
   "cell_type": "code",
   "execution_count": null,
   "id": "4b1c5317-0164-4cf6-8192-702118db7807",
   "metadata": {},
   "outputs": [],
   "source": []
  },
  {
   "cell_type": "code",
   "execution_count": 122,
   "id": "d31f5507-62d2-45b4-846e-df1aeae25a81",
   "metadata": {},
   "outputs": [
    {
     "data": {
      "text/plain": [
       "array([[1.60789191, 0.58613822],\n",
       "       [3.23003754, 1.10016414],\n",
       "       [0.5609323 , 0.21048687],\n",
       "       ...,\n",
       "       [2.48299963, 0.86352664],\n",
       "       [2.01700653, 0.67479272],\n",
       "       [2.58259038, 0.87250514]])"
      ]
     },
     "execution_count": 122,
     "metadata": {},
     "output_type": "execute_result"
    }
   ],
   "source": [
    "Y = numpy.matmul(X, desired_cov)\n",
    "Y"
   ]
  },
  {
   "cell_type": "code",
   "execution_count": 123,
   "id": "556f9bb2-ad30-4b20-9d5a-7e0d3648ebde",
   "metadata": {},
   "outputs": [
    {
     "data": {
      "text/plain": [
       "array([[0.83574114, 0.28402303],\n",
       "       [0.28402303, 0.09685992]])"
      ]
     },
     "execution_count": 123,
     "metadata": {},
     "output_type": "execute_result"
    }
   ],
   "source": [
    "new_cov = pandas.DataFrame(Y).cov().to_numpy()\n",
    "new_cov"
   ]
  },
  {
   "cell_type": "code",
   "execution_count": 124,
   "id": "f2b3905f-fe77-4b85-8909-e059bbc73a6a",
   "metadata": {},
   "outputs": [
    {
     "data": {
      "text/plain": [
       "array([[ 0.08400186, -0.00063844],\n",
       "       [-0.00063844,  0.08355507]])"
      ]
     },
     "execution_count": 124,
     "metadata": {},
     "output_type": "execute_result"
    }
   ],
   "source": [
    "original_cov"
   ]
  },
  {
   "cell_type": "code",
   "execution_count": 125,
   "id": "0d3a9484-d711-4fb2-98d1-c53ccab045c4",
   "metadata": {},
   "outputs": [],
   "source": [
    "from matplotlib import pyplot"
   ]
  },
  {
   "cell_type": "code",
   "execution_count": 127,
   "id": "3cfeb8c1-bdba-4f5e-8e82-2fd5afbaf0e5",
   "metadata": {},
   "outputs": [
    {
     "data": {
      "text/plain": [
       "<matplotlib.collections.PathCollection at 0x3902f240>"
      ]
     },
     "execution_count": 127,
     "metadata": {},
     "output_type": "execute_result"
    },
    {
     "data": {
      "image/png": "[encoded data removed]",
      "text/plain": [
       "<Figure size 432x288 with 1 Axes>"
      ]
     },
     "metadata": {
      "needs_background": "light"
     },
     "output_type": "display_data"
    }
   ],
   "source": [
    "pyplot.scatter(X[:, 0], X[:, 1])"
   ]
  },
  {
   "cell_type": "code",
   "execution_count": 128,
   "id": "7b1a45f5-05d9-4eab-a885-35df68d0b755",
   "metadata": {},
   "outputs": [
    {
     "data": {
      "text/plain": [
       "<matplotlib.collections.PathCollection at 0x5080710>"
      ]
     },
     "execution_count": 128,
     "metadata": {},
     "output_type": "execute_result"
    },
    {
     "data": {
      "image/png": "[encoded data removed]",
      "text/plain": [
       "<Figure size 432x288 with 1 Axes>"
      ]
     },
     "metadata": {
      "needs_background": "light"
     },
     "output_type": "display_data"
    }
   ],
   "source": [
    "pyplot.scatter(Y[:, 0], Y[:, 1])"
   ]
  },
  {
   "cell_type": "code",
   "execution_count": null,
   "id": "364d2659-d48a-4dc6-82bb-208696469501",
   "metadata": {},
   "outputs": [],
   "source": []
  },
  {
   "cell_type": "code",
   "execution_count": null,
   "id": "e41873b3-9da1-42f2-853e-1dac868ffaf1",
   "metadata": {},
   "outputs": [],
   "source": []
  },
  {
   "cell_type": "code",
   "execution_count": null,
   "id": "077762ff-6049-4078-97d0-302e45f0e128",
   "metadata": {},
   "outputs": [],
   "source": []
  },
  {
   "cell_type": "code",
   "execution_count": null,
   "id": "ef33167c-956b-4222-a8f4-6a5dc8d46318",
   "metadata": {},
   "outputs": [],
   "source": []
  },
  {
   "cell_type": "code",
   "execution_count": null,
   "id": "f02df1b5-acdb-424e-9ebc-827b045bccba",
   "metadata": {},
   "outputs": [],
   "source": []
  },
  {
   "cell_type": "code",
   "execution_count": null,
   "id": "2cec7c49-430f-4d34-9c1b-672d5895fffc",
   "metadata": {},
   "outputs": [],
   "source": []
  },
  {
   "cell_type": "markdown",
   "id": "72f11afc-3100-4905-8ec6-150b265a255e",
   "metadata": {},
   "source": [
    "Following the article"
   ]
  },
  {
   "cell_type": "code",
   "execution_count": 72,
   "id": "3f841138-1f08-486e-82fc-00b1cbfc4cdf",
   "metadata": {},
   "outputs": [
    {
     "data": {
      "text/plain": [
       "array([[ 3. +0.j,  1. +0.j,  0.5+0.j],\n",
       "       [ 1. +0.j,  2. +0.j, -1. +0.j],\n",
       "       [ 0.5+0.j, -1. +0.j,  1. +0.j]])"
      ]
     },
     "execution_count": 72,
     "metadata": {},
     "output_type": "execute_result"
    }
   ],
   "source": [
    "cov_X = [[ 3.00,  1.00,  0.50],\n",
    "         [ 1.00,  2.00, -1.00],\n",
    "         [ 0.50, -1.00,  1.00]]\n",
    "\n",
    "cov_X = numpy.asarray(cov_X, dtype=complex)\n",
    "\n",
    "cov_X"
   ]
  },
  {
   "cell_type": "code",
   "execution_count": 85,
   "id": "b99857b5-28c0-4e61-996c-67d3023b2414",
   "metadata": {},
   "outputs": [
    {
     "data": {
      "text/plain": [
       "array([[1.73205081+0.j, 1.        +0.j, 0.70710678+0.j],\n",
       "       [1.        +0.j, 1.41421356+0.j, 0.        +1.j],\n",
       "       [0.70710678+0.j, 0.        +1.j, 1.        +0.j]])"
      ]
     },
     "execution_count": 85,
     "metadata": {},
     "output_type": "execute_result"
    }
   ],
   "source": [
    "sqrt_cov_X = numpy.sqrt(cov_X)\n",
    "sqrt_cov_X"
   ]
  },
  {
   "cell_type": "code",
   "execution_count": 86,
   "id": "5f24f22c-aaaf-45c9-8bfe-436d9d4455ef",
   "metadata": {},
   "outputs": [
    {
     "data": {
      "text/plain": [
       "array([[ 1.65808143+0.j,  0.40275931+0.j,  0.29757505+0.j],\n",
       "       [ 0.40275931+0.j,  1.23608304+0.j, -0.55667194+0.j],\n",
       "       [ 0.29757505+0.j, -0.55667194+0.j,  0.7756065 +0.j]])"
      ]
     },
     "execution_count": 86,
     "metadata": {},
     "output_type": "execute_result"
    }
   ],
   "source": [
    "import scipy.linalg\n",
    "sqrt_cov_X_2 = scipy.linalg.sqrtm(cov_X)\n",
    "sqrt_cov_X_2"
   ]
  },
  {
   "cell_type": "code",
   "execution_count": 97,
   "id": "f7db7f7c-738a-4eb9-8ea2-70f5c3920068",
   "metadata": {},
   "outputs": [
    {
     "data": {
      "text/plain": [
       "array([[4.5       +0.j        , 3.14626437+0.70710678j,\n",
       "        1.93185165+1.j        ],\n",
       "       [3.14626437+0.70710678j, 2.        +0.j        ,\n",
       "        0.70710678+2.41421356j],\n",
       "       [1.93185165+1.j        , 0.70710678+2.41421356j,\n",
       "        0.5       +0.j        ]])"
      ]
     },
     "execution_count": 97,
     "metadata": {},
     "output_type": "execute_result"
    }
   ],
   "source": [
    "numpy.matmul(sqrt_cov_X, sqrt_cov_X)"
   ]
  },
  {
   "cell_type": "code",
   "execution_count": 88,
   "id": "533dac0d-41f8-4327-bf1c-3a5482e4815b",
   "metadata": {},
   "outputs": [
    {
     "data": {
      "text/plain": [
       "array([[ 3. +0.j,  1. +0.j,  0.5+0.j],\n",
       "       [ 1. +0.j,  2. +0.j, -1. +0.j],\n",
       "       [ 0.5+0.j, -1. +0.j,  1. +0.j]])"
      ]
     },
     "execution_count": 88,
     "metadata": {},
     "output_type": "execute_result"
    }
   ],
   "source": [
    "sqrt_cov_X ** 2"
   ]
  },
  {
   "cell_type": "code",
   "execution_count": null,
   "id": "720cc488-503d-4e2d-a49a-c75a488b6001",
   "metadata": {},
   "outputs": [],
   "source": []
  },
  {
   "cell_type": "code",
   "execution_count": null,
   "id": "90d105f7-a4a2-43c7-957d-f30587bb1be7",
   "metadata": {},
   "outputs": [],
   "source": []
  },
  {
   "cell_type": "code",
   "execution_count": null,
   "id": "6d47197d-9898-41bf-a180-56b4c2ebd742",
   "metadata": {},
   "outputs": [],
   "source": []
  },
  {
   "cell_type": "code",
   "execution_count": 98,
   "id": "1c88dc1d-d16d-4e2b-a815-6da95cb7315e",
   "metadata": {},
   "outputs": [
    {
     "data": {
      "text/html": [
       "<div>\n",
       "<style scoped>\n",
       "    .dataframe tbody tr th:only-of-type {\n",
       "        vertical-align: middle;\n",
       "    }\n",
       "\n",
       "    .dataframe tbody tr th {\n",
       "        vertical-align: top;\n",
       "    }\n",
       "\n",
       "    .dataframe thead th {\n",
       "        text-align: right;\n",
       "    }\n",
       "</style>\n",
       "<table border=\"1\" class=\"dataframe\">\n",
       "  <thead>\n",
       "    <tr style=\"text-align: right;\">\n",
       "      <th></th>\n",
       "      <th>0</th>\n",
       "      <th>1</th>\n",
       "    </tr>\n",
       "  </thead>\n",
       "  <tbody>\n",
       "    <tr>\n",
       "      <th>0</th>\n",
       "      <td>0.936051</td>\n",
       "      <td>0.062265</td>\n",
       "    </tr>\n",
       "    <tr>\n",
       "      <th>1</th>\n",
       "      <td>0.533085</td>\n",
       "      <td>0.857469</td>\n",
       "    </tr>\n",
       "    <tr>\n",
       "      <th>2</th>\n",
       "      <td>0.124779</td>\n",
       "      <td>0.740545</td>\n",
       "    </tr>\n",
       "    <tr>\n",
       "      <th>3</th>\n",
       "      <td>0.978176</td>\n",
       "      <td>0.045641</td>\n",
       "    </tr>\n",
       "    <tr>\n",
       "      <th>4</th>\n",
       "      <td>0.182984</td>\n",
       "      <td>0.906852</td>\n",
       "    </tr>\n",
       "  </tbody>\n",
       "</table>\n",
       "</div>"
      ],
      "text/plain": [
       "          0         1\n",
       "0  0.936051  0.062265\n",
       "1  0.533085  0.857469\n",
       "2  0.124779  0.740545\n",
       "3  0.978176  0.045641\n",
       "4  0.182984  0.906852"
      ]
     },
     "execution_count": 98,
     "metadata": {},
     "output_type": "execute_result"
    }
   ],
   "source": [
    "X = pandas.DataFrame(numpy.random.rand(100000, 2))\n",
    "X.head()"
   ]
  },
  {
   "cell_type": "code",
   "execution_count": 99,
   "id": "3dcd20f6-b935-4506-add2-aee5c9e139b9",
   "metadata": {},
   "outputs": [
    {
     "ename": "ValueError",
     "evalue": "matmul: Input operand 1 has a mismatch in its core dimension 0, with gufunc signature (n?,k),(k,m?)->(n?,m?) (size 3 is different from 2)",
     "output_type": "error",
     "traceback": [
      "\u001b[1;31m---------------------------------------------------------------------------\u001b[0m",
      "\u001b[1;31mValueError\u001b[0m                                Traceback (most recent call last)",
      "\u001b[1;32m<ipython-input-99-0cb638e907fa>\u001b[0m in \u001b[0;36m<module>\u001b[1;34m\u001b[0m\n\u001b[1;32m----> 1\u001b[1;33m \u001b[0mresult\u001b[0m \u001b[1;33m=\u001b[0m \u001b[0mnumpy\u001b[0m\u001b[1;33m.\u001b[0m\u001b[0mmatmul\u001b[0m\u001b[1;33m(\u001b[0m\u001b[0mX\u001b[0m\u001b[1;33m,\u001b[0m \u001b[0msqrt_cov_X\u001b[0m\u001b[1;33m)\u001b[0m\u001b[1;33m\u001b[0m\u001b[1;33m\u001b[0m\u001b[0m\n\u001b[0m\u001b[0;32m      2\u001b[0m \u001b[0mtmp\u001b[0m \u001b[1;33m=\u001b[0m \u001b[0mpandas\u001b[0m\u001b[1;33m.\u001b[0m\u001b[0mDataFrame\u001b[0m\u001b[1;33m(\u001b[0m\u001b[0mresult\u001b[0m\u001b[1;33m)\u001b[0m\u001b[1;33m\u001b[0m\u001b[1;33m\u001b[0m\u001b[0m\n\u001b[0;32m      3\u001b[0m \u001b[0mtmp\u001b[0m\u001b[1;33m.\u001b[0m\u001b[0mhead\u001b[0m\u001b[1;33m(\u001b[0m\u001b[1;33m)\u001b[0m\u001b[1;33m\u001b[0m\u001b[1;33m\u001b[0m\u001b[0m\n",
      "\u001b[1;31mValueError\u001b[0m: matmul: Input operand 1 has a mismatch in its core dimension 0, with gufunc signature (n?,k),(k,m?)->(n?,m?) (size 3 is different from 2)"
     ]
    }
   ],
   "source": [
    "result = numpy.matmul(X, sqrt_cov_X)\n",
    "tmp = pandas.DataFrame(result)\n",
    "tmp.head()"
   ]
  },
  {
   "cell_type": "code",
   "execution_count": 95,
   "id": "e5175ba7-00a9-4f75-bdb6-41718a609726",
   "metadata": {},
   "outputs": [
    {
     "name": "stderr",
     "output_type": "stream",
     "text": [
      "c:\\program files\\python36\\lib\\site-packages\\pandas\\core\\internals\\managers.py:860: ComplexWarning: Casting complex values to real discards the imaginary part\n",
      "  arr = arr.astype(dtype, copy=False)\n"
     ]
    },
    {
     "data": {
      "text/html": [
       "<div>\n",
       "<style scoped>\n",
       "    .dataframe tbody tr th:only-of-type {\n",
       "        vertical-align: middle;\n",
       "    }\n",
       "\n",
       "    .dataframe tbody tr th {\n",
       "        vertical-align: top;\n",
       "    }\n",
       "\n",
       "    .dataframe thead th {\n",
       "        text-align: right;\n",
       "    }\n",
       "</style>\n",
       "<table border=\"1\" class=\"dataframe\">\n",
       "  <thead>\n",
       "    <tr style=\"text-align: right;\">\n",
       "      <th></th>\n",
       "      <th>0</th>\n",
       "      <th>1</th>\n",
       "      <th>2</th>\n",
       "    </tr>\n",
       "  </thead>\n",
       "  <tbody>\n",
       "    <tr>\n",
       "      <th>0</th>\n",
       "      <td>0.373754</td>\n",
       "      <td>0.260639</td>\n",
       "      <td>0.161049</td>\n",
       "    </tr>\n",
       "    <tr>\n",
       "      <th>1</th>\n",
       "      <td>0.260639</td>\n",
       "      <td>0.248335</td>\n",
       "      <td>0.058908</td>\n",
       "    </tr>\n",
       "    <tr>\n",
       "      <th>2</th>\n",
       "      <td>0.161049</td>\n",
       "      <td>0.058908</td>\n",
       "      <td>0.125145</td>\n",
       "    </tr>\n",
       "  </tbody>\n",
       "</table>\n",
       "</div>"
      ],
      "text/plain": [
       "          0         1         2\n",
       "0  0.373754  0.260639  0.161049\n",
       "1  0.260639  0.248335  0.058908\n",
       "2  0.161049  0.058908  0.125145"
      ]
     },
     "execution_count": 95,
     "metadata": {},
     "output_type": "execute_result"
    }
   ],
   "source": [
    "tmp.cov()"
   ]
  },
  {
   "cell_type": "code",
   "execution_count": 66,
   "id": "63f2251e-4772-4dee-8ac8-432854b9c34a",
   "metadata": {},
   "outputs": [
    {
     "data": {
      "text/plain": [
       "array([[3. +0.j, 1. +0.j, 0.5+0.j],\n",
       "       [1. +0.j, 2. +0.j, 1. +0.j],\n",
       "       [0.5+0.j, 1. +0.j, 1. +0.j]])"
      ]
     },
     "execution_count": 66,
     "metadata": {},
     "output_type": "execute_result"
    }
   ],
   "source": [
    "cov_X"
   ]
  },
  {
   "cell_type": "code",
   "execution_count": null,
   "id": "b3604f2f-6254-440c-b92a-a5fd7e65fcf6",
   "metadata": {},
   "outputs": [],
   "source": []
  },
  {
   "cell_type": "code",
   "execution_count": null,
   "id": "8e077f97-0820-4735-878f-7290e2a1ee82",
   "metadata": {},
   "outputs": [],
   "source": []
  },
  {
   "cell_type": "code",
   "execution_count": null,
   "id": "38e5c376-f0d6-4fcd-bc24-ee50a6bd159a",
   "metadata": {},
   "outputs": [],
   "source": []
  }
 ],
 "metadata": {
  "kernelspec": {
   "display_name": "Python 3",
   "language": "python",
   "name": "python3"
  },
  "language_info": {
   "codemirror_mode": {
    "name": "ipython",
    "version": 3
   },
   "file_extension": ".py",
   "mimetype": "text/x-python",
   "name": "python",
   "nbconvert_exporter": "python",
   "pygments_lexer": "ipython3",
   "version": "3.6.8"
  }
 },
 "nbformat": 4,
 "nbformat_minor": 5
}
