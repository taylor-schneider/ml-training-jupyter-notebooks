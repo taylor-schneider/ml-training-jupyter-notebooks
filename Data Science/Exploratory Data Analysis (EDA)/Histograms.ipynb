{
 "cells": [
  {
   "cell_type": "markdown",
   "id": "24dfa395-c190-4fe5-a0a3-ececaa6136fb",
   "metadata": {},
   "source": [
    "# Overview"
   ]
  },
  {
   "cell_type": "markdown",
   "id": "70f6e04c-2086-48d3-bcc2-14c7c5ff0c62",
   "metadata": {},
   "source": [
    "A histogram is a type of graph or chart which attempts to give a visual representation of how data points are distributed within a data set. In other words it visualizes the distribution of a sample. As such, it is a tool for aiding in the description of data similar to descriptive statistics.\n",
    "\n",
    "Practically speaking, a histogram is a bar chart which shows the number of times a particular element was found within a given data set.\n",
    "\n",
    "We will see in a later sections that there are multiple ways to construct the histogram. We will also see that these different constructions offer different advantages in terms of their descriptive power."
   ]
  },
  {
   "cell_type": "markdown",
   "id": "8f384de2-1d45-40f9-a00b-9f113d0894ca",
   "metadata": {},
   "source": [
    "# 1. Applications\n",
    "As mentioned earlier, histograms allows us to make descriptive inferances; many of which are tied to descriptive statistics.\n",
    "\n",
    "For example, we can visually infer the following sample statistics while looking at the distribution of data:\n",
    "\n",
    "1. center (i.e., the location) of the data;\n",
    "2. spread (i.e., the scale) of the data;\n",
    "3. skewness of the data;\n",
    "4. presence of outliers; and\n",
    "5. presence of multiple modes in the data.\n",
    "\n",
    "In addition to making descriptive inferences about the characteristics of the population distributions, histograms can also be used to extrapolate probabilities of observing events.\n",
    "\n",
    "In this regard, histograms become extremely helpful when we are trying to model an unknown distribution or a problem without an analytical solution.\n",
    "\n",
    "We will talk more about that in the coming sections."
   ]
  },
  {
   "cell_type": "markdown",
   "id": "d8c52d53-f568-43f8-b841-adb2686569bb",
   "metadata": {},
   "source": [
    "# 2. Types of Histograms\n",
    "\n",
    "There are a few different ways to impliment the historgram.\n",
    "\n",
    "- Frequency Distribution\n",
    "- Bin'ed Distributions\n",
    "\n",
    "From these we can extrapolate:\n",
    "\n",
    "- Cumulative frequency\n",
    "- Cumulative binning\n",
    "\n",
    "We are going to focus on the first three histograms in this notebook.\n",
    "\n",
    "Some additional reading:\n",
    "- https://www.itl.nist.gov/div898/handbook/eda/section3/histogra.htm\n",
    "- https://plotly.com/chart-studio-help/histogram/"
   ]
  },
  {
   "cell_type": "markdown",
   "id": "864faa2e-b3c1-4b50-8548-19c188748b52",
   "metadata": {
    "tags": []
   },
   "source": [
    "## 2.1 Frequency Distributions\n",
    "\n",
    "We would use the simplest implimentation which literally count the number of occurances of each discrete value.\n",
    "\n",
    "In some cases this is useful but in many cases this leaves too many \"holes\" in our distribution.\n",
    "\n",
    "<img src='images/raw_frequency.png' style='width:300px'>\n",
    "\n",
    "In extreme situations we we may notice that there isn't a real distribution being visualized... the data is just sort of \"flat\".\n",
    "\n",
    "<img src='images/raw_data.png' style='width:300px'>\n"
   ]
  },
  {
   "cell_type": "markdown",
   "id": "59114be0-5aa7-49d6-b6d4-c8a2eb569775",
   "metadata": {},
   "source": [
    "### 2.1.2 Binning and Bin'ed Distributions\n",
    "\n",
    "Binning can help solve these problems by effectively changing our discretization. A good analogy would be a survey of peoples heights; measuring heights in millimeters may be too precise; resulting in \"holes\" or a \"flat\" distribution. If we changed our discretization to centimeters and rounded the raw data it might be more meaningful. We would thus derive frequcnies in terms of centimeters and may see the distribution become less flat or we might see holes get filled in. This process is a form of binning; we adopt a new discretization and map our raw data into it.\n",
    "\n",
    "Practically speaking we can break the number line into segments and count the number of times a value falls within the segment\n",
    "\n",
    "<img src='images/bins.png' style='width:300px'>\n",
    "\n",
    "<img src='images/bin_frequency_image.png' style='width:300px'>\n",
    "\n",
    "We can then plot the frequencies as a bar chart.\n",
    "\n",
    "<img src='images/bar_chart_image.png' style='width:300px'>\n",
    "\n",
    "While it gives an intuitive understanding of the distribution of our data it does not give an outright estimation of the likelihood. That will come from our inferred probability distirbution."
   ]
  },
  {
   "cell_type": "markdown",
   "id": "0507e1f7-8be8-44d0-8e39-9c30fe3f2e52",
   "metadata": {},
   "source": [
    "#### 2.1.2.1. Bin widths affect our observations\n",
    "\n",
    "A few notes on how with withs or our bins may affect our inferences:\n",
    "\n",
    "##### Bins do not need to be the same width\n",
    "\n",
    "Bins widths can vary between the bins. In some cases this may be advantagous when there is a natural aymetry in the data; for example when looking at the Covid-90 death rate amongst age groups. In other cases it may make it dificult to interpret the results in certain situations.\n",
    "\n",
    "##### Less granularity means less outliers\n",
    "\n",
    "If the bins are too wide, we loose granularity and may not visualize outliers.\n",
    "\n",
    "If the bins are too narrow, the natural dispersion of data may imply characteristics which are the result of sampling error.\n",
    "\n",
    "##### Odd bucket numbers are bad??\n",
    "\n",
    "Odd numbers are bad for some reason?\n",
    "\n",
    "https://answerminer.com/blog/binning-guide-ideal-histogram"
   ]
  },
  {
   "cell_type": "markdown",
   "id": "7bb281a7-d673-4ddd-ba76-19714f79c5c1",
   "metadata": {},
   "source": [
    "#### 2.1.2.2 Choosing a bin width\n",
    "\n",
    "Now that we have talked about the pitfalls of binning, lets talk about some of the approaches to binning.\n",
    "\n",
    "Generally spekaing, we can determine a bin width if we know how many bins we would like (assuming uniform width):\n",
    "\n",
    "$$ bin \\ width = \\frac{X_{max} - X_{min}}{bin \\ count} $$\n",
    "\n",
    "Besides arbitrarily picking the number of bins, there are methods being specified to solve the problem:\n",
    "\n",
    "<table>\n",
    "    <thead>\n",
    "\t\t<tr>\n",
    "\t\t\t<th style=\"text-align: left;\">Method</th>\n",
    "\t\t\t<th style=\"text-align: left;\"># Bin</th>\n",
    "            <th style=\"text-align: left;\">Bin width</th>\n",
    "\t\t</tr>\n",
    "    </thead>\n",
    "    <colgroup>\n",
    "       <col span=\"1\" style=\"width: 35%;\">\n",
    "       <col span=\"1\" style=\"width: 25%;\">\n",
    "       <col span=\"1\" style=\"width: 40%;\">\n",
    "    </colgroup>\n",
    "\t<tbody>\n",
    "\t\t<tr>\n",
    "\t\t\t<td style=\"text-align: left;\">Square-root</td>\n",
    "\t\t\t<td style=\"text-align: left;\">$\\sqrt{N}$</td>\n",
    "            <td style=\"text-align: left;\">$\\frac{max - min}{\\# Bin}$</td>\n",
    "\t\t</tr>\n",
    "        <tr>\n",
    "\t\t\t<td style=\"text-align: left;\">Sturges 1926</td>\n",
    "\t\t\t<td style=\"text-align: left;\">$ceil(\\log_2{n})+1$</td>\n",
    "            <td style=\"text-align: left;\">$\\frac{max - min}{\\# Bin}$</td>\n",
    "\t\t</tr>\n",
    "        <tr>\n",
    "\t\t\t<td style=\"text-align: left;\">Rice 1944</td>\n",
    "\t\t\t<td style=\"text-align: left;\">$2 \\sqrt[3]{N}$</td>\n",
    "            <td style=\"text-align: left;\">$\\frac{max - min}{\\# Bin}$</td>\n",
    "\t\t</tr>\n",
    "        <tr>\n",
    "\t\t\t<td style=\"text-align: left;\">Scott 1979</td>\n",
    "\t\t\t<td style=\"text-align: left;\">$\\frac{max - min}{Bin width}$</td>\n",
    "            <td style=\"text-align: left;\">$3.5 * \\frac{\\sigma}{\\sqrt[3]{N}}$</td>\n",
    "\t\t</tr>\n",
    "        <tr>\n",
    "\t\t\t<td style=\"text-align: left;\">Freedman-Diaconis 1989</td>\n",
    "\t\t\t<td style=\"text-align: left;\">$\\frac{max - min}{Bin width}$</td>\n",
    "            <td style=\"text-align: left;\">$2*\\frac{IQR}{\\sqrt[3]{N}}$</td>\n",
    "\t\t</tr>\n",
    "    </tbody>\n",
    "</table>\n",
    "\n",
    "\n",
    "Some additional reading:\n",
    "- https://answerminer.com/blog/binning-guide-ideal-histogram\n",
    "- https://www.fmrib.ox.ac.uk/datasets/techrep/tr00mj2/tr00mj2/node24.html"
   ]
  },
  {
   "cell_type": "markdown",
   "id": "52b19c67-000d-4de9-99db-0c2a8e30b104",
   "metadata": {},
   "source": [
    "# 3. Examples\n",
    "\n",
    "In this section we will explore histograms using python. We will generate histograms for a given sample set of data and then derive probability statements from the histograms."
   ]
  },
  {
   "cell_type": "markdown",
   "id": "fc1d1f1a-28af-486f-87b8-1086892582a9",
   "metadata": {},
   "source": [
    "## 3.1 The Python Libraries\n",
    "There are a few basic operations that are performed when one constructs a histogram:\n",
    "1. Choosing a bin width\n",
    "2. Partitionaing the data\n",
    "3. Tabulating Frequencies\n",
    "4. Graphing the data\n",
    "\n",
    "Each of these can be solved with python. In some cases, special libraries exist to perform the operations. We will see that the steps listed above can be solve by the following libraries:\n",
    "\n",
    "1. numpy/pandas or builin python methods\n",
    "2. numpy\n",
    "3. numpy\n",
    "4. matplotlib\n",
    "\n",
    "It's important to note that in step 4, under the hood, everything is using matplotlib. Pandas is just a wrapper to simplify the apply some reoccuring configurations.\n",
    "\n",
    "http://jonathansoma.com/lede/algorithms-2017/classes/fuzziness-matplotlib/understand-df-plot-in-pandas/"
   ]
  },
  {
   "cell_type": "markdown",
   "id": "ba274032-7e47-4257-afe6-8bf5b44fdc00",
   "metadata": {},
   "source": [
    "## 3.2 Simulate a Normal Random Variable\n",
    "In this section we will generate some sample data fora normal random variable. With this data we will create histograms and calculate probabilities."
   ]
  },
  {
   "cell_type": "code",
   "execution_count": 1,
   "id": "cc640204-1583-4ef8-97cb-cd23eebefd3d",
   "metadata": {},
   "outputs": [
    {
     "data": {
      "image/png": "[encoded data removed]",
      "text/plain": [
       "<Figure size 2160x288 with 2 Axes>"
      ]
     },
     "metadata": {
      "needs_background": "light"
     },
     "output_type": "display_data"
    }
   ],
   "source": [
    "# Import some librearies to help us out\n",
    "import numpy\n",
    "from matplotlib import pyplot\n",
    "\n",
    "# Define some population parameters\n",
    "mu = 5\n",
    "sigma = 0.75\n",
    "\n",
    "# Create our sample data\n",
    "numpy.random.seed(seed=42)\n",
    "x = [ 1,  2,  3,  4,  5,  6,  7,  8,  9, 10, 11, 12, 13, 14, 15, 16, 17, 18, 19, 20]\n",
    "y = numpy.random.normal(loc=mu, scale=sigma, size=len(x))\n",
    "\n",
    "# Plot the data\n",
    "fig, (ax1, ax2) = pyplot.subplots(nrows=1, ncols=2)\n",
    "ax1.scatter(x,y)\n",
    "ax2.scatter(y, [0 for x in range(0, len(x))])\n",
    "fig.set_figwidth(30)\n",
    "ax1.set_title(\"Scatter\")\n",
    "ax2.set_title(\"Distribution\");"
   ]
  },
  {
   "cell_type": "markdown",
   "id": "bd214b2e-ed0b-4332-9f42-a70499926938",
   "metadata": {},
   "source": [
    "## 3.3. Historgrams with Numpy"
   ]
  },
  {
   "cell_type": "markdown",
   "id": "d8537ca8-f5f3-4510-93c1-0e0275f3678b",
   "metadata": {},
   "source": [
    "### 3.3.1. The numpy.histogram() function\n",
    "The Numpy library offers a function to create a histogram based on a set of raw data.\n",
    "\n",
    "The histogram is based on bins of data. It will divide the y axis into segments called bins and count how many occurances of a value fall into a given bin. The histogram we calculate is affectively representing a count of the data points found within a bin.\n",
    "\n",
    "The numpy library represents the histogram as an array of counts, and an array of bin edges.\n",
    "\n",
    "Note: There will always be one more edge (makred with a '|') than there are counts (marked with a $c_n$) as each ontinguous bin has two edges and the counts coresponde to a bin:\n",
    "\n",
    "```| c1 | c1 | c3 |```\n",
    "\n",
    "The function has a number of parameters which define how this works. See the documentation for more detail. Official documentation can be found here on the coresponding [numpy.org](https://numpy.org/doc/stable/reference/generated/numpy.histogram.html) page."
   ]
  },
  {
   "cell_type": "code",
   "execution_count": 2,
   "id": "5a78d024-8247-4efb-95a7-f56b424c26cd",
   "metadata": {},
   "outputs": [],
   "source": [
    "# Determine how many bins we want to use for our histogram\n",
    "bins = 10\n",
    "\n",
    "# Calculate the counts and bins for our numpy array\n",
    "numpy_y = numpy.array(y)\n",
    "counts, bin_edges = numpy.histogram(numpy_y, bins=bins)"
   ]
  },
  {
   "cell_type": "markdown",
   "id": "f3c1c72b-27b2-43f7-879b-cf7a41c4ff6b",
   "metadata": {},
   "source": [
    "Because the bins can contain a range of values, and not one discrete value, graphing the counts is a little tricky. There are two simple approaches we can take:\n",
    "1. Give the bins numbers and show the counts against the bin numbers\n",
    "2. Calculate the midpoints of the bin edges and show the counts against that point\n",
    "3. Graph the counts against the left or right edge of the bin\n",
    "\n",
    "All three can be seen below, respectively:"
   ]
  },
  {
   "cell_type": "code",
   "execution_count": 3,
   "id": "d084bbb3-3bbc-4c21-8ca3-42d81aea1ec5",
   "metadata": {},
   "outputs": [
    {
     "data": {
      "image/png": "[encoded data removed]",
      "text/plain": [
       "<Figure size 2160x288 with 4 Axes>"
      ]
     },
     "metadata": {
      "needs_background": "light"
     },
     "output_type": "display_data"
    }
   ],
   "source": [
    "# Calculate values for the x axis of the histogram\n",
    "bin_numbers = list(range(1, len(bin_edges)))\n",
    "bin_midpoints = bin_edges[:-1] + (numpy.diff(bin_edges, 1) / 2)\n",
    "bin_left_edges = bin_edges[:-1]\n",
    "bin_right_edges = bin_edges[1:]\n",
    "\n",
    "# Plot the histogram information as a bar chart\n",
    "#\n",
    "# Note: We set the witdh= parameter for the bar() function because \n",
    "#       by default it will glob bars together\n",
    "\n",
    "fig, (ax1, ax2, ax3, ax4) = pyplot.subplots(nrows=1, ncols=4)\n",
    "bar_container = ax1.bar(bin_numbers, counts, width=0.8) # <- why 0.8 when the rest are 0.2 ???\n",
    "bar_container = ax2.bar(bin_midpoints, counts, width=0.2)\n",
    "bar_container = ax3.bar(bin_left_edges, counts, width=0.2)\n",
    "bar_container = ax4.bar(bin_right_edges, counts, width=0.2)\n",
    "\n",
    "fig.set_figwidth(30)\n",
    "ax1.set_title(\"Bin Nunmbers\")\n",
    "ax2.set_title(\"Midpoints\")\n",
    "ax3.set_title(\"Left Edges\")\n",
    "ax4.set_title(\"right Edges\");"
   ]
  },
  {
   "cell_type": "markdown",
   "id": "da2af43e-abd7-4ea3-837a-213c9006e6bf",
   "metadata": {},
   "source": [
    "## 3.4. Histogram with Pandas\n",
    "\n",
    "### 3.4.1. Pandas DataFrame.hist() function\n",
    "\n",
    "Pandas makes a histogram much easier becasue it hides a lot of the complexitied found in numpy and matplotlib.\n",
    "\n",
    "The DataFrame.hist() function calls matplotlib.pyplot.hist(), on each series in the DataFrame, resulting in one histogram per column.\n",
    "\n",
    "https://pandas.pydata.org/pandas-docs/stable/reference/api/pandas.DataFrame.hist.html"
   ]
  },
  {
   "cell_type": "code",
   "execution_count": 4,
   "id": "5741b786-aafd-48e8-b453-e795d975dbea",
   "metadata": {},
   "outputs": [
    {
     "data": {
      "image/png": "[encoded data removed]",
      "text/plain": [
       "<Figure size 432x288 with 1 Axes>"
      ]
     },
     "metadata": {
      "needs_background": "light"
     },
     "output_type": "display_data"
    }
   ],
   "source": [
    "import pandas\n",
    "df = pandas.DataFrame({\"x\": x, \"y\": y,})\n",
    "subplots = df.hist(\"y\", bins=bins)"
   ]
  },
  {
   "cell_type": "markdown",
   "id": "a7073402-4285-4c96-ba18-709e30840fa1",
   "metadata": {},
   "source": [
    "But this is only a visualization. To work with the data we will need to use the numpy.histogram() function we saw earlier. We can convert our dataframe into a numpy array and then run the builtin function."
   ]
  },
  {
   "cell_type": "code",
   "execution_count": 5,
   "id": "06497738-2a04-4431-8744-80e9a014f51d",
   "metadata": {},
   "outputs": [],
   "source": [
    "counts, bin_edges = numpy.histogram(df[\"y\"].to_numpy(), bins=bins)"
   ]
  },
  {
   "cell_type": "markdown",
   "id": "083b01e7-ffaf-4b6b-b679-936eeab77361",
   "metadata": {},
   "source": [
    "While Pandas has some nice builtin functionality for plotting, it also comes with some bugs. Conside the graphs below; the x-axis is wrong on the third plot. Generally speaking its best to go through native matplotlib functions at the end of the day."
   ]
  }
 ],
 "metadata": {
  "kernelspec": {
   "display_name": "Python 3",
   "language": "python",
   "name": "python3"
  },
  "language_info": {
   "codemirror_mode": {
    "name": "ipython",
    "version": 3
   },
   "file_extension": ".py",
   "mimetype": "text/x-python",
   "name": "python",
   "nbconvert_exporter": "python",
   "pygments_lexer": "ipython3",
   "version": "3.6.8"
  }
 },
 "nbformat": 4,
 "nbformat_minor": 5
}
