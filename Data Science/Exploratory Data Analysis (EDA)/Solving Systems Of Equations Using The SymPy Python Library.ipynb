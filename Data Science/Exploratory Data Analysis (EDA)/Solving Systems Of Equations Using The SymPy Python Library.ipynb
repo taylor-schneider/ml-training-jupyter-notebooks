{
 "cells": [
  {
   "cell_type": "markdown",
   "metadata": {},
   "source": [
    "# Solving Systems Of Equations Using Python\n",
    "Machines have been solving math problems since their creation. Python, being one of the primary languages used for mathematical programming, has a number of tools to help us out. In this notebook we will look at how one can solve a system of equations using python. \n",
    "\n",
    "While there are many techniques for solving such a problem, we are interested in one of the easiest and most human friendly approaches. We will examine SymPy which offers a Solvers function which is capable of solving euqations defined using a symbolic language. A symbolic language solver is such that a user can specify an equation as a string like \"x = 2 + 5\" and the solver will understand and solve the equation and give us the value of x."
   ]
  },
  {
   "cell_type": "code",
   "execution_count": 1,
   "metadata": {},
   "outputs": [],
   "source": [
    "# Import the python library that has the objects and functions required for solving symbolic expressions\n",
    "import sympy"
   ]
  },
  {
   "cell_type": "markdown",
   "metadata": {},
   "source": [
    "## Example 1: A basic system of two equations\n",
    "\n",
    "Our system of equations is as follows:\n",
    "\n",
    "$$ y = x + 2 $$\n",
    "$$ x + y = 4 $$\n",
    "\n",
    "The solution is x=1, y=3"
   ]
  },
  {
   "cell_type": "code",
   "execution_count": 2,
   "metadata": {},
   "outputs": [],
   "source": [
    "# Define our symbols in our equations\n",
    "x = sympy.Symbol('x')\n",
    "y = sympy.Symbol('y')"
   ]
  },
  {
   "cell_type": "markdown",
   "metadata": {},
   "source": [
    "Our SymPy solver requires that the equations being solved are set so they equal zero. So our original equations become:\n",
    "\n",
    "$$ y - x - 2 = 0 $$\n",
    "$$ y + x - 4 = 0 $$"
   ]
  },
  {
   "cell_type": "code",
   "execution_count": 3,
   "metadata": {},
   "outputs": [],
   "source": [
    "# Define our equations such that they equal 0\n",
    "eq1 = y - x - 2\n",
    "eq2 = y + x - 4\n",
    "eqs = [eq1, eq2]"
   ]
  },
  {
   "cell_type": "code",
   "execution_count": 4,
   "metadata": {},
   "outputs": [
    {
     "name": "stdout",
     "output_type": "stream",
     "text": [
      "The value of x is 1\n",
      "The value of y is 3\n"
     ]
    }
   ],
   "source": [
    "# Solve our equation\n",
    "answer = sympy.solvers.solve(eqs, x, y)\n",
    "print(\"The value of x is {0}\".format(answer[x]))\n",
    "print(\"The value of y is {0}\".format(answer[y]))"
   ]
  },
  {
   "cell_type": "markdown",
   "metadata": {},
   "source": [
    "## Example 2: Using a constant\n",
    "In some cases we may have a system of equations that relies on a constant. For example:\n",
    "\n",
    "$$ y = x + c $$\n",
    "$$ x + y = 4 $$\n",
    "\n",
    "Where $c=6$"
   ]
  },
  {
   "cell_type": "code",
   "execution_count": 5,
   "metadata": {},
   "outputs": [
    {
     "name": "stdout",
     "output_type": "stream",
     "text": [
      "The value of x is -1\n",
      "The value of y is 5\n"
     ]
    }
   ],
   "source": [
    "x = sympy.Symbol('x')\n",
    "y = sympy.Symbol('y')\n",
    "c = 6\n",
    "eqs = [\n",
    "    y - x - c,\n",
    "    y + x - 4\n",
    "]\n",
    "answer = sympy.solvers.solve(eqs, x, y)\n",
    "print(\"The value of x is {0}\".format(answer[x]))\n",
    "print(\"The value of y is {0}\".format(answer[y]))"
   ]
  },
  {
   "cell_type": "markdown",
   "metadata": {},
   "source": [
    "## Example 3: Using simple functions\n",
    "In some cases we may have a system of equations that relies on functions. For example:\n",
    "\n",
    "$$ y = x + f(x) $$\n",
    "$$ x + y = 4 $$\n",
    "\n",
    "Where f(x) is a function such that $f(x)=2x + 3$"
   ]
  },
  {
   "cell_type": "code",
   "execution_count": 6,
   "metadata": {},
   "outputs": [],
   "source": [
    "# Define our symbols in our equations\n",
    "x = sympy.Symbol('x')\n",
    "y = sympy.Symbol('y')"
   ]
  },
  {
   "cell_type": "code",
   "execution_count": 7,
   "metadata": {},
   "outputs": [
    {
     "name": "stdout",
     "output_type": "stream",
     "text": [
      "The function: 2*x + 3\n",
      "The derivative: 2\n",
      "A solution: 11\n"
     ]
    }
   ],
   "source": [
    "# Define our function as an extension of the base Function class\n",
    "#    https://docs.sympy.org/latest/modules/functions/index.html\n",
    "#\n",
    "\n",
    "class f(sympy.Function):\n",
    " \n",
    "    # Specify the parameters and logic of the function\n",
    "    @classmethod\n",
    "    def eval(self, x):\n",
    "        return 2 * x + 3\n",
    "\n",
    "print(\"The function: {0}\".format(f(x)))\n",
    "print(\"The derivative: {0}\".format(f(x).diff(x)))\n",
    "print(\"A solution: {0}\".format(f(4)))"
   ]
  },
  {
   "cell_type": "code",
   "execution_count": 8,
   "metadata": {},
   "outputs": [],
   "source": [
    "# Define our equations such that they equal 0\n",
    "equations =[\n",
    "    y - x - f(x),\n",
    "    y + x - 4\n",
    "]"
   ]
  },
  {
   "cell_type": "code",
   "execution_count": 9,
   "metadata": {},
   "outputs": [
    {
     "name": "stdout",
     "output_type": "stream",
     "text": [
      "The value of x is 1/4\n",
      "The value of y is 15/4\n"
     ]
    }
   ],
   "source": [
    "# Solve our equation\n",
    "answer = sympy.solvers.solve(equations, x, y, f)\n",
    "print(\"The value of x is {0}\".format(answer[x]))\n",
    "print(\"The value of y is {0}\".format(answer[y]))"
   ]
  },
  {
   "cell_type": "markdown",
   "metadata": {},
   "source": [
    "## Example 4: Passing expressions to functions\n",
    "In some cases we may want to pass expressions to functions:\n",
    "\n",
    "$$ y = x + f( 2 + x) $$\n",
    "$$ x + y = 4 $$\n",
    "\n",
    "Where f(x) is a function such that $f(x)=x + 3$"
   ]
  },
  {
   "cell_type": "code",
   "execution_count": 10,
   "metadata": {},
   "outputs": [
    {
     "name": "stdout",
     "output_type": "stream",
     "text": [
      "The value of x is -5/4\n",
      "The value of y is 21/4\n"
     ]
    }
   ],
   "source": [
    "x = sympy.Symbol('x')\n",
    "y = sympy.Symbol('y')\n",
    "\n",
    "class f(sympy.Function):\n",
    " \n",
    "    # Specify the parameters and logic of the function\n",
    "    @classmethod\n",
    "    def eval(self, x):\n",
    "        return 2* x + 3\n",
    "\n",
    "equations =[\n",
    "    y - x - f(3 + x),\n",
    "    y + x - 4\n",
    "]\n",
    "answer = sympy.solvers.solve(equations, x, y, f)\n",
    "print(\"The value of x is {0}\".format(answer[x]))\n",
    "print(\"The value of y is {0}\".format(answer[y]))"
   ]
  },
  {
   "cell_type": "markdown",
   "metadata": {},
   "source": [
    "## Example 5: Passing expressions to numpy functions\n",
    "In some cases we may want to pass expressions to functions:\n",
    "\n",
    "$$ y = x + \\beta(2 + x, 1 - x) $$\n",
    "$$ x + y = 4 $$\n",
    "\n",
    "Where $ \\beta(a,b) = \\int_0^1 x^{a-1} (1 - x)^{b-1} dx $"
   ]
  },
  {
   "cell_type": "markdown",
   "metadata": {},
   "source": [
    "There is an implimentation of the beta function in the scipy library. "
   ]
  },
  {
   "cell_type": "code",
   "execution_count": 11,
   "metadata": {},
   "outputs": [],
   "source": [
    "import scipy.special"
   ]
  },
  {
   "cell_type": "code",
   "execution_count": 12,
   "metadata": {},
   "outputs": [
    {
     "data": {
      "text/plain": [
       "0.08333333333333333"
      ]
     },
     "execution_count": 12,
     "metadata": {},
     "output_type": "execute_result"
    }
   ],
   "source": [
    "scipy.special.beta(2, 3)"
   ]
  },
  {
   "cell_type": "markdown",
   "metadata": {},
   "source": [
    "But we cannot use this implimentation because it does not know how to handle expressions like 2 + x. As such we will not be able to solve the system of equations."
   ]
  },
  {
   "cell_type": "code",
   "execution_count": 13,
   "metadata": {},
   "outputs": [
    {
     "name": "stdout",
     "output_type": "stream",
     "text": [
      "The function broke as expected\n"
     ]
    }
   ],
   "source": [
    "x = sympy.Symbol('x')\n",
    "y = sympy.Symbol('y')\n",
    "\n",
    "class B(sympy.Function):\n",
    " \n",
    "    # Specify the parameters and logic of the function\n",
    "    @classmethod\n",
    "    def eval(self, a, b):\n",
    "        try:\n",
    "            scipy.special.beta(a, b)\n",
    "        except:\n",
    "            print(\"The function broke as expected\")\n",
    "\n",
    "equations =[\n",
    "    y - x - B(2+x,1-x),\n",
    "    y + x - 4\n",
    "]\n",
    "\n",
    "\n",
    "#answer = sympy.solvers.solve(equations, x, y, f)\n",
    "#print(\"The value of x is {0}\".format(answer[x]))\n",
    "#print(\"The value of y is {0}\".format(answer[y]))"
   ]
  },
  {
   "cell_type": "markdown",
   "metadata": {},
   "source": [
    "We could try to define own beta function using sympy primitives."
   ]
  },
  {
   "cell_type": "code",
   "execution_count": 14,
   "metadata": {},
   "outputs": [],
   "source": [
    "x = sympy.Symbol('x')\n",
    "a = sympy.Symbol('a')\n",
    "b = sympy.Symbol('b')\n",
    "\n",
    "expression = x**(a - 1) * (1 - x)**(b - 1)\n",
    "#beta = sympy.integrate(expression, (x, 0, 1))\n",
    "#beta"
   ]
  },
  {
   "cell_type": "markdown",
   "metadata": {},
   "source": [
    "But we will see that sympy cannot integrate the expression in this form and the integrate function call seems to hang.\n",
    "\n",
    "Luckily sympy impliments a beta function. It can be used in expression solving and can render aproximations.\n",
    "\n",
    "https://docs.sympy.org/latest/modules/functions/special.html#sympy.functions.special.beta_functions.beta"
   ]
  },
  {
   "cell_type": "code",
   "execution_count": 15,
   "metadata": {},
   "outputs": [
    {
     "data": {
      "text/latex": [
       "$\\displaystyle \\operatorname{B}\\left(2, 3\\right)$"
      ],
      "text/plain": [
       "beta(2, 3)"
      ]
     },
     "execution_count": 15,
     "metadata": {},
     "output_type": "execute_result"
    }
   ],
   "source": [
    "sympy.beta(2,3)"
   ]
  },
  {
   "cell_type": "code",
   "execution_count": 16,
   "metadata": {},
   "outputs": [
    {
     "data": {
      "text/latex": [
       "$\\displaystyle 0.0833333333333333$"
      ],
      "text/plain": [
       "0.0833333333333333"
      ]
     },
     "execution_count": 16,
     "metadata": {},
     "output_type": "execute_result"
    }
   ],
   "source": [
    "sympy.beta(2,3).evalf()"
   ]
  },
  {
   "cell_type": "markdown",
   "metadata": {},
   "source": [
    "So we can use the solver as follows"
   ]
  },
  {
   "cell_type": "code",
   "execution_count": 17,
   "metadata": {},
   "outputs": [
    {
     "data": {
      "text/plain": [
       "{x: 6 - beta(2, 3), y: 6}"
      ]
     },
     "execution_count": 17,
     "metadata": {},
     "output_type": "execute_result"
    }
   ],
   "source": [
    "x = sympy.Symbol('x')\n",
    "y = sympy.Symbol('y')\n",
    "\n",
    "equations =[\n",
    "    y - x - sympy.beta(2, 3),\n",
    "    y - 6\n",
    "]\n",
    "answer = sympy.solvers.solve(equations, x, y)\n",
    "answer"
   ]
  },
  {
   "cell_type": "code",
   "execution_count": 18,
   "metadata": {},
   "outputs": [
    {
     "data": {
      "text/latex": [
       "$\\displaystyle 5.91666666666667$"
      ],
      "text/plain": [
       "5.91666666666667"
      ]
     },
     "execution_count": 18,
     "metadata": {},
     "output_type": "execute_result"
    }
   ],
   "source": [
    "answer[x].evalf()"
   ]
  },
  {
   "cell_type": "markdown",
   "metadata": {},
   "source": [
    "## Example 6: Nested expressions\n",
    "In some cases we may want to pass expressions to functions:\n",
    "\n",
    "$$ y = x + z $$\n",
    "$$ x + y = 4 $$\n",
    "\n",
    "Where $ z = 3x + 5 $"
   ]
  },
  {
   "cell_type": "code",
   "execution_count": 19,
   "metadata": {},
   "outputs": [
    {
     "data": {
      "text/plain": [
       "{x: -1/5, y: 21/5}"
      ]
     },
     "execution_count": 19,
     "metadata": {},
     "output_type": "execute_result"
    }
   ],
   "source": [
    "x = sympy.Symbol('x')\n",
    "y = sympy.Symbol('y')\n",
    "z = 3*x + 5\n",
    "\n",
    "equations =[\n",
    "    y - x - z,\n",
    "    x + y - 4\n",
    "]\n",
    "answer = sympy.solvers.solve(equations, x, y)\n",
    "answer"
   ]
  },
  {
   "cell_type": "markdown",
   "metadata": {},
   "source": [
    "## Example 7: Solving espressions defined as latex\n",
    "In some cases we may want to pass expressions to functions:\n",
    "\n",
    "$$ y = x + z $$\n",
    "$$ x + y = 4 $$\n",
    "\n",
    "Where $ z = 3x + 5 $"
   ]
  },
  {
   "cell_type": "code",
   "execution_count": 20,
   "metadata": {},
   "outputs": [
    {
     "name": "stdout",
     "output_type": "stream",
     "text": [
      "Requirement already satisfied: antlr4-python3-runtime in c:\\program files\\python\\python 3.8\\lib\\site-packages (4.9.1)\n"
     ]
    },
    {
     "name": "stderr",
     "output_type": "stream",
     "text": [
      "WARNING: You are using pip version 20.2.3; however, version 20.3.3 is available.\n",
      "You should consider upgrading via the 'c:\\program files\\python\\python 3.8\\python.exe -m pip install --upgrade pip' command.\n"
     ]
    }
   ],
   "source": [
    "!pip install antlr4-python3-runtime\n",
    "import sympy.parsing.latex"
   ]
  },
  {
   "cell_type": "code",
   "execution_count": 21,
   "metadata": {},
   "outputs": [
    {
     "name": "stdout",
     "output_type": "stream",
     "text": [
      "ANTLR runtime and generated code versions disagree: 4.9.1!=4.7.2\n",
      "ANTLR runtime and generated code versions disagree: 4.9.1!=4.7.2\n",
      "ANTLR runtime and generated code versions disagree: 4.9.1!=4.7.2\n",
      "ANTLR runtime and generated code versions disagree: 4.9.1!=4.7.2\n",
      "ANTLR runtime and generated code versions disagree: 4.9.1!=4.7.2\n",
      "ANTLR runtime and generated code versions disagree: 4.9.1!=4.7.2\n"
     ]
    }
   ],
   "source": [
    "latex1 = r'y - x - z'\n",
    "eq1 = sympy.parsing.latex.parse_latex(latex1)\n",
    "latex2 = r'x + y - 4'\n",
    "eq2 = sympy.parsing.latex.parse_latex(latex2)\n",
    "latex3 = r'-z + 3*x + 5'\n",
    "eq3 = sympy.parsing.latex.parse_latex(latex3)"
   ]
  },
  {
   "cell_type": "code",
   "execution_count": 22,
   "metadata": {},
   "outputs": [
    {
     "data": {
      "text/plain": [
       "{x: -1/5, y: 21/5, z: 22/5}"
      ]
     },
     "execution_count": 22,
     "metadata": {},
     "output_type": "execute_result"
    }
   ],
   "source": [
    "equations =[\n",
    "    eq1,\n",
    "    eq2,\n",
    "    eq3\n",
    "]\n",
    "answer = sympy.solvers.solve(equations)\n",
    "answer"
   ]
  },
  {
   "cell_type": "code",
   "execution_count": null,
   "metadata": {},
   "outputs": [],
   "source": []
  }
 ],
 "metadata": {
  "kernelspec": {
   "display_name": "Python 3",
   "language": "python",
   "name": "python3"
  },
  "language_info": {
   "codemirror_mode": {
    "name": "ipython",
    "version": 3
   },
   "file_extension": ".py",
   "mimetype": "text/x-python",
   "name": "python",
   "nbconvert_exporter": "python",
   "pygments_lexer": "ipython3",
   "version": "3.8.0"
  }
 },
 "nbformat": 4,
 "nbformat_minor": 4
}
