{
 "cells": [
  {
   "cell_type": "markdown",
   "id": "a0828f32-db81-4332-8ce7-06bcb3d0abb6",
   "metadata": {
    "tags": []
   },
   "source": [
    "# Overview\n",
    "In mathematics, moments are a family of descriptive statistics that define the nature and shape of a distribution. As such they have a wide range of applications which we will dig into in later notebooks.\n",
    "\n",
    "In this notebook we will examine the following:\n",
    "1. History\n",
    "2. Moments\n",
    "2. Moment Generating Function\n",
    "\n"
   ]
  },
  {
   "cell_type": "markdown",
   "id": "8a3308d3-9e21-4bd7-b90f-b1557ccef53a",
   "metadata": {},
   "source": [
    "# 1. History"
   ]
  },
  {
   "cell_type": "markdown",
   "id": "d2140889-7666-4d5c-81f3-437146ce9439",
   "metadata": {},
   "source": [
    "# 2. Moments\n",
    "## 2.1. General Definition\n",
    "In mathematics, moments are a family of descriptive statistics that define the nature and shape of a distribution. As such they have a wide range of applications which we will dig into in later notebooks.\n",
    "\n",
    "## 2.2. Types of moments\n",
    "There are two main types of moments that are used by mathmaticians and data scientists. **Regular or Raw Moments** provide an absolute measurement which describes a characteristic of a data set while **Relative or Central Moments** provide a relative measurement which decribes a characteristic of a data set relative to the location parameter. \n",
    "\n",
    "Raw moments provide informatoon about a distribution in absolute terms. A good example is the cental moment also refferred to as the mean. It descibes the center of our data set on a number line in absolute terms. this type of measurement being in absolute terms (ie in terms of zero) is useful because it allows us to understand proximity relative to other data sets. We can say things like \"This data set is centered at -200 while this other one is centered around 15\".\n",
    "\n",
    "The opposite of Raw Moments are Central moments. Central moments are typically used in preference to ordinary moments. This is because the moments are denominated in terms of deviations from the mean instead of from zero. This characteristic is particularely useful when dealing with higher-order central moments as they relate only to the spread and shape of the distribution which become less informative when discussed in absolute terms as with raw moments."
   ]
  },
  {
   "cell_type": "markdown",
   "id": "d18afc6e-adbf-4451-a6bb-5cb36c6a7ce0",
   "metadata": {},
   "source": [
    "# 3. Moment Generating Functions\n",
    "\n",
    "A moment generating function is a function that generates the mathematical formulas and values for the moments of other functions.\n",
    "\n",
    "## 2.1. Definitions\n",
    "### 2.1.1. Ordinary Moment Definition\n",
    "The nth moment $\\mu_n$ of a function or random variable $X$ is defined as:\n",
    "\n",
    "$$ \\mu_n = E[X^n] $$\n",
    "\n",
    "Where the expected value $E(X)$ is defined for the finite and continuous case respectivey:\n",
    "\n",
    "$$ E[X] = \\sum{x_n f_n}$$\n",
    "\n",
    "$$ E[X] = \\int{x_n f_n}$$\n",
    "\n",
    "And $f_n$ is the probability density function of $X$\n",
    "\n",
    "### 2.1.2. Central Moment Definition\n",
    "The nth central moment $\\mu^c_n$ of a function or random variable $X$ is defined as:\n",
    "\n",
    "$$ \\mu^c_n = E[(X-\\mu)^n] $$\n",
    "\n",
    "Where the expected value $E(X)$ is defined for the finite and continuous case respectivey:\n",
    "\n",
    "$$ E[X] = \\sum{(X-\\mu)^n f_n}$$\n",
    "\n",
    "$$ E[X] = \\int{(X-\\mu)^n f_n}$$\n",
    "\n",
    "And $f_n$ is the probability density function of $X$"
   ]
  },
  {
   "cell_type": "markdown",
   "id": "02e5fa7a-a5bf-4bc7-8e96-350b0d43d48c",
   "metadata": {},
   "source": [
    "## 2.2. Common Moment Derevations, Proofs, and Explanations\n",
    "We will look at a few of the most commonly used moments. We will understand what they tell us and how the formulas are derived."
   ]
  },
  {
   "cell_type": "markdown",
   "id": "206c70ba-221e-484b-9974-542f0a7743ed",
   "metadata": {},
   "source": [
    "### 2.2.1. The First Moment (The Mean)\n",
    "The first moment is often referred to as the mean or the location parameter of a distribution. This statistic describes a point around which most of the data in a samlple is located.\n",
    "\n",
    "As the first moment we can plug $n=1$ into our moment generating function and derive a general formula:\n",
    "\n",
    "$$ \\mu_n = E(X^n) $$\n",
    "\n",
    "$$ \\mu_1 = E(X^1) $$\n",
    "\n",
    "$$ \\mu = E(X) $$\n",
    "\n",
    "$$ \\mu =\\sum{x_n f_n} $$\n",
    "\n",
    "Generally speaking, an arethmetic mean is commonly used which implies a uniform distribution parameterized by the sample set. Each event has a probability $p=\\frac{1}{n}$ of occuring.\n",
    "\n",
    "$$ \\mu =\\sum{x_n \\frac{1}{n}} $$\n",
    "\n",
    "$$ \\mu = \\frac{1}{n}\\sum{x_n } $$"
   ]
  },
  {
   "cell_type": "markdown",
   "id": "dcc46063-b2bf-46ac-8f21-c65dbd2da73b",
   "metadata": {},
   "source": [
    "### 2.2.2. The Second Central Moment (The Variance)\n",
    "The variance is a statistic that describes how spread out data is about the mean\n",
    "\n",
    "As the second moment we can plug $n=2$ into our moment generating function and derive a general formula:\n",
    "\n",
    "$$ \\mu_n = E[(X-\\mu)^n] $$\n",
    "\n",
    "$$ \\mu_2 = E[(X-\\mu)^2] $$\n",
    "\n",
    "$$ \\sigma^2 = E[(X-\\mu)^2] $$\n",
    "\n",
    "$$ = E[(X-\\mu)(X-\\mu)] $$\n",
    "\n",
    "$$ = E[(X^2- 2\\mu X + \\mu^2)] $$\n",
    "\n",
    "$$ = E[X^2]- E[2\\mu X] + E[\\mu^2] $$\n",
    "\n",
    "$$ = E[X^2]- 2\\mu E[X] + \\mu^2 $$\n",
    "\n",
    "$$ = E[X^2]- 2E[X]E[X] + E[X]^2 $$\n",
    "\n",
    "$$ = E[X^2]- 2E[X]^2 + E[X]^2 $$\n",
    "\n",
    "$$ = E[X^2]- E[X]^2 $$"
   ]
  },
  {
   "cell_type": "code",
   "execution_count": null,
   "id": "27d9d38c-ecbd-4f29-8802-8054ae3ba052",
   "metadata": {},
   "outputs": [],
   "source": []
  },
  {
   "cell_type": "code",
   "execution_count": null,
   "id": "6f587a7c-d67f-4dd5-bea1-75262cae59c6",
   "metadata": {},
   "outputs": [],
   "source": []
  },
  {
   "cell_type": "code",
   "execution_count": null,
   "id": "37df2e2e-21ea-4285-a98f-dd691ae7dd8c",
   "metadata": {},
   "outputs": [],
   "source": []
  },
  {
   "cell_type": "markdown",
   "id": "f1a65d9e-0feb-4326-87a0-bf51b119b5ce",
   "metadata": {},
   "source": [
    "## 2.3 Common Moments\n",
    "\n",
    "\n"
   ]
  },
  {
   "cell_type": "markdown",
   "id": "f1c3761a-aef6-4032-ba6a-58fafa340601",
   "metadata": {},
   "source": []
  }
 ],
 "metadata": {
  "kernelspec": {
   "display_name": "Python 3",
   "language": "python",
   "name": "python3"
  },
  "language_info": {
   "codemirror_mode": {
    "name": "ipython",
    "version": 3
   },
   "file_extension": ".py",
   "mimetype": "text/x-python",
   "name": "python",
   "nbconvert_exporter": "python",
   "pygments_lexer": "ipython3",
   "version": "3.6.8"
  }
 },
 "nbformat": 4,
 "nbformat_minor": 5
}
