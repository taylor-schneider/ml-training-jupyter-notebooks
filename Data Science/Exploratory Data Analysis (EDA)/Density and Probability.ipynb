{
 "cells": [
  {
   "cell_type": "markdown",
   "metadata": {},
   "source": [
    "# Overview\n",
    "In this notebook we look at how density measurements can help us model a probability distribution (probability density function). We will focus on the application of a [histogram](Histograms.ipynb) but other methods for approximating the density, such as [KDE](Kernel%20Density%20Estimation%20%28KDE%29.ipynb).\n",
    "\n",
    "We will use python and some common data science libraries (numpy/pandas/matplotlib) to tabulate and visualize this concept.\n",
    "\n",
    "\n",
    "\n",
    "\n",
    "TODO read this: \n",
    "https://answerminer.com/blog/binning-guide-ideal-histogram\n",
    "https://plotly.com/chart-studio-help/histogram/"
   ]
  },
  {
   "cell_type": "markdown",
   "metadata": {},
   "source": [
    "# 1. Connection Between Density and Probability\n",
    "\n",
    "In the [histogram notebook](Histograms.ipynb) we discussed density as well as cumulative density approximations. We will see that density approximations can be used to approximate probability."
   ]
  },
  {
   "cell_type": "markdown",
   "metadata": {},
   "source": [
    "The histogram has a very intuitive connection with the frequentist definition of probability. The freuqnetist definition of probability defines the probability of the occurance of some event as:\n",
    "\n",
    "$$ P(event) = \\frac{\\# \\ similar \\ events}{\\# \\ possible \\ events} $$\n",
    "\n",
    "As such, our table of frequencies can very easily be converted into a table of probabilities. We would divide the frequency of an event by the total number of distinct events in the sample.\n",
    "\n",
    "As such, the histogram, or any other means of approximating a density, can be used to calculate an approximate probability.\n"
   ]
  },
  {
   "cell_type": "markdown",
   "metadata": {},
   "source": [
    "# 2. Probability Mass Function Approximations\n",
    "The Probability Mass Function (PMF) is the discrete function which gives the probability os some event occuring. By approximating the probability of a distrete random variable we are effectively approximating the PMF of the function."
   ]
  },
  {
   "cell_type": "markdown",
   "metadata": {},
   "source": [
    "## 2.1. Characteristics of a PMF\n",
    "\n",
    "Mathematically speaking, probabilities (and probability spaces) have certain characteristics which we must adhere to in order to produce sound mathematical arguments.\n",
    "\n",
    "In order to write functions for probability based on our histogram there are some basic characteristics which we need to adhere to:\n",
    "\n",
    "1. $p(X = x) = f(x)$\n",
    "2. $\\sum p(x) = 1$\n",
    "2. $p(X \\in A) = p(x_i) +...+ p(x_a) $\n",
    "\n",
    "So if we are defining $p(x) = \\frac{\\# \\ events \\ equal \\ to \\ x}{\\# \\ unique \\ events}$ we will need to make sure it adheres to these properties. This goes for when we are using raw values or buckets."
   ]
  },
  {
   "cell_type": "markdown",
   "metadata": {},
   "source": [
    "## 2.2. Approximating a PMF using a Histogram\n",
    "Mathematically, we can define our PMF as a function based on a frequency of discrete values as follows:\n",
    "\n",
    "We start with a function $f$ which maps values from $X$ to $Y$.\n",
    "\n",
    "$$ f:X \\rightarrow Y$$\n",
    "\n",
    "Which would be equivalent to writing $f: f(x_i) = y_i$ when $x_i \\in X$ and $y_i \\in Y$\n",
    "\n",
    "The first step is to define some functions to help us describe our histogram. Recall that a histogram is based on intervals or buckets.\n",
    "\n",
    "We can define functions to yield our bucket width ($w$), lower bound ($l$), and upper bound ($u$), respectively based on the number of buckets N we would like.\n",
    "\n",
    "$$ w(Y) = \\frac{Y_{max} - Y_{min}}{N}$$\n",
    "\n",
    "$$ l(x_i) = \\begin{cases}\n",
    "x_i, \\ \\ \\ \\ \\ \\ \\ \\ \\ \\ (y_i - Y_{min}) \\ \\%  \\ w(Y) = 0 \\\\\n",
    "l(x_{i - 1}), \\ \\ \\ otherwise\n",
    "\\end{cases} \n",
    "$$\n",
    "\n",
    "$$ u(x_i) = l(x_i) + w(x_i) $$\n",
    "\n",
    "Note: that the bucket width can also be arbitrarily specified.\n",
    "\n",
    "We then define an indicator function which allows us to identify whether or not a value $x_i$ yields a value $y_i$ that is within a given bucket marked by the boundary points $1$ and $b$.\n",
    "\n",
    "$$ 1(x_i, l, u) = \\begin{cases}\n",
    "1, \\ if \\ \\ l <= f(x_i) < u \\\\\n",
    "0, \\ otherwise \\\\\n",
    "\\end{cases}\n",
    "$$\n",
    "\n",
    "And from this information we can construct our probability mass function (PMF) for a given bucket $b_i$. In other words, a function indicating the probability of obtaining a value $x_{i,j} \\in b_i$.\n",
    "\n",
    "$$ p(b_i) = \\frac{\\sum_{n = 0}^{N} I(x_n, l_i, u_i)}{N} $$\n",
    "\n"
   ]
  },
  {
   "cell_type": "markdown",
   "metadata": {},
   "source": [
    "Now that we know the PMF for the bucket we can also define a PMF for the discrete values that are part of a bucket.  \n",
    "\n",
    "$$p(x) = \\dots $$\n",
    "\n",
    "But this is just a quick \"sleight of hand\" what we are actually doing is making the discretization of the raw data and the buckets equal. In other words, the bucket width will be adjusted to be equal to the minimal level of precision in our discretization \n",
    "\n",
    "For example, If the most precise measurement is in the form of a integer, a bucket width will be one integer long. If we are using decimal points to the hundretchs place, the bucket width would be 0.01, and so on.\n",
    "\n",
    "An alternate methodology would be to apply a uniform probability to the elements in a bucket. Ie. divide the $p(b_i)$ by the number of precision units in the coresponding bucket. For example, if the bucket is 1 unit long, but the precision is 0.01, there would be 10 precision units in the bucket."
   ]
  },
  {
   "cell_type": "markdown",
   "metadata": {
    "jp-MarkdownHeadingCollapsed": true,
    "tags": []
   },
   "source": [
    "### 2.2.1. Notes on using the empirical PMF\n",
    "The pmf is only as good as the emerical data and the bins we elect to create for the histogram. The pmf becomes more accurate and precise with more data and smaller buckets. that being said, this is not always possible in the real world. Our distributions may not look smooth, symmetrical, or ideal. In some cases we may want to use other techniques for approximating the PMF."
   ]
  },
  {
   "cell_type": "markdown",
   "metadata": {},
   "source": [
    "## 2.3. Simulate a Normal Random Variable\n",
    "In this section we will generate some sample data fora normal random variable $X$ such that:\n",
    "\n",
    "$$ X \\sim \\mathcal{N}(\\mu=5, \\sigma^2 = 0.75)$$"
   ]
  },
  {
   "cell_type": "code",
   "execution_count": 22,
   "metadata": {
    "jupyter": {
     "source_hidden": true
    },
    "tags": []
   },
   "outputs": [
    {
     "data": {
      "image/png": "[encoded data removed]",
      "text/plain": [
       "<Figure size 2160x288 with 2 Axes>"
      ]
     },
     "metadata": {
      "needs_background": "light"
     },
     "output_type": "display_data"
    }
   ],
   "source": [
    "# Import some librearies to help us out\n",
    "import numpy\n",
    "from matplotlib import pyplot\n",
    "\n",
    "# Define some population parameters\n",
    "mu = 5\n",
    "sigma = 0.75\n",
    "\n",
    "# Create our sample data\n",
    "numpy.random.seed(seed=42)\n",
    "x = numpy.arange(1,21, 1)\n",
    "y = numpy.random.normal(loc=mu, scale=sigma, size=x.shape[0])\n",
    "\n",
    "# Plot the data\n",
    "fig, (ax1, ax2) = pyplot.subplots(nrows=1, ncols=2)\n",
    "ax1.scatter(x,y)\n",
    "ax2.scatter(y, [0 for x in range(0, len(x))])\n",
    "fig.set_figwidth(30)\n",
    "ax1.set_title(\"Scatter\", size=24)\n",
    "ax2.set_title(\"Distribution\", size=24);"
   ]
  },
  {
   "cell_type": "markdown",
   "metadata": {},
   "source": [
    "With this data we will create histograms and calculate probabilities:"
   ]
  },
  {
   "cell_type": "code",
   "execution_count": 46,
   "metadata": {
    "jupyter": {
     "source_hidden": true
    },
    "tags": []
   },
   "outputs": [
    {
     "data": {
      "image/png": "[encoded data removed]",
      "text/plain": [
       "<Figure size 432x288 with 1 Axes>"
      ]
     },
     "metadata": {
      "needs_background": "light"
     },
     "output_type": "display_data"
    }
   ],
   "source": [
    "# Determine how many bins we want to use for our histogram\n",
    "bins = 10\n",
    "\n",
    "# Calculate the counts and bins for our numpy array\n",
    "numpy_y = numpy.array(y)\n",
    "counts, bin_edges = numpy.histogram(numpy_y, bins=bins)\n",
    "\n",
    "# Calculate values for the x axis of the histogram\n",
    "bin_midpoints = bin_edges[:-1] + (numpy.diff(bin_edges, 1) / 2)\n",
    "p_mid = counts / bins\n",
    "\n",
    "# Calculate the coresponding probabilities\n",
    "import scipy.stats\n",
    "f_mid = scipy.stats.norm.pdf(bin_midpoints, mu, sigma)\n",
    "\n",
    "# Plot the histogram information as a bar chart\n",
    "#\n",
    "# Note: We set the witdh= parameter for the bar() function because \n",
    "#       by default it will glob bars together\n",
    "\n",
    "fig, ax = pyplot.subplots(nrows=1, ncols=1)\n",
    "ax.bar(bin_midpoints, p_mid, width=0.2, label=\"Estimated\")\n",
    "ax.plot(bin_midpoints, f_mid, label=\"Actual\", c=\"black\")\n",
    "\n",
    "#fig.set_figwidth(30)\n",
    "ax.set_title(\"Probability and Density\")\n",
    "ax.legend()\n",
    "pyplot.show()"
   ]
  },
  {
   "cell_type": "markdown",
   "metadata": {},
   "source": [
    "Notice how our approximation becomes more and more accurate as our sample size increases."
   ]
  },
  {
   "cell_type": "code",
   "execution_count": 56,
   "metadata": {
    "jupyter": {
     "source_hidden": true
    },
    "tags": []
   },
   "outputs": [
    {
     "data": {
      "image/png": "[encoded data removed]",
      "text/plain": [
       "<Figure size 432x288 with 1 Axes>"
      ]
     },
     "metadata": {
      "needs_background": "light"
     },
     "output_type": "display_data"
    }
   ],
   "source": [
    "# Create our sample data\n",
    "numpy.random.seed(seed=42)\n",
    "x = numpy.arange(1,21, 0.01)\n",
    "y = numpy.random.normal(loc=mu, scale=sigma, size=x.shape[0])\n",
    "\n",
    "# Determine how many bins we want to use for our histogram\n",
    "bins = 100\n",
    "\n",
    "# Calculate the counts and bins for our numpy array\n",
    "numpy_y = numpy.array(y)\n",
    "counts, bin_edges = numpy.histogram(numpy_y, bins=bins)\n",
    "\n",
    "# Calculate values for the x axis of the histogram\n",
    "bin_midpoints = bin_edges[:-1] + (numpy.diff(bin_edges, 1) / 2)\n",
    "\n",
    "# Calculate our empirical probabilities\n",
    "bin_width = numpy.diff(bin_edges, 1)[0]\n",
    "emperical_probabilities = counts / bins\n",
    "\n",
    "# Calculate out theoretical values\n",
    "from scipy.stats import norm\n",
    "theoretical_probabilities = norm.pdf(bin_midpoints, loc=mu, scale=sigma)\n",
    "\n",
    "# Plot the histogram information as a bar chart\n",
    "#\n",
    "# Note: We set the witdh= parameter for the bar() function because \n",
    "#       by default it will glob bars together\n",
    "\n",
    "fig, ax = pyplot.subplots(nrows=1, ncols=1)\n",
    "ax.bar(bin_midpoints, emperical_probabilities, width=0.01, label=\"Estimated\")\n",
    "ax.plot(bin_midpoints, theoretical_probabilities, label=\"Actual\", c=\"black\")\n",
    "\n",
    "#fig.set_figwidth(30)\n",
    "ax.set_title(\"Probability and Density\")\n",
    "ax.legend()\n",
    "pyplot.show()"
   ]
  },
  {
   "cell_type": "markdown",
   "metadata": {},
   "source": [
    "We can see here that some points are missing in the distribution and some points are over or under estimated.\n",
    "\n",
    "**Note**: We are using a visual technique here to show the similarity in predictions. The thickness of the bars can be misleading in terms of showing the area under the curve."
   ]
  },
  {
   "cell_type": "markdown",
   "metadata": {},
   "source": [
    "# 3. Additional Techniques for Empiricle Probabilities\n",
    "\n",
    "Calculating epirical probabilites using histograms is fairly straight forward. That being said, there are some issues with this simple method:\n",
    "\n",
    "1. We cannot make probability statements for events we have not directly witnessed\n",
    "2. We cannot be more precise than the bins we have created or the points we have seen (no interpolation)\n",
    "\n",
    "As mentioned earlier, if we know the discretization and the level of precision, we can apply various techniques to \"share the probability\" between the points in the bucket. For example: divide the probability of the bucket evenly between the points in the bucket. This simple model however may not be ideal or realistic.\n",
    "\n",
    "We could try interpolation between the frequencies as a way of smoothing things out over a continuous interval. But this would yield values which do not conform to the requirements of a probability distribution. Specifically, the sum of the probabilities (the area under the curve) would not necessarily equal 1.\n",
    "\n",
    "As a result, other techniques, like [kernel density estimation (KDE)](Kernel%20Density%20Estimation%20%28KDE%29.ipynb) or the [generalized Lambda Distribution (GLD)](Intro%20To%20Generalized%20Lambda%20Distribution%20%28GLD%29.ipynb) have been developed for this process.\n",
    "\n",
    "We have covered some of these techniques in other workbooks."
   ]
  }
 ],
 "metadata": {
  "kernelspec": {
   "display_name": "Python 3",
   "language": "python",
   "name": "python3"
  },
  "language_info": {
   "codemirror_mode": {
    "name": "ipython",
    "version": 3
   },
   "file_extension": ".py",
   "mimetype": "text/x-python",
   "name": "python",
   "nbconvert_exporter": "python",
   "pygments_lexer": "ipython3",
   "version": "3.6.8"
  }
 },
 "nbformat": 4,
 "nbformat_minor": 4
}
