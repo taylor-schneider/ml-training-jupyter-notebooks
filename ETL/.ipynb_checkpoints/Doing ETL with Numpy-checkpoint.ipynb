{
 "cells": [
  {
   "cell_type": "markdown",
   "metadata": {},
   "source": [
    "# Importing a CSV to Numpy\n",
    "The Extract, Transform, and Load process is one that can be problematic\n",
    "\n",
    "We will use a small silly data set to make our lives easier while we examine the tools for performing ETL"
   ]
  },
  {
   "cell_type": "markdown",
   "metadata": {},
   "source": [
    "# Step 1. Examine the data\n",
    "We need to identify what needs to be extracted and what can be ignored\n",
    "\n",
    "I have a look at the data file:\n",
    "\n",
    "<code>[root@localhost JupyterDataScience]# cat tmp.csv \n",
    "2019-4-8, 1, 2.3%, 45.6\n",
    "2019-5-8, 6, 78.9%, 0\n",
    "</code>\n",
    "\n",
    "There are several key observations:\n",
    "1. There are no column headers\n",
    "2. Each column appears to have a different type (int, percent, float)\n",
    "3. The data is not -> clean extra spaces in values"
   ]
  },
  {
   "cell_type": "markdown",
   "metadata": {},
   "source": [
    "# Step 2. Determine if the desired data format matches the input format\n",
    "If the data is in the format we will be using for our algorithms then we dont need to do ETL.\n",
    "\n",
    "But this is a tutorial on ETL so our life is not that easy...\n",
    "\n",
    "Lets assume that we want the data to be put into a new specific format (date, int, float, float).\n",
    "\n",
    "While the second and fourth column can magically be recognized, the first and second column cannot be and we will need to write code to tell the system how to interpret \"2.3%\" as 0.23"
   ]
  },
  {
   "cell_type": "markdown",
   "metadata": {},
   "source": [
    "# Step 3. Determine how numpy impliments the desired data formats\n",
    "We knot we want use \"dates\" based on our input data. Most programming languages offer various \"primitives\" (built in objects) which impliment basic things: for example python natively supports integers, booleans, strings etc.\n",
    "\n",
    "... but what does numpy offer? From working with numpy I know that it impliments its own primitives separate from those of the vanilla python language.\n",
    "\n",
    "In other words, how does the numpy framework represent a date and what features does this object type have.\n",
    "\n",
    "To figure this out we turn to the documentation:\n",
    "https://docs.scipy.org/doc/numpy/user/basics.types.html\n",
    "\n",
    "But the dates are not mentioned here... we keep googling and we find:\n",
    "https://docs.scipy.org/doc/numpy/reference/arrays.datetime.html\n",
    "\n",
    "And this very useful article about datetimes: http://poquitopicante.blogspot.com/2013/06/dates-and-datetimes.html\n",
    "\n",
    "A bit of an egg hunt but we did it... "
   ]
  },
  {
   "cell_type": "markdown",
   "metadata": {},
   "source": [
    "# Step 4. Test out all the types and get familiar with them\n",
    "Lets see if these data types can "
   ]
  },
  {
   "cell_type": "code",
   "execution_count": 1,
   "metadata": {},
   "outputs": [
    {
     "name": "stdout",
     "output_type": "stream",
     "text": [
      "The type of a is: <class 'numpy.datetime64'>.\n",
      "The value of a is 2005-02-25.\n",
      "\n",
      "The type of b is: <class 'numpy.int64'>.\n",
      "The value of b is 1.\n",
      "\n",
      "An exception was raised while parsing c\n",
      "\n",
      "The type of d is: <class 'numpy.float64'>.\n",
      "The value of d is 5.0.\n",
      "\n"
     ]
    }
   ],
   "source": [
    "# Import the numpy library\n",
    "import numpy\n",
    "\n",
    "# Prove that we can convert a string to a datetime\n",
    "a = numpy.datetime64('2005-02-25')\n",
    "print(\"The type of a is: {0}.\".format(type(a)))\n",
    "print(\"The value of a is {0}.\".format(a))\n",
    "print(\"\")\n",
    "\n",
    "# Prove that we can convert a string to an int\n",
    "b = numpy.int64(\"1\")\n",
    "print(\"The type of b is: {0}.\".format(type(b)))\n",
    "print(\"The value of b is {0}.\".format(b))\n",
    "print(\"\")\n",
    "\n",
    "# There is no datatype called 'percent' and we cannot convert \"2.3%\" to 0.23\n",
    "# Prove this\n",
    "try:\n",
    "    c = numpy.float64(\"2.3%\")\n",
    "    print(\"The type of c is: {0}.\".format(type(c)))\n",
    "    print(\"\")\n",
    "except Exception as e:\n",
    "    print(\"An exception was raised while parsing c\")\n",
    "    print(\"\")\n",
    "\n",
    "# Prove that we can convert a string to a float\n",
    "d = numpy.float64(\"5\")\n",
    "print(\"The type of d is: {0}.\".format(type(d)))\n",
    "print(\"The value of d is {0}.\".format(d))\n",
    "print(\"\")"
   ]
  },
  {
   "cell_type": "markdown",
   "metadata": {},
   "source": [
    "# Step 3. ETL the data\n",
    "In this step we are going to look at a few different options for parsing data (and yes there are a few ways to skin this cat).\n",
    "\n",
    "The basic options are (in order of preference and ease):\n",
    "\n",
    "1. Let numpy guess what to do (not reccomended, we will see why)\n",
    "2. Tell numpy what types you want and hope everything works out of the box (like in step #4)\n",
    "3. Write a conversion function for numpy framework\n",
    "4. Write a parsing mechanism from scratch"
   ]
  },
  {
   "cell_type": "markdown",
   "metadata": {},
   "source": [
    "# Step 3.1 Let numpy guess what to do"
   ]
  },
  {
   "cell_type": "code",
   "execution_count": 3,
   "metadata": {},
   "outputs": [
    {
     "data": {
      "text/plain": [
       "array([(nan, 1., nan, 45.), (nan, 6., nan,  0.)],\n",
       "      dtype=[('dates', '<f8'), ('ints', '<f8'), ('percents', '<f8'), ('numbers', '<f8')])"
      ]
     },
     "execution_count": 3,
     "metadata": {},
     "output_type": "execute_result"
    }
   ],
   "source": [
    "# Setup some other parameters to instruct numpy function how and what we are importing\n",
    "column_names = (\"dates\", \"ints\", \"percents\", \"numbers\")\n",
    "test_data_string = \"2019-4-8, 1, 2.3%, 45.\\n2019-4-8, 6, 78.9%, 0\"\n",
    "delimiter = \",\"\n",
    "\n",
    "\n",
    "# Import a module to help us import data\n",
    "# This module implements a file-like class, StringIO, that reads and writes a string buffer\n",
    "import io\n",
    "\n",
    "# Create a file handle for our string data\n",
    "test_data_file_handle = io.StringIO(test_data_string)\n",
    "\n",
    "# Load the data into a numpy array\n",
    "import numpy\n",
    "test_3_1 = numpy.genfromtxt(test_data_file_handle, delimiter=delimiter, names=column_names)\n",
    "\n",
    "test_3_1"
   ]
  },
  {
   "cell_type": "markdown",
   "metadata": {},
   "source": [
    "# Step 3.2 Tell numpy what types you want (like in step #4)"
   ]
  },
  {
   "cell_type": "code",
   "execution_count": 6,
   "metadata": {},
   "outputs": [
    {
     "data": {
      "text/plain": [
       "array([('', 1, '', 45.), ('', 6, '',  0.)],\n",
       "      dtype=[('dates', '<U'), ('ints', '<i8'), ('percents', '<U'), ('numbers', '<f8')])"
      ]
     },
     "execution_count": 6,
     "metadata": {},
     "output_type": "execute_result"
    }
   ],
   "source": [
    "# Setup some other parameters to instruct numpy function how and what we are importing\n",
    "column_names = (\"dates\", \"ints\", \"percents\", \"numbers\")\n",
    "column_types = \"str,int64,str,float64\"\n",
    "test_data_string = \"2019-4-8, 1, 2.3%, 45.\\n2019-4-8, 6, 78.9%, 0\"\n",
    "delimiter = \",\"\n",
    "\n",
    "# Import a module to help us import data\n",
    "# This module implements a file-like class, StringIO, that reads and writes a string buffer\n",
    "import io\n",
    "\n",
    "# Create a file handle for our string data\n",
    "test_data_file_handle = io.StringIO(test_data_string)\n",
    "\n",
    "# Load the data into a numpy array\n",
    "import numpy\n",
    "test_3_2 = numpy.genfromtxt(test_data_file_handle, delimiter=delimiter, names=column_names, dtype=column_types)\n",
    "\n",
    "test_3_2"
   ]
  },
  {
   "cell_type": "markdown",
   "metadata": {},
   "source": [
    "## Step 3.3.a Define a function to parse percents"
   ]
  },
  {
   "cell_type": "code",
   "execution_count": 9,
   "metadata": {},
   "outputs": [
    {
     "name": "stdout",
     "output_type": "stream",
     "text": [
      "The type of x is: <class 'float'>.\n",
      "The value of x is: 0.023.\n"
     ]
    }
   ],
   "source": [
    "def convert_percent_string_to_float(raw_bytes):\n",
    "    \n",
    "    # The input variable will be a byte array\n",
    "    # We will convert this to a string\n",
    "    input_string = raw_bytes.decode(\"utf-8\")\n",
    "\n",
    "    # We then do our manipulation\n",
    "    input_string = input_string.strip()\n",
    "    input_string = input_string.strip(\"%\")\n",
    "\n",
    "    # Make it a float\n",
    "    input_float = float(input_string)\n",
    "\n",
    "    # We then convert back to float\n",
    "    result = input_float/100\n",
    "\n",
    "    return result\n",
    "\n",
    "test_string = \"2.3%\"\n",
    "test_bytes = test_string.encode(\"UTF-8\", test_string)\n",
    "x = convert_percent_string_to_float(test_bytes)\n",
    "print(\"The type of x is: {0}.\".format(type(x)))\n",
    "print(\"The value of x is: {0}.\".format(x))\n"
   ]
  },
  {
   "cell_type": "markdown",
   "metadata": {},
   "source": [
    "# Step 3.3.b Plug parsing function into the numpy framework"
   ]
  },
  {
   "cell_type": "code",
   "execution_count": 10,
   "metadata": {},
   "outputs": [
    {
     "data": {
      "text/plain": [
       "array([(nan, 1., 0.023, 45.), (nan, 6., 0.789,  0.)],\n",
       "      dtype=[('dates', '<f8'), ('ints', '<f8'), ('percents', '<f8'), ('numbers', '<f8')])"
      ]
     },
     "execution_count": 10,
     "metadata": {},
     "output_type": "execute_result"
    }
   ],
   "source": [
    "# Setup some other parameters to instruct numpy function how and what we are importing\n",
    "column_names = (\"dates\", \"ints\", \"percents\", \"numbers\")\n",
    "test_data_string = \"2019-4-8, 1, 2.3%, 45.\\n2019-4-8, 6, 78.9%, 0\"\n",
    "delimiter = \",\"\n",
    "name_of_column_being_mapped_to_parsing_function = \"percents\"\n",
    "converter_mapping = {\n",
    "    name_of_column_being_mapped_to_parsing_function: convert_percent_string_to_float\n",
    "}\n",
    "\n",
    "# Import a module to help us import data\n",
    "# This module implements a file-like class, StringIO, that reads and writes a string buffer\n",
    "import io\n",
    "\n",
    "# Create a file handle for our string data\n",
    "test_data_file_handle = io.StringIO(test_data_string)\n",
    "\n",
    "# Load the data into a numpy array\n",
    "import numpy\n",
    "test_3_3 = numpy.genfromtxt(test_data_file_handle, delimiter=delimiter, names=column_names, converters=converter_mapping)\n",
    "\n",
    "test_3_3"
   ]
  },
  {
   "cell_type": "markdown",
   "metadata": {},
   "source": [
    "# Step 3.4 - Write a custom parsing system\n",
    "This is a bit outside the scope of this section and more advanced... We will cover it later if needed.\n",
    "\n",
    "I doubt anyone would need this anyways..."
   ]
  },
  {
   "cell_type": "markdown",
   "metadata": {},
   "source": [
    "# Homework - Implement parsing function for dates\n",
    "Read the article: http://poquitopicante.blogspot.com/2013/06/dates-and-datetimes.html\n",
    "\n",
    "It explains why datetimes are not working for us out of the box. TL;DR - "
   ]
  },
  {
   "cell_type": "code",
   "execution_count": 13,
   "metadata": {},
   "outputs": [
    {
     "data": {
      "text/plain": [
       "array([(1., 0.023, 45.), (6., 0.789,  0.)],\n",
       "      dtype=[('i', '<f8'), ('p', '<f8'), ('n', '<f8')])"
      ]
     },
     "execution_count": 13,
     "metadata": {},
     "output_type": "execute_result"
    }
   ],
   "source": [
    "# Load the library which contains the code to load data from a csv\n",
    "import numpy\n",
    "import io\n",
    "\n",
    "\n",
    "def my_convert_function(raw_data):\n",
    "    # The input variable will be a byte array\n",
    "    # We will convert this to a string\n",
    "    input_string = raw_data.decode(\"utf-8\")\n",
    "\n",
    "    # We then do our manipulation\n",
    "    input_string = input_string.strip()\n",
    "    input_string = input_string.strip(\"%\")\n",
    "\n",
    "    # Make it a float\n",
    "    input_float = float(input_string)\n",
    "\n",
    "    # We then convert back to float\n",
    "    result = input_float/100\n",
    "\n",
    "    return result\n",
    "\n",
    "\n",
    "data = u\"1, 2.3%, 45.\\n6, 78.9%, 0\"\n",
    "names = (\"i\", \"p\", \"n\")\n",
    "converters = {\"p\": my_convert_function}\n",
    "#a = numpy.genfromtxt(io.StringIO(data), delimiter=\",\", names=names, converters=converters)\n",
    "#a\n",
    "\n",
    "file_name = \"tmp.csv\"\n",
    "b = numpy.genfromtxt(file_name, delimiter=',',  names=names, converters=converters)\n",
    "b\n"
   ]
  },
  {
   "cell_type": "code",
   "execution_count": null,
   "metadata": {},
   "outputs": [],
   "source": []
  },
  {
   "cell_type": "code",
   "execution_count": null,
   "metadata": {},
   "outputs": [],
   "source": []
  }
 ],
 "metadata": {
  "kernelspec": {
   "display_name": "Python 3",
   "language": "python",
   "name": "python3"
  },
  "language_info": {
   "codemirror_mode": {
    "name": "ipython",
    "version": 3
   },
   "file_extension": ".py",
   "mimetype": "text/x-python",
   "name": "python",
   "nbconvert_exporter": "python",
   "pygments_lexer": "ipython3",
   "version": "3.6.0"
  }
 },
 "nbformat": 4,
 "nbformat_minor": 2
}
