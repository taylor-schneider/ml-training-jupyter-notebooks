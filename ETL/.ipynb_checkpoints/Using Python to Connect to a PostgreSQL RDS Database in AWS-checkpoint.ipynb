{
 "cells": [
  {
   "cell_type": "code",
   "execution_count": 1,
   "metadata": {},
   "outputs": [
    {
     "data": {
      "text/plain": [
       "['SQL Server',\n",
       " 'SQL Server Native Client 11.0',\n",
       " 'ODBC Driver 17 for SQL Server',\n",
       " 'PostgreSQL ANSI(x64)',\n",
       " 'PostgreSQL Unicode(x64)',\n",
       " 'Amazon Redshift (x64)']"
      ]
     },
     "execution_count": 1,
     "metadata": {},
     "output_type": "execute_result"
    }
   ],
   "source": [
    "# Import the python library for connecting to the database\n",
    "import pyodbc\n",
    "pyodbc.drivers()"
   ]
  },
  {
   "cell_type": "code",
   "execution_count": 2,
   "metadata": {},
   "outputs": [
    {
     "data": {
      "text/plain": [
       "['SQL Server',\n",
       " 'SQL Server Native Client 11.0',\n",
       " 'ODBC Driver 17 for SQL Server',\n",
       " 'PostgreSQL ANSI(x64)',\n",
       " 'PostgreSQL Unicode(x64)',\n",
       " 'Amazon Redshift (x64)']"
      ]
     },
     "execution_count": 2,
     "metadata": {},
     "output_type": "execute_result"
    }
   ],
   "source": [
    "# Show a list of available drivers that can be used with pyodbc\n",
    "pyodbc.drivers()"
   ]
  },
  {
   "cell_type": "code",
   "execution_count": 4,
   "metadata": {},
   "outputs": [],
   "source": [
    "# Set some parameters to make our connection to the sql database\n",
    "sql_server_name = 'fhlbc-dev-glbl-aurora-xpressfeed-snl.cluster-ro-c8i6loxejxgv.us-east-2.rds.amazonaws.com'\n",
    "sql_database_name = 'xpressfeed'\n",
    "sql_driver_specification = '{PostgreSQL ANSI(x64)}' # Note: The SQL Server driver will not work for this db\n",
    "sql_username = \"tableau\"\n",
    "sql_password = \"put your password here :)\""
   ]
  },
  {
   "cell_type": "code",
   "execution_count": 8,
   "metadata": {},
   "outputs": [
    {
     "data": {
      "text/plain": [
       "<pyodbc.Connection at 0x1b46cf159f0>"
      ]
     },
     "execution_count": 8,
     "metadata": {},
     "output_type": "execute_result"
    }
   ],
   "source": [
    "# Connect to the database\n",
    "sql_connection = pyodbc.connect(driver = sql_driver_specification,\n",
    "                    server = sql_server_name,\n",
    "                    database = sql_database_name,\n",
    "                    username = sql_username,\n",
    "                    password = sql_password)\n",
    "                    \n",
    "sql_connection"
   ]
  },
  {
   "cell_type": "code",
   "execution_count": 12,
   "metadata": {},
   "outputs": [
    {
     "data": {
      "text/html": [
       "<div>\n",
       "<style scoped>\n",
       "    .dataframe tbody tr th:only-of-type {\n",
       "        vertical-align: middle;\n",
       "    }\n",
       "\n",
       "    .dataframe tbody tr th {\n",
       "        vertical-align: top;\n",
       "    }\n",
       "\n",
       "    .dataframe thead th {\n",
       "        text-align: right;\n",
       "    }\n",
       "</style>\n",
       "<table border=\"1\" class=\"dataframe\">\n",
       "  <thead>\n",
       "    <tr style=\"text-align: right;\">\n",
       "      <th></th>\n",
       "      <th>bankrateid</th>\n",
       "      <th>bankratepriorid</th>\n",
       "      <th>instnbankproductid</th>\n",
       "      <th>bankrateasof</th>\n",
       "      <th>bankrateasofend</th>\n",
       "      <th>bankproductrate</th>\n",
       "      <th>mostrecentsequence</th>\n",
       "    </tr>\n",
       "  </thead>\n",
       "  <tbody>\n",
       "    <tr>\n",
       "      <th>0</th>\n",
       "      <td>0000094E-61FE-49B3-9724-1569C7DE6F7C</td>\n",
       "      <td>686316CF-C9A3-4B1C-8BA0-EF5B8746561D</td>\n",
       "      <td>1135204</td>\n",
       "      <td>2015-02-10</td>\n",
       "      <td>NaT</td>\n",
       "      <td>0.100</td>\n",
       "      <td>1</td>\n",
       "    </tr>\n",
       "    <tr>\n",
       "      <th>1</th>\n",
       "      <td>00001013-473B-4895-9351-16BCD34B632D</td>\n",
       "      <td>79C2EAB6-2F96-4AD8-B116-53DF777C3113</td>\n",
       "      <td>303582</td>\n",
       "      <td>2011-07-01</td>\n",
       "      <td>2011-09-09</td>\n",
       "      <td>0.800</td>\n",
       "      <td>2</td>\n",
       "    </tr>\n",
       "    <tr>\n",
       "      <th>2</th>\n",
       "      <td>00001213-9BA1-4649-8DE3-8EFC32AC7904</td>\n",
       "      <td>97899134-BEE9-486E-A18B-89D2CCF0288D</td>\n",
       "      <td>320292</td>\n",
       "      <td>2010-07-30</td>\n",
       "      <td>2010-08-06</td>\n",
       "      <td>0.330</td>\n",
       "      <td>2</td>\n",
       "    </tr>\n",
       "    <tr>\n",
       "      <th>3</th>\n",
       "      <td>0000148C-C7C0-4B36-908C-B6B66C51E3EA</td>\n",
       "      <td>BC72F57E-0F0A-43EF-A2B2-20B92CB82EE3</td>\n",
       "      <td>482356</td>\n",
       "      <td>2010-08-13</td>\n",
       "      <td>2011-02-25</td>\n",
       "      <td>4.970</td>\n",
       "      <td>2</td>\n",
       "    </tr>\n",
       "    <tr>\n",
       "      <th>4</th>\n",
       "      <td>00001492-195C-4C09-9240-DE96A888EF9A</td>\n",
       "      <td>F7D4DBE7-41DB-412E-8B6B-26C3A264B447</td>\n",
       "      <td>1193504</td>\n",
       "      <td>2019-04-24</td>\n",
       "      <td>2019-05-24</td>\n",
       "      <td>4.375</td>\n",
       "      <td>2</td>\n",
       "    </tr>\n",
       "  </tbody>\n",
       "</table>\n",
       "</div>"
      ],
      "text/plain": [
       "                             bankrateid                       bankratepriorid  \\\n",
       "0  0000094E-61FE-49B3-9724-1569C7DE6F7C  686316CF-C9A3-4B1C-8BA0-EF5B8746561D   \n",
       "1  00001013-473B-4895-9351-16BCD34B632D  79C2EAB6-2F96-4AD8-B116-53DF777C3113   \n",
       "2  00001213-9BA1-4649-8DE3-8EFC32AC7904  97899134-BEE9-486E-A18B-89D2CCF0288D   \n",
       "3  0000148C-C7C0-4B36-908C-B6B66C51E3EA  BC72F57E-0F0A-43EF-A2B2-20B92CB82EE3   \n",
       "4  00001492-195C-4C09-9240-DE96A888EF9A  F7D4DBE7-41DB-412E-8B6B-26C3A264B447   \n",
       "\n",
       "   instnbankproductid bankrateasof bankrateasofend  bankproductrate  \\\n",
       "0             1135204   2015-02-10             NaT            0.100   \n",
       "1              303582   2011-07-01      2011-09-09            0.800   \n",
       "2              320292   2010-07-30      2010-08-06            0.330   \n",
       "3              482356   2010-08-13      2011-02-25            4.970   \n",
       "4             1193504   2019-04-24      2019-05-24            4.375   \n",
       "\n",
       "   mostrecentsequence  \n",
       "0                   1  \n",
       "1                   2  \n",
       "2                   2  \n",
       "3                   2  \n",
       "4                   2  "
      ]
     },
     "execution_count": 12,
     "metadata": {},
     "output_type": "execute_result"
    }
   ],
   "source": [
    "# Run a query and put results in a pandas dataframe\n",
    "import pandas\n",
    "sql_query = \"SELECT * FROM snl.snlbankrates ORDER BY bankrateid ASC LIMIT 5\"\n",
    "sql_dataframe = pandas.read_sql(sql_query,sql_connection)\n",
    "sql_dataframe"
   ]
  }
 ],
 "metadata": {
  "kernelspec": {
   "display_name": "Python 3",
   "language": "python",
   "name": "python3"
  },
  "language_info": {
   "codemirror_mode": {
    "name": "ipython",
    "version": 3
   },
   "file_extension": ".py",
   "mimetype": "text/x-python",
   "name": "python",
   "nbconvert_exporter": "python",
   "pygments_lexer": "ipython3",
   "version": "3.6.0"
  }
 },
 "nbformat": 4,
 "nbformat_minor": 2
}
