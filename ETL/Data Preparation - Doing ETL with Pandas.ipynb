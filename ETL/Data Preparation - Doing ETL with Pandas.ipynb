{
 "cells": [
  {
   "cell_type": "markdown",
   "metadata": {},
   "source": [
    "# Doing ETL with Pandas (Importing a CSV to Pandas)\n",
    "This jupyter notebook follows the \"Doing ETL with Numpy\" notebook\n",
    "\n",
    "We wil be using the same high level steps and the same sample data:\n",
    "1. Examine the data\n",
    "2. Determine if the desired data format matches the input format\n",
    "3. Determine how Pandas impliments the desired data formats\n",
    "4. Test out all the types and get familiar with them\n",
    "5. ETL the data"
   ]
  },
  {
   "cell_type": "markdown",
   "metadata": {},
   "source": [
    "# Prerequisites\n",
    "\n",
    "The first thing you need to have installed on your system is Pip, the python package installation program.\n",
    "\n",
    "If pip is installed, the next thing you need to do is open a os terminal (bash shell in linux or command prompt in windows), you can use pip\n",
    "\n",
    "To ask pip to install Pandas run the following:\n",
    "\n",
    "<code>pip install pandas</code>"
   ]
  },
  {
   "cell_type": "markdown",
   "metadata": {},
   "source": [
    "# Step 1. Examine the data\n",
    "We need to identify what needs to be extracted and what can be ignored\n",
    "\n",
    "I have a look at the data file:\n",
    "\n",
    "<code>[root@localhost JupyterDataScience]# cat tmp.csv \n",
    "2019-04-08, 1, 2.3%, 45.6\n",
    "2019-05-08, 6, 78.9%, 0\n",
    "</code>\n",
    "\n",
    "There are several key observations:\n",
    "1. There are no column headers\n",
    "2. Each column appears to have a different type (int, percent, float)\n",
    "3. The data is not -> clean extra spaces in values"
   ]
  },
  {
   "cell_type": "markdown",
   "metadata": {},
   "source": [
    "# Step 2. Determine if the desired data format matches the input format\n",
    "If the data is in the format we will be using for our algorithms then we dont need to do ETL.\n",
    "\n",
    "But this is a tutorial on ETL so our life is not that easy...\n",
    "\n",
    "Lets assume that we want the data to be put into a new specific format (date, int, float, float).\n",
    "\n",
    "While the second and fourth column can magically be recognized, the first and second column cannot be and we will need to write code to tell the system how to interpret \"2.3%\" as 0.23"
   ]
  },
  {
   "cell_type": "markdown",
   "metadata": {},
   "source": [
    "# Step 3. Determine how Pandas impliments the desired data formats\n",
    "\n",
    "We know we want use \"dates\" based on our input data. Most programming languages offer various \"primitives\" (built in objects) which impliment basic things: for example python natively supports integers, booleans, strings etc.\n",
    "\n",
    "... but what does pandas offer? In other words, how does the numpy framework represent a date and what features does this object type have.\n",
    "\n",
    "From googling (or referring to the previous lecture) and working with pandas will learn the following:\n",
    "\n",
    "The DataFrame is the main object that a user will be using while using the Pandas library. The term DataFrame is a common one which refers fo a 2D array (ie matrix... think excel spreadsheet). The Pandas library impliments its own primitives separate from those of the vanilla python language. It then uses these primitives to create DataFrame objects. \n",
    "\n",
    "At this point we are more focused on the primitives rather than the DataFrame.\n",
    "\n",
    "For more information we turn to the documentation:\n",
    "\n",
    "> For the most part, pandas uses NumPy arrays and dtypes for Series or individual columns of a DataFrame. NumPy provides support for float, int, bool, timedelta64[ns] and datetime64[ns] (note that NumPy does not support timezone-aware datetimes).\n",
    "\n",
    "> Pandas and third-party libraries extend NumPy’s type system in a few places. This section describes the extensions pandas has made internally. See Extension types for how to write your own extension that works with pandas. See Extension data types for a list of third-party libraries that have implemented an extension.\n",
    "\n",
    "https://pandas.pydata.org/pandas-docs/stable/getting_started/basics.html#basics-dtypes\n",
    "\n",
    "\n",
    "A bit of an egg hunt but we did it... "
   ]
  },
  {
   "cell_type": "markdown",
   "metadata": {},
   "source": [
    "## Step 3.1 Examine the options for handling dates and times\n",
    "\n",
    "Consulting the documentation we are reminded that Pandas supports the numpy datatypes.\n",
    "\n",
    "> pandas contains extensive capabilities and features for working with time series data for all domains. Using the NumPy datetime64 and timedelta64 dtypes, pandas has consolidated a large number of features from other Python libraries like scikits.timeseries as well as created a tremendous amount of new functionality for manipulating time series data.\n",
    ">\n",
    "> https://pandas.pydata.org/pandas-docs/stable/user_guide/timeseries.html\n",
    "\n",
    "Reading more of the documentation we see that pandas offers some additional types:\n",
    "- Timestamp\n",
    "- Timedelta\n"
   ]
  },
  {
   "cell_type": "markdown",
   "metadata": {},
   "source": [
    "# Step 4. Test out all the types and get familiar with them\n",
    "Lets see if these data types can satisfy our needs\n",
    "\n",
    "## Step 4.1 Examine the TimeStamp object\n",
    "\n",
    "Consulting the documentation: \n",
    "\n",
    "> Timestamp is the pandas equivalent of python’s Datetime and is interchangeable with it in most cases. It’s the type used for the entries that make up a DatetimeIndex, and other timeseries oriented data structures in pandas.\n",
    ">\n",
    "> https://pandas.pydata.org/pandas-docs/stable/reference/api/pandas.Timestamp.html\n",
    "\n",
    "Further down the page you can see the class constructor, class methods, etc.\n",
    "\n",
    "\n"
   ]
  },
  {
   "cell_type": "code",
   "execution_count": 1,
   "metadata": {},
   "outputs": [
    {
     "name": "stdout",
     "output_type": "stream",
     "text": [
      "Day of the week (Tuesday): 1.\n",
      "Day of the year: 1.\n",
      "The weekday name: Tuesday.\n",
      "The object as a datetime64: 2019-01-01T14:00:00.000000000.\n"
     ]
    }
   ],
   "source": [
    "import pandas\n",
    "\n",
    "my_timestamp = pandas.Timestamp(year=2019, month=1, day=1, hour=14)\n",
    "\n",
    "# Look at some attributes on the object\n",
    "print(\"Day of the week (Tuesday): {0}.\".format(my_timestamp.dayofweek))\n",
    "print(\"Day of the year: {0}.\".format(my_timestamp.dayofyear))\n",
    "\n",
    "# Look at some methods on the object\n",
    "print(\"The weekday name: {0}.\".format(my_timestamp.day_name()))\n",
    "print(\"The object as a datetime64: {0}.\".format(my_timestamp.to_datetime64()))\n"
   ]
  },
  {
   "cell_type": "markdown",
   "metadata": {},
   "source": [
    "If we continue googling we learn a little bit more about this data type:\n",
    "\n",
    "> pandas stores datetimes as data with type datetime64 in index/columns (this are not datetime.datetime objects). This is the standard numpy type for datetimes and is more performant than using  datetime.datetime objects. \n",
    ">\n",
    "> when retrieving one value of such a datetime column/index, you will see a Timestamp object. This is a more convenient object to work with the datetimes (more methods, better representation, etc than the datetime64), and this is a subclass of datetime.datetime, and so has all methods of it.\n",
    ">\n",
    "> https://stackoverflow.com/questions/23755146/why-does-pandas-return-timestamps-instead-of-datetime-objects-when-calling-pd-to#23756824\n",
    "\n",
    "So, the Timestamp is just a more convenient datetime64 or datetime object that Pandas uses."
   ]
  },
  {
   "cell_type": "markdown",
   "metadata": {},
   "source": [
    "## Step 4.2 Have a look at how the Pandas library parses dates and times"
   ]
  },
  {
   "cell_type": "code",
   "execution_count": 2,
   "metadata": {},
   "outputs": [
    {
     "name": "stdout",
     "output_type": "stream",
     "text": [
      "The type of a is: <class 'pandas._libs.tslibs.timestamps.Timestamp'>.\n",
      "The value of a is 2018-03-10 00:00:00.\n",
      "\n",
      "The type of b is: <class 'pandas._libs.tslibs.timestamps.Timestamp'>.\n",
      "The value of b is 2019-03-10 00:00:00.\n",
      "\n",
      "The type of c is: <class 'pandas._libs.tslibs.timestamps.Timestamp'>.\n",
      "The value of c is 2020-03-10 00:00:00.\n",
      "\n",
      "The type of d is: <class 'pandas._libs.tslibs.timestamps.Timestamp'>.\n",
      "The value of d is 2021-03-10 01:00:00.\n",
      "\n",
      "The type of e is: <class 'pandas._libs.tslibs.timestamps.Timestamp'>.\n",
      "The value of e is 2022-03-10 01:00:00.\n",
      "\n",
      "The type of f is: <class 'pandas._libs.tslibs.timestamps.Timestamp'>.\n",
      "The value of f is 2022-03-10 13:00:00.\n",
      "\n",
      "The type of g is: <class 'pandas._libs.tslibs.timestamps.Timestamp'>.\n",
      "The value of g is 2018-03-10 00:00:00.\n",
      "\n"
     ]
    }
   ],
   "source": [
    "# Import the pandas library\n",
    "import pandas\n",
    "\n",
    "# Lets have a look at the object relating to date 03/10/2018\n",
    "a = pandas.Timestamp('20180310')\n",
    "print(\"The type of a is: {0}.\".format(type(a)))\n",
    "print(\"The value of a is {0}.\".format(a))\n",
    "print(\"\")\n",
    "\n",
    "# Lets put the data in another format\n",
    "b = pandas.Timestamp('2019-03-10')\n",
    "print(\"The type of b is: {0}.\".format(type(b)))\n",
    "print(\"The value of b is {0}.\".format(b))\n",
    "print(\"\")\n",
    "\n",
    "# Lets put the data in another format\n",
    "c = pandas.Timestamp('03/10/2020')\n",
    "print(\"The type of c is: {0}.\".format(type(c)))\n",
    "print(\"The value of c is {0}.\".format(c))\n",
    "print(\"\")\n",
    "\n",
    "# Lets put the data in another format\n",
    "d = pandas.Timestamp('2021-03-10 01:00:00')\n",
    "print(\"The type of d is: {0}.\".format(type(d)))\n",
    "print(\"The value of d is {0}.\".format(d))\n",
    "print(\"\")\n",
    "\n",
    "# Lets put the data in another format\n",
    "e = pandas.Timestamp('2022-03-10 01:00')\n",
    "print(\"The type of e is: {0}.\".format(type(e)))\n",
    "print(\"The value of e is {0}.\".format(e))\n",
    "print(\"\")\n",
    "\n",
    "# Lets put the data in another format\n",
    "f = pandas.Timestamp('2022-03-10 01:00 PM')\n",
    "print(\"The type of f is: {0}.\".format(type(f)))\n",
    "print(\"The value of f is {0}.\".format(f))\n",
    "print(\"\")\n",
    "\n",
    "# So far, this is MUCH easier than numpy! Pandas has some magic!?\n",
    "\n",
    "# Lets now see if we can deal with a date rather than a datetime\n",
    "\n",
    "g = pandas.Timestamp('20180310', freq='D')\n",
    "print(\"The type of g is: {0}.\".format(type(g)))\n",
    "print(\"The value of g is {0}.\".format(g))\n",
    "print(\"\")\n"
   ]
  },
  {
   "cell_type": "markdown",
   "metadata": {},
   "source": [
    "# Step 5. ETL the data\n",
    "In this step we are going to look at a few different options for parsing data (and yes there are a few ways to skin this cat).\n",
    "\n",
    "The basic options are (in order of preference and ease):\n",
    "\n",
    "1. Let Pandas guess what to do (not reccomended, we will see why)\n",
    "2. Tell Pandas what types you want and hope everything works out of the box (like in step #4)\n",
    "3. Write a conversion function for numpy framework\n",
    "4. Write a parsing mechanism from scratch\n",
    "5. Create a DataFrame using a numpy ndarray"
   ]
  },
  {
   "cell_type": "markdown",
   "metadata": {},
   "source": [
    "# Step 5.1 Let Pandas guess what to do (not reccomended)"
   ]
  },
  {
   "cell_type": "code",
   "execution_count": 3,
   "metadata": {},
   "outputs": [
    {
     "data": {
      "text/html": [
       "<div>\n",
       "<style scoped>\n",
       "    .dataframe tbody tr th:only-of-type {\n",
       "        vertical-align: middle;\n",
       "    }\n",
       "\n",
       "    .dataframe tbody tr th {\n",
       "        vertical-align: top;\n",
       "    }\n",
       "\n",
       "    .dataframe thead th {\n",
       "        text-align: right;\n",
       "    }\n",
       "</style>\n",
       "<table border=\"1\" class=\"dataframe\">\n",
       "  <thead>\n",
       "    <tr style=\"text-align: right;\">\n",
       "      <th></th>\n",
       "      <th>dates</th>\n",
       "      <th>ints</th>\n",
       "      <th>percents</th>\n",
       "      <th>numbers</th>\n",
       "    </tr>\n",
       "  </thead>\n",
       "  <tbody>\n",
       "    <tr>\n",
       "      <th>0</th>\n",
       "      <td>2019-04-08</td>\n",
       "      <td>1</td>\n",
       "      <td>2.3%</td>\n",
       "      <td>45.0</td>\n",
       "    </tr>\n",
       "    <tr>\n",
       "      <th>1</th>\n",
       "      <td>2019-04-08</td>\n",
       "      <td>6</td>\n",
       "      <td>78.9%</td>\n",
       "      <td>0.0</td>\n",
       "    </tr>\n",
       "  </tbody>\n",
       "</table>\n",
       "</div>"
      ],
      "text/plain": [
       "        dates  ints percents  numbers\n",
       "0  2019-04-08     1     2.3%     45.0\n",
       "1  2019-04-08     6    78.9%      0.0"
      ]
     },
     "execution_count": 3,
     "metadata": {},
     "output_type": "execute_result"
    }
   ],
   "source": [
    "column_names = (\"dates\", \"ints\", \"percents\", \"numbers\")\n",
    "test_data_string = \"2019-04-08, 1, 2.3%, 45.\\n2019-04-08, 6, 78.9%, 0\"\n",
    "\n",
    "# Import a module to help us import data\n",
    "# This module implements a file-like class, StringIO, that reads and writes a string buffer\n",
    "import io\n",
    "\n",
    "# Create a file handle for our string data\n",
    "test_data_file_handle = io.StringIO(test_data_string)\n",
    "\n",
    "test_1 = pandas.read_csv(test_data_file_handle, names=column_names)\n",
    "\n",
    "test_1"
   ]
  },
  {
   "cell_type": "markdown",
   "metadata": {},
   "source": [
    "We can see this is no ideal as our data is not in the corect datatype"
   ]
  },
  {
   "cell_type": "code",
   "execution_count": 17,
   "metadata": {},
   "outputs": [
    {
     "data": {
      "text/plain": [
       "0    2019-04-08\n",
       "1    2019-04-08\n",
       "Name: dates, dtype: object"
      ]
     },
     "execution_count": 17,
     "metadata": {},
     "output_type": "execute_result"
    }
   ],
   "source": [
    "test_1[\"dates\"]"
   ]
  },
  {
   "cell_type": "code",
   "execution_count": 5,
   "metadata": {},
   "outputs": [
    {
     "data": {
      "text/plain": [
       "'2019-04-08'"
      ]
     },
     "execution_count": 5,
     "metadata": {},
     "output_type": "execute_result"
    }
   ],
   "source": [
    "test_1[\"dates\"][0]"
   ]
  },
  {
   "cell_type": "code",
   "execution_count": 6,
   "metadata": {},
   "outputs": [
    {
     "data": {
      "text/plain": [
       "str"
      ]
     },
     "execution_count": 6,
     "metadata": {},
     "output_type": "execute_result"
    }
   ],
   "source": [
    "type(test_1[\"dates\"][0])"
   ]
  },
  {
   "cell_type": "markdown",
   "metadata": {},
   "source": [
    "# Step 5.2 Tell Pandas what types you want (like in step #4)"
   ]
  },
  {
   "cell_type": "code",
   "execution_count": 7,
   "metadata": {},
   "outputs": [
    {
     "data": {
      "text/html": [
       "<div>\n",
       "<style scoped>\n",
       "    .dataframe tbody tr th:only-of-type {\n",
       "        vertical-align: middle;\n",
       "    }\n",
       "\n",
       "    .dataframe tbody tr th {\n",
       "        vertical-align: top;\n",
       "    }\n",
       "\n",
       "    .dataframe thead th {\n",
       "        text-align: right;\n",
       "    }\n",
       "</style>\n",
       "<table border=\"1\" class=\"dataframe\">\n",
       "  <thead>\n",
       "    <tr style=\"text-align: right;\">\n",
       "      <th></th>\n",
       "      <th>dates</th>\n",
       "      <th>ints</th>\n",
       "      <th>percents</th>\n",
       "      <th>numbers</th>\n",
       "    </tr>\n",
       "  </thead>\n",
       "  <tbody>\n",
       "    <tr>\n",
       "      <th>0</th>\n",
       "      <td>2019-04-08</td>\n",
       "      <td>1</td>\n",
       "      <td>2.3%</td>\n",
       "      <td>45.0</td>\n",
       "    </tr>\n",
       "    <tr>\n",
       "      <th>1</th>\n",
       "      <td>2019-04-08</td>\n",
       "      <td>6</td>\n",
       "      <td>78.9%</td>\n",
       "      <td>0.0</td>\n",
       "    </tr>\n",
       "  </tbody>\n",
       "</table>\n",
       "</div>"
      ],
      "text/plain": [
       "       dates  ints percents  numbers\n",
       "0 2019-04-08     1     2.3%     45.0\n",
       "1 2019-04-08     6    78.9%      0.0"
      ]
     },
     "execution_count": 7,
     "metadata": {},
     "output_type": "execute_result"
    }
   ],
   "source": [
    "column_names = (\"dates\", \"ints\", \"percents\", \"numbers\")\n",
    "test_data_string = \"2019-04-08, 1, 2.3%, 45.\\n2019-04-08, 6, 78.9%, 0\"\n",
    "column_types = \"object,int,str,float\"\n",
    "\n",
    "# Import a module to help us import data\n",
    "# This module implements a file-like class, StringIO, that reads and writes a string buffer\n",
    "import io\n",
    "\n",
    "# Create a file handle for our string data\n",
    "test_data_file_handle = io.StringIO(test_data_string)\n",
    "\n",
    "test_2 = pandas.read_csv(test_data_file_handle, names=column_names, dtype=column_types, parse_dates=[\"dates\"])\n",
    "\n",
    "test_2"
   ]
  },
  {
   "cell_type": "code",
   "execution_count": 8,
   "metadata": {},
   "outputs": [
    {
     "data": {
      "text/plain": [
       "0   2019-04-08\n",
       "1   2019-04-08\n",
       "Name: dates, dtype: datetime64[ns]"
      ]
     },
     "execution_count": 8,
     "metadata": {},
     "output_type": "execute_result"
    }
   ],
   "source": [
    "test_2[\"dates\"]"
   ]
  },
  {
   "cell_type": "code",
   "execution_count": 9,
   "metadata": {},
   "outputs": [
    {
     "data": {
      "text/plain": [
       "Timestamp('2019-04-08 00:00:00')"
      ]
     },
     "execution_count": 9,
     "metadata": {},
     "output_type": "execute_result"
    }
   ],
   "source": [
    "test_2[\"dates\"][0]"
   ]
  },
  {
   "cell_type": "code",
   "execution_count": 10,
   "metadata": {},
   "outputs": [
    {
     "data": {
      "text/plain": [
       "pandas._libs.tslibs.timestamps.Timestamp"
      ]
     },
     "execution_count": 10,
     "metadata": {},
     "output_type": "execute_result"
    }
   ],
   "source": [
    "type(test_2[\"dates\"][0])"
   ]
  },
  {
   "cell_type": "code",
   "execution_count": 11,
   "metadata": {},
   "outputs": [
    {
     "data": {
      "text/plain": [
       "numpy.float64"
      ]
     },
     "execution_count": 11,
     "metadata": {},
     "output_type": "execute_result"
    }
   ],
   "source": [
    "type(test_2[\"numbers\"][0])"
   ]
  },
  {
   "cell_type": "markdown",
   "metadata": {},
   "source": [
    "# Step 5.3 Write a conversion function for Pandas framework\n",
    "While this is similar to the convertsion function used in numpy, we will notice that instead of dealing with bytes we deal with strings which is much easier."
   ]
  },
  {
   "cell_type": "code",
   "execution_count": 6,
   "metadata": {},
   "outputs": [
    {
     "name": "stderr",
     "output_type": "stream",
     "text": [
      "c:\\program files\\python36\\lib\\site-packages\\ipykernel_launcher.py:36: ParserWarning: Both a converter and dtype were specified for column percents - only the converter will be used\n"
     ]
    },
    {
     "data": {
      "text/html": [
       "<div>\n",
       "<style scoped>\n",
       "    .dataframe tbody tr th:only-of-type {\n",
       "        vertical-align: middle;\n",
       "    }\n",
       "\n",
       "    .dataframe tbody tr th {\n",
       "        vertical-align: top;\n",
       "    }\n",
       "\n",
       "    .dataframe thead th {\n",
       "        text-align: right;\n",
       "    }\n",
       "</style>\n",
       "<table border=\"1\" class=\"dataframe\">\n",
       "  <thead>\n",
       "    <tr style=\"text-align: right;\">\n",
       "      <th></th>\n",
       "      <th>dates</th>\n",
       "      <th>ints</th>\n",
       "      <th>percents</th>\n",
       "      <th>numbers</th>\n",
       "    </tr>\n",
       "  </thead>\n",
       "  <tbody>\n",
       "    <tr>\n",
       "      <th>0</th>\n",
       "      <td>2019-04-08</td>\n",
       "      <td>1</td>\n",
       "      <td>0.023</td>\n",
       "      <td>45.0</td>\n",
       "    </tr>\n",
       "    <tr>\n",
       "      <th>1</th>\n",
       "      <td>2019-04-08</td>\n",
       "      <td>6</td>\n",
       "      <td>0.789</td>\n",
       "      <td>0.0</td>\n",
       "    </tr>\n",
       "  </tbody>\n",
       "</table>\n",
       "</div>"
      ],
      "text/plain": [
       "       dates  ints  percents  numbers\n",
       "0 2019-04-08     1     0.023     45.0\n",
       "1 2019-04-08     6     0.789      0.0"
      ]
     },
     "execution_count": 6,
     "metadata": {},
     "output_type": "execute_result"
    }
   ],
   "source": [
    "import pandas\n",
    "\n",
    "def convert_percent_string_to_float(raw_string):\n",
    "    \n",
    "    # The input variable will be a byte array\n",
    "    # We will convert this to a string\n",
    "\n",
    "    # We then do our manipulation\n",
    "    raw_string = raw_string.strip()\n",
    "    raw_string = raw_string.strip(\"%\")\n",
    "\n",
    "    # Make it a float\n",
    "    input_float = float(raw_string)\n",
    "\n",
    "    # We move the decimal place\n",
    "    result = input_float/100\n",
    "\n",
    "    return result\n",
    "\n",
    "# Setup some other parameters to instruct numpy function how and what we are importing\n",
    "column_names = (\"dates\", \"ints\", \"percents\", \"numbers\")\n",
    "test_data_string = \"2019-04-08, 1, 2.3%, 45.\\n2019-04-08, 6, 78.9%, 0\"\n",
    "delimiter = \",\"\n",
    "converter_mapping = {\n",
    "    \"percents\": convert_percent_string_to_float\n",
    "}\n",
    "column_types = \"object,int,float,float\"\n",
    "\n",
    "# Import a module to help us import data\n",
    "# This module implements a file-like class, StringIO, that reads and writes a string buffer\n",
    "import io\n",
    "\n",
    "# Create a file handle for our string data\n",
    "test_data_file_handle = io.StringIO(test_data_string)\n",
    "\n",
    "test_3 = pandas.read_csv(test_data_file_handle, names=column_names, dtype=column_types, parse_dates=[\"dates\"], converters=converter_mapping)\n",
    "\n",
    "test_3"
   ]
  },
  {
   "cell_type": "code",
   "execution_count": 60,
   "metadata": {},
   "outputs": [
    {
     "data": {
      "text/plain": [
       "'2019-04-08,1,0.023,45.0'"
      ]
     },
     "execution_count": 60,
     "metadata": {},
     "output_type": "execute_result"
    }
   ],
   "source": [
    "\",\".join(test_3.iloc[:1].to_string().split(\"\\n\")[1].split()[1:])"
   ]
  },
  {
   "cell_type": "markdown",
   "metadata": {},
   "source": [
    "# Step 5.4 - Write a custom parsing system\n",
    "This is a bit outside the scope of this section and more advanced... We will cover it later if needed.\n",
    "\n",
    "I doubt anyone would need this anyways..."
   ]
  },
  {
   "cell_type": "markdown",
   "metadata": {},
   "source": [
    "# Step 5.5 Create a DataFrame using an ndarray"
   ]
  },
  {
   "cell_type": "code",
   "execution_count": 13,
   "metadata": {},
   "outputs": [
    {
     "data": {
      "text/html": [
       "<div>\n",
       "<style scoped>\n",
       "    .dataframe tbody tr th:only-of-type {\n",
       "        vertical-align: middle;\n",
       "    }\n",
       "\n",
       "    .dataframe tbody tr th {\n",
       "        vertical-align: top;\n",
       "    }\n",
       "\n",
       "    .dataframe thead th {\n",
       "        text-align: right;\n",
       "    }\n",
       "</style>\n",
       "<table border=\"1\" class=\"dataframe\">\n",
       "  <thead>\n",
       "    <tr style=\"text-align: right;\">\n",
       "      <th></th>\n",
       "      <th>dates</th>\n",
       "      <th>ints</th>\n",
       "      <th>percents</th>\n",
       "      <th>numbers</th>\n",
       "    </tr>\n",
       "  </thead>\n",
       "  <tbody>\n",
       "    <tr>\n",
       "      <th>0</th>\n",
       "      <td>2019-04-08</td>\n",
       "      <td>1</td>\n",
       "      <td>0.023</td>\n",
       "      <td>45.0</td>\n",
       "    </tr>\n",
       "    <tr>\n",
       "      <th>1</th>\n",
       "      <td>2019-04-08</td>\n",
       "      <td>6</td>\n",
       "      <td>0.789</td>\n",
       "      <td>0.0</td>\n",
       "    </tr>\n",
       "  </tbody>\n",
       "</table>\n",
       "</div>"
      ],
      "text/plain": [
       "       dates  ints  percents  numbers\n",
       "0 2019-04-08     1     0.023     45.0\n",
       "1 2019-04-08     6     0.789      0.0"
      ]
     },
     "execution_count": 13,
     "metadata": {},
     "output_type": "execute_result"
    }
   ],
   "source": [
    "# Define two functions used to parse data into ndarray\n",
    "\n",
    "def convert_date_string_to_date(raw_bytes):\n",
    "    \n",
    "    # The input variable will be a byte array\n",
    "    # We will convert this to a string\n",
    "    input_string = raw_bytes.decode(\"utf-8\")\n",
    "\n",
    "    # We then do our manipulation\n",
    "    input_string = input_string.strip()\n",
    "\n",
    "    # Make it a date\n",
    "    result = numpy.datetime64(input_string, 'D')\n",
    "\n",
    "    return result\n",
    "\n",
    "def convert_percent_string_to_float(raw_bytes):\n",
    "    \n",
    "    # The input variable will be a byte array\n",
    "    # We will convert this to a string\n",
    "    input_string = raw_bytes.decode(\"utf-8\")\n",
    "\n",
    "    # We then do our manipulation\n",
    "    input_string = input_string.strip()\n",
    "    input_string = input_string.strip(\"%\")\n",
    "\n",
    "    # Make it a float\n",
    "    input_float = float(input_string)\n",
    "\n",
    "    # We move the decimal place\n",
    "    result = input_float/100\n",
    "\n",
    "    return result\n",
    "\n",
    "# Setup some other parameters to instruct numpy function how and what we are importing\n",
    "column_names = (\"dates\", \"ints\", \"percents\", \"numbers\")\n",
    "test_data_string = \"2019-04-08, 1, 2.3%, 45.\\n2019-04-08, 6, 78.9%, 0\"\n",
    "delimiter = \",\"\n",
    "converter_mapping = {\n",
    "    \"percents\": convert_percent_string_to_float,\n",
    "    \"dates\": convert_date_string_to_date\n",
    "}\n",
    "column_types = \"datetime64[D],int64,float64,float64\"\n",
    "\n",
    "# Import a module to help us import data\n",
    "# This module implements a file-like class, StringIO, that reads and writes a string buffer\n",
    "import io\n",
    "\n",
    "# Create a file handle for our string data\n",
    "test_data_file_handle = io.StringIO(test_data_string)\n",
    "\n",
    "# Load the data into a numpy array\n",
    "import numpy\n",
    "test_5 = numpy.genfromtxt(test_data_file_handle, delimiter=delimiter, names=column_names, converters=converter_mapping, dtype=column_types)\n",
    "\n",
    "# Convert the ndarray into a dataframe\n",
    "dataframe = pandas.DataFrame(test_5)\n",
    "\n",
    "dataframe"
   ]
  }
 ],
 "metadata": {
  "kernelspec": {
   "display_name": "Python 3",
   "language": "python",
   "name": "python3"
  },
  "language_info": {
   "codemirror_mode": {
    "name": "ipython",
    "version": 3
   },
   "file_extension": ".py",
   "mimetype": "text/x-python",
   "name": "python",
   "nbconvert_exporter": "python",
   "pygments_lexer": "ipython3",
   "version": "3.6.0"
  }
 },
 "nbformat": 4,
 "nbformat_minor": 2
}
